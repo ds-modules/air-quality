{
 "cells": [
  {
   "cell_type": "markdown",
   "metadata": {
    "cell_id": "00000-4b6efa41-b2f9-4b63-857c-0ef5b7a1c6de",
    "deepnote_cell_type": "markdown",
    "tags": []
   },
   "source": [
    "\n",
    "# Texas Air Quality Notebook"
   ]
  },
  {
   "cell_type": "markdown",
   "metadata": {
    "cell_id": "00001-3c110677-c24d-4e6f-9652-622f577604f7",
    "deepnote_cell_type": "markdown",
    "tags": []
   },
   "source": [
    "**Welcome to our notebook on Texas Air Quality!** \n",
    "\n",
    "In this notebook we will be looking at Air Quality Index (AQI) scores in the surrounding Texas area. With so many pollutants in the air, especially as we head into the annual fire season, AQI becomes something we check on the daily. For many of us, this AQI map is all too familiar. Throughout this module we will discuss how data can be used to visualize and uncover underlying trends in the world.\n",
    "\n",
    "**Let's get started!**"
   ]
  },
  {
   "cell_type": "markdown",
   "metadata": {
    "cell_id": "00002-551042be-818a-4ca5-8501-88bf9347f526",
    "deepnote_cell_type": "markdown",
    "tags": []
   },
   "source": [
    "<p align=\"center\">\n",
    "  <img src=\"images/AQImap.webp\" width=\"\" height=\"\" align=\"center\">\n",
    "</p>"
   ]
  },
  {
   "cell_type": "markdown",
   "metadata": {
    "cell_id": "00002-f30e73f3-e98a-4853-a250-a9b5ec01aba0",
    "deepnote_cell_type": "markdown",
    "tags": []
   },
   "source": [
    "<br>\n",
    "\n",
    "## Introduction to Jupyter Notebook"
   ]
  },
  {
   "cell_type": "markdown",
   "metadata": {
    "cell_id": "00003-4c1901b1-349e-47dd-942c-7209791d6585",
    "deepnote_cell_type": "markdown",
    "tags": []
   },
   "source": [
    "Before we get started with the data, let's talk about what Jupyter Notebook is. This lab is set up in a Jupyter Notebook. Notebooks can contain anything from live code, to written text, equations or visualizations. The content of notebooks are written into rectangular sections called **cells**. "
   ]
  },
  {
   "cell_type": "markdown",
   "metadata": {
    "cell_id": "00004-8d5567ca-4d33-4d5c-9c42-755bdcd1d549",
    "deepnote_cell_type": "markdown",
    "tags": []
   },
   "source": [
    "#### Types of Cells\n",
    "There are two types of cells in Jupyter, **code** cells and **markdown** cells. **Code cells**, as you can imagine, contain code in Python, the programming language that we will be using throughout this notebook.  **Markdown cells**, such as this one, contain written text. You can select any cell by clicking on it one. "
   ]
  },
  {
   "cell_type": "markdown",
   "metadata": {
    "cell_id": "00005-12e1a88e-189a-4245-975e-5c95b933b309",
    "deepnote_cell_type": "markdown",
    "tags": []
   },
   "source": [
    "#### Running Cells\n",
    "'Running' a cell is similar to pressing 'Enter' on a calculator once you've typed in an expression; it computes all of the expressions contained within the cell.\n",
    "\n",
    "To run a cell, you can do one of the following:\n",
    "\n",
    "- press **Shift + Enter**\n",
    "- click the **Run** button on the top tool bar\n",
    "\n",
    "Running a markdown cell will embed the text into the notebook and running a code cell will evaluate the code and display its output under the cell. \n",
    "\n",
    "Let's try it! **Run the code cell below.**"
   ]
  },
  {
   "cell_type": "code",
   "execution_count": 1,
   "metadata": {
    "cell_id": "00005-ce9ab316-fee1-4fc1-8246-39cb8927ef1e",
    "deepnote_cell_type": "code",
    "deepnote_to_be_reexecuted": false,
    "execution_millis": 20,
    "execution_start": 1633062945031,
    "source_hash": "fc071345",
    "tags": []
   },
   "outputs": [
    {
     "name": "stdout",
     "output_type": "stream",
     "text": [
      "Hello World!\n"
     ]
    }
   ],
   "source": [
    "print(\"Hello World!\")"
   ]
  },
  {
   "cell_type": "markdown",
   "metadata": {
    "cell_id": "00007-bce28c69-7f7a-4900-b88b-bd5b4e670935",
    "deepnote_cell_type": "markdown",
    "tags": []
   },
   "source": [
    "#### Editing and Saving\n",
    "\n",
    "- To **edit** a cell, simply double click on the desired cell and begin typing. The cell that you are currently working in will be highlighted by a green box.\n",
    "- To **save** the notebook, either click *Ctl + S* or navigate to the \"File\" dropdown and select \"Save and Checkpoint\""
   ]
  },
  {
   "cell_type": "markdown",
   "metadata": {
    "cell_id": "00009-487fe8ef-5241-4dbc-99d3-e25c01f045ed",
    "deepnote_cell_type": "markdown",
    "tags": []
   },
   "source": [
    "#### Adding Cells\n",
    "You can add a cell by clicking <b><code>Insert > Insert Cell Below</code></b> and choose the cell type in the drop down menu. Try adding a cell below to type in your name!\n"
   ]
  },
  {
   "cell_type": "markdown",
   "metadata": {
    "cell_id": "00010-10071bd9-67e6-4b75-ab9b-37256922a3b7",
    "deepnote_cell_type": "markdown",
    "tags": []
   },
   "source": [
    "#### Deleting Cells \n",
    "To delete a cell, click on the <b><code>scissors</code></b> at the top or <b><code>Edit > Cut Cells</code></b>. Delete the cell below."
   ]
  },
  {
   "cell_type": "code",
   "execution_count": 2,
   "metadata": {
    "cell_id": "00009-9fc0b2b0-86c4-43a9-a7ac-e98b6adef43c",
    "deepnote_cell_type": "code",
    "deepnote_to_be_reexecuted": false,
    "execution_millis": 15,
    "execution_start": 1633063139383,
    "source_hash": "53b00907",
    "tags": []
   },
   "outputs": [
    {
     "name": "stdout",
     "output_type": "stream",
     "text": [
      "Delete this cell!\n"
     ]
    }
   ],
   "source": [
    "print(\"Delete this cell!\")"
   ]
  },
  {
   "cell_type": "markdown",
   "metadata": {
    "cell_id": "00012-a7124fdd-7af1-4817-86ff-482eed12dfea",
    "deepnote_cell_type": "markdown",
    "tags": []
   },
   "source": [
    "**Important Tip**: Everytime you open a Jupyter notebook, it is extremely important to run all the cells from the beginning in order for the notebook to work. "
   ]
  },
  {
   "cell_type": "markdown",
   "metadata": {
    "cell_id": "00013-e57c8173-3cd1-4b47-b810-fc68a317d8e0",
    "deepnote_cell_type": "markdown",
    "tags": []
   },
   "source": [
    "<br>\n",
    "\n",
    "## Introduction to Python\n",
    "Python is a programming language that has a specific set of rules that allow us to communicate with a computer through coding commands. The language can be used to do anything from building websites to automating task and many other things! For the puspose of this notebook, we will be using Python to conduct data analysis. \n"
   ]
  },
  {
   "cell_type": "markdown",
   "metadata": {
    "cell_id": "00014-3089bbe2-3ea0-4cd7-85c1-67129120b51c",
    "deepnote_cell_type": "markdown",
    "tags": []
   },
   "source": [
    "\n",
    "\n",
    "#### Errors\n",
    "\n",
    "Python has its own set of rules when it comes to the manner in which pieces of code are written. It is important to understand and follow the syntax for the various coding commands that you will learn. When you write code, there will be times where you accidentally break these rules. This is completely _normal_. Even the most experienced programmer makes errors. In order to strengthen your comprehension of these coding commands in your brain, practice helps a lot. Let's examine the cell below and see what's wrong."
   ]
  },
  {
   "cell_type": "code",
   "execution_count": 3,
   "metadata": {
    "cell_id": "00012-e3600695-cb65-4aee-8bb4-99cb25f3c762",
    "deepnote_cell_type": "code",
    "deepnote_to_be_reexecuted": false,
    "execution_millis": 5,
    "execution_start": 1633063025981,
    "source_hash": "8cc24ce2",
    "tags": []
   },
   "outputs": [
    {
     "name": "stdout",
     "output_type": "stream",
     "text": [
      "Something's wrong\n"
     ]
    }
   ],
   "source": [
    "#print(\"Something's wrong)\n",
    "print(\"Something's wrong\")"
   ]
  },
  {
   "cell_type": "markdown",
   "metadata": {
    "cell_id": "00016-3a0e881c-989e-4fd4-bea4-f5cb5f30c1fc",
    "deepnote_cell_type": "markdown",
    "tags": []
   },
   "source": [
    "As you can see from above, there is a carrot symbol pointing at the right parenthesis symbol. It's indicates that something is missing in this area. Go back to that cell and fix it  (Hint: try adding a quotation mark before the closing parenthesis)!"
   ]
  },
  {
   "cell_type": "markdown",
   "metadata": {
    "cell_id": "00016-903aa13b-4395-461e-85d6-f34023ad69ef",
    "deepnote_cell_type": "markdown",
    "tags": []
   },
   "source": [
    "#### Data\n",
    "\n",
    "Data refers to the information that we need to use in order to manipulate it through the creation of tables, chart visualizations, and other types of analyses. The data explored in this notebook will be presented in the format of a dataframe, which you will explore more later on. \n",
    "\n",
    "Going on with the format of the data, data can come in two forms: numbers and text.\n",
    "\n",
    "Numbers, just like in math, are positive, negative and may contain decimals. As you can see below, the color of the numbers are in green. That's telling python that we're dealing with numbers."
   ]
  },
  {
   "cell_type": "code",
   "execution_count": 4,
   "metadata": {
    "cell_id": "00017-2bf4f606-ecfe-4aff-ad00-cef62f23024e",
    "deepnote_cell_type": "code",
    "deepnote_to_be_reexecuted": false,
    "execution_millis": 6,
    "execution_start": 1633062963126,
    "source_hash": "d173067",
    "tags": []
   },
   "outputs": [
    {
     "data": {
      "text/plain": [
       "70.123"
      ]
     },
     "execution_count": 4,
     "metadata": {},
     "output_type": "execute_result"
    }
   ],
   "source": [
    "#Numbers\n",
    "\n",
    "300\n",
    "-56\n",
    "70.123"
   ]
  },
  {
   "cell_type": "markdown",
   "metadata": {
    "cell_id": "00017-35e15a97-4a32-4fb5-b213-fb844cda9020",
    "deepnote_cell_type": "markdown",
    "tags": []
   },
   "source": [
    "Text is written in string format. As you can see below, strings are colored in red. "
   ]
  },
  {
   "cell_type": "code",
   "execution_count": 5,
   "metadata": {
    "cell_id": "00019-d1425a70-c00f-416a-ba8c-beeab7375fc0",
    "deepnote_cell_type": "code",
    "deepnote_to_be_reexecuted": false,
    "execution_millis": 5,
    "execution_start": 1633063424266,
    "source_hash": "90247016",
    "tags": []
   },
   "outputs": [
    {
     "data": {
      "text/plain": [
       "'123.456'"
      ]
     },
     "execution_count": 5,
     "metadata": {},
     "output_type": "execute_result"
    }
   ],
   "source": [
    "#Strings\n",
    "\"Hello everyone!\"\n",
    "\"Coding is awesome!\"\n",
    "\n",
    "#This is a string,NOT a number!\n",
    "\"123.456\"\n"
   ]
  },
  {
   "cell_type": "markdown",
   "metadata": {
    "cell_id": "00021-17fe39fe-ec77-4161-9161-0011cf077a46",
    "deepnote_cell_type": "markdown",
    "tags": []
   },
   "source": [
    "Notice how the previous cells contain lines of code that use the pound symbol \"#\". The purpose of this symbol is to write notes that can help you understand the code cell. When you run lines that contain these symbols, nothing happens. These lines are just for your own reference. "
   ]
  },
  {
   "cell_type": "markdown",
   "metadata": {
    "cell_id": "00020-d947dce6-63cf-42fd-9547-d9d51ac9a3e3",
    "deepnote_cell_type": "markdown",
    "tags": []
   },
   "source": [
    "#### Names\n",
    "Working with data can get complicated at times. There will be calculations that are too difficult to calculate by hand due to the large number of elements that we need to perform the calculation on. Giving names to values will not only save the values for easy access later, but will also make calculations easier. Take a look at the cell below."
   ]
  },
  {
   "cell_type": "code",
   "execution_count": 6,
   "metadata": {
    "cell_id": "00021-80bf89e5-e13a-485b-b99f-ab25f1f2b7f0",
    "deepnote_cell_type": "code",
    "deepnote_to_be_reexecuted": false,
    "execution_millis": 3,
    "execution_start": 1633063464230,
    "source_hash": "fe237e27",
    "tags": []
   },
   "outputs": [
    {
     "data": {
      "text/plain": [
       "169104"
      ]
     },
     "execution_count": 6,
     "metadata": {},
     "output_type": "execute_result"
    }
   ],
   "source": [
    "x = 312\n",
    "y = 542\n",
    "product = x * y\n",
    "product"
   ]
  },
  {
   "cell_type": "markdown",
   "metadata": {
    "cell_id": "00024-2e1dda39-915b-42f2-b0fd-d2b9aa485f4b",
    "deepnote_cell_type": "markdown",
    "tags": []
   },
   "source": [
    "As you can see above, the numbers `312` and `512` were assigned to the name \"x\" and \"y\", respectively. Then, the product of x and y was assigned to the name \"product\". "
   ]
  },
  {
   "cell_type": "markdown",
   "metadata": {
    "cell_id": "00025-1c30257b-0141-47be-83f2-343b0bd99975",
    "deepnote_cell_type": "markdown",
    "tags": []
   },
   "source": [
    "#### Expressions\n",
    "Expressions are simple instructions that you want to give to a computer. Run the cells and take a look at the examples below. "
   ]
  },
  {
   "cell_type": "code",
   "execution_count": null,
   "metadata": {
    "cell_id": "00026-ac9b7d15-28b4-4c53-9c06-d3722b55cd20",
    "deepnote_cell_type": "code",
    "deepnote_to_be_reexecuted": false,
    "execution_millis": 7,
    "execution_start": 1633063519534,
    "source_hash": "e5039e55",
    "tags": []
   },
   "outputs": [
    {
     "data": {
      "text/plain": [
       "12"
      ]
     },
     "execution_count": 23,
     "metadata": {},
     "output_type": "execute_result"
    }
   ],
   "source": [
    "2 + 10"
   ]
  },
  {
   "cell_type": "code",
   "execution_count": null,
   "metadata": {
    "cell_id": "00027-fab2e35a-b21a-400a-b592-c6148fa97715",
    "deepnote_cell_type": "code",
    "deepnote_to_be_reexecuted": false,
    "execution_millis": 65,
    "execution_start": 1633063520079,
    "source_hash": "ac6372c7",
    "tags": []
   },
   "outputs": [
    {
     "data": {
      "text/plain": [
       "2.0"
      ]
     },
     "execution_count": 24,
     "metadata": {},
     "output_type": "execute_result"
    }
   ],
   "source": [
    "4/2"
   ]
  },
  {
   "cell_type": "code",
   "execution_count": null,
   "metadata": {
    "cell_id": "00027-9c534fb6-83c7-47c9-8728-f30f5e33a702",
    "deepnote_cell_type": "code",
    "deepnote_to_be_reexecuted": false,
    "execution_millis": 8,
    "execution_start": 1633063520433,
    "source_hash": "f3d808ff",
    "tags": []
   },
   "outputs": [
    {
     "data": {
      "text/plain": [
       "152"
      ]
     },
     "execution_count": 25,
     "metadata": {},
     "output_type": "execute_result"
    }
   ],
   "source": [
    "(23 + 4) * 6 - 10"
   ]
  },
  {
   "cell_type": "markdown",
   "metadata": {
    "cell_id": "00027-4947b41a-cc6b-4feb-9298-3afc386ec3f9",
    "deepnote_cell_type": "markdown",
    "tags": []
   },
   "source": [
    "As you can see above, including spaces between the operator and numbers makes the code clean and legible to read. However, it's not necessary to include space between the parenthesis and number. Just like in math, Python follows the rules of P.E.M.D.A.S. when it comes to calculating numbers. "
   ]
  },
  {
   "cell_type": "markdown",
   "metadata": {
    "cell_id": "00016-d2277035-e030-428d-85e1-9427c7c87240",
    "deepnote_cell_type": "markdown",
    "tags": []
   },
   "source": [
    "#### Functions\n",
    "In the previous cells, mathematical expressions can be written just how you normally would in hand writing. However, python has built-in functions, which refers to named operations, for the operators that were used in the previous cells and more! Take a look below!"
   ]
  },
  {
   "cell_type": "code",
   "execution_count": null,
   "metadata": {
    "cell_id": "00031-e1df4e63-f4bd-4ed3-8a8d-694da031a19f",
    "deepnote_cell_type": "code",
    "deepnote_to_be_reexecuted": false,
    "execution_millis": 3,
    "execution_start": 1633063595406,
    "source_hash": "55230a7b",
    "tags": []
   },
   "outputs": [
    {
     "data": {
      "text/plain": [
       "3"
      ]
     },
     "execution_count": 26,
     "metadata": {},
     "output_type": "execute_result"
    }
   ],
   "source": [
    "#This function below returns the biggest number out of the input values.\n",
    "max(2, 3)"
   ]
  },
  {
   "cell_type": "code",
   "execution_count": null,
   "metadata": {
    "cell_id": "00029-6cebcb5d-79a5-4108-867d-d4586c5441f1",
    "deepnote_cell_type": "code",
    "deepnote_to_be_reexecuted": false,
    "execution_millis": 14,
    "execution_start": 1633063596186,
    "source_hash": "487f2e56",
    "tags": []
   },
   "outputs": [
    {
     "data": {
      "text/plain": [
       "4"
      ]
     },
     "execution_count": 27,
     "metadata": {},
     "output_type": "execute_result"
    }
   ],
   "source": [
    "#This function below takes the absolute value of a number.\n",
    "abs(-4)"
   ]
  },
  {
   "cell_type": "markdown",
   "metadata": {
    "cell_id": "00030-b4580f75-c14d-458e-b00a-845154980286",
    "deepnote_cell_type": "markdown",
    "tags": []
   },
   "source": [
    "As you can see from above, functions make calculating expressions easier. We just simply pick our desired function, plug in the numbers and we get an output. "
   ]
  },
  {
   "cell_type": "markdown",
   "metadata": {
    "cell_id": "00010-9fea3c75-76a6-482b-8c93-2e0213781d67",
    "deepnote_cell_type": "markdown",
    "tags": []
   },
   "source": [
    "#### Chart Visualizations\n",
    "When it comes to examining any existing patterns in data, it is difficult to examine all the patterns that exist in our data through dataframes alone. Creating a chart visualization, which is a graphical representation of data, illustrates the desired variables and any existing patterns. It is important to carefully choose the appropriate chart that will accurately illustrate the desired variables. Before examinining the different types of chart visualizations, it is important to be aware of the different types of variables:\n",
    "\n",
    "- **Quantitative variables**: Refers to numerical variables that derive from measurements. An example of this type of variable would be height.\n",
    "\n",
    "- **Qualitative variables**: Refers to categorical variables in which its values can't be found by measurement. An example of this type of variable would be gender. \n",
    "\n",
    "<br>\n",
    "\n",
    "##### Here are the different types of charts:\n",
    "\n",
    "- **Bar chart**: This plot is used for displaying the counts of categorical variables. In the plot below, the x-axis displays the categorical variable called \"energy source\" and the y-axis displays the numerical variable called \"counts\". \n",
    "\n",
    "<p align=\"center\">\n",
    "  <img src=\"/work/images/bar chart image.png\" width=\"\" height=\"\" align=\"center\">\n",
    "  Bar chart from the website page \"Bar Charts in Matplotlib\" by Ben Alex Keen.\n",
    "</p>\n",
    "\n",
    "\n",
    "- **Histogram**: This plot is used for displaying the distribution of a numerical variable. This graph allows you to see the average, maximum, and minimum values. In the plot below, the x-axis displays the numerical variable and the y-axis displays the frequency, which isn't a variable that is included in the dataframe.\n",
    "\n",
    "<p align=\"center\">\n",
    "  <img src=\"/work/images/histogram.png\" width=\"\" height=\"\" align=\"center\">\n",
    "  Histogram chart from the website page \"W3resource\", licensed by Creative Commons Attribution-NonCommercial-ShareAlike 3.0 Unported License.\n",
    "</p>\n",
    "\n",
    "\n",
    "- **Line chart**: This plot displays the trends of a numerical variable. In the plot below, the x-axis displays the numerical variable called \"year\" and the y-axis displays the numerical variable named unemployment rate. This plot shows you the changes that occurred in terms of unemployment. \n",
    "\n",
    "<p align=\"center\">\n",
    "  <img src=\"/work/images/line plot.png\" width=\"\" height=\"\" align=\"center\">\n",
    "  Line chart from the website page \"Data to Fish\"\n",
    "</p>\n",
    "\n",
    "\n",
    "- **Scatter chart**: This plot displays the relationship between numerical variables through the displayed of clustered points. In the plot below, the x-axis is anumerical variable called \"weight\" and the y-axis is a numerical variable called \"height\". Since the clustered points are forming an upward trend, this shows that weight and height are connected with each other. \n",
    "<p align=\"center\">\n",
    "  <img src=\"/work/images/scatter plot.png\" width=\"\" height=\"\" align=\"center\">\n",
    "  Scatter chart from the website \"Data36\"\n",
    "</p>\n",
    "\n",
    "\n"
   ]
  },
  {
   "cell_type": "markdown",
   "metadata": {
    "cell_id": "00035-a3c63b2f-f9b2-46c3-8e39-1bf3223b8290",
    "deepnote_cell_type": "markdown",
    "tags": []
   },
   "source": [
    "Now that we have had a brief crash course on Jupyter Notebooks and Python coding, let's dive into Texas AQI!"
   ]
  },
  {
   "cell_type": "markdown",
   "metadata": {
    "cell_id": "00008-fa60c33c-7421-4d32-b203-fddd50c959ef",
    "deepnote_cell_type": "markdown",
    "tags": []
   },
   "source": [
    "<br>\n",
    "\n",
    "## Introduction to the Data <a class=\"anchor\" id=\"2\"></a>"
   ]
  },
  {
   "cell_type": "markdown",
   "metadata": {
    "cell_id": "00003-85e6b3ff-9202-40a0-a5bf-0df1bd33bbdd",
    "deepnote_cell_type": "markdown",
    "tags": []
   },
   "source": [
    "In this notebook we will look at data collected from PrupleAir, a company that manages a network of air quality sensors. The data from these sensors are then collected to create maps like the one displayed above that depicts an intuitive visualization of the air quality in a specific region. In the dataframe below, you will find several metrics that help us do this.\n",
    "\n",
    "**Run the cell below to import all the dependencies needed for this notebook!**"
   ]
  },
  {
   "cell_type": "code",
   "execution_count": 7,
   "metadata": {
    "cell_id": "00004-600ac520-4166-400c-9f69-0e831d5a87da",
    "deepnote_cell_type": "code",
    "deepnote_to_be_reexecuted": false,
    "execution_millis": 1803,
    "execution_start": 1633062971393,
    "source_hash": "990f3fb4",
    "tags": []
   },
   "outputs": [
    {
     "ename": "ModuleNotFoundError",
     "evalue": "No module named 'geopandas'",
     "output_type": "error",
     "traceback": [
      "\u001b[0;31m---------------------------------------------------------------------------\u001b[0m",
      "\u001b[0;31mModuleNotFoundError\u001b[0m                       Traceback (most recent call last)",
      "\u001b[0;32m<ipython-input-7-c10974e050e2>\u001b[0m in \u001b[0;36m<module>\u001b[0;34m\u001b[0m\n\u001b[1;32m      1\u001b[0m \u001b[0;32mimport\u001b[0m \u001b[0mmatplotlib\u001b[0m\u001b[0;34m.\u001b[0m\u001b[0mpyplot\u001b[0m \u001b[0;32mas\u001b[0m \u001b[0mplt\u001b[0m\u001b[0;34m\u001b[0m\u001b[0;34m\u001b[0m\u001b[0m\n\u001b[0;32m----> 2\u001b[0;31m \u001b[0;32mimport\u001b[0m \u001b[0mgeopandas\u001b[0m \u001b[0;32mas\u001b[0m \u001b[0mgpd\u001b[0m\u001b[0;34m\u001b[0m\u001b[0;34m\u001b[0m\u001b[0m\n\u001b[0m\u001b[1;32m      3\u001b[0m \u001b[0;32mimport\u001b[0m \u001b[0mnumpy\u001b[0m \u001b[0;32mas\u001b[0m \u001b[0mnp\u001b[0m\u001b[0;34m\u001b[0m\u001b[0;34m\u001b[0m\u001b[0m\n\u001b[1;32m      4\u001b[0m \u001b[0;32mimport\u001b[0m \u001b[0mpurpleair\u001b[0m\u001b[0;34m\u001b[0m\u001b[0;34m\u001b[0m\u001b[0m\n\u001b[1;32m      5\u001b[0m \u001b[0;32mimport\u001b[0m \u001b[0mgeopandas\u001b[0m\u001b[0;34m\u001b[0m\u001b[0;34m\u001b[0m\u001b[0m\n",
      "\u001b[0;31mModuleNotFoundError\u001b[0m: No module named 'geopandas'"
     ]
    }
   ],
   "source": [
    "import matplotlib.pyplot as plt\n",
    "import geopandas as gpd\n",
    "import numpy as np\n",
    "import purpleair\n",
    "import geopandas\n",
    "import folium"
   ]
  },
  {
   "cell_type": "markdown",
   "metadata": {
    "cell_id": "00005-e26f76c2-dfb4-4303-88a7-71e5bae5c32a",
    "deepnote_cell_type": "markdown",
    "tags": []
   },
   "source": [
    "<br>\n",
    "\n",
    "# PurpleAir Data"
   ]
  },
  {
   "cell_type": "markdown",
   "metadata": {
    "cell_id": "00006-5daaa314-5096-45ca-8aa6-eb45a7a2c745",
    "deepnote_cell_type": "markdown",
    "tags": []
   },
   "source": [
    "Before we begin looking at data collected from PurpleAir sensors, lets first take a look at what a sensor is, and what it measures. \n",
    "\n",
    "\n",
    "> Below is a picture of a real PurpleAir Air Quality Sensor. These sensor can be mounted both indoors or outdoors, and it tracks airborne particulate matter(PM) in real time using PMSX003 laser counters. Particulate matter can include things like dust, smoke, dirt and any other organic or inorganic particles in the air. With multiple sensors mounted in a region, PurpleAir can create a relatively accurate measure of AQI throughout the day as the air quality changes. \n",
    "\n",
    "For more information on how sensors work, take a look at the official PurpleAir website [here](https://www2.purpleair.com/community/faq#hc-what-do-the-numbers-on-the-purpleair-map-mean-1)!"
   ]
  },
  {
   "cell_type": "markdown",
   "metadata": {
    "cell_id": "00007-9e6f858e-b3c4-4a30-8c8c-148fb1e2dfe3",
    "deepnote_cell_type": "markdown",
    "tags": []
   },
   "source": [
    "<p align=\"center\">\n",
    "  <img src=\"images/purpleair-sensor-pm2.5.webp\" width=\"\" height=\"\" align=\"center\">\n",
    "</p>"
   ]
  },
  {
   "cell_type": "markdown",
   "metadata": {
    "cell_id": "00008-25675648-333a-4268-971c-ed368c9592aa",
    "deepnote_cell_type": "markdown",
    "tags": []
   },
   "source": [
    "In order to work with the data, we need to pull it into our workspace. Fortunately, PurpleAir has created an API that allows users to pull in and work with their AQI data. In the code cell below we will import the prupleair API and use it to create a dataframe of data from all 18,858 PurpleAir sensors!\n",
    "\n",
    "**Run the code cell below!**"
   ]
  },
  {
   "cell_type": "code",
   "execution_count": 8,
   "metadata": {
    "cell_id": "00009-5188a9c4-2685-4fa8-84e2-8c38c9e9f152",
    "deepnote_cell_type": "code",
    "deepnote_to_be_reexecuted": false,
    "execution_millis": 15854,
    "execution_start": 1633062973205,
    "source_hash": "5c996320",
    "tags": []
   },
   "outputs": [
    {
     "ename": "ModuleNotFoundError",
     "evalue": "No module named 'purpleair'",
     "output_type": "error",
     "traceback": [
      "\u001b[0;31m---------------------------------------------------------------------------\u001b[0m",
      "\u001b[0;31mModuleNotFoundError\u001b[0m                       Traceback (most recent call last)",
      "\u001b[0;32m<ipython-input-8-e27d5598c2ba>\u001b[0m in \u001b[0;36m<module>\u001b[0;34m\u001b[0m\n\u001b[0;32m----> 1\u001b[0;31m \u001b[0;32mfrom\u001b[0m \u001b[0mpurpleair\u001b[0m\u001b[0;34m.\u001b[0m\u001b[0mnetwork\u001b[0m \u001b[0;32mimport\u001b[0m \u001b[0mSensorList\u001b[0m\u001b[0;34m\u001b[0m\u001b[0;34m\u001b[0m\u001b[0m\n\u001b[0m\u001b[1;32m      2\u001b[0m \u001b[0mp\u001b[0m \u001b[0;34m=\u001b[0m \u001b[0mSensorList\u001b[0m\u001b[0;34m(\u001b[0m\u001b[0;34m)\u001b[0m\u001b[0;34m\u001b[0m\u001b[0;34m\u001b[0m\u001b[0m\n\u001b[1;32m      3\u001b[0m df = p.to_dataframe(sensor_filter='all',\n\u001b[1;32m      4\u001b[0m                     channel='parent')\n",
      "\u001b[0;31mModuleNotFoundError\u001b[0m: No module named 'purpleair'"
     ]
    }
   ],
   "source": [
    "from purpleair.network import SensorList\n",
    "p = SensorList()\n",
    "df = p.to_dataframe(sensor_filter='all',\n",
    "                    channel='parent')"
   ]
  },
  {
   "cell_type": "markdown",
   "metadata": {
    "cell_id": "00010-18a75852-7f2f-45a1-959a-72d470e4c1a2",
    "deepnote_cell_type": "markdown",
    "tags": []
   },
   "source": [
    "**Run the cell below to display the sensor dataframe!**\n",
    "\n",
    "The dataframe below contains all the sensor data as of the latest update. It contains data on everything from the geograohical latitude and longitude of the sensor to data on the last time that sensor measured airborne PM."
   ]
  },
  {
   "cell_type": "code",
   "execution_count": null,
   "metadata": {
    "cell_id": "00011-d1f08081-46aa-462e-bc4d-469e8f81bd28",
    "deepnote_cell_type": "code",
    "deepnote_to_be_reexecuted": false,
    "execution_millis": 294,
    "execution_start": 1633062989059,
    "source_hash": "f804c160",
    "tags": []
   },
   "outputs": [
    {
     "data": {
      "application/vnd.deepnote.dataframe.v2+json": {
       "column_count": 43,
       "columns": [
        {
         "dtype": "object",
         "name": "parent",
         "stats": {
          "categories": [
           {
            "count": 23073,
            "name": "Missing"
           }
          ],
          "nan_count": 23073,
          "unique_count": 0
         }
        },
        {
         "dtype": "float64",
         "name": "lat",
         "stats": {
          "histogram": [
           {
            "bin_end": -33.4039258,
            "bin_start": -45.037846,
            "count": 210
           },
           {
            "bin_end": -21.7700056,
            "bin_start": -33.4039258,
            "count": 86
           },
           {
            "bin_end": -10.136085399999999,
            "bin_start": -21.7700056,
            "count": 38
           },
           {
            "bin_end": 1.4978347999999997,
            "bin_start": -10.136085399999999,
            "count": 88
           },
           {
            "bin_end": 13.131754999999998,
            "bin_start": 1.4978347999999997,
            "count": 202
           },
           {
            "bin_end": 24.765675200000004,
            "bin_start": 13.131754999999998,
            "count": 249
           },
           {
            "bin_end": 36.399595399999995,
            "bin_start": 24.765675200000004,
            "count": 3433
           },
           {
            "bin_end": 48.0335156,
            "bin_start": 36.399595399999995,
            "count": 17426
           },
           {
            "bin_end": 59.66743580000001,
            "bin_start": 48.0335156,
            "count": 1097
           },
           {
            "bin_end": 71.301356,
            "bin_start": 59.66743580000001,
            "count": 137
           }
          ],
          "max": "71.301356",
          "min": "-45.037846",
          "nan_count": 107,
          "unique_count": 22584
         }
        },
        {
         "dtype": "float64",
         "name": "lon",
         "stats": {
          "histogram": [
           {
            "bin_end": -141.042978,
            "bin_start": -176.5285,
            "count": 158
           },
           {
            "bin_end": -105.557456,
            "bin_start": -141.042978,
            "count": 17612
           },
           {
            "bin_end": -70.071934,
            "bin_start": -105.557456,
            "count": 3382
           },
           {
            "bin_end": -34.586411999999996,
            "bin_start": -70.071934,
            "count": 138
           },
           {
            "bin_end": 0.8991100000000074,
            "bin_start": -34.586411999999996,
            "count": 186
           },
           {
            "bin_end": 36.38463200000001,
            "bin_start": 0.8991100000000074,
            "count": 516
           },
           {
            "bin_end": 71.87015400000001,
            "bin_start": 36.38463200000001,
            "count": 57
           },
           {
            "bin_end": 107.35567600000002,
            "bin_start": 71.87015400000001,
            "count": 512
           },
           {
            "bin_end": 142.84119800000002,
            "bin_start": 107.35567600000002,
            "count": 186
           },
           {
            "bin_end": 178.32672,
            "bin_start": 142.84119800000002,
            "count": 219
           }
          ],
          "max": "178.32672",
          "min": "-176.5285",
          "nan_count": 107,
          "unique_count": 22601
         }
        },
        {
         "dtype": "object",
         "name": "name",
         "stats": {
          "categories": [
           {
            "count": 143,
            "name": "Home"
           },
           {
            "count": 29,
            "name": "Inside"
           },
           {
            "count": 22901,
            "name": "21644 others"
           }
          ],
          "nan_count": 0,
          "unique_count": 21646
         }
        },
        {
         "dtype": "object",
         "name": "location_type"
        },
        {
         "dtype": "float64",
         "name": "pm_2.5"
        },
        {
         "dtype": "float64",
         "name": "temp_f"
        },
        {
         "dtype": "float64",
         "name": "temp_c"
        },
        {
         "dtype": "float64",
         "name": "humidity"
        },
        {
         "dtype": "float64",
         "name": "pressure"
        },
        {
         "dtype": "object",
         "name": "p_0_3_um"
        },
        {
         "dtype": "object",
         "name": "p_0_5_um"
        },
        {
         "dtype": "object",
         "name": "p_1_0_um"
        },
        {
         "dtype": "object",
         "name": "p_2_5_um"
        },
        {
         "dtype": "object",
         "name": "p_5_0_um"
        },
        {
         "dtype": "object",
         "name": "p_10_0_um"
        },
        {
         "dtype": "object",
         "name": "pm1_0_cf_1"
        },
        {
         "dtype": "object",
         "name": "pm2_5_cf_1"
        },
        {
         "dtype": "object",
         "name": "pm10_0_cf_1"
        },
        {
         "dtype": "object",
         "name": "pm1_0_atm"
        },
        {
         "dtype": "object",
         "name": "pm2_5_atm"
        },
        {
         "dtype": "object",
         "name": "pm10_0_atm"
        },
        {
         "dtype": "datetime64[ns]",
         "name": "last_seen"
        },
        {
         "dtype": "object",
         "name": "model"
        },
        {
         "dtype": "object",
         "name": "adc"
        },
        {
         "dtype": "object",
         "name": "rssi"
        },
        {
         "dtype": "bool",
         "name": "hidden"
        },
        {
         "dtype": "bool",
         "name": "flagged"
        },
        {
         "dtype": "bool",
         "name": "downgraded"
        },
        {
         "dtype": "int64",
         "name": "age"
        },
        {
         "dtype": "object",
         "name": "brightness"
        },
        {
         "dtype": "object",
         "name": "hardware"
        },
        {
         "dtype": "object",
         "name": "version"
        },
        {
         "dtype": "object",
         "name": "last_update_check"
        },
        {
         "dtype": "object",
         "name": "created"
        },
        {
         "dtype": "object",
         "name": "uptime"
        },
        {
         "dtype": "bool",
         "name": "is_owner"
        },
        {
         "dtype": "float64",
         "name": "10min_avg"
        },
        {
         "dtype": "float64",
         "name": "30min_avg"
        },
        {
         "dtype": "float64",
         "name": "1hour_avg"
        },
        {
         "dtype": "float64",
         "name": "6hour_avg"
        },
        {
         "dtype": "float64",
         "name": "1day_avg"
        },
        {
         "dtype": "float64",
         "name": "1week_avg"
        },
        {
         "dtype": "int64",
         "name": "_deepnote_index_column"
        }
       ],
       "row_count": 23073,
       "rows_bottom": [
        {
         "10min_avg": 30.92,
         "1day_avg": 27.09,
         "1hour_avg": 39.76,
         "1week_avg": 16.86,
         "30min_avg": 35.17,
         "6hour_avg": 42.58,
         "_deepnote_index_column": 65011,
         "adc": "None",
         "age": 0,
         "brightness": "None",
         "created": "None",
         "downgraded": "False",
         "flagged": "True",
         "hardware": "None",
         "hidden": "False",
         "humidity": 26,
         "is_owner": "False",
         "last_seen": "2021-10-01T04:35:16.000000",
         "last_update_check": "None",
         "lat": 36.869269,
         "location_type": "outside",
         "lon": 126.885076,
         "model": "PMS5003+PMS5003+BME280",
         "name": "인주면사무소",
         "p_0_3_um": "None",
         "p_0_5_um": "None",
         "p_10_0_um": "None",
         "p_1_0_um": "None",
         "p_2_5_um": "None",
         "p_5_0_um": "None",
         "parent": "None",
         "pm10_0_atm": "None",
         "pm10_0_cf_1": "None",
         "pm1_0_atm": "None",
         "pm1_0_cf_1": "None",
         "pm2_5_atm": "None",
         "pm2_5_cf_1": "None",
         "pm_2.5": 28.29,
         "pressure": 1007.42,
         "rssi": "None",
         "temp_c": 37.77777777777778,
         "temp_f": 100,
         "uptime": "None",
         "version": "None"
        },
        {
         "10min_avg": 37.32,
         "1day_avg": 30.19,
         "1hour_avg": 42.86,
         "1week_avg": 16.84,
         "30min_avg": 40.03,
         "6hour_avg": 46.69,
         "_deepnote_index_column": 64927,
         "adc": "None",
         "age": 0,
         "brightness": "None",
         "created": "None",
         "downgraded": "False",
         "flagged": "False",
         "hardware": "None",
         "hidden": "False",
         "humidity": 32,
         "is_owner": "False",
         "last_seen": "2021-10-01T04:35:17.000000",
         "last_update_check": "None",
         "lat": 36.801094,
         "location_type": "outside",
         "lon": 127.142108,
         "model": "PMS5003+PMS5003+BME280",
         "name": "일봉동행정복지센터",
         "p_0_3_um": "None",
         "p_0_5_um": "None",
         "p_10_0_um": "None",
         "p_1_0_um": "None",
         "p_2_5_um": "None",
         "p_5_0_um": "None",
         "parent": "None",
         "pm10_0_atm": "None",
         "pm10_0_cf_1": "None",
         "pm1_0_atm": "None",
         "pm1_0_cf_1": "None",
         "pm2_5_atm": "None",
         "pm2_5_cf_1": "None",
         "pm_2.5": 34.95,
         "pressure": 1004.84,
         "rssi": "None",
         "temp_c": 32.77777777777778,
         "temp_f": 91,
         "uptime": "None",
         "version": "None"
        },
        {
         "10min_avg": 18.75,
         "1day_avg": 26.72,
         "1hour_avg": 29.82,
         "1week_avg": 16.68,
         "30min_avg": 23.64,
         "6hour_avg": 36.73,
         "_deepnote_index_column": 47689,
         "adc": "None",
         "age": 1,
         "brightness": "None",
         "created": "None",
         "downgraded": "False",
         "flagged": "False",
         "hardware": "None",
         "hidden": "False",
         "humidity": 14,
         "is_owner": "False",
         "last_seen": "2021-10-01T04:34:29.000000",
         "last_update_check": "None",
         "lat": 36.912386,
         "location_type": "outside",
         "lon": 127.221351,
         "model": "PMS5003+PMS5003+BME280",
         "name": "입장면행정복지센터",
         "p_0_3_um": "None",
         "p_0_5_um": "None",
         "p_10_0_um": "None",
         "p_1_0_um": "None",
         "p_2_5_um": "None",
         "p_5_0_um": "None",
         "parent": "None",
         "pm10_0_atm": "None",
         "pm10_0_cf_1": "None",
         "pm1_0_atm": "None",
         "pm1_0_cf_1": "None",
         "pm2_5_atm": "None",
         "pm2_5_cf_1": "None",
         "pm_2.5": 17.91,
         "pressure": 1003.01,
         "rssi": "None",
         "temp_c": 44.44444444444444,
         "temp_f": 112,
         "uptime": "None",
         "version": "None"
        },
        {
         "10min_avg": 37.83,
         "1day_avg": 31.11,
         "1hour_avg": 43.49,
         "1week_avg": 17.8,
         "30min_avg": 40.49,
         "6hour_avg": 48.03,
         "_deepnote_index_column": 64933,
         "adc": "None",
         "age": 0,
         "brightness": "None",
         "created": "None",
         "downgraded": "False",
         "flagged": "False",
         "hardware": "None",
         "hidden": "False",
         "humidity": 29,
         "is_owner": "False",
         "last_seen": "2021-10-01T04:36:08.000000",
         "last_update_check": "None",
         "lat": 36.79885,
         "location_type": "outside",
         "lon": 127.151822,
         "model": "PMS5003+PMS5003+BME280",
         "name": "중앙동행정복지센터",
         "p_0_3_um": "None",
         "p_0_5_um": "None",
         "p_10_0_um": "None",
         "p_1_0_um": "None",
         "p_2_5_um": "None",
         "p_5_0_um": "None",
         "parent": "None",
         "pm10_0_atm": "None",
         "pm10_0_cf_1": "None",
         "pm1_0_atm": "None",
         "pm1_0_cf_1": "None",
         "pm2_5_atm": "None",
         "pm2_5_cf_1": "None",
         "pm_2.5": 34.66,
         "pressure": 1005.07,
         "rssi": "None",
         "temp_c": 35,
         "temp_f": 95,
         "uptime": "None",
         "version": "None"
        },
        {
         "10min_avg": 35.21,
         "1day_avg": 28.6,
         "1hour_avg": 42.84,
         "1week_avg": 17.2,
         "30min_avg": 39.51,
         "6hour_avg": 43.34,
         "_deepnote_index_column": 64097,
         "adc": "None",
         "age": 1,
         "brightness": "None",
         "created": "None",
         "downgraded": "False",
         "flagged": "False",
         "hardware": "None",
         "hidden": "False",
         "humidity": 29,
         "is_owner": "False",
         "last_seen": "2021-10-01T04:35:06.000000",
         "last_update_check": "None",
         "lat": 36.787617,
         "location_type": "outside",
         "lon": 127.092178,
         "model": "PMS5003+PMS5003+BME280",
         "name": "지산공원",
         "p_0_3_um": "None",
         "p_0_5_um": "None",
         "p_10_0_um": "None",
         "p_1_0_um": "None",
         "p_2_5_um": "None",
         "p_5_0_um": "None",
         "parent": "None",
         "pm10_0_atm": "None",
         "pm10_0_cf_1": "None",
         "pm1_0_atm": "None",
         "pm1_0_cf_1": "None",
         "pm2_5_atm": "None",
         "pm2_5_cf_1": "None",
         "pm_2.5": 32.31,
         "pressure": 1005.97,
         "rssi": "None",
         "temp_c": 35,
         "temp_f": 95,
         "uptime": "None",
         "version": "None"
        },
        {
         "10min_avg": 36.81,
         "1day_avg": 28.6,
         "1hour_avg": 43.8,
         "1week_avg": 16.34,
         "30min_avg": 41.28,
         "6hour_avg": 44.14,
         "_deepnote_index_column": 65005,
         "adc": "None",
         "age": 0,
         "brightness": "None",
         "created": "None",
         "downgraded": "False",
         "flagged": "False",
         "hardware": "None",
         "hidden": "False",
         "humidity": 29,
         "is_owner": "False",
         "last_seen": "2021-10-01T04:35:18.000000",
         "last_update_check": "None",
         "lat": 36.783216,
         "location_type": "outside",
         "lon": 127.165218,
         "model": "PMS5003+PMS5003+BME280",
         "name": "차량등록사업소",
         "p_0_3_um": "None",
         "p_0_5_um": "None",
         "p_10_0_um": "None",
         "p_1_0_um": "None",
         "p_2_5_um": "None",
         "p_5_0_um": "None",
         "parent": "None",
         "pm10_0_atm": "None",
         "pm10_0_cf_1": "None",
         "pm1_0_atm": "None",
         "pm1_0_cf_1": "None",
         "pm2_5_atm": "None",
         "pm2_5_cf_1": "None",
         "pm_2.5": 33.7,
         "pressure": 1003.37,
         "rssi": "None",
         "temp_c": 35,
         "temp_f": 95,
         "uptime": "None",
         "version": "None"
        },
        {
         "10min_avg": 37.31,
         "1day_avg": 30.41,
         "1hour_avg": 44.74,
         "1week_avg": 16.84,
         "30min_avg": 41.5,
         "6hour_avg": 46.57,
         "_deepnote_index_column": 64085,
         "adc": "None",
         "age": 0,
         "brightness": "None",
         "created": "None",
         "downgraded": "False",
         "flagged": "True",
         "hardware": "None",
         "hidden": "False",
         "humidity": 32,
         "is_owner": "False",
         "last_seen": "2021-10-01T04:35:47.000000",
         "last_update_check": "None",
         "lat": 36.785883,
         "location_type": "outside",
         "lon": 127.15704,
         "model": "PMS5003+PMS5003+BME280",
         "name": "청룡동행정복지센터",
         "p_0_3_um": "None",
         "p_0_5_um": "None",
         "p_10_0_um": "None",
         "p_1_0_um": "None",
         "p_2_5_um": "None",
         "p_5_0_um": "None",
         "parent": "None",
         "pm10_0_atm": "None",
         "pm10_0_cf_1": "None",
         "pm1_0_atm": "None",
         "pm1_0_cf_1": "None",
         "pm2_5_atm": "None",
         "pm2_5_cf_1": "None",
         "pm_2.5": 33.83,
         "pressure": 1003.56,
         "rssi": "None",
         "temp_c": 33.333333333333336,
         "temp_f": 92,
         "uptime": "None",
         "version": "None"
        },
        {
         "10min_avg": 38.06,
         "1day_avg": 18.92,
         "1hour_avg": 41.1,
         "1week_avg": 12.74,
         "30min_avg": 40.27,
         "6hour_avg": 30.61,
         "_deepnote_index_column": 64995,
         "adc": "None",
         "age": 0,
         "brightness": "None",
         "created": "None",
         "downgraded": "False",
         "flagged": "False",
         "hardware": "None",
         "hidden": "False",
         "humidity": 30,
         "is_owner": "False",
         "last_seen": "2021-10-01T04:36:03.000000",
         "last_update_check": "None",
         "lat": 36.691324,
         "location_type": "outside",
         "lon": 126.585255,
         "model": "PMS5003+PMS5003+BME280",
         "name": "한서대학교",
         "p_0_3_um": "None",
         "p_0_5_um": "None",
         "p_10_0_um": "None",
         "p_1_0_um": "None",
         "p_2_5_um": "None",
         "p_5_0_um": "None",
         "parent": "None",
         "pm10_0_atm": "None",
         "pm10_0_cf_1": "None",
         "pm1_0_atm": "None",
         "pm1_0_cf_1": "None",
         "pm2_5_atm": "None",
         "pm2_5_cf_1": "None",
         "pm_2.5": 38.12,
         "pressure": 994.97,
         "rssi": "None",
         "temp_c": 35,
         "temp_f": 95,
         "uptime": "None",
         "version": "None"
        },
        {
         "10min_avg": 35.93,
         "1day_avg": 19.66,
         "1hour_avg": 35.75,
         "1week_avg": 12.96,
         "30min_avg": 35.25,
         "6hour_avg": 30.07,
         "_deepnote_index_column": 64093,
         "adc": "None",
         "age": 0,
         "brightness": "None",
         "created": "None",
         "downgraded": "False",
         "flagged": "False",
         "hardware": "None",
         "hidden": "False",
         "humidity": 31,
         "is_owner": "False",
         "last_seen": "2021-10-01T04:35:20.000000",
         "last_update_check": "None",
         "lat": 36.71072,
         "location_type": "outside",
         "lon": 126.54839,
         "model": "PMS5003+PMS5003+BME280",
         "name": "해미읍성",
         "p_0_3_um": "None",
         "p_0_5_um": "None",
         "p_10_0_um": "None",
         "p_1_0_um": "None",
         "p_2_5_um": "None",
         "p_5_0_um": "None",
         "parent": "None",
         "pm10_0_atm": "None",
         "pm10_0_cf_1": "None",
         "pm1_0_atm": "None",
         "pm1_0_cf_1": "None",
         "pm2_5_atm": "None",
         "pm2_5_cf_1": "None",
         "pm_2.5": 34.69,
         "pressure": 1005.1,
         "rssi": "None",
         "temp_c": 33.88888888888889,
         "temp_f": 93,
         "uptime": "None",
         "version": "None"
        },
        {
         "10min_avg": 23.38,
         "1day_avg": 22.11,
         "1hour_avg": 35.2,
         "1week_avg": 15.6,
         "30min_avg": 30.69,
         "6hour_avg": 32.53,
         "_deepnote_index_column": 29747,
         "adc": "None",
         "age": 0,
         "brightness": "None",
         "created": "None",
         "downgraded": "False",
         "flagged": "True",
         "hardware": "None",
         "hidden": "False",
         "humidity": 25,
         "is_owner": "False",
         "last_seen": "2021-10-01T04:35:36.000000",
         "last_update_check": "None",
         "lat": 36.761236,
         "location_type": "outside",
         "lon": 127.3953,
         "model": "PMS5003+PMS5003+BME280",
         "name": "화덕보건진료소",
         "p_0_3_um": "None",
         "p_0_5_um": "None",
         "p_10_0_um": "None",
         "p_1_0_um": "None",
         "p_2_5_um": "None",
         "p_5_0_um": "None",
         "parent": "None",
         "pm10_0_atm": "None",
         "pm10_0_cf_1": "None",
         "pm1_0_atm": "None",
         "pm1_0_cf_1": "None",
         "pm2_5_atm": "None",
         "pm2_5_cf_1": "None",
         "pm_2.5": 18.04,
         "pressure": 995.43,
         "rssi": "None",
         "temp_c": 37.22222222222222,
         "temp_f": 99,
         "uptime": "None",
         "version": "None"
        },
        {
         "10min_avg": 31.64,
         "1day_avg": 23.49,
         "1hour_avg": 36.72,
         "1week_avg": 13.47,
         "30min_avg": 33.98,
         "6hour_avg": 36.3,
         "_deepnote_index_column": 98309,
         "adc": "None",
         "age": 1,
         "brightness": "None",
         "created": "None",
         "downgraded": "False",
         "flagged": "False",
         "hardware": "None",
         "hidden": "False",
         "humidity": 25,
         "is_owner": "False",
         "last_seen": "2021-10-01T04:34:24.000000",
         "last_update_check": "None",
         "lat": 36.718003,
         "location_type": "outside",
         "lon": 126.926841,
         "model": "PMS5003+PMS5003+BME280",
         "name": "화천1리마을회관",
         "p_0_3_um": "None",
         "p_0_5_um": "None",
         "p_10_0_um": "None",
         "p_1_0_um": "None",
         "p_2_5_um": "None",
         "p_5_0_um": "None",
         "parent": "None",
         "pm10_0_atm": "None",
         "pm10_0_cf_1": "None",
         "pm1_0_atm": "None",
         "pm1_0_cf_1": "None",
         "pm2_5_atm": "None",
         "pm2_5_cf_1": "None",
         "pm_2.5": 30.64,
         "pressure": 1000.1,
         "rssi": "None",
         "temp_c": 40,
         "temp_f": 104,
         "uptime": "None",
         "version": "None"
        },
        {
         "10min_avg": 0,
         "1day_avg": 0,
         "1hour_avg": 0,
         "1week_avg": 0,
         "30min_avg": 0,
         "6hour_avg": 0,
         "_deepnote_index_column": 20,
         "adc": "None",
         "age": 1,
         "brightness": "None",
         "created": "None",
         "downgraded": "False",
         "flagged": "False",
         "hardware": "None",
         "hidden": "False",
         "humidity": "nan",
         "is_owner": "False",
         "last_seen": "2021-10-01T04:34:21.000000",
         "last_update_check": "None",
         "lat": 40.603078,
         "location_type": "None",
         "lon": -111.836119,
         "model": "PMS1003+HDC1008+PUB+",
         "name": "Oakdale",
         "p_0_3_um": "None",
         "p_0_5_um": "None",
         "p_10_0_um": "None",
         "p_1_0_um": "None",
         "p_2_5_um": "None",
         "p_5_0_um": "None",
         "parent": "None",
         "pm10_0_atm": "None",
         "pm10_0_cf_1": "None",
         "pm1_0_atm": "None",
         "pm1_0_cf_1": "None",
         "pm2_5_atm": "None",
         "pm2_5_cf_1": "None",
         "pm_2.5": 0,
         "pressure": "nan",
         "rssi": "None",
         "temp_c": "nan",
         "temp_f": "nan",
         "uptime": "None",
         "version": "None"
        }
       ],
       "rows_top": [
        {
         "10min_avg": 2.19,
         "1day_avg": 2.39,
         "1hour_avg": 1.49,
         "1week_avg": 8.44,
         "30min_avg": 1.82,
         "6hour_avg": 1.31,
         "_deepnote_index_column": 14633,
         "adc": "None",
         "age": 0,
         "brightness": "None",
         "created": "None",
         "downgraded": "False",
         "flagged": "True",
         "hardware": "None",
         "hidden": "False",
         "humidity": 29,
         "is_owner": "False",
         "last_seen": "2021-10-01T04:35:50.000000",
         "last_update_check": "None",
         "lat": 37.275561,
         "location_type": "outside",
         "lon": -121.964134,
         "model": "PMS5003+PMS5003+BME280",
         "name": " Hazelwood canary ",
         "p_0_3_um": "None",
         "p_0_5_um": "None",
         "p_10_0_um": "None",
         "p_1_0_um": "None",
         "p_2_5_um": "None",
         "p_5_0_um": "None",
         "parent": "None",
         "pm10_0_atm": "None",
         "pm10_0_cf_1": "None",
         "pm1_0_atm": "None",
         "pm1_0_cf_1": "None",
         "pm2_5_atm": "None",
         "pm2_5_cf_1": "None",
         "pm_2.5": 2.07,
         "pressure": 1007.75,
         "rssi": "None",
         "temp_c": 25.555555555555557,
         "temp_f": 78,
         "uptime": "None",
         "version": "None"
        },
        {
         "10min_avg": 5.29,
         "1day_avg": 9.54,
         "1hour_avg": 4.86,
         "1week_avg": 13.75,
         "30min_avg": 4.93,
         "6hour_avg": 5.99,
         "_deepnote_index_column": 25999,
         "adc": "None",
         "age": 0,
         "brightness": "None",
         "created": "None",
         "downgraded": "False",
         "flagged": "False",
         "hardware": "None",
         "hidden": "False",
         "humidity": 73,
         "is_owner": "False",
         "last_seen": "2021-10-01T04:35:35.000000",
         "last_update_check": "None",
         "lat": 30.053808,
         "location_type": "outside",
         "lon": -95.494643,
         "model": "PMS5003+PMS5003+BME280",
         "name": " Villages of Bridgestone AQI",
         "p_0_3_um": "None",
         "p_0_5_um": "None",
         "p_10_0_um": "None",
         "p_1_0_um": "None",
         "p_2_5_um": "None",
         "p_5_0_um": "None",
         "parent": "None",
         "pm10_0_atm": "None",
         "pm10_0_cf_1": "None",
         "pm1_0_atm": "None",
         "pm1_0_cf_1": "None",
         "pm2_5_atm": "None",
         "pm2_5_cf_1": "None",
         "pm_2.5": 4.88,
         "pressure": 1010.98,
         "rssi": "None",
         "temp_c": 28.333333333333336,
         "temp_f": 83,
         "uptime": "None",
         "version": "None"
        },
        {
         "10min_avg": 1.47,
         "1day_avg": 2.04,
         "1hour_avg": 1.18,
         "1week_avg": 9.07,
         "30min_avg": 1.25,
         "6hour_avg": 1.13,
         "_deepnote_index_column": 14091,
         "adc": "None",
         "age": 0,
         "brightness": "None",
         "created": "None",
         "downgraded": "False",
         "flagged": "True",
         "hardware": "None",
         "hidden": "False",
         "humidity": 22,
         "is_owner": "False",
         "last_seen": "2021-10-01T04:36:00.000000",
         "last_update_check": "None",
         "lat": 37.88362,
         "location_type": "outside",
         "lon": -122.070087,
         "model": "PMS5003+PMS5003+BME280",
         "name": " WC Hillside",
         "p_0_3_um": "None",
         "p_0_5_um": "None",
         "p_10_0_um": "None",
         "p_1_0_um": "None",
         "p_2_5_um": "None",
         "p_5_0_um": "None",
         "parent": "None",
         "pm10_0_atm": "None",
         "pm10_0_cf_1": "None",
         "pm1_0_atm": "None",
         "pm1_0_cf_1": "None",
         "pm2_5_atm": "None",
         "pm2_5_cf_1": "None",
         "pm_2.5": 1.34,
         "pressure": 1002.13,
         "rssi": "None",
         "temp_c": 25,
         "temp_f": 77,
         "uptime": "None",
         "version": "None"
        },
        {
         "10min_avg": 5.64,
         "1day_avg": 3.43,
         "1hour_avg": 4.29,
         "1week_avg": 4.45,
         "30min_avg": 5.12,
         "6hour_avg": 3.2,
         "_deepnote_index_column": 108226,
         "adc": "None",
         "age": 0,
         "brightness": "None",
         "created": "None",
         "downgraded": "False",
         "flagged": "False",
         "hardware": "None",
         "hidden": "False",
         "humidity": 31,
         "is_owner": "False",
         "last_seen": "2021-10-01T04:35:52.000000",
         "last_update_check": "None",
         "lat": 38.573703,
         "location_type": "inside",
         "lon": -121.439113,
         "model": "PMS5003+PMS5003+BME280",
         "name": "\"C\" Street Air Shelter",
         "p_0_3_um": "None",
         "p_0_5_um": "None",
         "p_10_0_um": "None",
         "p_1_0_um": "None",
         "p_2_5_um": "None",
         "p_5_0_um": "None",
         "parent": "None",
         "pm10_0_atm": "None",
         "pm10_0_cf_1": "None",
         "pm1_0_atm": "None",
         "pm1_0_cf_1": "None",
         "pm2_5_atm": "None",
         "pm2_5_cf_1": "None",
         "pm_2.5": 4.49,
         "pressure": 1014.25,
         "rssi": "None",
         "temp_c": 28.88888888888889,
         "temp_f": 84,
         "uptime": "None",
         "version": "None"
        },
        {
         "10min_avg": 8.64,
         "1day_avg": 3.37,
         "1hour_avg": 7.26,
         "1week_avg": 5.48,
         "30min_avg": 8.53,
         "6hour_avg": 3.45,
         "_deepnote_index_column": 42073,
         "adc": "None",
         "age": 1,
         "brightness": "None",
         "created": "None",
         "downgraded": "False",
         "flagged": "False",
         "hardware": "None",
         "hidden": "False",
         "humidity": 71,
         "is_owner": "False",
         "last_seen": "2021-10-01T04:34:50.000000",
         "last_update_check": "None",
         "lat": 47.185173,
         "location_type": "outside",
         "lon": -122.176855,
         "model": "PMS5003+PMS5003+BME280",
         "name": "#1",
         "p_0_3_um": "None",
         "p_0_5_um": "None",
         "p_10_0_um": "None",
         "p_1_0_um": "None",
         "p_2_5_um": "None",
         "p_5_0_um": "None",
         "parent": "None",
         "pm10_0_atm": "None",
         "pm10_0_cf_1": "None",
         "pm1_0_atm": "None",
         "pm1_0_cf_1": "None",
         "pm2_5_atm": "None",
         "pm2_5_cf_1": "None",
         "pm_2.5": 8.57,
         "pressure": 1003.91,
         "rssi": "None",
         "temp_c": 13.333333333333334,
         "temp_f": 56,
         "uptime": "None",
         "version": "None"
        },
        {
         "10min_avg": 8.94,
         "1day_avg": 3.46,
         "1hour_avg": 7.3,
         "1week_avg": 5.74,
         "30min_avg": 8.64,
         "6hour_avg": 3.52,
         "_deepnote_index_column": 53069,
         "adc": "None",
         "age": 1,
         "brightness": "None",
         "created": "None",
         "downgraded": "False",
         "flagged": "False",
         "hardware": "None",
         "hidden": "False",
         "humidity": 75,
         "is_owner": "False",
         "last_seen": "2021-10-01T04:34:49.000000",
         "last_update_check": "None",
         "lat": 47.190197,
         "location_type": "outside",
         "lon": -122.177992,
         "model": "PMS5003+PMS5003+BME280",
         "name": "#2",
         "p_0_3_um": "None",
         "p_0_5_um": "None",
         "p_10_0_um": "None",
         "p_1_0_um": "None",
         "p_2_5_um": "None",
         "p_5_0_um": "None",
         "parent": "None",
         "pm10_0_atm": "None",
         "pm10_0_cf_1": "None",
         "pm1_0_atm": "None",
         "pm1_0_cf_1": "None",
         "pm2_5_atm": "None",
         "pm2_5_cf_1": "None",
         "pm_2.5": 9.14,
         "pressure": 1003.6,
         "rssi": "None",
         "temp_c": 13.88888888888889,
         "temp_f": 57,
         "uptime": "None",
         "version": "None"
        },
        {
         "10min_avg": 1.3,
         "1day_avg": 0.33,
         "1hour_avg": 0.63,
         "1week_avg": 0.93,
         "30min_avg": 0.97,
         "6hour_avg": 0.29,
         "_deepnote_index_column": 108558,
         "adc": "None",
         "age": 1,
         "brightness": "None",
         "created": "None",
         "downgraded": "False",
         "flagged": "True",
         "hardware": "None",
         "hidden": "False",
         "humidity": 35,
         "is_owner": "False",
         "last_seen": "2021-10-01T04:34:34.000000",
         "last_update_check": "None",
         "lat": 40.098715,
         "location_type": "inside",
         "lon": -105.166649,
         "model": "PMS5003+PMS5003+BME280",
         "name": "#254",
         "p_0_3_um": "None",
         "p_0_5_um": "None",
         "p_10_0_um": "None",
         "p_1_0_um": "None",
         "p_2_5_um": "None",
         "p_5_0_um": "None",
         "parent": "None",
         "pm10_0_atm": "None",
         "pm10_0_cf_1": "None",
         "pm1_0_atm": "None",
         "pm1_0_cf_1": "None",
         "pm2_5_atm": "None",
         "pm2_5_cf_1": "None",
         "pm_2.5": 0.46,
         "pressure": 852.06,
         "rssi": "None",
         "temp_c": 26.666666666666668,
         "temp_f": 80,
         "uptime": "None",
         "version": "None"
        },
        {
         "10min_avg": 2.69,
         "1day_avg": 5.43,
         "1hour_avg": 2.28,
         "1week_avg": 8.57,
         "30min_avg": 2.5,
         "6hour_avg": 2.72,
         "_deepnote_index_column": 94891,
         "adc": "None",
         "age": 1,
         "brightness": "None",
         "created": "None",
         "downgraded": "False",
         "flagged": "False",
         "hardware": "None",
         "hidden": "False",
         "humidity": 62,
         "is_owner": "False",
         "last_seen": "2021-10-01T04:34:44.000000",
         "last_update_check": "None",
         "lat": 40.160043,
         "location_type": "outside",
         "lon": -79.272304,
         "model": "PMS5003+PMS5003+BME280",
         "name": "#9",
         "p_0_3_um": "None",
         "p_0_5_um": "None",
         "p_10_0_um": "None",
         "p_1_0_um": "None",
         "p_2_5_um": "None",
         "p_5_0_um": "None",
         "parent": "None",
         "pm10_0_atm": "None",
         "pm10_0_cf_1": "None",
         "pm1_0_atm": "None",
         "pm1_0_cf_1": "None",
         "pm2_5_atm": "None",
         "pm2_5_cf_1": "None",
         "pm_2.5": 3.02,
         "pressure": 976.57,
         "rssi": "None",
         "temp_c": 13.333333333333334,
         "temp_f": 56,
         "uptime": "None",
         "version": "None"
        },
        {
         "10min_avg": 21.52,
         "1day_avg": 20.03,
         "1hour_avg": 24.77,
         "1week_avg": 9.7,
         "30min_avg": 24.08,
         "6hour_avg": 25.99,
         "_deepnote_index_column": 125651,
         "adc": "None",
         "age": 1,
         "brightness": "None",
         "created": "None",
         "downgraded": "False",
         "flagged": "True",
         "hardware": "None",
         "hidden": "False",
         "humidity": 29,
         "is_owner": "False",
         "last_seen": "2021-10-01T04:34:32.000000",
         "last_update_check": "None",
         "lat": 36.807322,
         "location_type": "inside",
         "lon": -119.796034,
         "model": "PMS5003+PMS5003+BME280",
         "name": "#ValleyClimate 2",
         "p_0_3_um": "None",
         "p_0_5_um": "None",
         "p_10_0_um": "None",
         "p_1_0_um": "None",
         "p_2_5_um": "None",
         "p_5_0_um": "None",
         "parent": "None",
         "pm10_0_atm": "None",
         "pm10_0_cf_1": "None",
         "pm1_0_atm": "None",
         "pm1_0_cf_1": "None",
         "pm2_5_atm": "None",
         "pm2_5_cf_1": "None",
         "pm_2.5": 21.48,
         "pressure": 1004.66,
         "rssi": "None",
         "temp_c": 30,
         "temp_f": 86,
         "uptime": "None",
         "version": "None"
        },
        {
         "10min_avg": 22.49,
         "1day_avg": 13.97,
         "1hour_avg": 20.12,
         "1week_avg": 21.31,
         "30min_avg": 21.11,
         "6hour_avg": 19.72,
         "_deepnote_index_column": 22751,
         "adc": "None",
         "age": 1,
         "brightness": "None",
         "created": "None",
         "downgraded": "False",
         "flagged": "False",
         "hardware": "None",
         "hidden": "False",
         "humidity": 37,
         "is_owner": "False",
         "last_seen": "2021-10-01T04:34:18.000000",
         "last_update_check": "None",
         "lat": 36.807377,
         "location_type": "outside",
         "lon": -119.796109,
         "model": "PMS5003+PMS5003+BME280",
         "name": "#ValleyClimate",
         "p_0_3_um": "None",
         "p_0_5_um": "None",
         "p_10_0_um": "None",
         "p_1_0_um": "None",
         "p_2_5_um": "None",
         "p_5_0_um": "None",
         "parent": "None",
         "pm10_0_atm": "None",
         "pm10_0_cf_1": "None",
         "pm1_0_atm": "None",
         "pm1_0_cf_1": "None",
         "pm2_5_atm": "None",
         "pm2_5_cf_1": "None",
         "pm_2.5": 23.25,
         "pressure": 1002.61,
         "rssi": "None",
         "temp_c": 22.22222222222222,
         "temp_f": 72,
         "uptime": "None",
         "version": "None"
        },
        {
         "10min_avg": 5.67,
         "1day_avg": 6.16,
         "1hour_avg": 6.14,
         "1week_avg": 6.7,
         "30min_avg": 5.82,
         "6hour_avg": 6.24,
         "_deepnote_index_column": 86657,
         "adc": "None",
         "age": 1,
         "brightness": "None",
         "created": "None",
         "downgraded": "False",
         "flagged": "False",
         "hardware": "None",
         "hidden": "False",
         "humidity": 31,
         "is_owner": "False",
         "last_seen": "2021-10-01T04:34:44.000000",
         "last_update_check": "None",
         "lat": 38.863469,
         "location_type": "inside",
         "lon": -77.297967,
         "model": "PMS5003+PMS5003+BME280",
         "name": "$ling",
         "p_0_3_um": "None",
         "p_0_5_um": "None",
         "p_10_0_um": "None",
         "p_1_0_um": "None",
         "p_2_5_um": "None",
         "p_5_0_um": "None",
         "parent": "None",
         "pm10_0_atm": "None",
         "pm10_0_cf_1": "None",
         "pm1_0_atm": "None",
         "pm1_0_cf_1": "None",
         "pm2_5_atm": "None",
         "pm2_5_cf_1": "None",
         "pm_2.5": 6.43,
         "pressure": 1010.94,
         "rssi": "None",
         "temp_c": 25.555555555555557,
         "temp_f": 78,
         "uptime": "None",
         "version": "None"
        }
       ]
      },
      "text/html": [
       "<div>\n",
       "<style scoped>\n",
       "    .dataframe tbody tr th:only-of-type {\n",
       "        vertical-align: middle;\n",
       "    }\n",
       "\n",
       "    .dataframe tbody tr th {\n",
       "        vertical-align: top;\n",
       "    }\n",
       "\n",
       "    .dataframe thead th {\n",
       "        text-align: right;\n",
       "    }\n",
       "</style>\n",
       "<table border=\"1\" class=\"dataframe\">\n",
       "  <thead>\n",
       "    <tr style=\"text-align: right;\">\n",
       "      <th></th>\n",
       "      <th>parent</th>\n",
       "      <th>lat</th>\n",
       "      <th>lon</th>\n",
       "      <th>name</th>\n",
       "      <th>location_type</th>\n",
       "      <th>pm_2.5</th>\n",
       "      <th>temp_f</th>\n",
       "      <th>temp_c</th>\n",
       "      <th>humidity</th>\n",
       "      <th>pressure</th>\n",
       "      <th>...</th>\n",
       "      <th>last_update_check</th>\n",
       "      <th>created</th>\n",
       "      <th>uptime</th>\n",
       "      <th>is_owner</th>\n",
       "      <th>10min_avg</th>\n",
       "      <th>30min_avg</th>\n",
       "      <th>1hour_avg</th>\n",
       "      <th>6hour_avg</th>\n",
       "      <th>1day_avg</th>\n",
       "      <th>1week_avg</th>\n",
       "    </tr>\n",
       "    <tr>\n",
       "      <th>id</th>\n",
       "      <th></th>\n",
       "      <th></th>\n",
       "      <th></th>\n",
       "      <th></th>\n",
       "      <th></th>\n",
       "      <th></th>\n",
       "      <th></th>\n",
       "      <th></th>\n",
       "      <th></th>\n",
       "      <th></th>\n",
       "      <th></th>\n",
       "      <th></th>\n",
       "      <th></th>\n",
       "      <th></th>\n",
       "      <th></th>\n",
       "      <th></th>\n",
       "      <th></th>\n",
       "      <th></th>\n",
       "      <th></th>\n",
       "      <th></th>\n",
       "      <th></th>\n",
       "    </tr>\n",
       "  </thead>\n",
       "  <tbody>\n",
       "    <tr>\n",
       "      <th>14633</th>\n",
       "      <td>None</td>\n",
       "      <td>37.275561</td>\n",
       "      <td>-121.964134</td>\n",
       "      <td>Hazelwood canary</td>\n",
       "      <td>outside</td>\n",
       "      <td>2.07</td>\n",
       "      <td>78.0</td>\n",
       "      <td>25.555556</td>\n",
       "      <td>29.0</td>\n",
       "      <td>1007.75</td>\n",
       "      <td>...</td>\n",
       "      <td>None</td>\n",
       "      <td>None</td>\n",
       "      <td>None</td>\n",
       "      <td>False</td>\n",
       "      <td>2.19</td>\n",
       "      <td>1.82</td>\n",
       "      <td>1.49</td>\n",
       "      <td>1.31</td>\n",
       "      <td>2.39</td>\n",
       "      <td>8.44</td>\n",
       "    </tr>\n",
       "    <tr>\n",
       "      <th>25999</th>\n",
       "      <td>None</td>\n",
       "      <td>30.053808</td>\n",
       "      <td>-95.494643</td>\n",
       "      <td>Villages of Bridgestone AQI</td>\n",
       "      <td>outside</td>\n",
       "      <td>4.88</td>\n",
       "      <td>83.0</td>\n",
       "      <td>28.333333</td>\n",
       "      <td>73.0</td>\n",
       "      <td>1010.98</td>\n",
       "      <td>...</td>\n",
       "      <td>None</td>\n",
       "      <td>None</td>\n",
       "      <td>None</td>\n",
       "      <td>False</td>\n",
       "      <td>5.29</td>\n",
       "      <td>4.93</td>\n",
       "      <td>4.86</td>\n",
       "      <td>5.99</td>\n",
       "      <td>9.54</td>\n",
       "      <td>13.75</td>\n",
       "    </tr>\n",
       "    <tr>\n",
       "      <th>14091</th>\n",
       "      <td>None</td>\n",
       "      <td>37.883620</td>\n",
       "      <td>-122.070087</td>\n",
       "      <td>WC Hillside</td>\n",
       "      <td>outside</td>\n",
       "      <td>1.34</td>\n",
       "      <td>77.0</td>\n",
       "      <td>25.000000</td>\n",
       "      <td>22.0</td>\n",
       "      <td>1002.13</td>\n",
       "      <td>...</td>\n",
       "      <td>None</td>\n",
       "      <td>None</td>\n",
       "      <td>None</td>\n",
       "      <td>False</td>\n",
       "      <td>1.47</td>\n",
       "      <td>1.25</td>\n",
       "      <td>1.18</td>\n",
       "      <td>1.13</td>\n",
       "      <td>2.04</td>\n",
       "      <td>9.07</td>\n",
       "    </tr>\n",
       "    <tr>\n",
       "      <th>108226</th>\n",
       "      <td>None</td>\n",
       "      <td>38.573703</td>\n",
       "      <td>-121.439113</td>\n",
       "      <td>\"C\" Street Air Shelter</td>\n",
       "      <td>inside</td>\n",
       "      <td>4.49</td>\n",
       "      <td>84.0</td>\n",
       "      <td>28.888889</td>\n",
       "      <td>31.0</td>\n",
       "      <td>1014.25</td>\n",
       "      <td>...</td>\n",
       "      <td>None</td>\n",
       "      <td>None</td>\n",
       "      <td>None</td>\n",
       "      <td>False</td>\n",
       "      <td>5.64</td>\n",
       "      <td>5.12</td>\n",
       "      <td>4.29</td>\n",
       "      <td>3.20</td>\n",
       "      <td>3.43</td>\n",
       "      <td>4.45</td>\n",
       "    </tr>\n",
       "    <tr>\n",
       "      <th>42073</th>\n",
       "      <td>None</td>\n",
       "      <td>47.185173</td>\n",
       "      <td>-122.176855</td>\n",
       "      <td>#1</td>\n",
       "      <td>outside</td>\n",
       "      <td>8.57</td>\n",
       "      <td>56.0</td>\n",
       "      <td>13.333333</td>\n",
       "      <td>71.0</td>\n",
       "      <td>1003.91</td>\n",
       "      <td>...</td>\n",
       "      <td>None</td>\n",
       "      <td>None</td>\n",
       "      <td>None</td>\n",
       "      <td>False</td>\n",
       "      <td>8.64</td>\n",
       "      <td>8.53</td>\n",
       "      <td>7.26</td>\n",
       "      <td>3.45</td>\n",
       "      <td>3.37</td>\n",
       "      <td>5.48</td>\n",
       "    </tr>\n",
       "    <tr>\n",
       "      <th>...</th>\n",
       "      <td>...</td>\n",
       "      <td>...</td>\n",
       "      <td>...</td>\n",
       "      <td>...</td>\n",
       "      <td>...</td>\n",
       "      <td>...</td>\n",
       "      <td>...</td>\n",
       "      <td>...</td>\n",
       "      <td>...</td>\n",
       "      <td>...</td>\n",
       "      <td>...</td>\n",
       "      <td>...</td>\n",
       "      <td>...</td>\n",
       "      <td>...</td>\n",
       "      <td>...</td>\n",
       "      <td>...</td>\n",
       "      <td>...</td>\n",
       "      <td>...</td>\n",
       "      <td>...</td>\n",
       "      <td>...</td>\n",
       "      <td>...</td>\n",
       "    </tr>\n",
       "    <tr>\n",
       "      <th>64995</th>\n",
       "      <td>None</td>\n",
       "      <td>36.691324</td>\n",
       "      <td>126.585255</td>\n",
       "      <td>한서대학교</td>\n",
       "      <td>outside</td>\n",
       "      <td>38.12</td>\n",
       "      <td>95.0</td>\n",
       "      <td>35.000000</td>\n",
       "      <td>30.0</td>\n",
       "      <td>994.97</td>\n",
       "      <td>...</td>\n",
       "      <td>None</td>\n",
       "      <td>None</td>\n",
       "      <td>None</td>\n",
       "      <td>False</td>\n",
       "      <td>38.06</td>\n",
       "      <td>40.27</td>\n",
       "      <td>41.10</td>\n",
       "      <td>30.61</td>\n",
       "      <td>18.92</td>\n",
       "      <td>12.74</td>\n",
       "    </tr>\n",
       "    <tr>\n",
       "      <th>64093</th>\n",
       "      <td>None</td>\n",
       "      <td>36.710720</td>\n",
       "      <td>126.548390</td>\n",
       "      <td>해미읍성</td>\n",
       "      <td>outside</td>\n",
       "      <td>34.69</td>\n",
       "      <td>93.0</td>\n",
       "      <td>33.888889</td>\n",
       "      <td>31.0</td>\n",
       "      <td>1005.10</td>\n",
       "      <td>...</td>\n",
       "      <td>None</td>\n",
       "      <td>None</td>\n",
       "      <td>None</td>\n",
       "      <td>False</td>\n",
       "      <td>35.93</td>\n",
       "      <td>35.25</td>\n",
       "      <td>35.75</td>\n",
       "      <td>30.07</td>\n",
       "      <td>19.66</td>\n",
       "      <td>12.96</td>\n",
       "    </tr>\n",
       "    <tr>\n",
       "      <th>29747</th>\n",
       "      <td>None</td>\n",
       "      <td>36.761236</td>\n",
       "      <td>127.395300</td>\n",
       "      <td>화덕보건진료소</td>\n",
       "      <td>outside</td>\n",
       "      <td>18.04</td>\n",
       "      <td>99.0</td>\n",
       "      <td>37.222222</td>\n",
       "      <td>25.0</td>\n",
       "      <td>995.43</td>\n",
       "      <td>...</td>\n",
       "      <td>None</td>\n",
       "      <td>None</td>\n",
       "      <td>None</td>\n",
       "      <td>False</td>\n",
       "      <td>23.38</td>\n",
       "      <td>30.69</td>\n",
       "      <td>35.20</td>\n",
       "      <td>32.53</td>\n",
       "      <td>22.11</td>\n",
       "      <td>15.60</td>\n",
       "    </tr>\n",
       "    <tr>\n",
       "      <th>98309</th>\n",
       "      <td>None</td>\n",
       "      <td>36.718003</td>\n",
       "      <td>126.926841</td>\n",
       "      <td>화천1리마을회관</td>\n",
       "      <td>outside</td>\n",
       "      <td>30.64</td>\n",
       "      <td>104.0</td>\n",
       "      <td>40.000000</td>\n",
       "      <td>25.0</td>\n",
       "      <td>1000.10</td>\n",
       "      <td>...</td>\n",
       "      <td>None</td>\n",
       "      <td>None</td>\n",
       "      <td>None</td>\n",
       "      <td>False</td>\n",
       "      <td>31.64</td>\n",
       "      <td>33.98</td>\n",
       "      <td>36.72</td>\n",
       "      <td>36.30</td>\n",
       "      <td>23.49</td>\n",
       "      <td>13.47</td>\n",
       "    </tr>\n",
       "    <tr>\n",
       "      <th>20</th>\n",
       "      <td>None</td>\n",
       "      <td>40.603078</td>\n",
       "      <td>-111.836119</td>\n",
       "      <td>Oakdale</td>\n",
       "      <td>None</td>\n",
       "      <td>0.00</td>\n",
       "      <td>NaN</td>\n",
       "      <td>NaN</td>\n",
       "      <td>NaN</td>\n",
       "      <td>NaN</td>\n",
       "      <td>...</td>\n",
       "      <td>None</td>\n",
       "      <td>None</td>\n",
       "      <td>None</td>\n",
       "      <td>False</td>\n",
       "      <td>0.00</td>\n",
       "      <td>0.00</td>\n",
       "      <td>0.00</td>\n",
       "      <td>0.00</td>\n",
       "      <td>0.00</td>\n",
       "      <td>0.00</td>\n",
       "    </tr>\n",
       "  </tbody>\n",
       "</table>\n",
       "<p>23073 rows × 43 columns</p>\n",
       "</div>"
      ],
      "text/plain": [
       "       parent        lat         lon                          name  \\\n",
       "id                                                                   \n",
       "14633    None  37.275561 -121.964134             Hazelwood canary    \n",
       "25999    None  30.053808  -95.494643   Villages of Bridgestone AQI   \n",
       "14091    None  37.883620 -122.070087                   WC Hillside   \n",
       "108226   None  38.573703 -121.439113        \"C\" Street Air Shelter   \n",
       "42073    None  47.185173 -122.176855                            #1   \n",
       "...       ...        ...         ...                           ...   \n",
       "64995    None  36.691324  126.585255                         한서대학교   \n",
       "64093    None  36.710720  126.548390                          해미읍성   \n",
       "29747    None  36.761236  127.395300                       화덕보건진료소   \n",
       "98309    None  36.718003  126.926841                      화천1리마을회관   \n",
       "20       None  40.603078 -111.836119                       Oakdale   \n",
       "\n",
       "       location_type  pm_2.5  temp_f     temp_c  humidity  pressure  ...  \\\n",
       "id                                                                   ...   \n",
       "14633        outside    2.07    78.0  25.555556      29.0   1007.75  ...   \n",
       "25999        outside    4.88    83.0  28.333333      73.0   1010.98  ...   \n",
       "14091        outside    1.34    77.0  25.000000      22.0   1002.13  ...   \n",
       "108226        inside    4.49    84.0  28.888889      31.0   1014.25  ...   \n",
       "42073        outside    8.57    56.0  13.333333      71.0   1003.91  ...   \n",
       "...              ...     ...     ...        ...       ...       ...  ...   \n",
       "64995        outside   38.12    95.0  35.000000      30.0    994.97  ...   \n",
       "64093        outside   34.69    93.0  33.888889      31.0   1005.10  ...   \n",
       "29747        outside   18.04    99.0  37.222222      25.0    995.43  ...   \n",
       "98309        outside   30.64   104.0  40.000000      25.0   1000.10  ...   \n",
       "20              None    0.00     NaN        NaN       NaN       NaN  ...   \n",
       "\n",
       "       last_update_check created uptime is_owner 10min_avg 30min_avg  \\\n",
       "id                                                                     \n",
       "14633               None    None   None    False      2.19      1.82   \n",
       "25999               None    None   None    False      5.29      4.93   \n",
       "14091               None    None   None    False      1.47      1.25   \n",
       "108226              None    None   None    False      5.64      5.12   \n",
       "42073               None    None   None    False      8.64      8.53   \n",
       "...                  ...     ...    ...      ...       ...       ...   \n",
       "64995               None    None   None    False     38.06     40.27   \n",
       "64093               None    None   None    False     35.93     35.25   \n",
       "29747               None    None   None    False     23.38     30.69   \n",
       "98309               None    None   None    False     31.64     33.98   \n",
       "20                  None    None   None    False      0.00      0.00   \n",
       "\n",
       "       1hour_avg 6hour_avg 1day_avg 1week_avg  \n",
       "id                                             \n",
       "14633       1.49      1.31     2.39      8.44  \n",
       "25999       4.86      5.99     9.54     13.75  \n",
       "14091       1.18      1.13     2.04      9.07  \n",
       "108226      4.29      3.20     3.43      4.45  \n",
       "42073       7.26      3.45     3.37      5.48  \n",
       "...          ...       ...      ...       ...  \n",
       "64995      41.10     30.61    18.92     12.74  \n",
       "64093      35.75     30.07    19.66     12.96  \n",
       "29747      35.20     32.53    22.11     15.60  \n",
       "98309      36.72     36.30    23.49     13.47  \n",
       "20          0.00      0.00     0.00      0.00  \n",
       "\n",
       "[23073 rows x 43 columns]"
      ]
     },
     "execution_count": 11,
     "metadata": {},
     "output_type": "execute_result"
    }
   ],
   "source": [
    "df"
   ]
  },
  {
   "cell_type": "markdown",
   "metadata": {
    "cell_id": "00020-84add5d0-e089-426d-8b98-0ff32901f7a0",
    "deepnote_cell_type": "markdown",
    "tags": []
   },
   "source": [
    "Here is a breakdown of the dataframe above and what each column represents. \n",
    "\n",
    "`lat`: The latitude coordinate of the location\n",
    "\n",
    "`lon`: The longitude coordinate of the location\n",
    "\n",
    "`name`: The name of the location\n",
    "\n",
    "`location_type`: The nature of the location (ie. inside or outside)\n",
    "\n",
    "`pm_2.5`: The level of fine particulate matter in the air of that location\n",
    "\n",
    "`temp_f`: The temperature of the location in degrees Farenheit \n",
    "\n",
    "`temp_c`: The temperature of the location in degrees Celsius \n",
    "\n",
    "`humidity`: The humidity percentage of the location\n",
    "\n",
    "`pressure`: The pressure index of the location (in millibars)\n",
    "\n",
    "`last_seen`: The last seen date and timestamp in UTC\n",
    "\n",
    "`model`: Model of the specific sensor\n",
    "\n",
    "`flagged`: Whether or not the channel was marked as flagged (usually based on a fault)\n",
    "\n",
    "`age`: Sensor data age (when data was last received)\n",
    "\n",
    "`10min_avg`: Average PM 2.5 AQI over the last 10 minutes \n",
    "\n",
    "`30min_avg`: Average PM 2.5 AQI over the last 30 minutes\n",
    "\n",
    "`1hour_avg`: Average PM 2.5 AQI over the last hour\n",
    "\n",
    "`6hour_avg`: Average PM 2.5 AQI over the last 6 hours\n",
    "\n",
    "`1day_avg`: Average PM 2.5 AQI over the last day \n",
    "\n",
    "`1week_avg`: Average PM 2.5 AQI over the last week\n"
   ]
  },
  {
   "cell_type": "markdown",
   "metadata": {
    "cell_id": "00012-a5b69dff-c049-447e-9eb7-a796aa210195",
    "deepnote_cell_type": "markdown",
    "tags": []
   },
   "source": [
    "<br>\n",
    "\n",
    "### Airborne Particulate Matter (PM) 2.5 \n",
    "While many of the column names are relatively straightforward, such as the \"name\" column (which displays the set name of the particular sensor), the \"location_type\" column (which indicates where it is an indoor or outdoor sensor), etc., we would like to draw your attention to the \"pm_2.5\" column. \n",
    "\n",
    ">The \"pm_2.5\" column represents the count of airborne pm that is larger than 2.5um/dl, in otherwords, airborne particles that have a diameter of 2.5 micrometers or less. In high levels, PM 2.5 particles can reduce visibility and cause the air to appear hazy. Tracking PM 2.5 is important because prolonged exposure to high levels of PM 2.5 particles can cause adverse US Environmental Protection Agency (EPA) use to calculate the local Air Quality Index (AQI)."
   ]
  },
  {
   "cell_type": "markdown",
   "metadata": {
    "cell_id": "00013-3f44a409-97a2-43ee-b939-ded0a30a6f87",
    "deepnote_cell_type": "markdown",
    "tags": []
   },
   "source": [
    "**Run the cells below to take a look at PM 2.5 levels of a specific sensor over time!**"
   ]
  },
  {
   "cell_type": "markdown",
   "metadata": {
    "cell_id": "00014-bf1bd58a-2e0a-49b9-9146-ed5a32f9e7bd",
    "deepnote_cell_type": "markdown",
    "tags": []
   },
   "source": [
    "If you go to the PurpleAir website [here](https://map.purpleair.com/1/mAQI/a10/p604800/cC0#14.52/30.28196/-97.73198), it should navigate you to a map of the surrounding University of Texas area. If you click on the sensor currently located in the DKR Texas Memorial Stadium, you'll find that the name of that particular sensor is \"PA_II_D8B6\". \n",
    "\n",
    "Let's take a closer look at the UT Stadium Sensor! In the code cell below we will filter the dataframe by the sensor name (\"PA_II_D8B6\") to pick out the row that corresponds to the specific sensor we are looking for. \n",
    "\n",
    "**Run the cell below!**"
   ]
  },
  {
   "cell_type": "code",
   "execution_count": null,
   "metadata": {
    "cell_id": "00014-2eb2cdc4-653e-468f-9803-3c4c406027db",
    "deepnote_cell_type": "code",
    "deepnote_to_be_reexecuted": false,
    "execution_millis": 200,
    "execution_start": 1633062989370,
    "source_hash": "18fdfec8",
    "tags": []
   },
   "outputs": [
    {
     "data": {
      "application/vnd.deepnote.dataframe.v2+json": {
       "column_count": 43,
       "columns": [
        {
         "dtype": "object",
         "name": "parent",
         "stats": {
          "categories": [
           {
            "count": 1,
            "name": "Missing"
           }
          ],
          "nan_count": 1,
          "unique_count": 0
         }
        },
        {
         "dtype": "float64",
         "name": "lat",
         "stats": {
          "histogram": [
           {
            "bin_end": 29.885069,
            "bin_start": 29.785069,
            "count": 0
           },
           {
            "bin_end": 29.985069,
            "bin_start": 29.885069,
            "count": 0
           },
           {
            "bin_end": 30.085069,
            "bin_start": 29.985069,
            "count": 0
           },
           {
            "bin_end": 30.185069,
            "bin_start": 30.085069,
            "count": 0
           },
           {
            "bin_end": 30.285069,
            "bin_start": 30.185069,
            "count": 0
           },
           {
            "bin_end": 30.385069,
            "bin_start": 30.285069,
            "count": 1
           },
           {
            "bin_end": 30.485069,
            "bin_start": 30.385069,
            "count": 0
           },
           {
            "bin_end": 30.585069,
            "bin_start": 30.485069,
            "count": 0
           },
           {
            "bin_end": 30.685069,
            "bin_start": 30.585069,
            "count": 0
           },
           {
            "bin_end": 30.785069,
            "bin_start": 30.685069,
            "count": 0
           }
          ],
          "max": "30.285069",
          "min": "30.285069",
          "nan_count": 0,
          "unique_count": 1
         }
        },
        {
         "dtype": "float64",
         "name": "lon",
         "stats": {
          "histogram": [
           {
            "bin_end": -98.13287700000001,
            "bin_start": -98.232877,
            "count": 0
           },
           {
            "bin_end": -98.032877,
            "bin_start": -98.13287700000001,
            "count": 0
           },
           {
            "bin_end": -97.932877,
            "bin_start": -98.032877,
            "count": 0
           },
           {
            "bin_end": -97.832877,
            "bin_start": -97.932877,
            "count": 0
           },
           {
            "bin_end": -97.732877,
            "bin_start": -97.832877,
            "count": 0
           },
           {
            "bin_end": -97.63287700000001,
            "bin_start": -97.732877,
            "count": 1
           },
           {
            "bin_end": -97.532877,
            "bin_start": -97.63287700000001,
            "count": 0
           },
           {
            "bin_end": -97.432877,
            "bin_start": -97.532877,
            "count": 0
           },
           {
            "bin_end": -97.332877,
            "bin_start": -97.432877,
            "count": 0
           },
           {
            "bin_end": -97.232877,
            "bin_start": -97.332877,
            "count": 0
           }
          ],
          "max": "-97.732877",
          "min": "-97.732877",
          "nan_count": 0,
          "unique_count": 1
         }
        },
        {
         "dtype": "object",
         "name": "name",
         "stats": {
          "categories": [
           {
            "count": 1,
            "name": "PA_II_D8B6"
           }
          ],
          "nan_count": 0,
          "unique_count": 1
         }
        },
        {
         "dtype": "object",
         "name": "location_type",
         "stats": {
          "categories": [
           {
            "count": 1,
            "name": "outside"
           }
          ],
          "nan_count": 0,
          "unique_count": 1
         }
        },
        {
         "dtype": "float64",
         "name": "pm_2.5",
         "stats": {
          "histogram": [
           {
            "bin_end": 3.3000000000000003,
            "bin_start": 3.2,
            "count": 0
           },
           {
            "bin_end": 3.4000000000000004,
            "bin_start": 3.3000000000000003,
            "count": 0
           },
           {
            "bin_end": 3.5,
            "bin_start": 3.4000000000000004,
            "count": 0
           },
           {
            "bin_end": 3.6,
            "bin_start": 3.5,
            "count": 0
           },
           {
            "bin_end": 3.7,
            "bin_start": 3.6,
            "count": 0
           },
           {
            "bin_end": 3.8000000000000003,
            "bin_start": 3.7,
            "count": 1
           },
           {
            "bin_end": 3.9000000000000004,
            "bin_start": 3.8000000000000003,
            "count": 0
           },
           {
            "bin_end": 4,
            "bin_start": 3.9000000000000004,
            "count": 0
           },
           {
            "bin_end": 4.1000000000000005,
            "bin_start": 4,
            "count": 0
           },
           {
            "bin_end": 4.2,
            "bin_start": 4.1000000000000005,
            "count": 0
           }
          ],
          "max": "3.7",
          "min": "3.7",
          "nan_count": 0,
          "unique_count": 1
         }
        },
        {
         "dtype": "float64",
         "name": "temp_f",
         "stats": {
          "histogram": [
           {
            "bin_end": 81.6,
            "bin_start": 81.5,
            "count": 0
           },
           {
            "bin_end": 81.7,
            "bin_start": 81.6,
            "count": 0
           },
           {
            "bin_end": 81.8,
            "bin_start": 81.7,
            "count": 0
           },
           {
            "bin_end": 81.9,
            "bin_start": 81.8,
            "count": 0
           },
           {
            "bin_end": 82,
            "bin_start": 81.9,
            "count": 0
           },
           {
            "bin_end": 82.1,
            "bin_start": 82,
            "count": 1
           },
           {
            "bin_end": 82.2,
            "bin_start": 82.1,
            "count": 0
           },
           {
            "bin_end": 82.3,
            "bin_start": 82.2,
            "count": 0
           },
           {
            "bin_end": 82.4,
            "bin_start": 82.3,
            "count": 0
           },
           {
            "bin_end": 82.5,
            "bin_start": 82.4,
            "count": 0
           }
          ],
          "max": "82.0",
          "min": "82.0",
          "nan_count": 0,
          "unique_count": 1
         }
        },
        {
         "dtype": "float64",
         "name": "temp_c",
         "stats": {
          "histogram": [
           {
            "bin_end": 27.37777777777778,
            "bin_start": 27.27777777777778,
            "count": 0
           },
           {
            "bin_end": 27.477777777777778,
            "bin_start": 27.37777777777778,
            "count": 0
           },
           {
            "bin_end": 27.57777777777778,
            "bin_start": 27.477777777777778,
            "count": 0
           },
           {
            "bin_end": 27.677777777777777,
            "bin_start": 27.57777777777778,
            "count": 0
           },
           {
            "bin_end": 27.77777777777778,
            "bin_start": 27.677777777777777,
            "count": 0
           },
           {
            "bin_end": 27.87777777777778,
            "bin_start": 27.77777777777778,
            "count": 1
           },
           {
            "bin_end": 27.977777777777778,
            "bin_start": 27.87777777777778,
            "count": 0
           },
           {
            "bin_end": 28.07777777777778,
            "bin_start": 27.977777777777778,
            "count": 0
           },
           {
            "bin_end": 28.177777777777777,
            "bin_start": 28.07777777777778,
            "count": 0
           },
           {
            "bin_end": 28.27777777777778,
            "bin_start": 28.177777777777777,
            "count": 0
           }
          ],
          "max": "27.77777777777778",
          "min": "27.77777777777778",
          "nan_count": 0,
          "unique_count": 1
         }
        },
        {
         "dtype": "float64",
         "name": "humidity",
         "stats": {
          "histogram": [
           {
            "bin_end": 65.6,
            "bin_start": 65.5,
            "count": 0
           },
           {
            "bin_end": 65.7,
            "bin_start": 65.6,
            "count": 0
           },
           {
            "bin_end": 65.8,
            "bin_start": 65.7,
            "count": 0
           },
           {
            "bin_end": 65.9,
            "bin_start": 65.8,
            "count": 0
           },
           {
            "bin_end": 66,
            "bin_start": 65.9,
            "count": 0
           },
           {
            "bin_end": 66.1,
            "bin_start": 66,
            "count": 1
           },
           {
            "bin_end": 66.2,
            "bin_start": 66.1,
            "count": 0
           },
           {
            "bin_end": 66.3,
            "bin_start": 66.2,
            "count": 0
           },
           {
            "bin_end": 66.4,
            "bin_start": 66.3,
            "count": 0
           },
           {
            "bin_end": 66.5,
            "bin_start": 66.4,
            "count": 0
           }
          ],
          "max": "66.0",
          "min": "66.0",
          "nan_count": 0,
          "unique_count": 1
         }
        },
        {
         "dtype": "float64",
         "name": "pressure",
         "stats": {
          "histogram": [
           {
            "bin_end": 994.85,
            "bin_start": 994.75,
            "count": 0
           },
           {
            "bin_end": 994.95,
            "bin_start": 994.85,
            "count": 0
           },
           {
            "bin_end": 995.05,
            "bin_start": 994.95,
            "count": 0
           },
           {
            "bin_end": 995.15,
            "bin_start": 995.05,
            "count": 0
           },
           {
            "bin_end": 995.25,
            "bin_start": 995.15,
            "count": 0
           },
           {
            "bin_end": 995.35,
            "bin_start": 995.25,
            "count": 1
           },
           {
            "bin_end": 995.45,
            "bin_start": 995.35,
            "count": 0
           },
           {
            "bin_end": 995.55,
            "bin_start": 995.45,
            "count": 0
           },
           {
            "bin_end": 995.65,
            "bin_start": 995.55,
            "count": 0
           },
           {
            "bin_end": 995.75,
            "bin_start": 995.65,
            "count": 0
           }
          ],
          "max": "995.25",
          "min": "995.25",
          "nan_count": 0,
          "unique_count": 1
         }
        },
        {
         "dtype": "object",
         "name": "p_0_3_um",
         "stats": {
          "categories": [
           {
            "count": 1,
            "name": "Missing"
           }
          ],
          "nan_count": 1,
          "unique_count": 0
         }
        },
        {
         "dtype": "object",
         "name": "p_0_5_um",
         "stats": {
          "categories": [
           {
            "count": 1,
            "name": "Missing"
           }
          ],
          "nan_count": 1,
          "unique_count": 0
         }
        },
        {
         "dtype": "object",
         "name": "p_1_0_um",
         "stats": {
          "categories": [
           {
            "count": 1,
            "name": "Missing"
           }
          ],
          "nan_count": 1,
          "unique_count": 0
         }
        },
        {
         "dtype": "object",
         "name": "p_2_5_um",
         "stats": {
          "categories": [
           {
            "count": 1,
            "name": "Missing"
           }
          ],
          "nan_count": 1,
          "unique_count": 0
         }
        },
        {
         "dtype": "object",
         "name": "p_5_0_um",
         "stats": {
          "categories": [
           {
            "count": 1,
            "name": "Missing"
           }
          ],
          "nan_count": 1,
          "unique_count": 0
         }
        },
        {
         "dtype": "object",
         "name": "p_10_0_um",
         "stats": {
          "categories": [
           {
            "count": 1,
            "name": "Missing"
           }
          ],
          "nan_count": 1,
          "unique_count": 0
         }
        },
        {
         "dtype": "object",
         "name": "pm1_0_cf_1",
         "stats": {
          "categories": [
           {
            "count": 1,
            "name": "Missing"
           }
          ],
          "nan_count": 1,
          "unique_count": 0
         }
        },
        {
         "dtype": "object",
         "name": "pm2_5_cf_1",
         "stats": {
          "categories": [
           {
            "count": 1,
            "name": "Missing"
           }
          ],
          "nan_count": 1,
          "unique_count": 0
         }
        },
        {
         "dtype": "object",
         "name": "pm10_0_cf_1",
         "stats": {
          "categories": [
           {
            "count": 1,
            "name": "Missing"
           }
          ],
          "nan_count": 1,
          "unique_count": 0
         }
        },
        {
         "dtype": "object",
         "name": "pm1_0_atm",
         "stats": {
          "categories": [
           {
            "count": 1,
            "name": "Missing"
           }
          ],
          "nan_count": 1,
          "unique_count": 0
         }
        },
        {
         "dtype": "object",
         "name": "pm2_5_atm",
         "stats": {
          "categories": [
           {
            "count": 1,
            "name": "Missing"
           }
          ],
          "nan_count": 1,
          "unique_count": 0
         }
        },
        {
         "dtype": "object",
         "name": "pm10_0_atm",
         "stats": {
          "categories": [
           {
            "count": 1,
            "name": "Missing"
           }
          ],
          "nan_count": 1,
          "unique_count": 0
         }
        },
        {
         "dtype": "datetime64[ns]",
         "name": "last_seen",
         "stats": {
          "histogram": null,
          "max": "2021-10-01 04:35:29",
          "min": "2021-10-01 04:35:29",
          "nan_count": 0,
          "unique_count": 1
         }
        },
        {
         "dtype": "object",
         "name": "model",
         "stats": {
          "categories": [
           {
            "count": 1,
            "name": "PMS5003+PMS5003+BME280"
           }
          ],
          "nan_count": 0,
          "unique_count": 1
         }
        },
        {
         "dtype": "object",
         "name": "adc",
         "stats": {
          "categories": [
           {
            "count": 1,
            "name": "Missing"
           }
          ],
          "nan_count": 1,
          "unique_count": 0
         }
        },
        {
         "dtype": "object",
         "name": "rssi",
         "stats": {
          "categories": [
           {
            "count": 1,
            "name": "Missing"
           }
          ],
          "nan_count": 1,
          "unique_count": 0
         }
        },
        {
         "dtype": "bool",
         "name": "hidden",
         "stats": {
          "categories": [
           {
            "count": 1,
            "name": "False"
           }
          ],
          "nan_count": 0,
          "unique_count": 1
         }
        },
        {
         "dtype": "bool",
         "name": "flagged",
         "stats": {
          "categories": [
           {
            "count": 1,
            "name": "False"
           }
          ],
          "nan_count": 0,
          "unique_count": 1
         }
        },
        {
         "dtype": "bool",
         "name": "downgraded",
         "stats": {
          "categories": [
           {
            "count": 1,
            "name": "False"
           }
          ],
          "nan_count": 0,
          "unique_count": 1
         }
        },
        {
         "dtype": "int64",
         "name": "age",
         "stats": {
          "histogram": [
           {
            "bin_end": -0.4,
            "bin_start": -0.5,
            "count": 0
           },
           {
            "bin_end": -0.3,
            "bin_start": -0.4,
            "count": 0
           },
           {
            "bin_end": -0.19999999999999996,
            "bin_start": -0.3,
            "count": 0
           },
           {
            "bin_end": -0.09999999999999998,
            "bin_start": -0.19999999999999996,
            "count": 0
           },
           {
            "bin_end": 0,
            "bin_start": -0.09999999999999998,
            "count": 0
           },
           {
            "bin_end": 0.10000000000000009,
            "bin_start": 0,
            "count": 1
           },
           {
            "bin_end": 0.20000000000000007,
            "bin_start": 0.10000000000000009,
            "count": 0
           },
           {
            "bin_end": 0.30000000000000004,
            "bin_start": 0.20000000000000007,
            "count": 0
           },
           {
            "bin_end": 0.4,
            "bin_start": 0.30000000000000004,
            "count": 0
           },
           {
            "bin_end": 0.5,
            "bin_start": 0.4,
            "count": 0
           }
          ],
          "max": "0",
          "min": "0",
          "nan_count": 0,
          "unique_count": 1
         }
        },
        {
         "dtype": "object",
         "name": "brightness",
         "stats": {
          "categories": [
           {
            "count": 1,
            "name": "Missing"
           }
          ],
          "nan_count": 1,
          "unique_count": 0
         }
        },
        {
         "dtype": "object",
         "name": "hardware",
         "stats": {
          "categories": [
           {
            "count": 1,
            "name": "Missing"
           }
          ],
          "nan_count": 1,
          "unique_count": 0
         }
        },
        {
         "dtype": "object",
         "name": "version",
         "stats": {
          "categories": [
           {
            "count": 1,
            "name": "Missing"
           }
          ],
          "nan_count": 1,
          "unique_count": 0
         }
        },
        {
         "dtype": "object",
         "name": "last_update_check",
         "stats": {
          "categories": [
           {
            "count": 1,
            "name": "Missing"
           }
          ],
          "nan_count": 1,
          "unique_count": 0
         }
        },
        {
         "dtype": "object",
         "name": "created",
         "stats": {
          "categories": [
           {
            "count": 1,
            "name": "Missing"
           }
          ],
          "nan_count": 1,
          "unique_count": 0
         }
        },
        {
         "dtype": "object",
         "name": "uptime",
         "stats": {
          "categories": [
           {
            "count": 1,
            "name": "Missing"
           }
          ],
          "nan_count": 1,
          "unique_count": 0
         }
        },
        {
         "dtype": "bool",
         "name": "is_owner",
         "stats": {
          "categories": [
           {
            "count": 1,
            "name": "False"
           }
          ],
          "nan_count": 0,
          "unique_count": 1
         }
        },
        {
         "dtype": "float64",
         "name": "10min_avg",
         "stats": {
          "histogram": [
           {
            "bin_end": 3.54,
            "bin_start": 3.44,
            "count": 0
           },
           {
            "bin_end": 3.6399999999999997,
            "bin_start": 3.54,
            "count": 0
           },
           {
            "bin_end": 3.7399999999999998,
            "bin_start": 3.6399999999999997,
            "count": 0
           },
           {
            "bin_end": 3.84,
            "bin_start": 3.7399999999999998,
            "count": 0
           },
           {
            "bin_end": 3.9399999999999995,
            "bin_start": 3.84,
            "count": 0
           },
           {
            "bin_end": 4.039999999999999,
            "bin_start": 3.9399999999999995,
            "count": 1
           },
           {
            "bin_end": 4.14,
            "bin_start": 4.039999999999999,
            "count": 0
           },
           {
            "bin_end": 4.239999999999999,
            "bin_start": 4.14,
            "count": 0
           },
           {
            "bin_end": 4.34,
            "bin_start": 4.239999999999999,
            "count": 0
           },
           {
            "bin_end": 4.4399999999999995,
            "bin_start": 4.34,
            "count": 0
           }
          ],
          "max": "3.94",
          "min": "3.94",
          "nan_count": 0,
          "unique_count": 1
         }
        },
        {
         "dtype": "float64",
         "name": "30min_avg",
         "stats": {
          "histogram": [
           {
            "bin_end": 4.359999999999999,
            "bin_start": 4.26,
            "count": 0
           },
           {
            "bin_end": 4.46,
            "bin_start": 4.359999999999999,
            "count": 0
           },
           {
            "bin_end": 4.56,
            "bin_start": 4.46,
            "count": 0
           },
           {
            "bin_end": 4.66,
            "bin_start": 4.56,
            "count": 0
           },
           {
            "bin_end": 4.76,
            "bin_start": 4.66,
            "count": 0
           },
           {
            "bin_end": 4.859999999999999,
            "bin_start": 4.76,
            "count": 1
           },
           {
            "bin_end": 4.96,
            "bin_start": 4.859999999999999,
            "count": 0
           },
           {
            "bin_end": 5.06,
            "bin_start": 4.96,
            "count": 0
           },
           {
            "bin_end": 5.16,
            "bin_start": 5.06,
            "count": 0
           },
           {
            "bin_end": 5.26,
            "bin_start": 5.16,
            "count": 0
           }
          ],
          "max": "4.76",
          "min": "4.76",
          "nan_count": 0,
          "unique_count": 1
         }
        },
        {
         "dtype": "float64",
         "name": "1hour_avg",
         "stats": {
          "histogram": [
           {
            "bin_end": 5.369999999999999,
            "bin_start": 5.27,
            "count": 0
           },
           {
            "bin_end": 5.47,
            "bin_start": 5.369999999999999,
            "count": 0
           },
           {
            "bin_end": 5.569999999999999,
            "bin_start": 5.47,
            "count": 0
           },
           {
            "bin_end": 5.67,
            "bin_start": 5.569999999999999,
            "count": 0
           },
           {
            "bin_end": 5.77,
            "bin_start": 5.67,
            "count": 0
           },
           {
            "bin_end": 5.869999999999999,
            "bin_start": 5.77,
            "count": 1
           },
           {
            "bin_end": 5.97,
            "bin_start": 5.869999999999999,
            "count": 0
           },
           {
            "bin_end": 6.069999999999999,
            "bin_start": 5.97,
            "count": 0
           },
           {
            "bin_end": 6.17,
            "bin_start": 6.069999999999999,
            "count": 0
           },
           {
            "bin_end": 6.27,
            "bin_start": 6.17,
            "count": 0
           }
          ],
          "max": "5.77",
          "min": "5.77",
          "nan_count": 0,
          "unique_count": 1
         }
        },
        {
         "dtype": "float64",
         "name": "6hour_avg",
         "stats": {
          "histogram": [
           {
            "bin_end": 7.889999999999999,
            "bin_start": 7.789999999999999,
            "count": 0
           },
           {
            "bin_end": 7.989999999999999,
            "bin_start": 7.889999999999999,
            "count": 0
           },
           {
            "bin_end": 8.09,
            "bin_start": 7.989999999999999,
            "count": 0
           },
           {
            "bin_end": 8.19,
            "bin_start": 8.09,
            "count": 0
           },
           {
            "bin_end": 8.29,
            "bin_start": 8.19,
            "count": 0
           },
           {
            "bin_end": 8.389999999999999,
            "bin_start": 8.29,
            "count": 1
           },
           {
            "bin_end": 8.489999999999998,
            "bin_start": 8.389999999999999,
            "count": 0
           },
           {
            "bin_end": 8.59,
            "bin_start": 8.489999999999998,
            "count": 0
           },
           {
            "bin_end": 8.69,
            "bin_start": 8.59,
            "count": 0
           },
           {
            "bin_end": 8.79,
            "bin_start": 8.69,
            "count": 0
           }
          ],
          "max": "8.29",
          "min": "8.29",
          "nan_count": 0,
          "unique_count": 1
         }
        },
        {
         "dtype": "float64",
         "name": "1day_avg",
         "stats": {
          "histogram": [
           {
            "bin_end": 7.409999999999999,
            "bin_start": 7.31,
            "count": 0
           },
           {
            "bin_end": 7.51,
            "bin_start": 7.409999999999999,
            "count": 0
           },
           {
            "bin_end": 7.609999999999999,
            "bin_start": 7.51,
            "count": 0
           },
           {
            "bin_end": 7.709999999999999,
            "bin_start": 7.609999999999999,
            "count": 0
           },
           {
            "bin_end": 7.809999999999999,
            "bin_start": 7.709999999999999,
            "count": 0
           },
           {
            "bin_end": 7.909999999999999,
            "bin_start": 7.809999999999999,
            "count": 1
           },
           {
            "bin_end": 8.01,
            "bin_start": 7.909999999999999,
            "count": 0
           },
           {
            "bin_end": 8.11,
            "bin_start": 8.01,
            "count": 0
           },
           {
            "bin_end": 8.209999999999999,
            "bin_start": 8.11,
            "count": 0
           },
           {
            "bin_end": 8.309999999999999,
            "bin_start": 8.209999999999999,
            "count": 0
           }
          ],
          "max": "7.81",
          "min": "7.81",
          "nan_count": 0,
          "unique_count": 1
         }
        },
        {
         "dtype": "float64",
         "name": "1week_avg",
         "stats": {
          "histogram": [
           {
            "bin_end": 9.59,
            "bin_start": 9.49,
            "count": 0
           },
           {
            "bin_end": 9.69,
            "bin_start": 9.59,
            "count": 0
           },
           {
            "bin_end": 9.790000000000001,
            "bin_start": 9.69,
            "count": 0
           },
           {
            "bin_end": 9.89,
            "bin_start": 9.790000000000001,
            "count": 0
           },
           {
            "bin_end": 9.99,
            "bin_start": 9.89,
            "count": 0
           },
           {
            "bin_end": 10.09,
            "bin_start": 9.99,
            "count": 1
           },
           {
            "bin_end": 10.19,
            "bin_start": 10.09,
            "count": 0
           },
           {
            "bin_end": 10.290000000000001,
            "bin_start": 10.19,
            "count": 0
           },
           {
            "bin_end": 10.39,
            "bin_start": 10.290000000000001,
            "count": 0
           },
           {
            "bin_end": 10.49,
            "bin_start": 10.39,
            "count": 0
           }
          ],
          "max": "9.99",
          "min": "9.99",
          "nan_count": 0,
          "unique_count": 1
         }
        },
        {
         "dtype": "int64",
         "name": "_deepnote_index_column"
        }
       ],
       "row_count": 1,
       "rows_bottom": null,
       "rows_top": [
        {
         "10min_avg": 3.94,
         "1day_avg": 7.81,
         "1hour_avg": 5.77,
         "1week_avg": 9.99,
         "30min_avg": 4.76,
         "6hour_avg": 8.29,
         "_deepnote_index_column": 27395,
         "adc": "None",
         "age": 0,
         "brightness": "None",
         "created": "None",
         "downgraded": "False",
         "flagged": "False",
         "hardware": "None",
         "hidden": "False",
         "humidity": 66,
         "is_owner": "False",
         "last_seen": "2021-10-01T04:35:29.000000",
         "last_update_check": "None",
         "lat": 30.285069,
         "location_type": "outside",
         "lon": -97.732877,
         "model": "PMS5003+PMS5003+BME280",
         "name": "PA_II_D8B6",
         "p_0_3_um": "None",
         "p_0_5_um": "None",
         "p_10_0_um": "None",
         "p_1_0_um": "None",
         "p_2_5_um": "None",
         "p_5_0_um": "None",
         "parent": "None",
         "pm10_0_atm": "None",
         "pm10_0_cf_1": "None",
         "pm1_0_atm": "None",
         "pm1_0_cf_1": "None",
         "pm2_5_atm": "None",
         "pm2_5_cf_1": "None",
         "pm_2.5": 3.7,
         "pressure": 995.25,
         "rssi": "None",
         "temp_c": 27.77777777777778,
         "temp_f": 82,
         "uptime": "None",
         "version": "None"
        }
       ]
      },
      "text/html": [
       "<div>\n",
       "<style scoped>\n",
       "    .dataframe tbody tr th:only-of-type {\n",
       "        vertical-align: middle;\n",
       "    }\n",
       "\n",
       "    .dataframe tbody tr th {\n",
       "        vertical-align: top;\n",
       "    }\n",
       "\n",
       "    .dataframe thead th {\n",
       "        text-align: right;\n",
       "    }\n",
       "</style>\n",
       "<table border=\"1\" class=\"dataframe\">\n",
       "  <thead>\n",
       "    <tr style=\"text-align: right;\">\n",
       "      <th></th>\n",
       "      <th>parent</th>\n",
       "      <th>lat</th>\n",
       "      <th>lon</th>\n",
       "      <th>name</th>\n",
       "      <th>location_type</th>\n",
       "      <th>pm_2.5</th>\n",
       "      <th>temp_f</th>\n",
       "      <th>temp_c</th>\n",
       "      <th>humidity</th>\n",
       "      <th>pressure</th>\n",
       "      <th>...</th>\n",
       "      <th>last_update_check</th>\n",
       "      <th>created</th>\n",
       "      <th>uptime</th>\n",
       "      <th>is_owner</th>\n",
       "      <th>10min_avg</th>\n",
       "      <th>30min_avg</th>\n",
       "      <th>1hour_avg</th>\n",
       "      <th>6hour_avg</th>\n",
       "      <th>1day_avg</th>\n",
       "      <th>1week_avg</th>\n",
       "    </tr>\n",
       "    <tr>\n",
       "      <th>id</th>\n",
       "      <th></th>\n",
       "      <th></th>\n",
       "      <th></th>\n",
       "      <th></th>\n",
       "      <th></th>\n",
       "      <th></th>\n",
       "      <th></th>\n",
       "      <th></th>\n",
       "      <th></th>\n",
       "      <th></th>\n",
       "      <th></th>\n",
       "      <th></th>\n",
       "      <th></th>\n",
       "      <th></th>\n",
       "      <th></th>\n",
       "      <th></th>\n",
       "      <th></th>\n",
       "      <th></th>\n",
       "      <th></th>\n",
       "      <th></th>\n",
       "      <th></th>\n",
       "    </tr>\n",
       "  </thead>\n",
       "  <tbody>\n",
       "    <tr>\n",
       "      <th>27395</th>\n",
       "      <td>None</td>\n",
       "      <td>30.285069</td>\n",
       "      <td>-97.732877</td>\n",
       "      <td>PA_II_D8B6</td>\n",
       "      <td>outside</td>\n",
       "      <td>3.7</td>\n",
       "      <td>82.0</td>\n",
       "      <td>27.777778</td>\n",
       "      <td>66.0</td>\n",
       "      <td>995.25</td>\n",
       "      <td>...</td>\n",
       "      <td>None</td>\n",
       "      <td>None</td>\n",
       "      <td>None</td>\n",
       "      <td>False</td>\n",
       "      <td>3.94</td>\n",
       "      <td>4.76</td>\n",
       "      <td>5.77</td>\n",
       "      <td>8.29</td>\n",
       "      <td>7.81</td>\n",
       "      <td>9.99</td>\n",
       "    </tr>\n",
       "  </tbody>\n",
       "</table>\n",
       "<p>1 rows × 43 columns</p>\n",
       "</div>"
      ],
      "text/plain": [
       "      parent        lat        lon        name location_type  pm_2.5  temp_f  \\\n",
       "id                                                                             \n",
       "27395   None  30.285069 -97.732877  PA_II_D8B6       outside     3.7    82.0   \n",
       "\n",
       "          temp_c  humidity  pressure  ... last_update_check created uptime  \\\n",
       "id                                    ...                                    \n",
       "27395  27.777778      66.0    995.25  ...              None    None   None   \n",
       "\n",
       "      is_owner 10min_avg 30min_avg 1hour_avg 6hour_avg 1day_avg 1week_avg  \n",
       "id                                                                         \n",
       "27395    False      3.94      4.76      5.77      8.29     7.81      9.99  \n",
       "\n",
       "[1 rows x 43 columns]"
      ]
     },
     "execution_count": 12,
     "metadata": {},
     "output_type": "execute_result"
    }
   ],
   "source": [
    "df[df['name'] == \"PA_II_D8B6\"]"
   ]
  },
  {
   "cell_type": "markdown",
   "metadata": {
    "cell_id": "00016-838fd8e1-1a2e-4392-b75e-d820fdf29461",
    "deepnote_cell_type": "markdown",
    "tags": []
   },
   "source": [
    "<br>\n",
    "\n",
    "The row above gives us loads of information on the state of the AQI in the UT Stadium at the present moment, but it would be nice to see the AQI information over time. In the cell below, we create a dataframe that contains information about the UT Stadium sensor roughly over the last 7 days. \n",
    "\n",
    "**Run the cell below to output the dataframe!**"
   ]
  },
  {
   "cell_type": "code",
   "execution_count": null,
   "metadata": {
    "cell_id": "00014-ed8e6552-f8e9-41aa-a0b7-63fa69604726",
    "deepnote_cell_type": "code",
    "deepnote_to_be_reexecuted": false,
    "execution_millis": 2171,
    "execution_start": 1633062989568,
    "source_hash": "4537611e",
    "tags": []
   },
   "outputs": [
    {
     "data": {
      "application/vnd.deepnote.dataframe.v2+json": {
       "column_count": 9,
       "columns": [
        {
         "dtype": "datetime64[ns, UTC]",
         "name": "created_at",
         "stats": {
          "histogram": [
           {
            "bin_end": 1632502078900000000,
            "bin_start": 1632441601000000000,
            "count": 504
           },
           {
            "bin_end": 1632562556800000000,
            "bin_start": 1632502078900000000,
            "count": 504
           },
           {
            "bin_end": 1632623034700000000,
            "bin_start": 1632562556800000000,
            "count": 423
           },
           {
            "bin_end": 1632683512600000000,
            "bin_start": 1632623034700000000,
            "count": 330
           },
           {
            "bin_end": 1632743990500000000,
            "bin_start": 1632683512600000000,
            "count": 368
           },
           {
            "bin_end": 1632804468400000000,
            "bin_start": 1632743990500000000,
            "count": 378
           },
           {
            "bin_end": 1632864946300000000,
            "bin_start": 1632804468400000000,
            "count": 374
           },
           {
            "bin_end": 1632925424200000000,
            "bin_start": 1632864946300000000,
            "count": 356
           },
           {
            "bin_end": 1632985902100000000,
            "bin_start": 1632925424200000000,
            "count": 372
           },
           {
            "bin_end": 1633046380000000000,
            "bin_start": 1632985902100000000,
            "count": 370
           }
          ],
          "max": "2021-09-30 23:59:40+00:00",
          "min": "2021-09-24 00:00:01+00:00",
          "nan_count": 0,
          "unique_count": 3979
         }
        },
        {
         "dtype": "float64",
         "name": "0.3um/dl",
         "stats": {
          "histogram": [
           {
            "bin_end": 1438.447,
            "bin_start": 128.33,
            "count": 2976
           },
           {
            "bin_end": 2748.564,
            "bin_start": 1438.447,
            "count": 981
           },
           {
            "bin_end": 4058.6809999999996,
            "bin_start": 2748.564,
            "count": 13
           },
           {
            "bin_end": 5368.798,
            "bin_start": 4058.6809999999996,
            "count": 5
           },
           {
            "bin_end": 6678.915,
            "bin_start": 5368.798,
            "count": 2
           },
           {
            "bin_end": 7989.031999999999,
            "bin_start": 6678.915,
            "count": 0
           },
           {
            "bin_end": 9299.149,
            "bin_start": 7989.031999999999,
            "count": 0
           },
           {
            "bin_end": 10609.266,
            "bin_start": 9299.149,
            "count": 0
           },
           {
            "bin_end": 11919.383,
            "bin_start": 10609.266,
            "count": 1
           },
           {
            "bin_end": 13229.5,
            "bin_start": 11919.383,
            "count": 1
           }
          ],
          "max": "13229.5",
          "min": "128.33",
          "nan_count": 0,
          "unique_count": 3898
         }
        },
        {
         "dtype": "float64",
         "name": "0.5um/dl",
         "stats": {
          "histogram": [
           {
            "bin_end": 406.438,
            "bin_start": 35.03,
            "count": 3030
           },
           {
            "bin_end": 777.846,
            "bin_start": 406.438,
            "count": 929
           },
           {
            "bin_end": 1149.2540000000001,
            "bin_start": 777.846,
            "count": 11
           },
           {
            "bin_end": 1520.662,
            "bin_start": 1149.2540000000001,
            "count": 5
           },
           {
            "bin_end": 1892.07,
            "bin_start": 1520.662,
            "count": 1
           },
           {
            "bin_end": 2263.4780000000005,
            "bin_start": 1892.07,
            "count": 1
           },
           {
            "bin_end": 2634.8860000000004,
            "bin_start": 2263.4780000000005,
            "count": 0
           },
           {
            "bin_end": 3006.2940000000003,
            "bin_start": 2634.8860000000004,
            "count": 0
           },
           {
            "bin_end": 3377.702,
            "bin_start": 3006.2940000000003,
            "count": 1
           },
           {
            "bin_end": 3749.11,
            "bin_start": 3377.702,
            "count": 1
           }
          ],
          "max": "3749.11",
          "min": "35.03",
          "nan_count": 0,
          "unique_count": 3759
         }
        },
        {
         "dtype": "float64",
         "name": "1.0um/dl",
         "stats": {
          "histogram": [
           {
            "bin_end": 65.97999999999999,
            "bin_start": 6.93,
            "count": 3472
           },
           {
            "bin_end": 125.03,
            "bin_start": 65.97999999999999,
            "count": 494
           },
           {
            "bin_end": 184.07999999999998,
            "bin_start": 125.03,
            "count": 6
           },
           {
            "bin_end": 243.13,
            "bin_start": 184.07999999999998,
            "count": 1
           },
           {
            "bin_end": 302.18,
            "bin_start": 243.13,
            "count": 1
           },
           {
            "bin_end": 361.22999999999996,
            "bin_start": 302.18,
            "count": 1
           },
           {
            "bin_end": 420.28,
            "bin_start": 361.22999999999996,
            "count": 2
           },
           {
            "bin_end": 479.33,
            "bin_start": 420.28,
            "count": 0
           },
           {
            "bin_end": 538.3799999999999,
            "bin_start": 479.33,
            "count": 0
           },
           {
            "bin_end": 597.43,
            "bin_start": 538.3799999999999,
            "count": 2
           }
          ],
          "max": "597.43",
          "min": "6.93",
          "nan_count": 0,
          "unique_count": 2598
         }
        },
        {
         "dtype": "float64",
         "name": "2.5um/dl",
         "stats": {
          "histogram": [
           {
            "bin_end": 7.767,
            "bin_start": 0,
            "count": 3842
           },
           {
            "bin_end": 15.534,
            "bin_start": 7.767,
            "count": 130
           },
           {
            "bin_end": 23.301000000000002,
            "bin_start": 15.534,
            "count": 3
           },
           {
            "bin_end": 31.068,
            "bin_start": 23.301000000000002,
            "count": 0
           },
           {
            "bin_end": 38.835,
            "bin_start": 31.068,
            "count": 1
           },
           {
            "bin_end": 46.602000000000004,
            "bin_start": 38.835,
            "count": 1
           },
           {
            "bin_end": 54.369,
            "bin_start": 46.602000000000004,
            "count": 1
           },
           {
            "bin_end": 62.136,
            "bin_start": 54.369,
            "count": 0
           },
           {
            "bin_end": 69.903,
            "bin_start": 62.136,
            "count": 0
           },
           {
            "bin_end": 77.67,
            "bin_start": 69.903,
            "count": 1
           }
          ],
          "max": "77.67",
          "min": "0.0",
          "nan_count": 0,
          "unique_count": 763
         }
        },
        {
         "dtype": "float64",
         "name": "5.0um/dl",
         "stats": {
          "histogram": [
           {
            "bin_end": 1.6420000000000001,
            "bin_start": 0,
            "count": 3715
           },
           {
            "bin_end": 3.2840000000000003,
            "bin_start": 1.6420000000000001,
            "count": 254
           },
           {
            "bin_end": 4.926,
            "bin_start": 3.2840000000000003,
            "count": 6
           },
           {
            "bin_end": 6.5680000000000005,
            "bin_start": 4.926,
            "count": 1
           },
           {
            "bin_end": 8.21,
            "bin_start": 6.5680000000000005,
            "count": 0
           },
           {
            "bin_end": 9.852,
            "bin_start": 8.21,
            "count": 1
           },
           {
            "bin_end": 11.494000000000002,
            "bin_start": 9.852,
            "count": 1
           },
           {
            "bin_end": 13.136000000000001,
            "bin_start": 11.494000000000002,
            "count": 0
           },
           {
            "bin_end": 14.778,
            "bin_start": 13.136000000000001,
            "count": 0
           },
           {
            "bin_end": 16.42,
            "bin_start": 14.778,
            "count": 1
           }
          ],
          "max": "16.42",
          "min": "0.0",
          "nan_count": 0,
          "unique_count": 255
         }
        },
        {
         "dtype": "float64",
         "name": "10.0um/dl",
         "stats": {
          "histogram": [
           {
            "bin_end": 0.593,
            "bin_start": 0,
            "count": 3552
           },
           {
            "bin_end": 1.186,
            "bin_start": 0.593,
            "count": 354
           },
           {
            "bin_end": 1.779,
            "bin_start": 1.186,
            "count": 66
           },
           {
            "bin_end": 2.372,
            "bin_start": 1.779,
            "count": 3
           },
           {
            "bin_end": 2.965,
            "bin_start": 2.372,
            "count": 1
           },
           {
            "bin_end": 3.558,
            "bin_start": 2.965,
            "count": 1
           },
           {
            "bin_end": 4.151,
            "bin_start": 3.558,
            "count": 1
           },
           {
            "bin_end": 4.744,
            "bin_start": 4.151,
            "count": 0
           },
           {
            "bin_end": 5.337,
            "bin_start": 4.744,
            "count": 0
           },
           {
            "bin_end": 5.93,
            "bin_start": 5.337,
            "count": 1
           }
          ],
          "max": "5.93",
          "min": "0.0",
          "nan_count": 0,
          "unique_count": 147
         }
        },
        {
         "dtype": "float64",
         "name": "PM1.0 (CF=ATM) ug/m3",
         "stats": {
          "histogram": [
           {
            "bin_end": 5.061,
            "bin_start": 0,
            "count": 1564
           },
           {
            "bin_end": 10.122,
            "bin_start": 5.061,
            "count": 2130
           },
           {
            "bin_end": 15.183,
            "bin_start": 10.122,
            "count": 265
           },
           {
            "bin_end": 20.244,
            "bin_start": 15.183,
            "count": 12
           },
           {
            "bin_end": 25.305,
            "bin_start": 20.244,
            "count": 5
           },
           {
            "bin_end": 30.366,
            "bin_start": 25.305,
            "count": 1
           },
           {
            "bin_end": 35.427,
            "bin_start": 30.366,
            "count": 0
           },
           {
            "bin_end": 40.488,
            "bin_start": 35.427,
            "count": 0
           },
           {
            "bin_end": 45.549,
            "bin_start": 40.488,
            "count": 1
           },
           {
            "bin_end": 50.61,
            "bin_start": 45.549,
            "count": 1
           }
          ],
          "max": "50.61",
          "min": "0.0",
          "nan_count": 0,
          "unique_count": 1032
         }
        },
        {
         "dtype": "float64",
         "name": "PM10 (CF=ATM) ug/m3",
         "stats": {
          "histogram": [
           {
            "bin_end": 8.341,
            "bin_start": 0.33,
            "count": 1970
           },
           {
            "bin_end": 16.351999999999997,
            "bin_start": 8.341,
            "count": 1769
           },
           {
            "bin_end": 24.362999999999996,
            "bin_start": 16.351999999999997,
            "count": 223
           },
           {
            "bin_end": 32.373999999999995,
            "bin_start": 24.362999999999996,
            "count": 9
           },
           {
            "bin_end": 40.38499999999999,
            "bin_start": 32.373999999999995,
            "count": 2
           },
           {
            "bin_end": 48.395999999999994,
            "bin_start": 40.38499999999999,
            "count": 1
           },
           {
            "bin_end": 56.407,
            "bin_start": 48.395999999999994,
            "count": 2
           },
           {
            "bin_end": 64.41799999999999,
            "bin_start": 56.407,
            "count": 0
           },
           {
            "bin_end": 72.42899999999999,
            "bin_start": 64.41799999999999,
            "count": 2
           },
           {
            "bin_end": 80.44,
            "bin_start": 72.42899999999999,
            "count": 1
           }
          ],
          "max": "80.44",
          "min": "0.33",
          "nan_count": 0,
          "unique_count": 1350
         }
        },
        {
         "dtype": "int64",
         "name": "_deepnote_index_column"
        }
       ],
       "row_count": 3979,
       "rows_bottom": [
        {
         "0.3um/dl": 1424.79,
         "0.5um/dl": 412.09,
         "1.0um/dl": 73.52,
         "10.0um/dl": 0,
         "2.5um/dl": 5.76,
         "5.0um/dl": 0.52,
         "PM1.0 (CF=ATM) ug/m3": 7.28,
         "PM10 (CF=ATM) ug/m3": 11.9,
         "_deepnote_index_column": 518711,
         "created_at": "2021-09-30T21:37:35.000000"
        },
        {
         "0.3um/dl": 1559.73,
         "0.5um/dl": 438.75,
         "1.0um/dl": 78.29,
         "10.0um/dl": 0,
         "2.5um/dl": 4.44,
         "5.0um/dl": 1.27,
         "PM1.0 (CF=ATM) ug/m3": 7.67,
         "PM10 (CF=ATM) ug/m3": 12.51,
         "_deepnote_index_column": 518712,
         "created_at": "2021-09-30T21:41:34.000000"
        },
        {
         "0.3um/dl": 1569.91,
         "0.5um/dl": 439.88,
         "1.0um/dl": 84.82,
         "10.0um/dl": 0.43,
         "2.5um/dl": 5.43,
         "5.0um/dl": 0.54,
         "PM1.0 (CF=ATM) ug/m3": 7.55,
         "PM10 (CF=ATM) ug/m3": 12.59,
         "_deepnote_index_column": 518713,
         "created_at": "2021-09-30T21:43:41.000000"
        },
        {
         "0.3um/dl": 1569.16,
         "0.5um/dl": 441.66,
         "1.0um/dl": 76.45,
         "10.0um/dl": 0,
         "2.5um/dl": 3.66,
         "5.0um/dl": 0,
         "PM1.0 (CF=ATM) ug/m3": 7.62,
         "PM10 (CF=ATM) ug/m3": 12,
         "_deepnote_index_column": 518714,
         "created_at": "2021-09-30T21:45:35.000000"
        },
        {
         "0.3um/dl": 1558.5,
         "0.5um/dl": 445.96,
         "1.0um/dl": 81.15,
         "10.0um/dl": 1.26,
         "2.5um/dl": 4.22,
         "5.0um/dl": 2.19,
         "PM1.0 (CF=ATM) ug/m3": 7.81,
         "PM10 (CF=ATM) ug/m3": 13.96,
         "_deepnote_index_column": 518715,
         "created_at": "2021-09-30T21:47:36.000000"
        },
        {
         "0.3um/dl": 1471.45,
         "0.5um/dl": 419.53,
         "1.0um/dl": 78.28,
         "10.0um/dl": 0.52,
         "2.5um/dl": 4.66,
         "5.0um/dl": 0.52,
         "PM1.0 (CF=ATM) ug/m3": 7.38,
         "PM10 (CF=ATM) ug/m3": 12.19,
         "_deepnote_index_column": 518716,
         "created_at": "2021-09-30T21:49:35.000000"
        },
        {
         "0.3um/dl": 1535.3,
         "0.5um/dl": 439.23,
         "1.0um/dl": 79.63,
         "10.0um/dl": 0.5,
         "2.5um/dl": 5.4,
         "5.0um/dl": 0.97,
         "PM1.0 (CF=ATM) ug/m3": 7.48,
         "PM10 (CF=ATM) ug/m3": 12.85,
         "_deepnote_index_column": 518717,
         "created_at": "2021-09-30T21:51:35.000000"
        },
        {
         "0.3um/dl": 1560.26,
         "0.5um/dl": 451.36,
         "1.0um/dl": 93.41,
         "10.0um/dl": 0.17,
         "2.5um/dl": 7.07,
         "5.0um/dl": 0.97,
         "PM1.0 (CF=ATM) ug/m3": 7.33,
         "PM10 (CF=ATM) ug/m3": 14.02,
         "_deepnote_index_column": 518718,
         "created_at": "2021-09-30T21:57:36.000000"
        },
        {
         "0.3um/dl": 1448.79,
         "0.5um/dl": 419.45,
         "1.0um/dl": 78,
         "10.0um/dl": 0.66,
         "2.5um/dl": 5.28,
         "5.0um/dl": 1.41,
         "PM1.0 (CF=ATM) ug/m3": 6.79,
         "PM10 (CF=ATM) ug/m3": 11.95,
         "_deepnote_index_column": 518719,
         "created_at": "2021-09-30T21:59:39.000000"
        },
        {
         "0.3um/dl": 1386.84,
         "0.5um/dl": 395.67,
         "1.0um/dl": 63.51,
         "10.0um/dl": 1.05,
         "2.5um/dl": 2.04,
         "5.0um/dl": 1.05,
         "PM1.0 (CF=ATM) ug/m3": 7.11,
         "PM10 (CF=ATM) ug/m3": 10.79,
         "_deepnote_index_column": 518720,
         "created_at": "2021-09-30T22:01:36.000000"
        },
        {
         "0.3um/dl": 1382.62,
         "0.5um/dl": 393.14,
         "1.0um/dl": 72.82,
         "10.0um/dl": 0.04,
         "2.5um/dl": 5.07,
         "5.0um/dl": 0.86,
         "PM1.0 (CF=ATM) ug/m3": 6.7,
         "PM10 (CF=ATM) ug/m3": 10.86,
         "_deepnote_index_column": 518721,
         "created_at": "2021-09-30T22:03:33.000000"
        },
        {
         "0.3um/dl": 1448.21,
         "0.5um/dl": 422.44,
         "1.0um/dl": 81.26,
         "10.0um/dl": 0.32,
         "2.5um/dl": 4.84,
         "5.0um/dl": 0.32,
         "PM1.0 (CF=ATM) ug/m3": 7.02,
         "PM10 (CF=ATM) ug/m3": 12.49,
         "_deepnote_index_column": 518722,
         "created_at": "2021-09-30T22:05:39.000000"
        },
        {
         "0.3um/dl": 1393.03,
         "0.5um/dl": 405.97,
         "1.0um/dl": 71.59,
         "10.0um/dl": 0.41,
         "2.5um/dl": 6.59,
         "5.0um/dl": 1.34,
         "PM1.0 (CF=ATM) ug/m3": 6.97,
         "PM10 (CF=ATM) ug/m3": 12.33,
         "_deepnote_index_column": 518723,
         "created_at": "2021-09-30T22:07:40.000000"
        },
        {
         "0.3um/dl": 1405.34,
         "0.5um/dl": 404.33,
         "1.0um/dl": 72.79,
         "10.0um/dl": 0.31,
         "2.5um/dl": 5.24,
         "5.0um/dl": 0.48,
         "PM1.0 (CF=ATM) ug/m3": 6.62,
         "PM10 (CF=ATM) ug/m3": 11.91,
         "_deepnote_index_column": 518724,
         "created_at": "2021-09-30T22:09:33.000000"
        },
        {
         "0.3um/dl": 1328.62,
         "0.5um/dl": 384.65,
         "1.0um/dl": 65.05,
         "10.0um/dl": 0,
         "2.5um/dl": 1.82,
         "5.0um/dl": 0.18,
         "PM1.0 (CF=ATM) ug/m3": 6.45,
         "PM10 (CF=ATM) ug/m3": 10.15,
         "_deepnote_index_column": 518725,
         "created_at": "2021-09-30T22:11:35.000000"
        },
        {
         "0.3um/dl": 1362.21,
         "0.5um/dl": 395.59,
         "1.0um/dl": 69.46,
         "10.0um/dl": 0,
         "2.5um/dl": 2.43,
         "5.0um/dl": 0,
         "PM1.0 (CF=ATM) ug/m3": 6.64,
         "PM10 (CF=ATM) ug/m3": 10.54,
         "_deepnote_index_column": 518726,
         "created_at": "2021-09-30T22:13:36.000000"
        },
        {
         "0.3um/dl": 1354.73,
         "0.5um/dl": 386.8,
         "1.0um/dl": 66.03,
         "10.0um/dl": 0.34,
         "2.5um/dl": 4.95,
         "5.0um/dl": 1.29,
         "PM1.0 (CF=ATM) ug/m3": 6.63,
         "PM10 (CF=ATM) ug/m3": 11.15,
         "_deepnote_index_column": 518727,
         "created_at": "2021-09-30T22:17:35.000000"
        },
        {
         "0.3um/dl": 1392.49,
         "0.5um/dl": 407.44,
         "1.0um/dl": 78.91,
         "10.0um/dl": 0,
         "2.5um/dl": 5.56,
         "5.0um/dl": 0.58,
         "PM1.0 (CF=ATM) ug/m3": 6.47,
         "PM10 (CF=ATM) ug/m3": 12.07,
         "_deepnote_index_column": 518728,
         "created_at": "2021-09-30T22:19:36.000000"
        },
        {
         "0.3um/dl": 1359.1,
         "0.5um/dl": 390.64,
         "1.0um/dl": 70.03,
         "10.0um/dl": 0,
         "2.5um/dl": 3.48,
         "5.0um/dl": 0.34,
         "PM1.0 (CF=ATM) ug/m3": 6.86,
         "PM10 (CF=ATM) ug/m3": 10.62,
         "_deepnote_index_column": 518729,
         "created_at": "2021-09-30T22:25:35.000000"
        },
        {
         "0.3um/dl": 1429.55,
         "0.5um/dl": 418.64,
         "1.0um/dl": 80.55,
         "10.0um/dl": 0,
         "2.5um/dl": 2.59,
         "5.0um/dl": 0,
         "PM1.0 (CF=ATM) ug/m3": 7.29,
         "PM10 (CF=ATM) ug/m3": 11.81,
         "_deepnote_index_column": 518730,
         "created_at": "2021-09-30T22:27:36.000000"
        },
        {
         "0.3um/dl": 1734.2,
         "0.5um/dl": 489.29,
         "1.0um/dl": 86.37,
         "10.0um/dl": 0.51,
         "2.5um/dl": 5.08,
         "5.0um/dl": 0.51,
         "PM1.0 (CF=ATM) ug/m3": 8.63,
         "PM10 (CF=ATM) ug/m3": 13.86,
         "_deepnote_index_column": 518731,
         "created_at": "2021-09-30T22:31:35.000000"
        },
        {
         "0.3um/dl": 1450.95,
         "0.5um/dl": 414.87,
         "1.0um/dl": 71.68,
         "10.0um/dl": 0.67,
         "2.5um/dl": 3.6,
         "5.0um/dl": 0.83,
         "PM1.0 (CF=ATM) ug/m3": 6.8,
         "PM10 (CF=ATM) ug/m3": 11.48,
         "_deepnote_index_column": 518732,
         "created_at": "2021-09-30T22:33:36.000000"
        },
        {
         "0.3um/dl": 1386.26,
         "0.5um/dl": 397.68,
         "1.0um/dl": 70.67,
         "10.0um/dl": 0.53,
         "2.5um/dl": 3.96,
         "5.0um/dl": 1.3,
         "PM1.0 (CF=ATM) ug/m3": 6.7,
         "PM10 (CF=ATM) ug/m3": 11.54,
         "_deepnote_index_column": 518733,
         "created_at": "2021-09-30T22:35:36.000000"
        },
        {
         "0.3um/dl": 1357.32,
         "0.5um/dl": 384.84,
         "1.0um/dl": 66.49,
         "10.0um/dl": 0.39,
         "2.5um/dl": 2.84,
         "5.0um/dl": 0.53,
         "PM1.0 (CF=ATM) ug/m3": 6.72,
         "PM10 (CF=ATM) ug/m3": 10.86,
         "_deepnote_index_column": 518734,
         "created_at": "2021-09-30T22:39:35.000000"
        },
        {
         "0.3um/dl": 1395,
         "0.5um/dl": 393,
         "1.0um/dl": 65.34,
         "10.0um/dl": 0.59,
         "2.5um/dl": 3.62,
         "5.0um/dl": 1.34,
         "PM1.0 (CF=ATM) ug/m3": 6.66,
         "PM10 (CF=ATM) ug/m3": 11.45,
         "_deepnote_index_column": 518735,
         "created_at": "2021-09-30T22:41:33.000000"
        },
        {
         "0.3um/dl": 1310.69,
         "0.5um/dl": 366.64,
         "1.0um/dl": 55.79,
         "10.0um/dl": 0.31,
         "2.5um/dl": 5.24,
         "5.0um/dl": 1.52,
         "PM1.0 (CF=ATM) ug/m3": 6.19,
         "PM10 (CF=ATM) ug/m3": 10.22,
         "_deepnote_index_column": 518736,
         "created_at": "2021-09-30T22:43:33.000000"
        },
        {
         "0.3um/dl": 1354.36,
         "0.5um/dl": 382.07,
         "1.0um/dl": 77.07,
         "10.0um/dl": 0,
         "2.5um/dl": 4.29,
         "5.0um/dl": 0.22,
         "PM1.0 (CF=ATM) ug/m3": 6.44,
         "PM10 (CF=ATM) ug/m3": 10.98,
         "_deepnote_index_column": 518737,
         "created_at": "2021-09-30T22:45:34.000000"
        },
        {
         "0.3um/dl": 1339.47,
         "0.5um/dl": 386.72,
         "1.0um/dl": 67.44,
         "10.0um/dl": 0,
         "2.5um/dl": 4,
         "5.0um/dl": 0.25,
         "PM1.0 (CF=ATM) ug/m3": 6.51,
         "PM10 (CF=ATM) ug/m3": 10.89,
         "_deepnote_index_column": 518738,
         "created_at": "2021-09-30T22:49:34.000000"
        },
        {
         "0.3um/dl": 1313.85,
         "0.5um/dl": 381.37,
         "1.0um/dl": 61.66,
         "10.0um/dl": 0.17,
         "2.5um/dl": 3.39,
         "5.0um/dl": 0.34,
         "PM1.0 (CF=ATM) ug/m3": 6.39,
         "PM10 (CF=ATM) ug/m3": 9.85,
         "_deepnote_index_column": 518739,
         "created_at": "2021-09-30T22:53:36.000000"
        },
        {
         "0.3um/dl": 1315.37,
         "0.5um/dl": 376.23,
         "1.0um/dl": 68.88,
         "10.0um/dl": 0,
         "2.5um/dl": 3.37,
         "5.0um/dl": 0.46,
         "PM1.0 (CF=ATM) ug/m3": 6.47,
         "PM10 (CF=ATM) ug/m3": 10.4,
         "_deepnote_index_column": 518740,
         "created_at": "2021-09-30T22:57:40.000000"
        },
        {
         "0.3um/dl": 1155.27,
         "0.5um/dl": 327.58,
         "1.0um/dl": 62.33,
         "10.0um/dl": 0,
         "2.5um/dl": 2.95,
         "5.0um/dl": 1.02,
         "PM1.0 (CF=ATM) ug/m3": 5.33,
         "PM10 (CF=ATM) ug/m3": 9.47,
         "_deepnote_index_column": 518741,
         "created_at": "2021-09-30T22:59:40.000000"
        },
        {
         "0.3um/dl": 1002.05,
         "0.5um/dl": 286.59,
         "1.0um/dl": 48.24,
         "10.0um/dl": 0,
         "2.5um/dl": 2,
         "5.0um/dl": 0.95,
         "PM1.0 (CF=ATM) ug/m3": 4.71,
         "PM10 (CF=ATM) ug/m3": 7.83,
         "_deepnote_index_column": 518742,
         "created_at": "2021-09-30T23:01:36.000000"
        },
        {
         "0.3um/dl": 1037.8,
         "0.5um/dl": 288.49,
         "1.0um/dl": 54.78,
         "10.0um/dl": 0,
         "2.5um/dl": 3.42,
         "5.0um/dl": 0.17,
         "PM1.0 (CF=ATM) ug/m3": 4.64,
         "PM10 (CF=ATM) ug/m3": 8.25,
         "_deepnote_index_column": 518743,
         "created_at": "2021-09-30T23:03:34.000000"
        },
        {
         "0.3um/dl": 1005.41,
         "0.5um/dl": 286.93,
         "1.0um/dl": 56,
         "10.0um/dl": 0,
         "2.5um/dl": 4.72,
         "5.0um/dl": 0.93,
         "PM1.0 (CF=ATM) ug/m3": 4.67,
         "PM10 (CF=ATM) ug/m3": 8.83,
         "_deepnote_index_column": 518744,
         "created_at": "2021-09-30T23:05:36.000000"
        },
        {
         "0.3um/dl": 1147.82,
         "0.5um/dl": 325.45,
         "1.0um/dl": 66,
         "10.0um/dl": 0,
         "2.5um/dl": 8.64,
         "5.0um/dl": 1.93,
         "PM1.0 (CF=ATM) ug/m3": 5.38,
         "PM10 (CF=ATM) ug/m3": 11.09,
         "_deepnote_index_column": 518745,
         "created_at": "2021-09-30T23:07:36.000000"
        },
        {
         "0.3um/dl": 1055.33,
         "0.5um/dl": 301.59,
         "1.0um/dl": 61.69,
         "10.0um/dl": 0.41,
         "2.5um/dl": 2.9,
         "5.0um/dl": 0.41,
         "PM1.0 (CF=ATM) ug/m3": 4.81,
         "PM10 (CF=ATM) ug/m3": 8.64,
         "_deepnote_index_column": 518746,
         "created_at": "2021-09-30T23:10:08.000000"
        },
        {
         "0.3um/dl": 928.27,
         "0.5um/dl": 271.07,
         "1.0um/dl": 45.56,
         "10.0um/dl": 0.85,
         "2.5um/dl": 5.25,
         "5.0um/dl": 0.85,
         "PM1.0 (CF=ATM) ug/m3": 4.53,
         "PM10 (CF=ATM) ug/m3": 8.37,
         "_deepnote_index_column": 518747,
         "created_at": "2021-09-30T23:11:34.000000"
        },
        {
         "0.3um/dl": 1009.36,
         "0.5um/dl": 289.25,
         "1.0um/dl": 49.31,
         "10.0um/dl": 0,
         "2.5um/dl": 3.49,
         "5.0um/dl": 0.29,
         "PM1.0 (CF=ATM) ug/m3": 4.93,
         "PM10 (CF=ATM) ug/m3": 7.98,
         "_deepnote_index_column": 518748,
         "created_at": "2021-09-30T23:15:45.000000"
        },
        {
         "0.3um/dl": 913.45,
         "0.5um/dl": 259.04,
         "1.0um/dl": 48.5,
         "10.0um/dl": 0.5,
         "2.5um/dl": 6.18,
         "5.0um/dl": 1.07,
         "PM1.0 (CF=ATM) ug/m3": 4.14,
         "PM10 (CF=ATM) ug/m3": 8.45,
         "_deepnote_index_column": 518749,
         "created_at": "2021-09-30T23:17:40.000000"
        },
        {
         "0.3um/dl": 936.15,
         "0.5um/dl": 269.42,
         "1.0um/dl": 42.87,
         "10.0um/dl": 0,
         "2.5um/dl": 2.93,
         "5.0um/dl": 0.27,
         "PM1.0 (CF=ATM) ug/m3": 4.53,
         "PM10 (CF=ATM) ug/m3": 7.2,
         "_deepnote_index_column": 518750,
         "created_at": "2021-09-30T23:19:34.000000"
        },
        {
         "0.3um/dl": 945.86,
         "0.5um/dl": 265.07,
         "1.0um/dl": 46.43,
         "10.0um/dl": 0,
         "2.5um/dl": 2.71,
         "5.0um/dl": 0.89,
         "PM1.0 (CF=ATM) ug/m3": 4.32,
         "PM10 (CF=ATM) ug/m3": 7.38,
         "_deepnote_index_column": 518751,
         "created_at": "2021-09-30T23:23:36.000000"
        },
        {
         "0.3um/dl": 1053.05,
         "0.5um/dl": 294.24,
         "1.0um/dl": 53.42,
         "10.0um/dl": 0,
         "2.5um/dl": 4.51,
         "5.0um/dl": 0.8,
         "PM1.0 (CF=ATM) ug/m3": 4.95,
         "PM10 (CF=ATM) ug/m3": 8.53,
         "_deepnote_index_column": 518752,
         "created_at": "2021-09-30T23:25:40.000000"
        },
        {
         "0.3um/dl": 1014.95,
         "0.5um/dl": 288.65,
         "1.0um/dl": 52.07,
         "10.0um/dl": 0,
         "2.5um/dl": 6.43,
         "5.0um/dl": 0.97,
         "PM1.0 (CF=ATM) ug/m3": 4.77,
         "PM10 (CF=ATM) ug/m3": 9.05,
         "_deepnote_index_column": 518753,
         "created_at": "2021-09-30T23:27:42.000000"
        },
        {
         "0.3um/dl": 999.41,
         "0.5um/dl": 286.98,
         "1.0um/dl": 51.22,
         "10.0um/dl": 0,
         "2.5um/dl": 4.68,
         "5.0um/dl": 0,
         "PM1.0 (CF=ATM) ug/m3": 4.8,
         "PM10 (CF=ATM) ug/m3": 8.31,
         "_deepnote_index_column": 518754,
         "created_at": "2021-09-30T23:29:37.000000"
        },
        {
         "0.3um/dl": 1081.31,
         "0.5um/dl": 305.15,
         "1.0um/dl": 57.38,
         "10.0um/dl": 0.18,
         "2.5um/dl": 4.8,
         "5.0um/dl": 1.56,
         "PM1.0 (CF=ATM) ug/m3": 5.31,
         "PM10 (CF=ATM) ug/m3": 9.87,
         "_deepnote_index_column": 518755,
         "created_at": "2021-09-30T23:33:41.000000"
        },
        {
         "0.3um/dl": 1031.17,
         "0.5um/dl": 278.43,
         "1.0um/dl": 61.21,
         "10.0um/dl": 0.79,
         "2.5um/dl": 6.52,
         "5.0um/dl": 2.28,
         "PM1.0 (CF=ATM) ug/m3": 4.52,
         "PM10 (CF=ATM) ug/m3": 10.12,
         "_deepnote_index_column": 518756,
         "created_at": "2021-09-30T23:35:36.000000"
        },
        {
         "0.3um/dl": 1024.22,
         "0.5um/dl": 287.75,
         "1.0um/dl": 56.61,
         "10.0um/dl": 0.92,
         "2.5um/dl": 6.14,
         "5.0um/dl": 1.83,
         "PM1.0 (CF=ATM) ug/m3": 4.68,
         "PM10 (CF=ATM) ug/m3": 10.24,
         "_deepnote_index_column": 518757,
         "created_at": "2021-09-30T23:37:54.000000"
        },
        {
         "0.3um/dl": 992.95,
         "0.5um/dl": 271.37,
         "1.0um/dl": 55.53,
         "10.0um/dl": 0.43,
         "2.5um/dl": 5.53,
         "5.0um/dl": 1.3,
         "PM1.0 (CF=ATM) ug/m3": 4.38,
         "PM10 (CF=ATM) ug/m3": 8.92,
         "_deepnote_index_column": 518758,
         "created_at": "2021-09-30T23:39:35.000000"
        },
        {
         "0.3um/dl": 1047.6,
         "0.5um/dl": 294.47,
         "1.0um/dl": 54.62,
         "10.0um/dl": 0,
         "2.5um/dl": 4.73,
         "5.0um/dl": 0.98,
         "PM1.0 (CF=ATM) ug/m3": 4.89,
         "PM10 (CF=ATM) ug/m3": 8.64,
         "_deepnote_index_column": 518759,
         "created_at": "2021-09-30T23:41:41.000000"
        },
        {
         "0.3um/dl": 1065.11,
         "0.5um/dl": 310.63,
         "1.0um/dl": 60.07,
         "10.0um/dl": 0.35,
         "2.5um/dl": 3.72,
         "5.0um/dl": 0.35,
         "PM1.0 (CF=ATM) ug/m3": 5.04,
         "PM10 (CF=ATM) ug/m3": 9.3,
         "_deepnote_index_column": 518760,
         "created_at": "2021-09-30T23:43:54.000000"
        },
        {
         "0.3um/dl": 939.41,
         "0.5um/dl": 264.81,
         "1.0um/dl": 48.9,
         "10.0um/dl": 0.45,
         "2.5um/dl": 2.86,
         "5.0um/dl": 0.93,
         "PM1.0 (CF=ATM) ug/m3": 4.34,
         "PM10 (CF=ATM) ug/m3": 7.78,
         "_deepnote_index_column": 518761,
         "created_at": "2021-09-30T23:45:37.000000"
        },
        {
         "0.3um/dl": 1082.07,
         "0.5um/dl": 306.8,
         "1.0um/dl": 50.22,
         "10.0um/dl": 0,
         "2.5um/dl": 2.91,
         "5.0um/dl": 0,
         "PM1.0 (CF=ATM) ug/m3": 5.09,
         "PM10 (CF=ATM) ug/m3": 8.29,
         "_deepnote_index_column": 518762,
         "created_at": "2021-09-30T23:47:53.000000"
        },
        {
         "0.3um/dl": 868.02,
         "0.5um/dl": 244.41,
         "1.0um/dl": 46.88,
         "10.0um/dl": 0.44,
         "2.5um/dl": 4.92,
         "5.0um/dl": 0.88,
         "PM1.0 (CF=ATM) ug/m3": 3.92,
         "PM10 (CF=ATM) ug/m3": 7.85,
         "_deepnote_index_column": 518763,
         "created_at": "2021-09-30T23:51:36.000000"
        },
        {
         "0.3um/dl": 897.21,
         "0.5um/dl": 254.12,
         "1.0um/dl": 44.32,
         "10.0um/dl": 0.46,
         "2.5um/dl": 4.53,
         "5.0um/dl": 0.81,
         "PM1.0 (CF=ATM) ug/m3": 4.07,
         "PM10 (CF=ATM) ug/m3": 7.96,
         "_deepnote_index_column": 518764,
         "created_at": "2021-09-30T23:53:37.000000"
        },
        {
         "0.3um/dl": 801.75,
         "0.5um/dl": 229.52,
         "1.0um/dl": 36.46,
         "10.0um/dl": 0,
         "2.5um/dl": 3.46,
         "5.0um/dl": 0,
         "PM1.0 (CF=ATM) ug/m3": 3.71,
         "PM10 (CF=ATM) ug/m3": 6.3,
         "_deepnote_index_column": 518765,
         "created_at": "2021-09-30T23:55:42.000000"
        },
        {
         "0.3um/dl": 916.86,
         "0.5um/dl": 261.88,
         "1.0um/dl": 46.79,
         "10.0um/dl": 0,
         "2.5um/dl": 3.52,
         "5.0um/dl": 0.45,
         "PM1.0 (CF=ATM) ug/m3": 4.22,
         "PM10 (CF=ATM) ug/m3": 7.95,
         "_deepnote_index_column": 518766,
         "created_at": "2021-09-30T23:59:40.000000"
        }
       ],
       "rows_top": [
        {
         "0.3um/dl": 860.24,
         "0.5um/dl": 237.98,
         "1.0um/dl": 33.9,
         "10.0um/dl": 0.51,
         "2.5um/dl": 5.29,
         "5.0um/dl": 2.1,
         "PM1.0 (CF=ATM) ug/m3": 3.29,
         "PM10 (CF=ATM) ug/m3": 6.73,
         "_deepnote_index_column": 514788,
         "created_at": "2021-09-24T00:00:01.000000"
        },
        {
         "0.3um/dl": 737.84,
         "0.5um/dl": 188.4,
         "1.0um/dl": 21.16,
         "10.0um/dl": 0,
         "2.5um/dl": 2.39,
         "5.0um/dl": 0.67,
         "PM1.0 (CF=ATM) ug/m3": 2.56,
         "PM10 (CF=ATM) ug/m3": 4.33,
         "_deepnote_index_column": 514789,
         "created_at": "2021-09-24T00:02:00.000000"
        },
        {
         "0.3um/dl": 740.95,
         "0.5um/dl": 190.37,
         "1.0um/dl": 21.82,
         "10.0um/dl": 0,
         "2.5um/dl": 2.18,
         "5.0um/dl": 0,
         "PM1.0 (CF=ATM) ug/m3": 2.33,
         "PM10 (CF=ATM) ug/m3": 3.93,
         "_deepnote_index_column": 514790,
         "created_at": "2021-09-24T00:04:00.000000"
        },
        {
         "0.3um/dl": 830.02,
         "0.5um/dl": 231.24,
         "1.0um/dl": 26.9,
         "10.0um/dl": 0,
         "2.5um/dl": 5.07,
         "5.0um/dl": 0,
         "PM1.0 (CF=ATM) ug/m3": 3.28,
         "PM10 (CF=ATM) ug/m3": 5.59,
         "_deepnote_index_column": 514791,
         "created_at": "2021-09-24T00:06:01.000000"
        },
        {
         "0.3um/dl": 916.63,
         "0.5um/dl": 257.17,
         "1.0um/dl": 36.1,
         "10.0um/dl": 0,
         "2.5um/dl": 2.92,
         "5.0um/dl": 1.32,
         "PM1.0 (CF=ATM) ug/m3": 4.17,
         "PM10 (CF=ATM) ug/m3": 7.1,
         "_deepnote_index_column": 514792,
         "created_at": "2021-09-24T00:07:57.000000"
        },
        {
         "0.3um/dl": 2749.68,
         "0.5um/dl": 804.61,
         "1.0um/dl": 178.16,
         "10.0um/dl": 0.84,
         "2.5um/dl": 21.02,
         "5.0um/dl": 3.4,
         "PM1.0 (CF=ATM) ug/m3": 14.11,
         "PM10 (CF=ATM) ug/m3": 29.65,
         "_deepnote_index_column": 514793,
         "created_at": "2021-09-24T00:09:57.000000"
        },
        {
         "0.3um/dl": 5093.21,
         "0.5um/dl": 1482.96,
         "1.0um/dl": 394.34,
         "10.0um/dl": 3.85,
         "2.5um/dl": 54.32,
         "5.0um/dl": 10.87,
         "PM1.0 (CF=ATM) ug/m3": 23.26,
         "PM10 (CF=ATM) ug/m3": 54.83,
         "_deepnote_index_column": 514794,
         "created_at": "2021-09-24T00:11:55.000000"
        },
        {
         "0.3um/dl": 4507.71,
         "0.5um/dl": 1309.29,
         "1.0um/dl": 338.73,
         "10.0um/dl": 3,
         "2.5um/dl": 44.18,
         "5.0um/dl": 8.21,
         "PM1.0 (CF=ATM) ug/m3": 21.75,
         "PM10 (CF=ATM) ug/m3": 50.66,
         "_deepnote_index_column": 514795,
         "created_at": "2021-09-24T00:14:10.000000"
        },
        {
         "0.3um/dl": 6571,
         "0.5um/dl": 1911.67,
         "1.0um/dl": 554.04,
         "10.0um/dl": 5.93,
         "2.5um/dl": 77.67,
         "5.0um/dl": 16.42,
         "PM1.0 (CF=ATM) ug/m3": 25.67,
         "PM10 (CF=ATM) ug/m3": 65.4,
         "_deepnote_index_column": 514796,
         "created_at": "2021-09-24T00:15:56.000000"
        },
        {
         "0.3um/dl": 1796.45,
         "0.5um/dl": 513.67,
         "1.0um/dl": 97.68,
         "10.0um/dl": 0.67,
         "2.5um/dl": 12.4,
         "5.0um/dl": 2.77,
         "PM1.0 (CF=ATM) ug/m3": 9.08,
         "PM10 (CF=ATM) ug/m3": 17.17,
         "_deepnote_index_column": 514797,
         "created_at": "2021-09-24T00:17:56.000000"
        },
        {
         "0.3um/dl": 1637.14,
         "0.5um/dl": 470.68,
         "1.0um/dl": 104.38,
         "10.0um/dl": 1.75,
         "2.5um/dl": 11.21,
         "5.0um/dl": 3.07,
         "PM1.0 (CF=ATM) ug/m3": 7.96,
         "PM10 (CF=ATM) ug/m3": 17.5,
         "_deepnote_index_column": 514798,
         "created_at": "2021-09-24T00:19:59.000000"
        },
        {
         "0.3um/dl": 1297.47,
         "0.5um/dl": 363.79,
         "1.0um/dl": 66.77,
         "10.0um/dl": 0,
         "2.5um/dl": 7.54,
         "5.0um/dl": 1.26,
         "PM1.0 (CF=ATM) ug/m3": 6.12,
         "PM10 (CF=ATM) ug/m3": 11.42,
         "_deepnote_index_column": 514799,
         "created_at": "2021-09-24T00:21:59.000000"
        },
        {
         "0.3um/dl": 1187.19,
         "0.5um/dl": 334.86,
         "1.0um/dl": 50.61,
         "10.0um/dl": 0,
         "2.5um/dl": 5.8,
         "5.0um/dl": 1.15,
         "PM1.0 (CF=ATM) ug/m3": 5.75,
         "PM10 (CF=ATM) ug/m3": 9.71,
         "_deepnote_index_column": 514800,
         "created_at": "2021-09-24T00:24:02.000000"
        },
        {
         "0.3um/dl": 1024.27,
         "0.5um/dl": 281.75,
         "1.0um/dl": 40.95,
         "10.0um/dl": 0.34,
         "2.5um/dl": 4.07,
         "5.0um/dl": 1.05,
         "PM1.0 (CF=ATM) ug/m3": 4.78,
         "PM10 (CF=ATM) ug/m3": 7.98,
         "_deepnote_index_column": 514801,
         "created_at": "2021-09-24T00:26:00.000000"
        },
        {
         "0.3um/dl": 889.32,
         "0.5um/dl": 248.95,
         "1.0um/dl": 39.33,
         "10.0um/dl": 0.46,
         "2.5um/dl": 3.16,
         "5.0um/dl": 0.46,
         "PM1.0 (CF=ATM) ug/m3": 3.68,
         "PM10 (CF=ATM) ug/m3": 6.65,
         "_deepnote_index_column": 514802,
         "created_at": "2021-09-24T00:27:59.000000"
        },
        {
         "0.3um/dl": 890.58,
         "0.5um/dl": 247.05,
         "1.0um/dl": 35.23,
         "10.0um/dl": 0.21,
         "2.5um/dl": 5.33,
         "5.0um/dl": 0.74,
         "PM1.0 (CF=ATM) ug/m3": 3.88,
         "PM10 (CF=ATM) ug/m3": 6.89,
         "_deepnote_index_column": 514803,
         "created_at": "2021-09-24T00:29:58.000000"
        },
        {
         "0.3um/dl": 901.93,
         "0.5um/dl": 248.27,
         "1.0um/dl": 29.66,
         "10.0um/dl": 0,
         "2.5um/dl": 3.42,
         "5.0um/dl": 0.85,
         "PM1.0 (CF=ATM) ug/m3": 4.07,
         "PM10 (CF=ATM) ug/m3": 6.39,
         "_deepnote_index_column": 514804,
         "created_at": "2021-09-24T00:32:02.000000"
        },
        {
         "0.3um/dl": 774.61,
         "0.5um/dl": 208.61,
         "1.0um/dl": 24.54,
         "10.0um/dl": 0.03,
         "2.5um/dl": 1.36,
         "5.0um/dl": 0.44,
         "PM1.0 (CF=ATM) ug/m3": 3.17,
         "PM10 (CF=ATM) ug/m3": 4.75,
         "_deepnote_index_column": 514805,
         "created_at": "2021-09-24T00:33:58.000000"
        },
        {
         "0.3um/dl": 822.26,
         "0.5um/dl": 222.61,
         "1.0um/dl": 30.04,
         "10.0um/dl": 0.77,
         "2.5um/dl": 2.25,
         "5.0um/dl": 0.77,
         "PM1.0 (CF=ATM) ug/m3": 3.61,
         "PM10 (CF=ATM) ug/m3": 5.96,
         "_deepnote_index_column": 514806,
         "created_at": "2021-09-24T00:36:00.000000"
        },
        {
         "0.3um/dl": 831.55,
         "0.5um/dl": 225.44,
         "1.0um/dl": 23.67,
         "10.0um/dl": 0,
         "2.5um/dl": 2.07,
         "5.0um/dl": 0.36,
         "PM1.0 (CF=ATM) ug/m3": 3.55,
         "PM10 (CF=ATM) ug/m3": 5.31,
         "_deepnote_index_column": 514807,
         "created_at": "2021-09-24T00:38:01.000000"
        },
        {
         "0.3um/dl": 784.79,
         "0.5um/dl": 215.88,
         "1.0um/dl": 31.37,
         "10.0um/dl": 0.35,
         "2.5um/dl": 1.82,
         "5.0um/dl": 0.35,
         "PM1.0 (CF=ATM) ug/m3": 3.21,
         "PM10 (CF=ATM) ug/m3": 5.23,
         "_deepnote_index_column": 514808,
         "created_at": "2021-09-24T00:39:56.000000"
        },
        {
         "0.3um/dl": 776.33,
         "0.5um/dl": 206.62,
         "1.0um/dl": 23.9,
         "10.0um/dl": 0,
         "2.5um/dl": 2.79,
         "5.0um/dl": 0,
         "PM1.0 (CF=ATM) ug/m3": 2.98,
         "PM10 (CF=ATM) ug/m3": 4.78,
         "_deepnote_index_column": 514809,
         "created_at": "2021-09-24T00:41:57.000000"
        },
        {
         "0.3um/dl": 747.46,
         "0.5um/dl": 207.42,
         "1.0um/dl": 18.44,
         "10.0um/dl": 0,
         "2.5um/dl": 1.36,
         "5.0um/dl": 0,
         "PM1.0 (CF=ATM) ug/m3": 2.98,
         "PM10 (CF=ATM) ug/m3": 4.42,
         "_deepnote_index_column": 514810,
         "created_at": "2021-09-24T00:43:59.000000"
        },
        {
         "0.3um/dl": 727.02,
         "0.5um/dl": 195.54,
         "1.0um/dl": 23.56,
         "10.0um/dl": 0.44,
         "2.5um/dl": 3.53,
         "5.0um/dl": 0.44,
         "PM1.0 (CF=ATM) ug/m3": 2.92,
         "PM10 (CF=ATM) ug/m3": 4.85,
         "_deepnote_index_column": 514811,
         "created_at": "2021-09-24T00:46:02.000000"
        },
        {
         "0.3um/dl": 753.93,
         "0.5um/dl": 200.76,
         "1.0um/dl": 24.31,
         "10.0um/dl": 0.45,
         "2.5um/dl": 2.38,
         "5.0um/dl": 0.93,
         "PM1.0 (CF=ATM) ug/m3": 3.07,
         "PM10 (CF=ATM) ug/m3": 5.12,
         "_deepnote_index_column": 514812,
         "created_at": "2021-09-24T00:47:59.000000"
        },
        {
         "0.3um/dl": 740.63,
         "0.5um/dl": 197.6,
         "1.0um/dl": 16.32,
         "10.0um/dl": 0,
         "2.5um/dl": 0.7,
         "5.0um/dl": 0.32,
         "PM1.0 (CF=ATM) ug/m3": 3.14,
         "PM10 (CF=ATM) ug/m3": 4.04,
         "_deepnote_index_column": 514813,
         "created_at": "2021-09-24T00:50:02.000000"
        },
        {
         "0.3um/dl": 779.14,
         "0.5um/dl": 210.54,
         "1.0um/dl": 22,
         "10.0um/dl": 0,
         "2.5um/dl": 0.96,
         "5.0um/dl": 0.07,
         "PM1.0 (CF=ATM) ug/m3": 3.11,
         "PM10 (CF=ATM) ug/m3": 4.48,
         "_deepnote_index_column": 514814,
         "created_at": "2021-09-24T00:51:57.000000"
        },
        {
         "0.3um/dl": 732.88,
         "0.5um/dl": 199.38,
         "1.0um/dl": 19.69,
         "10.0um/dl": 0,
         "2.5um/dl": 1.9,
         "5.0um/dl": 0,
         "PM1.0 (CF=ATM) ug/m3": 2.86,
         "PM10 (CF=ATM) ug/m3": 4.19,
         "_deepnote_index_column": 514815,
         "created_at": "2021-09-24T00:53:59.000000"
        },
        {
         "0.3um/dl": 735.47,
         "0.5um/dl": 198.67,
         "1.0um/dl": 22.34,
         "10.0um/dl": 0.34,
         "2.5um/dl": 1.79,
         "5.0um/dl": 0.83,
         "PM1.0 (CF=ATM) ug/m3": 3,
         "PM10 (CF=ATM) ug/m3": 4.57,
         "_deepnote_index_column": 514816,
         "created_at": "2021-09-24T00:55:56.000000"
        },
        {
         "0.3um/dl": 689.25,
         "0.5um/dl": 184.45,
         "1.0um/dl": 20.14,
         "10.0um/dl": 0,
         "2.5um/dl": 1.82,
         "5.0um/dl": 0,
         "PM1.0 (CF=ATM) ug/m3": 2.93,
         "PM10 (CF=ATM) ug/m3": 4.41,
         "_deepnote_index_column": 514817,
         "created_at": "2021-09-24T00:58:00.000000"
        },
        {
         "0.3um/dl": 707.84,
         "0.5um/dl": 193.09,
         "1.0um/dl": 18.88,
         "10.0um/dl": 0,
         "2.5um/dl": 0.91,
         "5.0um/dl": 0.18,
         "PM1.0 (CF=ATM) ug/m3": 2.81,
         "PM10 (CF=ATM) ug/m3": 4.07,
         "_deepnote_index_column": 514818,
         "created_at": "2021-09-24T00:59:57.000000"
        },
        {
         "0.3um/dl": 728.33,
         "0.5um/dl": 195.48,
         "1.0um/dl": 23.41,
         "10.0um/dl": 0,
         "2.5um/dl": 3.07,
         "5.0um/dl": 0.72,
         "PM1.0 (CF=ATM) ug/m3": 2.76,
         "PM10 (CF=ATM) ug/m3": 4.88,
         "_deepnote_index_column": 514819,
         "created_at": "2021-09-24T01:02:00.000000"
        },
        {
         "0.3um/dl": 694.53,
         "0.5um/dl": 188.88,
         "1.0um/dl": 18.92,
         "10.0um/dl": 0,
         "2.5um/dl": 1.93,
         "5.0um/dl": 0.47,
         "PM1.0 (CF=ATM) ug/m3": 2.8,
         "PM10 (CF=ATM) ug/m3": 4.24,
         "_deepnote_index_column": 514820,
         "created_at": "2021-09-24T01:03:59.000000"
        },
        {
         "0.3um/dl": 667.86,
         "0.5um/dl": 185.09,
         "1.0um/dl": 14.1,
         "10.0um/dl": 0,
         "2.5um/dl": 2.41,
         "5.0um/dl": 0.9,
         "PM1.0 (CF=ATM) ug/m3": 2.91,
         "PM10 (CF=ATM) ug/m3": 4.24,
         "_deepnote_index_column": 514821,
         "created_at": "2021-09-24T01:06:02.000000"
        },
        {
         "0.3um/dl": 684.16,
         "0.5um/dl": 183.4,
         "1.0um/dl": 22.07,
         "10.0um/dl": 0.4,
         "2.5um/dl": 2.18,
         "5.0um/dl": 0.44,
         "PM1.0 (CF=ATM) ug/m3": 2.93,
         "PM10 (CF=ATM) ug/m3": 4.31,
         "_deepnote_index_column": 514822,
         "created_at": "2021-09-24T01:08:02.000000"
        },
        {
         "0.3um/dl": 705.32,
         "0.5um/dl": 190.04,
         "1.0um/dl": 21.02,
         "10.0um/dl": 0,
         "2.5um/dl": 1.33,
         "5.0um/dl": 0.39,
         "PM1.0 (CF=ATM) ug/m3": 2.89,
         "PM10 (CF=ATM) ug/m3": 4.09,
         "_deepnote_index_column": 514823,
         "created_at": "2021-09-24T01:10:00.000000"
        },
        {
         "0.3um/dl": 745.8,
         "0.5um/dl": 204.12,
         "1.0um/dl": 24.7,
         "10.0um/dl": 0,
         "2.5um/dl": 2.17,
         "5.0um/dl": 0.33,
         "PM1.0 (CF=ATM) ug/m3": 2.97,
         "PM10 (CF=ATM) ug/m3": 4.72,
         "_deepnote_index_column": 514824,
         "created_at": "2021-09-24T01:12:00.000000"
        },
        {
         "0.3um/dl": 773.58,
         "0.5um/dl": 212.14,
         "1.0um/dl": 19.61,
         "10.0um/dl": 0.35,
         "2.5um/dl": 1.86,
         "5.0um/dl": 1.37,
         "PM1.0 (CF=ATM) ug/m3": 3.4,
         "PM10 (CF=ATM) ug/m3": 5.19,
         "_deepnote_index_column": 514825,
         "created_at": "2021-09-24T01:14:00.000000"
        },
        {
         "0.3um/dl": 746.02,
         "0.5um/dl": 204.47,
         "1.0um/dl": 26.73,
         "10.0um/dl": 0.84,
         "2.5um/dl": 5.27,
         "5.0um/dl": 1.89,
         "PM1.0 (CF=ATM) ug/m3": 3.18,
         "PM10 (CF=ATM) ug/m3": 6.53,
         "_deepnote_index_column": 514826,
         "created_at": "2021-09-24T01:15:56.000000"
        },
        {
         "0.3um/dl": 804.31,
         "0.5um/dl": 223.28,
         "1.0um/dl": 24.38,
         "10.0um/dl": 0.34,
         "2.5um/dl": 1.86,
         "5.0um/dl": 0.34,
         "PM1.0 (CF=ATM) ug/m3": 3.43,
         "PM10 (CF=ATM) ug/m3": 5.26,
         "_deepnote_index_column": 514827,
         "created_at": "2021-09-24T01:18:00.000000"
        },
        {
         "0.3um/dl": 767.29,
         "0.5um/dl": 207.85,
         "1.0um/dl": 22.81,
         "10.0um/dl": 0.47,
         "2.5um/dl": 1.25,
         "5.0um/dl": 0.88,
         "PM1.0 (CF=ATM) ug/m3": 3.08,
         "PM10 (CF=ATM) ug/m3": 5.07,
         "_deepnote_index_column": 514828,
         "created_at": "2021-09-24T01:19:57.000000"
        },
        {
         "0.3um/dl": 831.36,
         "0.5um/dl": 229.1,
         "1.0um/dl": 27.93,
         "10.0um/dl": 0,
         "2.5um/dl": 2.93,
         "5.0um/dl": 0,
         "PM1.0 (CF=ATM) ug/m3": 3.64,
         "PM10 (CF=ATM) ug/m3": 5.43,
         "_deepnote_index_column": 514829,
         "created_at": "2021-09-24T01:21:57.000000"
        },
        {
         "0.3um/dl": 819.21,
         "0.5um/dl": 224.47,
         "1.0um/dl": 22.25,
         "10.0um/dl": 0.42,
         "2.5um/dl": 3.51,
         "5.0um/dl": 0.88,
         "PM1.0 (CF=ATM) ug/m3": 3.53,
         "PM10 (CF=ATM) ug/m3": 5.95,
         "_deepnote_index_column": 514830,
         "created_at": "2021-09-24T01:24:00.000000"
        },
        {
         "0.3um/dl": 855.21,
         "0.5um/dl": 224.23,
         "1.0um/dl": 24.42,
         "10.0um/dl": 0,
         "2.5um/dl": 1.51,
         "5.0um/dl": 0.04,
         "PM1.0 (CF=ATM) ug/m3": 3.6,
         "PM10 (CF=ATM) ug/m3": 4.88,
         "_deepnote_index_column": 514831,
         "created_at": "2021-09-24T01:26:04.000000"
        },
        {
         "0.3um/dl": 959.69,
         "0.5um/dl": 265.25,
         "1.0um/dl": 28.64,
         "10.0um/dl": 0,
         "2.5um/dl": 2.07,
         "5.0um/dl": 0,
         "PM1.0 (CF=ATM) ug/m3": 4.2,
         "PM10 (CF=ATM) ug/m3": 6.17,
         "_deepnote_index_column": 514832,
         "created_at": "2021-09-24T01:28:03.000000"
        },
        {
         "0.3um/dl": 892.37,
         "0.5um/dl": 244.36,
         "1.0um/dl": 24.51,
         "10.0um/dl": 0,
         "2.5um/dl": 3.36,
         "5.0um/dl": 0.41,
         "PM1.0 (CF=ATM) ug/m3": 3.71,
         "PM10 (CF=ATM) ug/m3": 5.92,
         "_deepnote_index_column": 514833,
         "created_at": "2021-09-24T01:30:01.000000"
        },
        {
         "0.3um/dl": 846.86,
         "0.5um/dl": 227.14,
         "1.0um/dl": 20.29,
         "10.0um/dl": 0.36,
         "2.5um/dl": 1.36,
         "5.0um/dl": 0.36,
         "PM1.0 (CF=ATM) ug/m3": 3.8,
         "PM10 (CF=ATM) ug/m3": 5,
         "_deepnote_index_column": 514834,
         "created_at": "2021-09-24T01:31:59.000000"
        },
        {
         "0.3um/dl": 897.16,
         "0.5um/dl": 244.96,
         "1.0um/dl": 27.65,
         "10.0um/dl": 0,
         "2.5um/dl": 0.91,
         "5.0um/dl": 0,
         "PM1.0 (CF=ATM) ug/m3": 4.02,
         "PM10 (CF=ATM) ug/m3": 5.47,
         "_deepnote_index_column": 514835,
         "created_at": "2021-09-24T01:33:57.000000"
        },
        {
         "0.3um/dl": 939.88,
         "0.5um/dl": 260.59,
         "1.0um/dl": 28.41,
         "10.0um/dl": 0,
         "2.5um/dl": 2.1,
         "5.0um/dl": 0,
         "PM1.0 (CF=ATM) ug/m3": 4.36,
         "PM10 (CF=ATM) ug/m3": 6.31,
         "_deepnote_index_column": 514836,
         "created_at": "2021-09-24T01:35:59.000000"
        },
        {
         "0.3um/dl": 1019.44,
         "0.5um/dl": 283,
         "1.0um/dl": 33.02,
         "10.0um/dl": 0,
         "2.5um/dl": 4.2,
         "5.0um/dl": 0.51,
         "PM1.0 (CF=ATM) ug/m3": 4.78,
         "PM10 (CF=ATM) ug/m3": 7.93,
         "_deepnote_index_column": 514837,
         "created_at": "2021-09-24T01:37:56.000000"
        },
        {
         "0.3um/dl": 1016.64,
         "0.5um/dl": 281.48,
         "1.0um/dl": 34.83,
         "10.0um/dl": 0.79,
         "2.5um/dl": 3.66,
         "5.0um/dl": 0.79,
         "PM1.0 (CF=ATM) ug/m3": 4.6,
         "PM10 (CF=ATM) ug/m3": 8.12,
         "_deepnote_index_column": 514838,
         "created_at": "2021-09-24T01:40:00.000000"
        },
        {
         "0.3um/dl": 971.95,
         "0.5um/dl": 273.13,
         "1.0um/dl": 37.75,
         "10.0um/dl": 0,
         "2.5um/dl": 1.38,
         "5.0um/dl": 0,
         "PM1.0 (CF=ATM) ug/m3": 4.42,
         "PM10 (CF=ATM) ug/m3": 6.42,
         "_deepnote_index_column": 514839,
         "created_at": "2021-09-24T01:41:59.000000"
        },
        {
         "0.3um/dl": 906.31,
         "0.5um/dl": 245.41,
         "1.0um/dl": 25.48,
         "10.0um/dl": 0,
         "2.5um/dl": 1.79,
         "5.0um/dl": 1.14,
         "PM1.0 (CF=ATM) ug/m3": 3.95,
         "PM10 (CF=ATM) ug/m3": 5.97,
         "_deepnote_index_column": 514840,
         "created_at": "2021-09-24T01:44:00.000000"
        },
        {
         "0.3um/dl": 824.84,
         "0.5um/dl": 225.07,
         "1.0um/dl": 30.43,
         "10.0um/dl": 0,
         "2.5um/dl": 2.36,
         "5.0um/dl": 0,
         "PM1.0 (CF=ATM) ug/m3": 3.8,
         "PM10 (CF=ATM) ug/m3": 5.59,
         "_deepnote_index_column": 514841,
         "created_at": "2021-09-24T01:45:57.000000"
        },
        {
         "0.3um/dl": 786.26,
         "0.5um/dl": 216.39,
         "1.0um/dl": 26.6,
         "10.0um/dl": 0,
         "2.5um/dl": 1.82,
         "5.0um/dl": 0.35,
         "PM1.0 (CF=ATM) ug/m3": 3.42,
         "PM10 (CF=ATM) ug/m3": 5.09,
         "_deepnote_index_column": 514842,
         "created_at": "2021-09-24T01:48:00.000000"
        }
       ]
      },
      "text/html": [
       "<div>\n",
       "<style scoped>\n",
       "    .dataframe tbody tr th:only-of-type {\n",
       "        vertical-align: middle;\n",
       "    }\n",
       "\n",
       "    .dataframe tbody tr th {\n",
       "        vertical-align: top;\n",
       "    }\n",
       "\n",
       "    .dataframe thead th {\n",
       "        text-align: right;\n",
       "    }\n",
       "</style>\n",
       "<table border=\"1\" class=\"dataframe\">\n",
       "  <thead>\n",
       "    <tr style=\"text-align: right;\">\n",
       "      <th></th>\n",
       "      <th>created_at</th>\n",
       "      <th>0.3um/dl</th>\n",
       "      <th>0.5um/dl</th>\n",
       "      <th>1.0um/dl</th>\n",
       "      <th>2.5um/dl</th>\n",
       "      <th>5.0um/dl</th>\n",
       "      <th>10.0um/dl</th>\n",
       "      <th>PM1.0 (CF=ATM) ug/m3</th>\n",
       "      <th>PM10 (CF=ATM) ug/m3</th>\n",
       "    </tr>\n",
       "    <tr>\n",
       "      <th>entry_id</th>\n",
       "      <th></th>\n",
       "      <th></th>\n",
       "      <th></th>\n",
       "      <th></th>\n",
       "      <th></th>\n",
       "      <th></th>\n",
       "      <th></th>\n",
       "      <th></th>\n",
       "      <th></th>\n",
       "    </tr>\n",
       "  </thead>\n",
       "  <tbody>\n",
       "    <tr>\n",
       "      <th>514788</th>\n",
       "      <td>2021-09-24 00:00:01+00:00</td>\n",
       "      <td>860.24</td>\n",
       "      <td>237.98</td>\n",
       "      <td>33.90</td>\n",
       "      <td>5.29</td>\n",
       "      <td>2.10</td>\n",
       "      <td>0.51</td>\n",
       "      <td>3.29</td>\n",
       "      <td>6.73</td>\n",
       "    </tr>\n",
       "    <tr>\n",
       "      <th>514789</th>\n",
       "      <td>2021-09-24 00:02:00+00:00</td>\n",
       "      <td>737.84</td>\n",
       "      <td>188.40</td>\n",
       "      <td>21.16</td>\n",
       "      <td>2.39</td>\n",
       "      <td>0.67</td>\n",
       "      <td>0.00</td>\n",
       "      <td>2.56</td>\n",
       "      <td>4.33</td>\n",
       "    </tr>\n",
       "    <tr>\n",
       "      <th>514790</th>\n",
       "      <td>2021-09-24 00:04:00+00:00</td>\n",
       "      <td>740.95</td>\n",
       "      <td>190.37</td>\n",
       "      <td>21.82</td>\n",
       "      <td>2.18</td>\n",
       "      <td>0.00</td>\n",
       "      <td>0.00</td>\n",
       "      <td>2.33</td>\n",
       "      <td>3.93</td>\n",
       "    </tr>\n",
       "    <tr>\n",
       "      <th>514791</th>\n",
       "      <td>2021-09-24 00:06:01+00:00</td>\n",
       "      <td>830.02</td>\n",
       "      <td>231.24</td>\n",
       "      <td>26.90</td>\n",
       "      <td>5.07</td>\n",
       "      <td>0.00</td>\n",
       "      <td>0.00</td>\n",
       "      <td>3.28</td>\n",
       "      <td>5.59</td>\n",
       "    </tr>\n",
       "    <tr>\n",
       "      <th>514792</th>\n",
       "      <td>2021-09-24 00:07:57+00:00</td>\n",
       "      <td>916.63</td>\n",
       "      <td>257.17</td>\n",
       "      <td>36.10</td>\n",
       "      <td>2.92</td>\n",
       "      <td>1.32</td>\n",
       "      <td>0.00</td>\n",
       "      <td>4.17</td>\n",
       "      <td>7.10</td>\n",
       "    </tr>\n",
       "    <tr>\n",
       "      <th>...</th>\n",
       "      <td>...</td>\n",
       "      <td>...</td>\n",
       "      <td>...</td>\n",
       "      <td>...</td>\n",
       "      <td>...</td>\n",
       "      <td>...</td>\n",
       "      <td>...</td>\n",
       "      <td>...</td>\n",
       "      <td>...</td>\n",
       "    </tr>\n",
       "    <tr>\n",
       "      <th>518762</th>\n",
       "      <td>2021-09-30 23:47:53+00:00</td>\n",
       "      <td>1082.07</td>\n",
       "      <td>306.80</td>\n",
       "      <td>50.22</td>\n",
       "      <td>2.91</td>\n",
       "      <td>0.00</td>\n",
       "      <td>0.00</td>\n",
       "      <td>5.09</td>\n",
       "      <td>8.29</td>\n",
       "    </tr>\n",
       "    <tr>\n",
       "      <th>518763</th>\n",
       "      <td>2021-09-30 23:51:36+00:00</td>\n",
       "      <td>868.02</td>\n",
       "      <td>244.41</td>\n",
       "      <td>46.88</td>\n",
       "      <td>4.92</td>\n",
       "      <td>0.88</td>\n",
       "      <td>0.44</td>\n",
       "      <td>3.92</td>\n",
       "      <td>7.85</td>\n",
       "    </tr>\n",
       "    <tr>\n",
       "      <th>518764</th>\n",
       "      <td>2021-09-30 23:53:37+00:00</td>\n",
       "      <td>897.21</td>\n",
       "      <td>254.12</td>\n",
       "      <td>44.32</td>\n",
       "      <td>4.53</td>\n",
       "      <td>0.81</td>\n",
       "      <td>0.46</td>\n",
       "      <td>4.07</td>\n",
       "      <td>7.96</td>\n",
       "    </tr>\n",
       "    <tr>\n",
       "      <th>518765</th>\n",
       "      <td>2021-09-30 23:55:42+00:00</td>\n",
       "      <td>801.75</td>\n",
       "      <td>229.52</td>\n",
       "      <td>36.46</td>\n",
       "      <td>3.46</td>\n",
       "      <td>0.00</td>\n",
       "      <td>0.00</td>\n",
       "      <td>3.71</td>\n",
       "      <td>6.30</td>\n",
       "    </tr>\n",
       "    <tr>\n",
       "      <th>518766</th>\n",
       "      <td>2021-09-30 23:59:40+00:00</td>\n",
       "      <td>916.86</td>\n",
       "      <td>261.88</td>\n",
       "      <td>46.79</td>\n",
       "      <td>3.52</td>\n",
       "      <td>0.45</td>\n",
       "      <td>0.00</td>\n",
       "      <td>4.22</td>\n",
       "      <td>7.95</td>\n",
       "    </tr>\n",
       "  </tbody>\n",
       "</table>\n",
       "<p>3979 rows × 9 columns</p>\n",
       "</div>"
      ],
      "text/plain": [
       "                        created_at  0.3um/dl  0.5um/dl  1.0um/dl  2.5um/dl  \\\n",
       "entry_id                                                                     \n",
       "514788   2021-09-24 00:00:01+00:00    860.24    237.98     33.90      5.29   \n",
       "514789   2021-09-24 00:02:00+00:00    737.84    188.40     21.16      2.39   \n",
       "514790   2021-09-24 00:04:00+00:00    740.95    190.37     21.82      2.18   \n",
       "514791   2021-09-24 00:06:01+00:00    830.02    231.24     26.90      5.07   \n",
       "514792   2021-09-24 00:07:57+00:00    916.63    257.17     36.10      2.92   \n",
       "...                            ...       ...       ...       ...       ...   \n",
       "518762   2021-09-30 23:47:53+00:00   1082.07    306.80     50.22      2.91   \n",
       "518763   2021-09-30 23:51:36+00:00    868.02    244.41     46.88      4.92   \n",
       "518764   2021-09-30 23:53:37+00:00    897.21    254.12     44.32      4.53   \n",
       "518765   2021-09-30 23:55:42+00:00    801.75    229.52     36.46      3.46   \n",
       "518766   2021-09-30 23:59:40+00:00    916.86    261.88     46.79      3.52   \n",
       "\n",
       "          5.0um/dl  10.0um/dl  PM1.0 (CF=ATM) ug/m3  PM10 (CF=ATM) ug/m3  \n",
       "entry_id                                                                  \n",
       "514788        2.10       0.51                  3.29                 6.73  \n",
       "514789        0.67       0.00                  2.56                 4.33  \n",
       "514790        0.00       0.00                  2.33                 3.93  \n",
       "514791        0.00       0.00                  3.28                 5.59  \n",
       "514792        1.32       0.00                  4.17                 7.10  \n",
       "...            ...        ...                   ...                  ...  \n",
       "518762        0.00       0.00                  5.09                 8.29  \n",
       "518763        0.88       0.44                  3.92                 7.85  \n",
       "518764        0.81       0.46                  4.07                 7.96  \n",
       "518765        0.00       0.00                  3.71                 6.30  \n",
       "518766        0.45       0.00                  4.22                 7.95  \n",
       "\n",
       "[3979 rows x 9 columns]"
      ]
     },
     "execution_count": 13,
     "metadata": {},
     "output_type": "execute_result"
    }
   ],
   "source": [
    "## data from PA_II_D8B6 (UT Stadium Sensor) sensor from the past week\n",
    "from purpleair.sensor import Sensor\n",
    "se = Sensor(27395)\n",
    "UT_stadium = se.parent.get_historical(weeks_to_get=1,\n",
    "                              thingspeak_field='secondary')\n",
    "\n",
    "UT_stadium"
   ]
  },
  {
   "cell_type": "markdown",
   "metadata": {
    "cell_id": "00015-5cdbbed2-b528-4ce3-a344-027ecdfa6433",
    "deepnote_cell_type": "markdown",
    "tags": []
   },
   "source": [
    "As you can see from the \"created_at\" column, the AQI was taken every two minutes over the past 7 days. The data frame also contains information on PM paticules of different diameters such as 0.3, 0.5, 1.0, 2.5, 5.0 and 10.0.\n",
    "\n",
    "<br>\n",
    "\n",
    "While this dataframe is useful, there are too many rows of data (~5000) to look at! Let's create a visualization of the PM 2.5 measure to get a better idea of how the AQI changed over time.\n",
    "\n",
    "\n",
    "**Run the cell below to create the line plot.**"
   ]
  },
  {
   "cell_type": "code",
   "execution_count": null,
   "metadata": {
    "cell_id": "00016-6b92257f-15ef-4e49-bdb7-45818a0f2294",
    "deepnote_cell_type": "code",
    "deepnote_to_be_reexecuted": false,
    "execution_millis": 726,
    "execution_start": 1633064144849,
    "source_hash": "87b413f3",
    "tags": []
   },
   "outputs": [
    {
     "data": {
      "image/png": "[encoded data removed]",
      "text/plain": [
       "<Figure size 1440x216 with 1 Axes>"
      ]
     },
     "metadata": {
      "image/png": {
       "height": 224,
       "width": 1164
      },
      "needs_background": "light"
     },
     "output_type": "display_data"
    }
   ],
   "source": [
    "plt.plot(UT_stadium['created_at'], UT_stadium[\"2.5um/dl\"],)\n",
    "plt.grid(axis='y', alpha=0.75)\n",
    "plt.xlabel('Date')\n",
    "plt.ylabel('PM 2.5 Particle Count')\n",
    "plt.title('UT Stadium Sensor PM 2.5')\n",
    "plt.rcParams[\"figure.figsize\"] = (20,3)"
   ]
  },
  {
   "cell_type": "markdown",
   "metadata": {
    "cell_id": "00017-21f7afef-91c1-4265-b573-cd5de15bdf5b",
    "deepnote_cell_type": "markdown",
    "tags": []
   },
   "source": [
    "The line plot above displays the date along the x-axis and the PM 2.5 Particle count along the y-axis.\n",
    "\n",
    "<br>\n",
    "\n",
    "**QUESTION: What trends do you notice about the line plot?**\n",
    "\n"
   ]
  },
  {
   "cell_type": "markdown",
   "metadata": {
    "cell_id": "00021-6a20c2af-2087-4c1a-9f00-93a207130e93",
    "deepnote_cell_type": "markdown",
    "tags": []
   },
   "source": [
    "*Your answer here*"
   ]
  },
  {
   "cell_type": "markdown",
   "metadata": {
    "cell_id": "00021-c1613c07-4035-499d-b981-5603840d03c1",
    "deepnote_cell_type": "markdown",
    "tags": []
   },
   "source": [
    "<br>\n",
    "\n",
    "While the line plot does show us a trend in the PM2.5 count over time, we still have not clue how that translates to the API Index. The next section will discuss what AQI is and how it is calculated."
   ]
  },
  {
   "cell_type": "markdown",
   "metadata": {
    "cell_id": "00018-82e78efb-d137-410b-906b-d2b72dcbcde7",
    "deepnote_cell_type": "markdown",
    "tags": []
   },
   "source": [
    "### AQI Index\n",
    "The AQI Index contains 6 categories that air quality can fall into. Each category contains a range of index values from 0 - 500 that is calculated from the regions PM 2.5 measure. The chart below is provided by the US Environmental Protection Agency (EPA) and shows the official AQI Index (these breakpoints were revised in 2012). \n",
    "\n",
    "For more information on how AQI Index is calculated, take a look at the AQI Index Factsheet provided by the EPA [here](https://www.epa.gov/sites/default/files/2016-04/documents/2012_aqi_factsheet.pdf)!"
   ]
  },
  {
   "cell_type": "markdown",
   "metadata": {
    "cell_id": "00019-df1297bf-cc08-4962-8fa0-f5c036ff57d9",
    "deepnote_cell_type": "markdown",
    "tags": []
   },
   "source": [
    "<p align=\"center\">\n",
    "  <img src=\"images/AQI-category.png\" width=\"\" height=\"\" align=\"center\">\n",
    "</p>"
   ]
  },
  {
   "cell_type": "markdown",
   "metadata": {
    "cell_id": "00020-8b08373f-2da2-424d-930e-ab1cee8dc8fc",
    "deepnote_cell_type": "markdown",
    "tags": []
   },
   "source": [
    "Now that we know how sesors work, what they measure and how AQI Indexes are calculated, let's see if we can create a visualization of AQI Indexes that are a little closer to home!\n",
    "\n",
    "First, let's find a group of sensors that are near Houston, Texas. The code cell below does just that. We use a range of longitude and latitude coordinates to decide whether to include or exclude a sensor. \n",
    "\n",
    "**Run the cell below to display a dataset of about 40 sensors in and surrounding Houston!**"
   ]
  },
  {
   "cell_type": "code",
   "execution_count": null,
   "metadata": {
    "cell_id": "00021-2dd28236-70ac-4fc5-85a2-356fc37e73d4",
    "deepnote_cell_type": "code",
    "deepnote_to_be_reexecuted": false,
    "execution_millis": 122,
    "execution_start": 1633062992781,
    "source_hash": "bde860ae",
    "tags": []
   },
   "outputs": [
    {
     "data": {
      "application/vnd.deepnote.dataframe.v2+json": {
       "column_count": 8,
       "columns": [
        {
         "dtype": "float64",
         "name": "lat",
         "stats": {
          "histogram": [
           {
            "bin_end": 29.2695231,
            "bin_start": 29.193352,
            "count": 1
           },
           {
            "bin_end": 29.3456942,
            "bin_start": 29.2695231,
            "count": 0
           },
           {
            "bin_end": 29.4218653,
            "bin_start": 29.3456942,
            "count": 0
           },
           {
            "bin_end": 29.4980364,
            "bin_start": 29.4218653,
            "count": 1
           },
           {
            "bin_end": 29.5742075,
            "bin_start": 29.4980364,
            "count": 3
           },
           {
            "bin_end": 29.6503786,
            "bin_start": 29.5742075,
            "count": 4
           },
           {
            "bin_end": 29.7265497,
            "bin_start": 29.6503786,
            "count": 5
           },
           {
            "bin_end": 29.8027208,
            "bin_start": 29.7265497,
            "count": 19
           },
           {
            "bin_end": 29.8788919,
            "bin_start": 29.8027208,
            "count": 4
           },
           {
            "bin_end": 29.955063,
            "bin_start": 29.8788919,
            "count": 3
           }
          ],
          "max": "29.955063",
          "min": "29.193352",
          "nan_count": 0,
          "unique_count": 38
         }
        },
        {
         "dtype": "float64",
         "name": "lon",
         "stats": {
          "histogram": [
           {
            "bin_end": -95.66422370000001,
            "bin_start": -95.740333,
            "count": 5
           },
           {
            "bin_end": -95.58811440000001,
            "bin_start": -95.66422370000001,
            "count": 0
           },
           {
            "bin_end": -95.51200510000001,
            "bin_start": -95.58811440000001,
            "count": 4
           },
           {
            "bin_end": -95.43589580000001,
            "bin_start": -95.51200510000001,
            "count": 4
           },
           {
            "bin_end": -95.35978650000001,
            "bin_start": -95.43589580000001,
            "count": 6
           },
           {
            "bin_end": -95.2836772,
            "bin_start": -95.35978650000001,
            "count": 3
           },
           {
            "bin_end": -95.2075679,
            "bin_start": -95.2836772,
            "count": 3
           },
           {
            "bin_end": -95.1314586,
            "bin_start": -95.2075679,
            "count": 5
           },
           {
            "bin_end": -95.0553493,
            "bin_start": -95.1314586,
            "count": 5
           },
           {
            "bin_end": -94.97924,
            "bin_start": -95.0553493,
            "count": 5
           }
          ],
          "max": "-94.97924",
          "min": "-95.740333",
          "nan_count": 0,
          "unique_count": 38
         }
        },
        {
         "dtype": "object",
         "name": "name",
         "stats": {
          "categories": [
           {
            "count": 1,
            "name": "16815 Flower Mist Lane"
           },
           {
            "count": 1,
            "name": "3623 Shadow Trail, Houston, Texas 77084"
           },
           {
            "count": 38,
            "name": "38 others"
           }
          ],
          "nan_count": 0,
          "unique_count": 40
         }
        },
        {
         "dtype": "object",
         "name": "location_type",
         "stats": {
          "categories": [
           {
            "count": 32,
            "name": "outside"
           },
           {
            "count": 8,
            "name": "inside"
           }
          ],
          "nan_count": 0,
          "unique_count": 2
         }
        },
        {
         "dtype": "float64",
         "name": "pm_2.5",
         "stats": {
          "histogram": [
           {
            "bin_end": 20.928,
            "bin_start": 0,
            "count": 38
           },
           {
            "bin_end": 41.856,
            "bin_start": 20.928,
            "count": 1
           },
           {
            "bin_end": 62.784000000000006,
            "bin_start": 41.856,
            "count": 0
           },
           {
            "bin_end": 83.712,
            "bin_start": 62.784000000000006,
            "count": 0
           },
           {
            "bin_end": 104.64,
            "bin_start": 83.712,
            "count": 0
           },
           {
            "bin_end": 125.56800000000001,
            "bin_start": 104.64,
            "count": 0
           },
           {
            "bin_end": 146.496,
            "bin_start": 125.56800000000001,
            "count": 0
           },
           {
            "bin_end": 167.424,
            "bin_start": 146.496,
            "count": 0
           },
           {
            "bin_end": 188.352,
            "bin_start": 167.424,
            "count": 0
           },
           {
            "bin_end": 209.28,
            "bin_start": 188.352,
            "count": 1
           }
          ],
          "max": "209.28",
          "min": "0.0",
          "nan_count": 0,
          "unique_count": 36
         }
        },
        {
         "dtype": "float64",
         "name": "temp_f",
         "stats": {
          "histogram": [
           {
            "bin_end": 73.9,
            "bin_start": 72,
            "count": 1
           },
           {
            "bin_end": 75.8,
            "bin_start": 73.9,
            "count": 0
           },
           {
            "bin_end": 77.7,
            "bin_start": 75.8,
            "count": 1
           },
           {
            "bin_end": 79.6,
            "bin_start": 77.7,
            "count": 0
           },
           {
            "bin_end": 81.5,
            "bin_start": 79.6,
            "count": 4
           },
           {
            "bin_end": 83.4,
            "bin_start": 81.5,
            "count": 12
           },
           {
            "bin_end": 85.3,
            "bin_start": 83.4,
            "count": 11
           },
           {
            "bin_end": 87.2,
            "bin_start": 85.3,
            "count": 4
           },
           {
            "bin_end": 89.1,
            "bin_start": 87.2,
            "count": 2
           },
           {
            "bin_end": 91,
            "bin_start": 89.1,
            "count": 1
           }
          ],
          "max": "91.0",
          "min": "72.0",
          "nan_count": 4,
          "unique_count": 12
         }
        },
        {
         "dtype": "float64",
         "name": "humidity",
         "stats": {
          "histogram": [
           {
            "bin_end": 35.2,
            "bin_start": 28,
            "count": 6
           },
           {
            "bin_end": 42.4,
            "bin_start": 35.2,
            "count": 0
           },
           {
            "bin_end": 49.6,
            "bin_start": 42.4,
            "count": 2
           },
           {
            "bin_end": 56.8,
            "bin_start": 49.6,
            "count": 1
           },
           {
            "bin_end": 64,
            "bin_start": 56.8,
            "count": 2
           },
           {
            "bin_end": 71.2,
            "bin_start": 64,
            "count": 13
           },
           {
            "bin_end": 78.4,
            "bin_start": 71.2,
            "count": 6
           },
           {
            "bin_end": 85.6,
            "bin_start": 78.4,
            "count": 2
           },
           {
            "bin_end": 92.8,
            "bin_start": 85.6,
            "count": 1
           },
           {
            "bin_end": 100,
            "bin_start": 92.8,
            "count": 3
           }
          ],
          "max": "100.0",
          "min": "28.0",
          "nan_count": 4,
          "unique_count": 24
         }
        },
        {
         "dtype": "float64",
         "name": "pressure",
         "stats": {
          "histogram": [
           {
            "bin_end": 734.322,
            "bin_start": 703.02,
            "count": 1
           },
           {
            "bin_end": 765.624,
            "bin_start": 734.322,
            "count": 0
           },
           {
            "bin_end": 796.9259999999999,
            "bin_start": 765.624,
            "count": 0
           },
           {
            "bin_end": 828.228,
            "bin_start": 796.9259999999999,
            "count": 0
           },
           {
            "bin_end": 859.53,
            "bin_start": 828.228,
            "count": 0
           },
           {
            "bin_end": 890.832,
            "bin_start": 859.53,
            "count": 0
           },
           {
            "bin_end": 922.134,
            "bin_start": 890.832,
            "count": 0
           },
           {
            "bin_end": 953.4359999999999,
            "bin_start": 922.134,
            "count": 0
           },
           {
            "bin_end": 984.738,
            "bin_start": 953.4359999999999,
            "count": 0
           },
           {
            "bin_end": 1016.04,
            "bin_start": 984.738,
            "count": 35
           }
          ],
          "max": "1016.04",
          "min": "703.02",
          "nan_count": 4,
          "unique_count": 32
         }
        },
        {
         "dtype": "int64",
         "name": "_deepnote_index_column"
        }
       ],
       "row_count": 40,
       "rows_bottom": null,
       "rows_top": [
        {
         "_deepnote_index_column": 74265,
         "humidity": 32,
         "lat": 29.939444,
         "location_type": "inside",
         "lon": -95.671354,
         "name": "16815 Flower Mist Lane",
         "pm_2.5": 1.63,
         "pressure": 1009.25,
         "temp_f": 76
        },
        {
         "_deepnote_index_column": 98139,
         "humidity": 66,
         "lat": 29.81888,
         "location_type": "outside",
         "lon": -95.695667,
         "name": "3623 Shadow Trail, Houston, Texas 77084",
         "pm_2.5": 6.28,
         "pressure": 1011.7,
         "temp_f": 84
        },
        {
         "_deepnote_index_column": 97279,
         "humidity": 73,
         "lat": 29.743322,
         "location_type": "outside",
         "lon": -95.232096,
         "name": "AAH 15th Street",
         "pm_2.5": 5.86,
         "pressure": 1014.94,
         "temp_f": 82
        },
        {
         "_deepnote_index_column": 99769,
         "humidity": 76,
         "lat": 29.743369,
         "location_type": "outside",
         "lon": -95.241979,
         "name": "AAH GP Eastway",
         "pm_2.5": 5.03,
         "pressure": 1016.04,
         "temp_f": 83
        },
        {
         "_deepnote_index_column": 99797,
         "humidity": 72,
         "lat": 29.737321,
         "location_type": "outside",
         "lon": -95.252961,
         "name": "AAH GP Manor",
         "pm_2.5": 8.69,
         "pressure": 1014.82,
         "temp_f": 82
        },
        {
         "_deepnote_index_column": 97325,
         "humidity": 68,
         "lat": 29.809783,
         "location_type": "outside",
         "lon": -95.195382,
         "name": "AAH Pine Trails",
         "pm_2.5": 21.48,
         "pressure": 1013.51,
         "temp_f": 81
        },
        {
         "_deepnote_index_column": 51697,
         "humidity": 67,
         "lat": 29.806499,
         "location_type": "outside",
         "lon": -95.543647,
         "name": "Ballero-Air-SpringBranch",
         "pm_2.5": 6.52,
         "pressure": 1012.93,
         "temp_f": 84
        },
        {
         "_deepnote_index_column": 100523,
         "humidity": 29,
         "lat": 29.582712,
         "location_type": "inside",
         "lon": -95.119633,
         "name": "Bay Forest (IN)",
         "pm_2.5": 0.47,
         "pressure": 1014.75,
         "temp_f": 86
        },
        {
         "_deepnote_index_column": 3298,
         "humidity": 89,
         "lat": 29.583349,
         "location_type": "outside",
         "lon": -95.120087,
         "name": "Bay Forest",
         "pm_2.5": 7.05,
         "pressure": 1014.52,
         "temp_f": 83
        },
        {
         "_deepnote_index_column": 3033,
         "humidity": 66,
         "lat": 29.955063,
         "location_type": "outside",
         "lon": -95.737387,
         "name": "Bridgeland",
         "pm_2.5": 6.23,
         "pressure": 1009.34,
         "temp_f": 86
        },
        {
         "_deepnote_index_column": 50567,
         "humidity": 69,
         "lat": 29.691015,
         "location_type": "outside",
         "lon": -95.136015,
         "name": "C.and.Mi's",
         "pm_2.5": 5.9,
         "pressure": 1014.5,
         "temp_f": 84
        },
        {
         "_deepnote_index_column": 27905,
         "humidity": 70,
         "lat": 29.790651,
         "location_type": "outside",
         "lon": -95.113845,
         "name": "Channelview Tx #1",
         "pm_2.5": 14.93,
         "pressure": 1015.38,
         "temp_f": 83
        },
        {
         "_deepnote_index_column": 116073,
         "humidity": 55,
         "lat": 29.463194,
         "location_type": "outside",
         "lon": -95.042483,
         "name": "Dickinson Office of Emergency Management",
         "pm_2.5": 0.3,
         "pressure": 1015.71,
         "temp_f": 89
        },
        {
         "_deepnote_index_column": 86003,
         "humidity": 68,
         "lat": 29.816738,
         "location_type": "outside",
         "lon": -95.303219,
         "name": "Houston Gardens",
         "pm_2.5": 8.86,
         "pressure": 1014.91,
         "temp_f": 83
        },
        {
         "_deepnote_index_column": 31025,
         "humidity": 85,
         "lat": 29.764788,
         "location_type": "outside",
         "lon": -95.178538,
         "name": "HRM-PA1",
         "pm_2.5": 4.2,
         "pressure": 1014.5,
         "temp_f": 82
        },
        {
         "_deepnote_index_column": 31035,
         "humidity": 76,
         "lat": 29.76528,
         "location_type": "outside",
         "lon": -95.18111,
         "name": "hrm3-3",
         "pm_2.5": 15.79,
         "pressure": 1015.04,
         "temp_f": 82
        },
        {
         "_deepnote_index_column": 30911,
         "humidity": 78,
         "lat": 29.764788,
         "location_type": "outside",
         "lon": -95.178538,
         "name": "HRM3-PA2",
         "pm_2.5": 15.23,
         "pressure": 1014.82,
         "temp_f": 82
        },
        {
         "_deepnote_index_column": 6752,
         "humidity": "nan",
         "lat": 29.717061,
         "location_type": "outside",
         "lon": -95.308764,
         "name": "IdylwoodEastEnd",
         "pm_2.5": 6.52,
         "pressure": "nan",
         "temp_f": "nan"
        },
        {
         "_deepnote_index_column": 56377,
         "humidity": 85,
         "lat": 29.193352,
         "location_type": "outside",
         "lon": -94.97924,
         "name": "Jamaica Beach TX",
         "pm_2.5": 9.39,
         "pressure": 703.02,
         "temp_f": 72
        },
        {
         "_deepnote_index_column": 3583,
         "humidity": 100,
         "lat": 29.570752,
         "location_type": "outside",
         "lon": -95.11873,
         "name": "Jgg",
         "pm_2.5": 5.08,
         "pressure": 1012.92,
         "temp_f": 85
        },
        {
         "_deepnote_index_column": 85127,
         "humidity": 100,
         "lat": 29.70373,
         "location_type": "outside",
         "lon": -95.05282,
         "name": "LAP5187",
         "pm_2.5": 7.38,
         "pressure": 1015.69,
         "temp_f": 82
        },
        {
         "_deepnote_index_column": 61909,
         "humidity": 28,
         "lat": 29.703527,
         "location_type": "inside",
         "lon": -95.458783,
         "name": "Laurel Street Indoors",
         "pm_2.5": 0.12,
         "pressure": 1013.45,
         "temp_f": 84
        },
        {
         "_deepnote_index_column": 51959,
         "humidity": 64,
         "lat": 29.797358,
         "location_type": "outside",
         "lon": -95.489989,
         "name": "Monarch",
         "pm_2.5": 6.67,
         "pressure": 1013.45,
         "temp_f": 84
        },
        {
         "_deepnote_index_column": 48545,
         "humidity": 70,
         "lat": 29.737535,
         "location_type": "outside",
         "lon": -95.406967,
         "name": "Museum District",
         "pm_2.5": 6.44,
         "pressure": 1011.71,
         "temp_f": 85
        },
        {
         "_deepnote_index_column": 51823,
         "humidity": 32,
         "lat": 29.778682,
         "location_type": "inside",
         "lon": -95.3505,
         "name": "Near Northside Houston",
         "pm_2.5": 1.39,
         "pressure": 1014.16,
         "temp_f": 80
        },
        {
         "_deepnote_index_column": 56059,
         "humidity": 63,
         "lat": 29.723649,
         "location_type": "outside",
         "lon": -95.420642,
         "name": "Northeast West U",
         "pm_2.5": 4.8,
         "pressure": 1014.57,
         "temp_f": 86
        },
        {
         "_deepnote_index_column": 30593,
         "humidity": 64,
         "lat": 29.557082,
         "location_type": "outside",
         "lon": -95.740333,
         "name": "Phil at Sweetgrass in Richmond",
         "pm_2.5": 5.02,
         "pressure": 1013.02,
         "temp_f": 85
        },
        {
         "_deepnote_index_column": 26659,
         "humidity": 61,
         "lat": 29.76556,
         "location_type": "outside",
         "lon": -95.413945,
         "name": "Rice Military Div",
         "pm_2.5": 5.57,
         "pressure": 1014.35,
         "temp_f": 88
        },
        {
         "_deepnote_index_column": 27009,
         "humidity": 32,
         "lat": 29.73305,
         "location_type": "inside",
         "lon": -95.585685,
         "name": "Royal Oaks Houston Tx - Inside",
         "pm_2.5": 0,
         "pressure": 1013.07,
         "temp_f": 81
        },
        {
         "_deepnote_index_column": 28851,
         "humidity": 67,
         "lat": 29.73305,
         "location_type": "outside",
         "lon": -95.585685,
         "name": "Royal Oaks Houston Tx - Outside",
         "pm_2.5": 4.38,
         "pressure": 1011.25,
         "temp_f": 86
        },
        {
         "_deepnote_index_column": 33033,
         "humidity": 71,
         "lat": 29.601254,
         "location_type": "outside",
         "lon": -94.99246,
         "name": "Schottel House",
         "pm_2.5": 5.16,
         "pressure": 1015.55,
         "temp_f": 84
        },
        {
         "_deepnote_index_column": 28679,
         "humidity": "nan",
         "lat": 29.582296,
         "location_type": "outside",
         "lon": -95.044651,
         "name": "Seabrook Island",
         "pm_2.5": 4.21,
         "pressure": "nan",
         "temp_f": "nan"
        },
        {
         "_deepnote_index_column": 28823,
         "humidity": "nan",
         "lat": 29.799163,
         "location_type": "outside",
         "lon": -95.416531,
         "name": "Shady Acres ",
         "pm_2.5": 12.07,
         "pressure": "nan",
         "temp_f": "nan"
        },
        {
         "_deepnote_index_column": 27821,
         "humidity": "nan",
         "lat": 29.77074,
         "location_type": "outside",
         "lon": -95.370056,
         "name": "Test First Ward",
         "pm_2.5": 0,
         "pressure": "nan",
         "temp_f": "nan"
        },
        {
         "_deepnote_index_column": 2386,
         "humidity": 100,
         "lat": 29.532282,
         "location_type": "outside",
         "lon": -95.076473,
         "name": "The Lakefront",
         "pm_2.5": 5.09,
         "pressure": 1012.57,
         "temp_f": 85
        },
        {
         "_deepnote_index_column": 62023,
         "humidity": 34,
         "lat": 29.924318,
         "location_type": "inside",
         "lon": -95.584526,
         "name": "White Oak Bend",
         "pm_2.5": 209.28,
         "pressure": 1015.04,
         "temp_f": 91
        },
        {
         "_deepnote_index_column": 3777,
         "humidity": 71,
         "lat": 29.762896,
         "location_type": "outside",
         "lon": -95.707644,
         "name": "Windsor Park",
         "pm_2.5": 11.62,
         "pressure": 1010.92,
         "temp_f": 82
        },
        {
         "_deepnote_index_column": 31163,
         "humidity": 74,
         "lat": 29.78264,
         "location_type": "outside",
         "lon": -95.37274,
         "name": "Woodland Heights",
         "pm_2.5": 6.16,
         "pressure": 1014.49,
         "temp_f": 84
        },
        {
         "_deepnote_index_column": 34399,
         "humidity": 46,
         "lat": 29.762451,
         "location_type": "inside",
         "lon": -95.46637,
         "name": "WPI-1",
         "pm_2.5": 0,
         "pressure": 1009.78,
         "temp_f": 82
        },
        {
         "_deepnote_index_column": 34431,
         "humidity": 48,
         "lat": 29.762515,
         "location_type": "inside",
         "lon": -95.465982,
         "name": "WPI-2",
         "pm_2.5": 0,
         "pressure": 1009.88,
         "temp_f": 80
        }
       ]
      },
      "text/html": [
       "<div>\n",
       "<style scoped>\n",
       "    .dataframe tbody tr th:only-of-type {\n",
       "        vertical-align: middle;\n",
       "    }\n",
       "\n",
       "    .dataframe tbody tr th {\n",
       "        vertical-align: top;\n",
       "    }\n",
       "\n",
       "    .dataframe thead th {\n",
       "        text-align: right;\n",
       "    }\n",
       "</style>\n",
       "<table border=\"1\" class=\"dataframe\">\n",
       "  <thead>\n",
       "    <tr style=\"text-align: right;\">\n",
       "      <th></th>\n",
       "      <th>lat</th>\n",
       "      <th>lon</th>\n",
       "      <th>name</th>\n",
       "      <th>location_type</th>\n",
       "      <th>pm_2.5</th>\n",
       "      <th>temp_f</th>\n",
       "      <th>humidity</th>\n",
       "      <th>pressure</th>\n",
       "    </tr>\n",
       "    <tr>\n",
       "      <th>id</th>\n",
       "      <th></th>\n",
       "      <th></th>\n",
       "      <th></th>\n",
       "      <th></th>\n",
       "      <th></th>\n",
       "      <th></th>\n",
       "      <th></th>\n",
       "      <th></th>\n",
       "    </tr>\n",
       "  </thead>\n",
       "  <tbody>\n",
       "    <tr>\n",
       "      <th>74265</th>\n",
       "      <td>29.939444</td>\n",
       "      <td>-95.671354</td>\n",
       "      <td>16815 Flower Mist Lane</td>\n",
       "      <td>inside</td>\n",
       "      <td>1.63</td>\n",
       "      <td>76.0</td>\n",
       "      <td>32.0</td>\n",
       "      <td>1009.25</td>\n",
       "    </tr>\n",
       "    <tr>\n",
       "      <th>98139</th>\n",
       "      <td>29.818880</td>\n",
       "      <td>-95.695667</td>\n",
       "      <td>3623 Shadow Trail, Houston, Texas 77084</td>\n",
       "      <td>outside</td>\n",
       "      <td>6.28</td>\n",
       "      <td>84.0</td>\n",
       "      <td>66.0</td>\n",
       "      <td>1011.70</td>\n",
       "    </tr>\n",
       "    <tr>\n",
       "      <th>97279</th>\n",
       "      <td>29.743322</td>\n",
       "      <td>-95.232096</td>\n",
       "      <td>AAH 15th Street</td>\n",
       "      <td>outside</td>\n",
       "      <td>5.86</td>\n",
       "      <td>82.0</td>\n",
       "      <td>73.0</td>\n",
       "      <td>1014.94</td>\n",
       "    </tr>\n",
       "    <tr>\n",
       "      <th>99769</th>\n",
       "      <td>29.743369</td>\n",
       "      <td>-95.241979</td>\n",
       "      <td>AAH GP Eastway</td>\n",
       "      <td>outside</td>\n",
       "      <td>5.03</td>\n",
       "      <td>83.0</td>\n",
       "      <td>76.0</td>\n",
       "      <td>1016.04</td>\n",
       "    </tr>\n",
       "    <tr>\n",
       "      <th>99797</th>\n",
       "      <td>29.737321</td>\n",
       "      <td>-95.252961</td>\n",
       "      <td>AAH GP Manor</td>\n",
       "      <td>outside</td>\n",
       "      <td>8.69</td>\n",
       "      <td>82.0</td>\n",
       "      <td>72.0</td>\n",
       "      <td>1014.82</td>\n",
       "    </tr>\n",
       "    <tr>\n",
       "      <th>97325</th>\n",
       "      <td>29.809783</td>\n",
       "      <td>-95.195382</td>\n",
       "      <td>AAH Pine Trails</td>\n",
       "      <td>outside</td>\n",
       "      <td>21.48</td>\n",
       "      <td>81.0</td>\n",
       "      <td>68.0</td>\n",
       "      <td>1013.51</td>\n",
       "    </tr>\n",
       "    <tr>\n",
       "      <th>51697</th>\n",
       "      <td>29.806499</td>\n",
       "      <td>-95.543647</td>\n",
       "      <td>Ballero-Air-SpringBranch</td>\n",
       "      <td>outside</td>\n",
       "      <td>6.52</td>\n",
       "      <td>84.0</td>\n",
       "      <td>67.0</td>\n",
       "      <td>1012.93</td>\n",
       "    </tr>\n",
       "    <tr>\n",
       "      <th>100523</th>\n",
       "      <td>29.582712</td>\n",
       "      <td>-95.119633</td>\n",
       "      <td>Bay Forest (IN)</td>\n",
       "      <td>inside</td>\n",
       "      <td>0.47</td>\n",
       "      <td>86.0</td>\n",
       "      <td>29.0</td>\n",
       "      <td>1014.75</td>\n",
       "    </tr>\n",
       "    <tr>\n",
       "      <th>3298</th>\n",
       "      <td>29.583349</td>\n",
       "      <td>-95.120087</td>\n",
       "      <td>Bay Forest</td>\n",
       "      <td>outside</td>\n",
       "      <td>7.05</td>\n",
       "      <td>83.0</td>\n",
       "      <td>89.0</td>\n",
       "      <td>1014.52</td>\n",
       "    </tr>\n",
       "    <tr>\n",
       "      <th>3033</th>\n",
       "      <td>29.955063</td>\n",
       "      <td>-95.737387</td>\n",
       "      <td>Bridgeland</td>\n",
       "      <td>outside</td>\n",
       "      <td>6.23</td>\n",
       "      <td>86.0</td>\n",
       "      <td>66.0</td>\n",
       "      <td>1009.34</td>\n",
       "    </tr>\n",
       "    <tr>\n",
       "      <th>50567</th>\n",
       "      <td>29.691015</td>\n",
       "      <td>-95.136015</td>\n",
       "      <td>C.and.Mi's</td>\n",
       "      <td>outside</td>\n",
       "      <td>5.90</td>\n",
       "      <td>84.0</td>\n",
       "      <td>69.0</td>\n",
       "      <td>1014.50</td>\n",
       "    </tr>\n",
       "    <tr>\n",
       "      <th>27905</th>\n",
       "      <td>29.790651</td>\n",
       "      <td>-95.113845</td>\n",
       "      <td>Channelview Tx #1</td>\n",
       "      <td>outside</td>\n",
       "      <td>14.93</td>\n",
       "      <td>83.0</td>\n",
       "      <td>70.0</td>\n",
       "      <td>1015.38</td>\n",
       "    </tr>\n",
       "    <tr>\n",
       "      <th>116073</th>\n",
       "      <td>29.463194</td>\n",
       "      <td>-95.042483</td>\n",
       "      <td>Dickinson Office of Emergency Management</td>\n",
       "      <td>outside</td>\n",
       "      <td>0.30</td>\n",
       "      <td>89.0</td>\n",
       "      <td>55.0</td>\n",
       "      <td>1015.71</td>\n",
       "    </tr>\n",
       "    <tr>\n",
       "      <th>86003</th>\n",
       "      <td>29.816738</td>\n",
       "      <td>-95.303219</td>\n",
       "      <td>Houston Gardens</td>\n",
       "      <td>outside</td>\n",
       "      <td>8.86</td>\n",
       "      <td>83.0</td>\n",
       "      <td>68.0</td>\n",
       "      <td>1014.91</td>\n",
       "    </tr>\n",
       "    <tr>\n",
       "      <th>31025</th>\n",
       "      <td>29.764788</td>\n",
       "      <td>-95.178538</td>\n",
       "      <td>HRM-PA1</td>\n",
       "      <td>outside</td>\n",
       "      <td>4.20</td>\n",
       "      <td>82.0</td>\n",
       "      <td>85.0</td>\n",
       "      <td>1014.50</td>\n",
       "    </tr>\n",
       "    <tr>\n",
       "      <th>31035</th>\n",
       "      <td>29.765280</td>\n",
       "      <td>-95.181110</td>\n",
       "      <td>hrm3-3</td>\n",
       "      <td>outside</td>\n",
       "      <td>15.79</td>\n",
       "      <td>82.0</td>\n",
       "      <td>76.0</td>\n",
       "      <td>1015.04</td>\n",
       "    </tr>\n",
       "    <tr>\n",
       "      <th>30911</th>\n",
       "      <td>29.764788</td>\n",
       "      <td>-95.178538</td>\n",
       "      <td>HRM3-PA2</td>\n",
       "      <td>outside</td>\n",
       "      <td>15.23</td>\n",
       "      <td>82.0</td>\n",
       "      <td>78.0</td>\n",
       "      <td>1014.82</td>\n",
       "    </tr>\n",
       "    <tr>\n",
       "      <th>6752</th>\n",
       "      <td>29.717061</td>\n",
       "      <td>-95.308764</td>\n",
       "      <td>IdylwoodEastEnd</td>\n",
       "      <td>outside</td>\n",
       "      <td>6.52</td>\n",
       "      <td>NaN</td>\n",
       "      <td>NaN</td>\n",
       "      <td>NaN</td>\n",
       "    </tr>\n",
       "    <tr>\n",
       "      <th>56377</th>\n",
       "      <td>29.193352</td>\n",
       "      <td>-94.979240</td>\n",
       "      <td>Jamaica Beach TX</td>\n",
       "      <td>outside</td>\n",
       "      <td>9.39</td>\n",
       "      <td>72.0</td>\n",
       "      <td>85.0</td>\n",
       "      <td>703.02</td>\n",
       "    </tr>\n",
       "    <tr>\n",
       "      <th>3583</th>\n",
       "      <td>29.570752</td>\n",
       "      <td>-95.118730</td>\n",
       "      <td>Jgg</td>\n",
       "      <td>outside</td>\n",
       "      <td>5.08</td>\n",
       "      <td>85.0</td>\n",
       "      <td>100.0</td>\n",
       "      <td>1012.92</td>\n",
       "    </tr>\n",
       "    <tr>\n",
       "      <th>85127</th>\n",
       "      <td>29.703730</td>\n",
       "      <td>-95.052820</td>\n",
       "      <td>LAP5187</td>\n",
       "      <td>outside</td>\n",
       "      <td>7.38</td>\n",
       "      <td>82.0</td>\n",
       "      <td>100.0</td>\n",
       "      <td>1015.69</td>\n",
       "    </tr>\n",
       "    <tr>\n",
       "      <th>61909</th>\n",
       "      <td>29.703527</td>\n",
       "      <td>-95.458783</td>\n",
       "      <td>Laurel Street Indoors</td>\n",
       "      <td>inside</td>\n",
       "      <td>0.12</td>\n",
       "      <td>84.0</td>\n",
       "      <td>28.0</td>\n",
       "      <td>1013.45</td>\n",
       "    </tr>\n",
       "    <tr>\n",
       "      <th>51959</th>\n",
       "      <td>29.797358</td>\n",
       "      <td>-95.489989</td>\n",
       "      <td>Monarch</td>\n",
       "      <td>outside</td>\n",
       "      <td>6.67</td>\n",
       "      <td>84.0</td>\n",
       "      <td>64.0</td>\n",
       "      <td>1013.45</td>\n",
       "    </tr>\n",
       "    <tr>\n",
       "      <th>48545</th>\n",
       "      <td>29.737535</td>\n",
       "      <td>-95.406967</td>\n",
       "      <td>Museum District</td>\n",
       "      <td>outside</td>\n",
       "      <td>6.44</td>\n",
       "      <td>85.0</td>\n",
       "      <td>70.0</td>\n",
       "      <td>1011.71</td>\n",
       "    </tr>\n",
       "    <tr>\n",
       "      <th>51823</th>\n",
       "      <td>29.778682</td>\n",
       "      <td>-95.350500</td>\n",
       "      <td>Near Northside Houston</td>\n",
       "      <td>inside</td>\n",
       "      <td>1.39</td>\n",
       "      <td>80.0</td>\n",
       "      <td>32.0</td>\n",
       "      <td>1014.16</td>\n",
       "    </tr>\n",
       "    <tr>\n",
       "      <th>56059</th>\n",
       "      <td>29.723649</td>\n",
       "      <td>-95.420642</td>\n",
       "      <td>Northeast West U</td>\n",
       "      <td>outside</td>\n",
       "      <td>4.80</td>\n",
       "      <td>86.0</td>\n",
       "      <td>63.0</td>\n",
       "      <td>1014.57</td>\n",
       "    </tr>\n",
       "    <tr>\n",
       "      <th>30593</th>\n",
       "      <td>29.557082</td>\n",
       "      <td>-95.740333</td>\n",
       "      <td>Phil at Sweetgrass in Richmond</td>\n",
       "      <td>outside</td>\n",
       "      <td>5.02</td>\n",
       "      <td>85.0</td>\n",
       "      <td>64.0</td>\n",
       "      <td>1013.02</td>\n",
       "    </tr>\n",
       "    <tr>\n",
       "      <th>26659</th>\n",
       "      <td>29.765560</td>\n",
       "      <td>-95.413945</td>\n",
       "      <td>Rice Military Div</td>\n",
       "      <td>outside</td>\n",
       "      <td>5.57</td>\n",
       "      <td>88.0</td>\n",
       "      <td>61.0</td>\n",
       "      <td>1014.35</td>\n",
       "    </tr>\n",
       "    <tr>\n",
       "      <th>27009</th>\n",
       "      <td>29.733050</td>\n",
       "      <td>-95.585685</td>\n",
       "      <td>Royal Oaks Houston Tx - Inside</td>\n",
       "      <td>inside</td>\n",
       "      <td>0.00</td>\n",
       "      <td>81.0</td>\n",
       "      <td>32.0</td>\n",
       "      <td>1013.07</td>\n",
       "    </tr>\n",
       "    <tr>\n",
       "      <th>28851</th>\n",
       "      <td>29.733050</td>\n",
       "      <td>-95.585685</td>\n",
       "      <td>Royal Oaks Houston Tx - Outside</td>\n",
       "      <td>outside</td>\n",
       "      <td>4.38</td>\n",
       "      <td>86.0</td>\n",
       "      <td>67.0</td>\n",
       "      <td>1011.25</td>\n",
       "    </tr>\n",
       "    <tr>\n",
       "      <th>33033</th>\n",
       "      <td>29.601254</td>\n",
       "      <td>-94.992460</td>\n",
       "      <td>Schottel House</td>\n",
       "      <td>outside</td>\n",
       "      <td>5.16</td>\n",
       "      <td>84.0</td>\n",
       "      <td>71.0</td>\n",
       "      <td>1015.55</td>\n",
       "    </tr>\n",
       "    <tr>\n",
       "      <th>28679</th>\n",
       "      <td>29.582296</td>\n",
       "      <td>-95.044651</td>\n",
       "      <td>Seabrook Island</td>\n",
       "      <td>outside</td>\n",
       "      <td>4.21</td>\n",
       "      <td>NaN</td>\n",
       "      <td>NaN</td>\n",
       "      <td>NaN</td>\n",
       "    </tr>\n",
       "    <tr>\n",
       "      <th>28823</th>\n",
       "      <td>29.799163</td>\n",
       "      <td>-95.416531</td>\n",
       "      <td>Shady Acres</td>\n",
       "      <td>outside</td>\n",
       "      <td>12.07</td>\n",
       "      <td>NaN</td>\n",
       "      <td>NaN</td>\n",
       "      <td>NaN</td>\n",
       "    </tr>\n",
       "    <tr>\n",
       "      <th>27821</th>\n",
       "      <td>29.770740</td>\n",
       "      <td>-95.370056</td>\n",
       "      <td>Test First Ward</td>\n",
       "      <td>outside</td>\n",
       "      <td>0.00</td>\n",
       "      <td>NaN</td>\n",
       "      <td>NaN</td>\n",
       "      <td>NaN</td>\n",
       "    </tr>\n",
       "    <tr>\n",
       "      <th>2386</th>\n",
       "      <td>29.532282</td>\n",
       "      <td>-95.076473</td>\n",
       "      <td>The Lakefront</td>\n",
       "      <td>outside</td>\n",
       "      <td>5.09</td>\n",
       "      <td>85.0</td>\n",
       "      <td>100.0</td>\n",
       "      <td>1012.57</td>\n",
       "    </tr>\n",
       "    <tr>\n",
       "      <th>62023</th>\n",
       "      <td>29.924318</td>\n",
       "      <td>-95.584526</td>\n",
       "      <td>White Oak Bend</td>\n",
       "      <td>inside</td>\n",
       "      <td>209.28</td>\n",
       "      <td>91.0</td>\n",
       "      <td>34.0</td>\n",
       "      <td>1015.04</td>\n",
       "    </tr>\n",
       "    <tr>\n",
       "      <th>3777</th>\n",
       "      <td>29.762896</td>\n",
       "      <td>-95.707644</td>\n",
       "      <td>Windsor Park</td>\n",
       "      <td>outside</td>\n",
       "      <td>11.62</td>\n",
       "      <td>82.0</td>\n",
       "      <td>71.0</td>\n",
       "      <td>1010.92</td>\n",
       "    </tr>\n",
       "    <tr>\n",
       "      <th>31163</th>\n",
       "      <td>29.782640</td>\n",
       "      <td>-95.372740</td>\n",
       "      <td>Woodland Heights</td>\n",
       "      <td>outside</td>\n",
       "      <td>6.16</td>\n",
       "      <td>84.0</td>\n",
       "      <td>74.0</td>\n",
       "      <td>1014.49</td>\n",
       "    </tr>\n",
       "    <tr>\n",
       "      <th>34399</th>\n",
       "      <td>29.762451</td>\n",
       "      <td>-95.466370</td>\n",
       "      <td>WPI-1</td>\n",
       "      <td>inside</td>\n",
       "      <td>0.00</td>\n",
       "      <td>82.0</td>\n",
       "      <td>46.0</td>\n",
       "      <td>1009.78</td>\n",
       "    </tr>\n",
       "    <tr>\n",
       "      <th>34431</th>\n",
       "      <td>29.762515</td>\n",
       "      <td>-95.465982</td>\n",
       "      <td>WPI-2</td>\n",
       "      <td>inside</td>\n",
       "      <td>0.00</td>\n",
       "      <td>80.0</td>\n",
       "      <td>48.0</td>\n",
       "      <td>1009.88</td>\n",
       "    </tr>\n",
       "  </tbody>\n",
       "</table>\n",
       "</div>"
      ],
      "text/plain": [
       "              lat        lon                                      name  \\\n",
       "id                                                                       \n",
       "74265   29.939444 -95.671354                    16815 Flower Mist Lane   \n",
       "98139   29.818880 -95.695667   3623 Shadow Trail, Houston, Texas 77084   \n",
       "97279   29.743322 -95.232096                           AAH 15th Street   \n",
       "99769   29.743369 -95.241979                            AAH GP Eastway   \n",
       "99797   29.737321 -95.252961                              AAH GP Manor   \n",
       "97325   29.809783 -95.195382                           AAH Pine Trails   \n",
       "51697   29.806499 -95.543647                  Ballero-Air-SpringBranch   \n",
       "100523  29.582712 -95.119633                           Bay Forest (IN)   \n",
       "3298    29.583349 -95.120087                                Bay Forest   \n",
       "3033    29.955063 -95.737387                                Bridgeland   \n",
       "50567   29.691015 -95.136015                                C.and.Mi's   \n",
       "27905   29.790651 -95.113845                         Channelview Tx #1   \n",
       "116073  29.463194 -95.042483  Dickinson Office of Emergency Management   \n",
       "86003   29.816738 -95.303219                           Houston Gardens   \n",
       "31025   29.764788 -95.178538                                   HRM-PA1   \n",
       "31035   29.765280 -95.181110                                    hrm3-3   \n",
       "30911   29.764788 -95.178538                                  HRM3-PA2   \n",
       "6752    29.717061 -95.308764                           IdylwoodEastEnd   \n",
       "56377   29.193352 -94.979240                          Jamaica Beach TX   \n",
       "3583    29.570752 -95.118730                                       Jgg   \n",
       "85127   29.703730 -95.052820                                   LAP5187   \n",
       "61909   29.703527 -95.458783                     Laurel Street Indoors   \n",
       "51959   29.797358 -95.489989                                   Monarch   \n",
       "48545   29.737535 -95.406967                           Museum District   \n",
       "51823   29.778682 -95.350500                    Near Northside Houston   \n",
       "56059   29.723649 -95.420642                          Northeast West U   \n",
       "30593   29.557082 -95.740333            Phil at Sweetgrass in Richmond   \n",
       "26659   29.765560 -95.413945                         Rice Military Div   \n",
       "27009   29.733050 -95.585685            Royal Oaks Houston Tx - Inside   \n",
       "28851   29.733050 -95.585685           Royal Oaks Houston Tx - Outside   \n",
       "33033   29.601254 -94.992460                            Schottel House   \n",
       "28679   29.582296 -95.044651                           Seabrook Island   \n",
       "28823   29.799163 -95.416531                              Shady Acres    \n",
       "27821   29.770740 -95.370056                           Test First Ward   \n",
       "2386    29.532282 -95.076473                             The Lakefront   \n",
       "62023   29.924318 -95.584526                            White Oak Bend   \n",
       "3777    29.762896 -95.707644                              Windsor Park   \n",
       "31163   29.782640 -95.372740                          Woodland Heights   \n",
       "34399   29.762451 -95.466370                                     WPI-1   \n",
       "34431   29.762515 -95.465982                                     WPI-2   \n",
       "\n",
       "       location_type  pm_2.5  temp_f  humidity  pressure  \n",
       "id                                                        \n",
       "74265         inside    1.63    76.0      32.0   1009.25  \n",
       "98139        outside    6.28    84.0      66.0   1011.70  \n",
       "97279        outside    5.86    82.0      73.0   1014.94  \n",
       "99769        outside    5.03    83.0      76.0   1016.04  \n",
       "99797        outside    8.69    82.0      72.0   1014.82  \n",
       "97325        outside   21.48    81.0      68.0   1013.51  \n",
       "51697        outside    6.52    84.0      67.0   1012.93  \n",
       "100523        inside    0.47    86.0      29.0   1014.75  \n",
       "3298         outside    7.05    83.0      89.0   1014.52  \n",
       "3033         outside    6.23    86.0      66.0   1009.34  \n",
       "50567        outside    5.90    84.0      69.0   1014.50  \n",
       "27905        outside   14.93    83.0      70.0   1015.38  \n",
       "116073       outside    0.30    89.0      55.0   1015.71  \n",
       "86003        outside    8.86    83.0      68.0   1014.91  \n",
       "31025        outside    4.20    82.0      85.0   1014.50  \n",
       "31035        outside   15.79    82.0      76.0   1015.04  \n",
       "30911        outside   15.23    82.0      78.0   1014.82  \n",
       "6752         outside    6.52     NaN       NaN       NaN  \n",
       "56377        outside    9.39    72.0      85.0    703.02  \n",
       "3583         outside    5.08    85.0     100.0   1012.92  \n",
       "85127        outside    7.38    82.0     100.0   1015.69  \n",
       "61909         inside    0.12    84.0      28.0   1013.45  \n",
       "51959        outside    6.67    84.0      64.0   1013.45  \n",
       "48545        outside    6.44    85.0      70.0   1011.71  \n",
       "51823         inside    1.39    80.0      32.0   1014.16  \n",
       "56059        outside    4.80    86.0      63.0   1014.57  \n",
       "30593        outside    5.02    85.0      64.0   1013.02  \n",
       "26659        outside    5.57    88.0      61.0   1014.35  \n",
       "27009         inside    0.00    81.0      32.0   1013.07  \n",
       "28851        outside    4.38    86.0      67.0   1011.25  \n",
       "33033        outside    5.16    84.0      71.0   1015.55  \n",
       "28679        outside    4.21     NaN       NaN       NaN  \n",
       "28823        outside   12.07     NaN       NaN       NaN  \n",
       "27821        outside    0.00     NaN       NaN       NaN  \n",
       "2386         outside    5.09    85.0     100.0   1012.57  \n",
       "62023         inside  209.28    91.0      34.0   1015.04  \n",
       "3777         outside   11.62    82.0      71.0   1010.92  \n",
       "31163        outside    6.16    84.0      74.0   1014.49  \n",
       "34399         inside    0.00    82.0      46.0   1009.78  \n",
       "34431         inside    0.00    80.0      48.0   1009.88  "
      ]
     },
     "execution_count": 15,
     "metadata": {},
     "output_type": "execute_result"
    }
   ],
   "source": [
    "## Houston, TX - Lat: 29.7604 / Lon: -95.3698\n",
    "\n",
    "houston_data = df.loc[(df[\"lat\"] >= 29) & (df[\"lat\"] <= 30) & (df[\"lon\"] >= -96) & (df[\"lon\"] <= -94)]\n",
    "houston_data = houston_data[[\"lat\", \"lon\", \"name\", \"location_type\", \"pm_2.5\", \"temp_f\", \"humidity\", \"pressure\"]]\n",
    "houston_data"
   ]
  },
  {
   "cell_type": "markdown",
   "metadata": {
    "cell_id": "00036-9ce401a6-7c31-4d35-9232-f30a0ae001d6",
    "deepnote_cell_type": "markdown",
    "tags": []
   },
   "source": [
    "<br>\n",
    "\n",
    "Now that we have a smaller subset of data to work with, the next step is to use the PM 2.5 measures to assign each sensor to an AQI Index Category and corresponding color. \n",
    "\n",
    "**Run the cell below to create a new column in the dataframe that indicates the sensors AQI Index color code.**"
   ]
  },
  {
   "cell_type": "code",
   "execution_count": null,
   "metadata": {
    "cell_id": "00036-b9e04970-c6d3-46f5-a232-e82cf9afeaed",
    "deepnote_cell_type": "code",
    "deepnote_to_be_reexecuted": false,
    "execution_millis": 102,
    "execution_start": 1633062992949,
    "source_hash": "a4f75cc5",
    "tags": []
   },
   "outputs": [
    {
     "data": {
      "application/vnd.deepnote.dataframe.v2+json": {
       "column_count": 9,
       "columns": [
        {
         "dtype": "float64",
         "name": "lat",
         "stats": {
          "histogram": [
           {
            "bin_end": 29.2695231,
            "bin_start": 29.193352,
            "count": 1
           },
           {
            "bin_end": 29.3456942,
            "bin_start": 29.2695231,
            "count": 0
           },
           {
            "bin_end": 29.4218653,
            "bin_start": 29.3456942,
            "count": 0
           },
           {
            "bin_end": 29.4980364,
            "bin_start": 29.4218653,
            "count": 1
           },
           {
            "bin_end": 29.5742075,
            "bin_start": 29.4980364,
            "count": 3
           },
           {
            "bin_end": 29.6503786,
            "bin_start": 29.5742075,
            "count": 4
           },
           {
            "bin_end": 29.7265497,
            "bin_start": 29.6503786,
            "count": 5
           },
           {
            "bin_end": 29.8027208,
            "bin_start": 29.7265497,
            "count": 19
           },
           {
            "bin_end": 29.8788919,
            "bin_start": 29.8027208,
            "count": 4
           },
           {
            "bin_end": 29.955063,
            "bin_start": 29.8788919,
            "count": 3
           }
          ],
          "max": "29.955063",
          "min": "29.193352",
          "nan_count": 0,
          "unique_count": 38
         }
        },
        {
         "dtype": "float64",
         "name": "lon",
         "stats": {
          "histogram": [
           {
            "bin_end": -95.66422370000001,
            "bin_start": -95.740333,
            "count": 5
           },
           {
            "bin_end": -95.58811440000001,
            "bin_start": -95.66422370000001,
            "count": 0
           },
           {
            "bin_end": -95.51200510000001,
            "bin_start": -95.58811440000001,
            "count": 4
           },
           {
            "bin_end": -95.43589580000001,
            "bin_start": -95.51200510000001,
            "count": 4
           },
           {
            "bin_end": -95.35978650000001,
            "bin_start": -95.43589580000001,
            "count": 6
           },
           {
            "bin_end": -95.2836772,
            "bin_start": -95.35978650000001,
            "count": 3
           },
           {
            "bin_end": -95.2075679,
            "bin_start": -95.2836772,
            "count": 3
           },
           {
            "bin_end": -95.1314586,
            "bin_start": -95.2075679,
            "count": 5
           },
           {
            "bin_end": -95.0553493,
            "bin_start": -95.1314586,
            "count": 5
           },
           {
            "bin_end": -94.97924,
            "bin_start": -95.0553493,
            "count": 5
           }
          ],
          "max": "-94.97924",
          "min": "-95.740333",
          "nan_count": 0,
          "unique_count": 38
         }
        },
        {
         "dtype": "object",
         "name": "name",
         "stats": {
          "categories": [
           {
            "count": 1,
            "name": "16815 Flower Mist Lane"
           },
           {
            "count": 1,
            "name": "3623 Shadow Trail, Houston, Texas 77084"
           },
           {
            "count": 38,
            "name": "38 others"
           }
          ],
          "nan_count": 0,
          "unique_count": 40
         }
        },
        {
         "dtype": "object",
         "name": "location_type",
         "stats": {
          "categories": [
           {
            "count": 32,
            "name": "outside"
           },
           {
            "count": 8,
            "name": "inside"
           }
          ],
          "nan_count": 0,
          "unique_count": 2
         }
        },
        {
         "dtype": "float64",
         "name": "pm_2.5",
         "stats": {
          "histogram": [
           {
            "bin_end": 20.928,
            "bin_start": 0,
            "count": 38
           },
           {
            "bin_end": 41.856,
            "bin_start": 20.928,
            "count": 1
           },
           {
            "bin_end": 62.784000000000006,
            "bin_start": 41.856,
            "count": 0
           },
           {
            "bin_end": 83.712,
            "bin_start": 62.784000000000006,
            "count": 0
           },
           {
            "bin_end": 104.64,
            "bin_start": 83.712,
            "count": 0
           },
           {
            "bin_end": 125.56800000000001,
            "bin_start": 104.64,
            "count": 0
           },
           {
            "bin_end": 146.496,
            "bin_start": 125.56800000000001,
            "count": 0
           },
           {
            "bin_end": 167.424,
            "bin_start": 146.496,
            "count": 0
           },
           {
            "bin_end": 188.352,
            "bin_start": 167.424,
            "count": 0
           },
           {
            "bin_end": 209.28,
            "bin_start": 188.352,
            "count": 1
           }
          ],
          "max": "209.28",
          "min": "0.0",
          "nan_count": 0,
          "unique_count": 36
         }
        },
        {
         "dtype": "float64",
         "name": "temp_f",
         "stats": {
          "histogram": [
           {
            "bin_end": 73.9,
            "bin_start": 72,
            "count": 1
           },
           {
            "bin_end": 75.8,
            "bin_start": 73.9,
            "count": 0
           },
           {
            "bin_end": 77.7,
            "bin_start": 75.8,
            "count": 1
           },
           {
            "bin_end": 79.6,
            "bin_start": 77.7,
            "count": 0
           },
           {
            "bin_end": 81.5,
            "bin_start": 79.6,
            "count": 4
           },
           {
            "bin_end": 83.4,
            "bin_start": 81.5,
            "count": 12
           },
           {
            "bin_end": 85.3,
            "bin_start": 83.4,
            "count": 11
           },
           {
            "bin_end": 87.2,
            "bin_start": 85.3,
            "count": 4
           },
           {
            "bin_end": 89.1,
            "bin_start": 87.2,
            "count": 2
           },
           {
            "bin_end": 91,
            "bin_start": 89.1,
            "count": 1
           }
          ],
          "max": "91.0",
          "min": "72.0",
          "nan_count": 4,
          "unique_count": 12
         }
        },
        {
         "dtype": "float64",
         "name": "humidity",
         "stats": {
          "histogram": [
           {
            "bin_end": 35.2,
            "bin_start": 28,
            "count": 6
           },
           {
            "bin_end": 42.4,
            "bin_start": 35.2,
            "count": 0
           },
           {
            "bin_end": 49.6,
            "bin_start": 42.4,
            "count": 2
           },
           {
            "bin_end": 56.8,
            "bin_start": 49.6,
            "count": 1
           },
           {
            "bin_end": 64,
            "bin_start": 56.8,
            "count": 2
           },
           {
            "bin_end": 71.2,
            "bin_start": 64,
            "count": 13
           },
           {
            "bin_end": 78.4,
            "bin_start": 71.2,
            "count": 6
           },
           {
            "bin_end": 85.6,
            "bin_start": 78.4,
            "count": 2
           },
           {
            "bin_end": 92.8,
            "bin_start": 85.6,
            "count": 1
           },
           {
            "bin_end": 100,
            "bin_start": 92.8,
            "count": 3
           }
          ],
          "max": "100.0",
          "min": "28.0",
          "nan_count": 4,
          "unique_count": 24
         }
        },
        {
         "dtype": "float64",
         "name": "pressure",
         "stats": {
          "histogram": [
           {
            "bin_end": 734.322,
            "bin_start": 703.02,
            "count": 1
           },
           {
            "bin_end": 765.624,
            "bin_start": 734.322,
            "count": 0
           },
           {
            "bin_end": 796.9259999999999,
            "bin_start": 765.624,
            "count": 0
           },
           {
            "bin_end": 828.228,
            "bin_start": 796.9259999999999,
            "count": 0
           },
           {
            "bin_end": 859.53,
            "bin_start": 828.228,
            "count": 0
           },
           {
            "bin_end": 890.832,
            "bin_start": 859.53,
            "count": 0
           },
           {
            "bin_end": 922.134,
            "bin_start": 890.832,
            "count": 0
           },
           {
            "bin_end": 953.4359999999999,
            "bin_start": 922.134,
            "count": 0
           },
           {
            "bin_end": 984.738,
            "bin_start": 953.4359999999999,
            "count": 0
           },
           {
            "bin_end": 1016.04,
            "bin_start": 984.738,
            "count": 35
           }
          ],
          "max": "1016.04",
          "min": "703.02",
          "nan_count": 4,
          "unique_count": 32
         }
        },
        {
         "dtype": "object",
         "name": "code",
         "stats": {
          "categories": [
           {
            "count": 34,
            "name": "green"
           },
           {
            "count": 5,
            "name": "orange"
           },
           {
            "count": 1,
            "name": "darkpurple"
           }
          ],
          "nan_count": 0,
          "unique_count": 3
         }
        },
        {
         "dtype": "int64",
         "name": "_deepnote_index_column"
        }
       ],
       "row_count": 40,
       "rows_bottom": null,
       "rows_top": [
        {
         "_deepnote_index_column": 74265,
         "code": "green",
         "humidity": 32,
         "lat": 29.939444,
         "location_type": "inside",
         "lon": -95.671354,
         "name": "16815 Flower Mist Lane",
         "pm_2.5": 1.63,
         "pressure": 1009.25,
         "temp_f": 76
        },
        {
         "_deepnote_index_column": 98139,
         "code": "green",
         "humidity": 66,
         "lat": 29.81888,
         "location_type": "outside",
         "lon": -95.695667,
         "name": "3623 Shadow Trail, Houston, Texas 77084",
         "pm_2.5": 6.28,
         "pressure": 1011.7,
         "temp_f": 84
        },
        {
         "_deepnote_index_column": 97279,
         "code": "green",
         "humidity": 73,
         "lat": 29.743322,
         "location_type": "outside",
         "lon": -95.232096,
         "name": "AAH 15th Street",
         "pm_2.5": 5.86,
         "pressure": 1014.94,
         "temp_f": 82
        },
        {
         "_deepnote_index_column": 99769,
         "code": "green",
         "humidity": 76,
         "lat": 29.743369,
         "location_type": "outside",
         "lon": -95.241979,
         "name": "AAH GP Eastway",
         "pm_2.5": 5.03,
         "pressure": 1016.04,
         "temp_f": 83
        },
        {
         "_deepnote_index_column": 99797,
         "code": "green",
         "humidity": 72,
         "lat": 29.737321,
         "location_type": "outside",
         "lon": -95.252961,
         "name": "AAH GP Manor",
         "pm_2.5": 8.69,
         "pressure": 1014.82,
         "temp_f": 82
        },
        {
         "_deepnote_index_column": 97325,
         "code": "orange",
         "humidity": 68,
         "lat": 29.809783,
         "location_type": "outside",
         "lon": -95.195382,
         "name": "AAH Pine Trails",
         "pm_2.5": 21.48,
         "pressure": 1013.51,
         "temp_f": 81
        },
        {
         "_deepnote_index_column": 51697,
         "code": "green",
         "humidity": 67,
         "lat": 29.806499,
         "location_type": "outside",
         "lon": -95.543647,
         "name": "Ballero-Air-SpringBranch",
         "pm_2.5": 6.52,
         "pressure": 1012.93,
         "temp_f": 84
        },
        {
         "_deepnote_index_column": 100523,
         "code": "green",
         "humidity": 29,
         "lat": 29.582712,
         "location_type": "inside",
         "lon": -95.119633,
         "name": "Bay Forest (IN)",
         "pm_2.5": 0.47,
         "pressure": 1014.75,
         "temp_f": 86
        },
        {
         "_deepnote_index_column": 3298,
         "code": "green",
         "humidity": 89,
         "lat": 29.583349,
         "location_type": "outside",
         "lon": -95.120087,
         "name": "Bay Forest",
         "pm_2.5": 7.05,
         "pressure": 1014.52,
         "temp_f": 83
        },
        {
         "_deepnote_index_column": 3033,
         "code": "green",
         "humidity": 66,
         "lat": 29.955063,
         "location_type": "outside",
         "lon": -95.737387,
         "name": "Bridgeland",
         "pm_2.5": 6.23,
         "pressure": 1009.34,
         "temp_f": 86
        },
        {
         "_deepnote_index_column": 50567,
         "code": "green",
         "humidity": 69,
         "lat": 29.691015,
         "location_type": "outside",
         "lon": -95.136015,
         "name": "C.and.Mi's",
         "pm_2.5": 5.9,
         "pressure": 1014.5,
         "temp_f": 84
        },
        {
         "_deepnote_index_column": 27905,
         "code": "orange",
         "humidity": 70,
         "lat": 29.790651,
         "location_type": "outside",
         "lon": -95.113845,
         "name": "Channelview Tx #1",
         "pm_2.5": 14.93,
         "pressure": 1015.38,
         "temp_f": 83
        },
        {
         "_deepnote_index_column": 116073,
         "code": "green",
         "humidity": 55,
         "lat": 29.463194,
         "location_type": "outside",
         "lon": -95.042483,
         "name": "Dickinson Office of Emergency Management",
         "pm_2.5": 0.3,
         "pressure": 1015.71,
         "temp_f": 89
        },
        {
         "_deepnote_index_column": 86003,
         "code": "green",
         "humidity": 68,
         "lat": 29.816738,
         "location_type": "outside",
         "lon": -95.303219,
         "name": "Houston Gardens",
         "pm_2.5": 8.86,
         "pressure": 1014.91,
         "temp_f": 83
        },
        {
         "_deepnote_index_column": 31025,
         "code": "green",
         "humidity": 85,
         "lat": 29.764788,
         "location_type": "outside",
         "lon": -95.178538,
         "name": "HRM-PA1",
         "pm_2.5": 4.2,
         "pressure": 1014.5,
         "temp_f": 82
        },
        {
         "_deepnote_index_column": 31035,
         "code": "orange",
         "humidity": 76,
         "lat": 29.76528,
         "location_type": "outside",
         "lon": -95.18111,
         "name": "hrm3-3",
         "pm_2.5": 15.79,
         "pressure": 1015.04,
         "temp_f": 82
        },
        {
         "_deepnote_index_column": 30911,
         "code": "orange",
         "humidity": 78,
         "lat": 29.764788,
         "location_type": "outside",
         "lon": -95.178538,
         "name": "HRM3-PA2",
         "pm_2.5": 15.23,
         "pressure": 1014.82,
         "temp_f": 82
        },
        {
         "_deepnote_index_column": 6752,
         "code": "green",
         "humidity": "nan",
         "lat": 29.717061,
         "location_type": "outside",
         "lon": -95.308764,
         "name": "IdylwoodEastEnd",
         "pm_2.5": 6.52,
         "pressure": "nan",
         "temp_f": "nan"
        },
        {
         "_deepnote_index_column": 56377,
         "code": "green",
         "humidity": 85,
         "lat": 29.193352,
         "location_type": "outside",
         "lon": -94.97924,
         "name": "Jamaica Beach TX",
         "pm_2.5": 9.39,
         "pressure": 703.02,
         "temp_f": 72
        },
        {
         "_deepnote_index_column": 3583,
         "code": "green",
         "humidity": 100,
         "lat": 29.570752,
         "location_type": "outside",
         "lon": -95.11873,
         "name": "Jgg",
         "pm_2.5": 5.08,
         "pressure": 1012.92,
         "temp_f": 85
        },
        {
         "_deepnote_index_column": 85127,
         "code": "green",
         "humidity": 100,
         "lat": 29.70373,
         "location_type": "outside",
         "lon": -95.05282,
         "name": "LAP5187",
         "pm_2.5": 7.38,
         "pressure": 1015.69,
         "temp_f": 82
        },
        {
         "_deepnote_index_column": 61909,
         "code": "green",
         "humidity": 28,
         "lat": 29.703527,
         "location_type": "inside",
         "lon": -95.458783,
         "name": "Laurel Street Indoors",
         "pm_2.5": 0.12,
         "pressure": 1013.45,
         "temp_f": 84
        },
        {
         "_deepnote_index_column": 51959,
         "code": "green",
         "humidity": 64,
         "lat": 29.797358,
         "location_type": "outside",
         "lon": -95.489989,
         "name": "Monarch",
         "pm_2.5": 6.67,
         "pressure": 1013.45,
         "temp_f": 84
        },
        {
         "_deepnote_index_column": 48545,
         "code": "green",
         "humidity": 70,
         "lat": 29.737535,
         "location_type": "outside",
         "lon": -95.406967,
         "name": "Museum District",
         "pm_2.5": 6.44,
         "pressure": 1011.71,
         "temp_f": 85
        },
        {
         "_deepnote_index_column": 51823,
         "code": "green",
         "humidity": 32,
         "lat": 29.778682,
         "location_type": "inside",
         "lon": -95.3505,
         "name": "Near Northside Houston",
         "pm_2.5": 1.39,
         "pressure": 1014.16,
         "temp_f": 80
        },
        {
         "_deepnote_index_column": 56059,
         "code": "green",
         "humidity": 63,
         "lat": 29.723649,
         "location_type": "outside",
         "lon": -95.420642,
         "name": "Northeast West U",
         "pm_2.5": 4.8,
         "pressure": 1014.57,
         "temp_f": 86
        },
        {
         "_deepnote_index_column": 30593,
         "code": "green",
         "humidity": 64,
         "lat": 29.557082,
         "location_type": "outside",
         "lon": -95.740333,
         "name": "Phil at Sweetgrass in Richmond",
         "pm_2.5": 5.02,
         "pressure": 1013.02,
         "temp_f": 85
        },
        {
         "_deepnote_index_column": 26659,
         "code": "green",
         "humidity": 61,
         "lat": 29.76556,
         "location_type": "outside",
         "lon": -95.413945,
         "name": "Rice Military Div",
         "pm_2.5": 5.57,
         "pressure": 1014.35,
         "temp_f": 88
        },
        {
         "_deepnote_index_column": 27009,
         "code": "green",
         "humidity": 32,
         "lat": 29.73305,
         "location_type": "inside",
         "lon": -95.585685,
         "name": "Royal Oaks Houston Tx - Inside",
         "pm_2.5": 0,
         "pressure": 1013.07,
         "temp_f": 81
        },
        {
         "_deepnote_index_column": 28851,
         "code": "green",
         "humidity": 67,
         "lat": 29.73305,
         "location_type": "outside",
         "lon": -95.585685,
         "name": "Royal Oaks Houston Tx - Outside",
         "pm_2.5": 4.38,
         "pressure": 1011.25,
         "temp_f": 86
        },
        {
         "_deepnote_index_column": 33033,
         "code": "green",
         "humidity": 71,
         "lat": 29.601254,
         "location_type": "outside",
         "lon": -94.99246,
         "name": "Schottel House",
         "pm_2.5": 5.16,
         "pressure": 1015.55,
         "temp_f": 84
        },
        {
         "_deepnote_index_column": 28679,
         "code": "green",
         "humidity": "nan",
         "lat": 29.582296,
         "location_type": "outside",
         "lon": -95.044651,
         "name": "Seabrook Island",
         "pm_2.5": 4.21,
         "pressure": "nan",
         "temp_f": "nan"
        },
        {
         "_deepnote_index_column": 28823,
         "code": "orange",
         "humidity": "nan",
         "lat": 29.799163,
         "location_type": "outside",
         "lon": -95.416531,
         "name": "Shady Acres ",
         "pm_2.5": 12.07,
         "pressure": "nan",
         "temp_f": "nan"
        },
        {
         "_deepnote_index_column": 27821,
         "code": "green",
         "humidity": "nan",
         "lat": 29.77074,
         "location_type": "outside",
         "lon": -95.370056,
         "name": "Test First Ward",
         "pm_2.5": 0,
         "pressure": "nan",
         "temp_f": "nan"
        },
        {
         "_deepnote_index_column": 2386,
         "code": "green",
         "humidity": 100,
         "lat": 29.532282,
         "location_type": "outside",
         "lon": -95.076473,
         "name": "The Lakefront",
         "pm_2.5": 5.09,
         "pressure": 1012.57,
         "temp_f": 85
        },
        {
         "_deepnote_index_column": 62023,
         "code": "darkpurple",
         "humidity": 34,
         "lat": 29.924318,
         "location_type": "inside",
         "lon": -95.584526,
         "name": "White Oak Bend",
         "pm_2.5": 209.28,
         "pressure": 1015.04,
         "temp_f": 91
        },
        {
         "_deepnote_index_column": 3777,
         "code": "green",
         "humidity": 71,
         "lat": 29.762896,
         "location_type": "outside",
         "lon": -95.707644,
         "name": "Windsor Park",
         "pm_2.5": 11.62,
         "pressure": 1010.92,
         "temp_f": 82
        },
        {
         "_deepnote_index_column": 31163,
         "code": "green",
         "humidity": 74,
         "lat": 29.78264,
         "location_type": "outside",
         "lon": -95.37274,
         "name": "Woodland Heights",
         "pm_2.5": 6.16,
         "pressure": 1014.49,
         "temp_f": 84
        },
        {
         "_deepnote_index_column": 34399,
         "code": "green",
         "humidity": 46,
         "lat": 29.762451,
         "location_type": "inside",
         "lon": -95.46637,
         "name": "WPI-1",
         "pm_2.5": 0,
         "pressure": 1009.78,
         "temp_f": 82
        },
        {
         "_deepnote_index_column": 34431,
         "code": "green",
         "humidity": 48,
         "lat": 29.762515,
         "location_type": "inside",
         "lon": -95.465982,
         "name": "WPI-2",
         "pm_2.5": 0,
         "pressure": 1009.88,
         "temp_f": 80
        }
       ]
      },
      "text/html": [
       "<div>\n",
       "<style scoped>\n",
       "    .dataframe tbody tr th:only-of-type {\n",
       "        vertical-align: middle;\n",
       "    }\n",
       "\n",
       "    .dataframe tbody tr th {\n",
       "        vertical-align: top;\n",
       "    }\n",
       "\n",
       "    .dataframe thead th {\n",
       "        text-align: right;\n",
       "    }\n",
       "</style>\n",
       "<table border=\"1\" class=\"dataframe\">\n",
       "  <thead>\n",
       "    <tr style=\"text-align: right;\">\n",
       "      <th></th>\n",
       "      <th>lat</th>\n",
       "      <th>lon</th>\n",
       "      <th>name</th>\n",
       "      <th>location_type</th>\n",
       "      <th>pm_2.5</th>\n",
       "      <th>temp_f</th>\n",
       "      <th>humidity</th>\n",
       "      <th>pressure</th>\n",
       "      <th>code</th>\n",
       "    </tr>\n",
       "    <tr>\n",
       "      <th>id</th>\n",
       "      <th></th>\n",
       "      <th></th>\n",
       "      <th></th>\n",
       "      <th></th>\n",
       "      <th></th>\n",
       "      <th></th>\n",
       "      <th></th>\n",
       "      <th></th>\n",
       "      <th></th>\n",
       "    </tr>\n",
       "  </thead>\n",
       "  <tbody>\n",
       "    <tr>\n",
       "      <th>74265</th>\n",
       "      <td>29.939444</td>\n",
       "      <td>-95.671354</td>\n",
       "      <td>16815 Flower Mist Lane</td>\n",
       "      <td>inside</td>\n",
       "      <td>1.63</td>\n",
       "      <td>76.0</td>\n",
       "      <td>32.0</td>\n",
       "      <td>1009.25</td>\n",
       "      <td>green</td>\n",
       "    </tr>\n",
       "    <tr>\n",
       "      <th>98139</th>\n",
       "      <td>29.818880</td>\n",
       "      <td>-95.695667</td>\n",
       "      <td>3623 Shadow Trail, Houston, Texas 77084</td>\n",
       "      <td>outside</td>\n",
       "      <td>6.28</td>\n",
       "      <td>84.0</td>\n",
       "      <td>66.0</td>\n",
       "      <td>1011.70</td>\n",
       "      <td>green</td>\n",
       "    </tr>\n",
       "    <tr>\n",
       "      <th>97279</th>\n",
       "      <td>29.743322</td>\n",
       "      <td>-95.232096</td>\n",
       "      <td>AAH 15th Street</td>\n",
       "      <td>outside</td>\n",
       "      <td>5.86</td>\n",
       "      <td>82.0</td>\n",
       "      <td>73.0</td>\n",
       "      <td>1014.94</td>\n",
       "      <td>green</td>\n",
       "    </tr>\n",
       "    <tr>\n",
       "      <th>99769</th>\n",
       "      <td>29.743369</td>\n",
       "      <td>-95.241979</td>\n",
       "      <td>AAH GP Eastway</td>\n",
       "      <td>outside</td>\n",
       "      <td>5.03</td>\n",
       "      <td>83.0</td>\n",
       "      <td>76.0</td>\n",
       "      <td>1016.04</td>\n",
       "      <td>green</td>\n",
       "    </tr>\n",
       "    <tr>\n",
       "      <th>99797</th>\n",
       "      <td>29.737321</td>\n",
       "      <td>-95.252961</td>\n",
       "      <td>AAH GP Manor</td>\n",
       "      <td>outside</td>\n",
       "      <td>8.69</td>\n",
       "      <td>82.0</td>\n",
       "      <td>72.0</td>\n",
       "      <td>1014.82</td>\n",
       "      <td>green</td>\n",
       "    </tr>\n",
       "    <tr>\n",
       "      <th>97325</th>\n",
       "      <td>29.809783</td>\n",
       "      <td>-95.195382</td>\n",
       "      <td>AAH Pine Trails</td>\n",
       "      <td>outside</td>\n",
       "      <td>21.48</td>\n",
       "      <td>81.0</td>\n",
       "      <td>68.0</td>\n",
       "      <td>1013.51</td>\n",
       "      <td>orange</td>\n",
       "    </tr>\n",
       "    <tr>\n",
       "      <th>51697</th>\n",
       "      <td>29.806499</td>\n",
       "      <td>-95.543647</td>\n",
       "      <td>Ballero-Air-SpringBranch</td>\n",
       "      <td>outside</td>\n",
       "      <td>6.52</td>\n",
       "      <td>84.0</td>\n",
       "      <td>67.0</td>\n",
       "      <td>1012.93</td>\n",
       "      <td>green</td>\n",
       "    </tr>\n",
       "    <tr>\n",
       "      <th>100523</th>\n",
       "      <td>29.582712</td>\n",
       "      <td>-95.119633</td>\n",
       "      <td>Bay Forest (IN)</td>\n",
       "      <td>inside</td>\n",
       "      <td>0.47</td>\n",
       "      <td>86.0</td>\n",
       "      <td>29.0</td>\n",
       "      <td>1014.75</td>\n",
       "      <td>green</td>\n",
       "    </tr>\n",
       "    <tr>\n",
       "      <th>3298</th>\n",
       "      <td>29.583349</td>\n",
       "      <td>-95.120087</td>\n",
       "      <td>Bay Forest</td>\n",
       "      <td>outside</td>\n",
       "      <td>7.05</td>\n",
       "      <td>83.0</td>\n",
       "      <td>89.0</td>\n",
       "      <td>1014.52</td>\n",
       "      <td>green</td>\n",
       "    </tr>\n",
       "    <tr>\n",
       "      <th>3033</th>\n",
       "      <td>29.955063</td>\n",
       "      <td>-95.737387</td>\n",
       "      <td>Bridgeland</td>\n",
       "      <td>outside</td>\n",
       "      <td>6.23</td>\n",
       "      <td>86.0</td>\n",
       "      <td>66.0</td>\n",
       "      <td>1009.34</td>\n",
       "      <td>green</td>\n",
       "    </tr>\n",
       "    <tr>\n",
       "      <th>50567</th>\n",
       "      <td>29.691015</td>\n",
       "      <td>-95.136015</td>\n",
       "      <td>C.and.Mi's</td>\n",
       "      <td>outside</td>\n",
       "      <td>5.90</td>\n",
       "      <td>84.0</td>\n",
       "      <td>69.0</td>\n",
       "      <td>1014.50</td>\n",
       "      <td>green</td>\n",
       "    </tr>\n",
       "    <tr>\n",
       "      <th>27905</th>\n",
       "      <td>29.790651</td>\n",
       "      <td>-95.113845</td>\n",
       "      <td>Channelview Tx #1</td>\n",
       "      <td>outside</td>\n",
       "      <td>14.93</td>\n",
       "      <td>83.0</td>\n",
       "      <td>70.0</td>\n",
       "      <td>1015.38</td>\n",
       "      <td>orange</td>\n",
       "    </tr>\n",
       "    <tr>\n",
       "      <th>116073</th>\n",
       "      <td>29.463194</td>\n",
       "      <td>-95.042483</td>\n",
       "      <td>Dickinson Office of Emergency Management</td>\n",
       "      <td>outside</td>\n",
       "      <td>0.30</td>\n",
       "      <td>89.0</td>\n",
       "      <td>55.0</td>\n",
       "      <td>1015.71</td>\n",
       "      <td>green</td>\n",
       "    </tr>\n",
       "    <tr>\n",
       "      <th>86003</th>\n",
       "      <td>29.816738</td>\n",
       "      <td>-95.303219</td>\n",
       "      <td>Houston Gardens</td>\n",
       "      <td>outside</td>\n",
       "      <td>8.86</td>\n",
       "      <td>83.0</td>\n",
       "      <td>68.0</td>\n",
       "      <td>1014.91</td>\n",
       "      <td>green</td>\n",
       "    </tr>\n",
       "    <tr>\n",
       "      <th>31025</th>\n",
       "      <td>29.764788</td>\n",
       "      <td>-95.178538</td>\n",
       "      <td>HRM-PA1</td>\n",
       "      <td>outside</td>\n",
       "      <td>4.20</td>\n",
       "      <td>82.0</td>\n",
       "      <td>85.0</td>\n",
       "      <td>1014.50</td>\n",
       "      <td>green</td>\n",
       "    </tr>\n",
       "    <tr>\n",
       "      <th>31035</th>\n",
       "      <td>29.765280</td>\n",
       "      <td>-95.181110</td>\n",
       "      <td>hrm3-3</td>\n",
       "      <td>outside</td>\n",
       "      <td>15.79</td>\n",
       "      <td>82.0</td>\n",
       "      <td>76.0</td>\n",
       "      <td>1015.04</td>\n",
       "      <td>orange</td>\n",
       "    </tr>\n",
       "    <tr>\n",
       "      <th>30911</th>\n",
       "      <td>29.764788</td>\n",
       "      <td>-95.178538</td>\n",
       "      <td>HRM3-PA2</td>\n",
       "      <td>outside</td>\n",
       "      <td>15.23</td>\n",
       "      <td>82.0</td>\n",
       "      <td>78.0</td>\n",
       "      <td>1014.82</td>\n",
       "      <td>orange</td>\n",
       "    </tr>\n",
       "    <tr>\n",
       "      <th>6752</th>\n",
       "      <td>29.717061</td>\n",
       "      <td>-95.308764</td>\n",
       "      <td>IdylwoodEastEnd</td>\n",
       "      <td>outside</td>\n",
       "      <td>6.52</td>\n",
       "      <td>NaN</td>\n",
       "      <td>NaN</td>\n",
       "      <td>NaN</td>\n",
       "      <td>green</td>\n",
       "    </tr>\n",
       "    <tr>\n",
       "      <th>56377</th>\n",
       "      <td>29.193352</td>\n",
       "      <td>-94.979240</td>\n",
       "      <td>Jamaica Beach TX</td>\n",
       "      <td>outside</td>\n",
       "      <td>9.39</td>\n",
       "      <td>72.0</td>\n",
       "      <td>85.0</td>\n",
       "      <td>703.02</td>\n",
       "      <td>green</td>\n",
       "    </tr>\n",
       "    <tr>\n",
       "      <th>3583</th>\n",
       "      <td>29.570752</td>\n",
       "      <td>-95.118730</td>\n",
       "      <td>Jgg</td>\n",
       "      <td>outside</td>\n",
       "      <td>5.08</td>\n",
       "      <td>85.0</td>\n",
       "      <td>100.0</td>\n",
       "      <td>1012.92</td>\n",
       "      <td>green</td>\n",
       "    </tr>\n",
       "    <tr>\n",
       "      <th>85127</th>\n",
       "      <td>29.703730</td>\n",
       "      <td>-95.052820</td>\n",
       "      <td>LAP5187</td>\n",
       "      <td>outside</td>\n",
       "      <td>7.38</td>\n",
       "      <td>82.0</td>\n",
       "      <td>100.0</td>\n",
       "      <td>1015.69</td>\n",
       "      <td>green</td>\n",
       "    </tr>\n",
       "    <tr>\n",
       "      <th>61909</th>\n",
       "      <td>29.703527</td>\n",
       "      <td>-95.458783</td>\n",
       "      <td>Laurel Street Indoors</td>\n",
       "      <td>inside</td>\n",
       "      <td>0.12</td>\n",
       "      <td>84.0</td>\n",
       "      <td>28.0</td>\n",
       "      <td>1013.45</td>\n",
       "      <td>green</td>\n",
       "    </tr>\n",
       "    <tr>\n",
       "      <th>51959</th>\n",
       "      <td>29.797358</td>\n",
       "      <td>-95.489989</td>\n",
       "      <td>Monarch</td>\n",
       "      <td>outside</td>\n",
       "      <td>6.67</td>\n",
       "      <td>84.0</td>\n",
       "      <td>64.0</td>\n",
       "      <td>1013.45</td>\n",
       "      <td>green</td>\n",
       "    </tr>\n",
       "    <tr>\n",
       "      <th>48545</th>\n",
       "      <td>29.737535</td>\n",
       "      <td>-95.406967</td>\n",
       "      <td>Museum District</td>\n",
       "      <td>outside</td>\n",
       "      <td>6.44</td>\n",
       "      <td>85.0</td>\n",
       "      <td>70.0</td>\n",
       "      <td>1011.71</td>\n",
       "      <td>green</td>\n",
       "    </tr>\n",
       "    <tr>\n",
       "      <th>51823</th>\n",
       "      <td>29.778682</td>\n",
       "      <td>-95.350500</td>\n",
       "      <td>Near Northside Houston</td>\n",
       "      <td>inside</td>\n",
       "      <td>1.39</td>\n",
       "      <td>80.0</td>\n",
       "      <td>32.0</td>\n",
       "      <td>1014.16</td>\n",
       "      <td>green</td>\n",
       "    </tr>\n",
       "    <tr>\n",
       "      <th>56059</th>\n",
       "      <td>29.723649</td>\n",
       "      <td>-95.420642</td>\n",
       "      <td>Northeast West U</td>\n",
       "      <td>outside</td>\n",
       "      <td>4.80</td>\n",
       "      <td>86.0</td>\n",
       "      <td>63.0</td>\n",
       "      <td>1014.57</td>\n",
       "      <td>green</td>\n",
       "    </tr>\n",
       "    <tr>\n",
       "      <th>30593</th>\n",
       "      <td>29.557082</td>\n",
       "      <td>-95.740333</td>\n",
       "      <td>Phil at Sweetgrass in Richmond</td>\n",
       "      <td>outside</td>\n",
       "      <td>5.02</td>\n",
       "      <td>85.0</td>\n",
       "      <td>64.0</td>\n",
       "      <td>1013.02</td>\n",
       "      <td>green</td>\n",
       "    </tr>\n",
       "    <tr>\n",
       "      <th>26659</th>\n",
       "      <td>29.765560</td>\n",
       "      <td>-95.413945</td>\n",
       "      <td>Rice Military Div</td>\n",
       "      <td>outside</td>\n",
       "      <td>5.57</td>\n",
       "      <td>88.0</td>\n",
       "      <td>61.0</td>\n",
       "      <td>1014.35</td>\n",
       "      <td>green</td>\n",
       "    </tr>\n",
       "    <tr>\n",
       "      <th>27009</th>\n",
       "      <td>29.733050</td>\n",
       "      <td>-95.585685</td>\n",
       "      <td>Royal Oaks Houston Tx - Inside</td>\n",
       "      <td>inside</td>\n",
       "      <td>0.00</td>\n",
       "      <td>81.0</td>\n",
       "      <td>32.0</td>\n",
       "      <td>1013.07</td>\n",
       "      <td>green</td>\n",
       "    </tr>\n",
       "    <tr>\n",
       "      <th>28851</th>\n",
       "      <td>29.733050</td>\n",
       "      <td>-95.585685</td>\n",
       "      <td>Royal Oaks Houston Tx - Outside</td>\n",
       "      <td>outside</td>\n",
       "      <td>4.38</td>\n",
       "      <td>86.0</td>\n",
       "      <td>67.0</td>\n",
       "      <td>1011.25</td>\n",
       "      <td>green</td>\n",
       "    </tr>\n",
       "    <tr>\n",
       "      <th>33033</th>\n",
       "      <td>29.601254</td>\n",
       "      <td>-94.992460</td>\n",
       "      <td>Schottel House</td>\n",
       "      <td>outside</td>\n",
       "      <td>5.16</td>\n",
       "      <td>84.0</td>\n",
       "      <td>71.0</td>\n",
       "      <td>1015.55</td>\n",
       "      <td>green</td>\n",
       "    </tr>\n",
       "    <tr>\n",
       "      <th>28679</th>\n",
       "      <td>29.582296</td>\n",
       "      <td>-95.044651</td>\n",
       "      <td>Seabrook Island</td>\n",
       "      <td>outside</td>\n",
       "      <td>4.21</td>\n",
       "      <td>NaN</td>\n",
       "      <td>NaN</td>\n",
       "      <td>NaN</td>\n",
       "      <td>green</td>\n",
       "    </tr>\n",
       "    <tr>\n",
       "      <th>28823</th>\n",
       "      <td>29.799163</td>\n",
       "      <td>-95.416531</td>\n",
       "      <td>Shady Acres</td>\n",
       "      <td>outside</td>\n",
       "      <td>12.07</td>\n",
       "      <td>NaN</td>\n",
       "      <td>NaN</td>\n",
       "      <td>NaN</td>\n",
       "      <td>orange</td>\n",
       "    </tr>\n",
       "    <tr>\n",
       "      <th>27821</th>\n",
       "      <td>29.770740</td>\n",
       "      <td>-95.370056</td>\n",
       "      <td>Test First Ward</td>\n",
       "      <td>outside</td>\n",
       "      <td>0.00</td>\n",
       "      <td>NaN</td>\n",
       "      <td>NaN</td>\n",
       "      <td>NaN</td>\n",
       "      <td>green</td>\n",
       "    </tr>\n",
       "    <tr>\n",
       "      <th>2386</th>\n",
       "      <td>29.532282</td>\n",
       "      <td>-95.076473</td>\n",
       "      <td>The Lakefront</td>\n",
       "      <td>outside</td>\n",
       "      <td>5.09</td>\n",
       "      <td>85.0</td>\n",
       "      <td>100.0</td>\n",
       "      <td>1012.57</td>\n",
       "      <td>green</td>\n",
       "    </tr>\n",
       "    <tr>\n",
       "      <th>62023</th>\n",
       "      <td>29.924318</td>\n",
       "      <td>-95.584526</td>\n",
       "      <td>White Oak Bend</td>\n",
       "      <td>inside</td>\n",
       "      <td>209.28</td>\n",
       "      <td>91.0</td>\n",
       "      <td>34.0</td>\n",
       "      <td>1015.04</td>\n",
       "      <td>darkpurple</td>\n",
       "    </tr>\n",
       "    <tr>\n",
       "      <th>3777</th>\n",
       "      <td>29.762896</td>\n",
       "      <td>-95.707644</td>\n",
       "      <td>Windsor Park</td>\n",
       "      <td>outside</td>\n",
       "      <td>11.62</td>\n",
       "      <td>82.0</td>\n",
       "      <td>71.0</td>\n",
       "      <td>1010.92</td>\n",
       "      <td>green</td>\n",
       "    </tr>\n",
       "    <tr>\n",
       "      <th>31163</th>\n",
       "      <td>29.782640</td>\n",
       "      <td>-95.372740</td>\n",
       "      <td>Woodland Heights</td>\n",
       "      <td>outside</td>\n",
       "      <td>6.16</td>\n",
       "      <td>84.0</td>\n",
       "      <td>74.0</td>\n",
       "      <td>1014.49</td>\n",
       "      <td>green</td>\n",
       "    </tr>\n",
       "    <tr>\n",
       "      <th>34399</th>\n",
       "      <td>29.762451</td>\n",
       "      <td>-95.466370</td>\n",
       "      <td>WPI-1</td>\n",
       "      <td>inside</td>\n",
       "      <td>0.00</td>\n",
       "      <td>82.0</td>\n",
       "      <td>46.0</td>\n",
       "      <td>1009.78</td>\n",
       "      <td>green</td>\n",
       "    </tr>\n",
       "    <tr>\n",
       "      <th>34431</th>\n",
       "      <td>29.762515</td>\n",
       "      <td>-95.465982</td>\n",
       "      <td>WPI-2</td>\n",
       "      <td>inside</td>\n",
       "      <td>0.00</td>\n",
       "      <td>80.0</td>\n",
       "      <td>48.0</td>\n",
       "      <td>1009.88</td>\n",
       "      <td>green</td>\n",
       "    </tr>\n",
       "  </tbody>\n",
       "</table>\n",
       "</div>"
      ],
      "text/plain": [
       "              lat        lon                                      name  \\\n",
       "id                                                                       \n",
       "74265   29.939444 -95.671354                    16815 Flower Mist Lane   \n",
       "98139   29.818880 -95.695667   3623 Shadow Trail, Houston, Texas 77084   \n",
       "97279   29.743322 -95.232096                           AAH 15th Street   \n",
       "99769   29.743369 -95.241979                            AAH GP Eastway   \n",
       "99797   29.737321 -95.252961                              AAH GP Manor   \n",
       "97325   29.809783 -95.195382                           AAH Pine Trails   \n",
       "51697   29.806499 -95.543647                  Ballero-Air-SpringBranch   \n",
       "100523  29.582712 -95.119633                           Bay Forest (IN)   \n",
       "3298    29.583349 -95.120087                                Bay Forest   \n",
       "3033    29.955063 -95.737387                                Bridgeland   \n",
       "50567   29.691015 -95.136015                                C.and.Mi's   \n",
       "27905   29.790651 -95.113845                         Channelview Tx #1   \n",
       "116073  29.463194 -95.042483  Dickinson Office of Emergency Management   \n",
       "86003   29.816738 -95.303219                           Houston Gardens   \n",
       "31025   29.764788 -95.178538                                   HRM-PA1   \n",
       "31035   29.765280 -95.181110                                    hrm3-3   \n",
       "30911   29.764788 -95.178538                                  HRM3-PA2   \n",
       "6752    29.717061 -95.308764                           IdylwoodEastEnd   \n",
       "56377   29.193352 -94.979240                          Jamaica Beach TX   \n",
       "3583    29.570752 -95.118730                                       Jgg   \n",
       "85127   29.703730 -95.052820                                   LAP5187   \n",
       "61909   29.703527 -95.458783                     Laurel Street Indoors   \n",
       "51959   29.797358 -95.489989                                   Monarch   \n",
       "48545   29.737535 -95.406967                           Museum District   \n",
       "51823   29.778682 -95.350500                    Near Northside Houston   \n",
       "56059   29.723649 -95.420642                          Northeast West U   \n",
       "30593   29.557082 -95.740333            Phil at Sweetgrass in Richmond   \n",
       "26659   29.765560 -95.413945                         Rice Military Div   \n",
       "27009   29.733050 -95.585685            Royal Oaks Houston Tx - Inside   \n",
       "28851   29.733050 -95.585685           Royal Oaks Houston Tx - Outside   \n",
       "33033   29.601254 -94.992460                            Schottel House   \n",
       "28679   29.582296 -95.044651                           Seabrook Island   \n",
       "28823   29.799163 -95.416531                              Shady Acres    \n",
       "27821   29.770740 -95.370056                           Test First Ward   \n",
       "2386    29.532282 -95.076473                             The Lakefront   \n",
       "62023   29.924318 -95.584526                            White Oak Bend   \n",
       "3777    29.762896 -95.707644                              Windsor Park   \n",
       "31163   29.782640 -95.372740                          Woodland Heights   \n",
       "34399   29.762451 -95.466370                                     WPI-1   \n",
       "34431   29.762515 -95.465982                                     WPI-2   \n",
       "\n",
       "       location_type  pm_2.5  temp_f  humidity  pressure        code  \n",
       "id                                                                    \n",
       "74265         inside    1.63    76.0      32.0   1009.25       green  \n",
       "98139        outside    6.28    84.0      66.0   1011.70       green  \n",
       "97279        outside    5.86    82.0      73.0   1014.94       green  \n",
       "99769        outside    5.03    83.0      76.0   1016.04       green  \n",
       "99797        outside    8.69    82.0      72.0   1014.82       green  \n",
       "97325        outside   21.48    81.0      68.0   1013.51      orange  \n",
       "51697        outside    6.52    84.0      67.0   1012.93       green  \n",
       "100523        inside    0.47    86.0      29.0   1014.75       green  \n",
       "3298         outside    7.05    83.0      89.0   1014.52       green  \n",
       "3033         outside    6.23    86.0      66.0   1009.34       green  \n",
       "50567        outside    5.90    84.0      69.0   1014.50       green  \n",
       "27905        outside   14.93    83.0      70.0   1015.38      orange  \n",
       "116073       outside    0.30    89.0      55.0   1015.71       green  \n",
       "86003        outside    8.86    83.0      68.0   1014.91       green  \n",
       "31025        outside    4.20    82.0      85.0   1014.50       green  \n",
       "31035        outside   15.79    82.0      76.0   1015.04      orange  \n",
       "30911        outside   15.23    82.0      78.0   1014.82      orange  \n",
       "6752         outside    6.52     NaN       NaN       NaN       green  \n",
       "56377        outside    9.39    72.0      85.0    703.02       green  \n",
       "3583         outside    5.08    85.0     100.0   1012.92       green  \n",
       "85127        outside    7.38    82.0     100.0   1015.69       green  \n",
       "61909         inside    0.12    84.0      28.0   1013.45       green  \n",
       "51959        outside    6.67    84.0      64.0   1013.45       green  \n",
       "48545        outside    6.44    85.0      70.0   1011.71       green  \n",
       "51823         inside    1.39    80.0      32.0   1014.16       green  \n",
       "56059        outside    4.80    86.0      63.0   1014.57       green  \n",
       "30593        outside    5.02    85.0      64.0   1013.02       green  \n",
       "26659        outside    5.57    88.0      61.0   1014.35       green  \n",
       "27009         inside    0.00    81.0      32.0   1013.07       green  \n",
       "28851        outside    4.38    86.0      67.0   1011.25       green  \n",
       "33033        outside    5.16    84.0      71.0   1015.55       green  \n",
       "28679        outside    4.21     NaN       NaN       NaN       green  \n",
       "28823        outside   12.07     NaN       NaN       NaN      orange  \n",
       "27821        outside    0.00     NaN       NaN       NaN       green  \n",
       "2386         outside    5.09    85.0     100.0   1012.57       green  \n",
       "62023         inside  209.28    91.0      34.0   1015.04  darkpurple  \n",
       "3777         outside   11.62    82.0      71.0   1010.92       green  \n",
       "31163        outside    6.16    84.0      74.0   1014.49       green  \n",
       "34399         inside    0.00    82.0      46.0   1009.78       green  \n",
       "34431         inside    0.00    80.0      48.0   1009.88       green  "
      ]
     },
     "execution_count": 16,
     "metadata": {},
     "output_type": "execute_result"
    }
   ],
   "source": [
    "#creating a column that indicates the AQI code name\n",
    "color_code = []\n",
    "for i in houston_data[\"pm_2.5\"].to_list():\n",
    "    if i <= 12.0:\n",
    "        color_code.append('green')\n",
    "    elif (i < 12) & (i <=35.4):\n",
    "        color_code.append('yellow')\n",
    "    elif (i < 35.5) & (i <=55.4):\n",
    "        color_code.append('orange')   \n",
    "    elif (i < 55.5) & (i <=150.4):\n",
    "        color_code.append('red')\n",
    "    elif (i < 150.5) & (i <=250.4):\n",
    "        color_code.append('purple')\n",
    "    else:\n",
    "        color_code.append('darkpurple')\n",
    "\n",
    "houston_data['code'] = color_code\n",
    "houston_data"
   ]
  },
  {
   "cell_type": "markdown",
   "metadata": {
    "cell_id": "00037-14447c8f-8325-4b23-b67e-3365018112c2",
    "deepnote_cell_type": "markdown",
    "tags": []
   },
   "source": [
    "<br>\n",
    "\n",
    "Our last step is to use the longitude and latitude coordinates to map the relative location of the sensor with is corresponding AQI Index color!"
   ]
  },
  {
   "cell_type": "code",
   "execution_count": null,
   "metadata": {
    "cell_id": "00036-99554bd8-3609-4071-9f30-497534fee64d",
    "deepnote_cell_type": "code",
    "deepnote_to_be_reexecuted": false,
    "execution_millis": 240,
    "execution_start": 1633062993066,
    "source_hash": "341636af",
    "tags": []
   },
   "outputs": [
    {
     "data": {
      "text/html": [
       "<div style=\"width:100%;\"><div style=\"position:relative;width:100%;height:0;padding-bottom:60%;\"><span style=\"color:#565656\">Make this Notebook Trusted to load map: File -> Trust Notebook</span><iframe src=\"about:blank\" style=\"position:absolute;width:100%;height:100%;left:0;top:0;border:none !important;\" data-html=%3C%21DOCTYPE%20html%3E%0A%3Chead%3E%20%20%20%20%0A%20%20%20%20%3Cmeta%20http-equiv%3D%22content-type%22%20content%3D%22text/html%3B%20charset%3DUTF-8%22%20/%3E%0A%20%20%20%20%0A%20%20%20%20%20%20%20%20%3Cscript%3E%0A%20%20%20%20%20%20%20%20%20%20%20%20L_NO_TOUCH%20%3D%20false%3B%0A%20%20%20%20%20%20%20%20%20%20%20%20L_DISABLE_3D%20%3D%20false%3B%0A%20%20%20%20%20%20%20%20%3C/script%3E%0A%20%20%20%20%0A%20%20%20%20%3Cstyle%3Ehtml%2C%20body%20%7Bwidth%3A%20100%25%3Bheight%3A%20100%25%3Bmargin%3A%200%3Bpadding%3A%200%3B%7D%3C/style%3E%0A%20%20%20%20%3Cstyle%3E%23map%20%7Bposition%3Aabsolute%3Btop%3A0%3Bbottom%3A0%3Bright%3A0%3Bleft%3A0%3B%7D%3C/style%3E%0A%20%20%20%20%3Cscript%20src%3D%22https%3A//cdn.jsdelivr.net/npm/leaflet%401.6.0/dist/leaflet.js%22%3E%3C/script%3E%0A%20%20%20%20%3Cscript%20src%3D%22https%3A//code.jquery.com/jquery-1.12.4.min.js%22%3E%3C/script%3E%0A%20%20%20%20%3Cscript%20src%3D%22https%3A//maxcdn.bootstrapcdn.com/bootstrap/3.2.0/js/bootstrap.min.js%22%3E%3C/script%3E%0A%20%20%20%20%3Cscript%20src%3D%22https%3A//cdnjs.cloudflare.com/ajax/libs/Leaflet.awesome-markers/2.0.2/leaflet.awesome-markers.js%22%3E%3C/script%3E%0A%20%20%20%20%3Clink%20rel%3D%22stylesheet%22%20href%3D%22https%3A//cdn.jsdelivr.net/npm/leaflet%401.6.0/dist/leaflet.css%22/%3E%0A%20%20%20%20%3Clink%20rel%3D%22stylesheet%22%20href%3D%22https%3A//maxcdn.bootstrapcdn.com/bootstrap/3.2.0/css/bootstrap.min.css%22/%3E%0A%20%20%20%20%3Clink%20rel%3D%22stylesheet%22%20href%3D%22https%3A//maxcdn.bootstrapcdn.com/bootstrap/3.2.0/css/bootstrap-theme.min.css%22/%3E%0A%20%20%20%20%3Clink%20rel%3D%22stylesheet%22%20href%3D%22https%3A//maxcdn.bootstrapcdn.com/font-awesome/4.6.3/css/font-awesome.min.css%22/%3E%0A%20%20%20%20%3Clink%20rel%3D%22stylesheet%22%20href%3D%22https%3A//cdnjs.cloudflare.com/ajax/libs/Leaflet.awesome-markers/2.0.2/leaflet.awesome-markers.css%22/%3E%0A%20%20%20%20%3Clink%20rel%3D%22stylesheet%22%20href%3D%22https%3A//cdn.jsdelivr.net/gh/python-visualization/folium/folium/templates/leaflet.awesome.rotate.min.css%22/%3E%0A%20%20%20%20%0A%20%20%20%20%20%20%20%20%20%20%20%20%3Cmeta%20name%3D%22viewport%22%20content%3D%22width%3Ddevice-width%2C%0A%20%20%20%20%20%20%20%20%20%20%20%20%20%20%20%20initial-scale%3D1.0%2C%20maximum-scale%3D1.0%2C%20user-scalable%3Dno%22%20/%3E%0A%20%20%20%20%20%20%20%20%20%20%20%20%3Cstyle%3E%0A%20%20%20%20%20%20%20%20%20%20%20%20%20%20%20%20%23map_92c501c73eef49dfa928a03f64e55f40%20%7B%0A%20%20%20%20%20%20%20%20%20%20%20%20%20%20%20%20%20%20%20%20position%3A%20relative%3B%0A%20%20%20%20%20%20%20%20%20%20%20%20%20%20%20%20%20%20%20%20width%3A%20100.0%25%3B%0A%20%20%20%20%20%20%20%20%20%20%20%20%20%20%20%20%20%20%20%20height%3A%20100.0%25%3B%0A%20%20%20%20%20%20%20%20%20%20%20%20%20%20%20%20%20%20%20%20left%3A%200.0%25%3B%0A%20%20%20%20%20%20%20%20%20%20%20%20%20%20%20%20%20%20%20%20top%3A%200.0%25%3B%0A%20%20%20%20%20%20%20%20%20%20%20%20%20%20%20%20%7D%0A%20%20%20%20%20%20%20%20%20%20%20%20%3C/style%3E%0A%20%20%20%20%20%20%20%20%0A%3C/head%3E%0A%3Cbody%3E%20%20%20%20%0A%20%20%20%20%0A%20%20%20%20%20%20%20%20%20%20%20%20%3Cdiv%20class%3D%22folium-map%22%20id%3D%22map_92c501c73eef49dfa928a03f64e55f40%22%20%3E%3C/div%3E%0A%20%20%20%20%20%20%20%20%0A%3C/body%3E%0A%3Cscript%3E%20%20%20%20%0A%20%20%20%20%0A%20%20%20%20%20%20%20%20%20%20%20%20var%20map_92c501c73eef49dfa928a03f64e55f40%20%3D%20L.map%28%0A%20%20%20%20%20%20%20%20%20%20%20%20%20%20%20%20%22map_92c501c73eef49dfa928a03f64e55f40%22%2C%0A%20%20%20%20%20%20%20%20%20%20%20%20%20%20%20%20%7B%0A%20%20%20%20%20%20%20%20%20%20%20%20%20%20%20%20%20%20%20%20center%3A%20%5B29.7604%2C%20-95.3698%5D%2C%0A%20%20%20%20%20%20%20%20%20%20%20%20%20%20%20%20%20%20%20%20crs%3A%20L.CRS.EPSG3857%2C%0A%20%20%20%20%20%20%20%20%20%20%20%20%20%20%20%20%20%20%20%20zoom%3A%2010%2C%0A%20%20%20%20%20%20%20%20%20%20%20%20%20%20%20%20%20%20%20%20zoomControl%3A%20true%2C%0A%20%20%20%20%20%20%20%20%20%20%20%20%20%20%20%20%20%20%20%20preferCanvas%3A%20false%2C%0A%20%20%20%20%20%20%20%20%20%20%20%20%20%20%20%20%7D%0A%20%20%20%20%20%20%20%20%20%20%20%20%29%3B%0A%0A%20%20%20%20%20%20%20%20%20%20%20%20%0A%0A%20%20%20%20%20%20%20%20%0A%20%20%20%20%0A%20%20%20%20%20%20%20%20%20%20%20%20var%20tile_layer_c9c7db3f38b245c2a2d7678b733197df%20%3D%20L.tileLayer%28%0A%20%20%20%20%20%20%20%20%20%20%20%20%20%20%20%20%22https%3A//%7Bs%7D.tile.openstreetmap.org/%7Bz%7D/%7Bx%7D/%7By%7D.png%22%2C%0A%20%20%20%20%20%20%20%20%20%20%20%20%20%20%20%20%7B%22attribution%22%3A%20%22Data%20by%20%5Cu0026copy%3B%20%5Cu003ca%20href%3D%5C%22http%3A//openstreetmap.org%5C%22%5Cu003eOpenStreetMap%5Cu003c/a%5Cu003e%2C%20under%20%5Cu003ca%20href%3D%5C%22http%3A//www.openstreetmap.org/copyright%5C%22%5Cu003eODbL%5Cu003c/a%5Cu003e.%22%2C%20%22detectRetina%22%3A%20false%2C%20%22maxNativeZoom%22%3A%2018%2C%20%22maxZoom%22%3A%2018%2C%20%22minZoom%22%3A%200%2C%20%22noWrap%22%3A%20false%2C%20%22opacity%22%3A%201%2C%20%22subdomains%22%3A%20%22abc%22%2C%20%22tms%22%3A%20false%7D%0A%20%20%20%20%20%20%20%20%20%20%20%20%29.addTo%28map_92c501c73eef49dfa928a03f64e55f40%29%3B%0A%20%20%20%20%20%20%20%20%0A%20%20%20%20%0A%20%20%20%20%20%20%20%20%20%20%20%20var%20marker_0dba6698bca741979fd05a50bf6f4eee%20%3D%20L.marker%28%0A%20%20%20%20%20%20%20%20%20%20%20%20%20%20%20%20%5B29.939444%2C%20-95.671354%5D%2C%0A%20%20%20%20%20%20%20%20%20%20%20%20%20%20%20%20%7B%7D%0A%20%20%20%20%20%20%20%20%20%20%20%20%29.addTo%28map_92c501c73eef49dfa928a03f64e55f40%29%3B%0A%20%20%20%20%20%20%20%20%0A%20%20%20%20%0A%20%20%20%20%20%20%20%20%20%20%20%20var%20icon_2b1391e016f9483aa6ff55d41ed8ce6d%20%3D%20L.AwesomeMarkers.icon%28%0A%20%20%20%20%20%20%20%20%20%20%20%20%20%20%20%20%7B%22extraClasses%22%3A%20%22fa-rotate-0%22%2C%20%22icon%22%3A%20%22info-sign%22%2C%20%22iconColor%22%3A%20%22white%22%2C%20%22markerColor%22%3A%20%22green%22%2C%20%22prefix%22%3A%20%22glyphicon%22%7D%0A%20%20%20%20%20%20%20%20%20%20%20%20%29%3B%0A%20%20%20%20%20%20%20%20%20%20%20%20marker_0dba6698bca741979fd05a50bf6f4eee.setIcon%28icon_2b1391e016f9483aa6ff55d41ed8ce6d%29%3B%0A%20%20%20%20%20%20%20%20%0A%20%20%20%20%0A%20%20%20%20%20%20%20%20var%20popup_332a7534cf6f4ebcbc29b2795a8d9b8c%20%3D%20L.popup%28%7B%22maxWidth%22%3A%20%22100%25%22%7D%29%3B%0A%0A%20%20%20%20%20%20%20%20%0A%20%20%20%20%20%20%20%20%20%20%20%20var%20html_3ece72c861a7424e970401c9fb19d8a9%20%3D%20%24%28%60%3Cdiv%20id%3D%22html_3ece72c861a7424e970401c9fb19d8a9%22%20style%3D%22width%3A%20100.0%25%3B%20height%3A%20100.0%25%3B%22%3E16815%20Flower%20Mist%20Lane%3C/div%3E%60%29%5B0%5D%3B%0A%20%20%20%20%20%20%20%20%20%20%20%20popup_332a7534cf6f4ebcbc29b2795a8d9b8c.setContent%28html_3ece72c861a7424e970401c9fb19d8a9%29%3B%0A%20%20%20%20%20%20%20%20%0A%0A%20%20%20%20%20%20%20%20marker_0dba6698bca741979fd05a50bf6f4eee.bindPopup%28popup_332a7534cf6f4ebcbc29b2795a8d9b8c%29%0A%20%20%20%20%20%20%20%20%3B%0A%0A%20%20%20%20%20%20%20%20%0A%20%20%20%20%0A%20%20%20%20%0A%20%20%20%20%20%20%20%20%20%20%20%20var%20marker_09f330ef9a4c4b1c8155cdcd0bbdeb00%20%3D%20L.marker%28%0A%20%20%20%20%20%20%20%20%20%20%20%20%20%20%20%20%5B29.81888%2C%20-95.695667%5D%2C%0A%20%20%20%20%20%20%20%20%20%20%20%20%20%20%20%20%7B%7D%0A%20%20%20%20%20%20%20%20%20%20%20%20%29.addTo%28map_92c501c73eef49dfa928a03f64e55f40%29%3B%0A%20%20%20%20%20%20%20%20%0A%20%20%20%20%0A%20%20%20%20%20%20%20%20%20%20%20%20var%20icon_99c3f609bbff417cb0cdefe52e17da28%20%3D%20L.AwesomeMarkers.icon%28%0A%20%20%20%20%20%20%20%20%20%20%20%20%20%20%20%20%7B%22extraClasses%22%3A%20%22fa-rotate-0%22%2C%20%22icon%22%3A%20%22info-sign%22%2C%20%22iconColor%22%3A%20%22white%22%2C%20%22markerColor%22%3A%20%22green%22%2C%20%22prefix%22%3A%20%22glyphicon%22%7D%0A%20%20%20%20%20%20%20%20%20%20%20%20%29%3B%0A%20%20%20%20%20%20%20%20%20%20%20%20marker_09f330ef9a4c4b1c8155cdcd0bbdeb00.setIcon%28icon_99c3f609bbff417cb0cdefe52e17da28%29%3B%0A%20%20%20%20%20%20%20%20%0A%20%20%20%20%0A%20%20%20%20%20%20%20%20var%20popup_4199244af8f44e409f99f438239a4505%20%3D%20L.popup%28%7B%22maxWidth%22%3A%20%22100%25%22%7D%29%3B%0A%0A%20%20%20%20%20%20%20%20%0A%20%20%20%20%20%20%20%20%20%20%20%20var%20html_1b87893686c44687b8b25399fef07d09%20%3D%20%24%28%60%3Cdiv%20id%3D%22html_1b87893686c44687b8b25399fef07d09%22%20style%3D%22width%3A%20100.0%25%3B%20height%3A%20100.0%25%3B%22%3E3623%20Shadow%20Trail%2C%20Houston%2C%20Texas%2077084%3C/div%3E%60%29%5B0%5D%3B%0A%20%20%20%20%20%20%20%20%20%20%20%20popup_4199244af8f44e409f99f438239a4505.setContent%28html_1b87893686c44687b8b25399fef07d09%29%3B%0A%20%20%20%20%20%20%20%20%0A%0A%20%20%20%20%20%20%20%20marker_09f330ef9a4c4b1c8155cdcd0bbdeb00.bindPopup%28popup_4199244af8f44e409f99f438239a4505%29%0A%20%20%20%20%20%20%20%20%3B%0A%0A%20%20%20%20%20%20%20%20%0A%20%20%20%20%0A%20%20%20%20%0A%20%20%20%20%20%20%20%20%20%20%20%20var%20marker_46b8957d274040aea3709d7235b31e78%20%3D%20L.marker%28%0A%20%20%20%20%20%20%20%20%20%20%20%20%20%20%20%20%5B29.743322%2C%20-95.232096%5D%2C%0A%20%20%20%20%20%20%20%20%20%20%20%20%20%20%20%20%7B%7D%0A%20%20%20%20%20%20%20%20%20%20%20%20%29.addTo%28map_92c501c73eef49dfa928a03f64e55f40%29%3B%0A%20%20%20%20%20%20%20%20%0A%20%20%20%20%0A%20%20%20%20%20%20%20%20%20%20%20%20var%20icon_60b5e5bd669a4e59a5f9d9b37ffeea2a%20%3D%20L.AwesomeMarkers.icon%28%0A%20%20%20%20%20%20%20%20%20%20%20%20%20%20%20%20%7B%22extraClasses%22%3A%20%22fa-rotate-0%22%2C%20%22icon%22%3A%20%22info-sign%22%2C%20%22iconColor%22%3A%20%22white%22%2C%20%22markerColor%22%3A%20%22green%22%2C%20%22prefix%22%3A%20%22glyphicon%22%7D%0A%20%20%20%20%20%20%20%20%20%20%20%20%29%3B%0A%20%20%20%20%20%20%20%20%20%20%20%20marker_46b8957d274040aea3709d7235b31e78.setIcon%28icon_60b5e5bd669a4e59a5f9d9b37ffeea2a%29%3B%0A%20%20%20%20%20%20%20%20%0A%20%20%20%20%0A%20%20%20%20%20%20%20%20var%20popup_46a1f588f3b24257aae2acd1345ff48f%20%3D%20L.popup%28%7B%22maxWidth%22%3A%20%22100%25%22%7D%29%3B%0A%0A%20%20%20%20%20%20%20%20%0A%20%20%20%20%20%20%20%20%20%20%20%20var%20html_804d61d0370b4c2a92726ef10db304d5%20%3D%20%24%28%60%3Cdiv%20id%3D%22html_804d61d0370b4c2a92726ef10db304d5%22%20style%3D%22width%3A%20100.0%25%3B%20height%3A%20100.0%25%3B%22%3EAAH%2015th%20Street%3C/div%3E%60%29%5B0%5D%3B%0A%20%20%20%20%20%20%20%20%20%20%20%20popup_46a1f588f3b24257aae2acd1345ff48f.setContent%28html_804d61d0370b4c2a92726ef10db304d5%29%3B%0A%20%20%20%20%20%20%20%20%0A%0A%20%20%20%20%20%20%20%20marker_46b8957d274040aea3709d7235b31e78.bindPopup%28popup_46a1f588f3b24257aae2acd1345ff48f%29%0A%20%20%20%20%20%20%20%20%3B%0A%0A%20%20%20%20%20%20%20%20%0A%20%20%20%20%0A%20%20%20%20%0A%20%20%20%20%20%20%20%20%20%20%20%20var%20marker_83ef4312833c4dc3a9567a0a719f3047%20%3D%20L.marker%28%0A%20%20%20%20%20%20%20%20%20%20%20%20%20%20%20%20%5B29.743369%2C%20-95.241979%5D%2C%0A%20%20%20%20%20%20%20%20%20%20%20%20%20%20%20%20%7B%7D%0A%20%20%20%20%20%20%20%20%20%20%20%20%29.addTo%28map_92c501c73eef49dfa928a03f64e55f40%29%3B%0A%20%20%20%20%20%20%20%20%0A%20%20%20%20%0A%20%20%20%20%20%20%20%20%20%20%20%20var%20icon_adb9223c660d4ce79415f635cf044d6f%20%3D%20L.AwesomeMarkers.icon%28%0A%20%20%20%20%20%20%20%20%20%20%20%20%20%20%20%20%7B%22extraClasses%22%3A%20%22fa-rotate-0%22%2C%20%22icon%22%3A%20%22info-sign%22%2C%20%22iconColor%22%3A%20%22white%22%2C%20%22markerColor%22%3A%20%22green%22%2C%20%22prefix%22%3A%20%22glyphicon%22%7D%0A%20%20%20%20%20%20%20%20%20%20%20%20%29%3B%0A%20%20%20%20%20%20%20%20%20%20%20%20marker_83ef4312833c4dc3a9567a0a719f3047.setIcon%28icon_adb9223c660d4ce79415f635cf044d6f%29%3B%0A%20%20%20%20%20%20%20%20%0A%20%20%20%20%0A%20%20%20%20%20%20%20%20var%20popup_a54217172cf741b88d462f24d281f97a%20%3D%20L.popup%28%7B%22maxWidth%22%3A%20%22100%25%22%7D%29%3B%0A%0A%20%20%20%20%20%20%20%20%0A%20%20%20%20%20%20%20%20%20%20%20%20var%20html_89505931b4274b3b837ad857a33efedc%20%3D%20%24%28%60%3Cdiv%20id%3D%22html_89505931b4274b3b837ad857a33efedc%22%20style%3D%22width%3A%20100.0%25%3B%20height%3A%20100.0%25%3B%22%3EAAH%20GP%20Eastway%3C/div%3E%60%29%5B0%5D%3B%0A%20%20%20%20%20%20%20%20%20%20%20%20popup_a54217172cf741b88d462f24d281f97a.setContent%28html_89505931b4274b3b837ad857a33efedc%29%3B%0A%20%20%20%20%20%20%20%20%0A%0A%20%20%20%20%20%20%20%20marker_83ef4312833c4dc3a9567a0a719f3047.bindPopup%28popup_a54217172cf741b88d462f24d281f97a%29%0A%20%20%20%20%20%20%20%20%3B%0A%0A%20%20%20%20%20%20%20%20%0A%20%20%20%20%0A%20%20%20%20%0A%20%20%20%20%20%20%20%20%20%20%20%20var%20marker_88c680bd689746d685f31c1e933de67e%20%3D%20L.marker%28%0A%20%20%20%20%20%20%20%20%20%20%20%20%20%20%20%20%5B29.737321%2C%20-95.252961%5D%2C%0A%20%20%20%20%20%20%20%20%20%20%20%20%20%20%20%20%7B%7D%0A%20%20%20%20%20%20%20%20%20%20%20%20%29.addTo%28map_92c501c73eef49dfa928a03f64e55f40%29%3B%0A%20%20%20%20%20%20%20%20%0A%20%20%20%20%0A%20%20%20%20%20%20%20%20%20%20%20%20var%20icon_113872822bb24add8f96084a59aa54ce%20%3D%20L.AwesomeMarkers.icon%28%0A%20%20%20%20%20%20%20%20%20%20%20%20%20%20%20%20%7B%22extraClasses%22%3A%20%22fa-rotate-0%22%2C%20%22icon%22%3A%20%22info-sign%22%2C%20%22iconColor%22%3A%20%22white%22%2C%20%22markerColor%22%3A%20%22green%22%2C%20%22prefix%22%3A%20%22glyphicon%22%7D%0A%20%20%20%20%20%20%20%20%20%20%20%20%29%3B%0A%20%20%20%20%20%20%20%20%20%20%20%20marker_88c680bd689746d685f31c1e933de67e.setIcon%28icon_113872822bb24add8f96084a59aa54ce%29%3B%0A%20%20%20%20%20%20%20%20%0A%20%20%20%20%0A%20%20%20%20%20%20%20%20var%20popup_649c74e490e746edaf91b86494b5a9ac%20%3D%20L.popup%28%7B%22maxWidth%22%3A%20%22100%25%22%7D%29%3B%0A%0A%20%20%20%20%20%20%20%20%0A%20%20%20%20%20%20%20%20%20%20%20%20var%20html_b0d1caa81acb4484ae7bc550be307ec9%20%3D%20%24%28%60%3Cdiv%20id%3D%22html_b0d1caa81acb4484ae7bc550be307ec9%22%20style%3D%22width%3A%20100.0%25%3B%20height%3A%20100.0%25%3B%22%3EAAH%20GP%20Manor%3C/div%3E%60%29%5B0%5D%3B%0A%20%20%20%20%20%20%20%20%20%20%20%20popup_649c74e490e746edaf91b86494b5a9ac.setContent%28html_b0d1caa81acb4484ae7bc550be307ec9%29%3B%0A%20%20%20%20%20%20%20%20%0A%0A%20%20%20%20%20%20%20%20marker_88c680bd689746d685f31c1e933de67e.bindPopup%28popup_649c74e490e746edaf91b86494b5a9ac%29%0A%20%20%20%20%20%20%20%20%3B%0A%0A%20%20%20%20%20%20%20%20%0A%20%20%20%20%0A%20%20%20%20%0A%20%20%20%20%20%20%20%20%20%20%20%20var%20marker_924ef2f31994440f8b3d03dbf4df096f%20%3D%20L.marker%28%0A%20%20%20%20%20%20%20%20%20%20%20%20%20%20%20%20%5B29.809783%2C%20-95.195382%5D%2C%0A%20%20%20%20%20%20%20%20%20%20%20%20%20%20%20%20%7B%7D%0A%20%20%20%20%20%20%20%20%20%20%20%20%29.addTo%28map_92c501c73eef49dfa928a03f64e55f40%29%3B%0A%20%20%20%20%20%20%20%20%0A%20%20%20%20%0A%20%20%20%20%20%20%20%20%20%20%20%20var%20icon_e63cf2f51c72459f8ee49631ace52cbb%20%3D%20L.AwesomeMarkers.icon%28%0A%20%20%20%20%20%20%20%20%20%20%20%20%20%20%20%20%7B%22extraClasses%22%3A%20%22fa-rotate-0%22%2C%20%22icon%22%3A%20%22info-sign%22%2C%20%22iconColor%22%3A%20%22white%22%2C%20%22markerColor%22%3A%20%22orange%22%2C%20%22prefix%22%3A%20%22glyphicon%22%7D%0A%20%20%20%20%20%20%20%20%20%20%20%20%29%3B%0A%20%20%20%20%20%20%20%20%20%20%20%20marker_924ef2f31994440f8b3d03dbf4df096f.setIcon%28icon_e63cf2f51c72459f8ee49631ace52cbb%29%3B%0A%20%20%20%20%20%20%20%20%0A%20%20%20%20%0A%20%20%20%20%20%20%20%20var%20popup_9754ed83105345158476d156eb2a8b21%20%3D%20L.popup%28%7B%22maxWidth%22%3A%20%22100%25%22%7D%29%3B%0A%0A%20%20%20%20%20%20%20%20%0A%20%20%20%20%20%20%20%20%20%20%20%20var%20html_31844d3da09b46749d8cee1d5d38dfc4%20%3D%20%24%28%60%3Cdiv%20id%3D%22html_31844d3da09b46749d8cee1d5d38dfc4%22%20style%3D%22width%3A%20100.0%25%3B%20height%3A%20100.0%25%3B%22%3EAAH%20Pine%20Trails%3C/div%3E%60%29%5B0%5D%3B%0A%20%20%20%20%20%20%20%20%20%20%20%20popup_9754ed83105345158476d156eb2a8b21.setContent%28html_31844d3da09b46749d8cee1d5d38dfc4%29%3B%0A%20%20%20%20%20%20%20%20%0A%0A%20%20%20%20%20%20%20%20marker_924ef2f31994440f8b3d03dbf4df096f.bindPopup%28popup_9754ed83105345158476d156eb2a8b21%29%0A%20%20%20%20%20%20%20%20%3B%0A%0A%20%20%20%20%20%20%20%20%0A%20%20%20%20%0A%20%20%20%20%0A%20%20%20%20%20%20%20%20%20%20%20%20var%20marker_c85b3570274840d7b3e95d0520948414%20%3D%20L.marker%28%0A%20%20%20%20%20%20%20%20%20%20%20%20%20%20%20%20%5B29.806499%2C%20-95.543647%5D%2C%0A%20%20%20%20%20%20%20%20%20%20%20%20%20%20%20%20%7B%7D%0A%20%20%20%20%20%20%20%20%20%20%20%20%29.addTo%28map_92c501c73eef49dfa928a03f64e55f40%29%3B%0A%20%20%20%20%20%20%20%20%0A%20%20%20%20%0A%20%20%20%20%20%20%20%20%20%20%20%20var%20icon_2b9e10f3709e45629caafa06b27a2db8%20%3D%20L.AwesomeMarkers.icon%28%0A%20%20%20%20%20%20%20%20%20%20%20%20%20%20%20%20%7B%22extraClasses%22%3A%20%22fa-rotate-0%22%2C%20%22icon%22%3A%20%22info-sign%22%2C%20%22iconColor%22%3A%20%22white%22%2C%20%22markerColor%22%3A%20%22green%22%2C%20%22prefix%22%3A%20%22glyphicon%22%7D%0A%20%20%20%20%20%20%20%20%20%20%20%20%29%3B%0A%20%20%20%20%20%20%20%20%20%20%20%20marker_c85b3570274840d7b3e95d0520948414.setIcon%28icon_2b9e10f3709e45629caafa06b27a2db8%29%3B%0A%20%20%20%20%20%20%20%20%0A%20%20%20%20%0A%20%20%20%20%20%20%20%20var%20popup_93dac3db2e0444b0948211d06ec6b220%20%3D%20L.popup%28%7B%22maxWidth%22%3A%20%22100%25%22%7D%29%3B%0A%0A%20%20%20%20%20%20%20%20%0A%20%20%20%20%20%20%20%20%20%20%20%20var%20html_1f5b7608ea5b437db1353a81866bd329%20%3D%20%24%28%60%3Cdiv%20id%3D%22html_1f5b7608ea5b437db1353a81866bd329%22%20style%3D%22width%3A%20100.0%25%3B%20height%3A%20100.0%25%3B%22%3EBallero-Air-SpringBranch%3C/div%3E%60%29%5B0%5D%3B%0A%20%20%20%20%20%20%20%20%20%20%20%20popup_93dac3db2e0444b0948211d06ec6b220.setContent%28html_1f5b7608ea5b437db1353a81866bd329%29%3B%0A%20%20%20%20%20%20%20%20%0A%0A%20%20%20%20%20%20%20%20marker_c85b3570274840d7b3e95d0520948414.bindPopup%28popup_93dac3db2e0444b0948211d06ec6b220%29%0A%20%20%20%20%20%20%20%20%3B%0A%0A%20%20%20%20%20%20%20%20%0A%20%20%20%20%0A%20%20%20%20%0A%20%20%20%20%20%20%20%20%20%20%20%20var%20marker_e172bb34f12346029db09d39ecbc4616%20%3D%20L.marker%28%0A%20%20%20%20%20%20%20%20%20%20%20%20%20%20%20%20%5B29.582712%2C%20-95.119633%5D%2C%0A%20%20%20%20%20%20%20%20%20%20%20%20%20%20%20%20%7B%7D%0A%20%20%20%20%20%20%20%20%20%20%20%20%29.addTo%28map_92c501c73eef49dfa928a03f64e55f40%29%3B%0A%20%20%20%20%20%20%20%20%0A%20%20%20%20%0A%20%20%20%20%20%20%20%20%20%20%20%20var%20icon_d5900d3e680e44749f0c5d1299da7d03%20%3D%20L.AwesomeMarkers.icon%28%0A%20%20%20%20%20%20%20%20%20%20%20%20%20%20%20%20%7B%22extraClasses%22%3A%20%22fa-rotate-0%22%2C%20%22icon%22%3A%20%22info-sign%22%2C%20%22iconColor%22%3A%20%22white%22%2C%20%22markerColor%22%3A%20%22green%22%2C%20%22prefix%22%3A%20%22glyphicon%22%7D%0A%20%20%20%20%20%20%20%20%20%20%20%20%29%3B%0A%20%20%20%20%20%20%20%20%20%20%20%20marker_e172bb34f12346029db09d39ecbc4616.setIcon%28icon_d5900d3e680e44749f0c5d1299da7d03%29%3B%0A%20%20%20%20%20%20%20%20%0A%20%20%20%20%0A%20%20%20%20%20%20%20%20var%20popup_26135287c36548cd944559ab495504c2%20%3D%20L.popup%28%7B%22maxWidth%22%3A%20%22100%25%22%7D%29%3B%0A%0A%20%20%20%20%20%20%20%20%0A%20%20%20%20%20%20%20%20%20%20%20%20var%20html_b3e4c07e93d84049a787f2a89c8fd79c%20%3D%20%24%28%60%3Cdiv%20id%3D%22html_b3e4c07e93d84049a787f2a89c8fd79c%22%20style%3D%22width%3A%20100.0%25%3B%20height%3A%20100.0%25%3B%22%3EBay%20Forest%20%28IN%29%3C/div%3E%60%29%5B0%5D%3B%0A%20%20%20%20%20%20%20%20%20%20%20%20popup_26135287c36548cd944559ab495504c2.setContent%28html_b3e4c07e93d84049a787f2a89c8fd79c%29%3B%0A%20%20%20%20%20%20%20%20%0A%0A%20%20%20%20%20%20%20%20marker_e172bb34f12346029db09d39ecbc4616.bindPopup%28popup_26135287c36548cd944559ab495504c2%29%0A%20%20%20%20%20%20%20%20%3B%0A%0A%20%20%20%20%20%20%20%20%0A%20%20%20%20%0A%20%20%20%20%0A%20%20%20%20%20%20%20%20%20%20%20%20var%20marker_a49d5fbd73bd48aeb53524b4cf5f6c4d%20%3D%20L.marker%28%0A%20%20%20%20%20%20%20%20%20%20%20%20%20%20%20%20%5B29.583349%2C%20-95.120087%5D%2C%0A%20%20%20%20%20%20%20%20%20%20%20%20%20%20%20%20%7B%7D%0A%20%20%20%20%20%20%20%20%20%20%20%20%29.addTo%28map_92c501c73eef49dfa928a03f64e55f40%29%3B%0A%20%20%20%20%20%20%20%20%0A%20%20%20%20%0A%20%20%20%20%20%20%20%20%20%20%20%20var%20icon_1dcbfd3ce5634dd9aa60d049590f803b%20%3D%20L.AwesomeMarkers.icon%28%0A%20%20%20%20%20%20%20%20%20%20%20%20%20%20%20%20%7B%22extraClasses%22%3A%20%22fa-rotate-0%22%2C%20%22icon%22%3A%20%22info-sign%22%2C%20%22iconColor%22%3A%20%22white%22%2C%20%22markerColor%22%3A%20%22green%22%2C%20%22prefix%22%3A%20%22glyphicon%22%7D%0A%20%20%20%20%20%20%20%20%20%20%20%20%29%3B%0A%20%20%20%20%20%20%20%20%20%20%20%20marker_a49d5fbd73bd48aeb53524b4cf5f6c4d.setIcon%28icon_1dcbfd3ce5634dd9aa60d049590f803b%29%3B%0A%20%20%20%20%20%20%20%20%0A%20%20%20%20%0A%20%20%20%20%20%20%20%20var%20popup_b2a7cf14ad4e4ee0ba260273a1854738%20%3D%20L.popup%28%7B%22maxWidth%22%3A%20%22100%25%22%7D%29%3B%0A%0A%20%20%20%20%20%20%20%20%0A%20%20%20%20%20%20%20%20%20%20%20%20var%20html_af74ca5a8e644b24a5c8b4c8c6368a0f%20%3D%20%24%28%60%3Cdiv%20id%3D%22html_af74ca5a8e644b24a5c8b4c8c6368a0f%22%20style%3D%22width%3A%20100.0%25%3B%20height%3A%20100.0%25%3B%22%3EBay%20Forest%3C/div%3E%60%29%5B0%5D%3B%0A%20%20%20%20%20%20%20%20%20%20%20%20popup_b2a7cf14ad4e4ee0ba260273a1854738.setContent%28html_af74ca5a8e644b24a5c8b4c8c6368a0f%29%3B%0A%20%20%20%20%20%20%20%20%0A%0A%20%20%20%20%20%20%20%20marker_a49d5fbd73bd48aeb53524b4cf5f6c4d.bindPopup%28popup_b2a7cf14ad4e4ee0ba260273a1854738%29%0A%20%20%20%20%20%20%20%20%3B%0A%0A%20%20%20%20%20%20%20%20%0A%20%20%20%20%0A%20%20%20%20%0A%20%20%20%20%20%20%20%20%20%20%20%20var%20marker_f84dc93723ff47f98341e5e76d008d8e%20%3D%20L.marker%28%0A%20%20%20%20%20%20%20%20%20%20%20%20%20%20%20%20%5B29.955063%2C%20-95.737387%5D%2C%0A%20%20%20%20%20%20%20%20%20%20%20%20%20%20%20%20%7B%7D%0A%20%20%20%20%20%20%20%20%20%20%20%20%29.addTo%28map_92c501c73eef49dfa928a03f64e55f40%29%3B%0A%20%20%20%20%20%20%20%20%0A%20%20%20%20%0A%20%20%20%20%20%20%20%20%20%20%20%20var%20icon_481598c56ee34f63912a2efd51e59910%20%3D%20L.AwesomeMarkers.icon%28%0A%20%20%20%20%20%20%20%20%20%20%20%20%20%20%20%20%7B%22extraClasses%22%3A%20%22fa-rotate-0%22%2C%20%22icon%22%3A%20%22info-sign%22%2C%20%22iconColor%22%3A%20%22white%22%2C%20%22markerColor%22%3A%20%22green%22%2C%20%22prefix%22%3A%20%22glyphicon%22%7D%0A%20%20%20%20%20%20%20%20%20%20%20%20%29%3B%0A%20%20%20%20%20%20%20%20%20%20%20%20marker_f84dc93723ff47f98341e5e76d008d8e.setIcon%28icon_481598c56ee34f63912a2efd51e59910%29%3B%0A%20%20%20%20%20%20%20%20%0A%20%20%20%20%0A%20%20%20%20%20%20%20%20var%20popup_fb495b870a014c4d84840b791b9d7892%20%3D%20L.popup%28%7B%22maxWidth%22%3A%20%22100%25%22%7D%29%3B%0A%0A%20%20%20%20%20%20%20%20%0A%20%20%20%20%20%20%20%20%20%20%20%20var%20html_7c4267a685634d818035b8c36365615e%20%3D%20%24%28%60%3Cdiv%20id%3D%22html_7c4267a685634d818035b8c36365615e%22%20style%3D%22width%3A%20100.0%25%3B%20height%3A%20100.0%25%3B%22%3EBridgeland%3C/div%3E%60%29%5B0%5D%3B%0A%20%20%20%20%20%20%20%20%20%20%20%20popup_fb495b870a014c4d84840b791b9d7892.setContent%28html_7c4267a685634d818035b8c36365615e%29%3B%0A%20%20%20%20%20%20%20%20%0A%0A%20%20%20%20%20%20%20%20marker_f84dc93723ff47f98341e5e76d008d8e.bindPopup%28popup_fb495b870a014c4d84840b791b9d7892%29%0A%20%20%20%20%20%20%20%20%3B%0A%0A%20%20%20%20%20%20%20%20%0A%20%20%20%20%0A%20%20%20%20%0A%20%20%20%20%20%20%20%20%20%20%20%20var%20marker_2f8d488481fe4d0f93fb480468ab713c%20%3D%20L.marker%28%0A%20%20%20%20%20%20%20%20%20%20%20%20%20%20%20%20%5B29.691015%2C%20-95.136015%5D%2C%0A%20%20%20%20%20%20%20%20%20%20%20%20%20%20%20%20%7B%7D%0A%20%20%20%20%20%20%20%20%20%20%20%20%29.addTo%28map_92c501c73eef49dfa928a03f64e55f40%29%3B%0A%20%20%20%20%20%20%20%20%0A%20%20%20%20%0A%20%20%20%20%20%20%20%20%20%20%20%20var%20icon_933e8a0fd8694e01890d948ee459ad04%20%3D%20L.AwesomeMarkers.icon%28%0A%20%20%20%20%20%20%20%20%20%20%20%20%20%20%20%20%7B%22extraClasses%22%3A%20%22fa-rotate-0%22%2C%20%22icon%22%3A%20%22info-sign%22%2C%20%22iconColor%22%3A%20%22white%22%2C%20%22markerColor%22%3A%20%22green%22%2C%20%22prefix%22%3A%20%22glyphicon%22%7D%0A%20%20%20%20%20%20%20%20%20%20%20%20%29%3B%0A%20%20%20%20%20%20%20%20%20%20%20%20marker_2f8d488481fe4d0f93fb480468ab713c.setIcon%28icon_933e8a0fd8694e01890d948ee459ad04%29%3B%0A%20%20%20%20%20%20%20%20%0A%20%20%20%20%0A%20%20%20%20%20%20%20%20var%20popup_7e1efc56ff844531b2e93f54b2db0ce8%20%3D%20L.popup%28%7B%22maxWidth%22%3A%20%22100%25%22%7D%29%3B%0A%0A%20%20%20%20%20%20%20%20%0A%20%20%20%20%20%20%20%20%20%20%20%20var%20html_4f5d884e5b394ab1b7e4cba3f5e1e519%20%3D%20%24%28%60%3Cdiv%20id%3D%22html_4f5d884e5b394ab1b7e4cba3f5e1e519%22%20style%3D%22width%3A%20100.0%25%3B%20height%3A%20100.0%25%3B%22%3EC.and.Mi%27s%3C/div%3E%60%29%5B0%5D%3B%0A%20%20%20%20%20%20%20%20%20%20%20%20popup_7e1efc56ff844531b2e93f54b2db0ce8.setContent%28html_4f5d884e5b394ab1b7e4cba3f5e1e519%29%3B%0A%20%20%20%20%20%20%20%20%0A%0A%20%20%20%20%20%20%20%20marker_2f8d488481fe4d0f93fb480468ab713c.bindPopup%28popup_7e1efc56ff844531b2e93f54b2db0ce8%29%0A%20%20%20%20%20%20%20%20%3B%0A%0A%20%20%20%20%20%20%20%20%0A%20%20%20%20%0A%20%20%20%20%0A%20%20%20%20%20%20%20%20%20%20%20%20var%20marker_e12be24c1c4148bb8ff1bec5acb6bfef%20%3D%20L.marker%28%0A%20%20%20%20%20%20%20%20%20%20%20%20%20%20%20%20%5B29.790651%2C%20-95.113845%5D%2C%0A%20%20%20%20%20%20%20%20%20%20%20%20%20%20%20%20%7B%7D%0A%20%20%20%20%20%20%20%20%20%20%20%20%29.addTo%28map_92c501c73eef49dfa928a03f64e55f40%29%3B%0A%20%20%20%20%20%20%20%20%0A%20%20%20%20%0A%20%20%20%20%20%20%20%20%20%20%20%20var%20icon_80d8d9a5cfb44a72b9b8d7d3328bfd90%20%3D%20L.AwesomeMarkers.icon%28%0A%20%20%20%20%20%20%20%20%20%20%20%20%20%20%20%20%7B%22extraClasses%22%3A%20%22fa-rotate-0%22%2C%20%22icon%22%3A%20%22info-sign%22%2C%20%22iconColor%22%3A%20%22white%22%2C%20%22markerColor%22%3A%20%22orange%22%2C%20%22prefix%22%3A%20%22glyphicon%22%7D%0A%20%20%20%20%20%20%20%20%20%20%20%20%29%3B%0A%20%20%20%20%20%20%20%20%20%20%20%20marker_e12be24c1c4148bb8ff1bec5acb6bfef.setIcon%28icon_80d8d9a5cfb44a72b9b8d7d3328bfd90%29%3B%0A%20%20%20%20%20%20%20%20%0A%20%20%20%20%0A%20%20%20%20%20%20%20%20var%20popup_99b91c20574d4a7a830e99e17e5b530b%20%3D%20L.popup%28%7B%22maxWidth%22%3A%20%22100%25%22%7D%29%3B%0A%0A%20%20%20%20%20%20%20%20%0A%20%20%20%20%20%20%20%20%20%20%20%20var%20html_345968c764e8425c83acb7a0143ac3ca%20%3D%20%24%28%60%3Cdiv%20id%3D%22html_345968c764e8425c83acb7a0143ac3ca%22%20style%3D%22width%3A%20100.0%25%3B%20height%3A%20100.0%25%3B%22%3EChannelview%20Tx%20%231%3C/div%3E%60%29%5B0%5D%3B%0A%20%20%20%20%20%20%20%20%20%20%20%20popup_99b91c20574d4a7a830e99e17e5b530b.setContent%28html_345968c764e8425c83acb7a0143ac3ca%29%3B%0A%20%20%20%20%20%20%20%20%0A%0A%20%20%20%20%20%20%20%20marker_e12be24c1c4148bb8ff1bec5acb6bfef.bindPopup%28popup_99b91c20574d4a7a830e99e17e5b530b%29%0A%20%20%20%20%20%20%20%20%3B%0A%0A%20%20%20%20%20%20%20%20%0A%20%20%20%20%0A%20%20%20%20%0A%20%20%20%20%20%20%20%20%20%20%20%20var%20marker_3bda1bb480b941ff870be3064e240cea%20%3D%20L.marker%28%0A%20%20%20%20%20%20%20%20%20%20%20%20%20%20%20%20%5B29.463194%2C%20-95.042483%5D%2C%0A%20%20%20%20%20%20%20%20%20%20%20%20%20%20%20%20%7B%7D%0A%20%20%20%20%20%20%20%20%20%20%20%20%29.addTo%28map_92c501c73eef49dfa928a03f64e55f40%29%3B%0A%20%20%20%20%20%20%20%20%0A%20%20%20%20%0A%20%20%20%20%20%20%20%20%20%20%20%20var%20icon_3111dda170c84eaf9bd21579bbbbda26%20%3D%20L.AwesomeMarkers.icon%28%0A%20%20%20%20%20%20%20%20%20%20%20%20%20%20%20%20%7B%22extraClasses%22%3A%20%22fa-rotate-0%22%2C%20%22icon%22%3A%20%22info-sign%22%2C%20%22iconColor%22%3A%20%22white%22%2C%20%22markerColor%22%3A%20%22green%22%2C%20%22prefix%22%3A%20%22glyphicon%22%7D%0A%20%20%20%20%20%20%20%20%20%20%20%20%29%3B%0A%20%20%20%20%20%20%20%20%20%20%20%20marker_3bda1bb480b941ff870be3064e240cea.setIcon%28icon_3111dda170c84eaf9bd21579bbbbda26%29%3B%0A%20%20%20%20%20%20%20%20%0A%20%20%20%20%0A%20%20%20%20%20%20%20%20var%20popup_06873d349ca34d73a1dd153d8265c6f2%20%3D%20L.popup%28%7B%22maxWidth%22%3A%20%22100%25%22%7D%29%3B%0A%0A%20%20%20%20%20%20%20%20%0A%20%20%20%20%20%20%20%20%20%20%20%20var%20html_3e6289b28f884fdfa85ec25483718294%20%3D%20%24%28%60%3Cdiv%20id%3D%22html_3e6289b28f884fdfa85ec25483718294%22%20style%3D%22width%3A%20100.0%25%3B%20height%3A%20100.0%25%3B%22%3EDickinson%20Office%20of%20Emergency%20Management%3C/div%3E%60%29%5B0%5D%3B%0A%20%20%20%20%20%20%20%20%20%20%20%20popup_06873d349ca34d73a1dd153d8265c6f2.setContent%28html_3e6289b28f884fdfa85ec25483718294%29%3B%0A%20%20%20%20%20%20%20%20%0A%0A%20%20%20%20%20%20%20%20marker_3bda1bb480b941ff870be3064e240cea.bindPopup%28popup_06873d349ca34d73a1dd153d8265c6f2%29%0A%20%20%20%20%20%20%20%20%3B%0A%0A%20%20%20%20%20%20%20%20%0A%20%20%20%20%0A%20%20%20%20%0A%20%20%20%20%20%20%20%20%20%20%20%20var%20marker_6f3ea769ada442dabcd35021b285e687%20%3D%20L.marker%28%0A%20%20%20%20%20%20%20%20%20%20%20%20%20%20%20%20%5B29.816738%2C%20-95.303219%5D%2C%0A%20%20%20%20%20%20%20%20%20%20%20%20%20%20%20%20%7B%7D%0A%20%20%20%20%20%20%20%20%20%20%20%20%29.addTo%28map_92c501c73eef49dfa928a03f64e55f40%29%3B%0A%20%20%20%20%20%20%20%20%0A%20%20%20%20%0A%20%20%20%20%20%20%20%20%20%20%20%20var%20icon_ca970388e6634f549956d64572a77f77%20%3D%20L.AwesomeMarkers.icon%28%0A%20%20%20%20%20%20%20%20%20%20%20%20%20%20%20%20%7B%22extraClasses%22%3A%20%22fa-rotate-0%22%2C%20%22icon%22%3A%20%22info-sign%22%2C%20%22iconColor%22%3A%20%22white%22%2C%20%22markerColor%22%3A%20%22green%22%2C%20%22prefix%22%3A%20%22glyphicon%22%7D%0A%20%20%20%20%20%20%20%20%20%20%20%20%29%3B%0A%20%20%20%20%20%20%20%20%20%20%20%20marker_6f3ea769ada442dabcd35021b285e687.setIcon%28icon_ca970388e6634f549956d64572a77f77%29%3B%0A%20%20%20%20%20%20%20%20%0A%20%20%20%20%0A%20%20%20%20%20%20%20%20var%20popup_ebb8afef6bc046dab37a370d795e3cfb%20%3D%20L.popup%28%7B%22maxWidth%22%3A%20%22100%25%22%7D%29%3B%0A%0A%20%20%20%20%20%20%20%20%0A%20%20%20%20%20%20%20%20%20%20%20%20var%20html_1d4974bd146f496588e8f7fc04c91b28%20%3D%20%24%28%60%3Cdiv%20id%3D%22html_1d4974bd146f496588e8f7fc04c91b28%22%20style%3D%22width%3A%20100.0%25%3B%20height%3A%20100.0%25%3B%22%3EHouston%20Gardens%3C/div%3E%60%29%5B0%5D%3B%0A%20%20%20%20%20%20%20%20%20%20%20%20popup_ebb8afef6bc046dab37a370d795e3cfb.setContent%28html_1d4974bd146f496588e8f7fc04c91b28%29%3B%0A%20%20%20%20%20%20%20%20%0A%0A%20%20%20%20%20%20%20%20marker_6f3ea769ada442dabcd35021b285e687.bindPopup%28popup_ebb8afef6bc046dab37a370d795e3cfb%29%0A%20%20%20%20%20%20%20%20%3B%0A%0A%20%20%20%20%20%20%20%20%0A%20%20%20%20%0A%20%20%20%20%0A%20%20%20%20%20%20%20%20%20%20%20%20var%20marker_0bee7bcbdecd4792b6f4ef0dc1291142%20%3D%20L.marker%28%0A%20%20%20%20%20%20%20%20%20%20%20%20%20%20%20%20%5B29.764788%2C%20-95.178538%5D%2C%0A%20%20%20%20%20%20%20%20%20%20%20%20%20%20%20%20%7B%7D%0A%20%20%20%20%20%20%20%20%20%20%20%20%29.addTo%28map_92c501c73eef49dfa928a03f64e55f40%29%3B%0A%20%20%20%20%20%20%20%20%0A%20%20%20%20%0A%20%20%20%20%20%20%20%20%20%20%20%20var%20icon_9c404f0cee924e929857274524ad3fca%20%3D%20L.AwesomeMarkers.icon%28%0A%20%20%20%20%20%20%20%20%20%20%20%20%20%20%20%20%7B%22extraClasses%22%3A%20%22fa-rotate-0%22%2C%20%22icon%22%3A%20%22info-sign%22%2C%20%22iconColor%22%3A%20%22white%22%2C%20%22markerColor%22%3A%20%22green%22%2C%20%22prefix%22%3A%20%22glyphicon%22%7D%0A%20%20%20%20%20%20%20%20%20%20%20%20%29%3B%0A%20%20%20%20%20%20%20%20%20%20%20%20marker_0bee7bcbdecd4792b6f4ef0dc1291142.setIcon%28icon_9c404f0cee924e929857274524ad3fca%29%3B%0A%20%20%20%20%20%20%20%20%0A%20%20%20%20%0A%20%20%20%20%20%20%20%20var%20popup_ae0a28e4e01e4be787648f97f9540662%20%3D%20L.popup%28%7B%22maxWidth%22%3A%20%22100%25%22%7D%29%3B%0A%0A%20%20%20%20%20%20%20%20%0A%20%20%20%20%20%20%20%20%20%20%20%20var%20html_cf77f219f39f42cbad434760b1ae42e2%20%3D%20%24%28%60%3Cdiv%20id%3D%22html_cf77f219f39f42cbad434760b1ae42e2%22%20style%3D%22width%3A%20100.0%25%3B%20height%3A%20100.0%25%3B%22%3EHRM-PA1%3C/div%3E%60%29%5B0%5D%3B%0A%20%20%20%20%20%20%20%20%20%20%20%20popup_ae0a28e4e01e4be787648f97f9540662.setContent%28html_cf77f219f39f42cbad434760b1ae42e2%29%3B%0A%20%20%20%20%20%20%20%20%0A%0A%20%20%20%20%20%20%20%20marker_0bee7bcbdecd4792b6f4ef0dc1291142.bindPopup%28popup_ae0a28e4e01e4be787648f97f9540662%29%0A%20%20%20%20%20%20%20%20%3B%0A%0A%20%20%20%20%20%20%20%20%0A%20%20%20%20%0A%20%20%20%20%0A%20%20%20%20%20%20%20%20%20%20%20%20var%20marker_c3e9d8c5587140fe9224b726a0733232%20%3D%20L.marker%28%0A%20%20%20%20%20%20%20%20%20%20%20%20%20%20%20%20%5B29.76528%2C%20-95.18111%5D%2C%0A%20%20%20%20%20%20%20%20%20%20%20%20%20%20%20%20%7B%7D%0A%20%20%20%20%20%20%20%20%20%20%20%20%29.addTo%28map_92c501c73eef49dfa928a03f64e55f40%29%3B%0A%20%20%20%20%20%20%20%20%0A%20%20%20%20%0A%20%20%20%20%20%20%20%20%20%20%20%20var%20icon_ac90608c88474b868b74703cf04483c7%20%3D%20L.AwesomeMarkers.icon%28%0A%20%20%20%20%20%20%20%20%20%20%20%20%20%20%20%20%7B%22extraClasses%22%3A%20%22fa-rotate-0%22%2C%20%22icon%22%3A%20%22info-sign%22%2C%20%22iconColor%22%3A%20%22white%22%2C%20%22markerColor%22%3A%20%22orange%22%2C%20%22prefix%22%3A%20%22glyphicon%22%7D%0A%20%20%20%20%20%20%20%20%20%20%20%20%29%3B%0A%20%20%20%20%20%20%20%20%20%20%20%20marker_c3e9d8c5587140fe9224b726a0733232.setIcon%28icon_ac90608c88474b868b74703cf04483c7%29%3B%0A%20%20%20%20%20%20%20%20%0A%20%20%20%20%0A%20%20%20%20%20%20%20%20var%20popup_dca4daa3ead04673afcf4811aa3f0836%20%3D%20L.popup%28%7B%22maxWidth%22%3A%20%22100%25%22%7D%29%3B%0A%0A%20%20%20%20%20%20%20%20%0A%20%20%20%20%20%20%20%20%20%20%20%20var%20html_115178ed938042b6b50c07777237cbf8%20%3D%20%24%28%60%3Cdiv%20id%3D%22html_115178ed938042b6b50c07777237cbf8%22%20style%3D%22width%3A%20100.0%25%3B%20height%3A%20100.0%25%3B%22%3Ehrm3-3%3C/div%3E%60%29%5B0%5D%3B%0A%20%20%20%20%20%20%20%20%20%20%20%20popup_dca4daa3ead04673afcf4811aa3f0836.setContent%28html_115178ed938042b6b50c07777237cbf8%29%3B%0A%20%20%20%20%20%20%20%20%0A%0A%20%20%20%20%20%20%20%20marker_c3e9d8c5587140fe9224b726a0733232.bindPopup%28popup_dca4daa3ead04673afcf4811aa3f0836%29%0A%20%20%20%20%20%20%20%20%3B%0A%0A%20%20%20%20%20%20%20%20%0A%20%20%20%20%0A%20%20%20%20%0A%20%20%20%20%20%20%20%20%20%20%20%20var%20marker_0837009ea2214956a9fbecea98916d84%20%3D%20L.marker%28%0A%20%20%20%20%20%20%20%20%20%20%20%20%20%20%20%20%5B29.764788%2C%20-95.178538%5D%2C%0A%20%20%20%20%20%20%20%20%20%20%20%20%20%20%20%20%7B%7D%0A%20%20%20%20%20%20%20%20%20%20%20%20%29.addTo%28map_92c501c73eef49dfa928a03f64e55f40%29%3B%0A%20%20%20%20%20%20%20%20%0A%20%20%20%20%0A%20%20%20%20%20%20%20%20%20%20%20%20var%20icon_5a87171755f74abd92919e3cfcb26cc2%20%3D%20L.AwesomeMarkers.icon%28%0A%20%20%20%20%20%20%20%20%20%20%20%20%20%20%20%20%7B%22extraClasses%22%3A%20%22fa-rotate-0%22%2C%20%22icon%22%3A%20%22info-sign%22%2C%20%22iconColor%22%3A%20%22white%22%2C%20%22markerColor%22%3A%20%22orange%22%2C%20%22prefix%22%3A%20%22glyphicon%22%7D%0A%20%20%20%20%20%20%20%20%20%20%20%20%29%3B%0A%20%20%20%20%20%20%20%20%20%20%20%20marker_0837009ea2214956a9fbecea98916d84.setIcon%28icon_5a87171755f74abd92919e3cfcb26cc2%29%3B%0A%20%20%20%20%20%20%20%20%0A%20%20%20%20%0A%20%20%20%20%20%20%20%20var%20popup_33f2f680e0de4ebab6b7b94b32d6f1c5%20%3D%20L.popup%28%7B%22maxWidth%22%3A%20%22100%25%22%7D%29%3B%0A%0A%20%20%20%20%20%20%20%20%0A%20%20%20%20%20%20%20%20%20%20%20%20var%20html_5e7b648a2ae24faab9f3ec96502df7d7%20%3D%20%24%28%60%3Cdiv%20id%3D%22html_5e7b648a2ae24faab9f3ec96502df7d7%22%20style%3D%22width%3A%20100.0%25%3B%20height%3A%20100.0%25%3B%22%3EHRM3-PA2%3C/div%3E%60%29%5B0%5D%3B%0A%20%20%20%20%20%20%20%20%20%20%20%20popup_33f2f680e0de4ebab6b7b94b32d6f1c5.setContent%28html_5e7b648a2ae24faab9f3ec96502df7d7%29%3B%0A%20%20%20%20%20%20%20%20%0A%0A%20%20%20%20%20%20%20%20marker_0837009ea2214956a9fbecea98916d84.bindPopup%28popup_33f2f680e0de4ebab6b7b94b32d6f1c5%29%0A%20%20%20%20%20%20%20%20%3B%0A%0A%20%20%20%20%20%20%20%20%0A%20%20%20%20%0A%20%20%20%20%0A%20%20%20%20%20%20%20%20%20%20%20%20var%20marker_c5156ca7c8f8406d8e0061cbd76a5d20%20%3D%20L.marker%28%0A%20%20%20%20%20%20%20%20%20%20%20%20%20%20%20%20%5B29.717061%2C%20-95.308764%5D%2C%0A%20%20%20%20%20%20%20%20%20%20%20%20%20%20%20%20%7B%7D%0A%20%20%20%20%20%20%20%20%20%20%20%20%29.addTo%28map_92c501c73eef49dfa928a03f64e55f40%29%3B%0A%20%20%20%20%20%20%20%20%0A%20%20%20%20%0A%20%20%20%20%20%20%20%20%20%20%20%20var%20icon_1b3b8713db6041ff9c4729c477e0f421%20%3D%20L.AwesomeMarkers.icon%28%0A%20%20%20%20%20%20%20%20%20%20%20%20%20%20%20%20%7B%22extraClasses%22%3A%20%22fa-rotate-0%22%2C%20%22icon%22%3A%20%22info-sign%22%2C%20%22iconColor%22%3A%20%22white%22%2C%20%22markerColor%22%3A%20%22green%22%2C%20%22prefix%22%3A%20%22glyphicon%22%7D%0A%20%20%20%20%20%20%20%20%20%20%20%20%29%3B%0A%20%20%20%20%20%20%20%20%20%20%20%20marker_c5156ca7c8f8406d8e0061cbd76a5d20.setIcon%28icon_1b3b8713db6041ff9c4729c477e0f421%29%3B%0A%20%20%20%20%20%20%20%20%0A%20%20%20%20%0A%20%20%20%20%20%20%20%20var%20popup_017a9bda4271455a9a57ff3de0660d9d%20%3D%20L.popup%28%7B%22maxWidth%22%3A%20%22100%25%22%7D%29%3B%0A%0A%20%20%20%20%20%20%20%20%0A%20%20%20%20%20%20%20%20%20%20%20%20var%20html_0741594628154d10844bf240eb532330%20%3D%20%24%28%60%3Cdiv%20id%3D%22html_0741594628154d10844bf240eb532330%22%20style%3D%22width%3A%20100.0%25%3B%20height%3A%20100.0%25%3B%22%3EIdylwoodEastEnd%3C/div%3E%60%29%5B0%5D%3B%0A%20%20%20%20%20%20%20%20%20%20%20%20popup_017a9bda4271455a9a57ff3de0660d9d.setContent%28html_0741594628154d10844bf240eb532330%29%3B%0A%20%20%20%20%20%20%20%20%0A%0A%20%20%20%20%20%20%20%20marker_c5156ca7c8f8406d8e0061cbd76a5d20.bindPopup%28popup_017a9bda4271455a9a57ff3de0660d9d%29%0A%20%20%20%20%20%20%20%20%3B%0A%0A%20%20%20%20%20%20%20%20%0A%20%20%20%20%0A%20%20%20%20%0A%20%20%20%20%20%20%20%20%20%20%20%20var%20marker_378fedc0e6284a6caae5e7617757a99e%20%3D%20L.marker%28%0A%20%20%20%20%20%20%20%20%20%20%20%20%20%20%20%20%5B29.193352%2C%20-94.97924%5D%2C%0A%20%20%20%20%20%20%20%20%20%20%20%20%20%20%20%20%7B%7D%0A%20%20%20%20%20%20%20%20%20%20%20%20%29.addTo%28map_92c501c73eef49dfa928a03f64e55f40%29%3B%0A%20%20%20%20%20%20%20%20%0A%20%20%20%20%0A%20%20%20%20%20%20%20%20%20%20%20%20var%20icon_e85ee1f2ad0649f68bdee44da48365f0%20%3D%20L.AwesomeMarkers.icon%28%0A%20%20%20%20%20%20%20%20%20%20%20%20%20%20%20%20%7B%22extraClasses%22%3A%20%22fa-rotate-0%22%2C%20%22icon%22%3A%20%22info-sign%22%2C%20%22iconColor%22%3A%20%22white%22%2C%20%22markerColor%22%3A%20%22green%22%2C%20%22prefix%22%3A%20%22glyphicon%22%7D%0A%20%20%20%20%20%20%20%20%20%20%20%20%29%3B%0A%20%20%20%20%20%20%20%20%20%20%20%20marker_378fedc0e6284a6caae5e7617757a99e.setIcon%28icon_e85ee1f2ad0649f68bdee44da48365f0%29%3B%0A%20%20%20%20%20%20%20%20%0A%20%20%20%20%0A%20%20%20%20%20%20%20%20var%20popup_e5302c398eeb462e8a779e3ec3f07d5c%20%3D%20L.popup%28%7B%22maxWidth%22%3A%20%22100%25%22%7D%29%3B%0A%0A%20%20%20%20%20%20%20%20%0A%20%20%20%20%20%20%20%20%20%20%20%20var%20html_4fbcbb3fd33f457ab77c9b162b911b6c%20%3D%20%24%28%60%3Cdiv%20id%3D%22html_4fbcbb3fd33f457ab77c9b162b911b6c%22%20style%3D%22width%3A%20100.0%25%3B%20height%3A%20100.0%25%3B%22%3EJamaica%20Beach%20TX%3C/div%3E%60%29%5B0%5D%3B%0A%20%20%20%20%20%20%20%20%20%20%20%20popup_e5302c398eeb462e8a779e3ec3f07d5c.setContent%28html_4fbcbb3fd33f457ab77c9b162b911b6c%29%3B%0A%20%20%20%20%20%20%20%20%0A%0A%20%20%20%20%20%20%20%20marker_378fedc0e6284a6caae5e7617757a99e.bindPopup%28popup_e5302c398eeb462e8a779e3ec3f07d5c%29%0A%20%20%20%20%20%20%20%20%3B%0A%0A%20%20%20%20%20%20%20%20%0A%20%20%20%20%0A%20%20%20%20%0A%20%20%20%20%20%20%20%20%20%20%20%20var%20marker_8fa81a6ffead4de6872dc703dcce6b2c%20%3D%20L.marker%28%0A%20%20%20%20%20%20%20%20%20%20%20%20%20%20%20%20%5B29.570752%2C%20-95.11873%5D%2C%0A%20%20%20%20%20%20%20%20%20%20%20%20%20%20%20%20%7B%7D%0A%20%20%20%20%20%20%20%20%20%20%20%20%29.addTo%28map_92c501c73eef49dfa928a03f64e55f40%29%3B%0A%20%20%20%20%20%20%20%20%0A%20%20%20%20%0A%20%20%20%20%20%20%20%20%20%20%20%20var%20icon_64ed0674537e4ca38f52e0b991dfb958%20%3D%20L.AwesomeMarkers.icon%28%0A%20%20%20%20%20%20%20%20%20%20%20%20%20%20%20%20%7B%22extraClasses%22%3A%20%22fa-rotate-0%22%2C%20%22icon%22%3A%20%22info-sign%22%2C%20%22iconColor%22%3A%20%22white%22%2C%20%22markerColor%22%3A%20%22green%22%2C%20%22prefix%22%3A%20%22glyphicon%22%7D%0A%20%20%20%20%20%20%20%20%20%20%20%20%29%3B%0A%20%20%20%20%20%20%20%20%20%20%20%20marker_8fa81a6ffead4de6872dc703dcce6b2c.setIcon%28icon_64ed0674537e4ca38f52e0b991dfb958%29%3B%0A%20%20%20%20%20%20%20%20%0A%20%20%20%20%0A%20%20%20%20%20%20%20%20var%20popup_6382a66f2fff425fb113ff6838341da6%20%3D%20L.popup%28%7B%22maxWidth%22%3A%20%22100%25%22%7D%29%3B%0A%0A%20%20%20%20%20%20%20%20%0A%20%20%20%20%20%20%20%20%20%20%20%20var%20html_0604ae67050a47a09fcd4e948fb7c668%20%3D%20%24%28%60%3Cdiv%20id%3D%22html_0604ae67050a47a09fcd4e948fb7c668%22%20style%3D%22width%3A%20100.0%25%3B%20height%3A%20100.0%25%3B%22%3EJgg%3C/div%3E%60%29%5B0%5D%3B%0A%20%20%20%20%20%20%20%20%20%20%20%20popup_6382a66f2fff425fb113ff6838341da6.setContent%28html_0604ae67050a47a09fcd4e948fb7c668%29%3B%0A%20%20%20%20%20%20%20%20%0A%0A%20%20%20%20%20%20%20%20marker_8fa81a6ffead4de6872dc703dcce6b2c.bindPopup%28popup_6382a66f2fff425fb113ff6838341da6%29%0A%20%20%20%20%20%20%20%20%3B%0A%0A%20%20%20%20%20%20%20%20%0A%20%20%20%20%0A%20%20%20%20%0A%20%20%20%20%20%20%20%20%20%20%20%20var%20marker_f86a6ed4d2c441f893853786d70ac718%20%3D%20L.marker%28%0A%20%20%20%20%20%20%20%20%20%20%20%20%20%20%20%20%5B29.70373%2C%20-95.05282%5D%2C%0A%20%20%20%20%20%20%20%20%20%20%20%20%20%20%20%20%7B%7D%0A%20%20%20%20%20%20%20%20%20%20%20%20%29.addTo%28map_92c501c73eef49dfa928a03f64e55f40%29%3B%0A%20%20%20%20%20%20%20%20%0A%20%20%20%20%0A%20%20%20%20%20%20%20%20%20%20%20%20var%20icon_f12da2f8c25e4579b935421bc047cf3e%20%3D%20L.AwesomeMarkers.icon%28%0A%20%20%20%20%20%20%20%20%20%20%20%20%20%20%20%20%7B%22extraClasses%22%3A%20%22fa-rotate-0%22%2C%20%22icon%22%3A%20%22info-sign%22%2C%20%22iconColor%22%3A%20%22white%22%2C%20%22markerColor%22%3A%20%22green%22%2C%20%22prefix%22%3A%20%22glyphicon%22%7D%0A%20%20%20%20%20%20%20%20%20%20%20%20%29%3B%0A%20%20%20%20%20%20%20%20%20%20%20%20marker_f86a6ed4d2c441f893853786d70ac718.setIcon%28icon_f12da2f8c25e4579b935421bc047cf3e%29%3B%0A%20%20%20%20%20%20%20%20%0A%20%20%20%20%0A%20%20%20%20%20%20%20%20var%20popup_06bcc83a947a4d5e9f5b8d87dd98e7c6%20%3D%20L.popup%28%7B%22maxWidth%22%3A%20%22100%25%22%7D%29%3B%0A%0A%20%20%20%20%20%20%20%20%0A%20%20%20%20%20%20%20%20%20%20%20%20var%20html_593b09eb65284132974743b81dc6a4b1%20%3D%20%24%28%60%3Cdiv%20id%3D%22html_593b09eb65284132974743b81dc6a4b1%22%20style%3D%22width%3A%20100.0%25%3B%20height%3A%20100.0%25%3B%22%3ELAP5187%3C/div%3E%60%29%5B0%5D%3B%0A%20%20%20%20%20%20%20%20%20%20%20%20popup_06bcc83a947a4d5e9f5b8d87dd98e7c6.setContent%28html_593b09eb65284132974743b81dc6a4b1%29%3B%0A%20%20%20%20%20%20%20%20%0A%0A%20%20%20%20%20%20%20%20marker_f86a6ed4d2c441f893853786d70ac718.bindPopup%28popup_06bcc83a947a4d5e9f5b8d87dd98e7c6%29%0A%20%20%20%20%20%20%20%20%3B%0A%0A%20%20%20%20%20%20%20%20%0A%20%20%20%20%0A%20%20%20%20%0A%20%20%20%20%20%20%20%20%20%20%20%20var%20marker_ca5e0cbb36de4e49927e3707072d89db%20%3D%20L.marker%28%0A%20%20%20%20%20%20%20%20%20%20%20%20%20%20%20%20%5B29.703527%2C%20-95.458783%5D%2C%0A%20%20%20%20%20%20%20%20%20%20%20%20%20%20%20%20%7B%7D%0A%20%20%20%20%20%20%20%20%20%20%20%20%29.addTo%28map_92c501c73eef49dfa928a03f64e55f40%29%3B%0A%20%20%20%20%20%20%20%20%0A%20%20%20%20%0A%20%20%20%20%20%20%20%20%20%20%20%20var%20icon_7dbfdcc0165546819724b2305f9e9770%20%3D%20L.AwesomeMarkers.icon%28%0A%20%20%20%20%20%20%20%20%20%20%20%20%20%20%20%20%7B%22extraClasses%22%3A%20%22fa-rotate-0%22%2C%20%22icon%22%3A%20%22info-sign%22%2C%20%22iconColor%22%3A%20%22white%22%2C%20%22markerColor%22%3A%20%22green%22%2C%20%22prefix%22%3A%20%22glyphicon%22%7D%0A%20%20%20%20%20%20%20%20%20%20%20%20%29%3B%0A%20%20%20%20%20%20%20%20%20%20%20%20marker_ca5e0cbb36de4e49927e3707072d89db.setIcon%28icon_7dbfdcc0165546819724b2305f9e9770%29%3B%0A%20%20%20%20%20%20%20%20%0A%20%20%20%20%0A%20%20%20%20%20%20%20%20var%20popup_070d0826b591479c90b1d5887d1391d2%20%3D%20L.popup%28%7B%22maxWidth%22%3A%20%22100%25%22%7D%29%3B%0A%0A%20%20%20%20%20%20%20%20%0A%20%20%20%20%20%20%20%20%20%20%20%20var%20html_15142b6d16514f9394b290232e22c88f%20%3D%20%24%28%60%3Cdiv%20id%3D%22html_15142b6d16514f9394b290232e22c88f%22%20style%3D%22width%3A%20100.0%25%3B%20height%3A%20100.0%25%3B%22%3ELaurel%20Street%20Indoors%3C/div%3E%60%29%5B0%5D%3B%0A%20%20%20%20%20%20%20%20%20%20%20%20popup_070d0826b591479c90b1d5887d1391d2.setContent%28html_15142b6d16514f9394b290232e22c88f%29%3B%0A%20%20%20%20%20%20%20%20%0A%0A%20%20%20%20%20%20%20%20marker_ca5e0cbb36de4e49927e3707072d89db.bindPopup%28popup_070d0826b591479c90b1d5887d1391d2%29%0A%20%20%20%20%20%20%20%20%3B%0A%0A%20%20%20%20%20%20%20%20%0A%20%20%20%20%0A%20%20%20%20%0A%20%20%20%20%20%20%20%20%20%20%20%20var%20marker_c0723fe8832f4955a2f5d443f0a016b5%20%3D%20L.marker%28%0A%20%20%20%20%20%20%20%20%20%20%20%20%20%20%20%20%5B29.797358%2C%20-95.489989%5D%2C%0A%20%20%20%20%20%20%20%20%20%20%20%20%20%20%20%20%7B%7D%0A%20%20%20%20%20%20%20%20%20%20%20%20%29.addTo%28map_92c501c73eef49dfa928a03f64e55f40%29%3B%0A%20%20%20%20%20%20%20%20%0A%20%20%20%20%0A%20%20%20%20%20%20%20%20%20%20%20%20var%20icon_18b70557f20a4bcfb73d5d1b5901f732%20%3D%20L.AwesomeMarkers.icon%28%0A%20%20%20%20%20%20%20%20%20%20%20%20%20%20%20%20%7B%22extraClasses%22%3A%20%22fa-rotate-0%22%2C%20%22icon%22%3A%20%22info-sign%22%2C%20%22iconColor%22%3A%20%22white%22%2C%20%22markerColor%22%3A%20%22green%22%2C%20%22prefix%22%3A%20%22glyphicon%22%7D%0A%20%20%20%20%20%20%20%20%20%20%20%20%29%3B%0A%20%20%20%20%20%20%20%20%20%20%20%20marker_c0723fe8832f4955a2f5d443f0a016b5.setIcon%28icon_18b70557f20a4bcfb73d5d1b5901f732%29%3B%0A%20%20%20%20%20%20%20%20%0A%20%20%20%20%0A%20%20%20%20%20%20%20%20var%20popup_b157924cb4e945bc958ecd138749b34c%20%3D%20L.popup%28%7B%22maxWidth%22%3A%20%22100%25%22%7D%29%3B%0A%0A%20%20%20%20%20%20%20%20%0A%20%20%20%20%20%20%20%20%20%20%20%20var%20html_8591e406247449358aca3b6688d07efc%20%3D%20%24%28%60%3Cdiv%20id%3D%22html_8591e406247449358aca3b6688d07efc%22%20style%3D%22width%3A%20100.0%25%3B%20height%3A%20100.0%25%3B%22%3EMonarch%3C/div%3E%60%29%5B0%5D%3B%0A%20%20%20%20%20%20%20%20%20%20%20%20popup_b157924cb4e945bc958ecd138749b34c.setContent%28html_8591e406247449358aca3b6688d07efc%29%3B%0A%20%20%20%20%20%20%20%20%0A%0A%20%20%20%20%20%20%20%20marker_c0723fe8832f4955a2f5d443f0a016b5.bindPopup%28popup_b157924cb4e945bc958ecd138749b34c%29%0A%20%20%20%20%20%20%20%20%3B%0A%0A%20%20%20%20%20%20%20%20%0A%20%20%20%20%0A%20%20%20%20%0A%20%20%20%20%20%20%20%20%20%20%20%20var%20marker_8f6239b1424d4aa582dcb705048741dc%20%3D%20L.marker%28%0A%20%20%20%20%20%20%20%20%20%20%20%20%20%20%20%20%5B29.737535%2C%20-95.406967%5D%2C%0A%20%20%20%20%20%20%20%20%20%20%20%20%20%20%20%20%7B%7D%0A%20%20%20%20%20%20%20%20%20%20%20%20%29.addTo%28map_92c501c73eef49dfa928a03f64e55f40%29%3B%0A%20%20%20%20%20%20%20%20%0A%20%20%20%20%0A%20%20%20%20%20%20%20%20%20%20%20%20var%20icon_a705fb879a1549d1833a175042e57be5%20%3D%20L.AwesomeMarkers.icon%28%0A%20%20%20%20%20%20%20%20%20%20%20%20%20%20%20%20%7B%22extraClasses%22%3A%20%22fa-rotate-0%22%2C%20%22icon%22%3A%20%22info-sign%22%2C%20%22iconColor%22%3A%20%22white%22%2C%20%22markerColor%22%3A%20%22green%22%2C%20%22prefix%22%3A%20%22glyphicon%22%7D%0A%20%20%20%20%20%20%20%20%20%20%20%20%29%3B%0A%20%20%20%20%20%20%20%20%20%20%20%20marker_8f6239b1424d4aa582dcb705048741dc.setIcon%28icon_a705fb879a1549d1833a175042e57be5%29%3B%0A%20%20%20%20%20%20%20%20%0A%20%20%20%20%0A%20%20%20%20%20%20%20%20var%20popup_92396b8f99a44420a694aba217f5884a%20%3D%20L.popup%28%7B%22maxWidth%22%3A%20%22100%25%22%7D%29%3B%0A%0A%20%20%20%20%20%20%20%20%0A%20%20%20%20%20%20%20%20%20%20%20%20var%20html_66d3967a6b3f48bb8df21c6009957b36%20%3D%20%24%28%60%3Cdiv%20id%3D%22html_66d3967a6b3f48bb8df21c6009957b36%22%20style%3D%22width%3A%20100.0%25%3B%20height%3A%20100.0%25%3B%22%3EMuseum%20District%3C/div%3E%60%29%5B0%5D%3B%0A%20%20%20%20%20%20%20%20%20%20%20%20popup_92396b8f99a44420a694aba217f5884a.setContent%28html_66d3967a6b3f48bb8df21c6009957b36%29%3B%0A%20%20%20%20%20%20%20%20%0A%0A%20%20%20%20%20%20%20%20marker_8f6239b1424d4aa582dcb705048741dc.bindPopup%28popup_92396b8f99a44420a694aba217f5884a%29%0A%20%20%20%20%20%20%20%20%3B%0A%0A%20%20%20%20%20%20%20%20%0A%20%20%20%20%0A%20%20%20%20%0A%20%20%20%20%20%20%20%20%20%20%20%20var%20marker_397423cee34c4919ae75ce4a408f30c6%20%3D%20L.marker%28%0A%20%20%20%20%20%20%20%20%20%20%20%20%20%20%20%20%5B29.778682%2C%20-95.3505%5D%2C%0A%20%20%20%20%20%20%20%20%20%20%20%20%20%20%20%20%7B%7D%0A%20%20%20%20%20%20%20%20%20%20%20%20%29.addTo%28map_92c501c73eef49dfa928a03f64e55f40%29%3B%0A%20%20%20%20%20%20%20%20%0A%20%20%20%20%0A%20%20%20%20%20%20%20%20%20%20%20%20var%20icon_0aebac9550dd4f1da08386e84ceebbb7%20%3D%20L.AwesomeMarkers.icon%28%0A%20%20%20%20%20%20%20%20%20%20%20%20%20%20%20%20%7B%22extraClasses%22%3A%20%22fa-rotate-0%22%2C%20%22icon%22%3A%20%22info-sign%22%2C%20%22iconColor%22%3A%20%22white%22%2C%20%22markerColor%22%3A%20%22green%22%2C%20%22prefix%22%3A%20%22glyphicon%22%7D%0A%20%20%20%20%20%20%20%20%20%20%20%20%29%3B%0A%20%20%20%20%20%20%20%20%20%20%20%20marker_397423cee34c4919ae75ce4a408f30c6.setIcon%28icon_0aebac9550dd4f1da08386e84ceebbb7%29%3B%0A%20%20%20%20%20%20%20%20%0A%20%20%20%20%0A%20%20%20%20%20%20%20%20var%20popup_a5db24352f104a4e86aee67c6f712c2a%20%3D%20L.popup%28%7B%22maxWidth%22%3A%20%22100%25%22%7D%29%3B%0A%0A%20%20%20%20%20%20%20%20%0A%20%20%20%20%20%20%20%20%20%20%20%20var%20html_0f45382927b84349b41c0f246256b416%20%3D%20%24%28%60%3Cdiv%20id%3D%22html_0f45382927b84349b41c0f246256b416%22%20style%3D%22width%3A%20100.0%25%3B%20height%3A%20100.0%25%3B%22%3ENear%20Northside%20Houston%3C/div%3E%60%29%5B0%5D%3B%0A%20%20%20%20%20%20%20%20%20%20%20%20popup_a5db24352f104a4e86aee67c6f712c2a.setContent%28html_0f45382927b84349b41c0f246256b416%29%3B%0A%20%20%20%20%20%20%20%20%0A%0A%20%20%20%20%20%20%20%20marker_397423cee34c4919ae75ce4a408f30c6.bindPopup%28popup_a5db24352f104a4e86aee67c6f712c2a%29%0A%20%20%20%20%20%20%20%20%3B%0A%0A%20%20%20%20%20%20%20%20%0A%20%20%20%20%0A%20%20%20%20%0A%20%20%20%20%20%20%20%20%20%20%20%20var%20marker_3297f03f5d3b4a209184dbc08ebb5bf9%20%3D%20L.marker%28%0A%20%20%20%20%20%20%20%20%20%20%20%20%20%20%20%20%5B29.723649%2C%20-95.420642%5D%2C%0A%20%20%20%20%20%20%20%20%20%20%20%20%20%20%20%20%7B%7D%0A%20%20%20%20%20%20%20%20%20%20%20%20%29.addTo%28map_92c501c73eef49dfa928a03f64e55f40%29%3B%0A%20%20%20%20%20%20%20%20%0A%20%20%20%20%0A%20%20%20%20%20%20%20%20%20%20%20%20var%20icon_95faa5c11a1e49f1a5affcf775b23cd6%20%3D%20L.AwesomeMarkers.icon%28%0A%20%20%20%20%20%20%20%20%20%20%20%20%20%20%20%20%7B%22extraClasses%22%3A%20%22fa-rotate-0%22%2C%20%22icon%22%3A%20%22info-sign%22%2C%20%22iconColor%22%3A%20%22white%22%2C%20%22markerColor%22%3A%20%22green%22%2C%20%22prefix%22%3A%20%22glyphicon%22%7D%0A%20%20%20%20%20%20%20%20%20%20%20%20%29%3B%0A%20%20%20%20%20%20%20%20%20%20%20%20marker_3297f03f5d3b4a209184dbc08ebb5bf9.setIcon%28icon_95faa5c11a1e49f1a5affcf775b23cd6%29%3B%0A%20%20%20%20%20%20%20%20%0A%20%20%20%20%0A%20%20%20%20%20%20%20%20var%20popup_0ff544eeb8c94c02a6f718a8d65ec138%20%3D%20L.popup%28%7B%22maxWidth%22%3A%20%22100%25%22%7D%29%3B%0A%0A%20%20%20%20%20%20%20%20%0A%20%20%20%20%20%20%20%20%20%20%20%20var%20html_085389327b57407480ae49cb82ba5523%20%3D%20%24%28%60%3Cdiv%20id%3D%22html_085389327b57407480ae49cb82ba5523%22%20style%3D%22width%3A%20100.0%25%3B%20height%3A%20100.0%25%3B%22%3ENortheast%20West%20U%3C/div%3E%60%29%5B0%5D%3B%0A%20%20%20%20%20%20%20%20%20%20%20%20popup_0ff544eeb8c94c02a6f718a8d65ec138.setContent%28html_085389327b57407480ae49cb82ba5523%29%3B%0A%20%20%20%20%20%20%20%20%0A%0A%20%20%20%20%20%20%20%20marker_3297f03f5d3b4a209184dbc08ebb5bf9.bindPopup%28popup_0ff544eeb8c94c02a6f718a8d65ec138%29%0A%20%20%20%20%20%20%20%20%3B%0A%0A%20%20%20%20%20%20%20%20%0A%20%20%20%20%0A%20%20%20%20%0A%20%20%20%20%20%20%20%20%20%20%20%20var%20marker_1a996616bc0f4fcebd58e91c7547cf79%20%3D%20L.marker%28%0A%20%20%20%20%20%20%20%20%20%20%20%20%20%20%20%20%5B29.557082%2C%20-95.740333%5D%2C%0A%20%20%20%20%20%20%20%20%20%20%20%20%20%20%20%20%7B%7D%0A%20%20%20%20%20%20%20%20%20%20%20%20%29.addTo%28map_92c501c73eef49dfa928a03f64e55f40%29%3B%0A%20%20%20%20%20%20%20%20%0A%20%20%20%20%0A%20%20%20%20%20%20%20%20%20%20%20%20var%20icon_73d60f0c60b547a5a0f9a27133178a0c%20%3D%20L.AwesomeMarkers.icon%28%0A%20%20%20%20%20%20%20%20%20%20%20%20%20%20%20%20%7B%22extraClasses%22%3A%20%22fa-rotate-0%22%2C%20%22icon%22%3A%20%22info-sign%22%2C%20%22iconColor%22%3A%20%22white%22%2C%20%22markerColor%22%3A%20%22green%22%2C%20%22prefix%22%3A%20%22glyphicon%22%7D%0A%20%20%20%20%20%20%20%20%20%20%20%20%29%3B%0A%20%20%20%20%20%20%20%20%20%20%20%20marker_1a996616bc0f4fcebd58e91c7547cf79.setIcon%28icon_73d60f0c60b547a5a0f9a27133178a0c%29%3B%0A%20%20%20%20%20%20%20%20%0A%20%20%20%20%0A%20%20%20%20%20%20%20%20var%20popup_757fa86b86b44a63b385bd7e12be0fa0%20%3D%20L.popup%28%7B%22maxWidth%22%3A%20%22100%25%22%7D%29%3B%0A%0A%20%20%20%20%20%20%20%20%0A%20%20%20%20%20%20%20%20%20%20%20%20var%20html_be7ad1e0364d482dacaceb6207f5a417%20%3D%20%24%28%60%3Cdiv%20id%3D%22html_be7ad1e0364d482dacaceb6207f5a417%22%20style%3D%22width%3A%20100.0%25%3B%20height%3A%20100.0%25%3B%22%3EPhil%20at%20Sweetgrass%20in%20Richmond%3C/div%3E%60%29%5B0%5D%3B%0A%20%20%20%20%20%20%20%20%20%20%20%20popup_757fa86b86b44a63b385bd7e12be0fa0.setContent%28html_be7ad1e0364d482dacaceb6207f5a417%29%3B%0A%20%20%20%20%20%20%20%20%0A%0A%20%20%20%20%20%20%20%20marker_1a996616bc0f4fcebd58e91c7547cf79.bindPopup%28popup_757fa86b86b44a63b385bd7e12be0fa0%29%0A%20%20%20%20%20%20%20%20%3B%0A%0A%20%20%20%20%20%20%20%20%0A%20%20%20%20%0A%20%20%20%20%0A%20%20%20%20%20%20%20%20%20%20%20%20var%20marker_1f278eb333b94f0093eb14e14e2e7b2d%20%3D%20L.marker%28%0A%20%20%20%20%20%20%20%20%20%20%20%20%20%20%20%20%5B29.76556%2C%20-95.413945%5D%2C%0A%20%20%20%20%20%20%20%20%20%20%20%20%20%20%20%20%7B%7D%0A%20%20%20%20%20%20%20%20%20%20%20%20%29.addTo%28map_92c501c73eef49dfa928a03f64e55f40%29%3B%0A%20%20%20%20%20%20%20%20%0A%20%20%20%20%0A%20%20%20%20%20%20%20%20%20%20%20%20var%20icon_5e87aac461374b8686ddb6c4795f2792%20%3D%20L.AwesomeMarkers.icon%28%0A%20%20%20%20%20%20%20%20%20%20%20%20%20%20%20%20%7B%22extraClasses%22%3A%20%22fa-rotate-0%22%2C%20%22icon%22%3A%20%22info-sign%22%2C%20%22iconColor%22%3A%20%22white%22%2C%20%22markerColor%22%3A%20%22green%22%2C%20%22prefix%22%3A%20%22glyphicon%22%7D%0A%20%20%20%20%20%20%20%20%20%20%20%20%29%3B%0A%20%20%20%20%20%20%20%20%20%20%20%20marker_1f278eb333b94f0093eb14e14e2e7b2d.setIcon%28icon_5e87aac461374b8686ddb6c4795f2792%29%3B%0A%20%20%20%20%20%20%20%20%0A%20%20%20%20%0A%20%20%20%20%20%20%20%20var%20popup_39d27c193275486cb999e7fbd43e9eb0%20%3D%20L.popup%28%7B%22maxWidth%22%3A%20%22100%25%22%7D%29%3B%0A%0A%20%20%20%20%20%20%20%20%0A%20%20%20%20%20%20%20%20%20%20%20%20var%20html_0cd75ac46ed54ca68262344b04b2d336%20%3D%20%24%28%60%3Cdiv%20id%3D%22html_0cd75ac46ed54ca68262344b04b2d336%22%20style%3D%22width%3A%20100.0%25%3B%20height%3A%20100.0%25%3B%22%3ERice%20Military%20Div%3C/div%3E%60%29%5B0%5D%3B%0A%20%20%20%20%20%20%20%20%20%20%20%20popup_39d27c193275486cb999e7fbd43e9eb0.setContent%28html_0cd75ac46ed54ca68262344b04b2d336%29%3B%0A%20%20%20%20%20%20%20%20%0A%0A%20%20%20%20%20%20%20%20marker_1f278eb333b94f0093eb14e14e2e7b2d.bindPopup%28popup_39d27c193275486cb999e7fbd43e9eb0%29%0A%20%20%20%20%20%20%20%20%3B%0A%0A%20%20%20%20%20%20%20%20%0A%20%20%20%20%0A%20%20%20%20%0A%20%20%20%20%20%20%20%20%20%20%20%20var%20marker_14af117402f0426c842a74a971366c96%20%3D%20L.marker%28%0A%20%20%20%20%20%20%20%20%20%20%20%20%20%20%20%20%5B29.73305%2C%20-95.585685%5D%2C%0A%20%20%20%20%20%20%20%20%20%20%20%20%20%20%20%20%7B%7D%0A%20%20%20%20%20%20%20%20%20%20%20%20%29.addTo%28map_92c501c73eef49dfa928a03f64e55f40%29%3B%0A%20%20%20%20%20%20%20%20%0A%20%20%20%20%0A%20%20%20%20%20%20%20%20%20%20%20%20var%20icon_82d6a8cd650b49c89c6028634b051dd8%20%3D%20L.AwesomeMarkers.icon%28%0A%20%20%20%20%20%20%20%20%20%20%20%20%20%20%20%20%7B%22extraClasses%22%3A%20%22fa-rotate-0%22%2C%20%22icon%22%3A%20%22info-sign%22%2C%20%22iconColor%22%3A%20%22white%22%2C%20%22markerColor%22%3A%20%22green%22%2C%20%22prefix%22%3A%20%22glyphicon%22%7D%0A%20%20%20%20%20%20%20%20%20%20%20%20%29%3B%0A%20%20%20%20%20%20%20%20%20%20%20%20marker_14af117402f0426c842a74a971366c96.setIcon%28icon_82d6a8cd650b49c89c6028634b051dd8%29%3B%0A%20%20%20%20%20%20%20%20%0A%20%20%20%20%0A%20%20%20%20%20%20%20%20var%20popup_1132a2cb0cc6408ebc1b9e084af6e826%20%3D%20L.popup%28%7B%22maxWidth%22%3A%20%22100%25%22%7D%29%3B%0A%0A%20%20%20%20%20%20%20%20%0A%20%20%20%20%20%20%20%20%20%20%20%20var%20html_41192921a3764e7fa6600307cc02d27f%20%3D%20%24%28%60%3Cdiv%20id%3D%22html_41192921a3764e7fa6600307cc02d27f%22%20style%3D%22width%3A%20100.0%25%3B%20height%3A%20100.0%25%3B%22%3ERoyal%20Oaks%20Houston%20Tx%20-%20Inside%3C/div%3E%60%29%5B0%5D%3B%0A%20%20%20%20%20%20%20%20%20%20%20%20popup_1132a2cb0cc6408ebc1b9e084af6e826.setContent%28html_41192921a3764e7fa6600307cc02d27f%29%3B%0A%20%20%20%20%20%20%20%20%0A%0A%20%20%20%20%20%20%20%20marker_14af117402f0426c842a74a971366c96.bindPopup%28popup_1132a2cb0cc6408ebc1b9e084af6e826%29%0A%20%20%20%20%20%20%20%20%3B%0A%0A%20%20%20%20%20%20%20%20%0A%20%20%20%20%0A%20%20%20%20%0A%20%20%20%20%20%20%20%20%20%20%20%20var%20marker_03b6e432c8654934a93195833ca0bd01%20%3D%20L.marker%28%0A%20%20%20%20%20%20%20%20%20%20%20%20%20%20%20%20%5B29.73305%2C%20-95.585685%5D%2C%0A%20%20%20%20%20%20%20%20%20%20%20%20%20%20%20%20%7B%7D%0A%20%20%20%20%20%20%20%20%20%20%20%20%29.addTo%28map_92c501c73eef49dfa928a03f64e55f40%29%3B%0A%20%20%20%20%20%20%20%20%0A%20%20%20%20%0A%20%20%20%20%20%20%20%20%20%20%20%20var%20icon_79c09f3fbb3247e6aec8aeeb92680db0%20%3D%20L.AwesomeMarkers.icon%28%0A%20%20%20%20%20%20%20%20%20%20%20%20%20%20%20%20%7B%22extraClasses%22%3A%20%22fa-rotate-0%22%2C%20%22icon%22%3A%20%22info-sign%22%2C%20%22iconColor%22%3A%20%22white%22%2C%20%22markerColor%22%3A%20%22green%22%2C%20%22prefix%22%3A%20%22glyphicon%22%7D%0A%20%20%20%20%20%20%20%20%20%20%20%20%29%3B%0A%20%20%20%20%20%20%20%20%20%20%20%20marker_03b6e432c8654934a93195833ca0bd01.setIcon%28icon_79c09f3fbb3247e6aec8aeeb92680db0%29%3B%0A%20%20%20%20%20%20%20%20%0A%20%20%20%20%0A%20%20%20%20%20%20%20%20var%20popup_d1716f2e2642407691f0e0ff585e7346%20%3D%20L.popup%28%7B%22maxWidth%22%3A%20%22100%25%22%7D%29%3B%0A%0A%20%20%20%20%20%20%20%20%0A%20%20%20%20%20%20%20%20%20%20%20%20var%20html_f4fecacfbb144ab1b61e34cee3c7da4d%20%3D%20%24%28%60%3Cdiv%20id%3D%22html_f4fecacfbb144ab1b61e34cee3c7da4d%22%20style%3D%22width%3A%20100.0%25%3B%20height%3A%20100.0%25%3B%22%3ERoyal%20Oaks%20Houston%20Tx%20-%20Outside%3C/div%3E%60%29%5B0%5D%3B%0A%20%20%20%20%20%20%20%20%20%20%20%20popup_d1716f2e2642407691f0e0ff585e7346.setContent%28html_f4fecacfbb144ab1b61e34cee3c7da4d%29%3B%0A%20%20%20%20%20%20%20%20%0A%0A%20%20%20%20%20%20%20%20marker_03b6e432c8654934a93195833ca0bd01.bindPopup%28popup_d1716f2e2642407691f0e0ff585e7346%29%0A%20%20%20%20%20%20%20%20%3B%0A%0A%20%20%20%20%20%20%20%20%0A%20%20%20%20%0A%20%20%20%20%0A%20%20%20%20%20%20%20%20%20%20%20%20var%20marker_d4a854287ffb4b5b9b46f0df7d2863d2%20%3D%20L.marker%28%0A%20%20%20%20%20%20%20%20%20%20%20%20%20%20%20%20%5B29.601254%2C%20-94.99246%5D%2C%0A%20%20%20%20%20%20%20%20%20%20%20%20%20%20%20%20%7B%7D%0A%20%20%20%20%20%20%20%20%20%20%20%20%29.addTo%28map_92c501c73eef49dfa928a03f64e55f40%29%3B%0A%20%20%20%20%20%20%20%20%0A%20%20%20%20%0A%20%20%20%20%20%20%20%20%20%20%20%20var%20icon_e101ae233d5d435f9e9fa2455dbd3973%20%3D%20L.AwesomeMarkers.icon%28%0A%20%20%20%20%20%20%20%20%20%20%20%20%20%20%20%20%7B%22extraClasses%22%3A%20%22fa-rotate-0%22%2C%20%22icon%22%3A%20%22info-sign%22%2C%20%22iconColor%22%3A%20%22white%22%2C%20%22markerColor%22%3A%20%22green%22%2C%20%22prefix%22%3A%20%22glyphicon%22%7D%0A%20%20%20%20%20%20%20%20%20%20%20%20%29%3B%0A%20%20%20%20%20%20%20%20%20%20%20%20marker_d4a854287ffb4b5b9b46f0df7d2863d2.setIcon%28icon_e101ae233d5d435f9e9fa2455dbd3973%29%3B%0A%20%20%20%20%20%20%20%20%0A%20%20%20%20%0A%20%20%20%20%20%20%20%20var%20popup_76e824a2aace4d2c98f3dcf1228ada91%20%3D%20L.popup%28%7B%22maxWidth%22%3A%20%22100%25%22%7D%29%3B%0A%0A%20%20%20%20%20%20%20%20%0A%20%20%20%20%20%20%20%20%20%20%20%20var%20html_a1a432c4ee97430ab9d16a403b22d44b%20%3D%20%24%28%60%3Cdiv%20id%3D%22html_a1a432c4ee97430ab9d16a403b22d44b%22%20style%3D%22width%3A%20100.0%25%3B%20height%3A%20100.0%25%3B%22%3ESchottel%20House%3C/div%3E%60%29%5B0%5D%3B%0A%20%20%20%20%20%20%20%20%20%20%20%20popup_76e824a2aace4d2c98f3dcf1228ada91.setContent%28html_a1a432c4ee97430ab9d16a403b22d44b%29%3B%0A%20%20%20%20%20%20%20%20%0A%0A%20%20%20%20%20%20%20%20marker_d4a854287ffb4b5b9b46f0df7d2863d2.bindPopup%28popup_76e824a2aace4d2c98f3dcf1228ada91%29%0A%20%20%20%20%20%20%20%20%3B%0A%0A%20%20%20%20%20%20%20%20%0A%20%20%20%20%0A%20%20%20%20%0A%20%20%20%20%20%20%20%20%20%20%20%20var%20marker_27ff87971fef4359965f4d2ccd79b2e5%20%3D%20L.marker%28%0A%20%20%20%20%20%20%20%20%20%20%20%20%20%20%20%20%5B29.582296%2C%20-95.044651%5D%2C%0A%20%20%20%20%20%20%20%20%20%20%20%20%20%20%20%20%7B%7D%0A%20%20%20%20%20%20%20%20%20%20%20%20%29.addTo%28map_92c501c73eef49dfa928a03f64e55f40%29%3B%0A%20%20%20%20%20%20%20%20%0A%20%20%20%20%0A%20%20%20%20%20%20%20%20%20%20%20%20var%20icon_721ec83552104bda9afee2694db27d09%20%3D%20L.AwesomeMarkers.icon%28%0A%20%20%20%20%20%20%20%20%20%20%20%20%20%20%20%20%7B%22extraClasses%22%3A%20%22fa-rotate-0%22%2C%20%22icon%22%3A%20%22info-sign%22%2C%20%22iconColor%22%3A%20%22white%22%2C%20%22markerColor%22%3A%20%22green%22%2C%20%22prefix%22%3A%20%22glyphicon%22%7D%0A%20%20%20%20%20%20%20%20%20%20%20%20%29%3B%0A%20%20%20%20%20%20%20%20%20%20%20%20marker_27ff87971fef4359965f4d2ccd79b2e5.setIcon%28icon_721ec83552104bda9afee2694db27d09%29%3B%0A%20%20%20%20%20%20%20%20%0A%20%20%20%20%0A%20%20%20%20%20%20%20%20var%20popup_c627fdb0a7784cf4bcd2209ca4487c18%20%3D%20L.popup%28%7B%22maxWidth%22%3A%20%22100%25%22%7D%29%3B%0A%0A%20%20%20%20%20%20%20%20%0A%20%20%20%20%20%20%20%20%20%20%20%20var%20html_aaad6b036511417db9034ae5d2ec000f%20%3D%20%24%28%60%3Cdiv%20id%3D%22html_aaad6b036511417db9034ae5d2ec000f%22%20style%3D%22width%3A%20100.0%25%3B%20height%3A%20100.0%25%3B%22%3ESeabrook%20Island%3C/div%3E%60%29%5B0%5D%3B%0A%20%20%20%20%20%20%20%20%20%20%20%20popup_c627fdb0a7784cf4bcd2209ca4487c18.setContent%28html_aaad6b036511417db9034ae5d2ec000f%29%3B%0A%20%20%20%20%20%20%20%20%0A%0A%20%20%20%20%20%20%20%20marker_27ff87971fef4359965f4d2ccd79b2e5.bindPopup%28popup_c627fdb0a7784cf4bcd2209ca4487c18%29%0A%20%20%20%20%20%20%20%20%3B%0A%0A%20%20%20%20%20%20%20%20%0A%20%20%20%20%0A%20%20%20%20%0A%20%20%20%20%20%20%20%20%20%20%20%20var%20marker_34121a31a4434e0baf3403d08a4c14fb%20%3D%20L.marker%28%0A%20%20%20%20%20%20%20%20%20%20%20%20%20%20%20%20%5B29.799163%2C%20-95.416531%5D%2C%0A%20%20%20%20%20%20%20%20%20%20%20%20%20%20%20%20%7B%7D%0A%20%20%20%20%20%20%20%20%20%20%20%20%29.addTo%28map_92c501c73eef49dfa928a03f64e55f40%29%3B%0A%20%20%20%20%20%20%20%20%0A%20%20%20%20%0A%20%20%20%20%20%20%20%20%20%20%20%20var%20icon_f0e0d756a593415bbc2683e0cd684e11%20%3D%20L.AwesomeMarkers.icon%28%0A%20%20%20%20%20%20%20%20%20%20%20%20%20%20%20%20%7B%22extraClasses%22%3A%20%22fa-rotate-0%22%2C%20%22icon%22%3A%20%22info-sign%22%2C%20%22iconColor%22%3A%20%22white%22%2C%20%22markerColor%22%3A%20%22orange%22%2C%20%22prefix%22%3A%20%22glyphicon%22%7D%0A%20%20%20%20%20%20%20%20%20%20%20%20%29%3B%0A%20%20%20%20%20%20%20%20%20%20%20%20marker_34121a31a4434e0baf3403d08a4c14fb.setIcon%28icon_f0e0d756a593415bbc2683e0cd684e11%29%3B%0A%20%20%20%20%20%20%20%20%0A%20%20%20%20%0A%20%20%20%20%20%20%20%20var%20popup_1fa86c5158324805a35bc68e051a26c6%20%3D%20L.popup%28%7B%22maxWidth%22%3A%20%22100%25%22%7D%29%3B%0A%0A%20%20%20%20%20%20%20%20%0A%20%20%20%20%20%20%20%20%20%20%20%20var%20html_df755c5482fd47b1a24f13f80626ebc3%20%3D%20%24%28%60%3Cdiv%20id%3D%22html_df755c5482fd47b1a24f13f80626ebc3%22%20style%3D%22width%3A%20100.0%25%3B%20height%3A%20100.0%25%3B%22%3EShady%20Acres%20%3C/div%3E%60%29%5B0%5D%3B%0A%20%20%20%20%20%20%20%20%20%20%20%20popup_1fa86c5158324805a35bc68e051a26c6.setContent%28html_df755c5482fd47b1a24f13f80626ebc3%29%3B%0A%20%20%20%20%20%20%20%20%0A%0A%20%20%20%20%20%20%20%20marker_34121a31a4434e0baf3403d08a4c14fb.bindPopup%28popup_1fa86c5158324805a35bc68e051a26c6%29%0A%20%20%20%20%20%20%20%20%3B%0A%0A%20%20%20%20%20%20%20%20%0A%20%20%20%20%0A%20%20%20%20%0A%20%20%20%20%20%20%20%20%20%20%20%20var%20marker_774343ea23b84319a69ca60d4a0f3bb9%20%3D%20L.marker%28%0A%20%20%20%20%20%20%20%20%20%20%20%20%20%20%20%20%5B29.77074%2C%20-95.370056%5D%2C%0A%20%20%20%20%20%20%20%20%20%20%20%20%20%20%20%20%7B%7D%0A%20%20%20%20%20%20%20%20%20%20%20%20%29.addTo%28map_92c501c73eef49dfa928a03f64e55f40%29%3B%0A%20%20%20%20%20%20%20%20%0A%20%20%20%20%0A%20%20%20%20%20%20%20%20%20%20%20%20var%20icon_29dae48ffea4406fa783ebb0962b267b%20%3D%20L.AwesomeMarkers.icon%28%0A%20%20%20%20%20%20%20%20%20%20%20%20%20%20%20%20%7B%22extraClasses%22%3A%20%22fa-rotate-0%22%2C%20%22icon%22%3A%20%22info-sign%22%2C%20%22iconColor%22%3A%20%22white%22%2C%20%22markerColor%22%3A%20%22green%22%2C%20%22prefix%22%3A%20%22glyphicon%22%7D%0A%20%20%20%20%20%20%20%20%20%20%20%20%29%3B%0A%20%20%20%20%20%20%20%20%20%20%20%20marker_774343ea23b84319a69ca60d4a0f3bb9.setIcon%28icon_29dae48ffea4406fa783ebb0962b267b%29%3B%0A%20%20%20%20%20%20%20%20%0A%20%20%20%20%0A%20%20%20%20%20%20%20%20var%20popup_1a40b39b30eb4448b11df5492d1a9755%20%3D%20L.popup%28%7B%22maxWidth%22%3A%20%22100%25%22%7D%29%3B%0A%0A%20%20%20%20%20%20%20%20%0A%20%20%20%20%20%20%20%20%20%20%20%20var%20html_f16bd54a260c4fffb9e2e17b00be3895%20%3D%20%24%28%60%3Cdiv%20id%3D%22html_f16bd54a260c4fffb9e2e17b00be3895%22%20style%3D%22width%3A%20100.0%25%3B%20height%3A%20100.0%25%3B%22%3ETest%20First%20Ward%3C/div%3E%60%29%5B0%5D%3B%0A%20%20%20%20%20%20%20%20%20%20%20%20popup_1a40b39b30eb4448b11df5492d1a9755.setContent%28html_f16bd54a260c4fffb9e2e17b00be3895%29%3B%0A%20%20%20%20%20%20%20%20%0A%0A%20%20%20%20%20%20%20%20marker_774343ea23b84319a69ca60d4a0f3bb9.bindPopup%28popup_1a40b39b30eb4448b11df5492d1a9755%29%0A%20%20%20%20%20%20%20%20%3B%0A%0A%20%20%20%20%20%20%20%20%0A%20%20%20%20%0A%20%20%20%20%0A%20%20%20%20%20%20%20%20%20%20%20%20var%20marker_960c8c24db5f469faa5122fb415d2b2e%20%3D%20L.marker%28%0A%20%20%20%20%20%20%20%20%20%20%20%20%20%20%20%20%5B29.532282%2C%20-95.076473%5D%2C%0A%20%20%20%20%20%20%20%20%20%20%20%20%20%20%20%20%7B%7D%0A%20%20%20%20%20%20%20%20%20%20%20%20%29.addTo%28map_92c501c73eef49dfa928a03f64e55f40%29%3B%0A%20%20%20%20%20%20%20%20%0A%20%20%20%20%0A%20%20%20%20%20%20%20%20%20%20%20%20var%20icon_1ba5323e7bce40d6ac2759fe6bf82ddd%20%3D%20L.AwesomeMarkers.icon%28%0A%20%20%20%20%20%20%20%20%20%20%20%20%20%20%20%20%7B%22extraClasses%22%3A%20%22fa-rotate-0%22%2C%20%22icon%22%3A%20%22info-sign%22%2C%20%22iconColor%22%3A%20%22white%22%2C%20%22markerColor%22%3A%20%22green%22%2C%20%22prefix%22%3A%20%22glyphicon%22%7D%0A%20%20%20%20%20%20%20%20%20%20%20%20%29%3B%0A%20%20%20%20%20%20%20%20%20%20%20%20marker_960c8c24db5f469faa5122fb415d2b2e.setIcon%28icon_1ba5323e7bce40d6ac2759fe6bf82ddd%29%3B%0A%20%20%20%20%20%20%20%20%0A%20%20%20%20%0A%20%20%20%20%20%20%20%20var%20popup_f1ec5b1ff1fe41ba9e50fa4c5dcde8f0%20%3D%20L.popup%28%7B%22maxWidth%22%3A%20%22100%25%22%7D%29%3B%0A%0A%20%20%20%20%20%20%20%20%0A%20%20%20%20%20%20%20%20%20%20%20%20var%20html_422b4863a2e142ee9cfb005bd2e84619%20%3D%20%24%28%60%3Cdiv%20id%3D%22html_422b4863a2e142ee9cfb005bd2e84619%22%20style%3D%22width%3A%20100.0%25%3B%20height%3A%20100.0%25%3B%22%3EThe%20Lakefront%3C/div%3E%60%29%5B0%5D%3B%0A%20%20%20%20%20%20%20%20%20%20%20%20popup_f1ec5b1ff1fe41ba9e50fa4c5dcde8f0.setContent%28html_422b4863a2e142ee9cfb005bd2e84619%29%3B%0A%20%20%20%20%20%20%20%20%0A%0A%20%20%20%20%20%20%20%20marker_960c8c24db5f469faa5122fb415d2b2e.bindPopup%28popup_f1ec5b1ff1fe41ba9e50fa4c5dcde8f0%29%0A%20%20%20%20%20%20%20%20%3B%0A%0A%20%20%20%20%20%20%20%20%0A%20%20%20%20%0A%20%20%20%20%0A%20%20%20%20%20%20%20%20%20%20%20%20var%20marker_7db926e529ef420e88984cf237840caa%20%3D%20L.marker%28%0A%20%20%20%20%20%20%20%20%20%20%20%20%20%20%20%20%5B29.924318%2C%20-95.584526%5D%2C%0A%20%20%20%20%20%20%20%20%20%20%20%20%20%20%20%20%7B%7D%0A%20%20%20%20%20%20%20%20%20%20%20%20%29.addTo%28map_92c501c73eef49dfa928a03f64e55f40%29%3B%0A%20%20%20%20%20%20%20%20%0A%20%20%20%20%0A%20%20%20%20%20%20%20%20%20%20%20%20var%20icon_7c808085714e44119bba9f03f22fe7cf%20%3D%20L.AwesomeMarkers.icon%28%0A%20%20%20%20%20%20%20%20%20%20%20%20%20%20%20%20%7B%22extraClasses%22%3A%20%22fa-rotate-0%22%2C%20%22icon%22%3A%20%22info-sign%22%2C%20%22iconColor%22%3A%20%22white%22%2C%20%22markerColor%22%3A%20%22darkpurple%22%2C%20%22prefix%22%3A%20%22glyphicon%22%7D%0A%20%20%20%20%20%20%20%20%20%20%20%20%29%3B%0A%20%20%20%20%20%20%20%20%20%20%20%20marker_7db926e529ef420e88984cf237840caa.setIcon%28icon_7c808085714e44119bba9f03f22fe7cf%29%3B%0A%20%20%20%20%20%20%20%20%0A%20%20%20%20%0A%20%20%20%20%20%20%20%20var%20popup_a36bb07854a548659879541ed8c6aedc%20%3D%20L.popup%28%7B%22maxWidth%22%3A%20%22100%25%22%7D%29%3B%0A%0A%20%20%20%20%20%20%20%20%0A%20%20%20%20%20%20%20%20%20%20%20%20var%20html_99685755db4f47a5a88155126e3e5938%20%3D%20%24%28%60%3Cdiv%20id%3D%22html_99685755db4f47a5a88155126e3e5938%22%20style%3D%22width%3A%20100.0%25%3B%20height%3A%20100.0%25%3B%22%3EWhite%20Oak%20Bend%3C/div%3E%60%29%5B0%5D%3B%0A%20%20%20%20%20%20%20%20%20%20%20%20popup_a36bb07854a548659879541ed8c6aedc.setContent%28html_99685755db4f47a5a88155126e3e5938%29%3B%0A%20%20%20%20%20%20%20%20%0A%0A%20%20%20%20%20%20%20%20marker_7db926e529ef420e88984cf237840caa.bindPopup%28popup_a36bb07854a548659879541ed8c6aedc%29%0A%20%20%20%20%20%20%20%20%3B%0A%0A%20%20%20%20%20%20%20%20%0A%20%20%20%20%0A%20%20%20%20%0A%20%20%20%20%20%20%20%20%20%20%20%20var%20marker_c63e7b5b579c42f4bbdca944b5071d99%20%3D%20L.marker%28%0A%20%20%20%20%20%20%20%20%20%20%20%20%20%20%20%20%5B29.762896%2C%20-95.707644%5D%2C%0A%20%20%20%20%20%20%20%20%20%20%20%20%20%20%20%20%7B%7D%0A%20%20%20%20%20%20%20%20%20%20%20%20%29.addTo%28map_92c501c73eef49dfa928a03f64e55f40%29%3B%0A%20%20%20%20%20%20%20%20%0A%20%20%20%20%0A%20%20%20%20%20%20%20%20%20%20%20%20var%20icon_42652e96c0a4412ebe2d1d3cbd6fbaef%20%3D%20L.AwesomeMarkers.icon%28%0A%20%20%20%20%20%20%20%20%20%20%20%20%20%20%20%20%7B%22extraClasses%22%3A%20%22fa-rotate-0%22%2C%20%22icon%22%3A%20%22info-sign%22%2C%20%22iconColor%22%3A%20%22white%22%2C%20%22markerColor%22%3A%20%22green%22%2C%20%22prefix%22%3A%20%22glyphicon%22%7D%0A%20%20%20%20%20%20%20%20%20%20%20%20%29%3B%0A%20%20%20%20%20%20%20%20%20%20%20%20marker_c63e7b5b579c42f4bbdca944b5071d99.setIcon%28icon_42652e96c0a4412ebe2d1d3cbd6fbaef%29%3B%0A%20%20%20%20%20%20%20%20%0A%20%20%20%20%0A%20%20%20%20%20%20%20%20var%20popup_8a7bfb13a6a6499f9d67cebb006da5ea%20%3D%20L.popup%28%7B%22maxWidth%22%3A%20%22100%25%22%7D%29%3B%0A%0A%20%20%20%20%20%20%20%20%0A%20%20%20%20%20%20%20%20%20%20%20%20var%20html_7068a15b8ec84696bfedf4f52e3c4976%20%3D%20%24%28%60%3Cdiv%20id%3D%22html_7068a15b8ec84696bfedf4f52e3c4976%22%20style%3D%22width%3A%20100.0%25%3B%20height%3A%20100.0%25%3B%22%3EWindsor%20Park%3C/div%3E%60%29%5B0%5D%3B%0A%20%20%20%20%20%20%20%20%20%20%20%20popup_8a7bfb13a6a6499f9d67cebb006da5ea.setContent%28html_7068a15b8ec84696bfedf4f52e3c4976%29%3B%0A%20%20%20%20%20%20%20%20%0A%0A%20%20%20%20%20%20%20%20marker_c63e7b5b579c42f4bbdca944b5071d99.bindPopup%28popup_8a7bfb13a6a6499f9d67cebb006da5ea%29%0A%20%20%20%20%20%20%20%20%3B%0A%0A%20%20%20%20%20%20%20%20%0A%20%20%20%20%0A%20%20%20%20%0A%20%20%20%20%20%20%20%20%20%20%20%20var%20marker_41e1148b65884999a2f9b06c18adae21%20%3D%20L.marker%28%0A%20%20%20%20%20%20%20%20%20%20%20%20%20%20%20%20%5B29.78264%2C%20-95.37274%5D%2C%0A%20%20%20%20%20%20%20%20%20%20%20%20%20%20%20%20%7B%7D%0A%20%20%20%20%20%20%20%20%20%20%20%20%29.addTo%28map_92c501c73eef49dfa928a03f64e55f40%29%3B%0A%20%20%20%20%20%20%20%20%0A%20%20%20%20%0A%20%20%20%20%20%20%20%20%20%20%20%20var%20icon_b14fa68490c04dc692047f78a1fbf44a%20%3D%20L.AwesomeMarkers.icon%28%0A%20%20%20%20%20%20%20%20%20%20%20%20%20%20%20%20%7B%22extraClasses%22%3A%20%22fa-rotate-0%22%2C%20%22icon%22%3A%20%22info-sign%22%2C%20%22iconColor%22%3A%20%22white%22%2C%20%22markerColor%22%3A%20%22green%22%2C%20%22prefix%22%3A%20%22glyphicon%22%7D%0A%20%20%20%20%20%20%20%20%20%20%20%20%29%3B%0A%20%20%20%20%20%20%20%20%20%20%20%20marker_41e1148b65884999a2f9b06c18adae21.setIcon%28icon_b14fa68490c04dc692047f78a1fbf44a%29%3B%0A%20%20%20%20%20%20%20%20%0A%20%20%20%20%0A%20%20%20%20%20%20%20%20var%20popup_d49df5005a9a4aa68a54608547569f15%20%3D%20L.popup%28%7B%22maxWidth%22%3A%20%22100%25%22%7D%29%3B%0A%0A%20%20%20%20%20%20%20%20%0A%20%20%20%20%20%20%20%20%20%20%20%20var%20html_48499b653dec41ddb24ab33e5c916b43%20%3D%20%24%28%60%3Cdiv%20id%3D%22html_48499b653dec41ddb24ab33e5c916b43%22%20style%3D%22width%3A%20100.0%25%3B%20height%3A%20100.0%25%3B%22%3EWoodland%20Heights%3C/div%3E%60%29%5B0%5D%3B%0A%20%20%20%20%20%20%20%20%20%20%20%20popup_d49df5005a9a4aa68a54608547569f15.setContent%28html_48499b653dec41ddb24ab33e5c916b43%29%3B%0A%20%20%20%20%20%20%20%20%0A%0A%20%20%20%20%20%20%20%20marker_41e1148b65884999a2f9b06c18adae21.bindPopup%28popup_d49df5005a9a4aa68a54608547569f15%29%0A%20%20%20%20%20%20%20%20%3B%0A%0A%20%20%20%20%20%20%20%20%0A%20%20%20%20%0A%20%20%20%20%0A%20%20%20%20%20%20%20%20%20%20%20%20var%20marker_70a7644beba44cb68b7824c728fb25e2%20%3D%20L.marker%28%0A%20%20%20%20%20%20%20%20%20%20%20%20%20%20%20%20%5B29.762451%2C%20-95.46637%5D%2C%0A%20%20%20%20%20%20%20%20%20%20%20%20%20%20%20%20%7B%7D%0A%20%20%20%20%20%20%20%20%20%20%20%20%29.addTo%28map_92c501c73eef49dfa928a03f64e55f40%29%3B%0A%20%20%20%20%20%20%20%20%0A%20%20%20%20%0A%20%20%20%20%20%20%20%20%20%20%20%20var%20icon_1b6586374ff14422a930a3ddd2bc830c%20%3D%20L.AwesomeMarkers.icon%28%0A%20%20%20%20%20%20%20%20%20%20%20%20%20%20%20%20%7B%22extraClasses%22%3A%20%22fa-rotate-0%22%2C%20%22icon%22%3A%20%22info-sign%22%2C%20%22iconColor%22%3A%20%22white%22%2C%20%22markerColor%22%3A%20%22green%22%2C%20%22prefix%22%3A%20%22glyphicon%22%7D%0A%20%20%20%20%20%20%20%20%20%20%20%20%29%3B%0A%20%20%20%20%20%20%20%20%20%20%20%20marker_70a7644beba44cb68b7824c728fb25e2.setIcon%28icon_1b6586374ff14422a930a3ddd2bc830c%29%3B%0A%20%20%20%20%20%20%20%20%0A%20%20%20%20%0A%20%20%20%20%20%20%20%20var%20popup_8eca7a575632429698ede3fba61221e9%20%3D%20L.popup%28%7B%22maxWidth%22%3A%20%22100%25%22%7D%29%3B%0A%0A%20%20%20%20%20%20%20%20%0A%20%20%20%20%20%20%20%20%20%20%20%20var%20html_449dc22e72bf4ec9a2ab6124756a0101%20%3D%20%24%28%60%3Cdiv%20id%3D%22html_449dc22e72bf4ec9a2ab6124756a0101%22%20style%3D%22width%3A%20100.0%25%3B%20height%3A%20100.0%25%3B%22%3EWPI-1%3C/div%3E%60%29%5B0%5D%3B%0A%20%20%20%20%20%20%20%20%20%20%20%20popup_8eca7a575632429698ede3fba61221e9.setContent%28html_449dc22e72bf4ec9a2ab6124756a0101%29%3B%0A%20%20%20%20%20%20%20%20%0A%0A%20%20%20%20%20%20%20%20marker_70a7644beba44cb68b7824c728fb25e2.bindPopup%28popup_8eca7a575632429698ede3fba61221e9%29%0A%20%20%20%20%20%20%20%20%3B%0A%0A%20%20%20%20%20%20%20%20%0A%20%20%20%20%0A%3C/script%3E onload=\"this.contentDocument.open();this.contentDocument.write(    decodeURIComponent(this.getAttribute('data-html')));this.contentDocument.close();\" allowfullscreen webkitallowfullscreen mozallowfullscreen></iframe></div></div>"
      ],
      "text/plain": [
       "<folium.folium.Map at 0x7fe0831b7d50>"
      ]
     },
     "execution_count": 17,
     "metadata": {},
     "output_type": "execute_result"
    }
   ],
   "source": [
    "m = folium.Map(location=[29.7604, -95.3698])\n",
    "\n",
    "for i in np.arange(len(houston_data) - 1):\n",
    "    folium.Marker(\n",
    "        location=[houston_data.iloc[i]['lat'], houston_data.iloc[i]['lon']],\n",
    "        popup=houston_data.iloc[i]['name'],\n",
    "        icon=folium.Icon(color=houston_data.iloc[i]['code']),\n",
    "    ).add_to(m)\n",
    "\n",
    "m"
   ]
  },
  {
   "cell_type": "markdown",
   "metadata": {
    "cell_id": "00039-8c7f3c1d-a707-4c54-ae09-6a427f21590c",
    "deepnote_cell_type": "markdown",
    "tags": []
   },
   "source": [
    "Now that we have created a map we can easily see what the AQI index is across the city! "
   ]
  },
  {
   "cell_type": "markdown",
   "metadata": {
    "cell_id": "00039-594ccc44-9eb0-4422-ad7b-e4ef873a64e2",
    "deepnote_cell_type": "markdown",
    "tags": []
   },
   "source": [
    "<br>\n",
    "\n",
    "**QUESTION: What do you notice about the map?**"
   ]
  },
  {
   "cell_type": "markdown",
   "metadata": {
    "cell_id": "00040-5159e2cd-f818-4772-a0e3-b2d60a578ae7",
    "deepnote_cell_type": "markdown",
    "tags": []
   },
   "source": [
    "*Your answer here*"
   ]
  },
  {
   "cell_type": "markdown",
   "metadata": {
    "cell_id": "00038-606fcf94-7f1e-4dca-89cf-574037f7b428",
    "deepnote_cell_type": "markdown",
    "tags": []
   },
   "source": [
    "<br>\n",
    "\n",
    "Now it's your turn! Fill in the code below (balnks indicated by \"...\") to create a dataframe of sensors in the Dallas, TX area."
   ]
  },
  {
   "cell_type": "code",
   "execution_count": null,
   "metadata": {
    "cell_id": "00039-f61c9ec7-f337-4fca-ae8e-7ea758235308",
    "deepnote_cell_type": "code",
    "deepnote_to_be_reexecuted": false,
    "execution_millis": 11,
    "execution_start": 1633062993296,
    "source_hash": "c1c82818",
    "tags": []
   },
   "outputs": [
    {
     "ename": "SyntaxError",
     "evalue": "invalid syntax (1037890800.py, line 4)",
     "output_type": "error",
     "traceback": [
      "\u001b[0;36m  File \u001b[0;32m\"/tmp/ipykernel_95/1037890800.py\"\u001b[0;36m, line \u001b[0;32m4\u001b[0m\n\u001b[0;31m    dallas_data = df.loc[(df[\"lat\"] >= ...) & (df[\"lat\"] <= ...) & (df[\"lon\"] >= ...) & (df[\"lon\"] <= ..)]\u001b[0m\n\u001b[0m                                                                                                      ^\u001b[0m\n\u001b[0;31mSyntaxError\u001b[0m\u001b[0;31m:\u001b[0m invalid syntax\n"
     ]
    }
   ],
   "source": [
    "## Dallas, TX - Lat: ? / Lon: ?\n",
    "## Look for the coordinates of Dallas, TX online!\n",
    "\n",
    "dallas_data = df.loc[(df[\"lat\"] >= ...) & (df[\"lat\"] <= ...) & (df[\"lon\"] >= ...) & (df[\"lon\"] <= ..)]\n",
    "dallas_data = houston_data[[\"lat\", \"lon\", \"name\", \"location_type\", \"pm_2.5\", \"temp_f\", \"humidity\", \"pressure\"]]\n",
    "dallas_data"
   ]
  },
  {
   "cell_type": "markdown",
   "metadata": {
    "cell_id": "00071-36ac60d2-fdcd-4498-a08c-7f75e0e20957",
    "deepnote_cell_type": "markdown",
    "tags": []
   },
   "source": [
    "Developed By: Ziyue Li, Melisa Esqueda, Maham Bawaney & Karalyn Chong"
   ]
  },
  {
   "cell_type": "markdown",
   "metadata": {
    "created_in_deepnote_cell": true,
    "deepnote_cell_type": "markdown",
    "tags": []
   },
   "source": [
    "<a style='text-decoration:none;line-height:16px;display:flex;color:#5B5B62;padding:10px;justify-content:end;' href='https://deepnote.com?utm_source=created-in-deepnote-cell&projectId=f19ace53-ffd9-4b3c-a807-6437cb6cda39' target=\"_blank\">\n",
    "<img alt='Created in deepnote.com' style='display:inline;max-height:16px;margin:0px;margin-right:7.5px;' src='data:image/svg+xml;base64,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' > </img>\n",
    "Created in <span style='font-weight:600;margin-left:4px;'>Deepnote</span></a>"
   ]
  }
 ],
 "metadata": {
  "deepnote": {
   "is_reactive": false
  },
  "deepnote_execution_queue": [],
  "deepnote_notebook_id": "52fa4358-2ae5-42c6-918c-5ec9b3ee69c3",
  "kernelspec": {
   "display_name": "Python 3",
   "language": "python",
   "name": "python3"
  },
  "language_info": {
   "codemirror_mode": {
    "name": "ipython",
    "version": 3
   },
   "file_extension": ".py",
   "mimetype": "text/x-python",
   "name": "python",
   "nbconvert_exporter": "python",
   "pygments_lexer": "ipython3",
   "version": "3.8.8"
  }
 },
 "nbformat": 4,
 "nbformat_minor": 2
}

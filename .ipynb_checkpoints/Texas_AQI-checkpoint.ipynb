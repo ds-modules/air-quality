{
 "cells": [
  {
   "cell_type": "markdown",
   "metadata": {
    "deepnote_cell_type": "markdown",
    "tags": []
   },
   "source": [
    "## Note: Sorry this notebook isn't working right now and is under development.\n",
    "\n",
    "# Texas Air Quality Notebook"
   ]
  },
  {
   "cell_type": "markdown",
   "metadata": {
    "deepnote_cell_type": "markdown",
    "tags": []
   },
   "source": [
    "**Welcome to our notebook on Texas Air Quality!** \n",
    "\n",
    "In this notebook we will be looking at Air Quality Index (AQI) scores in the surrounding Texas area. With so many pollutants in the air, especially as we head into the annual fire season, AQI becomes something we check on daily. For many of us, this AQI map is all too familiar. Throughout this module we will discuss how data can be used to visualize and uncover underlying trends in the world.\n",
    "\n",
    "**Let's get started!**"
   ]
  },
  {
   "cell_type": "markdown",
   "metadata": {
    "deepnote_cell_type": "markdown",
    "tags": []
   },
   "source": [
    "<p align=\"center\">\n",
    "  <img src=\"images/Texas_AQI.png\" width=\"600\" height=\"600\" align=\"center\">\n",
    "</p>"
   ]
  },
  {
   "cell_type": "markdown",
   "metadata": {
    "deepnote_cell_type": "markdown",
    "tags": []
   },
   "source": [
    "<br>\n",
    "\n",
    "## Introduction to Jupyter Notebook"
   ]
  },
  {
   "cell_type": "markdown",
   "metadata": {
    "deepnote_cell_type": "markdown",
    "tags": []
   },
   "source": [
    "Before we get started with the data, let's talk about what Jupyter Notebook is. This lab is set up in a Jupyter Notebook. Notebooks can contain anything from live code, to written text, equations or visualizations. The content of notebooks are written into rectangular sections called **cells**. "
   ]
  },
  {
   "cell_type": "markdown",
   "metadata": {
    "deepnote_cell_type": "markdown",
    "tags": []
   },
   "source": [
    "#### Types of Cells\n",
    "There are two types of cells in Jupyter, **code** cells and **markdown** cells. **Code cells**, as you can imagine, contain code in Python, the programming language that we will be using throughout this notebook.  **Markdown cells**, such as this one, contain written text. You can select any cell by clicking on it one. "
   ]
  },
  {
   "cell_type": "markdown",
   "metadata": {
    "deepnote_cell_type": "markdown",
    "tags": []
   },
   "source": [
    "#### Running Cells\n",
    "'Running' a cell is similar to pressing 'Enter' on a calculator once you've typed in an expression; it computes all of the expressions contained within the cell.\n",
    "\n",
    "To run a cell, you can do one of the following:\n",
    "\n",
    "- press **Shift + Enter**\n",
    "- click the **Run** button on the top tool bar\n",
    "\n",
    "Running a markdown cell will embed the text into the notebook and running a code cell will evaluate the code and display its output under the cell. \n",
    "\n",
    "Let's try it! **Run the code cell below.**"
   ]
  },
  {
   "cell_type": "code",
   "execution_count": 1,
   "metadata": {
    "deepnote_cell_type": "code",
    "deepnote_to_be_reexecuted": false,
    "execution_millis": 20,
    "execution_start": 1633062945031,
    "source_hash": "fc071345",
    "tags": []
   },
   "outputs": [
    {
     "name": "stdout",
     "output_type": "stream",
     "text": [
      "Hello World!\n"
     ]
    }
   ],
   "source": [
    "print(\"Hello World!\")"
   ]
  },
  {
   "cell_type": "markdown",
   "metadata": {
    "deepnote_cell_type": "markdown",
    "tags": []
   },
   "source": [
    "#### Editing and Saving\n",
    "\n",
    "- To **edit** a cell, simply double click on the desired cell and begin typing. The cell that you are currently working in will be highlighted by a green box.\n",
    "- To **save** the notebook, either click *Ctl + S* or navigate to the \"File\" dropdown and select \"Save and Checkpoint\""
   ]
  },
  {
   "cell_type": "markdown",
   "metadata": {
    "deepnote_cell_type": "markdown",
    "tags": []
   },
   "source": [
    "#### Adding Cells\n",
    "You can add a cell by clicking <b><code>Insert > Insert Cell Below</code></b> and choose the cell type in the drop down menu. Try adding a cell below to type in your name!\n"
   ]
  },
  {
   "cell_type": "markdown",
   "metadata": {
    "deepnote_cell_type": "markdown",
    "tags": []
   },
   "source": [
    "#### Deleting Cells \n",
    "To delete a cell, click on the <b><code>scissors</code></b> at the top or <b><code>Edit > Cut Cells</code></b>. Delete the cell below."
   ]
  },
  {
   "cell_type": "code",
   "execution_count": 2,
   "metadata": {
    "deepnote_cell_type": "code",
    "deepnote_to_be_reexecuted": false,
    "execution_millis": 15,
    "execution_start": 1633063139383,
    "scrolled": true,
    "source_hash": "53b00907",
    "tags": []
   },
   "outputs": [
    {
     "name": "stdout",
     "output_type": "stream",
     "text": [
      "Delete this!\n"
     ]
    }
   ],
   "source": [
    "print(\"Delete this!\")"
   ]
  },
  {
   "cell_type": "markdown",
   "metadata": {
    "deepnote_cell_type": "markdown",
    "tags": []
   },
   "source": [
    "**Important Tip**: Everytime you open a Jupyter notebook, it is extremely important to run all the cells from the beginning in order for the notebook to work. "
   ]
  },
  {
   "cell_type": "markdown",
   "metadata": {
    "deepnote_cell_type": "markdown",
    "tags": []
   },
   "source": [
    "Now that we have had a brief crash course on Jupyter Notebooks, let's dive into Texas AQI!"
   ]
  },
  {
   "cell_type": "markdown",
   "metadata": {
    "deepnote_cell_type": "markdown",
    "tags": []
   },
   "source": [
    "<br>\n",
    "\n",
    "## Introduction to the Data <a class=\"anchor\" id=\"2\"></a>"
   ]
  },
  {
   "cell_type": "markdown",
   "metadata": {
    "deepnote_cell_type": "markdown",
    "tags": []
   },
   "source": [
    "In this notebook we will look at data collected from PrupleAir, a company that manages a network of air quality sensors. The data from these sensors are then collected to create maps like the one displayed above that depicts an intuitive visualization of the air quality in a specific region. In the dataframe below, you will find several metrics that help us do this.\n",
    "\n",
    "**Before we begin:**\n",
    "\n",
    "- Click on <b><code>Cell</code></b> in the top toolbar  \n",
    "- Click on <b><code>Run All</code></b> in the drop down\n",
    "- Scroll back up to begin going through the notebook!"
   ]
  },
  {
   "cell_type": "code",
   "execution_count": 3,
   "metadata": {
    "deepnote_cell_type": "code",
    "deepnote_to_be_reexecuted": false,
    "execution_millis": 1803,
    "execution_start": 1633062971393,
    "source_hash": "990f3fb4",
    "tags": [
     "hide-input"
    ]
   },
   "outputs": [],
   "source": [
    "import matplotlib.pyplot as plt\n",
    "import numpy as np\n",
    "import purpleair\n",
    "import folium\n",
    "import ipywidgets as widgets\n",
    "from ipywidgets import interact, interactive, fixed, interact_manual\n",
    "from datetime import datetime\n",
    "from IPython.display import clear_output"
   ]
  },
  {
   "cell_type": "markdown",
   "metadata": {
    "deepnote_cell_type": "markdown",
    "tags": []
   },
   "source": [
    "<br>\n",
    "\n",
    "# PurpleAir Data"
   ]
  },
  {
   "cell_type": "markdown",
   "metadata": {
    "deepnote_cell_type": "markdown",
    "tags": []
   },
   "source": [
    "Before we begin looking at data collected from PurpleAir sensors, lets first take a look at what a sensor is, and what it measures. \n",
    "\n",
    "\n",
    "> Below is a picture of a real PurpleAir Air Quality Sensor. These sensor can be mounted both indoors or outdoors, and it tracks airborne particulate matter(PM) in real time using PMSX003 laser counters. Particulate matter can include things like dust, smoke, dirt and any other organic or inorganic particles in the air. With multiple sensors mounted in a region, PurpleAir can create a relatively accurate measure of AQI throughout the day as the air quality changes. \n",
    "\n",
    "For more information on how sensors work, take a look at the official PurpleAir website [here](https://www2.purpleair.com/community/faq#hc-what-do-the-numbers-on-the-purpleair-map-mean-1)!"
   ]
  },
  {
   "cell_type": "markdown",
   "metadata": {
    "deepnote_cell_type": "markdown",
    "tags": []
   },
   "source": [
    "<p align=\"center\">\n",
    "  <img src=\"images/purpleair-sensor-pm2.5.webp\" width=\"\" height=\"\" align=\"center\">\n",
    "</p>"
   ]
  },
  {
   "cell_type": "markdown",
   "metadata": {
    "deepnote_cell_type": "markdown",
    "tags": []
   },
   "source": [
    "In order to work with the data, we need to pull it into our workspace. Fortunately, PurpleAir has created an API (Application Programming Interface) that allows users to pull in and work with their AQI data. In the code cell below we will import the purpleair API and use it to create a dataframe of data from  all PurpleAir sensors, which is roughly ~20,000!"
   ]
  },
  {
   "cell_type": "code",
   "execution_count": 4,
   "metadata": {
    "deepnote_cell_type": "code",
    "deepnote_to_be_reexecuted": false,
    "execution_millis": 15854,
    "execution_start": 1633062973205,
    "source_hash": "5c996320",
    "tags": [
     "hide-input"
    ]
   },
   "outputs": [
    {
     "name": "stdout",
     "output_type": "stream",
     "text": [
      "Initialized 22,479 sensors!\n"
     ]
    }
   ],
   "source": [
    "from purpleair.network import SensorList\n",
    "p = SensorList()\n",
    "df = p.to_dataframe(sensor_filter='all',\n",
    "                    channel='parent')"
   ]
  },
  {
   "cell_type": "markdown",
   "metadata": {
    "deepnote_cell_type": "markdown",
    "tags": []
   },
   "source": [
    "The dataframe below contains all the sensor data as of the latest update. It contains data on everything from the geograohical latitude and longitude of the sensor to data on the last time that sensor measured airborne PM."
   ]
  },
  {
   "cell_type": "code",
   "execution_count": 5,
   "metadata": {
    "deepnote_cell_type": "code",
    "deepnote_to_be_reexecuted": false,
    "execution_millis": 294,
    "execution_start": 1633062989059,
    "scrolled": false,
    "source_hash": "f804c160",
    "tags": []
   },
   "outputs": [
    {
     "data": {
      "text/html": [
       "<div>\n",
       "<style scoped>\n",
       "    .dataframe tbody tr th:only-of-type {\n",
       "        vertical-align: middle;\n",
       "    }\n",
       "\n",
       "    .dataframe tbody tr th {\n",
       "        vertical-align: top;\n",
       "    }\n",
       "\n",
       "    .dataframe thead th {\n",
       "        text-align: right;\n",
       "    }\n",
       "</style>\n",
       "<table border=\"1\" class=\"dataframe\">\n",
       "  <thead>\n",
       "    <tr style=\"text-align: right;\">\n",
       "      <th></th>\n",
       "      <th>parent</th>\n",
       "      <th>lat</th>\n",
       "      <th>lon</th>\n",
       "      <th>name</th>\n",
       "      <th>location_type</th>\n",
       "      <th>pm_2.5</th>\n",
       "      <th>temp_f</th>\n",
       "      <th>temp_c</th>\n",
       "      <th>humidity</th>\n",
       "      <th>pressure</th>\n",
       "      <th>...</th>\n",
       "      <th>last_update_check</th>\n",
       "      <th>created</th>\n",
       "      <th>uptime</th>\n",
       "      <th>is_owner</th>\n",
       "      <th>10min_avg</th>\n",
       "      <th>30min_avg</th>\n",
       "      <th>1hour_avg</th>\n",
       "      <th>6hour_avg</th>\n",
       "      <th>1day_avg</th>\n",
       "      <th>1week_avg</th>\n",
       "    </tr>\n",
       "    <tr>\n",
       "      <th>id</th>\n",
       "      <th></th>\n",
       "      <th></th>\n",
       "      <th></th>\n",
       "      <th></th>\n",
       "      <th></th>\n",
       "      <th></th>\n",
       "      <th></th>\n",
       "      <th></th>\n",
       "      <th></th>\n",
       "      <th></th>\n",
       "      <th></th>\n",
       "      <th></th>\n",
       "      <th></th>\n",
       "      <th></th>\n",
       "      <th></th>\n",
       "      <th></th>\n",
       "      <th></th>\n",
       "      <th></th>\n",
       "      <th></th>\n",
       "      <th></th>\n",
       "      <th></th>\n",
       "    </tr>\n",
       "  </thead>\n",
       "  <tbody>\n",
       "    <tr>\n",
       "      <td>14633</td>\n",
       "      <td>None</td>\n",
       "      <td>37.275561</td>\n",
       "      <td>-121.964134</td>\n",
       "      <td>Hazelwood canary</td>\n",
       "      <td>outside</td>\n",
       "      <td>0.81</td>\n",
       "      <td>65.0</td>\n",
       "      <td>18.333333</td>\n",
       "      <td>54.0</td>\n",
       "      <td>1008.57</td>\n",
       "      <td>...</td>\n",
       "      <td>None</td>\n",
       "      <td>None</td>\n",
       "      <td>None</td>\n",
       "      <td>False</td>\n",
       "      <td>0.88</td>\n",
       "      <td>4.10</td>\n",
       "      <td>8.26</td>\n",
       "      <td>17.72</td>\n",
       "      <td>21.80</td>\n",
       "      <td>15.42</td>\n",
       "    </tr>\n",
       "    <tr>\n",
       "      <td>25999</td>\n",
       "      <td>None</td>\n",
       "      <td>30.053808</td>\n",
       "      <td>-95.494643</td>\n",
       "      <td>Villages of Bridgestone AQI</td>\n",
       "      <td>outside</td>\n",
       "      <td>35.16</td>\n",
       "      <td>70.0</td>\n",
       "      <td>21.111111</td>\n",
       "      <td>70.0</td>\n",
       "      <td>1011.86</td>\n",
       "      <td>...</td>\n",
       "      <td>None</td>\n",
       "      <td>None</td>\n",
       "      <td>None</td>\n",
       "      <td>False</td>\n",
       "      <td>34.71</td>\n",
       "      <td>33.59</td>\n",
       "      <td>32.77</td>\n",
       "      <td>26.03</td>\n",
       "      <td>16.30</td>\n",
       "      <td>14.88</td>\n",
       "    </tr>\n",
       "    <tr>\n",
       "      <td>14091</td>\n",
       "      <td>None</td>\n",
       "      <td>37.883620</td>\n",
       "      <td>-122.070087</td>\n",
       "      <td>WC Hillside</td>\n",
       "      <td>outside</td>\n",
       "      <td>1.00</td>\n",
       "      <td>63.0</td>\n",
       "      <td>17.222222</td>\n",
       "      <td>57.0</td>\n",
       "      <td>1003.26</td>\n",
       "      <td>...</td>\n",
       "      <td>None</td>\n",
       "      <td>None</td>\n",
       "      <td>None</td>\n",
       "      <td>False</td>\n",
       "      <td>2.28</td>\n",
       "      <td>2.72</td>\n",
       "      <td>3.16</td>\n",
       "      <td>16.25</td>\n",
       "      <td>25.80</td>\n",
       "      <td>22.91</td>\n",
       "    </tr>\n",
       "    <tr>\n",
       "      <td>108226</td>\n",
       "      <td>None</td>\n",
       "      <td>38.573703</td>\n",
       "      <td>-121.439113</td>\n",
       "      <td>\"C\" Street Air Shelter</td>\n",
       "      <td>inside</td>\n",
       "      <td>4.76</td>\n",
       "      <td>78.0</td>\n",
       "      <td>25.555556</td>\n",
       "      <td>45.0</td>\n",
       "      <td>1015.66</td>\n",
       "      <td>...</td>\n",
       "      <td>None</td>\n",
       "      <td>None</td>\n",
       "      <td>None</td>\n",
       "      <td>False</td>\n",
       "      <td>4.77</td>\n",
       "      <td>4.49</td>\n",
       "      <td>4.15</td>\n",
       "      <td>3.96</td>\n",
       "      <td>4.75</td>\n",
       "      <td>5.46</td>\n",
       "    </tr>\n",
       "    <tr>\n",
       "      <td>49409</td>\n",
       "      <td>None</td>\n",
       "      <td>18.759182</td>\n",
       "      <td>99.017172</td>\n",
       "      <td>\"First's Place\"</td>\n",
       "      <td>outside</td>\n",
       "      <td>40.83</td>\n",
       "      <td>87.0</td>\n",
       "      <td>30.555556</td>\n",
       "      <td>37.0</td>\n",
       "      <td>986.64</td>\n",
       "      <td>...</td>\n",
       "      <td>None</td>\n",
       "      <td>None</td>\n",
       "      <td>None</td>\n",
       "      <td>False</td>\n",
       "      <td>45.70</td>\n",
       "      <td>49.98</td>\n",
       "      <td>50.08</td>\n",
       "      <td>50.61</td>\n",
       "      <td>46.32</td>\n",
       "      <td>32.53</td>\n",
       "    </tr>\n",
       "    <tr>\n",
       "      <td>...</td>\n",
       "      <td>...</td>\n",
       "      <td>...</td>\n",
       "      <td>...</td>\n",
       "      <td>...</td>\n",
       "      <td>...</td>\n",
       "      <td>...</td>\n",
       "      <td>...</td>\n",
       "      <td>...</td>\n",
       "      <td>...</td>\n",
       "      <td>...</td>\n",
       "      <td>...</td>\n",
       "      <td>...</td>\n",
       "      <td>...</td>\n",
       "      <td>...</td>\n",
       "      <td>...</td>\n",
       "      <td>...</td>\n",
       "      <td>...</td>\n",
       "      <td>...</td>\n",
       "      <td>...</td>\n",
       "      <td>...</td>\n",
       "      <td>...</td>\n",
       "    </tr>\n",
       "    <tr>\n",
       "      <td>64085</td>\n",
       "      <td>None</td>\n",
       "      <td>36.785883</td>\n",
       "      <td>127.157040</td>\n",
       "      <td>청룡동행정복지센터</td>\n",
       "      <td>outside</td>\n",
       "      <td>40.35</td>\n",
       "      <td>54.0</td>\n",
       "      <td>12.222222</td>\n",
       "      <td>46.0</td>\n",
       "      <td>1027.31</td>\n",
       "      <td>...</td>\n",
       "      <td>None</td>\n",
       "      <td>None</td>\n",
       "      <td>None</td>\n",
       "      <td>False</td>\n",
       "      <td>37.24</td>\n",
       "      <td>38.78</td>\n",
       "      <td>41.66</td>\n",
       "      <td>57.59</td>\n",
       "      <td>63.40</td>\n",
       "      <td>45.20</td>\n",
       "    </tr>\n",
       "    <tr>\n",
       "      <td>64995</td>\n",
       "      <td>None</td>\n",
       "      <td>36.691324</td>\n",
       "      <td>126.585255</td>\n",
       "      <td>한서대학교</td>\n",
       "      <td>outside</td>\n",
       "      <td>40.64</td>\n",
       "      <td>63.0</td>\n",
       "      <td>17.222222</td>\n",
       "      <td>33.0</td>\n",
       "      <td>1017.02</td>\n",
       "      <td>...</td>\n",
       "      <td>None</td>\n",
       "      <td>None</td>\n",
       "      <td>None</td>\n",
       "      <td>False</td>\n",
       "      <td>45.03</td>\n",
       "      <td>45.97</td>\n",
       "      <td>43.96</td>\n",
       "      <td>39.68</td>\n",
       "      <td>37.22</td>\n",
       "      <td>28.38</td>\n",
       "    </tr>\n",
       "    <tr>\n",
       "      <td>64093</td>\n",
       "      <td>None</td>\n",
       "      <td>36.710720</td>\n",
       "      <td>126.548390</td>\n",
       "      <td>해미읍성</td>\n",
       "      <td>outside</td>\n",
       "      <td>62.07</td>\n",
       "      <td>61.0</td>\n",
       "      <td>16.111111</td>\n",
       "      <td>44.0</td>\n",
       "      <td>1027.89</td>\n",
       "      <td>...</td>\n",
       "      <td>None</td>\n",
       "      <td>None</td>\n",
       "      <td>None</td>\n",
       "      <td>False</td>\n",
       "      <td>57.93</td>\n",
       "      <td>56.06</td>\n",
       "      <td>52.51</td>\n",
       "      <td>43.19</td>\n",
       "      <td>40.98</td>\n",
       "      <td>31.83</td>\n",
       "    </tr>\n",
       "    <tr>\n",
       "      <td>29747</td>\n",
       "      <td>None</td>\n",
       "      <td>36.761236</td>\n",
       "      <td>127.395300</td>\n",
       "      <td>화덕보건진료소</td>\n",
       "      <td>outside</td>\n",
       "      <td>34.77</td>\n",
       "      <td>62.0</td>\n",
       "      <td>16.666667</td>\n",
       "      <td>36.0</td>\n",
       "      <td>1018.16</td>\n",
       "      <td>...</td>\n",
       "      <td>None</td>\n",
       "      <td>None</td>\n",
       "      <td>None</td>\n",
       "      <td>False</td>\n",
       "      <td>40.36</td>\n",
       "      <td>49.29</td>\n",
       "      <td>52.26</td>\n",
       "      <td>49.02</td>\n",
       "      <td>46.31</td>\n",
       "      <td>38.67</td>\n",
       "    </tr>\n",
       "    <tr>\n",
       "      <td>98309</td>\n",
       "      <td>None</td>\n",
       "      <td>36.718003</td>\n",
       "      <td>126.926841</td>\n",
       "      <td>화천1리마을회관</td>\n",
       "      <td>outside</td>\n",
       "      <td>47.41</td>\n",
       "      <td>60.0</td>\n",
       "      <td>15.555556</td>\n",
       "      <td>41.0</td>\n",
       "      <td>1023.32</td>\n",
       "      <td>...</td>\n",
       "      <td>None</td>\n",
       "      <td>None</td>\n",
       "      <td>None</td>\n",
       "      <td>False</td>\n",
       "      <td>46.77</td>\n",
       "      <td>48.10</td>\n",
       "      <td>47.79</td>\n",
       "      <td>48.12</td>\n",
       "      <td>47.79</td>\n",
       "      <td>35.08</td>\n",
       "    </tr>\n",
       "  </tbody>\n",
       "</table>\n",
       "<p>22479 rows × 43 columns</p>\n",
       "</div>"
      ],
      "text/plain": [
       "       parent        lat         lon                          name  \\\n",
       "id                                                                   \n",
       "14633    None  37.275561 -121.964134             Hazelwood canary    \n",
       "25999    None  30.053808  -95.494643   Villages of Bridgestone AQI   \n",
       "14091    None  37.883620 -122.070087                   WC Hillside   \n",
       "108226   None  38.573703 -121.439113        \"C\" Street Air Shelter   \n",
       "49409    None  18.759182   99.017172               \"First's Place\"   \n",
       "...       ...        ...         ...                           ...   \n",
       "64085    None  36.785883  127.157040                     청룡동행정복지센터   \n",
       "64995    None  36.691324  126.585255                         한서대학교   \n",
       "64093    None  36.710720  126.548390                          해미읍성   \n",
       "29747    None  36.761236  127.395300                       화덕보건진료소   \n",
       "98309    None  36.718003  126.926841                      화천1리마을회관   \n",
       "\n",
       "       location_type  pm_2.5  temp_f     temp_c  humidity  pressure  ...  \\\n",
       "id                                                                   ...   \n",
       "14633        outside    0.81    65.0  18.333333      54.0   1008.57  ...   \n",
       "25999        outside   35.16    70.0  21.111111      70.0   1011.86  ...   \n",
       "14091        outside    1.00    63.0  17.222222      57.0   1003.26  ...   \n",
       "108226        inside    4.76    78.0  25.555556      45.0   1015.66  ...   \n",
       "49409        outside   40.83    87.0  30.555556      37.0    986.64  ...   \n",
       "...              ...     ...     ...        ...       ...       ...  ...   \n",
       "64085        outside   40.35    54.0  12.222222      46.0   1027.31  ...   \n",
       "64995        outside   40.64    63.0  17.222222      33.0   1017.02  ...   \n",
       "64093        outside   62.07    61.0  16.111111      44.0   1027.89  ...   \n",
       "29747        outside   34.77    62.0  16.666667      36.0   1018.16  ...   \n",
       "98309        outside   47.41    60.0  15.555556      41.0   1023.32  ...   \n",
       "\n",
       "       last_update_check created uptime is_owner 10min_avg 30min_avg  \\\n",
       "id                                                                     \n",
       "14633               None    None   None    False      0.88      4.10   \n",
       "25999               None    None   None    False     34.71     33.59   \n",
       "14091               None    None   None    False      2.28      2.72   \n",
       "108226              None    None   None    False      4.77      4.49   \n",
       "49409               None    None   None    False     45.70     49.98   \n",
       "...                  ...     ...    ...      ...       ...       ...   \n",
       "64085               None    None   None    False     37.24     38.78   \n",
       "64995               None    None   None    False     45.03     45.97   \n",
       "64093               None    None   None    False     57.93     56.06   \n",
       "29747               None    None   None    False     40.36     49.29   \n",
       "98309               None    None   None    False     46.77     48.10   \n",
       "\n",
       "       1hour_avg 6hour_avg 1day_avg 1week_avg  \n",
       "id                                             \n",
       "14633       8.26     17.72    21.80     15.42  \n",
       "25999      32.77     26.03    16.30     14.88  \n",
       "14091       3.16     16.25    25.80     22.91  \n",
       "108226      4.15      3.96     4.75      5.46  \n",
       "49409      50.08     50.61    46.32     32.53  \n",
       "...          ...       ...      ...       ...  \n",
       "64085      41.66     57.59    63.40     45.20  \n",
       "64995      43.96     39.68    37.22     28.38  \n",
       "64093      52.51     43.19    40.98     31.83  \n",
       "29747      52.26     49.02    46.31     38.67  \n",
       "98309      47.79     48.12    47.79     35.08  \n",
       "\n",
       "[22479 rows x 43 columns]"
      ]
     },
     "execution_count": 5,
     "metadata": {},
     "output_type": "execute_result"
    }
   ],
   "source": [
    "# Displaying dataframe with all the PurpleAir Sensor data\n",
    "df"
   ]
  },
  {
   "cell_type": "markdown",
   "metadata": {
    "deepnote_cell_type": "markdown",
    "tags": []
   },
   "source": [
    "Here is a breakdown of the dataframe above and what each column represents. \n",
    "\n",
    "\n",
    "|Column Name   | Description |\n",
    "|--------------|---------|\n",
    "|lat |The latitude coordinate of the location  |\n",
    "|lon | The longitude coordinate of the location |\n",
    "|name |  The name of the location|\n",
    "|location_type | The nature of the location (ie. inside or outside) |\n",
    "|pm_2.5 | The level of fine particulate matter in the air of that location |\n",
    "|temp_f | The temperature of the location in degrees Farenheit|\n",
    "|temp_c | The temperature of the location in degrees Celsius|\n",
    "|humidity | The humidity percentage of the location|\n",
    "|pressure | The pressure index of the location (in millibars)|\n",
    "|last_seen | The last seen date and timestamp in UTC |\n",
    "|model |  Model of the specific sensor |\n",
    "|flagged | Whether or not the channel was marked as flagged (usually based on a fault)|\n",
    "|age | Sensor data age (when data was last received) |\n",
    "|10min_avg | Average PM 2.5 AQI over the last 10 minutes |\n",
    "|30min_avg | Average PM 2.5 AQI over the last 30 minutes |\n",
    "|1hour_avg | Average PM 2.5 AQI over the last hour|\n",
    "|6hour_avg | Average PM 2.5 AQI over the last 6 hours|\n",
    "|1day_avg | Average PM 2.5 AQI over the last day |\n",
    "|1week_avg |  Average PM 2.5 AQI over the last week|\n"
   ]
  },
  {
   "cell_type": "markdown",
   "metadata": {
    "deepnote_cell_type": "markdown",
    "tags": []
   },
   "source": [
    "<br>\n",
    "\n",
    "### Airborne Particulate Matter (PM) 2.5 \n",
    "While many of the column names are relatively straightforward, such as the \"name\" column (which displays the set name of the particular sensor), the \"location_type\" column (which indicates whether it is an indoor or outdoor sensor), etc., we would like to draw your attention to the \"pm_2.5\" column. \n",
    "\n",
    ">The \"pm_2.5\" column represents the count of airborne pm that is larger than 2.5um/dl, in otherwords, airborne particles that have a diameter of 2.5 micrometers or less. In high levels, PM 2.5 particles can reduce visibility and cause the air to appear hazy. Tracking PM 2.5 is important because prolonged exposure to high levels of PM 2.5 particles can cause adverse US Environmental Protection Agency (EPA) use to calculate the local Air Quality Index (AQI)."
   ]
  },
  {
   "cell_type": "markdown",
   "metadata": {},
   "source": [
    "**QUESTION: Which item or object is closest to 1 micrometer?**\n",
    "\n",
    "a) The length of an ant\n",
    "\n",
    "b) The diameter of a spider web\n",
    "\n",
    "c) The length of a grain of rice"
   ]
  },
  {
   "cell_type": "markdown",
   "metadata": {},
   "source": [
    "**ANSWER**\n",
    "\n",
    "a) The length of an ant is typically 1 millimeter, which is 1,000 micrometers\n",
    "\n",
    "**b) The diameter of a spider web is typically between 8 to 10 micrometers**\n",
    "\n",
    "c) The length of a grain of rice is typically 6 millimeters which is 6,000 micrometers."
   ]
  },
  {
   "cell_type": "markdown",
   "metadata": {
    "deepnote_cell_type": "markdown",
    "tags": []
   },
   "source": [
    "If you go to the PurpleAir website [here](https://map.purpleair.com/1/mAQI/a10/p604800/cC0#14.52/30.28196/-97.73198), it should navigate you to a map of the surrounding University of Texas area. If you click on the sensor currently located in the DKR Texas Memorial Stadium, you'll find that the name of that particular sensor is \"PA_II_D8B6\". \n",
    "\n",
    "Let's take a closer look at the UT Stadium Sensor! In the dataframe below we filter the dataframe by the sensor name (\"PA_II_D8B6\") to pick out the row that corresponds to the specific sensor we are looking for. \n"
   ]
  },
  {
   "cell_type": "code",
   "execution_count": 6,
   "metadata": {
    "deepnote_cell_type": "code",
    "deepnote_to_be_reexecuted": false,
    "execution_millis": 200,
    "execution_start": 1633062989370,
    "source_hash": "18fdfec8",
    "tags": [
     "hide-input"
    ]
   },
   "outputs": [
    {
     "data": {
      "text/html": [
       "<div>\n",
       "<style scoped>\n",
       "    .dataframe tbody tr th:only-of-type {\n",
       "        vertical-align: middle;\n",
       "    }\n",
       "\n",
       "    .dataframe tbody tr th {\n",
       "        vertical-align: top;\n",
       "    }\n",
       "\n",
       "    .dataframe thead th {\n",
       "        text-align: right;\n",
       "    }\n",
       "</style>\n",
       "<table border=\"1\" class=\"dataframe\">\n",
       "  <thead>\n",
       "    <tr style=\"text-align: right;\">\n",
       "      <th></th>\n",
       "      <th>parent</th>\n",
       "      <th>lat</th>\n",
       "      <th>lon</th>\n",
       "      <th>name</th>\n",
       "      <th>location_type</th>\n",
       "      <th>pm_2.5</th>\n",
       "      <th>temp_f</th>\n",
       "      <th>temp_c</th>\n",
       "      <th>humidity</th>\n",
       "      <th>pressure</th>\n",
       "      <th>...</th>\n",
       "      <th>last_update_check</th>\n",
       "      <th>created</th>\n",
       "      <th>uptime</th>\n",
       "      <th>is_owner</th>\n",
       "      <th>10min_avg</th>\n",
       "      <th>30min_avg</th>\n",
       "      <th>1hour_avg</th>\n",
       "      <th>6hour_avg</th>\n",
       "      <th>1day_avg</th>\n",
       "      <th>1week_avg</th>\n",
       "    </tr>\n",
       "    <tr>\n",
       "      <th>id</th>\n",
       "      <th></th>\n",
       "      <th></th>\n",
       "      <th></th>\n",
       "      <th></th>\n",
       "      <th></th>\n",
       "      <th></th>\n",
       "      <th></th>\n",
       "      <th></th>\n",
       "      <th></th>\n",
       "      <th></th>\n",
       "      <th></th>\n",
       "      <th></th>\n",
       "      <th></th>\n",
       "      <th></th>\n",
       "      <th></th>\n",
       "      <th></th>\n",
       "      <th></th>\n",
       "      <th></th>\n",
       "      <th></th>\n",
       "      <th></th>\n",
       "      <th></th>\n",
       "    </tr>\n",
       "  </thead>\n",
       "  <tbody>\n",
       "    <tr>\n",
       "      <td>27395</td>\n",
       "      <td>None</td>\n",
       "      <td>30.285069</td>\n",
       "      <td>-97.732877</td>\n",
       "      <td>PA_II_D8B6</td>\n",
       "      <td>outside</td>\n",
       "      <td>14.81</td>\n",
       "      <td>71.0</td>\n",
       "      <td>21.666667</td>\n",
       "      <td>58.0</td>\n",
       "      <td>994.44</td>\n",
       "      <td>...</td>\n",
       "      <td>None</td>\n",
       "      <td>None</td>\n",
       "      <td>None</td>\n",
       "      <td>False</td>\n",
       "      <td>13.84</td>\n",
       "      <td>12.56</td>\n",
       "      <td>11.22</td>\n",
       "      <td>9.77</td>\n",
       "      <td>9.56</td>\n",
       "      <td>10.05</td>\n",
       "    </tr>\n",
       "  </tbody>\n",
       "</table>\n",
       "<p>1 rows × 43 columns</p>\n",
       "</div>"
      ],
      "text/plain": [
       "      parent        lat        lon        name location_type  pm_2.5  temp_f  \\\n",
       "id                                                                             \n",
       "27395   None  30.285069 -97.732877  PA_II_D8B6       outside   14.81    71.0   \n",
       "\n",
       "          temp_c  humidity  pressure  ... last_update_check created uptime  \\\n",
       "id                                    ...                                    \n",
       "27395  21.666667      58.0    994.44  ...              None    None   None   \n",
       "\n",
       "      is_owner 10min_avg 30min_avg 1hour_avg 6hour_avg 1day_avg 1week_avg  \n",
       "id                                                                         \n",
       "27395    False     13.84     12.56     11.22      9.77     9.56     10.05  \n",
       "\n",
       "[1 rows x 43 columns]"
      ]
     },
     "execution_count": 6,
     "metadata": {},
     "output_type": "execute_result"
    }
   ],
   "source": [
    "df[df['name'] == \"PA_II_D8B6\"]"
   ]
  },
  {
   "cell_type": "markdown",
   "metadata": {
    "deepnote_cell_type": "markdown",
    "tags": []
   },
   "source": [
    "<br>\n",
    "\n",
    "The row above gives us loads of information on the state of the AQI in the UT Stadium at the present moment, but it would be nice to see the AQI information over time. Below is a dataframe that contains information about the UT Stadium sensor roughly over the last 7 days. We can do this by filtering the times each entry was created at."
   ]
  },
  {
   "cell_type": "code",
   "execution_count": 7,
   "metadata": {
    "deepnote_cell_type": "code",
    "deepnote_to_be_reexecuted": false,
    "execution_millis": 2171,
    "execution_start": 1633062989568,
    "source_hash": "4537611e",
    "tags": [
     "hide-input"
    ]
   },
   "outputs": [
    {
     "data": {
      "text/html": [
       "<div>\n",
       "<style scoped>\n",
       "    .dataframe tbody tr th:only-of-type {\n",
       "        vertical-align: middle;\n",
       "    }\n",
       "\n",
       "    .dataframe tbody tr th {\n",
       "        vertical-align: top;\n",
       "    }\n",
       "\n",
       "    .dataframe thead th {\n",
       "        text-align: right;\n",
       "    }\n",
       "</style>\n",
       "<table border=\"1\" class=\"dataframe\">\n",
       "  <thead>\n",
       "    <tr style=\"text-align: right;\">\n",
       "      <th></th>\n",
       "      <th>created_at</th>\n",
       "      <th>0.3um/dl</th>\n",
       "      <th>0.5um/dl</th>\n",
       "      <th>1.0um/dl</th>\n",
       "      <th>2.5um/dl</th>\n",
       "      <th>5.0um/dl</th>\n",
       "      <th>10.0um/dl</th>\n",
       "      <th>PM1.0 (CF=ATM) ug/m3</th>\n",
       "      <th>PM10 (CF=ATM) ug/m3</th>\n",
       "      <th>Date</th>\n",
       "    </tr>\n",
       "    <tr>\n",
       "      <th>entry_id</th>\n",
       "      <th></th>\n",
       "      <th></th>\n",
       "      <th></th>\n",
       "      <th></th>\n",
       "      <th></th>\n",
       "      <th></th>\n",
       "      <th></th>\n",
       "      <th></th>\n",
       "      <th></th>\n",
       "      <th></th>\n",
       "    </tr>\n",
       "  </thead>\n",
       "  <tbody>\n",
       "    <tr>\n",
       "      <td>559444</td>\n",
       "      <td>2021-12-01 00:03:19+00:00</td>\n",
       "      <td>1284.65</td>\n",
       "      <td>355.69</td>\n",
       "      <td>41.38</td>\n",
       "      <td>3.35</td>\n",
       "      <td>1.49</td>\n",
       "      <td>0.33</td>\n",
       "      <td>7.18</td>\n",
       "      <td>10.55</td>\n",
       "      <td>01-Dec-2021</td>\n",
       "    </tr>\n",
       "    <tr>\n",
       "      <td>559445</td>\n",
       "      <td>2021-12-01 00:05:19+00:00</td>\n",
       "      <td>1218.36</td>\n",
       "      <td>349.66</td>\n",
       "      <td>48.27</td>\n",
       "      <td>4.75</td>\n",
       "      <td>1.19</td>\n",
       "      <td>0.00</td>\n",
       "      <td>6.80</td>\n",
       "      <td>11.08</td>\n",
       "      <td>01-Dec-2021</td>\n",
       "    </tr>\n",
       "    <tr>\n",
       "      <td>559446</td>\n",
       "      <td>2021-12-01 00:07:26+00:00</td>\n",
       "      <td>1231.47</td>\n",
       "      <td>343.08</td>\n",
       "      <td>54.03</td>\n",
       "      <td>5.32</td>\n",
       "      <td>0.58</td>\n",
       "      <td>0.41</td>\n",
       "      <td>6.53</td>\n",
       "      <td>11.10</td>\n",
       "      <td>01-Dec-2021</td>\n",
       "    </tr>\n",
       "    <tr>\n",
       "      <td>559447</td>\n",
       "      <td>2021-12-01 00:09:21+00:00</td>\n",
       "      <td>1326.47</td>\n",
       "      <td>368.33</td>\n",
       "      <td>55.59</td>\n",
       "      <td>2.90</td>\n",
       "      <td>0.69</td>\n",
       "      <td>0.00</td>\n",
       "      <td>7.31</td>\n",
       "      <td>10.84</td>\n",
       "      <td>01-Dec-2021</td>\n",
       "    </tr>\n",
       "    <tr>\n",
       "      <td>559448</td>\n",
       "      <td>2021-12-01 00:11:21+00:00</td>\n",
       "      <td>1322.51</td>\n",
       "      <td>375.49</td>\n",
       "      <td>47.02</td>\n",
       "      <td>5.49</td>\n",
       "      <td>0.47</td>\n",
       "      <td>0.47</td>\n",
       "      <td>7.27</td>\n",
       "      <td>11.27</td>\n",
       "      <td>01-Dec-2021</td>\n",
       "    </tr>\n",
       "    <tr>\n",
       "      <td>...</td>\n",
       "      <td>...</td>\n",
       "      <td>...</td>\n",
       "      <td>...</td>\n",
       "      <td>...</td>\n",
       "      <td>...</td>\n",
       "      <td>...</td>\n",
       "      <td>...</td>\n",
       "      <td>...</td>\n",
       "      <td>...</td>\n",
       "      <td>...</td>\n",
       "    </tr>\n",
       "    <tr>\n",
       "      <td>562859</td>\n",
       "      <td>2021-12-07 23:38:34+00:00</td>\n",
       "      <td>750.76</td>\n",
       "      <td>210.22</td>\n",
       "      <td>34.17</td>\n",
       "      <td>4.75</td>\n",
       "      <td>1.15</td>\n",
       "      <td>1.15</td>\n",
       "      <td>3.17</td>\n",
       "      <td>7.22</td>\n",
       "      <td>07-Dec-2021</td>\n",
       "    </tr>\n",
       "    <tr>\n",
       "      <td>562860</td>\n",
       "      <td>2021-12-07 23:44:32+00:00</td>\n",
       "      <td>795.74</td>\n",
       "      <td>221.93</td>\n",
       "      <td>38.74</td>\n",
       "      <td>5.02</td>\n",
       "      <td>1.47</td>\n",
       "      <td>0.49</td>\n",
       "      <td>3.21</td>\n",
       "      <td>7.89</td>\n",
       "      <td>07-Dec-2021</td>\n",
       "    </tr>\n",
       "    <tr>\n",
       "      <td>562861</td>\n",
       "      <td>2021-12-07 23:48:34+00:00</td>\n",
       "      <td>796.09</td>\n",
       "      <td>220.40</td>\n",
       "      <td>32.45</td>\n",
       "      <td>2.83</td>\n",
       "      <td>0.48</td>\n",
       "      <td>0.48</td>\n",
       "      <td>3.48</td>\n",
       "      <td>6.55</td>\n",
       "      <td>07-Dec-2021</td>\n",
       "    </tr>\n",
       "    <tr>\n",
       "      <td>562862</td>\n",
       "      <td>2021-12-07 23:52:37+00:00</td>\n",
       "      <td>770.47</td>\n",
       "      <td>216.21</td>\n",
       "      <td>42.07</td>\n",
       "      <td>5.44</td>\n",
       "      <td>1.65</td>\n",
       "      <td>0.42</td>\n",
       "      <td>3.14</td>\n",
       "      <td>8.05</td>\n",
       "      <td>07-Dec-2021</td>\n",
       "    </tr>\n",
       "    <tr>\n",
       "      <td>562863</td>\n",
       "      <td>2021-12-07 23:54:34+00:00</td>\n",
       "      <td>821.69</td>\n",
       "      <td>224.98</td>\n",
       "      <td>32.93</td>\n",
       "      <td>4.41</td>\n",
       "      <td>0.79</td>\n",
       "      <td>0.45</td>\n",
       "      <td>3.40</td>\n",
       "      <td>6.93</td>\n",
       "      <td>07-Dec-2021</td>\n",
       "    </tr>\n",
       "  </tbody>\n",
       "</table>\n",
       "<p>3420 rows × 10 columns</p>\n",
       "</div>"
      ],
      "text/plain": [
       "                        created_at  0.3um/dl  0.5um/dl  1.0um/dl  2.5um/dl  \\\n",
       "entry_id                                                                     \n",
       "559444   2021-12-01 00:03:19+00:00   1284.65    355.69     41.38      3.35   \n",
       "559445   2021-12-01 00:05:19+00:00   1218.36    349.66     48.27      4.75   \n",
       "559446   2021-12-01 00:07:26+00:00   1231.47    343.08     54.03      5.32   \n",
       "559447   2021-12-01 00:09:21+00:00   1326.47    368.33     55.59      2.90   \n",
       "559448   2021-12-01 00:11:21+00:00   1322.51    375.49     47.02      5.49   \n",
       "...                            ...       ...       ...       ...       ...   \n",
       "562859   2021-12-07 23:38:34+00:00    750.76    210.22     34.17      4.75   \n",
       "562860   2021-12-07 23:44:32+00:00    795.74    221.93     38.74      5.02   \n",
       "562861   2021-12-07 23:48:34+00:00    796.09    220.40     32.45      2.83   \n",
       "562862   2021-12-07 23:52:37+00:00    770.47    216.21     42.07      5.44   \n",
       "562863   2021-12-07 23:54:34+00:00    821.69    224.98     32.93      4.41   \n",
       "\n",
       "          5.0um/dl  10.0um/dl  PM1.0 (CF=ATM) ug/m3  PM10 (CF=ATM) ug/m3  \\\n",
       "entry_id                                                                   \n",
       "559444        1.49       0.33                  7.18                10.55   \n",
       "559445        1.19       0.00                  6.80                11.08   \n",
       "559446        0.58       0.41                  6.53                11.10   \n",
       "559447        0.69       0.00                  7.31                10.84   \n",
       "559448        0.47       0.47                  7.27                11.27   \n",
       "...            ...        ...                   ...                  ...   \n",
       "562859        1.15       1.15                  3.17                 7.22   \n",
       "562860        1.47       0.49                  3.21                 7.89   \n",
       "562861        0.48       0.48                  3.48                 6.55   \n",
       "562862        1.65       0.42                  3.14                 8.05   \n",
       "562863        0.79       0.45                  3.40                 6.93   \n",
       "\n",
       "                 Date  \n",
       "entry_id               \n",
       "559444    01-Dec-2021  \n",
       "559445    01-Dec-2021  \n",
       "559446    01-Dec-2021  \n",
       "559447    01-Dec-2021  \n",
       "559448    01-Dec-2021  \n",
       "...               ...  \n",
       "562859    07-Dec-2021  \n",
       "562860    07-Dec-2021  \n",
       "562861    07-Dec-2021  \n",
       "562862    07-Dec-2021  \n",
       "562863    07-Dec-2021  \n",
       "\n",
       "[3420 rows x 10 columns]"
      ]
     },
     "execution_count": 7,
     "metadata": {},
     "output_type": "execute_result"
    }
   ],
   "source": [
    "## data from PA_II_D8B6 (UT Stadium Sensor) sensor from the past week\n",
    "from purpleair.sensor import Sensor\n",
    "se = Sensor(27395)\n",
    "UT_stadium = se.parent.get_historical(weeks_to_get=1,thingspeak_field='secondary')\n",
    "UT_stadium['Date'] = [i.date().strftime(\"%d-%b-%Y\") for i in UT_stadium['created_at']]\n",
    "UT_stadium"
   ]
  },
  {
   "cell_type": "markdown",
   "metadata": {
    "deepnote_cell_type": "markdown",
    "tags": []
   },
   "source": [
    "As you can see from the \"created_at\" column, the AQI was taken every two minutes over the past 7 days. The data frame also contains information on PM paticules of different diameters such as 0.3, 0.5, 1.0, 2.5, 5.0 and 10.0.\n",
    "\n",
    "<br>\n",
    "\n",
    "While this dataframe is useful, there are too many rows of data (~4000) to look at! Below is a widget that plots a line graph of the PM 2.5 measure over a specific day. \n",
    "\n",
    "**The drop down bar allows you to pick which day you would like graphed, so go ahead and pick a day!**"
   ]
  },
  {
   "cell_type": "code",
   "execution_count": 8,
   "metadata": {
    "tags": [
     "hide-input"
    ]
   },
   "outputs": [
    {
     "data": {
      "application/vnd.jupyter.widget-view+json": {
       "model_id": "5243b561e52d462a8d835127c941637a",
       "version_major": 2,
       "version_minor": 0
      },
      "text/plain": [
       "interactive(children=(Dropdown(description='date', options=('01-Dec-2021', '02-Dec-2021', '03-Dec-2021', '04-D…"
      ]
     },
     "metadata": {},
     "output_type": "display_data"
    }
   ],
   "source": [
    "def f(date):\n",
    "    fig = plt.figure(figsize=(13,3))\n",
    "    plt.plot(UT_stadium['created_at'].loc[UT_stadium['Date'] == date], UT_stadium[\"2.5um/dl\"].loc[UT_stadium['Date'] == date])\n",
    "    plt.xlabel('Time')\n",
    "    plt.ylabel('PM 2.5 Particle Count')\n",
    "    plt.title('UT Stadium Sensor PM 2.5')\n",
    "    plt.rcParams[\"figure.figsize\"] = (20,3)\n",
    "    \n",
    "interact(f, date = list(UT_stadium['Date'].unique()));"
   ]
  },
  {
   "cell_type": "markdown",
   "metadata": {
    "deepnote_cell_type": "markdown",
    "tags": []
   },
   "source": [
    "The line plots above displays the date and hour along the x-axis and the PM 2.5 Particle count along the y-axis.\n",
    "\n",
    "<br>\n",
    "\n"
   ]
  },
  {
   "cell_type": "markdown",
   "metadata": {},
   "source": [
    "**QUESTION: What is the highest index reading on the first time series plot?**"
   ]
  },
  {
   "cell_type": "markdown",
   "metadata": {},
   "source": [
    "*Your answer here*"
   ]
  },
  {
   "cell_type": "markdown",
   "metadata": {},
   "source": [
    "<br>\n",
    "\n",
    "**QUESTION: What trends do you notice about the line plot?**"
   ]
  },
  {
   "cell_type": "markdown",
   "metadata": {
    "deepnote_cell_type": "markdown",
    "tags": []
   },
   "source": [
    "*Your answer here*"
   ]
  },
  {
   "cell_type": "markdown",
   "metadata": {},
   "source": [
    "<br>\n",
    "\n",
    "**QUESTION: Why do you think the index readings fluctuate from point to point?**"
   ]
  },
  {
   "cell_type": "markdown",
   "metadata": {},
   "source": [
    "*Your answer here*"
   ]
  },
  {
   "cell_type": "markdown",
   "metadata": {
    "deepnote_cell_type": "markdown",
    "tags": []
   },
   "source": [
    "<br>\n",
    "\n",
    "While the line plots do show us a trend in the PM2.5 count over time, we still have not clue how that translates to the API Index. The next section will discuss what AQI is and how it is calculated."
   ]
  },
  {
   "cell_type": "markdown",
   "metadata": {
    "deepnote_cell_type": "markdown",
    "tags": []
   },
   "source": [
    "### AQI Index\n",
    "The AQI Index contains 6 categories that air quality can fall into. Each category contains a range of index values from 0 - 500 that is calculated from the regions PM 2.5 measure. The chart below is provided by the US Environmental Protection Agency (EPA) and shows the official AQI Index (these breakpoints were revised in 2012). \n",
    "\n",
    "For more information on how AQI Index is calculated, take a look at the AQI Index Factsheet provided by the EPA [here](https://www.epa.gov/sites/default/files/2016-04/documents/2012_aqi_factsheet.pdf)!"
   ]
  },
  {
   "cell_type": "markdown",
   "metadata": {
    "deepnote_cell_type": "markdown",
    "tags": []
   },
   "source": [
    "<p align=\"center\">\n",
    "  <img src=\"images/AQI-category.png\" width=\"\" height=\"\" align=\"center\">\n",
    "</p>"
   ]
  },
  {
   "cell_type": "markdown",
   "metadata": {},
   "source": [
    "<br>\n",
    "\n",
    "**QUESTION: What is the difference between the original and revised breakpoints?**"
   ]
  },
  {
   "cell_type": "markdown",
   "metadata": {},
   "source": [
    "*Your answer here*"
   ]
  },
  {
   "cell_type": "markdown",
   "metadata": {},
   "source": [
    "<br>\n",
    "\n",
    "**QUESTION: At 3:00 on November 30th, 2021 the PM 2.5 reading is 12.5. What category does it fall into?**\n",
    "\n",
    "a) Good\n",
    "\n",
    "b) Moderate\n",
    "\n",
    "c) Unhealthy for Sensitive Groups"
   ]
  },
  {
   "cell_type": "markdown",
   "metadata": {},
   "source": [
    "**ANSWER: The category is Moderate because it falls into the 12.1 - 35.4 range.**"
   ]
  },
  {
   "cell_type": "markdown",
   "metadata": {
    "deepnote_cell_type": "markdown",
    "tags": []
   },
   "source": [
    "Now that we know how sesors work, what they measure and how AQI Indexes are calculated, let's see if we can create a visualization of AQI Indexes that are a little closer to home!\n",
    "\n",
    "First, let's find a group of sensors that are in Texas. We use a range of longitude and latitude coordinates to decide whether to include or exclude a sensor. Below is a dataframe of sensors in Texas.\n"
   ]
  },
  {
   "cell_type": "code",
   "execution_count": 9,
   "metadata": {
    "deepnote_cell_type": "code",
    "deepnote_to_be_reexecuted": false,
    "execution_millis": 122,
    "execution_start": 1633062992781,
    "source_hash": "bde860ae",
    "tags": [
     "hide-input"
    ]
   },
   "outputs": [
    {
     "data": {
      "text/html": [
       "<div>\n",
       "<style scoped>\n",
       "    .dataframe tbody tr th:only-of-type {\n",
       "        vertical-align: middle;\n",
       "    }\n",
       "\n",
       "    .dataframe tbody tr th {\n",
       "        vertical-align: top;\n",
       "    }\n",
       "\n",
       "    .dataframe thead th {\n",
       "        text-align: right;\n",
       "    }\n",
       "</style>\n",
       "<table border=\"1\" class=\"dataframe\">\n",
       "  <thead>\n",
       "    <tr style=\"text-align: right;\">\n",
       "      <th></th>\n",
       "      <th>lat</th>\n",
       "      <th>lon</th>\n",
       "      <th>name</th>\n",
       "      <th>location_type</th>\n",
       "      <th>pm_2.5</th>\n",
       "      <th>temp_f</th>\n",
       "      <th>humidity</th>\n",
       "      <th>pressure</th>\n",
       "    </tr>\n",
       "    <tr>\n",
       "      <th>id</th>\n",
       "      <th></th>\n",
       "      <th></th>\n",
       "      <th></th>\n",
       "      <th></th>\n",
       "      <th></th>\n",
       "      <th></th>\n",
       "      <th></th>\n",
       "      <th></th>\n",
       "    </tr>\n",
       "  </thead>\n",
       "  <tbody>\n",
       "    <tr>\n",
       "      <td>25999</td>\n",
       "      <td>30.053808</td>\n",
       "      <td>-95.494643</td>\n",
       "      <td>Villages of Bridgestone AQI</td>\n",
       "      <td>outside</td>\n",
       "      <td>35.16</td>\n",
       "      <td>70.0</td>\n",
       "      <td>70.0</td>\n",
       "      <td>1011.86</td>\n",
       "    </tr>\n",
       "    <tr>\n",
       "      <td>74265</td>\n",
       "      <td>29.939444</td>\n",
       "      <td>-95.671354</td>\n",
       "      <td>16815 Flower Mist Lane</td>\n",
       "      <td>inside</td>\n",
       "      <td>6.91</td>\n",
       "      <td>82.0</td>\n",
       "      <td>32.0</td>\n",
       "      <td>1012.15</td>\n",
       "    </tr>\n",
       "    <tr>\n",
       "      <td>30327</td>\n",
       "      <td>33.346098</td>\n",
       "      <td>-96.355190</td>\n",
       "      <td>236 County Road 5020, Blue Ridge, Texas 75424-...</td>\n",
       "      <td>outside</td>\n",
       "      <td>29.70</td>\n",
       "      <td>NaN</td>\n",
       "      <td>NaN</td>\n",
       "      <td>NaN</td>\n",
       "    </tr>\n",
       "    <tr>\n",
       "      <td>83065</td>\n",
       "      <td>30.246557</td>\n",
       "      <td>-98.065587</td>\n",
       "      <td>301 Barton Creek Dr</td>\n",
       "      <td>outside</td>\n",
       "      <td>10.02</td>\n",
       "      <td>70.0</td>\n",
       "      <td>44.0</td>\n",
       "      <td>975.90</td>\n",
       "    </tr>\n",
       "    <tr>\n",
       "      <td>98139</td>\n",
       "      <td>29.818880</td>\n",
       "      <td>-95.695667</td>\n",
       "      <td>3623 Shadow Trail, Houston, Texas 77084</td>\n",
       "      <td>outside</td>\n",
       "      <td>29.35</td>\n",
       "      <td>71.0</td>\n",
       "      <td>63.0</td>\n",
       "      <td>1012.30</td>\n",
       "    </tr>\n",
       "    <tr>\n",
       "      <td>125565</td>\n",
       "      <td>30.289010</td>\n",
       "      <td>-97.735737</td>\n",
       "      <td>4th Floor Conference</td>\n",
       "      <td>inside</td>\n",
       "      <td>7.65</td>\n",
       "      <td>81.0</td>\n",
       "      <td>33.0</td>\n",
       "      <td>992.66</td>\n",
       "    </tr>\n",
       "    <tr>\n",
       "      <td>73691</td>\n",
       "      <td>29.838071</td>\n",
       "      <td>-98.603131</td>\n",
       "      <td>60 Oakland Hls</td>\n",
       "      <td>outside</td>\n",
       "      <td>10.16</td>\n",
       "      <td>69.0</td>\n",
       "      <td>43.0</td>\n",
       "      <td>965.65</td>\n",
       "    </tr>\n",
       "    <tr>\n",
       "      <td>80533</td>\n",
       "      <td>32.907225</td>\n",
       "      <td>-96.801778</td>\n",
       "      <td>6057 preston haven drive, Dallas, TX 75230</td>\n",
       "      <td>outside</td>\n",
       "      <td>34.89</td>\n",
       "      <td>71.0</td>\n",
       "      <td>94.0</td>\n",
       "      <td>583.92</td>\n",
       "    </tr>\n",
       "    <tr>\n",
       "      <td>9546</td>\n",
       "      <td>29.816063</td>\n",
       "      <td>-98.621321</td>\n",
       "      <td>608 Hwy 46 E</td>\n",
       "      <td>outside</td>\n",
       "      <td>10.98</td>\n",
       "      <td>NaN</td>\n",
       "      <td>NaN</td>\n",
       "      <td>NaN</td>\n",
       "    </tr>\n",
       "    <tr>\n",
       "      <td>2667</td>\n",
       "      <td>32.921511</td>\n",
       "      <td>-97.230241</td>\n",
       "      <td>908 Bellstone Dr</td>\n",
       "      <td>outside</td>\n",
       "      <td>21.68</td>\n",
       "      <td>63.0</td>\n",
       "      <td>57.0</td>\n",
       "      <td>985.06</td>\n",
       "    </tr>\n",
       "  </tbody>\n",
       "</table>\n",
       "</div>"
      ],
      "text/plain": [
       "              lat        lon  \\\n",
       "id                             \n",
       "25999   30.053808 -95.494643   \n",
       "74265   29.939444 -95.671354   \n",
       "30327   33.346098 -96.355190   \n",
       "83065   30.246557 -98.065587   \n",
       "98139   29.818880 -95.695667   \n",
       "125565  30.289010 -97.735737   \n",
       "73691   29.838071 -98.603131   \n",
       "80533   32.907225 -96.801778   \n",
       "9546    29.816063 -98.621321   \n",
       "2667    32.921511 -97.230241   \n",
       "\n",
       "                                                     name location_type  \\\n",
       "id                                                                        \n",
       "25999                         Villages of Bridgestone AQI       outside   \n",
       "74265                              16815 Flower Mist Lane        inside   \n",
       "30327   236 County Road 5020, Blue Ridge, Texas 75424-...       outside   \n",
       "83065                                 301 Barton Creek Dr       outside   \n",
       "98139             3623 Shadow Trail, Houston, Texas 77084       outside   \n",
       "125565                               4th Floor Conference        inside   \n",
       "73691                                      60 Oakland Hls       outside   \n",
       "80533          6057 preston haven drive, Dallas, TX 75230       outside   \n",
       "9546                                         608 Hwy 46 E       outside   \n",
       "2667                                     908 Bellstone Dr       outside   \n",
       "\n",
       "        pm_2.5  temp_f  humidity  pressure  \n",
       "id                                          \n",
       "25999    35.16    70.0      70.0   1011.86  \n",
       "74265     6.91    82.0      32.0   1012.15  \n",
       "30327    29.70     NaN       NaN       NaN  \n",
       "83065    10.02    70.0      44.0    975.90  \n",
       "98139    29.35    71.0      63.0   1012.30  \n",
       "125565    7.65    81.0      33.0    992.66  \n",
       "73691    10.16    69.0      43.0    965.65  \n",
       "80533    34.89    71.0      94.0    583.92  \n",
       "9546     10.98     NaN       NaN       NaN  \n",
       "2667     21.68    63.0      57.0    985.06  "
      ]
     },
     "execution_count": 9,
     "metadata": {},
     "output_type": "execute_result"
    }
   ],
   "source": [
    "TX_data = df.loc[(df[\"lat\"] >= 25.9) & (df[\"lat\"] <= 34.1) & (df[\"lon\"] >= -104.9) & (df[\"lon\"] <= -93.1)]\n",
    "TX_data = TX_data[[\"lat\", \"lon\", \"name\", \"location_type\", \"pm_2.5\", \"temp_f\", \"humidity\", \"pressure\"]]\n",
    "TX_data[0:10]"
   ]
  },
  {
   "cell_type": "markdown",
   "metadata": {
    "deepnote_cell_type": "markdown",
    "tags": []
   },
   "source": [
    "<br>\n",
    "\n",
    "Now that we have a smaller subset of data to work with, the next step is to use the PM 2.5 measures to assign each sensor to an AQI Index Category and corresponding color. We can do this by making a list of color codes and assigning a column in our data frame to that list."
   ]
  },
  {
   "cell_type": "code",
   "execution_count": 10,
   "metadata": {
    "deepnote_cell_type": "code",
    "deepnote_to_be_reexecuted": false,
    "execution_millis": 102,
    "execution_start": 1633062992949,
    "scrolled": true,
    "source_hash": "a4f75cc5",
    "tags": [
     "hide-input"
    ]
   },
   "outputs": [],
   "source": [
    "#creating a column that indicates the AQI code name\n",
    "color_code = []\n",
    "for i in TX_data[\"pm_2.5\"].to_list():\n",
    "    if i <= 12.0:\n",
    "        color_code.append('green')\n",
    "    elif (i < 12) & (i <=35.4):\n",
    "        color_code.append('yellow')\n",
    "    elif (i < 35.5) & (i <=55.4):\n",
    "        color_code.append('orange')   \n",
    "    elif (i < 55.5) & (i <=150.4):\n",
    "        color_code.append('red')\n",
    "    elif (i < 150.5) & (i <=250.4):\n",
    "        color_code.append('purple')\n",
    "    else:\n",
    "        color_code.append('darkpurple')\n",
    "\n",
    "TX_data['code'] = color_code"
   ]
  },
  {
   "cell_type": "markdown",
   "metadata": {
    "deepnote_cell_type": "markdown",
    "tags": []
   },
   "source": [
    "<br>\n",
    "\n",
    "Our last step is to use the longitude and latitude coordinates to map the relative location of the sensor with is corresponding AQI Index color! The widget below contains two sliders. One represents the Latitude value and the other is the Longitude value. \n",
    "\n",
    "**Slide the sliders left and right to display a mapping of the sensors in that latitude and longitude region, or use your cursor to drag the mapping area.**\n",
    "\n",
    "**Hint: Houston, TX - Lat: 29.7604 / Lon: -95.3698** "
   ]
  },
  {
   "cell_type": "code",
   "execution_count": 11,
   "metadata": {
    "tags": [
     "hide-input"
    ]
   },
   "outputs": [
    {
     "data": {
      "application/vnd.jupyter.widget-view+json": {
       "model_id": "b902530159174f31b47251396054b6d0",
       "version_major": 2,
       "version_minor": 0
      },
      "text/plain": [
       "interactive(children=(FloatSlider(value=30.0, description='Latitude', max=34.0, min=26.0, step=0.001), FloatSl…"
      ]
     },
     "metadata": {},
     "output_type": "display_data"
    }
   ],
   "source": [
    "def map(Latitude ,Longitude):\n",
    "    m = folium.Map(width=500, height=400, location=[Latitude, Longitude])\n",
    "    \n",
    "    for i in np.arange(len(TX_data) - 1):\n",
    "        folium.Marker(\n",
    "            location=[TX_data.iloc[i]['lat'], TX_data.iloc[i]['lon']],\n",
    "            popup=TX_data.iloc[i]['name'],\n",
    "            icon=folium.Icon(color=TX_data.iloc[i]['code']),\n",
    "        ).add_to(m)\n",
    "    display(m)\n",
    "    \n",
    "interact(map, Latitude = (26, 34, 0.001) , Longitude = (-103, -93, 0.001));\n",
    "## Houston, TX - Lat: 29.7604 / Lon: -95.3698"
   ]
  },
  {
   "cell_type": "markdown",
   "metadata": {
    "deepnote_cell_type": "markdown",
    "tags": []
   },
   "source": [
    "Now that we have created a map we can easily see what the AQI index is across the city! "
   ]
  },
  {
   "cell_type": "markdown",
   "metadata": {
    "deepnote_cell_type": "markdown",
    "tags": []
   },
   "source": [
    "<br>\n",
    "\n",
    "**QUESTION: What do you notice about the map?**"
   ]
  },
  {
   "cell_type": "markdown",
   "metadata": {
    "deepnote_cell_type": "markdown",
    "tags": []
   },
   "source": [
    "*Your answer here*"
   ]
  },
  {
   "cell_type": "markdown",
   "metadata": {
    "deepnote_cell_type": "markdown",
    "tags": []
   },
   "source": [
    "<br>\n",
    "\n",
    "Developed By: Melisa Esqueda, Maham Bawaney & Karalyn Chong"
   ]
  }
 ],
 "metadata": {
  "deepnote": {
   "is_reactive": false
  },
  "deepnote_execution_queue": [],
  "deepnote_notebook_id": "253c2fb3-ad22-45a1-8e9a-1a7c1233100b",
  "kernelspec": {
   "display_name": "Python 3",
   "language": "python",
   "name": "python3"
  },
  "language_info": {
   "codemirror_mode": {
    "name": "ipython",
    "version": 3
   },
   "file_extension": ".py",
   "mimetype": "text/x-python",
   "name": "python",
   "nbconvert_exporter": "python",
   "pygments_lexer": "ipython3",
   "version": "3.8.8"
  }
 },
 "nbformat": 4,
 "nbformat_minor": 2
}

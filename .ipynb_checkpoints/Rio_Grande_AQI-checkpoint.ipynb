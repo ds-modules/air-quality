{
 "cells": [
  {
   "cell_type": "markdown",
   "metadata": {
    "deepnote_cell_type": "markdown",
    "tags": []
   },
   "source": [
    "\n",
    "# Rio Grande Valley, Texas Air Quality Notebook"
   ]
  },
  {
   "cell_type": "markdown",
   "metadata": {
    "deepnote_cell_type": "markdown",
    "tags": []
   },
   "source": [
    "**Welcome to our notebook on Rio Grande Air Quality!** \n",
    "\n",
    "In this notebook we will be looking at Air Quality Index (AQI) scores in the surrounding Rio Grande Valley, Texas area. With so many pollutants in the air, especially as we head into the annual fire season, AQI becomes something we check on the daily. For many of us, this AQI map is all too familiar. Throughout this module we will discuss how data can be used to visualize and uncover underlying trends in the world.\n",
    "\n",
    "**Let's get started!**"
   ]
  },
  {
   "cell_type": "markdown",
   "metadata": {
    "deepnote_cell_type": "markdown",
    "tags": []
   },
   "source": [
    "<p align=\"center\">\n",
    "  <img src=\"images/Texas_AQI.png\" width=\"600\" height=\"600\" align=\"center\">\n",
    "</p>"
   ]
  },
  {
   "cell_type": "markdown",
   "metadata": {
    "deepnote_cell_type": "markdown",
    "tags": []
   },
   "source": [
    "<br>\n",
    "\n",
    "## Introduction to Jupyter Notebook"
   ]
  },
  {
   "cell_type": "markdown",
   "metadata": {
    "deepnote_cell_type": "markdown",
    "tags": []
   },
   "source": [
    "Before we get started with the data, let's talk about what Jupyter Notebook is. This lab is set up in a Jupyter Notebook. Notebooks can contain anything from live code, to written text, equations or visualizations. The content of notebooks are written into rectangular sections called **cells**. "
   ]
  },
  {
   "cell_type": "markdown",
   "metadata": {
    "deepnote_cell_type": "markdown",
    "tags": []
   },
   "source": [
    "#### Types of Cells\n",
    "There are two types of cells in Jupyter, **code** cells and **markdown** cells. **Code cells**, as you can imagine, contain code in Python, the programming language that we will be using throughout this notebook.  **Markdown cells**, such as this one, contain written text. You can select any cell by clicking on it one. "
   ]
  },
  {
   "cell_type": "markdown",
   "metadata": {
    "deepnote_cell_type": "markdown",
    "tags": []
   },
   "source": [
    "#### Running Cells\n",
    "'Running' a cell is similar to pressing 'Enter' on a calculator once you've typed in an expression; it computes all of the expressions contained within the cell.\n",
    "\n",
    "To run a cell, you can do one of the following:\n",
    "\n",
    "- press **Shift + Enter**\n",
    "- click the **Run** button on the top tool bar\n",
    "\n",
    "Running a markdown cell will embed the text into the notebook and running a code cell will evaluate the code and display its output under the cell. \n",
    "\n",
    "Let's try it! **Run the code cell below.**"
   ]
  },
  {
   "cell_type": "code",
   "execution_count": 9,
   "metadata": {
    "deepnote_cell_type": "code",
    "deepnote_to_be_reexecuted": false,
    "execution_millis": 20,
    "execution_start": 1633062945031,
    "source_hash": "fc071345",
    "tags": []
   },
   "outputs": [
    {
     "name": "stdout",
     "output_type": "stream",
     "text": [
      "Hello World!\n"
     ]
    }
   ],
   "source": [
    "print(\"Hello World!\")"
   ]
  },
  {
   "cell_type": "markdown",
   "metadata": {
    "deepnote_cell_type": "markdown",
    "tags": []
   },
   "source": [
    "#### Editing and Saving\n",
    "\n",
    "- To **edit** a cell, simply double click on the desired cell and begin typing. The cell that you are currently working in will be highlighted by a green box.\n",
    "- To **save** the notebook, either click *Ctl + S* or navigate to the \"File\" dropdown and select \"Save and Checkpoint\""
   ]
  },
  {
   "cell_type": "markdown",
   "metadata": {
    "deepnote_cell_type": "markdown",
    "tags": []
   },
   "source": [
    "#### Adding Cells\n",
    "You can add a cell by clicking <b><code>Insert > Insert Cell Below</code></b> and choose the cell type in the drop down menu. Try adding a cell below to type in your name!\n"
   ]
  },
  {
   "cell_type": "markdown",
   "metadata": {
    "deepnote_cell_type": "markdown",
    "tags": []
   },
   "source": [
    "#### Deleting Cells \n",
    "To delete a cell, click on the <b><code>scissors</code></b> at the top or <b><code>Edit > Cut Cells</code></b>. Delete the cell below."
   ]
  },
  {
   "cell_type": "code",
   "execution_count": 10,
   "metadata": {
    "deepnote_cell_type": "code",
    "deepnote_to_be_reexecuted": false,
    "execution_millis": 15,
    "execution_start": 1633063139383,
    "source_hash": "53b00907",
    "tags": []
   },
   "outputs": [
    {
     "name": "stdout",
     "output_type": "stream",
     "text": [
      "Delete this!\n"
     ]
    }
   ],
   "source": [
    "print(\"Delete this!\")"
   ]
  },
  {
   "cell_type": "markdown",
   "metadata": {
    "deepnote_cell_type": "markdown",
    "tags": []
   },
   "source": [
    "**Important Tip**: Everytime you open a Jupyter notebook, it is extremely important to run all the cells from the beginning in order for the notebook to work. "
   ]
  },
  {
   "cell_type": "markdown",
   "metadata": {
    "deepnote_cell_type": "markdown",
    "tags": []
   },
   "source": [
    "Now that we have had a brief crash course on Jupyter Notebooks, let's dive into Texas AQI!"
   ]
  },
  {
   "cell_type": "markdown",
   "metadata": {
    "deepnote_cell_type": "markdown",
    "tags": []
   },
   "source": [
    "<br>\n",
    "\n",
    "## Introduction to the Data <a class=\"anchor\" id=\"2\"></a>"
   ]
  },
  {
   "cell_type": "markdown",
   "metadata": {
    "deepnote_cell_type": "markdown",
    "tags": []
   },
   "source": [
    "In this notebook we will look at data collected from PrupleAir, a company that manages a network of air quality sensors. The data from these sensors are then collected to create maps like the one displayed above that depicts an intuitive visualization of the air quality in a specific region. In the dataframe below, you will find several metrics that help us do this.\n",
    "\n",
    "**Before we begin:**\n",
    "\n",
    "- Click on <b><code>Cell</code></b> in the top toolbar  \n",
    "- Click on <b><code>Run All</code></b> in the drop down\n",
    "- Scroll back up to begin going through the notebook!"
   ]
  },
  {
   "cell_type": "code",
   "execution_count": 3,
   "metadata": {},
   "outputs": [
    {
     "data": {
      "text/html": [
       "<script>\n",
       "code_show=true; \n",
       "function code_toggle() {\n",
       "  if (code_show) {\n",
       "    $('div.input').each(function(id) {\n",
       "      el = $(this).find('.cm-variable:first');\n",
       "      if (id == 0 || el.text() == 'hide_me') {\n",
       "        $(this).hide();\n",
       "      }\n",
       "    });\n",
       "    $('div.output_prompt').css('opacity', 0);\n",
       "  } else {\n",
       "    $('div.input').each(function(id) {\n",
       "      $(this).show();\n",
       "    });\n",
       "    $('div.output_prompt').css('opacity', 1);\n",
       "  }\n",
       "  code_show = !code_show\n",
       "} \n",
       "$( document ).ready(code_toggle);\n",
       "</script>\n",
       "<form action=\"javascript:code_toggle()\"><input style=\"opacity:1\" type=\"submit\" value=\"Click here to reveal the raw code.\"></form>"
      ],
      "text/plain": [
       "<IPython.core.display.HTML object>"
      ]
     },
     "execution_count": 3,
     "metadata": {},
     "output_type": "execute_result"
    }
   ],
   "source": [
    "from IPython.display import HTML\n",
    "hide_me = ''\n",
    "HTML('''<script>\n",
    "code_show=true; \n",
    "function code_toggle() {\n",
    "  if (code_show) {\n",
    "    $('div.input').each(function(id) {\n",
    "      el = $(this).find('.cm-variable:first');\n",
    "      if (id == 0 || el.text() == 'hide_me') {\n",
    "        $(this).hide();\n",
    "      }\n",
    "    });\n",
    "    $('div.output_prompt').css('opacity', 0);\n",
    "  } else {\n",
    "    $('div.input').each(function(id) {\n",
    "      $(this).show();\n",
    "    });\n",
    "    $('div.output_prompt').css('opacity', 1);\n",
    "  }\n",
    "  code_show = !code_show\n",
    "} \n",
    "$( document ).ready(code_toggle);\n",
    "</script>\n",
    "<form action=\"javascript:code_toggle()\"><input style=\"opacity:1\" type=\"submit\" value=\"Click here to reveal the raw code.\"></form>''')"
   ]
  },
  {
   "cell_type": "code",
   "execution_count": 34,
   "metadata": {
    "deepnote_cell_type": "code",
    "deepnote_to_be_reexecuted": false,
    "execution_millis": 1803,
    "execution_start": 1633062971393,
    "source_hash": "990f3fb4",
    "tags": [
     "hide-input"
    ]
   },
   "outputs": [],
   "source": [
    "hide_me\n",
    "import matplotlib.pyplot as plt\n",
    "import numpy as np\n",
    "import purpleair\n",
    "import folium\n",
    "import ipywidgets as widgets\n",
    "from ipywidgets import interact, interactive, fixed, interact_manual\n",
    "from datetime import datetime\n",
    "from IPython.display import clear_output\n"
   ]
  },
  {
   "cell_type": "code",
   "execution_count": 11,
   "metadata": {},
   "outputs": [
    {
     "name": "stdout",
     "output_type": "stream",
     "text": [
      "Requirement already satisfied: purpleair in /Users/mahambawaney/opt/anaconda3/lib/python3.8/site-packages (1.2.5)\n",
      "Requirement already satisfied: thingspeak in /Users/mahambawaney/opt/anaconda3/lib/python3.8/site-packages (from purpleair) (1.0.0)\n",
      "Requirement already satisfied: requests in /Users/mahambawaney/opt/anaconda3/lib/python3.8/site-packages (from purpleair) (2.25.1)\n",
      "Requirement already satisfied: geopy in /Users/mahambawaney/opt/anaconda3/lib/python3.8/site-packages (from purpleair) (2.2.0)\n",
      "Requirement already satisfied: pandas in /Users/mahambawaney/opt/anaconda3/lib/python3.8/site-packages (from purpleair) (1.2.4)\n",
      "Requirement already satisfied: requests-cache in /Users/mahambawaney/opt/anaconda3/lib/python3.8/site-packages (from purpleair) (0.8.1)\n",
      "Requirement already satisfied: geographiclib<2,>=1.49 in /Users/mahambawaney/opt/anaconda3/lib/python3.8/site-packages (from geopy->purpleair) (1.52)\n",
      "Requirement already satisfied: python-dateutil>=2.7.3 in /Users/mahambawaney/opt/anaconda3/lib/python3.8/site-packages (from pandas->purpleair) (2.8.1)\n",
      "Requirement already satisfied: pytz>=2017.3 in /Users/mahambawaney/opt/anaconda3/lib/python3.8/site-packages (from pandas->purpleair) (2021.1)\n",
      "Requirement already satisfied: numpy>=1.16.5 in /Users/mahambawaney/opt/anaconda3/lib/python3.8/site-packages (from pandas->purpleair) (1.20.1)\n",
      "Requirement already satisfied: six>=1.5 in /Users/mahambawaney/opt/anaconda3/lib/python3.8/site-packages (from python-dateutil>=2.7.3->pandas->purpleair) (1.15.0)\n",
      "Requirement already satisfied: urllib3<1.27,>=1.21.1 in /Users/mahambawaney/opt/anaconda3/lib/python3.8/site-packages (from requests->purpleair) (1.26.4)\n",
      "Requirement already satisfied: idna<3,>=2.5 in /Users/mahambawaney/opt/anaconda3/lib/python3.8/site-packages (from requests->purpleair) (2.10)\n",
      "Requirement already satisfied: chardet<5,>=3.0.2 in /Users/mahambawaney/opt/anaconda3/lib/python3.8/site-packages (from requests->purpleair) (4.0.0)\n",
      "Requirement already satisfied: certifi>=2017.4.17 in /Users/mahambawaney/opt/anaconda3/lib/python3.8/site-packages (from requests->purpleair) (2020.12.5)\n",
      "Requirement already satisfied: url-normalize<2.0,>=1.4 in /Users/mahambawaney/opt/anaconda3/lib/python3.8/site-packages (from requests-cache->purpleair) (1.4.3)\n",
      "Requirement already satisfied: cattrs<2.0,>=1.8 in /Users/mahambawaney/opt/anaconda3/lib/python3.8/site-packages (from requests-cache->purpleair) (1.8.0)\n",
      "Requirement already satisfied: appdirs<2.0.0,>=1.4.4 in /Users/mahambawaney/opt/anaconda3/lib/python3.8/site-packages (from requests-cache->purpleair) (1.4.4)\n",
      "Requirement already satisfied: attrs<22.0,>=21.2 in /Users/mahambawaney/opt/anaconda3/lib/python3.8/site-packages (from requests-cache->purpleair) (21.2.0)\n",
      "Requirement already satisfied: docopt<0.7.0,>=0.6.2 in /Users/mahambawaney/opt/anaconda3/lib/python3.8/site-packages (from thingspeak->purpleair) (0.6.2)\n"
     ]
    }
   ],
   "source": [
    "! pip install purpleair"
   ]
  },
  {
   "cell_type": "markdown",
   "metadata": {
    "deepnote_cell_type": "markdown",
    "tags": []
   },
   "source": [
    "<br>\n",
    "\n",
    "# PurpleAir Data"
   ]
  },
  {
   "cell_type": "markdown",
   "metadata": {
    "deepnote_cell_type": "markdown",
    "tags": []
   },
   "source": [
    "Before we begin looking at data collected from PurpleAir sensors, lets first take a look at what a sensor is, and what it measures. \n",
    "\n",
    "\n",
    "> Below is a picture of a real PurpleAir Air Quality Sensor. These sensor can be mounted both indoors or outdoors, and it tracks airborne particulate matter(PM) in real time using PMSX003 laser counters. Particulate matter can include things like dust, smoke, dirt and any other organic or inorganic particles in the air. With multiple sensors mounted in a region, PurpleAir can create a relatively accurate measure of AQI throughout the day as the air quality changes. \n",
    "\n",
    "For more information on how sensors work, take a look at the official PurpleAir website [here](https://www2.purpleair.com/community/faq#hc-what-do-the-numbers-on-the-purpleair-map-mean-1)!"
   ]
  },
  {
   "cell_type": "markdown",
   "metadata": {
    "deepnote_cell_type": "markdown",
    "tags": []
   },
   "source": [
    "<p align=\"center\">\n",
    "  <img src=\"images/purpleair-sensor-pm2.5.webp\" width=\"\" height=\"\" align=\"center\">\n",
    "</p>"
   ]
  },
  {
   "cell_type": "markdown",
   "metadata": {},
   "source": [
    "### Indoor versus Outdoor Sensors\n",
    "Whether a sensor is located indoors or outdoors, it can make a huge difference. When it comes to outdoor sensors, it is much easier to regulate the air quality since the wind can alleviate the air quality and the factors that trigger an unhealthy air quality can be controlled. When it comes to indoor sensors, it is more difficult to control the air quality since buildings lack ventilation and the air quality inside can't be changed with a simple wind blow. In addition, there are more chemicals in the air to deal with indoors compared to outdoors. Examples of chemicals that can affect the air quality of a building indoors are cleaning products, dust, toxic gasses, smoke and more. "
   ]
  },
  {
   "cell_type": "markdown",
   "metadata": {
    "deepnote_cell_type": "markdown",
    "tags": []
   },
   "source": [
    "In order to work with the data, we need to pull it into our workspace. Fortunately, PurpleAir has created an API that allows users to pull in and work with their AQI data. In the code cell below we will import the prupleair API and use it to create a dataframe of data from all the PurpleAir sensors!"
   ]
  },
  {
   "cell_type": "code",
   "execution_count": 12,
   "metadata": {
    "deepnote_cell_type": "code",
    "deepnote_to_be_reexecuted": false,
    "execution_millis": 15854,
    "execution_start": 1633062973205,
    "source_hash": "5c996320",
    "tags": [
     "hide-input"
    ]
   },
   "outputs": [
    {
     "name": "stdout",
     "output_type": "stream",
     "text": [
      "Initialized 22,512 sensors!\n"
     ]
    }
   ],
   "source": [
    "hide_me\n",
    "\n",
    "from purpleair.network import SensorList\n",
    "p = SensorList()\n",
    "df = p.to_dataframe(sensor_filter='all',\n",
    "                    channel='parent')"
   ]
  },
  {
   "cell_type": "markdown",
   "metadata": {
    "deepnote_cell_type": "markdown",
    "tags": []
   },
   "source": [
    "The dataframe below contains all the sensor data as of the latest update. It contains data on everything from the geograohical latitude and longitude of the sensor to data on the last time that sensor measured airborne PM."
   ]
  },
  {
   "cell_type": "code",
   "execution_count": 13,
   "metadata": {
    "deepnote_cell_type": "code",
    "deepnote_to_be_reexecuted": false,
    "execution_millis": 294,
    "execution_start": 1633062989059,
    "source_hash": "f804c160",
    "tags": []
   },
   "outputs": [
    {
     "data": {
      "text/html": [
       "<div>\n",
       "<style scoped>\n",
       "    .dataframe tbody tr th:only-of-type {\n",
       "        vertical-align: middle;\n",
       "    }\n",
       "\n",
       "    .dataframe tbody tr th {\n",
       "        vertical-align: top;\n",
       "    }\n",
       "\n",
       "    .dataframe thead th {\n",
       "        text-align: right;\n",
       "    }\n",
       "</style>\n",
       "<table border=\"1\" class=\"dataframe\">\n",
       "  <thead>\n",
       "    <tr style=\"text-align: right;\">\n",
       "      <th></th>\n",
       "      <th>parent</th>\n",
       "      <th>lat</th>\n",
       "      <th>lon</th>\n",
       "      <th>name</th>\n",
       "      <th>location_type</th>\n",
       "      <th>pm_2.5</th>\n",
       "      <th>temp_f</th>\n",
       "      <th>temp_c</th>\n",
       "      <th>humidity</th>\n",
       "      <th>pressure</th>\n",
       "      <th>...</th>\n",
       "      <th>last_update_check</th>\n",
       "      <th>created</th>\n",
       "      <th>uptime</th>\n",
       "      <th>is_owner</th>\n",
       "      <th>10min_avg</th>\n",
       "      <th>30min_avg</th>\n",
       "      <th>1hour_avg</th>\n",
       "      <th>6hour_avg</th>\n",
       "      <th>1day_avg</th>\n",
       "      <th>1week_avg</th>\n",
       "    </tr>\n",
       "    <tr>\n",
       "      <th>id</th>\n",
       "      <th></th>\n",
       "      <th></th>\n",
       "      <th></th>\n",
       "      <th></th>\n",
       "      <th></th>\n",
       "      <th></th>\n",
       "      <th></th>\n",
       "      <th></th>\n",
       "      <th></th>\n",
       "      <th></th>\n",
       "      <th></th>\n",
       "      <th></th>\n",
       "      <th></th>\n",
       "      <th></th>\n",
       "      <th></th>\n",
       "      <th></th>\n",
       "      <th></th>\n",
       "      <th></th>\n",
       "      <th></th>\n",
       "      <th></th>\n",
       "      <th></th>\n",
       "    </tr>\n",
       "  </thead>\n",
       "  <tbody>\n",
       "    <tr>\n",
       "      <th>14633</th>\n",
       "      <td>None</td>\n",
       "      <td>37.275561</td>\n",
       "      <td>-121.964134</td>\n",
       "      <td>Hazelwood canary</td>\n",
       "      <td>outside</td>\n",
       "      <td>18.33</td>\n",
       "      <td>67.0</td>\n",
       "      <td>19.444444</td>\n",
       "      <td>54.0</td>\n",
       "      <td>1008.75</td>\n",
       "      <td>...</td>\n",
       "      <td>None</td>\n",
       "      <td>None</td>\n",
       "      <td>None</td>\n",
       "      <td>False</td>\n",
       "      <td>18.00</td>\n",
       "      <td>18.97</td>\n",
       "      <td>18.76</td>\n",
       "      <td>22.44</td>\n",
       "      <td>23.86</td>\n",
       "      <td>14.94</td>\n",
       "    </tr>\n",
       "    <tr>\n",
       "      <th>25999</th>\n",
       "      <td>None</td>\n",
       "      <td>30.053808</td>\n",
       "      <td>-95.494643</td>\n",
       "      <td>Villages of Bridgestone AQI</td>\n",
       "      <td>outside</td>\n",
       "      <td>12.16</td>\n",
       "      <td>71.0</td>\n",
       "      <td>21.666667</td>\n",
       "      <td>50.0</td>\n",
       "      <td>1011.79</td>\n",
       "      <td>...</td>\n",
       "      <td>None</td>\n",
       "      <td>None</td>\n",
       "      <td>None</td>\n",
       "      <td>False</td>\n",
       "      <td>11.81</td>\n",
       "      <td>11.30</td>\n",
       "      <td>10.51</td>\n",
       "      <td>7.83</td>\n",
       "      <td>9.04</td>\n",
       "      <td>14.07</td>\n",
       "    </tr>\n",
       "    <tr>\n",
       "      <th>14091</th>\n",
       "      <td>None</td>\n",
       "      <td>37.883620</td>\n",
       "      <td>-122.070087</td>\n",
       "      <td>WC Hillside</td>\n",
       "      <td>outside</td>\n",
       "      <td>22.04</td>\n",
       "      <td>61.0</td>\n",
       "      <td>16.111111</td>\n",
       "      <td>54.0</td>\n",
       "      <td>1004.13</td>\n",
       "      <td>...</td>\n",
       "      <td>None</td>\n",
       "      <td>None</td>\n",
       "      <td>None</td>\n",
       "      <td>False</td>\n",
       "      <td>20.07</td>\n",
       "      <td>21.23</td>\n",
       "      <td>24.99</td>\n",
       "      <td>35.81</td>\n",
       "      <td>33.92</td>\n",
       "      <td>23.45</td>\n",
       "    </tr>\n",
       "    <tr>\n",
       "      <th>108226</th>\n",
       "      <td>None</td>\n",
       "      <td>38.573703</td>\n",
       "      <td>-121.439113</td>\n",
       "      <td>\"C\" Street Air Shelter</td>\n",
       "      <td>inside</td>\n",
       "      <td>3.60</td>\n",
       "      <td>72.0</td>\n",
       "      <td>22.222222</td>\n",
       "      <td>46.0</td>\n",
       "      <td>1016.95</td>\n",
       "      <td>...</td>\n",
       "      <td>None</td>\n",
       "      <td>None</td>\n",
       "      <td>None</td>\n",
       "      <td>False</td>\n",
       "      <td>3.59</td>\n",
       "      <td>3.67</td>\n",
       "      <td>3.86</td>\n",
       "      <td>5.13</td>\n",
       "      <td>5.44</td>\n",
       "      <td>5.59</td>\n",
       "    </tr>\n",
       "    <tr>\n",
       "      <th>49409</th>\n",
       "      <td>None</td>\n",
       "      <td>18.759182</td>\n",
       "      <td>99.017172</td>\n",
       "      <td>\"First's Place\"</td>\n",
       "      <td>outside</td>\n",
       "      <td>50.74</td>\n",
       "      <td>74.0</td>\n",
       "      <td>23.333333</td>\n",
       "      <td>54.0</td>\n",
       "      <td>982.25</td>\n",
       "      <td>...</td>\n",
       "      <td>None</td>\n",
       "      <td>None</td>\n",
       "      <td>None</td>\n",
       "      <td>False</td>\n",
       "      <td>50.49</td>\n",
       "      <td>52.47</td>\n",
       "      <td>54.26</td>\n",
       "      <td>49.31</td>\n",
       "      <td>41.22</td>\n",
       "      <td>30.58</td>\n",
       "    </tr>\n",
       "    <tr>\n",
       "      <th>...</th>\n",
       "      <td>...</td>\n",
       "      <td>...</td>\n",
       "      <td>...</td>\n",
       "      <td>...</td>\n",
       "      <td>...</td>\n",
       "      <td>...</td>\n",
       "      <td>...</td>\n",
       "      <td>...</td>\n",
       "      <td>...</td>\n",
       "      <td>...</td>\n",
       "      <td>...</td>\n",
       "      <td>...</td>\n",
       "      <td>...</td>\n",
       "      <td>...</td>\n",
       "      <td>...</td>\n",
       "      <td>...</td>\n",
       "      <td>...</td>\n",
       "      <td>...</td>\n",
       "      <td>...</td>\n",
       "      <td>...</td>\n",
       "      <td>...</td>\n",
       "    </tr>\n",
       "    <tr>\n",
       "      <th>64085</th>\n",
       "      <td>None</td>\n",
       "      <td>36.785883</td>\n",
       "      <td>127.157040</td>\n",
       "      <td>청룡동행정복지센터</td>\n",
       "      <td>outside</td>\n",
       "      <td>109.28</td>\n",
       "      <td>42.0</td>\n",
       "      <td>5.555556</td>\n",
       "      <td>62.0</td>\n",
       "      <td>1027.68</td>\n",
       "      <td>...</td>\n",
       "      <td>None</td>\n",
       "      <td>None</td>\n",
       "      <td>None</td>\n",
       "      <td>False</td>\n",
       "      <td>111.56</td>\n",
       "      <td>113.34</td>\n",
       "      <td>114.58</td>\n",
       "      <td>99.29</td>\n",
       "      <td>66.50</td>\n",
       "      <td>43.52</td>\n",
       "    </tr>\n",
       "    <tr>\n",
       "      <th>64995</th>\n",
       "      <td>None</td>\n",
       "      <td>36.691324</td>\n",
       "      <td>126.585255</td>\n",
       "      <td>한서대학교</td>\n",
       "      <td>outside</td>\n",
       "      <td>28.77</td>\n",
       "      <td>48.0</td>\n",
       "      <td>8.888889</td>\n",
       "      <td>53.0</td>\n",
       "      <td>1017.90</td>\n",
       "      <td>...</td>\n",
       "      <td>None</td>\n",
       "      <td>None</td>\n",
       "      <td>None</td>\n",
       "      <td>False</td>\n",
       "      <td>29.08</td>\n",
       "      <td>30.25</td>\n",
       "      <td>34.41</td>\n",
       "      <td>49.16</td>\n",
       "      <td>37.99</td>\n",
       "      <td>27.68</td>\n",
       "    </tr>\n",
       "    <tr>\n",
       "      <th>64093</th>\n",
       "      <td>None</td>\n",
       "      <td>36.710720</td>\n",
       "      <td>126.548390</td>\n",
       "      <td>해미읍성</td>\n",
       "      <td>outside</td>\n",
       "      <td>23.72</td>\n",
       "      <td>44.0</td>\n",
       "      <td>6.666667</td>\n",
       "      <td>56.0</td>\n",
       "      <td>1028.71</td>\n",
       "      <td>...</td>\n",
       "      <td>None</td>\n",
       "      <td>None</td>\n",
       "      <td>None</td>\n",
       "      <td>False</td>\n",
       "      <td>24.30</td>\n",
       "      <td>29.34</td>\n",
       "      <td>35.18</td>\n",
       "      <td>50.33</td>\n",
       "      <td>41.37</td>\n",
       "      <td>31.02</td>\n",
       "    </tr>\n",
       "    <tr>\n",
       "      <th>29747</th>\n",
       "      <td>None</td>\n",
       "      <td>36.761236</td>\n",
       "      <td>127.395300</td>\n",
       "      <td>화덕보건진료소</td>\n",
       "      <td>outside</td>\n",
       "      <td>39.03</td>\n",
       "      <td>43.0</td>\n",
       "      <td>6.111111</td>\n",
       "      <td>52.0</td>\n",
       "      <td>1018.01</td>\n",
       "      <td>...</td>\n",
       "      <td>None</td>\n",
       "      <td>None</td>\n",
       "      <td>None</td>\n",
       "      <td>False</td>\n",
       "      <td>42.74</td>\n",
       "      <td>46.62</td>\n",
       "      <td>50.92</td>\n",
       "      <td>54.97</td>\n",
       "      <td>46.23</td>\n",
       "      <td>37.97</td>\n",
       "    </tr>\n",
       "    <tr>\n",
       "      <th>98309</th>\n",
       "      <td>None</td>\n",
       "      <td>36.718003</td>\n",
       "      <td>126.926841</td>\n",
       "      <td>화천1리마을회관</td>\n",
       "      <td>outside</td>\n",
       "      <td>42.29</td>\n",
       "      <td>45.0</td>\n",
       "      <td>7.222222</td>\n",
       "      <td>51.0</td>\n",
       "      <td>1023.94</td>\n",
       "      <td>...</td>\n",
       "      <td>None</td>\n",
       "      <td>None</td>\n",
       "      <td>None</td>\n",
       "      <td>False</td>\n",
       "      <td>45.71</td>\n",
       "      <td>51.03</td>\n",
       "      <td>55.01</td>\n",
       "      <td>60.58</td>\n",
       "      <td>48.04</td>\n",
       "      <td>33.82</td>\n",
       "    </tr>\n",
       "  </tbody>\n",
       "</table>\n",
       "<p>22512 rows × 43 columns</p>\n",
       "</div>"
      ],
      "text/plain": [
       "       parent        lat         lon                          name  \\\n",
       "id                                                                   \n",
       "14633    None  37.275561 -121.964134             Hazelwood canary    \n",
       "25999    None  30.053808  -95.494643   Villages of Bridgestone AQI   \n",
       "14091    None  37.883620 -122.070087                   WC Hillside   \n",
       "108226   None  38.573703 -121.439113        \"C\" Street Air Shelter   \n",
       "49409    None  18.759182   99.017172               \"First's Place\"   \n",
       "...       ...        ...         ...                           ...   \n",
       "64085    None  36.785883  127.157040                     청룡동행정복지센터   \n",
       "64995    None  36.691324  126.585255                         한서대학교   \n",
       "64093    None  36.710720  126.548390                          해미읍성   \n",
       "29747    None  36.761236  127.395300                       화덕보건진료소   \n",
       "98309    None  36.718003  126.926841                      화천1리마을회관   \n",
       "\n",
       "       location_type  pm_2.5  temp_f     temp_c  humidity  pressure  ...  \\\n",
       "id                                                                   ...   \n",
       "14633        outside   18.33    67.0  19.444444      54.0   1008.75  ...   \n",
       "25999        outside   12.16    71.0  21.666667      50.0   1011.79  ...   \n",
       "14091        outside   22.04    61.0  16.111111      54.0   1004.13  ...   \n",
       "108226        inside    3.60    72.0  22.222222      46.0   1016.95  ...   \n",
       "49409        outside   50.74    74.0  23.333333      54.0    982.25  ...   \n",
       "...              ...     ...     ...        ...       ...       ...  ...   \n",
       "64085        outside  109.28    42.0   5.555556      62.0   1027.68  ...   \n",
       "64995        outside   28.77    48.0   8.888889      53.0   1017.90  ...   \n",
       "64093        outside   23.72    44.0   6.666667      56.0   1028.71  ...   \n",
       "29747        outside   39.03    43.0   6.111111      52.0   1018.01  ...   \n",
       "98309        outside   42.29    45.0   7.222222      51.0   1023.94  ...   \n",
       "\n",
       "       last_update_check created uptime is_owner 10min_avg 30min_avg  \\\n",
       "id                                                                     \n",
       "14633               None    None   None    False     18.00     18.97   \n",
       "25999               None    None   None    False     11.81     11.30   \n",
       "14091               None    None   None    False     20.07     21.23   \n",
       "108226              None    None   None    False      3.59      3.67   \n",
       "49409               None    None   None    False     50.49     52.47   \n",
       "...                  ...     ...    ...      ...       ...       ...   \n",
       "64085               None    None   None    False    111.56    113.34   \n",
       "64995               None    None   None    False     29.08     30.25   \n",
       "64093               None    None   None    False     24.30     29.34   \n",
       "29747               None    None   None    False     42.74     46.62   \n",
       "98309               None    None   None    False     45.71     51.03   \n",
       "\n",
       "       1hour_avg 6hour_avg 1day_avg 1week_avg  \n",
       "id                                             \n",
       "14633      18.76     22.44    23.86     14.94  \n",
       "25999      10.51      7.83     9.04     14.07  \n",
       "14091      24.99     35.81    33.92     23.45  \n",
       "108226      3.86      5.13     5.44      5.59  \n",
       "49409      54.26     49.31    41.22     30.58  \n",
       "...          ...       ...      ...       ...  \n",
       "64085     114.58     99.29    66.50     43.52  \n",
       "64995      34.41     49.16    37.99     27.68  \n",
       "64093      35.18     50.33    41.37     31.02  \n",
       "29747      50.92     54.97    46.23     37.97  \n",
       "98309      55.01     60.58    48.04     33.82  \n",
       "\n",
       "[22512 rows x 43 columns]"
      ]
     },
     "execution_count": 13,
     "metadata": {},
     "output_type": "execute_result"
    }
   ],
   "source": [
    "hide_me\n",
    "\n",
    "df"
   ]
  },
  {
   "cell_type": "markdown",
   "metadata": {
    "deepnote_cell_type": "markdown",
    "tags": []
   },
   "source": [
    "Here is a breakdown of the dataframe above and what each column represents. \n",
    "\n",
    "`lat`: The latitude coordinate of the location\n",
    "\n",
    "`lon`: The longitude coordinate of the location\n",
    "\n",
    "`name`: The name of the location\n",
    "\n",
    "`location_type`: The nature of the location (ie. inside or outside)\n",
    "\n",
    "`pm_2.5`: The level of fine particulate matter in the air of that location\n",
    "\n",
    "`temp_f`: The temperature of the location in degrees Farenheit \n",
    "\n",
    "`temp_c`: The temperature of the location in degrees Celsius \n",
    "\n",
    "`humidity`: The humidity percentage of the location\n",
    "\n",
    "`pressure`: The pressure index of the location (in millibars)\n",
    "\n",
    "`last_seen`: The last seen date and timestamp in UTC\n",
    "\n",
    "`model`: Model of the specific sensor\n",
    "\n",
    "`flagged`: Whether or not the channel was marked as flagged (usually based on a fault)\n",
    "\n",
    "`age`: Sensor data age (when data was last received)\n",
    "\n",
    "`10min_avg`: Average PM 2.5 AQI over the last 10 minutes \n",
    "\n",
    "`30min_avg`: Average PM 2.5 AQI over the last 30 minutes\n",
    "\n",
    "`1hour_avg`: Average PM 2.5 AQI over the last hour\n",
    "\n",
    "`6hour_avg`: Average PM 2.5 AQI over the last 6 hours\n",
    "\n",
    "`1day_avg`: Average PM 2.5 AQI over the last day \n",
    "\n",
    "`1week_avg`: Average PM 2.5 AQI over the last week\n"
   ]
  },
  {
   "cell_type": "markdown",
   "metadata": {
    "deepnote_cell_type": "markdown",
    "tags": []
   },
   "source": [
    "<br>\n",
    "\n",
    "### Airborne Particulate Matter (PM) 2.5 \n",
    "While many of the column names are relatively straightforward, such as the \"name\" column (which displays the set name of the particular sensor), the \"location_type\" column (which indicates where it is an indoor or outdoor sensor), etc., we would like to draw your attention to the \"pm_2.5\" column. \n",
    "\n",
    ">The \"pm_2.5\" column represents the count of airborne pm that is larger than 2.5um/dl, in otherwords, airborne particles that have a diameter of 2.5 micrometers or less. In high levels, PM 2.5 particles can reduce visibility and cause the air to appear hazy. Tracking PM 2.5 is important because prolonged exposure to high levels of PM 2.5 particles can cause adverse US Environmental Protection Agency (EPA) use to calculate the local Air Quality Index (AQI)."
   ]
  },
  {
   "cell_type": "markdown",
   "metadata": {},
   "source": [
    "### El Gordo Sensor - Rio Grande Valley"
   ]
  },
  {
   "cell_type": "markdown",
   "metadata": {
    "deepnote_cell_type": "markdown",
    "tags": []
   },
   "source": [
    "If you go to the PurpleAir website [here](https://map.purpleair.com/1/mAQI/a10/p604800/cC0#13.53/26.40366/-98.99406), it should navigate you to a map of the surrounding Rio Grande Valley area in Texas. If you click on the sensors, you'll find that the name of that particular sensor is \"Carnes Asadas El Gordo #1\". \n",
    "\n",
    "Let's take a closer look at a particular sensor in Rio Grande Valley! If we look at the PurpleAir map, it shows that a sensor named \"Carnes Asadas El Gordo #1\" has a significantly higher AQI compared to its surrounding sensor readings. Let's see if we can figure out why. In the dataframe below we filter the dataframe by the sensor name (\"Carnes Asadas El Gordo #1\") to pick out the row that corresponds to the specific sensor we are looking for. \n"
   ]
  },
  {
   "cell_type": "code",
   "execution_count": 14,
   "metadata": {
    "deepnote_cell_type": "code",
    "deepnote_to_be_reexecuted": false,
    "execution_millis": 200,
    "execution_start": 1633062989370,
    "source_hash": "18fdfec8",
    "tags": [
     "hide-input"
    ]
   },
   "outputs": [
    {
     "data": {
      "text/html": [
       "<div>\n",
       "<style scoped>\n",
       "    .dataframe tbody tr th:only-of-type {\n",
       "        vertical-align: middle;\n",
       "    }\n",
       "\n",
       "    .dataframe tbody tr th {\n",
       "        vertical-align: top;\n",
       "    }\n",
       "\n",
       "    .dataframe thead th {\n",
       "        text-align: right;\n",
       "    }\n",
       "</style>\n",
       "<table border=\"1\" class=\"dataframe\">\n",
       "  <thead>\n",
       "    <tr style=\"text-align: right;\">\n",
       "      <th></th>\n",
       "      <th>parent</th>\n",
       "      <th>lat</th>\n",
       "      <th>lon</th>\n",
       "      <th>name</th>\n",
       "      <th>location_type</th>\n",
       "      <th>pm_2.5</th>\n",
       "      <th>temp_f</th>\n",
       "      <th>temp_c</th>\n",
       "      <th>humidity</th>\n",
       "      <th>pressure</th>\n",
       "      <th>...</th>\n",
       "      <th>last_update_check</th>\n",
       "      <th>created</th>\n",
       "      <th>uptime</th>\n",
       "      <th>is_owner</th>\n",
       "      <th>10min_avg</th>\n",
       "      <th>30min_avg</th>\n",
       "      <th>1hour_avg</th>\n",
       "      <th>6hour_avg</th>\n",
       "      <th>1day_avg</th>\n",
       "      <th>1week_avg</th>\n",
       "    </tr>\n",
       "    <tr>\n",
       "      <th>id</th>\n",
       "      <th></th>\n",
       "      <th></th>\n",
       "      <th></th>\n",
       "      <th></th>\n",
       "      <th></th>\n",
       "      <th></th>\n",
       "      <th></th>\n",
       "      <th></th>\n",
       "      <th></th>\n",
       "      <th></th>\n",
       "      <th></th>\n",
       "      <th></th>\n",
       "      <th></th>\n",
       "      <th></th>\n",
       "      <th></th>\n",
       "      <th></th>\n",
       "      <th></th>\n",
       "      <th></th>\n",
       "      <th></th>\n",
       "      <th></th>\n",
       "      <th></th>\n",
       "    </tr>\n",
       "  </thead>\n",
       "  <tbody>\n",
       "    <tr>\n",
       "      <th>89699</th>\n",
       "      <td>None</td>\n",
       "      <td>26.402427</td>\n",
       "      <td>-98.996234</td>\n",
       "      <td>Carnes Asadas El Gordo #1</td>\n",
       "      <td>inside</td>\n",
       "      <td>22.06</td>\n",
       "      <td>81.0</td>\n",
       "      <td>27.222222</td>\n",
       "      <td>22.0</td>\n",
       "      <td>1009.64</td>\n",
       "      <td>...</td>\n",
       "      <td>None</td>\n",
       "      <td>None</td>\n",
       "      <td>None</td>\n",
       "      <td>False</td>\n",
       "      <td>21.63</td>\n",
       "      <td>20.89</td>\n",
       "      <td>18.47</td>\n",
       "      <td>13.86</td>\n",
       "      <td>25.33</td>\n",
       "      <td>30.34</td>\n",
       "    </tr>\n",
       "  </tbody>\n",
       "</table>\n",
       "<p>1 rows × 43 columns</p>\n",
       "</div>"
      ],
      "text/plain": [
       "      parent        lat        lon                       name location_type  \\\n",
       "id                                                                            \n",
       "89699   None  26.402427 -98.996234  Carnes Asadas El Gordo #1        inside   \n",
       "\n",
       "       pm_2.5  temp_f     temp_c  humidity  pressure  ... last_update_check  \\\n",
       "id                                                    ...                     \n",
       "89699   22.06    81.0  27.222222      22.0   1009.64  ...              None   \n",
       "\n",
       "      created uptime is_owner 10min_avg 30min_avg 1hour_avg 6hour_avg  \\\n",
       "id                                                                      \n",
       "89699    None   None    False     21.63     20.89     18.47     13.86   \n",
       "\n",
       "      1day_avg 1week_avg  \n",
       "id                        \n",
       "89699    25.33     30.34  \n",
       "\n",
       "[1 rows x 43 columns]"
      ]
     },
     "execution_count": 14,
     "metadata": {},
     "output_type": "execute_result"
    }
   ],
   "source": [
    "hide_me\n",
    "df[df['name'] == \"Carnes Asadas El Gordo #1\"]"
   ]
  },
  {
   "cell_type": "markdown",
   "metadata": {
    "deepnote_cell_type": "markdown",
    "tags": []
   },
   "source": [
    "<br>\n",
    "\n",
    "The row above gives us loads of information on the state of the AQI at the Carnes Asadas El Gordo #1 sensor at the present moment, but it would be nice to see the AQI information over time. Below is a dataframe that contains information about the UT Stadium sensor roughly over the last 7 days. "
   ]
  },
  {
   "cell_type": "code",
   "execution_count": 15,
   "metadata": {
    "deepnote_cell_type": "code",
    "deepnote_to_be_reexecuted": false,
    "execution_millis": 2171,
    "execution_start": 1633062989568,
    "source_hash": "4537611e",
    "tags": [
     "hide-input"
    ]
   },
   "outputs": [
    {
     "data": {
      "text/html": [
       "<div>\n",
       "<style scoped>\n",
       "    .dataframe tbody tr th:only-of-type {\n",
       "        vertical-align: middle;\n",
       "    }\n",
       "\n",
       "    .dataframe tbody tr th {\n",
       "        vertical-align: top;\n",
       "    }\n",
       "\n",
       "    .dataframe thead th {\n",
       "        text-align: right;\n",
       "    }\n",
       "</style>\n",
       "<table border=\"1\" class=\"dataframe\">\n",
       "  <thead>\n",
       "    <tr style=\"text-align: right;\">\n",
       "      <th></th>\n",
       "      <th>created_at</th>\n",
       "      <th>0.3um/dl</th>\n",
       "      <th>0.5um/dl</th>\n",
       "      <th>1.0um/dl</th>\n",
       "      <th>2.5um/dl</th>\n",
       "      <th>5.0um/dl</th>\n",
       "      <th>10.0um/dl</th>\n",
       "      <th>PM1.0 (CF=ATM) ug/m3</th>\n",
       "      <th>PM10 (CF=ATM) ug/m3</th>\n",
       "      <th>Date</th>\n",
       "    </tr>\n",
       "    <tr>\n",
       "      <th>entry_id</th>\n",
       "      <th></th>\n",
       "      <th></th>\n",
       "      <th></th>\n",
       "      <th></th>\n",
       "      <th></th>\n",
       "      <th></th>\n",
       "      <th></th>\n",
       "      <th></th>\n",
       "      <th></th>\n",
       "      <th></th>\n",
       "    </tr>\n",
       "  </thead>\n",
       "  <tbody>\n",
       "    <tr>\n",
       "      <th>244039</th>\n",
       "      <td>2021-11-30 00:01:48+00:00</td>\n",
       "      <td>2074.64</td>\n",
       "      <td>584.55</td>\n",
       "      <td>224.81</td>\n",
       "      <td>83.81</td>\n",
       "      <td>25.21</td>\n",
       "      <td>15.39</td>\n",
       "      <td>8.48</td>\n",
       "      <td>47.80</td>\n",
       "      <td>30-Nov-2021</td>\n",
       "    </tr>\n",
       "    <tr>\n",
       "      <th>244040</th>\n",
       "      <td>2021-11-30 00:03:48+00:00</td>\n",
       "      <td>1989.90</td>\n",
       "      <td>559.26</td>\n",
       "      <td>212.19</td>\n",
       "      <td>69.85</td>\n",
       "      <td>27.12</td>\n",
       "      <td>17.06</td>\n",
       "      <td>8.82</td>\n",
       "      <td>45.23</td>\n",
       "      <td>30-Nov-2021</td>\n",
       "    </tr>\n",
       "    <tr>\n",
       "      <th>244041</th>\n",
       "      <td>2021-11-30 00:05:48+00:00</td>\n",
       "      <td>1864.23</td>\n",
       "      <td>537.39</td>\n",
       "      <td>183.07</td>\n",
       "      <td>62.51</td>\n",
       "      <td>20.30</td>\n",
       "      <td>11.86</td>\n",
       "      <td>8.05</td>\n",
       "      <td>40.12</td>\n",
       "      <td>30-Nov-2021</td>\n",
       "    </tr>\n",
       "    <tr>\n",
       "      <th>244042</th>\n",
       "      <td>2021-11-30 00:07:48+00:00</td>\n",
       "      <td>1748.87</td>\n",
       "      <td>492.68</td>\n",
       "      <td>174.20</td>\n",
       "      <td>54.40</td>\n",
       "      <td>15.24</td>\n",
       "      <td>10.73</td>\n",
       "      <td>7.27</td>\n",
       "      <td>35.35</td>\n",
       "      <td>30-Nov-2021</td>\n",
       "    </tr>\n",
       "    <tr>\n",
       "      <th>244043</th>\n",
       "      <td>2021-11-30 00:09:48+00:00</td>\n",
       "      <td>1757.08</td>\n",
       "      <td>497.96</td>\n",
       "      <td>180.88</td>\n",
       "      <td>70.30</td>\n",
       "      <td>22.09</td>\n",
       "      <td>14.23</td>\n",
       "      <td>7.04</td>\n",
       "      <td>41.61</td>\n",
       "      <td>30-Nov-2021</td>\n",
       "    </tr>\n",
       "    <tr>\n",
       "      <th>...</th>\n",
       "      <td>...</td>\n",
       "      <td>...</td>\n",
       "      <td>...</td>\n",
       "      <td>...</td>\n",
       "      <td>...</td>\n",
       "      <td>...</td>\n",
       "      <td>...</td>\n",
       "      <td>...</td>\n",
       "      <td>...</td>\n",
       "      <td>...</td>\n",
       "    </tr>\n",
       "    <tr>\n",
       "      <th>248689</th>\n",
       "      <td>2021-12-06 23:51:33+00:00</td>\n",
       "      <td>1794.00</td>\n",
       "      <td>489.96</td>\n",
       "      <td>102.83</td>\n",
       "      <td>7.81</td>\n",
       "      <td>4.33</td>\n",
       "      <td>2.43</td>\n",
       "      <td>8.96</td>\n",
       "      <td>16.83</td>\n",
       "      <td>06-Dec-2021</td>\n",
       "    </tr>\n",
       "    <tr>\n",
       "      <th>248690</th>\n",
       "      <td>2021-12-06 23:53:33+00:00</td>\n",
       "      <td>1775.07</td>\n",
       "      <td>484.73</td>\n",
       "      <td>98.53</td>\n",
       "      <td>5.91</td>\n",
       "      <td>1.97</td>\n",
       "      <td>1.08</td>\n",
       "      <td>8.73</td>\n",
       "      <td>15.06</td>\n",
       "      <td>06-Dec-2021</td>\n",
       "    </tr>\n",
       "    <tr>\n",
       "      <th>248691</th>\n",
       "      <td>2021-12-06 23:55:33+00:00</td>\n",
       "      <td>1730.89</td>\n",
       "      <td>464.20</td>\n",
       "      <td>117.61</td>\n",
       "      <td>9.16</td>\n",
       "      <td>1.72</td>\n",
       "      <td>1.07</td>\n",
       "      <td>8.64</td>\n",
       "      <td>16.13</td>\n",
       "      <td>06-Dec-2021</td>\n",
       "    </tr>\n",
       "    <tr>\n",
       "      <th>248692</th>\n",
       "      <td>2021-12-06 23:57:34+00:00</td>\n",
       "      <td>1712.23</td>\n",
       "      <td>454.76</td>\n",
       "      <td>97.17</td>\n",
       "      <td>6.72</td>\n",
       "      <td>1.66</td>\n",
       "      <td>0.60</td>\n",
       "      <td>8.33</td>\n",
       "      <td>14.87</td>\n",
       "      <td>06-Dec-2021</td>\n",
       "    </tr>\n",
       "    <tr>\n",
       "      <th>248693</th>\n",
       "      <td>2021-12-06 23:59:34+00:00</td>\n",
       "      <td>1817.76</td>\n",
       "      <td>491.81</td>\n",
       "      <td>108.58</td>\n",
       "      <td>10.89</td>\n",
       "      <td>1.88</td>\n",
       "      <td>0.75</td>\n",
       "      <td>8.50</td>\n",
       "      <td>16.86</td>\n",
       "      <td>06-Dec-2021</td>\n",
       "    </tr>\n",
       "  </tbody>\n",
       "</table>\n",
       "<p>4655 rows × 10 columns</p>\n",
       "</div>"
      ],
      "text/plain": [
       "                        created_at  0.3um/dl  0.5um/dl  1.0um/dl  2.5um/dl  \\\n",
       "entry_id                                                                     \n",
       "244039   2021-11-30 00:01:48+00:00   2074.64    584.55    224.81     83.81   \n",
       "244040   2021-11-30 00:03:48+00:00   1989.90    559.26    212.19     69.85   \n",
       "244041   2021-11-30 00:05:48+00:00   1864.23    537.39    183.07     62.51   \n",
       "244042   2021-11-30 00:07:48+00:00   1748.87    492.68    174.20     54.40   \n",
       "244043   2021-11-30 00:09:48+00:00   1757.08    497.96    180.88     70.30   \n",
       "...                            ...       ...       ...       ...       ...   \n",
       "248689   2021-12-06 23:51:33+00:00   1794.00    489.96    102.83      7.81   \n",
       "248690   2021-12-06 23:53:33+00:00   1775.07    484.73     98.53      5.91   \n",
       "248691   2021-12-06 23:55:33+00:00   1730.89    464.20    117.61      9.16   \n",
       "248692   2021-12-06 23:57:34+00:00   1712.23    454.76     97.17      6.72   \n",
       "248693   2021-12-06 23:59:34+00:00   1817.76    491.81    108.58     10.89   \n",
       "\n",
       "          5.0um/dl  10.0um/dl  PM1.0 (CF=ATM) ug/m3  PM10 (CF=ATM) ug/m3  \\\n",
       "entry_id                                                                   \n",
       "244039       25.21      15.39                  8.48                47.80   \n",
       "244040       27.12      17.06                  8.82                45.23   \n",
       "244041       20.30      11.86                  8.05                40.12   \n",
       "244042       15.24      10.73                  7.27                35.35   \n",
       "244043       22.09      14.23                  7.04                41.61   \n",
       "...            ...        ...                   ...                  ...   \n",
       "248689        4.33       2.43                  8.96                16.83   \n",
       "248690        1.97       1.08                  8.73                15.06   \n",
       "248691        1.72       1.07                  8.64                16.13   \n",
       "248692        1.66       0.60                  8.33                14.87   \n",
       "248693        1.88       0.75                  8.50                16.86   \n",
       "\n",
       "                 Date  \n",
       "entry_id               \n",
       "244039    30-Nov-2021  \n",
       "244040    30-Nov-2021  \n",
       "244041    30-Nov-2021  \n",
       "244042    30-Nov-2021  \n",
       "244043    30-Nov-2021  \n",
       "...               ...  \n",
       "248689    06-Dec-2021  \n",
       "248690    06-Dec-2021  \n",
       "248691    06-Dec-2021  \n",
       "248692    06-Dec-2021  \n",
       "248693    06-Dec-2021  \n",
       "\n",
       "[4655 rows x 10 columns]"
      ]
     },
     "execution_count": 15,
     "metadata": {},
     "output_type": "execute_result"
    }
   ],
   "source": [
    "hide_me\n",
    "\n",
    "## data from Carnes Asadas El Gordo #1 sensor from the past week\n",
    "from purpleair.sensor import Sensor\n",
    "se = Sensor(89699)\n",
    "El_gordo = se.parent.get_historical(weeks_to_get=1,thingspeak_field='secondary')\n",
    "El_gordo['Date'] = [i.date().strftime(\"%d-%b-%Y\") for i in El_gordo['created_at']]\n",
    "El_gordo"
   ]
  },
  {
   "cell_type": "markdown",
   "metadata": {
    "deepnote_cell_type": "markdown",
    "tags": []
   },
   "source": [
    "As you can see from the \"created_at\" column, the AQI was taken every two minutes over the past 7 days. The data frame also contains information on PM paticules of different diameters such as 0.3, 0.5, 1.0, 2.5, 5.0 and 10.0.\n",
    "\n",
    "<br>\n",
    "\n",
    "While this dataframe is useful, there are too many rows of data (~4000) to look at! Below is a widget that plots a line graph of the PM 2.5 measure over a specific day. \n",
    "\n",
    "**The drop down bar allows you to pick which day you would like graphed, so go ahead and pick a day!**"
   ]
  },
  {
   "cell_type": "code",
   "execution_count": 17,
   "metadata": {},
   "outputs": [
    {
     "ename": "NameError",
     "evalue": "name 'interact' is not defined",
     "output_type": "error",
     "traceback": [
      "\u001b[0;31m---------------------------------------------------------------------------\u001b[0m",
      "\u001b[0;31mNameError\u001b[0m                                 Traceback (most recent call last)",
      "\u001b[0;32m<ipython-input-17-e56d39e232f8>\u001b[0m in \u001b[0;36m<module>\u001b[0;34m\u001b[0m\n\u001b[1;32m      9\u001b[0m     \u001b[0mplt\u001b[0m\u001b[0;34m.\u001b[0m\u001b[0mrcParams\u001b[0m\u001b[0;34m[\u001b[0m\u001b[0;34m\"figure.figsize\"\u001b[0m\u001b[0;34m]\u001b[0m \u001b[0;34m=\u001b[0m \u001b[0;34m(\u001b[0m\u001b[0;36m20\u001b[0m\u001b[0;34m,\u001b[0m\u001b[0;36m3\u001b[0m\u001b[0;34m)\u001b[0m\u001b[0;34m\u001b[0m\u001b[0;34m\u001b[0m\u001b[0m\n\u001b[1;32m     10\u001b[0m \u001b[0;34m\u001b[0m\u001b[0m\n\u001b[0;32m---> 11\u001b[0;31m \u001b[0minteract\u001b[0m\u001b[0;34m(\u001b[0m\u001b[0mf\u001b[0m\u001b[0;34m,\u001b[0m \u001b[0mdate\u001b[0m \u001b[0;34m=\u001b[0m \u001b[0mlist\u001b[0m\u001b[0;34m(\u001b[0m\u001b[0mEl_gordo\u001b[0m\u001b[0;34m[\u001b[0m\u001b[0;34m'Date'\u001b[0m\u001b[0;34m]\u001b[0m\u001b[0;34m.\u001b[0m\u001b[0munique\u001b[0m\u001b[0;34m(\u001b[0m\u001b[0;34m)\u001b[0m\u001b[0;34m)\u001b[0m\u001b[0;34m)\u001b[0m\u001b[0;34m;\u001b[0m\u001b[0;34m\u001b[0m\u001b[0;34m\u001b[0m\u001b[0m\n\u001b[0m",
      "\u001b[0;31mNameError\u001b[0m: name 'interact' is not defined"
     ]
    }
   ],
   "source": [
    "hide_me\n",
    "\n",
    "def f(date):\n",
    "    fig = plt.figure(figsize=(20,3))\n",
    "    plt.plot(El_gordo['created_at'].loc[El_gordo['Date'] == date], El_gordo[\"2.5um/dl\"].loc[El_gordo['Date'] == date])\n",
    "    plt.xlabel('Time')\n",
    "    plt.ylabel('PM 2.5 Particle Count')\n",
    "    plt.title('El Gordo Sensor PM 2.5')\n",
    "    plt.rcParams[\"figure.figsize\"] = (20,3)\n",
    "    \n",
    "interact(f, date = list(El_gordo['Date'].unique()));"
   ]
  },
  {
   "cell_type": "markdown",
   "metadata": {
    "deepnote_cell_type": "markdown",
    "tags": []
   },
   "source": [
    "The line plots above displays the date and hour along the x-axis and the PM 2.5 Particle count along the y-axis.\n",
    "\n",
    "<br>\n",
    "\n",
    "**QUESTION: What trends do you notice about the line plot?**\n",
    "\n"
   ]
  },
  {
   "cell_type": "markdown",
   "metadata": {
    "deepnote_cell_type": "markdown",
    "tags": []
   },
   "source": [
    "*Your answer here*"
   ]
  },
  {
   "cell_type": "markdown",
   "metadata": {},
   "source": [
    "If we look up Carnes Asadas El Gordo, Roma online, we see that this sensor is actually located at a restaraunt that serves carne asada. Additionally, if we look at the location_type column of this sensor, we see this it is an indoor sensor. The air quality at this sensor might be picking up the smoke generated from grilling the carne asada, which is why the air quality at this sensor tends to be worse than the air quality at the sensor right across the street. Additionally, the time plots above show that there are specific times in the day that the AQI levels spike, which is around 3PM and sometimes goes on until 12AM. This might be due to the late lunch/dinner rush that comes in and required the restaurant to continually grill meat. Overall, when looking at data it is important to pay attention to why abnomalities may be occuring. "
   ]
  },
  {
   "cell_type": "markdown",
   "metadata": {},
   "source": [
    "### University of Texas Stadium Sensor"
   ]
  },
  {
   "cell_type": "markdown",
   "metadata": {},
   "source": [
    "Now that we've taken a look at an indoor sensor, let's take a look at an outdoor sensor. If you go to the PurpleAir website [here](https://map.purpleair.com/1/mAQI/a10/p604800/cC0#14.52/30.28196/-97.73198), it should navigate you to a map of the surrounding University of Texas area. If you click on the sensor currently located in the DKR Texas Memorial Stadium, you'll find that the name of that particular sensor is \"PA_II_D8B6\". \n",
    "\n",
    "We will examine the trends of the PM 2.5 Particle count of the UT Stadium sensor over three different time periods: day, month, year."
   ]
  },
  {
   "cell_type": "markdown",
   "metadata": {},
   "source": [
    "Let's first start by filtering the dataframe to extract 'PA_II_D8B6' sensor."
   ]
  },
  {
   "cell_type": "code",
   "execution_count": 18,
   "metadata": {},
   "outputs": [
    {
     "data": {
      "text/html": [
       "<div>\n",
       "<style scoped>\n",
       "    .dataframe tbody tr th:only-of-type {\n",
       "        vertical-align: middle;\n",
       "    }\n",
       "\n",
       "    .dataframe tbody tr th {\n",
       "        vertical-align: top;\n",
       "    }\n",
       "\n",
       "    .dataframe thead th {\n",
       "        text-align: right;\n",
       "    }\n",
       "</style>\n",
       "<table border=\"1\" class=\"dataframe\">\n",
       "  <thead>\n",
       "    <tr style=\"text-align: right;\">\n",
       "      <th></th>\n",
       "      <th>parent</th>\n",
       "      <th>lat</th>\n",
       "      <th>lon</th>\n",
       "      <th>name</th>\n",
       "      <th>location_type</th>\n",
       "      <th>pm_2.5</th>\n",
       "      <th>temp_f</th>\n",
       "      <th>temp_c</th>\n",
       "      <th>humidity</th>\n",
       "      <th>pressure</th>\n",
       "      <th>...</th>\n",
       "      <th>last_update_check</th>\n",
       "      <th>created</th>\n",
       "      <th>uptime</th>\n",
       "      <th>is_owner</th>\n",
       "      <th>10min_avg</th>\n",
       "      <th>30min_avg</th>\n",
       "      <th>1hour_avg</th>\n",
       "      <th>6hour_avg</th>\n",
       "      <th>1day_avg</th>\n",
       "      <th>1week_avg</th>\n",
       "    </tr>\n",
       "    <tr>\n",
       "      <th>id</th>\n",
       "      <th></th>\n",
       "      <th></th>\n",
       "      <th></th>\n",
       "      <th></th>\n",
       "      <th></th>\n",
       "      <th></th>\n",
       "      <th></th>\n",
       "      <th></th>\n",
       "      <th></th>\n",
       "      <th></th>\n",
       "      <th></th>\n",
       "      <th></th>\n",
       "      <th></th>\n",
       "      <th></th>\n",
       "      <th></th>\n",
       "      <th></th>\n",
       "      <th></th>\n",
       "      <th></th>\n",
       "      <th></th>\n",
       "      <th></th>\n",
       "      <th></th>\n",
       "    </tr>\n",
       "  </thead>\n",
       "  <tbody>\n",
       "    <tr>\n",
       "      <th>27395</th>\n",
       "      <td>None</td>\n",
       "      <td>30.285069</td>\n",
       "      <td>-97.732877</td>\n",
       "      <td>PA_II_D8B6</td>\n",
       "      <td>outside</td>\n",
       "      <td>5.71</td>\n",
       "      <td>64.0</td>\n",
       "      <td>17.777778</td>\n",
       "      <td>35.0</td>\n",
       "      <td>995.66</td>\n",
       "      <td>...</td>\n",
       "      <td>None</td>\n",
       "      <td>None</td>\n",
       "      <td>None</td>\n",
       "      <td>False</td>\n",
       "      <td>5.48</td>\n",
       "      <td>6.1</td>\n",
       "      <td>5.96</td>\n",
       "      <td>4.83</td>\n",
       "      <td>9.07</td>\n",
       "      <td>10.06</td>\n",
       "    </tr>\n",
       "  </tbody>\n",
       "</table>\n",
       "<p>1 rows × 43 columns</p>\n",
       "</div>"
      ],
      "text/plain": [
       "      parent        lat        lon        name location_type  pm_2.5  temp_f  \\\n",
       "id                                                                             \n",
       "27395   None  30.285069 -97.732877  PA_II_D8B6       outside    5.71    64.0   \n",
       "\n",
       "          temp_c  humidity  pressure  ... last_update_check created uptime  \\\n",
       "id                                    ...                                    \n",
       "27395  17.777778      35.0    995.66  ...              None    None   None   \n",
       "\n",
       "      is_owner 10min_avg 30min_avg 1hour_avg 6hour_avg 1day_avg 1week_avg  \n",
       "id                                                                         \n",
       "27395    False      5.48       6.1      5.96      4.83     9.07     10.06  \n",
       "\n",
       "[1 rows x 43 columns]"
      ]
     },
     "execution_count": 18,
     "metadata": {},
     "output_type": "execute_result"
    }
   ],
   "source": [
    "hide_me\n",
    "\n",
    "df[df['name'] == 'PA_II_D8B6']"
   ]
  },
  {
   "cell_type": "markdown",
   "metadata": {},
   "source": [
    "Let's obtain the information about the UT Stadium sensor over the various times from this sensor."
   ]
  },
  {
   "cell_type": "code",
   "execution_count": null,
   "metadata": {},
   "outputs": [],
   "source": [
    "hide_me\n",
    "\n",
    "from purpleair.sensor import Sensor\n",
    "se = Sensor(89501)\n",
    "ut_stadium = se.parent.get_historical(weeks_to_get=52,thingspeak_field='secondary')\n",
    "ut_stadium['Date'] = [i.date().strftime(\"%d-%b-%Y\") for i in ut_stadium['created_at']]\n",
    "ut_stadium"
   ]
  },
  {
   "cell_type": "markdown",
   "metadata": {},
   "source": [
    "Let's add columns for the month, day and year."
   ]
  },
  {
   "cell_type": "code",
   "execution_count": null,
   "metadata": {},
   "outputs": [],
   "source": [
    "hide_me\n",
    "\n",
    "ut_stadium['Day'] = ut_stadium['Date'].str.split('-', expand = True)[0].astype(int)\n",
    "ut_stadium['Month'] = ut_stadium['Date'].str.split('-', expand = True)[1]\n",
    "ut_stadium['Year'] = ut_stadium['Date'].str.split('-', expand = True)[2]\n",
    "ut_stadium"
   ]
  },
  {
   "cell_type": "markdown",
   "metadata": {},
   "source": [
    "The first plot below shows the PM 2.5 particle count over the week of October 3-9, 2021."
   ]
  },
  {
   "cell_type": "code",
   "execution_count": null,
   "metadata": {},
   "outputs": [],
   "source": [
    "hide_me\n",
    "\n",
    "oct_2021 = ut_stadium[(ut_stadium['Year'] == 2021) | (ut_stadium['Month'] == 'Oct')]\n",
    "oct_3_9 = oct_2021[(oct_2021['Day']>=3) & (oct_2021['Day']<=9)]\n",
    "# lst = oct_3_9['created_at'].astype(str).tolist()\n",
    "# lst_1 = [i.split(' ', 1)[1] for i in lst]\n",
    "# lst_2 = [i.split('+', 1)[0] for i in lst_1]\n",
    "# oct_3_9 = oct_3_9.copy()\n",
    "# oct_3_9['time'] = np.asarray(lst_2).copy()\n",
    "# grp_day = oct_3_9.groupby('Day').mean().reset_index()\n",
    "# day_pm = grp_day[['Day', '2.5um/dl']]\n",
    "fig = plt.figure(figsize=(20,3))\n",
    "# x = day_pm['Day']\n",
    "# y = day_pm['2.5um/dl']\n",
    "plt.plot(oct_3_9['created_at'], oct_3_9['2.5um/dl'])\n",
    "#plt.xticks(x,  rotation='vertical')\n",
    "plt.margins(0.01)\n",
    "fig.tight_layout()\n",
    "#plt.xticks(oct_3_9['created_at'], oct_3_9['Day'], rotation ='vertical')\n",
    "plt.xlabel('Day')\n",
    "plt.ylabel('PM 2.5 Particle Count')\n",
    "plt.title('PM 2.5 Particle Count Over Week (October 3-9, 2021)')\n",
    "plt.show()"
   ]
  },
  {
   "cell_type": "markdown",
   "metadata": {},
   "source": [
    "The second plot below shows the PM 2.5 particle count over the month of October 2021."
   ]
  },
  {
   "cell_type": "code",
   "execution_count": null,
   "metadata": {},
   "outputs": [],
   "source": [
    "hide_me\n",
    "oct_21 = ut_stadium[(ut_stadium['Year'] == 2021) | (ut_stadium['Month'] == 'Oct')]\n",
    "# lst = oct_21['created_at'].astype(str).tolist()\n",
    "# lst_1 = [i.split(' ', 1)[1] for i in lst]\n",
    "# lst_2 = [i.split('+', 1)[0] for i in lst_1]\n",
    "# oct_21 = oct_21.copy()\n",
    "# oct_21['time'] = np.asarray(lst_2).copy()\n",
    "# grp_day = oct_21.groupby(['Day']).mean().reset_index()\n",
    "# day_pm = grp_day[['Day', '2.5um/dl']]\n",
    "ax = plt.figure(figsize=(30,5))\n",
    "# x = day_pm['Day']\n",
    "# y = day_pm['2.5um/dl']\n",
    "plt.plot(oct_21['created_at'], oct_21['2.5um/dl'])\n",
    "#plt.xticks(x,  rotation='vertical')\n",
    "plt.margins(0.01)\n",
    "fig.tight_layout()\n",
    "plt.xticks(rotation = 0)\n",
    "plt.xlabel('Day')\n",
    "plt.ylabel('PM 2.5 Particle Count')\n",
    "plt.title('PM 2.5 Particle Count Over Month (October 2021)')\n",
    "plt.show()"
   ]
  },
  {
   "cell_type": "markdown",
   "metadata": {},
   "source": [
    "The third plot below shows the PM 2.5 particle count over the year 2021."
   ]
  },
  {
   "cell_type": "code",
   "execution_count": null,
   "metadata": {},
   "outputs": [],
   "source": [
    "hide_me\n",
    "twenty_one = ut_stadium[ut_stadium['Year'] == '2021']\n",
    "# lst = twenty_one['created_at'].astype(str).tolist()\n",
    "# lst_1 = [i.split(' ', 1)[1] for i in lst]\n",
    "# lst_2 = [i.split('+', 1)[0] for i in lst_1]\n",
    "# twenty_one = twenty_one.copy()\n",
    "# twenty_one['time'] = np.asarray(lst_2).copy()\n",
    "# grp_day = twenty_one.groupby(['Month']).mean().reset_index()\n",
    "# day_pm = grp_day[['Month', '2.5um/dl']]\n",
    "# day_pm = day_pm.copy()\n",
    "# day_pm['month_num'] = np.array([4, 8, 2, 1, 7, 6, 3, 5, 11, 10, 9]).copy()\n",
    "# sort_month = day_pm.sort_values('month_num', ascending = True)\n",
    "ax = plt.figure(figsize=(30,3))\n",
    "# x = sort_month['Month']\n",
    "# y = sort_month['2.5um/dl']\n",
    "plt.plot(twenty_one['created_at'], twenty_one['2.5um/dl'])\n",
    "# plt.xticks(x,  rotation='vertical')\n",
    "plt.margins(0.01)\n",
    "fig.tight_layout()\n",
    "plt.xticks(rotation = 0)\n",
    "plt.xlabel('Month')\n",
    "plt.ylabel('PM 2.5 Particle Count')\n",
    "plt.title('PM 2.5 Particle Count Over Year (2021)')\n",
    "plt.show()"
   ]
  },
  {
   "cell_type": "markdown",
   "metadata": {
    "deepnote_cell_type": "markdown",
    "tags": []
   },
   "source": [
    "<br>\n",
    "\n",
    "While the line plots do show us a trend in the PM2.5 count over time, we still have not clue how that translates to the API Index. The next section will discuss what AQI is and how it is calculated."
   ]
  },
  {
   "cell_type": "markdown",
   "metadata": {
    "deepnote_cell_type": "markdown",
    "tags": []
   },
   "source": [
    "### AQI Index\n",
    "The AQI Index contains 6 categories that air quality can fall into. Each category contains a range of index values from 0 - 500 that is calculated from the regions PM 2.5 measure. The chart below is provided by the US Environmental Protection Agency (EPA) and shows the official AQI Index (these breakpoints were revised in 2012). \n",
    "\n",
    "For more information on how AQI Index is calculated, take a look at the AQI Index Factsheet provided by the EPA [here](https://www.epa.gov/sites/default/files/2016-04/documents/2012_aqi_factsheet.pdf)!"
   ]
  },
  {
   "cell_type": "markdown",
   "metadata": {
    "deepnote_cell_type": "markdown",
    "tags": []
   },
   "source": [
    "<p align=\"center\">\n",
    "  <img src=\"images/AQI-category.png\" width=\"\" height=\"\" align=\"center\">\n",
    "</p>"
   ]
  },
  {
   "cell_type": "markdown",
   "metadata": {
    "deepnote_cell_type": "markdown",
    "tags": []
   },
   "source": [
    "Now that we know how sesors work, what they measure and how AQI Indexes are calculated, let's see if we can create a visualization of AQI Indexes that are a little closer to home!\n",
    "\n",
    "First, let's find a group of sensors that are in Texas. We use a range of longitude and latitude coordinates to decide whether to include or exclude a sensor. Below is a dataframe of sensors in Texas.\n"
   ]
  },
  {
   "cell_type": "code",
   "execution_count": null,
   "metadata": {
    "deepnote_cell_type": "code",
    "deepnote_to_be_reexecuted": false,
    "execution_millis": 122,
    "execution_start": 1633062992781,
    "source_hash": "bde860ae",
    "tags": [
     "hide-input"
    ]
   },
   "outputs": [],
   "source": [
    "hide_me\n",
    "\n",
    "TX_data = df.loc[(df[\"lat\"] >= 25.9) & (df[\"lat\"] <= 34.1) & (df[\"lon\"] >= -104.9) & (df[\"lon\"] <= -93.1)]\n",
    "TX_data = TX_data[[\"lat\", \"lon\", \"name\", \"location_type\", \"pm_2.5\", \"temp_f\", \"humidity\", \"pressure\"]]\n",
    "TX_data"
   ]
  },
  {
   "cell_type": "markdown",
   "metadata": {
    "deepnote_cell_type": "markdown",
    "tags": []
   },
   "source": [
    "<br>\n",
    "\n",
    "Now that we have a smaller subset of data to work with, the next step is to use the PM 2.5 measures to assign each sensor to an AQI Index Category and corresponding color. "
   ]
  },
  {
   "cell_type": "code",
   "execution_count": null,
   "metadata": {
    "deepnote_cell_type": "code",
    "deepnote_to_be_reexecuted": false,
    "execution_millis": 102,
    "execution_start": 1633062992949,
    "source_hash": "a4f75cc5",
    "tags": [
     "hide-input"
    ]
   },
   "outputs": [],
   "source": [
    "hide_me\n",
    "\n",
    "#creating a column that indicates the AQI code name\n",
    "color_code = []\n",
    "for i in TX_data[\"pm_2.5\"].to_list():\n",
    "    if i <= 12.0:\n",
    "        color_code.append('green')\n",
    "    elif (i < 12) & (i <=35.4):\n",
    "        color_code.append('yellow')\n",
    "    elif (i < 35.5) & (i <=55.4):\n",
    "        color_code.append('orange')   \n",
    "    elif (i < 55.5) & (i <=150.4):\n",
    "        color_code.append('red')\n",
    "    elif (i < 150.5) & (i <=250.4):\n",
    "        color_code.append('purple')\n",
    "    else:\n",
    "        color_code.append('darkpurple')\n",
    "\n",
    "TX_data['code'] = color_code"
   ]
  },
  {
   "cell_type": "markdown",
   "metadata": {
    "deepnote_cell_type": "markdown",
    "tags": []
   },
   "source": [
    "\n",
    "\n",
    "Our last step is to use the longitude and latitude coordinates to map the relative location of the sensor with is corresponding AQI Index color! The widget below contains two sliders. One represents the Latitude value and the other is the Longitude value. \n",
    "\n",
    "**Slide the sliders left and right to display a mapping of the sensors in that latitude and longitude region.**\n",
    "\n",
    "**Hint: Rio Grande, TX - Lat: 26.3798 / Lon: -98.8203** "
   ]
  },
  {
   "cell_type": "code",
   "execution_count": null,
   "metadata": {
    "tags": [
     "hide-input"
    ]
   },
   "outputs": [],
   "source": [
    "hide_me\n",
    "\n",
    "def map(Latitude ,Longitude):\n",
    "    m = folium.Map(width=830, height=450, location=[Latitude, Longitude])\n",
    "    \n",
    "    for i in np.arange(len(TX_data) - 1):\n",
    "        folium.Marker(\n",
    "            location=[TX_data.iloc[i]['lat'], TX_data.iloc[i]['lon']],\n",
    "            popup=TX_data.iloc[i]['name'],\n",
    "            icon=folium.Icon(color=TX_data.iloc[i]['code']),\n",
    "        ).add_to(m)\n",
    "    display(m)\n",
    "    \n",
    "interact(map, Latitude = (26, 34, 0.001) , Longitude = (-103, -93, 0.001));\n",
    "## Houston, TX - Lat: 29.7604 / Lon: -95.3698"
   ]
  },
  {
   "cell_type": "markdown",
   "metadata": {
    "deepnote_cell_type": "markdown",
    "tags": []
   },
   "source": [
    "Now that we have created a map we can easily see what the AQI index is across the city! "
   ]
  },
  {
   "cell_type": "markdown",
   "metadata": {
    "deepnote_cell_type": "markdown",
    "tags": []
   },
   "source": [
    "<br>\n",
    "\n",
    "**QUESTION: What do you notice about the map?**"
   ]
  },
  {
   "cell_type": "markdown",
   "metadata": {
    "deepnote_cell_type": "markdown",
    "tags": []
   },
   "source": [
    "*Your answer here*"
   ]
  },
  {
   "cell_type": "markdown",
   "metadata": {
    "deepnote_cell_type": "markdown",
    "tags": []
   },
   "source": [
    "<br>\n",
    "\n",
    "Developed By: Ziyue Li, Melisa Esqueda, Maham Bawaney & Karalyn Chong "
   ]
  }
 ],
 "metadata": {
  "deepnote": {
   "is_reactive": false
  },
  "deepnote_execution_queue": [],
  "deepnote_notebook_id": "253c2fb3-ad22-45a1-8e9a-1a7c1233100b",
  "kernelspec": {
   "display_name": "Python 3",
   "language": "python",
   "name": "python3"
  },
  "language_info": {
   "codemirror_mode": {
    "name": "ipython",
    "version": 3
   },
   "file_extension": ".py",
   "mimetype": "text/x-python",
   "name": "python",
   "nbconvert_exporter": "python",
   "pygments_lexer": "ipython3",
   "version": "3.8.8"
  }
 },
 "nbformat": 4,
 "nbformat_minor": 2
}

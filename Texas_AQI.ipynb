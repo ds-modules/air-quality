{
 "cells": [
  {
   "cell_type": "markdown",
   "metadata": {
    "cell_id": "00000-daedd59e-cffb-4abf-840b-e864e45502f1",
    "deepnote_cell_type": "markdown",
    "tags": []
   },
   "source": [
    "\n",
    "# Texas Air Quality Notebook"
   ]
  },
  {
   "cell_type": "markdown",
   "metadata": {
    "cell_id": "00001-3b4547cc-2f75-4c4e-a069-e19a414c1dde",
    "deepnote_cell_type": "markdown",
    "tags": []
   },
   "source": [
    "**Welcome to our notebook on Texas Air Quality!** \n",
    "\n",
    "In this notebook we will be looking at Air Quality Index (AQI) scores in the surrounding Texas area. With so many pollutants in the air, especially as we head into the annual fire season, AQI becomes something we check on the daily. For many of us, this AQI map is all too familiar. Throughout this module we will discuss how data can be used to visualize and uncover underlying trends in the world.\n",
    "\n",
    "**Let's get started!**"
   ]
  },
  {
   "cell_type": "markdown",
   "metadata": {
    "cell_id": "00002-67d60266-bdde-4a6a-bcff-07deaab91799",
    "deepnote_cell_type": "markdown",
    "tags": []
   },
   "source": [
    "<p align=\"center\">\n",
    "  <img src=\"images/AQImap.webp\" width=\"\" height=\"\" align=\"center\">\n",
    "</p>"
   ]
  },
  {
   "cell_type": "markdown",
   "metadata": {
    "cell_id": "00003-3464301f-9c06-4719-9131-85251f288295",
    "deepnote_cell_type": "markdown",
    "tags": []
   },
   "source": [
    "<br>\n",
    "\n",
    "## Introduction to Jupyter Notebook"
   ]
  },
  {
   "cell_type": "markdown",
   "metadata": {
    "cell_id": "00004-d7342510-e57b-4c72-910e-e85723c135be",
    "deepnote_cell_type": "markdown",
    "tags": []
   },
   "source": [
    "Before we get started with the data, let's talk about what Jupyter Notebook is. This lab is set up in a Jupyter Notebook. Notebooks can contain anything from live code, to written text, equations or visualizations. The content of notebooks are written into rectangular sections called **cells**. "
   ]
  },
  {
   "cell_type": "markdown",
   "metadata": {
    "cell_id": "00005-4b33a4df-42d1-41e2-893f-c1c1caf2f67b",
    "deepnote_cell_type": "markdown",
    "tags": []
   },
   "source": [
    "#### Types of Cells\n",
    "There are two types of cells in Jupyter, **code** cells and **markdown** cells. **Code cells**, as you can imagine, contain code in Python, the programming language that we will be using throughout this notebook.  **Markdown cells**, such as this one, contain written text. You can select any cell by clicking on it one. "
   ]
  },
  {
   "cell_type": "markdown",
   "metadata": {
    "cell_id": "00006-6a49f3f1-07b2-4926-8ee2-cea7efb4b860",
    "deepnote_cell_type": "markdown",
    "tags": []
   },
   "source": [
    "#### Running Cells\n",
    "'Running' a cell is similar to pressing 'Enter' on a calculator once you've typed in an expression; it computes all of the expressions contained within the cell.\n",
    "\n",
    "To run a cell, you can do one of the following:\n",
    "\n",
    "- press **Shift + Enter**\n",
    "- click the **Run** button on the top tool bar\n",
    "\n",
    "Running a markdown cell will embed the text into the notebook and running a code cell will evaluate the code and display its output under the cell. \n",
    "\n",
    "Let's try it! **Run the code cell below.**"
   ]
  },
  {
   "cell_type": "code",
   "execution_count": 1,
   "metadata": {
    "cell_id": "00007-2d9f71ae-7f5c-4cd2-8437-b8182a335263",
    "deepnote_cell_type": "code",
    "deepnote_to_be_reexecuted": false,
    "execution_millis": 21,
    "execution_start": 1634304949597,
    "source_hash": "fc071345",
    "tags": []
   },
   "outputs": [
    {
     "name": "stdout",
     "output_type": "stream",
     "text": [
      "Hello World!\n"
     ]
    }
   ],
   "source": [
    "print(\"Hello World!\")"
   ]
  },
  {
   "cell_type": "markdown",
   "metadata": {
    "cell_id": "00008-370ab992-0b3a-44b6-bd5a-b9a4569a69af",
    "deepnote_cell_type": "markdown",
    "tags": []
   },
   "source": [
    "#### Editing and Saving\n",
    "\n",
    "- To **edit** a cell, simply double click on the desired cell and begin typing. The cell that you are currently working in will be highlighted by a green box.\n",
    "- To **save** the notebook, either click *Ctl + S* or navigate to the \"File\" dropdown and select \"Save and Checkpoint\""
   ]
  },
  {
   "cell_type": "markdown",
   "metadata": {
    "cell_id": "00009-fae718e2-95f1-43bb-bffe-2766292761d5",
    "deepnote_cell_type": "markdown",
    "tags": []
   },
   "source": [
    "#### Adding Cells\n",
    "You can add a cell by clicking <b><code>Insert > Insert Cell Below</code></b> and choose the cell type in the drop down menu. Try adding a cell below to type in your name!\n"
   ]
  },
  {
   "cell_type": "markdown",
   "metadata": {
    "cell_id": "00010-81c9dc15-ed4e-463b-9097-79a27791f0e9",
    "deepnote_cell_type": "markdown",
    "tags": []
   },
   "source": [
    "#### Deleting Cells \n",
    "To delete a cell, click on the <b><code>scissors</code></b> at the top or <b><code>Edit > Cut Cells</code></b>. Delete the cell below."
   ]
  },
  {
   "cell_type": "code",
   "execution_count": 2,
   "metadata": {
    "cell_id": "00011-7acf003c-08a9-43cf-ac87-d963f50296ee",
    "deepnote_cell_type": "code",
    "deepnote_to_be_reexecuted": false,
    "execution_millis": 0,
    "execution_start": 1634304949616,
    "source_hash": "53b00907",
    "tags": []
   },
   "outputs": [
    {
     "name": "stdout",
     "output_type": "stream",
     "text": [
      "Delete this cell!\n"
     ]
    }
   ],
   "source": [
    "print(\"Delete this cell!\")"
   ]
  },
  {
   "cell_type": "markdown",
   "metadata": {
    "cell_id": "00012-904b3fc1-9dfd-49c0-b105-4caba33828f3",
    "deepnote_cell_type": "markdown",
    "tags": []
   },
   "source": [
    "**Important Tip**: Everytime you open a Jupyter notebook, it is extremely important to run all the cells from the beginning in order for the notebook to work. "
   ]
  },
  {
   "cell_type": "markdown",
   "metadata": {
    "cell_id": "00013-d3da1a92-0139-4f31-af53-7a72f3d7e232",
    "deepnote_cell_type": "markdown",
    "tags": []
   },
   "source": [
    "<br>\n",
    "\n",
    "## Introduction to Python\n",
    "Python is a programming language that has a specific set of rules that allow us to communicate with a computer through coding commands. The language can be used to do anything from building websites to automating task and many other things! For the puspose of this notebook, we will be using Python to conduct data analysis. \n"
   ]
  },
  {
   "cell_type": "markdown",
   "metadata": {
    "cell_id": "00014-bb85c6a5-66a2-4259-ae24-6db4cc4e9c82",
    "deepnote_cell_type": "markdown",
    "tags": []
   },
   "source": [
    "\n",
    "\n",
    "#### Errors\n",
    "\n",
    "Python has its own set of rules when it comes to the manner in which pieces of code are written. It is important to understand and follow the syntax for the various coding commands that you will learn. When you write code, there will be times where you accidentally break these rules. This is completely _normal_. Even the most experienced programmer makes errors. In order to strengthen your comprehension of these coding commands in your brain, practice helps a lot. Let's examine the cell below and see what's wrong."
   ]
  },
  {
   "cell_type": "code",
   "execution_count": 3,
   "metadata": {
    "cell_id": "00015-da921799-fd17-484c-bd1a-0b7a98686d30",
    "deepnote_cell_type": "code",
    "deepnote_to_be_reexecuted": false,
    "execution_millis": 8,
    "execution_start": 1634304949616,
    "source_hash": "8cc24ce2",
    "tags": []
   },
   "outputs": [
    {
     "name": "stdout",
     "output_type": "stream",
     "text": [
      "Something's wrong\n"
     ]
    }
   ],
   "source": [
    "#print(\"Something's wrong)\n",
    "print(\"Something's wrong\")"
   ]
  },
  {
   "cell_type": "markdown",
   "metadata": {
    "cell_id": "00016-ed1158aa-15b9-45dc-b9d4-d43c0c9faff2",
    "deepnote_cell_type": "markdown",
    "tags": []
   },
   "source": [
    "As you can see from above, there is a carrot symbol pointing at the right parenthesis symbol. It's indicates that something is missing in this area. Go back to that cell and fix it  (Hint: try adding a quotation mark before the closing parenthesis)!"
   ]
  },
  {
   "cell_type": "markdown",
   "metadata": {
    "cell_id": "00017-553066d8-4fbe-4e05-96e7-12ed93e2d1e2",
    "deepnote_cell_type": "markdown",
    "tags": []
   },
   "source": [
    "#### Data\n",
    "\n",
    "Data refers to the information that we need to use in order to manipulate it through the creation of tables, chart visualizations, and other types of analyses. The data explored in this notebook will be presented in the format of a dataframe, which you will explore more later on. \n",
    "\n",
    "Going on with the format of the data, data can come in two forms: numbers and text.\n",
    "\n",
    "Numbers, just like in math, are positive, negative and may contain decimals. As you can see below, the color of the numbers are in green. That's telling python that we're dealing with numbers."
   ]
  },
  {
   "cell_type": "code",
   "execution_count": 4,
   "metadata": {
    "cell_id": "00018-9d7323fc-0bf1-45dc-99ac-fdd60b78140b",
    "deepnote_cell_type": "code",
    "deepnote_to_be_reexecuted": false,
    "execution_millis": 19,
    "execution_start": 1634304949625,
    "source_hash": "d173067",
    "tags": []
   },
   "outputs": [
    {
     "data": {
      "text/plain": [
       "70.123"
      ]
     },
     "execution_count": 4,
     "metadata": {},
     "output_type": "execute_result"
    }
   ],
   "source": [
    "#Numbers\n",
    "\n",
    "300\n",
    "-56\n",
    "70.123"
   ]
  },
  {
   "cell_type": "markdown",
   "metadata": {
    "cell_id": "00019-5b684c71-204b-46df-b01b-0573944ce1f6",
    "deepnote_cell_type": "markdown",
    "tags": []
   },
   "source": [
    "Text is written in string format. As you can see below, strings are colored in red. "
   ]
  },
  {
   "cell_type": "code",
   "execution_count": 5,
   "metadata": {
    "cell_id": "00020-3975d525-1b58-4173-87a0-98717af5db08",
    "deepnote_cell_type": "code",
    "deepnote_to_be_reexecuted": false,
    "execution_millis": 13,
    "execution_start": 1634304949633,
    "source_hash": "90247016",
    "tags": []
   },
   "outputs": [
    {
     "data": {
      "text/plain": [
       "'123.456'"
      ]
     },
     "execution_count": 5,
     "metadata": {},
     "output_type": "execute_result"
    }
   ],
   "source": [
    "#Strings\n",
    "\"Hello everyone!\"\n",
    "\"Coding is awesome!\"\n",
    "\n",
    "#This is a string,NOT a number!\n",
    "\"123.456\"\n"
   ]
  },
  {
   "cell_type": "markdown",
   "metadata": {
    "cell_id": "00021-4fd9e1be-2539-4298-8441-5cc4b890d5be",
    "deepnote_cell_type": "markdown",
    "tags": []
   },
   "source": [
    "Notice how the previous cells contain lines of code that use the pound symbol \"#\". The purpose of this symbol is to write notes that can help you understand the code cell. When you run lines that contain these symbols, nothing happens. These lines are just for your own reference. "
   ]
  },
  {
   "cell_type": "markdown",
   "metadata": {
    "cell_id": "00022-44c38ad9-c7e8-4ae0-bb42-d85c9bb670fe",
    "deepnote_cell_type": "markdown",
    "tags": []
   },
   "source": [
    "#### Names\n",
    "Working with data can get complicated at times. There will be calculations that are too difficult to calculate by hand due to the large number of elements that we need to perform the calculation on. Giving names to values will not only save the values for easy access later, but will also make calculations easier. Take a look at the cell below."
   ]
  },
  {
   "cell_type": "code",
   "execution_count": 7,
   "metadata": {
    "cell_id": "00023-485db73a-2d0c-43a0-9400-ffdd1437ea0c",
    "deepnote_cell_type": "code",
    "deepnote_to_be_reexecuted": false,
    "execution_millis": 187,
    "execution_start": 1634304949651,
    "source_hash": "fe237e27",
    "tags": []
   },
   "outputs": [
    {
     "data": {
      "text/plain": [
       "169104"
      ]
     },
     "execution_count": 7,
     "metadata": {},
     "output_type": "execute_result"
    }
   ],
   "source": [
    "x = 312\n",
    "y = 542\n",
    "product = x * y\n",
    "product"
   ]
  },
  {
   "cell_type": "markdown",
   "metadata": {
    "cell_id": "00024-6cd98714-b157-40fa-9c4d-cf403dca58db",
    "deepnote_cell_type": "markdown",
    "tags": []
   },
   "source": [
    "As you can see above, the numbers `312` and `512` were assigned to the name \"x\" and \"y\", respectively. Then, the product of x and y was assigned to the name \"product\". "
   ]
  },
  {
   "cell_type": "markdown",
   "metadata": {
    "cell_id": "00025-9bdaa54e-fac1-4367-8ea0-a60ae8df8f22",
    "deepnote_cell_type": "markdown",
    "tags": []
   },
   "source": [
    "#### Expressions\n",
    "Expressions are simple instructions that you want to give to a computer. Run the cells and take a look at the examples below. "
   ]
  },
  {
   "cell_type": "code",
   "execution_count": 8,
   "metadata": {
    "cell_id": "00026-6eb96707-2835-4350-81a4-e8e18cd12e43",
    "deepnote_cell_type": "code",
    "deepnote_to_be_reexecuted": false,
    "execution_millis": 78896872,
    "execution_start": 1634304949661,
    "source_hash": "e5039e55",
    "tags": []
   },
   "outputs": [
    {
     "data": {
      "text/plain": [
       "12"
      ]
     },
     "execution_count": 8,
     "metadata": {},
     "output_type": "execute_result"
    }
   ],
   "source": [
    "2 + 10"
   ]
  },
  {
   "cell_type": "code",
   "execution_count": 9,
   "metadata": {
    "cell_id": "00027-0edc1b40-8ae7-465b-b171-89077b70e952",
    "deepnote_cell_type": "code",
    "deepnote_to_be_reexecuted": false,
    "execution_millis": 153,
    "execution_start": 1634304949687,
    "source_hash": "ac6372c7",
    "tags": []
   },
   "outputs": [
    {
     "data": {
      "text/plain": [
       "2.0"
      ]
     },
     "execution_count": 9,
     "metadata": {},
     "output_type": "execute_result"
    }
   ],
   "source": [
    "4/2"
   ]
  },
  {
   "cell_type": "code",
   "execution_count": 10,
   "metadata": {
    "cell_id": "00028-30493db1-61dd-4ef8-b1b3-0d7b73554baa",
    "deepnote_cell_type": "code",
    "deepnote_to_be_reexecuted": false,
    "execution_millis": 153,
    "execution_start": 1634304949688,
    "source_hash": "f3d808ff",
    "tags": []
   },
   "outputs": [
    {
     "data": {
      "text/plain": [
       "152"
      ]
     },
     "execution_count": 10,
     "metadata": {},
     "output_type": "execute_result"
    }
   ],
   "source": [
    "(23 + 4) * 6 - 10"
   ]
  },
  {
   "cell_type": "markdown",
   "metadata": {
    "cell_id": "00029-553bae63-08dd-4a11-a97a-ed71fca845ad",
    "deepnote_cell_type": "markdown",
    "tags": []
   },
   "source": [
    "As you can see above, including spaces between the operator and numbers makes the code clean and legible to read. However, it's not necessary to include space between the parenthesis and number. Just like in math, Python follows the rules of P.E.M.D.A.S. when it comes to calculating numbers. "
   ]
  },
  {
   "cell_type": "markdown",
   "metadata": {
    "cell_id": "00030-63dbeb50-8c38-4fce-a6d3-8a5d1da7c821",
    "deepnote_cell_type": "markdown",
    "tags": []
   },
   "source": [
    "#### Functions\n",
    "In the previous cells, mathematical expressions can be written just how you normally would in hand writing. However, python has built-in functions, which refers to named operations, for the operators that were used in the previous cells and more! Take a look below!"
   ]
  },
  {
   "cell_type": "code",
   "execution_count": 11,
   "metadata": {
    "cell_id": "00031-2af8b0b1-7e59-4e0e-b365-5eb34b7baa5d",
    "deepnote_cell_type": "code",
    "deepnote_to_be_reexecuted": false,
    "execution_millis": 151,
    "execution_start": 1634304949690,
    "source_hash": "55230a7b",
    "tags": []
   },
   "outputs": [
    {
     "data": {
      "text/plain": [
       "3"
      ]
     },
     "execution_count": 11,
     "metadata": {},
     "output_type": "execute_result"
    }
   ],
   "source": [
    "#This function below returns the biggest number out of the input values.\n",
    "max(2, 3)"
   ]
  },
  {
   "cell_type": "code",
   "execution_count": 12,
   "metadata": {
    "cell_id": "00032-55c10188-ae8c-4ae4-a0e6-c68c729079e5",
    "deepnote_cell_type": "code",
    "deepnote_to_be_reexecuted": false,
    "execution_millis": 150,
    "execution_start": 1634304949691,
    "source_hash": "487f2e56",
    "tags": []
   },
   "outputs": [
    {
     "data": {
      "text/plain": [
       "4"
      ]
     },
     "execution_count": 12,
     "metadata": {},
     "output_type": "execute_result"
    }
   ],
   "source": [
    "#This function below takes the absolute value of a number.\n",
    "abs(-4)"
   ]
  },
  {
   "cell_type": "markdown",
   "metadata": {
    "cell_id": "00033-8105478e-4d58-4a41-80a8-876b9544db4f",
    "deepnote_cell_type": "markdown",
    "tags": []
   },
   "source": [
    "As you can see from above, functions make calculating expressions easier. We just simply pick our desired function, plug in the numbers and we get an output. "
   ]
  },
  {
   "cell_type": "markdown",
   "metadata": {
    "cell_id": "00034-328a33ed-d8a4-4d77-9ac4-1fcb2dccb202",
    "deepnote_cell_type": "markdown",
    "tags": []
   },
   "source": [
    "#### Chart Visualizations\n",
    "When it comes to examining any existing patterns in data, it is difficult to examine all the patterns that exist in our data through dataframes alone. Creating a chart visualization, which is a graphical representation of data, illustrates the desired variables and any existing patterns. It is important to carefully choose the appropriate chart that will accurately illustrate the desired variables. Before examinining the different types of chart visualizations, it is important to be aware of the different types of variables:\n",
    "\n",
    "- **Quantitative variables**: Refers to numerical variables that derive from measurements. An example of this type of variable would be height.\n",
    "\n",
    "- **Qualitative variables**: Refers to categorical variables in which its values can't be found by measurement. An example of this type of variable would be gender. \n",
    "\n",
    "<br>\n",
    "\n",
    "##### Here are the different types of charts:\n",
    "\n",
    "- **Bar chart**: This plot is used for displaying the counts of categorical variables. In the plot below, the x-axis displays the categorical variable called \"energy source\" and the y-axis displays the numerical variable called \"counts\". \n",
    "\n",
    "<p align=\"center\">\n",
    "  <img src=\"/work/images/bar chart image.png\" width=\"\" height=\"\" align=\"center\">\n",
    "  Bar chart from the website page \"Bar Charts in Matplotlib\" by Ben Alex Keen.\n",
    "</p>\n",
    "\n",
    "\n",
    "- **Histogram**: This plot is used for displaying the distribution of a numerical variable. This graph allows you to see the average, maximum, and minimum values. In the plot below, the x-axis displays the numerical variable and the y-axis displays the frequency, which isn't a variable that is included in the dataframe.\n",
    "\n",
    "<p align=\"center\">\n",
    "  <img src=\"/work/images/histogram.png\" width=\"\" height=\"\" align=\"center\">\n",
    "  Histogram chart from the website page \"W3resource\", licensed by Creative Commons Attribution-NonCommercial-ShareAlike 3.0 Unported License.\n",
    "</p>\n",
    "\n",
    "\n",
    "- **Line chart**: This plot displays the trends of a numerical variable. In the plot below, the x-axis displays the numerical variable called \"year\" and the y-axis displays the numerical variable named unemployment rate. This plot shows you the changes that occurred in terms of unemployment. \n",
    "\n",
    "<p align=\"center\">\n",
    "  <img src=\"/work/images/line plot.png\" width=\"\" height=\"\" align=\"center\">\n",
    "  Line chart from the website page \"Data to Fish\"\n",
    "</p>\n",
    "\n",
    "\n",
    "- **Scatter chart**: This plot displays the relationship between numerical variables through the displayed of clustered points. In the plot below, the x-axis is anumerical variable called \"weight\" and the y-axis is a numerical variable called \"height\". Since the clustered points are forming an upward trend, this shows that weight and height are connected with each other. \n",
    "<p align=\"center\">\n",
    "  <img src=\"/work/images/scatter plot.png\" width=\"\" height=\"\" align=\"center\">\n",
    "  Scatter chart from the website \"Data36\"\n",
    "</p>\n",
    "\n",
    "\n"
   ]
  },
  {
   "cell_type": "markdown",
   "metadata": {
    "cell_id": "00035-a7c6d091-fa9c-4650-9b24-df1e949c26db",
    "deepnote_cell_type": "markdown",
    "tags": []
   },
   "source": [
    "Now that we have had a brief crash course on Jupyter Notebooks and Python coding, let's dive into Texas AQI!"
   ]
  },
  {
   "cell_type": "markdown",
   "metadata": {
    "cell_id": "00036-7f3b3b75-022b-4b52-b8ad-2c01980c90e9",
    "deepnote_cell_type": "markdown",
    "tags": []
   },
   "source": [
    "<br>\n",
    "\n",
    "## Introduction to the Data <a class=\"anchor\" id=\"2\"></a>"
   ]
  },
  {
   "cell_type": "markdown",
   "metadata": {
    "cell_id": "00037-1517ea40-370c-4f47-aedb-c1b6d0db178e",
    "deepnote_cell_type": "markdown",
    "tags": []
   },
   "source": [
    "In this notebook we will look at data collected from PrupleAir, a company that manages a network of air quality sensors. The data from these sensors are then collected to create maps like the one displayed above that depicts an intuitive visualization of the air quality in a specific region. In the dataframe below, you will find several metrics that help us do this.\n",
    "\n",
    "**Run the cell below to import all the dependencies needed for this notebook!**"
   ]
  },
  {
   "cell_type": "code",
<<<<<<< HEAD
   "execution_count": 12,
=======
   "execution_count": 18,
   "metadata": {},
   "outputs": [
    {
     "name": "stdout",
     "output_type": "stream",
     "text": [
      "Collecting purpleair\n",
      "  Downloading purpleair-1.2.5-py3-none-any.whl (27 kB)\n",
      "Collecting geopy\n",
      "  Downloading geopy-2.2.0-py3-none-any.whl (118 kB)\n",
      "\u001b[K     |████████████████████████████████| 118 kB 7.5 MB/s eta 0:00:01\n",
      "\u001b[?25hCollecting thingspeak\n",
      "  Downloading thingspeak-1.0.0-py3-none-any.whl (20 kB)\n",
      "Collecting requests-cache\n",
      "  Downloading requests_cache-0.8.1-py3-none-any.whl (44 kB)\n",
      "\u001b[K     |████████████████████████████████| 44 kB 4.1 MB/s eta 0:00:01\n",
      "\u001b[?25hRequirement already satisfied: pandas in /Users/mahambawaney/opt/anaconda3/lib/python3.8/site-packages (from purpleair) (1.2.4)\n",
      "Requirement already satisfied: requests in /Users/mahambawaney/opt/anaconda3/lib/python3.8/site-packages (from purpleair) (2.25.1)\n",
      "Collecting geographiclib<2,>=1.49\n",
      "  Downloading geographiclib-1.52-py3-none-any.whl (38 kB)\n",
      "Requirement already satisfied: python-dateutil>=2.7.3 in /Users/mahambawaney/opt/anaconda3/lib/python3.8/site-packages (from pandas->purpleair) (2.8.1)\n",
      "Requirement already satisfied: pytz>=2017.3 in /Users/mahambawaney/opt/anaconda3/lib/python3.8/site-packages (from pandas->purpleair) (2021.1)\n",
      "Requirement already satisfied: numpy>=1.16.5 in /Users/mahambawaney/opt/anaconda3/lib/python3.8/site-packages (from pandas->purpleair) (1.20.1)\n",
      "Requirement already satisfied: six>=1.5 in /Users/mahambawaney/opt/anaconda3/lib/python3.8/site-packages (from python-dateutil>=2.7.3->pandas->purpleair) (1.15.0)\n",
      "Requirement already satisfied: idna<3,>=2.5 in /Users/mahambawaney/opt/anaconda3/lib/python3.8/site-packages (from requests->purpleair) (2.10)\n",
      "Requirement already satisfied: chardet<5,>=3.0.2 in /Users/mahambawaney/opt/anaconda3/lib/python3.8/site-packages (from requests->purpleair) (4.0.0)\n",
      "Requirement already satisfied: urllib3<1.27,>=1.21.1 in /Users/mahambawaney/opt/anaconda3/lib/python3.8/site-packages (from requests->purpleair) (1.26.4)\n",
      "Requirement already satisfied: certifi>=2017.4.17 in /Users/mahambawaney/opt/anaconda3/lib/python3.8/site-packages (from requests->purpleair) (2020.12.5)\n",
      "Collecting attrs<22.0,>=21.2\n",
      "  Downloading attrs-21.2.0-py2.py3-none-any.whl (53 kB)\n",
      "\u001b[K     |████████████████████████████████| 53 kB 5.3 MB/s eta 0:00:01\n",
      "\u001b[?25hCollecting cattrs<2.0,>=1.8\n",
      "  Downloading cattrs-1.8.0-py3-none-any.whl (24 kB)\n",
      "Collecting url-normalize<2.0,>=1.4\n",
      "  Downloading url_normalize-1.4.3-py2.py3-none-any.whl (6.8 kB)\n",
      "Requirement already satisfied: appdirs<2.0.0,>=1.4.4 in /Users/mahambawaney/opt/anaconda3/lib/python3.8/site-packages (from requests-cache->purpleair) (1.4.4)\n",
      "Collecting docopt<0.7.0,>=0.6.2\n",
      "  Downloading docopt-0.6.2.tar.gz (25 kB)\n",
      "Building wheels for collected packages: docopt\n",
      "  Building wheel for docopt (setup.py) ... \u001b[?25ldone\n",
      "\u001b[?25h  Created wheel for docopt: filename=docopt-0.6.2-py2.py3-none-any.whl size=13705 sha256=34fd7977bdfff8f507bc262060a954aa4b1f12994a2eafb9c0debe661a3efc77\n",
      "  Stored in directory: /Users/mahambawaney/Library/Caches/pip/wheels/56/ea/58/ead137b087d9e326852a851351d1debf4ada529b6ac0ec4e8c\n",
      "Successfully built docopt\n",
      "Installing collected packages: attrs, url-normalize, geographiclib, docopt, cattrs, thingspeak, requests-cache, geopy, purpleair\n",
      "  Attempting uninstall: attrs\n",
      "    Found existing installation: attrs 20.3.0\n",
      "    Uninstalling attrs-20.3.0:\n",
      "      Successfully uninstalled attrs-20.3.0\n",
      "Successfully installed attrs-21.2.0 cattrs-1.8.0 docopt-0.6.2 geographiclib-1.52 geopy-2.2.0 purpleair-1.2.5 requests-cache-0.8.1 thingspeak-1.0.0 url-normalize-1.4.3\n",
      "Note: you may need to restart the kernel to use updated packages.\n"
     ]
    }
   ],
   "source": [
    "pip install purpleair"
   ]
  },
  {
   "cell_type": "code",
   "execution_count": 6,
>>>>>>> 2c1016514732f2d30bf70ee6926ecef3c8332a76
   "metadata": {
    "cell_id": "00038-a2bf2b0f-a413-4828-bfeb-4b9e3bb85c0e",
    "deepnote_cell_type": "code",
    "deepnote_to_be_reexecuted": false,
    "execution_millis": 1199,
    "execution_start": 1634304949693,
    "source_hash": "990f3fb4",
    "tags": []
   },
   "outputs": [
    {
     "ename": "ModuleNotFoundError",
     "evalue": "No module named 'folium'",
     "output_type": "error",
     "traceback": [
      "\u001b[0;31m---------------------------------------------------------------------------\u001b[0m",
      "\u001b[0;31mModuleNotFoundError\u001b[0m                       Traceback (most recent call last)",
      "\u001b[0;32m<ipython-input-6-cbf0f90f3cb3>\u001b[0m in \u001b[0;36m<module>\u001b[0;34m\u001b[0m\n\u001b[1;32m      2\u001b[0m \u001b[0;32mimport\u001b[0m \u001b[0mnumpy\u001b[0m \u001b[0;32mas\u001b[0m \u001b[0mnp\u001b[0m\u001b[0;34m\u001b[0m\u001b[0;34m\u001b[0m\u001b[0m\n\u001b[1;32m      3\u001b[0m \u001b[0;32mimport\u001b[0m \u001b[0mpurpleair\u001b[0m\u001b[0;34m\u001b[0m\u001b[0;34m\u001b[0m\u001b[0m\n\u001b[0;32m----> 4\u001b[0;31m \u001b[0;32mimport\u001b[0m \u001b[0mfolium\u001b[0m\u001b[0;34m\u001b[0m\u001b[0;34m\u001b[0m\u001b[0m\n\u001b[0m\u001b[1;32m      5\u001b[0m \u001b[0;32mimport\u001b[0m \u001b[0mipywidgets\u001b[0m \u001b[0;32mas\u001b[0m \u001b[0mwidgets\u001b[0m\u001b[0;34m\u001b[0m\u001b[0;34m\u001b[0m\u001b[0m\n\u001b[1;32m      6\u001b[0m \u001b[0;32mfrom\u001b[0m \u001b[0mipywidgets\u001b[0m \u001b[0;32mimport\u001b[0m \u001b[0minteract\u001b[0m\u001b[0;34m,\u001b[0m \u001b[0minteractive\u001b[0m\u001b[0;34m,\u001b[0m \u001b[0mfixed\u001b[0m\u001b[0;34m,\u001b[0m \u001b[0minteract_manual\u001b[0m\u001b[0;34m\u001b[0m\u001b[0;34m\u001b[0m\u001b[0m\n",
      "\u001b[0;31mModuleNotFoundError\u001b[0m: No module named 'folium'"
     ]
    }
   ],
   "source": [
    "import matplotlib.pyplot as plt\n",
    "import numpy as np\n",
    "import purpleair\n",
    "import folium\n",
    "import ipywidgets as widgets\n",
    "from ipywidgets import interact, interactive, fixed, interact_manual\n",
    "from datetime import datetime\n",
    "from IPython.display import clear_output"
   ]
  },
  {
   "cell_type": "markdown",
   "metadata": {
    "cell_id": "00039-e6492591-3c72-4a72-b6b0-797f0843096d",
    "deepnote_cell_type": "markdown",
    "tags": []
   },
   "source": [
    "<br>\n",
    "\n",
    "# PurpleAir Data"
   ]
  },
  {
   "cell_type": "markdown",
   "metadata": {
    "cell_id": "00040-92de3fe8-5b65-4078-ba3e-391e205b508c",
    "deepnote_cell_type": "markdown",
    "tags": []
   },
   "source": [
    "Before we begin looking at data collected from PurpleAir sensors, lets first take a look at what a sensor is, and what it measures. \n",
    "\n",
    "\n",
    "> Below is a picture of a real PurpleAir Air Quality Sensor. These sensor can be mounted both indoors or outdoors, and it tracks airborne particulate matter(PM) in real time using PMSX003 laser counters. Particulate matter can include things like dust, smoke, dirt and any other organic or inorganic particles in the air. With multiple sensors mounted in a region, PurpleAir can create a relatively accurate measure of AQI throughout the day as the air quality changes. \n",
    "\n",
    "For more information on how sensors work, take a look at the official PurpleAir website [here](https://www2.purpleair.com/community/faq#hc-what-do-the-numbers-on-the-purpleair-map-mean-1)!"
   ]
  },
  {
   "cell_type": "markdown",
   "metadata": {
    "cell_id": "00041-f5ce6af6-9166-4094-a780-5d1c55f40390",
    "deepnote_cell_type": "markdown",
    "tags": []
   },
   "source": [
    "<p align=\"center\">\n",
    "  <img src=\"images/purpleair-sensor-pm2.5.webp\" width=\"\" height=\"\" align=\"center\">\n",
    "</p>"
   ]
  },
  {
   "cell_type": "markdown",
   "metadata": {
    "cell_id": "00042-5fae0257-2152-41bc-8e12-b987f1da5dbe",
    "deepnote_cell_type": "markdown",
    "tags": []
   },
   "source": [
    "In order to work with the data, we need to pull it into our workspace. Fortunately, PurpleAir has created an API that allows users to pull in and work with their AQI data. In the code cell below we will import the prupleair API and use it to create a dataframe of data from all 18,858 PurpleAir sensors!\n",
    "\n",
    "**Run the code cell below!**"
   ]
  },
  {
   "cell_type": "code",
<<<<<<< HEAD
   "execution_count": 13,
=======
   "execution_count": 7,
>>>>>>> 2c1016514732f2d30bf70ee6926ecef3c8332a76
   "metadata": {
    "cell_id": "00043-61dca086-a486-41e5-bd60-2af694c19c41",
    "deepnote_cell_type": "code",
    "deepnote_to_be_reexecuted": false,
    "execution_millis": 6416,
    "execution_start": 1634304950900,
    "source_hash": "5c996320",
    "tags": []
   },
   "outputs": [
    {
     "name": "stdout",
     "output_type": "stream",
     "text": [
<<<<<<< HEAD
      "Initialized 23,100 sensors!\n"
=======
      "Initialized 22,921 sensors!\n"
>>>>>>> 2c1016514732f2d30bf70ee6926ecef3c8332a76
     ]
    }
   ],
   "source": [
    "from purpleair.network import SensorList\n",
    "p = SensorList()\n",
    "df = p.to_dataframe(sensor_filter='all',\n",
    "                    channel='parent')"
   ]
  },
  {
   "cell_type": "markdown",
   "metadata": {
    "cell_id": "00044-8be1e334-5605-4996-bcbf-247f6bd604eb",
    "deepnote_cell_type": "markdown",
    "tags": []
   },
   "source": [
    "**Run the cell below to display the sensor dataframe!**\n",
    "\n",
    "The dataframe below contains all the sensor data as of the latest update. It contains data on everything from the geograohical latitude and longitude of the sensor to data on the last time that sensor measured airborne PM."
   ]
  },
  {
   "cell_type": "code",
<<<<<<< HEAD
   "execution_count": 14,
=======
   "execution_count": 8,
>>>>>>> 2c1016514732f2d30bf70ee6926ecef3c8332a76
   "metadata": {
    "cell_id": "00045-1ba21a7d-ffa3-4811-8dd6-e4d96ccc24a5",
    "deepnote_cell_type": "code",
    "deepnote_to_be_reexecuted": false,
    "execution_millis": 158,
    "execution_start": 1634304957325,
    "source_hash": "f804c160",
    "tags": []
   },
   "outputs": [
    {
     "data": {
      "text/html": [
       "<div>\n",
       "<style scoped>\n",
       "    .dataframe tbody tr th:only-of-type {\n",
       "        vertical-align: middle;\n",
       "    }\n",
       "\n",
       "    .dataframe tbody tr th {\n",
       "        vertical-align: top;\n",
       "    }\n",
       "\n",
       "    .dataframe thead th {\n",
       "        text-align: right;\n",
       "    }\n",
       "</style>\n",
       "<table border=\"1\" class=\"dataframe\">\n",
       "  <thead>\n",
       "    <tr style=\"text-align: right;\">\n",
       "      <th></th>\n",
       "      <th>parent</th>\n",
       "      <th>lat</th>\n",
       "      <th>lon</th>\n",
       "      <th>name</th>\n",
       "      <th>location_type</th>\n",
       "      <th>pm_2.5</th>\n",
       "      <th>temp_f</th>\n",
       "      <th>temp_c</th>\n",
       "      <th>humidity</th>\n",
       "      <th>pressure</th>\n",
       "      <th>...</th>\n",
       "      <th>last_update_check</th>\n",
       "      <th>created</th>\n",
       "      <th>uptime</th>\n",
       "      <th>is_owner</th>\n",
       "      <th>10min_avg</th>\n",
       "      <th>30min_avg</th>\n",
       "      <th>1hour_avg</th>\n",
       "      <th>6hour_avg</th>\n",
       "      <th>1day_avg</th>\n",
       "      <th>1week_avg</th>\n",
       "    </tr>\n",
       "    <tr>\n",
       "      <th>id</th>\n",
       "      <th></th>\n",
       "      <th></th>\n",
       "      <th></th>\n",
       "      <th></th>\n",
       "      <th></th>\n",
       "      <th></th>\n",
       "      <th></th>\n",
       "      <th></th>\n",
       "      <th></th>\n",
       "      <th></th>\n",
       "      <th></th>\n",
       "      <th></th>\n",
       "      <th></th>\n",
       "      <th></th>\n",
       "      <th></th>\n",
       "      <th></th>\n",
       "      <th></th>\n",
       "      <th></th>\n",
       "      <th></th>\n",
       "      <th></th>\n",
       "      <th></th>\n",
       "    </tr>\n",
       "  </thead>\n",
       "  <tbody>\n",
       "    <tr>\n",
       "      <th>14633</th>\n",
       "      <td>None</td>\n",
       "      <td>37.275561</td>\n",
       "      <td>-121.964134</td>\n",
       "      <td>Hazelwood canary</td>\n",
       "      <td>outside</td>\n",
<<<<<<< HEAD
       "      <td>1.03</td>\n",
       "      <td>71.0</td>\n",
       "      <td>21.666667</td>\n",
       "      <td>34.0</td>\n",
       "      <td>1009.74</td>\n",
=======
       "      <td>4.49</td>\n",
       "      <td>88.0</td>\n",
       "      <td>31.111111</td>\n",
       "      <td>31.0</td>\n",
       "      <td>1011.66</td>\n",
>>>>>>> 2c1016514732f2d30bf70ee6926ecef3c8332a76
       "      <td>...</td>\n",
       "      <td>None</td>\n",
       "      <td>None</td>\n",
       "      <td>None</td>\n",
       "      <td>False</td>\n",
<<<<<<< HEAD
       "      <td>1.30</td>\n",
       "      <td>1.87</td>\n",
       "      <td>1.90</td>\n",
       "      <td>1.21</td>\n",
       "      <td>1.44</td>\n",
       "      <td>4.13</td>\n",
=======
       "      <td>4.49</td>\n",
       "      <td>3.83</td>\n",
       "      <td>3.25</td>\n",
       "      <td>2.14</td>\n",
       "      <td>1.51</td>\n",
       "      <td>2.59</td>\n",
>>>>>>> 2c1016514732f2d30bf70ee6926ecef3c8332a76
       "    </tr>\n",
       "    <tr>\n",
       "      <th>25999</th>\n",
       "      <td>None</td>\n",
       "      <td>30.053808</td>\n",
       "      <td>-95.494643</td>\n",
       "      <td>Villages of Bridgestone AQI</td>\n",
       "      <td>outside</td>\n",
<<<<<<< HEAD
       "      <td>9.54</td>\n",
       "      <td>91.0</td>\n",
       "      <td>32.777778</td>\n",
       "      <td>41.0</td>\n",
       "      <td>1014.02</td>\n",
=======
       "      <td>0.00</td>\n",
       "      <td>80.0</td>\n",
       "      <td>26.666667</td>\n",
       "      <td>19.0</td>\n",
       "      <td>1004.42</td>\n",
>>>>>>> 2c1016514732f2d30bf70ee6926ecef3c8332a76
       "      <td>...</td>\n",
       "      <td>None</td>\n",
       "      <td>None</td>\n",
       "      <td>None</td>\n",
       "      <td>False</td>\n",
<<<<<<< HEAD
       "      <td>8.41</td>\n",
       "      <td>8.15</td>\n",
       "      <td>9.06</td>\n",
       "      <td>14.00</td>\n",
       "      <td>12.98</td>\n",
       "      <td>13.16</td>\n",
=======
       "      <td>0.06</td>\n",
       "      <td>0.07</td>\n",
       "      <td>0.09</td>\n",
       "      <td>0.80</td>\n",
       "      <td>3.99</td>\n",
       "      <td>10.70</td>\n",
>>>>>>> 2c1016514732f2d30bf70ee6926ecef3c8332a76
       "    </tr>\n",
       "    <tr>\n",
       "      <th>14091</th>\n",
       "      <td>None</td>\n",
       "      <td>37.883620</td>\n",
       "      <td>-122.070087</td>\n",
       "      <td>WC Hillside</td>\n",
       "      <td>outside</td>\n",
<<<<<<< HEAD
       "      <td>3.47</td>\n",
       "      <td>64.0</td>\n",
       "      <td>17.777778</td>\n",
       "      <td>45.0</td>\n",
       "      <td>1004.61</td>\n",
=======
       "      <td>2.81</td>\n",
       "      <td>78.0</td>\n",
       "      <td>25.555556</td>\n",
       "      <td>40.0</td>\n",
       "      <td>1007.04</td>\n",
>>>>>>> 2c1016514732f2d30bf70ee6926ecef3c8332a76
       "      <td>...</td>\n",
       "      <td>None</td>\n",
       "      <td>None</td>\n",
       "      <td>None</td>\n",
       "      <td>False</td>\n",
<<<<<<< HEAD
       "      <td>2.86</td>\n",
       "      <td>2.29</td>\n",
       "      <td>1.95</td>\n",
       "      <td>1.99</td>\n",
       "      <td>3.56</td>\n",
       "      <td>5.84</td>\n",
=======
       "      <td>2.94</td>\n",
       "      <td>2.72</td>\n",
       "      <td>2.50</td>\n",
       "      <td>1.77</td>\n",
       "      <td>1.66</td>\n",
       "      <td>4.21</td>\n",
>>>>>>> 2c1016514732f2d30bf70ee6926ecef3c8332a76
       "    </tr>\n",
       "    <tr>\n",
       "      <th>108226</th>\n",
       "      <td>None</td>\n",
       "      <td>38.573703</td>\n",
       "      <td>-121.439113</td>\n",
       "      <td>\"C\" Street Air Shelter</td>\n",
       "      <td>inside</td>\n",
<<<<<<< HEAD
       "      <td>1.20</td>\n",
       "      <td>74.0</td>\n",
       "      <td>23.333333</td>\n",
       "      <td>31.0</td>\n",
       "      <td>1017.90</td>\n",
=======
       "      <td>2.43</td>\n",
       "      <td>77.0</td>\n",
       "      <td>25.000000</td>\n",
       "      <td>42.0</td>\n",
       "      <td>1019.95</td>\n",
>>>>>>> 2c1016514732f2d30bf70ee6926ecef3c8332a76
       "      <td>...</td>\n",
       "      <td>None</td>\n",
       "      <td>None</td>\n",
       "      <td>None</td>\n",
       "      <td>False</td>\n",
<<<<<<< HEAD
       "      <td>1.40</td>\n",
       "      <td>1.53</td>\n",
       "      <td>1.66</td>\n",
       "      <td>1.63</td>\n",
       "      <td>2.38</td>\n",
       "      <td>3.53</td>\n",
=======
       "      <td>1.92</td>\n",
       "      <td>1.68</td>\n",
       "      <td>1.36</td>\n",
       "      <td>1.27</td>\n",
       "      <td>1.86</td>\n",
       "      <td>2.81</td>\n",
>>>>>>> 2c1016514732f2d30bf70ee6926ecef3c8332a76
       "    </tr>\n",
       "    <tr>\n",
       "      <th>42073</th>\n",
       "      <td>None</td>\n",
       "      <td>47.185173</td>\n",
       "      <td>-122.176855</td>\n",
       "      <td>#1</td>\n",
       "      <td>outside</td>\n",
<<<<<<< HEAD
       "      <td>4.02</td>\n",
       "      <td>59.0</td>\n",
       "      <td>15.000000</td>\n",
       "      <td>56.0</td>\n",
       "      <td>990.23</td>\n",
=======
       "      <td>0.00</td>\n",
       "      <td>68.0</td>\n",
       "      <td>20.000000</td>\n",
       "      <td>63.0</td>\n",
       "      <td>992.82</td>\n",
>>>>>>> 2c1016514732f2d30bf70ee6926ecef3c8332a76
       "      <td>...</td>\n",
       "      <td>None</td>\n",
       "      <td>None</td>\n",
       "      <td>None</td>\n",
       "      <td>False</td>\n",
<<<<<<< HEAD
       "      <td>4.45</td>\n",
       "      <td>5.15</td>\n",
       "      <td>6.68</td>\n",
       "      <td>9.33</td>\n",
       "      <td>7.23</td>\n",
       "      <td>5.91</td>\n",
=======
       "      <td>0.03</td>\n",
       "      <td>0.03</td>\n",
       "      <td>0.04</td>\n",
       "      <td>1.47</td>\n",
       "      <td>2.18</td>\n",
       "      <td>4.87</td>\n",
>>>>>>> 2c1016514732f2d30bf70ee6926ecef3c8332a76
       "    </tr>\n",
       "    <tr>\n",
       "      <th>...</th>\n",
       "      <td>...</td>\n",
       "      <td>...</td>\n",
       "      <td>...</td>\n",
       "      <td>...</td>\n",
       "      <td>...</td>\n",
       "      <td>...</td>\n",
       "      <td>...</td>\n",
       "      <td>...</td>\n",
       "      <td>...</td>\n",
       "      <td>...</td>\n",
       "      <td>...</td>\n",
       "      <td>...</td>\n",
       "      <td>...</td>\n",
       "      <td>...</td>\n",
       "      <td>...</td>\n",
       "      <td>...</td>\n",
       "      <td>...</td>\n",
       "      <td>...</td>\n",
       "      <td>...</td>\n",
       "      <td>...</td>\n",
       "      <td>...</td>\n",
       "    </tr>\n",
       "    <tr>\n",
       "      <th>64995</th>\n",
       "      <td>None</td>\n",
       "      <td>36.691324</td>\n",
       "      <td>126.585255</td>\n",
       "      <td>한서대학교</td>\n",
       "      <td>outside</td>\n",
<<<<<<< HEAD
       "      <td>21.76</td>\n",
       "      <td>51.0</td>\n",
       "      <td>10.555556</td>\n",
       "      <td>52.0</td>\n",
       "      <td>1009.03</td>\n",
=======
       "      <td>6.80</td>\n",
       "      <td>64.0</td>\n",
       "      <td>17.777778</td>\n",
       "      <td>39.0</td>\n",
       "      <td>1012.04</td>\n",
>>>>>>> 2c1016514732f2d30bf70ee6926ecef3c8332a76
       "      <td>...</td>\n",
       "      <td>None</td>\n",
       "      <td>None</td>\n",
       "      <td>None</td>\n",
       "      <td>False</td>\n",
<<<<<<< HEAD
       "      <td>20.05</td>\n",
       "      <td>20.38</td>\n",
       "      <td>21.04</td>\n",
       "      <td>20.78</td>\n",
       "      <td>14.63</td>\n",
       "      <td>13.97</td>\n",
=======
       "      <td>7.01</td>\n",
       "      <td>7.58</td>\n",
       "      <td>9.51</td>\n",
       "      <td>18.81</td>\n",
       "      <td>24.12</td>\n",
       "      <td>19.29</td>\n",
>>>>>>> 2c1016514732f2d30bf70ee6926ecef3c8332a76
       "    </tr>\n",
       "    <tr>\n",
       "      <th>64093</th>\n",
       "      <td>None</td>\n",
       "      <td>36.710720</td>\n",
       "      <td>126.548390</td>\n",
       "      <td>해미읍성</td>\n",
       "      <td>outside</td>\n",
<<<<<<< HEAD
       "      <td>16.95</td>\n",
       "      <td>49.0</td>\n",
       "      <td>9.444444</td>\n",
       "      <td>55.0</td>\n",
       "      <td>1019.65</td>\n",
=======
       "      <td>6.57</td>\n",
       "      <td>63.0</td>\n",
       "      <td>17.222222</td>\n",
       "      <td>41.0</td>\n",
       "      <td>1022.26</td>\n",
>>>>>>> 2c1016514732f2d30bf70ee6926ecef3c8332a76
       "      <td>...</td>\n",
       "      <td>None</td>\n",
       "      <td>None</td>\n",
       "      <td>None</td>\n",
       "      <td>False</td>\n",
<<<<<<< HEAD
       "      <td>17.03</td>\n",
       "      <td>18.35</td>\n",
       "      <td>19.56</td>\n",
       "      <td>20.98</td>\n",
       "      <td>16.73</td>\n",
       "      <td>14.89</td>\n",
=======
       "      <td>6.08</td>\n",
       "      <td>6.57</td>\n",
       "      <td>8.40</td>\n",
       "      <td>20.03</td>\n",
       "      <td>26.36</td>\n",
       "      <td>20.97</td>\n",
>>>>>>> 2c1016514732f2d30bf70ee6926ecef3c8332a76
       "    </tr>\n",
       "    <tr>\n",
       "      <th>29747</th>\n",
       "      <td>None</td>\n",
       "      <td>36.761236</td>\n",
       "      <td>127.395300</td>\n",
       "      <td>화덕보건진료소</td>\n",
       "      <td>outside</td>\n",
<<<<<<< HEAD
       "      <td>35.98</td>\n",
       "      <td>49.0</td>\n",
       "      <td>9.444444</td>\n",
       "      <td>55.0</td>\n",
       "      <td>1009.15</td>\n",
=======
       "      <td>18.69</td>\n",
       "      <td>53.0</td>\n",
       "      <td>11.666667</td>\n",
       "      <td>53.0</td>\n",
       "      <td>1013.12</td>\n",
>>>>>>> 2c1016514732f2d30bf70ee6926ecef3c8332a76
       "      <td>...</td>\n",
       "      <td>None</td>\n",
       "      <td>None</td>\n",
       "      <td>None</td>\n",
       "      <td>False</td>\n",
<<<<<<< HEAD
       "      <td>36.81</td>\n",
       "      <td>37.45</td>\n",
       "      <td>37.74</td>\n",
       "      <td>36.45</td>\n",
       "      <td>28.47</td>\n",
       "      <td>20.69</td>\n",
=======
       "      <td>19.28</td>\n",
       "      <td>19.85</td>\n",
       "      <td>21.58</td>\n",
       "      <td>27.19</td>\n",
       "      <td>36.81</td>\n",
       "      <td>30.99</td>\n",
>>>>>>> 2c1016514732f2d30bf70ee6926ecef3c8332a76
       "    </tr>\n",
       "    <tr>\n",
       "      <th>98309</th>\n",
       "      <td>None</td>\n",
       "      <td>36.718003</td>\n",
       "      <td>126.926841</td>\n",
       "      <td>화천1리마을회관</td>\n",
       "      <td>outside</td>\n",
<<<<<<< HEAD
       "      <td>29.89</td>\n",
       "      <td>50.0</td>\n",
       "      <td>10.000000</td>\n",
       "      <td>52.0</td>\n",
       "      <td>1014.84</td>\n",
=======
       "      <td>7.75</td>\n",
       "      <td>56.0</td>\n",
       "      <td>13.333333</td>\n",
       "      <td>51.0</td>\n",
       "      <td>1018.34</td>\n",
>>>>>>> 2c1016514732f2d30bf70ee6926ecef3c8332a76
       "      <td>...</td>\n",
       "      <td>None</td>\n",
       "      <td>None</td>\n",
       "      <td>None</td>\n",
       "      <td>False</td>\n",
<<<<<<< HEAD
       "      <td>27.90</td>\n",
       "      <td>28.86</td>\n",
       "      <td>29.35</td>\n",
       "      <td>27.68</td>\n",
       "      <td>22.68</td>\n",
       "      <td>17.43</td>\n",
=======
       "      <td>6.30</td>\n",
       "      <td>6.19</td>\n",
       "      <td>7.75</td>\n",
       "      <td>23.40</td>\n",
       "      <td>31.79</td>\n",
       "      <td>25.29</td>\n",
>>>>>>> 2c1016514732f2d30bf70ee6926ecef3c8332a76
       "    </tr>\n",
       "    <tr>\n",
       "      <th>20</th>\n",
       "      <td>None</td>\n",
       "      <td>40.603078</td>\n",
       "      <td>-111.836119</td>\n",
       "      <td>Oakdale</td>\n",
       "      <td>None</td>\n",
       "      <td>0.00</td>\n",
       "      <td>NaN</td>\n",
       "      <td>NaN</td>\n",
       "      <td>NaN</td>\n",
       "      <td>NaN</td>\n",
       "      <td>...</td>\n",
       "      <td>None</td>\n",
       "      <td>None</td>\n",
       "      <td>None</td>\n",
       "      <td>False</td>\n",
       "      <td>0.00</td>\n",
       "      <td>0.00</td>\n",
       "      <td>0.00</td>\n",
       "      <td>0.00</td>\n",
       "      <td>0.00</td>\n",
       "      <td>0.00</td>\n",
       "    </tr>\n",
       "  </tbody>\n",
       "</table>\n",
<<<<<<< HEAD
       "<p>23100 rows × 43 columns</p>\n",
=======
       "<p>22921 rows × 43 columns</p>\n",
>>>>>>> 2c1016514732f2d30bf70ee6926ecef3c8332a76
       "</div>"
      ],
      "text/plain": [
       "       parent        lat         lon                          name  \\\n",
       "id                                                                   \n",
       "14633    None  37.275561 -121.964134             Hazelwood canary    \n",
       "25999    None  30.053808  -95.494643   Villages of Bridgestone AQI   \n",
       "14091    None  37.883620 -122.070087                   WC Hillside   \n",
       "108226   None  38.573703 -121.439113        \"C\" Street Air Shelter   \n",
       "42073    None  47.185173 -122.176855                            #1   \n",
       "...       ...        ...         ...                           ...   \n",
       "64995    None  36.691324  126.585255                         한서대학교   \n",
       "64093    None  36.710720  126.548390                          해미읍성   \n",
       "29747    None  36.761236  127.395300                       화덕보건진료소   \n",
       "98309    None  36.718003  126.926841                      화천1리마을회관   \n",
       "20       None  40.603078 -111.836119                       Oakdale   \n",
       "\n",
       "       location_type  pm_2.5  temp_f     temp_c  humidity  pressure  ...  \\\n",
       "id                                                                   ...   \n",
<<<<<<< HEAD
       "14633        outside    1.03    71.0  21.666667      34.0   1009.74  ...   \n",
       "25999        outside    9.54    91.0  32.777778      41.0   1014.02  ...   \n",
       "14091        outside    3.47    64.0  17.777778      45.0   1004.61  ...   \n",
       "108226        inside    1.20    74.0  23.333333      31.0   1017.90  ...   \n",
       "42073        outside    4.02    59.0  15.000000      56.0    990.23  ...   \n",
       "...              ...     ...     ...        ...       ...       ...  ...   \n",
       "64995        outside   21.76    51.0  10.555556      52.0   1009.03  ...   \n",
       "64093        outside   16.95    49.0   9.444444      55.0   1019.65  ...   \n",
       "29747        outside   35.98    49.0   9.444444      55.0   1009.15  ...   \n",
       "98309        outside   29.89    50.0  10.000000      52.0   1014.84  ...   \n",
=======
       "14633        outside    4.49    88.0  31.111111      31.0   1011.66  ...   \n",
       "25999        outside    0.00    80.0  26.666667      19.0   1004.42  ...   \n",
       "14091        outside    2.81    78.0  25.555556      40.0   1007.04  ...   \n",
       "108226        inside    2.43    77.0  25.000000      42.0   1019.95  ...   \n",
       "42073        outside    0.00    68.0  20.000000      63.0    992.82  ...   \n",
       "...              ...     ...     ...        ...       ...       ...  ...   \n",
       "64995        outside    6.80    64.0  17.777778      39.0   1012.04  ...   \n",
       "64093        outside    6.57    63.0  17.222222      41.0   1022.26  ...   \n",
       "29747        outside   18.69    53.0  11.666667      53.0   1013.12  ...   \n",
       "98309        outside    7.75    56.0  13.333333      51.0   1018.34  ...   \n",
>>>>>>> 2c1016514732f2d30bf70ee6926ecef3c8332a76
       "20              None    0.00     NaN        NaN       NaN       NaN  ...   \n",
       "\n",
       "       last_update_check created uptime is_owner 10min_avg 30min_avg  \\\n",
       "id                                                                     \n",
<<<<<<< HEAD
       "14633               None    None   None    False      1.30      1.87   \n",
       "25999               None    None   None    False      8.41      8.15   \n",
       "14091               None    None   None    False      2.86      2.29   \n",
       "108226              None    None   None    False      1.40      1.53   \n",
       "42073               None    None   None    False      4.45      5.15   \n",
       "...                  ...     ...    ...      ...       ...       ...   \n",
       "64995               None    None   None    False     20.05     20.38   \n",
       "64093               None    None   None    False     17.03     18.35   \n",
       "29747               None    None   None    False     36.81     37.45   \n",
       "98309               None    None   None    False     27.90     28.86   \n",
=======
       "14633               None    None   None    False      4.49      3.83   \n",
       "25999               None    None   None    False      0.06      0.07   \n",
       "14091               None    None   None    False      2.94      2.72   \n",
       "108226              None    None   None    False      1.92      1.68   \n",
       "42073               None    None   None    False      0.03      0.03   \n",
       "...                  ...     ...    ...      ...       ...       ...   \n",
       "64995               None    None   None    False      7.01      7.58   \n",
       "64093               None    None   None    False      6.08      6.57   \n",
       "29747               None    None   None    False     19.28     19.85   \n",
       "98309               None    None   None    False      6.30      6.19   \n",
>>>>>>> 2c1016514732f2d30bf70ee6926ecef3c8332a76
       "20                  None    None   None    False      0.00      0.00   \n",
       "\n",
       "       1hour_avg 6hour_avg 1day_avg 1week_avg  \n",
       "id                                             \n",
<<<<<<< HEAD
       "14633       1.90      1.21     1.44      4.13  \n",
       "25999       9.06     14.00    12.98     13.16  \n",
       "14091       1.95      1.99     3.56      5.84  \n",
       "108226      1.66      1.63     2.38      3.53  \n",
       "42073       6.68      9.33     7.23      5.91  \n",
       "...          ...       ...      ...       ...  \n",
       "64995      21.04     20.78    14.63     13.97  \n",
       "64093      19.56     20.98    16.73     14.89  \n",
       "29747      37.74     36.45    28.47     20.69  \n",
       "98309      29.35     27.68    22.68     17.43  \n",
       "20          0.00      0.00     0.00      0.00  \n",
       "\n",
       "[23100 rows x 43 columns]"
      ]
     },
     "execution_count": 14,
=======
       "14633       3.25      2.14     1.51      2.59  \n",
       "25999       0.09      0.80     3.99     10.70  \n",
       "14091       2.50      1.77     1.66      4.21  \n",
       "108226      1.36      1.27     1.86      2.81  \n",
       "42073       0.04      1.47     2.18      4.87  \n",
       "...          ...       ...      ...       ...  \n",
       "64995       9.51     18.81    24.12     19.29  \n",
       "64093       8.40     20.03    26.36     20.97  \n",
       "29747      21.58     27.19    36.81     30.99  \n",
       "98309       7.75     23.40    31.79     25.29  \n",
       "20          0.00      0.00     0.00      0.00  \n",
       "\n",
       "[22921 rows x 43 columns]"
      ]
     },
     "execution_count": 8,
>>>>>>> 2c1016514732f2d30bf70ee6926ecef3c8332a76
     "metadata": {},
     "output_type": "execute_result"
    }
   ],
   "source": [
    "df"
   ]
  },
  {
   "cell_type": "markdown",
   "metadata": {
    "cell_id": "00046-a88d12cb-677a-406b-aa64-0bd867aa8b44",
    "deepnote_cell_type": "markdown",
    "tags": []
   },
   "source": [
    "Here is a breakdown of the dataframe above and what each column represents. \n",
    "\n",
    "`lat`: The latitude coordinate of the location\n",
    "\n",
    "`lon`: The longitude coordinate of the location\n",
    "\n",
    "`name`: The name of the location\n",
    "\n",
    "`location_type`: The nature of the location (ie. inside or outside)\n",
    "\n",
    "`pm_2.5`: The level of fine particulate matter in the air of that location\n",
    "\n",
    "`temp_f`: The temperature of the location in degrees Farenheit \n",
    "\n",
    "`temp_c`: The temperature of the location in degrees Celsius \n",
    "\n",
    "`humidity`: The humidity percentage of the location\n",
    "\n",
    "`pressure`: The pressure index of the location (in millibars)\n",
    "\n",
    "`last_seen`: The last seen date and timestamp in UTC\n",
    "\n",
    "`model`: Model of the specific sensor\n",
    "\n",
    "`flagged`: Whether or not the channel was marked as flagged (usually based on a fault)\n",
    "\n",
    "`age`: Sensor data age (when data was last received)\n",
    "\n",
    "`10min_avg`: Average PM 2.5 AQI over the last 10 minutes \n",
    "\n",
    "`30min_avg`: Average PM 2.5 AQI over the last 30 minutes\n",
    "\n",
    "`1hour_avg`: Average PM 2.5 AQI over the last hour\n",
    "\n",
    "`6hour_avg`: Average PM 2.5 AQI over the last 6 hours\n",
    "\n",
    "`1day_avg`: Average PM 2.5 AQI over the last day \n",
    "\n",
    "`1week_avg`: Average PM 2.5 AQI over the last week\n"
   ]
  },
  {
   "cell_type": "markdown",
   "metadata": {
    "cell_id": "00047-78fa6b42-4413-4afa-9761-083a5da56d5e",
    "deepnote_cell_type": "markdown",
    "tags": []
   },
   "source": [
    "<br>\n",
    "\n",
    "### Airborne Particulate Matter (PM) 2.5 \n",
    "While many of the column names are relatively straightforward, such as the \"name\" column (which displays the set name of the particular sensor), the \"location_type\" column (which indicates where it is an indoor or outdoor sensor), etc., we would like to draw your attention to the \"pm_2.5\" column. \n",
    "\n",
    ">The \"pm_2.5\" column represents the count of airborne pm that is larger than 2.5um/dl, in otherwords, airborne particles that have a diameter of 2.5 micrometers or less. In high levels, PM 2.5 particles can reduce visibility and cause the air to appear hazy. Tracking PM 2.5 is important because prolonged exposure to high levels of PM 2.5 particles can cause adverse US Environmental Protection Agency (EPA) use to calculate the local Air Quality Index (AQI)."
   ]
  },
  {
   "cell_type": "markdown",
   "metadata": {
    "cell_id": "00048-f98553a1-3ba9-4feb-9bb9-55c8e4e65a9d",
    "deepnote_cell_type": "markdown",
    "tags": []
   },
   "source": [
    "**Run the cells below to take a look at PM 2.5 levels of a specific sensor over time!**"
   ]
  },
  {
   "cell_type": "markdown",
   "metadata": {
    "cell_id": "00049-2814dfe5-4749-4020-8109-a43028c4930a",
    "deepnote_cell_type": "markdown",
    "tags": []
   },
   "source": [
    "If you go to the PurpleAir website [here](https://map.purpleair.com/1/mAQI/a10/p604800/cC0#14.52/30.28196/-97.73198), it should navigate you to a map of the surrounding University of Texas area. If you click on the sensor currently located in the DKR Texas Memorial Stadium, you'll find that the name of that particular sensor is \"PA_II_D8B6\". \n",
    "\n",
    "Let's take a closer look at the UT Stadium Sensor! In the code cell below we will filter the dataframe by the sensor name (\"PA_II_D8B6\") to pick out the row that corresponds to the specific sensor we are looking for. \n",
    "\n",
    "**Run the cell below!**"
   ]
  },
  {
   "cell_type": "code",
<<<<<<< HEAD
   "execution_count": 15,
=======
   "execution_count": 9,
>>>>>>> 2c1016514732f2d30bf70ee6926ecef3c8332a76
   "metadata": {
    "cell_id": "00050-3b3b4ab4-1dd4-49a9-91e8-31d10863375b",
    "deepnote_cell_type": "code",
    "deepnote_to_be_reexecuted": false,
    "execution_millis": 27,
    "execution_start": 1634304957570,
    "source_hash": "18fdfec8",
    "tags": []
   },
   "outputs": [
    {
     "data": {
      "text/html": [
       "<div>\n",
       "<style scoped>\n",
       "    .dataframe tbody tr th:only-of-type {\n",
       "        vertical-align: middle;\n",
       "    }\n",
       "\n",
       "    .dataframe tbody tr th {\n",
       "        vertical-align: top;\n",
       "    }\n",
       "\n",
       "    .dataframe thead th {\n",
       "        text-align: right;\n",
       "    }\n",
       "</style>\n",
       "<table border=\"1\" class=\"dataframe\">\n",
       "  <thead>\n",
       "    <tr style=\"text-align: right;\">\n",
       "      <th></th>\n",
       "      <th>parent</th>\n",
       "      <th>lat</th>\n",
       "      <th>lon</th>\n",
       "      <th>name</th>\n",
       "      <th>location_type</th>\n",
       "      <th>pm_2.5</th>\n",
       "      <th>temp_f</th>\n",
       "      <th>temp_c</th>\n",
       "      <th>humidity</th>\n",
       "      <th>pressure</th>\n",
       "      <th>...</th>\n",
       "      <th>last_update_check</th>\n",
       "      <th>created</th>\n",
       "      <th>uptime</th>\n",
       "      <th>is_owner</th>\n",
       "      <th>10min_avg</th>\n",
       "      <th>30min_avg</th>\n",
       "      <th>1hour_avg</th>\n",
       "      <th>6hour_avg</th>\n",
       "      <th>1day_avg</th>\n",
       "      <th>1week_avg</th>\n",
       "    </tr>\n",
       "    <tr>\n",
       "      <th>id</th>\n",
       "      <th></th>\n",
       "      <th></th>\n",
       "      <th></th>\n",
       "      <th></th>\n",
       "      <th></th>\n",
       "      <th></th>\n",
       "      <th></th>\n",
       "      <th></th>\n",
       "      <th></th>\n",
       "      <th></th>\n",
       "      <th></th>\n",
       "      <th></th>\n",
       "      <th></th>\n",
       "      <th></th>\n",
       "      <th></th>\n",
       "      <th></th>\n",
       "      <th></th>\n",
       "      <th></th>\n",
       "      <th></th>\n",
       "      <th></th>\n",
       "      <th></th>\n",
       "    </tr>\n",
       "  </thead>\n",
       "  <tbody>\n",
       "    <tr>\n",
       "      <th>27395</th>\n",
       "      <td>None</td>\n",
       "      <td>30.285069</td>\n",
       "      <td>-97.732877</td>\n",
       "      <td>PA_II_D8B6</td>\n",
       "      <td>outside</td>\n",
<<<<<<< HEAD
       "      <td>4.18</td>\n",
       "      <td>84.0</td>\n",
       "      <td>28.888889</td>\n",
       "      <td>44.0</td>\n",
       "      <td>997.62</td>\n",
=======
       "      <td>1.0</td>\n",
       "      <td>80.0</td>\n",
       "      <td>26.666667</td>\n",
       "      <td>19.0</td>\n",
       "      <td>992.66</td>\n",
>>>>>>> 2c1016514732f2d30bf70ee6926ecef3c8332a76
       "      <td>...</td>\n",
       "      <td>None</td>\n",
       "      <td>None</td>\n",
       "      <td>None</td>\n",
       "      <td>False</td>\n",
<<<<<<< HEAD
       "      <td>4.35</td>\n",
       "      <td>5.23</td>\n",
       "      <td>7.05</td>\n",
       "      <td>8.49</td>\n",
       "      <td>7.53</td>\n",
       "      <td>9.27</td>\n",
=======
       "      <td>0.38</td>\n",
       "      <td>0.31</td>\n",
       "      <td>0.26</td>\n",
       "      <td>0.81</td>\n",
       "      <td>4.97</td>\n",
       "      <td>8.9</td>\n",
>>>>>>> 2c1016514732f2d30bf70ee6926ecef3c8332a76
       "    </tr>\n",
       "  </tbody>\n",
       "</table>\n",
       "<p>1 rows × 43 columns</p>\n",
       "</div>"
      ],
      "text/plain": [
       "      parent        lat        lon        name location_type  pm_2.5  temp_f  \\\n",
       "id                                                                             \n",
<<<<<<< HEAD
       "27395   None  30.285069 -97.732877  PA_II_D8B6       outside    4.18    84.0   \n",
       "\n",
       "          temp_c  humidity  pressure  ... last_update_check created uptime  \\\n",
       "id                                    ...                                    \n",
       "27395  28.888889      44.0    997.62  ...              None    None   None   \n",
       "\n",
       "      is_owner 10min_avg 30min_avg 1hour_avg 6hour_avg 1day_avg 1week_avg  \n",
       "id                                                                         \n",
       "27395    False      4.35      5.23      7.05      8.49     7.53      9.27  \n",
=======
       "27395   None  30.285069 -97.732877  PA_II_D8B6       outside     1.0    80.0   \n",
       "\n",
       "          temp_c  humidity  pressure  ... last_update_check created uptime  \\\n",
       "id                                    ...                                    \n",
       "27395  26.666667      19.0    992.66  ...              None    None   None   \n",
       "\n",
       "      is_owner 10min_avg 30min_avg 1hour_avg 6hour_avg 1day_avg 1week_avg  \n",
       "id                                                                         \n",
       "27395    False      0.38      0.31      0.26      0.81     4.97       8.9  \n",
>>>>>>> 2c1016514732f2d30bf70ee6926ecef3c8332a76
       "\n",
       "[1 rows x 43 columns]"
      ]
     },
<<<<<<< HEAD
     "execution_count": 15,
=======
     "execution_count": 9,
>>>>>>> 2c1016514732f2d30bf70ee6926ecef3c8332a76
     "metadata": {},
     "output_type": "execute_result"
    }
   ],
   "source": [
    "df[df['name'] == \"PA_II_D8B6\"]"
   ]
  },
  {
   "cell_type": "markdown",
   "metadata": {
    "cell_id": "00051-6d44c3ed-66bc-4c21-9b65-74b9d58acb04",
    "deepnote_cell_type": "markdown",
    "tags": []
   },
   "source": [
    "<br>\n",
    "\n",
    "The row above gives us loads of information on the state of the AQI in the UT Stadium at the present moment, but it would be nice to see the AQI information over time. In the cell below, we create a dataframe that contains information about the UT Stadium sensor roughly over the last 7 days. \n",
    "\n",
    "**Run the cell below to output the dataframe!**"
   ]
  },
  {
   "cell_type": "code",
<<<<<<< HEAD
   "execution_count": 16,
=======
   "execution_count": 10,
>>>>>>> 2c1016514732f2d30bf70ee6926ecef3c8332a76
   "metadata": {
    "cell_id": "00052-aefb4a86-4765-41b7-b542-0ef485a66c4b",
    "deepnote_cell_type": "code",
    "deepnote_to_be_reexecuted": false,
    "execution_millis": 1487,
    "execution_start": 1634304957599,
    "source_hash": "4537611e",
    "tags": []
   },
   "outputs": [
    {
     "data": {
      "text/html": [
       "<div>\n",
       "<style scoped>\n",
       "    .dataframe tbody tr th:only-of-type {\n",
       "        vertical-align: middle;\n",
       "    }\n",
       "\n",
       "    .dataframe tbody tr th {\n",
       "        vertical-align: top;\n",
       "    }\n",
       "\n",
       "    .dataframe thead th {\n",
       "        text-align: right;\n",
       "    }\n",
       "</style>\n",
       "<table border=\"1\" class=\"dataframe\">\n",
       "  <thead>\n",
       "    <tr style=\"text-align: right;\">\n",
       "      <th></th>\n",
       "      <th>created_at</th>\n",
       "      <th>0.3um/dl</th>\n",
       "      <th>0.5um/dl</th>\n",
       "      <th>1.0um/dl</th>\n",
       "      <th>2.5um/dl</th>\n",
       "      <th>5.0um/dl</th>\n",
       "      <th>10.0um/dl</th>\n",
       "      <th>PM1.0 (CF=ATM) ug/m3</th>\n",
       "      <th>PM10 (CF=ATM) ug/m3</th>\n",
       "      <th>Date</th>\n",
       "    </tr>\n",
       "    <tr>\n",
       "      <th>entry_id</th>\n",
       "      <th></th>\n",
       "      <th></th>\n",
       "      <th></th>\n",
       "      <th></th>\n",
       "      <th></th>\n",
       "      <th></th>\n",
       "      <th></th>\n",
       "      <th></th>\n",
       "      <th></th>\n",
       "      <th></th>\n",
       "    </tr>\n",
       "  </thead>\n",
       "  <tbody>\n",
       "    <tr>\n",
<<<<<<< HEAD
       "      <td>524765</td>\n",
       "      <td>2021-10-12 00:01:33+00:00</td>\n",
       "      <td>859.86</td>\n",
       "      <td>244.74</td>\n",
       "      <td>60.55</td>\n",
       "      <td>6.79</td>\n",
       "      <td>1.97</td>\n",
       "      <td>0.34</td>\n",
       "      <td>3.45</td>\n",
       "      <td>9.40</td>\n",
       "      <td>12-Oct-2021</td>\n",
       "    </tr>\n",
       "    <tr>\n",
       "      <td>524766</td>\n",
       "      <td>2021-10-12 00:03:32+00:00</td>\n",
       "      <td>551.14</td>\n",
       "      <td>154.96</td>\n",
       "      <td>25.11</td>\n",
       "      <td>3.14</td>\n",
       "      <td>1.36</td>\n",
       "      <td>0.39</td>\n",
       "      <td>1.98</td>\n",
       "      <td>4.39</td>\n",
       "      <td>12-Oct-2021</td>\n",
       "    </tr>\n",
       "    <tr>\n",
       "      <td>524767</td>\n",
       "      <td>2021-10-12 00:05:34+00:00</td>\n",
       "      <td>389.95</td>\n",
       "      <td>109.79</td>\n",
       "      <td>18.34</td>\n",
       "      <td>1.62</td>\n",
       "      <td>0.48</td>\n",
       "      <td>0.00</td>\n",
       "      <td>1.34</td>\n",
       "      <td>2.59</td>\n",
       "      <td>12-Oct-2021</td>\n",
       "    </tr>\n",
       "    <tr>\n",
       "      <td>524768</td>\n",
       "      <td>2021-10-12 00:07:30+00:00</td>\n",
       "      <td>383.59</td>\n",
       "      <td>107.19</td>\n",
       "      <td>20.24</td>\n",
       "      <td>1.22</td>\n",
       "      <td>0.85</td>\n",
       "      <td>0.00</td>\n",
       "      <td>1.10</td>\n",
       "      <td>2.64</td>\n",
       "      <td>12-Oct-2021</td>\n",
       "    </tr>\n",
       "    <tr>\n",
       "      <td>524769</td>\n",
       "      <td>2021-10-12 00:09:31+00:00</td>\n",
       "      <td>370.60</td>\n",
       "      <td>102.40</td>\n",
       "      <td>14.48</td>\n",
       "      <td>1.03</td>\n",
       "      <td>0.00</td>\n",
       "      <td>0.00</td>\n",
       "      <td>0.95</td>\n",
       "      <td>1.91</td>\n",
       "      <td>12-Oct-2021</td>\n",
=======
       "      <th>530452</th>\n",
       "      <td>2021-10-21 00:00:32+00:00</td>\n",
       "      <td>1526.00</td>\n",
       "      <td>421.70</td>\n",
       "      <td>47.65</td>\n",
       "      <td>3.96</td>\n",
       "      <td>0.07</td>\n",
       "      <td>0.00</td>\n",
       "      <td>7.63</td>\n",
       "      <td>10.65</td>\n",
       "      <td>21-Oct-2021</td>\n",
       "    </tr>\n",
       "    <tr>\n",
       "      <th>530453</th>\n",
       "      <td>2021-10-21 00:02:31+00:00</td>\n",
       "      <td>1531.85</td>\n",
       "      <td>418.62</td>\n",
       "      <td>42.80</td>\n",
       "      <td>2.37</td>\n",
       "      <td>1.23</td>\n",
       "      <td>0.00</td>\n",
       "      <td>7.63</td>\n",
       "      <td>10.05</td>\n",
       "      <td>21-Oct-2021</td>\n",
       "    </tr>\n",
       "    <tr>\n",
       "      <th>530454</th>\n",
       "      <td>2021-10-21 00:04:27+00:00</td>\n",
       "      <td>1549.58</td>\n",
       "      <td>417.63</td>\n",
       "      <td>57.47</td>\n",
       "      <td>4.46</td>\n",
       "      <td>0.95</td>\n",
       "      <td>0.46</td>\n",
       "      <td>7.28</td>\n",
       "      <td>11.49</td>\n",
       "      <td>21-Oct-2021</td>\n",
       "    </tr>\n",
       "    <tr>\n",
       "      <th>530455</th>\n",
       "      <td>2021-10-21 00:06:28+00:00</td>\n",
       "      <td>1593.75</td>\n",
       "      <td>436.30</td>\n",
       "      <td>52.82</td>\n",
       "      <td>3.54</td>\n",
       "      <td>1.14</td>\n",
       "      <td>0.29</td>\n",
       "      <td>7.59</td>\n",
       "      <td>11.41</td>\n",
       "      <td>21-Oct-2021</td>\n",
       "    </tr>\n",
       "    <tr>\n",
       "      <th>530456</th>\n",
       "      <td>2021-10-21 00:08:31+00:00</td>\n",
       "      <td>1493.37</td>\n",
       "      <td>386.25</td>\n",
       "      <td>38.49</td>\n",
       "      <td>2.74</td>\n",
       "      <td>1.23</td>\n",
       "      <td>0.39</td>\n",
       "      <td>6.74</td>\n",
       "      <td>9.47</td>\n",
       "      <td>21-Oct-2021</td>\n",
>>>>>>> 2c1016514732f2d30bf70ee6926ecef3c8332a76
       "    </tr>\n",
       "    <tr>\n",
       "      <th>...</th>\n",
       "      <td>...</td>\n",
       "      <td>...</td>\n",
       "      <td>...</td>\n",
       "      <td>...</td>\n",
       "      <td>...</td>\n",
       "      <td>...</td>\n",
       "      <td>...</td>\n",
       "      <td>...</td>\n",
       "      <td>...</td>\n",
       "      <td>...</td>\n",
       "    </tr>\n",
       "    <tr>\n",
<<<<<<< HEAD
       "      <td>529222</td>\n",
       "      <td>2021-10-18 23:48:09+00:00</td>\n",
       "      <td>798.47</td>\n",
       "      <td>221.29</td>\n",
       "      <td>28.10</td>\n",
       "      <td>1.14</td>\n",
       "      <td>0.00</td>\n",
       "      <td>0.00</td>\n",
       "      <td>3.50</td>\n",
       "      <td>5.17</td>\n",
       "      <td>18-Oct-2021</td>\n",
       "    </tr>\n",
       "    <tr>\n",
       "      <td>529223</td>\n",
       "      <td>2021-10-18 23:50:09+00:00</td>\n",
       "      <td>803.53</td>\n",
       "      <td>220.28</td>\n",
       "      <td>28.07</td>\n",
       "      <td>2.72</td>\n",
       "      <td>0.10</td>\n",
       "      <td>0.00</td>\n",
       "      <td>3.36</td>\n",
       "      <td>5.47</td>\n",
       "      <td>18-Oct-2021</td>\n",
       "    </tr>\n",
       "    <tr>\n",
       "      <td>529224</td>\n",
       "      <td>2021-10-18 23:54:12+00:00</td>\n",
       "      <td>677.46</td>\n",
       "      <td>185.32</td>\n",
       "      <td>24.86</td>\n",
       "      <td>0.96</td>\n",
       "      <td>0.00</td>\n",
       "      <td>0.00</td>\n",
       "      <td>2.89</td>\n",
       "      <td>3.82</td>\n",
       "      <td>18-Oct-2021</td>\n",
       "    </tr>\n",
       "    <tr>\n",
       "      <td>529225</td>\n",
       "      <td>2021-10-18 23:56:07+00:00</td>\n",
       "      <td>699.00</td>\n",
       "      <td>189.59</td>\n",
       "      <td>22.88</td>\n",
       "      <td>1.42</td>\n",
       "      <td>0.95</td>\n",
       "      <td>0.95</td>\n",
       "      <td>2.85</td>\n",
       "      <td>4.61</td>\n",
       "      <td>18-Oct-2021</td>\n",
       "    </tr>\n",
       "    <tr>\n",
       "      <td>529226</td>\n",
       "      <td>2021-10-18 23:58:20+00:00</td>\n",
       "      <td>828.72</td>\n",
       "      <td>233.62</td>\n",
       "      <td>26.69</td>\n",
       "      <td>2.76</td>\n",
       "      <td>0.59</td>\n",
       "      <td>0.00</td>\n",
       "      <td>3.95</td>\n",
       "      <td>5.76</td>\n",
       "      <td>18-Oct-2021</td>\n",
       "    </tr>\n",
       "  </tbody>\n",
       "</table>\n",
       "<p>4462 rows × 10 columns</p>\n",
=======
       "      <th>535485</th>\n",
       "      <td>2021-10-27 23:51:59+00:00</td>\n",
       "      <td>58.42</td>\n",
       "      <td>16.60</td>\n",
       "      <td>5.19</td>\n",
       "      <td>0.00</td>\n",
       "      <td>0.00</td>\n",
       "      <td>0.00</td>\n",
       "      <td>0.00</td>\n",
       "      <td>0.00</td>\n",
       "      <td>27-Oct-2021</td>\n",
       "    </tr>\n",
       "    <tr>\n",
       "      <th>535486</th>\n",
       "      <td>2021-10-27 23:54:00+00:00</td>\n",
       "      <td>74.62</td>\n",
       "      <td>19.31</td>\n",
       "      <td>2.95</td>\n",
       "      <td>0.51</td>\n",
       "      <td>0.51</td>\n",
       "      <td>0.00</td>\n",
       "      <td>0.00</td>\n",
       "      <td>0.25</td>\n",
       "      <td>27-Oct-2021</td>\n",
       "    </tr>\n",
       "    <tr>\n",
       "      <th>535487</th>\n",
       "      <td>2021-10-27 23:55:57+00:00</td>\n",
       "      <td>67.14</td>\n",
       "      <td>20.03</td>\n",
       "      <td>6.28</td>\n",
       "      <td>1.34</td>\n",
       "      <td>0.48</td>\n",
       "      <td>0.00</td>\n",
       "      <td>0.00</td>\n",
       "      <td>0.34</td>\n",
       "      <td>27-Oct-2021</td>\n",
       "    </tr>\n",
       "    <tr>\n",
       "      <th>535488</th>\n",
       "      <td>2021-10-27 23:57:57+00:00</td>\n",
       "      <td>46.66</td>\n",
       "      <td>13.90</td>\n",
       "      <td>4.59</td>\n",
       "      <td>0.83</td>\n",
       "      <td>0.17</td>\n",
       "      <td>0.17</td>\n",
       "      <td>0.00</td>\n",
       "      <td>0.10</td>\n",
       "      <td>27-Oct-2021</td>\n",
       "    </tr>\n",
       "    <tr>\n",
       "      <th>535489</th>\n",
       "      <td>2021-10-27 23:59:55+00:00</td>\n",
       "      <td>110.70</td>\n",
       "      <td>29.57</td>\n",
       "      <td>2.23</td>\n",
       "      <td>0.80</td>\n",
       "      <td>0.30</td>\n",
       "      <td>0.30</td>\n",
       "      <td>0.17</td>\n",
       "      <td>0.38</td>\n",
       "      <td>27-Oct-2021</td>\n",
       "    </tr>\n",
       "  </tbody>\n",
       "</table>\n",
       "<p>5038 rows × 10 columns</p>\n",
>>>>>>> 2c1016514732f2d30bf70ee6926ecef3c8332a76
       "</div>"
      ],
      "text/plain": [
       "                        created_at  0.3um/dl  0.5um/dl  1.0um/dl  2.5um/dl  \\\n",
       "entry_id                                                                     \n",
<<<<<<< HEAD
       "524765   2021-10-12 00:01:33+00:00    859.86    244.74     60.55      6.79   \n",
       "524766   2021-10-12 00:03:32+00:00    551.14    154.96     25.11      3.14   \n",
       "524767   2021-10-12 00:05:34+00:00    389.95    109.79     18.34      1.62   \n",
       "524768   2021-10-12 00:07:30+00:00    383.59    107.19     20.24      1.22   \n",
       "524769   2021-10-12 00:09:31+00:00    370.60    102.40     14.48      1.03   \n",
       "...                            ...       ...       ...       ...       ...   \n",
       "529222   2021-10-18 23:48:09+00:00    798.47    221.29     28.10      1.14   \n",
       "529223   2021-10-18 23:50:09+00:00    803.53    220.28     28.07      2.72   \n",
       "529224   2021-10-18 23:54:12+00:00    677.46    185.32     24.86      0.96   \n",
       "529225   2021-10-18 23:56:07+00:00    699.00    189.59     22.88      1.42   \n",
       "529226   2021-10-18 23:58:20+00:00    828.72    233.62     26.69      2.76   \n",
       "\n",
       "          5.0um/dl  10.0um/dl  PM1.0 (CF=ATM) ug/m3  PM10 (CF=ATM) ug/m3  \\\n",
       "entry_id                                                                   \n",
       "524765        1.97       0.34                  3.45                 9.40   \n",
       "524766        1.36       0.39                  1.98                 4.39   \n",
       "524767        0.48       0.00                  1.34                 2.59   \n",
       "524768        0.85       0.00                  1.10                 2.64   \n",
       "524769        0.00       0.00                  0.95                 1.91   \n",
       "...            ...        ...                   ...                  ...   \n",
       "529222        0.00       0.00                  3.50                 5.17   \n",
       "529223        0.10       0.00                  3.36                 5.47   \n",
       "529224        0.00       0.00                  2.89                 3.82   \n",
       "529225        0.95       0.95                  2.85                 4.61   \n",
       "529226        0.59       0.00                  3.95                 5.76   \n",
       "\n",
       "                 Date  \n",
       "entry_id               \n",
       "524765    12-Oct-2021  \n",
       "524766    12-Oct-2021  \n",
       "524767    12-Oct-2021  \n",
       "524768    12-Oct-2021  \n",
       "524769    12-Oct-2021  \n",
       "...               ...  \n",
       "529222    18-Oct-2021  \n",
       "529223    18-Oct-2021  \n",
       "529224    18-Oct-2021  \n",
       "529225    18-Oct-2021  \n",
       "529226    18-Oct-2021  \n",
       "\n",
       "[4462 rows x 10 columns]"
      ]
     },
     "execution_count": 16,
=======
       "530452   2021-10-21 00:00:32+00:00   1526.00    421.70     47.65      3.96   \n",
       "530453   2021-10-21 00:02:31+00:00   1531.85    418.62     42.80      2.37   \n",
       "530454   2021-10-21 00:04:27+00:00   1549.58    417.63     57.47      4.46   \n",
       "530455   2021-10-21 00:06:28+00:00   1593.75    436.30     52.82      3.54   \n",
       "530456   2021-10-21 00:08:31+00:00   1493.37    386.25     38.49      2.74   \n",
       "...                            ...       ...       ...       ...       ...   \n",
       "535485   2021-10-27 23:51:59+00:00     58.42     16.60      5.19      0.00   \n",
       "535486   2021-10-27 23:54:00+00:00     74.62     19.31      2.95      0.51   \n",
       "535487   2021-10-27 23:55:57+00:00     67.14     20.03      6.28      1.34   \n",
       "535488   2021-10-27 23:57:57+00:00     46.66     13.90      4.59      0.83   \n",
       "535489   2021-10-27 23:59:55+00:00    110.70     29.57      2.23      0.80   \n",
       "\n",
       "          5.0um/dl  10.0um/dl  PM1.0 (CF=ATM) ug/m3  PM10 (CF=ATM) ug/m3  \\\n",
       "entry_id                                                                   \n",
       "530452        0.07       0.00                  7.63                10.65   \n",
       "530453        1.23       0.00                  7.63                10.05   \n",
       "530454        0.95       0.46                  7.28                11.49   \n",
       "530455        1.14       0.29                  7.59                11.41   \n",
       "530456        1.23       0.39                  6.74                 9.47   \n",
       "...            ...        ...                   ...                  ...   \n",
       "535485        0.00       0.00                  0.00                 0.00   \n",
       "535486        0.51       0.00                  0.00                 0.25   \n",
       "535487        0.48       0.00                  0.00                 0.34   \n",
       "535488        0.17       0.17                  0.00                 0.10   \n",
       "535489        0.30       0.30                  0.17                 0.38   \n",
       "\n",
       "                 Date  \n",
       "entry_id               \n",
       "530452    21-Oct-2021  \n",
       "530453    21-Oct-2021  \n",
       "530454    21-Oct-2021  \n",
       "530455    21-Oct-2021  \n",
       "530456    21-Oct-2021  \n",
       "...               ...  \n",
       "535485    27-Oct-2021  \n",
       "535486    27-Oct-2021  \n",
       "535487    27-Oct-2021  \n",
       "535488    27-Oct-2021  \n",
       "535489    27-Oct-2021  \n",
       "\n",
       "[5038 rows x 10 columns]"
      ]
     },
     "execution_count": 10,
>>>>>>> 2c1016514732f2d30bf70ee6926ecef3c8332a76
     "metadata": {},
     "output_type": "execute_result"
    }
   ],
   "source": [
    "## data from PA_II_D8B6 (UT Stadium Sensor) sensor from the past week\n",
    "\n",
    "from purpleair.sensor import Sensor\n",
    "se = Sensor(27395)\n",
    "UT_stadium = se.parent.get_historical(weeks_to_get=1,thingspeak_field='secondary')\n",
    "UT_stadium['Date'] = [i.date().strftime(\"%d-%b-%Y\") for i in UT_stadium['created_at']]\n",
    "UT_stadium"
   ]
  },
  {
   "cell_type": "markdown",
   "metadata": {
    "cell_id": "00053-aadd5c14-00f5-4bae-a455-544c2358c3d6",
    "deepnote_cell_type": "markdown",
    "tags": []
   },
   "source": [
    "As you can see from the \"created_at\" column, the AQI was taken every two minutes over the past 7 days. The data frame also contains information on PM paticules of different diameters such as 0.3, 0.5, 1.0, 2.5, 5.0 and 10.0.\n",
    "\n",
    "<br>\n",
    "\n",
    "While this dataframe is useful, there are too many rows of data (~4000) to look at! Below is a widget that plots a line graph of the PM 2.5 measure over a specific day. \n",
    "\n",
    "**The drop down bar allows you to pick which day you would like graphed, so go ahead and pick a day!**"
   ]
  },
  {
   "cell_type": "code",
   "execution_count": 17,
   "metadata": {
    "cell_id": "00054-3ae6e99e-6ee4-4244-9103-91eb16cb4b2b",
    "deepnote_cell_type": "code",
    "deepnote_to_be_reexecuted": false,
    "execution_millis": 449,
    "execution_start": 1634305011180,
    "source_hash": "87b413f3",
    "tags": []
   },
   "outputs": [
    {
     "data": {
      "application/vnd.jupyter.widget-view+json": {
       "model_id": "39a6542f0e254060a52f4b69bf7fec1f",
       "version_major": 2,
       "version_minor": 0
      },
      "text/plain": [
       "interactive(children=(Dropdown(description='date', options=('12-Oct-2021', '13-Oct-2021', '14-Oct-2021', '15-O…"
      ]
     },
     "metadata": {},
     "output_type": "display_data"
    }
   ],
   "source": [
    "def f(date):\n",
    "    fig = plt.figure(figsize=(20,3))\n",
    "    plt.plot(UT_stadium['created_at'].loc[UT_stadium['Date'] == date], UT_stadium[\"2.5um/dl\"].loc[UT_stadium['Date'] == date])\n",
    "    plt.xlabel('Time')\n",
    "    plt.ylabel('PM 2.5 Particle Count')\n",
    "    plt.title('UT Stadium Sensor PM 2.5')\n",
    "    plt.rcParams[\"figure.figsize\"] = (20,3)\n",
    "    \n",
    "interact(f, date = list(UT_stadium['Date'].unique()));"
   ]
  },
  {
   "cell_type": "markdown",
   "metadata": {
    "cell_id": "00055-a3584bba-f516-40d9-8259-061cba6cd85d",
    "deepnote_cell_type": "markdown",
    "tags": []
   },
   "source": [
    "The line plot above displays the date along the x-axis and the PM 2.5 Particle count along the y-axis.\n",
    "\n",
    "<br>\n",
    "\n",
    "**QUESTION: What trends do you notice about the line plot?**\n",
    "\n"
   ]
  },
  {
   "cell_type": "markdown",
   "metadata": {
    "cell_id": "00056-1b3f6070-a321-4609-b322-f3d67bb17614",
    "deepnote_cell_type": "markdown",
    "tags": []
   },
   "source": [
    "*Your answer here*"
   ]
  },
  {
   "cell_type": "markdown",
   "metadata": {
    "cell_id": "00057-db746027-31b3-4ae2-9a29-65e9e959a415",
    "deepnote_cell_type": "markdown",
    "tags": []
   },
   "source": [
    "<br>\n",
    "\n",
    "While the line plot does show us a trend in the PM2.5 count over time, we still have not clue how that translates to the API Index. The next section will discuss what AQI is and how it is calculated."
   ]
  },
  {
   "cell_type": "markdown",
   "metadata": {
    "cell_id": "00058-fb96ec35-fc22-4b32-b701-325ac3cb04a1",
    "deepnote_cell_type": "markdown",
    "tags": []
   },
   "source": [
    "### AQI Index\n",
    "The AQI Index contains 6 categories that air quality can fall into. Each category contains a range of index values from 0 - 500 that is calculated from the regions PM 2.5 measure. The chart below is provided by the US Environmental Protection Agency (EPA) and shows the official AQI Index (these breakpoints were revised in 2012). \n",
    "\n",
    "For more information on how AQI Index is calculated, take a look at the AQI Index Factsheet provided by the EPA [here](https://www.epa.gov/sites/default/files/2016-04/documents/2012_aqi_factsheet.pdf)!"
   ]
  },
  {
   "cell_type": "markdown",
   "metadata": {
    "cell_id": "00059-99f1a679-3350-4331-948a-8ae92b3c461d",
    "deepnote_cell_type": "markdown",
    "tags": []
   },
   "source": [
    "<p align=\"center\">\n",
    "  <img src=\"images/AQI-category.png\" width=\"\" height=\"\" align=\"center\">\n",
    "</p>"
   ]
  },
  {
   "cell_type": "markdown",
   "metadata": {
    "cell_id": "00060-73dc5f4e-8999-4b6d-83d7-ff359c7e89f4",
    "deepnote_cell_type": "markdown",
    "tags": []
   },
   "source": [
    "Now that we know how sesors work, what they measure and how AQI Indexes are calculated, let's see if we can create a visualization of AQI Indexes that are a little closer to home!\n",
    "\n",
    "First, let's find a group of sensors that are in Texas. The code cell below does just that. We use a range of longitude and latitude coordinates to decide whether to include or exclude a sensor. \n",
    "\n",
    "**Run the cell below to display a dataset of about 40 sensors in and surrounding Rio Grande Valley!**"
   ]
  },
  {
   "cell_type": "code",
   "execution_count": 18,
   "metadata": {
    "cell_id": "00061-2f4dd61a-9df5-4d21-86ba-3368ef13eb7b",
    "deepnote_cell_type": "code",
    "deepnote_to_be_reexecuted": false,
    "execution_millis": 87,
    "execution_start": 1634304959759,
    "source_hash": "bde860ae",
    "tags": []
   },
   "outputs": [
    {
     "data": {
      "text/html": [
       "<div>\n",
       "<style scoped>\n",
       "    .dataframe tbody tr th:only-of-type {\n",
       "        vertical-align: middle;\n",
       "    }\n",
       "\n",
       "    .dataframe tbody tr th {\n",
       "        vertical-align: top;\n",
       "    }\n",
       "\n",
       "    .dataframe thead th {\n",
       "        text-align: right;\n",
       "    }\n",
       "</style>\n",
       "<table border=\"1\" class=\"dataframe\">\n",
       "  <thead>\n",
       "    <tr style=\"text-align: right;\">\n",
       "      <th></th>\n",
       "      <th>lat</th>\n",
       "      <th>lon</th>\n",
       "      <th>name</th>\n",
       "      <th>location_type</th>\n",
       "      <th>pm_2.5</th>\n",
       "      <th>temp_f</th>\n",
       "      <th>humidity</th>\n",
       "      <th>pressure</th>\n",
       "    </tr>\n",
       "    <tr>\n",
       "      <th>id</th>\n",
       "      <th></th>\n",
       "      <th></th>\n",
       "      <th></th>\n",
       "      <th></th>\n",
       "      <th></th>\n",
       "      <th></th>\n",
       "      <th></th>\n",
       "      <th></th>\n",
       "    </tr>\n",
       "  </thead>\n",
       "  <tbody>\n",
       "    <tr>\n",
       "      <td>25999</td>\n",
       "      <td>30.053808</td>\n",
       "      <td>-95.494643</td>\n",
       "      <td>Villages of Bridgestone AQI</td>\n",
       "      <td>outside</td>\n",
       "      <td>9.54</td>\n",
       "      <td>91.0</td>\n",
       "      <td>41.0</td>\n",
       "      <td>1014.02</td>\n",
       "    </tr>\n",
       "    <tr>\n",
       "      <td>74265</td>\n",
       "      <td>29.939444</td>\n",
       "      <td>-95.671354</td>\n",
       "      <td>16815 Flower Mist Lane</td>\n",
       "      <td>inside</td>\n",
       "      <td>2.86</td>\n",
       "      <td>83.0</td>\n",
       "      <td>31.0</td>\n",
       "      <td>1014.58</td>\n",
       "    </tr>\n",
       "    <tr>\n",
       "      <td>30327</td>\n",
       "      <td>33.346098</td>\n",
       "      <td>-96.355190</td>\n",
       "      <td>236 County Road 5020, Blue Ridge, Texas 75424-...</td>\n",
       "      <td>outside</td>\n",
       "      <td>6.68</td>\n",
       "      <td>NaN</td>\n",
       "      <td>NaN</td>\n",
       "      <td>NaN</td>\n",
       "    </tr>\n",
       "    <tr>\n",
       "      <td>83065</td>\n",
       "      <td>30.246557</td>\n",
       "      <td>-98.065587</td>\n",
       "      <td>301 Barton Creek Dr</td>\n",
       "      <td>outside</td>\n",
       "      <td>3.47</td>\n",
       "      <td>83.0</td>\n",
       "      <td>43.0</td>\n",
       "      <td>979.12</td>\n",
       "    </tr>\n",
       "    <tr>\n",
       "      <td>98139</td>\n",
       "      <td>29.818880</td>\n",
       "      <td>-95.695667</td>\n",
       "      <td>3623 Shadow Trail, Houston, Texas 77084</td>\n",
       "      <td>outside</td>\n",
       "      <td>8.18</td>\n",
       "      <td>86.0</td>\n",
       "      <td>41.0</td>\n",
       "      <td>1014.66</td>\n",
       "    </tr>\n",
       "    <tr>\n",
       "      <td>...</td>\n",
       "      <td>...</td>\n",
       "      <td>...</td>\n",
       "      <td>...</td>\n",
       "      <td>...</td>\n",
       "      <td>...</td>\n",
       "      <td>...</td>\n",
       "      <td>...</td>\n",
       "      <td>...</td>\n",
       "    </tr>\n",
       "    <tr>\n",
       "      <td>34431</td>\n",
       "      <td>29.762515</td>\n",
       "      <td>-95.465982</td>\n",
       "      <td>WPI-2</td>\n",
       "      <td>inside</td>\n",
       "      <td>0.00</td>\n",
       "      <td>81.0</td>\n",
       "      <td>39.0</td>\n",
       "      <td>1013.58</td>\n",
       "    </tr>\n",
       "    <tr>\n",
       "      <td>27629</td>\n",
       "      <td>33.538329</td>\n",
       "      <td>-101.781656</td>\n",
       "      <td>Yellow House Canyon</td>\n",
       "      <td>outside</td>\n",
       "      <td>3.74</td>\n",
       "      <td>82.0</td>\n",
       "      <td>28.0</td>\n",
       "      <td>904.34</td>\n",
       "    </tr>\n",
       "    <tr>\n",
       "      <td>65197</td>\n",
       "      <td>30.261005</td>\n",
       "      <td>-97.770814</td>\n",
       "      <td>Zilker #1</td>\n",
       "      <td>outside</td>\n",
       "      <td>4.25</td>\n",
       "      <td>82.0</td>\n",
       "      <td>45.0</td>\n",
       "      <td>1000.06</td>\n",
       "    </tr>\n",
       "    <tr>\n",
       "      <td>52617</td>\n",
       "      <td>30.258937</td>\n",
       "      <td>-97.764749</td>\n",
       "      <td>Zilker neighborhood</td>\n",
       "      <td>outside</td>\n",
       "      <td>3.34</td>\n",
       "      <td>85.0</td>\n",
       "      <td>44.0</td>\n",
       "      <td>998.89</td>\n",
       "    </tr>\n",
       "    <tr>\n",
       "      <td>116693</td>\n",
       "      <td>29.548098</td>\n",
       "      <td>-98.535522</td>\n",
       "      <td>Zurich</td>\n",
       "      <td>inside</td>\n",
       "      <td>2.54</td>\n",
       "      <td>81.0</td>\n",
       "      <td>30.0</td>\n",
       "      <td>985.50</td>\n",
       "    </tr>\n",
       "  </tbody>\n",
       "</table>\n",
       "<p>302 rows × 8 columns</p>\n",
       "</div>"
      ],
      "text/plain": [
       "              lat         lon  \\\n",
       "id                              \n",
       "25999   30.053808  -95.494643   \n",
       "74265   29.939444  -95.671354   \n",
       "30327   33.346098  -96.355190   \n",
       "83065   30.246557  -98.065587   \n",
       "98139   29.818880  -95.695667   \n",
       "...           ...         ...   \n",
       "34431   29.762515  -95.465982   \n",
       "27629   33.538329 -101.781656   \n",
       "65197   30.261005  -97.770814   \n",
       "52617   30.258937  -97.764749   \n",
       "116693  29.548098  -98.535522   \n",
       "\n",
       "                                                     name location_type  \\\n",
       "id                                                                        \n",
       "25999                         Villages of Bridgestone AQI       outside   \n",
       "74265                              16815 Flower Mist Lane        inside   \n",
       "30327   236 County Road 5020, Blue Ridge, Texas 75424-...       outside   \n",
       "83065                                 301 Barton Creek Dr       outside   \n",
       "98139             3623 Shadow Trail, Houston, Texas 77084       outside   \n",
       "...                                                   ...           ...   \n",
       "34431                                               WPI-2        inside   \n",
       "27629                                 Yellow House Canyon       outside   \n",
       "65197                                           Zilker #1       outside   \n",
       "52617                                 Zilker neighborhood       outside   \n",
       "116693                                             Zurich        inside   \n",
       "\n",
       "        pm_2.5  temp_f  humidity  pressure  \n",
       "id                                          \n",
       "25999     9.54    91.0      41.0   1014.02  \n",
       "74265     2.86    83.0      31.0   1014.58  \n",
       "30327     6.68     NaN       NaN       NaN  \n",
       "83065     3.47    83.0      43.0    979.12  \n",
       "98139     8.18    86.0      41.0   1014.66  \n",
       "...        ...     ...       ...       ...  \n",
       "34431     0.00    81.0      39.0   1013.58  \n",
       "27629     3.74    82.0      28.0    904.34  \n",
       "65197     4.25    82.0      45.0   1000.06  \n",
       "52617     3.34    85.0      44.0    998.89  \n",
       "116693    2.54    81.0      30.0    985.50  \n",
       "\n",
       "[302 rows x 8 columns]"
      ]
     },
     "execution_count": 18,
     "metadata": {},
     "output_type": "execute_result"
    }
   ],
   "source": [
    "\n",
    "TX_data = df.loc[(df[\"lat\"] >= 25.9) & (df[\"lat\"] <= 34.1) & (df[\"lon\"] >= -104.9) & (df[\"lon\"] <= -93.1)]\n",
    "TX_data = TX_data[[\"lat\", \"lon\", \"name\", \"location_type\", \"pm_2.5\", \"temp_f\", \"humidity\", \"pressure\"]]\n",
    "TX_data"
   ]
  },
  {
   "cell_type": "markdown",
   "metadata": {
    "cell_id": "00062-e44827e3-8d4a-4cfa-b279-359b93e09a4b",
    "deepnote_cell_type": "markdown",
    "tags": []
   },
   "source": [
    "<br>\n",
    "\n",
    "Now that we have a smaller subset of data to work with, the next step is to use the PM 2.5 measures to assign each sensor to an AQI Index Category and corresponding color. \n",
    "\n",
    "**Run the cell below to create a new column in the dataframe that indicates the sensors AQI Index color code.**"
   ]
  },
  {
   "cell_type": "code",
   "execution_count": 19,
   "metadata": {
    "cell_id": "00063-74c3eea3-38f5-45b2-baa3-968a1af6a006",
    "deepnote_cell_type": "code",
    "deepnote_to_be_reexecuted": false,
    "execution_millis": 51,
    "execution_start": 1634304959856,
    "source_hash": "a4f75cc5",
    "tags": []
   },
   "outputs": [
    {
     "data": {
      "text/html": [
       "<div>\n",
       "<style scoped>\n",
       "    .dataframe tbody tr th:only-of-type {\n",
       "        vertical-align: middle;\n",
       "    }\n",
       "\n",
       "    .dataframe tbody tr th {\n",
       "        vertical-align: top;\n",
       "    }\n",
       "\n",
       "    .dataframe thead th {\n",
       "        text-align: right;\n",
       "    }\n",
       "</style>\n",
       "<table border=\"1\" class=\"dataframe\">\n",
       "  <thead>\n",
       "    <tr style=\"text-align: right;\">\n",
       "      <th></th>\n",
       "      <th>lat</th>\n",
       "      <th>lon</th>\n",
       "      <th>name</th>\n",
       "      <th>location_type</th>\n",
       "      <th>pm_2.5</th>\n",
       "      <th>temp_f</th>\n",
       "      <th>humidity</th>\n",
       "      <th>pressure</th>\n",
       "      <th>code</th>\n",
       "    </tr>\n",
       "    <tr>\n",
       "      <th>id</th>\n",
       "      <th></th>\n",
       "      <th></th>\n",
       "      <th></th>\n",
       "      <th></th>\n",
       "      <th></th>\n",
       "      <th></th>\n",
       "      <th></th>\n",
       "      <th></th>\n",
       "      <th></th>\n",
       "    </tr>\n",
       "  </thead>\n",
       "  <tbody>\n",
       "    <tr>\n",
       "      <td>25999</td>\n",
       "      <td>30.053808</td>\n",
       "      <td>-95.494643</td>\n",
       "      <td>Villages of Bridgestone AQI</td>\n",
       "      <td>outside</td>\n",
       "      <td>9.54</td>\n",
       "      <td>91.0</td>\n",
       "      <td>41.0</td>\n",
       "      <td>1014.02</td>\n",
       "      <td>green</td>\n",
       "    </tr>\n",
       "    <tr>\n",
       "      <td>74265</td>\n",
       "      <td>29.939444</td>\n",
       "      <td>-95.671354</td>\n",
       "      <td>16815 Flower Mist Lane</td>\n",
       "      <td>inside</td>\n",
       "      <td>2.86</td>\n",
       "      <td>83.0</td>\n",
       "      <td>31.0</td>\n",
       "      <td>1014.58</td>\n",
       "      <td>green</td>\n",
       "    </tr>\n",
       "    <tr>\n",
       "      <td>30327</td>\n",
       "      <td>33.346098</td>\n",
       "      <td>-96.355190</td>\n",
       "      <td>236 County Road 5020, Blue Ridge, Texas 75424-...</td>\n",
       "      <td>outside</td>\n",
       "      <td>6.68</td>\n",
       "      <td>NaN</td>\n",
       "      <td>NaN</td>\n",
       "      <td>NaN</td>\n",
       "      <td>green</td>\n",
       "    </tr>\n",
       "    <tr>\n",
       "      <td>83065</td>\n",
       "      <td>30.246557</td>\n",
       "      <td>-98.065587</td>\n",
       "      <td>301 Barton Creek Dr</td>\n",
       "      <td>outside</td>\n",
       "      <td>3.47</td>\n",
       "      <td>83.0</td>\n",
       "      <td>43.0</td>\n",
       "      <td>979.12</td>\n",
       "      <td>green</td>\n",
       "    </tr>\n",
       "    <tr>\n",
       "      <td>98139</td>\n",
       "      <td>29.818880</td>\n",
       "      <td>-95.695667</td>\n",
       "      <td>3623 Shadow Trail, Houston, Texas 77084</td>\n",
       "      <td>outside</td>\n",
       "      <td>8.18</td>\n",
       "      <td>86.0</td>\n",
       "      <td>41.0</td>\n",
       "      <td>1014.66</td>\n",
       "      <td>green</td>\n",
       "    </tr>\n",
       "    <tr>\n",
       "      <td>...</td>\n",
       "      <td>...</td>\n",
       "      <td>...</td>\n",
       "      <td>...</td>\n",
       "      <td>...</td>\n",
       "      <td>...</td>\n",
       "      <td>...</td>\n",
       "      <td>...</td>\n",
       "      <td>...</td>\n",
       "      <td>...</td>\n",
       "    </tr>\n",
       "    <tr>\n",
       "      <td>34431</td>\n",
       "      <td>29.762515</td>\n",
       "      <td>-95.465982</td>\n",
       "      <td>WPI-2</td>\n",
       "      <td>inside</td>\n",
       "      <td>0.00</td>\n",
       "      <td>81.0</td>\n",
       "      <td>39.0</td>\n",
       "      <td>1013.58</td>\n",
       "      <td>green</td>\n",
       "    </tr>\n",
       "    <tr>\n",
       "      <td>27629</td>\n",
       "      <td>33.538329</td>\n",
       "      <td>-101.781656</td>\n",
       "      <td>Yellow House Canyon</td>\n",
       "      <td>outside</td>\n",
       "      <td>3.74</td>\n",
       "      <td>82.0</td>\n",
       "      <td>28.0</td>\n",
       "      <td>904.34</td>\n",
       "      <td>green</td>\n",
       "    </tr>\n",
       "    <tr>\n",
       "      <td>65197</td>\n",
       "      <td>30.261005</td>\n",
       "      <td>-97.770814</td>\n",
       "      <td>Zilker #1</td>\n",
       "      <td>outside</td>\n",
       "      <td>4.25</td>\n",
       "      <td>82.0</td>\n",
       "      <td>45.0</td>\n",
       "      <td>1000.06</td>\n",
       "      <td>green</td>\n",
       "    </tr>\n",
       "    <tr>\n",
       "      <td>52617</td>\n",
       "      <td>30.258937</td>\n",
       "      <td>-97.764749</td>\n",
       "      <td>Zilker neighborhood</td>\n",
       "      <td>outside</td>\n",
       "      <td>3.34</td>\n",
       "      <td>85.0</td>\n",
       "      <td>44.0</td>\n",
       "      <td>998.89</td>\n",
       "      <td>green</td>\n",
       "    </tr>\n",
       "    <tr>\n",
       "      <td>116693</td>\n",
       "      <td>29.548098</td>\n",
       "      <td>-98.535522</td>\n",
       "      <td>Zurich</td>\n",
       "      <td>inside</td>\n",
       "      <td>2.54</td>\n",
       "      <td>81.0</td>\n",
       "      <td>30.0</td>\n",
       "      <td>985.50</td>\n",
       "      <td>green</td>\n",
       "    </tr>\n",
       "  </tbody>\n",
       "</table>\n",
       "<p>302 rows × 9 columns</p>\n",
       "</div>"
      ],
      "text/plain": [
       "              lat         lon  \\\n",
       "id                              \n",
       "25999   30.053808  -95.494643   \n",
       "74265   29.939444  -95.671354   \n",
       "30327   33.346098  -96.355190   \n",
       "83065   30.246557  -98.065587   \n",
       "98139   29.818880  -95.695667   \n",
       "...           ...         ...   \n",
       "34431   29.762515  -95.465982   \n",
       "27629   33.538329 -101.781656   \n",
       "65197   30.261005  -97.770814   \n",
       "52617   30.258937  -97.764749   \n",
       "116693  29.548098  -98.535522   \n",
       "\n",
       "                                                     name location_type  \\\n",
       "id                                                                        \n",
       "25999                         Villages of Bridgestone AQI       outside   \n",
       "74265                              16815 Flower Mist Lane        inside   \n",
       "30327   236 County Road 5020, Blue Ridge, Texas 75424-...       outside   \n",
       "83065                                 301 Barton Creek Dr       outside   \n",
       "98139             3623 Shadow Trail, Houston, Texas 77084       outside   \n",
       "...                                                   ...           ...   \n",
       "34431                                               WPI-2        inside   \n",
       "27629                                 Yellow House Canyon       outside   \n",
       "65197                                           Zilker #1       outside   \n",
       "52617                                 Zilker neighborhood       outside   \n",
       "116693                                             Zurich        inside   \n",
       "\n",
       "        pm_2.5  temp_f  humidity  pressure   code  \n",
       "id                                                 \n",
       "25999     9.54    91.0      41.0   1014.02  green  \n",
       "74265     2.86    83.0      31.0   1014.58  green  \n",
       "30327     6.68     NaN       NaN       NaN  green  \n",
       "83065     3.47    83.0      43.0    979.12  green  \n",
       "98139     8.18    86.0      41.0   1014.66  green  \n",
       "...        ...     ...       ...       ...    ...  \n",
       "34431     0.00    81.0      39.0   1013.58  green  \n",
       "27629     3.74    82.0      28.0    904.34  green  \n",
       "65197     4.25    82.0      45.0   1000.06  green  \n",
       "52617     3.34    85.0      44.0    998.89  green  \n",
       "116693    2.54    81.0      30.0    985.50  green  \n",
       "\n",
       "[302 rows x 9 columns]"
      ]
     },
     "execution_count": 19,
     "metadata": {},
     "output_type": "execute_result"
    }
   ],
   "source": [
    "#creating a column that indicates the AQI code name\n",
    "color_code = []\n",
    "for i in TX_data[\"pm_2.5\"].to_list():\n",
    "    if i <= 12.0:\n",
    "        color_code.append('green')\n",
    "    elif (i < 12) & (i <=35.4):\n",
    "        color_code.append('yellow')\n",
    "    elif (i < 35.5) & (i <=55.4):\n",
    "        color_code.append('orange')   \n",
    "    elif (i < 55.5) & (i <=150.4):\n",
    "        color_code.append('red')\n",
    "    elif (i < 150.5) & (i <=250.4):\n",
    "        color_code.append('purple')\n",
    "    else:\n",
    "        color_code.append('darkpurple')\n",
    "\n",
    "TX_data['code'] = color_code\n",
    "TX_data"
   ]
  },
  {
   "cell_type": "markdown",
   "metadata": {
    "cell_id": "00064-8d2eb83c-a61a-4b7e-a2f2-8cea444dc401",
    "deepnote_cell_type": "markdown",
    "tags": []
   },
   "source": [
    "<br>\n",
    "\n",
    "Our last step is to use the longitude and latitude coordinates to map the relative location of the sensor with is corresponding AQI Index color! The widget below does just that! It contains two sliders, one represents the Latitude value and the other is the Longitude value. \n",
    "\n",
    "**Slide the sliders left and right to display a mapping of the sensors in that latitude and longitude region.**\n",
    "\n",
    "**Hint: Rio Grande Valley, TX - Lat: 26.4089° / Lon: -99.0157** "
   ]
  },
  {
   "cell_type": "code",
<<<<<<< HEAD
   "execution_count": 20,
=======
   "execution_count": 1,
>>>>>>> 2c1016514732f2d30bf70ee6926ecef3c8332a76
   "metadata": {
    "cell_id": "00065-9cc7cda6-5ed9-4e53-86ae-60bc7a09f066",
    "deepnote_cell_type": "code",
    "deepnote_to_be_reexecuted": false,
    "execution_millis": 81,
    "execution_start": 1634304959953,
    "source_hash": "341636af",
    "tags": []
   },
   "outputs": [
    {
<<<<<<< HEAD
     "data": {
      "application/vnd.jupyter.widget-view+json": {
       "model_id": "c4160d958ade4b86b8e7646e7baa87b1",
       "version_major": 2,
       "version_minor": 0
      },
      "text/plain": [
       "interactive(children=(FloatSlider(value=30.0, description='Latitude', max=34.0, min=26.0, step=0.001), FloatSl…"
      ]
     },
     "metadata": {},
     "output_type": "display_data"
=======
     "ename": "NameError",
     "evalue": "name 'interact' is not defined",
     "output_type": "error",
     "traceback": [
      "\u001b[0;31m---------------------------------------------------------------------------\u001b[0m",
      "\u001b[0;31mNameError\u001b[0m                                 Traceback (most recent call last)",
      "\u001b[0;32m<ipython-input-1-39d49429dfef>\u001b[0m in \u001b[0;36m<module>\u001b[0;34m\u001b[0m\n\u001b[1;32m     10\u001b[0m     \u001b[0mdisplay\u001b[0m\u001b[0;34m(\u001b[0m\u001b[0mm\u001b[0m\u001b[0;34m)\u001b[0m\u001b[0;34m\u001b[0m\u001b[0;34m\u001b[0m\u001b[0m\n\u001b[1;32m     11\u001b[0m \u001b[0;34m\u001b[0m\u001b[0m\n\u001b[0;32m---> 12\u001b[0;31m \u001b[0minteract\u001b[0m\u001b[0;34m(\u001b[0m\u001b[0mmap\u001b[0m\u001b[0;34m,\u001b[0m \u001b[0mLatitude\u001b[0m \u001b[0;34m=\u001b[0m \u001b[0;34m(\u001b[0m\u001b[0;36m26\u001b[0m\u001b[0;34m,\u001b[0m \u001b[0;36m34\u001b[0m\u001b[0;34m,\u001b[0m \u001b[0;36m0.001\u001b[0m\u001b[0;34m)\u001b[0m \u001b[0;34m,\u001b[0m \u001b[0mLongitude\u001b[0m \u001b[0;34m=\u001b[0m \u001b[0;34m(\u001b[0m\u001b[0;34m-\u001b[0m\u001b[0;36m103\u001b[0m\u001b[0;34m,\u001b[0m \u001b[0;34m-\u001b[0m\u001b[0;36m93\u001b[0m\u001b[0;34m,\u001b[0m \u001b[0;36m0.001\u001b[0m\u001b[0;34m)\u001b[0m\u001b[0;34m)\u001b[0m\u001b[0;34m;\u001b[0m\u001b[0;34m\u001b[0m\u001b[0;34m\u001b[0m\u001b[0m\n\u001b[0m\u001b[1;32m     13\u001b[0m \u001b[0;31m## Rio Grande Valley, TX - Lat: 26.4089° / Lon: -99.0157\u001b[0m\u001b[0;34m\u001b[0m\u001b[0;34m\u001b[0m\u001b[0;34m\u001b[0m\u001b[0m\n",
      "\u001b[0;31mNameError\u001b[0m: name 'interact' is not defined"
     ]
>>>>>>> 2c1016514732f2d30bf70ee6926ecef3c8332a76
    }
   ],
   "source": [
    "def map(Latitude ,Longitude):\n",
    "    m = folium.Map(width=600, height=500, location=[Latitude, Longitude])\n",
    "    \n",
    "    for i in np.arange(len(TX_data) - 1):\n",
    "        folium.Marker(\n",
    "            location=[TX_data.iloc[i]['lat'], TX_data.iloc[i]['lon']],\n",
    "            popup=TX_data.iloc[i]['name'],\n",
    "            icon=folium.Icon(color=TX_data.iloc[i]['code']),\n",
    "        ).add_to(m)\n",
    "    display(m)\n",
    "    \n",
    "interact(map, Latitude = (26, 34, 0.001) , Longitude = (-103, -93, 0.001));\n",
    "## Rio Grande Valley, TX - Lat: 26.4089° / Lon: -99.0157"
   ]
  },
  {
   "cell_type": "markdown",
   "metadata": {
    "cell_id": "00066-8321335c-6206-419f-9d60-f2258b242429",
    "deepnote_cell_type": "markdown",
    "tags": []
   },
   "source": [
    "Now that we have created a map we can easily see what the AQI index is across the city! "
   ]
  },
  {
   "cell_type": "markdown",
   "metadata": {
    "cell_id": "00067-9bd64102-0456-40be-9f11-c5abff8448eb",
    "deepnote_cell_type": "markdown",
    "tags": []
   },
   "source": [
    "<br>\n",
    "\n",
    "**QUESTION: What do you notice about the map?**"
   ]
  },
  {
   "cell_type": "markdown",
   "metadata": {
    "cell_id": "00068-ee203b0b-32de-4195-9f96-46f9751a6242",
    "deepnote_cell_type": "markdown",
    "tags": []
   },
   "source": [
    "*Your answer here*"
   ]
  },
  {
   "cell_type": "markdown",
   "metadata": {
    "cell_id": "00071-807bc266-9a35-4b71-89c1-c94471a157e2",
    "deepnote_cell_type": "markdown",
    "tags": []
   },
   "source": [
    "<br>\n",
    "\n",
    "Developed By: Ziyue Li, Melisa Esqueda, Maham Bawaney & Karalyn Chong"
   ]
  }
 ],
 "metadata": {
  "deepnote": {
   "is_reactive": false
  },
  "deepnote_execution_queue": [],
  "deepnote_notebook_id": "253c2fb3-ad22-45a1-8e9a-1a7c1233100b",
  "kernelspec": {
   "display_name": "Python 3",
   "language": "python",
   "name": "python3"
  },
  "language_info": {
   "codemirror_mode": {
    "name": "ipython",
    "version": 3
   },
   "file_extension": ".py",
   "mimetype": "text/x-python",
   "name": "python",
   "nbconvert_exporter": "python",
   "pygments_lexer": "ipython3",
   "version": "3.8.8"
  }
 },
 "nbformat": 4,
 "nbformat_minor": 4
}

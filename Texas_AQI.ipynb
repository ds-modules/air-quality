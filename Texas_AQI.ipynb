{
 "cells": [
  {
   "cell_type": "markdown",
   "source": "\n# Texas Air Quality Notebook",
   "metadata": {
    "tags": [],
    "cell_id": "00000-daedd59e-cffb-4abf-840b-e864e45502f1",
    "deepnote_cell_type": "markdown"
   }
  },
  {
   "cell_type": "markdown",
   "source": "**Welcome to our notebook on Texas Air Quality!** \n\nIn this notebook we will be looking at Air Quality Index (AQI) scores in the surrounding Texas area. With so many pollutants in the air, especially as we head into the annual fire season, AQI becomes something we check on the daily. For many of us, this AQI map is all too familiar. Throughout this module we will discuss how data can be used to visualize and uncover underlying trends in the world.\n\n**Let's get started!**",
   "metadata": {
    "tags": [],
    "cell_id": "00001-3b4547cc-2f75-4c4e-a069-e19a414c1dde",
    "deepnote_cell_type": "markdown"
   }
  },
  {
   "cell_type": "markdown",
   "source": "<p align=\"center\">\n  <img src=\"images/AQImap.webp\" width=\"\" height=\"\" align=\"center\">\n</p>",
   "metadata": {
    "tags": [],
    "cell_id": "00002-67d60266-bdde-4a6a-bcff-07deaab91799",
    "deepnote_cell_type": "markdown"
   }
  },
  {
   "cell_type": "markdown",
   "source": "<br>\n\n## Introduction to Jupyter Notebook",
   "metadata": {
    "tags": [],
    "cell_id": "00003-3464301f-9c06-4719-9131-85251f288295",
    "deepnote_cell_type": "markdown"
   }
  },
  {
   "cell_type": "markdown",
   "source": "Before we get started with the data, let's talk about what Jupyter Notebook is. This lab is set up in a Jupyter Notebook. Notebooks can contain anything from live code, to written text, equations or visualizations. The content of notebooks are written into rectangular sections called **cells**. ",
   "metadata": {
    "tags": [],
    "cell_id": "00004-d7342510-e57b-4c72-910e-e85723c135be",
    "deepnote_cell_type": "markdown"
   }
  },
  {
   "cell_type": "markdown",
   "source": "#### Types of Cells\nThere are two types of cells in Jupyter, **code** cells and **markdown** cells. **Code cells**, as you can imagine, contain code in Python, the programming language that we will be using throughout this notebook.  **Markdown cells**, such as this one, contain written text. You can select any cell by clicking on it one. ",
   "metadata": {
    "tags": [],
    "cell_id": "00005-4b33a4df-42d1-41e2-893f-c1c1caf2f67b",
    "deepnote_cell_type": "markdown"
   }
  },
  {
   "cell_type": "markdown",
   "source": "#### Running Cells\n'Running' a cell is similar to pressing 'Enter' on a calculator once you've typed in an expression; it computes all of the expressions contained within the cell.\n\nTo run a cell, you can do one of the following:\n\n- press **Shift + Enter**\n- click the **Run** button on the top tool bar\n\nRunning a markdown cell will embed the text into the notebook and running a code cell will evaluate the code and display its output under the cell. \n\nLet's try it! **Run the code cell below.**",
   "metadata": {
    "tags": [],
    "cell_id": "00006-6a49f3f1-07b2-4926-8ee2-cea7efb4b860",
    "deepnote_cell_type": "markdown"
   }
  },
  {
   "cell_type": "code",
   "metadata": {
    "tags": [],
    "deepnote_to_be_reexecuted": false,
    "source_hash": "fc071345",
    "execution_start": 1634304949597,
    "execution_millis": 21,
    "cell_id": "00007-2d9f71ae-7f5c-4cd2-8437-b8182a335263",
    "deepnote_cell_type": "code"
   },
   "source": "print(\"Hello World!\")",
   "execution_count": 1,
   "outputs": [
    {
     "name": "stdout",
     "text": "Hello World!\n",
     "output_type": "stream"
    }
   ]
  },
  {
   "cell_type": "markdown",
   "source": "#### Editing and Saving\n\n- To **edit** a cell, simply double click on the desired cell and begin typing. The cell that you are currently working in will be highlighted by a green box.\n- To **save** the notebook, either click *Ctl + S* or navigate to the \"File\" dropdown and select \"Save and Checkpoint\"",
   "metadata": {
    "tags": [],
    "cell_id": "00008-370ab992-0b3a-44b6-bd5a-b9a4569a69af",
    "deepnote_cell_type": "markdown"
   }
  },
  {
   "cell_type": "markdown",
   "source": "#### Adding Cells\nYou can add a cell by clicking <b><code>Insert > Insert Cell Below</code></b> and choose the cell type in the drop down menu. Try adding a cell below to type in your name!\n",
   "metadata": {
    "tags": [],
    "cell_id": "00009-fae718e2-95f1-43bb-bffe-2766292761d5",
    "deepnote_cell_type": "markdown"
   }
  },
  {
   "cell_type": "markdown",
   "source": "#### Deleting Cells \nTo delete a cell, click on the <b><code>scissors</code></b> at the top or <b><code>Edit > Cut Cells</code></b>. Delete the cell below.",
   "metadata": {
    "tags": [],
    "cell_id": "00010-81c9dc15-ed4e-463b-9097-79a27791f0e9",
    "deepnote_cell_type": "markdown"
   }
  },
  {
   "cell_type": "code",
   "metadata": {
    "tags": [],
    "deepnote_to_be_reexecuted": false,
    "source_hash": "53b00907",
    "execution_start": 1634304949616,
    "execution_millis": 0,
    "cell_id": "00011-7acf003c-08a9-43cf-ac87-d963f50296ee",
    "deepnote_cell_type": "code"
   },
   "source": "print(\"Delete this cell!\")",
   "execution_count": 2,
   "outputs": [
    {
     "name": "stdout",
     "text": "Delete this cell!\n",
     "output_type": "stream"
    }
   ]
  },
  {
   "cell_type": "markdown",
   "source": "**Important Tip**: Everytime you open a Jupyter notebook, it is extremely important to run all the cells from the beginning in order for the notebook to work. ",
   "metadata": {
    "tags": [],
    "cell_id": "00012-904b3fc1-9dfd-49c0-b105-4caba33828f3",
    "deepnote_cell_type": "markdown"
   }
  },
  {
   "cell_type": "markdown",
   "source": "<br>\n\n## Introduction to Python\nPython is a programming language that has a specific set of rules that allow us to communicate with a computer through coding commands. The language can be used to do anything from building websites to automating task and many other things! For the puspose of this notebook, we will be using Python to conduct data analysis. \n",
   "metadata": {
    "tags": [],
    "cell_id": "00013-d3da1a92-0139-4f31-af53-7a72f3d7e232",
    "deepnote_cell_type": "markdown"
   }
  },
  {
   "cell_type": "markdown",
   "source": "\n\n#### Errors\n\nPython has its own set of rules when it comes to the manner in which pieces of code are written. It is important to understand and follow the syntax for the various coding commands that you will learn. When you write code, there will be times where you accidentally break these rules. This is completely _normal_. Even the most experienced programmer makes errors. In order to strengthen your comprehension of these coding commands in your brain, practice helps a lot. Let's examine the cell below and see what's wrong.",
   "metadata": {
    "tags": [],
    "cell_id": "00014-bb85c6a5-66a2-4259-ae24-6db4cc4e9c82",
    "deepnote_cell_type": "markdown"
   }
  },
  {
   "cell_type": "code",
   "metadata": {
    "tags": [],
    "deepnote_to_be_reexecuted": false,
    "source_hash": "8cc24ce2",
    "execution_start": 1634304949616,
    "execution_millis": 8,
    "cell_id": "00015-da921799-fd17-484c-bd1a-0b7a98686d30",
    "deepnote_cell_type": "code"
   },
   "source": "#print(\"Something's wrong)\nprint(\"Something's wrong\")",
   "execution_count": 3,
   "outputs": [
    {
     "name": "stdout",
     "text": "Something's wrong\n",
     "output_type": "stream"
    }
   ]
  },
  {
   "cell_type": "markdown",
   "source": "As you can see from above, there is a carrot symbol pointing at the right parenthesis symbol. It's indicates that something is missing in this area. Go back to that cell and fix it  (Hint: try adding a quotation mark before the closing parenthesis)!",
   "metadata": {
    "tags": [],
    "cell_id": "00016-ed1158aa-15b9-45dc-b9d4-d43c0c9faff2",
    "deepnote_cell_type": "markdown"
   }
  },
  {
   "cell_type": "markdown",
   "source": "#### Data\n\nData refers to the information that we need to use in order to manipulate it through the creation of tables, chart visualizations, and other types of analyses. The data explored in this notebook will be presented in the format of a dataframe, which you will explore more later on. \n\nGoing on with the format of the data, data can come in two forms: numbers and text.\n\nNumbers, just like in math, are positive, negative and may contain decimals. As you can see below, the color of the numbers are in green. That's telling python that we're dealing with numbers.",
   "metadata": {
    "tags": [],
    "cell_id": "00017-553066d8-4fbe-4e05-96e7-12ed93e2d1e2",
    "deepnote_cell_type": "markdown"
   }
  },
  {
   "cell_type": "code",
   "metadata": {
    "tags": [],
    "deepnote_to_be_reexecuted": false,
    "source_hash": "d173067",
    "execution_start": 1634304949625,
    "execution_millis": 19,
    "cell_id": "00018-9d7323fc-0bf1-45dc-99ac-fdd60b78140b",
    "deepnote_cell_type": "code"
   },
   "source": "#Numbers\n\n300\n-56\n70.123",
   "execution_count": 4,
   "outputs": [
    {
     "output_type": "execute_result",
     "execution_count": 4,
     "data": {
      "text/plain": "70.123"
     },
     "metadata": {}
    }
   ]
  },
  {
   "cell_type": "markdown",
   "source": "Text is written in string format. As you can see below, strings are colored in red. ",
   "metadata": {
    "tags": [],
    "cell_id": "00019-5b684c71-204b-46df-b01b-0573944ce1f6",
    "deepnote_cell_type": "markdown"
   }
  },
  {
   "cell_type": "code",
   "metadata": {
    "tags": [],
    "deepnote_to_be_reexecuted": false,
    "source_hash": "90247016",
    "execution_start": 1634304949633,
    "execution_millis": 13,
    "cell_id": "00020-3975d525-1b58-4173-87a0-98717af5db08",
    "deepnote_cell_type": "code"
   },
   "source": "#Strings\n\"Hello everyone!\"\n\"Coding is awesome!\"\n\n#This is a string,NOT a number!\n\"123.456\"\n",
   "execution_count": 5,
   "outputs": [
    {
     "output_type": "execute_result",
     "execution_count": 5,
     "data": {
      "text/plain": "'123.456'"
     },
     "metadata": {}
    }
   ]
  },
  {
   "cell_type": "markdown",
   "source": "Notice how the previous cells contain lines of code that use the pound symbol \"#\". The purpose of this symbol is to write notes that can help you understand the code cell. When you run lines that contain these symbols, nothing happens. These lines are just for your own reference. ",
   "metadata": {
    "tags": [],
    "cell_id": "00021-4fd9e1be-2539-4298-8441-5cc4b890d5be",
    "deepnote_cell_type": "markdown"
   }
  },
  {
   "cell_type": "markdown",
   "source": "#### Names\nWorking with data can get complicated at times. There will be calculations that are too difficult to calculate by hand due to the large number of elements that we need to perform the calculation on. Giving names to values will not only save the values for easy access later, but will also make calculations easier. Take a look at the cell below.",
   "metadata": {
    "tags": [],
    "cell_id": "00022-44c38ad9-c7e8-4ae0-bb42-d85c9bb670fe",
    "deepnote_cell_type": "markdown"
   }
  },
  {
   "cell_type": "code",
   "metadata": {
    "tags": [],
    "deepnote_to_be_reexecuted": false,
    "source_hash": "fe237e27",
    "execution_start": 1634304949651,
    "execution_millis": 187,
    "cell_id": "00023-485db73a-2d0c-43a0-9400-ffdd1437ea0c",
    "deepnote_cell_type": "code"
   },
   "source": "x = 312\ny = 542\nproduct = x * y\nproduct",
   "execution_count": 6,
   "outputs": [
    {
     "output_type": "execute_result",
     "execution_count": 6,
     "data": {
      "text/plain": "169104"
     },
     "metadata": {}
    }
   ]
  },
  {
   "cell_type": "markdown",
   "source": "As you can see above, the numbers `312` and `512` were assigned to the name \"x\" and \"y\", respectively. Then, the product of x and y was assigned to the name \"product\". ",
   "metadata": {
    "tags": [],
    "cell_id": "00024-6cd98714-b157-40fa-9c4d-cf403dca58db",
    "deepnote_cell_type": "markdown"
   }
  },
  {
   "cell_type": "markdown",
   "source": "#### Expressions\nExpressions are simple instructions that you want to give to a computer. Run the cells and take a look at the examples below. ",
   "metadata": {
    "tags": [],
    "cell_id": "00025-9bdaa54e-fac1-4367-8ea0-a60ae8df8f22",
    "deepnote_cell_type": "markdown"
   }
  },
  {
   "cell_type": "code",
   "metadata": {
    "tags": [],
    "deepnote_to_be_reexecuted": false,
    "source_hash": "e5039e55",
    "execution_start": 1634304949661,
    "execution_millis": 78896872,
    "cell_id": "00026-6eb96707-2835-4350-81a4-e8e18cd12e43",
    "deepnote_cell_type": "code"
   },
   "source": "2 + 10",
   "execution_count": 7,
   "outputs": [
    {
     "output_type": "execute_result",
     "execution_count": 7,
     "data": {
      "text/plain": "12"
     },
     "metadata": {}
    }
   ]
  },
  {
   "cell_type": "code",
   "metadata": {
    "tags": [],
    "deepnote_to_be_reexecuted": false,
    "source_hash": "ac6372c7",
    "execution_start": 1634304949687,
    "execution_millis": 153,
    "cell_id": "00027-0edc1b40-8ae7-465b-b171-89077b70e952",
    "deepnote_cell_type": "code"
   },
   "source": "4/2",
   "execution_count": 8,
   "outputs": [
    {
     "output_type": "execute_result",
     "execution_count": 8,
     "data": {
      "text/plain": "2.0"
     },
     "metadata": {}
    }
   ]
  },
  {
   "cell_type": "code",
   "metadata": {
    "tags": [],
    "deepnote_to_be_reexecuted": false,
    "source_hash": "f3d808ff",
    "execution_start": 1634304949688,
    "execution_millis": 153,
    "cell_id": "00028-30493db1-61dd-4ef8-b1b3-0d7b73554baa",
    "deepnote_cell_type": "code"
   },
   "source": "(23 + 4) * 6 - 10",
   "execution_count": 9,
   "outputs": [
    {
     "output_type": "execute_result",
     "execution_count": 9,
     "data": {
      "text/plain": "152"
     },
     "metadata": {}
    }
   ]
  },
  {
   "cell_type": "markdown",
   "source": "As you can see above, including spaces between the operator and numbers makes the code clean and legible to read. However, it's not necessary to include space between the parenthesis and number. Just like in math, Python follows the rules of P.E.M.D.A.S. when it comes to calculating numbers. ",
   "metadata": {
    "tags": [],
    "cell_id": "00029-553bae63-08dd-4a11-a97a-ed71fca845ad",
    "deepnote_cell_type": "markdown"
   }
  },
  {
   "cell_type": "markdown",
   "source": "#### Functions\nIn the previous cells, mathematical expressions can be written just how you normally would in hand writing. However, python has built-in functions, which refers to named operations, for the operators that were used in the previous cells and more! Take a look below!",
   "metadata": {
    "tags": [],
    "cell_id": "00030-63dbeb50-8c38-4fce-a6d3-8a5d1da7c821",
    "deepnote_cell_type": "markdown"
   }
  },
  {
   "cell_type": "code",
   "metadata": {
    "tags": [],
    "deepnote_to_be_reexecuted": false,
    "source_hash": "55230a7b",
    "execution_start": 1634304949690,
    "execution_millis": 151,
    "cell_id": "00031-2af8b0b1-7e59-4e0e-b365-5eb34b7baa5d",
    "deepnote_cell_type": "code"
   },
   "source": "#This function below returns the biggest number out of the input values.\nmax(2, 3)",
   "execution_count": 10,
   "outputs": [
    {
     "output_type": "execute_result",
     "execution_count": 10,
     "data": {
      "text/plain": "3"
     },
     "metadata": {}
    }
   ]
  },
  {
   "cell_type": "code",
   "metadata": {
    "tags": [],
    "deepnote_to_be_reexecuted": false,
    "source_hash": "487f2e56",
    "execution_start": 1634304949691,
    "execution_millis": 150,
    "cell_id": "00032-55c10188-ae8c-4ae4-a0e6-c68c729079e5",
    "deepnote_cell_type": "code"
   },
   "source": "#This function below takes the absolute value of a number.\nabs(-4)",
   "execution_count": 11,
   "outputs": [
    {
     "output_type": "execute_result",
     "execution_count": 11,
     "data": {
      "text/plain": "4"
     },
     "metadata": {}
    }
   ]
  },
  {
   "cell_type": "markdown",
   "source": "As you can see from above, functions make calculating expressions easier. We just simply pick our desired function, plug in the numbers and we get an output. ",
   "metadata": {
    "tags": [],
    "cell_id": "00033-8105478e-4d58-4a41-80a8-876b9544db4f",
    "deepnote_cell_type": "markdown"
   }
  },
  {
   "cell_type": "markdown",
   "source": "#### Chart Visualizations\nWhen it comes to examining any existing patterns in data, it is difficult to examine all the patterns that exist in our data through dataframes alone. Creating a chart visualization, which is a graphical representation of data, illustrates the desired variables and any existing patterns. It is important to carefully choose the appropriate chart that will accurately illustrate the desired variables. Before examinining the different types of chart visualizations, it is important to be aware of the different types of variables:\n\n- **Quantitative variables**: Refers to numerical variables that derive from measurements. An example of this type of variable would be height.\n\n- **Qualitative variables**: Refers to categorical variables in which its values can't be found by measurement. An example of this type of variable would be gender. \n\n<br>\n\n##### Here are the different types of charts:\n\n- **Bar chart**: This plot is used for displaying the counts of categorical variables. In the plot below, the x-axis displays the categorical variable called \"energy source\" and the y-axis displays the numerical variable called \"counts\". \n\n<p align=\"center\">\n  <img src=\"/work/images/bar chart image.png\" width=\"\" height=\"\" align=\"center\">\n  Bar chart from the website page \"Bar Charts in Matplotlib\" by Ben Alex Keen.\n</p>\n\n\n- **Histogram**: This plot is used for displaying the distribution of a numerical variable. This graph allows you to see the average, maximum, and minimum values. In the plot below, the x-axis displays the numerical variable and the y-axis displays the frequency, which isn't a variable that is included in the dataframe.\n\n<p align=\"center\">\n  <img src=\"/work/images/histogram.png\" width=\"\" height=\"\" align=\"center\">\n  Histogram chart from the website page \"W3resource\", licensed by Creative Commons Attribution-NonCommercial-ShareAlike 3.0 Unported License.\n</p>\n\n\n- **Line chart**: This plot displays the trends of a numerical variable. In the plot below, the x-axis displays the numerical variable called \"year\" and the y-axis displays the numerical variable named unemployment rate. This plot shows you the changes that occurred in terms of unemployment. \n\n<p align=\"center\">\n  <img src=\"/work/images/line plot.png\" width=\"\" height=\"\" align=\"center\">\n  Line chart from the website page \"Data to Fish\"\n</p>\n\n\n- **Scatter chart**: This plot displays the relationship between numerical variables through the displayed of clustered points. In the plot below, the x-axis is anumerical variable called \"weight\" and the y-axis is a numerical variable called \"height\". Since the clustered points are forming an upward trend, this shows that weight and height are connected with each other. \n<p align=\"center\">\n  <img src=\"/work/images/scatter plot.png\" width=\"\" height=\"\" align=\"center\">\n  Scatter chart from the website \"Data36\"\n</p>\n\n\n",
   "metadata": {
    "tags": [],
    "cell_id": "00034-328a33ed-d8a4-4d77-9ac4-1fcb2dccb202",
    "deepnote_cell_type": "markdown"
   }
  },
  {
   "cell_type": "markdown",
   "source": "Now that we have had a brief crash course on Jupyter Notebooks and Python coding, let's dive into Texas AQI!",
   "metadata": {
    "tags": [],
    "cell_id": "00035-a7c6d091-fa9c-4650-9b24-df1e949c26db",
    "deepnote_cell_type": "markdown"
   }
  },
  {
   "cell_type": "markdown",
   "source": "<br>\n\n## Introduction to the Data <a class=\"anchor\" id=\"2\"></a>",
   "metadata": {
    "tags": [],
    "cell_id": "00036-7f3b3b75-022b-4b52-b8ad-2c01980c90e9",
    "deepnote_cell_type": "markdown"
   }
  },
  {
   "cell_type": "markdown",
   "source": "In this notebook we will look at data collected from PrupleAir, a company that manages a network of air quality sensors. The data from these sensors are then collected to create maps like the one displayed above that depicts an intuitive visualization of the air quality in a specific region. In the dataframe below, you will find several metrics that help us do this.\n\n**Run the cell below to import all the dependencies needed for this notebook!**",
   "metadata": {
    "tags": [],
    "cell_id": "00037-1517ea40-370c-4f47-aedb-c1b6d0db178e",
    "deepnote_cell_type": "markdown"
   }
  },
  {
   "cell_type": "code",
   "metadata": {
    "tags": [],
    "deepnote_to_be_reexecuted": false,
    "source_hash": "990f3fb4",
    "execution_start": 1634304949693,
    "execution_millis": 1199,
    "cell_id": "00038-a2bf2b0f-a413-4828-bfeb-4b9e3bb85c0e",
    "deepnote_cell_type": "code"
   },
   "source": "import matplotlib.pyplot as plt\nimport geopandas as gpd\nimport numpy as np\nimport purpleair\nimport geopandas\nimport folium",
   "execution_count": 12,
   "outputs": []
  },
  {
   "cell_type": "markdown",
   "source": "<br>\n\n# PurpleAir Data",
   "metadata": {
    "tags": [],
    "cell_id": "00039-e6492591-3c72-4a72-b6b0-797f0843096d",
    "deepnote_cell_type": "markdown"
   }
  },
  {
   "cell_type": "markdown",
   "source": "Before we begin looking at data collected from PurpleAir sensors, lets first take a look at what a sensor is, and what it measures. \n\n\n> Below is a picture of a real PurpleAir Air Quality Sensor. These sensor can be mounted both indoors or outdoors, and it tracks airborne particulate matter(PM) in real time using PMSX003 laser counters. Particulate matter can include things like dust, smoke, dirt and any other organic or inorganic particles in the air. With multiple sensors mounted in a region, PurpleAir can create a relatively accurate measure of AQI throughout the day as the air quality changes. \n\nFor more information on how sensors work, take a look at the official PurpleAir website [here](https://www2.purpleair.com/community/faq#hc-what-do-the-numbers-on-the-purpleair-map-mean-1)!",
   "metadata": {
    "tags": [],
    "cell_id": "00040-92de3fe8-5b65-4078-ba3e-391e205b508c",
    "deepnote_cell_type": "markdown"
   }
  },
  {
   "cell_type": "markdown",
   "source": "<p align=\"center\">\n  <img src=\"images/purpleair-sensor-pm2.5.webp\" width=\"\" height=\"\" align=\"center\">\n</p>",
   "metadata": {
    "tags": [],
    "cell_id": "00041-f5ce6af6-9166-4094-a780-5d1c55f40390",
    "deepnote_cell_type": "markdown"
   }
  },
  {
   "cell_type": "markdown",
   "source": "In order to work with the data, we need to pull it into our workspace. Fortunately, PurpleAir has created an API that allows users to pull in and work with their AQI data. In the code cell below we will import the prupleair API and use it to create a dataframe of data from all 18,858 PurpleAir sensors!\n\n**Run the code cell below!**",
   "metadata": {
    "tags": [],
    "cell_id": "00042-5fae0257-2152-41bc-8e12-b987f1da5dbe",
    "deepnote_cell_type": "markdown"
   }
  },
  {
   "cell_type": "code",
   "metadata": {
    "tags": [],
    "deepnote_to_be_reexecuted": false,
    "source_hash": "5c996320",
    "execution_start": 1634304950900,
    "execution_millis": 6416,
    "cell_id": "00043-61dca086-a486-41e5-bd60-2af694c19c41",
    "deepnote_cell_type": "code"
   },
   "source": "from purpleair.network import SensorList\np = SensorList()\ndf = p.to_dataframe(sensor_filter='all',\n                    channel='parent')",
   "execution_count": 13,
   "outputs": [
    {
     "name": "stdout",
     "text": "Initialized 23,163 sensors!\n",
     "output_type": "stream"
    }
   ]
  },
  {
   "cell_type": "markdown",
   "source": "**Run the cell below to display the sensor dataframe!**\n\nThe dataframe below contains all the sensor data as of the latest update. It contains data on everything from the geograohical latitude and longitude of the sensor to data on the last time that sensor measured airborne PM.",
   "metadata": {
    "tags": [],
    "cell_id": "00044-8be1e334-5605-4996-bcbf-247f6bd604eb",
    "deepnote_cell_type": "markdown"
   }
  },
  {
   "cell_type": "code",
   "metadata": {
    "tags": [],
    "deepnote_to_be_reexecuted": false,
    "source_hash": "f804c160",
    "execution_start": 1634304957325,
    "execution_millis": 158,
    "cell_id": "00045-1ba21a7d-ffa3-4811-8dd6-e4d96ccc24a5",
    "deepnote_cell_type": "code"
   },
   "source": "df",
   "execution_count": 14,
   "outputs": [
    {
     "output_type": "execute_result",
     "execution_count": 14,
     "data": {
      "application/vnd.deepnote.dataframe.v2+json": {
       "row_count": 23163,
       "column_count": 43,
       "columns": [
        {
         "name": "parent",
         "dtype": "object",
         "stats": {
          "unique_count": 0,
          "nan_count": 23163,
          "categories": [
           {
            "name": "Missing",
            "count": 23163
           }
          ]
         }
        },
        {
         "name": "lat",
         "dtype": "float64",
         "stats": {
          "unique_count": 22673,
          "nan_count": 107,
          "min": "-45.037846",
          "max": "79.99028",
          "histogram": [
           {
            "bin_start": -45.037846,
            "bin_end": -32.5350334,
            "count": 224
           },
           {
            "bin_start": -32.5350334,
            "bin_end": -20.0322208,
            "count": 80
           },
           {
            "bin_start": -20.0322208,
            "bin_end": -7.529408199999999,
            "count": 60
           },
           {
            "bin_start": -7.529408199999999,
            "bin_end": 4.9734044,
            "count": 83
           },
           {
            "bin_start": 4.9734044,
            "bin_end": 17.476217,
            "count": 270
           },
           {
            "bin_start": 17.476217,
            "bin_end": 29.979029600000004,
            "count": 740
           },
           {
            "bin_start": 29.979029600000004,
            "bin_end": 42.4818422,
            "count": 17807
           },
           {
            "bin_start": 42.4818422,
            "bin_end": 54.9846548,
            "count": 3591
           },
           {
            "bin_start": 54.9846548,
            "bin_end": 67.4874674,
            "count": 198
           },
           {
            "bin_start": 67.4874674,
            "bin_end": 79.99028,
            "count": 3
           }
          ]
         }
        },
        {
         "name": "lon",
         "dtype": "float64",
         "stats": {
          "unique_count": 22682,
          "nan_count": 107,
          "min": "-176.5285",
          "max": "178.32672",
          "histogram": [
           {
            "bin_start": -176.5285,
            "bin_end": -141.042978,
            "count": 167
           },
           {
            "bin_start": -141.042978,
            "bin_end": -105.557456,
            "count": 17586
           },
           {
            "bin_start": -105.557456,
            "bin_end": -70.071934,
            "count": 3450
           },
           {
            "bin_start": -70.071934,
            "bin_end": -34.586411999999996,
            "count": 147
           },
           {
            "bin_start": -34.586411999999996,
            "bin_end": 0.8991100000000074,
            "count": 195
           },
           {
            "bin_start": 0.8991100000000074,
            "bin_end": 36.38463200000001,
            "count": 525
           },
           {
            "bin_start": 36.38463200000001,
            "bin_end": 71.87015400000001,
            "count": 64
           },
           {
            "bin_start": 71.87015400000001,
            "bin_end": 107.35567600000002,
            "count": 526
           },
           {
            "bin_start": 107.35567600000002,
            "bin_end": 142.84119800000002,
            "count": 174
           },
           {
            "bin_start": 142.84119800000002,
            "bin_end": 178.32672,
            "count": 222
           }
          ]
         }
        },
        {
         "name": "name",
         "dtype": "object",
         "stats": {
          "unique_count": 21751,
          "nan_count": 0,
          "categories": [
           {
            "name": "Home",
            "count": 142
           },
           {
            "name": "Outside",
            "count": 29
           },
           {
            "name": "21749 others",
            "count": 22992
           }
          ]
         }
        },
        {
         "name": "location_type",
         "dtype": "object"
        },
        {
         "name": "pm_2.5",
         "dtype": "float64"
        },
        {
         "name": "temp_f",
         "dtype": "float64"
        },
        {
         "name": "temp_c",
         "dtype": "float64"
        },
        {
         "name": "humidity",
         "dtype": "float64"
        },
        {
         "name": "pressure",
         "dtype": "float64"
        },
        {
         "name": "p_0_3_um",
         "dtype": "object"
        },
        {
         "name": "p_0_5_um",
         "dtype": "object"
        },
        {
         "name": "p_1_0_um",
         "dtype": "object"
        },
        {
         "name": "p_2_5_um",
         "dtype": "object"
        },
        {
         "name": "p_5_0_um",
         "dtype": "object"
        },
        {
         "name": "p_10_0_um",
         "dtype": "object"
        },
        {
         "name": "pm1_0_cf_1",
         "dtype": "object"
        },
        {
         "name": "pm2_5_cf_1",
         "dtype": "object"
        },
        {
         "name": "pm10_0_cf_1",
         "dtype": "object"
        },
        {
         "name": "pm1_0_atm",
         "dtype": "object"
        },
        {
         "name": "pm2_5_atm",
         "dtype": "object"
        },
        {
         "name": "pm10_0_atm",
         "dtype": "object"
        },
        {
         "name": "last_seen",
         "dtype": "datetime64[ns]"
        },
        {
         "name": "model",
         "dtype": "object"
        },
        {
         "name": "adc",
         "dtype": "object"
        },
        {
         "name": "rssi",
         "dtype": "object"
        },
        {
         "name": "hidden",
         "dtype": "bool"
        },
        {
         "name": "flagged",
         "dtype": "bool"
        },
        {
         "name": "downgraded",
         "dtype": "bool"
        },
        {
         "name": "age",
         "dtype": "int64"
        },
        {
         "name": "brightness",
         "dtype": "object"
        },
        {
         "name": "hardware",
         "dtype": "object"
        },
        {
         "name": "version",
         "dtype": "object"
        },
        {
         "name": "last_update_check",
         "dtype": "object"
        },
        {
         "name": "created",
         "dtype": "object"
        },
        {
         "name": "uptime",
         "dtype": "object"
        },
        {
         "name": "is_owner",
         "dtype": "bool"
        },
        {
         "name": "10min_avg",
         "dtype": "float64"
        },
        {
         "name": "30min_avg",
         "dtype": "float64"
        },
        {
         "name": "1hour_avg",
         "dtype": "float64"
        },
        {
         "name": "6hour_avg",
         "dtype": "float64"
        },
        {
         "name": "1day_avg",
         "dtype": "float64"
        },
        {
         "name": "1week_avg",
         "dtype": "float64"
        },
        {
         "name": "_deepnote_index_column",
         "dtype": "int64"
        }
       ],
       "rows_top": [
        {
         "parent": "None",
         "lat": 37.275561,
         "lon": -121.964134,
         "name": " Hazelwood canary ",
         "location_type": "outside",
         "pm_2.5": 0.03,
         "temp_f": 57,
         "temp_c": 13.88888888888889,
         "humidity": 40,
         "pressure": 1013.35,
         "p_0_3_um": "None",
         "p_0_5_um": "None",
         "p_1_0_um": "None",
         "p_2_5_um": "None",
         "p_5_0_um": "None",
         "p_10_0_um": "None",
         "pm1_0_cf_1": "None",
         "pm2_5_cf_1": "None",
         "pm10_0_cf_1": "None",
         "pm1_0_atm": "None",
         "pm2_5_atm": "None",
         "pm10_0_atm": "None",
         "last_seen": "2021-10-15T13:33:06.000000",
         "model": "PMS5003+PMS5003+BME280",
         "adc": "None",
         "rssi": "None",
         "hidden": "False",
         "flagged": "True",
         "downgraded": "False",
         "age": 1,
         "brightness": "None",
         "hardware": "None",
         "version": "None",
         "last_update_check": "None",
         "created": "None",
         "uptime": "None",
         "is_owner": "False",
         "10min_avg": 0.31,
         "30min_avg": 0.28,
         "1hour_avg": 0.45,
         "6hour_avg": 1.31,
         "1day_avg": 1.36,
         "1week_avg": 4.95,
         "_deepnote_index_column": 14633
        },
        {
         "parent": "None",
         "lat": 30.053808,
         "lon": -95.494643,
         "name": " Villages of Bridgestone AQI",
         "location_type": "outside",
         "pm_2.5": 7.71,
         "temp_f": 89,
         "temp_c": 31.666666666666668,
         "humidity": 70,
         "pressure": 1009.29,
         "p_0_3_um": "None",
         "p_0_5_um": "None",
         "p_1_0_um": "None",
         "p_2_5_um": "None",
         "p_5_0_um": "None",
         "p_10_0_um": "None",
         "pm1_0_cf_1": "None",
         "pm2_5_cf_1": "None",
         "pm10_0_cf_1": "None",
         "pm1_0_atm": "None",
         "pm2_5_atm": "None",
         "pm10_0_atm": "None",
         "last_seen": "2021-10-15T13:34:05.000000",
         "model": "PMS5003+PMS5003+BME280",
         "adc": "None",
         "rssi": "None",
         "hidden": "False",
         "flagged": "False",
         "downgraded": "False",
         "age": 0,
         "brightness": "None",
         "hardware": "None",
         "version": "None",
         "last_update_check": "None",
         "created": "None",
         "uptime": "None",
         "is_owner": "False",
         "10min_avg": 8.13,
         "30min_avg": 8.35,
         "1hour_avg": 8.52,
         "6hour_avg": 8.38,
         "1day_avg": 8.34,
         "1week_avg": 13.53,
         "_deepnote_index_column": 25999
        },
        {
         "parent": "None",
         "lat": 37.88362,
         "lon": -122.070087,
         "name": " WC Hillside",
         "location_type": "outside",
         "pm_2.5": 0.4,
         "temp_f": 60,
         "temp_c": 15.555555555555557,
         "humidity": 34,
         "pressure": 1008.31,
         "p_0_3_um": "None",
         "p_0_5_um": "None",
         "p_1_0_um": "None",
         "p_2_5_um": "None",
         "p_5_0_um": "None",
         "p_10_0_um": "None",
         "pm1_0_cf_1": "None",
         "pm2_5_cf_1": "None",
         "pm10_0_cf_1": "None",
         "pm1_0_atm": "None",
         "pm2_5_atm": "None",
         "pm10_0_atm": "None",
         "last_seen": "2021-10-15T13:34:28.000000",
         "model": "PMS5003+PMS5003+BME280",
         "adc": "None",
         "rssi": "None",
         "hidden": "False",
         "flagged": "True",
         "downgraded": "False",
         "age": 0,
         "brightness": "None",
         "hardware": "None",
         "version": "None",
         "last_update_check": "None",
         "created": "None",
         "uptime": "None",
         "is_owner": "False",
         "10min_avg": 0.21,
         "30min_avg": 0.27,
         "1hour_avg": 0.36,
         "6hour_avg": 1.49,
         "1day_avg": 4.31,
         "1week_avg": 6.32,
         "_deepnote_index_column": 14091
        },
        {
         "parent": "None",
         "lat": 38.573703,
         "lon": -121.439113,
         "name": "\"C\" Street Air Shelter",
         "location_type": "inside",
         "pm_2.5": 0.51,
         "temp_f": 77,
         "temp_c": 25,
         "humidity": 27,
         "pressure": 1021.1,
         "p_0_3_um": "None",
         "p_0_5_um": "None",
         "p_1_0_um": "None",
         "p_2_5_um": "None",
         "p_5_0_um": "None",
         "p_10_0_um": "None",
         "pm1_0_cf_1": "None",
         "pm2_5_cf_1": "None",
         "pm10_0_cf_1": "None",
         "pm1_0_atm": "None",
         "pm2_5_atm": "None",
         "pm10_0_atm": "None",
         "last_seen": "2021-10-15T13:33:14.000000",
         "model": "PMS5003+PMS5003+BME280",
         "adc": "None",
         "rssi": "None",
         "hidden": "False",
         "flagged": "False",
         "downgraded": "False",
         "age": 1,
         "brightness": "None",
         "hardware": "None",
         "version": "None",
         "last_update_check": "None",
         "created": "None",
         "uptime": "None",
         "is_owner": "False",
         "10min_avg": 0.95,
         "30min_avg": 1.15,
         "1hour_avg": 1.36,
         "6hour_avg": 1.54,
         "1day_avg": 2.07,
         "1week_avg": 3.74,
         "_deepnote_index_column": 108226
        },
        {
         "parent": "None",
         "lat": 47.185173,
         "lon": -122.176855,
         "name": "#1",
         "location_type": "outside",
         "pm_2.5": 4.83,
         "temp_f": 55,
         "temp_c": 12.777777777777779,
         "humidity": 71,
         "pressure": 999.68,
         "p_0_3_um": "None",
         "p_0_5_um": "None",
         "p_1_0_um": "None",
         "p_2_5_um": "None",
         "p_5_0_um": "None",
         "p_10_0_um": "None",
         "pm1_0_cf_1": "None",
         "pm2_5_cf_1": "None",
         "pm10_0_cf_1": "None",
         "pm1_0_atm": "None",
         "pm2_5_atm": "None",
         "pm10_0_atm": "None",
         "last_seen": "2021-10-15T13:34:35.000000",
         "model": "PMS5003+PMS5003+BME280",
         "adc": "None",
         "rssi": "None",
         "hidden": "False",
         "flagged": "False",
         "downgraded": "False",
         "age": 0,
         "brightness": "None",
         "hardware": "None",
         "version": "None",
         "last_update_check": "None",
         "created": "None",
         "uptime": "None",
         "is_owner": "False",
         "10min_avg": 5.37,
         "30min_avg": 6.19,
         "1hour_avg": 6.43,
         "6hour_avg": 5.17,
         "1day_avg": 4.76,
         "1week_avg": 5.69,
         "_deepnote_index_column": 42073
        },
        {
         "parent": "None",
         "lat": 47.190197,
         "lon": -122.177992,
         "name": "#2",
         "location_type": "outside",
         "pm_2.5": 4.46,
         "temp_f": 58,
         "temp_c": 14.444444444444445,
         "humidity": 74,
         "pressure": 1000.1,
         "p_0_3_um": "None",
         "p_0_5_um": "None",
         "p_1_0_um": "None",
         "p_2_5_um": "None",
         "p_5_0_um": "None",
         "p_10_0_um": "None",
         "pm1_0_cf_1": "None",
         "pm2_5_cf_1": "None",
         "pm10_0_cf_1": "None",
         "pm1_0_atm": "None",
         "pm2_5_atm": "None",
         "pm10_0_atm": "None",
         "last_seen": "2021-10-15T13:33:10.000000",
         "model": "PMS5003+PMS5003+BME280",
         "adc": "None",
         "rssi": "None",
         "hidden": "False",
         "flagged": "False",
         "downgraded": "False",
         "age": 1,
         "brightness": "None",
         "hardware": "None",
         "version": "None",
         "last_update_check": "None",
         "created": "None",
         "uptime": "None",
         "is_owner": "False",
         "10min_avg": 5.78,
         "30min_avg": 6.66,
         "1hour_avg": 6.9,
         "6hour_avg": 5.47,
         "1day_avg": 5.1,
         "1week_avg": 6.05,
         "_deepnote_index_column": 53069
        },
        {
         "parent": "None",
         "lat": 40.098715,
         "lon": -105.166649,
         "name": "#254",
         "location_type": "inside",
         "pm_2.5": 0,
         "temp_f": 74,
         "temp_c": 23.333333333333336,
         "humidity": 29,
         "pressure": 850.49,
         "p_0_3_um": "None",
         "p_0_5_um": "None",
         "p_1_0_um": "None",
         "p_2_5_um": "None",
         "p_5_0_um": "None",
         "p_10_0_um": "None",
         "pm1_0_cf_1": "None",
         "pm2_5_cf_1": "None",
         "pm10_0_cf_1": "None",
         "pm1_0_atm": "None",
         "pm2_5_atm": "None",
         "pm10_0_atm": "None",
         "last_seen": "2021-10-15T13:33:03.000000",
         "model": "PMS5003+PMS5003+BME280",
         "adc": "None",
         "rssi": "None",
         "hidden": "False",
         "flagged": "True",
         "downgraded": "False",
         "age": 1,
         "brightness": "None",
         "hardware": "None",
         "version": "None",
         "last_update_check": "None",
         "created": "None",
         "uptime": "None",
         "is_owner": "False",
         "10min_avg": 0,
         "30min_avg": 0,
         "1hour_avg": 0.02,
         "6hour_avg": 0.71,
         "1day_avg": 0.81,
         "1week_avg": 0.81,
         "_deepnote_index_column": 108558
        },
        {
         "parent": "None",
         "lat": 40.160043,
         "lon": -79.272304,
         "name": "#9",
         "location_type": "outside",
         "pm_2.5": 14.41,
         "temp_f": 69,
         "temp_c": 20.555555555555557,
         "humidity": 70,
         "pressure": 966.7,
         "p_0_3_um": "None",
         "p_0_5_um": "None",
         "p_1_0_um": "None",
         "p_2_5_um": "None",
         "p_5_0_um": "None",
         "p_10_0_um": "None",
         "pm1_0_cf_1": "None",
         "pm2_5_cf_1": "None",
         "pm10_0_cf_1": "None",
         "pm1_0_atm": "None",
         "pm2_5_atm": "None",
         "pm10_0_atm": "None",
         "last_seen": "2021-10-15T13:34:43.000000",
         "model": "PMS5003+PMS5003+BME280",
         "adc": "None",
         "rssi": "None",
         "hidden": "False",
         "flagged": "False",
         "downgraded": "False",
         "age": 0,
         "brightness": "None",
         "hardware": "None",
         "version": "None",
         "last_update_check": "None",
         "created": "None",
         "uptime": "None",
         "is_owner": "False",
         "10min_avg": 15.68,
         "30min_avg": 15.37,
         "1hour_avg": 15.12,
         "6hour_avg": 13.91,
         "1day_avg": 9.52,
         "1week_avg": 7.1,
         "_deepnote_index_column": 94891
        },
        {
         "parent": "None",
         "lat": 36.807322,
         "lon": -119.796034,
         "name": "#ValleyClimate 2",
         "location_type": "inside",
         "pm_2.5": 11.93,
         "temp_f": 71,
         "temp_c": 21.666666666666668,
         "humidity": 32,
         "pressure": 1009.82,
         "p_0_3_um": "None",
         "p_0_5_um": "None",
         "p_1_0_um": "None",
         "p_2_5_um": "None",
         "p_5_0_um": "None",
         "p_10_0_um": "None",
         "pm1_0_cf_1": "None",
         "pm2_5_cf_1": "None",
         "pm10_0_cf_1": "None",
         "pm1_0_atm": "None",
         "pm2_5_atm": "None",
         "pm10_0_atm": "None",
         "last_seen": "2021-10-15T13:34:36.000000",
         "model": "PMS5003+PMS5003+BME280",
         "adc": "None",
         "rssi": "None",
         "hidden": "False",
         "flagged": "True",
         "downgraded": "False",
         "age": 0,
         "brightness": "None",
         "hardware": "None",
         "version": "None",
         "last_update_check": "None",
         "created": "None",
         "uptime": "None",
         "is_owner": "False",
         "10min_avg": 6.9,
         "30min_avg": 5.22,
         "1hour_avg": 4.9,
         "6hour_avg": 8.97,
         "1day_avg": 10.31,
         "1week_avg": 16.04,
         "_deepnote_index_column": 125651
        },
        {
         "parent": "None",
         "lat": 36.807377,
         "lon": -119.796109,
         "name": "#ValleyClimate",
         "location_type": "outside",
         "pm_2.5": 23.19,
         "temp_f": 55,
         "temp_c": 12.777777777777779,
         "humidity": 57,
         "pressure": 1011.22,
         "p_0_3_um": "None",
         "p_0_5_um": "None",
         "p_1_0_um": "None",
         "p_2_5_um": "None",
         "p_5_0_um": "None",
         "p_10_0_um": "None",
         "pm1_0_cf_1": "None",
         "pm2_5_cf_1": "None",
         "pm10_0_cf_1": "None",
         "pm1_0_atm": "None",
         "pm2_5_atm": "None",
         "pm10_0_atm": "None",
         "last_seen": "2021-10-15T13:33:45.000000",
         "model": "PMS5003+PMS5003+BME280",
         "adc": "None",
         "rssi": "None",
         "hidden": "False",
         "flagged": "False",
         "downgraded": "False",
         "age": 1,
         "brightness": "None",
         "hardware": "None",
         "version": "None",
         "last_update_check": "None",
         "created": "None",
         "uptime": "None",
         "is_owner": "False",
         "10min_avg": 21.03,
         "30min_avg": 19.46,
         "1hour_avg": 17.75,
         "6hour_avg": 12.21,
         "1day_avg": 11.13,
         "1week_avg": 27.22,
         "_deepnote_index_column": 22751
        },
        {
         "parent": "None",
         "lat": 38.863469,
         "lon": -77.297967,
         "name": "$ling",
         "location_type": "inside",
         "pm_2.5": 8.1,
         "temp_f": 82,
         "temp_c": 27.77777777777778,
         "humidity": 33,
         "pressure": 1002.42,
         "p_0_3_um": "None",
         "p_0_5_um": "None",
         "p_1_0_um": "None",
         "p_2_5_um": "None",
         "p_5_0_um": "None",
         "p_10_0_um": "None",
         "pm1_0_cf_1": "None",
         "pm2_5_cf_1": "None",
         "pm10_0_cf_1": "None",
         "pm1_0_atm": "None",
         "pm2_5_atm": "None",
         "pm10_0_atm": "None",
         "last_seen": "2021-10-15T13:34:10.000000",
         "model": "PMS5003+PMS5003+BME280",
         "adc": "None",
         "rssi": "None",
         "hidden": "False",
         "flagged": "False",
         "downgraded": "False",
         "age": 0,
         "brightness": "None",
         "hardware": "None",
         "version": "None",
         "last_update_check": "None",
         "created": "None",
         "uptime": "None",
         "is_owner": "False",
         "10min_avg": 7.47,
         "30min_avg": 7.18,
         "1hour_avg": 6.82,
         "6hour_avg": 6.55,
         "1day_avg": 7.13,
         "1week_avg": 6.8,
         "_deepnote_index_column": 86657
        }
       ],
       "rows_bottom": [
        {
         "parent": "None",
         "lat": 36.869269,
         "lon": 126.885076,
         "name": "인주면사무소",
         "location_type": "outside",
         "pm_2.5": 46.47,
         "temp_f": 75,
         "temp_c": 23.88888888888889,
         "humidity": 59,
         "pressure": 1018.83,
         "p_0_3_um": "None",
         "p_0_5_um": "None",
         "p_1_0_um": "None",
         "p_2_5_um": "None",
         "p_5_0_um": "None",
         "p_10_0_um": "None",
         "pm1_0_cf_1": "None",
         "pm2_5_cf_1": "None",
         "pm10_0_cf_1": "None",
         "pm1_0_atm": "None",
         "pm2_5_atm": "None",
         "pm10_0_atm": "None",
         "last_seen": "2021-10-15T13:34:11.000000",
         "model": "PMS5003+PMS5003+BME280",
         "adc": "None",
         "rssi": "None",
         "hidden": "False",
         "flagged": "True",
         "downgraded": "False",
         "age": 0,
         "brightness": "None",
         "hardware": "None",
         "version": "None",
         "last_update_check": "None",
         "created": "None",
         "uptime": "None",
         "is_owner": "False",
         "10min_avg": 47.99,
         "30min_avg": 47.34,
         "1hour_avg": 46.08,
         "6hour_avg": 37.49,
         "1day_avg": 23.25,
         "1week_avg": 19.93,
         "_deepnote_index_column": 65011
        },
        {
         "parent": "None",
         "lat": 36.801094,
         "lon": 127.142108,
         "name": "일봉동행정복지센터",
         "location_type": "outside",
         "pm_2.5": 47.91,
         "temp_f": 76,
         "temp_c": 24.444444444444446,
         "humidity": 58,
         "pressure": 1016.34,
         "p_0_3_um": "None",
         "p_0_5_um": "None",
         "p_1_0_um": "None",
         "p_2_5_um": "None",
         "p_5_0_um": "None",
         "p_10_0_um": "None",
         "pm1_0_cf_1": "None",
         "pm2_5_cf_1": "None",
         "pm10_0_cf_1": "None",
         "pm1_0_atm": "None",
         "pm2_5_atm": "None",
         "pm10_0_atm": "None",
         "last_seen": "2021-10-15T13:34:10.000000",
         "model": "PMS5003+PMS5003+BME280",
         "adc": "None",
         "rssi": "None",
         "hidden": "False",
         "flagged": "False",
         "downgraded": "False",
         "age": 0,
         "brightness": "None",
         "hardware": "None",
         "version": "None",
         "last_update_check": "None",
         "created": "None",
         "uptime": "None",
         "is_owner": "False",
         "10min_avg": 51.27,
         "30min_avg": 51.4,
         "1hour_avg": 50.81,
         "6hour_avg": 41,
         "1day_avg": 24.11,
         "1week_avg": 20.13,
         "_deepnote_index_column": 64927
        },
        {
         "parent": "None",
         "lat": 36.912386,
         "lon": 127.221351,
         "name": "입장면행정복지센터",
         "location_type": "outside",
         "pm_2.5": 41.33,
         "temp_f": 75,
         "temp_c": 23.88888888888889,
         "humidity": 57,
         "pressure": 1014.82,
         "p_0_3_um": "None",
         "p_0_5_um": "None",
         "p_1_0_um": "None",
         "p_2_5_um": "None",
         "p_5_0_um": "None",
         "p_10_0_um": "None",
         "pm1_0_cf_1": "None",
         "pm2_5_cf_1": "None",
         "pm10_0_cf_1": "None",
         "pm1_0_atm": "None",
         "pm2_5_atm": "None",
         "pm10_0_atm": "None",
         "last_seen": "2021-10-15T13:33:13.000000",
         "model": "PMS5003+PMS5003+BME280",
         "adc": "None",
         "rssi": "None",
         "hidden": "False",
         "flagged": "False",
         "downgraded": "False",
         "age": 1,
         "brightness": "None",
         "hardware": "None",
         "version": "None",
         "last_update_check": "None",
         "created": "None",
         "uptime": "None",
         "is_owner": "False",
         "10min_avg": 44.01,
         "30min_avg": 44.85,
         "1hour_avg": 46.15,
         "6hour_avg": 39.75,
         "1day_avg": 25,
         "1week_avg": 20.43,
         "_deepnote_index_column": 47689
        },
        {
         "parent": "None",
         "lat": 36.79885,
         "lon": 127.151822,
         "name": "중앙동행정복지센터",
         "location_type": "outside",
         "pm_2.5": 48.36,
         "temp_f": 76,
         "temp_c": 24.444444444444446,
         "humidity": 58,
         "pressure": 1016.88,
         "p_0_3_um": "None",
         "p_0_5_um": "None",
         "p_1_0_um": "None",
         "p_2_5_um": "None",
         "p_5_0_um": "None",
         "p_10_0_um": "None",
         "pm1_0_cf_1": "None",
         "pm2_5_cf_1": "None",
         "pm10_0_cf_1": "None",
         "pm1_0_atm": "None",
         "pm2_5_atm": "None",
         "pm10_0_atm": "None",
         "last_seen": "2021-10-15T13:34:59.000000",
         "model": "PMS5003+PMS5003+BME280",
         "adc": "None",
         "rssi": "None",
         "hidden": "False",
         "flagged": "False",
         "downgraded": "False",
         "age": 0,
         "brightness": "None",
         "hardware": "None",
         "version": "None",
         "last_update_check": "None",
         "created": "None",
         "uptime": "None",
         "is_owner": "False",
         "10min_avg": 50.01,
         "30min_avg": 50.45,
         "1hour_avg": 50.68,
         "6hour_avg": 42.04,
         "1day_avg": 24.76,
         "1week_avg": 20.68,
         "_deepnote_index_column": 64933
        },
        {
         "parent": "None",
         "lat": 36.787617,
         "lon": 127.092178,
         "name": "지산공원",
         "location_type": "outside",
         "pm_2.5": 52.06,
         "temp_f": 75,
         "temp_c": 23.88888888888889,
         "humidity": 58,
         "pressure": 1017.58,
         "p_0_3_um": "None",
         "p_0_5_um": "None",
         "p_1_0_um": "None",
         "p_2_5_um": "None",
         "p_5_0_um": "None",
         "p_10_0_um": "None",
         "pm1_0_cf_1": "None",
         "pm2_5_cf_1": "None",
         "pm10_0_cf_1": "None",
         "pm1_0_atm": "None",
         "pm2_5_atm": "None",
         "pm10_0_atm": "None",
         "last_seen": "2021-10-15T13:34:00.000000",
         "model": "PMS5003+PMS5003+BME280",
         "adc": "None",
         "rssi": "None",
         "hidden": "False",
         "flagged": "False",
         "downgraded": "False",
         "age": 1,
         "brightness": "None",
         "hardware": "None",
         "version": "None",
         "last_update_check": "None",
         "created": "None",
         "uptime": "None",
         "is_owner": "False",
         "10min_avg": 52.31,
         "30min_avg": 52.27,
         "1hour_avg": 51.05,
         "6hour_avg": 39.92,
         "1day_avg": 23.96,
         "1week_avg": 20.34,
         "_deepnote_index_column": 64097
        },
        {
         "parent": "None",
         "lat": 36.783216,
         "lon": 127.165218,
         "name": "차량등록사업소",
         "location_type": "outside",
         "pm_2.5": 50.58,
         "temp_f": 76,
         "temp_c": 24.444444444444446,
         "humidity": 58,
         "pressure": 1015,
         "p_0_3_um": "None",
         "p_0_5_um": "None",
         "p_1_0_um": "None",
         "p_2_5_um": "None",
         "p_5_0_um": "None",
         "p_10_0_um": "None",
         "pm1_0_cf_1": "None",
         "pm2_5_cf_1": "None",
         "pm10_0_cf_1": "None",
         "pm1_0_atm": "None",
         "pm2_5_atm": "None",
         "pm10_0_atm": "None",
         "last_seen": "2021-10-15T13:34:07.000000",
         "model": "PMS5003+PMS5003+BME280",
         "adc": "None",
         "rssi": "None",
         "hidden": "False",
         "flagged": "False",
         "downgraded": "False",
         "age": 0,
         "brightness": "None",
         "hardware": "None",
         "version": "None",
         "last_update_check": "None",
         "created": "None",
         "uptime": "None",
         "is_owner": "False",
         "10min_avg": 47.32,
         "30min_avg": 47.91,
         "1hour_avg": 48.21,
         "6hour_avg": 39.44,
         "1day_avg": 23.05,
         "1week_avg": 19.54,
         "_deepnote_index_column": 65005
        },
        {
         "parent": "None",
         "lat": 36.785883,
         "lon": 127.15704,
         "name": "청룡동행정복지센터",
         "location_type": "outside",
         "pm_2.5": 48.76,
         "temp_f": 75,
         "temp_c": 23.88888888888889,
         "humidity": 59,
         "pressure": 1015.06,
         "p_0_3_um": "None",
         "p_0_5_um": "None",
         "p_1_0_um": "None",
         "p_2_5_um": "None",
         "p_5_0_um": "None",
         "p_10_0_um": "None",
         "pm1_0_cf_1": "None",
         "pm2_5_cf_1": "None",
         "pm10_0_cf_1": "None",
         "pm1_0_atm": "None",
         "pm2_5_atm": "None",
         "pm10_0_atm": "None",
         "last_seen": "2021-10-15T13:34:36.000000",
         "model": "PMS5003+PMS5003+BME280",
         "adc": "None",
         "rssi": "None",
         "hidden": "False",
         "flagged": "True",
         "downgraded": "False",
         "age": 0,
         "brightness": "None",
         "hardware": "None",
         "version": "None",
         "last_update_check": "None",
         "created": "None",
         "uptime": "None",
         "is_owner": "False",
         "10min_avg": 50.51,
         "30min_avg": 50.56,
         "1hour_avg": 50.24,
         "6hour_avg": 40.81,
         "1day_avg": 23.9,
         "1week_avg": 20.32,
         "_deepnote_index_column": 64085
        },
        {
         "parent": "None",
         "lat": 36.691324,
         "lon": 126.585255,
         "name": "한서대학교",
         "location_type": "outside",
         "pm_2.5": 23.96,
         "temp_f": 73,
         "temp_c": 22.77777777777778,
         "humidity": 58,
         "pressure": 1006.26,
         "p_0_3_um": "None",
         "p_0_5_um": "None",
         "p_1_0_um": "None",
         "p_2_5_um": "None",
         "p_5_0_um": "None",
         "p_10_0_um": "None",
         "pm1_0_cf_1": "None",
         "pm2_5_cf_1": "None",
         "pm10_0_cf_1": "None",
         "pm1_0_atm": "None",
         "pm2_5_atm": "None",
         "pm10_0_atm": "None",
         "last_seen": "2021-10-15T13:34:55.000000",
         "model": "PMS5003+PMS5003+BME280",
         "adc": "None",
         "rssi": "None",
         "hidden": "False",
         "flagged": "False",
         "downgraded": "False",
         "age": 0,
         "brightness": "None",
         "hardware": "None",
         "version": "None",
         "last_update_check": "None",
         "created": "None",
         "uptime": "None",
         "is_owner": "False",
         "10min_avg": 27.46,
         "30min_avg": 31.73,
         "1hour_avg": 34.64,
         "6hour_avg": 27.23,
         "1day_avg": 15.35,
         "1week_avg": 14.71,
         "_deepnote_index_column": 64995
        },
        {
         "parent": "None",
         "lat": 36.71072,
         "lon": 126.54839,
         "name": "해미읍성",
         "location_type": "outside",
         "pm_2.5": 36.97,
         "temp_f": 73,
         "temp_c": 22.77777777777778,
         "humidity": 59,
         "pressure": 1016.74,
         "p_0_3_um": "None",
         "p_0_5_um": "None",
         "p_1_0_um": "None",
         "p_2_5_um": "None",
         "p_5_0_um": "None",
         "p_10_0_um": "None",
         "pm1_0_cf_1": "None",
         "pm2_5_cf_1": "None",
         "pm10_0_cf_1": "None",
         "pm1_0_atm": "None",
         "pm2_5_atm": "None",
         "pm10_0_atm": "None",
         "last_seen": "2021-10-15T13:34:05.000000",
         "model": "PMS5003+PMS5003+BME280",
         "adc": "None",
         "rssi": "None",
         "hidden": "False",
         "flagged": "False",
         "downgraded": "False",
         "age": 0,
         "brightness": "None",
         "hardware": "None",
         "version": "None",
         "last_update_check": "None",
         "created": "None",
         "uptime": "None",
         "is_owner": "False",
         "10min_avg": 36.84,
         "30min_avg": 39.06,
         "1hour_avg": 40.74,
         "6hour_avg": 31.96,
         "1day_avg": 17.87,
         "1week_avg": 15.24,
         "_deepnote_index_column": 64093
        },
        {
         "parent": "None",
         "lat": 36.761236,
         "lon": 127.3953,
         "name": "화덕보건진료소",
         "location_type": "outside",
         "pm_2.5": 43.73,
         "temp_f": 74,
         "temp_c": 23.333333333333336,
         "humidity": 62,
         "pressure": 1006.3,
         "p_0_3_um": "None",
         "p_0_5_um": "None",
         "p_1_0_um": "None",
         "p_2_5_um": "None",
         "p_5_0_um": "None",
         "p_10_0_um": "None",
         "pm1_0_cf_1": "None",
         "pm2_5_cf_1": "None",
         "pm10_0_cf_1": "None",
         "pm1_0_atm": "None",
         "pm2_5_atm": "None",
         "pm10_0_atm": "None",
         "last_seen": "2021-10-15T13:34:17.000000",
         "model": "PMS5003+PMS5003+BME280",
         "adc": "None",
         "rssi": "None",
         "hidden": "False",
         "flagged": "True",
         "downgraded": "False",
         "age": 0,
         "brightness": "None",
         "hardware": "None",
         "version": "None",
         "last_update_check": "None",
         "created": "None",
         "uptime": "None",
         "is_owner": "False",
         "10min_avg": 47.32,
         "30min_avg": 48.83,
         "1hour_avg": 49.41,
         "6hour_avg": 40.33,
         "1day_avg": 23.98,
         "1week_avg": 19.42,
         "_deepnote_index_column": 29747
        },
        {
         "parent": "None",
         "lat": 36.718003,
         "lon": 126.926841,
         "name": "화천1리마을회관",
         "location_type": "outside",
         "pm_2.5": 49.48,
         "temp_f": 75,
         "temp_c": 23.88888888888889,
         "humidity": 58,
         "pressure": 1011.73,
         "p_0_3_um": "None",
         "p_0_5_um": "None",
         "p_1_0_um": "None",
         "p_2_5_um": "None",
         "p_5_0_um": "None",
         "p_10_0_um": "None",
         "pm1_0_cf_1": "None",
         "pm2_5_cf_1": "None",
         "pm10_0_cf_1": "None",
         "pm1_0_atm": "None",
         "pm2_5_atm": "None",
         "pm10_0_atm": "None",
         "last_seen": "2021-10-15T13:33:07.000000",
         "model": "PMS5003+PMS5003+BME280",
         "adc": "None",
         "rssi": "None",
         "hidden": "False",
         "flagged": "False",
         "downgraded": "False",
         "age": 1,
         "brightness": "None",
         "hardware": "None",
         "version": "None",
         "last_update_check": "None",
         "created": "None",
         "uptime": "None",
         "is_owner": "False",
         "10min_avg": 49.96,
         "30min_avg": 50.51,
         "1hour_avg": 50.88,
         "6hour_avg": 39.36,
         "1day_avg": 21.57,
         "1week_avg": 16.71,
         "_deepnote_index_column": 98309
        },
        {
         "parent": "None",
         "lat": 40.603078,
         "lon": -111.836119,
         "name": "Oakdale",
         "location_type": "None",
         "pm_2.5": 0,
         "temp_f": "nan",
         "temp_c": "nan",
         "humidity": "nan",
         "pressure": "nan",
         "p_0_3_um": "None",
         "p_0_5_um": "None",
         "p_1_0_um": "None",
         "p_2_5_um": "None",
         "p_5_0_um": "None",
         "p_10_0_um": "None",
         "pm1_0_cf_1": "None",
         "pm2_5_cf_1": "None",
         "pm10_0_cf_1": "None",
         "pm1_0_atm": "None",
         "pm2_5_atm": "None",
         "pm10_0_atm": "None",
         "last_seen": "2021-10-15T13:34:00.000000",
         "model": "PMS1003+HDC1008+PUB+",
         "adc": "None",
         "rssi": "None",
         "hidden": "False",
         "flagged": "False",
         "downgraded": "False",
         "age": 1,
         "brightness": "None",
         "hardware": "None",
         "version": "None",
         "last_update_check": "None",
         "created": "None",
         "uptime": "None",
         "is_owner": "False",
         "10min_avg": 0,
         "30min_avg": 0,
         "1hour_avg": 0,
         "6hour_avg": 0,
         "1day_avg": 0,
         "1week_avg": 0,
         "_deepnote_index_column": 20
        }
       ]
      },
      "text/plain": "       parent        lat         lon                          name  \\\nid                                                                   \n14633    None  37.275561 -121.964134             Hazelwood canary    \n25999    None  30.053808  -95.494643   Villages of Bridgestone AQI   \n14091    None  37.883620 -122.070087                   WC Hillside   \n108226   None  38.573703 -121.439113        \"C\" Street Air Shelter   \n42073    None  47.185173 -122.176855                            #1   \n...       ...        ...         ...                           ...   \n64995    None  36.691324  126.585255                         한서대학교   \n64093    None  36.710720  126.548390                          해미읍성   \n29747    None  36.761236  127.395300                       화덕보건진료소   \n98309    None  36.718003  126.926841                      화천1리마을회관   \n20       None  40.603078 -111.836119                       Oakdale   \n\n       location_type  pm_2.5  temp_f     temp_c  humidity  pressure  ...  \\\nid                                                                   ...   \n14633        outside    0.03    57.0  13.888889      40.0   1013.35  ...   \n25999        outside    7.71    89.0  31.666667      70.0   1009.29  ...   \n14091        outside    0.40    60.0  15.555556      34.0   1008.31  ...   \n108226        inside    0.51    77.0  25.000000      27.0   1021.10  ...   \n42073        outside    4.83    55.0  12.777778      71.0    999.68  ...   \n...              ...     ...     ...        ...       ...       ...  ...   \n64995        outside   23.96    73.0  22.777778      58.0   1006.26  ...   \n64093        outside   36.97    73.0  22.777778      59.0   1016.74  ...   \n29747        outside   43.73    74.0  23.333333      62.0   1006.30  ...   \n98309        outside   49.48    75.0  23.888889      58.0   1011.73  ...   \n20              None    0.00     NaN        NaN       NaN       NaN  ...   \n\n       last_update_check created uptime is_owner 10min_avg 30min_avg  \\\nid                                                                     \n14633               None    None   None    False      0.31      0.28   \n25999               None    None   None    False      8.13      8.35   \n14091               None    None   None    False      0.21      0.27   \n108226              None    None   None    False      0.95      1.15   \n42073               None    None   None    False      5.37      6.19   \n...                  ...     ...    ...      ...       ...       ...   \n64995               None    None   None    False     27.46     31.73   \n64093               None    None   None    False     36.84     39.06   \n29747               None    None   None    False     47.32     48.83   \n98309               None    None   None    False     49.96     50.51   \n20                  None    None   None    False      0.00      0.00   \n\n       1hour_avg 6hour_avg 1day_avg 1week_avg  \nid                                             \n14633       0.45      1.31     1.36      4.95  \n25999       8.52      8.38     8.34     13.53  \n14091       0.36      1.49     4.31      6.32  \n108226      1.36      1.54     2.07      3.74  \n42073       6.43      5.17     4.76      5.69  \n...          ...       ...      ...       ...  \n64995      34.64     27.23    15.35     14.71  \n64093      40.74     31.96    17.87     15.24  \n29747      49.41     40.33    23.98     19.42  \n98309      50.88     39.36    21.57     16.71  \n20          0.00      0.00     0.00      0.00  \n\n[23163 rows x 43 columns]",
      "text/html": "<div>\n<style scoped>\n    .dataframe tbody tr th:only-of-type {\n        vertical-align: middle;\n    }\n\n    .dataframe tbody tr th {\n        vertical-align: top;\n    }\n\n    .dataframe thead th {\n        text-align: right;\n    }\n</style>\n<table border=\"1\" class=\"dataframe\">\n  <thead>\n    <tr style=\"text-align: right;\">\n      <th></th>\n      <th>parent</th>\n      <th>lat</th>\n      <th>lon</th>\n      <th>name</th>\n      <th>location_type</th>\n      <th>pm_2.5</th>\n      <th>temp_f</th>\n      <th>temp_c</th>\n      <th>humidity</th>\n      <th>pressure</th>\n      <th>...</th>\n      <th>last_update_check</th>\n      <th>created</th>\n      <th>uptime</th>\n      <th>is_owner</th>\n      <th>10min_avg</th>\n      <th>30min_avg</th>\n      <th>1hour_avg</th>\n      <th>6hour_avg</th>\n      <th>1day_avg</th>\n      <th>1week_avg</th>\n    </tr>\n    <tr>\n      <th>id</th>\n      <th></th>\n      <th></th>\n      <th></th>\n      <th></th>\n      <th></th>\n      <th></th>\n      <th></th>\n      <th></th>\n      <th></th>\n      <th></th>\n      <th></th>\n      <th></th>\n      <th></th>\n      <th></th>\n      <th></th>\n      <th></th>\n      <th></th>\n      <th></th>\n      <th></th>\n      <th></th>\n      <th></th>\n    </tr>\n  </thead>\n  <tbody>\n    <tr>\n      <th>14633</th>\n      <td>None</td>\n      <td>37.275561</td>\n      <td>-121.964134</td>\n      <td>Hazelwood canary</td>\n      <td>outside</td>\n      <td>0.03</td>\n      <td>57.0</td>\n      <td>13.888889</td>\n      <td>40.0</td>\n      <td>1013.35</td>\n      <td>...</td>\n      <td>None</td>\n      <td>None</td>\n      <td>None</td>\n      <td>False</td>\n      <td>0.31</td>\n      <td>0.28</td>\n      <td>0.45</td>\n      <td>1.31</td>\n      <td>1.36</td>\n      <td>4.95</td>\n    </tr>\n    <tr>\n      <th>25999</th>\n      <td>None</td>\n      <td>30.053808</td>\n      <td>-95.494643</td>\n      <td>Villages of Bridgestone AQI</td>\n      <td>outside</td>\n      <td>7.71</td>\n      <td>89.0</td>\n      <td>31.666667</td>\n      <td>70.0</td>\n      <td>1009.29</td>\n      <td>...</td>\n      <td>None</td>\n      <td>None</td>\n      <td>None</td>\n      <td>False</td>\n      <td>8.13</td>\n      <td>8.35</td>\n      <td>8.52</td>\n      <td>8.38</td>\n      <td>8.34</td>\n      <td>13.53</td>\n    </tr>\n    <tr>\n      <th>14091</th>\n      <td>None</td>\n      <td>37.883620</td>\n      <td>-122.070087</td>\n      <td>WC Hillside</td>\n      <td>outside</td>\n      <td>0.40</td>\n      <td>60.0</td>\n      <td>15.555556</td>\n      <td>34.0</td>\n      <td>1008.31</td>\n      <td>...</td>\n      <td>None</td>\n      <td>None</td>\n      <td>None</td>\n      <td>False</td>\n      <td>0.21</td>\n      <td>0.27</td>\n      <td>0.36</td>\n      <td>1.49</td>\n      <td>4.31</td>\n      <td>6.32</td>\n    </tr>\n    <tr>\n      <th>108226</th>\n      <td>None</td>\n      <td>38.573703</td>\n      <td>-121.439113</td>\n      <td>\"C\" Street Air Shelter</td>\n      <td>inside</td>\n      <td>0.51</td>\n      <td>77.0</td>\n      <td>25.000000</td>\n      <td>27.0</td>\n      <td>1021.10</td>\n      <td>...</td>\n      <td>None</td>\n      <td>None</td>\n      <td>None</td>\n      <td>False</td>\n      <td>0.95</td>\n      <td>1.15</td>\n      <td>1.36</td>\n      <td>1.54</td>\n      <td>2.07</td>\n      <td>3.74</td>\n    </tr>\n    <tr>\n      <th>42073</th>\n      <td>None</td>\n      <td>47.185173</td>\n      <td>-122.176855</td>\n      <td>#1</td>\n      <td>outside</td>\n      <td>4.83</td>\n      <td>55.0</td>\n      <td>12.777778</td>\n      <td>71.0</td>\n      <td>999.68</td>\n      <td>...</td>\n      <td>None</td>\n      <td>None</td>\n      <td>None</td>\n      <td>False</td>\n      <td>5.37</td>\n      <td>6.19</td>\n      <td>6.43</td>\n      <td>5.17</td>\n      <td>4.76</td>\n      <td>5.69</td>\n    </tr>\n    <tr>\n      <th>...</th>\n      <td>...</td>\n      <td>...</td>\n      <td>...</td>\n      <td>...</td>\n      <td>...</td>\n      <td>...</td>\n      <td>...</td>\n      <td>...</td>\n      <td>...</td>\n      <td>...</td>\n      <td>...</td>\n      <td>...</td>\n      <td>...</td>\n      <td>...</td>\n      <td>...</td>\n      <td>...</td>\n      <td>...</td>\n      <td>...</td>\n      <td>...</td>\n      <td>...</td>\n      <td>...</td>\n    </tr>\n    <tr>\n      <th>64995</th>\n      <td>None</td>\n      <td>36.691324</td>\n      <td>126.585255</td>\n      <td>한서대학교</td>\n      <td>outside</td>\n      <td>23.96</td>\n      <td>73.0</td>\n      <td>22.777778</td>\n      <td>58.0</td>\n      <td>1006.26</td>\n      <td>...</td>\n      <td>None</td>\n      <td>None</td>\n      <td>None</td>\n      <td>False</td>\n      <td>27.46</td>\n      <td>31.73</td>\n      <td>34.64</td>\n      <td>27.23</td>\n      <td>15.35</td>\n      <td>14.71</td>\n    </tr>\n    <tr>\n      <th>64093</th>\n      <td>None</td>\n      <td>36.710720</td>\n      <td>126.548390</td>\n      <td>해미읍성</td>\n      <td>outside</td>\n      <td>36.97</td>\n      <td>73.0</td>\n      <td>22.777778</td>\n      <td>59.0</td>\n      <td>1016.74</td>\n      <td>...</td>\n      <td>None</td>\n      <td>None</td>\n      <td>None</td>\n      <td>False</td>\n      <td>36.84</td>\n      <td>39.06</td>\n      <td>40.74</td>\n      <td>31.96</td>\n      <td>17.87</td>\n      <td>15.24</td>\n    </tr>\n    <tr>\n      <th>29747</th>\n      <td>None</td>\n      <td>36.761236</td>\n      <td>127.395300</td>\n      <td>화덕보건진료소</td>\n      <td>outside</td>\n      <td>43.73</td>\n      <td>74.0</td>\n      <td>23.333333</td>\n      <td>62.0</td>\n      <td>1006.30</td>\n      <td>...</td>\n      <td>None</td>\n      <td>None</td>\n      <td>None</td>\n      <td>False</td>\n      <td>47.32</td>\n      <td>48.83</td>\n      <td>49.41</td>\n      <td>40.33</td>\n      <td>23.98</td>\n      <td>19.42</td>\n    </tr>\n    <tr>\n      <th>98309</th>\n      <td>None</td>\n      <td>36.718003</td>\n      <td>126.926841</td>\n      <td>화천1리마을회관</td>\n      <td>outside</td>\n      <td>49.48</td>\n      <td>75.0</td>\n      <td>23.888889</td>\n      <td>58.0</td>\n      <td>1011.73</td>\n      <td>...</td>\n      <td>None</td>\n      <td>None</td>\n      <td>None</td>\n      <td>False</td>\n      <td>49.96</td>\n      <td>50.51</td>\n      <td>50.88</td>\n      <td>39.36</td>\n      <td>21.57</td>\n      <td>16.71</td>\n    </tr>\n    <tr>\n      <th>20</th>\n      <td>None</td>\n      <td>40.603078</td>\n      <td>-111.836119</td>\n      <td>Oakdale</td>\n      <td>None</td>\n      <td>0.00</td>\n      <td>NaN</td>\n      <td>NaN</td>\n      <td>NaN</td>\n      <td>NaN</td>\n      <td>...</td>\n      <td>None</td>\n      <td>None</td>\n      <td>None</td>\n      <td>False</td>\n      <td>0.00</td>\n      <td>0.00</td>\n      <td>0.00</td>\n      <td>0.00</td>\n      <td>0.00</td>\n      <td>0.00</td>\n    </tr>\n  </tbody>\n</table>\n<p>23163 rows × 43 columns</p>\n</div>"
     },
     "metadata": {}
    }
   ]
  },
  {
   "cell_type": "markdown",
   "source": "Here is a breakdown of the dataframe above and what each column represents. \n\n`lat`: The latitude coordinate of the location\n\n`lon`: The longitude coordinate of the location\n\n`name`: The name of the location\n\n`location_type`: The nature of the location (ie. inside or outside)\n\n`pm_2.5`: The level of fine particulate matter in the air of that location\n\n`temp_f`: The temperature of the location in degrees Farenheit \n\n`temp_c`: The temperature of the location in degrees Celsius \n\n`humidity`: The humidity percentage of the location\n\n`pressure`: The pressure index of the location (in millibars)\n\n`last_seen`: The last seen date and timestamp in UTC\n\n`model`: Model of the specific sensor\n\n`flagged`: Whether or not the channel was marked as flagged (usually based on a fault)\n\n`age`: Sensor data age (when data was last received)\n\n`10min_avg`: Average PM 2.5 AQI over the last 10 minutes \n\n`30min_avg`: Average PM 2.5 AQI over the last 30 minutes\n\n`1hour_avg`: Average PM 2.5 AQI over the last hour\n\n`6hour_avg`: Average PM 2.5 AQI over the last 6 hours\n\n`1day_avg`: Average PM 2.5 AQI over the last day \n\n`1week_avg`: Average PM 2.5 AQI over the last week\n",
   "metadata": {
    "tags": [],
    "cell_id": "00046-a88d12cb-677a-406b-aa64-0bd867aa8b44",
    "deepnote_cell_type": "markdown"
   }
  },
  {
   "cell_type": "markdown",
   "source": "<br>\n\n### Airborne Particulate Matter (PM) 2.5 \nWhile many of the column names are relatively straightforward, such as the \"name\" column (which displays the set name of the particular sensor), the \"location_type\" column (which indicates where it is an indoor or outdoor sensor), etc., we would like to draw your attention to the \"pm_2.5\" column. \n\n>The \"pm_2.5\" column represents the count of airborne pm that is larger than 2.5um/dl, in otherwords, airborne particles that have a diameter of 2.5 micrometers or less. In high levels, PM 2.5 particles can reduce visibility and cause the air to appear hazy. Tracking PM 2.5 is important because prolonged exposure to high levels of PM 2.5 particles can cause adverse US Environmental Protection Agency (EPA) use to calculate the local Air Quality Index (AQI).",
   "metadata": {
    "tags": [],
    "cell_id": "00047-78fa6b42-4413-4afa-9761-083a5da56d5e",
    "deepnote_cell_type": "markdown"
   }
  },
  {
   "cell_type": "markdown",
   "source": "**Run the cells below to take a look at PM 2.5 levels of a specific sensor over time!**",
   "metadata": {
    "tags": [],
    "cell_id": "00048-f98553a1-3ba9-4feb-9bb9-55c8e4e65a9d",
    "deepnote_cell_type": "markdown"
   }
  },
  {
   "cell_type": "markdown",
   "source": "If you go to the PurpleAir website [here](https://map.purpleair.com/1/mAQI/a10/p604800/cC0#14.52/30.28196/-97.73198), it should navigate you to a map of the surrounding University of Texas area. If you click on the sensor currently located in the DKR Texas Memorial Stadium, you'll find that the name of that particular sensor is \"PA_II_D8B6\". \n\nLet's take a closer look at the UT Stadium Sensor! In the code cell below we will filter the dataframe by the sensor name (\"PA_II_D8B6\") to pick out the row that corresponds to the specific sensor we are looking for. \n\n**Run the cell below!**",
   "metadata": {
    "tags": [],
    "cell_id": "00049-2814dfe5-4749-4020-8109-a43028c4930a",
    "deepnote_cell_type": "markdown"
   }
  },
  {
   "cell_type": "code",
   "metadata": {
    "tags": [],
    "deepnote_to_be_reexecuted": false,
    "source_hash": "18fdfec8",
    "execution_start": 1634304957570,
    "execution_millis": 27,
    "cell_id": "00050-3b3b4ab4-1dd4-49a9-91e8-31d10863375b",
    "deepnote_cell_type": "code"
   },
   "source": "df[df['name'] == \"PA_II_D8B6\"]",
   "execution_count": 15,
   "outputs": [
    {
     "output_type": "execute_result",
     "execution_count": 15,
     "data": {
      "application/vnd.deepnote.dataframe.v2+json": {
       "row_count": 1,
       "column_count": 43,
       "columns": [
        {
         "name": "parent",
         "dtype": "object",
         "stats": {
          "unique_count": 0,
          "nan_count": 1,
          "categories": [
           {
            "name": "Missing",
            "count": 1
           }
          ]
         }
        },
        {
         "name": "lat",
         "dtype": "float64",
         "stats": {
          "unique_count": 1,
          "nan_count": 0,
          "min": "30.285069",
          "max": "30.285069",
          "histogram": [
           {
            "bin_start": 29.785069,
            "bin_end": 29.885069,
            "count": 0
           },
           {
            "bin_start": 29.885069,
            "bin_end": 29.985069,
            "count": 0
           },
           {
            "bin_start": 29.985069,
            "bin_end": 30.085069,
            "count": 0
           },
           {
            "bin_start": 30.085069,
            "bin_end": 30.185069,
            "count": 0
           },
           {
            "bin_start": 30.185069,
            "bin_end": 30.285069,
            "count": 0
           },
           {
            "bin_start": 30.285069,
            "bin_end": 30.385069,
            "count": 1
           },
           {
            "bin_start": 30.385069,
            "bin_end": 30.485069,
            "count": 0
           },
           {
            "bin_start": 30.485069,
            "bin_end": 30.585069,
            "count": 0
           },
           {
            "bin_start": 30.585069,
            "bin_end": 30.685069,
            "count": 0
           },
           {
            "bin_start": 30.685069,
            "bin_end": 30.785069,
            "count": 0
           }
          ]
         }
        },
        {
         "name": "lon",
         "dtype": "float64",
         "stats": {
          "unique_count": 1,
          "nan_count": 0,
          "min": "-97.732877",
          "max": "-97.732877",
          "histogram": [
           {
            "bin_start": -98.232877,
            "bin_end": -98.13287700000001,
            "count": 0
           },
           {
            "bin_start": -98.13287700000001,
            "bin_end": -98.032877,
            "count": 0
           },
           {
            "bin_start": -98.032877,
            "bin_end": -97.932877,
            "count": 0
           },
           {
            "bin_start": -97.932877,
            "bin_end": -97.832877,
            "count": 0
           },
           {
            "bin_start": -97.832877,
            "bin_end": -97.732877,
            "count": 0
           },
           {
            "bin_start": -97.732877,
            "bin_end": -97.63287700000001,
            "count": 1
           },
           {
            "bin_start": -97.63287700000001,
            "bin_end": -97.532877,
            "count": 0
           },
           {
            "bin_start": -97.532877,
            "bin_end": -97.432877,
            "count": 0
           },
           {
            "bin_start": -97.432877,
            "bin_end": -97.332877,
            "count": 0
           },
           {
            "bin_start": -97.332877,
            "bin_end": -97.232877,
            "count": 0
           }
          ]
         }
        },
        {
         "name": "name",
         "dtype": "object",
         "stats": {
          "unique_count": 1,
          "nan_count": 0,
          "categories": [
           {
            "name": "PA_II_D8B6",
            "count": 1
           }
          ]
         }
        },
        {
         "name": "location_type",
         "dtype": "object",
         "stats": {
          "unique_count": 1,
          "nan_count": 0,
          "categories": [
           {
            "name": "outside",
            "count": 1
           }
          ]
         }
        },
        {
         "name": "pm_2.5",
         "dtype": "float64",
         "stats": {
          "unique_count": 1,
          "nan_count": 0,
          "min": "12.68",
          "max": "12.68",
          "histogram": [
           {
            "bin_start": 12.18,
            "bin_end": 12.28,
            "count": 0
           },
           {
            "bin_start": 12.28,
            "bin_end": 12.379999999999999,
            "count": 0
           },
           {
            "bin_start": 12.379999999999999,
            "bin_end": 12.48,
            "count": 0
           },
           {
            "bin_start": 12.48,
            "bin_end": 12.58,
            "count": 0
           },
           {
            "bin_start": 12.58,
            "bin_end": 12.68,
            "count": 0
           },
           {
            "bin_start": 12.68,
            "bin_end": 12.78,
            "count": 1
           },
           {
            "bin_start": 12.78,
            "bin_end": 12.879999999999999,
            "count": 0
           },
           {
            "bin_start": 12.879999999999999,
            "bin_end": 12.98,
            "count": 0
           },
           {
            "bin_start": 12.98,
            "bin_end": 13.08,
            "count": 0
           },
           {
            "bin_start": 13.08,
            "bin_end": 13.18,
            "count": 0
           }
          ]
         }
        },
        {
         "name": "temp_f",
         "dtype": "float64",
         "stats": {
          "unique_count": 1,
          "nan_count": 0,
          "min": "80.0",
          "max": "80.0",
          "histogram": [
           {
            "bin_start": 79.5,
            "bin_end": 79.6,
            "count": 0
           },
           {
            "bin_start": 79.6,
            "bin_end": 79.7,
            "count": 0
           },
           {
            "bin_start": 79.7,
            "bin_end": 79.8,
            "count": 0
           },
           {
            "bin_start": 79.8,
            "bin_end": 79.9,
            "count": 0
           },
           {
            "bin_start": 79.9,
            "bin_end": 80,
            "count": 0
           },
           {
            "bin_start": 80,
            "bin_end": 80.1,
            "count": 1
           },
           {
            "bin_start": 80.1,
            "bin_end": 80.2,
            "count": 0
           },
           {
            "bin_start": 80.2,
            "bin_end": 80.3,
            "count": 0
           },
           {
            "bin_start": 80.3,
            "bin_end": 80.4,
            "count": 0
           },
           {
            "bin_start": 80.4,
            "bin_end": 80.5,
            "count": 0
           }
          ]
         }
        },
        {
         "name": "temp_c",
         "dtype": "float64",
         "stats": {
          "unique_count": 1,
          "nan_count": 0,
          "min": "26.666666666666668",
          "max": "26.666666666666668",
          "histogram": [
           {
            "bin_start": 26.166666666666668,
            "bin_end": 26.26666666666667,
            "count": 0
           },
           {
            "bin_start": 26.26666666666667,
            "bin_end": 26.366666666666667,
            "count": 0
           },
           {
            "bin_start": 26.366666666666667,
            "bin_end": 26.46666666666667,
            "count": 0
           },
           {
            "bin_start": 26.46666666666667,
            "bin_end": 26.566666666666666,
            "count": 0
           },
           {
            "bin_start": 26.566666666666666,
            "bin_end": 26.666666666666668,
            "count": 0
           },
           {
            "bin_start": 26.666666666666668,
            "bin_end": 26.76666666666667,
            "count": 1
           },
           {
            "bin_start": 26.76666666666667,
            "bin_end": 26.866666666666667,
            "count": 0
           },
           {
            "bin_start": 26.866666666666667,
            "bin_end": 26.96666666666667,
            "count": 0
           },
           {
            "bin_start": 26.96666666666667,
            "bin_end": 27.066666666666666,
            "count": 0
           },
           {
            "bin_start": 27.066666666666666,
            "bin_end": 27.166666666666668,
            "count": 0
           }
          ]
         }
        },
        {
         "name": "humidity",
         "dtype": "float64",
         "stats": {
          "unique_count": 1,
          "nan_count": 0,
          "min": "76.0",
          "max": "76.0",
          "histogram": [
           {
            "bin_start": 75.5,
            "bin_end": 75.6,
            "count": 0
           },
           {
            "bin_start": 75.6,
            "bin_end": 75.7,
            "count": 0
           },
           {
            "bin_start": 75.7,
            "bin_end": 75.8,
            "count": 0
           },
           {
            "bin_start": 75.8,
            "bin_end": 75.9,
            "count": 0
           },
           {
            "bin_start": 75.9,
            "bin_end": 76,
            "count": 0
           },
           {
            "bin_start": 76,
            "bin_end": 76.1,
            "count": 1
           },
           {
            "bin_start": 76.1,
            "bin_end": 76.2,
            "count": 0
           },
           {
            "bin_start": 76.2,
            "bin_end": 76.3,
            "count": 0
           },
           {
            "bin_start": 76.3,
            "bin_end": 76.4,
            "count": 0
           },
           {
            "bin_start": 76.4,
            "bin_end": 76.5,
            "count": 0
           }
          ]
         }
        },
        {
         "name": "pressure",
         "dtype": "float64",
         "stats": {
          "unique_count": 1,
          "nan_count": 0,
          "min": "994.54",
          "max": "994.54",
          "histogram": [
           {
            "bin_start": 994.04,
            "bin_end": 994.14,
            "count": 0
           },
           {
            "bin_start": 994.14,
            "bin_end": 994.24,
            "count": 0
           },
           {
            "bin_start": 994.24,
            "bin_end": 994.3399999999999,
            "count": 0
           },
           {
            "bin_start": 994.3399999999999,
            "bin_end": 994.4399999999999,
            "count": 0
           },
           {
            "bin_start": 994.4399999999999,
            "bin_end": 994.54,
            "count": 0
           },
           {
            "bin_start": 994.54,
            "bin_end": 994.64,
            "count": 1
           },
           {
            "bin_start": 994.64,
            "bin_end": 994.74,
            "count": 0
           },
           {
            "bin_start": 994.74,
            "bin_end": 994.8399999999999,
            "count": 0
           },
           {
            "bin_start": 994.8399999999999,
            "bin_end": 994.9399999999999,
            "count": 0
           },
           {
            "bin_start": 994.9399999999999,
            "bin_end": 995.04,
            "count": 0
           }
          ]
         }
        },
        {
         "name": "p_0_3_um",
         "dtype": "object",
         "stats": {
          "unique_count": 0,
          "nan_count": 1,
          "categories": [
           {
            "name": "Missing",
            "count": 1
           }
          ]
         }
        },
        {
         "name": "p_0_5_um",
         "dtype": "object",
         "stats": {
          "unique_count": 0,
          "nan_count": 1,
          "categories": [
           {
            "name": "Missing",
            "count": 1
           }
          ]
         }
        },
        {
         "name": "p_1_0_um",
         "dtype": "object",
         "stats": {
          "unique_count": 0,
          "nan_count": 1,
          "categories": [
           {
            "name": "Missing",
            "count": 1
           }
          ]
         }
        },
        {
         "name": "p_2_5_um",
         "dtype": "object",
         "stats": {
          "unique_count": 0,
          "nan_count": 1,
          "categories": [
           {
            "name": "Missing",
            "count": 1
           }
          ]
         }
        },
        {
         "name": "p_5_0_um",
         "dtype": "object",
         "stats": {
          "unique_count": 0,
          "nan_count": 1,
          "categories": [
           {
            "name": "Missing",
            "count": 1
           }
          ]
         }
        },
        {
         "name": "p_10_0_um",
         "dtype": "object",
         "stats": {
          "unique_count": 0,
          "nan_count": 1,
          "categories": [
           {
            "name": "Missing",
            "count": 1
           }
          ]
         }
        },
        {
         "name": "pm1_0_cf_1",
         "dtype": "object",
         "stats": {
          "unique_count": 0,
          "nan_count": 1,
          "categories": [
           {
            "name": "Missing",
            "count": 1
           }
          ]
         }
        },
        {
         "name": "pm2_5_cf_1",
         "dtype": "object",
         "stats": {
          "unique_count": 0,
          "nan_count": 1,
          "categories": [
           {
            "name": "Missing",
            "count": 1
           }
          ]
         }
        },
        {
         "name": "pm10_0_cf_1",
         "dtype": "object",
         "stats": {
          "unique_count": 0,
          "nan_count": 1,
          "categories": [
           {
            "name": "Missing",
            "count": 1
           }
          ]
         }
        },
        {
         "name": "pm1_0_atm",
         "dtype": "object",
         "stats": {
          "unique_count": 0,
          "nan_count": 1,
          "categories": [
           {
            "name": "Missing",
            "count": 1
           }
          ]
         }
        },
        {
         "name": "pm2_5_atm",
         "dtype": "object",
         "stats": {
          "unique_count": 0,
          "nan_count": 1,
          "categories": [
           {
            "name": "Missing",
            "count": 1
           }
          ]
         }
        },
        {
         "name": "pm10_0_atm",
         "dtype": "object",
         "stats": {
          "unique_count": 0,
          "nan_count": 1,
          "categories": [
           {
            "name": "Missing",
            "count": 1
           }
          ]
         }
        },
        {
         "name": "last_seen",
         "dtype": "datetime64[ns]",
         "stats": {
          "unique_count": 1,
          "nan_count": 0,
          "min": "2021-10-15 13:34:12",
          "max": "2021-10-15 13:34:12",
          "histogram": null
         }
        },
        {
         "name": "model",
         "dtype": "object",
         "stats": {
          "unique_count": 1,
          "nan_count": 0,
          "categories": [
           {
            "name": "PMS5003+PMS5003+BME280",
            "count": 1
           }
          ]
         }
        },
        {
         "name": "adc",
         "dtype": "object",
         "stats": {
          "unique_count": 0,
          "nan_count": 1,
          "categories": [
           {
            "name": "Missing",
            "count": 1
           }
          ]
         }
        },
        {
         "name": "rssi",
         "dtype": "object",
         "stats": {
          "unique_count": 0,
          "nan_count": 1,
          "categories": [
           {
            "name": "Missing",
            "count": 1
           }
          ]
         }
        },
        {
         "name": "hidden",
         "dtype": "bool",
         "stats": {
          "unique_count": 1,
          "nan_count": 0,
          "categories": [
           {
            "name": "False",
            "count": 1
           }
          ]
         }
        },
        {
         "name": "flagged",
         "dtype": "bool",
         "stats": {
          "unique_count": 1,
          "nan_count": 0,
          "categories": [
           {
            "name": "False",
            "count": 1
           }
          ]
         }
        },
        {
         "name": "downgraded",
         "dtype": "bool",
         "stats": {
          "unique_count": 1,
          "nan_count": 0,
          "categories": [
           {
            "name": "False",
            "count": 1
           }
          ]
         }
        },
        {
         "name": "age",
         "dtype": "int64",
         "stats": {
          "unique_count": 1,
          "nan_count": 0,
          "min": "0",
          "max": "0",
          "histogram": [
           {
            "bin_start": -0.5,
            "bin_end": -0.4,
            "count": 0
           },
           {
            "bin_start": -0.4,
            "bin_end": -0.3,
            "count": 0
           },
           {
            "bin_start": -0.3,
            "bin_end": -0.19999999999999996,
            "count": 0
           },
           {
            "bin_start": -0.19999999999999996,
            "bin_end": -0.09999999999999998,
            "count": 0
           },
           {
            "bin_start": -0.09999999999999998,
            "bin_end": 0,
            "count": 0
           },
           {
            "bin_start": 0,
            "bin_end": 0.10000000000000009,
            "count": 1
           },
           {
            "bin_start": 0.10000000000000009,
            "bin_end": 0.20000000000000007,
            "count": 0
           },
           {
            "bin_start": 0.20000000000000007,
            "bin_end": 0.30000000000000004,
            "count": 0
           },
           {
            "bin_start": 0.30000000000000004,
            "bin_end": 0.4,
            "count": 0
           },
           {
            "bin_start": 0.4,
            "bin_end": 0.5,
            "count": 0
           }
          ]
         }
        },
        {
         "name": "brightness",
         "dtype": "object",
         "stats": {
          "unique_count": 0,
          "nan_count": 1,
          "categories": [
           {
            "name": "Missing",
            "count": 1
           }
          ]
         }
        },
        {
         "name": "hardware",
         "dtype": "object",
         "stats": {
          "unique_count": 0,
          "nan_count": 1,
          "categories": [
           {
            "name": "Missing",
            "count": 1
           }
          ]
         }
        },
        {
         "name": "version",
         "dtype": "object",
         "stats": {
          "unique_count": 0,
          "nan_count": 1,
          "categories": [
           {
            "name": "Missing",
            "count": 1
           }
          ]
         }
        },
        {
         "name": "last_update_check",
         "dtype": "object",
         "stats": {
          "unique_count": 0,
          "nan_count": 1,
          "categories": [
           {
            "name": "Missing",
            "count": 1
           }
          ]
         }
        },
        {
         "name": "created",
         "dtype": "object",
         "stats": {
          "unique_count": 0,
          "nan_count": 1,
          "categories": [
           {
            "name": "Missing",
            "count": 1
           }
          ]
         }
        },
        {
         "name": "uptime",
         "dtype": "object",
         "stats": {
          "unique_count": 0,
          "nan_count": 1,
          "categories": [
           {
            "name": "Missing",
            "count": 1
           }
          ]
         }
        },
        {
         "name": "is_owner",
         "dtype": "bool",
         "stats": {
          "unique_count": 1,
          "nan_count": 0,
          "categories": [
           {
            "name": "False",
            "count": 1
           }
          ]
         }
        },
        {
         "name": "10min_avg",
         "dtype": "float64",
         "stats": {
          "unique_count": 1,
          "nan_count": 0,
          "min": "13.39",
          "max": "13.39",
          "histogram": [
           {
            "bin_start": 12.89,
            "bin_end": 12.99,
            "count": 0
           },
           {
            "bin_start": 12.99,
            "bin_end": 13.09,
            "count": 0
           },
           {
            "bin_start": 13.09,
            "bin_end": 13.190000000000001,
            "count": 0
           },
           {
            "bin_start": 13.190000000000001,
            "bin_end": 13.290000000000001,
            "count": 0
           },
           {
            "bin_start": 13.290000000000001,
            "bin_end": 13.39,
            "count": 0
           },
           {
            "bin_start": 13.39,
            "bin_end": 13.49,
            "count": 1
           },
           {
            "bin_start": 13.49,
            "bin_end": 13.59,
            "count": 0
           },
           {
            "bin_start": 13.59,
            "bin_end": 13.690000000000001,
            "count": 0
           },
           {
            "bin_start": 13.690000000000001,
            "bin_end": 13.790000000000001,
            "count": 0
           },
           {
            "bin_start": 13.790000000000001,
            "bin_end": 13.89,
            "count": 0
           }
          ]
         }
        },
        {
         "name": "30min_avg",
         "dtype": "float64",
         "stats": {
          "unique_count": 1,
          "nan_count": 0,
          "min": "12.15",
          "max": "12.15",
          "histogram": [
           {
            "bin_start": 11.65,
            "bin_end": 11.75,
            "count": 0
           },
           {
            "bin_start": 11.75,
            "bin_end": 11.85,
            "count": 0
           },
           {
            "bin_start": 11.85,
            "bin_end": 11.950000000000001,
            "count": 0
           },
           {
            "bin_start": 11.950000000000001,
            "bin_end": 12.05,
            "count": 0
           },
           {
            "bin_start": 12.05,
            "bin_end": 12.15,
            "count": 0
           },
           {
            "bin_start": 12.15,
            "bin_end": 12.25,
            "count": 1
           },
           {
            "bin_start": 12.25,
            "bin_end": 12.35,
            "count": 0
           },
           {
            "bin_start": 12.35,
            "bin_end": 12.450000000000001,
            "count": 0
           },
           {
            "bin_start": 12.450000000000001,
            "bin_end": 12.55,
            "count": 0
           },
           {
            "bin_start": 12.55,
            "bin_end": 12.65,
            "count": 0
           }
          ]
         }
        },
        {
         "name": "1hour_avg",
         "dtype": "float64",
         "stats": {
          "unique_count": 1,
          "nan_count": 0,
          "min": "11.17",
          "max": "11.17",
          "histogram": [
           {
            "bin_start": 10.67,
            "bin_end": 10.77,
            "count": 0
           },
           {
            "bin_start": 10.77,
            "bin_end": 10.87,
            "count": 0
           },
           {
            "bin_start": 10.87,
            "bin_end": 10.97,
            "count": 0
           },
           {
            "bin_start": 10.97,
            "bin_end": 11.07,
            "count": 0
           },
           {
            "bin_start": 11.07,
            "bin_end": 11.17,
            "count": 0
           },
           {
            "bin_start": 11.17,
            "bin_end": 11.27,
            "count": 1
           },
           {
            "bin_start": 11.27,
            "bin_end": 11.37,
            "count": 0
           },
           {
            "bin_start": 11.37,
            "bin_end": 11.47,
            "count": 0
           },
           {
            "bin_start": 11.47,
            "bin_end": 11.57,
            "count": 0
           },
           {
            "bin_start": 11.57,
            "bin_end": 11.67,
            "count": 0
           }
          ]
         }
        },
        {
         "name": "6hour_avg",
         "dtype": "float64",
         "stats": {
          "unique_count": 1,
          "nan_count": 0,
          "min": "9.45",
          "max": "9.45",
          "histogram": [
           {
            "bin_start": 8.95,
            "bin_end": 9.049999999999999,
            "count": 0
           },
           {
            "bin_start": 9.049999999999999,
            "bin_end": 9.149999999999999,
            "count": 0
           },
           {
            "bin_start": 9.149999999999999,
            "bin_end": 9.25,
            "count": 0
           },
           {
            "bin_start": 9.25,
            "bin_end": 9.35,
            "count": 0
           },
           {
            "bin_start": 9.35,
            "bin_end": 9.45,
            "count": 0
           },
           {
            "bin_start": 9.45,
            "bin_end": 9.549999999999999,
            "count": 1
           },
           {
            "bin_start": 9.549999999999999,
            "bin_end": 9.649999999999999,
            "count": 0
           },
           {
            "bin_start": 9.649999999999999,
            "bin_end": 9.75,
            "count": 0
           },
           {
            "bin_start": 9.75,
            "bin_end": 9.85,
            "count": 0
           },
           {
            "bin_start": 9.85,
            "bin_end": 9.95,
            "count": 0
           }
          ]
         }
        },
        {
         "name": "1day_avg",
         "dtype": "float64",
         "stats": {
          "unique_count": 1,
          "nan_count": 0,
          "min": "9.79",
          "max": "9.79",
          "histogram": [
           {
            "bin_start": 9.29,
            "bin_end": 9.389999999999999,
            "count": 0
           },
           {
            "bin_start": 9.389999999999999,
            "bin_end": 9.489999999999998,
            "count": 0
           },
           {
            "bin_start": 9.489999999999998,
            "bin_end": 9.59,
            "count": 0
           },
           {
            "bin_start": 9.59,
            "bin_end": 9.69,
            "count": 0
           },
           {
            "bin_start": 9.69,
            "bin_end": 9.79,
            "count": 0
           },
           {
            "bin_start": 9.79,
            "bin_end": 9.889999999999999,
            "count": 1
           },
           {
            "bin_start": 9.889999999999999,
            "bin_end": 9.989999999999998,
            "count": 0
           },
           {
            "bin_start": 9.989999999999998,
            "bin_end": 10.09,
            "count": 0
           },
           {
            "bin_start": 10.09,
            "bin_end": 10.19,
            "count": 0
           },
           {
            "bin_start": 10.19,
            "bin_end": 10.29,
            "count": 0
           }
          ]
         }
        },
        {
         "name": "1week_avg",
         "dtype": "float64",
         "stats": {
          "unique_count": 1,
          "nan_count": 0,
          "min": "10.16",
          "max": "10.16",
          "histogram": [
           {
            "bin_start": 9.66,
            "bin_end": 9.76,
            "count": 0
           },
           {
            "bin_start": 9.76,
            "bin_end": 9.86,
            "count": 0
           },
           {
            "bin_start": 9.86,
            "bin_end": 9.96,
            "count": 0
           },
           {
            "bin_start": 9.96,
            "bin_end": 10.06,
            "count": 0
           },
           {
            "bin_start": 10.06,
            "bin_end": 10.16,
            "count": 0
           },
           {
            "bin_start": 10.16,
            "bin_end": 10.26,
            "count": 1
           },
           {
            "bin_start": 10.26,
            "bin_end": 10.36,
            "count": 0
           },
           {
            "bin_start": 10.36,
            "bin_end": 10.46,
            "count": 0
           },
           {
            "bin_start": 10.46,
            "bin_end": 10.56,
            "count": 0
           },
           {
            "bin_start": 10.56,
            "bin_end": 10.66,
            "count": 0
           }
          ]
         }
        },
        {
         "name": "_deepnote_index_column",
         "dtype": "int64"
        }
       ],
       "rows_top": [
        {
         "parent": "None",
         "lat": 30.285069,
         "lon": -97.732877,
         "name": "PA_II_D8B6",
         "location_type": "outside",
         "pm_2.5": 12.68,
         "temp_f": 80,
         "temp_c": 26.666666666666668,
         "humidity": 76,
         "pressure": 994.54,
         "p_0_3_um": "None",
         "p_0_5_um": "None",
         "p_1_0_um": "None",
         "p_2_5_um": "None",
         "p_5_0_um": "None",
         "p_10_0_um": "None",
         "pm1_0_cf_1": "None",
         "pm2_5_cf_1": "None",
         "pm10_0_cf_1": "None",
         "pm1_0_atm": "None",
         "pm2_5_atm": "None",
         "pm10_0_atm": "None",
         "last_seen": "2021-10-15T13:34:12.000000",
         "model": "PMS5003+PMS5003+BME280",
         "adc": "None",
         "rssi": "None",
         "hidden": "False",
         "flagged": "False",
         "downgraded": "False",
         "age": 0,
         "brightness": "None",
         "hardware": "None",
         "version": "None",
         "last_update_check": "None",
         "created": "None",
         "uptime": "None",
         "is_owner": "False",
         "10min_avg": 13.39,
         "30min_avg": 12.15,
         "1hour_avg": 11.17,
         "6hour_avg": 9.45,
         "1day_avg": 9.79,
         "1week_avg": 10.16,
         "_deepnote_index_column": 27395
        }
       ],
       "rows_bottom": null
      },
      "text/plain": "      parent        lat        lon        name location_type  pm_2.5  temp_f  \\\nid                                                                             \n27395   None  30.285069 -97.732877  PA_II_D8B6       outside   12.68    80.0   \n\n          temp_c  humidity  pressure  ... last_update_check created uptime  \\\nid                                    ...                                    \n27395  26.666667      76.0    994.54  ...              None    None   None   \n\n      is_owner 10min_avg 30min_avg 1hour_avg 6hour_avg 1day_avg 1week_avg  \nid                                                                         \n27395    False     13.39     12.15     11.17      9.45     9.79     10.16  \n\n[1 rows x 43 columns]",
      "text/html": "<div>\n<style scoped>\n    .dataframe tbody tr th:only-of-type {\n        vertical-align: middle;\n    }\n\n    .dataframe tbody tr th {\n        vertical-align: top;\n    }\n\n    .dataframe thead th {\n        text-align: right;\n    }\n</style>\n<table border=\"1\" class=\"dataframe\">\n  <thead>\n    <tr style=\"text-align: right;\">\n      <th></th>\n      <th>parent</th>\n      <th>lat</th>\n      <th>lon</th>\n      <th>name</th>\n      <th>location_type</th>\n      <th>pm_2.5</th>\n      <th>temp_f</th>\n      <th>temp_c</th>\n      <th>humidity</th>\n      <th>pressure</th>\n      <th>...</th>\n      <th>last_update_check</th>\n      <th>created</th>\n      <th>uptime</th>\n      <th>is_owner</th>\n      <th>10min_avg</th>\n      <th>30min_avg</th>\n      <th>1hour_avg</th>\n      <th>6hour_avg</th>\n      <th>1day_avg</th>\n      <th>1week_avg</th>\n    </tr>\n    <tr>\n      <th>id</th>\n      <th></th>\n      <th></th>\n      <th></th>\n      <th></th>\n      <th></th>\n      <th></th>\n      <th></th>\n      <th></th>\n      <th></th>\n      <th></th>\n      <th></th>\n      <th></th>\n      <th></th>\n      <th></th>\n      <th></th>\n      <th></th>\n      <th></th>\n      <th></th>\n      <th></th>\n      <th></th>\n      <th></th>\n    </tr>\n  </thead>\n  <tbody>\n    <tr>\n      <th>27395</th>\n      <td>None</td>\n      <td>30.285069</td>\n      <td>-97.732877</td>\n      <td>PA_II_D8B6</td>\n      <td>outside</td>\n      <td>12.68</td>\n      <td>80.0</td>\n      <td>26.666667</td>\n      <td>76.0</td>\n      <td>994.54</td>\n      <td>...</td>\n      <td>None</td>\n      <td>None</td>\n      <td>None</td>\n      <td>False</td>\n      <td>13.39</td>\n      <td>12.15</td>\n      <td>11.17</td>\n      <td>9.45</td>\n      <td>9.79</td>\n      <td>10.16</td>\n    </tr>\n  </tbody>\n</table>\n<p>1 rows × 43 columns</p>\n</div>"
     },
     "metadata": {}
    }
   ]
  },
  {
   "cell_type": "markdown",
   "source": "<br>\n\nThe row above gives us loads of information on the state of the AQI in the UT Stadium at the present moment, but it would be nice to see the AQI information over time. In the cell below, we create a dataframe that contains information about the UT Stadium sensor roughly over the last 7 days. \n\n**Run the cell below to output the dataframe!**",
   "metadata": {
    "tags": [],
    "cell_id": "00051-6d44c3ed-66bc-4c21-9b65-74b9d58acb04",
    "deepnote_cell_type": "markdown"
   }
  },
  {
   "cell_type": "code",
   "metadata": {
    "tags": [],
    "deepnote_to_be_reexecuted": false,
    "source_hash": "4537611e",
    "execution_start": 1634304957599,
    "execution_millis": 1487,
    "cell_id": "00052-aefb4a86-4765-41b7-b542-0ef485a66c4b",
    "deepnote_cell_type": "code"
   },
   "source": "## data from PA_II_D8B6 (UT Stadium Sensor) sensor from the past week\nfrom purpleair.sensor import Sensor\nse = Sensor(27395)\nUT_stadium = se.parent.get_historical(weeks_to_get=1,\n                              thingspeak_field='secondary')\n\nUT_stadium",
   "execution_count": 16,
   "outputs": [
    {
     "output_type": "execute_result",
     "execution_count": 16,
     "data": {
      "application/vnd.deepnote.dataframe.v2+json": {
       "row_count": 4503,
       "column_count": 9,
       "columns": [
        {
         "name": "created_at",
         "dtype": "datetime64[ns, UTC]",
         "stats": {
          "unique_count": 4503,
          "nan_count": 0,
          "min": "2021-10-08 00:00:38+00:00",
          "max": "2021-10-14 23:58:08+00:00",
          "histogram": [
           {
            "bin_start": 1633651238000000000,
            "bin_end": 1633711703000000000,
            "count": 360
           },
           {
            "bin_start": 1633711703000000000,
            "bin_end": 1633772168000000000,
            "count": 370
           },
           {
            "bin_start": 1633772168000000000,
            "bin_end": 1633832633000000000,
            "count": 351
           },
           {
            "bin_start": 1633832633000000000,
            "bin_end": 1633893098000000000,
            "count": 413
           },
           {
            "bin_start": 1633893098000000000,
            "bin_end": 1633953563000000000,
            "count": 501
           },
           {
            "bin_start": 1633953563000000000,
            "bin_end": 1634014028000000000,
            "count": 492
           },
           {
            "bin_start": 1634014028000000000,
            "bin_end": 1634074493000000000,
            "count": 504
           },
           {
            "bin_start": 1634074493000000000,
            "bin_end": 1634134958000000000,
            "count": 504
           },
           {
            "bin_start": 1634134958000000000,
            "bin_end": 1634195423000000000,
            "count": 504
           },
           {
            "bin_start": 1634195423000000000,
            "bin_end": 1634255888000000000,
            "count": 504
           }
          ]
         }
        },
        {
         "name": "0.3um/dl",
         "dtype": "float64",
         "stats": {
          "unique_count": 4441,
          "nan_count": 0,
          "min": "29.04",
          "max": "15826.82",
          "histogram": [
           {
            "bin_start": 29.04,
            "bin_end": 1608.8179999999998,
            "count": 3030
           },
           {
            "bin_start": 1608.8179999999998,
            "bin_end": 3188.5959999999995,
            "count": 1309
           },
           {
            "bin_start": 3188.5959999999995,
            "bin_end": 4768.373999999999,
            "count": 116
           },
           {
            "bin_start": 4768.373999999999,
            "bin_end": 6348.151999999999,
            "count": 30
           },
           {
            "bin_start": 6348.151999999999,
            "bin_end": 7927.929999999999,
            "count": 7
           },
           {
            "bin_start": 7927.929999999999,
            "bin_end": 9507.707999999999,
            "count": 5
           },
           {
            "bin_start": 9507.707999999999,
            "bin_end": 11087.485999999999,
            "count": 2
           },
           {
            "bin_start": 11087.485999999999,
            "bin_end": 12667.264,
            "count": 1
           },
           {
            "bin_start": 12667.264,
            "bin_end": 14247.042,
            "count": 0
           },
           {
            "bin_start": 14247.042,
            "bin_end": 15826.82,
            "count": 3
           }
          ]
         }
        },
        {
         "name": "0.5um/dl",
         "dtype": "float64",
         "stats": {
          "unique_count": 4360,
          "nan_count": 0,
          "min": "7.37",
          "max": "4530.94",
          "histogram": [
           {
            "bin_start": 7.37,
            "bin_end": 459.727,
            "count": 3035
           },
           {
            "bin_start": 459.727,
            "bin_end": 912.084,
            "count": 1299
           },
           {
            "bin_start": 912.084,
            "bin_end": 1364.4409999999998,
            "count": 121
           },
           {
            "bin_start": 1364.4409999999998,
            "bin_end": 1816.7979999999998,
            "count": 30
           },
           {
            "bin_start": 1816.7979999999998,
            "bin_end": 2269.1549999999997,
            "count": 7
           },
           {
            "bin_start": 2269.1549999999997,
            "bin_end": 2721.5119999999997,
            "count": 5
           },
           {
            "bin_start": 2721.5119999999997,
            "bin_end": 3173.8689999999997,
            "count": 2
           },
           {
            "bin_start": 3173.8689999999997,
            "bin_end": 3626.2259999999997,
            "count": 1
           },
           {
            "bin_start": 3626.2259999999997,
            "bin_end": 4078.5829999999996,
            "count": 0
           },
           {
            "bin_start": 4078.5829999999996,
            "bin_end": 4530.94,
            "count": 3
           }
          ]
         }
        },
        {
         "name": "1.0um/dl",
         "dtype": "float64",
         "stats": {
          "unique_count": 3698,
          "nan_count": 0,
          "min": "0.14",
          "max": "844.78",
          "histogram": [
           {
            "bin_start": 0.14,
            "bin_end": 84.604,
            "count": 3358
           },
           {
            "bin_start": 84.604,
            "bin_end": 169.06799999999998,
            "count": 862
           },
           {
            "bin_start": 169.06799999999998,
            "bin_end": 253.53199999999998,
            "count": 176
           },
           {
            "bin_start": 253.53199999999998,
            "bin_end": 337.996,
            "count": 72
           },
           {
            "bin_start": 337.996,
            "bin_end": 422.46,
            "count": 21
           },
           {
            "bin_start": 422.46,
            "bin_end": 506.924,
            "count": 6
           },
           {
            "bin_start": 506.924,
            "bin_end": 591.388,
            "count": 3
           },
           {
            "bin_start": 591.388,
            "bin_end": 675.852,
            "count": 2
           },
           {
            "bin_start": 675.852,
            "bin_end": 760.3159999999999,
            "count": 0
           },
           {
            "bin_start": 760.3159999999999,
            "bin_end": 844.78,
            "count": 3
           }
          ]
         }
        },
        {
         "name": "2.5um/dl",
         "dtype": "float64",
         "stats": {
          "unique_count": 1340,
          "nan_count": 0,
          "min": "0.0",
          "max": "68.54",
          "histogram": [
           {
            "bin_start": 0,
            "bin_end": 6.854000000000001,
            "count": 3121
           },
           {
            "bin_start": 6.854000000000001,
            "bin_end": 13.708000000000002,
            "count": 1053
           },
           {
            "bin_start": 13.708000000000002,
            "bin_end": 20.562000000000005,
            "count": 194
           },
           {
            "bin_start": 20.562000000000005,
            "bin_end": 27.416000000000004,
            "count": 68
           },
           {
            "bin_start": 27.416000000000004,
            "bin_end": 34.27,
            "count": 32
           },
           {
            "bin_start": 34.27,
            "bin_end": 41.12400000000001,
            "count": 11
           },
           {
            "bin_start": 41.12400000000001,
            "bin_end": 47.97800000000001,
            "count": 14
           },
           {
            "bin_start": 47.97800000000001,
            "bin_end": 54.83200000000001,
            "count": 5
           },
           {
            "bin_start": 54.83200000000001,
            "bin_end": 61.68600000000001,
            "count": 2
           },
           {
            "bin_start": 61.68600000000001,
            "bin_end": 68.54,
            "count": 3
           }
          ]
         }
        },
        {
         "name": "5.0um/dl",
         "dtype": "float64",
         "stats": {
          "unique_count": 428,
          "nan_count": 0,
          "min": "0.0",
          "max": "13.27",
          "histogram": [
           {
            "bin_start": 0,
            "bin_end": 1.327,
            "count": 3110
           },
           {
            "bin_start": 1.327,
            "bin_end": 2.654,
            "count": 1080
           },
           {
            "bin_start": 2.654,
            "bin_end": 3.981,
            "count": 206
           },
           {
            "bin_start": 3.981,
            "bin_end": 5.308,
            "count": 57
           },
           {
            "bin_start": 5.308,
            "bin_end": 6.635,
            "count": 28
           },
           {
            "bin_start": 6.635,
            "bin_end": 7.962,
            "count": 8
           },
           {
            "bin_start": 7.962,
            "bin_end": 9.289,
            "count": 3
           },
           {
            "bin_start": 9.289,
            "bin_end": 10.616,
            "count": 6
           },
           {
            "bin_start": 10.616,
            "bin_end": 11.943,
            "count": 3
           },
           {
            "bin_start": 11.943,
            "bin_end": 13.27,
            "count": 2
           }
          ]
         }
        },
        {
         "name": "10.0um/dl",
         "dtype": "float64",
         "stats": {
          "unique_count": 221,
          "nan_count": 0,
          "min": "0.0",
          "max": "4.82",
          "histogram": [
           {
            "bin_start": 0,
            "bin_end": 0.48200000000000004,
            "count": 3123
           },
           {
            "bin_start": 0.48200000000000004,
            "bin_end": 0.9640000000000001,
            "count": 880
           },
           {
            "bin_start": 0.9640000000000001,
            "bin_end": 1.4460000000000002,
            "count": 312
           },
           {
            "bin_start": 1.4460000000000002,
            "bin_end": 1.9280000000000002,
            "count": 116
           },
           {
            "bin_start": 1.9280000000000002,
            "bin_end": 2.41,
            "count": 45
           },
           {
            "bin_start": 2.41,
            "bin_end": 2.8920000000000003,
            "count": 9
           },
           {
            "bin_start": 2.8920000000000003,
            "bin_end": 3.374,
            "count": 9
           },
           {
            "bin_start": 3.374,
            "bin_end": 3.8560000000000003,
            "count": 4
           },
           {
            "bin_start": 3.8560000000000003,
            "bin_end": 4.338,
            "count": 1
           },
           {
            "bin_start": 4.338,
            "bin_end": 4.82,
            "count": 4
           }
          ]
         }
        },
        {
         "name": "PM1.0 (CF=ATM) ug/m3",
         "dtype": "float64",
         "stats": {
          "unique_count": 1521,
          "nan_count": 0,
          "min": "0.0",
          "max": "63.78",
          "histogram": [
           {
            "bin_start": 0,
            "bin_end": 6.378,
            "count": 2385
           },
           {
            "bin_start": 6.378,
            "bin_end": 12.756,
            "count": 1495
           },
           {
            "bin_start": 12.756,
            "bin_end": 19.134,
            "count": 505
           },
           {
            "bin_start": 19.134,
            "bin_end": 25.512,
            "count": 87
           },
           {
            "bin_start": 25.512,
            "bin_end": 31.89,
            "count": 19
           },
           {
            "bin_start": 31.89,
            "bin_end": 38.268,
            "count": 6
           },
           {
            "bin_start": 38.268,
            "bin_end": 44.646,
            "count": 2
           },
           {
            "bin_start": 44.646,
            "bin_end": 51.024,
            "count": 1
           },
           {
            "bin_start": 51.024,
            "bin_end": 57.402,
            "count": 1
           },
           {
            "bin_start": 57.402,
            "bin_end": 63.78,
            "count": 2
           }
          ]
         }
        },
        {
         "name": "PM10 (CF=ATM) ug/m3",
         "dtype": "float64",
         "stats": {
          "unique_count": 2167,
          "nan_count": 0,
          "min": "0.0",
          "max": "106.88",
          "histogram": [
           {
            "bin_start": 0,
            "bin_end": 10.687999999999999,
            "count": 2327
           },
           {
            "bin_start": 10.687999999999999,
            "bin_end": 21.375999999999998,
            "count": 1508
           },
           {
            "bin_start": 21.375999999999998,
            "bin_end": 32.06399999999999,
            "count": 501
           },
           {
            "bin_start": 32.06399999999999,
            "bin_end": 42.751999999999995,
            "count": 72
           },
           {
            "bin_start": 42.751999999999995,
            "bin_end": 53.44,
            "count": 60
           },
           {
            "bin_start": 53.44,
            "bin_end": 64.12799999999999,
            "count": 24
           },
           {
            "bin_start": 64.12799999999999,
            "bin_end": 74.81599999999999,
            "count": 4
           },
           {
            "bin_start": 74.81599999999999,
            "bin_end": 85.50399999999999,
            "count": 4
           },
           {
            "bin_start": 85.50399999999999,
            "bin_end": 96.192,
            "count": 0
           },
           {
            "bin_start": 96.192,
            "bin_end": 106.88,
            "count": 3
           }
          ]
         }
        },
        {
         "name": "_deepnote_index_column",
         "dtype": "int64"
        }
       ],
       "rows_top": [
        {
         "created_at": "2021-10-08T00:00:38.000000",
         "0.3um/dl": 1871.07,
         "0.5um/dl": 519.07,
         "1.0um/dl": 64.62,
         "2.5um/dl": 4.87,
         "5.0um/dl": 0.22,
         "10.0um/dl": 0.22,
         "PM1.0 (CF=ATM) ug/m3": 9.05,
         "PM10 (CF=ATM) ug/m3": 13.45,
         "_deepnote_index_column": 522421
        },
        {
         "created_at": "2021-10-08T00:02:39.000000",
         "0.3um/dl": 1800,
         "0.5um/dl": 505.64,
         "1.0um/dl": 66.44,
         "2.5um/dl": 6.71,
         "5.0um/dl": 1.66,
         "10.0um/dl": 1.15,
         "PM1.0 (CF=ATM) ug/m3": 8.68,
         "PM10 (CF=ATM) ug/m3": 13.73,
         "_deepnote_index_column": 522422
        },
        {
         "created_at": "2021-10-08T00:04:57.000000",
         "0.3um/dl": 1887.05,
         "0.5um/dl": 534.19,
         "1.0um/dl": 72.68,
         "2.5um/dl": 4.95,
         "5.0um/dl": 0.85,
         "10.0um/dl": 0,
         "PM1.0 (CF=ATM) ug/m3": 9.27,
         "PM10 (CF=ATM) ug/m3": 14.34,
         "_deepnote_index_column": 522423
        },
        {
         "created_at": "2021-10-08T00:06:43.000000",
         "0.3um/dl": 1899.8,
         "0.5um/dl": 532.64,
         "1.0um/dl": 78.61,
         "2.5um/dl": 5.54,
         "5.0um/dl": 1.43,
         "10.0um/dl": 0,
         "PM1.0 (CF=ATM) ug/m3": 9.05,
         "PM10 (CF=ATM) ug/m3": 14.48,
         "_deepnote_index_column": 522424
        },
        {
         "created_at": "2021-10-08T00:08:42.000000",
         "0.3um/dl": 1952.48,
         "0.5um/dl": 537.84,
         "1.0um/dl": 66.31,
         "2.5um/dl": 4.66,
         "5.0um/dl": 0.28,
         "10.0um/dl": 0,
         "PM1.0 (CF=ATM) ug/m3": 9.81,
         "PM10 (CF=ATM) ug/m3": 13.88,
         "_deepnote_index_column": 522425
        },
        {
         "created_at": "2021-10-08T00:10:37.000000",
         "0.3um/dl": 1904.8,
         "0.5um/dl": 532.05,
         "1.0um/dl": 67.1,
         "2.5um/dl": 4.8,
         "5.0um/dl": 0.67,
         "10.0um/dl": 0.47,
         "PM1.0 (CF=ATM) ug/m3": 9.5,
         "PM10 (CF=ATM) ug/m3": 13.9,
         "_deepnote_index_column": 522426
        },
        {
         "created_at": "2021-10-08T00:12:37.000000",
         "0.3um/dl": 1863.1,
         "0.5um/dl": 530.86,
         "1.0um/dl": 68,
         "2.5um/dl": 5.76,
         "5.0um/dl": 1.38,
         "10.0um/dl": 0.9,
         "PM1.0 (CF=ATM) ug/m3": 9.5,
         "PM10 (CF=ATM) ug/m3": 14.14,
         "_deepnote_index_column": 522427
        },
        {
         "created_at": "2021-10-08T00:14:40.000000",
         "0.3um/dl": 1966.05,
         "0.5um/dl": 548.82,
         "1.0um/dl": 74.74,
         "2.5um/dl": 3.05,
         "5.0um/dl": 0.81,
         "10.0um/dl": 0,
         "PM1.0 (CF=ATM) ug/m3": 9.49,
         "PM10 (CF=ATM) ug/m3": 14,
         "_deepnote_index_column": 522428
        },
        {
         "created_at": "2021-10-08T00:16:38.000000",
         "0.3um/dl": 2080.95,
         "0.5um/dl": 578.32,
         "1.0um/dl": 73.61,
         "2.5um/dl": 5.54,
         "5.0um/dl": 0.81,
         "10.0um/dl": 0.81,
         "PM1.0 (CF=ATM) ug/m3": 10,
         "PM10 (CF=ATM) ug/m3": 15.18,
         "_deepnote_index_column": 522429
        },
        {
         "created_at": "2021-10-08T00:18:38.000000",
         "0.3um/dl": 2093.79,
         "0.5um/dl": 588.5,
         "1.0um/dl": 82.38,
         "2.5um/dl": 4.38,
         "5.0um/dl": 0.86,
         "10.0um/dl": 0.52,
         "PM1.0 (CF=ATM) ug/m3": 10.6,
         "PM10 (CF=ATM) ug/m3": 15.05,
         "_deepnote_index_column": 522430
        },
        {
         "created_at": "2021-10-08T00:20:43.000000",
         "0.3um/dl": 1999.12,
         "0.5um/dl": 568.03,
         "1.0um/dl": 78.98,
         "2.5um/dl": 3.66,
         "5.0um/dl": 0.71,
         "10.0um/dl": 0.64,
         "PM1.0 (CF=ATM) ug/m3": 10.34,
         "PM10 (CF=ATM) ug/m3": 15.24,
         "_deepnote_index_column": 522431
        },
        {
         "created_at": "2021-10-08T00:24:38.000000",
         "0.3um/dl": 1934.45,
         "0.5um/dl": 544.36,
         "1.0um/dl": 78.44,
         "2.5um/dl": 4.29,
         "5.0um/dl": 0.69,
         "10.0um/dl": 0,
         "PM1.0 (CF=ATM) ug/m3": 9.62,
         "PM10 (CF=ATM) ug/m3": 14.4,
         "_deepnote_index_column": 522432
        },
        {
         "created_at": "2021-10-08T00:26:37.000000",
         "0.3um/dl": 1987.16,
         "0.5um/dl": 568.61,
         "1.0um/dl": 79.19,
         "2.5um/dl": 4.6,
         "5.0um/dl": 0.46,
         "10.0um/dl": 0,
         "PM1.0 (CF=ATM) ug/m3": 10.47,
         "PM10 (CF=ATM) ug/m3": 14.77,
         "_deepnote_index_column": 522433
        },
        {
         "created_at": "2021-10-08T00:28:44.000000",
         "0.3um/dl": 1988.95,
         "0.5um/dl": 548.93,
         "1.0um/dl": 77.69,
         "2.5um/dl": 3.41,
         "5.0um/dl": 0.69,
         "10.0um/dl": 0.34,
         "PM1.0 (CF=ATM) ug/m3": 10,
         "PM10 (CF=ATM) ug/m3": 14.57,
         "_deepnote_index_column": 522434
        },
        {
         "created_at": "2021-10-08T00:30:39.000000",
         "0.3um/dl": 2013.47,
         "0.5um/dl": 570.53,
         "1.0um/dl": 75.95,
         "2.5um/dl": 5.83,
         "5.0um/dl": 0,
         "10.0um/dl": 0,
         "PM1.0 (CF=ATM) ug/m3": 10.66,
         "PM10 (CF=ATM) ug/m3": 14.95,
         "_deepnote_index_column": 522435
        },
        {
         "created_at": "2021-10-08T00:36:40.000000",
         "0.3um/dl": 1941.31,
         "0.5um/dl": 539.64,
         "1.0um/dl": 75.38,
         "2.5um/dl": 4.41,
         "5.0um/dl": 0.9,
         "10.0um/dl": 0.69,
         "PM1.0 (CF=ATM) ug/m3": 9.81,
         "PM10 (CF=ATM) ug/m3": 15.16,
         "_deepnote_index_column": 522436
        },
        {
         "created_at": "2021-10-08T00:40:39.000000",
         "0.3um/dl": 2061.75,
         "0.5um/dl": 581.46,
         "1.0um/dl": 70.82,
         "2.5um/dl": 3.5,
         "5.0um/dl": 0.75,
         "10.0um/dl": 0.36,
         "PM1.0 (CF=ATM) ug/m3": 11.07,
         "PM10 (CF=ATM) ug/m3": 15.32,
         "_deepnote_index_column": 522437
        },
        {
         "created_at": "2021-10-08T00:42:38.000000",
         "0.3um/dl": 2038.53,
         "0.5um/dl": 567.44,
         "1.0um/dl": 90.31,
         "2.5um/dl": 2.98,
         "5.0um/dl": 0.8,
         "10.0um/dl": 0.47,
         "PM1.0 (CF=ATM) ug/m3": 10.44,
         "PM10 (CF=ATM) ug/m3": 15.76,
         "_deepnote_index_column": 522438
        },
        {
         "created_at": "2021-10-08T00:48:44.000000",
         "0.3um/dl": 2138.34,
         "0.5um/dl": 591.03,
         "1.0um/dl": 73.49,
         "2.5um/dl": 4.61,
         "5.0um/dl": 1.15,
         "10.0um/dl": 0,
         "PM1.0 (CF=ATM) ug/m3": 11.1,
         "PM10 (CF=ATM) ug/m3": 15.66,
         "_deepnote_index_column": 522439
        },
        {
         "created_at": "2021-10-08T00:54:39.000000",
         "0.3um/dl": 2074.23,
         "0.5um/dl": 569.04,
         "1.0um/dl": 81.93,
         "2.5um/dl": 5.04,
         "5.0um/dl": 1.43,
         "10.0um/dl": 0.96,
         "PM1.0 (CF=ATM) ug/m3": 10.46,
         "PM10 (CF=ATM) ug/m3": 15.73,
         "_deepnote_index_column": 522440
        },
        {
         "created_at": "2021-10-08T00:56:37.000000",
         "0.3um/dl": 2007.51,
         "0.5um/dl": 568.58,
         "1.0um/dl": 79.03,
         "2.5um/dl": 5.76,
         "5.0um/dl": 0.51,
         "10.0um/dl": 0,
         "PM1.0 (CF=ATM) ug/m3": 10.19,
         "PM10 (CF=ATM) ug/m3": 15.49,
         "_deepnote_index_column": 522441
        },
        {
         "created_at": "2021-10-08T00:58:40.000000",
         "0.3um/dl": 2133.35,
         "0.5um/dl": 590.62,
         "1.0um/dl": 80.27,
         "2.5um/dl": 2.6,
         "5.0um/dl": 1,
         "10.0um/dl": 0.47,
         "PM1.0 (CF=ATM) ug/m3": 10.95,
         "PM10 (CF=ATM) ug/m3": 15.88,
         "_deepnote_index_column": 522442
        },
        {
         "created_at": "2021-10-08T01:00:39.000000",
         "0.3um/dl": 2049.86,
         "0.5um/dl": 580.24,
         "1.0um/dl": 82.75,
         "2.5um/dl": 5.12,
         "5.0um/dl": 1.63,
         "10.0um/dl": 0.34,
         "PM1.0 (CF=ATM) ug/m3": 10.69,
         "PM10 (CF=ATM) ug/m3": 16.12,
         "_deepnote_index_column": 522443
        },
        {
         "created_at": "2021-10-08T01:04:39.000000",
         "0.3um/dl": 2088.76,
         "0.5um/dl": 585.13,
         "1.0um/dl": 72,
         "2.5um/dl": 7.67,
         "5.0um/dl": 0.69,
         "10.0um/dl": 0,
         "PM1.0 (CF=ATM) ug/m3": 11.13,
         "PM10 (CF=ATM) ug/m3": 15.98,
         "_deepnote_index_column": 522444
        },
        {
         "created_at": "2021-10-08T01:08:57.000000",
         "0.3um/dl": 2028.98,
         "0.5um/dl": 566.98,
         "1.0um/dl": 74.1,
         "2.5um/dl": 5.14,
         "5.0um/dl": 0.79,
         "10.0um/dl": 0,
         "PM1.0 (CF=ATM) ug/m3": 10.47,
         "PM10 (CF=ATM) ug/m3": 15.17,
         "_deepnote_index_column": 522445
        },
        {
         "created_at": "2021-10-08T01:10:41.000000",
         "0.3um/dl": 2200.79,
         "0.5um/dl": 622.82,
         "1.0um/dl": 77.3,
         "2.5um/dl": 5.51,
         "5.0um/dl": 0.39,
         "10.0um/dl": 0,
         "PM1.0 (CF=ATM) ug/m3": 11.53,
         "PM10 (CF=ATM) ug/m3": 16.56,
         "_deepnote_index_column": 522446
        },
        {
         "created_at": "2021-10-08T01:12:39.000000",
         "0.3um/dl": 2143.4,
         "0.5um/dl": 598.95,
         "1.0um/dl": 63.66,
         "2.5um/dl": 5.1,
         "5.0um/dl": 0.34,
         "10.0um/dl": 0,
         "PM1.0 (CF=ATM) ug/m3": 11.29,
         "PM10 (CF=ATM) ug/m3": 15.26,
         "_deepnote_index_column": 522447
        },
        {
         "created_at": "2021-10-08T01:14:40.000000",
         "0.3um/dl": 2138.84,
         "0.5um/dl": 592.84,
         "1.0um/dl": 76.97,
         "2.5um/dl": 3.9,
         "5.0um/dl": 1.14,
         "10.0um/dl": 0,
         "PM1.0 (CF=ATM) ug/m3": 10.95,
         "PM10 (CF=ATM) ug/m3": 15.84,
         "_deepnote_index_column": 522448
        },
        {
         "created_at": "2021-10-08T01:18:43.000000",
         "0.3um/dl": 2061.11,
         "0.5um/dl": 576.82,
         "1.0um/dl": 85.39,
         "2.5um/dl": 7.19,
         "5.0um/dl": 2.42,
         "10.0um/dl": 0.11,
         "PM1.0 (CF=ATM) ug/m3": 10.49,
         "PM10 (CF=ATM) ug/m3": 17.09,
         "_deepnote_index_column": 522449
        },
        {
         "created_at": "2021-10-08T01:20:56.000000",
         "0.3um/dl": 2036.62,
         "0.5um/dl": 566.82,
         "1.0um/dl": 83.75,
         "2.5um/dl": 5.27,
         "5.0um/dl": 1.16,
         "10.0um/dl": 0.69,
         "PM1.0 (CF=ATM) ug/m3": 10.29,
         "PM10 (CF=ATM) ug/m3": 16.71,
         "_deepnote_index_column": 522450
        },
        {
         "created_at": "2021-10-08T01:22:45.000000",
         "0.3um/dl": 2128.53,
         "0.5um/dl": 601.03,
         "1.0um/dl": 86.68,
         "2.5um/dl": 4.14,
         "5.0um/dl": 0.34,
         "10.0um/dl": 0.34,
         "PM1.0 (CF=ATM) ug/m3": 11.2,
         "PM10 (CF=ATM) ug/m3": 16.64,
         "_deepnote_index_column": 522451
        },
        {
         "created_at": "2021-10-08T01:24:40.000000",
         "0.3um/dl": 1999.22,
         "0.5um/dl": 562.75,
         "1.0um/dl": 79.08,
         "2.5um/dl": 6.1,
         "5.0um/dl": 0.88,
         "10.0um/dl": 0,
         "PM1.0 (CF=ATM) ug/m3": 10.36,
         "PM10 (CF=ATM) ug/m3": 16.1,
         "_deepnote_index_column": 522452
        },
        {
         "created_at": "2021-10-08T01:26:42.000000",
         "0.3um/dl": 2092.84,
         "0.5um/dl": 592.02,
         "1.0um/dl": 84.72,
         "2.5um/dl": 5.61,
         "5.0um/dl": 0.88,
         "10.0um/dl": 0,
         "PM1.0 (CF=ATM) ug/m3": 10.88,
         "PM10 (CF=ATM) ug/m3": 16.81,
         "_deepnote_index_column": 522453
        },
        {
         "created_at": "2021-10-08T01:30:41.000000",
         "0.3um/dl": 2125.07,
         "0.5um/dl": 586.16,
         "1.0um/dl": 92.23,
         "2.5um/dl": 6.5,
         "5.0um/dl": 0.04,
         "10.0um/dl": 0.04,
         "PM1.0 (CF=ATM) ug/m3": 10.39,
         "PM10 (CF=ATM) ug/m3": 17.61,
         "_deepnote_index_column": 522454
        },
        {
         "created_at": "2021-10-08T01:38:43.000000",
         "0.3um/dl": 2230.95,
         "0.5um/dl": 617.16,
         "1.0um/dl": 90.05,
         "2.5um/dl": 8.53,
         "5.0um/dl": 2.46,
         "10.0um/dl": 1.16,
         "PM1.0 (CF=ATM) ug/m3": 11.49,
         "PM10 (CF=ATM) ug/m3": 18.84,
         "_deepnote_index_column": 522455
        },
        {
         "created_at": "2021-10-08T01:40:39.000000",
         "0.3um/dl": 2281.78,
         "0.5um/dl": 638,
         "1.0um/dl": 91.02,
         "2.5um/dl": 7.63,
         "5.0um/dl": 1.29,
         "10.0um/dl": 0.88,
         "PM1.0 (CF=ATM) ug/m3": 11.92,
         "PM10 (CF=ATM) ug/m3": 19.2,
         "_deepnote_index_column": 522456
        },
        {
         "created_at": "2021-10-08T01:42:43.000000",
         "0.3um/dl": 2334.95,
         "0.5um/dl": 648.28,
         "1.0um/dl": 91.1,
         "2.5um/dl": 7.7,
         "5.0um/dl": 0.27,
         "10.0um/dl": 0,
         "PM1.0 (CF=ATM) ug/m3": 11.93,
         "PM10 (CF=ATM) ug/m3": 19.17,
         "_deepnote_index_column": 522457
        },
        {
         "created_at": "2021-10-08T01:44:39.000000",
         "0.3um/dl": 2247.72,
         "0.5um/dl": 635.09,
         "1.0um/dl": 92.52,
         "2.5um/dl": 5.34,
         "5.0um/dl": 0.93,
         "10.0um/dl": 0.31,
         "PM1.0 (CF=ATM) ug/m3": 11.88,
         "PM10 (CF=ATM) ug/m3": 18.57,
         "_deepnote_index_column": 522458
        },
        {
         "created_at": "2021-10-08T01:50:40.000000",
         "0.3um/dl": 2245.64,
         "0.5um/dl": 631.75,
         "1.0um/dl": 101.22,
         "2.5um/dl": 5.05,
         "5.0um/dl": 1.05,
         "10.0um/dl": 0,
         "PM1.0 (CF=ATM) ug/m3": 12.16,
         "PM10 (CF=ATM) ug/m3": 18.73,
         "_deepnote_index_column": 522459
        },
        {
         "created_at": "2021-10-08T01:52:40.000000",
         "0.3um/dl": 2212.03,
         "0.5um/dl": 615.29,
         "1.0um/dl": 86.69,
         "2.5um/dl": 7.48,
         "5.0um/dl": 0.9,
         "10.0um/dl": 0,
         "PM1.0 (CF=ATM) ug/m3": 11.83,
         "PM10 (CF=ATM) ug/m3": 18.14,
         "_deepnote_index_column": 522460
        },
        {
         "created_at": "2021-10-08T01:54:42.000000",
         "0.3um/dl": 2321.15,
         "0.5um/dl": 635.88,
         "1.0um/dl": 84.53,
         "2.5um/dl": 7.27,
         "5.0um/dl": 1.7,
         "10.0um/dl": 0.37,
         "PM1.0 (CF=ATM) ug/m3": 12.2,
         "PM10 (CF=ATM) ug/m3": 18.57,
         "_deepnote_index_column": 522461
        },
        {
         "created_at": "2021-10-08T01:58:39.000000",
         "0.3um/dl": 2314.77,
         "0.5um/dl": 637.57,
         "1.0um/dl": 83.54,
         "2.5um/dl": 5.25,
         "5.0um/dl": 1,
         "10.0um/dl": 0.86,
         "PM1.0 (CF=ATM) ug/m3": 12.93,
         "PM10 (CF=ATM) ug/m3": 18.2,
         "_deepnote_index_column": 522462
        },
        {
         "created_at": "2021-10-08T02:02:38.000000",
         "0.3um/dl": 2274.71,
         "0.5um/dl": 648.85,
         "1.0um/dl": 89.86,
         "2.5um/dl": 6.51,
         "5.0um/dl": 0.17,
         "10.0um/dl": 0.17,
         "PM1.0 (CF=ATM) ug/m3": 12.63,
         "PM10 (CF=ATM) ug/m3": 19.12,
         "_deepnote_index_column": 522463
        },
        {
         "created_at": "2021-10-08T02:08:43.000000",
         "0.3um/dl": 2275.64,
         "0.5um/dl": 632.85,
         "1.0um/dl": 88.93,
         "2.5um/dl": 6.47,
         "5.0um/dl": 0.87,
         "10.0um/dl": 0.44,
         "PM1.0 (CF=ATM) ug/m3": 11.76,
         "PM10 (CF=ATM) ug/m3": 18.67,
         "_deepnote_index_column": 522464
        },
        {
         "created_at": "2021-10-08T02:12:39.000000",
         "0.3um/dl": 2372.84,
         "0.5um/dl": 661.53,
         "1.0um/dl": 97.44,
         "2.5um/dl": 4.84,
         "5.0um/dl": 0.49,
         "10.0um/dl": 0.25,
         "PM1.0 (CF=ATM) ug/m3": 12.79,
         "PM10 (CF=ATM) ug/m3": 19.09,
         "_deepnote_index_column": 522465
        },
        {
         "created_at": "2021-10-08T02:14:41.000000",
         "0.3um/dl": 2358.53,
         "0.5um/dl": 666.37,
         "1.0um/dl": 92.86,
         "2.5um/dl": 5.23,
         "5.0um/dl": 1.23,
         "10.0um/dl": 1.05,
         "PM1.0 (CF=ATM) ug/m3": 13.18,
         "PM10 (CF=ATM) ug/m3": 19.44,
         "_deepnote_index_column": 522466
        },
        {
         "created_at": "2021-10-08T02:16:45.000000",
         "0.3um/dl": 2345.58,
         "0.5um/dl": 659.28,
         "1.0um/dl": 98.54,
         "2.5um/dl": 6.84,
         "5.0um/dl": 0.46,
         "10.0um/dl": 0,
         "PM1.0 (CF=ATM) ug/m3": 12.93,
         "PM10 (CF=ATM) ug/m3": 19.68,
         "_deepnote_index_column": 522467
        },
        {
         "created_at": "2021-10-08T02:22:44.000000",
         "0.3um/dl": 2418.26,
         "0.5um/dl": 678.21,
         "1.0um/dl": 81.81,
         "2.5um/dl": 9.09,
         "5.0um/dl": 1.68,
         "10.0um/dl": 0.53,
         "PM1.0 (CF=ATM) ug/m3": 13.75,
         "PM10 (CF=ATM) ug/m3": 20.54,
         "_deepnote_index_column": 522468
        },
        {
         "created_at": "2021-10-08T02:26:38.000000",
         "0.3um/dl": 2391,
         "0.5um/dl": 672.98,
         "1.0um/dl": 99.51,
         "2.5um/dl": 7.75,
         "5.0um/dl": 0.77,
         "10.0um/dl": 0.42,
         "PM1.0 (CF=ATM) ug/m3": 13.39,
         "PM10 (CF=ATM) ug/m3": 20.89,
         "_deepnote_index_column": 522469
        },
        {
         "created_at": "2021-10-08T02:28:45.000000",
         "0.3um/dl": 2435.64,
         "0.5um/dl": 679.92,
         "1.0um/dl": 92.78,
         "2.5um/dl": 8.88,
         "5.0um/dl": 0.85,
         "10.0um/dl": 0.37,
         "PM1.0 (CF=ATM) ug/m3": 13.47,
         "PM10 (CF=ATM) ug/m3": 21.05,
         "_deepnote_index_column": 522470
        },
        {
         "created_at": "2021-10-08T02:30:58.000000",
         "0.3um/dl": 2403.31,
         "0.5um/dl": 684.95,
         "1.0um/dl": 97.4,
         "2.5um/dl": 10,
         "5.0um/dl": 1.07,
         "10.0um/dl": 0.34,
         "PM1.0 (CF=ATM) ug/m3": 13.43,
         "PM10 (CF=ATM) ug/m3": 21.28,
         "_deepnote_index_column": 522471
        },
        {
         "created_at": "2021-10-08T02:32:58.000000",
         "0.3um/dl": 2424,
         "0.5um/dl": 671.3,
         "1.0um/dl": 93.89,
         "2.5um/dl": 4.93,
         "5.0um/dl": 0.14,
         "10.0um/dl": 0.14,
         "PM1.0 (CF=ATM) ug/m3": 13.77,
         "PM10 (CF=ATM) ug/m3": 19.21,
         "_deepnote_index_column": 522472
        },
        {
         "created_at": "2021-10-08T02:36:42.000000",
         "0.3um/dl": 2610.25,
         "0.5um/dl": 727.92,
         "1.0um/dl": 105.42,
         "2.5um/dl": 7.9,
         "5.0um/dl": 0.78,
         "10.0um/dl": 0.44,
         "PM1.0 (CF=ATM) ug/m3": 14.98,
         "PM10 (CF=ATM) ug/m3": 22.31,
         "_deepnote_index_column": 522473
        },
        {
         "created_at": "2021-10-08T02:38:44.000000",
         "0.3um/dl": 2588.64,
         "0.5um/dl": 725.97,
         "1.0um/dl": 99.81,
         "2.5um/dl": 7.66,
         "5.0um/dl": 0.71,
         "10.0um/dl": 0.47,
         "PM1.0 (CF=ATM) ug/m3": 14.63,
         "PM10 (CF=ATM) ug/m3": 22.05,
         "_deepnote_index_column": 522474
        },
        {
         "created_at": "2021-10-08T02:40:40.000000",
         "0.3um/dl": 2635.75,
         "0.5um/dl": 736.47,
         "1.0um/dl": 107.75,
         "2.5um/dl": 5.16,
         "5.0um/dl": 0.44,
         "10.0um/dl": 0,
         "PM1.0 (CF=ATM) ug/m3": 14.95,
         "PM10 (CF=ATM) ug/m3": 21.85,
         "_deepnote_index_column": 522475
        }
       ],
       "rows_bottom": [
        {
         "created_at": "2021-10-14T22:08:09.000000",
         "0.3um/dl": 1277.67,
         "0.5um/dl": 367.84,
         "1.0um/dl": 76.25,
         "2.5um/dl": 7.24,
         "5.0um/dl": 0,
         "10.0um/dl": 0,
         "PM1.0 (CF=ATM) ug/m3": 6.4,
         "PM10 (CF=ATM) ug/m3": 11.35,
         "_deepnote_index_column": 526868
        },
        {
         "created_at": "2021-10-14T22:10:07.000000",
         "0.3um/dl": 1487.73,
         "0.5um/dl": 415.36,
         "1.0um/dl": 66.21,
         "2.5um/dl": 7.25,
         "5.0um/dl": 2.18,
         "10.0um/dl": 0.5,
         "PM1.0 (CF=ATM) ug/m3": 7.23,
         "PM10 (CF=ATM) ug/m3": 12.66,
         "_deepnote_index_column": 526869
        },
        {
         "created_at": "2021-10-14T22:12:06.000000",
         "0.3um/dl": 1637.43,
         "0.5um/dl": 448.7,
         "1.0um/dl": 76.42,
         "2.5um/dl": 7.92,
         "5.0um/dl": 1.62,
         "10.0um/dl": 0.42,
         "PM1.0 (CF=ATM) ug/m3": 7.6,
         "PM10 (CF=ATM) ug/m3": 13.7,
         "_deepnote_index_column": 526870
        },
        {
         "created_at": "2021-10-14T22:14:06.000000",
         "0.3um/dl": 1252.72,
         "0.5um/dl": 354.43,
         "1.0um/dl": 56.26,
         "2.5um/dl": 5.15,
         "5.0um/dl": 0.63,
         "10.0um/dl": 0,
         "PM1.0 (CF=ATM) ug/m3": 6.09,
         "PM10 (CF=ATM) ug/m3": 10.33,
         "_deepnote_index_column": 526871
        },
        {
         "created_at": "2021-10-14T22:16:06.000000",
         "0.3um/dl": 1141.66,
         "0.5um/dl": 325.34,
         "1.0um/dl": 74.66,
         "2.5um/dl": 8.96,
         "5.0um/dl": 2.14,
         "10.0um/dl": 0.39,
         "PM1.0 (CF=ATM) ug/m3": 5.46,
         "PM10 (CF=ATM) ug/m3": 11.79,
         "_deepnote_index_column": 526872
        },
        {
         "created_at": "2021-10-14T22:18:08.000000",
         "0.3um/dl": 1038.67,
         "0.5um/dl": 305.03,
         "1.0um/dl": 65.52,
         "2.5um/dl": 7.69,
         "5.0um/dl": 1.31,
         "10.0um/dl": 0.48,
         "PM1.0 (CF=ATM) ug/m3": 4.86,
         "PM10 (CF=ATM) ug/m3": 10.41,
         "_deepnote_index_column": 526873
        },
        {
         "created_at": "2021-10-14T22:20:14.000000",
         "0.3um/dl": 1140.96,
         "0.5um/dl": 329.39,
         "1.0um/dl": 65.29,
         "2.5um/dl": 7.61,
         "5.0um/dl": 1.32,
         "10.0um/dl": 0,
         "PM1.0 (CF=ATM) ug/m3": 5.71,
         "PM10 (CF=ATM) ug/m3": 10.89,
         "_deepnote_index_column": 526874
        },
        {
         "created_at": "2021-10-14T22:22:08.000000",
         "0.3um/dl": 1126.58,
         "0.5um/dl": 331.81,
         "1.0um/dl": 67.58,
         "2.5um/dl": 8.32,
         "5.0um/dl": 1.68,
         "10.0um/dl": 0.81,
         "PM1.0 (CF=ATM) ug/m3": 5.4,
         "PM10 (CF=ATM) ug/m3": 11.16,
         "_deepnote_index_column": 526875
        },
        {
         "created_at": "2021-10-14T22:24:12.000000",
         "0.3um/dl": 1195.85,
         "0.5um/dl": 335.56,
         "1.0um/dl": 61.09,
         "2.5um/dl": 4.47,
         "5.0um/dl": 0.44,
         "10.0um/dl": 0.44,
         "PM1.0 (CF=ATM) ug/m3": 5.85,
         "PM10 (CF=ATM) ug/m3": 10,
         "_deepnote_index_column": 526876
        },
        {
         "created_at": "2021-10-14T22:26:16.000000",
         "0.3um/dl": 1255.11,
         "0.5um/dl": 347.35,
         "1.0um/dl": 67.3,
         "2.5um/dl": 5.41,
         "5.0um/dl": 0.52,
         "10.0um/dl": 0,
         "PM1.0 (CF=ATM) ug/m3": 5.61,
         "PM10 (CF=ATM) ug/m3": 10.59,
         "_deepnote_index_column": 526877
        },
        {
         "created_at": "2021-10-14T22:28:10.000000",
         "0.3um/dl": 1260.43,
         "0.5um/dl": 362.25,
         "1.0um/dl": 66.79,
         "2.5um/dl": 4.43,
         "5.0um/dl": 0.61,
         "10.0um/dl": 0,
         "PM1.0 (CF=ATM) ug/m3": 6.12,
         "PM10 (CF=ATM) ug/m3": 10.93,
         "_deepnote_index_column": 526878
        },
        {
         "created_at": "2021-10-14T22:30:09.000000",
         "0.3um/dl": 1185.91,
         "0.5um/dl": 341.73,
         "1.0um/dl": 66.57,
         "2.5um/dl": 5.46,
         "5.0um/dl": 1.68,
         "10.0um/dl": 0.96,
         "PM1.0 (CF=ATM) ug/m3": 5.79,
         "PM10 (CF=ATM) ug/m3": 11.11,
         "_deepnote_index_column": 526879
        },
        {
         "created_at": "2021-10-14T22:32:09.000000",
         "0.3um/dl": 1286,
         "0.5um/dl": 355.86,
         "1.0um/dl": 67.79,
         "2.5um/dl": 6,
         "5.0um/dl": 1.09,
         "10.0um/dl": 0.77,
         "PM1.0 (CF=ATM) ug/m3": 5.95,
         "PM10 (CF=ATM) ug/m3": 11.07,
         "_deepnote_index_column": 526880
        },
        {
         "created_at": "2021-10-14T22:34:07.000000",
         "0.3um/dl": 1250.14,
         "0.5um/dl": 356.48,
         "1.0um/dl": 70.84,
         "2.5um/dl": 8.07,
         "5.0um/dl": 2.14,
         "10.0um/dl": 0.71,
         "PM1.0 (CF=ATM) ug/m3": 6.09,
         "PM10 (CF=ATM) ug/m3": 11.96,
         "_deepnote_index_column": 526881
        },
        {
         "created_at": "2021-10-14T22:36:09.000000",
         "0.3um/dl": 1245.11,
         "0.5um/dl": 351.98,
         "1.0um/dl": 82.62,
         "2.5um/dl": 6.87,
         "5.0um/dl": 1.09,
         "10.0um/dl": 0.65,
         "PM1.0 (CF=ATM) ug/m3": 5.62,
         "PM10 (CF=ATM) ug/m3": 12.62,
         "_deepnote_index_column": 526882
        },
        {
         "created_at": "2021-10-14T22:38:07.000000",
         "0.3um/dl": 1347.34,
         "0.5um/dl": 372.96,
         "1.0um/dl": 71.17,
         "2.5um/dl": 8.23,
         "5.0um/dl": 1.55,
         "10.0um/dl": 0.53,
         "PM1.0 (CF=ATM) ug/m3": 6.28,
         "PM10 (CF=ATM) ug/m3": 12.11,
         "_deepnote_index_column": 526883
        },
        {
         "created_at": "2021-10-14T22:40:09.000000",
         "0.3um/dl": 1505.84,
         "0.5um/dl": 427.47,
         "1.0um/dl": 74.55,
         "2.5um/dl": 5.93,
         "5.0um/dl": 1.45,
         "10.0um/dl": 0,
         "PM1.0 (CF=ATM) ug/m3": 7.42,
         "PM10 (CF=ATM) ug/m3": 13.35,
         "_deepnote_index_column": 526884
        },
        {
         "created_at": "2021-10-14T22:42:10.000000",
         "0.3um/dl": 1242.49,
         "0.5um/dl": 351.8,
         "1.0um/dl": 66.76,
         "2.5um/dl": 4.98,
         "5.0um/dl": 1.05,
         "10.0um/dl": 0.55,
         "PM1.0 (CF=ATM) ug/m3": 5.85,
         "PM10 (CF=ATM) ug/m3": 10.55,
         "_deepnote_index_column": 526885
        },
        {
         "created_at": "2021-10-14T22:44:10.000000",
         "0.3um/dl": 1261.47,
         "0.5um/dl": 358.29,
         "1.0um/dl": 71.78,
         "2.5um/dl": 7.2,
         "5.0um/dl": 0.98,
         "10.0um/dl": 0.98,
         "PM1.0 (CF=ATM) ug/m3": 6.02,
         "PM10 (CF=ATM) ug/m3": 11.64,
         "_deepnote_index_column": 526886
        },
        {
         "created_at": "2021-10-14T22:46:12.000000",
         "0.3um/dl": 1083.59,
         "0.5um/dl": 305.14,
         "1.0um/dl": 63.71,
         "2.5um/dl": 5.89,
         "5.0um/dl": 1.61,
         "10.0um/dl": 0,
         "PM1.0 (CF=ATM) ug/m3": 5.07,
         "PM10 (CF=ATM) ug/m3": 9.88,
         "_deepnote_index_column": 526887
        },
        {
         "created_at": "2021-10-14T22:48:08.000000",
         "0.3um/dl": 1195.2,
         "0.5um/dl": 335.87,
         "1.0um/dl": 77.24,
         "2.5um/dl": 5.82,
         "5.0um/dl": 0.65,
         "10.0um/dl": 0.65,
         "PM1.0 (CF=ATM) ug/m3": 5.58,
         "PM10 (CF=ATM) ug/m3": 11.22,
         "_deepnote_index_column": 526888
        },
        {
         "created_at": "2021-10-14T22:50:10.000000",
         "0.3um/dl": 1161.68,
         "0.5um/dl": 342,
         "1.0um/dl": 72.42,
         "2.5um/dl": 5.77,
         "5.0um/dl": 0.94,
         "10.0um/dl": 0,
         "PM1.0 (CF=ATM) ug/m3": 5.47,
         "PM10 (CF=ATM) ug/m3": 10.6,
         "_deepnote_index_column": 526889
        },
        {
         "created_at": "2021-10-14T22:52:10.000000",
         "0.3um/dl": 1140.16,
         "0.5um/dl": 333.98,
         "1.0um/dl": 76,
         "2.5um/dl": 8.44,
         "5.0um/dl": 0.91,
         "10.0um/dl": 0,
         "PM1.0 (CF=ATM) ug/m3": 5.64,
         "PM10 (CF=ATM) ug/m3": 11.18,
         "_deepnote_index_column": 526890
        },
        {
         "created_at": "2021-10-14T22:54:07.000000",
         "0.3um/dl": 1199.3,
         "0.5um/dl": 348,
         "1.0um/dl": 73.43,
         "2.5um/dl": 10.5,
         "5.0um/dl": 1.29,
         "10.0um/dl": 0,
         "PM1.0 (CF=ATM) ug/m3": 5.57,
         "PM10 (CF=ATM) ug/m3": 11.89,
         "_deepnote_index_column": 526891
        },
        {
         "created_at": "2021-10-14T22:56:10.000000",
         "0.3um/dl": 1205.95,
         "0.5um/dl": 342.87,
         "1.0um/dl": 65.38,
         "2.5um/dl": 9.16,
         "5.0um/dl": 0.91,
         "10.0um/dl": 0,
         "PM1.0 (CF=ATM) ug/m3": 5.96,
         "PM10 (CF=ATM) ug/m3": 11.25,
         "_deepnote_index_column": 526892
        },
        {
         "created_at": "2021-10-14T22:58:11.000000",
         "0.3um/dl": 1196.57,
         "0.5um/dl": 337.41,
         "1.0um/dl": 57.71,
         "2.5um/dl": 6.79,
         "5.0um/dl": 1.29,
         "10.0um/dl": 0.93,
         "PM1.0 (CF=ATM) ug/m3": 5.84,
         "PM10 (CF=ATM) ug/m3": 10.54,
         "_deepnote_index_column": 526893
        },
        {
         "created_at": "2021-10-14T23:00:11.000000",
         "0.3um/dl": 1156.92,
         "0.5um/dl": 327.26,
         "1.0um/dl": 63.58,
         "2.5um/dl": 3.96,
         "5.0um/dl": 0.75,
         "10.0um/dl": 0.53,
         "PM1.0 (CF=ATM) ug/m3": 5.62,
         "PM10 (CF=ATM) ug/m3": 10.02,
         "_deepnote_index_column": 526894
        },
        {
         "created_at": "2021-10-14T23:02:08.000000",
         "0.3um/dl": 1215.96,
         "0.5um/dl": 355.42,
         "1.0um/dl": 79.25,
         "2.5um/dl": 9.62,
         "5.0um/dl": 1.77,
         "10.0um/dl": 0.34,
         "PM1.0 (CF=ATM) ug/m3": 5.74,
         "PM10 (CF=ATM) ug/m3": 12.79,
         "_deepnote_index_column": 526895
        },
        {
         "created_at": "2021-10-14T23:04:09.000000",
         "0.3um/dl": 1374.32,
         "0.5um/dl": 386.25,
         "1.0um/dl": 75.51,
         "2.5um/dl": 7.02,
         "5.0um/dl": 0.98,
         "10.0um/dl": 0.49,
         "PM1.0 (CF=ATM) ug/m3": 6.79,
         "PM10 (CF=ATM) ug/m3": 12.09,
         "_deepnote_index_column": 526896
        },
        {
         "created_at": "2021-10-14T23:06:09.000000",
         "0.3um/dl": 1294.94,
         "0.5um/dl": 371.28,
         "1.0um/dl": 69.54,
         "2.5um/dl": 7.15,
         "5.0um/dl": 0.33,
         "10.0um/dl": 0.33,
         "PM1.0 (CF=ATM) ug/m3": 6.26,
         "PM10 (CF=ATM) ug/m3": 11.91,
         "_deepnote_index_column": 526897
        },
        {
         "created_at": "2021-10-14T23:08:07.000000",
         "0.3um/dl": 1121.48,
         "0.5um/dl": 322.33,
         "1.0um/dl": 71.96,
         "2.5um/dl": 7.92,
         "5.0um/dl": 0.5,
         "10.0um/dl": 0,
         "PM1.0 (CF=ATM) ug/m3": 5.31,
         "PM10 (CF=ATM) ug/m3": 10.73,
         "_deepnote_index_column": 526898
        },
        {
         "created_at": "2021-10-14T23:10:12.000000",
         "0.3um/dl": 1209.48,
         "0.5um/dl": 352.75,
         "1.0um/dl": 71.29,
         "2.5um/dl": 5.14,
         "5.0um/dl": 0.07,
         "10.0um/dl": 0,
         "PM1.0 (CF=ATM) ug/m3": 5.89,
         "PM10 (CF=ATM) ug/m3": 10.77,
         "_deepnote_index_column": 526899
        },
        {
         "created_at": "2021-10-14T23:12:15.000000",
         "0.3um/dl": 1215.91,
         "0.5um/dl": 348.46,
         "1.0um/dl": 66.07,
         "2.5um/dl": 11.71,
         "5.0um/dl": 1.71,
         "10.0um/dl": 0.43,
         "PM1.0 (CF=ATM) ug/m3": 6,
         "PM10 (CF=ATM) ug/m3": 12.05,
         "_deepnote_index_column": 526900
        },
        {
         "created_at": "2021-10-14T23:14:10.000000",
         "0.3um/dl": 1194.8,
         "0.5um/dl": 342.89,
         "1.0um/dl": 77.96,
         "2.5um/dl": 9.93,
         "5.0um/dl": 0.68,
         "10.0um/dl": 0,
         "PM1.0 (CF=ATM) ug/m3": 5.66,
         "PM10 (CF=ATM) ug/m3": 11.89,
         "_deepnote_index_column": 526901
        },
        {
         "created_at": "2021-10-14T23:16:09.000000",
         "0.3um/dl": 1336.64,
         "0.5um/dl": 389.17,
         "1.0um/dl": 77.7,
         "2.5um/dl": 7.89,
         "5.0um/dl": 0.75,
         "10.0um/dl": 0,
         "PM1.0 (CF=ATM) ug/m3": 6.68,
         "PM10 (CF=ATM) ug/m3": 12.42,
         "_deepnote_index_column": 526902
        },
        {
         "created_at": "2021-10-14T23:18:07.000000",
         "0.3um/dl": 1125.89,
         "0.5um/dl": 330.85,
         "1.0um/dl": 66.33,
         "2.5um/dl": 4.52,
         "5.0um/dl": 0.89,
         "10.0um/dl": 0.44,
         "PM1.0 (CF=ATM) ug/m3": 5.65,
         "PM10 (CF=ATM) ug/m3": 10.56,
         "_deepnote_index_column": 526903
        },
        {
         "created_at": "2021-10-14T23:20:07.000000",
         "0.3um/dl": 1183.07,
         "0.5um/dl": 340.46,
         "1.0um/dl": 82.3,
         "2.5um/dl": 8.04,
         "5.0um/dl": 1.36,
         "10.0um/dl": 0.71,
         "PM1.0 (CF=ATM) ug/m3": 5.38,
         "PM10 (CF=ATM) ug/m3": 12.5,
         "_deepnote_index_column": 526904
        },
        {
         "created_at": "2021-10-14T23:22:09.000000",
         "0.3um/dl": 1231.4,
         "0.5um/dl": 351.48,
         "1.0um/dl": 76.03,
         "2.5um/dl": 10.48,
         "5.0um/dl": 0.97,
         "10.0um/dl": 0.97,
         "PM1.0 (CF=ATM) ug/m3": 5.81,
         "PM10 (CF=ATM) ug/m3": 12.26,
         "_deepnote_index_column": 526905
        },
        {
         "created_at": "2021-10-14T23:24:08.000000",
         "0.3um/dl": 1315.39,
         "0.5um/dl": 385.25,
         "1.0um/dl": 72.98,
         "2.5um/dl": 9.21,
         "5.0um/dl": 0.71,
         "10.0um/dl": 0.14,
         "PM1.0 (CF=ATM) ug/m3": 6.62,
         "PM10 (CF=ATM) ug/m3": 12.38,
         "_deepnote_index_column": 526906
        },
        {
         "created_at": "2021-10-14T23:26:10.000000",
         "0.3um/dl": 1198.22,
         "0.5um/dl": 344.69,
         "1.0um/dl": 70.3,
         "2.5um/dl": 7.52,
         "5.0um/dl": 0.96,
         "10.0um/dl": 0.37,
         "PM1.0 (CF=ATM) ug/m3": 5.65,
         "PM10 (CF=ATM) ug/m3": 11.37,
         "_deepnote_index_column": 526907
        },
        {
         "created_at": "2021-10-14T23:28:08.000000",
         "0.3um/dl": 1337.43,
         "0.5um/dl": 392.86,
         "1.0um/dl": 84.6,
         "2.5um/dl": 9.52,
         "5.0um/dl": 2.07,
         "10.0um/dl": 0.48,
         "PM1.0 (CF=ATM) ug/m3": 6.69,
         "PM10 (CF=ATM) ug/m3": 13.95,
         "_deepnote_index_column": 526908
        },
        {
         "created_at": "2021-10-14T23:30:09.000000",
         "0.3um/dl": 1274.22,
         "0.5um/dl": 375.43,
         "1.0um/dl": 78.66,
         "2.5um/dl": 10.41,
         "5.0um/dl": 1.59,
         "10.0um/dl": 0.45,
         "PM1.0 (CF=ATM) ug/m3": 6.57,
         "PM10 (CF=ATM) ug/m3": 13.16,
         "_deepnote_index_column": 526909
        },
        {
         "created_at": "2021-10-14T23:32:09.000000",
         "0.3um/dl": 1226.53,
         "0.5um/dl": 346.33,
         "1.0um/dl": 71.97,
         "2.5um/dl": 8,
         "5.0um/dl": 0.97,
         "10.0um/dl": 0,
         "PM1.0 (CF=ATM) ug/m3": 6,
         "PM10 (CF=ATM) ug/m3": 11.14,
         "_deepnote_index_column": 526910
        },
        {
         "created_at": "2021-10-14T23:34:07.000000",
         "0.3um/dl": 1207.77,
         "0.5um/dl": 344.91,
         "1.0um/dl": 76.36,
         "2.5um/dl": 9.54,
         "5.0um/dl": 0.5,
         "10.0um/dl": 0.5,
         "PM1.0 (CF=ATM) ug/m3": 5.93,
         "PM10 (CF=ATM) ug/m3": 11.93,
         "_deepnote_index_column": 526911
        },
        {
         "created_at": "2021-10-14T23:36:11.000000",
         "0.3um/dl": 1243.34,
         "0.5um/dl": 357.24,
         "1.0um/dl": 83,
         "2.5um/dl": 8.76,
         "5.0um/dl": 1.48,
         "10.0um/dl": 0.17,
         "PM1.0 (CF=ATM) ug/m3": 5.97,
         "PM10 (CF=ATM) ug/m3": 12.72,
         "_deepnote_index_column": 526912
        },
        {
         "created_at": "2021-10-14T23:38:08.000000",
         "0.3um/dl": 1199.74,
         "0.5um/dl": 349.49,
         "1.0um/dl": 74.18,
         "2.5um/dl": 6.81,
         "5.0um/dl": 1.09,
         "10.0um/dl": 1.09,
         "PM1.0 (CF=ATM) ug/m3": 6.04,
         "PM10 (CF=ATM) ug/m3": 11.82,
         "_deepnote_index_column": 526913
        },
        {
         "created_at": "2021-10-14T23:40:11.000000",
         "0.3um/dl": 1234.5,
         "0.5um/dl": 365.11,
         "1.0um/dl": 73.79,
         "2.5um/dl": 5.68,
         "5.0um/dl": 2.14,
         "10.0um/dl": 1.79,
         "PM1.0 (CF=ATM) ug/m3": 6.61,
         "PM10 (CF=ATM) ug/m3": 12.5,
         "_deepnote_index_column": 526914
        },
        {
         "created_at": "2021-10-14T23:42:09.000000",
         "0.3um/dl": 1260.25,
         "0.5um/dl": 364.42,
         "1.0um/dl": 73,
         "2.5um/dl": 6.73,
         "5.0um/dl": 1.17,
         "10.0um/dl": 0.67,
         "PM1.0 (CF=ATM) ug/m3": 6.12,
         "PM10 (CF=ATM) ug/m3": 12,
         "_deepnote_index_column": 526915
        },
        {
         "created_at": "2021-10-14T23:44:09.000000",
         "0.3um/dl": 1236.97,
         "0.5um/dl": 363.58,
         "1.0um/dl": 78.81,
         "2.5um/dl": 7.15,
         "5.0um/dl": 0.51,
         "10.0um/dl": 0,
         "PM1.0 (CF=ATM) ug/m3": 6.14,
         "PM10 (CF=ATM) ug/m3": 12.29,
         "_deepnote_index_column": 526916
        },
        {
         "created_at": "2021-10-14T23:46:11.000000",
         "0.3um/dl": 1153.37,
         "0.5um/dl": 336.18,
         "1.0um/dl": 73.68,
         "2.5um/dl": 6.6,
         "5.0um/dl": 0.42,
         "10.0um/dl": 0,
         "PM1.0 (CF=ATM) ug/m3": 5.7,
         "PM10 (CF=ATM) ug/m3": 10.98,
         "_deepnote_index_column": 526917
        },
        {
         "created_at": "2021-10-14T23:48:14.000000",
         "0.3um/dl": 1280.02,
         "0.5um/dl": 367,
         "1.0um/dl": 73.82,
         "2.5um/dl": 8.44,
         "5.0um/dl": 1.24,
         "10.0um/dl": 0.4,
         "PM1.0 (CF=ATM) ug/m3": 6.47,
         "PM10 (CF=ATM) ug/m3": 13.05,
         "_deepnote_index_column": 526918
        },
        {
         "created_at": "2021-10-14T23:50:09.000000",
         "0.3um/dl": 1296.47,
         "0.5um/dl": 377.29,
         "1.0um/dl": 76.34,
         "2.5um/dl": 6.48,
         "5.0um/dl": 1.52,
         "10.0um/dl": 0.48,
         "PM1.0 (CF=ATM) ug/m3": 6.34,
         "PM10 (CF=ATM) ug/m3": 13.14,
         "_deepnote_index_column": 526919
        },
        {
         "created_at": "2021-10-14T23:52:09.000000",
         "0.3um/dl": 1247.32,
         "0.5um/dl": 360.46,
         "1.0um/dl": 82.46,
         "2.5um/dl": 8.28,
         "5.0um/dl": 0.81,
         "10.0um/dl": 0,
         "PM1.0 (CF=ATM) ug/m3": 6.12,
         "PM10 (CF=ATM) ug/m3": 13.11,
         "_deepnote_index_column": 526920
        },
        {
         "created_at": "2021-10-14T23:54:09.000000",
         "0.3um/dl": 1224.21,
         "0.5um/dl": 357.74,
         "1.0um/dl": 77.17,
         "2.5um/dl": 7.52,
         "5.0um/dl": 0.83,
         "10.0um/dl": 0,
         "PM1.0 (CF=ATM) ug/m3": 6.24,
         "PM10 (CF=ATM) ug/m3": 12.83,
         "_deepnote_index_column": 526921
        },
        {
         "created_at": "2021-10-14T23:56:08.000000",
         "0.3um/dl": 1202.95,
         "0.5um/dl": 344.62,
         "1.0um/dl": 73.32,
         "2.5um/dl": 7,
         "5.0um/dl": 0.64,
         "10.0um/dl": 0.21,
         "PM1.0 (CF=ATM) ug/m3": 5.77,
         "PM10 (CF=ATM) ug/m3": 11.73,
         "_deepnote_index_column": 526922
        },
        {
         "created_at": "2021-10-14T23:58:08.000000",
         "0.3um/dl": 1243.12,
         "0.5um/dl": 360.57,
         "1.0um/dl": 80.07,
         "2.5um/dl": 8.93,
         "5.0um/dl": 0.46,
         "10.0um/dl": 0.07,
         "PM1.0 (CF=ATM) ug/m3": 6,
         "PM10 (CF=ATM) ug/m3": 13.3,
         "_deepnote_index_column": 526923
        }
       ]
      },
      "text/plain": "                        created_at  0.3um/dl  0.5um/dl  1.0um/dl  2.5um/dl  \\\nentry_id                                                                     \n522421   2021-10-08 00:00:38+00:00   1871.07    519.07     64.62      4.87   \n522422   2021-10-08 00:02:39+00:00   1800.00    505.64     66.44      6.71   \n522423   2021-10-08 00:04:57+00:00   1887.05    534.19     72.68      4.95   \n522424   2021-10-08 00:06:43+00:00   1899.80    532.64     78.61      5.54   \n522425   2021-10-08 00:08:42+00:00   1952.48    537.84     66.31      4.66   \n...                            ...       ...       ...       ...       ...   \n526919   2021-10-14 23:50:09+00:00   1296.47    377.29     76.34      6.48   \n526920   2021-10-14 23:52:09+00:00   1247.32    360.46     82.46      8.28   \n526921   2021-10-14 23:54:09+00:00   1224.21    357.74     77.17      7.52   \n526922   2021-10-14 23:56:08+00:00   1202.95    344.62     73.32      7.00   \n526923   2021-10-14 23:58:08+00:00   1243.12    360.57     80.07      8.93   \n\n          5.0um/dl  10.0um/dl  PM1.0 (CF=ATM) ug/m3  PM10 (CF=ATM) ug/m3  \nentry_id                                                                  \n522421        0.22       0.22                  9.05                13.45  \n522422        1.66       1.15                  8.68                13.73  \n522423        0.85       0.00                  9.27                14.34  \n522424        1.43       0.00                  9.05                14.48  \n522425        0.28       0.00                  9.81                13.88  \n...            ...        ...                   ...                  ...  \n526919        1.52       0.48                  6.34                13.14  \n526920        0.81       0.00                  6.12                13.11  \n526921        0.83       0.00                  6.24                12.83  \n526922        0.64       0.21                  5.77                11.73  \n526923        0.46       0.07                  6.00                13.30  \n\n[4503 rows x 9 columns]",
      "text/html": "<div>\n<style scoped>\n    .dataframe tbody tr th:only-of-type {\n        vertical-align: middle;\n    }\n\n    .dataframe tbody tr th {\n        vertical-align: top;\n    }\n\n    .dataframe thead th {\n        text-align: right;\n    }\n</style>\n<table border=\"1\" class=\"dataframe\">\n  <thead>\n    <tr style=\"text-align: right;\">\n      <th></th>\n      <th>created_at</th>\n      <th>0.3um/dl</th>\n      <th>0.5um/dl</th>\n      <th>1.0um/dl</th>\n      <th>2.5um/dl</th>\n      <th>5.0um/dl</th>\n      <th>10.0um/dl</th>\n      <th>PM1.0 (CF=ATM) ug/m3</th>\n      <th>PM10 (CF=ATM) ug/m3</th>\n    </tr>\n    <tr>\n      <th>entry_id</th>\n      <th></th>\n      <th></th>\n      <th></th>\n      <th></th>\n      <th></th>\n      <th></th>\n      <th></th>\n      <th></th>\n      <th></th>\n    </tr>\n  </thead>\n  <tbody>\n    <tr>\n      <th>522421</th>\n      <td>2021-10-08 00:00:38+00:00</td>\n      <td>1871.07</td>\n      <td>519.07</td>\n      <td>64.62</td>\n      <td>4.87</td>\n      <td>0.22</td>\n      <td>0.22</td>\n      <td>9.05</td>\n      <td>13.45</td>\n    </tr>\n    <tr>\n      <th>522422</th>\n      <td>2021-10-08 00:02:39+00:00</td>\n      <td>1800.00</td>\n      <td>505.64</td>\n      <td>66.44</td>\n      <td>6.71</td>\n      <td>1.66</td>\n      <td>1.15</td>\n      <td>8.68</td>\n      <td>13.73</td>\n    </tr>\n    <tr>\n      <th>522423</th>\n      <td>2021-10-08 00:04:57+00:00</td>\n      <td>1887.05</td>\n      <td>534.19</td>\n      <td>72.68</td>\n      <td>4.95</td>\n      <td>0.85</td>\n      <td>0.00</td>\n      <td>9.27</td>\n      <td>14.34</td>\n    </tr>\n    <tr>\n      <th>522424</th>\n      <td>2021-10-08 00:06:43+00:00</td>\n      <td>1899.80</td>\n      <td>532.64</td>\n      <td>78.61</td>\n      <td>5.54</td>\n      <td>1.43</td>\n      <td>0.00</td>\n      <td>9.05</td>\n      <td>14.48</td>\n    </tr>\n    <tr>\n      <th>522425</th>\n      <td>2021-10-08 00:08:42+00:00</td>\n      <td>1952.48</td>\n      <td>537.84</td>\n      <td>66.31</td>\n      <td>4.66</td>\n      <td>0.28</td>\n      <td>0.00</td>\n      <td>9.81</td>\n      <td>13.88</td>\n    </tr>\n    <tr>\n      <th>...</th>\n      <td>...</td>\n      <td>...</td>\n      <td>...</td>\n      <td>...</td>\n      <td>...</td>\n      <td>...</td>\n      <td>...</td>\n      <td>...</td>\n      <td>...</td>\n    </tr>\n    <tr>\n      <th>526919</th>\n      <td>2021-10-14 23:50:09+00:00</td>\n      <td>1296.47</td>\n      <td>377.29</td>\n      <td>76.34</td>\n      <td>6.48</td>\n      <td>1.52</td>\n      <td>0.48</td>\n      <td>6.34</td>\n      <td>13.14</td>\n    </tr>\n    <tr>\n      <th>526920</th>\n      <td>2021-10-14 23:52:09+00:00</td>\n      <td>1247.32</td>\n      <td>360.46</td>\n      <td>82.46</td>\n      <td>8.28</td>\n      <td>0.81</td>\n      <td>0.00</td>\n      <td>6.12</td>\n      <td>13.11</td>\n    </tr>\n    <tr>\n      <th>526921</th>\n      <td>2021-10-14 23:54:09+00:00</td>\n      <td>1224.21</td>\n      <td>357.74</td>\n      <td>77.17</td>\n      <td>7.52</td>\n      <td>0.83</td>\n      <td>0.00</td>\n      <td>6.24</td>\n      <td>12.83</td>\n    </tr>\n    <tr>\n      <th>526922</th>\n      <td>2021-10-14 23:56:08+00:00</td>\n      <td>1202.95</td>\n      <td>344.62</td>\n      <td>73.32</td>\n      <td>7.00</td>\n      <td>0.64</td>\n      <td>0.21</td>\n      <td>5.77</td>\n      <td>11.73</td>\n    </tr>\n    <tr>\n      <th>526923</th>\n      <td>2021-10-14 23:58:08+00:00</td>\n      <td>1243.12</td>\n      <td>360.57</td>\n      <td>80.07</td>\n      <td>8.93</td>\n      <td>0.46</td>\n      <td>0.07</td>\n      <td>6.00</td>\n      <td>13.30</td>\n    </tr>\n  </tbody>\n</table>\n<p>4503 rows × 9 columns</p>\n</div>"
     },
     "metadata": {}
    }
   ]
  },
  {
   "cell_type": "markdown",
   "source": "As you can see from the \"created_at\" column, the AQI was taken every two minutes over the past 7 days. The data frame also contains information on PM paticules of different diameters such as 0.3, 0.5, 1.0, 2.5, 5.0 and 10.0.\n\n<br>\n\nWhile this dataframe is useful, there are too many rows of data (~5000) to look at! Let's create a visualization of the PM 2.5 measure to get a better idea of how the AQI changed over time.\n\n\n**Run the cell below to create the line plot.**",
   "metadata": {
    "tags": [],
    "cell_id": "00053-aadd5c14-00f5-4bae-a455-544c2358c3d6",
    "deepnote_cell_type": "markdown"
   }
  },
  {
   "cell_type": "code",
   "metadata": {
    "tags": [],
    "deepnote_to_be_reexecuted": false,
    "source_hash": "87b413f3",
    "execution_start": 1634305011180,
    "execution_millis": 449,
    "cell_id": "00054-3ae6e99e-6ee4-4244-9103-91eb16cb4b2b",
    "deepnote_cell_type": "code"
   },
   "source": "plt.plot(UT_stadium['created_at'], UT_stadium[\"2.5um/dl\"],)\nplt.grid(axis='y', alpha=0.75)\nplt.xlabel('Date')\nplt.ylabel('PM 2.5 Particle Count')\nplt.title('UT Stadium Sensor PM 2.5')\nplt.rcParams[\"figure.figsize\"] = (20,3)",
   "execution_count": 22,
   "outputs": [
    {
     "data": {
      "text/plain": "<Figure size 1440x216 with 1 Axes>",
      "image/png": "[encoded data removed]"
     },
     "metadata": {
      "needs_background": "light",
      "image/png": {
       "width": 1164,
       "height": 224
      }
     },
     "output_type": "display_data"
    }
   ]
  },
  {
   "cell_type": "markdown",
   "source": "The line plot above displays the date along the x-axis and the PM 2.5 Particle count along the y-axis.\n\n<br>\n\n**QUESTION: What trends do you notice about the line plot?**\n\n",
   "metadata": {
    "tags": [],
    "cell_id": "00055-a3584bba-f516-40d9-8259-061cba6cd85d",
    "deepnote_cell_type": "markdown"
   }
  },
  {
   "cell_type": "markdown",
   "source": "*Your answer here*",
   "metadata": {
    "tags": [],
    "cell_id": "00056-1b3f6070-a321-4609-b322-f3d67bb17614",
    "deepnote_cell_type": "markdown"
   }
  },
  {
   "cell_type": "markdown",
   "source": "<br>\n\nWhile the line plot does show us a trend in the PM2.5 count over time, we still have not clue how that translates to the API Index. The next section will discuss what AQI is and how it is calculated.",
   "metadata": {
    "tags": [],
    "cell_id": "00057-db746027-31b3-4ae2-9a29-65e9e959a415",
    "deepnote_cell_type": "markdown"
   }
  },
  {
   "cell_type": "markdown",
   "source": "### AQI Index\nThe AQI Index contains 6 categories that air quality can fall into. Each category contains a range of index values from 0 - 500 that is calculated from the regions PM 2.5 measure. The chart below is provided by the US Environmental Protection Agency (EPA) and shows the official AQI Index (these breakpoints were revised in 2012). \n\nFor more information on how AQI Index is calculated, take a look at the AQI Index Factsheet provided by the EPA [here](https://www.epa.gov/sites/default/files/2016-04/documents/2012_aqi_factsheet.pdf)!",
   "metadata": {
    "tags": [],
    "cell_id": "00058-fb96ec35-fc22-4b32-b701-325ac3cb04a1",
    "deepnote_cell_type": "markdown"
   }
  },
  {
   "cell_type": "markdown",
   "source": "<p align=\"center\">\n  <img src=\"images/AQI-category.png\" width=\"\" height=\"\" align=\"center\">\n</p>",
   "metadata": {
    "tags": [],
    "cell_id": "00059-99f1a679-3350-4331-948a-8ae92b3c461d",
    "deepnote_cell_type": "markdown"
   }
  },
  {
   "cell_type": "markdown",
   "source": "Now that we know how sesors work, what they measure and how AQI Indexes are calculated, let's see if we can create a visualization of AQI Indexes that are a little closer to home!\n\nFirst, let's find a group of sensors that are near Houston, Texas. The code cell below does just that. We use a range of longitude and latitude coordinates to decide whether to include or exclude a sensor. \n\n**Run the cell below to display a dataset of about 40 sensors in and surrounding Houston!**",
   "metadata": {
    "tags": [],
    "cell_id": "00060-73dc5f4e-8999-4b6d-83d7-ff359c7e89f4",
    "deepnote_cell_type": "markdown"
   }
  },
  {
   "cell_type": "code",
   "metadata": {
    "tags": [],
    "deepnote_to_be_reexecuted": false,
    "source_hash": "bde860ae",
    "execution_start": 1634304959759,
    "execution_millis": 87,
    "cell_id": "00061-2f4dd61a-9df5-4d21-86ba-3368ef13eb7b",
    "deepnote_cell_type": "code"
   },
   "source": "## Houston, TX - Lat: 29.7604 / Lon: -95.3698\n\nhouston_data = df.loc[(df[\"lat\"] >= 29) & (df[\"lat\"] <= 30) & (df[\"lon\"] >= -96) & (df[\"lon\"] <= -94)]\nhouston_data = houston_data[[\"lat\", \"lon\", \"name\", \"location_type\", \"pm_2.5\", \"temp_f\", \"humidity\", \"pressure\"]]\nhouston_data",
   "execution_count": 18,
   "outputs": [
    {
     "output_type": "execute_result",
     "execution_count": 18,
     "data": {
      "application/vnd.deepnote.dataframe.v2+json": {
       "row_count": 41,
       "column_count": 8,
       "columns": [
        {
         "name": "lat",
         "dtype": "float64",
         "stats": {
          "unique_count": 39,
          "nan_count": 0,
          "min": "29.193352",
          "max": "29.955063",
          "histogram": [
           {
            "bin_start": 29.193352,
            "bin_end": 29.2695231,
            "count": 1
           },
           {
            "bin_start": 29.2695231,
            "bin_end": 29.3456942,
            "count": 0
           },
           {
            "bin_start": 29.3456942,
            "bin_end": 29.4218653,
            "count": 0
           },
           {
            "bin_start": 29.4218653,
            "bin_end": 29.4980364,
            "count": 1
           },
           {
            "bin_start": 29.4980364,
            "bin_end": 29.5742075,
            "count": 3
           },
           {
            "bin_start": 29.5742075,
            "bin_end": 29.6503786,
            "count": 4
           },
           {
            "bin_start": 29.6503786,
            "bin_end": 29.7265497,
            "count": 6
           },
           {
            "bin_start": 29.7265497,
            "bin_end": 29.8027208,
            "count": 19
           },
           {
            "bin_start": 29.8027208,
            "bin_end": 29.8788919,
            "count": 4
           },
           {
            "bin_start": 29.8788919,
            "bin_end": 29.955063,
            "count": 3
           }
          ]
         }
        },
        {
         "name": "lon",
         "dtype": "float64",
         "stats": {
          "unique_count": 39,
          "nan_count": 0,
          "min": "-95.740333",
          "max": "-94.97924",
          "histogram": [
           {
            "bin_start": -95.740333,
            "bin_end": -95.66422370000001,
            "count": 5
           },
           {
            "bin_start": -95.66422370000001,
            "bin_end": -95.58811440000001,
            "count": 0
           },
           {
            "bin_start": -95.58811440000001,
            "bin_end": -95.51200510000001,
            "count": 4
           },
           {
            "bin_start": -95.51200510000001,
            "bin_end": -95.43589580000001,
            "count": 4
           },
           {
            "bin_start": -95.43589580000001,
            "bin_end": -95.35978650000001,
            "count": 6
           },
           {
            "bin_start": -95.35978650000001,
            "bin_end": -95.2836772,
            "count": 3
           },
           {
            "bin_start": -95.2836772,
            "bin_end": -95.2075679,
            "count": 3
           },
           {
            "bin_start": -95.2075679,
            "bin_end": -95.1314586,
            "count": 6
           },
           {
            "bin_start": -95.1314586,
            "bin_end": -95.0553493,
            "count": 5
           },
           {
            "bin_start": -95.0553493,
            "bin_end": -94.97924,
            "count": 5
           }
          ]
         }
        },
        {
         "name": "name",
         "dtype": "object",
         "stats": {
          "unique_count": 41,
          "nan_count": 0,
          "categories": [
           {
            "name": "16815 Flower Mist Lane",
            "count": 1
           },
           {
            "name": "3623 Shadow Trail, Houston, Texas 77084",
            "count": 1
           },
           {
            "name": "39 others",
            "count": 39
           }
          ]
         }
        },
        {
         "name": "location_type",
         "dtype": "object",
         "stats": {
          "unique_count": 2,
          "nan_count": 0,
          "categories": [
           {
            "name": "outside",
            "count": 33
           },
           {
            "name": "inside",
            "count": 8
           }
          ]
         }
        },
        {
         "name": "pm_2.5",
         "dtype": "float64",
         "stats": {
          "unique_count": 40,
          "nan_count": 0,
          "min": "0.0",
          "max": "209.28",
          "histogram": [
           {
            "bin_start": 0,
            "bin_end": 20.928,
            "count": 38
           },
           {
            "bin_start": 20.928,
            "bin_end": 41.856,
            "count": 2
           },
           {
            "bin_start": 41.856,
            "bin_end": 62.784000000000006,
            "count": 0
           },
           {
            "bin_start": 62.784000000000006,
            "bin_end": 83.712,
            "count": 0
           },
           {
            "bin_start": 83.712,
            "bin_end": 104.64,
            "count": 0
           },
           {
            "bin_start": 104.64,
            "bin_end": 125.56800000000001,
            "count": 0
           },
           {
            "bin_start": 125.56800000000001,
            "bin_end": 146.496,
            "count": 0
           },
           {
            "bin_start": 146.496,
            "bin_end": 167.424,
            "count": 0
           },
           {
            "bin_start": 167.424,
            "bin_end": 188.352,
            "count": 0
           },
           {
            "bin_start": 188.352,
            "bin_end": 209.28,
            "count": 1
           }
          ]
         }
        },
        {
         "name": "temp_f",
         "dtype": "float64",
         "stats": {
          "unique_count": 10,
          "nan_count": 3,
          "min": "80.0",
          "max": "97.0",
          "histogram": [
           {
            "bin_start": 80,
            "bin_end": 81.7,
            "count": 4
           },
           {
            "bin_start": 81.7,
            "bin_end": 83.4,
            "count": 4
           },
           {
            "bin_start": 83.4,
            "bin_end": 85.1,
            "count": 19
           },
           {
            "bin_start": 85.1,
            "bin_end": 86.8,
            "count": 6
           },
           {
            "bin_start": 86.8,
            "bin_end": 88.5,
            "count": 3
           },
           {
            "bin_start": 88.5,
            "bin_end": 90.2,
            "count": 0
           },
           {
            "bin_start": 90.2,
            "bin_end": 91.9,
            "count": 1
           },
           {
            "bin_start": 91.9,
            "bin_end": 93.6,
            "count": 0
           },
           {
            "bin_start": 93.6,
            "bin_end": 95.3,
            "count": 0
           },
           {
            "bin_start": 95.3,
            "bin_end": 97,
            "count": 1
           }
          ]
         }
        },
        {
         "name": "humidity",
         "dtype": "float64",
         "stats": {
          "unique_count": 22,
          "nan_count": 3,
          "min": "29.0",
          "max": "100.0",
          "histogram": [
           {
            "bin_start": 29,
            "bin_end": 36.1,
            "count": 3
           },
           {
            "bin_start": 36.1,
            "bin_end": 43.2,
            "count": 3
           },
           {
            "bin_start": 43.2,
            "bin_end": 50.3,
            "count": 2
           },
           {
            "bin_start": 50.3,
            "bin_end": 57.4,
            "count": 0
           },
           {
            "bin_start": 57.4,
            "bin_end": 64.5,
            "count": 1
           },
           {
            "bin_start": 64.5,
            "bin_end": 71.6,
            "count": 12
           },
           {
            "bin_start": 71.6,
            "bin_end": 78.69999999999999,
            "count": 10
           },
           {
            "bin_start": 78.69999999999999,
            "bin_end": 85.8,
            "count": 1
           },
           {
            "bin_start": 85.8,
            "bin_end": 92.9,
            "count": 1
           },
           {
            "bin_start": 92.9,
            "bin_end": 100,
            "count": 5
           }
          ]
         }
        },
        {
         "name": "pressure",
         "dtype": "float64",
         "stats": {
          "unique_count": 37,
          "nan_count": 3,
          "min": "718.43",
          "max": "1015.04",
          "histogram": [
           {
            "bin_start": 718.43,
            "bin_end": 748.0909999999999,
            "count": 1
           },
           {
            "bin_start": 748.0909999999999,
            "bin_end": 777.752,
            "count": 0
           },
           {
            "bin_start": 777.752,
            "bin_end": 807.413,
            "count": 0
           },
           {
            "bin_start": 807.413,
            "bin_end": 837.074,
            "count": 0
           },
           {
            "bin_start": 837.074,
            "bin_end": 866.7349999999999,
            "count": 0
           },
           {
            "bin_start": 866.7349999999999,
            "bin_end": 896.396,
            "count": 0
           },
           {
            "bin_start": 896.396,
            "bin_end": 926.057,
            "count": 0
           },
           {
            "bin_start": 926.057,
            "bin_end": 955.718,
            "count": 0
           },
           {
            "bin_start": 955.718,
            "bin_end": 985.3789999999999,
            "count": 0
           },
           {
            "bin_start": 985.3789999999999,
            "bin_end": 1015.04,
            "count": 37
           }
          ]
         }
        },
        {
         "name": "_deepnote_index_column",
         "dtype": "int64"
        }
       ],
       "rows_top": [
        {
         "lat": 29.939444,
         "lon": -95.671354,
         "name": "16815 Flower Mist Lane",
         "location_type": "inside",
         "pm_2.5": 0.86,
         "temp_f": 80,
         "humidity": 37,
         "pressure": 1009.72,
         "_deepnote_index_column": 74265
        },
        {
         "lat": 29.81888,
         "lon": -95.695667,
         "name": "3623 Shadow Trail, Houston, Texas 77084",
         "location_type": "outside",
         "pm_2.5": 9.34,
         "temp_f": 84,
         "humidity": 71,
         "pressure": 1009.96,
         "_deepnote_index_column": 98139
        },
        {
         "lat": 29.743322,
         "lon": -95.232096,
         "name": "AAH 15th Street",
         "location_type": "outside",
         "pm_2.5": 6.64,
         "temp_f": 84,
         "humidity": 71,
         "pressure": 1013.3,
         "_deepnote_index_column": 97279
        },
        {
         "lat": 29.743369,
         "lon": -95.241979,
         "name": "AAH GP Eastway",
         "location_type": "outside",
         "pm_2.5": 5.22,
         "temp_f": 85,
         "humidity": 75,
         "pressure": 1014.24,
         "_deepnote_index_column": 99769
        },
        {
         "lat": 29.737321,
         "lon": -95.252961,
         "name": "AAH GP Manor",
         "location_type": "outside",
         "pm_2.5": 7.05,
         "temp_f": 84,
         "humidity": 73,
         "pressure": 1013.09,
         "_deepnote_index_column": 99797
        },
        {
         "lat": 29.705026,
         "lon": -95.154222,
         "name": "AAH Meadowlake",
         "location_type": "outside",
         "pm_2.5": 5.6,
         "temp_f": 83,
         "humidity": 71,
         "pressure": 1013.4,
         "_deepnote_index_column": 98633
        },
        {
         "lat": 29.809783,
         "lon": -95.195382,
         "name": "AAH Pine Trails",
         "location_type": "outside",
         "pm_2.5": 21.48,
         "temp_f": 81,
         "humidity": 68,
         "pressure": 1013.51,
         "_deepnote_index_column": 97325
        },
        {
         "lat": 29.806499,
         "lon": -95.543647,
         "name": "Ballero-Air-SpringBranch",
         "location_type": "outside",
         "pm_2.5": 5.67,
         "temp_f": 84,
         "humidity": 71,
         "pressure": 1010.28,
         "_deepnote_index_column": 51697
        },
        {
         "lat": 29.582712,
         "lon": -95.119633,
         "name": "Bay Forest (IN)",
         "location_type": "inside",
         "pm_2.5": 0.47,
         "temp_f": 85,
         "humidity": 29,
         "pressure": 1013.2,
         "_deepnote_index_column": 100523
        },
        {
         "lat": 29.583349,
         "lon": -95.120087,
         "name": "Bay Forest",
         "location_type": "outside",
         "pm_2.5": 4.84,
         "temp_f": 85,
         "humidity": 89,
         "pressure": 1013,
         "_deepnote_index_column": 3298
        },
        {
         "lat": 29.955063,
         "lon": -95.737387,
         "name": "Bridgeland",
         "location_type": "outside",
         "pm_2.5": 7.78,
         "temp_f": 86,
         "humidity": 70,
         "pressure": 1007.73,
         "_deepnote_index_column": 3033
        },
        {
         "lat": 29.691015,
         "lon": -95.136015,
         "name": "C.and.Mi's",
         "location_type": "outside",
         "pm_2.5": 4.95,
         "temp_f": 84,
         "humidity": 73,
         "pressure": 1012.9,
         "_deepnote_index_column": 50567
        },
        {
         "lat": 29.790651,
         "lon": -95.113845,
         "name": "Channelview Tx #1",
         "location_type": "outside",
         "pm_2.5": 6.54,
         "temp_f": 85,
         "humidity": 68,
         "pressure": 1013.58,
         "_deepnote_index_column": 27905
        },
        {
         "lat": 29.463194,
         "lon": -95.042483,
         "name": "Dickinson Office of Emergency Management",
         "location_type": "outside",
         "pm_2.5": 0.06,
         "temp_f": 87,
         "humidity": 61,
         "pressure": 1014.31,
         "_deepnote_index_column": 116073
        },
        {
         "lat": 29.816738,
         "lon": -95.303219,
         "name": "Houston Gardens",
         "location_type": "outside",
         "pm_2.5": 14.62,
         "temp_f": 87,
         "humidity": 65,
         "pressure": 1012.98,
         "_deepnote_index_column": 86003
        },
        {
         "lat": 29.764788,
         "lon": -95.178538,
         "name": "HRM-PA1",
         "location_type": "outside",
         "pm_2.5": 1.4,
         "temp_f": 85,
         "humidity": 83,
         "pressure": 1012.82,
         "_deepnote_index_column": 31025
        },
        {
         "lat": 29.76528,
         "lon": -95.18111,
         "name": "hrm3-3",
         "location_type": "outside",
         "pm_2.5": 22.73,
         "temp_f": 85,
         "humidity": 73,
         "pressure": 1013.18,
         "_deepnote_index_column": 31035
        },
        {
         "lat": 29.764788,
         "lon": -95.178538,
         "name": "HRM3-PA2",
         "location_type": "outside",
         "pm_2.5": 8.75,
         "temp_f": 85,
         "humidity": 76,
         "pressure": 1013.22,
         "_deepnote_index_column": 30911
        },
        {
         "lat": 29.717061,
         "lon": -95.308764,
         "name": "IdylwoodEastEnd",
         "location_type": "outside",
         "pm_2.5": 8.79,
         "temp_f": "nan",
         "humidity": "nan",
         "pressure": "nan",
         "_deepnote_index_column": 6752
        },
        {
         "lat": 29.193352,
         "lon": -94.97924,
         "name": "Jamaica Beach TX",
         "location_type": "outside",
         "pm_2.5": 3,
         "temp_f": 97,
         "humidity": 100,
         "pressure": 718.43,
         "_deepnote_index_column": 56377
        },
        {
         "lat": 29.570752,
         "lon": -95.11873,
         "name": "Jgg",
         "location_type": "outside",
         "pm_2.5": 2.54,
         "temp_f": 86,
         "humidity": 100,
         "pressure": 1010.94,
         "_deepnote_index_column": 3583
        },
        {
         "lat": 29.70373,
         "lon": -95.05282,
         "name": "LAP5187",
         "location_type": "outside",
         "pm_2.5": 5.67,
         "temp_f": 84,
         "humidity": 100,
         "pressure": 1014.02,
         "_deepnote_index_column": 85127
        },
        {
         "lat": 29.703527,
         "lon": -95.458783,
         "name": "Laurel Street Indoors",
         "location_type": "inside",
         "pm_2.5": 1.37,
         "temp_f": 84,
         "humidity": 31,
         "pressure": 1011.8,
         "_deepnote_index_column": 61909
        },
        {
         "lat": 29.797358,
         "lon": -95.489989,
         "name": "Monarch",
         "location_type": "outside",
         "pm_2.5": 6.29,
         "temp_f": 84,
         "humidity": 70,
         "pressure": 1011.69,
         "_deepnote_index_column": 51959
        },
        {
         "lat": 29.737535,
         "lon": -95.406967,
         "name": "Museum District",
         "location_type": "outside",
         "pm_2.5": 6.67,
         "temp_f": 86,
         "humidity": 74,
         "pressure": 1010.15,
         "_deepnote_index_column": 48545
        },
        {
         "lat": 29.778682,
         "lon": -95.3505,
         "name": "Near Northside Houston",
         "location_type": "inside",
         "pm_2.5": 0.97,
         "temp_f": 86,
         "humidity": 37,
         "pressure": 1012.39,
         "_deepnote_index_column": 51823
        },
        {
         "lat": 29.723649,
         "lon": -95.420642,
         "name": "Northeast West U",
         "location_type": "outside",
         "pm_2.5": 7.89,
         "temp_f": 85,
         "humidity": 69,
         "pressure": 1012.93,
         "_deepnote_index_column": 56059
        },
        {
         "lat": 29.557082,
         "lon": -95.740333,
         "name": "Phil at Sweetgrass in Richmond",
         "location_type": "outside",
         "pm_2.5": 6.05,
         "temp_f": 83,
         "humidity": 73,
         "pressure": 1011.4,
         "_deepnote_index_column": 30593
        },
        {
         "lat": 29.76556,
         "lon": -95.413945,
         "name": "Rice Military Div",
         "location_type": "outside",
         "pm_2.5": 6.55,
         "temp_f": 87,
         "humidity": 65,
         "pressure": 1012.67,
         "_deepnote_index_column": 26659
        },
        {
         "lat": 29.73305,
         "lon": -95.585685,
         "name": "Royal Oaks Houston Tx - Inside",
         "location_type": "inside",
         "pm_2.5": 0.02,
         "temp_f": 83,
         "humidity": 41,
         "pressure": 1011.37,
         "_deepnote_index_column": 27009
        },
        {
         "lat": 29.73305,
         "lon": -95.585685,
         "name": "Royal Oaks Houston Tx - Outside",
         "location_type": "outside",
         "pm_2.5": 7.46,
         "temp_f": 84,
         "humidity": 76,
         "pressure": 1009.57,
         "_deepnote_index_column": 28851
        },
        {
         "lat": 29.601254,
         "lon": -94.99246,
         "name": "Schottel House",
         "location_type": "outside",
         "pm_2.5": 3.62,
         "temp_f": 85,
         "humidity": 70,
         "pressure": 1014.02,
         "_deepnote_index_column": 33033
        },
        {
         "lat": 29.582296,
         "lon": -95.044651,
         "name": "Seabrook Island",
         "location_type": "outside",
         "pm_2.5": 3.37,
         "temp_f": "nan",
         "humidity": "nan",
         "pressure": "nan",
         "_deepnote_index_column": 28679
        },
        {
         "lat": 29.799163,
         "lon": -95.416531,
         "name": "Shady Acres ",
         "location_type": "outside",
         "pm_2.5": 6.44,
         "temp_f": "nan",
         "humidity": "nan",
         "pressure": "nan",
         "_deepnote_index_column": 28823
        },
        {
         "lat": 29.77074,
         "lon": -95.370056,
         "name": "Test First Ward",
         "location_type": "outside",
         "pm_2.5": 0.24,
         "temp_f": 86,
         "humidity": 100,
         "pressure": 1012.88,
         "_deepnote_index_column": 27821
        },
        {
         "lat": 29.532282,
         "lon": -95.076473,
         "name": "The Lakefront",
         "location_type": "outside",
         "pm_2.5": 4.26,
         "temp_f": 86,
         "humidity": 100,
         "pressure": 1011.12,
         "_deepnote_index_column": 2386
        },
        {
         "lat": 29.924318,
         "lon": -95.584526,
         "name": "White Oak Bend",
         "location_type": "inside",
         "pm_2.5": 209.28,
         "temp_f": 91,
         "humidity": 34,
         "pressure": 1015.04,
         "_deepnote_index_column": 62023
        },
        {
         "lat": 29.762896,
         "lon": -95.707644,
         "name": "Windsor Park",
         "location_type": "outside",
         "pm_2.5": 15.79,
         "temp_f": 82,
         "humidity": 77,
         "pressure": 1009.25,
         "_deepnote_index_column": 3777
        },
        {
         "lat": 29.78264,
         "lon": -95.37274,
         "name": "Woodland Heights",
         "location_type": "outside",
         "pm_2.5": 5.81,
         "temp_f": 85,
         "humidity": 78,
         "pressure": 1012.69,
         "_deepnote_index_column": 31163
        },
        {
         "lat": 29.762451,
         "lon": -95.46637,
         "name": "WPI-1",
         "location_type": "inside",
         "pm_2.5": 0.09,
         "temp_f": 81,
         "humidity": 49,
         "pressure": 1007.96,
         "_deepnote_index_column": 34399
        },
        {
         "lat": 29.762515,
         "lon": -95.465982,
         "name": "WPI-2",
         "location_type": "inside",
         "pm_2.5": 0,
         "temp_f": 80,
         "humidity": 50,
         "pressure": 1008.58,
         "_deepnote_index_column": 34431
        }
       ],
       "rows_bottom": null
      },
      "text/plain": "              lat        lon                                      name  \\\nid                                                                       \n74265   29.939444 -95.671354                    16815 Flower Mist Lane   \n98139   29.818880 -95.695667   3623 Shadow Trail, Houston, Texas 77084   \n97279   29.743322 -95.232096                           AAH 15th Street   \n99769   29.743369 -95.241979                            AAH GP Eastway   \n99797   29.737321 -95.252961                              AAH GP Manor   \n98633   29.705026 -95.154222                            AAH Meadowlake   \n97325   29.809783 -95.195382                           AAH Pine Trails   \n51697   29.806499 -95.543647                  Ballero-Air-SpringBranch   \n100523  29.582712 -95.119633                           Bay Forest (IN)   \n3298    29.583349 -95.120087                                Bay Forest   \n3033    29.955063 -95.737387                                Bridgeland   \n50567   29.691015 -95.136015                                C.and.Mi's   \n27905   29.790651 -95.113845                         Channelview Tx #1   \n116073  29.463194 -95.042483  Dickinson Office of Emergency Management   \n86003   29.816738 -95.303219                           Houston Gardens   \n31025   29.764788 -95.178538                                   HRM-PA1   \n31035   29.765280 -95.181110                                    hrm3-3   \n30911   29.764788 -95.178538                                  HRM3-PA2   \n6752    29.717061 -95.308764                           IdylwoodEastEnd   \n56377   29.193352 -94.979240                          Jamaica Beach TX   \n3583    29.570752 -95.118730                                       Jgg   \n85127   29.703730 -95.052820                                   LAP5187   \n61909   29.703527 -95.458783                     Laurel Street Indoors   \n51959   29.797358 -95.489989                                   Monarch   \n48545   29.737535 -95.406967                           Museum District   \n51823   29.778682 -95.350500                    Near Northside Houston   \n56059   29.723649 -95.420642                          Northeast West U   \n30593   29.557082 -95.740333            Phil at Sweetgrass in Richmond   \n26659   29.765560 -95.413945                         Rice Military Div   \n27009   29.733050 -95.585685            Royal Oaks Houston Tx - Inside   \n28851   29.733050 -95.585685           Royal Oaks Houston Tx - Outside   \n33033   29.601254 -94.992460                            Schottel House   \n28679   29.582296 -95.044651                           Seabrook Island   \n28823   29.799163 -95.416531                              Shady Acres    \n27821   29.770740 -95.370056                           Test First Ward   \n2386    29.532282 -95.076473                             The Lakefront   \n62023   29.924318 -95.584526                            White Oak Bend   \n3777    29.762896 -95.707644                              Windsor Park   \n31163   29.782640 -95.372740                          Woodland Heights   \n34399   29.762451 -95.466370                                     WPI-1   \n34431   29.762515 -95.465982                                     WPI-2   \n\n       location_type  pm_2.5  temp_f  humidity  pressure  \nid                                                        \n74265         inside    0.86    80.0      37.0   1009.72  \n98139        outside    9.34    84.0      71.0   1009.96  \n97279        outside    6.64    84.0      71.0   1013.30  \n99769        outside    5.22    85.0      75.0   1014.24  \n99797        outside    7.05    84.0      73.0   1013.09  \n98633        outside    5.60    83.0      71.0   1013.40  \n97325        outside   21.48    81.0      68.0   1013.51  \n51697        outside    5.67    84.0      71.0   1010.28  \n100523        inside    0.47    85.0      29.0   1013.20  \n3298         outside    4.84    85.0      89.0   1013.00  \n3033         outside    7.78    86.0      70.0   1007.73  \n50567        outside    4.95    84.0      73.0   1012.90  \n27905        outside    6.54    85.0      68.0   1013.58  \n116073       outside    0.06    87.0      61.0   1014.31  \n86003        outside   14.62    87.0      65.0   1012.98  \n31025        outside    1.40    85.0      83.0   1012.82  \n31035        outside   22.73    85.0      73.0   1013.18  \n30911        outside    8.75    85.0      76.0   1013.22  \n6752         outside    8.79     NaN       NaN       NaN  \n56377        outside    3.00    97.0     100.0    718.43  \n3583         outside    2.54    86.0     100.0   1010.94  \n85127        outside    5.67    84.0     100.0   1014.02  \n61909         inside    1.37    84.0      31.0   1011.80  \n51959        outside    6.29    84.0      70.0   1011.69  \n48545        outside    6.67    86.0      74.0   1010.15  \n51823         inside    0.97    86.0      37.0   1012.39  \n56059        outside    7.89    85.0      69.0   1012.93  \n30593        outside    6.05    83.0      73.0   1011.40  \n26659        outside    6.55    87.0      65.0   1012.67  \n27009         inside    0.02    83.0      41.0   1011.37  \n28851        outside    7.46    84.0      76.0   1009.57  \n33033        outside    3.62    85.0      70.0   1014.02  \n28679        outside    3.37     NaN       NaN       NaN  \n28823        outside    6.44     NaN       NaN       NaN  \n27821        outside    0.24    86.0     100.0   1012.88  \n2386         outside    4.26    86.0     100.0   1011.12  \n62023         inside  209.28    91.0      34.0   1015.04  \n3777         outside   15.79    82.0      77.0   1009.25  \n31163        outside    5.81    85.0      78.0   1012.69  \n34399         inside    0.09    81.0      49.0   1007.96  \n34431         inside    0.00    80.0      50.0   1008.58  ",
      "text/html": "<div>\n<style scoped>\n    .dataframe tbody tr th:only-of-type {\n        vertical-align: middle;\n    }\n\n    .dataframe tbody tr th {\n        vertical-align: top;\n    }\n\n    .dataframe thead th {\n        text-align: right;\n    }\n</style>\n<table border=\"1\" class=\"dataframe\">\n  <thead>\n    <tr style=\"text-align: right;\">\n      <th></th>\n      <th>lat</th>\n      <th>lon</th>\n      <th>name</th>\n      <th>location_type</th>\n      <th>pm_2.5</th>\n      <th>temp_f</th>\n      <th>humidity</th>\n      <th>pressure</th>\n    </tr>\n    <tr>\n      <th>id</th>\n      <th></th>\n      <th></th>\n      <th></th>\n      <th></th>\n      <th></th>\n      <th></th>\n      <th></th>\n      <th></th>\n    </tr>\n  </thead>\n  <tbody>\n    <tr>\n      <th>74265</th>\n      <td>29.939444</td>\n      <td>-95.671354</td>\n      <td>16815 Flower Mist Lane</td>\n      <td>inside</td>\n      <td>0.86</td>\n      <td>80.0</td>\n      <td>37.0</td>\n      <td>1009.72</td>\n    </tr>\n    <tr>\n      <th>98139</th>\n      <td>29.818880</td>\n      <td>-95.695667</td>\n      <td>3623 Shadow Trail, Houston, Texas 77084</td>\n      <td>outside</td>\n      <td>9.34</td>\n      <td>84.0</td>\n      <td>71.0</td>\n      <td>1009.96</td>\n    </tr>\n    <tr>\n      <th>97279</th>\n      <td>29.743322</td>\n      <td>-95.232096</td>\n      <td>AAH 15th Street</td>\n      <td>outside</td>\n      <td>6.64</td>\n      <td>84.0</td>\n      <td>71.0</td>\n      <td>1013.30</td>\n    </tr>\n    <tr>\n      <th>99769</th>\n      <td>29.743369</td>\n      <td>-95.241979</td>\n      <td>AAH GP Eastway</td>\n      <td>outside</td>\n      <td>5.22</td>\n      <td>85.0</td>\n      <td>75.0</td>\n      <td>1014.24</td>\n    </tr>\n    <tr>\n      <th>99797</th>\n      <td>29.737321</td>\n      <td>-95.252961</td>\n      <td>AAH GP Manor</td>\n      <td>outside</td>\n      <td>7.05</td>\n      <td>84.0</td>\n      <td>73.0</td>\n      <td>1013.09</td>\n    </tr>\n    <tr>\n      <th>98633</th>\n      <td>29.705026</td>\n      <td>-95.154222</td>\n      <td>AAH Meadowlake</td>\n      <td>outside</td>\n      <td>5.60</td>\n      <td>83.0</td>\n      <td>71.0</td>\n      <td>1013.40</td>\n    </tr>\n    <tr>\n      <th>97325</th>\n      <td>29.809783</td>\n      <td>-95.195382</td>\n      <td>AAH Pine Trails</td>\n      <td>outside</td>\n      <td>21.48</td>\n      <td>81.0</td>\n      <td>68.0</td>\n      <td>1013.51</td>\n    </tr>\n    <tr>\n      <th>51697</th>\n      <td>29.806499</td>\n      <td>-95.543647</td>\n      <td>Ballero-Air-SpringBranch</td>\n      <td>outside</td>\n      <td>5.67</td>\n      <td>84.0</td>\n      <td>71.0</td>\n      <td>1010.28</td>\n    </tr>\n    <tr>\n      <th>100523</th>\n      <td>29.582712</td>\n      <td>-95.119633</td>\n      <td>Bay Forest (IN)</td>\n      <td>inside</td>\n      <td>0.47</td>\n      <td>85.0</td>\n      <td>29.0</td>\n      <td>1013.20</td>\n    </tr>\n    <tr>\n      <th>3298</th>\n      <td>29.583349</td>\n      <td>-95.120087</td>\n      <td>Bay Forest</td>\n      <td>outside</td>\n      <td>4.84</td>\n      <td>85.0</td>\n      <td>89.0</td>\n      <td>1013.00</td>\n    </tr>\n    <tr>\n      <th>3033</th>\n      <td>29.955063</td>\n      <td>-95.737387</td>\n      <td>Bridgeland</td>\n      <td>outside</td>\n      <td>7.78</td>\n      <td>86.0</td>\n      <td>70.0</td>\n      <td>1007.73</td>\n    </tr>\n    <tr>\n      <th>50567</th>\n      <td>29.691015</td>\n      <td>-95.136015</td>\n      <td>C.and.Mi's</td>\n      <td>outside</td>\n      <td>4.95</td>\n      <td>84.0</td>\n      <td>73.0</td>\n      <td>1012.90</td>\n    </tr>\n    <tr>\n      <th>27905</th>\n      <td>29.790651</td>\n      <td>-95.113845</td>\n      <td>Channelview Tx #1</td>\n      <td>outside</td>\n      <td>6.54</td>\n      <td>85.0</td>\n      <td>68.0</td>\n      <td>1013.58</td>\n    </tr>\n    <tr>\n      <th>116073</th>\n      <td>29.463194</td>\n      <td>-95.042483</td>\n      <td>Dickinson Office of Emergency Management</td>\n      <td>outside</td>\n      <td>0.06</td>\n      <td>87.0</td>\n      <td>61.0</td>\n      <td>1014.31</td>\n    </tr>\n    <tr>\n      <th>86003</th>\n      <td>29.816738</td>\n      <td>-95.303219</td>\n      <td>Houston Gardens</td>\n      <td>outside</td>\n      <td>14.62</td>\n      <td>87.0</td>\n      <td>65.0</td>\n      <td>1012.98</td>\n    </tr>\n    <tr>\n      <th>31025</th>\n      <td>29.764788</td>\n      <td>-95.178538</td>\n      <td>HRM-PA1</td>\n      <td>outside</td>\n      <td>1.40</td>\n      <td>85.0</td>\n      <td>83.0</td>\n      <td>1012.82</td>\n    </tr>\n    <tr>\n      <th>31035</th>\n      <td>29.765280</td>\n      <td>-95.181110</td>\n      <td>hrm3-3</td>\n      <td>outside</td>\n      <td>22.73</td>\n      <td>85.0</td>\n      <td>73.0</td>\n      <td>1013.18</td>\n    </tr>\n    <tr>\n      <th>30911</th>\n      <td>29.764788</td>\n      <td>-95.178538</td>\n      <td>HRM3-PA2</td>\n      <td>outside</td>\n      <td>8.75</td>\n      <td>85.0</td>\n      <td>76.0</td>\n      <td>1013.22</td>\n    </tr>\n    <tr>\n      <th>6752</th>\n      <td>29.717061</td>\n      <td>-95.308764</td>\n      <td>IdylwoodEastEnd</td>\n      <td>outside</td>\n      <td>8.79</td>\n      <td>NaN</td>\n      <td>NaN</td>\n      <td>NaN</td>\n    </tr>\n    <tr>\n      <th>56377</th>\n      <td>29.193352</td>\n      <td>-94.979240</td>\n      <td>Jamaica Beach TX</td>\n      <td>outside</td>\n      <td>3.00</td>\n      <td>97.0</td>\n      <td>100.0</td>\n      <td>718.43</td>\n    </tr>\n    <tr>\n      <th>3583</th>\n      <td>29.570752</td>\n      <td>-95.118730</td>\n      <td>Jgg</td>\n      <td>outside</td>\n      <td>2.54</td>\n      <td>86.0</td>\n      <td>100.0</td>\n      <td>1010.94</td>\n    </tr>\n    <tr>\n      <th>85127</th>\n      <td>29.703730</td>\n      <td>-95.052820</td>\n      <td>LAP5187</td>\n      <td>outside</td>\n      <td>5.67</td>\n      <td>84.0</td>\n      <td>100.0</td>\n      <td>1014.02</td>\n    </tr>\n    <tr>\n      <th>61909</th>\n      <td>29.703527</td>\n      <td>-95.458783</td>\n      <td>Laurel Street Indoors</td>\n      <td>inside</td>\n      <td>1.37</td>\n      <td>84.0</td>\n      <td>31.0</td>\n      <td>1011.80</td>\n    </tr>\n    <tr>\n      <th>51959</th>\n      <td>29.797358</td>\n      <td>-95.489989</td>\n      <td>Monarch</td>\n      <td>outside</td>\n      <td>6.29</td>\n      <td>84.0</td>\n      <td>70.0</td>\n      <td>1011.69</td>\n    </tr>\n    <tr>\n      <th>48545</th>\n      <td>29.737535</td>\n      <td>-95.406967</td>\n      <td>Museum District</td>\n      <td>outside</td>\n      <td>6.67</td>\n      <td>86.0</td>\n      <td>74.0</td>\n      <td>1010.15</td>\n    </tr>\n    <tr>\n      <th>51823</th>\n      <td>29.778682</td>\n      <td>-95.350500</td>\n      <td>Near Northside Houston</td>\n      <td>inside</td>\n      <td>0.97</td>\n      <td>86.0</td>\n      <td>37.0</td>\n      <td>1012.39</td>\n    </tr>\n    <tr>\n      <th>56059</th>\n      <td>29.723649</td>\n      <td>-95.420642</td>\n      <td>Northeast West U</td>\n      <td>outside</td>\n      <td>7.89</td>\n      <td>85.0</td>\n      <td>69.0</td>\n      <td>1012.93</td>\n    </tr>\n    <tr>\n      <th>30593</th>\n      <td>29.557082</td>\n      <td>-95.740333</td>\n      <td>Phil at Sweetgrass in Richmond</td>\n      <td>outside</td>\n      <td>6.05</td>\n      <td>83.0</td>\n      <td>73.0</td>\n      <td>1011.40</td>\n    </tr>\n    <tr>\n      <th>26659</th>\n      <td>29.765560</td>\n      <td>-95.413945</td>\n      <td>Rice Military Div</td>\n      <td>outside</td>\n      <td>6.55</td>\n      <td>87.0</td>\n      <td>65.0</td>\n      <td>1012.67</td>\n    </tr>\n    <tr>\n      <th>27009</th>\n      <td>29.733050</td>\n      <td>-95.585685</td>\n      <td>Royal Oaks Houston Tx - Inside</td>\n      <td>inside</td>\n      <td>0.02</td>\n      <td>83.0</td>\n      <td>41.0</td>\n      <td>1011.37</td>\n    </tr>\n    <tr>\n      <th>28851</th>\n      <td>29.733050</td>\n      <td>-95.585685</td>\n      <td>Royal Oaks Houston Tx - Outside</td>\n      <td>outside</td>\n      <td>7.46</td>\n      <td>84.0</td>\n      <td>76.0</td>\n      <td>1009.57</td>\n    </tr>\n    <tr>\n      <th>33033</th>\n      <td>29.601254</td>\n      <td>-94.992460</td>\n      <td>Schottel House</td>\n      <td>outside</td>\n      <td>3.62</td>\n      <td>85.0</td>\n      <td>70.0</td>\n      <td>1014.02</td>\n    </tr>\n    <tr>\n      <th>28679</th>\n      <td>29.582296</td>\n      <td>-95.044651</td>\n      <td>Seabrook Island</td>\n      <td>outside</td>\n      <td>3.37</td>\n      <td>NaN</td>\n      <td>NaN</td>\n      <td>NaN</td>\n    </tr>\n    <tr>\n      <th>28823</th>\n      <td>29.799163</td>\n      <td>-95.416531</td>\n      <td>Shady Acres</td>\n      <td>outside</td>\n      <td>6.44</td>\n      <td>NaN</td>\n      <td>NaN</td>\n      <td>NaN</td>\n    </tr>\n    <tr>\n      <th>27821</th>\n      <td>29.770740</td>\n      <td>-95.370056</td>\n      <td>Test First Ward</td>\n      <td>outside</td>\n      <td>0.24</td>\n      <td>86.0</td>\n      <td>100.0</td>\n      <td>1012.88</td>\n    </tr>\n    <tr>\n      <th>2386</th>\n      <td>29.532282</td>\n      <td>-95.076473</td>\n      <td>The Lakefront</td>\n      <td>outside</td>\n      <td>4.26</td>\n      <td>86.0</td>\n      <td>100.0</td>\n      <td>1011.12</td>\n    </tr>\n    <tr>\n      <th>62023</th>\n      <td>29.924318</td>\n      <td>-95.584526</td>\n      <td>White Oak Bend</td>\n      <td>inside</td>\n      <td>209.28</td>\n      <td>91.0</td>\n      <td>34.0</td>\n      <td>1015.04</td>\n    </tr>\n    <tr>\n      <th>3777</th>\n      <td>29.762896</td>\n      <td>-95.707644</td>\n      <td>Windsor Park</td>\n      <td>outside</td>\n      <td>15.79</td>\n      <td>82.0</td>\n      <td>77.0</td>\n      <td>1009.25</td>\n    </tr>\n    <tr>\n      <th>31163</th>\n      <td>29.782640</td>\n      <td>-95.372740</td>\n      <td>Woodland Heights</td>\n      <td>outside</td>\n      <td>5.81</td>\n      <td>85.0</td>\n      <td>78.0</td>\n      <td>1012.69</td>\n    </tr>\n    <tr>\n      <th>34399</th>\n      <td>29.762451</td>\n      <td>-95.466370</td>\n      <td>WPI-1</td>\n      <td>inside</td>\n      <td>0.09</td>\n      <td>81.0</td>\n      <td>49.0</td>\n      <td>1007.96</td>\n    </tr>\n    <tr>\n      <th>34431</th>\n      <td>29.762515</td>\n      <td>-95.465982</td>\n      <td>WPI-2</td>\n      <td>inside</td>\n      <td>0.00</td>\n      <td>80.0</td>\n      <td>50.0</td>\n      <td>1008.58</td>\n    </tr>\n  </tbody>\n</table>\n</div>"
     },
     "metadata": {}
    }
   ]
  },
  {
   "cell_type": "markdown",
   "source": "<br>\n\nNow that we have a smaller subset of data to work with, the next step is to use the PM 2.5 measures to assign each sensor to an AQI Index Category and corresponding color. \n\n**Run the cell below to create a new column in the dataframe that indicates the sensors AQI Index color code.**",
   "metadata": {
    "tags": [],
    "cell_id": "00062-e44827e3-8d4a-4cfa-b279-359b93e09a4b",
    "deepnote_cell_type": "markdown"
   }
  },
  {
   "cell_type": "code",
   "metadata": {
    "tags": [],
    "deepnote_to_be_reexecuted": false,
    "source_hash": "a4f75cc5",
    "execution_start": 1634304959856,
    "execution_millis": 51,
    "cell_id": "00063-74c3eea3-38f5-45b2-baa3-968a1af6a006",
    "deepnote_cell_type": "code"
   },
   "source": "#creating a column that indicates the AQI code name\ncolor_code = []\nfor i in houston_data[\"pm_2.5\"].to_list():\n    if i <= 12.0:\n        color_code.append('green')\n    elif (i < 12) & (i <=35.4):\n        color_code.append('yellow')\n    elif (i < 35.5) & (i <=55.4):\n        color_code.append('orange')   \n    elif (i < 55.5) & (i <=150.4):\n        color_code.append('red')\n    elif (i < 150.5) & (i <=250.4):\n        color_code.append('purple')\n    else:\n        color_code.append('darkpurple')\n\nhouston_data['code'] = color_code\nhouston_data",
   "execution_count": 19,
   "outputs": [
    {
     "output_type": "execute_result",
     "execution_count": 19,
     "data": {
      "application/vnd.deepnote.dataframe.v2+json": {
       "row_count": 41,
       "column_count": 9,
       "columns": [
        {
         "name": "lat",
         "dtype": "float64",
         "stats": {
          "unique_count": 39,
          "nan_count": 0,
          "min": "29.193352",
          "max": "29.955063",
          "histogram": [
           {
            "bin_start": 29.193352,
            "bin_end": 29.2695231,
            "count": 1
           },
           {
            "bin_start": 29.2695231,
            "bin_end": 29.3456942,
            "count": 0
           },
           {
            "bin_start": 29.3456942,
            "bin_end": 29.4218653,
            "count": 0
           },
           {
            "bin_start": 29.4218653,
            "bin_end": 29.4980364,
            "count": 1
           },
           {
            "bin_start": 29.4980364,
            "bin_end": 29.5742075,
            "count": 3
           },
           {
            "bin_start": 29.5742075,
            "bin_end": 29.6503786,
            "count": 4
           },
           {
            "bin_start": 29.6503786,
            "bin_end": 29.7265497,
            "count": 6
           },
           {
            "bin_start": 29.7265497,
            "bin_end": 29.8027208,
            "count": 19
           },
           {
            "bin_start": 29.8027208,
            "bin_end": 29.8788919,
            "count": 4
           },
           {
            "bin_start": 29.8788919,
            "bin_end": 29.955063,
            "count": 3
           }
          ]
         }
        },
        {
         "name": "lon",
         "dtype": "float64",
         "stats": {
          "unique_count": 39,
          "nan_count": 0,
          "min": "-95.740333",
          "max": "-94.97924",
          "histogram": [
           {
            "bin_start": -95.740333,
            "bin_end": -95.66422370000001,
            "count": 5
           },
           {
            "bin_start": -95.66422370000001,
            "bin_end": -95.58811440000001,
            "count": 0
           },
           {
            "bin_start": -95.58811440000001,
            "bin_end": -95.51200510000001,
            "count": 4
           },
           {
            "bin_start": -95.51200510000001,
            "bin_end": -95.43589580000001,
            "count": 4
           },
           {
            "bin_start": -95.43589580000001,
            "bin_end": -95.35978650000001,
            "count": 6
           },
           {
            "bin_start": -95.35978650000001,
            "bin_end": -95.2836772,
            "count": 3
           },
           {
            "bin_start": -95.2836772,
            "bin_end": -95.2075679,
            "count": 3
           },
           {
            "bin_start": -95.2075679,
            "bin_end": -95.1314586,
            "count": 6
           },
           {
            "bin_start": -95.1314586,
            "bin_end": -95.0553493,
            "count": 5
           },
           {
            "bin_start": -95.0553493,
            "bin_end": -94.97924,
            "count": 5
           }
          ]
         }
        },
        {
         "name": "name",
         "dtype": "object",
         "stats": {
          "unique_count": 41,
          "nan_count": 0,
          "categories": [
           {
            "name": "16815 Flower Mist Lane",
            "count": 1
           },
           {
            "name": "3623 Shadow Trail, Houston, Texas 77084",
            "count": 1
           },
           {
            "name": "39 others",
            "count": 39
           }
          ]
         }
        },
        {
         "name": "location_type",
         "dtype": "object",
         "stats": {
          "unique_count": 2,
          "nan_count": 0,
          "categories": [
           {
            "name": "outside",
            "count": 33
           },
           {
            "name": "inside",
            "count": 8
           }
          ]
         }
        },
        {
         "name": "pm_2.5",
         "dtype": "float64",
         "stats": {
          "unique_count": 40,
          "nan_count": 0,
          "min": "0.0",
          "max": "209.28",
          "histogram": [
           {
            "bin_start": 0,
            "bin_end": 20.928,
            "count": 38
           },
           {
            "bin_start": 20.928,
            "bin_end": 41.856,
            "count": 2
           },
           {
            "bin_start": 41.856,
            "bin_end": 62.784000000000006,
            "count": 0
           },
           {
            "bin_start": 62.784000000000006,
            "bin_end": 83.712,
            "count": 0
           },
           {
            "bin_start": 83.712,
            "bin_end": 104.64,
            "count": 0
           },
           {
            "bin_start": 104.64,
            "bin_end": 125.56800000000001,
            "count": 0
           },
           {
            "bin_start": 125.56800000000001,
            "bin_end": 146.496,
            "count": 0
           },
           {
            "bin_start": 146.496,
            "bin_end": 167.424,
            "count": 0
           },
           {
            "bin_start": 167.424,
            "bin_end": 188.352,
            "count": 0
           },
           {
            "bin_start": 188.352,
            "bin_end": 209.28,
            "count": 1
           }
          ]
         }
        },
        {
         "name": "temp_f",
         "dtype": "float64",
         "stats": {
          "unique_count": 10,
          "nan_count": 3,
          "min": "80.0",
          "max": "97.0",
          "histogram": [
           {
            "bin_start": 80,
            "bin_end": 81.7,
            "count": 4
           },
           {
            "bin_start": 81.7,
            "bin_end": 83.4,
            "count": 4
           },
           {
            "bin_start": 83.4,
            "bin_end": 85.1,
            "count": 19
           },
           {
            "bin_start": 85.1,
            "bin_end": 86.8,
            "count": 6
           },
           {
            "bin_start": 86.8,
            "bin_end": 88.5,
            "count": 3
           },
           {
            "bin_start": 88.5,
            "bin_end": 90.2,
            "count": 0
           },
           {
            "bin_start": 90.2,
            "bin_end": 91.9,
            "count": 1
           },
           {
            "bin_start": 91.9,
            "bin_end": 93.6,
            "count": 0
           },
           {
            "bin_start": 93.6,
            "bin_end": 95.3,
            "count": 0
           },
           {
            "bin_start": 95.3,
            "bin_end": 97,
            "count": 1
           }
          ]
         }
        },
        {
         "name": "humidity",
         "dtype": "float64",
         "stats": {
          "unique_count": 22,
          "nan_count": 3,
          "min": "29.0",
          "max": "100.0",
          "histogram": [
           {
            "bin_start": 29,
            "bin_end": 36.1,
            "count": 3
           },
           {
            "bin_start": 36.1,
            "bin_end": 43.2,
            "count": 3
           },
           {
            "bin_start": 43.2,
            "bin_end": 50.3,
            "count": 2
           },
           {
            "bin_start": 50.3,
            "bin_end": 57.4,
            "count": 0
           },
           {
            "bin_start": 57.4,
            "bin_end": 64.5,
            "count": 1
           },
           {
            "bin_start": 64.5,
            "bin_end": 71.6,
            "count": 12
           },
           {
            "bin_start": 71.6,
            "bin_end": 78.69999999999999,
            "count": 10
           },
           {
            "bin_start": 78.69999999999999,
            "bin_end": 85.8,
            "count": 1
           },
           {
            "bin_start": 85.8,
            "bin_end": 92.9,
            "count": 1
           },
           {
            "bin_start": 92.9,
            "bin_end": 100,
            "count": 5
           }
          ]
         }
        },
        {
         "name": "pressure",
         "dtype": "float64",
         "stats": {
          "unique_count": 37,
          "nan_count": 3,
          "min": "718.43",
          "max": "1015.04",
          "histogram": [
           {
            "bin_start": 718.43,
            "bin_end": 748.0909999999999,
            "count": 1
           },
           {
            "bin_start": 748.0909999999999,
            "bin_end": 777.752,
            "count": 0
           },
           {
            "bin_start": 777.752,
            "bin_end": 807.413,
            "count": 0
           },
           {
            "bin_start": 807.413,
            "bin_end": 837.074,
            "count": 0
           },
           {
            "bin_start": 837.074,
            "bin_end": 866.7349999999999,
            "count": 0
           },
           {
            "bin_start": 866.7349999999999,
            "bin_end": 896.396,
            "count": 0
           },
           {
            "bin_start": 896.396,
            "bin_end": 926.057,
            "count": 0
           },
           {
            "bin_start": 926.057,
            "bin_end": 955.718,
            "count": 0
           },
           {
            "bin_start": 955.718,
            "bin_end": 985.3789999999999,
            "count": 0
           },
           {
            "bin_start": 985.3789999999999,
            "bin_end": 1015.04,
            "count": 37
           }
          ]
         }
        },
        {
         "name": "code",
         "dtype": "object",
         "stats": {
          "unique_count": 3,
          "nan_count": 0,
          "categories": [
           {
            "name": "green",
            "count": 36
           },
           {
            "name": "orange",
            "count": 4
           },
           {
            "name": "darkpurple",
            "count": 1
           }
          ]
         }
        },
        {
         "name": "_deepnote_index_column",
         "dtype": "int64"
        }
       ],
       "rows_top": [
        {
         "lat": 29.939444,
         "lon": -95.671354,
         "name": "16815 Flower Mist Lane",
         "location_type": "inside",
         "pm_2.5": 0.86,
         "temp_f": 80,
         "humidity": 37,
         "pressure": 1009.72,
         "code": "green",
         "_deepnote_index_column": 74265
        },
        {
         "lat": 29.81888,
         "lon": -95.695667,
         "name": "3623 Shadow Trail, Houston, Texas 77084",
         "location_type": "outside",
         "pm_2.5": 9.34,
         "temp_f": 84,
         "humidity": 71,
         "pressure": 1009.96,
         "code": "green",
         "_deepnote_index_column": 98139
        },
        {
         "lat": 29.743322,
         "lon": -95.232096,
         "name": "AAH 15th Street",
         "location_type": "outside",
         "pm_2.5": 6.64,
         "temp_f": 84,
         "humidity": 71,
         "pressure": 1013.3,
         "code": "green",
         "_deepnote_index_column": 97279
        },
        {
         "lat": 29.743369,
         "lon": -95.241979,
         "name": "AAH GP Eastway",
         "location_type": "outside",
         "pm_2.5": 5.22,
         "temp_f": 85,
         "humidity": 75,
         "pressure": 1014.24,
         "code": "green",
         "_deepnote_index_column": 99769
        },
        {
         "lat": 29.737321,
         "lon": -95.252961,
         "name": "AAH GP Manor",
         "location_type": "outside",
         "pm_2.5": 7.05,
         "temp_f": 84,
         "humidity": 73,
         "pressure": 1013.09,
         "code": "green",
         "_deepnote_index_column": 99797
        },
        {
         "lat": 29.705026,
         "lon": -95.154222,
         "name": "AAH Meadowlake",
         "location_type": "outside",
         "pm_2.5": 5.6,
         "temp_f": 83,
         "humidity": 71,
         "pressure": 1013.4,
         "code": "green",
         "_deepnote_index_column": 98633
        },
        {
         "lat": 29.809783,
         "lon": -95.195382,
         "name": "AAH Pine Trails",
         "location_type": "outside",
         "pm_2.5": 21.48,
         "temp_f": 81,
         "humidity": 68,
         "pressure": 1013.51,
         "code": "orange",
         "_deepnote_index_column": 97325
        },
        {
         "lat": 29.806499,
         "lon": -95.543647,
         "name": "Ballero-Air-SpringBranch",
         "location_type": "outside",
         "pm_2.5": 5.67,
         "temp_f": 84,
         "humidity": 71,
         "pressure": 1010.28,
         "code": "green",
         "_deepnote_index_column": 51697
        },
        {
         "lat": 29.582712,
         "lon": -95.119633,
         "name": "Bay Forest (IN)",
         "location_type": "inside",
         "pm_2.5": 0.47,
         "temp_f": 85,
         "humidity": 29,
         "pressure": 1013.2,
         "code": "green",
         "_deepnote_index_column": 100523
        },
        {
         "lat": 29.583349,
         "lon": -95.120087,
         "name": "Bay Forest",
         "location_type": "outside",
         "pm_2.5": 4.84,
         "temp_f": 85,
         "humidity": 89,
         "pressure": 1013,
         "code": "green",
         "_deepnote_index_column": 3298
        },
        {
         "lat": 29.955063,
         "lon": -95.737387,
         "name": "Bridgeland",
         "location_type": "outside",
         "pm_2.5": 7.78,
         "temp_f": 86,
         "humidity": 70,
         "pressure": 1007.73,
         "code": "green",
         "_deepnote_index_column": 3033
        },
        {
         "lat": 29.691015,
         "lon": -95.136015,
         "name": "C.and.Mi's",
         "location_type": "outside",
         "pm_2.5": 4.95,
         "temp_f": 84,
         "humidity": 73,
         "pressure": 1012.9,
         "code": "green",
         "_deepnote_index_column": 50567
        },
        {
         "lat": 29.790651,
         "lon": -95.113845,
         "name": "Channelview Tx #1",
         "location_type": "outside",
         "pm_2.5": 6.54,
         "temp_f": 85,
         "humidity": 68,
         "pressure": 1013.58,
         "code": "green",
         "_deepnote_index_column": 27905
        },
        {
         "lat": 29.463194,
         "lon": -95.042483,
         "name": "Dickinson Office of Emergency Management",
         "location_type": "outside",
         "pm_2.5": 0.06,
         "temp_f": 87,
         "humidity": 61,
         "pressure": 1014.31,
         "code": "green",
         "_deepnote_index_column": 116073
        },
        {
         "lat": 29.816738,
         "lon": -95.303219,
         "name": "Houston Gardens",
         "location_type": "outside",
         "pm_2.5": 14.62,
         "temp_f": 87,
         "humidity": 65,
         "pressure": 1012.98,
         "code": "orange",
         "_deepnote_index_column": 86003
        },
        {
         "lat": 29.764788,
         "lon": -95.178538,
         "name": "HRM-PA1",
         "location_type": "outside",
         "pm_2.5": 1.4,
         "temp_f": 85,
         "humidity": 83,
         "pressure": 1012.82,
         "code": "green",
         "_deepnote_index_column": 31025
        },
        {
         "lat": 29.76528,
         "lon": -95.18111,
         "name": "hrm3-3",
         "location_type": "outside",
         "pm_2.5": 22.73,
         "temp_f": 85,
         "humidity": 73,
         "pressure": 1013.18,
         "code": "orange",
         "_deepnote_index_column": 31035
        },
        {
         "lat": 29.764788,
         "lon": -95.178538,
         "name": "HRM3-PA2",
         "location_type": "outside",
         "pm_2.5": 8.75,
         "temp_f": 85,
         "humidity": 76,
         "pressure": 1013.22,
         "code": "green",
         "_deepnote_index_column": 30911
        },
        {
         "lat": 29.717061,
         "lon": -95.308764,
         "name": "IdylwoodEastEnd",
         "location_type": "outside",
         "pm_2.5": 8.79,
         "temp_f": "nan",
         "humidity": "nan",
         "pressure": "nan",
         "code": "green",
         "_deepnote_index_column": 6752
        },
        {
         "lat": 29.193352,
         "lon": -94.97924,
         "name": "Jamaica Beach TX",
         "location_type": "outside",
         "pm_2.5": 3,
         "temp_f": 97,
         "humidity": 100,
         "pressure": 718.43,
         "code": "green",
         "_deepnote_index_column": 56377
        },
        {
         "lat": 29.570752,
         "lon": -95.11873,
         "name": "Jgg",
         "location_type": "outside",
         "pm_2.5": 2.54,
         "temp_f": 86,
         "humidity": 100,
         "pressure": 1010.94,
         "code": "green",
         "_deepnote_index_column": 3583
        },
        {
         "lat": 29.70373,
         "lon": -95.05282,
         "name": "LAP5187",
         "location_type": "outside",
         "pm_2.5": 5.67,
         "temp_f": 84,
         "humidity": 100,
         "pressure": 1014.02,
         "code": "green",
         "_deepnote_index_column": 85127
        },
        {
         "lat": 29.703527,
         "lon": -95.458783,
         "name": "Laurel Street Indoors",
         "location_type": "inside",
         "pm_2.5": 1.37,
         "temp_f": 84,
         "humidity": 31,
         "pressure": 1011.8,
         "code": "green",
         "_deepnote_index_column": 61909
        },
        {
         "lat": 29.797358,
         "lon": -95.489989,
         "name": "Monarch",
         "location_type": "outside",
         "pm_2.5": 6.29,
         "temp_f": 84,
         "humidity": 70,
         "pressure": 1011.69,
         "code": "green",
         "_deepnote_index_column": 51959
        },
        {
         "lat": 29.737535,
         "lon": -95.406967,
         "name": "Museum District",
         "location_type": "outside",
         "pm_2.5": 6.67,
         "temp_f": 86,
         "humidity": 74,
         "pressure": 1010.15,
         "code": "green",
         "_deepnote_index_column": 48545
        },
        {
         "lat": 29.778682,
         "lon": -95.3505,
         "name": "Near Northside Houston",
         "location_type": "inside",
         "pm_2.5": 0.97,
         "temp_f": 86,
         "humidity": 37,
         "pressure": 1012.39,
         "code": "green",
         "_deepnote_index_column": 51823
        },
        {
         "lat": 29.723649,
         "lon": -95.420642,
         "name": "Northeast West U",
         "location_type": "outside",
         "pm_2.5": 7.89,
         "temp_f": 85,
         "humidity": 69,
         "pressure": 1012.93,
         "code": "green",
         "_deepnote_index_column": 56059
        },
        {
         "lat": 29.557082,
         "lon": -95.740333,
         "name": "Phil at Sweetgrass in Richmond",
         "location_type": "outside",
         "pm_2.5": 6.05,
         "temp_f": 83,
         "humidity": 73,
         "pressure": 1011.4,
         "code": "green",
         "_deepnote_index_column": 30593
        },
        {
         "lat": 29.76556,
         "lon": -95.413945,
         "name": "Rice Military Div",
         "location_type": "outside",
         "pm_2.5": 6.55,
         "temp_f": 87,
         "humidity": 65,
         "pressure": 1012.67,
         "code": "green",
         "_deepnote_index_column": 26659
        },
        {
         "lat": 29.73305,
         "lon": -95.585685,
         "name": "Royal Oaks Houston Tx - Inside",
         "location_type": "inside",
         "pm_2.5": 0.02,
         "temp_f": 83,
         "humidity": 41,
         "pressure": 1011.37,
         "code": "green",
         "_deepnote_index_column": 27009
        },
        {
         "lat": 29.73305,
         "lon": -95.585685,
         "name": "Royal Oaks Houston Tx - Outside",
         "location_type": "outside",
         "pm_2.5": 7.46,
         "temp_f": 84,
         "humidity": 76,
         "pressure": 1009.57,
         "code": "green",
         "_deepnote_index_column": 28851
        },
        {
         "lat": 29.601254,
         "lon": -94.99246,
         "name": "Schottel House",
         "location_type": "outside",
         "pm_2.5": 3.62,
         "temp_f": 85,
         "humidity": 70,
         "pressure": 1014.02,
         "code": "green",
         "_deepnote_index_column": 33033
        },
        {
         "lat": 29.582296,
         "lon": -95.044651,
         "name": "Seabrook Island",
         "location_type": "outside",
         "pm_2.5": 3.37,
         "temp_f": "nan",
         "humidity": "nan",
         "pressure": "nan",
         "code": "green",
         "_deepnote_index_column": 28679
        },
        {
         "lat": 29.799163,
         "lon": -95.416531,
         "name": "Shady Acres ",
         "location_type": "outside",
         "pm_2.5": 6.44,
         "temp_f": "nan",
         "humidity": "nan",
         "pressure": "nan",
         "code": "green",
         "_deepnote_index_column": 28823
        },
        {
         "lat": 29.77074,
         "lon": -95.370056,
         "name": "Test First Ward",
         "location_type": "outside",
         "pm_2.5": 0.24,
         "temp_f": 86,
         "humidity": 100,
         "pressure": 1012.88,
         "code": "green",
         "_deepnote_index_column": 27821
        },
        {
         "lat": 29.532282,
         "lon": -95.076473,
         "name": "The Lakefront",
         "location_type": "outside",
         "pm_2.5": 4.26,
         "temp_f": 86,
         "humidity": 100,
         "pressure": 1011.12,
         "code": "green",
         "_deepnote_index_column": 2386
        },
        {
         "lat": 29.924318,
         "lon": -95.584526,
         "name": "White Oak Bend",
         "location_type": "inside",
         "pm_2.5": 209.28,
         "temp_f": 91,
         "humidity": 34,
         "pressure": 1015.04,
         "code": "darkpurple",
         "_deepnote_index_column": 62023
        },
        {
         "lat": 29.762896,
         "lon": -95.707644,
         "name": "Windsor Park",
         "location_type": "outside",
         "pm_2.5": 15.79,
         "temp_f": 82,
         "humidity": 77,
         "pressure": 1009.25,
         "code": "orange",
         "_deepnote_index_column": 3777
        },
        {
         "lat": 29.78264,
         "lon": -95.37274,
         "name": "Woodland Heights",
         "location_type": "outside",
         "pm_2.5": 5.81,
         "temp_f": 85,
         "humidity": 78,
         "pressure": 1012.69,
         "code": "green",
         "_deepnote_index_column": 31163
        },
        {
         "lat": 29.762451,
         "lon": -95.46637,
         "name": "WPI-1",
         "location_type": "inside",
         "pm_2.5": 0.09,
         "temp_f": 81,
         "humidity": 49,
         "pressure": 1007.96,
         "code": "green",
         "_deepnote_index_column": 34399
        },
        {
         "lat": 29.762515,
         "lon": -95.465982,
         "name": "WPI-2",
         "location_type": "inside",
         "pm_2.5": 0,
         "temp_f": 80,
         "humidity": 50,
         "pressure": 1008.58,
         "code": "green",
         "_deepnote_index_column": 34431
        }
       ],
       "rows_bottom": null
      },
      "text/plain": "              lat        lon                                      name  \\\nid                                                                       \n74265   29.939444 -95.671354                    16815 Flower Mist Lane   \n98139   29.818880 -95.695667   3623 Shadow Trail, Houston, Texas 77084   \n97279   29.743322 -95.232096                           AAH 15th Street   \n99769   29.743369 -95.241979                            AAH GP Eastway   \n99797   29.737321 -95.252961                              AAH GP Manor   \n98633   29.705026 -95.154222                            AAH Meadowlake   \n97325   29.809783 -95.195382                           AAH Pine Trails   \n51697   29.806499 -95.543647                  Ballero-Air-SpringBranch   \n100523  29.582712 -95.119633                           Bay Forest (IN)   \n3298    29.583349 -95.120087                                Bay Forest   \n3033    29.955063 -95.737387                                Bridgeland   \n50567   29.691015 -95.136015                                C.and.Mi's   \n27905   29.790651 -95.113845                         Channelview Tx #1   \n116073  29.463194 -95.042483  Dickinson Office of Emergency Management   \n86003   29.816738 -95.303219                           Houston Gardens   \n31025   29.764788 -95.178538                                   HRM-PA1   \n31035   29.765280 -95.181110                                    hrm3-3   \n30911   29.764788 -95.178538                                  HRM3-PA2   \n6752    29.717061 -95.308764                           IdylwoodEastEnd   \n56377   29.193352 -94.979240                          Jamaica Beach TX   \n3583    29.570752 -95.118730                                       Jgg   \n85127   29.703730 -95.052820                                   LAP5187   \n61909   29.703527 -95.458783                     Laurel Street Indoors   \n51959   29.797358 -95.489989                                   Monarch   \n48545   29.737535 -95.406967                           Museum District   \n51823   29.778682 -95.350500                    Near Northside Houston   \n56059   29.723649 -95.420642                          Northeast West U   \n30593   29.557082 -95.740333            Phil at Sweetgrass in Richmond   \n26659   29.765560 -95.413945                         Rice Military Div   \n27009   29.733050 -95.585685            Royal Oaks Houston Tx - Inside   \n28851   29.733050 -95.585685           Royal Oaks Houston Tx - Outside   \n33033   29.601254 -94.992460                            Schottel House   \n28679   29.582296 -95.044651                           Seabrook Island   \n28823   29.799163 -95.416531                              Shady Acres    \n27821   29.770740 -95.370056                           Test First Ward   \n2386    29.532282 -95.076473                             The Lakefront   \n62023   29.924318 -95.584526                            White Oak Bend   \n3777    29.762896 -95.707644                              Windsor Park   \n31163   29.782640 -95.372740                          Woodland Heights   \n34399   29.762451 -95.466370                                     WPI-1   \n34431   29.762515 -95.465982                                     WPI-2   \n\n       location_type  pm_2.5  temp_f  humidity  pressure        code  \nid                                                                    \n74265         inside    0.86    80.0      37.0   1009.72       green  \n98139        outside    9.34    84.0      71.0   1009.96       green  \n97279        outside    6.64    84.0      71.0   1013.30       green  \n99769        outside    5.22    85.0      75.0   1014.24       green  \n99797        outside    7.05    84.0      73.0   1013.09       green  \n98633        outside    5.60    83.0      71.0   1013.40       green  \n97325        outside   21.48    81.0      68.0   1013.51      orange  \n51697        outside    5.67    84.0      71.0   1010.28       green  \n100523        inside    0.47    85.0      29.0   1013.20       green  \n3298         outside    4.84    85.0      89.0   1013.00       green  \n3033         outside    7.78    86.0      70.0   1007.73       green  \n50567        outside    4.95    84.0      73.0   1012.90       green  \n27905        outside    6.54    85.0      68.0   1013.58       green  \n116073       outside    0.06    87.0      61.0   1014.31       green  \n86003        outside   14.62    87.0      65.0   1012.98      orange  \n31025        outside    1.40    85.0      83.0   1012.82       green  \n31035        outside   22.73    85.0      73.0   1013.18      orange  \n30911        outside    8.75    85.0      76.0   1013.22       green  \n6752         outside    8.79     NaN       NaN       NaN       green  \n56377        outside    3.00    97.0     100.0    718.43       green  \n3583         outside    2.54    86.0     100.0   1010.94       green  \n85127        outside    5.67    84.0     100.0   1014.02       green  \n61909         inside    1.37    84.0      31.0   1011.80       green  \n51959        outside    6.29    84.0      70.0   1011.69       green  \n48545        outside    6.67    86.0      74.0   1010.15       green  \n51823         inside    0.97    86.0      37.0   1012.39       green  \n56059        outside    7.89    85.0      69.0   1012.93       green  \n30593        outside    6.05    83.0      73.0   1011.40       green  \n26659        outside    6.55    87.0      65.0   1012.67       green  \n27009         inside    0.02    83.0      41.0   1011.37       green  \n28851        outside    7.46    84.0      76.0   1009.57       green  \n33033        outside    3.62    85.0      70.0   1014.02       green  \n28679        outside    3.37     NaN       NaN       NaN       green  \n28823        outside    6.44     NaN       NaN       NaN       green  \n27821        outside    0.24    86.0     100.0   1012.88       green  \n2386         outside    4.26    86.0     100.0   1011.12       green  \n62023         inside  209.28    91.0      34.0   1015.04  darkpurple  \n3777         outside   15.79    82.0      77.0   1009.25      orange  \n31163        outside    5.81    85.0      78.0   1012.69       green  \n34399         inside    0.09    81.0      49.0   1007.96       green  \n34431         inside    0.00    80.0      50.0   1008.58       green  ",
      "text/html": "<div>\n<style scoped>\n    .dataframe tbody tr th:only-of-type {\n        vertical-align: middle;\n    }\n\n    .dataframe tbody tr th {\n        vertical-align: top;\n    }\n\n    .dataframe thead th {\n        text-align: right;\n    }\n</style>\n<table border=\"1\" class=\"dataframe\">\n  <thead>\n    <tr style=\"text-align: right;\">\n      <th></th>\n      <th>lat</th>\n      <th>lon</th>\n      <th>name</th>\n      <th>location_type</th>\n      <th>pm_2.5</th>\n      <th>temp_f</th>\n      <th>humidity</th>\n      <th>pressure</th>\n      <th>code</th>\n    </tr>\n    <tr>\n      <th>id</th>\n      <th></th>\n      <th></th>\n      <th></th>\n      <th></th>\n      <th></th>\n      <th></th>\n      <th></th>\n      <th></th>\n      <th></th>\n    </tr>\n  </thead>\n  <tbody>\n    <tr>\n      <th>74265</th>\n      <td>29.939444</td>\n      <td>-95.671354</td>\n      <td>16815 Flower Mist Lane</td>\n      <td>inside</td>\n      <td>0.86</td>\n      <td>80.0</td>\n      <td>37.0</td>\n      <td>1009.72</td>\n      <td>green</td>\n    </tr>\n    <tr>\n      <th>98139</th>\n      <td>29.818880</td>\n      <td>-95.695667</td>\n      <td>3623 Shadow Trail, Houston, Texas 77084</td>\n      <td>outside</td>\n      <td>9.34</td>\n      <td>84.0</td>\n      <td>71.0</td>\n      <td>1009.96</td>\n      <td>green</td>\n    </tr>\n    <tr>\n      <th>97279</th>\n      <td>29.743322</td>\n      <td>-95.232096</td>\n      <td>AAH 15th Street</td>\n      <td>outside</td>\n      <td>6.64</td>\n      <td>84.0</td>\n      <td>71.0</td>\n      <td>1013.30</td>\n      <td>green</td>\n    </tr>\n    <tr>\n      <th>99769</th>\n      <td>29.743369</td>\n      <td>-95.241979</td>\n      <td>AAH GP Eastway</td>\n      <td>outside</td>\n      <td>5.22</td>\n      <td>85.0</td>\n      <td>75.0</td>\n      <td>1014.24</td>\n      <td>green</td>\n    </tr>\n    <tr>\n      <th>99797</th>\n      <td>29.737321</td>\n      <td>-95.252961</td>\n      <td>AAH GP Manor</td>\n      <td>outside</td>\n      <td>7.05</td>\n      <td>84.0</td>\n      <td>73.0</td>\n      <td>1013.09</td>\n      <td>green</td>\n    </tr>\n    <tr>\n      <th>98633</th>\n      <td>29.705026</td>\n      <td>-95.154222</td>\n      <td>AAH Meadowlake</td>\n      <td>outside</td>\n      <td>5.60</td>\n      <td>83.0</td>\n      <td>71.0</td>\n      <td>1013.40</td>\n      <td>green</td>\n    </tr>\n    <tr>\n      <th>97325</th>\n      <td>29.809783</td>\n      <td>-95.195382</td>\n      <td>AAH Pine Trails</td>\n      <td>outside</td>\n      <td>21.48</td>\n      <td>81.0</td>\n      <td>68.0</td>\n      <td>1013.51</td>\n      <td>orange</td>\n    </tr>\n    <tr>\n      <th>51697</th>\n      <td>29.806499</td>\n      <td>-95.543647</td>\n      <td>Ballero-Air-SpringBranch</td>\n      <td>outside</td>\n      <td>5.67</td>\n      <td>84.0</td>\n      <td>71.0</td>\n      <td>1010.28</td>\n      <td>green</td>\n    </tr>\n    <tr>\n      <th>100523</th>\n      <td>29.582712</td>\n      <td>-95.119633</td>\n      <td>Bay Forest (IN)</td>\n      <td>inside</td>\n      <td>0.47</td>\n      <td>85.0</td>\n      <td>29.0</td>\n      <td>1013.20</td>\n      <td>green</td>\n    </tr>\n    <tr>\n      <th>3298</th>\n      <td>29.583349</td>\n      <td>-95.120087</td>\n      <td>Bay Forest</td>\n      <td>outside</td>\n      <td>4.84</td>\n      <td>85.0</td>\n      <td>89.0</td>\n      <td>1013.00</td>\n      <td>green</td>\n    </tr>\n    <tr>\n      <th>3033</th>\n      <td>29.955063</td>\n      <td>-95.737387</td>\n      <td>Bridgeland</td>\n      <td>outside</td>\n      <td>7.78</td>\n      <td>86.0</td>\n      <td>70.0</td>\n      <td>1007.73</td>\n      <td>green</td>\n    </tr>\n    <tr>\n      <th>50567</th>\n      <td>29.691015</td>\n      <td>-95.136015</td>\n      <td>C.and.Mi's</td>\n      <td>outside</td>\n      <td>4.95</td>\n      <td>84.0</td>\n      <td>73.0</td>\n      <td>1012.90</td>\n      <td>green</td>\n    </tr>\n    <tr>\n      <th>27905</th>\n      <td>29.790651</td>\n      <td>-95.113845</td>\n      <td>Channelview Tx #1</td>\n      <td>outside</td>\n      <td>6.54</td>\n      <td>85.0</td>\n      <td>68.0</td>\n      <td>1013.58</td>\n      <td>green</td>\n    </tr>\n    <tr>\n      <th>116073</th>\n      <td>29.463194</td>\n      <td>-95.042483</td>\n      <td>Dickinson Office of Emergency Management</td>\n      <td>outside</td>\n      <td>0.06</td>\n      <td>87.0</td>\n      <td>61.0</td>\n      <td>1014.31</td>\n      <td>green</td>\n    </tr>\n    <tr>\n      <th>86003</th>\n      <td>29.816738</td>\n      <td>-95.303219</td>\n      <td>Houston Gardens</td>\n      <td>outside</td>\n      <td>14.62</td>\n      <td>87.0</td>\n      <td>65.0</td>\n      <td>1012.98</td>\n      <td>orange</td>\n    </tr>\n    <tr>\n      <th>31025</th>\n      <td>29.764788</td>\n      <td>-95.178538</td>\n      <td>HRM-PA1</td>\n      <td>outside</td>\n      <td>1.40</td>\n      <td>85.0</td>\n      <td>83.0</td>\n      <td>1012.82</td>\n      <td>green</td>\n    </tr>\n    <tr>\n      <th>31035</th>\n      <td>29.765280</td>\n      <td>-95.181110</td>\n      <td>hrm3-3</td>\n      <td>outside</td>\n      <td>22.73</td>\n      <td>85.0</td>\n      <td>73.0</td>\n      <td>1013.18</td>\n      <td>orange</td>\n    </tr>\n    <tr>\n      <th>30911</th>\n      <td>29.764788</td>\n      <td>-95.178538</td>\n      <td>HRM3-PA2</td>\n      <td>outside</td>\n      <td>8.75</td>\n      <td>85.0</td>\n      <td>76.0</td>\n      <td>1013.22</td>\n      <td>green</td>\n    </tr>\n    <tr>\n      <th>6752</th>\n      <td>29.717061</td>\n      <td>-95.308764</td>\n      <td>IdylwoodEastEnd</td>\n      <td>outside</td>\n      <td>8.79</td>\n      <td>NaN</td>\n      <td>NaN</td>\n      <td>NaN</td>\n      <td>green</td>\n    </tr>\n    <tr>\n      <th>56377</th>\n      <td>29.193352</td>\n      <td>-94.979240</td>\n      <td>Jamaica Beach TX</td>\n      <td>outside</td>\n      <td>3.00</td>\n      <td>97.0</td>\n      <td>100.0</td>\n      <td>718.43</td>\n      <td>green</td>\n    </tr>\n    <tr>\n      <th>3583</th>\n      <td>29.570752</td>\n      <td>-95.118730</td>\n      <td>Jgg</td>\n      <td>outside</td>\n      <td>2.54</td>\n      <td>86.0</td>\n      <td>100.0</td>\n      <td>1010.94</td>\n      <td>green</td>\n    </tr>\n    <tr>\n      <th>85127</th>\n      <td>29.703730</td>\n      <td>-95.052820</td>\n      <td>LAP5187</td>\n      <td>outside</td>\n      <td>5.67</td>\n      <td>84.0</td>\n      <td>100.0</td>\n      <td>1014.02</td>\n      <td>green</td>\n    </tr>\n    <tr>\n      <th>61909</th>\n      <td>29.703527</td>\n      <td>-95.458783</td>\n      <td>Laurel Street Indoors</td>\n      <td>inside</td>\n      <td>1.37</td>\n      <td>84.0</td>\n      <td>31.0</td>\n      <td>1011.80</td>\n      <td>green</td>\n    </tr>\n    <tr>\n      <th>51959</th>\n      <td>29.797358</td>\n      <td>-95.489989</td>\n      <td>Monarch</td>\n      <td>outside</td>\n      <td>6.29</td>\n      <td>84.0</td>\n      <td>70.0</td>\n      <td>1011.69</td>\n      <td>green</td>\n    </tr>\n    <tr>\n      <th>48545</th>\n      <td>29.737535</td>\n      <td>-95.406967</td>\n      <td>Museum District</td>\n      <td>outside</td>\n      <td>6.67</td>\n      <td>86.0</td>\n      <td>74.0</td>\n      <td>1010.15</td>\n      <td>green</td>\n    </tr>\n    <tr>\n      <th>51823</th>\n      <td>29.778682</td>\n      <td>-95.350500</td>\n      <td>Near Northside Houston</td>\n      <td>inside</td>\n      <td>0.97</td>\n      <td>86.0</td>\n      <td>37.0</td>\n      <td>1012.39</td>\n      <td>green</td>\n    </tr>\n    <tr>\n      <th>56059</th>\n      <td>29.723649</td>\n      <td>-95.420642</td>\n      <td>Northeast West U</td>\n      <td>outside</td>\n      <td>7.89</td>\n      <td>85.0</td>\n      <td>69.0</td>\n      <td>1012.93</td>\n      <td>green</td>\n    </tr>\n    <tr>\n      <th>30593</th>\n      <td>29.557082</td>\n      <td>-95.740333</td>\n      <td>Phil at Sweetgrass in Richmond</td>\n      <td>outside</td>\n      <td>6.05</td>\n      <td>83.0</td>\n      <td>73.0</td>\n      <td>1011.40</td>\n      <td>green</td>\n    </tr>\n    <tr>\n      <th>26659</th>\n      <td>29.765560</td>\n      <td>-95.413945</td>\n      <td>Rice Military Div</td>\n      <td>outside</td>\n      <td>6.55</td>\n      <td>87.0</td>\n      <td>65.0</td>\n      <td>1012.67</td>\n      <td>green</td>\n    </tr>\n    <tr>\n      <th>27009</th>\n      <td>29.733050</td>\n      <td>-95.585685</td>\n      <td>Royal Oaks Houston Tx - Inside</td>\n      <td>inside</td>\n      <td>0.02</td>\n      <td>83.0</td>\n      <td>41.0</td>\n      <td>1011.37</td>\n      <td>green</td>\n    </tr>\n    <tr>\n      <th>28851</th>\n      <td>29.733050</td>\n      <td>-95.585685</td>\n      <td>Royal Oaks Houston Tx - Outside</td>\n      <td>outside</td>\n      <td>7.46</td>\n      <td>84.0</td>\n      <td>76.0</td>\n      <td>1009.57</td>\n      <td>green</td>\n    </tr>\n    <tr>\n      <th>33033</th>\n      <td>29.601254</td>\n      <td>-94.992460</td>\n      <td>Schottel House</td>\n      <td>outside</td>\n      <td>3.62</td>\n      <td>85.0</td>\n      <td>70.0</td>\n      <td>1014.02</td>\n      <td>green</td>\n    </tr>\n    <tr>\n      <th>28679</th>\n      <td>29.582296</td>\n      <td>-95.044651</td>\n      <td>Seabrook Island</td>\n      <td>outside</td>\n      <td>3.37</td>\n      <td>NaN</td>\n      <td>NaN</td>\n      <td>NaN</td>\n      <td>green</td>\n    </tr>\n    <tr>\n      <th>28823</th>\n      <td>29.799163</td>\n      <td>-95.416531</td>\n      <td>Shady Acres</td>\n      <td>outside</td>\n      <td>6.44</td>\n      <td>NaN</td>\n      <td>NaN</td>\n      <td>NaN</td>\n      <td>green</td>\n    </tr>\n    <tr>\n      <th>27821</th>\n      <td>29.770740</td>\n      <td>-95.370056</td>\n      <td>Test First Ward</td>\n      <td>outside</td>\n      <td>0.24</td>\n      <td>86.0</td>\n      <td>100.0</td>\n      <td>1012.88</td>\n      <td>green</td>\n    </tr>\n    <tr>\n      <th>2386</th>\n      <td>29.532282</td>\n      <td>-95.076473</td>\n      <td>The Lakefront</td>\n      <td>outside</td>\n      <td>4.26</td>\n      <td>86.0</td>\n      <td>100.0</td>\n      <td>1011.12</td>\n      <td>green</td>\n    </tr>\n    <tr>\n      <th>62023</th>\n      <td>29.924318</td>\n      <td>-95.584526</td>\n      <td>White Oak Bend</td>\n      <td>inside</td>\n      <td>209.28</td>\n      <td>91.0</td>\n      <td>34.0</td>\n      <td>1015.04</td>\n      <td>darkpurple</td>\n    </tr>\n    <tr>\n      <th>3777</th>\n      <td>29.762896</td>\n      <td>-95.707644</td>\n      <td>Windsor Park</td>\n      <td>outside</td>\n      <td>15.79</td>\n      <td>82.0</td>\n      <td>77.0</td>\n      <td>1009.25</td>\n      <td>orange</td>\n    </tr>\n    <tr>\n      <th>31163</th>\n      <td>29.782640</td>\n      <td>-95.372740</td>\n      <td>Woodland Heights</td>\n      <td>outside</td>\n      <td>5.81</td>\n      <td>85.0</td>\n      <td>78.0</td>\n      <td>1012.69</td>\n      <td>green</td>\n    </tr>\n    <tr>\n      <th>34399</th>\n      <td>29.762451</td>\n      <td>-95.466370</td>\n      <td>WPI-1</td>\n      <td>inside</td>\n      <td>0.09</td>\n      <td>81.0</td>\n      <td>49.0</td>\n      <td>1007.96</td>\n      <td>green</td>\n    </tr>\n    <tr>\n      <th>34431</th>\n      <td>29.762515</td>\n      <td>-95.465982</td>\n      <td>WPI-2</td>\n      <td>inside</td>\n      <td>0.00</td>\n      <td>80.0</td>\n      <td>50.0</td>\n      <td>1008.58</td>\n      <td>green</td>\n    </tr>\n  </tbody>\n</table>\n</div>"
     },
     "metadata": {}
    }
   ]
  },
  {
   "cell_type": "markdown",
   "source": "<br>\n\nOur last step is to use the longitude and latitude coordinates to map the relative location of the sensor with is corresponding AQI Index color!",
   "metadata": {
    "tags": [],
    "cell_id": "00064-8d2eb83c-a61a-4b7e-a2f2-8cea444dc401",
    "deepnote_cell_type": "markdown"
   }
  },
  {
   "cell_type": "code",
   "metadata": {
    "tags": [],
    "deepnote_to_be_reexecuted": false,
    "source_hash": "341636af",
    "execution_start": 1634304959953,
    "execution_millis": 81,
    "cell_id": "00065-9cc7cda6-5ed9-4e53-86ae-60bc7a09f066",
    "deepnote_cell_type": "code"
   },
   "source": "m = folium.Map(location=[29.7604, -95.3698])\n\nfor i in np.arange(len(houston_data) - 1):\n    folium.Marker(\n        location=[houston_data.iloc[i]['lat'], houston_data.iloc[i]['lon']],\n        popup=houston_data.iloc[i]['name'],\n        icon=folium.Icon(color=houston_data.iloc[i]['code']),\n    ).add_to(m)\n\nm",
   "execution_count": 20,
   "outputs": [
    {
     "output_type": "execute_result",
     "execution_count": 20,
     "data": {
      "text/plain": "<folium.folium.Map at 0x7f3c589e3810>",
      "text/html": "<div style=\"width:100%;\"><div style=\"position:relative;width:100%;height:0;padding-bottom:60%;\"><span style=\"color:#565656\">Make this Notebook Trusted to load map: File -> Trust Notebook</span><iframe src=\"about:blank\" style=\"position:absolute;width:100%;height:100%;left:0;top:0;border:none !important;\" data-html=%3C%21DOCTYPE%20html%3E%0A%3Chead%3E%20%20%20%20%0A%20%20%20%20%3Cmeta%20http-equiv%3D%22content-type%22%20content%3D%22text/html%3B%20charset%3DUTF-8%22%20/%3E%0A%20%20%20%20%0A%20%20%20%20%20%20%20%20%3Cscript%3E%0A%20%20%20%20%20%20%20%20%20%20%20%20L_NO_TOUCH%20%3D%20false%3B%0A%20%20%20%20%20%20%20%20%20%20%20%20L_DISABLE_3D%20%3D%20false%3B%0A%20%20%20%20%20%20%20%20%3C/script%3E%0A%20%20%20%20%0A%20%20%20%20%3Cstyle%3Ehtml%2C%20body%20%7Bwidth%3A%20100%25%3Bheight%3A%20100%25%3Bmargin%3A%200%3Bpadding%3A%200%3B%7D%3C/style%3E%0A%20%20%20%20%3Cstyle%3E%23map%20%7Bposition%3Aabsolute%3Btop%3A0%3Bbottom%3A0%3Bright%3A0%3Bleft%3A0%3B%7D%3C/style%3E%0A%20%20%20%20%3Cscript%20src%3D%22https%3A//cdn.jsdelivr.net/npm/leaflet%401.6.0/dist/leaflet.js%22%3E%3C/script%3E%0A%20%20%20%20%3Cscript%20src%3D%22https%3A//code.jquery.com/jquery-1.12.4.min.js%22%3E%3C/script%3E%0A%20%20%20%20%3Cscript%20src%3D%22https%3A//maxcdn.bootstrapcdn.com/bootstrap/3.2.0/js/bootstrap.min.js%22%3E%3C/script%3E%0A%20%20%20%20%3Cscript%20src%3D%22https%3A//cdnjs.cloudflare.com/ajax/libs/Leaflet.awesome-markers/2.0.2/leaflet.awesome-markers.js%22%3E%3C/script%3E%0A%20%20%20%20%3Clink%20rel%3D%22stylesheet%22%20href%3D%22https%3A//cdn.jsdelivr.net/npm/leaflet%401.6.0/dist/leaflet.css%22/%3E%0A%20%20%20%20%3Clink%20rel%3D%22stylesheet%22%20href%3D%22https%3A//maxcdn.bootstrapcdn.com/bootstrap/3.2.0/css/bootstrap.min.css%22/%3E%0A%20%20%20%20%3Clink%20rel%3D%22stylesheet%22%20href%3D%22https%3A//maxcdn.bootstrapcdn.com/bootstrap/3.2.0/css/bootstrap-theme.min.css%22/%3E%0A%20%20%20%20%3Clink%20rel%3D%22stylesheet%22%20href%3D%22https%3A//maxcdn.bootstrapcdn.com/font-awesome/4.6.3/css/font-awesome.min.css%22/%3E%0A%20%20%20%20%3Clink%20rel%3D%22stylesheet%22%20href%3D%22https%3A//cdnjs.cloudflare.com/ajax/libs/Leaflet.awesome-markers/2.0.2/leaflet.awesome-markers.css%22/%3E%0A%20%20%20%20%3Clink%20rel%3D%22stylesheet%22%20href%3D%22https%3A//cdn.jsdelivr.net/gh/python-visualization/folium/folium/templates/leaflet.awesome.rotate.min.css%22/%3E%0A%20%20%20%20%0A%20%20%20%20%20%20%20%20%20%20%20%20%3Cmeta%20name%3D%22viewport%22%20content%3D%22width%3Ddevice-width%2C%0A%20%20%20%20%20%20%20%20%20%20%20%20%20%20%20%20initial-scale%3D1.0%2C%20maximum-scale%3D1.0%2C%20user-scalable%3Dno%22%20/%3E%0A%20%20%20%20%20%20%20%20%20%20%20%20%3Cstyle%3E%0A%20%20%20%20%20%20%20%20%20%20%20%20%20%20%20%20%23map_14946c2593d6482f806c4679c0102a58%20%7B%0A%20%20%20%20%20%20%20%20%20%20%20%20%20%20%20%20%20%20%20%20position%3A%20relative%3B%0A%20%20%20%20%20%20%20%20%20%20%20%20%20%20%20%20%20%20%20%20width%3A%20100.0%25%3B%0A%20%20%20%20%20%20%20%20%20%20%20%20%20%20%20%20%20%20%20%20height%3A%20100.0%25%3B%0A%20%20%20%20%20%20%20%20%20%20%20%20%20%20%20%20%20%20%20%20left%3A%200.0%25%3B%0A%20%20%20%20%20%20%20%20%20%20%20%20%20%20%20%20%20%20%20%20top%3A%200.0%25%3B%0A%20%20%20%20%20%20%20%20%20%20%20%20%20%20%20%20%7D%0A%20%20%20%20%20%20%20%20%20%20%20%20%3C/style%3E%0A%20%20%20%20%20%20%20%20%0A%3C/head%3E%0A%3Cbody%3E%20%20%20%20%0A%20%20%20%20%0A%20%20%20%20%20%20%20%20%20%20%20%20%3Cdiv%20class%3D%22folium-map%22%20id%3D%22map_14946c2593d6482f806c4679c0102a58%22%20%3E%3C/div%3E%0A%20%20%20%20%20%20%20%20%0A%3C/body%3E%0A%3Cscript%3E%20%20%20%20%0A%20%20%20%20%0A%20%20%20%20%20%20%20%20%20%20%20%20var%20map_14946c2593d6482f806c4679c0102a58%20%3D%20L.map%28%0A%20%20%20%20%20%20%20%20%20%20%20%20%20%20%20%20%22map_14946c2593d6482f806c4679c0102a58%22%2C%0A%20%20%20%20%20%20%20%20%20%20%20%20%20%20%20%20%7B%0A%20%20%20%20%20%20%20%20%20%20%20%20%20%20%20%20%20%20%20%20center%3A%20%5B29.7604%2C%20-95.3698%5D%2C%0A%20%20%20%20%20%20%20%20%20%20%20%20%20%20%20%20%20%20%20%20crs%3A%20L.CRS.EPSG3857%2C%0A%20%20%20%20%20%20%20%20%20%20%20%20%20%20%20%20%20%20%20%20zoom%3A%2010%2C%0A%20%20%20%20%20%20%20%20%20%20%20%20%20%20%20%20%20%20%20%20zoomControl%3A%20true%2C%0A%20%20%20%20%20%20%20%20%20%20%20%20%20%20%20%20%20%20%20%20preferCanvas%3A%20false%2C%0A%20%20%20%20%20%20%20%20%20%20%20%20%20%20%20%20%7D%0A%20%20%20%20%20%20%20%20%20%20%20%20%29%3B%0A%0A%20%20%20%20%20%20%20%20%20%20%20%20%0A%0A%20%20%20%20%20%20%20%20%0A%20%20%20%20%0A%20%20%20%20%20%20%20%20%20%20%20%20var%20tile_layer_08576ebc4dbf4b4590afcf958a120fd6%20%3D%20L.tileLayer%28%0A%20%20%20%20%20%20%20%20%20%20%20%20%20%20%20%20%22https%3A//%7Bs%7D.tile.openstreetmap.org/%7Bz%7D/%7Bx%7D/%7By%7D.png%22%2C%0A%20%20%20%20%20%20%20%20%20%20%20%20%20%20%20%20%7B%22attribution%22%3A%20%22Data%20by%20%5Cu0026copy%3B%20%5Cu003ca%20href%3D%5C%22http%3A//openstreetmap.org%5C%22%5Cu003eOpenStreetMap%5Cu003c/a%5Cu003e%2C%20under%20%5Cu003ca%20href%3D%5C%22http%3A//www.openstreetmap.org/copyright%5C%22%5Cu003eODbL%5Cu003c/a%5Cu003e.%22%2C%20%22detectRetina%22%3A%20false%2C%20%22maxNativeZoom%22%3A%2018%2C%20%22maxZoom%22%3A%2018%2C%20%22minZoom%22%3A%200%2C%20%22noWrap%22%3A%20false%2C%20%22opacity%22%3A%201%2C%20%22subdomains%22%3A%20%22abc%22%2C%20%22tms%22%3A%20false%7D%0A%20%20%20%20%20%20%20%20%20%20%20%20%29.addTo%28map_14946c2593d6482f806c4679c0102a58%29%3B%0A%20%20%20%20%20%20%20%20%0A%20%20%20%20%0A%20%20%20%20%20%20%20%20%20%20%20%20var%20marker_14f6a254aece4ffeb4316ec2c53a13ba%20%3D%20L.marker%28%0A%20%20%20%20%20%20%20%20%20%20%20%20%20%20%20%20%5B29.939444%2C%20-95.671354%5D%2C%0A%20%20%20%20%20%20%20%20%20%20%20%20%20%20%20%20%7B%7D%0A%20%20%20%20%20%20%20%20%20%20%20%20%29.addTo%28map_14946c2593d6482f806c4679c0102a58%29%3B%0A%20%20%20%20%20%20%20%20%0A%20%20%20%20%0A%20%20%20%20%20%20%20%20%20%20%20%20var%20icon_426a071b264f466b998cfd655162c725%20%3D%20L.AwesomeMarkers.icon%28%0A%20%20%20%20%20%20%20%20%20%20%20%20%20%20%20%20%7B%22extraClasses%22%3A%20%22fa-rotate-0%22%2C%20%22icon%22%3A%20%22info-sign%22%2C%20%22iconColor%22%3A%20%22white%22%2C%20%22markerColor%22%3A%20%22green%22%2C%20%22prefix%22%3A%20%22glyphicon%22%7D%0A%20%20%20%20%20%20%20%20%20%20%20%20%29%3B%0A%20%20%20%20%20%20%20%20%20%20%20%20marker_14f6a254aece4ffeb4316ec2c53a13ba.setIcon%28icon_426a071b264f466b998cfd655162c725%29%3B%0A%20%20%20%20%20%20%20%20%0A%20%20%20%20%0A%20%20%20%20%20%20%20%20var%20popup_afcb519134fa434c812154a2812e1daf%20%3D%20L.popup%28%7B%22maxWidth%22%3A%20%22100%25%22%7D%29%3B%0A%0A%20%20%20%20%20%20%20%20%0A%20%20%20%20%20%20%20%20%20%20%20%20var%20html_1cafab3f392843d0adbe12cae3221723%20%3D%20%24%28%60%3Cdiv%20id%3D%22html_1cafab3f392843d0adbe12cae3221723%22%20style%3D%22width%3A%20100.0%25%3B%20height%3A%20100.0%25%3B%22%3E16815%20Flower%20Mist%20Lane%3C/div%3E%60%29%5B0%5D%3B%0A%20%20%20%20%20%20%20%20%20%20%20%20popup_afcb519134fa434c812154a2812e1daf.setContent%28html_1cafab3f392843d0adbe12cae3221723%29%3B%0A%20%20%20%20%20%20%20%20%0A%0A%20%20%20%20%20%20%20%20marker_14f6a254aece4ffeb4316ec2c53a13ba.bindPopup%28popup_afcb519134fa434c812154a2812e1daf%29%0A%20%20%20%20%20%20%20%20%3B%0A%0A%20%20%20%20%20%20%20%20%0A%20%20%20%20%0A%20%20%20%20%0A%20%20%20%20%20%20%20%20%20%20%20%20var%20marker_ca43f70927d8438bbd977c90deb1509f%20%3D%20L.marker%28%0A%20%20%20%20%20%20%20%20%20%20%20%20%20%20%20%20%5B29.81888%2C%20-95.695667%5D%2C%0A%20%20%20%20%20%20%20%20%20%20%20%20%20%20%20%20%7B%7D%0A%20%20%20%20%20%20%20%20%20%20%20%20%29.addTo%28map_14946c2593d6482f806c4679c0102a58%29%3B%0A%20%20%20%20%20%20%20%20%0A%20%20%20%20%0A%20%20%20%20%20%20%20%20%20%20%20%20var%20icon_658ed5d68aed4d41aad2df11982eddcf%20%3D%20L.AwesomeMarkers.icon%28%0A%20%20%20%20%20%20%20%20%20%20%20%20%20%20%20%20%7B%22extraClasses%22%3A%20%22fa-rotate-0%22%2C%20%22icon%22%3A%20%22info-sign%22%2C%20%22iconColor%22%3A%20%22white%22%2C%20%22markerColor%22%3A%20%22green%22%2C%20%22prefix%22%3A%20%22glyphicon%22%7D%0A%20%20%20%20%20%20%20%20%20%20%20%20%29%3B%0A%20%20%20%20%20%20%20%20%20%20%20%20marker_ca43f70927d8438bbd977c90deb1509f.setIcon%28icon_658ed5d68aed4d41aad2df11982eddcf%29%3B%0A%20%20%20%20%20%20%20%20%0A%20%20%20%20%0A%20%20%20%20%20%20%20%20var%20popup_807a95a0a55645ccb035b6a5262a07ef%20%3D%20L.popup%28%7B%22maxWidth%22%3A%20%22100%25%22%7D%29%3B%0A%0A%20%20%20%20%20%20%20%20%0A%20%20%20%20%20%20%20%20%20%20%20%20var%20html_8fa9482a09fc43f98f7ea35652e2c374%20%3D%20%24%28%60%3Cdiv%20id%3D%22html_8fa9482a09fc43f98f7ea35652e2c374%22%20style%3D%22width%3A%20100.0%25%3B%20height%3A%20100.0%25%3B%22%3E3623%20Shadow%20Trail%2C%20Houston%2C%20Texas%2077084%3C/div%3E%60%29%5B0%5D%3B%0A%20%20%20%20%20%20%20%20%20%20%20%20popup_807a95a0a55645ccb035b6a5262a07ef.setContent%28html_8fa9482a09fc43f98f7ea35652e2c374%29%3B%0A%20%20%20%20%20%20%20%20%0A%0A%20%20%20%20%20%20%20%20marker_ca43f70927d8438bbd977c90deb1509f.bindPopup%28popup_807a95a0a55645ccb035b6a5262a07ef%29%0A%20%20%20%20%20%20%20%20%3B%0A%0A%20%20%20%20%20%20%20%20%0A%20%20%20%20%0A%20%20%20%20%0A%20%20%20%20%20%20%20%20%20%20%20%20var%20marker_93cfd2d8c9b346349bd112e8a0cea779%20%3D%20L.marker%28%0A%20%20%20%20%20%20%20%20%20%20%20%20%20%20%20%20%5B29.743322%2C%20-95.232096%5D%2C%0A%20%20%20%20%20%20%20%20%20%20%20%20%20%20%20%20%7B%7D%0A%20%20%20%20%20%20%20%20%20%20%20%20%29.addTo%28map_14946c2593d6482f806c4679c0102a58%29%3B%0A%20%20%20%20%20%20%20%20%0A%20%20%20%20%0A%20%20%20%20%20%20%20%20%20%20%20%20var%20icon_579ae3e8733248dca05844999e13e38b%20%3D%20L.AwesomeMarkers.icon%28%0A%20%20%20%20%20%20%20%20%20%20%20%20%20%20%20%20%7B%22extraClasses%22%3A%20%22fa-rotate-0%22%2C%20%22icon%22%3A%20%22info-sign%22%2C%20%22iconColor%22%3A%20%22white%22%2C%20%22markerColor%22%3A%20%22green%22%2C%20%22prefix%22%3A%20%22glyphicon%22%7D%0A%20%20%20%20%20%20%20%20%20%20%20%20%29%3B%0A%20%20%20%20%20%20%20%20%20%20%20%20marker_93cfd2d8c9b346349bd112e8a0cea779.setIcon%28icon_579ae3e8733248dca05844999e13e38b%29%3B%0A%20%20%20%20%20%20%20%20%0A%20%20%20%20%0A%20%20%20%20%20%20%20%20var%20popup_ddb1ed9771804154bb0f3d7a1a756deb%20%3D%20L.popup%28%7B%22maxWidth%22%3A%20%22100%25%22%7D%29%3B%0A%0A%20%20%20%20%20%20%20%20%0A%20%20%20%20%20%20%20%20%20%20%20%20var%20html_b53dfa82d981439e9731145496c9de95%20%3D%20%24%28%60%3Cdiv%20id%3D%22html_b53dfa82d981439e9731145496c9de95%22%20style%3D%22width%3A%20100.0%25%3B%20height%3A%20100.0%25%3B%22%3EAAH%2015th%20Street%3C/div%3E%60%29%5B0%5D%3B%0A%20%20%20%20%20%20%20%20%20%20%20%20popup_ddb1ed9771804154bb0f3d7a1a756deb.setContent%28html_b53dfa82d981439e9731145496c9de95%29%3B%0A%20%20%20%20%20%20%20%20%0A%0A%20%20%20%20%20%20%20%20marker_93cfd2d8c9b346349bd112e8a0cea779.bindPopup%28popup_ddb1ed9771804154bb0f3d7a1a756deb%29%0A%20%20%20%20%20%20%20%20%3B%0A%0A%20%20%20%20%20%20%20%20%0A%20%20%20%20%0A%20%20%20%20%0A%20%20%20%20%20%20%20%20%20%20%20%20var%20marker_76c4f6f501c446d0b4ed5101e724091d%20%3D%20L.marker%28%0A%20%20%20%20%20%20%20%20%20%20%20%20%20%20%20%20%5B29.743369%2C%20-95.241979%5D%2C%0A%20%20%20%20%20%20%20%20%20%20%20%20%20%20%20%20%7B%7D%0A%20%20%20%20%20%20%20%20%20%20%20%20%29.addTo%28map_14946c2593d6482f806c4679c0102a58%29%3B%0A%20%20%20%20%20%20%20%20%0A%20%20%20%20%0A%20%20%20%20%20%20%20%20%20%20%20%20var%20icon_220e507706fe49e786d966afa470fd68%20%3D%20L.AwesomeMarkers.icon%28%0A%20%20%20%20%20%20%20%20%20%20%20%20%20%20%20%20%7B%22extraClasses%22%3A%20%22fa-rotate-0%22%2C%20%22icon%22%3A%20%22info-sign%22%2C%20%22iconColor%22%3A%20%22white%22%2C%20%22markerColor%22%3A%20%22green%22%2C%20%22prefix%22%3A%20%22glyphicon%22%7D%0A%20%20%20%20%20%20%20%20%20%20%20%20%29%3B%0A%20%20%20%20%20%20%20%20%20%20%20%20marker_76c4f6f501c446d0b4ed5101e724091d.setIcon%28icon_220e507706fe49e786d966afa470fd68%29%3B%0A%20%20%20%20%20%20%20%20%0A%20%20%20%20%0A%20%20%20%20%20%20%20%20var%20popup_acc53ba96e0c4d10bc3c6347b67da5f9%20%3D%20L.popup%28%7B%22maxWidth%22%3A%20%22100%25%22%7D%29%3B%0A%0A%20%20%20%20%20%20%20%20%0A%20%20%20%20%20%20%20%20%20%20%20%20var%20html_f3f41387c1834b6dac73b218276aa3f3%20%3D%20%24%28%60%3Cdiv%20id%3D%22html_f3f41387c1834b6dac73b218276aa3f3%22%20style%3D%22width%3A%20100.0%25%3B%20height%3A%20100.0%25%3B%22%3EAAH%20GP%20Eastway%3C/div%3E%60%29%5B0%5D%3B%0A%20%20%20%20%20%20%20%20%20%20%20%20popup_acc53ba96e0c4d10bc3c6347b67da5f9.setContent%28html_f3f41387c1834b6dac73b218276aa3f3%29%3B%0A%20%20%20%20%20%20%20%20%0A%0A%20%20%20%20%20%20%20%20marker_76c4f6f501c446d0b4ed5101e724091d.bindPopup%28popup_acc53ba96e0c4d10bc3c6347b67da5f9%29%0A%20%20%20%20%20%20%20%20%3B%0A%0A%20%20%20%20%20%20%20%20%0A%20%20%20%20%0A%20%20%20%20%0A%20%20%20%20%20%20%20%20%20%20%20%20var%20marker_481b22ff296f4dfb84c1c65fce4519e2%20%3D%20L.marker%28%0A%20%20%20%20%20%20%20%20%20%20%20%20%20%20%20%20%5B29.737321%2C%20-95.252961%5D%2C%0A%20%20%20%20%20%20%20%20%20%20%20%20%20%20%20%20%7B%7D%0A%20%20%20%20%20%20%20%20%20%20%20%20%29.addTo%28map_14946c2593d6482f806c4679c0102a58%29%3B%0A%20%20%20%20%20%20%20%20%0A%20%20%20%20%0A%20%20%20%20%20%20%20%20%20%20%20%20var%20icon_002fce10eee84ce49ca666cca6898e49%20%3D%20L.AwesomeMarkers.icon%28%0A%20%20%20%20%20%20%20%20%20%20%20%20%20%20%20%20%7B%22extraClasses%22%3A%20%22fa-rotate-0%22%2C%20%22icon%22%3A%20%22info-sign%22%2C%20%22iconColor%22%3A%20%22white%22%2C%20%22markerColor%22%3A%20%22green%22%2C%20%22prefix%22%3A%20%22glyphicon%22%7D%0A%20%20%20%20%20%20%20%20%20%20%20%20%29%3B%0A%20%20%20%20%20%20%20%20%20%20%20%20marker_481b22ff296f4dfb84c1c65fce4519e2.setIcon%28icon_002fce10eee84ce49ca666cca6898e49%29%3B%0A%20%20%20%20%20%20%20%20%0A%20%20%20%20%0A%20%20%20%20%20%20%20%20var%20popup_86eff0bcc724448b91554a5c3f7c1535%20%3D%20L.popup%28%7B%22maxWidth%22%3A%20%22100%25%22%7D%29%3B%0A%0A%20%20%20%20%20%20%20%20%0A%20%20%20%20%20%20%20%20%20%20%20%20var%20html_08f8377e1d734ac4af0a8638a838bd8c%20%3D%20%24%28%60%3Cdiv%20id%3D%22html_08f8377e1d734ac4af0a8638a838bd8c%22%20style%3D%22width%3A%20100.0%25%3B%20height%3A%20100.0%25%3B%22%3EAAH%20GP%20Manor%3C/div%3E%60%29%5B0%5D%3B%0A%20%20%20%20%20%20%20%20%20%20%20%20popup_86eff0bcc724448b91554a5c3f7c1535.setContent%28html_08f8377e1d734ac4af0a8638a838bd8c%29%3B%0A%20%20%20%20%20%20%20%20%0A%0A%20%20%20%20%20%20%20%20marker_481b22ff296f4dfb84c1c65fce4519e2.bindPopup%28popup_86eff0bcc724448b91554a5c3f7c1535%29%0A%20%20%20%20%20%20%20%20%3B%0A%0A%20%20%20%20%20%20%20%20%0A%20%20%20%20%0A%20%20%20%20%0A%20%20%20%20%20%20%20%20%20%20%20%20var%20marker_03d617a65042416a854c6dd63e0002d2%20%3D%20L.marker%28%0A%20%20%20%20%20%20%20%20%20%20%20%20%20%20%20%20%5B29.705026%2C%20-95.154222%5D%2C%0A%20%20%20%20%20%20%20%20%20%20%20%20%20%20%20%20%7B%7D%0A%20%20%20%20%20%20%20%20%20%20%20%20%29.addTo%28map_14946c2593d6482f806c4679c0102a58%29%3B%0A%20%20%20%20%20%20%20%20%0A%20%20%20%20%0A%20%20%20%20%20%20%20%20%20%20%20%20var%20icon_f5d9d3f7fb53491cbfae119940df93f3%20%3D%20L.AwesomeMarkers.icon%28%0A%20%20%20%20%20%20%20%20%20%20%20%20%20%20%20%20%7B%22extraClasses%22%3A%20%22fa-rotate-0%22%2C%20%22icon%22%3A%20%22info-sign%22%2C%20%22iconColor%22%3A%20%22white%22%2C%20%22markerColor%22%3A%20%22green%22%2C%20%22prefix%22%3A%20%22glyphicon%22%7D%0A%20%20%20%20%20%20%20%20%20%20%20%20%29%3B%0A%20%20%20%20%20%20%20%20%20%20%20%20marker_03d617a65042416a854c6dd63e0002d2.setIcon%28icon_f5d9d3f7fb53491cbfae119940df93f3%29%3B%0A%20%20%20%20%20%20%20%20%0A%20%20%20%20%0A%20%20%20%20%20%20%20%20var%20popup_c502683c5af74d278ff8ea9ade97afdd%20%3D%20L.popup%28%7B%22maxWidth%22%3A%20%22100%25%22%7D%29%3B%0A%0A%20%20%20%20%20%20%20%20%0A%20%20%20%20%20%20%20%20%20%20%20%20var%20html_044fbc11abc1489d8a221069ca3c0e95%20%3D%20%24%28%60%3Cdiv%20id%3D%22html_044fbc11abc1489d8a221069ca3c0e95%22%20style%3D%22width%3A%20100.0%25%3B%20height%3A%20100.0%25%3B%22%3EAAH%20Meadowlake%3C/div%3E%60%29%5B0%5D%3B%0A%20%20%20%20%20%20%20%20%20%20%20%20popup_c502683c5af74d278ff8ea9ade97afdd.setContent%28html_044fbc11abc1489d8a221069ca3c0e95%29%3B%0A%20%20%20%20%20%20%20%20%0A%0A%20%20%20%20%20%20%20%20marker_03d617a65042416a854c6dd63e0002d2.bindPopup%28popup_c502683c5af74d278ff8ea9ade97afdd%29%0A%20%20%20%20%20%20%20%20%3B%0A%0A%20%20%20%20%20%20%20%20%0A%20%20%20%20%0A%20%20%20%20%0A%20%20%20%20%20%20%20%20%20%20%20%20var%20marker_28770417f48a42ddb5aa041d7527149d%20%3D%20L.marker%28%0A%20%20%20%20%20%20%20%20%20%20%20%20%20%20%20%20%5B29.809783%2C%20-95.195382%5D%2C%0A%20%20%20%20%20%20%20%20%20%20%20%20%20%20%20%20%7B%7D%0A%20%20%20%20%20%20%20%20%20%20%20%20%29.addTo%28map_14946c2593d6482f806c4679c0102a58%29%3B%0A%20%20%20%20%20%20%20%20%0A%20%20%20%20%0A%20%20%20%20%20%20%20%20%20%20%20%20var%20icon_1d7a035a09c04873abbd5c86d25ddf8f%20%3D%20L.AwesomeMarkers.icon%28%0A%20%20%20%20%20%20%20%20%20%20%20%20%20%20%20%20%7B%22extraClasses%22%3A%20%22fa-rotate-0%22%2C%20%22icon%22%3A%20%22info-sign%22%2C%20%22iconColor%22%3A%20%22white%22%2C%20%22markerColor%22%3A%20%22orange%22%2C%20%22prefix%22%3A%20%22glyphicon%22%7D%0A%20%20%20%20%20%20%20%20%20%20%20%20%29%3B%0A%20%20%20%20%20%20%20%20%20%20%20%20marker_28770417f48a42ddb5aa041d7527149d.setIcon%28icon_1d7a035a09c04873abbd5c86d25ddf8f%29%3B%0A%20%20%20%20%20%20%20%20%0A%20%20%20%20%0A%20%20%20%20%20%20%20%20var%20popup_71f42f16165a4eec8cab86698585800b%20%3D%20L.popup%28%7B%22maxWidth%22%3A%20%22100%25%22%7D%29%3B%0A%0A%20%20%20%20%20%20%20%20%0A%20%20%20%20%20%20%20%20%20%20%20%20var%20html_c046ed0d801a4d23a064f8a995091969%20%3D%20%24%28%60%3Cdiv%20id%3D%22html_c046ed0d801a4d23a064f8a995091969%22%20style%3D%22width%3A%20100.0%25%3B%20height%3A%20100.0%25%3B%22%3EAAH%20Pine%20Trails%3C/div%3E%60%29%5B0%5D%3B%0A%20%20%20%20%20%20%20%20%20%20%20%20popup_71f42f16165a4eec8cab86698585800b.setContent%28html_c046ed0d801a4d23a064f8a995091969%29%3B%0A%20%20%20%20%20%20%20%20%0A%0A%20%20%20%20%20%20%20%20marker_28770417f48a42ddb5aa041d7527149d.bindPopup%28popup_71f42f16165a4eec8cab86698585800b%29%0A%20%20%20%20%20%20%20%20%3B%0A%0A%20%20%20%20%20%20%20%20%0A%20%20%20%20%0A%20%20%20%20%0A%20%20%20%20%20%20%20%20%20%20%20%20var%20marker_0f54add0562d4cf480cff2573986e50f%20%3D%20L.marker%28%0A%20%20%20%20%20%20%20%20%20%20%20%20%20%20%20%20%5B29.806499%2C%20-95.543647%5D%2C%0A%20%20%20%20%20%20%20%20%20%20%20%20%20%20%20%20%7B%7D%0A%20%20%20%20%20%20%20%20%20%20%20%20%29.addTo%28map_14946c2593d6482f806c4679c0102a58%29%3B%0A%20%20%20%20%20%20%20%20%0A%20%20%20%20%0A%20%20%20%20%20%20%20%20%20%20%20%20var%20icon_7f06523d645149f18674eb868ae310c2%20%3D%20L.AwesomeMarkers.icon%28%0A%20%20%20%20%20%20%20%20%20%20%20%20%20%20%20%20%7B%22extraClasses%22%3A%20%22fa-rotate-0%22%2C%20%22icon%22%3A%20%22info-sign%22%2C%20%22iconColor%22%3A%20%22white%22%2C%20%22markerColor%22%3A%20%22green%22%2C%20%22prefix%22%3A%20%22glyphicon%22%7D%0A%20%20%20%20%20%20%20%20%20%20%20%20%29%3B%0A%20%20%20%20%20%20%20%20%20%20%20%20marker_0f54add0562d4cf480cff2573986e50f.setIcon%28icon_7f06523d645149f18674eb868ae310c2%29%3B%0A%20%20%20%20%20%20%20%20%0A%20%20%20%20%0A%20%20%20%20%20%20%20%20var%20popup_8d47cd3743654fa98c3f9cc02f76d2ef%20%3D%20L.popup%28%7B%22maxWidth%22%3A%20%22100%25%22%7D%29%3B%0A%0A%20%20%20%20%20%20%20%20%0A%20%20%20%20%20%20%20%20%20%20%20%20var%20html_6d87d540633243ae9594af3a7a2d714b%20%3D%20%24%28%60%3Cdiv%20id%3D%22html_6d87d540633243ae9594af3a7a2d714b%22%20style%3D%22width%3A%20100.0%25%3B%20height%3A%20100.0%25%3B%22%3EBallero-Air-SpringBranch%3C/div%3E%60%29%5B0%5D%3B%0A%20%20%20%20%20%20%20%20%20%20%20%20popup_8d47cd3743654fa98c3f9cc02f76d2ef.setContent%28html_6d87d540633243ae9594af3a7a2d714b%29%3B%0A%20%20%20%20%20%20%20%20%0A%0A%20%20%20%20%20%20%20%20marker_0f54add0562d4cf480cff2573986e50f.bindPopup%28popup_8d47cd3743654fa98c3f9cc02f76d2ef%29%0A%20%20%20%20%20%20%20%20%3B%0A%0A%20%20%20%20%20%20%20%20%0A%20%20%20%20%0A%20%20%20%20%0A%20%20%20%20%20%20%20%20%20%20%20%20var%20marker_65e561199f1943828ca5ae7c7c4f9178%20%3D%20L.marker%28%0A%20%20%20%20%20%20%20%20%20%20%20%20%20%20%20%20%5B29.582712%2C%20-95.119633%5D%2C%0A%20%20%20%20%20%20%20%20%20%20%20%20%20%20%20%20%7B%7D%0A%20%20%20%20%20%20%20%20%20%20%20%20%29.addTo%28map_14946c2593d6482f806c4679c0102a58%29%3B%0A%20%20%20%20%20%20%20%20%0A%20%20%20%20%0A%20%20%20%20%20%20%20%20%20%20%20%20var%20icon_8c5b09d3112b41a5a2865a07641a24a4%20%3D%20L.AwesomeMarkers.icon%28%0A%20%20%20%20%20%20%20%20%20%20%20%20%20%20%20%20%7B%22extraClasses%22%3A%20%22fa-rotate-0%22%2C%20%22icon%22%3A%20%22info-sign%22%2C%20%22iconColor%22%3A%20%22white%22%2C%20%22markerColor%22%3A%20%22green%22%2C%20%22prefix%22%3A%20%22glyphicon%22%7D%0A%20%20%20%20%20%20%20%20%20%20%20%20%29%3B%0A%20%20%20%20%20%20%20%20%20%20%20%20marker_65e561199f1943828ca5ae7c7c4f9178.setIcon%28icon_8c5b09d3112b41a5a2865a07641a24a4%29%3B%0A%20%20%20%20%20%20%20%20%0A%20%20%20%20%0A%20%20%20%20%20%20%20%20var%20popup_c6483cee5aa04b1a88d0d67d3b9f3fbe%20%3D%20L.popup%28%7B%22maxWidth%22%3A%20%22100%25%22%7D%29%3B%0A%0A%20%20%20%20%20%20%20%20%0A%20%20%20%20%20%20%20%20%20%20%20%20var%20html_25d8f0239a1144d3827c0032071ed89b%20%3D%20%24%28%60%3Cdiv%20id%3D%22html_25d8f0239a1144d3827c0032071ed89b%22%20style%3D%22width%3A%20100.0%25%3B%20height%3A%20100.0%25%3B%22%3EBay%20Forest%20%28IN%29%3C/div%3E%60%29%5B0%5D%3B%0A%20%20%20%20%20%20%20%20%20%20%20%20popup_c6483cee5aa04b1a88d0d67d3b9f3fbe.setContent%28html_25d8f0239a1144d3827c0032071ed89b%29%3B%0A%20%20%20%20%20%20%20%20%0A%0A%20%20%20%20%20%20%20%20marker_65e561199f1943828ca5ae7c7c4f9178.bindPopup%28popup_c6483cee5aa04b1a88d0d67d3b9f3fbe%29%0A%20%20%20%20%20%20%20%20%3B%0A%0A%20%20%20%20%20%20%20%20%0A%20%20%20%20%0A%20%20%20%20%0A%20%20%20%20%20%20%20%20%20%20%20%20var%20marker_67b730355fa240bb9ee6cf30eeca7d36%20%3D%20L.marker%28%0A%20%20%20%20%20%20%20%20%20%20%20%20%20%20%20%20%5B29.583349%2C%20-95.120087%5D%2C%0A%20%20%20%20%20%20%20%20%20%20%20%20%20%20%20%20%7B%7D%0A%20%20%20%20%20%20%20%20%20%20%20%20%29.addTo%28map_14946c2593d6482f806c4679c0102a58%29%3B%0A%20%20%20%20%20%20%20%20%0A%20%20%20%20%0A%20%20%20%20%20%20%20%20%20%20%20%20var%20icon_d7c3fac8f45c47d8bc89e9c58da55538%20%3D%20L.AwesomeMarkers.icon%28%0A%20%20%20%20%20%20%20%20%20%20%20%20%20%20%20%20%7B%22extraClasses%22%3A%20%22fa-rotate-0%22%2C%20%22icon%22%3A%20%22info-sign%22%2C%20%22iconColor%22%3A%20%22white%22%2C%20%22markerColor%22%3A%20%22green%22%2C%20%22prefix%22%3A%20%22glyphicon%22%7D%0A%20%20%20%20%20%20%20%20%20%20%20%20%29%3B%0A%20%20%20%20%20%20%20%20%20%20%20%20marker_67b730355fa240bb9ee6cf30eeca7d36.setIcon%28icon_d7c3fac8f45c47d8bc89e9c58da55538%29%3B%0A%20%20%20%20%20%20%20%20%0A%20%20%20%20%0A%20%20%20%20%20%20%20%20var%20popup_70ec959fac144ebb873e9ae833131068%20%3D%20L.popup%28%7B%22maxWidth%22%3A%20%22100%25%22%7D%29%3B%0A%0A%20%20%20%20%20%20%20%20%0A%20%20%20%20%20%20%20%20%20%20%20%20var%20html_9d50ff2199fe40fba3590f41a0a61144%20%3D%20%24%28%60%3Cdiv%20id%3D%22html_9d50ff2199fe40fba3590f41a0a61144%22%20style%3D%22width%3A%20100.0%25%3B%20height%3A%20100.0%25%3B%22%3EBay%20Forest%3C/div%3E%60%29%5B0%5D%3B%0A%20%20%20%20%20%20%20%20%20%20%20%20popup_70ec959fac144ebb873e9ae833131068.setContent%28html_9d50ff2199fe40fba3590f41a0a61144%29%3B%0A%20%20%20%20%20%20%20%20%0A%0A%20%20%20%20%20%20%20%20marker_67b730355fa240bb9ee6cf30eeca7d36.bindPopup%28popup_70ec959fac144ebb873e9ae833131068%29%0A%20%20%20%20%20%20%20%20%3B%0A%0A%20%20%20%20%20%20%20%20%0A%20%20%20%20%0A%20%20%20%20%0A%20%20%20%20%20%20%20%20%20%20%20%20var%20marker_2fd18ec0a8134bc6a50f36888252a70d%20%3D%20L.marker%28%0A%20%20%20%20%20%20%20%20%20%20%20%20%20%20%20%20%5B29.955063%2C%20-95.737387%5D%2C%0A%20%20%20%20%20%20%20%20%20%20%20%20%20%20%20%20%7B%7D%0A%20%20%20%20%20%20%20%20%20%20%20%20%29.addTo%28map_14946c2593d6482f806c4679c0102a58%29%3B%0A%20%20%20%20%20%20%20%20%0A%20%20%20%20%0A%20%20%20%20%20%20%20%20%20%20%20%20var%20icon_7c2ea57f708649d3937552e20fe9fb83%20%3D%20L.AwesomeMarkers.icon%28%0A%20%20%20%20%20%20%20%20%20%20%20%20%20%20%20%20%7B%22extraClasses%22%3A%20%22fa-rotate-0%22%2C%20%22icon%22%3A%20%22info-sign%22%2C%20%22iconColor%22%3A%20%22white%22%2C%20%22markerColor%22%3A%20%22green%22%2C%20%22prefix%22%3A%20%22glyphicon%22%7D%0A%20%20%20%20%20%20%20%20%20%20%20%20%29%3B%0A%20%20%20%20%20%20%20%20%20%20%20%20marker_2fd18ec0a8134bc6a50f36888252a70d.setIcon%28icon_7c2ea57f708649d3937552e20fe9fb83%29%3B%0A%20%20%20%20%20%20%20%20%0A%20%20%20%20%0A%20%20%20%20%20%20%20%20var%20popup_91207be04141412195833fdcc703d700%20%3D%20L.popup%28%7B%22maxWidth%22%3A%20%22100%25%22%7D%29%3B%0A%0A%20%20%20%20%20%20%20%20%0A%20%20%20%20%20%20%20%20%20%20%20%20var%20html_0e412b3e4eb14bf5984cd57eebde89e7%20%3D%20%24%28%60%3Cdiv%20id%3D%22html_0e412b3e4eb14bf5984cd57eebde89e7%22%20style%3D%22width%3A%20100.0%25%3B%20height%3A%20100.0%25%3B%22%3EBridgeland%3C/div%3E%60%29%5B0%5D%3B%0A%20%20%20%20%20%20%20%20%20%20%20%20popup_91207be04141412195833fdcc703d700.setContent%28html_0e412b3e4eb14bf5984cd57eebde89e7%29%3B%0A%20%20%20%20%20%20%20%20%0A%0A%20%20%20%20%20%20%20%20marker_2fd18ec0a8134bc6a50f36888252a70d.bindPopup%28popup_91207be04141412195833fdcc703d700%29%0A%20%20%20%20%20%20%20%20%3B%0A%0A%20%20%20%20%20%20%20%20%0A%20%20%20%20%0A%20%20%20%20%0A%20%20%20%20%20%20%20%20%20%20%20%20var%20marker_7bc80daa97424637978f66240fa7028c%20%3D%20L.marker%28%0A%20%20%20%20%20%20%20%20%20%20%20%20%20%20%20%20%5B29.691015%2C%20-95.136015%5D%2C%0A%20%20%20%20%20%20%20%20%20%20%20%20%20%20%20%20%7B%7D%0A%20%20%20%20%20%20%20%20%20%20%20%20%29.addTo%28map_14946c2593d6482f806c4679c0102a58%29%3B%0A%20%20%20%20%20%20%20%20%0A%20%20%20%20%0A%20%20%20%20%20%20%20%20%20%20%20%20var%20icon_c61b3c596e564cbc85e8ddf27ade5659%20%3D%20L.AwesomeMarkers.icon%28%0A%20%20%20%20%20%20%20%20%20%20%20%20%20%20%20%20%7B%22extraClasses%22%3A%20%22fa-rotate-0%22%2C%20%22icon%22%3A%20%22info-sign%22%2C%20%22iconColor%22%3A%20%22white%22%2C%20%22markerColor%22%3A%20%22green%22%2C%20%22prefix%22%3A%20%22glyphicon%22%7D%0A%20%20%20%20%20%20%20%20%20%20%20%20%29%3B%0A%20%20%20%20%20%20%20%20%20%20%20%20marker_7bc80daa97424637978f66240fa7028c.setIcon%28icon_c61b3c596e564cbc85e8ddf27ade5659%29%3B%0A%20%20%20%20%20%20%20%20%0A%20%20%20%20%0A%20%20%20%20%20%20%20%20var%20popup_dcec022e9f134d1f9f9f08f68fcd45aa%20%3D%20L.popup%28%7B%22maxWidth%22%3A%20%22100%25%22%7D%29%3B%0A%0A%20%20%20%20%20%20%20%20%0A%20%20%20%20%20%20%20%20%20%20%20%20var%20html_1d55dd9d7fea4abb8e2b392003c34368%20%3D%20%24%28%60%3Cdiv%20id%3D%22html_1d55dd9d7fea4abb8e2b392003c34368%22%20style%3D%22width%3A%20100.0%25%3B%20height%3A%20100.0%25%3B%22%3EC.and.Mi%27s%3C/div%3E%60%29%5B0%5D%3B%0A%20%20%20%20%20%20%20%20%20%20%20%20popup_dcec022e9f134d1f9f9f08f68fcd45aa.setContent%28html_1d55dd9d7fea4abb8e2b392003c34368%29%3B%0A%20%20%20%20%20%20%20%20%0A%0A%20%20%20%20%20%20%20%20marker_7bc80daa97424637978f66240fa7028c.bindPopup%28popup_dcec022e9f134d1f9f9f08f68fcd45aa%29%0A%20%20%20%20%20%20%20%20%3B%0A%0A%20%20%20%20%20%20%20%20%0A%20%20%20%20%0A%20%20%20%20%0A%20%20%20%20%20%20%20%20%20%20%20%20var%20marker_531bdf22824842e59af97b1925342809%20%3D%20L.marker%28%0A%20%20%20%20%20%20%20%20%20%20%20%20%20%20%20%20%5B29.790651%2C%20-95.113845%5D%2C%0A%20%20%20%20%20%20%20%20%20%20%20%20%20%20%20%20%7B%7D%0A%20%20%20%20%20%20%20%20%20%20%20%20%29.addTo%28map_14946c2593d6482f806c4679c0102a58%29%3B%0A%20%20%20%20%20%20%20%20%0A%20%20%20%20%0A%20%20%20%20%20%20%20%20%20%20%20%20var%20icon_c4cd57196d0e4e38b58e683ac351df1a%20%3D%20L.AwesomeMarkers.icon%28%0A%20%20%20%20%20%20%20%20%20%20%20%20%20%20%20%20%7B%22extraClasses%22%3A%20%22fa-rotate-0%22%2C%20%22icon%22%3A%20%22info-sign%22%2C%20%22iconColor%22%3A%20%22white%22%2C%20%22markerColor%22%3A%20%22green%22%2C%20%22prefix%22%3A%20%22glyphicon%22%7D%0A%20%20%20%20%20%20%20%20%20%20%20%20%29%3B%0A%20%20%20%20%20%20%20%20%20%20%20%20marker_531bdf22824842e59af97b1925342809.setIcon%28icon_c4cd57196d0e4e38b58e683ac351df1a%29%3B%0A%20%20%20%20%20%20%20%20%0A%20%20%20%20%0A%20%20%20%20%20%20%20%20var%20popup_ec3edb4cfc384cdb9af70dc2141bcc92%20%3D%20L.popup%28%7B%22maxWidth%22%3A%20%22100%25%22%7D%29%3B%0A%0A%20%20%20%20%20%20%20%20%0A%20%20%20%20%20%20%20%20%20%20%20%20var%20html_b20f2cc68aa14b4ea2b5cf03895b9a6d%20%3D%20%24%28%60%3Cdiv%20id%3D%22html_b20f2cc68aa14b4ea2b5cf03895b9a6d%22%20style%3D%22width%3A%20100.0%25%3B%20height%3A%20100.0%25%3B%22%3EChannelview%20Tx%20%231%3C/div%3E%60%29%5B0%5D%3B%0A%20%20%20%20%20%20%20%20%20%20%20%20popup_ec3edb4cfc384cdb9af70dc2141bcc92.setContent%28html_b20f2cc68aa14b4ea2b5cf03895b9a6d%29%3B%0A%20%20%20%20%20%20%20%20%0A%0A%20%20%20%20%20%20%20%20marker_531bdf22824842e59af97b1925342809.bindPopup%28popup_ec3edb4cfc384cdb9af70dc2141bcc92%29%0A%20%20%20%20%20%20%20%20%3B%0A%0A%20%20%20%20%20%20%20%20%0A%20%20%20%20%0A%20%20%20%20%0A%20%20%20%20%20%20%20%20%20%20%20%20var%20marker_e669c8aba4294baab25c05f57250968f%20%3D%20L.marker%28%0A%20%20%20%20%20%20%20%20%20%20%20%20%20%20%20%20%5B29.463194%2C%20-95.042483%5D%2C%0A%20%20%20%20%20%20%20%20%20%20%20%20%20%20%20%20%7B%7D%0A%20%20%20%20%20%20%20%20%20%20%20%20%29.addTo%28map_14946c2593d6482f806c4679c0102a58%29%3B%0A%20%20%20%20%20%20%20%20%0A%20%20%20%20%0A%20%20%20%20%20%20%20%20%20%20%20%20var%20icon_7e74402715fe43c3a747e8100092636d%20%3D%20L.AwesomeMarkers.icon%28%0A%20%20%20%20%20%20%20%20%20%20%20%20%20%20%20%20%7B%22extraClasses%22%3A%20%22fa-rotate-0%22%2C%20%22icon%22%3A%20%22info-sign%22%2C%20%22iconColor%22%3A%20%22white%22%2C%20%22markerColor%22%3A%20%22green%22%2C%20%22prefix%22%3A%20%22glyphicon%22%7D%0A%20%20%20%20%20%20%20%20%20%20%20%20%29%3B%0A%20%20%20%20%20%20%20%20%20%20%20%20marker_e669c8aba4294baab25c05f57250968f.setIcon%28icon_7e74402715fe43c3a747e8100092636d%29%3B%0A%20%20%20%20%20%20%20%20%0A%20%20%20%20%0A%20%20%20%20%20%20%20%20var%20popup_ab94a2aeb4b1463ebf9ee7ddc1b8ee88%20%3D%20L.popup%28%7B%22maxWidth%22%3A%20%22100%25%22%7D%29%3B%0A%0A%20%20%20%20%20%20%20%20%0A%20%20%20%20%20%20%20%20%20%20%20%20var%20html_9de0b4be1e4c4d32bf72a4bce463db28%20%3D%20%24%28%60%3Cdiv%20id%3D%22html_9de0b4be1e4c4d32bf72a4bce463db28%22%20style%3D%22width%3A%20100.0%25%3B%20height%3A%20100.0%25%3B%22%3EDickinson%20Office%20of%20Emergency%20Management%3C/div%3E%60%29%5B0%5D%3B%0A%20%20%20%20%20%20%20%20%20%20%20%20popup_ab94a2aeb4b1463ebf9ee7ddc1b8ee88.setContent%28html_9de0b4be1e4c4d32bf72a4bce463db28%29%3B%0A%20%20%20%20%20%20%20%20%0A%0A%20%20%20%20%20%20%20%20marker_e669c8aba4294baab25c05f57250968f.bindPopup%28popup_ab94a2aeb4b1463ebf9ee7ddc1b8ee88%29%0A%20%20%20%20%20%20%20%20%3B%0A%0A%20%20%20%20%20%20%20%20%0A%20%20%20%20%0A%20%20%20%20%0A%20%20%20%20%20%20%20%20%20%20%20%20var%20marker_3e1d081acd8d47698bd8e7edb3e224b4%20%3D%20L.marker%28%0A%20%20%20%20%20%20%20%20%20%20%20%20%20%20%20%20%5B29.816738%2C%20-95.303219%5D%2C%0A%20%20%20%20%20%20%20%20%20%20%20%20%20%20%20%20%7B%7D%0A%20%20%20%20%20%20%20%20%20%20%20%20%29.addTo%28map_14946c2593d6482f806c4679c0102a58%29%3B%0A%20%20%20%20%20%20%20%20%0A%20%20%20%20%0A%20%20%20%20%20%20%20%20%20%20%20%20var%20icon_60e415a5b3a448fbb518e54faca5ea93%20%3D%20L.AwesomeMarkers.icon%28%0A%20%20%20%20%20%20%20%20%20%20%20%20%20%20%20%20%7B%22extraClasses%22%3A%20%22fa-rotate-0%22%2C%20%22icon%22%3A%20%22info-sign%22%2C%20%22iconColor%22%3A%20%22white%22%2C%20%22markerColor%22%3A%20%22orange%22%2C%20%22prefix%22%3A%20%22glyphicon%22%7D%0A%20%20%20%20%20%20%20%20%20%20%20%20%29%3B%0A%20%20%20%20%20%20%20%20%20%20%20%20marker_3e1d081acd8d47698bd8e7edb3e224b4.setIcon%28icon_60e415a5b3a448fbb518e54faca5ea93%29%3B%0A%20%20%20%20%20%20%20%20%0A%20%20%20%20%0A%20%20%20%20%20%20%20%20var%20popup_25b93d84483749539afba9df65f963ef%20%3D%20L.popup%28%7B%22maxWidth%22%3A%20%22100%25%22%7D%29%3B%0A%0A%20%20%20%20%20%20%20%20%0A%20%20%20%20%20%20%20%20%20%20%20%20var%20html_afaf03f129d24dddbcc75e9328ca8160%20%3D%20%24%28%60%3Cdiv%20id%3D%22html_afaf03f129d24dddbcc75e9328ca8160%22%20style%3D%22width%3A%20100.0%25%3B%20height%3A%20100.0%25%3B%22%3EHouston%20Gardens%3C/div%3E%60%29%5B0%5D%3B%0A%20%20%20%20%20%20%20%20%20%20%20%20popup_25b93d84483749539afba9df65f963ef.setContent%28html_afaf03f129d24dddbcc75e9328ca8160%29%3B%0A%20%20%20%20%20%20%20%20%0A%0A%20%20%20%20%20%20%20%20marker_3e1d081acd8d47698bd8e7edb3e224b4.bindPopup%28popup_25b93d84483749539afba9df65f963ef%29%0A%20%20%20%20%20%20%20%20%3B%0A%0A%20%20%20%20%20%20%20%20%0A%20%20%20%20%0A%20%20%20%20%0A%20%20%20%20%20%20%20%20%20%20%20%20var%20marker_88f9a9592dfe4d9f856d47375b26f04d%20%3D%20L.marker%28%0A%20%20%20%20%20%20%20%20%20%20%20%20%20%20%20%20%5B29.764788%2C%20-95.178538%5D%2C%0A%20%20%20%20%20%20%20%20%20%20%20%20%20%20%20%20%7B%7D%0A%20%20%20%20%20%20%20%20%20%20%20%20%29.addTo%28map_14946c2593d6482f806c4679c0102a58%29%3B%0A%20%20%20%20%20%20%20%20%0A%20%20%20%20%0A%20%20%20%20%20%20%20%20%20%20%20%20var%20icon_fa23c379a7b745c9872839fb5f66feb2%20%3D%20L.AwesomeMarkers.icon%28%0A%20%20%20%20%20%20%20%20%20%20%20%20%20%20%20%20%7B%22extraClasses%22%3A%20%22fa-rotate-0%22%2C%20%22icon%22%3A%20%22info-sign%22%2C%20%22iconColor%22%3A%20%22white%22%2C%20%22markerColor%22%3A%20%22green%22%2C%20%22prefix%22%3A%20%22glyphicon%22%7D%0A%20%20%20%20%20%20%20%20%20%20%20%20%29%3B%0A%20%20%20%20%20%20%20%20%20%20%20%20marker_88f9a9592dfe4d9f856d47375b26f04d.setIcon%28icon_fa23c379a7b745c9872839fb5f66feb2%29%3B%0A%20%20%20%20%20%20%20%20%0A%20%20%20%20%0A%20%20%20%20%20%20%20%20var%20popup_ac5b4be8e94a48f788f412a31bd85256%20%3D%20L.popup%28%7B%22maxWidth%22%3A%20%22100%25%22%7D%29%3B%0A%0A%20%20%20%20%20%20%20%20%0A%20%20%20%20%20%20%20%20%20%20%20%20var%20html_6d4ff0c7df544dc289a5bb3e71c8b615%20%3D%20%24%28%60%3Cdiv%20id%3D%22html_6d4ff0c7df544dc289a5bb3e71c8b615%22%20style%3D%22width%3A%20100.0%25%3B%20height%3A%20100.0%25%3B%22%3EHRM-PA1%3C/div%3E%60%29%5B0%5D%3B%0A%20%20%20%20%20%20%20%20%20%20%20%20popup_ac5b4be8e94a48f788f412a31bd85256.setContent%28html_6d4ff0c7df544dc289a5bb3e71c8b615%29%3B%0A%20%20%20%20%20%20%20%20%0A%0A%20%20%20%20%20%20%20%20marker_88f9a9592dfe4d9f856d47375b26f04d.bindPopup%28popup_ac5b4be8e94a48f788f412a31bd85256%29%0A%20%20%20%20%20%20%20%20%3B%0A%0A%20%20%20%20%20%20%20%20%0A%20%20%20%20%0A%20%20%20%20%0A%20%20%20%20%20%20%20%20%20%20%20%20var%20marker_69da61f92ba24a98b3495754e7b9706f%20%3D%20L.marker%28%0A%20%20%20%20%20%20%20%20%20%20%20%20%20%20%20%20%5B29.76528%2C%20-95.18111%5D%2C%0A%20%20%20%20%20%20%20%20%20%20%20%20%20%20%20%20%7B%7D%0A%20%20%20%20%20%20%20%20%20%20%20%20%29.addTo%28map_14946c2593d6482f806c4679c0102a58%29%3B%0A%20%20%20%20%20%20%20%20%0A%20%20%20%20%0A%20%20%20%20%20%20%20%20%20%20%20%20var%20icon_0d35c750cfc84593999e2c80c73a8d26%20%3D%20L.AwesomeMarkers.icon%28%0A%20%20%20%20%20%20%20%20%20%20%20%20%20%20%20%20%7B%22extraClasses%22%3A%20%22fa-rotate-0%22%2C%20%22icon%22%3A%20%22info-sign%22%2C%20%22iconColor%22%3A%20%22white%22%2C%20%22markerColor%22%3A%20%22orange%22%2C%20%22prefix%22%3A%20%22glyphicon%22%7D%0A%20%20%20%20%20%20%20%20%20%20%20%20%29%3B%0A%20%20%20%20%20%20%20%20%20%20%20%20marker_69da61f92ba24a98b3495754e7b9706f.setIcon%28icon_0d35c750cfc84593999e2c80c73a8d26%29%3B%0A%20%20%20%20%20%20%20%20%0A%20%20%20%20%0A%20%20%20%20%20%20%20%20var%20popup_daa90e24170b41b992212d8f954401e8%20%3D%20L.popup%28%7B%22maxWidth%22%3A%20%22100%25%22%7D%29%3B%0A%0A%20%20%20%20%20%20%20%20%0A%20%20%20%20%20%20%20%20%20%20%20%20var%20html_a02d6f7e424e47409512a7217407e0b4%20%3D%20%24%28%60%3Cdiv%20id%3D%22html_a02d6f7e424e47409512a7217407e0b4%22%20style%3D%22width%3A%20100.0%25%3B%20height%3A%20100.0%25%3B%22%3Ehrm3-3%3C/div%3E%60%29%5B0%5D%3B%0A%20%20%20%20%20%20%20%20%20%20%20%20popup_daa90e24170b41b992212d8f954401e8.setContent%28html_a02d6f7e424e47409512a7217407e0b4%29%3B%0A%20%20%20%20%20%20%20%20%0A%0A%20%20%20%20%20%20%20%20marker_69da61f92ba24a98b3495754e7b9706f.bindPopup%28popup_daa90e24170b41b992212d8f954401e8%29%0A%20%20%20%20%20%20%20%20%3B%0A%0A%20%20%20%20%20%20%20%20%0A%20%20%20%20%0A%20%20%20%20%0A%20%20%20%20%20%20%20%20%20%20%20%20var%20marker_284d45b2bc524ac791fb84a086d74683%20%3D%20L.marker%28%0A%20%20%20%20%20%20%20%20%20%20%20%20%20%20%20%20%5B29.764788%2C%20-95.178538%5D%2C%0A%20%20%20%20%20%20%20%20%20%20%20%20%20%20%20%20%7B%7D%0A%20%20%20%20%20%20%20%20%20%20%20%20%29.addTo%28map_14946c2593d6482f806c4679c0102a58%29%3B%0A%20%20%20%20%20%20%20%20%0A%20%20%20%20%0A%20%20%20%20%20%20%20%20%20%20%20%20var%20icon_e12cf627a31e4d45ac63eca9297be062%20%3D%20L.AwesomeMarkers.icon%28%0A%20%20%20%20%20%20%20%20%20%20%20%20%20%20%20%20%7B%22extraClasses%22%3A%20%22fa-rotate-0%22%2C%20%22icon%22%3A%20%22info-sign%22%2C%20%22iconColor%22%3A%20%22white%22%2C%20%22markerColor%22%3A%20%22green%22%2C%20%22prefix%22%3A%20%22glyphicon%22%7D%0A%20%20%20%20%20%20%20%20%20%20%20%20%29%3B%0A%20%20%20%20%20%20%20%20%20%20%20%20marker_284d45b2bc524ac791fb84a086d74683.setIcon%28icon_e12cf627a31e4d45ac63eca9297be062%29%3B%0A%20%20%20%20%20%20%20%20%0A%20%20%20%20%0A%20%20%20%20%20%20%20%20var%20popup_d1b295e8546e430c9ca41c84f2f2f0d3%20%3D%20L.popup%28%7B%22maxWidth%22%3A%20%22100%25%22%7D%29%3B%0A%0A%20%20%20%20%20%20%20%20%0A%20%20%20%20%20%20%20%20%20%20%20%20var%20html_af9bc0b44296450b981fadb24dff4052%20%3D%20%24%28%60%3Cdiv%20id%3D%22html_af9bc0b44296450b981fadb24dff4052%22%20style%3D%22width%3A%20100.0%25%3B%20height%3A%20100.0%25%3B%22%3EHRM3-PA2%3C/div%3E%60%29%5B0%5D%3B%0A%20%20%20%20%20%20%20%20%20%20%20%20popup_d1b295e8546e430c9ca41c84f2f2f0d3.setContent%28html_af9bc0b44296450b981fadb24dff4052%29%3B%0A%20%20%20%20%20%20%20%20%0A%0A%20%20%20%20%20%20%20%20marker_284d45b2bc524ac791fb84a086d74683.bindPopup%28popup_d1b295e8546e430c9ca41c84f2f2f0d3%29%0A%20%20%20%20%20%20%20%20%3B%0A%0A%20%20%20%20%20%20%20%20%0A%20%20%20%20%0A%20%20%20%20%0A%20%20%20%20%20%20%20%20%20%20%20%20var%20marker_f8e089b251fd4cfab7a08b48c7a4b429%20%3D%20L.marker%28%0A%20%20%20%20%20%20%20%20%20%20%20%20%20%20%20%20%5B29.717061%2C%20-95.308764%5D%2C%0A%20%20%20%20%20%20%20%20%20%20%20%20%20%20%20%20%7B%7D%0A%20%20%20%20%20%20%20%20%20%20%20%20%29.addTo%28map_14946c2593d6482f806c4679c0102a58%29%3B%0A%20%20%20%20%20%20%20%20%0A%20%20%20%20%0A%20%20%20%20%20%20%20%20%20%20%20%20var%20icon_7ca9fc1f7d9e4bcbbf98cf24a109cf65%20%3D%20L.AwesomeMarkers.icon%28%0A%20%20%20%20%20%20%20%20%20%20%20%20%20%20%20%20%7B%22extraClasses%22%3A%20%22fa-rotate-0%22%2C%20%22icon%22%3A%20%22info-sign%22%2C%20%22iconColor%22%3A%20%22white%22%2C%20%22markerColor%22%3A%20%22green%22%2C%20%22prefix%22%3A%20%22glyphicon%22%7D%0A%20%20%20%20%20%20%20%20%20%20%20%20%29%3B%0A%20%20%20%20%20%20%20%20%20%20%20%20marker_f8e089b251fd4cfab7a08b48c7a4b429.setIcon%28icon_7ca9fc1f7d9e4bcbbf98cf24a109cf65%29%3B%0A%20%20%20%20%20%20%20%20%0A%20%20%20%20%0A%20%20%20%20%20%20%20%20var%20popup_0e70c4a3ee11495cb94e36bdab28db72%20%3D%20L.popup%28%7B%22maxWidth%22%3A%20%22100%25%22%7D%29%3B%0A%0A%20%20%20%20%20%20%20%20%0A%20%20%20%20%20%20%20%20%20%20%20%20var%20html_efb12c5349194a0a9e26f5ab4dd2de84%20%3D%20%24%28%60%3Cdiv%20id%3D%22html_efb12c5349194a0a9e26f5ab4dd2de84%22%20style%3D%22width%3A%20100.0%25%3B%20height%3A%20100.0%25%3B%22%3EIdylwoodEastEnd%3C/div%3E%60%29%5B0%5D%3B%0A%20%20%20%20%20%20%20%20%20%20%20%20popup_0e70c4a3ee11495cb94e36bdab28db72.setContent%28html_efb12c5349194a0a9e26f5ab4dd2de84%29%3B%0A%20%20%20%20%20%20%20%20%0A%0A%20%20%20%20%20%20%20%20marker_f8e089b251fd4cfab7a08b48c7a4b429.bindPopup%28popup_0e70c4a3ee11495cb94e36bdab28db72%29%0A%20%20%20%20%20%20%20%20%3B%0A%0A%20%20%20%20%20%20%20%20%0A%20%20%20%20%0A%20%20%20%20%0A%20%20%20%20%20%20%20%20%20%20%20%20var%20marker_9f0f55aa50b94a0eb746f0fd0bc64d0b%20%3D%20L.marker%28%0A%20%20%20%20%20%20%20%20%20%20%20%20%20%20%20%20%5B29.193352%2C%20-94.97924%5D%2C%0A%20%20%20%20%20%20%20%20%20%20%20%20%20%20%20%20%7B%7D%0A%20%20%20%20%20%20%20%20%20%20%20%20%29.addTo%28map_14946c2593d6482f806c4679c0102a58%29%3B%0A%20%20%20%20%20%20%20%20%0A%20%20%20%20%0A%20%20%20%20%20%20%20%20%20%20%20%20var%20icon_bc2776960d12408d9b687453208391e7%20%3D%20L.AwesomeMarkers.icon%28%0A%20%20%20%20%20%20%20%20%20%20%20%20%20%20%20%20%7B%22extraClasses%22%3A%20%22fa-rotate-0%22%2C%20%22icon%22%3A%20%22info-sign%22%2C%20%22iconColor%22%3A%20%22white%22%2C%20%22markerColor%22%3A%20%22green%22%2C%20%22prefix%22%3A%20%22glyphicon%22%7D%0A%20%20%20%20%20%20%20%20%20%20%20%20%29%3B%0A%20%20%20%20%20%20%20%20%20%20%20%20marker_9f0f55aa50b94a0eb746f0fd0bc64d0b.setIcon%28icon_bc2776960d12408d9b687453208391e7%29%3B%0A%20%20%20%20%20%20%20%20%0A%20%20%20%20%0A%20%20%20%20%20%20%20%20var%20popup_7eb0f3235fc4487692de6fb847525f2e%20%3D%20L.popup%28%7B%22maxWidth%22%3A%20%22100%25%22%7D%29%3B%0A%0A%20%20%20%20%20%20%20%20%0A%20%20%20%20%20%20%20%20%20%20%20%20var%20html_1f509f61aae84fa4bfda0d1aa2862e88%20%3D%20%24%28%60%3Cdiv%20id%3D%22html_1f509f61aae84fa4bfda0d1aa2862e88%22%20style%3D%22width%3A%20100.0%25%3B%20height%3A%20100.0%25%3B%22%3EJamaica%20Beach%20TX%3C/div%3E%60%29%5B0%5D%3B%0A%20%20%20%20%20%20%20%20%20%20%20%20popup_7eb0f3235fc4487692de6fb847525f2e.setContent%28html_1f509f61aae84fa4bfda0d1aa2862e88%29%3B%0A%20%20%20%20%20%20%20%20%0A%0A%20%20%20%20%20%20%20%20marker_9f0f55aa50b94a0eb746f0fd0bc64d0b.bindPopup%28popup_7eb0f3235fc4487692de6fb847525f2e%29%0A%20%20%20%20%20%20%20%20%3B%0A%0A%20%20%20%20%20%20%20%20%0A%20%20%20%20%0A%20%20%20%20%0A%20%20%20%20%20%20%20%20%20%20%20%20var%20marker_9806a6cdb0e3477dafbbf900b7746540%20%3D%20L.marker%28%0A%20%20%20%20%20%20%20%20%20%20%20%20%20%20%20%20%5B29.570752%2C%20-95.11873%5D%2C%0A%20%20%20%20%20%20%20%20%20%20%20%20%20%20%20%20%7B%7D%0A%20%20%20%20%20%20%20%20%20%20%20%20%29.addTo%28map_14946c2593d6482f806c4679c0102a58%29%3B%0A%20%20%20%20%20%20%20%20%0A%20%20%20%20%0A%20%20%20%20%20%20%20%20%20%20%20%20var%20icon_3a61b6cd4bce4e65948566f7155b8d6d%20%3D%20L.AwesomeMarkers.icon%28%0A%20%20%20%20%20%20%20%20%20%20%20%20%20%20%20%20%7B%22extraClasses%22%3A%20%22fa-rotate-0%22%2C%20%22icon%22%3A%20%22info-sign%22%2C%20%22iconColor%22%3A%20%22white%22%2C%20%22markerColor%22%3A%20%22green%22%2C%20%22prefix%22%3A%20%22glyphicon%22%7D%0A%20%20%20%20%20%20%20%20%20%20%20%20%29%3B%0A%20%20%20%20%20%20%20%20%20%20%20%20marker_9806a6cdb0e3477dafbbf900b7746540.setIcon%28icon_3a61b6cd4bce4e65948566f7155b8d6d%29%3B%0A%20%20%20%20%20%20%20%20%0A%20%20%20%20%0A%20%20%20%20%20%20%20%20var%20popup_b12771cdbc2e42cf99219ae08d676b89%20%3D%20L.popup%28%7B%22maxWidth%22%3A%20%22100%25%22%7D%29%3B%0A%0A%20%20%20%20%20%20%20%20%0A%20%20%20%20%20%20%20%20%20%20%20%20var%20html_d284ebeac2e341888f275ca95e3fb67d%20%3D%20%24%28%60%3Cdiv%20id%3D%22html_d284ebeac2e341888f275ca95e3fb67d%22%20style%3D%22width%3A%20100.0%25%3B%20height%3A%20100.0%25%3B%22%3EJgg%3C/div%3E%60%29%5B0%5D%3B%0A%20%20%20%20%20%20%20%20%20%20%20%20popup_b12771cdbc2e42cf99219ae08d676b89.setContent%28html_d284ebeac2e341888f275ca95e3fb67d%29%3B%0A%20%20%20%20%20%20%20%20%0A%0A%20%20%20%20%20%20%20%20marker_9806a6cdb0e3477dafbbf900b7746540.bindPopup%28popup_b12771cdbc2e42cf99219ae08d676b89%29%0A%20%20%20%20%20%20%20%20%3B%0A%0A%20%20%20%20%20%20%20%20%0A%20%20%20%20%0A%20%20%20%20%0A%20%20%20%20%20%20%20%20%20%20%20%20var%20marker_d7591a0edb1a4e4c8199c480a1935ef0%20%3D%20L.marker%28%0A%20%20%20%20%20%20%20%20%20%20%20%20%20%20%20%20%5B29.70373%2C%20-95.05282%5D%2C%0A%20%20%20%20%20%20%20%20%20%20%20%20%20%20%20%20%7B%7D%0A%20%20%20%20%20%20%20%20%20%20%20%20%29.addTo%28map_14946c2593d6482f806c4679c0102a58%29%3B%0A%20%20%20%20%20%20%20%20%0A%20%20%20%20%0A%20%20%20%20%20%20%20%20%20%20%20%20var%20icon_c890de2a100845babbd15d265f67f116%20%3D%20L.AwesomeMarkers.icon%28%0A%20%20%20%20%20%20%20%20%20%20%20%20%20%20%20%20%7B%22extraClasses%22%3A%20%22fa-rotate-0%22%2C%20%22icon%22%3A%20%22info-sign%22%2C%20%22iconColor%22%3A%20%22white%22%2C%20%22markerColor%22%3A%20%22green%22%2C%20%22prefix%22%3A%20%22glyphicon%22%7D%0A%20%20%20%20%20%20%20%20%20%20%20%20%29%3B%0A%20%20%20%20%20%20%20%20%20%20%20%20marker_d7591a0edb1a4e4c8199c480a1935ef0.setIcon%28icon_c890de2a100845babbd15d265f67f116%29%3B%0A%20%20%20%20%20%20%20%20%0A%20%20%20%20%0A%20%20%20%20%20%20%20%20var%20popup_76190f019cb14156ae2020163b0e14a0%20%3D%20L.popup%28%7B%22maxWidth%22%3A%20%22100%25%22%7D%29%3B%0A%0A%20%20%20%20%20%20%20%20%0A%20%20%20%20%20%20%20%20%20%20%20%20var%20html_4a0dab96287b4adab6c1aae75e5594d6%20%3D%20%24%28%60%3Cdiv%20id%3D%22html_4a0dab96287b4adab6c1aae75e5594d6%22%20style%3D%22width%3A%20100.0%25%3B%20height%3A%20100.0%25%3B%22%3ELAP5187%3C/div%3E%60%29%5B0%5D%3B%0A%20%20%20%20%20%20%20%20%20%20%20%20popup_76190f019cb14156ae2020163b0e14a0.setContent%28html_4a0dab96287b4adab6c1aae75e5594d6%29%3B%0A%20%20%20%20%20%20%20%20%0A%0A%20%20%20%20%20%20%20%20marker_d7591a0edb1a4e4c8199c480a1935ef0.bindPopup%28popup_76190f019cb14156ae2020163b0e14a0%29%0A%20%20%20%20%20%20%20%20%3B%0A%0A%20%20%20%20%20%20%20%20%0A%20%20%20%20%0A%20%20%20%20%0A%20%20%20%20%20%20%20%20%20%20%20%20var%20marker_f83ad3cc49de40d89a4059eab976ef06%20%3D%20L.marker%28%0A%20%20%20%20%20%20%20%20%20%20%20%20%20%20%20%20%5B29.703527%2C%20-95.458783%5D%2C%0A%20%20%20%20%20%20%20%20%20%20%20%20%20%20%20%20%7B%7D%0A%20%20%20%20%20%20%20%20%20%20%20%20%29.addTo%28map_14946c2593d6482f806c4679c0102a58%29%3B%0A%20%20%20%20%20%20%20%20%0A%20%20%20%20%0A%20%20%20%20%20%20%20%20%20%20%20%20var%20icon_85a17ac81bcb4f75abe6e03fffd2ba7f%20%3D%20L.AwesomeMarkers.icon%28%0A%20%20%20%20%20%20%20%20%20%20%20%20%20%20%20%20%7B%22extraClasses%22%3A%20%22fa-rotate-0%22%2C%20%22icon%22%3A%20%22info-sign%22%2C%20%22iconColor%22%3A%20%22white%22%2C%20%22markerColor%22%3A%20%22green%22%2C%20%22prefix%22%3A%20%22glyphicon%22%7D%0A%20%20%20%20%20%20%20%20%20%20%20%20%29%3B%0A%20%20%20%20%20%20%20%20%20%20%20%20marker_f83ad3cc49de40d89a4059eab976ef06.setIcon%28icon_85a17ac81bcb4f75abe6e03fffd2ba7f%29%3B%0A%20%20%20%20%20%20%20%20%0A%20%20%20%20%0A%20%20%20%20%20%20%20%20var%20popup_8b96a51a2b18447dbd277366dfb1e7b3%20%3D%20L.popup%28%7B%22maxWidth%22%3A%20%22100%25%22%7D%29%3B%0A%0A%20%20%20%20%20%20%20%20%0A%20%20%20%20%20%20%20%20%20%20%20%20var%20html_9f308ae994ca4821a22c6a514c009d13%20%3D%20%24%28%60%3Cdiv%20id%3D%22html_9f308ae994ca4821a22c6a514c009d13%22%20style%3D%22width%3A%20100.0%25%3B%20height%3A%20100.0%25%3B%22%3ELaurel%20Street%20Indoors%3C/div%3E%60%29%5B0%5D%3B%0A%20%20%20%20%20%20%20%20%20%20%20%20popup_8b96a51a2b18447dbd277366dfb1e7b3.setContent%28html_9f308ae994ca4821a22c6a514c009d13%29%3B%0A%20%20%20%20%20%20%20%20%0A%0A%20%20%20%20%20%20%20%20marker_f83ad3cc49de40d89a4059eab976ef06.bindPopup%28popup_8b96a51a2b18447dbd277366dfb1e7b3%29%0A%20%20%20%20%20%20%20%20%3B%0A%0A%20%20%20%20%20%20%20%20%0A%20%20%20%20%0A%20%20%20%20%0A%20%20%20%20%20%20%20%20%20%20%20%20var%20marker_f828dd861e4945739507321cf809681d%20%3D%20L.marker%28%0A%20%20%20%20%20%20%20%20%20%20%20%20%20%20%20%20%5B29.797358%2C%20-95.489989%5D%2C%0A%20%20%20%20%20%20%20%20%20%20%20%20%20%20%20%20%7B%7D%0A%20%20%20%20%20%20%20%20%20%20%20%20%29.addTo%28map_14946c2593d6482f806c4679c0102a58%29%3B%0A%20%20%20%20%20%20%20%20%0A%20%20%20%20%0A%20%20%20%20%20%20%20%20%20%20%20%20var%20icon_5c0b169f53ba4c4492ad79c8af578312%20%3D%20L.AwesomeMarkers.icon%28%0A%20%20%20%20%20%20%20%20%20%20%20%20%20%20%20%20%7B%22extraClasses%22%3A%20%22fa-rotate-0%22%2C%20%22icon%22%3A%20%22info-sign%22%2C%20%22iconColor%22%3A%20%22white%22%2C%20%22markerColor%22%3A%20%22green%22%2C%20%22prefix%22%3A%20%22glyphicon%22%7D%0A%20%20%20%20%20%20%20%20%20%20%20%20%29%3B%0A%20%20%20%20%20%20%20%20%20%20%20%20marker_f828dd861e4945739507321cf809681d.setIcon%28icon_5c0b169f53ba4c4492ad79c8af578312%29%3B%0A%20%20%20%20%20%20%20%20%0A%20%20%20%20%0A%20%20%20%20%20%20%20%20var%20popup_c9a4c47f812b426d827aaa95d66163d3%20%3D%20L.popup%28%7B%22maxWidth%22%3A%20%22100%25%22%7D%29%3B%0A%0A%20%20%20%20%20%20%20%20%0A%20%20%20%20%20%20%20%20%20%20%20%20var%20html_655cca82018d400cb4e6e7a7023843ff%20%3D%20%24%28%60%3Cdiv%20id%3D%22html_655cca82018d400cb4e6e7a7023843ff%22%20style%3D%22width%3A%20100.0%25%3B%20height%3A%20100.0%25%3B%22%3EMonarch%3C/div%3E%60%29%5B0%5D%3B%0A%20%20%20%20%20%20%20%20%20%20%20%20popup_c9a4c47f812b426d827aaa95d66163d3.setContent%28html_655cca82018d400cb4e6e7a7023843ff%29%3B%0A%20%20%20%20%20%20%20%20%0A%0A%20%20%20%20%20%20%20%20marker_f828dd861e4945739507321cf809681d.bindPopup%28popup_c9a4c47f812b426d827aaa95d66163d3%29%0A%20%20%20%20%20%20%20%20%3B%0A%0A%20%20%20%20%20%20%20%20%0A%20%20%20%20%0A%20%20%20%20%0A%20%20%20%20%20%20%20%20%20%20%20%20var%20marker_c3884d4a5ab94267bf6c21b9ecd99d40%20%3D%20L.marker%28%0A%20%20%20%20%20%20%20%20%20%20%20%20%20%20%20%20%5B29.737535%2C%20-95.406967%5D%2C%0A%20%20%20%20%20%20%20%20%20%20%20%20%20%20%20%20%7B%7D%0A%20%20%20%20%20%20%20%20%20%20%20%20%29.addTo%28map_14946c2593d6482f806c4679c0102a58%29%3B%0A%20%20%20%20%20%20%20%20%0A%20%20%20%20%0A%20%20%20%20%20%20%20%20%20%20%20%20var%20icon_b5d3072e3abf46e0aceec53490e12967%20%3D%20L.AwesomeMarkers.icon%28%0A%20%20%20%20%20%20%20%20%20%20%20%20%20%20%20%20%7B%22extraClasses%22%3A%20%22fa-rotate-0%22%2C%20%22icon%22%3A%20%22info-sign%22%2C%20%22iconColor%22%3A%20%22white%22%2C%20%22markerColor%22%3A%20%22green%22%2C%20%22prefix%22%3A%20%22glyphicon%22%7D%0A%20%20%20%20%20%20%20%20%20%20%20%20%29%3B%0A%20%20%20%20%20%20%20%20%20%20%20%20marker_c3884d4a5ab94267bf6c21b9ecd99d40.setIcon%28icon_b5d3072e3abf46e0aceec53490e12967%29%3B%0A%20%20%20%20%20%20%20%20%0A%20%20%20%20%0A%20%20%20%20%20%20%20%20var%20popup_eff07f24962f4f37937d6e40f91fc2ca%20%3D%20L.popup%28%7B%22maxWidth%22%3A%20%22100%25%22%7D%29%3B%0A%0A%20%20%20%20%20%20%20%20%0A%20%20%20%20%20%20%20%20%20%20%20%20var%20html_ad8b03f017f94c92bb5825ea046ae6e9%20%3D%20%24%28%60%3Cdiv%20id%3D%22html_ad8b03f017f94c92bb5825ea046ae6e9%22%20style%3D%22width%3A%20100.0%25%3B%20height%3A%20100.0%25%3B%22%3EMuseum%20District%3C/div%3E%60%29%5B0%5D%3B%0A%20%20%20%20%20%20%20%20%20%20%20%20popup_eff07f24962f4f37937d6e40f91fc2ca.setContent%28html_ad8b03f017f94c92bb5825ea046ae6e9%29%3B%0A%20%20%20%20%20%20%20%20%0A%0A%20%20%20%20%20%20%20%20marker_c3884d4a5ab94267bf6c21b9ecd99d40.bindPopup%28popup_eff07f24962f4f37937d6e40f91fc2ca%29%0A%20%20%20%20%20%20%20%20%3B%0A%0A%20%20%20%20%20%20%20%20%0A%20%20%20%20%0A%20%20%20%20%0A%20%20%20%20%20%20%20%20%20%20%20%20var%20marker_577fc7d5c0494bf690c856b22095ba0f%20%3D%20L.marker%28%0A%20%20%20%20%20%20%20%20%20%20%20%20%20%20%20%20%5B29.778682%2C%20-95.3505%5D%2C%0A%20%20%20%20%20%20%20%20%20%20%20%20%20%20%20%20%7B%7D%0A%20%20%20%20%20%20%20%20%20%20%20%20%29.addTo%28map_14946c2593d6482f806c4679c0102a58%29%3B%0A%20%20%20%20%20%20%20%20%0A%20%20%20%20%0A%20%20%20%20%20%20%20%20%20%20%20%20var%20icon_0a65eefa20d04aaba03ed5082b741ee8%20%3D%20L.AwesomeMarkers.icon%28%0A%20%20%20%20%20%20%20%20%20%20%20%20%20%20%20%20%7B%22extraClasses%22%3A%20%22fa-rotate-0%22%2C%20%22icon%22%3A%20%22info-sign%22%2C%20%22iconColor%22%3A%20%22white%22%2C%20%22markerColor%22%3A%20%22green%22%2C%20%22prefix%22%3A%20%22glyphicon%22%7D%0A%20%20%20%20%20%20%20%20%20%20%20%20%29%3B%0A%20%20%20%20%20%20%20%20%20%20%20%20marker_577fc7d5c0494bf690c856b22095ba0f.setIcon%28icon_0a65eefa20d04aaba03ed5082b741ee8%29%3B%0A%20%20%20%20%20%20%20%20%0A%20%20%20%20%0A%20%20%20%20%20%20%20%20var%20popup_7a419c8ec473484292c966ab6e749f37%20%3D%20L.popup%28%7B%22maxWidth%22%3A%20%22100%25%22%7D%29%3B%0A%0A%20%20%20%20%20%20%20%20%0A%20%20%20%20%20%20%20%20%20%20%20%20var%20html_72e24e9fa95c4bf891c423df9be92460%20%3D%20%24%28%60%3Cdiv%20id%3D%22html_72e24e9fa95c4bf891c423df9be92460%22%20style%3D%22width%3A%20100.0%25%3B%20height%3A%20100.0%25%3B%22%3ENear%20Northside%20Houston%3C/div%3E%60%29%5B0%5D%3B%0A%20%20%20%20%20%20%20%20%20%20%20%20popup_7a419c8ec473484292c966ab6e749f37.setContent%28html_72e24e9fa95c4bf891c423df9be92460%29%3B%0A%20%20%20%20%20%20%20%20%0A%0A%20%20%20%20%20%20%20%20marker_577fc7d5c0494bf690c856b22095ba0f.bindPopup%28popup_7a419c8ec473484292c966ab6e749f37%29%0A%20%20%20%20%20%20%20%20%3B%0A%0A%20%20%20%20%20%20%20%20%0A%20%20%20%20%0A%20%20%20%20%0A%20%20%20%20%20%20%20%20%20%20%20%20var%20marker_d3b198f768944914886958902c3580ec%20%3D%20L.marker%28%0A%20%20%20%20%20%20%20%20%20%20%20%20%20%20%20%20%5B29.723649%2C%20-95.420642%5D%2C%0A%20%20%20%20%20%20%20%20%20%20%20%20%20%20%20%20%7B%7D%0A%20%20%20%20%20%20%20%20%20%20%20%20%29.addTo%28map_14946c2593d6482f806c4679c0102a58%29%3B%0A%20%20%20%20%20%20%20%20%0A%20%20%20%20%0A%20%20%20%20%20%20%20%20%20%20%20%20var%20icon_a7822e3ef04b4ac7978845522fc3dcf1%20%3D%20L.AwesomeMarkers.icon%28%0A%20%20%20%20%20%20%20%20%20%20%20%20%20%20%20%20%7B%22extraClasses%22%3A%20%22fa-rotate-0%22%2C%20%22icon%22%3A%20%22info-sign%22%2C%20%22iconColor%22%3A%20%22white%22%2C%20%22markerColor%22%3A%20%22green%22%2C%20%22prefix%22%3A%20%22glyphicon%22%7D%0A%20%20%20%20%20%20%20%20%20%20%20%20%29%3B%0A%20%20%20%20%20%20%20%20%20%20%20%20marker_d3b198f768944914886958902c3580ec.setIcon%28icon_a7822e3ef04b4ac7978845522fc3dcf1%29%3B%0A%20%20%20%20%20%20%20%20%0A%20%20%20%20%0A%20%20%20%20%20%20%20%20var%20popup_896529d45a454636bd92c568f91e0237%20%3D%20L.popup%28%7B%22maxWidth%22%3A%20%22100%25%22%7D%29%3B%0A%0A%20%20%20%20%20%20%20%20%0A%20%20%20%20%20%20%20%20%20%20%20%20var%20html_2108e19d023e485a9990d7a261faf03e%20%3D%20%24%28%60%3Cdiv%20id%3D%22html_2108e19d023e485a9990d7a261faf03e%22%20style%3D%22width%3A%20100.0%25%3B%20height%3A%20100.0%25%3B%22%3ENortheast%20West%20U%3C/div%3E%60%29%5B0%5D%3B%0A%20%20%20%20%20%20%20%20%20%20%20%20popup_896529d45a454636bd92c568f91e0237.setContent%28html_2108e19d023e485a9990d7a261faf03e%29%3B%0A%20%20%20%20%20%20%20%20%0A%0A%20%20%20%20%20%20%20%20marker_d3b198f768944914886958902c3580ec.bindPopup%28popup_896529d45a454636bd92c568f91e0237%29%0A%20%20%20%20%20%20%20%20%3B%0A%0A%20%20%20%20%20%20%20%20%0A%20%20%20%20%0A%20%20%20%20%0A%20%20%20%20%20%20%20%20%20%20%20%20var%20marker_71586d80f7f04aaeaa526d76ac14384f%20%3D%20L.marker%28%0A%20%20%20%20%20%20%20%20%20%20%20%20%20%20%20%20%5B29.557082%2C%20-95.740333%5D%2C%0A%20%20%20%20%20%20%20%20%20%20%20%20%20%20%20%20%7B%7D%0A%20%20%20%20%20%20%20%20%20%20%20%20%29.addTo%28map_14946c2593d6482f806c4679c0102a58%29%3B%0A%20%20%20%20%20%20%20%20%0A%20%20%20%20%0A%20%20%20%20%20%20%20%20%20%20%20%20var%20icon_b127588f594d4309941bcc731d281b22%20%3D%20L.AwesomeMarkers.icon%28%0A%20%20%20%20%20%20%20%20%20%20%20%20%20%20%20%20%7B%22extraClasses%22%3A%20%22fa-rotate-0%22%2C%20%22icon%22%3A%20%22info-sign%22%2C%20%22iconColor%22%3A%20%22white%22%2C%20%22markerColor%22%3A%20%22green%22%2C%20%22prefix%22%3A%20%22glyphicon%22%7D%0A%20%20%20%20%20%20%20%20%20%20%20%20%29%3B%0A%20%20%20%20%20%20%20%20%20%20%20%20marker_71586d80f7f04aaeaa526d76ac14384f.setIcon%28icon_b127588f594d4309941bcc731d281b22%29%3B%0A%20%20%20%20%20%20%20%20%0A%20%20%20%20%0A%20%20%20%20%20%20%20%20var%20popup_adabcef21459477097422d33953abed8%20%3D%20L.popup%28%7B%22maxWidth%22%3A%20%22100%25%22%7D%29%3B%0A%0A%20%20%20%20%20%20%20%20%0A%20%20%20%20%20%20%20%20%20%20%20%20var%20html_a7a94f626c684501b906586e3754d4d8%20%3D%20%24%28%60%3Cdiv%20id%3D%22html_a7a94f626c684501b906586e3754d4d8%22%20style%3D%22width%3A%20100.0%25%3B%20height%3A%20100.0%25%3B%22%3EPhil%20at%20Sweetgrass%20in%20Richmond%3C/div%3E%60%29%5B0%5D%3B%0A%20%20%20%20%20%20%20%20%20%20%20%20popup_adabcef21459477097422d33953abed8.setContent%28html_a7a94f626c684501b906586e3754d4d8%29%3B%0A%20%20%20%20%20%20%20%20%0A%0A%20%20%20%20%20%20%20%20marker_71586d80f7f04aaeaa526d76ac14384f.bindPopup%28popup_adabcef21459477097422d33953abed8%29%0A%20%20%20%20%20%20%20%20%3B%0A%0A%20%20%20%20%20%20%20%20%0A%20%20%20%20%0A%20%20%20%20%0A%20%20%20%20%20%20%20%20%20%20%20%20var%20marker_84ad8b235e2e4b3bb36d607a9e8c3824%20%3D%20L.marker%28%0A%20%20%20%20%20%20%20%20%20%20%20%20%20%20%20%20%5B29.76556%2C%20-95.413945%5D%2C%0A%20%20%20%20%20%20%20%20%20%20%20%20%20%20%20%20%7B%7D%0A%20%20%20%20%20%20%20%20%20%20%20%20%29.addTo%28map_14946c2593d6482f806c4679c0102a58%29%3B%0A%20%20%20%20%20%20%20%20%0A%20%20%20%20%0A%20%20%20%20%20%20%20%20%20%20%20%20var%20icon_6252a8e53fb647abaddb89678975ae60%20%3D%20L.AwesomeMarkers.icon%28%0A%20%20%20%20%20%20%20%20%20%20%20%20%20%20%20%20%7B%22extraClasses%22%3A%20%22fa-rotate-0%22%2C%20%22icon%22%3A%20%22info-sign%22%2C%20%22iconColor%22%3A%20%22white%22%2C%20%22markerColor%22%3A%20%22green%22%2C%20%22prefix%22%3A%20%22glyphicon%22%7D%0A%20%20%20%20%20%20%20%20%20%20%20%20%29%3B%0A%20%20%20%20%20%20%20%20%20%20%20%20marker_84ad8b235e2e4b3bb36d607a9e8c3824.setIcon%28icon_6252a8e53fb647abaddb89678975ae60%29%3B%0A%20%20%20%20%20%20%20%20%0A%20%20%20%20%0A%20%20%20%20%20%20%20%20var%20popup_fb3a36b1ace046fdb72ac5ed27c43465%20%3D%20L.popup%28%7B%22maxWidth%22%3A%20%22100%25%22%7D%29%3B%0A%0A%20%20%20%20%20%20%20%20%0A%20%20%20%20%20%20%20%20%20%20%20%20var%20html_89be2c5525554f628f83c56079d442f7%20%3D%20%24%28%60%3Cdiv%20id%3D%22html_89be2c5525554f628f83c56079d442f7%22%20style%3D%22width%3A%20100.0%25%3B%20height%3A%20100.0%25%3B%22%3ERice%20Military%20Div%3C/div%3E%60%29%5B0%5D%3B%0A%20%20%20%20%20%20%20%20%20%20%20%20popup_fb3a36b1ace046fdb72ac5ed27c43465.setContent%28html_89be2c5525554f628f83c56079d442f7%29%3B%0A%20%20%20%20%20%20%20%20%0A%0A%20%20%20%20%20%20%20%20marker_84ad8b235e2e4b3bb36d607a9e8c3824.bindPopup%28popup_fb3a36b1ace046fdb72ac5ed27c43465%29%0A%20%20%20%20%20%20%20%20%3B%0A%0A%20%20%20%20%20%20%20%20%0A%20%20%20%20%0A%20%20%20%20%0A%20%20%20%20%20%20%20%20%20%20%20%20var%20marker_ad50705f4f3c4393b466af980591ea76%20%3D%20L.marker%28%0A%20%20%20%20%20%20%20%20%20%20%20%20%20%20%20%20%5B29.73305%2C%20-95.585685%5D%2C%0A%20%20%20%20%20%20%20%20%20%20%20%20%20%20%20%20%7B%7D%0A%20%20%20%20%20%20%20%20%20%20%20%20%29.addTo%28map_14946c2593d6482f806c4679c0102a58%29%3B%0A%20%20%20%20%20%20%20%20%0A%20%20%20%20%0A%20%20%20%20%20%20%20%20%20%20%20%20var%20icon_9c5cb2e0294645f9b1dcf5781106d069%20%3D%20L.AwesomeMarkers.icon%28%0A%20%20%20%20%20%20%20%20%20%20%20%20%20%20%20%20%7B%22extraClasses%22%3A%20%22fa-rotate-0%22%2C%20%22icon%22%3A%20%22info-sign%22%2C%20%22iconColor%22%3A%20%22white%22%2C%20%22markerColor%22%3A%20%22green%22%2C%20%22prefix%22%3A%20%22glyphicon%22%7D%0A%20%20%20%20%20%20%20%20%20%20%20%20%29%3B%0A%20%20%20%20%20%20%20%20%20%20%20%20marker_ad50705f4f3c4393b466af980591ea76.setIcon%28icon_9c5cb2e0294645f9b1dcf5781106d069%29%3B%0A%20%20%20%20%20%20%20%20%0A%20%20%20%20%0A%20%20%20%20%20%20%20%20var%20popup_4f291f2b0f0f4a81ad2d5bcb9d325554%20%3D%20L.popup%28%7B%22maxWidth%22%3A%20%22100%25%22%7D%29%3B%0A%0A%20%20%20%20%20%20%20%20%0A%20%20%20%20%20%20%20%20%20%20%20%20var%20html_feeca540c4564d3a955d465d8b60ca3b%20%3D%20%24%28%60%3Cdiv%20id%3D%22html_feeca540c4564d3a955d465d8b60ca3b%22%20style%3D%22width%3A%20100.0%25%3B%20height%3A%20100.0%25%3B%22%3ERoyal%20Oaks%20Houston%20Tx%20-%20Inside%3C/div%3E%60%29%5B0%5D%3B%0A%20%20%20%20%20%20%20%20%20%20%20%20popup_4f291f2b0f0f4a81ad2d5bcb9d325554.setContent%28html_feeca540c4564d3a955d465d8b60ca3b%29%3B%0A%20%20%20%20%20%20%20%20%0A%0A%20%20%20%20%20%20%20%20marker_ad50705f4f3c4393b466af980591ea76.bindPopup%28popup_4f291f2b0f0f4a81ad2d5bcb9d325554%29%0A%20%20%20%20%20%20%20%20%3B%0A%0A%20%20%20%20%20%20%20%20%0A%20%20%20%20%0A%20%20%20%20%0A%20%20%20%20%20%20%20%20%20%20%20%20var%20marker_3817ef43060c4b7aba16df7406ad389c%20%3D%20L.marker%28%0A%20%20%20%20%20%20%20%20%20%20%20%20%20%20%20%20%5B29.73305%2C%20-95.585685%5D%2C%0A%20%20%20%20%20%20%20%20%20%20%20%20%20%20%20%20%7B%7D%0A%20%20%20%20%20%20%20%20%20%20%20%20%29.addTo%28map_14946c2593d6482f806c4679c0102a58%29%3B%0A%20%20%20%20%20%20%20%20%0A%20%20%20%20%0A%20%20%20%20%20%20%20%20%20%20%20%20var%20icon_a642a1e5b8254e2cb50ad85d69a9902b%20%3D%20L.AwesomeMarkers.icon%28%0A%20%20%20%20%20%20%20%20%20%20%20%20%20%20%20%20%7B%22extraClasses%22%3A%20%22fa-rotate-0%22%2C%20%22icon%22%3A%20%22info-sign%22%2C%20%22iconColor%22%3A%20%22white%22%2C%20%22markerColor%22%3A%20%22green%22%2C%20%22prefix%22%3A%20%22glyphicon%22%7D%0A%20%20%20%20%20%20%20%20%20%20%20%20%29%3B%0A%20%20%20%20%20%20%20%20%20%20%20%20marker_3817ef43060c4b7aba16df7406ad389c.setIcon%28icon_a642a1e5b8254e2cb50ad85d69a9902b%29%3B%0A%20%20%20%20%20%20%20%20%0A%20%20%20%20%0A%20%20%20%20%20%20%20%20var%20popup_646e833326fd45a8bbabd6b7541e76de%20%3D%20L.popup%28%7B%22maxWidth%22%3A%20%22100%25%22%7D%29%3B%0A%0A%20%20%20%20%20%20%20%20%0A%20%20%20%20%20%20%20%20%20%20%20%20var%20html_84d2eaef6c0c4428a0f3aa6c2a8414ff%20%3D%20%24%28%60%3Cdiv%20id%3D%22html_84d2eaef6c0c4428a0f3aa6c2a8414ff%22%20style%3D%22width%3A%20100.0%25%3B%20height%3A%20100.0%25%3B%22%3ERoyal%20Oaks%20Houston%20Tx%20-%20Outside%3C/div%3E%60%29%5B0%5D%3B%0A%20%20%20%20%20%20%20%20%20%20%20%20popup_646e833326fd45a8bbabd6b7541e76de.setContent%28html_84d2eaef6c0c4428a0f3aa6c2a8414ff%29%3B%0A%20%20%20%20%20%20%20%20%0A%0A%20%20%20%20%20%20%20%20marker_3817ef43060c4b7aba16df7406ad389c.bindPopup%28popup_646e833326fd45a8bbabd6b7541e76de%29%0A%20%20%20%20%20%20%20%20%3B%0A%0A%20%20%20%20%20%20%20%20%0A%20%20%20%20%0A%20%20%20%20%0A%20%20%20%20%20%20%20%20%20%20%20%20var%20marker_b3e3970e71a54ea59e5a99d1f3b994a7%20%3D%20L.marker%28%0A%20%20%20%20%20%20%20%20%20%20%20%20%20%20%20%20%5B29.601254%2C%20-94.99246%5D%2C%0A%20%20%20%20%20%20%20%20%20%20%20%20%20%20%20%20%7B%7D%0A%20%20%20%20%20%20%20%20%20%20%20%20%29.addTo%28map_14946c2593d6482f806c4679c0102a58%29%3B%0A%20%20%20%20%20%20%20%20%0A%20%20%20%20%0A%20%20%20%20%20%20%20%20%20%20%20%20var%20icon_ff8be64c4e4d49b9ba053e443d8e18f5%20%3D%20L.AwesomeMarkers.icon%28%0A%20%20%20%20%20%20%20%20%20%20%20%20%20%20%20%20%7B%22extraClasses%22%3A%20%22fa-rotate-0%22%2C%20%22icon%22%3A%20%22info-sign%22%2C%20%22iconColor%22%3A%20%22white%22%2C%20%22markerColor%22%3A%20%22green%22%2C%20%22prefix%22%3A%20%22glyphicon%22%7D%0A%20%20%20%20%20%20%20%20%20%20%20%20%29%3B%0A%20%20%20%20%20%20%20%20%20%20%20%20marker_b3e3970e71a54ea59e5a99d1f3b994a7.setIcon%28icon_ff8be64c4e4d49b9ba053e443d8e18f5%29%3B%0A%20%20%20%20%20%20%20%20%0A%20%20%20%20%0A%20%20%20%20%20%20%20%20var%20popup_a9b90365484f4089a0082e82eddddb97%20%3D%20L.popup%28%7B%22maxWidth%22%3A%20%22100%25%22%7D%29%3B%0A%0A%20%20%20%20%20%20%20%20%0A%20%20%20%20%20%20%20%20%20%20%20%20var%20html_9cba5332a8c44ce1a51e8b6d28968fac%20%3D%20%24%28%60%3Cdiv%20id%3D%22html_9cba5332a8c44ce1a51e8b6d28968fac%22%20style%3D%22width%3A%20100.0%25%3B%20height%3A%20100.0%25%3B%22%3ESchottel%20House%3C/div%3E%60%29%5B0%5D%3B%0A%20%20%20%20%20%20%20%20%20%20%20%20popup_a9b90365484f4089a0082e82eddddb97.setContent%28html_9cba5332a8c44ce1a51e8b6d28968fac%29%3B%0A%20%20%20%20%20%20%20%20%0A%0A%20%20%20%20%20%20%20%20marker_b3e3970e71a54ea59e5a99d1f3b994a7.bindPopup%28popup_a9b90365484f4089a0082e82eddddb97%29%0A%20%20%20%20%20%20%20%20%3B%0A%0A%20%20%20%20%20%20%20%20%0A%20%20%20%20%0A%20%20%20%20%0A%20%20%20%20%20%20%20%20%20%20%20%20var%20marker_ccca2a7465e042bf85b24c2f01d4cf16%20%3D%20L.marker%28%0A%20%20%20%20%20%20%20%20%20%20%20%20%20%20%20%20%5B29.582296%2C%20-95.044651%5D%2C%0A%20%20%20%20%20%20%20%20%20%20%20%20%20%20%20%20%7B%7D%0A%20%20%20%20%20%20%20%20%20%20%20%20%29.addTo%28map_14946c2593d6482f806c4679c0102a58%29%3B%0A%20%20%20%20%20%20%20%20%0A%20%20%20%20%0A%20%20%20%20%20%20%20%20%20%20%20%20var%20icon_b4ba8e2f5185456a899d9b42e87d1d67%20%3D%20L.AwesomeMarkers.icon%28%0A%20%20%20%20%20%20%20%20%20%20%20%20%20%20%20%20%7B%22extraClasses%22%3A%20%22fa-rotate-0%22%2C%20%22icon%22%3A%20%22info-sign%22%2C%20%22iconColor%22%3A%20%22white%22%2C%20%22markerColor%22%3A%20%22green%22%2C%20%22prefix%22%3A%20%22glyphicon%22%7D%0A%20%20%20%20%20%20%20%20%20%20%20%20%29%3B%0A%20%20%20%20%20%20%20%20%20%20%20%20marker_ccca2a7465e042bf85b24c2f01d4cf16.setIcon%28icon_b4ba8e2f5185456a899d9b42e87d1d67%29%3B%0A%20%20%20%20%20%20%20%20%0A%20%20%20%20%0A%20%20%20%20%20%20%20%20var%20popup_18c0545721c94bdcaf78de1e4caad021%20%3D%20L.popup%28%7B%22maxWidth%22%3A%20%22100%25%22%7D%29%3B%0A%0A%20%20%20%20%20%20%20%20%0A%20%20%20%20%20%20%20%20%20%20%20%20var%20html_f129d5b41ab54b8b906f8b587b2ad8b7%20%3D%20%24%28%60%3Cdiv%20id%3D%22html_f129d5b41ab54b8b906f8b587b2ad8b7%22%20style%3D%22width%3A%20100.0%25%3B%20height%3A%20100.0%25%3B%22%3ESeabrook%20Island%3C/div%3E%60%29%5B0%5D%3B%0A%20%20%20%20%20%20%20%20%20%20%20%20popup_18c0545721c94bdcaf78de1e4caad021.setContent%28html_f129d5b41ab54b8b906f8b587b2ad8b7%29%3B%0A%20%20%20%20%20%20%20%20%0A%0A%20%20%20%20%20%20%20%20marker_ccca2a7465e042bf85b24c2f01d4cf16.bindPopup%28popup_18c0545721c94bdcaf78de1e4caad021%29%0A%20%20%20%20%20%20%20%20%3B%0A%0A%20%20%20%20%20%20%20%20%0A%20%20%20%20%0A%20%20%20%20%0A%20%20%20%20%20%20%20%20%20%20%20%20var%20marker_d55d97d9a7384b22bc8d75d5b4bdfe9f%20%3D%20L.marker%28%0A%20%20%20%20%20%20%20%20%20%20%20%20%20%20%20%20%5B29.799163%2C%20-95.416531%5D%2C%0A%20%20%20%20%20%20%20%20%20%20%20%20%20%20%20%20%7B%7D%0A%20%20%20%20%20%20%20%20%20%20%20%20%29.addTo%28map_14946c2593d6482f806c4679c0102a58%29%3B%0A%20%20%20%20%20%20%20%20%0A%20%20%20%20%0A%20%20%20%20%20%20%20%20%20%20%20%20var%20icon_07aca823d2e042de9713741cd97da12b%20%3D%20L.AwesomeMarkers.icon%28%0A%20%20%20%20%20%20%20%20%20%20%20%20%20%20%20%20%7B%22extraClasses%22%3A%20%22fa-rotate-0%22%2C%20%22icon%22%3A%20%22info-sign%22%2C%20%22iconColor%22%3A%20%22white%22%2C%20%22markerColor%22%3A%20%22green%22%2C%20%22prefix%22%3A%20%22glyphicon%22%7D%0A%20%20%20%20%20%20%20%20%20%20%20%20%29%3B%0A%20%20%20%20%20%20%20%20%20%20%20%20marker_d55d97d9a7384b22bc8d75d5b4bdfe9f.setIcon%28icon_07aca823d2e042de9713741cd97da12b%29%3B%0A%20%20%20%20%20%20%20%20%0A%20%20%20%20%0A%20%20%20%20%20%20%20%20var%20popup_cfeb6bce654e4454941bd3336075a187%20%3D%20L.popup%28%7B%22maxWidth%22%3A%20%22100%25%22%7D%29%3B%0A%0A%20%20%20%20%20%20%20%20%0A%20%20%20%20%20%20%20%20%20%20%20%20var%20html_521f05ff2ad34b0eac9593f15d596b2f%20%3D%20%24%28%60%3Cdiv%20id%3D%22html_521f05ff2ad34b0eac9593f15d596b2f%22%20style%3D%22width%3A%20100.0%25%3B%20height%3A%20100.0%25%3B%22%3EShady%20Acres%20%3C/div%3E%60%29%5B0%5D%3B%0A%20%20%20%20%20%20%20%20%20%20%20%20popup_cfeb6bce654e4454941bd3336075a187.setContent%28html_521f05ff2ad34b0eac9593f15d596b2f%29%3B%0A%20%20%20%20%20%20%20%20%0A%0A%20%20%20%20%20%20%20%20marker_d55d97d9a7384b22bc8d75d5b4bdfe9f.bindPopup%28popup_cfeb6bce654e4454941bd3336075a187%29%0A%20%20%20%20%20%20%20%20%3B%0A%0A%20%20%20%20%20%20%20%20%0A%20%20%20%20%0A%20%20%20%20%0A%20%20%20%20%20%20%20%20%20%20%20%20var%20marker_a61d35ccb1734395aded380bb9b76b15%20%3D%20L.marker%28%0A%20%20%20%20%20%20%20%20%20%20%20%20%20%20%20%20%5B29.77074%2C%20-95.370056%5D%2C%0A%20%20%20%20%20%20%20%20%20%20%20%20%20%20%20%20%7B%7D%0A%20%20%20%20%20%20%20%20%20%20%20%20%29.addTo%28map_14946c2593d6482f806c4679c0102a58%29%3B%0A%20%20%20%20%20%20%20%20%0A%20%20%20%20%0A%20%20%20%20%20%20%20%20%20%20%20%20var%20icon_6b930dc05f5f497aba468a1c4ac9b3d6%20%3D%20L.AwesomeMarkers.icon%28%0A%20%20%20%20%20%20%20%20%20%20%20%20%20%20%20%20%7B%22extraClasses%22%3A%20%22fa-rotate-0%22%2C%20%22icon%22%3A%20%22info-sign%22%2C%20%22iconColor%22%3A%20%22white%22%2C%20%22markerColor%22%3A%20%22green%22%2C%20%22prefix%22%3A%20%22glyphicon%22%7D%0A%20%20%20%20%20%20%20%20%20%20%20%20%29%3B%0A%20%20%20%20%20%20%20%20%20%20%20%20marker_a61d35ccb1734395aded380bb9b76b15.setIcon%28icon_6b930dc05f5f497aba468a1c4ac9b3d6%29%3B%0A%20%20%20%20%20%20%20%20%0A%20%20%20%20%0A%20%20%20%20%20%20%20%20var%20popup_d0a06fbca9714c6291664d497f66860a%20%3D%20L.popup%28%7B%22maxWidth%22%3A%20%22100%25%22%7D%29%3B%0A%0A%20%20%20%20%20%20%20%20%0A%20%20%20%20%20%20%20%20%20%20%20%20var%20html_6338e8ed15d54beeb61dc8eafaa39050%20%3D%20%24%28%60%3Cdiv%20id%3D%22html_6338e8ed15d54beeb61dc8eafaa39050%22%20style%3D%22width%3A%20100.0%25%3B%20height%3A%20100.0%25%3B%22%3ETest%20First%20Ward%3C/div%3E%60%29%5B0%5D%3B%0A%20%20%20%20%20%20%20%20%20%20%20%20popup_d0a06fbca9714c6291664d497f66860a.setContent%28html_6338e8ed15d54beeb61dc8eafaa39050%29%3B%0A%20%20%20%20%20%20%20%20%0A%0A%20%20%20%20%20%20%20%20marker_a61d35ccb1734395aded380bb9b76b15.bindPopup%28popup_d0a06fbca9714c6291664d497f66860a%29%0A%20%20%20%20%20%20%20%20%3B%0A%0A%20%20%20%20%20%20%20%20%0A%20%20%20%20%0A%20%20%20%20%0A%20%20%20%20%20%20%20%20%20%20%20%20var%20marker_c22d977e2c70483194297eb4da33f7be%20%3D%20L.marker%28%0A%20%20%20%20%20%20%20%20%20%20%20%20%20%20%20%20%5B29.532282%2C%20-95.076473%5D%2C%0A%20%20%20%20%20%20%20%20%20%20%20%20%20%20%20%20%7B%7D%0A%20%20%20%20%20%20%20%20%20%20%20%20%29.addTo%28map_14946c2593d6482f806c4679c0102a58%29%3B%0A%20%20%20%20%20%20%20%20%0A%20%20%20%20%0A%20%20%20%20%20%20%20%20%20%20%20%20var%20icon_531c49b7acdc442fb382103bc063b35d%20%3D%20L.AwesomeMarkers.icon%28%0A%20%20%20%20%20%20%20%20%20%20%20%20%20%20%20%20%7B%22extraClasses%22%3A%20%22fa-rotate-0%22%2C%20%22icon%22%3A%20%22info-sign%22%2C%20%22iconColor%22%3A%20%22white%22%2C%20%22markerColor%22%3A%20%22green%22%2C%20%22prefix%22%3A%20%22glyphicon%22%7D%0A%20%20%20%20%20%20%20%20%20%20%20%20%29%3B%0A%20%20%20%20%20%20%20%20%20%20%20%20marker_c22d977e2c70483194297eb4da33f7be.setIcon%28icon_531c49b7acdc442fb382103bc063b35d%29%3B%0A%20%20%20%20%20%20%20%20%0A%20%20%20%20%0A%20%20%20%20%20%20%20%20var%20popup_71920dd372604f8b9f3294eba1af86da%20%3D%20L.popup%28%7B%22maxWidth%22%3A%20%22100%25%22%7D%29%3B%0A%0A%20%20%20%20%20%20%20%20%0A%20%20%20%20%20%20%20%20%20%20%20%20var%20html_2bd525fb2c30462988a531f5907c94f5%20%3D%20%24%28%60%3Cdiv%20id%3D%22html_2bd525fb2c30462988a531f5907c94f5%22%20style%3D%22width%3A%20100.0%25%3B%20height%3A%20100.0%25%3B%22%3EThe%20Lakefront%3C/div%3E%60%29%5B0%5D%3B%0A%20%20%20%20%20%20%20%20%20%20%20%20popup_71920dd372604f8b9f3294eba1af86da.setContent%28html_2bd525fb2c30462988a531f5907c94f5%29%3B%0A%20%20%20%20%20%20%20%20%0A%0A%20%20%20%20%20%20%20%20marker_c22d977e2c70483194297eb4da33f7be.bindPopup%28popup_71920dd372604f8b9f3294eba1af86da%29%0A%20%20%20%20%20%20%20%20%3B%0A%0A%20%20%20%20%20%20%20%20%0A%20%20%20%20%0A%20%20%20%20%0A%20%20%20%20%20%20%20%20%20%20%20%20var%20marker_353cc4bf3b324fada2a6914bdea810eb%20%3D%20L.marker%28%0A%20%20%20%20%20%20%20%20%20%20%20%20%20%20%20%20%5B29.924318%2C%20-95.584526%5D%2C%0A%20%20%20%20%20%20%20%20%20%20%20%20%20%20%20%20%7B%7D%0A%20%20%20%20%20%20%20%20%20%20%20%20%29.addTo%28map_14946c2593d6482f806c4679c0102a58%29%3B%0A%20%20%20%20%20%20%20%20%0A%20%20%20%20%0A%20%20%20%20%20%20%20%20%20%20%20%20var%20icon_27f37d8de9784e6787e0c845e4edb1ef%20%3D%20L.AwesomeMarkers.icon%28%0A%20%20%20%20%20%20%20%20%20%20%20%20%20%20%20%20%7B%22extraClasses%22%3A%20%22fa-rotate-0%22%2C%20%22icon%22%3A%20%22info-sign%22%2C%20%22iconColor%22%3A%20%22white%22%2C%20%22markerColor%22%3A%20%22darkpurple%22%2C%20%22prefix%22%3A%20%22glyphicon%22%7D%0A%20%20%20%20%20%20%20%20%20%20%20%20%29%3B%0A%20%20%20%20%20%20%20%20%20%20%20%20marker_353cc4bf3b324fada2a6914bdea810eb.setIcon%28icon_27f37d8de9784e6787e0c845e4edb1ef%29%3B%0A%20%20%20%20%20%20%20%20%0A%20%20%20%20%0A%20%20%20%20%20%20%20%20var%20popup_3d3c9bdff2ea43c696811d8655a231ec%20%3D%20L.popup%28%7B%22maxWidth%22%3A%20%22100%25%22%7D%29%3B%0A%0A%20%20%20%20%20%20%20%20%0A%20%20%20%20%20%20%20%20%20%20%20%20var%20html_28e544ef57be444e9b845bb7dc611fc8%20%3D%20%24%28%60%3Cdiv%20id%3D%22html_28e544ef57be444e9b845bb7dc611fc8%22%20style%3D%22width%3A%20100.0%25%3B%20height%3A%20100.0%25%3B%22%3EWhite%20Oak%20Bend%3C/div%3E%60%29%5B0%5D%3B%0A%20%20%20%20%20%20%20%20%20%20%20%20popup_3d3c9bdff2ea43c696811d8655a231ec.setContent%28html_28e544ef57be444e9b845bb7dc611fc8%29%3B%0A%20%20%20%20%20%20%20%20%0A%0A%20%20%20%20%20%20%20%20marker_353cc4bf3b324fada2a6914bdea810eb.bindPopup%28popup_3d3c9bdff2ea43c696811d8655a231ec%29%0A%20%20%20%20%20%20%20%20%3B%0A%0A%20%20%20%20%20%20%20%20%0A%20%20%20%20%0A%20%20%20%20%0A%20%20%20%20%20%20%20%20%20%20%20%20var%20marker_b107a6b543414c69bd5522b16e19d04b%20%3D%20L.marker%28%0A%20%20%20%20%20%20%20%20%20%20%20%20%20%20%20%20%5B29.762896%2C%20-95.707644%5D%2C%0A%20%20%20%20%20%20%20%20%20%20%20%20%20%20%20%20%7B%7D%0A%20%20%20%20%20%20%20%20%20%20%20%20%29.addTo%28map_14946c2593d6482f806c4679c0102a58%29%3B%0A%20%20%20%20%20%20%20%20%0A%20%20%20%20%0A%20%20%20%20%20%20%20%20%20%20%20%20var%20icon_c5f66e4c3e3940e2a6972cc6e73c9311%20%3D%20L.AwesomeMarkers.icon%28%0A%20%20%20%20%20%20%20%20%20%20%20%20%20%20%20%20%7B%22extraClasses%22%3A%20%22fa-rotate-0%22%2C%20%22icon%22%3A%20%22info-sign%22%2C%20%22iconColor%22%3A%20%22white%22%2C%20%22markerColor%22%3A%20%22orange%22%2C%20%22prefix%22%3A%20%22glyphicon%22%7D%0A%20%20%20%20%20%20%20%20%20%20%20%20%29%3B%0A%20%20%20%20%20%20%20%20%20%20%20%20marker_b107a6b543414c69bd5522b16e19d04b.setIcon%28icon_c5f66e4c3e3940e2a6972cc6e73c9311%29%3B%0A%20%20%20%20%20%20%20%20%0A%20%20%20%20%0A%20%20%20%20%20%20%20%20var%20popup_62f063a034874680a21c95da84c7873f%20%3D%20L.popup%28%7B%22maxWidth%22%3A%20%22100%25%22%7D%29%3B%0A%0A%20%20%20%20%20%20%20%20%0A%20%20%20%20%20%20%20%20%20%20%20%20var%20html_f72a1534e72d49e29b4761c505f4ce7c%20%3D%20%24%28%60%3Cdiv%20id%3D%22html_f72a1534e72d49e29b4761c505f4ce7c%22%20style%3D%22width%3A%20100.0%25%3B%20height%3A%20100.0%25%3B%22%3EWindsor%20Park%3C/div%3E%60%29%5B0%5D%3B%0A%20%20%20%20%20%20%20%20%20%20%20%20popup_62f063a034874680a21c95da84c7873f.setContent%28html_f72a1534e72d49e29b4761c505f4ce7c%29%3B%0A%20%20%20%20%20%20%20%20%0A%0A%20%20%20%20%20%20%20%20marker_b107a6b543414c69bd5522b16e19d04b.bindPopup%28popup_62f063a034874680a21c95da84c7873f%29%0A%20%20%20%20%20%20%20%20%3B%0A%0A%20%20%20%20%20%20%20%20%0A%20%20%20%20%0A%20%20%20%20%0A%20%20%20%20%20%20%20%20%20%20%20%20var%20marker_293009f12c8b4b86a6af2bab9c1996d0%20%3D%20L.marker%28%0A%20%20%20%20%20%20%20%20%20%20%20%20%20%20%20%20%5B29.78264%2C%20-95.37274%5D%2C%0A%20%20%20%20%20%20%20%20%20%20%20%20%20%20%20%20%7B%7D%0A%20%20%20%20%20%20%20%20%20%20%20%20%29.addTo%28map_14946c2593d6482f806c4679c0102a58%29%3B%0A%20%20%20%20%20%20%20%20%0A%20%20%20%20%0A%20%20%20%20%20%20%20%20%20%20%20%20var%20icon_3db495337fd24d2795b65a0449fa99d0%20%3D%20L.AwesomeMarkers.icon%28%0A%20%20%20%20%20%20%20%20%20%20%20%20%20%20%20%20%7B%22extraClasses%22%3A%20%22fa-rotate-0%22%2C%20%22icon%22%3A%20%22info-sign%22%2C%20%22iconColor%22%3A%20%22white%22%2C%20%22markerColor%22%3A%20%22green%22%2C%20%22prefix%22%3A%20%22glyphicon%22%7D%0A%20%20%20%20%20%20%20%20%20%20%20%20%29%3B%0A%20%20%20%20%20%20%20%20%20%20%20%20marker_293009f12c8b4b86a6af2bab9c1996d0.setIcon%28icon_3db495337fd24d2795b65a0449fa99d0%29%3B%0A%20%20%20%20%20%20%20%20%0A%20%20%20%20%0A%20%20%20%20%20%20%20%20var%20popup_9ae6caa956cb4ab099f90c7e0e3135d5%20%3D%20L.popup%28%7B%22maxWidth%22%3A%20%22100%25%22%7D%29%3B%0A%0A%20%20%20%20%20%20%20%20%0A%20%20%20%20%20%20%20%20%20%20%20%20var%20html_b27652713c744b8fa8a31bbfb8d6b1db%20%3D%20%24%28%60%3Cdiv%20id%3D%22html_b27652713c744b8fa8a31bbfb8d6b1db%22%20style%3D%22width%3A%20100.0%25%3B%20height%3A%20100.0%25%3B%22%3EWoodland%20Heights%3C/div%3E%60%29%5B0%5D%3B%0A%20%20%20%20%20%20%20%20%20%20%20%20popup_9ae6caa956cb4ab099f90c7e0e3135d5.setContent%28html_b27652713c744b8fa8a31bbfb8d6b1db%29%3B%0A%20%20%20%20%20%20%20%20%0A%0A%20%20%20%20%20%20%20%20marker_293009f12c8b4b86a6af2bab9c1996d0.bindPopup%28popup_9ae6caa956cb4ab099f90c7e0e3135d5%29%0A%20%20%20%20%20%20%20%20%3B%0A%0A%20%20%20%20%20%20%20%20%0A%20%20%20%20%0A%20%20%20%20%0A%20%20%20%20%20%20%20%20%20%20%20%20var%20marker_2eaf57d97e1d40dea2b54b638b0e653c%20%3D%20L.marker%28%0A%20%20%20%20%20%20%20%20%20%20%20%20%20%20%20%20%5B29.762451%2C%20-95.46637%5D%2C%0A%20%20%20%20%20%20%20%20%20%20%20%20%20%20%20%20%7B%7D%0A%20%20%20%20%20%20%20%20%20%20%20%20%29.addTo%28map_14946c2593d6482f806c4679c0102a58%29%3B%0A%20%20%20%20%20%20%20%20%0A%20%20%20%20%0A%20%20%20%20%20%20%20%20%20%20%20%20var%20icon_43afd27feb074938863d997f8bcda28b%20%3D%20L.AwesomeMarkers.icon%28%0A%20%20%20%20%20%20%20%20%20%20%20%20%20%20%20%20%7B%22extraClasses%22%3A%20%22fa-rotate-0%22%2C%20%22icon%22%3A%20%22info-sign%22%2C%20%22iconColor%22%3A%20%22white%22%2C%20%22markerColor%22%3A%20%22green%22%2C%20%22prefix%22%3A%20%22glyphicon%22%7D%0A%20%20%20%20%20%20%20%20%20%20%20%20%29%3B%0A%20%20%20%20%20%20%20%20%20%20%20%20marker_2eaf57d97e1d40dea2b54b638b0e653c.setIcon%28icon_43afd27feb074938863d997f8bcda28b%29%3B%0A%20%20%20%20%20%20%20%20%0A%20%20%20%20%0A%20%20%20%20%20%20%20%20var%20popup_30a3208ea9354880a4454c8a3efbdae3%20%3D%20L.popup%28%7B%22maxWidth%22%3A%20%22100%25%22%7D%29%3B%0A%0A%20%20%20%20%20%20%20%20%0A%20%20%20%20%20%20%20%20%20%20%20%20var%20html_7fe92a27dc16451cb4628d1eab7a36c2%20%3D%20%24%28%60%3Cdiv%20id%3D%22html_7fe92a27dc16451cb4628d1eab7a36c2%22%20style%3D%22width%3A%20100.0%25%3B%20height%3A%20100.0%25%3B%22%3EWPI-1%3C/div%3E%60%29%5B0%5D%3B%0A%20%20%20%20%20%20%20%20%20%20%20%20popup_30a3208ea9354880a4454c8a3efbdae3.setContent%28html_7fe92a27dc16451cb4628d1eab7a36c2%29%3B%0A%20%20%20%20%20%20%20%20%0A%0A%20%20%20%20%20%20%20%20marker_2eaf57d97e1d40dea2b54b638b0e653c.bindPopup%28popup_30a3208ea9354880a4454c8a3efbdae3%29%0A%20%20%20%20%20%20%20%20%3B%0A%0A%20%20%20%20%20%20%20%20%0A%20%20%20%20%0A%3C/script%3E onload=\"this.contentDocument.open();this.contentDocument.write(    decodeURIComponent(this.getAttribute('data-html')));this.contentDocument.close();\" allowfullscreen webkitallowfullscreen mozallowfullscreen></iframe></div></div>"
     },
     "metadata": {}
    }
   ]
  },
  {
   "cell_type": "markdown",
   "source": "Now that we have created a map we can easily see what the AQI index is across the city! ",
   "metadata": {
    "tags": [],
    "cell_id": "00066-8321335c-6206-419f-9d60-f2258b242429",
    "deepnote_cell_type": "markdown"
   }
  },
  {
   "cell_type": "markdown",
   "source": "<br>\n\n**QUESTION: What do you notice about the map?**",
   "metadata": {
    "tags": [],
    "cell_id": "00067-9bd64102-0456-40be-9f11-c5abff8448eb",
    "deepnote_cell_type": "markdown"
   }
  },
  {
   "cell_type": "markdown",
   "source": "*Your answer here*",
   "metadata": {
    "tags": [],
    "cell_id": "00068-ee203b0b-32de-4195-9f96-46f9751a6242",
    "deepnote_cell_type": "markdown"
   }
  },
  {
   "cell_type": "markdown",
   "source": "<br>\n\nNow it's your turn! Fill in the code below (balnks indicated by \"...\") to create a dataframe of sensors in the Dallas, TX area.",
   "metadata": {
    "tags": [],
    "cell_id": "00069-19fb2276-ac4d-481e-9f59-4fad4e20311e",
    "deepnote_cell_type": "markdown"
   }
  },
  {
   "cell_type": "code",
   "metadata": {
    "tags": [],
    "deepnote_to_be_reexecuted": false,
    "source_hash": "c1c82818",
    "execution_start": 1634304960044,
    "execution_millis": 78887457,
    "cell_id": "00070-aaf83f1b-f649-4c20-8c59-fb6dc4461569",
    "deepnote_cell_type": "code"
   },
   "source": "## Dallas, TX - Lat: ? / Lon: ?\n## Look for the coordinates of Dallas, TX online!\n\ndallas_data = df.loc[(df[\"lat\"] >= ...) & (df[\"lat\"] <= ...) & (df[\"lon\"] >= ...) & (df[\"lon\"] <= ..)]\ndallas_data = houston_data[[\"lat\", \"lon\", \"name\", \"location_type\", \"pm_2.5\", \"temp_f\", \"humidity\", \"pressure\"]]\ndallas_data",
   "execution_count": 21,
   "outputs": [
    {
     "output_type": "error",
     "ename": "SyntaxError",
     "evalue": "invalid syntax (<ipython-input-21-1e7f727e67e9>, line 4)",
     "traceback": [
      "\u001b[0;36m  File \u001b[0;32m\"<ipython-input-21-1e7f727e67e9>\"\u001b[0;36m, line \u001b[0;32m4\u001b[0m\n\u001b[0;31m    dallas_data = df.loc[(df[\"lat\"] >= ...) & (df[\"lat\"] <= ...) & (df[\"lon\"] >= ...) & (df[\"lon\"] <= ..)]\u001b[0m\n\u001b[0m                                                                                                      ^\u001b[0m\n\u001b[0;31mSyntaxError\u001b[0m\u001b[0;31m:\u001b[0m invalid syntax\n"
     ]
    }
   ]
  },
  {
   "cell_type": "markdown",
   "source": "Developed By: Ziyue Li, Melisa Esqueda, Maham Bawaney & Karalyn Chong",
   "metadata": {
    "tags": [],
    "cell_id": "00071-807bc266-9a35-4b71-89c1-c94471a157e2",
    "deepnote_cell_type": "markdown"
   }
  },
  {
   "cell_type": "markdown",
   "source": "<a style='text-decoration:none;line-height:16px;display:flex;color:#5B5B62;padding:10px;justify-content:end;' href='https://deepnote.com?utm_source=created-in-deepnote-cell&projectId=f19ace53-ffd9-4b3c-a807-6437cb6cda39' target=\"_blank\">\n<img alt='Created in deepnote.com' style='display:inline;max-height:16px;margin:0px;margin-right:7.5px;' src='data:image/svg+xml;base64,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' > </img>\nCreated in <span style='font-weight:600;margin-left:4px;'>Deepnote</span></a>",
   "metadata": {
    "tags": [],
    "created_in_deepnote_cell": true,
    "deepnote_cell_type": "markdown"
   }
  }
 ],
 "nbformat": 4,
 "nbformat_minor": 2,
 "metadata": {
  "orig_nbformat": 2,
  "deepnote": {
   "is_reactive": false
  },
  "deepnote_notebook_id": "253c2fb3-ad22-45a1-8e9a-1a7c1233100b",
  "deepnote_execution_queue": []
 }
}
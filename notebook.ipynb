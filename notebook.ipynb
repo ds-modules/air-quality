{
 "cells": [
  {
   "cell_type": "markdown",
   "source": "\n# Air Quality Notebook",
   "metadata": {
    "tags": [],
    "cell_id": "00000-cd1cd682-a752-4f3e-bffa-7bcff78dd3f3",
    "deepnote_cell_type": "markdown"
   }
  },
  {
   "cell_type": "markdown",
   "source": "With so many pollutants in the air, especially as we head into the annual fire season, the Air Quality Index (AQI) becomes something we check on the daily. For many of us, this AQI map is all too familiar. ",
   "metadata": {
    "tags": [],
    "cell_id": "00001-eea90949-a595-4c05-9627-1be57f450aa2",
    "deepnote_cell_type": "markdown"
   }
  },
  {
   "cell_type": "markdown",
   "source": "<p align=\"center\">\n  <img src=\"images/AQImap.webp\" width=\"\" height=\"\" align=\"center\">\n</p>",
   "metadata": {
    "tags": [],
    "cell_id": "00002-489baeae-20ba-44bf-bac5-3e7931d8c9b5",
    "deepnote_cell_type": "markdown"
   }
  },
  {
   "cell_type": "markdown",
   "source": "In this notebook we will look at data collected from PrupleAir, a company that manages a network of air quality sensors. The data from these sensors are then collected to create maps like the one displayed above that depicts an intuitive visualization of the air quality in a specific region. \n\n**Run the cell below to import all the dependencies needed for this notebook!**",
   "metadata": {
    "tags": [],
    "cell_id": "00003-4163bbe5-f3a8-4a9f-8ca4-f7a5839f1332",
    "deepnote_cell_type": "markdown"
   }
  },
  {
   "cell_type": "code",
   "metadata": {
    "tags": [],
    "cell_id": "00004-59a7e54e-5914-41c5-86e9-66061047d46a",
    "deepnote_to_be_reexecuted": false,
    "source_hash": "9a0b616c",
    "execution_start": 1631833541137,
    "execution_millis": 945,
    "deepnote_cell_type": "code"
   },
   "source": "import matplotlib.pyplot as plt\nimport geopandas as gpd\nimport contextily as ctx\nimport numpy as np",
   "execution_count": 1,
   "outputs": []
  },
  {
   "cell_type": "markdown",
   "source": "<br>\n\n# PurpleAir Data",
   "metadata": {
    "tags": [],
    "cell_id": "00001-72481491-c164-40df-858a-6759fca18e03",
    "deepnote_cell_type": "markdown"
   }
  },
  {
   "cell_type": "markdown",
   "source": "Before we begin looking at data collected from PurpleAir sensors, lets first take a look at what a sensor is, and what it measures. \n\n\n> Below is a picture of a real PurpleAir Air Quality Sensor. These sensor can be mounted both indoors or outdoors, and it tracks airborne particulate matter(PM) in real time using PMSX003 laser counters. Particulate matter can include things like dust, smoke, dirt and any other organic or inorganic particles in the air. With multiple sensors mounted in a region, PurpleAir can create a relatively accurate measure of AQI throughout the day as the air quality changes. \n\nFor more information on how sensors work, take a look at the official PurpleAir website [here](https://www2.purpleair.com/community/faq#hc-what-do-the-numbers-on-the-purpleair-map-mean-1)!",
   "metadata": {
    "tags": [],
    "cell_id": "00003-aac88ff5-4bf9-442e-90fc-78b5b0e31a8f",
    "deepnote_cell_type": "markdown"
   }
  },
  {
   "cell_type": "markdown",
   "source": "<p align=\"center\">\n  <img src=\"images/purpleair-sensor-pm2.5.webp\" width=\"\" height=\"\" align=\"center\">\n</p>",
   "metadata": {
    "tags": [],
    "cell_id": "00005-3bf891ed-400f-4d50-bcc9-2c60b10d2130",
    "deepnote_cell_type": "markdown"
   }
  },
  {
   "cell_type": "markdown",
   "source": "In order to work with the data, we need to pull it into our workspace. Fortunately, PurpleAir has created an API that allows users to pull in and work with their AQI data. In the code cell below we will import the prupleair API and use it to create a dataframe of data from all 18,858 PurpleAir sensors!\n\n**Run the code cell below!**",
   "metadata": {
    "tags": [],
    "cell_id": "00007-e6e85ff5-acd5-4266-ba7c-be37a447c88d",
    "deepnote_cell_type": "markdown"
   }
  },
  {
   "cell_type": "code",
   "metadata": {
    "tags": [],
    "cell_id": "00002-01085d88-3421-49bd-b74e-05511d2afc01",
    "deepnote_to_be_reexecuted": false,
    "source_hash": "5c996320",
    "execution_start": 1629355406750,
    "execution_millis": 6136,
    "deepnote_cell_type": "code"
   },
   "source": "from purpleair.network import SensorList\np = SensorList()\ndf = p.to_dataframe(sensor_filter='all',\n                    channel='parent')",
   "execution_count": null,
   "outputs": [
    {
     "name": "stdout",
     "text": "Initialized 19,796 sensors!\n",
     "output_type": "stream"
    }
   ]
  },
  {
   "cell_type": "markdown",
   "source": "**Run the cell below to display the sensor dataframe!**\n\nThe dataframe below contains all the sensor data as of the latest update. It contains data on everything from the geograohical latitude and longitude of the sensor to data on the last time that sensor measured airborne PM.",
   "metadata": {
    "tags": [],
    "cell_id": "00009-648d6ac3-7625-4663-bbe3-458b23ef4493",
    "deepnote_cell_type": "markdown"
   }
  },
  {
   "cell_type": "code",
   "metadata": {
    "tags": [],
    "cell_id": "00003-4a5c5d0c-9e21-4990-8509-faddb3670857",
    "deepnote_to_be_reexecuted": false,
    "source_hash": "f804c160",
    "execution_start": 1629355412895,
    "execution_millis": 257,
    "deepnote_cell_type": "code"
   },
   "source": "df",
   "execution_count": null,
   "outputs": [
    {
     "output_type": "execute_result",
     "execution_count": 3,
     "data": {
      "application/vnd.deepnote.dataframe.v2+json": {
       "row_count": 19796,
       "column_count": 43,
       "columns": [
        {
         "name": "parent",
         "dtype": "object",
         "stats": {
          "unique_count": 0,
          "nan_count": 19796,
          "categories": [
           {
            "name": "Missing",
            "count": 19796
           }
          ]
         }
        },
        {
         "name": "lat",
         "dtype": "float64",
         "stats": {
          "unique_count": 19502,
          "nan_count": 81,
          "min": "-45.037846",
          "max": "71.301356",
          "histogram": [
           {
            "bin_start": -45.037846,
            "bin_end": -33.4039258,
            "count": 210
           },
           {
            "bin_start": -33.4039258,
            "bin_end": -21.7700056,
            "count": 88
           },
           {
            "bin_start": -21.7700056,
            "bin_end": -10.136085399999999,
            "count": 42
           },
           {
            "bin_start": -10.136085399999999,
            "bin_end": 1.4978347999999997,
            "count": 76
           },
           {
            "bin_start": 1.4978347999999997,
            "bin_end": 13.131754999999998,
            "count": 156
           },
           {
            "bin_start": 13.131754999999998,
            "bin_end": 24.765675200000004,
            "count": 254
           },
           {
            "bin_start": 24.765675200000004,
            "bin_end": 36.399595399999995,
            "count": 3267
           },
           {
            "bin_start": 36.399595399999995,
            "bin_end": 48.0335156,
            "count": 14473
           },
           {
            "bin_start": 48.0335156,
            "bin_end": 59.66743580000001,
            "count": 1012
           },
           {
            "bin_start": 59.66743580000001,
            "bin_end": 71.301356,
            "count": 137
           }
          ]
         }
        },
        {
         "name": "lon",
         "dtype": "float64",
         "stats": {
          "unique_count": 19475,
          "nan_count": 81,
          "min": "-176.5285",
          "max": "178.030934",
          "histogram": [
           {
            "bin_start": -176.5285,
            "bin_end": -141.0725566,
            "count": 158
           },
           {
            "bin_start": -141.0725566,
            "bin_end": -105.6166132,
            "count": 14763
           },
           {
            "bin_start": -105.6166132,
            "bin_end": -70.1606698,
            "count": 3051
           },
           {
            "bin_start": -70.1606698,
            "bin_end": -34.7047264,
            "count": 131
           },
           {
            "bin_start": -34.7047264,
            "bin_end": 0.7512169999999969,
            "count": 178
           },
           {
            "bin_start": 0.7512169999999969,
            "bin_end": 36.20716040000002,
            "count": 496
           },
           {
            "bin_start": 36.20716040000002,
            "bin_end": 71.66310380000002,
            "count": 53
           },
           {
            "bin_start": 71.66310380000002,
            "bin_end": 107.11904720000001,
            "count": 472
           },
           {
            "bin_start": 107.11904720000001,
            "bin_end": 142.57499060000004,
            "count": 198
           },
           {
            "bin_start": 142.57499060000004,
            "bin_end": 178.030934,
            "count": 215
           }
          ]
         }
        },
        {
         "name": "name",
         "dtype": "object",
         "stats": {
          "unique_count": 18704,
          "nan_count": 0,
          "categories": [
           {
            "name": "Home",
            "count": 114
           },
           {
            "name": "Inside",
            "count": 26
           },
           {
            "name": "18702 others",
            "count": 19656
           }
          ]
         }
        },
        {
         "name": "location_type",
         "dtype": "object",
         "stats": {
          "unique_count": 2,
          "nan_count": 66,
          "categories": [
           {
            "name": "outside",
            "count": 14779
           },
           {
            "name": "inside",
            "count": 4951
           },
           {
            "name": "Missing",
            "count": 66
           }
          ]
         }
        },
        {
         "name": "pm_2.5",
         "dtype": "float64"
        },
        {
         "name": "temp_f",
         "dtype": "float64"
        },
        {
         "name": "temp_c",
         "dtype": "float64"
        },
        {
         "name": "humidity",
         "dtype": "float64"
        },
        {
         "name": "pressure",
         "dtype": "float64"
        },
        {
         "name": "p_0_3_um",
         "dtype": "object"
        },
        {
         "name": "p_0_5_um",
         "dtype": "object"
        },
        {
         "name": "p_1_0_um",
         "dtype": "object"
        },
        {
         "name": "p_2_5_um",
         "dtype": "object"
        },
        {
         "name": "p_5_0_um",
         "dtype": "object"
        },
        {
         "name": "p_10_0_um",
         "dtype": "object"
        },
        {
         "name": "pm1_0_cf_1",
         "dtype": "object"
        },
        {
         "name": "pm2_5_cf_1",
         "dtype": "object"
        },
        {
         "name": "pm10_0_cf_1",
         "dtype": "object"
        },
        {
         "name": "pm1_0_atm",
         "dtype": "object"
        },
        {
         "name": "pm2_5_atm",
         "dtype": "object"
        },
        {
         "name": "pm10_0_atm",
         "dtype": "object"
        },
        {
         "name": "last_seen",
         "dtype": "datetime64[ns]"
        },
        {
         "name": "model",
         "dtype": "object"
        },
        {
         "name": "adc",
         "dtype": "object"
        },
        {
         "name": "rssi",
         "dtype": "object"
        },
        {
         "name": "hidden",
         "dtype": "bool"
        },
        {
         "name": "flagged",
         "dtype": "bool"
        },
        {
         "name": "downgraded",
         "dtype": "bool"
        },
        {
         "name": "age",
         "dtype": "int64"
        },
        {
         "name": "brightness",
         "dtype": "object"
        },
        {
         "name": "hardware",
         "dtype": "object"
        },
        {
         "name": "version",
         "dtype": "object"
        },
        {
         "name": "last_update_check",
         "dtype": "object"
        },
        {
         "name": "created",
         "dtype": "object"
        },
        {
         "name": "uptime",
         "dtype": "object"
        },
        {
         "name": "is_owner",
         "dtype": "bool"
        },
        {
         "name": "10min_avg",
         "dtype": "float64"
        },
        {
         "name": "30min_avg",
         "dtype": "float64"
        },
        {
         "name": "1hour_avg",
         "dtype": "float64"
        },
        {
         "name": "6hour_avg",
         "dtype": "float64"
        },
        {
         "name": "1day_avg",
         "dtype": "float64"
        },
        {
         "name": "1week_avg",
         "dtype": "float64"
        },
        {
         "name": "_deepnote_index_column",
         "dtype": "int64"
        }
       ],
       "rows_top": [
        {
         "parent": "None",
         "lat": 37.275561,
         "lon": -121.964134,
         "name": " Hazelwood canary ",
         "location_type": "outside",
         "pm_2.5": 13.25,
         "temp_f": 74,
         "temp_c": 23.333333333333336,
         "humidity": 47,
         "pressure": 1004.23,
         "p_0_3_um": "None",
         "p_0_5_um": "None",
         "p_1_0_um": "None",
         "p_2_5_um": "None",
         "p_5_0_um": "None",
         "p_10_0_um": "None",
         "pm1_0_cf_1": "None",
         "pm2_5_cf_1": "None",
         "pm10_0_cf_1": "None",
         "pm1_0_atm": "None",
         "pm2_5_atm": "None",
         "pm10_0_atm": "None",
         "last_seen": "2021-08-19T06:42:44.000000",
         "model": "PMS5003+PMS5003+BME280",
         "adc": "None",
         "rssi": "None",
         "hidden": "False",
         "flagged": "True",
         "downgraded": "False",
         "age": 0,
         "brightness": "None",
         "hardware": "None",
         "version": "None",
         "last_update_check": "None",
         "created": "None",
         "uptime": "None",
         "is_owner": "False",
         "10min_avg": 13.51,
         "30min_avg": 15.32,
         "1hour_avg": 18.4,
         "6hour_avg": 21.1,
         "1day_avg": 14.7,
         "1week_avg": 9.07,
         "_deepnote_index_column": 14633
        },
        {
         "parent": "None",
         "lat": 30.053808,
         "lon": -95.494643,
         "name": " Villages of Bridgestone AQI",
         "location_type": "outside",
         "pm_2.5": 25.64,
         "temp_f": 88,
         "temp_c": 31.111111111111114,
         "humidity": 75,
         "pressure": 1012.19,
         "p_0_3_um": "None",
         "p_0_5_um": "None",
         "p_1_0_um": "None",
         "p_2_5_um": "None",
         "p_5_0_um": "None",
         "p_10_0_um": "None",
         "pm1_0_cf_1": "None",
         "pm2_5_cf_1": "None",
         "pm10_0_cf_1": "None",
         "pm1_0_atm": "None",
         "pm2_5_atm": "None",
         "pm10_0_atm": "None",
         "last_seen": "2021-08-19T06:42:29.000000",
         "model": "PMS5003+PMS5003+BME280",
         "adc": "None",
         "rssi": "None",
         "hidden": "False",
         "flagged": "False",
         "downgraded": "False",
         "age": 0,
         "brightness": "None",
         "hardware": "None",
         "version": "None",
         "last_update_check": "None",
         "created": "None",
         "uptime": "None",
         "is_owner": "False",
         "10min_avg": 24.03,
         "30min_avg": 22.8,
         "1hour_avg": 20.69,
         "6hour_avg": 13.33,
         "1day_avg": 13.57,
         "1week_avg": 12.86,
         "_deepnote_index_column": 25999
        },
        {
         "parent": "None",
         "lat": 37.88362,
         "lon": -122.070087,
         "name": " WC Hillside",
         "location_type": "outside",
         "pm_2.5": 32,
         "temp_f": 74,
         "temp_c": 23.333333333333336,
         "humidity": 41,
         "pressure": 999.18,
         "p_0_3_um": "None",
         "p_0_5_um": "None",
         "p_1_0_um": "None",
         "p_2_5_um": "None",
         "p_5_0_um": "None",
         "p_10_0_um": "None",
         "pm1_0_cf_1": "None",
         "pm2_5_cf_1": "None",
         "pm10_0_cf_1": "None",
         "pm1_0_atm": "None",
         "pm2_5_atm": "None",
         "pm10_0_atm": "None",
         "last_seen": "2021-08-19T06:42:14.000000",
         "model": "PMS5003+PMS5003+BME280",
         "adc": "None",
         "rssi": "None",
         "hidden": "False",
         "flagged": "True",
         "downgraded": "False",
         "age": 0,
         "brightness": "None",
         "hardware": "None",
         "version": "None",
         "last_update_check": "None",
         "created": "None",
         "uptime": "None",
         "is_owner": "False",
         "10min_avg": 36.41,
         "30min_avg": 38.14,
         "1hour_avg": 39.01,
         "6hour_avg": 30.33,
         "1day_avg": 18.5,
         "1week_avg": 10.62,
         "_deepnote_index_column": 14091
        },
        {
         "parent": "None",
         "lat": 38.573703,
         "lon": -121.439113,
         "name": "\"C\" Street Air Shelter",
         "location_type": "inside",
         "pm_2.5": 36.32,
         "temp_f": 88,
         "temp_c": 31.111111111111114,
         "humidity": 31,
         "pressure": 1009.29,
         "p_0_3_um": "None",
         "p_0_5_um": "None",
         "p_1_0_um": "None",
         "p_2_5_um": "None",
         "p_5_0_um": "None",
         "p_10_0_um": "None",
         "pm1_0_cf_1": "None",
         "pm2_5_cf_1": "None",
         "pm10_0_cf_1": "None",
         "pm1_0_atm": "None",
         "pm2_5_atm": "None",
         "pm10_0_atm": "None",
         "last_seen": "2021-08-19T06:41:31.000000",
         "model": "PMS5003+PMS5003+BME280",
         "adc": "None",
         "rssi": "None",
         "hidden": "False",
         "flagged": "False",
         "downgraded": "False",
         "age": 1,
         "brightness": "None",
         "hardware": "None",
         "version": "None",
         "last_update_check": "None",
         "created": "None",
         "uptime": "None",
         "is_owner": "False",
         "10min_avg": 36.62,
         "30min_avg": 39.59,
         "1hour_avg": 45.05,
         "6hour_avg": 48.76,
         "1day_avg": 22.03,
         "1week_avg": 3.9,
         "_deepnote_index_column": 108226
        },
        {
         "parent": "None",
         "lat": 47.185173,
         "lon": -122.176855,
         "name": "#1",
         "location_type": "outside",
         "pm_2.5": 10.07,
         "temp_f": 72,
         "temp_c": 22.22222222222222,
         "humidity": 48,
         "pressure": 997.42,
         "p_0_3_um": "None",
         "p_0_5_um": "None",
         "p_1_0_um": "None",
         "p_2_5_um": "None",
         "p_5_0_um": "None",
         "p_10_0_um": "None",
         "pm1_0_cf_1": "None",
         "pm2_5_cf_1": "None",
         "pm10_0_cf_1": "None",
         "pm1_0_atm": "None",
         "pm2_5_atm": "None",
         "pm10_0_atm": "None",
         "last_seen": "2021-08-19T06:42:56.000000",
         "model": "PMS5003+PMS5003+BME280",
         "adc": "None",
         "rssi": "None",
         "hidden": "False",
         "flagged": "False",
         "downgraded": "False",
         "age": 0,
         "brightness": "None",
         "hardware": "None",
         "version": "None",
         "last_update_check": "None",
         "created": "None",
         "uptime": "None",
         "is_owner": "False",
         "10min_avg": 9.31,
         "30min_avg": 8.63,
         "1hour_avg": 7.96,
         "6hour_avg": 7.66,
         "1day_avg": 10.71,
         "1week_avg": 11.06,
         "_deepnote_index_column": 42073
        },
        {
         "parent": "None",
         "lat": 47.190197,
         "lon": -122.177992,
         "name": "#2",
         "location_type": "outside",
         "pm_2.5": 10.42,
         "temp_f": 74,
         "temp_c": 23.333333333333336,
         "humidity": 50,
         "pressure": 997.29,
         "p_0_3_um": "None",
         "p_0_5_um": "None",
         "p_1_0_um": "None",
         "p_2_5_um": "None",
         "p_5_0_um": "None",
         "p_10_0_um": "None",
         "pm1_0_cf_1": "None",
         "pm2_5_cf_1": "None",
         "pm10_0_cf_1": "None",
         "pm1_0_atm": "None",
         "pm2_5_atm": "None",
         "pm10_0_atm": "None",
         "last_seen": "2021-08-19T06:43:06.000000",
         "model": "PMS5003+PMS5003+BME280",
         "adc": "None",
         "rssi": "None",
         "hidden": "False",
         "flagged": "False",
         "downgraded": "False",
         "age": 0,
         "brightness": "None",
         "hardware": "None",
         "version": "None",
         "last_update_check": "None",
         "created": "None",
         "uptime": "None",
         "is_owner": "False",
         "10min_avg": 10.57,
         "30min_avg": 9.74,
         "1hour_avg": 8.89,
         "6hour_avg": 8.2,
         "1day_avg": 11.63,
         "1week_avg": 11.9,
         "_deepnote_index_column": 53069
        },
        {
         "parent": "None",
         "lat": 40.098715,
         "lon": -105.166649,
         "name": "#254",
         "location_type": "inside",
         "pm_2.5": 0,
         "temp_f": 88,
         "temp_c": 31.111111111111114,
         "humidity": 38,
         "pressure": 841.07,
         "p_0_3_um": "None",
         "p_0_5_um": "None",
         "p_1_0_um": "None",
         "p_2_5_um": "None",
         "p_5_0_um": "None",
         "p_10_0_um": "None",
         "pm1_0_cf_1": "None",
         "pm2_5_cf_1": "None",
         "pm10_0_cf_1": "None",
         "pm1_0_atm": "None",
         "pm2_5_atm": "None",
         "pm10_0_atm": "None",
         "last_seen": "2021-08-19T06:42:49.000000",
         "model": "PMS5003+PMS5003+BME280",
         "adc": "None",
         "rssi": "None",
         "hidden": "False",
         "flagged": "True",
         "downgraded": "False",
         "age": 0,
         "brightness": "None",
         "hardware": "None",
         "version": "None",
         "last_update_check": "None",
         "created": "None",
         "uptime": "None",
         "is_owner": "False",
         "10min_avg": 0.04,
         "30min_avg": 0.11,
         "1hour_avg": 0.13,
         "6hour_avg": 0.62,
         "1day_avg": 1.15,
         "1week_avg": 3.62,
         "_deepnote_index_column": 108558
        },
        {
         "parent": "None",
         "lat": 40.160043,
         "lon": -79.272304,
         "name": "#9",
         "location_type": "outside",
         "pm_2.5": 2.59,
         "temp_f": 77,
         "temp_c": 25,
         "humidity": 72,
         "pressure": 970.96,
         "p_0_3_um": "None",
         "p_0_5_um": "None",
         "p_1_0_um": "None",
         "p_2_5_um": "None",
         "p_5_0_um": "None",
         "p_10_0_um": "None",
         "pm1_0_cf_1": "None",
         "pm2_5_cf_1": "None",
         "pm10_0_cf_1": "None",
         "pm1_0_atm": "None",
         "pm2_5_atm": "None",
         "pm10_0_atm": "None",
         "last_seen": "2021-08-19T06:43:09.000000",
         "model": "PMS5003+PMS5003+BME280",
         "adc": "None",
         "rssi": "None",
         "hidden": "False",
         "flagged": "False",
         "downgraded": "False",
         "age": 0,
         "brightness": "None",
         "hardware": "None",
         "version": "None",
         "last_update_check": "None",
         "created": "None",
         "uptime": "None",
         "is_owner": "False",
         "10min_avg": 2.35,
         "30min_avg": 2.05,
         "1hour_avg": 2.17,
         "6hour_avg": 5.36,
         "1day_avg": 6.1,
         "1week_avg": 14.48,
         "_deepnote_index_column": 94891
        },
        {
         "parent": "None",
         "lat": 36.807377,
         "lon": -119.796109,
         "name": "#ValleyClimate",
         "location_type": "outside",
         "pm_2.5": 136.27,
         "temp_f": 80,
         "temp_c": 26.666666666666668,
         "humidity": 38,
         "pressure": 1000.03,
         "p_0_3_um": "None",
         "p_0_5_um": "None",
         "p_1_0_um": "None",
         "p_2_5_um": "None",
         "p_5_0_um": "None",
         "p_10_0_um": "None",
         "pm1_0_cf_1": "None",
         "pm2_5_cf_1": "None",
         "pm10_0_cf_1": "None",
         "pm1_0_atm": "None",
         "pm2_5_atm": "None",
         "pm10_0_atm": "None",
         "last_seen": "2021-08-19T06:42:13.000000",
         "model": "PMS5003+PMS5003+BME280",
         "adc": "None",
         "rssi": "None",
         "hidden": "False",
         "flagged": "False",
         "downgraded": "False",
         "age": 0,
         "brightness": "None",
         "hardware": "None",
         "version": "None",
         "last_update_check": "None",
         "created": "None",
         "uptime": "None",
         "is_owner": "False",
         "10min_avg": 138.93,
         "30min_avg": 138.61,
         "1hour_avg": 131.11,
         "6hour_avg": 59.3,
         "1day_avg": 31.87,
         "1week_avg": 20.07,
         "_deepnote_index_column": 22751
        },
        {
         "parent": "None",
         "lat": 38.863469,
         "lon": -77.297967,
         "name": "$ling",
         "location_type": "inside",
         "pm_2.5": 0.04,
         "temp_f": 81,
         "temp_c": 27.222222222222225,
         "humidity": 28,
         "pressure": 1004.49,
         "p_0_3_um": "None",
         "p_0_5_um": "None",
         "p_1_0_um": "None",
         "p_2_5_um": "None",
         "p_5_0_um": "None",
         "p_10_0_um": "None",
         "pm1_0_cf_1": "None",
         "pm2_5_cf_1": "None",
         "pm10_0_cf_1": "None",
         "pm1_0_atm": "None",
         "pm2_5_atm": "None",
         "pm10_0_atm": "None",
         "last_seen": "2021-08-19T06:42:55.000000",
         "model": "PMS5003+PMS5003+BME280",
         "adc": "None",
         "rssi": "None",
         "hidden": "False",
         "flagged": "False",
         "downgraded": "False",
         "age": 0,
         "brightness": "None",
         "hardware": "None",
         "version": "None",
         "last_update_check": "None",
         "created": "None",
         "uptime": "None",
         "is_owner": "False",
         "10min_avg": 0.07,
         "30min_avg": 0.07,
         "1hour_avg": 0.08,
         "6hour_avg": 0.23,
         "1day_avg": 1.44,
         "1week_avg": 5.2,
         "_deepnote_index_column": 86657
        },
        {
         "parent": "None",
         "lat": 42.714377,
         "lon": -73.202118,
         "name": "'66 Envi Center",
         "location_type": "outside",
         "pm_2.5": 9.55,
         "temp_f": 77,
         "temp_c": 25,
         "humidity": 81,
         "pressure": 994.76,
         "p_0_3_um": "None",
         "p_0_5_um": "None",
         "p_1_0_um": "None",
         "p_2_5_um": "None",
         "p_5_0_um": "None",
         "p_10_0_um": "None",
         "pm1_0_cf_1": "None",
         "pm2_5_cf_1": "None",
         "pm10_0_cf_1": "None",
         "pm1_0_atm": "None",
         "pm2_5_atm": "None",
         "pm10_0_atm": "None",
         "last_seen": "2021-08-19T06:42:18.000000",
         "model": "PMS5003+PMS5003+BME280",
         "adc": "None",
         "rssi": "None",
         "hidden": "False",
         "flagged": "True",
         "downgraded": "False",
         "age": 0,
         "brightness": "None",
         "hardware": "None",
         "version": "None",
         "last_update_check": "None",
         "created": "None",
         "uptime": "None",
         "is_owner": "False",
         "10min_avg": 8.2,
         "30min_avg": 7.69,
         "1hour_avg": 7.76,
         "6hour_avg": 8.09,
         "1day_avg": 8.37,
         "1week_avg": 12.68,
         "_deepnote_index_column": 2492
        }
       ],
       "rows_bottom": [
        {
         "parent": "None",
         "lat": 36.869269,
         "lon": 126.885076,
         "name": "인주면사무소",
         "location_type": "outside",
         "pm_2.5": 10.05,
         "temp_f": 96,
         "temp_c": 35.55555555555556,
         "humidity": 33,
         "pressure": 1010.16,
         "p_0_3_um": "None",
         "p_0_5_um": "None",
         "p_1_0_um": "None",
         "p_2_5_um": "None",
         "p_5_0_um": "None",
         "p_10_0_um": "None",
         "pm1_0_cf_1": "None",
         "pm2_5_cf_1": "None",
         "pm10_0_cf_1": "None",
         "pm1_0_atm": "None",
         "pm2_5_atm": "None",
         "pm10_0_atm": "None",
         "last_seen": "2021-08-19T06:41:44.000000",
         "model": "PMS5003+PMS5003+BME280",
         "adc": "None",
         "rssi": "None",
         "hidden": "False",
         "flagged": "False",
         "downgraded": "False",
         "age": 1,
         "brightness": "None",
         "hardware": "None",
         "version": "None",
         "last_update_check": "None",
         "created": "None",
         "uptime": "None",
         "is_owner": "False",
         "10min_avg": 11.56,
         "30min_avg": 12.58,
         "1hour_avg": 12.93,
         "6hour_avg": 11.41,
         "1day_avg": 13.08,
         "1week_avg": 21.23,
         "_deepnote_index_column": 65011
        },
        {
         "parent": "None",
         "lat": 36.801094,
         "lon": 127.142108,
         "name": "일봉동행정복지센터",
         "location_type": "outside",
         "pm_2.5": 11.35,
         "temp_f": 93,
         "temp_c": 33.88888888888889,
         "humidity": 34,
         "pressure": 1007.98,
         "p_0_3_um": "None",
         "p_0_5_um": "None",
         "p_1_0_um": "None",
         "p_2_5_um": "None",
         "p_5_0_um": "None",
         "p_10_0_um": "None",
         "pm1_0_cf_1": "None",
         "pm2_5_cf_1": "None",
         "pm10_0_cf_1": "None",
         "pm1_0_atm": "None",
         "pm2_5_atm": "None",
         "pm10_0_atm": "None",
         "last_seen": "2021-08-19T06:42:30.000000",
         "model": "PMS5003+PMS5003+BME280",
         "adc": "None",
         "rssi": "None",
         "hidden": "False",
         "flagged": "False",
         "downgraded": "False",
         "age": 0,
         "brightness": "None",
         "hardware": "None",
         "version": "None",
         "last_update_check": "None",
         "created": "None",
         "uptime": "None",
         "is_owner": "False",
         "10min_avg": 11.03,
         "30min_avg": 11.11,
         "1hour_avg": 11.22,
         "6hour_avg": 12.21,
         "1day_avg": 13.27,
         "1week_avg": 20.02,
         "_deepnote_index_column": 64927
        },
        {
         "parent": "None",
         "lat": 36.912386,
         "lon": 127.221351,
         "name": "입장면행정복지센터",
         "location_type": "outside",
         "pm_2.5": 6.37,
         "temp_f": 100,
         "temp_c": 37.77777777777778,
         "humidity": 27,
         "pressure": 1006.44,
         "p_0_3_um": "None",
         "p_0_5_um": "None",
         "p_1_0_um": "None",
         "p_2_5_um": "None",
         "p_5_0_um": "None",
         "p_10_0_um": "None",
         "pm1_0_cf_1": "None",
         "pm2_5_cf_1": "None",
         "pm10_0_cf_1": "None",
         "pm1_0_atm": "None",
         "pm2_5_atm": "None",
         "pm10_0_atm": "None",
         "last_seen": "2021-08-19T06:42:13.000000",
         "model": "PMS5003+PMS5003+BME280",
         "adc": "None",
         "rssi": "None",
         "hidden": "False",
         "flagged": "False",
         "downgraded": "False",
         "age": 0,
         "brightness": "None",
         "hardware": "None",
         "version": "None",
         "last_update_check": "None",
         "created": "None",
         "uptime": "None",
         "is_owner": "False",
         "10min_avg": 6.66,
         "30min_avg": 6.58,
         "1hour_avg": 6.76,
         "6hour_avg": 9.57,
         "1day_avg": 12.14,
         "1week_avg": 17.97,
         "_deepnote_index_column": 47689
        },
        {
         "parent": "None",
         "lat": 36.79885,
         "lon": 127.151822,
         "name": "중앙동행정복지센터",
         "location_type": "outside",
         "pm_2.5": 12.36,
         "temp_f": 95,
         "temp_c": 35,
         "humidity": 34,
         "pressure": 1008.19,
         "p_0_3_um": "None",
         "p_0_5_um": "None",
         "p_1_0_um": "None",
         "p_2_5_um": "None",
         "p_5_0_um": "None",
         "p_10_0_um": "None",
         "pm1_0_cf_1": "None",
         "pm2_5_cf_1": "None",
         "pm10_0_cf_1": "None",
         "pm1_0_atm": "None",
         "pm2_5_atm": "None",
         "pm10_0_atm": "None",
         "last_seen": "2021-08-19T06:41:37.000000",
         "model": "PMS5003+PMS5003+BME280",
         "adc": "None",
         "rssi": "None",
         "hidden": "False",
         "flagged": "False",
         "downgraded": "False",
         "age": 1,
         "brightness": "None",
         "hardware": "None",
         "version": "None",
         "last_update_check": "None",
         "created": "None",
         "uptime": "None",
         "is_owner": "False",
         "10min_avg": 12.26,
         "30min_avg": 11.92,
         "1hour_avg": 11.75,
         "6hour_avg": 12.07,
         "1day_avg": 13.94,
         "1week_avg": 21.01,
         "_deepnote_index_column": 64933
        },
        {
         "parent": "None",
         "lat": 36.787617,
         "lon": 127.092178,
         "name": "지산공원",
         "location_type": "outside",
         "pm_2.5": 9.5,
         "temp_f": 100,
         "temp_c": 37.77777777777778,
         "humidity": 28,
         "pressure": 1009.04,
         "p_0_3_um": "None",
         "p_0_5_um": "None",
         "p_1_0_um": "None",
         "p_2_5_um": "None",
         "p_5_0_um": "None",
         "p_10_0_um": "None",
         "pm1_0_cf_1": "None",
         "pm2_5_cf_1": "None",
         "pm10_0_cf_1": "None",
         "pm1_0_atm": "None",
         "pm2_5_atm": "None",
         "pm10_0_atm": "None",
         "last_seen": "2021-08-19T06:42:26.000000",
         "model": "PMS5003+PMS5003+BME280",
         "adc": "None",
         "rssi": "None",
         "hidden": "False",
         "flagged": "False",
         "downgraded": "False",
         "age": 0,
         "brightness": "None",
         "hardware": "None",
         "version": "None",
         "last_update_check": "None",
         "created": "None",
         "uptime": "None",
         "is_owner": "False",
         "10min_avg": 9.68,
         "30min_avg": 10.28,
         "1hour_avg": 10.9,
         "6hour_avg": 12.68,
         "1day_avg": 13.18,
         "1week_avg": 19.77,
         "_deepnote_index_column": 64097
        },
        {
         "parent": "None",
         "lat": 36.783216,
         "lon": 127.165218,
         "name": "차량등록사업소",
         "location_type": "outside",
         "pm_2.5": 10.93,
         "temp_f": 96,
         "temp_c": 35.55555555555556,
         "humidity": 34,
         "pressure": 1006.64,
         "p_0_3_um": "None",
         "p_0_5_um": "None",
         "p_1_0_um": "None",
         "p_2_5_um": "None",
         "p_5_0_um": "None",
         "p_10_0_um": "None",
         "pm1_0_cf_1": "None",
         "pm2_5_cf_1": "None",
         "pm10_0_cf_1": "None",
         "pm1_0_atm": "None",
         "pm2_5_atm": "None",
         "pm10_0_atm": "None",
         "last_seen": "2021-08-19T06:42:43.000000",
         "model": "PMS5003+PMS5003+BME280",
         "adc": "None",
         "rssi": "None",
         "hidden": "False",
         "flagged": "False",
         "downgraded": "False",
         "age": 0,
         "brightness": "None",
         "hardware": "None",
         "version": "None",
         "last_update_check": "None",
         "created": "None",
         "uptime": "None",
         "is_owner": "False",
         "10min_avg": 12.07,
         "30min_avg": 11.19,
         "1hour_avg": 10.75,
         "6hour_avg": 10.28,
         "1day_avg": 11.79,
         "1week_avg": 18.88,
         "_deepnote_index_column": 65005
        },
        {
         "parent": "None",
         "lat": 36.785883,
         "lon": 127.15704,
         "name": "청룡동행정복지센터",
         "location_type": "outside",
         "pm_2.5": 11.33,
         "temp_f": 94,
         "temp_c": 34.44444444444444,
         "humidity": 34,
         "pressure": 1006.83,
         "p_0_3_um": "None",
         "p_0_5_um": "None",
         "p_1_0_um": "None",
         "p_2_5_um": "None",
         "p_5_0_um": "None",
         "p_10_0_um": "None",
         "pm1_0_cf_1": "None",
         "pm2_5_cf_1": "None",
         "pm10_0_cf_1": "None",
         "pm1_0_atm": "None",
         "pm2_5_atm": "None",
         "pm10_0_atm": "None",
         "last_seen": "2021-08-19T06:42:55.000000",
         "model": "PMS5003+PMS5003+BME280",
         "adc": "None",
         "rssi": "None",
         "hidden": "False",
         "flagged": "True",
         "downgraded": "False",
         "age": 0,
         "brightness": "None",
         "hardware": "None",
         "version": "None",
         "last_update_check": "None",
         "created": "None",
         "uptime": "None",
         "is_owner": "False",
         "10min_avg": 11.02,
         "30min_avg": 11.1,
         "1hour_avg": 11.17,
         "6hour_avg": 11.44,
         "1day_avg": 12.74,
         "1week_avg": 19.74,
         "_deepnote_index_column": 64085
        },
        {
         "parent": "None",
         "lat": 36.691324,
         "lon": 126.585255,
         "name": "한서대학교",
         "location_type": "outside",
         "pm_2.5": 8.03,
         "temp_f": 103,
         "temp_c": 39.44444444444444,
         "humidity": 25,
         "pressure": 997.39,
         "p_0_3_um": "None",
         "p_0_5_um": "None",
         "p_1_0_um": "None",
         "p_2_5_um": "None",
         "p_5_0_um": "None",
         "p_10_0_um": "None",
         "pm1_0_cf_1": "None",
         "pm2_5_cf_1": "None",
         "pm10_0_cf_1": "None",
         "pm1_0_atm": "None",
         "pm2_5_atm": "None",
         "pm10_0_atm": "None",
         "last_seen": "2021-08-19T06:41:51.000000",
         "model": "PMS5003+PMS5003+BME280",
         "adc": "None",
         "rssi": "None",
         "hidden": "False",
         "flagged": "False",
         "downgraded": "False",
         "age": 1,
         "brightness": "None",
         "hardware": "None",
         "version": "None",
         "last_update_check": "None",
         "created": "None",
         "uptime": "None",
         "is_owner": "False",
         "10min_avg": 8.82,
         "30min_avg": 9.53,
         "1hour_avg": 9.86,
         "6hour_avg": 8.93,
         "1day_avg": 10.98,
         "1week_avg": 18.1,
         "_deepnote_index_column": 64995
        },
        {
         "parent": "None",
         "lat": 36.71072,
         "lon": 126.54839,
         "name": "해미읍성",
         "location_type": "outside",
         "pm_2.5": 7.03,
         "temp_f": 104,
         "temp_c": 40,
         "humidity": 24,
         "pressure": 1007.47,
         "p_0_3_um": "None",
         "p_0_5_um": "None",
         "p_1_0_um": "None",
         "p_2_5_um": "None",
         "p_5_0_um": "None",
         "p_10_0_um": "None",
         "pm1_0_cf_1": "None",
         "pm2_5_cf_1": "None",
         "pm10_0_cf_1": "None",
         "pm1_0_atm": "None",
         "pm2_5_atm": "None",
         "pm10_0_atm": "None",
         "last_seen": "2021-08-19T06:42:53.000000",
         "model": "PMS5003+PMS5003+BME280",
         "adc": "None",
         "rssi": "None",
         "hidden": "False",
         "flagged": "False",
         "downgraded": "False",
         "age": 0,
         "brightness": "None",
         "hardware": "None",
         "version": "None",
         "last_update_check": "None",
         "created": "None",
         "uptime": "None",
         "is_owner": "False",
         "10min_avg": 7.05,
         "30min_avg": 7.08,
         "1hour_avg": 7.17,
         "6hour_avg": 7.1,
         "1day_avg": 9.95,
         "1week_avg": 17.76,
         "_deepnote_index_column": 64093
        },
        {
         "parent": "None",
         "lat": 36.761236,
         "lon": 127.3953,
         "name": "화덕보건진료소",
         "location_type": "outside",
         "pm_2.5": 4.72,
         "temp_f": 104,
         "temp_c": 40,
         "humidity": 26,
         "pressure": 998.64,
         "p_0_3_um": "None",
         "p_0_5_um": "None",
         "p_1_0_um": "None",
         "p_2_5_um": "None",
         "p_5_0_um": "None",
         "p_10_0_um": "None",
         "pm1_0_cf_1": "None",
         "pm2_5_cf_1": "None",
         "pm10_0_cf_1": "None",
         "pm1_0_atm": "None",
         "pm2_5_atm": "None",
         "pm10_0_atm": "None",
         "last_seen": "2021-08-19T06:41:18.000000",
         "model": "PMS5003+PMS5003+BME280",
         "adc": "None",
         "rssi": "None",
         "hidden": "False",
         "flagged": "True",
         "downgraded": "False",
         "age": 1,
         "brightness": "None",
         "hardware": "None",
         "version": "None",
         "last_update_check": "None",
         "created": "None",
         "uptime": "None",
         "is_owner": "False",
         "10min_avg": 5.62,
         "30min_avg": 6.51,
         "1hour_avg": 7.22,
         "6hour_avg": 8.95,
         "1day_avg": 11.08,
         "1week_avg": 17.64,
         "_deepnote_index_column": 29747
        },
        {
         "parent": "None",
         "lat": 36.718003,
         "lon": 126.926841,
         "name": "화천1리마을회관",
         "location_type": "outside",
         "pm_2.5": 5.75,
         "temp_f": 112,
         "temp_c": 44.44444444444444,
         "humidity": 20,
         "pressure": 1003.04,
         "p_0_3_um": "None",
         "p_0_5_um": "None",
         "p_1_0_um": "None",
         "p_2_5_um": "None",
         "p_5_0_um": "None",
         "p_10_0_um": "None",
         "pm1_0_cf_1": "None",
         "pm2_5_cf_1": "None",
         "pm10_0_cf_1": "None",
         "pm1_0_atm": "None",
         "pm2_5_atm": "None",
         "pm10_0_atm": "None",
         "last_seen": "2021-08-19T06:42:16.000000",
         "model": "PMS5003+PMS5003+BME280",
         "adc": "None",
         "rssi": "None",
         "hidden": "False",
         "flagged": "False",
         "downgraded": "False",
         "age": 0,
         "brightness": "None",
         "hardware": "None",
         "version": "None",
         "last_update_check": "None",
         "created": "None",
         "uptime": "None",
         "is_owner": "False",
         "10min_avg": 5.43,
         "30min_avg": 5.96,
         "1hour_avg": 6.77,
         "6hour_avg": 8.42,
         "1day_avg": 10.71,
         "1week_avg": 17.86,
         "_deepnote_index_column": 98309
        },
        {
         "parent": "None",
         "lat": 40.603078,
         "lon": -111.836119,
         "name": "Oakdale",
         "location_type": "None",
         "pm_2.5": 0,
         "temp_f": "nan",
         "temp_c": "nan",
         "humidity": "nan",
         "pressure": "nan",
         "p_0_3_um": "None",
         "p_0_5_um": "None",
         "p_1_0_um": "None",
         "p_2_5_um": "None",
         "p_5_0_um": "None",
         "p_10_0_um": "None",
         "pm1_0_cf_1": "None",
         "pm2_5_cf_1": "None",
         "pm10_0_cf_1": "None",
         "pm1_0_atm": "None",
         "pm2_5_atm": "None",
         "pm10_0_atm": "None",
         "last_seen": "2021-08-19T06:42:28.000000",
         "model": "PMS1003+HDC1008+PUB+",
         "adc": "None",
         "rssi": "None",
         "hidden": "False",
         "flagged": "False",
         "downgraded": "False",
         "age": 0,
         "brightness": "None",
         "hardware": "None",
         "version": "None",
         "last_update_check": "None",
         "created": "None",
         "uptime": "None",
         "is_owner": "False",
         "10min_avg": 0,
         "30min_avg": 0,
         "1hour_avg": 0,
         "6hour_avg": 0,
         "1day_avg": 0,
         "1week_avg": 0,
         "_deepnote_index_column": 20
        }
       ]
      },
      "text/plain": "       parent        lat         lon                          name  \\\nid                                                                   \n14633    None  37.275561 -121.964134             Hazelwood canary    \n25999    None  30.053808  -95.494643   Villages of Bridgestone AQI   \n14091    None  37.883620 -122.070087                   WC Hillside   \n108226   None  38.573703 -121.439113        \"C\" Street Air Shelter   \n42073    None  47.185173 -122.176855                            #1   \n...       ...        ...         ...                           ...   \n64995    None  36.691324  126.585255                         한서대학교   \n64093    None  36.710720  126.548390                          해미읍성   \n29747    None  36.761236  127.395300                       화덕보건진료소   \n98309    None  36.718003  126.926841                      화천1리마을회관   \n20       None  40.603078 -111.836119                       Oakdale   \n\n       location_type  pm_2.5  temp_f     temp_c  humidity  pressure  ...  \\\nid                                                                   ...   \n14633        outside   13.25    74.0  23.333333      47.0   1004.23  ...   \n25999        outside   25.64    88.0  31.111111      75.0   1012.19  ...   \n14091        outside   32.00    74.0  23.333333      41.0    999.18  ...   \n108226        inside   36.32    88.0  31.111111      31.0   1009.29  ...   \n42073        outside   10.07    72.0  22.222222      48.0    997.42  ...   \n...              ...     ...     ...        ...       ...       ...  ...   \n64995        outside    8.03   103.0  39.444444      25.0    997.39  ...   \n64093        outside    7.03   104.0  40.000000      24.0   1007.47  ...   \n29747        outside    4.72   104.0  40.000000      26.0    998.64  ...   \n98309        outside    5.75   112.0  44.444444      20.0   1003.04  ...   \n20              None    0.00     NaN        NaN       NaN       NaN  ...   \n\n       last_update_check created uptime is_owner 10min_avg 30min_avg  \\\nid                                                                     \n14633               None    None   None    False     13.51     15.32   \n25999               None    None   None    False     24.03     22.80   \n14091               None    None   None    False     36.41     38.14   \n108226              None    None   None    False     36.62     39.59   \n42073               None    None   None    False      9.31      8.63   \n...                  ...     ...    ...      ...       ...       ...   \n64995               None    None   None    False      8.82      9.53   \n64093               None    None   None    False      7.05      7.08   \n29747               None    None   None    False      5.62      6.51   \n98309               None    None   None    False      5.43      5.96   \n20                  None    None   None    False      0.00      0.00   \n\n       1hour_avg 6hour_avg 1day_avg 1week_avg  \nid                                             \n14633      18.40     21.10    14.70      9.07  \n25999      20.69     13.33    13.57     12.86  \n14091      39.01     30.33    18.50     10.62  \n108226     45.05     48.76    22.03      3.90  \n42073       7.96      7.66    10.71     11.06  \n...          ...       ...      ...       ...  \n64995       9.86      8.93    10.98     18.10  \n64093       7.17      7.10     9.95     17.76  \n29747       7.22      8.95    11.08     17.64  \n98309       6.77      8.42    10.71     17.86  \n20          0.00      0.00     0.00      0.00  \n\n[19796 rows x 43 columns]",
      "text/html": "<div>\n<style scoped>\n    .dataframe tbody tr th:only-of-type {\n        vertical-align: middle;\n    }\n\n    .dataframe tbody tr th {\n        vertical-align: top;\n    }\n\n    .dataframe thead th {\n        text-align: right;\n    }\n</style>\n<table border=\"1\" class=\"dataframe\">\n  <thead>\n    <tr style=\"text-align: right;\">\n      <th></th>\n      <th>parent</th>\n      <th>lat</th>\n      <th>lon</th>\n      <th>name</th>\n      <th>location_type</th>\n      <th>pm_2.5</th>\n      <th>temp_f</th>\n      <th>temp_c</th>\n      <th>humidity</th>\n      <th>pressure</th>\n      <th>...</th>\n      <th>last_update_check</th>\n      <th>created</th>\n      <th>uptime</th>\n      <th>is_owner</th>\n      <th>10min_avg</th>\n      <th>30min_avg</th>\n      <th>1hour_avg</th>\n      <th>6hour_avg</th>\n      <th>1day_avg</th>\n      <th>1week_avg</th>\n    </tr>\n    <tr>\n      <th>id</th>\n      <th></th>\n      <th></th>\n      <th></th>\n      <th></th>\n      <th></th>\n      <th></th>\n      <th></th>\n      <th></th>\n      <th></th>\n      <th></th>\n      <th></th>\n      <th></th>\n      <th></th>\n      <th></th>\n      <th></th>\n      <th></th>\n      <th></th>\n      <th></th>\n      <th></th>\n      <th></th>\n      <th></th>\n    </tr>\n  </thead>\n  <tbody>\n    <tr>\n      <th>14633</th>\n      <td>None</td>\n      <td>37.275561</td>\n      <td>-121.964134</td>\n      <td>Hazelwood canary</td>\n      <td>outside</td>\n      <td>13.25</td>\n      <td>74.0</td>\n      <td>23.333333</td>\n      <td>47.0</td>\n      <td>1004.23</td>\n      <td>...</td>\n      <td>None</td>\n      <td>None</td>\n      <td>None</td>\n      <td>False</td>\n      <td>13.51</td>\n      <td>15.32</td>\n      <td>18.40</td>\n      <td>21.10</td>\n      <td>14.70</td>\n      <td>9.07</td>\n    </tr>\n    <tr>\n      <th>25999</th>\n      <td>None</td>\n      <td>30.053808</td>\n      <td>-95.494643</td>\n      <td>Villages of Bridgestone AQI</td>\n      <td>outside</td>\n      <td>25.64</td>\n      <td>88.0</td>\n      <td>31.111111</td>\n      <td>75.0</td>\n      <td>1012.19</td>\n      <td>...</td>\n      <td>None</td>\n      <td>None</td>\n      <td>None</td>\n      <td>False</td>\n      <td>24.03</td>\n      <td>22.80</td>\n      <td>20.69</td>\n      <td>13.33</td>\n      <td>13.57</td>\n      <td>12.86</td>\n    </tr>\n    <tr>\n      <th>14091</th>\n      <td>None</td>\n      <td>37.883620</td>\n      <td>-122.070087</td>\n      <td>WC Hillside</td>\n      <td>outside</td>\n      <td>32.00</td>\n      <td>74.0</td>\n      <td>23.333333</td>\n      <td>41.0</td>\n      <td>999.18</td>\n      <td>...</td>\n      <td>None</td>\n      <td>None</td>\n      <td>None</td>\n      <td>False</td>\n      <td>36.41</td>\n      <td>38.14</td>\n      <td>39.01</td>\n      <td>30.33</td>\n      <td>18.50</td>\n      <td>10.62</td>\n    </tr>\n    <tr>\n      <th>108226</th>\n      <td>None</td>\n      <td>38.573703</td>\n      <td>-121.439113</td>\n      <td>\"C\" Street Air Shelter</td>\n      <td>inside</td>\n      <td>36.32</td>\n      <td>88.0</td>\n      <td>31.111111</td>\n      <td>31.0</td>\n      <td>1009.29</td>\n      <td>...</td>\n      <td>None</td>\n      <td>None</td>\n      <td>None</td>\n      <td>False</td>\n      <td>36.62</td>\n      <td>39.59</td>\n      <td>45.05</td>\n      <td>48.76</td>\n      <td>22.03</td>\n      <td>3.90</td>\n    </tr>\n    <tr>\n      <th>42073</th>\n      <td>None</td>\n      <td>47.185173</td>\n      <td>-122.176855</td>\n      <td>#1</td>\n      <td>outside</td>\n      <td>10.07</td>\n      <td>72.0</td>\n      <td>22.222222</td>\n      <td>48.0</td>\n      <td>997.42</td>\n      <td>...</td>\n      <td>None</td>\n      <td>None</td>\n      <td>None</td>\n      <td>False</td>\n      <td>9.31</td>\n      <td>8.63</td>\n      <td>7.96</td>\n      <td>7.66</td>\n      <td>10.71</td>\n      <td>11.06</td>\n    </tr>\n    <tr>\n      <th>...</th>\n      <td>...</td>\n      <td>...</td>\n      <td>...</td>\n      <td>...</td>\n      <td>...</td>\n      <td>...</td>\n      <td>...</td>\n      <td>...</td>\n      <td>...</td>\n      <td>...</td>\n      <td>...</td>\n      <td>...</td>\n      <td>...</td>\n      <td>...</td>\n      <td>...</td>\n      <td>...</td>\n      <td>...</td>\n      <td>...</td>\n      <td>...</td>\n      <td>...</td>\n      <td>...</td>\n    </tr>\n    <tr>\n      <th>64995</th>\n      <td>None</td>\n      <td>36.691324</td>\n      <td>126.585255</td>\n      <td>한서대학교</td>\n      <td>outside</td>\n      <td>8.03</td>\n      <td>103.0</td>\n      <td>39.444444</td>\n      <td>25.0</td>\n      <td>997.39</td>\n      <td>...</td>\n      <td>None</td>\n      <td>None</td>\n      <td>None</td>\n      <td>False</td>\n      <td>8.82</td>\n      <td>9.53</td>\n      <td>9.86</td>\n      <td>8.93</td>\n      <td>10.98</td>\n      <td>18.10</td>\n    </tr>\n    <tr>\n      <th>64093</th>\n      <td>None</td>\n      <td>36.710720</td>\n      <td>126.548390</td>\n      <td>해미읍성</td>\n      <td>outside</td>\n      <td>7.03</td>\n      <td>104.0</td>\n      <td>40.000000</td>\n      <td>24.0</td>\n      <td>1007.47</td>\n      <td>...</td>\n      <td>None</td>\n      <td>None</td>\n      <td>None</td>\n      <td>False</td>\n      <td>7.05</td>\n      <td>7.08</td>\n      <td>7.17</td>\n      <td>7.10</td>\n      <td>9.95</td>\n      <td>17.76</td>\n    </tr>\n    <tr>\n      <th>29747</th>\n      <td>None</td>\n      <td>36.761236</td>\n      <td>127.395300</td>\n      <td>화덕보건진료소</td>\n      <td>outside</td>\n      <td>4.72</td>\n      <td>104.0</td>\n      <td>40.000000</td>\n      <td>26.0</td>\n      <td>998.64</td>\n      <td>...</td>\n      <td>None</td>\n      <td>None</td>\n      <td>None</td>\n      <td>False</td>\n      <td>5.62</td>\n      <td>6.51</td>\n      <td>7.22</td>\n      <td>8.95</td>\n      <td>11.08</td>\n      <td>17.64</td>\n    </tr>\n    <tr>\n      <th>98309</th>\n      <td>None</td>\n      <td>36.718003</td>\n      <td>126.926841</td>\n      <td>화천1리마을회관</td>\n      <td>outside</td>\n      <td>5.75</td>\n      <td>112.0</td>\n      <td>44.444444</td>\n      <td>20.0</td>\n      <td>1003.04</td>\n      <td>...</td>\n      <td>None</td>\n      <td>None</td>\n      <td>None</td>\n      <td>False</td>\n      <td>5.43</td>\n      <td>5.96</td>\n      <td>6.77</td>\n      <td>8.42</td>\n      <td>10.71</td>\n      <td>17.86</td>\n    </tr>\n    <tr>\n      <th>20</th>\n      <td>None</td>\n      <td>40.603078</td>\n      <td>-111.836119</td>\n      <td>Oakdale</td>\n      <td>None</td>\n      <td>0.00</td>\n      <td>NaN</td>\n      <td>NaN</td>\n      <td>NaN</td>\n      <td>NaN</td>\n      <td>...</td>\n      <td>None</td>\n      <td>None</td>\n      <td>None</td>\n      <td>False</td>\n      <td>0.00</td>\n      <td>0.00</td>\n      <td>0.00</td>\n      <td>0.00</td>\n      <td>0.00</td>\n      <td>0.00</td>\n    </tr>\n  </tbody>\n</table>\n<p>19796 rows × 43 columns</p>\n</div>"
     },
     "metadata": {}
    }
   ]
  },
  {
   "cell_type": "markdown",
   "source": "<br>\n\n### Airborne Particulate Matter (PM) 2.5 \nWhile many of the column names are relatively straightforward, the \"name\" column (which displays the set name of the particular sensor), the \"location_type\" column (which indicates where it is an indoor or outdoor sensor), etc., we would like to draw your attention to the \"pm_2.5\" column. \n\n>The \"pm_2.5\" column represents the count of airborne pm that is larger than 2.5um/dl, in otherwords, airborne particles that have a diameter of 2.5 micrometers or less. In high levels, PM 2.5 particles can reduce visibility and cause the air to appear hazy. Tracking PM 2.5 is important because prolonged exposure to high levels of PM 2.5 particles can cause adverse US Environmental Protection Agency (EPA) use to calculate the local Air Quality Index (AQI).",
   "metadata": {
    "tags": [],
    "cell_id": "00011-c8766e48-014a-44d5-8139-e880413d49f9",
    "deepnote_cell_type": "markdown"
   }
  },
  {
   "cell_type": "markdown",
   "source": "**Run the cell below to take a look at PM 2.5 levels of a specific sensor over time!**",
   "metadata": {
    "tags": [],
    "cell_id": "00012-6b10d01e-ae77-420f-8bc1-86d49d79f6e5",
    "deepnote_cell_type": "markdown"
   }
  },
  {
   "cell_type": "code",
   "metadata": {
    "tags": [],
    "cell_id": "00013-e04fde67-4b71-4037-940a-16dd277b8d64",
    "deepnote_to_be_reexecuted": false,
    "source_hash": "5af27a5d",
    "execution_start": 1629355413150,
    "execution_millis": 1540,
    "deepnote_cell_type": "code"
   },
   "source": "## pull specific sensor data from a specific date / range of dates - Potentially have students look at AQI of a specific \n## area over a few weeks \n\n## data from 1000ft Montclair sensor from 7/12 - 7/18 (week of data)\nfrom purpleair.sensor import Sensor\nse = Sensor(20747)\nMontclairSensor = se.parent.get_historical(weeks_to_get=1,\n                              thingspeak_field='secondary')\n\nMontclairSensor",
   "execution_count": null,
   "outputs": [
    {
     "output_type": "execute_result",
     "execution_count": 4,
     "data": {
      "application/vnd.deepnote.dataframe.v2+json": {
       "row_count": 4449,
       "column_count": 9,
       "columns": [
        {
         "name": "created_at",
         "dtype": "datetime64[ns, UTC]",
         "stats": {
          "unique_count": 4449,
          "nan_count": 0,
          "min": "2021-08-12 00:00:34+00:00",
          "max": "2021-08-18 23:58:23+00:00",
          "histogram": [
           {
            "bin_start": 1628726434000000000,
            "bin_end": 1628786900900000000,
            "count": 288
           },
           {
            "bin_start": 1628786900900000000,
            "bin_end": 1628847367800000000,
            "count": 236
           },
           {
            "bin_start": 1628847367800000000,
            "bin_end": 1628907834700000000,
            "count": 435
           },
           {
            "bin_start": 1628907834700000000,
            "bin_end": 1628968301600000000,
            "count": 475
           },
           {
            "bin_start": 1628968301600000000,
            "bin_end": 1629028768500000000,
            "count": 504
           },
           {
            "bin_start": 1629028768500000000,
            "bin_end": 1629089235400000000,
            "count": 502
           },
           {
            "bin_start": 1629089235400000000,
            "bin_end": 1629149702300000000,
            "count": 504
           },
           {
            "bin_start": 1629149702300000000,
            "bin_end": 1629210169200000000,
            "count": 503
           },
           {
            "bin_start": 1629210169200000000,
            "bin_end": 1629270636100000000,
            "count": 503
           },
           {
            "bin_start": 1629270636100000000,
            "bin_end": 1629331103000000000,
            "count": 499
           }
          ]
         }
        },
        {
         "name": "0.3um/dl",
         "dtype": "float64",
         "stats": {
          "unique_count": 4371,
          "nan_count": 0,
          "min": "627.43",
          "max": "8054.89",
          "histogram": [
           {
            "bin_start": 627.43,
            "bin_end": 1370.176,
            "count": 1511
           },
           {
            "bin_start": 1370.176,
            "bin_end": 2112.922,
            "count": 1438
           },
           {
            "bin_start": 2112.922,
            "bin_end": 2855.6679999999997,
            "count": 1310
           },
           {
            "bin_start": 2855.6679999999997,
            "bin_end": 3598.4139999999998,
            "count": 106
           },
           {
            "bin_start": 3598.4139999999998,
            "bin_end": 4341.16,
            "count": 37
           },
           {
            "bin_start": 4341.16,
            "bin_end": 5083.906,
            "count": 21
           },
           {
            "bin_start": 5083.906,
            "bin_end": 5826.652,
            "count": 12
           },
           {
            "bin_start": 5826.652,
            "bin_end": 6569.398,
            "count": 12
           },
           {
            "bin_start": 6569.398,
            "bin_end": 7312.144,
            "count": 0
           },
           {
            "bin_start": 7312.144,
            "bin_end": 8054.89,
            "count": 2
           }
          ]
         }
        },
        {
         "name": "0.5um/dl",
         "dtype": "float64",
         "stats": {
          "unique_count": 4245,
          "nan_count": 0,
          "min": "175.46",
          "max": "2094.87",
          "histogram": [
           {
            "bin_start": 175.46,
            "bin_end": 367.40099999999995,
            "count": 1329
           },
           {
            "bin_start": 367.40099999999995,
            "bin_end": 559.342,
            "count": 1370
           },
           {
            "bin_start": 559.342,
            "bin_end": 751.2829999999999,
            "count": 1463
           },
           {
            "bin_start": 751.2829999999999,
            "bin_end": 943.2239999999999,
            "count": 213
           },
           {
            "bin_start": 943.2239999999999,
            "bin_end": 1135.165,
            "count": 40
           },
           {
            "bin_start": 1135.165,
            "bin_end": 1327.1059999999998,
            "count": 13
           },
           {
            "bin_start": 1327.1059999999998,
            "bin_end": 1519.0469999999998,
            "count": 9
           },
           {
            "bin_start": 1519.0469999999998,
            "bin_end": 1710.9879999999998,
            "count": 10
           },
           {
            "bin_start": 1710.9879999999998,
            "bin_end": 1902.9289999999999,
            "count": 0
           },
           {
            "bin_start": 1902.9289999999999,
            "bin_end": 2094.87,
            "count": 2
           }
          ]
         }
        },
        {
         "name": "1.0um/dl",
         "dtype": "float64",
         "stats": {
          "unique_count": 3760,
          "nan_count": 0,
          "min": "28.34",
          "max": "211.27",
          "histogram": [
           {
            "bin_start": 28.34,
            "bin_end": 46.632999999999996,
            "count": 286
           },
           {
            "bin_start": 46.632999999999996,
            "bin_end": 64.926,
            "count": 572
           },
           {
            "bin_start": 64.926,
            "bin_end": 83.219,
            "count": 974
           },
           {
            "bin_start": 83.219,
            "bin_end": 101.512,
            "count": 658
           },
           {
            "bin_start": 101.512,
            "bin_end": 119.805,
            "count": 477
           },
           {
            "bin_start": 119.805,
            "bin_end": 138.09799999999998,
            "count": 531
           },
           {
            "bin_start": 138.09799999999998,
            "bin_end": 156.391,
            "count": 569
           },
           {
            "bin_start": 156.391,
            "bin_end": 174.684,
            "count": 257
           },
           {
            "bin_start": 174.684,
            "bin_end": 192.977,
            "count": 86
           },
           {
            "bin_start": 192.977,
            "bin_end": 211.27,
            "count": 39
           }
          ]
         }
        },
        {
         "name": "2.5um/dl",
         "dtype": "float64",
         "stats": {
          "unique_count": 1751,
          "nan_count": 0,
          "min": "0.62",
          "max": "42.16",
          "histogram": [
           {
            "bin_start": 0.62,
            "bin_end": 4.774,
            "count": 473
           },
           {
            "bin_start": 4.774,
            "bin_end": 8.927999999999999,
            "count": 1141
           },
           {
            "bin_start": 8.927999999999999,
            "bin_end": 13.081999999999999,
            "count": 1411
           },
           {
            "bin_start": 13.081999999999999,
            "bin_end": 17.236,
            "count": 884
           },
           {
            "bin_start": 17.236,
            "bin_end": 21.39,
            "count": 358
           },
           {
            "bin_start": 21.39,
            "bin_end": 25.544,
            "count": 117
           },
           {
            "bin_start": 25.544,
            "bin_end": 29.698,
            "count": 45
           },
           {
            "bin_start": 29.698,
            "bin_end": 33.852,
            "count": 13
           },
           {
            "bin_start": 33.852,
            "bin_end": 38.00599999999999,
            "count": 5
           },
           {
            "bin_start": 38.00599999999999,
            "bin_end": 42.16,
            "count": 2
           }
          ]
         }
        },
        {
         "name": "5.0um/dl",
         "dtype": "float64",
         "stats": {
          "unique_count": 708,
          "nan_count": 0,
          "min": "0.0",
          "max": "17.73",
          "histogram": [
           {
            "bin_start": 0,
            "bin_end": 1.7730000000000001,
            "count": 1342
           },
           {
            "bin_start": 1.7730000000000001,
            "bin_end": 3.5460000000000003,
            "count": 1932
           },
           {
            "bin_start": 3.5460000000000003,
            "bin_end": 5.319000000000001,
            "count": 875
           },
           {
            "bin_start": 5.319000000000001,
            "bin_end": 7.0920000000000005,
            "count": 203
           },
           {
            "bin_start": 7.0920000000000005,
            "bin_end": 8.865,
            "count": 46
           },
           {
            "bin_start": 8.865,
            "bin_end": 10.638000000000002,
            "count": 31
           },
           {
            "bin_start": 10.638000000000002,
            "bin_end": 12.411000000000001,
            "count": 12
           },
           {
            "bin_start": 12.411000000000001,
            "bin_end": 14.184000000000001,
            "count": 5
           },
           {
            "bin_start": 14.184000000000001,
            "bin_end": 15.957,
            "count": 2
           },
           {
            "bin_start": 15.957,
            "bin_end": 17.73,
            "count": 1
           }
          ]
         }
        },
        {
         "name": "10.0um/dl",
         "dtype": "float64",
         "stats": {
          "unique_count": 305,
          "nan_count": 0,
          "min": "0.0",
          "max": "6.11",
          "histogram": [
           {
            "bin_start": 0,
            "bin_end": 0.611,
            "count": 2177
           },
           {
            "bin_start": 0.611,
            "bin_end": 1.222,
            "count": 1482
           },
           {
            "bin_start": 1.222,
            "bin_end": 1.833,
            "count": 546
           },
           {
            "bin_start": 1.833,
            "bin_end": 2.444,
            "count": 146
           },
           {
            "bin_start": 2.444,
            "bin_end": 3.0549999999999997,
            "count": 58
           },
           {
            "bin_start": 3.0549999999999997,
            "bin_end": 3.666,
            "count": 22
           },
           {
            "bin_start": 3.666,
            "bin_end": 4.277,
            "count": 8
           },
           {
            "bin_start": 4.277,
            "bin_end": 4.888,
            "count": 4
           },
           {
            "bin_start": 4.888,
            "bin_end": 5.499,
            "count": 4
           },
           {
            "bin_start": 5.499,
            "bin_end": 6.11,
            "count": 2
           }
          ]
         }
        },
        {
         "name": "PM1.0 (CF=ATM) ug/m3",
         "dtype": "float64",
         "stats": {
          "unique_count": 1260,
          "nan_count": 0,
          "min": "2.25",
          "max": "30.06",
          "histogram": [
           {
            "bin_start": 2.25,
            "bin_end": 5.031,
            "count": 498
           },
           {
            "bin_start": 5.031,
            "bin_end": 7.811999999999999,
            "count": 1502
           },
           {
            "bin_start": 7.811999999999999,
            "bin_end": 10.593,
            "count": 927
           },
           {
            "bin_start": 10.593,
            "bin_end": 13.373999999999999,
            "count": 1077
           },
           {
            "bin_start": 13.373999999999999,
            "bin_end": 16.154999999999998,
            "count": 343
           },
           {
            "bin_start": 16.154999999999998,
            "bin_end": 18.936,
            "count": 55
           },
           {
            "bin_start": 18.936,
            "bin_end": 21.717,
            "count": 25
           },
           {
            "bin_start": 21.717,
            "bin_end": 24.497999999999998,
            "count": 8
           },
           {
            "bin_start": 24.497999999999998,
            "bin_end": 27.278999999999996,
            "count": 12
           },
           {
            "bin_start": 27.278999999999996,
            "bin_end": 30.06,
            "count": 2
           }
          ]
         }
        },
        {
         "name": "PM10 (CF=ATM) ug/m3",
         "dtype": "float64",
         "stats": {
          "unique_count": 2059,
          "nan_count": 0,
          "min": "5.09",
          "max": "51.88",
          "histogram": [
           {
            "bin_start": 5.09,
            "bin_end": 9.769,
            "count": 561
           },
           {
            "bin_start": 9.769,
            "bin_end": 14.448,
            "count": 1189
           },
           {
            "bin_start": 14.448,
            "bin_end": 19.127000000000002,
            "count": 964
           },
           {
            "bin_start": 19.127000000000002,
            "bin_end": 23.806,
            "count": 735
           },
           {
            "bin_start": 23.806,
            "bin_end": 28.485000000000003,
            "count": 684
           },
           {
            "bin_start": 28.485000000000003,
            "bin_end": 33.164,
            "count": 220
           },
           {
            "bin_start": 33.164,
            "bin_end": 37.843,
            "count": 71
           },
           {
            "bin_start": 37.843,
            "bin_end": 42.522000000000006,
            "count": 17
           },
           {
            "bin_start": 42.522000000000006,
            "bin_end": 47.20100000000001,
            "count": 6
           },
           {
            "bin_start": 47.20100000000001,
            "bin_end": 51.88,
            "count": 2
           }
          ]
         }
        },
        {
         "name": "_deepnote_index_column",
         "dtype": "int64"
        }
       ],
       "rows_top": [
        {
         "created_at": "2021-08-12T00:00:34.000000",
         "0.3um/dl": 1101.47,
         "0.5um/dl": 314.93,
         "1.0um/dl": 52.47,
         "2.5um/dl": 4.47,
         "5.0um/dl": 1,
         "10.0um/dl": 0,
         "PM1.0 (CF=ATM) ug/m3": 5.41,
         "PM10 (CF=ATM) ug/m3": 8.84,
         "_deepnote_index_column": 740800
        },
        {
         "created_at": "2021-08-12T00:02:35.000000",
         "0.3um/dl": 1251.83,
         "0.5um/dl": 343.9,
         "1.0um/dl": 59.88,
         "2.5um/dl": 4.17,
         "5.0um/dl": 0.79,
         "10.0um/dl": 0.31,
         "PM1.0 (CF=ATM) ug/m3": 5.72,
         "PM10 (CF=ATM) ug/m3": 9.48,
         "_deepnote_index_column": 740801
        },
        {
         "created_at": "2021-08-12T00:04:59.000000",
         "0.3um/dl": 1253.84,
         "0.5um/dl": 351.3,
         "1.0um/dl": 53.91,
         "2.5um/dl": 4.48,
         "5.0um/dl": 1.12,
         "10.0um/dl": 0.34,
         "PM1.0 (CF=ATM) ug/m3": 6.07,
         "PM10 (CF=ATM) ug/m3": 9.68,
         "_deepnote_index_column": 740802
        },
        {
         "created_at": "2021-08-12T00:06:37.000000",
         "0.3um/dl": 1241.73,
         "0.5um/dl": 352.91,
         "1.0um/dl": 54.14,
         "2.5um/dl": 4.57,
         "5.0um/dl": 0.57,
         "10.0um/dl": 0.25,
         "PM1.0 (CF=ATM) ug/m3": 6.27,
         "PM10 (CF=ATM) ug/m3": 9.46,
         "_deepnote_index_column": 740803
        },
        {
         "created_at": "2021-08-12T00:08:40.000000",
         "0.3um/dl": 1312.03,
         "0.5um/dl": 365.71,
         "1.0um/dl": 51.66,
         "2.5um/dl": 3.41,
         "5.0um/dl": 0.5,
         "10.0um/dl": 0.4,
         "PM1.0 (CF=ATM) ug/m3": 6.16,
         "PM10 (CF=ATM) ug/m3": 9.69,
         "_deepnote_index_column": 740804
        },
        {
         "created_at": "2021-08-12T00:10:34.000000",
         "0.3um/dl": 1330.6,
         "0.5um/dl": 372.34,
         "1.0um/dl": 55.14,
         "2.5um/dl": 4.55,
         "5.0um/dl": 1.07,
         "10.0um/dl": 0.34,
         "PM1.0 (CF=ATM) ug/m3": 6.66,
         "PM10 (CF=ATM) ug/m3": 10.21,
         "_deepnote_index_column": 740805
        },
        {
         "created_at": "2021-08-12T00:12:34.000000",
         "0.3um/dl": 1334.84,
         "0.5um/dl": 379.82,
         "1.0um/dl": 64.68,
         "2.5um/dl": 4.27,
         "5.0um/dl": 0.3,
         "10.0um/dl": 0,
         "PM1.0 (CF=ATM) ug/m3": 6.62,
         "PM10 (CF=ATM) ug/m3": 10.34,
         "_deepnote_index_column": 740806
        },
        {
         "created_at": "2021-08-12T00:14:34.000000",
         "0.3um/dl": 1377.21,
         "0.5um/dl": 391.25,
         "1.0um/dl": 64.16,
         "2.5um/dl": 5.95,
         "5.0um/dl": 0.61,
         "10.0um/dl": 0.21,
         "PM1.0 (CF=ATM) ug/m3": 6.59,
         "PM10 (CF=ATM) ug/m3": 10.86,
         "_deepnote_index_column": 740807
        },
        {
         "created_at": "2021-08-12T00:16:44.000000",
         "0.3um/dl": 1510.09,
         "0.5um/dl": 430.03,
         "1.0um/dl": 70.26,
         "2.5um/dl": 4.12,
         "5.0um/dl": 1.1,
         "10.0um/dl": 0.17,
         "PM1.0 (CF=ATM) ug/m3": 7.45,
         "PM10 (CF=ATM) ug/m3": 11.86,
         "_deepnote_index_column": 740808
        },
        {
         "created_at": "2021-08-12T00:18:34.000000",
         "0.3um/dl": 1336.24,
         "0.5um/dl": 368.47,
         "1.0um/dl": 56.72,
         "2.5um/dl": 3.05,
         "5.0um/dl": 0.67,
         "10.0um/dl": 0.07,
         "PM1.0 (CF=ATM) ug/m3": 6.55,
         "PM10 (CF=ATM) ug/m3": 9.97,
         "_deepnote_index_column": 740809
        },
        {
         "created_at": "2021-08-12T00:20:35.000000",
         "0.3um/dl": 1445.84,
         "0.5um/dl": 406.96,
         "1.0um/dl": 67.77,
         "2.5um/dl": 4.44,
         "5.0um/dl": 0.07,
         "10.0um/dl": 0,
         "PM1.0 (CF=ATM) ug/m3": 7.46,
         "PM10 (CF=ATM) ug/m3": 11.12,
         "_deepnote_index_column": 740810
        },
        {
         "created_at": "2021-08-12T00:22:36.000000",
         "0.3um/dl": 1559.78,
         "0.5um/dl": 437.02,
         "1.0um/dl": 77,
         "2.5um/dl": 6.29,
         "5.0um/dl": 0.56,
         "10.0um/dl": 0.24,
         "PM1.0 (CF=ATM) ug/m3": 7.67,
         "PM10 (CF=ATM) ug/m3": 12.42,
         "_deepnote_index_column": 740811
        },
        {
         "created_at": "2021-08-12T00:24:34.000000",
         "0.3um/dl": 1623.95,
         "0.5um/dl": 464.28,
         "1.0um/dl": 69.32,
         "2.5um/dl": 6.61,
         "5.0um/dl": 1.09,
         "10.0um/dl": 0,
         "PM1.0 (CF=ATM) ug/m3": 8.35,
         "PM10 (CF=ATM) ug/m3": 13.11,
         "_deepnote_index_column": 740812
        },
        {
         "created_at": "2021-08-12T00:26:50.000000",
         "0.3um/dl": 1675.78,
         "0.5um/dl": 475.69,
         "1.0um/dl": 71.36,
         "2.5um/dl": 4.51,
         "5.0um/dl": 1.07,
         "10.0um/dl": 0,
         "PM1.0 (CF=ATM) ug/m3": 8.39,
         "PM10 (CF=ATM) ug/m3": 13.15,
         "_deepnote_index_column": 740813
        },
        {
         "created_at": "2021-08-12T00:28:35.000000",
         "0.3um/dl": 1608.31,
         "0.5um/dl": 452.53,
         "1.0um/dl": 55.69,
         "2.5um/dl": 2.98,
         "5.0um/dl": 0.74,
         "10.0um/dl": 0.19,
         "PM1.0 (CF=ATM) ug/m3": 7.84,
         "PM10 (CF=ATM) ug/m3": 11.38,
         "_deepnote_index_column": 740814
        },
        {
         "created_at": "2021-08-12T00:30:47.000000",
         "0.3um/dl": 1646.68,
         "0.5um/dl": 467.96,
         "1.0um/dl": 72.09,
         "2.5um/dl": 5.14,
         "5.0um/dl": 0.88,
         "10.0um/dl": 0.18,
         "PM1.0 (CF=ATM) ug/m3": 8.16,
         "PM10 (CF=ATM) ug/m3": 13.11,
         "_deepnote_index_column": 740815
        },
        {
         "created_at": "2021-08-12T00:32:34.000000",
         "0.3um/dl": 2120.07,
         "0.5um/dl": 592.66,
         "1.0um/dl": 71.29,
         "2.5um/dl": 6.64,
         "5.0um/dl": 1.52,
         "10.0um/dl": 0.41,
         "PM1.0 (CF=ATM) ug/m3": 10.33,
         "PM10 (CF=ATM) ug/m3": 15.41,
         "_deepnote_index_column": 740816
        },
        {
         "created_at": "2021-08-12T00:34:37.000000",
         "0.3um/dl": 2297.15,
         "0.5um/dl": 658.68,
         "1.0um/dl": 67.23,
         "2.5um/dl": 4.43,
         "5.0um/dl": 0.55,
         "10.0um/dl": 0,
         "PM1.0 (CF=ATM) ug/m3": 11.85,
         "PM10 (CF=ATM) ug/m3": 15.58,
         "_deepnote_index_column": 740817
        },
        {
         "created_at": "2021-08-12T00:37:09.000000",
         "0.3um/dl": 2170.32,
         "0.5um/dl": 605.42,
         "1.0um/dl": 82.47,
         "2.5um/dl": 4.32,
         "5.0um/dl": 0.98,
         "10.0um/dl": 0,
         "PM1.0 (CF=ATM) ug/m3": 10.46,
         "PM10 (CF=ATM) ug/m3": 15.61,
         "_deepnote_index_column": 740818
        },
        {
         "created_at": "2021-08-12T00:38:37.000000",
         "0.3um/dl": 1648.8,
         "0.5um/dl": 457.35,
         "1.0um/dl": 83.13,
         "2.5um/dl": 4.85,
         "5.0um/dl": 0.98,
         "10.0um/dl": 0.89,
         "PM1.0 (CF=ATM) ug/m3": 7.87,
         "PM10 (CF=ATM) ug/m3": 13.73,
         "_deepnote_index_column": 740819
        },
        {
         "created_at": "2021-08-12T00:40:34.000000",
         "0.3um/dl": 1793.3,
         "0.5um/dl": 505.57,
         "1.0um/dl": 83.12,
         "2.5um/dl": 6.93,
         "5.0um/dl": 1.89,
         "10.0um/dl": 0.43,
         "PM1.0 (CF=ATM) ug/m3": 8.7,
         "PM10 (CF=ATM) ug/m3": 14.55,
         "_deepnote_index_column": 740820
        },
        {
         "created_at": "2021-08-12T00:42:40.000000",
         "0.3um/dl": 1699.55,
         "0.5um/dl": 472.28,
         "1.0um/dl": 85.66,
         "2.5um/dl": 5.48,
         "5.0um/dl": 0.38,
         "10.0um/dl": 0.21,
         "PM1.0 (CF=ATM) ug/m3": 8.02,
         "PM10 (CF=ATM) ug/m3": 13.09,
         "_deepnote_index_column": 740821
        },
        {
         "created_at": "2021-08-12T00:44:51.000000",
         "0.3um/dl": 1809.98,
         "0.5um/dl": 504.93,
         "1.0um/dl": 90.47,
         "2.5um/dl": 7.28,
         "5.0um/dl": 2.16,
         "10.0um/dl": 0.72,
         "PM1.0 (CF=ATM) ug/m3": 8.64,
         "PM10 (CF=ATM) ug/m3": 15.31,
         "_deepnote_index_column": 740822
        },
        {
         "created_at": "2021-08-12T00:46:35.000000",
         "0.3um/dl": 1821.64,
         "0.5um/dl": 518.29,
         "1.0um/dl": 85.93,
         "2.5um/dl": 9.61,
         "5.0um/dl": 1.59,
         "10.0um/dl": 0.25,
         "PM1.0 (CF=ATM) ug/m3": 8.86,
         "PM10 (CF=ATM) ug/m3": 15.45,
         "_deepnote_index_column": 740823
        },
        {
         "created_at": "2021-08-12T00:48:35.000000",
         "0.3um/dl": 1802.85,
         "0.5um/dl": 508.98,
         "1.0um/dl": 84.12,
         "2.5um/dl": 5.37,
         "5.0um/dl": 0.69,
         "10.0um/dl": 0,
         "PM1.0 (CF=ATM) ug/m3": 9.02,
         "PM10 (CF=ATM) ug/m3": 14.22,
         "_deepnote_index_column": 740824
        },
        {
         "created_at": "2021-08-12T00:50:36.000000",
         "0.3um/dl": 1887.47,
         "0.5um/dl": 532.02,
         "1.0um/dl": 90.64,
         "2.5um/dl": 6.97,
         "5.0um/dl": 0.97,
         "10.0um/dl": 0.43,
         "PM1.0 (CF=ATM) ug/m3": 10.1,
         "PM10 (CF=ATM) ug/m3": 15.53,
         "_deepnote_index_column": 740825
        },
        {
         "created_at": "2021-08-12T00:52:35.000000",
         "0.3um/dl": 1970.73,
         "0.5um/dl": 562.52,
         "1.0um/dl": 99.29,
         "2.5um/dl": 8.07,
         "5.0um/dl": 1.45,
         "10.0um/dl": 0.23,
         "PM1.0 (CF=ATM) ug/m3": 10.36,
         "PM10 (CF=ATM) ug/m3": 16.88,
         "_deepnote_index_column": 740826
        },
        {
         "created_at": "2021-08-12T00:56:43.000000",
         "0.3um/dl": 1722.53,
         "0.5um/dl": 492.95,
         "1.0um/dl": 84.82,
         "2.5um/dl": 5.93,
         "5.0um/dl": 0.84,
         "10.0um/dl": 0.23,
         "PM1.0 (CF=ATM) ug/m3": 8.65,
         "PM10 (CF=ATM) ug/m3": 14.35,
         "_deepnote_index_column": 740827
        },
        {
         "created_at": "2021-08-12T00:59:21.000000",
         "0.3um/dl": 1830.2,
         "0.5um/dl": 514.78,
         "1.0um/dl": 84.19,
         "2.5um/dl": 6.14,
         "5.0um/dl": 0.69,
         "10.0um/dl": 0.25,
         "PM1.0 (CF=ATM) ug/m3": 9.32,
         "PM10 (CF=ATM) ug/m3": 14.86,
         "_deepnote_index_column": 740828
        },
        {
         "created_at": "2021-08-12T01:00:36.000000",
         "0.3um/dl": 1788.64,
         "0.5um/dl": 503.27,
         "1.0um/dl": 81.75,
         "2.5um/dl": 5.57,
         "5.0um/dl": 1.32,
         "10.0um/dl": 0.12,
         "PM1.0 (CF=ATM) ug/m3": 9.39,
         "PM10 (CF=ATM) ug/m3": 14.3,
         "_deepnote_index_column": 740829
        },
        {
         "created_at": "2021-08-12T01:02:42.000000",
         "0.3um/dl": 1693.93,
         "0.5um/dl": 488.04,
         "1.0um/dl": 73.82,
         "2.5um/dl": 5.43,
         "5.0um/dl": 1.55,
         "10.0um/dl": 0.04,
         "PM1.0 (CF=ATM) ug/m3": 8.96,
         "PM10 (CF=ATM) ug/m3": 14.02,
         "_deepnote_index_column": 740830
        },
        {
         "created_at": "2021-08-12T01:04:46.000000",
         "0.3um/dl": 1792.53,
         "0.5um/dl": 508.47,
         "1.0um/dl": 88.24,
         "2.5um/dl": 6.27,
         "5.0um/dl": 0.75,
         "10.0um/dl": 0.29,
         "PM1.0 (CF=ATM) ug/m3": 8.92,
         "PM10 (CF=ATM) ug/m3": 14.71,
         "_deepnote_index_column": 740831
        },
        {
         "created_at": "2021-08-12T01:06:35.000000",
         "0.3um/dl": 1817.49,
         "0.5um/dl": 520.85,
         "1.0um/dl": 86.19,
         "2.5um/dl": 7.93,
         "5.0um/dl": 1.39,
         "10.0um/dl": 0.49,
         "PM1.0 (CF=ATM) ug/m3": 9.39,
         "PM10 (CF=ATM) ug/m3": 15.68,
         "_deepnote_index_column": 740832
        },
        {
         "created_at": "2021-08-12T01:09:11.000000",
         "0.3um/dl": 1805.74,
         "0.5um/dl": 507.66,
         "1.0um/dl": 76.86,
         "2.5um/dl": 5.64,
         "5.0um/dl": 1.24,
         "10.0um/dl": 0.31,
         "PM1.0 (CF=ATM) ug/m3": 9.34,
         "PM10 (CF=ATM) ug/m3": 14.31,
         "_deepnote_index_column": 740833
        },
        {
         "created_at": "2021-08-12T01:10:35.000000",
         "0.3um/dl": 1866.21,
         "0.5um/dl": 524.73,
         "1.0um/dl": 86.89,
         "2.5um/dl": 4.96,
         "5.0um/dl": 0.84,
         "10.0um/dl": 0,
         "PM1.0 (CF=ATM) ug/m3": 9.62,
         "PM10 (CF=ATM) ug/m3": 14.88,
         "_deepnote_index_column": 740834
        },
        {
         "created_at": "2021-08-12T01:12:35.000000",
         "0.3um/dl": 1846.27,
         "0.5um/dl": 521.29,
         "1.0um/dl": 94.85,
         "2.5um/dl": 6.92,
         "5.0um/dl": 1,
         "10.0um/dl": 0,
         "PM1.0 (CF=ATM) ug/m3": 9.58,
         "PM10 (CF=ATM) ug/m3": 15.61,
         "_deepnote_index_column": 740835
        },
        {
         "created_at": "2021-08-12T01:14:41.000000",
         "0.3um/dl": 1930.15,
         "0.5um/dl": 548.92,
         "1.0um/dl": 93.07,
         "2.5um/dl": 6.78,
         "5.0um/dl": 0.72,
         "10.0um/dl": 0,
         "PM1.0 (CF=ATM) ug/m3": 9.52,
         "PM10 (CF=ATM) ug/m3": 15.8,
         "_deepnote_index_column": 740836
        },
        {
         "created_at": "2021-08-12T01:16:35.000000",
         "0.3um/dl": 1823.95,
         "0.5um/dl": 519.07,
         "1.0um/dl": 90.8,
         "2.5um/dl": 7.14,
         "5.0um/dl": 0.98,
         "10.0um/dl": 0.21,
         "PM1.0 (CF=ATM) ug/m3": 9.38,
         "PM10 (CF=ATM) ug/m3": 15.39,
         "_deepnote_index_column": 740837
        },
        {
         "created_at": "2021-08-12T01:20:42.000000",
         "0.3um/dl": 1786.81,
         "0.5um/dl": 511.95,
         "1.0um/dl": 96.29,
         "2.5um/dl": 5.71,
         "5.0um/dl": 0.19,
         "10.0um/dl": 0,
         "PM1.0 (CF=ATM) ug/m3": 9.26,
         "PM10 (CF=ATM) ug/m3": 15.29,
         "_deepnote_index_column": 740838
        },
        {
         "created_at": "2021-08-12T01:23:00.000000",
         "0.3um/dl": 1814.38,
         "0.5um/dl": 512.81,
         "1.0um/dl": 79.41,
         "2.5um/dl": 4.47,
         "5.0um/dl": 0.67,
         "10.0um/dl": 0.22,
         "PM1.0 (CF=ATM) ug/m3": 9.16,
         "PM10 (CF=ATM) ug/m3": 13.98,
         "_deepnote_index_column": 740839
        },
        {
         "created_at": "2021-08-12T01:24:35.000000",
         "0.3um/dl": 4336.91,
         "0.5um/dl": 1214.95,
         "1.0um/dl": 170.36,
         "2.5um/dl": 8.76,
         "5.0um/dl": 2.13,
         "10.0um/dl": 0.22,
         "PM1.0 (CF=ATM) ug/m3": 18.93,
         "PM10 (CF=ATM) ug/m3": 30.55,
         "_deepnote_index_column": 740840
        },
        {
         "created_at": "2021-08-12T01:26:35.000000",
         "0.3um/dl": 2835.76,
         "0.5um/dl": 787.98,
         "1.0um/dl": 117.69,
         "2.5um/dl": 7.22,
         "5.0um/dl": 1.89,
         "10.0um/dl": 0.73,
         "PM1.0 (CF=ATM) ug/m3": 14.38,
         "PM10 (CF=ATM) ug/m3": 22.29,
         "_deepnote_index_column": 740841
        },
        {
         "created_at": "2021-08-12T01:28:44.000000",
         "0.3um/dl": 2177,
         "0.5um/dl": 606.54,
         "1.0um/dl": 95.51,
         "2.5um/dl": 5.21,
         "5.0um/dl": 0.46,
         "10.0um/dl": 0.26,
         "PM1.0 (CF=ATM) ug/m3": 10.47,
         "PM10 (CF=ATM) ug/m3": 16.35,
         "_deepnote_index_column": 740842
        },
        {
         "created_at": "2021-08-12T01:30:39.000000",
         "0.3um/dl": 1847.28,
         "0.5um/dl": 517.38,
         "1.0um/dl": 86.91,
         "2.5um/dl": 5.78,
         "5.0um/dl": 0.33,
         "10.0um/dl": 0.19,
         "PM1.0 (CF=ATM) ug/m3": 9.5,
         "PM10 (CF=ATM) ug/m3": 14.93,
         "_deepnote_index_column": 740843
        },
        {
         "created_at": "2021-08-12T01:32:41.000000",
         "0.3um/dl": 1863.41,
         "0.5um/dl": 530.15,
         "1.0um/dl": 85.98,
         "2.5um/dl": 7.92,
         "5.0um/dl": 1.59,
         "10.0um/dl": 0.66,
         "PM1.0 (CF=ATM) ug/m3": 9.86,
         "PM10 (CF=ATM) ug/m3": 16.05,
         "_deepnote_index_column": 740844
        },
        {
         "created_at": "2021-08-12T01:34:35.000000",
         "0.3um/dl": 1794.98,
         "0.5um/dl": 512.49,
         "1.0um/dl": 90,
         "2.5um/dl": 8.47,
         "5.0um/dl": 1.64,
         "10.0um/dl": 0.82,
         "PM1.0 (CF=ATM) ug/m3": 9.33,
         "PM10 (CF=ATM) ug/m3": 16.11,
         "_deepnote_index_column": 740845
        },
        {
         "created_at": "2021-08-12T01:36:35.000000",
         "0.3um/dl": 1981.71,
         "0.5um/dl": 573.48,
         "1.0um/dl": 97.2,
         "2.5um/dl": 10.04,
         "5.0um/dl": 2,
         "10.0um/dl": 0.66,
         "PM1.0 (CF=ATM) ug/m3": 10.57,
         "PM10 (CF=ATM) ug/m3": 17.3,
         "_deepnote_index_column": 740846
        },
        {
         "created_at": "2021-08-12T01:38:35.000000",
         "0.3um/dl": 2018.02,
         "0.5um/dl": 566.71,
         "1.0um/dl": 91.72,
         "2.5um/dl": 6.14,
         "5.0um/dl": 1.53,
         "10.0um/dl": 0.36,
         "PM1.0 (CF=ATM) ug/m3": 10.5,
         "PM10 (CF=ATM) ug/m3": 16.6,
         "_deepnote_index_column": 740847
        },
        {
         "created_at": "2021-08-12T01:40:35.000000",
         "0.3um/dl": 1889.45,
         "0.5um/dl": 538.77,
         "1.0um/dl": 89.9,
         "2.5um/dl": 5.75,
         "5.0um/dl": 0.93,
         "10.0um/dl": 0.22,
         "PM1.0 (CF=ATM) ug/m3": 9.78,
         "PM10 (CF=ATM) ug/m3": 15.58,
         "_deepnote_index_column": 740848
        },
        {
         "created_at": "2021-08-12T01:42:40.000000",
         "0.3um/dl": 1919.11,
         "0.5um/dl": 546.3,
         "1.0um/dl": 91.26,
         "2.5um/dl": 9.28,
         "5.0um/dl": 2.14,
         "10.0um/dl": 0,
         "PM1.0 (CF=ATM) ug/m3": 9.74,
         "PM10 (CF=ATM) ug/m3": 16.51,
         "_deepnote_index_column": 740849
        },
        {
         "created_at": "2021-08-12T01:44:36.000000",
         "0.3um/dl": 1966.5,
         "0.5um/dl": 561.02,
         "1.0um/dl": 85.39,
         "2.5um/dl": 5.18,
         "5.0um/dl": 1.82,
         "10.0um/dl": 0.46,
         "PM1.0 (CF=ATM) ug/m3": 10.14,
         "PM10 (CF=ATM) ug/m3": 15.89,
         "_deepnote_index_column": 740850
        },
        {
         "created_at": "2021-08-12T01:46:37.000000",
         "0.3um/dl": 1914.05,
         "0.5um/dl": 539.88,
         "1.0um/dl": 85.98,
         "2.5um/dl": 6.26,
         "5.0um/dl": 1.79,
         "10.0um/dl": 0.74,
         "PM1.0 (CF=ATM) ug/m3": 10.09,
         "PM10 (CF=ATM) ug/m3": 15.6,
         "_deepnote_index_column": 740851
        },
        {
         "created_at": "2021-08-12T01:48:38.000000",
         "0.3um/dl": 1827.05,
         "0.5um/dl": 525.65,
         "1.0um/dl": 106.39,
         "2.5um/dl": 7.28,
         "5.0um/dl": 1.39,
         "10.0um/dl": 0.28,
         "PM1.0 (CF=ATM) ug/m3": 9.37,
         "PM10 (CF=ATM) ug/m3": 16.47,
         "_deepnote_index_column": 740852
        },
        {
         "created_at": "2021-08-12T01:52:47.000000",
         "0.3um/dl": 1958.43,
         "0.5um/dl": 556.9,
         "1.0um/dl": 92.64,
         "2.5um/dl": 7.21,
         "5.0um/dl": 1.53,
         "10.0um/dl": 0.22,
         "PM1.0 (CF=ATM) ug/m3": 10.24,
         "PM10 (CF=ATM) ug/m3": 16.34,
         "_deepnote_index_column": 740853
        },
        {
         "created_at": "2021-08-12T01:54:55.000000",
         "0.3um/dl": 1910.84,
         "0.5um/dl": 538.5,
         "1.0um/dl": 84.1,
         "2.5um/dl": 4.53,
         "5.0um/dl": 0.4,
         "10.0um/dl": 0.26,
         "PM1.0 (CF=ATM) ug/m3": 10.1,
         "PM10 (CF=ATM) ug/m3": 14.98,
         "_deepnote_index_column": 740854
        }
       ],
       "rows_bottom": [
        {
         "created_at": "2021-08-18T22:04:22.000000",
         "0.3um/dl": 2272.91,
         "0.5um/dl": 649.38,
         "1.0um/dl": 121.31,
         "2.5um/dl": 10.74,
         "5.0um/dl": 3.26,
         "10.0um/dl": 0.57,
         "PM1.0 (CF=ATM) ug/m3": 11.57,
         "PM10 (CF=ATM) ug/m3": 20.88,
         "_deepnote_index_column": 745193
        },
        {
         "created_at": "2021-08-18T22:06:25.000000",
         "0.3um/dl": 2355,
         "0.5um/dl": 667.07,
         "1.0um/dl": 125.62,
         "2.5um/dl": 7.97,
         "5.0um/dl": 1.69,
         "10.0um/dl": 0.52,
         "PM1.0 (CF=ATM) ug/m3": 12.16,
         "PM10 (CF=ATM) ug/m3": 20.41,
         "_deepnote_index_column": 745194
        },
        {
         "created_at": "2021-08-18T22:08:22.000000",
         "0.3um/dl": 2462.73,
         "0.5um/dl": 700.25,
         "1.0um/dl": 126.69,
         "2.5um/dl": 11.49,
         "5.0um/dl": 2.45,
         "10.0um/dl": 0.51,
         "PM1.0 (CF=ATM) ug/m3": 12.8,
         "PM10 (CF=ATM) ug/m3": 22.45,
         "_deepnote_index_column": 745195
        },
        {
         "created_at": "2021-08-18T22:10:22.000000",
         "0.3um/dl": 2390.68,
         "0.5um/dl": 687.6,
         "1.0um/dl": 124.11,
         "2.5um/dl": 13,
         "5.0um/dl": 3.42,
         "10.0um/dl": 0.82,
         "PM1.0 (CF=ATM) ug/m3": 12.91,
         "PM10 (CF=ATM) ug/m3": 22.32,
         "_deepnote_index_column": 745196
        },
        {
         "created_at": "2021-08-18T22:12:22.000000",
         "0.3um/dl": 2159,
         "0.5um/dl": 620.14,
         "1.0um/dl": 119.84,
         "2.5um/dl": 16.61,
         "5.0um/dl": 3.98,
         "10.0um/dl": 1.91,
         "PM1.0 (CF=ATM) ug/m3": 11.18,
         "PM10 (CF=ATM) ug/m3": 22.09,
         "_deepnote_index_column": 745197
        },
        {
         "created_at": "2021-08-18T22:14:22.000000",
         "0.3um/dl": 2210.15,
         "0.5um/dl": 636.27,
         "1.0um/dl": 133.62,
         "2.5um/dl": 11.08,
         "5.0um/dl": 2.55,
         "10.0um/dl": 1.48,
         "PM1.0 (CF=ATM) ug/m3": 11.17,
         "PM10 (CF=ATM) ug/m3": 21.45,
         "_deepnote_index_column": 745198
        },
        {
         "created_at": "2021-08-18T22:16:23.000000",
         "0.3um/dl": 2383.61,
         "0.5um/dl": 680.64,
         "1.0um/dl": 128.12,
         "2.5um/dl": 10.95,
         "5.0um/dl": 2.93,
         "10.0um/dl": 0.45,
         "PM1.0 (CF=ATM) ug/m3": 12.88,
         "PM10 (CF=ATM) ug/m3": 21.84,
         "_deepnote_index_column": 745199
        },
        {
         "created_at": "2021-08-18T22:18:22.000000",
         "0.3um/dl": 2421.58,
         "0.5um/dl": 688.96,
         "1.0um/dl": 127.16,
         "2.5um/dl": 13.91,
         "5.0um/dl": 3.16,
         "10.0um/dl": 0.79,
         "PM1.0 (CF=ATM) ug/m3": 12.61,
         "PM10 (CF=ATM) ug/m3": 22.39,
         "_deepnote_index_column": 745200
        },
        {
         "created_at": "2021-08-18T22:20:24.000000",
         "0.3um/dl": 2575.6,
         "0.5um/dl": 731.12,
         "1.0um/dl": 132.71,
         "2.5um/dl": 15.17,
         "5.0um/dl": 5.21,
         "10.0um/dl": 1.62,
         "PM1.0 (CF=ATM) ug/m3": 13.21,
         "PM10 (CF=ATM) ug/m3": 24.26,
         "_deepnote_index_column": 745201
        },
        {
         "created_at": "2021-08-18T22:22:22.000000",
         "0.3um/dl": 2638.85,
         "0.5um/dl": 757.57,
         "1.0um/dl": 142.08,
         "2.5um/dl": 15.35,
         "5.0um/dl": 3.4,
         "10.0um/dl": 0.83,
         "PM1.0 (CF=ATM) ug/m3": 13.33,
         "PM10 (CF=ATM) ug/m3": 24.47,
         "_deepnote_index_column": 745202
        },
        {
         "created_at": "2021-08-18T22:24:22.000000",
         "0.3um/dl": 2539.37,
         "0.5um/dl": 718.53,
         "1.0um/dl": 127.91,
         "2.5um/dl": 14.3,
         "5.0um/dl": 3.4,
         "10.0um/dl": 1.07,
         "PM1.0 (CF=ATM) ug/m3": 13.23,
         "PM10 (CF=ATM) ug/m3": 23.51,
         "_deepnote_index_column": 745203
        },
        {
         "created_at": "2021-08-18T22:26:22.000000",
         "0.3um/dl": 2341.36,
         "0.5um/dl": 668.27,
         "1.0um/dl": 120.31,
         "2.5um/dl": 13.64,
         "5.0um/dl": 4.8,
         "10.0um/dl": 1.15,
         "PM1.0 (CF=ATM) ug/m3": 12.16,
         "PM10 (CF=ATM) ug/m3": 22.76,
         "_deepnote_index_column": 745204
        },
        {
         "created_at": "2021-08-18T22:28:22.000000",
         "0.3um/dl": 2348.69,
         "0.5um/dl": 661.8,
         "1.0um/dl": 119.66,
         "2.5um/dl": 12.68,
         "5.0um/dl": 2.83,
         "10.0um/dl": 0.83,
         "PM1.0 (CF=ATM) ug/m3": 12.25,
         "PM10 (CF=ATM) ug/m3": 21.68,
         "_deepnote_index_column": 745205
        },
        {
         "created_at": "2021-08-18T22:30:22.000000",
         "0.3um/dl": 2136.62,
         "0.5um/dl": 603.84,
         "1.0um/dl": 119.24,
         "2.5um/dl": 14.64,
         "5.0um/dl": 3.76,
         "10.0um/dl": 0.71,
         "PM1.0 (CF=ATM) ug/m3": 10.34,
         "PM10 (CF=ATM) ug/m3": 20.69,
         "_deepnote_index_column": 745206
        },
        {
         "created_at": "2021-08-18T22:32:22.000000",
         "0.3um/dl": 2203.4,
         "0.5um/dl": 628.55,
         "1.0um/dl": 111.34,
         "2.5um/dl": 9.34,
         "5.0um/dl": 2.76,
         "10.0um/dl": 1.05,
         "PM1.0 (CF=ATM) ug/m3": 11.57,
         "PM10 (CF=ATM) ug/m3": 19.88,
         "_deepnote_index_column": 745207
        },
        {
         "created_at": "2021-08-18T22:36:28.000000",
         "0.3um/dl": 2275.36,
         "0.5um/dl": 652.16,
         "1.0um/dl": 133,
         "2.5um/dl": 15.98,
         "5.0um/dl": 4.87,
         "10.0um/dl": 1.51,
         "PM1.0 (CF=ATM) ug/m3": 11.8,
         "PM10 (CF=ATM) ug/m3": 23.44,
         "_deepnote_index_column": 745208
        },
        {
         "created_at": "2021-08-18T22:39:10.000000",
         "0.3um/dl": 2304.33,
         "0.5um/dl": 650.09,
         "1.0um/dl": 115.02,
         "2.5um/dl": 13.44,
         "5.0um/dl": 3.65,
         "10.0um/dl": 1.15,
         "PM1.0 (CF=ATM) ug/m3": 11.69,
         "PM10 (CF=ATM) ug/m3": 21.25,
         "_deepnote_index_column": 745209
        },
        {
         "created_at": "2021-08-18T22:40:23.000000",
         "0.3um/dl": 2740.15,
         "0.5um/dl": 777.51,
         "1.0um/dl": 136,
         "2.5um/dl": 14.42,
         "5.0um/dl": 2.22,
         "10.0um/dl": 0.33,
         "PM1.0 (CF=ATM) ug/m3": 14.38,
         "PM10 (CF=ATM) ug/m3": 24.6,
         "_deepnote_index_column": 745210
        },
        {
         "created_at": "2021-08-18T22:42:26.000000",
         "0.3um/dl": 2489.16,
         "0.5um/dl": 702.46,
         "1.0um/dl": 134.11,
         "2.5um/dl": 14.72,
         "5.0um/dl": 4.18,
         "10.0um/dl": 1.39,
         "PM1.0 (CF=ATM) ug/m3": 12.89,
         "PM10 (CF=ATM) ug/m3": 24.21,
         "_deepnote_index_column": 745211
        },
        {
         "created_at": "2021-08-18T22:44:40.000000",
         "0.3um/dl": 2285.38,
         "0.5um/dl": 652.26,
         "1.0um/dl": 124.9,
         "2.5um/dl": 11.33,
         "5.0um/dl": 2.98,
         "10.0um/dl": 0.6,
         "PM1.0 (CF=ATM) ug/m3": 11.62,
         "PM10 (CF=ATM) ug/m3": 21.41,
         "_deepnote_index_column": 745212
        },
        {
         "created_at": "2021-08-18T22:46:34.000000",
         "0.3um/dl": 2556.79,
         "0.5um/dl": 731.18,
         "1.0um/dl": 128.26,
         "2.5um/dl": 14.7,
         "5.0um/dl": 3.95,
         "10.0um/dl": 0.82,
         "PM1.0 (CF=ATM) ug/m3": 13.47,
         "PM10 (CF=ATM) ug/m3": 23.91,
         "_deepnote_index_column": 745213
        },
        {
         "created_at": "2021-08-18T22:48:23.000000",
         "0.3um/dl": 2341.45,
         "0.5um/dl": 664.7,
         "1.0um/dl": 124.71,
         "2.5um/dl": 14.25,
         "5.0um/dl": 2.79,
         "10.0um/dl": 0.36,
         "PM1.0 (CF=ATM) ug/m3": 12,
         "PM10 (CF=ATM) ug/m3": 21.68,
         "_deepnote_index_column": 745214
        },
        {
         "created_at": "2021-08-18T22:50:23.000000",
         "0.3um/dl": 2096.48,
         "0.5um/dl": 599.86,
         "1.0um/dl": 115.71,
         "2.5um/dl": 14.45,
         "5.0um/dl": 3.79,
         "10.0um/dl": 0.78,
         "PM1.0 (CF=ATM) ug/m3": 10.79,
         "PM10 (CF=ATM) ug/m3": 20.67,
         "_deepnote_index_column": 745215
        },
        {
         "created_at": "2021-08-18T22:52:23.000000",
         "0.3um/dl": 2206.22,
         "0.5um/dl": 617.1,
         "1.0um/dl": 113.71,
         "2.5um/dl": 12.22,
         "5.0um/dl": 3.25,
         "10.0um/dl": 0.93,
         "PM1.0 (CF=ATM) ug/m3": 11.24,
         "PM10 (CF=ATM) ug/m3": 20.17,
         "_deepnote_index_column": 745216
        },
        {
         "created_at": "2021-08-18T22:54:23.000000",
         "0.3um/dl": 2201.07,
         "0.5um/dl": 616.57,
         "1.0um/dl": 117.24,
         "2.5um/dl": 14.62,
         "5.0um/dl": 5.05,
         "10.0um/dl": 1.22,
         "PM1.0 (CF=ATM) ug/m3": 11.07,
         "PM10 (CF=ATM) ug/m3": 21.07,
         "_deepnote_index_column": 745217
        },
        {
         "created_at": "2021-08-18T22:56:22.000000",
         "0.3um/dl": 1986.27,
         "0.5um/dl": 566.61,
         "1.0um/dl": 111.16,
         "2.5um/dl": 9.62,
         "5.0um/dl": 2.59,
         "10.0um/dl": 0.66,
         "PM1.0 (CF=ATM) ug/m3": 10.55,
         "PM10 (CF=ATM) ug/m3": 18.12,
         "_deepnote_index_column": 745218
        },
        {
         "created_at": "2021-08-18T22:58:23.000000",
         "0.3um/dl": 3326.95,
         "0.5um/dl": 942.74,
         "1.0um/dl": 172.12,
         "2.5um/dl": 17.77,
         "5.0um/dl": 7.32,
         "10.0um/dl": 1.26,
         "PM1.0 (CF=ATM) ug/m3": 17.82,
         "PM10 (CF=ATM) ug/m3": 31.96,
         "_deepnote_index_column": 745219
        },
        {
         "created_at": "2021-08-18T23:00:22.000000",
         "0.3um/dl": 2670.1,
         "0.5um/dl": 755.71,
         "1.0um/dl": 137.07,
         "2.5um/dl": 17.83,
         "5.0um/dl": 6.29,
         "10.0um/dl": 1.07,
         "PM1.0 (CF=ATM) ug/m3": 13.6,
         "PM10 (CF=ATM) ug/m3": 25.91,
         "_deepnote_index_column": 745220
        },
        {
         "created_at": "2021-08-18T23:02:38.000000",
         "0.3um/dl": 2375.95,
         "0.5um/dl": 680.12,
         "1.0um/dl": 118.4,
         "2.5um/dl": 13.46,
         "5.0um/dl": 3.93,
         "10.0um/dl": 1,
         "PM1.0 (CF=ATM) ug/m3": 12.14,
         "PM10 (CF=ATM) ug/m3": 22.58,
         "_deepnote_index_column": 745221
        },
        {
         "created_at": "2021-08-18T23:04:23.000000",
         "0.3um/dl": 2107.66,
         "0.5um/dl": 606.27,
         "1.0um/dl": 113.91,
         "2.5um/dl": 12.79,
         "5.0um/dl": 3.91,
         "10.0um/dl": 0.91,
         "PM1.0 (CF=ATM) ug/m3": 10.88,
         "PM10 (CF=ATM) ug/m3": 20.34,
         "_deepnote_index_column": 745222
        },
        {
         "created_at": "2021-08-18T23:06:23.000000",
         "0.3um/dl": 2162.95,
         "0.5um/dl": 615.79,
         "1.0um/dl": 106.26,
         "2.5um/dl": 10.81,
         "5.0um/dl": 2.16,
         "10.0um/dl": 0.61,
         "PM1.0 (CF=ATM) ug/m3": 11.12,
         "PM10 (CF=ATM) ug/m3": 19.51,
         "_deepnote_index_column": 745223
        },
        {
         "created_at": "2021-08-18T23:08:22.000000",
         "0.3um/dl": 2012.22,
         "0.5um/dl": 583.02,
         "1.0um/dl": 115.64,
         "2.5um/dl": 9.43,
         "5.0um/dl": 2.79,
         "10.0um/dl": 0.33,
         "PM1.0 (CF=ATM) ug/m3": 10.67,
         "PM10 (CF=ATM) ug/m3": 18.93,
         "_deepnote_index_column": 745224
        },
        {
         "created_at": "2021-08-18T23:10:23.000000",
         "0.3um/dl": 2021.37,
         "0.5um/dl": 579.4,
         "1.0um/dl": 110.65,
         "2.5um/dl": 9.96,
         "5.0um/dl": 2.7,
         "10.0um/dl": 1.12,
         "PM1.0 (CF=ATM) ug/m3": 10.65,
         "PM10 (CF=ATM) ug/m3": 19.32,
         "_deepnote_index_column": 745225
        },
        {
         "created_at": "2021-08-18T23:12:23.000000",
         "0.3um/dl": 1804.2,
         "0.5um/dl": 517.64,
         "1.0um/dl": 104.04,
         "2.5um/dl": 11.73,
         "5.0um/dl": 2.22,
         "10.0um/dl": 0.11,
         "PM1.0 (CF=ATM) ug/m3": 9.35,
         "PM10 (CF=ATM) ug/m3": 17.49,
         "_deepnote_index_column": 745226
        },
        {
         "created_at": "2021-08-18T23:14:23.000000",
         "0.3um/dl": 1821.75,
         "0.5um/dl": 522.32,
         "1.0um/dl": 95.05,
         "2.5um/dl": 8.5,
         "5.0um/dl": 2.54,
         "10.0um/dl": 1,
         "PM1.0 (CF=ATM) ug/m3": 9.2,
         "PM10 (CF=ATM) ug/m3": 17.11,
         "_deepnote_index_column": 745227
        },
        {
         "created_at": "2021-08-18T23:16:26.000000",
         "0.3um/dl": 1816.4,
         "0.5um/dl": 514.78,
         "1.0um/dl": 105.98,
         "2.5um/dl": 13.36,
         "5.0um/dl": 4.78,
         "10.0um/dl": 2.33,
         "PM1.0 (CF=ATM) ug/m3": 9.07,
         "PM10 (CF=ATM) ug/m3": 19.24,
         "_deepnote_index_column": 745228
        },
        {
         "created_at": "2021-08-18T23:18:29.000000",
         "0.3um/dl": 1985.42,
         "0.5um/dl": 560.51,
         "1.0um/dl": 114.46,
         "2.5um/dl": 13.98,
         "5.0um/dl": 5.18,
         "10.0um/dl": 1.25,
         "PM1.0 (CF=ATM) ug/m3": 9.98,
         "PM10 (CF=ATM) ug/m3": 20.46,
         "_deepnote_index_column": 745229
        },
        {
         "created_at": "2021-08-18T23:20:23.000000",
         "0.3um/dl": 1866.43,
         "0.5um/dl": 528.62,
         "1.0um/dl": 109.3,
         "2.5um/dl": 14.09,
         "5.0um/dl": 4.16,
         "10.0um/dl": 1.55,
         "PM1.0 (CF=ATM) ug/m3": 9.14,
         "PM10 (CF=ATM) ug/m3": 19.59,
         "_deepnote_index_column": 745230
        },
        {
         "created_at": "2021-08-18T23:22:26.000000",
         "0.3um/dl": 1633.47,
         "0.5um/dl": 468.25,
         "1.0um/dl": 92.31,
         "2.5um/dl": 8.75,
         "5.0um/dl": 2.11,
         "10.0um/dl": 0.2,
         "PM1.0 (CF=ATM) ug/m3": 8.09,
         "PM10 (CF=ATM) ug/m3": 15.15,
         "_deepnote_index_column": 745231
        },
        {
         "created_at": "2021-08-18T23:24:27.000000",
         "0.3um/dl": 1713.36,
         "0.5um/dl": 490.49,
         "1.0um/dl": 97.36,
         "2.5um/dl": 11.46,
         "5.0um/dl": 3.36,
         "10.0um/dl": 1.36,
         "PM1.0 (CF=ATM) ug/m3": 8.81,
         "PM10 (CF=ATM) ug/m3": 17.42,
         "_deepnote_index_column": 745232
        },
        {
         "created_at": "2021-08-18T23:26:23.000000",
         "0.3um/dl": 1789.83,
         "0.5um/dl": 507.83,
         "1.0um/dl": 106.63,
         "2.5um/dl": 13.66,
         "5.0um/dl": 3.68,
         "10.0um/dl": 2,
         "PM1.0 (CF=ATM) ug/m3": 9.27,
         "PM10 (CF=ATM) ug/m3": 18.44,
         "_deepnote_index_column": 745233
        },
        {
         "created_at": "2021-08-18T23:28:22.000000",
         "0.3um/dl": 1826.04,
         "0.5um/dl": 513,
         "1.0um/dl": 110.21,
         "2.5um/dl": 15.43,
         "5.0um/dl": 4.12,
         "10.0um/dl": 1.39,
         "PM1.0 (CF=ATM) ug/m3": 8.68,
         "PM10 (CF=ATM) ug/m3": 19.27,
         "_deepnote_index_column": 745234
        },
        {
         "created_at": "2021-08-18T23:30:22.000000",
         "0.3um/dl": 1793.73,
         "0.5um/dl": 515.8,
         "1.0um/dl": 105.52,
         "2.5um/dl": 11.82,
         "5.0um/dl": 3.89,
         "10.0um/dl": 0.59,
         "PM1.0 (CF=ATM) ug/m3": 9.14,
         "PM10 (CF=ATM) ug/m3": 17.79,
         "_deepnote_index_column": 745235
        },
        {
         "created_at": "2021-08-18T23:34:23.000000",
         "0.3um/dl": 1815.84,
         "0.5um/dl": 500.84,
         "1.0um/dl": 102.54,
         "2.5um/dl": 12.26,
         "5.0um/dl": 4.07,
         "10.0um/dl": 0.63,
         "PM1.0 (CF=ATM) ug/m3": 8.72,
         "PM10 (CF=ATM) ug/m3": 17.46,
         "_deepnote_index_column": 745236
        },
        {
         "created_at": "2021-08-18T23:36:23.000000",
         "0.3um/dl": 1768.68,
         "0.5um/dl": 492.04,
         "1.0um/dl": 109.95,
         "2.5um/dl": 12.12,
         "5.0um/dl": 3.54,
         "10.0um/dl": 0.84,
         "PM1.0 (CF=ATM) ug/m3": 8.63,
         "PM10 (CF=ATM) ug/m3": 18.44,
         "_deepnote_index_column": 745237
        },
        {
         "created_at": "2021-08-18T23:38:23.000000",
         "0.3um/dl": 1700.59,
         "0.5um/dl": 482.41,
         "1.0um/dl": 103.93,
         "2.5um/dl": 9.97,
         "5.0um/dl": 3.28,
         "10.0um/dl": 0.5,
         "PM1.0 (CF=ATM) ug/m3": 8.34,
         "PM10 (CF=ATM) ug/m3": 17.22,
         "_deepnote_index_column": 745238
        },
        {
         "created_at": "2021-08-18T23:40:23.000000",
         "0.3um/dl": 1930.12,
         "0.5um/dl": 539.88,
         "1.0um/dl": 110.9,
         "2.5um/dl": 12.47,
         "5.0um/dl": 3.39,
         "10.0um/dl": 1.25,
         "PM1.0 (CF=ATM) ug/m3": 9.58,
         "PM10 (CF=ATM) ug/m3": 19.22,
         "_deepnote_index_column": 745239
        },
        {
         "created_at": "2021-08-18T23:42:23.000000",
         "0.3um/dl": 1694.73,
         "0.5um/dl": 481.79,
         "1.0um/dl": 85.98,
         "2.5um/dl": 10.68,
         "5.0um/dl": 1.62,
         "10.0um/dl": 0.57,
         "PM1.0 (CF=ATM) ug/m3": 8.61,
         "PM10 (CF=ATM) ug/m3": 16.14,
         "_deepnote_index_column": 745240
        },
        {
         "created_at": "2021-08-18T23:44:23.000000",
         "0.3um/dl": 1563.16,
         "0.5um/dl": 447.07,
         "1.0um/dl": 97.86,
         "2.5um/dl": 15.25,
         "5.0um/dl": 4.09,
         "10.0um/dl": 0.66,
         "PM1.0 (CF=ATM) ug/m3": 7.71,
         "PM10 (CF=ATM) ug/m3": 16.96,
         "_deepnote_index_column": 745241
        },
        {
         "created_at": "2021-08-18T23:46:53.000000",
         "0.3um/dl": 1617.1,
         "0.5um/dl": 462.68,
         "1.0um/dl": 94.77,
         "2.5um/dl": 13.73,
         "5.0um/dl": 3.78,
         "10.0um/dl": 1.43,
         "PM1.0 (CF=ATM) ug/m3": 7.97,
         "PM10 (CF=ATM) ug/m3": 16.98,
         "_deepnote_index_column": 745242
        },
        {
         "created_at": "2021-08-18T23:48:23.000000",
         "0.3um/dl": 1642.3,
         "0.5um/dl": 470.68,
         "1.0um/dl": 90.7,
         "2.5um/dl": 9.8,
         "5.0um/dl": 3.83,
         "10.0um/dl": 1.02,
         "PM1.0 (CF=ATM) ug/m3": 8.25,
         "PM10 (CF=ATM) ug/m3": 16.07,
         "_deepnote_index_column": 745243
        },
        {
         "created_at": "2021-08-18T23:50:27.000000",
         "0.3um/dl": 1826.05,
         "0.5um/dl": 509.93,
         "1.0um/dl": 101.63,
         "2.5um/dl": 15.09,
         "5.0um/dl": 3.47,
         "10.0um/dl": 0.56,
         "PM1.0 (CF=ATM) ug/m3": 8.79,
         "PM10 (CF=ATM) ug/m3": 18.23,
         "_deepnote_index_column": 745244
        },
        {
         "created_at": "2021-08-18T23:52:23.000000",
         "0.3um/dl": 1652.46,
         "0.5um/dl": 463.05,
         "1.0um/dl": 88.59,
         "2.5um/dl": 12.27,
         "5.0um/dl": 2.66,
         "10.0um/dl": 0.7,
         "PM1.0 (CF=ATM) ug/m3": 7.93,
         "PM10 (CF=ATM) ug/m3": 15.91,
         "_deepnote_index_column": 745245
        },
        {
         "created_at": "2021-08-18T23:54:23.000000",
         "0.3um/dl": 1779.41,
         "0.5um/dl": 504.55,
         "1.0um/dl": 104.53,
         "2.5um/dl": 11.14,
         "5.0um/dl": 3.16,
         "10.0um/dl": 0.36,
         "PM1.0 (CF=ATM) ug/m3": 8.95,
         "PM10 (CF=ATM) ug/m3": 17.64,
         "_deepnote_index_column": 745246
        },
        {
         "created_at": "2021-08-18T23:56:23.000000",
         "0.3um/dl": 1739.07,
         "0.5um/dl": 501.81,
         "1.0um/dl": 94.98,
         "2.5um/dl": 14.47,
         "5.0um/dl": 3.55,
         "10.0um/dl": 1.62,
         "PM1.0 (CF=ATM) ug/m3": 8.72,
         "PM10 (CF=ATM) ug/m3": 17.71,
         "_deepnote_index_column": 745247
        },
        {
         "created_at": "2021-08-18T23:58:23.000000",
         "0.3um/dl": 1778.12,
         "0.5um/dl": 500.43,
         "1.0um/dl": 98.02,
         "2.5um/dl": 12.98,
         "5.0um/dl": 3.45,
         "10.0um/dl": 0.55,
         "PM1.0 (CF=ATM) ug/m3": 8.84,
         "PM10 (CF=ATM) ug/m3": 17.41,
         "_deepnote_index_column": 745248
        }
       ]
      },
      "text/plain": "                        created_at  0.3um/dl  0.5um/dl  1.0um/dl  2.5um/dl  \\\nentry_id                                                                     \n740800   2021-08-12 00:00:34+00:00   1101.47    314.93     52.47      4.47   \n740801   2021-08-12 00:02:35+00:00   1251.83    343.90     59.88      4.17   \n740802   2021-08-12 00:04:59+00:00   1253.84    351.30     53.91      4.48   \n740803   2021-08-12 00:06:37+00:00   1241.73    352.91     54.14      4.57   \n740804   2021-08-12 00:08:40+00:00   1312.03    365.71     51.66      3.41   \n...                            ...       ...       ...       ...       ...   \n745244   2021-08-18 23:50:27+00:00   1826.05    509.93    101.63     15.09   \n745245   2021-08-18 23:52:23+00:00   1652.46    463.05     88.59     12.27   \n745246   2021-08-18 23:54:23+00:00   1779.41    504.55    104.53     11.14   \n745247   2021-08-18 23:56:23+00:00   1739.07    501.81     94.98     14.47   \n745248   2021-08-18 23:58:23+00:00   1778.12    500.43     98.02     12.98   \n\n          5.0um/dl  10.0um/dl  PM1.0 (CF=ATM) ug/m3  PM10 (CF=ATM) ug/m3  \nentry_id                                                                  \n740800        1.00       0.00                  5.41                 8.84  \n740801        0.79       0.31                  5.72                 9.48  \n740802        1.12       0.34                  6.07                 9.68  \n740803        0.57       0.25                  6.27                 9.46  \n740804        0.50       0.40                  6.16                 9.69  \n...            ...        ...                   ...                  ...  \n745244        3.47       0.56                  8.79                18.23  \n745245        2.66       0.70                  7.93                15.91  \n745246        3.16       0.36                  8.95                17.64  \n745247        3.55       1.62                  8.72                17.71  \n745248        3.45       0.55                  8.84                17.41  \n\n[4449 rows x 9 columns]",
      "text/html": "<div>\n<style scoped>\n    .dataframe tbody tr th:only-of-type {\n        vertical-align: middle;\n    }\n\n    .dataframe tbody tr th {\n        vertical-align: top;\n    }\n\n    .dataframe thead th {\n        text-align: right;\n    }\n</style>\n<table border=\"1\" class=\"dataframe\">\n  <thead>\n    <tr style=\"text-align: right;\">\n      <th></th>\n      <th>created_at</th>\n      <th>0.3um/dl</th>\n      <th>0.5um/dl</th>\n      <th>1.0um/dl</th>\n      <th>2.5um/dl</th>\n      <th>5.0um/dl</th>\n      <th>10.0um/dl</th>\n      <th>PM1.0 (CF=ATM) ug/m3</th>\n      <th>PM10 (CF=ATM) ug/m3</th>\n    </tr>\n    <tr>\n      <th>entry_id</th>\n      <th></th>\n      <th></th>\n      <th></th>\n      <th></th>\n      <th></th>\n      <th></th>\n      <th></th>\n      <th></th>\n      <th></th>\n    </tr>\n  </thead>\n  <tbody>\n    <tr>\n      <th>740800</th>\n      <td>2021-08-12 00:00:34+00:00</td>\n      <td>1101.47</td>\n      <td>314.93</td>\n      <td>52.47</td>\n      <td>4.47</td>\n      <td>1.00</td>\n      <td>0.00</td>\n      <td>5.41</td>\n      <td>8.84</td>\n    </tr>\n    <tr>\n      <th>740801</th>\n      <td>2021-08-12 00:02:35+00:00</td>\n      <td>1251.83</td>\n      <td>343.90</td>\n      <td>59.88</td>\n      <td>4.17</td>\n      <td>0.79</td>\n      <td>0.31</td>\n      <td>5.72</td>\n      <td>9.48</td>\n    </tr>\n    <tr>\n      <th>740802</th>\n      <td>2021-08-12 00:04:59+00:00</td>\n      <td>1253.84</td>\n      <td>351.30</td>\n      <td>53.91</td>\n      <td>4.48</td>\n      <td>1.12</td>\n      <td>0.34</td>\n      <td>6.07</td>\n      <td>9.68</td>\n    </tr>\n    <tr>\n      <th>740803</th>\n      <td>2021-08-12 00:06:37+00:00</td>\n      <td>1241.73</td>\n      <td>352.91</td>\n      <td>54.14</td>\n      <td>4.57</td>\n      <td>0.57</td>\n      <td>0.25</td>\n      <td>6.27</td>\n      <td>9.46</td>\n    </tr>\n    <tr>\n      <th>740804</th>\n      <td>2021-08-12 00:08:40+00:00</td>\n      <td>1312.03</td>\n      <td>365.71</td>\n      <td>51.66</td>\n      <td>3.41</td>\n      <td>0.50</td>\n      <td>0.40</td>\n      <td>6.16</td>\n      <td>9.69</td>\n    </tr>\n    <tr>\n      <th>...</th>\n      <td>...</td>\n      <td>...</td>\n      <td>...</td>\n      <td>...</td>\n      <td>...</td>\n      <td>...</td>\n      <td>...</td>\n      <td>...</td>\n      <td>...</td>\n    </tr>\n    <tr>\n      <th>745244</th>\n      <td>2021-08-18 23:50:27+00:00</td>\n      <td>1826.05</td>\n      <td>509.93</td>\n      <td>101.63</td>\n      <td>15.09</td>\n      <td>3.47</td>\n      <td>0.56</td>\n      <td>8.79</td>\n      <td>18.23</td>\n    </tr>\n    <tr>\n      <th>745245</th>\n      <td>2021-08-18 23:52:23+00:00</td>\n      <td>1652.46</td>\n      <td>463.05</td>\n      <td>88.59</td>\n      <td>12.27</td>\n      <td>2.66</td>\n      <td>0.70</td>\n      <td>7.93</td>\n      <td>15.91</td>\n    </tr>\n    <tr>\n      <th>745246</th>\n      <td>2021-08-18 23:54:23+00:00</td>\n      <td>1779.41</td>\n      <td>504.55</td>\n      <td>104.53</td>\n      <td>11.14</td>\n      <td>3.16</td>\n      <td>0.36</td>\n      <td>8.95</td>\n      <td>17.64</td>\n    </tr>\n    <tr>\n      <th>745247</th>\n      <td>2021-08-18 23:56:23+00:00</td>\n      <td>1739.07</td>\n      <td>501.81</td>\n      <td>94.98</td>\n      <td>14.47</td>\n      <td>3.55</td>\n      <td>1.62</td>\n      <td>8.72</td>\n      <td>17.71</td>\n    </tr>\n    <tr>\n      <th>745248</th>\n      <td>2021-08-18 23:58:23+00:00</td>\n      <td>1778.12</td>\n      <td>500.43</td>\n      <td>98.02</td>\n      <td>12.98</td>\n      <td>3.45</td>\n      <td>0.55</td>\n      <td>8.84</td>\n      <td>17.41</td>\n    </tr>\n  </tbody>\n</table>\n<p>4449 rows × 9 columns</p>\n</div>"
     },
     "metadata": {}
    }
   ]
  },
  {
   "cell_type": "markdown",
   "source": "The code cell above uses the purpleair API to pull a range of sensor data from a single sensor. In this case, we picked sensor named \"1000ft Montclair\". The \"created_at\" column contains information on the date and time the PM measures were taken. The timestamps show that the data was taken from the past week. Additionally, there is also data on PM paticules of different diameters such as 0.3, 0.5, 1.0, 2.5, 5.0 and 10.0.\n\n<br>\n\nLet's create a histogram of the PM 2.5 measure to see their distribution!\n\n**Run the cell below to create the histogram.**",
   "metadata": {
    "tags": [],
    "cell_id": "00014-dc60430b-97eb-475e-ab2d-63429edf63ad",
    "deepnote_cell_type": "markdown"
   }
  },
  {
   "cell_type": "code",
   "metadata": {
    "tags": [],
    "cell_id": "00015-0aa6606f-7b1b-4700-8d91-3186f9775c8f",
    "deepnote_to_be_reexecuted": false,
    "source_hash": "750865c6",
    "execution_start": 1629355414705,
    "execution_millis": 353,
    "deepnote_cell_type": "code"
   },
   "source": "n, bins, patches = plt.hist(x=MontclairSensor[\"2.5um/dl\"], bins='auto', color='#0504aa',\n                            alpha=0.7, rwidth=0.85)\nplt.grid(axis='y', alpha=0.75)\nplt.xlabel('PM 2.5 Particle Count')\nplt.ylabel('Frequency')\nplt.title('Montclair Sensor PM 2.5')\n",
   "execution_count": null,
   "outputs": [
    {
     "output_type": "execute_result",
     "execution_count": 5,
     "data": {
      "text/plain": "Text(0.5, 1.0, 'Montclair Sensor PM 2.5')"
     },
     "metadata": {}
    },
    {
     "data": {
      "text/plain": "<Figure size 432x288 with 1 Axes>",
      "image/png": "[encoded data removed]"
     },
     "metadata": {
      "needs_background": "light",
      "image/png": {
       "width": 389,
       "height": 278
      }
     },
     "output_type": "display_data"
    }
   ]
  },
  {
   "cell_type": "markdown",
   "source": "The histogram above shows that many of PM 2.5 measures were most frequently somewhere around 10 particles, with very few occurances above 30 particles. While the histogram does show us a trend in the frequency of measures, we still have not clue how that translates to the API Index. ",
   "metadata": {
    "tags": [],
    "cell_id": "00017-7b247c46-bf71-4c0b-8f0d-5cbec0bf7d6c",
    "deepnote_cell_type": "markdown"
   }
  },
  {
   "cell_type": "markdown",
   "source": "### API Index\nThe API Index contains 6 categories that air quality can fall into. Each category contains a range of index values from 0 - 500 that is calculated from the regions PM 2.5 measure. The chart below is provided by the US Environmental Protection Agency (EPA) and shows the official AQI Index (these breakpoints were revised in 2012). \n\nFor more information on how AQI Index is calculated, take a look at the AQI Index Factsheet provided by the EPA [here](https://www.epa.gov/sites/default/files/2016-04/documents/2012_aqi_factsheet.pdf)!",
   "metadata": {
    "tags": [],
    "cell_id": "00005-53b10aac-3e5e-4217-bcb3-6690c972591c",
    "deepnote_cell_type": "markdown"
   }
  },
  {
   "cell_type": "markdown",
   "source": "<p align=\"center\">\n  <img src=\"images/AQI-category.png\" width=\"\" height=\"\" align=\"center\">\n</p>",
   "metadata": {
    "tags": [],
    "cell_id": "00014-fee8340f-6600-4ded-ad5b-e4a94875ab2b",
    "deepnote_cell_type": "markdown"
   }
  },
  {
   "cell_type": "markdown",
   "source": "Now that we know how sesors work, what they measure and how AQI Indexes are calculated, let's see if we can create a visualization of AQI Indexes that are a little closer to home!\n\nFirst, let's find a group of sensors that are near UC Berkeley. The code cell below does just that. We use a range of longitude and latitude coordinates to decide whether to include or exclude a sensor. \n\n**Run the cell below to display a dataset of about 600 sensors in and surrounding UC Berkeley!**",
   "metadata": {
    "tags": [],
    "cell_id": "00021-ef970a60-ed6d-47ac-a766-91488428efe1",
    "deepnote_cell_type": "markdown"
   }
  },
  {
   "cell_type": "code",
   "metadata": {
    "tags": [],
    "cell_id": "00007-d6fc7d9e-a424-41a8-970c-0cefe2e863e8",
    "deepnote_to_be_reexecuted": false,
    "source_hash": "2db533f9",
    "execution_start": 1629355439727,
    "execution_millis": 113,
    "deepnote_cell_type": "code"
   },
   "source": "## UC Berkeley,CA - Lat: 37.871666 / Lon: -122.272781\n\nberkeleyData = df.loc[(df[\"lat\"] >= 37.8) & (df[\"lat\"] <= 37.9) & (df[\"lon\"] >= -122.3) & (df[\"lon\"] <= -122.2)]\nberkeleyData = berkeleyData[[\"lat\", \"lon\", \"name\", \"location_type\", \"pm_2.5\", \"temp_f\", \"humidity\", \"pressure\"]]\nberkeleyData",
   "execution_count": null,
   "outputs": [
    {
     "output_type": "execute_result",
     "execution_count": 7,
     "data": {
      "application/vnd.deepnote.dataframe.v2+json": {
       "row_count": 684,
       "column_count": 8,
       "columns": [
        {
         "name": "lat",
         "dtype": "float64",
         "stats": {
          "unique_count": 679,
          "nan_count": 0,
          "min": "37.800486",
          "max": "37.899984",
          "histogram": [
           {
            "bin_start": 37.800486,
            "bin_end": 37.8104358,
            "count": 46
           },
           {
            "bin_start": 37.8104358,
            "bin_end": 37.8203856,
            "count": 59
           },
           {
            "bin_start": 37.8203856,
            "bin_end": 37.8303354,
            "count": 59
           },
           {
            "bin_start": 37.8303354,
            "bin_end": 37.840285200000004,
            "count": 43
           },
           {
            "bin_start": 37.840285200000004,
            "bin_end": 37.850235,
            "count": 80
           },
           {
            "bin_start": 37.850235,
            "bin_end": 37.8601848,
            "count": 80
           },
           {
            "bin_start": 37.8601848,
            "bin_end": 37.8701346,
            "count": 59
           },
           {
            "bin_start": 37.8701346,
            "bin_end": 37.8800844,
            "count": 105
           },
           {
            "bin_start": 37.8800844,
            "bin_end": 37.8900342,
            "count": 85
           },
           {
            "bin_start": 37.8900342,
            "bin_end": 37.899984,
            "count": 68
           }
          ]
         }
        },
        {
         "name": "lon",
         "dtype": "float64",
         "stats": {
          "unique_count": 681,
          "nan_count": 0,
          "min": "-122.299589",
          "max": "-122.200042",
          "histogram": [
           {
            "bin_start": -122.299589,
            "bin_end": -122.2896343,
            "count": 53
           },
           {
            "bin_start": -122.2896343,
            "bin_end": -122.2796796,
            "count": 73
           },
           {
            "bin_start": -122.2796796,
            "bin_end": -122.2697249,
            "count": 95
           },
           {
            "bin_start": -122.2697249,
            "bin_end": -122.25977019999999,
            "count": 85
           },
           {
            "bin_start": -122.25977019999999,
            "bin_end": -122.2498155,
            "count": 106
           },
           {
            "bin_start": -122.2498155,
            "bin_end": -122.2398608,
            "count": 94
           },
           {
            "bin_start": -122.2398608,
            "bin_end": -122.2299061,
            "count": 58
           },
           {
            "bin_start": -122.2299061,
            "bin_end": -122.2199514,
            "count": 47
           },
           {
            "bin_start": -122.2199514,
            "bin_end": -122.20999669999999,
            "count": 40
           },
           {
            "bin_start": -122.20999669999999,
            "bin_end": -122.200042,
            "count": 33
           }
          ]
         }
        },
        {
         "name": "name",
         "dtype": "object",
         "stats": {
          "unique_count": 645,
          "nan_count": 0,
          "categories": [
           {
            "name": "Home",
            "count": 7
           },
           {
            "name": "Claremont Hills",
            "count": 4
           },
           {
            "name": "643 others",
            "count": 673
           }
          ]
         }
        },
        {
         "name": "location_type",
         "dtype": "object",
         "stats": {
          "unique_count": 2,
          "nan_count": 0,
          "categories": [
           {
            "name": "inside",
            "count": 389
           },
           {
            "name": "outside",
            "count": 295
           }
          ]
         }
        },
        {
         "name": "pm_2.5",
         "dtype": "float64",
         "stats": {
          "unique_count": 565,
          "nan_count": 0,
          "min": "0.0",
          "max": "3331.59",
          "histogram": [
           {
            "bin_start": 0,
            "bin_end": 333.159,
            "count": 681
           },
           {
            "bin_start": 333.159,
            "bin_end": 666.318,
            "count": 0
           },
           {
            "bin_start": 666.318,
            "bin_end": 999.477,
            "count": 0
           },
           {
            "bin_start": 999.477,
            "bin_end": 1332.636,
            "count": 0
           },
           {
            "bin_start": 1332.636,
            "bin_end": 1665.795,
            "count": 0
           },
           {
            "bin_start": 1665.795,
            "bin_end": 1998.954,
            "count": 0
           },
           {
            "bin_start": 1998.954,
            "bin_end": 2332.113,
            "count": 0
           },
           {
            "bin_start": 2332.113,
            "bin_end": 2665.272,
            "count": 0
           },
           {
            "bin_start": 2665.272,
            "bin_end": 2998.431,
            "count": 0
           },
           {
            "bin_start": 2998.431,
            "bin_end": 3331.59,
            "count": 3
           }
          ]
         }
        },
        {
         "name": "temp_f",
         "dtype": "float64",
         "stats": {
          "unique_count": 33,
          "nan_count": 5,
          "min": "58.0",
          "max": "98.0",
          "histogram": [
           {
            "bin_start": 58,
            "bin_end": 62,
            "count": 6
           },
           {
            "bin_start": 62,
            "bin_end": 66,
            "count": 118
           },
           {
            "bin_start": 66,
            "bin_end": 70,
            "count": 142
           },
           {
            "bin_start": 70,
            "bin_end": 74,
            "count": 19
           },
           {
            "bin_start": 74,
            "bin_end": 78,
            "count": 38
           },
           {
            "bin_start": 78,
            "bin_end": 82,
            "count": 147
           },
           {
            "bin_start": 82,
            "bin_end": 86,
            "count": 158
           },
           {
            "bin_start": 86,
            "bin_end": 90,
            "count": 46
           },
           {
            "bin_start": 90,
            "bin_end": 94,
            "count": 4
           },
           {
            "bin_start": 94,
            "bin_end": 98,
            "count": 1
           }
          ]
         }
        },
        {
         "name": "humidity",
         "dtype": "float64",
         "stats": {
          "unique_count": 59,
          "nan_count": 5,
          "min": "20.0",
          "max": "100.0",
          "histogram": [
           {
            "bin_start": 20,
            "bin_end": 28,
            "count": 5
           },
           {
            "bin_start": 28,
            "bin_end": 36,
            "count": 143
           },
           {
            "bin_start": 36,
            "bin_end": 44,
            "count": 213
           },
           {
            "bin_start": 44,
            "bin_end": 52,
            "count": 36
           },
           {
            "bin_start": 52,
            "bin_end": 60,
            "count": 54
           },
           {
            "bin_start": 60,
            "bin_end": 68,
            "count": 178
           },
           {
            "bin_start": 68,
            "bin_end": 76,
            "count": 39
           },
           {
            "bin_start": 76,
            "bin_end": 84,
            "count": 6
           },
           {
            "bin_start": 84,
            "bin_end": 92,
            "count": 3
           },
           {
            "bin_start": 92,
            "bin_end": 100,
            "count": 2
           }
          ]
         }
        },
        {
         "name": "pressure",
         "dtype": "float64",
         "stats": {
          "unique_count": 604,
          "nan_count": 7,
          "min": "588.0",
          "max": "1016.56",
          "histogram": [
           {
            "bin_start": 588,
            "bin_end": 630.856,
            "count": 1
           },
           {
            "bin_start": 630.856,
            "bin_end": 673.712,
            "count": 1
           },
           {
            "bin_start": 673.712,
            "bin_end": 716.568,
            "count": 1
           },
           {
            "bin_start": 716.568,
            "bin_end": 759.424,
            "count": 0
           },
           {
            "bin_start": 759.424,
            "bin_end": 802.28,
            "count": 0
           },
           {
            "bin_start": 802.28,
            "bin_end": 845.136,
            "count": 0
           },
           {
            "bin_start": 845.136,
            "bin_end": 887.992,
            "count": 2
           },
           {
            "bin_start": 887.992,
            "bin_end": 930.848,
            "count": 0
           },
           {
            "bin_start": 930.848,
            "bin_end": 973.704,
            "count": 19
           },
           {
            "bin_start": 973.704,
            "bin_end": 1016.56,
            "count": 653
           }
          ]
         }
        },
        {
         "name": "_deepnote_index_column",
         "dtype": "int64"
        }
       ],
       "rows_top": [
        {
         "lat": 37.838977,
         "lon": -122.205489,
         "name": "1000ft Montclair",
         "location_type": "outside",
         "pm_2.5": 23.2,
         "temp_f": 67,
         "humidity": 61,
         "pressure": 977.2,
         "_deepnote_index_column": 20747
        },
        {
         "lat": 37.889085,
         "lon": -122.264327,
         "name": "1044 Keith Ave, Berkeley",
         "location_type": "outside",
         "pm_2.5": 14.25,
         "temp_f": 65,
         "humidity": 65,
         "pressure": 993.24,
         "_deepnote_index_column": 81677
        },
        {
         "lat": 37.882941,
         "lon": -122.288017,
         "name": "1094 Tevlin St",
         "location_type": "inside",
         "pm_2.5": 6.85,
         "temp_f": 83,
         "humidity": 40,
         "pressure": 1010.98,
         "_deepnote_index_column": 79125
        },
        {
         "lat": 37.801872,
         "lon": -122.274582,
         "name": "10th and Washington",
         "location_type": "inside",
         "pm_2.5": 6.98,
         "temp_f": 84,
         "humidity": 34,
         "pressure": 1011.83,
         "_deepnote_index_column": 77685
        },
        {
         "lat": 37.831398,
         "lon": -122.27955,
         "name": "1122 40th",
         "location_type": "inside",
         "pm_2.5": 6.69,
         "temp_f": 91,
         "humidity": 26,
         "pressure": 1010.81,
         "_deepnote_index_column": 71313
        },
        {
         "lat": 37.883729,
         "lon": -122.290362,
         "name": "1128 Key Route Blvd, Albany CA",
         "location_type": "outside",
         "pm_2.5": 9,
         "temp_f": 65,
         "humidity": 66,
         "pressure": 1011.2,
         "_deepnote_index_column": 37971
        },
        {
         "lat": 37.868483,
         "lon": -122.290137,
         "name": "1139-1",
         "location_type": "inside",
         "pm_2.5": 5.24,
         "temp_f": 83,
         "humidity": 42,
         "pressure": 1011.98,
         "_deepnote_index_column": 80253
        },
        {
         "lat": 37.881638,
         "lon": -122.291868,
         "name": "1242 Evelyn Ave",
         "location_type": "inside",
         "pm_2.5": 4.01,
         "temp_f": 88,
         "humidity": 31,
         "pressure": 1010.7,
         "_deepnote_index_column": 62649
        },
        {
         "lat": 37.853609,
         "lon": -122.242132,
         "name": "136",
         "location_type": "inside",
         "pm_2.5": 11.12,
         "temp_f": 82,
         "humidity": 37,
         "pressure": 1001.86,
         "_deepnote_index_column": 71065
        },
        {
         "lat": 37.884253,
         "lon": -122.247234,
         "name": "1404 Summit Rd",
         "location_type": "inside",
         "pm_2.5": 10.72,
         "temp_f": 77,
         "humidity": 40,
         "pressure": 968.2,
         "_deepnote_index_column": 106670
        },
        {
         "lat": 37.877023,
         "lon": -122.27449,
         "name": "1621 Josephine",
         "location_type": "inside",
         "pm_2.5": 5.73,
         "temp_f": 81,
         "humidity": 40,
         "pressure": 1006.75,
         "_deepnote_index_column": 108064
        },
        {
         "lat": 37.889235,
         "lon": -122.275907,
         "name": "1907 Marin Ave",
         "location_type": "inside",
         "pm_2.5": 3.56,
         "temp_f": 82,
         "humidity": 35,
         "pressure": 1004.38,
         "_deepnote_index_column": 39861
        },
        {
         "lat": 37.889218,
         "lon": -122.27591,
         "name": "1907 Marin Ave Outside",
         "location_type": "outside",
         "pm_2.5": 10.88,
         "temp_f": 65,
         "humidity": 68,
         "pressure": 1004.83,
         "_deepnote_index_column": 58659
        },
        {
         "lat": 37.883126,
         "lon": -122.200651,
         "name": "197 EL TOYONAL",
         "location_type": "outside",
         "pm_2.5": 25.7,
         "temp_f": 69,
         "humidity": 51,
         "pressure": 983.67,
         "_deepnote_index_column": 71621
        },
        {
         "lat": 37.813609,
         "lon": -122.285786,
         "name": "19th",
         "location_type": "outside",
         "pm_2.5": 10.96,
         "temp_f": 67,
         "humidity": 66,
         "pressure": 1013.13,
         "_deepnote_index_column": 22489
        },
        {
         "lat": 37.866847,
         "lon": -122.299544,
         "name": "2010 EA",
         "location_type": "inside",
         "pm_2.5": 8,
         "temp_f": 77,
         "humidity": 44,
         "pressure": 1011.79,
         "_deepnote_index_column": 63555
        },
        {
         "lat": 37.854828,
         "lon": -122.261244,
         "name": "2320",
         "location_type": "inside",
         "pm_2.5": 6.64,
         "temp_f": 79,
         "humidity": 44,
         "pressure": 1006,
         "_deepnote_index_column": 18419
        },
        {
         "lat": 37.863606,
         "lon": -122.2619,
         "name": "2320 Blake Street",
         "location_type": "outside",
         "pm_2.5": 10.62,
         "temp_f": 66,
         "humidity": 64,
         "pressure": 1006.8,
         "_deepnote_index_column": 74095
        },
        {
         "lat": 37.840584,
         "lon": -122.229508,
         "name": "236 Florence",
         "location_type": "inside",
         "pm_2.5": 6.32,
         "temp_f": 88,
         "humidity": 31,
         "pressure": 994.89,
         "_deepnote_index_column": 72877
        },
        {
         "lat": 37.85431,
         "lon": -122.256007,
         "name": "2509 Prince St ",
         "location_type": "outside",
         "pm_2.5": 10,
         "temp_f": 65,
         "humidity": 67,
         "pressure": 1007,
         "_deepnote_index_column": 23965
        },
        {
         "lat": 37.85582,
         "lon": -122.254933,
         "name": "2607 Webster Street",
         "location_type": "outside",
         "pm_2.5": 11.41,
         "temp_f": 65,
         "humidity": 66,
         "pressure": 1005.42,
         "_deepnote_index_column": 83525
        },
        {
         "lat": 37.81584,
         "lon": -122.26871,
         "name": "2633 Telegraph Ave, #305, Oakland CA 94612",
         "location_type": "inside",
         "pm_2.5": 9.52,
         "temp_f": 80,
         "humidity": 40,
         "pressure": 1011.82,
         "_deepnote_index_column": 62561
        },
        {
         "lat": 37.811929,
         "lon": -122.25761,
         "name": "286 Lenox Ave.",
         "location_type": "inside",
         "pm_2.5": 8.78,
         "temp_f": 85,
         "humidity": 33,
         "pressure": 1009.14,
         "_deepnote_index_column": 63811
        },
        {
         "lat": 37.876345,
         "lon": -122.246899,
         "name": "30-126",
         "location_type": "inside",
         "pm_2.5": 6.45,
         "temp_f": 83,
         "humidity": 32,
         "pressure": 979.56,
         "_deepnote_index_column": 24127
        },
        {
         "lat": 37.876356,
         "lon": -122.246983,
         "name": "30-2(TV)",
         "location_type": "inside",
         "pm_2.5": 7.72,
         "temp_f": 84,
         "humidity": 34,
         "pressure": 979.24,
         "_deepnote_index_column": 24141
        },
        {
         "lat": 37.876586,
         "lon": -122.246977,
         "name": "30-Third Floor",
         "location_type": "inside",
         "pm_2.5": 4.12,
         "temp_f": 76,
         "humidity": 42,
         "pressure": 979.28,
         "_deepnote_index_column": 24029
        },
        {
         "lat": 37.855664,
         "lon": -122.255214,
         "name": "3000 Hillegass Avenue, Berkeley, CA 94705",
         "location_type": "inside",
         "pm_2.5": 0,
         "temp_f": 82,
         "humidity": 39,
         "pressure": 1005.66,
         "_deepnote_index_column": 114987
        },
        {
         "lat": 37.876125,
         "lon": -122.249406,
         "name": "307A, Building 2, LBNL",
         "location_type": "inside",
         "pm_2.5": 2.46,
         "temp_f": 75,
         "humidity": 43,
         "pressure": 983.49,
         "_deepnote_index_column": 84559
        },
        {
         "lat": 37.825919,
         "lon": -122.279953,
         "name": "34th and Adeline",
         "location_type": "outside",
         "pm_2.5": 9.86,
         "temp_f": 68,
         "humidity": 62,
         "pressure": 1012.92,
         "_deepnote_index_column": 69121
        },
        {
         "lat": 37.867107,
         "lon": -122.243389,
         "name": "3514 Dwight way, Berkeley, CA",
         "location_type": "inside",
         "pm_2.5": 4.12,
         "temp_f": 82,
         "humidity": 35,
         "pressure": 984.36,
         "_deepnote_index_column": 63657
        },
        {
         "lat": 37.808788,
         "lon": -122.212537,
         "name": "4036 Waterhouse Road",
         "location_type": "inside",
         "pm_2.5": 10.06,
         "temp_f": 82,
         "humidity": 36,
         "pressure": 1001.41,
         "_deepnote_index_column": 74647
        },
        {
         "lat": 37.832342,
         "lon": -122.273493,
         "name": "42nd st",
         "location_type": "inside",
         "pm_2.5": 2.74,
         "temp_f": 81,
         "humidity": 36,
         "pressure": 1010.12,
         "_deepnote_index_column": 63385
        },
        {
         "lat": 37.812342,
         "lon": -122.211993,
         "name": "4350 Arden Pl",
         "location_type": "inside",
         "pm_2.5": 14.82,
         "temp_f": 79,
         "humidity": 44,
         "pressure": 1000.52,
         "_deepnote_index_column": 108686
        },
        {
         "lat": 37.878129,
         "lon": -122.24972,
         "name": "46-Indoors",
         "location_type": "inside",
         "pm_2.5": 9.21,
         "temp_f": 79,
         "humidity": 35,
         "pressure": 984.7,
         "_deepnote_index_column": 90519
        },
        {
         "lat": 37.87812,
         "lon": -122.249861,
         "name": "46-Outdoor",
         "location_type": "outside",
         "pm_2.5": 1.69,
         "temp_f": 80,
         "humidity": 35,
         "pressure": 984.09,
         "_deepnote_index_column": 83739
        },
        {
         "lat": 37.803679,
         "lon": -122.272906,
         "name": "500 12th Street",
         "location_type": "inside",
         "pm_2.5": 5.56,
         "temp_f": 79,
         "humidity": 35,
         "pressure": 1010.61,
         "_deepnote_index_column": 37363
        },
        {
         "lat": 37.897285,
         "lon": -122.289203,
         "name": "506SC-Interior",
         "location_type": "inside",
         "pm_2.5": 11.83,
         "temp_f": 86,
         "humidity": 33,
         "pressure": 1004.91,
         "_deepnote_index_column": 94709
        },
        {
         "lat": 37.85576,
         "lon": -122.24339,
         "name": "53 Domingo",
         "location_type": "inside",
         "pm_2.5": 5.97,
         "temp_f": 82,
         "humidity": 37,
         "pressure": 1000.94,
         "_deepnote_index_column": 72967
        },
        {
         "lat": 37.849074,
         "lon": -122.262953,
         "name": "544 63rd St",
         "location_type": "outside",
         "pm_2.5": 13.16,
         "temp_f": 65,
         "humidity": 67,
         "pressure": 1008.96,
         "_deepnote_index_column": 65763
        },
        {
         "lat": 37.84786,
         "lon": -122.26362,
         "name": "567 62nd St",
         "location_type": "outside",
         "pm_2.5": 10.98,
         "temp_f": 67,
         "humidity": 61,
         "pressure": 1008.97,
         "_deepnote_index_column": 59711
        },
        {
         "lat": 37.840561,
         "lon": -122.270969,
         "name": "56th/MLK Outside",
         "location_type": "outside",
         "pm_2.5": 0,
         "temp_f": 66,
         "humidity": 67,
         "pressure": 1010.3,
         "_deepnote_index_column": 22879
        },
        {
         "lat": 37.801665,
         "lon": -122.277063,
         "name": "585 9th st",
         "location_type": "inside",
         "pm_2.5": 10.31,
         "temp_f": 82,
         "humidity": 35,
         "pressure": 1010.42,
         "_deepnote_index_column": 75745
        },
        {
         "lat": 37.869305,
         "lon": -122.248083,
         "name": "59 Arden",
         "location_type": "outside",
         "pm_2.5": 13.09,
         "temp_f": 65,
         "humidity": 72,
         "pressure": 990.6,
         "_deepnote_index_column": 19693
        },
        {
         "lat": 37.855251,
         "lon": -122.296468,
         "name": "614 BANCROFT",
         "location_type": "inside",
         "pm_2.5": 5.7,
         "temp_f": 76,
         "humidity": 40,
         "pressure": 1013.32,
         "_deepnote_index_column": 62543
        },
        {
         "lat": 37.895779,
         "lon": -122.287001,
         "name": "617 Curtis, Albany, CA 94706",
         "location_type": "inside",
         "pm_2.5": 5.19,
         "temp_f": 79,
         "humidity": 42,
         "pressure": 1009.83,
         "_deepnote_index_column": 89293
        },
        {
         "lat": 37.847775,
         "lon": -122.255941,
         "name": "61st St. Oakland, 300 block @ Colby",
         "location_type": "outside",
         "pm_2.5": 11.08,
         "temp_f": 67,
         "humidity": 63,
         "pressure": 1007.18,
         "_deepnote_index_column": 53463
        },
        {
         "lat": 37.847699,
         "lon": -122.255646,
         "name": "61st St. Oakland, 300 block @ mid-block",
         "location_type": "outside",
         "pm_2.5": 10.23,
         "temp_f": 65,
         "humidity": 59,
         "pressure": 1005.33,
         "_deepnote_index_column": 53515
        },
        {
         "lat": 37.842117,
         "lon": -122.295621,
         "name": "6363 Christie Ave 26th floor balcony Emeryville CA",
         "location_type": "outside",
         "pm_2.5": 11.33,
         "temp_f": 68,
         "humidity": 61,
         "pressure": 1005.27,
         "_deepnote_index_column": 82971
        },
        {
         "lat": 37.842023,
         "lon": -122.206901,
         "name": "6375 Thornhill Dr",
         "location_type": "outside",
         "pm_2.5": 23.43,
         "temp_f": 66,
         "humidity": 57,
         "pressure": 986.05,
         "_deepnote_index_column": 25775
        },
        {
         "lat": 37.842087,
         "lon": -122.20689,
         "name": "6375 Thornhill: Nap Detector",
         "location_type": "inside",
         "pm_2.5": 2.11,
         "temp_f": 79,
         "humidity": 37,
         "pressure": 986.64,
         "_deepnote_index_column": 57635
        },
        {
         "lat": 37.848477,
         "lon": -122.261341,
         "name": "63rd Street",
         "location_type": "inside",
         "pm_2.5": 7.41,
         "temp_f": 81,
         "humidity": 40,
         "pressure": 1007.85,
         "_deepnote_index_column": 72863
        },
        {
         "lat": 37.84513,
         "lon": -122.21355,
         "name": "6481 Farallon Way",
         "location_type": "outside",
         "pm_2.5": 25.46,
         "temp_f": 65,
         "humidity": 61,
         "pressure": 974.51,
         "_deepnote_index_column": 65901
        },
        {
         "lat": 37.845207,
         "lon": -122.213262,
         "name": "6481 Farallon Way",
         "location_type": "inside",
         "pm_2.5": 12.32,
         "temp_f": 83,
         "humidity": 30,
         "pressure": 973.35,
         "_deepnote_index_column": 65649
        },
        {
         "lat": 37.845621,
         "lon": -122.213396,
         "name": "6493 Farallon Way",
         "location_type": "inside",
         "pm_2.5": 8.4,
         "temp_f": 81,
         "humidity": 36,
         "pressure": 972.39,
         "_deepnote_index_column": 22117
        },
        {
         "lat": 37.848629,
         "lon": -122.212096,
         "name": "6670 Pine Needle Dr",
         "location_type": "outside",
         "pm_2.5": 23.66,
         "temp_f": 64,
         "humidity": 60,
         "pressure": 973.84,
         "_deepnote_index_column": 62455
        },
        {
         "lat": 37.8503,
         "lon": -122.27847,
         "name": "66th & Sacramento",
         "location_type": "outside",
         "pm_2.5": 11.58,
         "temp_f": 65,
         "humidity": 67,
         "pressure": 1011.98,
         "_deepnote_index_column": 102580
        },
        {
         "lat": 37.820097,
         "lon": -122.248155,
         "name": "670 Vernon St.",
         "location_type": "outside",
         "pm_2.5": 11.87,
         "temp_f": 68,
         "humidity": 57,
         "pressure": 1007.53,
         "_deepnote_index_column": 38371
        },
        {
         "lat": 37.820961,
         "lon": -122.271512,
         "name": "680 31st St. Oakland",
         "location_type": "inside",
         "pm_2.5": 0,
         "temp_f": 77,
         "humidity": 49,
         "pressure": 1011.94,
         "_deepnote_index_column": 54567
        },
        {
         "lat": 37.840387,
         "lon": -122.204169,
         "name": "6820 Thornhill",
         "location_type": "outside",
         "pm_2.5": 21.15,
         "temp_f": 65,
         "humidity": 58,
         "pressure": 982.38,
         "_deepnote_index_column": 71585
        },
        {
         "lat": 37.849714,
         "lon": -122.211729,
         "name": "6832 Balsam @ 1050 Ft Elev",
         "location_type": "outside",
         "pm_2.5": 24.93,
         "temp_f": 67,
         "humidity": 55,
         "pressure": 974.26,
         "_deepnote_index_column": 56045
        },
        {
         "lat": 37.859977,
         "lon": -122.22318,
         "name": "7027 Buckingham",
         "location_type": "outside",
         "pm_2.5": 27.58,
         "temp_f": 64,
         "humidity": 59,
         "pressure": 976.65,
         "_deepnote_index_column": 66281
        },
        {
         "lat": 37.878909,
         "lon": -122.249371,
         "name": "71B R290",
         "location_type": "inside",
         "pm_2.5": 15.67,
         "temp_f": 74,
         "humidity": 40,
         "pressure": 982.63,
         "_deepnote_index_column": 75317
        }
       ],
       "rows_bottom": [
        {
         "lat": 37.809264,
         "lon": -122.232061,
         "name": "Sunnyhills and Hillcroft Circle",
         "location_type": "outside",
         "pm_2.5": 12.73,
         "temp_f": 68,
         "humidity": 59,
         "pressure": 1008.62,
         "_deepnote_index_column": 67801
        },
        {
         "lat": 37.886325,
         "lon": -122.273002,
         "name": "TamRat",
         "location_type": "inside",
         "pm_2.5": 6.68,
         "temp_f": 76,
         "humidity": 47,
         "pressure": 1004.53,
         "_deepnote_index_column": 20663
        },
        {
         "lat": 37.813647,
         "lon": -122.268773,
         "name": "Telegraph & 24th 4th floor",
         "location_type": "inside",
         "pm_2.5": 15.69,
         "temp_f": 81,
         "humidity": 40,
         "pressure": 1011.77,
         "_deepnote_index_column": 61849
        },
        {
         "lat": 37.816719,
         "lon": -122.264334,
         "name": "Temple Sinai",
         "location_type": "outside",
         "pm_2.5": 8.88,
         "temp_f": 70,
         "humidity": 56,
         "pressure": 1010.89,
         "_deepnote_index_column": 52995
        },
        {
         "lat": 37.885448,
         "lon": -122.250681,
         "name": "Terrace View, Fairlawn & Columbia Circle, Berkeley Ca.",
         "location_type": "outside",
         "pm_2.5": 13.75,
         "temp_f": 66,
         "humidity": 62,
         "pressure": 974.97,
         "_deepnote_index_column": 4421
        },
        {
         "lat": 37.885345,
         "lon": -122.250864,
         "name": "Terrace View, Fairlawn & Columbia Circle, Indoors",
         "location_type": "inside",
         "pm_2.5": 5.41,
         "temp_f": 83,
         "humidity": 36,
         "pressure": 974.18,
         "_deepnote_index_column": 19811
        },
        {
         "lat": 37.843588,
         "lon": -122.230335,
         "name": "The Aerie",
         "location_type": "outside",
         "pm_2.5": 5.96,
         "temp_f": 70,
         "humidity": 58,
         "pressure": 1000.16,
         "_deepnote_index_column": 77381
        },
        {
         "lat": 37.89446,
         "lon": -122.25378,
         "name": "The Crescent",
         "location_type": "outside",
         "pm_2.5": 12.26,
         "temp_f": 64,
         "humidity": 65,
         "pressure": 977.41,
         "_deepnote_index_column": 71565
        },
        {
         "lat": 37.804219,
         "lon": -122.26139,
         "name": "The Essex",
         "location_type": "inside",
         "pm_2.5": 4.42,
         "temp_f": 79,
         "humidity": 41,
         "pressure": 1006.36,
         "_deepnote_index_column": 107478
        },
        {
         "lat": 37.81612,
         "lon": -122.280054,
         "name": "The Gingers",
         "location_type": "inside",
         "pm_2.5": 3.84,
         "temp_f": 84,
         "humidity": 33,
         "pressure": 1009.04,
         "_deepnote_index_column": 72691
        },
        {
         "lat": 37.811767,
         "lon": -122.264785,
         "name": "The Grand",
         "location_type": "inside",
         "pm_2.5": 7.21,
         "temp_f": 84,
         "humidity": 39,
         "pressure": 1004.83,
         "_deepnote_index_column": 19645
        },
        {
         "lat": 37.853507,
         "lon": -122.260358,
         "name": "The Model School (annex)",
         "location_type": "inside",
         "pm_2.5": 8.81,
         "temp_f": 82,
         "humidity": 36,
         "pressure": 1007.04,
         "_deepnote_index_column": 66629
        },
        {
         "lat": 37.853473,
         "lon": -122.26057,
         "name": "The Model School (inside)",
         "location_type": "inside",
         "pm_2.5": 6.06,
         "temp_f": 87,
         "humidity": 34,
         "pressure": 1006.99,
         "_deepnote_index_column": 97029
        },
        {
         "lat": 37.853402,
         "lon": -122.260775,
         "name": "The Model School (outside)",
         "location_type": "outside",
         "pm_2.5": 10.27,
         "temp_f": 67,
         "humidity": 61,
         "pressure": 1008.07,
         "_deepnote_index_column": 67317
        },
        {
         "lat": 37.837692,
         "lon": -122.259158,
         "name": "The Orchard",
         "location_type": "outside",
         "pm_2.5": 3.41,
         "temp_f": 76,
         "humidity": 50,
         "pressure": 1008.72,
         "_deepnote_index_column": 69919
        },
        {
         "lat": 37.839263,
         "lon": -122.249618,
         "name": "The ridge",
         "location_type": "inside",
         "pm_2.5": 3.76,
         "temp_f": 81,
         "humidity": 36,
         "pressure": 1006.9,
         "_deepnote_index_column": 41189
        },
        {
         "lat": 37.83106,
         "lon": -122.259071,
         "name": "The Yard",
         "location_type": "inside",
         "pm_2.5": 11.86,
         "temp_f": 75,
         "humidity": 45,
         "pressure": 1010.03,
         "_deepnote_index_column": 90551
        },
        {
         "lat": 37.891722,
         "lon": -122.283616,
         "name": "Thousand Oaks",
         "location_type": "outside",
         "pm_2.5": 9.11,
         "temp_f": 68,
         "humidity": 63,
         "pressure": 1008.58,
         "_deepnote_index_column": 18735
        },
        {
         "lat": 37.894967,
         "lon": -122.286537,
         "name": "Thousand Oaks",
         "location_type": "inside",
         "pm_2.5": 0.99,
         "temp_f": 81,
         "humidity": 41,
         "pressure": 1009.94,
         "_deepnote_index_column": 106808
        },
        {
         "lat": 37.888025,
         "lon": -122.267943,
         "name": "Tim+Nomi",
         "location_type": "inside",
         "pm_2.5": 7.96,
         "temp_f": 89,
         "humidity": 29,
         "pressure": 998.58,
         "_deepnote_index_column": 82203
        },
        {
         "lat": 37.887913,
         "lon": -122.268074,
         "name": "Tim+Nomi",
         "location_type": "outside",
         "pm_2.5": 10.72,
         "temp_f": 65,
         "humidity": 66,
         "pressure": 1000.09,
         "_deepnote_index_column": 67749
        },
        {
         "lat": 37.887447,
         "lon": -122.270441,
         "name": "Top terrace",
         "location_type": "outside",
         "pm_2.5": 10.76,
         "temp_f": 70,
         "humidity": 56,
         "pressure": 1000.14,
         "_deepnote_index_column": 70413
        },
        {
         "lat": 37.831862,
         "lon": -122.214035,
         "name": "Trapi Lalit",
         "location_type": "outside",
         "pm_2.5": 29.55,
         "temp_f": 62,
         "humidity": 62,
         "pressure": 993.22,
         "_deepnote_index_column": 68063
        },
        {
         "lat": 37.862332,
         "lon": -122.285376,
         "name": "Treble's House",
         "location_type": "inside",
         "pm_2.5": 6.98,
         "temp_f": 83,
         "humidity": 36,
         "pressure": 1010.57,
         "_deepnote_index_column": 81633
        },
        {
         "lat": 37.882869,
         "lon": -122.256126,
         "name": "Tree House",
         "location_type": "inside",
         "pm_2.5": 11.75,
         "temp_f": 80,
         "humidity": 35,
         "pressure": 984.39,
         "_deepnote_index_column": 99749
        },
        {
         "lat": 37.846373,
         "lon": -122.24199,
         "name": "Treehouse - Outside",
         "location_type": "outside",
         "pm_2.5": 3328.77,
         "temp_f": 66,
         "humidity": 62,
         "pressure": 1001.54,
         "_deepnote_index_column": 62227
        },
        {
         "lat": 37.807416,
         "lon": -122.233969,
         "name": "Trestle Glen",
         "location_type": "outside",
         "pm_2.5": 10.15,
         "temp_f": 66,
         "humidity": 66,
         "pressure": 1011.37,
         "_deepnote_index_column": 75853
        },
        {
         "lat": 37.806872,
         "lon": -122.230876,
         "name": "Trestle Glen",
         "location_type": "outside",
         "pm_2.5": 17.17,
         "temp_f": 67,
         "humidity": 62,
         "pressure": 1010.47,
         "_deepnote_index_column": 69323
        },
        {
         "lat": 37.80341,
         "lon": -122.215951,
         "name": "TRIS Oakland Campus",
         "location_type": "outside",
         "pm_2.5": 7.07,
         "temp_f": 77,
         "humidity": 45,
         "pressure": 1008.15,
         "_deepnote_index_column": 76125
        },
        {
         "lat": 37.81857,
         "lon": -122.210942,
         "name": "TRIS Piedmont Campus",
         "location_type": "outside",
         "pm_2.5": 20.52,
         "temp_f": 66,
         "humidity": 59,
         "pressure": 995.44,
         "_deepnote_index_column": 76143
        },
        {
         "lat": 37.843314,
         "lon": -122.247859,
         "name": "TROPIC THUNDER (inside)",
         "location_type": "inside",
         "pm_2.5": 8.07,
         "temp_f": 79,
         "humidity": 40,
         "pressure": 1007.43,
         "_deepnote_index_column": 73033
        },
        {
         "lat": 37.874054,
         "lon": -122.256081,
         "name": "UC Berkeley Stanley Hall Indoor Air",
         "location_type": "inside",
         "pm_2.5": 0.36,
         "temp_f": 82,
         "humidity": 31,
         "pressure": 1002.01,
         "_deepnote_index_column": 22315
        },
        {
         "lat": 37.874157,
         "lon": -122.256427,
         "name": "UC Berkeley Stanley Hall Outside Air",
         "location_type": "outside",
         "pm_2.5": 8.67,
         "temp_f": 67,
         "humidity": 65,
         "pressure": 1000.31,
         "_deepnote_index_column": 22463
        },
        {
         "lat": 37.871388,
         "lon": -122.26536,
         "name": "UC East",
         "location_type": "inside",
         "pm_2.5": 9.68,
         "temp_f": 71,
         "humidity": 61,
         "pressure": 1003.13,
         "_deepnote_index_column": 16785
        },
        {
         "lat": 37.872113,
         "lon": -122.266303,
         "name": "University Hall",
         "location_type": "inside",
         "pm_2.5": 9.34,
         "temp_f": 79,
         "humidity": 37,
         "pressure": 1005.88,
         "_deepnote_index_column": 55627
        },
        {
         "lat": 37.871738,
         "lon": -122.26611,
         "name": "University Hall. 2nd floor",
         "location_type": "inside",
         "pm_2.5": 6.24,
         "temp_f": 86,
         "humidity": 31,
         "pressure": 1002.74,
         "_deepnote_index_column": 23659
        },
        {
         "lat": 37.844776,
         "lon": -122.263111,
         "name": "untamedtaco",
         "location_type": "outside",
         "pm_2.5": 9.48,
         "temp_f": 66,
         "humidity": 61,
         "pressure": 1009.61,
         "_deepnote_index_column": 8474
        },
        {
         "lat": 37.854928,
         "lon": -122.241373,
         "name": "Uplands",
         "location_type": "outside",
         "pm_2.5": 16,
         "temp_f": 64,
         "humidity": 65,
         "pressure": 1001.16,
         "_deepnote_index_column": 65281
        },
        {
         "lat": 37.853704,
         "lon": -122.239246,
         "name": "Uplands",
         "location_type": "inside",
         "pm_2.5": 5.51,
         "temp_f": 83,
         "humidity": 34,
         "pressure": 998.88,
         "_deepnote_index_column": 27027
        },
        {
         "lat": 37.853695,
         "lon": -122.239169,
         "name": "Uplands",
         "location_type": "outside",
         "pm_2.5": 20.21,
         "temp_f": 63,
         "humidity": 65,
         "pressure": 999.37,
         "_deepnote_index_column": 39663
        },
        {
         "lat": 37.854416,
         "lon": -122.247999,
         "name": "uplands inside",
         "location_type": "inside",
         "pm_2.5": 12.83,
         "temp_f": 85,
         "humidity": 36,
         "pressure": 1002.42,
         "_deepnote_index_column": 14781
        },
        {
         "lat": 37.854392,
         "lon": -122.247577,
         "name": "uplands outside",
         "location_type": "outside",
         "pm_2.5": 12.28,
         "temp_f": 69,
         "humidity": 62,
         "pressure": 1002.19,
         "_deepnote_index_column": 18281
        },
        {
         "lat": 37.805414,
         "lon": -122.212763,
         "name": "Upper Dimond",
         "location_type": "outside",
         "pm_2.5": 22.73,
         "temp_f": 66,
         "humidity": 57,
         "pressure": 1004.61,
         "_deepnote_index_column": 112008
        },
        {
         "lat": 37.809643,
         "lon": -122.272044,
         "name": "Uptown",
         "location_type": "inside",
         "pm_2.5": 3.73,
         "temp_f": 79,
         "humidity": 31,
         "pressure": 1009.38,
         "_deepnote_index_column": 72029
        },
        {
         "lat": 37.86927,
         "lon": -122.279123,
         "name": "UT",
         "location_type": "outside",
         "pm_2.5": 11.54,
         "temp_f": 66,
         "humidity": 65,
         "pressure": 1010.05,
         "_deepnote_index_column": 63937
        },
        {
         "lat": 37.864078,
         "lon": -122.284264,
         "name": "Valley Street",
         "location_type": "outside",
         "pm_2.5": 12.44,
         "temp_f": 66,
         "humidity": 64,
         "pressure": 1010.68,
         "_deepnote_index_column": 71845
        },
        {
         "lat": 37.845192,
         "lon": -122.21056,
         "name": "Valley View",
         "location_type": "outside",
         "pm_2.5": 17.27,
         "temp_f": 68,
         "humidity": 57,
         "pressure": 982.74,
         "_deepnote_index_column": 17817
        },
        {
         "lat": 37.824012,
         "lon": -122.22363,
         "name": "Viper Room",
         "location_type": "inside",
         "pm_2.5": 7.39,
         "temp_f": 83,
         "humidity": 39,
         "pressure": 994.46,
         "_deepnote_index_column": 73025
        },
        {
         "lat": 37.873297,
         "lon": -122.291986,
         "name": "Virginia Ave",
         "location_type": "outside",
         "pm_2.5": 10.55,
         "temp_f": 65,
         "humidity": 66,
         "pressure": 1013.15,
         "_deepnote_index_column": 66367
        },
        {
         "lat": 37.874941,
         "lon": -122.280454,
         "name": "Virginia-California",
         "location_type": "inside",
         "pm_2.5": 1.6,
         "temp_f": 84,
         "humidity": 35,
         "pressure": 1009.1,
         "_deepnote_index_column": 68751
        },
        {
         "lat": 37.898284,
         "lon": -122.286617,
         "name": "Visalia",
         "location_type": "outside",
         "pm_2.5": 11.17,
         "temp_f": 67,
         "humidity": 62,
         "pressure": 1010.38,
         "_deepnote_index_column": 55871
        },
        {
         "lat": 37.814548,
         "lon": -122.232977,
         "name": "Walavista",
         "location_type": "outside",
         "pm_2.5": 11.2,
         "temp_f": 65,
         "humidity": 62,
         "pressure": 1007.98,
         "_deepnote_index_column": 37133
        },
        {
         "lat": 37.858808,
         "lon": -122.272173,
         "name": "Ward Inside",
         "location_type": "inside",
         "pm_2.5": 5.28,
         "temp_f": 85,
         "humidity": 29,
         "pressure": 1009.51,
         "_deepnote_index_column": 98151
        },
        {
         "lat": 37.81614,
         "lon": -122.241526,
         "name": "Warfield",
         "location_type": "inside",
         "pm_2.5": 0.21,
         "temp_f": 85,
         "humidity": 35,
         "pressure": 1006.67,
         "_deepnote_index_column": 41183
        },
        {
         "lat": 37.876976,
         "lon": -122.248542,
         "name": "Weather Tower",
         "location_type": "outside",
         "pm_2.5": 11.64,
         "temp_f": 65,
         "humidity": 65,
         "pressure": 980.94,
         "_deepnote_index_column": 15769
        },
        {
         "lat": 37.866689,
         "lon": -122.24236,
         "name": "Weezy",
         "location_type": "inside",
         "pm_2.5": 6.16,
         "temp_f": 79,
         "humidity": 36,
         "pressure": 981.07,
         "_deepnote_index_column": 74917
        },
        {
         "lat": 37.817864,
         "lon": -122.272379,
         "name": "West Oakland",
         "location_type": "outside",
         "pm_2.5": 14.09,
         "temp_f": "nan",
         "humidity": "nan",
         "pressure": "nan",
         "_deepnote_index_column": 17927
        },
        {
         "lat": 37.87735,
         "lon": -122.285261,
         "name": "Who farted?",
         "location_type": "inside",
         "pm_2.5": 0.17,
         "temp_f": 84,
         "humidity": 38,
         "pressure": 1011.11,
         "_deepnote_index_column": 20293
        },
        {
         "lat": 37.85318,
         "lon": -122.26349,
         "name": "Whosabird",
         "location_type": "outside",
         "pm_2.5": 6.85,
         "temp_f": 70,
         "humidity": 62,
         "pressure": 1007.22,
         "_deepnote_index_column": 40695
        },
        {
         "lat": 37.813316,
         "lon": -122.297614,
         "name": "Wood St",
         "location_type": "outside",
         "pm_2.5": 18.08,
         "temp_f": 67,
         "humidity": 61,
         "pressure": 1013.32,
         "_deepnote_index_column": 70227
        },
        {
         "lat": 37.813427,
         "lon": -122.282483,
         "name": "Xanadu",
         "location_type": "inside",
         "pm_2.5": 2.75,
         "temp_f": 88,
         "humidity": 32,
         "pressure": 1012.31,
         "_deepnote_index_column": 26977
        },
        {
         "lat": 37.8135,
         "lon": -122.282971,
         "name": "Xanadu",
         "location_type": "outside",
         "pm_2.5": 14.88,
         "temp_f": 67,
         "humidity": 62,
         "pressure": 1012.78,
         "_deepnote_index_column": 56281
        },
        {
         "lat": 37.82756,
         "lon": -122.205627,
         "name": "Zinn Drive",
         "location_type": "outside",
         "pm_2.5": 19.81,
         "temp_f": 65,
         "humidity": 59,
         "pressure": 983.22,
         "_deepnote_index_column": 75223
        }
       ]
      },
      "text/plain": "             lat         lon                      name location_type  pm_2.5  \\\nid                                                                             \n20747  37.838977 -122.205489          1000ft Montclair       outside   23.20   \n81677  37.889085 -122.264327  1044 Keith Ave, Berkeley       outside   14.25   \n79125  37.882941 -122.288017            1094 Tevlin St        inside    6.85   \n77685  37.801872 -122.274582       10th and Washington        inside    6.98   \n71313  37.831398 -122.279550                 1122 40th        inside    6.69   \n...          ...         ...                       ...           ...     ...   \n40695  37.853180 -122.263490                 Whosabird       outside    6.85   \n70227  37.813316 -122.297614                   Wood St       outside   18.08   \n26977  37.813427 -122.282483                    Xanadu        inside    2.75   \n56281  37.813500 -122.282971                    Xanadu       outside   14.88   \n75223  37.827560 -122.205627                Zinn Drive       outside   19.81   \n\n       temp_f  humidity  pressure  \nid                                 \n20747    67.0      61.0    977.20  \n81677    65.0      65.0    993.24  \n79125    83.0      40.0   1010.98  \n77685    84.0      34.0   1011.83  \n71313    91.0      26.0   1010.81  \n...       ...       ...       ...  \n40695    70.0      62.0   1007.22  \n70227    67.0      61.0   1013.32  \n26977    88.0      32.0   1012.31  \n56281    67.0      62.0   1012.78  \n75223    65.0      59.0    983.22  \n\n[684 rows x 8 columns]",
      "text/html": "<div>\n<style scoped>\n    .dataframe tbody tr th:only-of-type {\n        vertical-align: middle;\n    }\n\n    .dataframe tbody tr th {\n        vertical-align: top;\n    }\n\n    .dataframe thead th {\n        text-align: right;\n    }\n</style>\n<table border=\"1\" class=\"dataframe\">\n  <thead>\n    <tr style=\"text-align: right;\">\n      <th></th>\n      <th>lat</th>\n      <th>lon</th>\n      <th>name</th>\n      <th>location_type</th>\n      <th>pm_2.5</th>\n      <th>temp_f</th>\n      <th>humidity</th>\n      <th>pressure</th>\n    </tr>\n    <tr>\n      <th>id</th>\n      <th></th>\n      <th></th>\n      <th></th>\n      <th></th>\n      <th></th>\n      <th></th>\n      <th></th>\n      <th></th>\n    </tr>\n  </thead>\n  <tbody>\n    <tr>\n      <th>20747</th>\n      <td>37.838977</td>\n      <td>-122.205489</td>\n      <td>1000ft Montclair</td>\n      <td>outside</td>\n      <td>23.20</td>\n      <td>67.0</td>\n      <td>61.0</td>\n      <td>977.20</td>\n    </tr>\n    <tr>\n      <th>81677</th>\n      <td>37.889085</td>\n      <td>-122.264327</td>\n      <td>1044 Keith Ave, Berkeley</td>\n      <td>outside</td>\n      <td>14.25</td>\n      <td>65.0</td>\n      <td>65.0</td>\n      <td>993.24</td>\n    </tr>\n    <tr>\n      <th>79125</th>\n      <td>37.882941</td>\n      <td>-122.288017</td>\n      <td>1094 Tevlin St</td>\n      <td>inside</td>\n      <td>6.85</td>\n      <td>83.0</td>\n      <td>40.0</td>\n      <td>1010.98</td>\n    </tr>\n    <tr>\n      <th>77685</th>\n      <td>37.801872</td>\n      <td>-122.274582</td>\n      <td>10th and Washington</td>\n      <td>inside</td>\n      <td>6.98</td>\n      <td>84.0</td>\n      <td>34.0</td>\n      <td>1011.83</td>\n    </tr>\n    <tr>\n      <th>71313</th>\n      <td>37.831398</td>\n      <td>-122.279550</td>\n      <td>1122 40th</td>\n      <td>inside</td>\n      <td>6.69</td>\n      <td>91.0</td>\n      <td>26.0</td>\n      <td>1010.81</td>\n    </tr>\n    <tr>\n      <th>...</th>\n      <td>...</td>\n      <td>...</td>\n      <td>...</td>\n      <td>...</td>\n      <td>...</td>\n      <td>...</td>\n      <td>...</td>\n      <td>...</td>\n    </tr>\n    <tr>\n      <th>40695</th>\n      <td>37.853180</td>\n      <td>-122.263490</td>\n      <td>Whosabird</td>\n      <td>outside</td>\n      <td>6.85</td>\n      <td>70.0</td>\n      <td>62.0</td>\n      <td>1007.22</td>\n    </tr>\n    <tr>\n      <th>70227</th>\n      <td>37.813316</td>\n      <td>-122.297614</td>\n      <td>Wood St</td>\n      <td>outside</td>\n      <td>18.08</td>\n      <td>67.0</td>\n      <td>61.0</td>\n      <td>1013.32</td>\n    </tr>\n    <tr>\n      <th>26977</th>\n      <td>37.813427</td>\n      <td>-122.282483</td>\n      <td>Xanadu</td>\n      <td>inside</td>\n      <td>2.75</td>\n      <td>88.0</td>\n      <td>32.0</td>\n      <td>1012.31</td>\n    </tr>\n    <tr>\n      <th>56281</th>\n      <td>37.813500</td>\n      <td>-122.282971</td>\n      <td>Xanadu</td>\n      <td>outside</td>\n      <td>14.88</td>\n      <td>67.0</td>\n      <td>62.0</td>\n      <td>1012.78</td>\n    </tr>\n    <tr>\n      <th>75223</th>\n      <td>37.827560</td>\n      <td>-122.205627</td>\n      <td>Zinn Drive</td>\n      <td>outside</td>\n      <td>19.81</td>\n      <td>65.0</td>\n      <td>59.0</td>\n      <td>983.22</td>\n    </tr>\n  </tbody>\n</table>\n<p>684 rows × 8 columns</p>\n</div>"
     },
     "metadata": {}
    }
   ]
  },
  {
   "cell_type": "markdown",
   "source": "Now that we have a smaller subset of data to work with, the next step is to use the PM 2.5 measures to assign each sensor to an AQI Index Category and corresponding color. \n\n**Run the cell below to create a new column in the dataframe that indicates the sensors AQI Index.**",
   "metadata": {
    "tags": [],
    "cell_id": "00022-1b077f57-02a3-4169-8666-8efb05b6494f",
    "deepnote_cell_type": "markdown"
   }
  },
  {
   "cell_type": "code",
   "metadata": {
    "tags": [],
    "cell_id": "00023-9e7df17a-8886-4a93-a868-1958b7034700",
    "deepnote_to_be_reexecuted": false,
    "source_hash": "44ccc048",
    "execution_start": 1629355440589,
    "execution_millis": 2,
    "deepnote_cell_type": "code"
   },
   "source": "#creating a column that indicates the AQI code name\ncolorCode = []\nfor i in berkeleyData[\"pm_2.5\"].to_list():\n    if i <= 12.0:\n        colorCode.append('good')\n    elif (i < 12) & (i <=35.4):\n        colorCode.append('moderate')\n    elif (i < 35.5) & (i <=55.4):\n        colorCode.append('unhealthy for sensitive groups')   \n    elif (i < 55.5) & (i <=150.4):\n        colorCode.append('unhealthy')\n    elif (i < 150.5) & (i <=250.4):\n        colorCode.append('very unhealthy')\n    else:\n        colorCode.append('hazardous')\n\nberkeleyData['code'] = colorCode",
   "execution_count": null,
   "outputs": []
  },
  {
   "cell_type": "markdown",
   "source": "Our last step is to use the longitude and latitude coordinates to map the relative location of the sensor with is corresponding AQI Index color!",
   "metadata": {
    "tags": [],
    "cell_id": "00024-f6a8c9ff-3808-4bc8-bea0-e6bd7bac0551",
    "deepnote_cell_type": "markdown"
   }
  },
  {
   "cell_type": "code",
   "metadata": {
    "tags": [],
    "cell_id": "00007-881b9fa0-5a2d-4db9-bab9-0425aa2abcd1",
    "deepnote_to_be_reexecuted": false,
    "source_hash": "723c9c1e",
    "execution_start": 1629355605174,
    "execution_millis": 835,
    "deepnote_cell_type": "code"
   },
   "source": "#### **NOTE: Working on overlaying a map of the area over scatter plot below and adding legend** \n\n#dictionary for AQI code and corresponding color\ncolors = {'good':'green', 'moderate':'yellow', 'unhealthy for sensitive groups':'orange', 'unhealthy':'red', 'very unhealthy':'purple', 'hazardous':'maroon'}\n\n#pull in shapefile of California Counties and covert to a coordinate reference system(crs)\ncali = gpd.read_file('CA_Counties')\ncali_convert = cali.to_crs(epsg=3857)\n\n\n#plot converted data map \nax = cali_convert.plot(figsize=(10, 10), alpha=0.5, edgecolor='k')\n\n\n#Scatter plot for pm_2.5 value of each sensor in the area\nx, y = berkeleyData['lon'].values, berkeleyData['lat'].values\nscatter = ax.scatter(x, y, marker='o', c=berkeleyData['code'].map(colors), cmap='plasma', s=70)\n#ax.legend()\n\nax.set_ylim([37.8, 37.9])\nax.set_xlim([-122.3, -122.2])\nax.set_title('Berkeley AQI Index Category')\nax.set_ylabel(\"Latitude\")\nax.set_xlabel(\"Longitude\")\nplt.show()",
   "execution_count": null,
   "outputs": [
    {
     "data": {
      "text/plain": "<Figure size 720x720 with 1 Axes>",
      "image/png": "[encoded data removed]"
     },
     "metadata": {
      "needs_background": "light",
      "image/png": {
       "width": 629,
       "height": 604
      }
     },
     "output_type": "display_data"
    }
   ]
  },
  {
   "cell_type": "markdown",
   "source": "<a style='text-decoration:none;line-height:16px;display:flex;color:#5B5B62;padding:10px;justify-content:end;' href='https://deepnote.com?utm_source=created-in-deepnote-cell&projectId=f19ace53-ffd9-4b3c-a807-6437cb6cda39' target=\"_blank\">\n<img alt='Created in deepnote.com' style='display:inline;max-height:16px;margin:0px;margin-right:7.5px;' src='data:image/svg+xml;base64,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' > </img>\nCreated in <span style='font-weight:600;margin-left:4px;'>Deepnote</span></a>",
   "metadata": {
    "tags": [],
    "created_in_deepnote_cell": true,
    "deepnote_cell_type": "markdown"
   }
  }
 ],
 "nbformat": 4,
 "nbformat_minor": 2,
 "metadata": {
  "orig_nbformat": 2,
  "deepnote": {
   "is_reactive": false
  },
  "deepnote_notebook_id": "d9e66c1e-6ca7-430c-be17-2f7b5174ecd9",
  "deepnote_execution_queue": []
 }
}
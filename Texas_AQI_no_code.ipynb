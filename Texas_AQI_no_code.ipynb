{
 "cells": [
  {
   "cell_type": "markdown",
   "metadata": {
    "deepnote_cell_type": "markdown",
    "tags": []
   },
   "source": [
    "\n",
    "# Texas Air Quality Notebook"
   ]
  },
  {
   "cell_type": "markdown",
   "metadata": {
    "deepnote_cell_type": "markdown",
    "tags": []
   },
   "source": [
    "**Welcome to our notebook on Texas Air Quality!** \n",
    "\n",
    "In this notebook we will be looking at Air Quality Index (AQI) scores in the surrounding Texas area. With so many pollutants in the air, especially as we head into the annual fire season, AQI becomes something we check on the daily. For many of us, this AQI map is all too familiar. Throughout this module we will discuss how data can be used to visualize and uncover underlying trends in the world.\n",
    "\n",
    "**Let's get started!**"
   ]
  },
  {
   "cell_type": "markdown",
   "metadata": {
    "deepnote_cell_type": "markdown",
    "tags": []
   },
   "source": [
    "<p align=\"center\">\n",
    "  <img src=\"images/Texas_AQI.png\" width=\"600\" height=\"600\" align=\"center\">\n",
    "</p>"
   ]
  },
  {
   "cell_type": "markdown",
   "metadata": {
    "deepnote_cell_type": "markdown",
    "tags": []
   },
   "source": [
    "<br>\n",
    "\n",
    "## Introduction to Jupyter Notebook"
   ]
  },
  {
   "cell_type": "markdown",
   "metadata": {
    "deepnote_cell_type": "markdown",
    "tags": []
   },
   "source": [
    "Before we get started with the data, let's talk about what Jupyter Notebook is. This lab is set up in a Jupyter Notebook. Notebooks can contain anything from live code, to written text, equations or visualizations. The content of notebooks are written into rectangular sections called **cells**. "
   ]
  },
  {
   "cell_type": "markdown",
   "metadata": {
    "deepnote_cell_type": "markdown",
    "tags": []
   },
   "source": [
    "#### Types of Cells\n",
    "There are two types of cells in Jupyter, **code** cells and **markdown** cells. **Code cells**, as you can imagine, contain code in Python, the programming language that we will be using throughout this notebook.  **Markdown cells**, such as this one, contain written text. You can select any cell by clicking on it one. "
   ]
  },
  {
   "cell_type": "markdown",
   "metadata": {
    "deepnote_cell_type": "markdown",
    "tags": []
   },
   "source": [
    "#### Running Cells\n",
    "'Running' a cell is similar to pressing 'Enter' on a calculator once you've typed in an expression; it computes all of the expressions contained within the cell.\n",
    "\n",
    "To run a cell, you can do one of the following:\n",
    "\n",
    "- press **Shift + Enter**\n",
    "- click the **Run** button on the top tool bar\n",
    "\n",
    "Running a markdown cell will embed the text into the notebook and running a code cell will evaluate the code and display its output under the cell. \n",
    "\n",
    "Let's try it! **Run the code cell below.**"
   ]
  },
  {
   "cell_type": "code",
   "execution_count": 1,
   "metadata": {
    "deepnote_cell_type": "code",
    "deepnote_to_be_reexecuted": false,
    "execution_millis": 20,
    "execution_start": 1633062945031,
    "source_hash": "fc071345",
    "tags": []
   },
   "outputs": [
    {
     "name": "stdout",
     "output_type": "stream",
     "text": [
      "Hello World!\n"
     ]
    }
   ],
   "source": [
    "print(\"Hello World!\")"
   ]
  },
  {
   "cell_type": "markdown",
   "metadata": {
    "deepnote_cell_type": "markdown",
    "tags": []
   },
   "source": [
    "#### Editing and Saving\n",
    "\n",
    "- To **edit** a cell, simply double click on the desired cell and begin typing. The cell that you are currently working in will be highlighted by a green box.\n",
    "- To **save** the notebook, either click *Ctl + S* or navigate to the \"File\" dropdown and select \"Save and Checkpoint\""
   ]
  },
  {
   "cell_type": "markdown",
   "metadata": {
    "deepnote_cell_type": "markdown",
    "tags": []
   },
   "source": [
    "#### Adding Cells\n",
    "You can add a cell by clicking <b><code>Insert > Insert Cell Below</code></b> and choose the cell type in the drop down menu. Try adding a cell below to type in your name!\n"
   ]
  },
  {
   "cell_type": "markdown",
   "metadata": {
    "deepnote_cell_type": "markdown",
    "tags": []
   },
   "source": [
    "#### Deleting Cells \n",
    "To delete a cell, click on the <b><code>scissors</code></b> at the top or <b><code>Edit > Cut Cells</code></b>. Delete the cell below."
   ]
  },
  {
   "cell_type": "code",
   "execution_count": 14,
   "metadata": {
    "deepnote_cell_type": "code",
    "deepnote_to_be_reexecuted": false,
    "execution_millis": 15,
    "execution_start": 1633063139383,
    "scrolled": true,
    "source_hash": "53b00907",
    "tags": []
   },
   "outputs": [
    {
     "name": "stdout",
     "output_type": "stream",
     "text": [
      "Delete this!\n"
     ]
    }
   ],
   "source": [
    "print(\"Delete this!\")"
   ]
  },
  {
   "cell_type": "markdown",
   "metadata": {
    "deepnote_cell_type": "markdown",
    "tags": []
   },
   "source": [
    "**Important Tip**: Everytime you open a Jupyter notebook, it is extremely important to run all the cells from the beginning in order for the notebook to work. "
   ]
  },
  {
   "cell_type": "markdown",
   "metadata": {
    "deepnote_cell_type": "markdown",
    "tags": []
   },
   "source": [
    "Now that we have had a brief crash course on Jupyter Notebooks, let's dive into Texas AQI!"
   ]
  },
  {
   "cell_type": "markdown",
   "metadata": {
    "deepnote_cell_type": "markdown",
    "tags": []
   },
   "source": [
    "<br>\n",
    "\n",
    "## Introduction to the Data <a class=\"anchor\" id=\"2\"></a>"
   ]
  },
  {
   "cell_type": "markdown",
   "metadata": {
    "deepnote_cell_type": "markdown",
    "tags": []
   },
   "source": [
    "In this notebook we will look at data collected from PrupleAir, a company that manages a network of air quality sensors. The data from these sensors are then collected to create maps like the one displayed above that depicts an intuitive visualization of the air quality in a specific region. In the dataframe below, you will find several metrics that help us do this.\n",
    "\n",
    "**Before we begin:**\n",
    "\n",
    "- Click on <b><code>Cell</code></b> in the top toolbar  \n",
    "- Click on <b><code>Run All</code></b> in the drop down\n",
    "- Scroll back up to begin going through the notebook!"
   ]
  },
  {
   "cell_type": "code",
   "execution_count": 3,
   "metadata": {},
   "outputs": [
    {
     "data": {
      "text/html": [
       "<script>\n",
       "code_show=true; \n",
       "function code_toggle() {\n",
       "  if (code_show) {\n",
       "    $('div.input').each(function(id) {\n",
       "      el = $(this).find('.cm-variable:first');\n",
       "      if (id == 0 || el.text() == 'hide_me') {\n",
       "        $(this).hide();\n",
       "      }\n",
       "    });\n",
       "    $('div.output_prompt').css('opacity', 0);\n",
       "  } else {\n",
       "    $('div.input').each(function(id) {\n",
       "      $(this).show();\n",
       "    });\n",
       "    $('div.output_prompt').css('opacity', 1);\n",
       "  }\n",
       "  code_show = !code_show\n",
       "} \n",
       "$( document ).ready(code_toggle);\n",
       "</script>\n",
       "<form action=\"javascript:code_toggle()\"><input style=\"opacity:1\" type=\"submit\" value=\"Click here to reveal the raw code.\"></form>"
      ],
      "text/plain": [
       "<IPython.core.display.HTML object>"
      ]
     },
     "execution_count": 3,
     "metadata": {},
     "output_type": "execute_result"
    }
   ],
   "source": [
    "from IPython.display import HTML\n",
    "hide_me = ''\n",
    "HTML('''<script>\n",
    "code_show=true; \n",
    "function code_toggle() {\n",
    "  if (code_show) {\n",
    "    $('div.input').each(function(id) {\n",
    "      el = $(this).find('.cm-variable:first');\n",
    "      if (id == 0 || el.text() == 'hide_me') {\n",
    "        $(this).hide();\n",
    "      }\n",
    "    });\n",
    "    $('div.output_prompt').css('opacity', 0);\n",
    "  } else {\n",
    "    $('div.input').each(function(id) {\n",
    "      $(this).show();\n",
    "    });\n",
    "    $('div.output_prompt').css('opacity', 1);\n",
    "  }\n",
    "  code_show = !code_show\n",
    "} \n",
    "$( document ).ready(code_toggle);\n",
    "</script>\n",
    "<form action=\"javascript:code_toggle()\"><input style=\"opacity:1\" type=\"submit\" value=\"Click here to reveal the raw code.\"></form>''')"
   ]
  },
  {
   "cell_type": "code",
   "execution_count": 4,
   "metadata": {
    "deepnote_cell_type": "code",
    "deepnote_to_be_reexecuted": false,
    "execution_millis": 1803,
    "execution_start": 1633062971393,
    "source_hash": "990f3fb4",
    "tags": [
     "hide-input"
    ]
   },
   "outputs": [],
   "source": [
    "hide_me\n",
    "import matplotlib.pyplot as plt\n",
    "import numpy as np\n",
    "import purpleair\n",
    "import folium\n",
    "import ipywidgets as widgets\n",
    "from ipywidgets import interact, interactive, fixed, interact_manual\n",
    "from datetime import datetime\n",
    "from IPython.display import clear_output\n"
   ]
  },
  {
   "cell_type": "markdown",
   "metadata": {
    "deepnote_cell_type": "markdown",
    "tags": []
   },
   "source": [
    "<br>\n",
    "\n",
    "# PurpleAir Data"
   ]
  },
  {
   "cell_type": "markdown",
   "metadata": {
    "deepnote_cell_type": "markdown",
    "tags": []
   },
   "source": [
    "Before we begin looking at data collected from PurpleAir sensors, lets first take a look at what a sensor is, and what it measures. \n",
    "\n",
    "\n",
    "> Below is a picture of a real PurpleAir Air Quality Sensor. These sensor can be mounted both indoors or outdoors, and it tracks airborne particulate matter(PM) in real time using PMSX003 laser counters. Particulate matter can include things like dust, smoke, dirt and any other organic or inorganic particles in the air. With multiple sensors mounted in a region, PurpleAir can create a relatively accurate measure of AQI throughout the day as the air quality changes. \n",
    "\n",
    "For more information on how sensors work, take a look at the official PurpleAir website [here](https://www2.purpleair.com/community/faq#hc-what-do-the-numbers-on-the-purpleair-map-mean-1)!"
   ]
  },
  {
   "cell_type": "markdown",
   "metadata": {
    "deepnote_cell_type": "markdown",
    "tags": []
   },
   "source": [
    "<p align=\"center\">\n",
    "  <img src=\"images/purpleair-sensor-pm2.5.webp\" width=\"\" height=\"\" align=\"center\">\n",
    "</p>"
   ]
  },
  {
   "cell_type": "markdown",
   "metadata": {
    "deepnote_cell_type": "markdown",
    "tags": []
   },
   "source": [
    "In order to work with the data, we need to pull it into our workspace. Fortunately, PurpleAir has created an API that allows users to pull in and work with their AQI data. In the code cell below we will import the prupleair API and use it to create a dataframe of data from all the PurpleAir sensors!"
   ]
  },
  {
   "cell_type": "code",
   "execution_count": 5,
   "metadata": {
    "deepnote_cell_type": "code",
    "deepnote_to_be_reexecuted": false,
    "execution_millis": 15854,
    "execution_start": 1633062973205,
    "source_hash": "5c996320",
    "tags": [
     "hide-input"
    ]
   },
   "outputs": [
    {
     "name": "stdout",
     "output_type": "stream",
     "text": [
      "Initialized 23,100 sensors!\n"
     ]
    }
   ],
   "source": [
    "hide_me\n",
    "\n",
    "from purpleair.network import SensorList\n",
    "p = SensorList()\n",
    "df = p.to_dataframe(sensor_filter='all',\n",
    "                    channel='parent')"
   ]
  },
  {
   "cell_type": "markdown",
   "metadata": {
    "deepnote_cell_type": "markdown",
    "tags": []
   },
   "source": [
    "The dataframe below contains all the sensor data as of the latest update. It contains data on everything from the geograohical latitude and longitude of the sensor to data on the last time that sensor measured airborne PM."
   ]
  },
  {
   "cell_type": "code",
   "execution_count": 6,
   "metadata": {
    "deepnote_cell_type": "code",
    "deepnote_to_be_reexecuted": false,
    "execution_millis": 294,
    "execution_start": 1633062989059,
    "source_hash": "f804c160",
    "tags": []
   },
   "outputs": [
    {
     "data": {
      "text/html": [
       "<div>\n",
       "<style scoped>\n",
       "    .dataframe tbody tr th:only-of-type {\n",
       "        vertical-align: middle;\n",
       "    }\n",
       "\n",
       "    .dataframe tbody tr th {\n",
       "        vertical-align: top;\n",
       "    }\n",
       "\n",
       "    .dataframe thead th {\n",
       "        text-align: right;\n",
       "    }\n",
       "</style>\n",
       "<table border=\"1\" class=\"dataframe\">\n",
       "  <thead>\n",
       "    <tr style=\"text-align: right;\">\n",
       "      <th></th>\n",
       "      <th>parent</th>\n",
       "      <th>lat</th>\n",
       "      <th>lon</th>\n",
       "      <th>name</th>\n",
       "      <th>location_type</th>\n",
       "      <th>pm_2.5</th>\n",
       "      <th>temp_f</th>\n",
       "      <th>temp_c</th>\n",
       "      <th>humidity</th>\n",
       "      <th>pressure</th>\n",
       "      <th>...</th>\n",
       "      <th>last_update_check</th>\n",
       "      <th>created</th>\n",
       "      <th>uptime</th>\n",
       "      <th>is_owner</th>\n",
       "      <th>10min_avg</th>\n",
       "      <th>30min_avg</th>\n",
       "      <th>1hour_avg</th>\n",
       "      <th>6hour_avg</th>\n",
       "      <th>1day_avg</th>\n",
       "      <th>1week_avg</th>\n",
       "    </tr>\n",
       "    <tr>\n",
       "      <th>id</th>\n",
       "      <th></th>\n",
       "      <th></th>\n",
       "      <th></th>\n",
       "      <th></th>\n",
       "      <th></th>\n",
       "      <th></th>\n",
       "      <th></th>\n",
       "      <th></th>\n",
       "      <th></th>\n",
       "      <th></th>\n",
       "      <th></th>\n",
       "      <th></th>\n",
       "      <th></th>\n",
       "      <th></th>\n",
       "      <th></th>\n",
       "      <th></th>\n",
       "      <th></th>\n",
       "      <th></th>\n",
       "      <th></th>\n",
       "      <th></th>\n",
       "      <th></th>\n",
       "    </tr>\n",
       "  </thead>\n",
       "  <tbody>\n",
       "    <tr>\n",
       "      <td>14633</td>\n",
       "      <td>None</td>\n",
       "      <td>37.275561</td>\n",
       "      <td>-121.964134</td>\n",
       "      <td>Hazelwood canary</td>\n",
       "      <td>outside</td>\n",
       "      <td>1.03</td>\n",
       "      <td>71.0</td>\n",
       "      <td>21.666667</td>\n",
       "      <td>34.0</td>\n",
       "      <td>1009.74</td>\n",
       "      <td>...</td>\n",
       "      <td>None</td>\n",
       "      <td>None</td>\n",
       "      <td>None</td>\n",
       "      <td>False</td>\n",
       "      <td>1.30</td>\n",
       "      <td>1.87</td>\n",
       "      <td>1.90</td>\n",
       "      <td>1.21</td>\n",
       "      <td>1.44</td>\n",
       "      <td>4.13</td>\n",
       "    </tr>\n",
       "    <tr>\n",
       "      <td>25999</td>\n",
       "      <td>None</td>\n",
       "      <td>30.053808</td>\n",
       "      <td>-95.494643</td>\n",
       "      <td>Villages of Bridgestone AQI</td>\n",
       "      <td>outside</td>\n",
       "      <td>9.54</td>\n",
       "      <td>91.0</td>\n",
       "      <td>32.777778</td>\n",
       "      <td>41.0</td>\n",
       "      <td>1014.02</td>\n",
       "      <td>...</td>\n",
       "      <td>None</td>\n",
       "      <td>None</td>\n",
       "      <td>None</td>\n",
       "      <td>False</td>\n",
       "      <td>8.41</td>\n",
       "      <td>8.15</td>\n",
       "      <td>9.06</td>\n",
       "      <td>14.00</td>\n",
       "      <td>12.98</td>\n",
       "      <td>13.16</td>\n",
       "    </tr>\n",
       "    <tr>\n",
       "      <td>14091</td>\n",
       "      <td>None</td>\n",
       "      <td>37.883620</td>\n",
       "      <td>-122.070087</td>\n",
       "      <td>WC Hillside</td>\n",
       "      <td>outside</td>\n",
       "      <td>3.47</td>\n",
       "      <td>64.0</td>\n",
       "      <td>17.777778</td>\n",
       "      <td>45.0</td>\n",
       "      <td>1004.61</td>\n",
       "      <td>...</td>\n",
       "      <td>None</td>\n",
       "      <td>None</td>\n",
       "      <td>None</td>\n",
       "      <td>False</td>\n",
       "      <td>2.86</td>\n",
       "      <td>2.29</td>\n",
       "      <td>1.95</td>\n",
       "      <td>1.99</td>\n",
       "      <td>3.56</td>\n",
       "      <td>5.84</td>\n",
       "    </tr>\n",
       "    <tr>\n",
       "      <td>108226</td>\n",
       "      <td>None</td>\n",
       "      <td>38.573703</td>\n",
       "      <td>-121.439113</td>\n",
       "      <td>\"C\" Street Air Shelter</td>\n",
       "      <td>inside</td>\n",
       "      <td>1.20</td>\n",
       "      <td>74.0</td>\n",
       "      <td>23.333333</td>\n",
       "      <td>31.0</td>\n",
       "      <td>1017.90</td>\n",
       "      <td>...</td>\n",
       "      <td>None</td>\n",
       "      <td>None</td>\n",
       "      <td>None</td>\n",
       "      <td>False</td>\n",
       "      <td>1.40</td>\n",
       "      <td>1.53</td>\n",
       "      <td>1.66</td>\n",
       "      <td>1.63</td>\n",
       "      <td>2.38</td>\n",
       "      <td>3.53</td>\n",
       "    </tr>\n",
       "    <tr>\n",
       "      <td>42073</td>\n",
       "      <td>None</td>\n",
       "      <td>47.185173</td>\n",
       "      <td>-122.176855</td>\n",
       "      <td>#1</td>\n",
       "      <td>outside</td>\n",
       "      <td>4.02</td>\n",
       "      <td>59.0</td>\n",
       "      <td>15.000000</td>\n",
       "      <td>56.0</td>\n",
       "      <td>990.23</td>\n",
       "      <td>...</td>\n",
       "      <td>None</td>\n",
       "      <td>None</td>\n",
       "      <td>None</td>\n",
       "      <td>False</td>\n",
       "      <td>4.45</td>\n",
       "      <td>5.15</td>\n",
       "      <td>6.68</td>\n",
       "      <td>9.33</td>\n",
       "      <td>7.23</td>\n",
       "      <td>5.91</td>\n",
       "    </tr>\n",
       "    <tr>\n",
       "      <td>...</td>\n",
       "      <td>...</td>\n",
       "      <td>...</td>\n",
       "      <td>...</td>\n",
       "      <td>...</td>\n",
       "      <td>...</td>\n",
       "      <td>...</td>\n",
       "      <td>...</td>\n",
       "      <td>...</td>\n",
       "      <td>...</td>\n",
       "      <td>...</td>\n",
       "      <td>...</td>\n",
       "      <td>...</td>\n",
       "      <td>...</td>\n",
       "      <td>...</td>\n",
       "      <td>...</td>\n",
       "      <td>...</td>\n",
       "      <td>...</td>\n",
       "      <td>...</td>\n",
       "      <td>...</td>\n",
       "      <td>...</td>\n",
       "      <td>...</td>\n",
       "    </tr>\n",
       "    <tr>\n",
       "      <td>64995</td>\n",
       "      <td>None</td>\n",
       "      <td>36.691324</td>\n",
       "      <td>126.585255</td>\n",
       "      <td>한서대학교</td>\n",
       "      <td>outside</td>\n",
       "      <td>21.76</td>\n",
       "      <td>51.0</td>\n",
       "      <td>10.555556</td>\n",
       "      <td>52.0</td>\n",
       "      <td>1009.03</td>\n",
       "      <td>...</td>\n",
       "      <td>None</td>\n",
       "      <td>None</td>\n",
       "      <td>None</td>\n",
       "      <td>False</td>\n",
       "      <td>20.05</td>\n",
       "      <td>20.38</td>\n",
       "      <td>21.04</td>\n",
       "      <td>20.78</td>\n",
       "      <td>14.63</td>\n",
       "      <td>13.97</td>\n",
       "    </tr>\n",
       "    <tr>\n",
       "      <td>64093</td>\n",
       "      <td>None</td>\n",
       "      <td>36.710720</td>\n",
       "      <td>126.548390</td>\n",
       "      <td>해미읍성</td>\n",
       "      <td>outside</td>\n",
       "      <td>16.95</td>\n",
       "      <td>49.0</td>\n",
       "      <td>9.444444</td>\n",
       "      <td>55.0</td>\n",
       "      <td>1019.65</td>\n",
       "      <td>...</td>\n",
       "      <td>None</td>\n",
       "      <td>None</td>\n",
       "      <td>None</td>\n",
       "      <td>False</td>\n",
       "      <td>17.03</td>\n",
       "      <td>18.35</td>\n",
       "      <td>19.56</td>\n",
       "      <td>20.98</td>\n",
       "      <td>16.73</td>\n",
       "      <td>14.89</td>\n",
       "    </tr>\n",
       "    <tr>\n",
       "      <td>29747</td>\n",
       "      <td>None</td>\n",
       "      <td>36.761236</td>\n",
       "      <td>127.395300</td>\n",
       "      <td>화덕보건진료소</td>\n",
       "      <td>outside</td>\n",
       "      <td>35.98</td>\n",
       "      <td>49.0</td>\n",
       "      <td>9.444444</td>\n",
       "      <td>55.0</td>\n",
       "      <td>1009.15</td>\n",
       "      <td>...</td>\n",
       "      <td>None</td>\n",
       "      <td>None</td>\n",
       "      <td>None</td>\n",
       "      <td>False</td>\n",
       "      <td>36.81</td>\n",
       "      <td>37.45</td>\n",
       "      <td>37.74</td>\n",
       "      <td>36.45</td>\n",
       "      <td>28.47</td>\n",
       "      <td>20.69</td>\n",
       "    </tr>\n",
       "    <tr>\n",
       "      <td>98309</td>\n",
       "      <td>None</td>\n",
       "      <td>36.718003</td>\n",
       "      <td>126.926841</td>\n",
       "      <td>화천1리마을회관</td>\n",
       "      <td>outside</td>\n",
       "      <td>29.89</td>\n",
       "      <td>50.0</td>\n",
       "      <td>10.000000</td>\n",
       "      <td>52.0</td>\n",
       "      <td>1014.84</td>\n",
       "      <td>...</td>\n",
       "      <td>None</td>\n",
       "      <td>None</td>\n",
       "      <td>None</td>\n",
       "      <td>False</td>\n",
       "      <td>27.90</td>\n",
       "      <td>28.86</td>\n",
       "      <td>29.35</td>\n",
       "      <td>27.68</td>\n",
       "      <td>22.68</td>\n",
       "      <td>17.43</td>\n",
       "    </tr>\n",
       "    <tr>\n",
       "      <td>20</td>\n",
       "      <td>None</td>\n",
       "      <td>40.603078</td>\n",
       "      <td>-111.836119</td>\n",
       "      <td>Oakdale</td>\n",
       "      <td>None</td>\n",
       "      <td>0.00</td>\n",
       "      <td>NaN</td>\n",
       "      <td>NaN</td>\n",
       "      <td>NaN</td>\n",
       "      <td>NaN</td>\n",
       "      <td>...</td>\n",
       "      <td>None</td>\n",
       "      <td>None</td>\n",
       "      <td>None</td>\n",
       "      <td>False</td>\n",
       "      <td>0.00</td>\n",
       "      <td>0.00</td>\n",
       "      <td>0.00</td>\n",
       "      <td>0.00</td>\n",
       "      <td>0.00</td>\n",
       "      <td>0.00</td>\n",
       "    </tr>\n",
       "  </tbody>\n",
       "</table>\n",
       "<p>23100 rows × 43 columns</p>\n",
       "</div>"
      ],
      "text/plain": [
       "       parent        lat         lon                          name  \\\n",
       "id                                                                   \n",
       "14633    None  37.275561 -121.964134             Hazelwood canary    \n",
       "25999    None  30.053808  -95.494643   Villages of Bridgestone AQI   \n",
       "14091    None  37.883620 -122.070087                   WC Hillside   \n",
       "108226   None  38.573703 -121.439113        \"C\" Street Air Shelter   \n",
       "42073    None  47.185173 -122.176855                            #1   \n",
       "...       ...        ...         ...                           ...   \n",
       "64995    None  36.691324  126.585255                         한서대학교   \n",
       "64093    None  36.710720  126.548390                          해미읍성   \n",
       "29747    None  36.761236  127.395300                       화덕보건진료소   \n",
       "98309    None  36.718003  126.926841                      화천1리마을회관   \n",
       "20       None  40.603078 -111.836119                       Oakdale   \n",
       "\n",
       "       location_type  pm_2.5  temp_f     temp_c  humidity  pressure  ...  \\\n",
       "id                                                                   ...   \n",
       "14633        outside    1.03    71.0  21.666667      34.0   1009.74  ...   \n",
       "25999        outside    9.54    91.0  32.777778      41.0   1014.02  ...   \n",
       "14091        outside    3.47    64.0  17.777778      45.0   1004.61  ...   \n",
       "108226        inside    1.20    74.0  23.333333      31.0   1017.90  ...   \n",
       "42073        outside    4.02    59.0  15.000000      56.0    990.23  ...   \n",
       "...              ...     ...     ...        ...       ...       ...  ...   \n",
       "64995        outside   21.76    51.0  10.555556      52.0   1009.03  ...   \n",
       "64093        outside   16.95    49.0   9.444444      55.0   1019.65  ...   \n",
       "29747        outside   35.98    49.0   9.444444      55.0   1009.15  ...   \n",
       "98309        outside   29.89    50.0  10.000000      52.0   1014.84  ...   \n",
       "20              None    0.00     NaN        NaN       NaN       NaN  ...   \n",
       "\n",
       "       last_update_check created uptime is_owner 10min_avg 30min_avg  \\\n",
       "id                                                                     \n",
       "14633               None    None   None    False      1.30      1.87   \n",
       "25999               None    None   None    False      8.41      8.15   \n",
       "14091               None    None   None    False      2.86      2.29   \n",
       "108226              None    None   None    False      1.40      1.53   \n",
       "42073               None    None   None    False      4.45      5.15   \n",
       "...                  ...     ...    ...      ...       ...       ...   \n",
       "64995               None    None   None    False     20.05     20.38   \n",
       "64093               None    None   None    False     17.03     18.35   \n",
       "29747               None    None   None    False     36.81     37.45   \n",
       "98309               None    None   None    False     27.90     28.86   \n",
       "20                  None    None   None    False      0.00      0.00   \n",
       "\n",
       "       1hour_avg 6hour_avg 1day_avg 1week_avg  \n",
       "id                                             \n",
       "14633       1.90      1.21     1.44      4.13  \n",
       "25999       9.06     14.00    12.98     13.16  \n",
       "14091       1.95      1.99     3.56      5.84  \n",
       "108226      1.66      1.63     2.38      3.53  \n",
       "42073       6.68      9.33     7.23      5.91  \n",
       "...          ...       ...      ...       ...  \n",
       "64995      21.04     20.78    14.63     13.97  \n",
       "64093      19.56     20.98    16.73     14.89  \n",
       "29747      37.74     36.45    28.47     20.69  \n",
       "98309      29.35     27.68    22.68     17.43  \n",
       "20          0.00      0.00     0.00      0.00  \n",
       "\n",
       "[23100 rows x 43 columns]"
      ]
     },
     "execution_count": 6,
     "metadata": {},
     "output_type": "execute_result"
    }
   ],
   "source": [
    "hide_me\n",
    "\n",
    "df"
   ]
  },
  {
   "cell_type": "markdown",
   "metadata": {
    "deepnote_cell_type": "markdown",
    "tags": []
   },
   "source": [
    "Here is a breakdown of the dataframe above and what each column represents. \n",
    "\n",
    "`lat`: The latitude coordinate of the location\n",
    "\n",
    "`lon`: The longitude coordinate of the location\n",
    "\n",
    "`name`: The name of the location\n",
    "\n",
    "`location_type`: The nature of the location (ie. inside or outside)\n",
    "\n",
    "`pm_2.5`: The level of fine particulate matter in the air of that location\n",
    "\n",
    "`temp_f`: The temperature of the location in degrees Farenheit \n",
    "\n",
    "`temp_c`: The temperature of the location in degrees Celsius \n",
    "\n",
    "`humidity`: The humidity percentage of the location\n",
    "\n",
    "`pressure`: The pressure index of the location (in millibars)\n",
    "\n",
    "`last_seen`: The last seen date and timestamp in UTC\n",
    "\n",
    "`model`: Model of the specific sensor\n",
    "\n",
    "`flagged`: Whether or not the channel was marked as flagged (usually based on a fault)\n",
    "\n",
    "`age`: Sensor data age (when data was last received)\n",
    "\n",
    "`10min_avg`: Average PM 2.5 AQI over the last 10 minutes \n",
    "\n",
    "`30min_avg`: Average PM 2.5 AQI over the last 30 minutes\n",
    "\n",
    "`1hour_avg`: Average PM 2.5 AQI over the last hour\n",
    "\n",
    "`6hour_avg`: Average PM 2.5 AQI over the last 6 hours\n",
    "\n",
    "`1day_avg`: Average PM 2.5 AQI over the last day \n",
    "\n",
    "`1week_avg`: Average PM 2.5 AQI over the last week\n"
   ]
  },
  {
   "cell_type": "markdown",
   "metadata": {
    "deepnote_cell_type": "markdown",
    "tags": []
   },
   "source": [
    "<br>\n",
    "\n",
    "### Airborne Particulate Matter (PM) 2.5 \n",
    "While many of the column names are relatively straightforward, such as the \"name\" column (which displays the set name of the particular sensor), the \"location_type\" column (which indicates where it is an indoor or outdoor sensor), etc., we would like to draw your attention to the \"pm_2.5\" column. \n",
    "\n",
    ">The \"pm_2.5\" column represents the count of airborne pm that is larger than 2.5um/dl, in otherwords, airborne particles that have a diameter of 2.5 micrometers or less. In high levels, PM 2.5 particles can reduce visibility and cause the air to appear hazy. Tracking PM 2.5 is important because prolonged exposure to high levels of PM 2.5 particles can cause adverse US Environmental Protection Agency (EPA) use to calculate the local Air Quality Index (AQI)."
   ]
  },
  {
   "cell_type": "markdown",
   "metadata": {
    "deepnote_cell_type": "markdown",
    "tags": []
   },
   "source": [
    "If you go to the PurpleAir website [here](https://map.purpleair.com/1/mAQI/a10/p604800/cC0#14.52/30.28196/-97.73198), it should navigate you to a map of the surrounding University of Texas area. If you click on the sensor currently located in the DKR Texas Memorial Stadium, you'll find that the name of that particular sensor is \"PA_II_D8B6\". \n",
    "\n",
    "Let's take a closer look at the UT Stadium Sensor! In the dataframe below we filter the dataframe by the sensor name (\"PA_II_D8B6\") to pick out the row that corresponds to the specific sensor we are looking for. \n"
   ]
  },
  {
   "cell_type": "code",
   "execution_count": 7,
   "metadata": {
    "deepnote_cell_type": "code",
    "deepnote_to_be_reexecuted": false,
    "execution_millis": 200,
    "execution_start": 1633062989370,
    "source_hash": "18fdfec8",
    "tags": [
     "hide-input"
    ]
   },
   "outputs": [
    {
     "data": {
      "text/html": [
       "<div>\n",
       "<style scoped>\n",
       "    .dataframe tbody tr th:only-of-type {\n",
       "        vertical-align: middle;\n",
       "    }\n",
       "\n",
       "    .dataframe tbody tr th {\n",
       "        vertical-align: top;\n",
       "    }\n",
       "\n",
       "    .dataframe thead th {\n",
       "        text-align: right;\n",
       "    }\n",
       "</style>\n",
       "<table border=\"1\" class=\"dataframe\">\n",
       "  <thead>\n",
       "    <tr style=\"text-align: right;\">\n",
       "      <th></th>\n",
       "      <th>parent</th>\n",
       "      <th>lat</th>\n",
       "      <th>lon</th>\n",
       "      <th>name</th>\n",
       "      <th>location_type</th>\n",
       "      <th>pm_2.5</th>\n",
       "      <th>temp_f</th>\n",
       "      <th>temp_c</th>\n",
       "      <th>humidity</th>\n",
       "      <th>pressure</th>\n",
       "      <th>...</th>\n",
       "      <th>last_update_check</th>\n",
       "      <th>created</th>\n",
       "      <th>uptime</th>\n",
       "      <th>is_owner</th>\n",
       "      <th>10min_avg</th>\n",
       "      <th>30min_avg</th>\n",
       "      <th>1hour_avg</th>\n",
       "      <th>6hour_avg</th>\n",
       "      <th>1day_avg</th>\n",
       "      <th>1week_avg</th>\n",
       "    </tr>\n",
       "    <tr>\n",
       "      <th>id</th>\n",
       "      <th></th>\n",
       "      <th></th>\n",
       "      <th></th>\n",
       "      <th></th>\n",
       "      <th></th>\n",
       "      <th></th>\n",
       "      <th></th>\n",
       "      <th></th>\n",
       "      <th></th>\n",
       "      <th></th>\n",
       "      <th></th>\n",
       "      <th></th>\n",
       "      <th></th>\n",
       "      <th></th>\n",
       "      <th></th>\n",
       "      <th></th>\n",
       "      <th></th>\n",
       "      <th></th>\n",
       "      <th></th>\n",
       "      <th></th>\n",
       "      <th></th>\n",
       "    </tr>\n",
       "  </thead>\n",
       "  <tbody>\n",
       "    <tr>\n",
       "      <td>27395</td>\n",
       "      <td>None</td>\n",
       "      <td>30.285069</td>\n",
       "      <td>-97.732877</td>\n",
       "      <td>PA_II_D8B6</td>\n",
       "      <td>outside</td>\n",
       "      <td>4.18</td>\n",
       "      <td>84.0</td>\n",
       "      <td>28.888889</td>\n",
       "      <td>44.0</td>\n",
       "      <td>997.62</td>\n",
       "      <td>...</td>\n",
       "      <td>None</td>\n",
       "      <td>None</td>\n",
       "      <td>None</td>\n",
       "      <td>False</td>\n",
       "      <td>4.35</td>\n",
       "      <td>5.23</td>\n",
       "      <td>7.05</td>\n",
       "      <td>8.49</td>\n",
       "      <td>7.53</td>\n",
       "      <td>9.27</td>\n",
       "    </tr>\n",
       "  </tbody>\n",
       "</table>\n",
       "<p>1 rows × 43 columns</p>\n",
       "</div>"
      ],
      "text/plain": [
       "      parent        lat        lon        name location_type  pm_2.5  temp_f  \\\n",
       "id                                                                             \n",
       "27395   None  30.285069 -97.732877  PA_II_D8B6       outside    4.18    84.0   \n",
       "\n",
       "          temp_c  humidity  pressure  ... last_update_check created uptime  \\\n",
       "id                                    ...                                    \n",
       "27395  28.888889      44.0    997.62  ...              None    None   None   \n",
       "\n",
       "      is_owner 10min_avg 30min_avg 1hour_avg 6hour_avg 1day_avg 1week_avg  \n",
       "id                                                                         \n",
       "27395    False      4.35      5.23      7.05      8.49     7.53      9.27  \n",
       "\n",
       "[1 rows x 43 columns]"
      ]
     },
     "execution_count": 7,
     "metadata": {},
     "output_type": "execute_result"
    }
   ],
   "source": [
    "hide_me\n",
    "df[df['name'] == \"PA_II_D8B6\"]"
   ]
  },
  {
   "cell_type": "markdown",
   "metadata": {
    "deepnote_cell_type": "markdown",
    "tags": []
   },
   "source": [
    "<br>\n",
    "\n",
    "The row above gives us loads of information on the state of the AQI in the UT Stadium at the present moment, but it would be nice to see the AQI information over time. Below is a dataframe that contains information about the UT Stadium sensor roughly over the last 7 days. "
   ]
  },
  {
   "cell_type": "code",
   "execution_count": 8,
   "metadata": {
    "deepnote_cell_type": "code",
    "deepnote_to_be_reexecuted": false,
    "execution_millis": 2171,
    "execution_start": 1633062989568,
    "source_hash": "4537611e",
    "tags": [
     "hide-input"
    ]
   },
   "outputs": [
    {
     "data": {
      "text/html": [
       "<div>\n",
       "<style scoped>\n",
       "    .dataframe tbody tr th:only-of-type {\n",
       "        vertical-align: middle;\n",
       "    }\n",
       "\n",
       "    .dataframe tbody tr th {\n",
       "        vertical-align: top;\n",
       "    }\n",
       "\n",
       "    .dataframe thead th {\n",
       "        text-align: right;\n",
       "    }\n",
       "</style>\n",
       "<table border=\"1\" class=\"dataframe\">\n",
       "  <thead>\n",
       "    <tr style=\"text-align: right;\">\n",
       "      <th></th>\n",
       "      <th>created_at</th>\n",
       "      <th>0.3um/dl</th>\n",
       "      <th>0.5um/dl</th>\n",
       "      <th>1.0um/dl</th>\n",
       "      <th>2.5um/dl</th>\n",
       "      <th>5.0um/dl</th>\n",
       "      <th>10.0um/dl</th>\n",
       "      <th>PM1.0 (CF=ATM) ug/m3</th>\n",
       "      <th>PM10 (CF=ATM) ug/m3</th>\n",
       "      <th>Date</th>\n",
       "    </tr>\n",
       "    <tr>\n",
       "      <th>entry_id</th>\n",
       "      <th></th>\n",
       "      <th></th>\n",
       "      <th></th>\n",
       "      <th></th>\n",
       "      <th></th>\n",
       "      <th></th>\n",
       "      <th></th>\n",
       "      <th></th>\n",
       "      <th></th>\n",
       "      <th></th>\n",
       "    </tr>\n",
       "  </thead>\n",
       "  <tbody>\n",
       "    <tr>\n",
       "      <td>524765</td>\n",
       "      <td>2021-10-12 00:01:33+00:00</td>\n",
       "      <td>859.86</td>\n",
       "      <td>244.74</td>\n",
       "      <td>60.55</td>\n",
       "      <td>6.79</td>\n",
       "      <td>1.97</td>\n",
       "      <td>0.34</td>\n",
       "      <td>3.45</td>\n",
       "      <td>9.40</td>\n",
       "      <td>12-Oct-2021</td>\n",
       "    </tr>\n",
       "    <tr>\n",
       "      <td>524766</td>\n",
       "      <td>2021-10-12 00:03:32+00:00</td>\n",
       "      <td>551.14</td>\n",
       "      <td>154.96</td>\n",
       "      <td>25.11</td>\n",
       "      <td>3.14</td>\n",
       "      <td>1.36</td>\n",
       "      <td>0.39</td>\n",
       "      <td>1.98</td>\n",
       "      <td>4.39</td>\n",
       "      <td>12-Oct-2021</td>\n",
       "    </tr>\n",
       "    <tr>\n",
       "      <td>524767</td>\n",
       "      <td>2021-10-12 00:05:34+00:00</td>\n",
       "      <td>389.95</td>\n",
       "      <td>109.79</td>\n",
       "      <td>18.34</td>\n",
       "      <td>1.62</td>\n",
       "      <td>0.48</td>\n",
       "      <td>0.00</td>\n",
       "      <td>1.34</td>\n",
       "      <td>2.59</td>\n",
       "      <td>12-Oct-2021</td>\n",
       "    </tr>\n",
       "    <tr>\n",
       "      <td>524768</td>\n",
       "      <td>2021-10-12 00:07:30+00:00</td>\n",
       "      <td>383.59</td>\n",
       "      <td>107.19</td>\n",
       "      <td>20.24</td>\n",
       "      <td>1.22</td>\n",
       "      <td>0.85</td>\n",
       "      <td>0.00</td>\n",
       "      <td>1.10</td>\n",
       "      <td>2.64</td>\n",
       "      <td>12-Oct-2021</td>\n",
       "    </tr>\n",
       "    <tr>\n",
       "      <td>524769</td>\n",
       "      <td>2021-10-12 00:09:31+00:00</td>\n",
       "      <td>370.60</td>\n",
       "      <td>102.40</td>\n",
       "      <td>14.48</td>\n",
       "      <td>1.03</td>\n",
       "      <td>0.00</td>\n",
       "      <td>0.00</td>\n",
       "      <td>0.95</td>\n",
       "      <td>1.91</td>\n",
       "      <td>12-Oct-2021</td>\n",
       "    </tr>\n",
       "    <tr>\n",
       "      <td>...</td>\n",
       "      <td>...</td>\n",
       "      <td>...</td>\n",
       "      <td>...</td>\n",
       "      <td>...</td>\n",
       "      <td>...</td>\n",
       "      <td>...</td>\n",
       "      <td>...</td>\n",
       "      <td>...</td>\n",
       "      <td>...</td>\n",
       "      <td>...</td>\n",
       "    </tr>\n",
       "    <tr>\n",
       "      <td>529222</td>\n",
       "      <td>2021-10-18 23:48:09+00:00</td>\n",
       "      <td>798.47</td>\n",
       "      <td>221.29</td>\n",
       "      <td>28.10</td>\n",
       "      <td>1.14</td>\n",
       "      <td>0.00</td>\n",
       "      <td>0.00</td>\n",
       "      <td>3.50</td>\n",
       "      <td>5.17</td>\n",
       "      <td>18-Oct-2021</td>\n",
       "    </tr>\n",
       "    <tr>\n",
       "      <td>529223</td>\n",
       "      <td>2021-10-18 23:50:09+00:00</td>\n",
       "      <td>803.53</td>\n",
       "      <td>220.28</td>\n",
       "      <td>28.07</td>\n",
       "      <td>2.72</td>\n",
       "      <td>0.10</td>\n",
       "      <td>0.00</td>\n",
       "      <td>3.36</td>\n",
       "      <td>5.47</td>\n",
       "      <td>18-Oct-2021</td>\n",
       "    </tr>\n",
       "    <tr>\n",
       "      <td>529224</td>\n",
       "      <td>2021-10-18 23:54:12+00:00</td>\n",
       "      <td>677.46</td>\n",
       "      <td>185.32</td>\n",
       "      <td>24.86</td>\n",
       "      <td>0.96</td>\n",
       "      <td>0.00</td>\n",
       "      <td>0.00</td>\n",
       "      <td>2.89</td>\n",
       "      <td>3.82</td>\n",
       "      <td>18-Oct-2021</td>\n",
       "    </tr>\n",
       "    <tr>\n",
       "      <td>529225</td>\n",
       "      <td>2021-10-18 23:56:07+00:00</td>\n",
       "      <td>699.00</td>\n",
       "      <td>189.59</td>\n",
       "      <td>22.88</td>\n",
       "      <td>1.42</td>\n",
       "      <td>0.95</td>\n",
       "      <td>0.95</td>\n",
       "      <td>2.85</td>\n",
       "      <td>4.61</td>\n",
       "      <td>18-Oct-2021</td>\n",
       "    </tr>\n",
       "    <tr>\n",
       "      <td>529226</td>\n",
       "      <td>2021-10-18 23:58:20+00:00</td>\n",
       "      <td>828.72</td>\n",
       "      <td>233.62</td>\n",
       "      <td>26.69</td>\n",
       "      <td>2.76</td>\n",
       "      <td>0.59</td>\n",
       "      <td>0.00</td>\n",
       "      <td>3.95</td>\n",
       "      <td>5.76</td>\n",
       "      <td>18-Oct-2021</td>\n",
       "    </tr>\n",
       "  </tbody>\n",
       "</table>\n",
       "<p>4462 rows × 10 columns</p>\n",
       "</div>"
      ],
      "text/plain": [
       "                        created_at  0.3um/dl  0.5um/dl  1.0um/dl  2.5um/dl  \\\n",
       "entry_id                                                                     \n",
       "524765   2021-10-12 00:01:33+00:00    859.86    244.74     60.55      6.79   \n",
       "524766   2021-10-12 00:03:32+00:00    551.14    154.96     25.11      3.14   \n",
       "524767   2021-10-12 00:05:34+00:00    389.95    109.79     18.34      1.62   \n",
       "524768   2021-10-12 00:07:30+00:00    383.59    107.19     20.24      1.22   \n",
       "524769   2021-10-12 00:09:31+00:00    370.60    102.40     14.48      1.03   \n",
       "...                            ...       ...       ...       ...       ...   \n",
       "529222   2021-10-18 23:48:09+00:00    798.47    221.29     28.10      1.14   \n",
       "529223   2021-10-18 23:50:09+00:00    803.53    220.28     28.07      2.72   \n",
       "529224   2021-10-18 23:54:12+00:00    677.46    185.32     24.86      0.96   \n",
       "529225   2021-10-18 23:56:07+00:00    699.00    189.59     22.88      1.42   \n",
       "529226   2021-10-18 23:58:20+00:00    828.72    233.62     26.69      2.76   \n",
       "\n",
       "          5.0um/dl  10.0um/dl  PM1.0 (CF=ATM) ug/m3  PM10 (CF=ATM) ug/m3  \\\n",
       "entry_id                                                                   \n",
       "524765        1.97       0.34                  3.45                 9.40   \n",
       "524766        1.36       0.39                  1.98                 4.39   \n",
       "524767        0.48       0.00                  1.34                 2.59   \n",
       "524768        0.85       0.00                  1.10                 2.64   \n",
       "524769        0.00       0.00                  0.95                 1.91   \n",
       "...            ...        ...                   ...                  ...   \n",
       "529222        0.00       0.00                  3.50                 5.17   \n",
       "529223        0.10       0.00                  3.36                 5.47   \n",
       "529224        0.00       0.00                  2.89                 3.82   \n",
       "529225        0.95       0.95                  2.85                 4.61   \n",
       "529226        0.59       0.00                  3.95                 5.76   \n",
       "\n",
       "                 Date  \n",
       "entry_id               \n",
       "524765    12-Oct-2021  \n",
       "524766    12-Oct-2021  \n",
       "524767    12-Oct-2021  \n",
       "524768    12-Oct-2021  \n",
       "524769    12-Oct-2021  \n",
       "...               ...  \n",
       "529222    18-Oct-2021  \n",
       "529223    18-Oct-2021  \n",
       "529224    18-Oct-2021  \n",
       "529225    18-Oct-2021  \n",
       "529226    18-Oct-2021  \n",
       "\n",
       "[4462 rows x 10 columns]"
      ]
     },
     "execution_count": 8,
     "metadata": {},
     "output_type": "execute_result"
    }
   ],
   "source": [
    "hide_me\n",
    "\n",
    "## data from PA_II_D8B6 (UT Stadium Sensor) sensor from the past week\n",
    "from purpleair.sensor import Sensor\n",
    "se = Sensor(27395)\n",
    "UT_stadium = se.parent.get_historical(weeks_to_get=1,thingspeak_field='secondary')\n",
    "UT_stadium['Date'] = [i.date().strftime(\"%d-%b-%Y\") for i in UT_stadium['created_at']]\n",
    "UT_stadium"
   ]
  },
  {
   "cell_type": "markdown",
   "metadata": {
    "deepnote_cell_type": "markdown",
    "tags": []
   },
   "source": [
    "As you can see from the \"created_at\" column, the AQI was taken every two minutes over the past 7 days. The data frame also contains information on PM paticules of different diameters such as 0.3, 0.5, 1.0, 2.5, 5.0 and 10.0.\n",
    "\n",
    "<br>\n",
    "\n",
    "While this dataframe is useful, there are too many rows of data (~4000) to look at! Below is a widget that plots a line graph of the PM 2.5 measure over a specific day. \n",
    "\n",
    "**The drop down bar allows you to pick which day you would like graphed, so go ahead and pick a day!**"
   ]
  },
  {
   "cell_type": "code",
   "execution_count": 9,
   "metadata": {
    "scrolled": true,
    "tags": [
     "hide-input"
    ]
   },
   "outputs": [
    {
     "data": {
      "application/vnd.jupyter.widget-view+json": {
       "model_id": "450bc017e49747848c27bb82f54a085e",
       "version_major": 2,
       "version_minor": 0
      },
      "text/plain": [
       "interactive(children=(Dropdown(description='date', options=('12-Oct-2021', '13-Oct-2021', '14-Oct-2021', '15-O…"
      ]
     },
     "metadata": {},
     "output_type": "display_data"
    }
   ],
   "source": [
    "hide_me\n",
    "\n",
    "def f(date):\n",
    "    fig = plt.figure(figsize=(20,3))\n",
    "    plt.plot(UT_stadium['created_at'].loc[UT_stadium['Date'] == date], UT_stadium[\"2.5um/dl\"].loc[UT_stadium['Date'] == date])\n",
    "    plt.xlabel('Time')\n",
    "    plt.ylabel('PM 2.5 Particle Count')\n",
    "    plt.title('UT Stadium Sensor PM 2.5')\n",
    "    plt.rcParams[\"figure.figsize\"] = (20,3)\n",
    "    \n",
    "interact(f, date = list(UT_stadium['Date'].unique()));"
   ]
  },
  {
   "cell_type": "markdown",
   "metadata": {
    "deepnote_cell_type": "markdown",
    "tags": []
   },
   "source": [
    "The line plots above displays the date and hour along the x-axis and the PM 2.5 Particle count along the y-axis.\n",
    "\n",
    "<br>\n",
    "\n",
    "**QUESTION: What trends do you notice about the line plot?**\n",
    "\n"
   ]
  },
  {
   "cell_type": "markdown",
   "metadata": {
    "deepnote_cell_type": "markdown",
    "tags": []
   },
   "source": [
    "*Your answer here*"
   ]
  },
  {
   "cell_type": "markdown",
   "metadata": {
    "deepnote_cell_type": "markdown",
    "tags": []
   },
   "source": [
    "<br>\n",
    "\n",
    "While the line plots do show us a trend in the PM2.5 count over time, we still have not clue how that translates to the API Index. The next section will discuss what AQI is and how it is calculated."
   ]
  },
  {
   "cell_type": "markdown",
   "metadata": {
    "deepnote_cell_type": "markdown",
    "tags": []
   },
   "source": [
    "### AQI Index\n",
    "The AQI Index contains 6 categories that air quality can fall into. Each category contains a range of index values from 0 - 500 that is calculated from the regions PM 2.5 measure. The chart below is provided by the US Environmental Protection Agency (EPA) and shows the official AQI Index (these breakpoints were revised in 2012). \n",
    "\n",
    "For more information on how AQI Index is calculated, take a look at the AQI Index Factsheet provided by the EPA [here](https://www.epa.gov/sites/default/files/2016-04/documents/2012_aqi_factsheet.pdf)!"
   ]
  },
  {
   "cell_type": "markdown",
   "metadata": {
    "deepnote_cell_type": "markdown",
    "tags": []
   },
   "source": [
    "<p align=\"center\">\n",
    "  <img src=\"images/AQI-category.png\" width=\"\" height=\"\" align=\"center\">\n",
    "</p>"
   ]
  },
  {
   "cell_type": "markdown",
   "metadata": {
    "deepnote_cell_type": "markdown",
    "tags": []
   },
   "source": [
    "Now that we know how sesors work, what they measure and how AQI Indexes are calculated, let's see if we can create a visualization of AQI Indexes that are a little closer to home!\n",
    "\n",
    "First, let's find a group of sensors that are in Texas. We use a range of longitude and latitude coordinates to decide whether to include or exclude a sensor. Below is a dataframe of sensors in Texas.\n"
   ]
  },
  {
   "cell_type": "code",
   "execution_count": 10,
   "metadata": {
    "deepnote_cell_type": "code",
    "deepnote_to_be_reexecuted": false,
    "execution_millis": 122,
    "execution_start": 1633062992781,
    "scrolled": true,
    "source_hash": "bde860ae",
    "tags": [
     "hide-input"
    ]
   },
   "outputs": [
    {
     "data": {
      "text/html": [
       "<div>\n",
       "<style scoped>\n",
       "    .dataframe tbody tr th:only-of-type {\n",
       "        vertical-align: middle;\n",
       "    }\n",
       "\n",
       "    .dataframe tbody tr th {\n",
       "        vertical-align: top;\n",
       "    }\n",
       "\n",
       "    .dataframe thead th {\n",
       "        text-align: right;\n",
       "    }\n",
       "</style>\n",
       "<table border=\"1\" class=\"dataframe\">\n",
       "  <thead>\n",
       "    <tr style=\"text-align: right;\">\n",
       "      <th></th>\n",
       "      <th>lat</th>\n",
       "      <th>lon</th>\n",
       "      <th>name</th>\n",
       "      <th>location_type</th>\n",
       "      <th>pm_2.5</th>\n",
       "      <th>temp_f</th>\n",
       "      <th>humidity</th>\n",
       "      <th>pressure</th>\n",
       "    </tr>\n",
       "    <tr>\n",
       "      <th>id</th>\n",
       "      <th></th>\n",
       "      <th></th>\n",
       "      <th></th>\n",
       "      <th></th>\n",
       "      <th></th>\n",
       "      <th></th>\n",
       "      <th></th>\n",
       "      <th></th>\n",
       "    </tr>\n",
       "  </thead>\n",
       "  <tbody>\n",
       "    <tr>\n",
       "      <td>25999</td>\n",
       "      <td>30.053808</td>\n",
       "      <td>-95.494643</td>\n",
       "      <td>Villages of Bridgestone AQI</td>\n",
       "      <td>outside</td>\n",
       "      <td>9.54</td>\n",
       "      <td>91.0</td>\n",
       "      <td>41.0</td>\n",
       "      <td>1014.02</td>\n",
       "    </tr>\n",
       "    <tr>\n",
       "      <td>74265</td>\n",
       "      <td>29.939444</td>\n",
       "      <td>-95.671354</td>\n",
       "      <td>16815 Flower Mist Lane</td>\n",
       "      <td>inside</td>\n",
       "      <td>2.86</td>\n",
       "      <td>83.0</td>\n",
       "      <td>31.0</td>\n",
       "      <td>1014.58</td>\n",
       "    </tr>\n",
       "    <tr>\n",
       "      <td>30327</td>\n",
       "      <td>33.346098</td>\n",
       "      <td>-96.355190</td>\n",
       "      <td>236 County Road 5020, Blue Ridge, Texas 75424-...</td>\n",
       "      <td>outside</td>\n",
       "      <td>6.68</td>\n",
       "      <td>NaN</td>\n",
       "      <td>NaN</td>\n",
       "      <td>NaN</td>\n",
       "    </tr>\n",
       "    <tr>\n",
       "      <td>83065</td>\n",
       "      <td>30.246557</td>\n",
       "      <td>-98.065587</td>\n",
       "      <td>301 Barton Creek Dr</td>\n",
       "      <td>outside</td>\n",
       "      <td>3.47</td>\n",
       "      <td>83.0</td>\n",
       "      <td>43.0</td>\n",
       "      <td>979.12</td>\n",
       "    </tr>\n",
       "    <tr>\n",
       "      <td>98139</td>\n",
       "      <td>29.818880</td>\n",
       "      <td>-95.695667</td>\n",
       "      <td>3623 Shadow Trail, Houston, Texas 77084</td>\n",
       "      <td>outside</td>\n",
       "      <td>8.18</td>\n",
       "      <td>86.0</td>\n",
       "      <td>41.0</td>\n",
       "      <td>1014.66</td>\n",
       "    </tr>\n",
       "    <tr>\n",
       "      <td>...</td>\n",
       "      <td>...</td>\n",
       "      <td>...</td>\n",
       "      <td>...</td>\n",
       "      <td>...</td>\n",
       "      <td>...</td>\n",
       "      <td>...</td>\n",
       "      <td>...</td>\n",
       "      <td>...</td>\n",
       "    </tr>\n",
       "    <tr>\n",
       "      <td>34431</td>\n",
       "      <td>29.762515</td>\n",
       "      <td>-95.465982</td>\n",
       "      <td>WPI-2</td>\n",
       "      <td>inside</td>\n",
       "      <td>0.00</td>\n",
       "      <td>81.0</td>\n",
       "      <td>39.0</td>\n",
       "      <td>1013.58</td>\n",
       "    </tr>\n",
       "    <tr>\n",
       "      <td>27629</td>\n",
       "      <td>33.538329</td>\n",
       "      <td>-101.781656</td>\n",
       "      <td>Yellow House Canyon</td>\n",
       "      <td>outside</td>\n",
       "      <td>3.74</td>\n",
       "      <td>82.0</td>\n",
       "      <td>28.0</td>\n",
       "      <td>904.34</td>\n",
       "    </tr>\n",
       "    <tr>\n",
       "      <td>65197</td>\n",
       "      <td>30.261005</td>\n",
       "      <td>-97.770814</td>\n",
       "      <td>Zilker #1</td>\n",
       "      <td>outside</td>\n",
       "      <td>4.25</td>\n",
       "      <td>82.0</td>\n",
       "      <td>45.0</td>\n",
       "      <td>1000.06</td>\n",
       "    </tr>\n",
       "    <tr>\n",
       "      <td>52617</td>\n",
       "      <td>30.258937</td>\n",
       "      <td>-97.764749</td>\n",
       "      <td>Zilker neighborhood</td>\n",
       "      <td>outside</td>\n",
       "      <td>3.34</td>\n",
       "      <td>85.0</td>\n",
       "      <td>44.0</td>\n",
       "      <td>998.89</td>\n",
       "    </tr>\n",
       "    <tr>\n",
       "      <td>116693</td>\n",
       "      <td>29.548098</td>\n",
       "      <td>-98.535522</td>\n",
       "      <td>Zurich</td>\n",
       "      <td>inside</td>\n",
       "      <td>2.54</td>\n",
       "      <td>81.0</td>\n",
       "      <td>30.0</td>\n",
       "      <td>985.50</td>\n",
       "    </tr>\n",
       "  </tbody>\n",
       "</table>\n",
       "<p>302 rows × 8 columns</p>\n",
       "</div>"
      ],
      "text/plain": [
       "              lat         lon  \\\n",
       "id                              \n",
       "25999   30.053808  -95.494643   \n",
       "74265   29.939444  -95.671354   \n",
       "30327   33.346098  -96.355190   \n",
       "83065   30.246557  -98.065587   \n",
       "98139   29.818880  -95.695667   \n",
       "...           ...         ...   \n",
       "34431   29.762515  -95.465982   \n",
       "27629   33.538329 -101.781656   \n",
       "65197   30.261005  -97.770814   \n",
       "52617   30.258937  -97.764749   \n",
       "116693  29.548098  -98.535522   \n",
       "\n",
       "                                                     name location_type  \\\n",
       "id                                                                        \n",
       "25999                         Villages of Bridgestone AQI       outside   \n",
       "74265                              16815 Flower Mist Lane        inside   \n",
       "30327   236 County Road 5020, Blue Ridge, Texas 75424-...       outside   \n",
       "83065                                 301 Barton Creek Dr       outside   \n",
       "98139             3623 Shadow Trail, Houston, Texas 77084       outside   \n",
       "...                                                   ...           ...   \n",
       "34431                                               WPI-2        inside   \n",
       "27629                                 Yellow House Canyon       outside   \n",
       "65197                                           Zilker #1       outside   \n",
       "52617                                 Zilker neighborhood       outside   \n",
       "116693                                             Zurich        inside   \n",
       "\n",
       "        pm_2.5  temp_f  humidity  pressure  \n",
       "id                                          \n",
       "25999     9.54    91.0      41.0   1014.02  \n",
       "74265     2.86    83.0      31.0   1014.58  \n",
       "30327     6.68     NaN       NaN       NaN  \n",
       "83065     3.47    83.0      43.0    979.12  \n",
       "98139     8.18    86.0      41.0   1014.66  \n",
       "...        ...     ...       ...       ...  \n",
       "34431     0.00    81.0      39.0   1013.58  \n",
       "27629     3.74    82.0      28.0    904.34  \n",
       "65197     4.25    82.0      45.0   1000.06  \n",
       "52617     3.34    85.0      44.0    998.89  \n",
       "116693    2.54    81.0      30.0    985.50  \n",
       "\n",
       "[302 rows x 8 columns]"
      ]
     },
     "execution_count": 10,
     "metadata": {},
     "output_type": "execute_result"
    }
   ],
   "source": [
    "hide_me\n",
    "\n",
    "TX_data = df.loc[(df[\"lat\"] >= 25.9) & (df[\"lat\"] <= 34.1) & (df[\"lon\"] >= -104.9) & (df[\"lon\"] <= -93.1)]\n",
    "TX_data = TX_data[[\"lat\", \"lon\", \"name\", \"location_type\", \"pm_2.5\", \"temp_f\", \"humidity\", \"pressure\"]]\n",
    "TX_data"
   ]
  },
  {
   "cell_type": "markdown",
   "metadata": {
    "deepnote_cell_type": "markdown",
    "tags": []
   },
   "source": [
    "<br>\n",
    "\n",
    "Now that we have a smaller subset of data to work with, the next step is to use the PM 2.5 measures to assign each sensor to an AQI Index Category and corresponding color. "
   ]
  },
  {
   "cell_type": "code",
   "execution_count": 11,
   "metadata": {
    "deepnote_cell_type": "code",
    "deepnote_to_be_reexecuted": false,
    "execution_millis": 102,
    "execution_start": 1633062992949,
    "scrolled": true,
    "source_hash": "a4f75cc5",
    "tags": [
     "hide-input"
    ]
   },
   "outputs": [],
   "source": [
    "hide_me\n",
    "\n",
    "#creating a column that indicates the AQI code name\n",
    "color_code = []\n",
    "for i in TX_data[\"pm_2.5\"].to_list():\n",
    "    if i <= 12.0:\n",
    "        color_code.append('green')\n",
    "    elif (i < 12) & (i <=35.4):\n",
    "        color_code.append('yellow')\n",
    "    elif (i < 35.5) & (i <=55.4):\n",
    "        color_code.append('orange')   \n",
    "    elif (i < 55.5) & (i <=150.4):\n",
    "        color_code.append('red')\n",
    "    elif (i < 150.5) & (i <=250.4):\n",
    "        color_code.append('purple')\n",
    "    else:\n",
    "        color_code.append('darkpurple')\n",
    "\n",
    "TX_data['code'] = color_code"
   ]
  },
  {
   "cell_type": "markdown",
   "metadata": {
    "deepnote_cell_type": "markdown",
    "tags": []
   },
   "source": [
    "<br>\n",
    "\n",
    "Our last step is to use the longitude and latitude coordinates to map the relative location of the sensor with is corresponding AQI Index color! The widget below contains two sliders. One represents the Latitude value and the other is the Longitude value. \n",
    "\n",
    "**Slide the sliders left and right to display a mapping of the sensors in that latitude and longitude region.**\n",
    "\n",
    "**Hint: Houston, TX - Lat: 29.7604 / Lon: -95.3698** "
   ]
  },
  {
   "cell_type": "code",
   "execution_count": 12,
   "metadata": {
    "scrolled": true,
    "tags": [
     "hide-input"
    ]
   },
   "outputs": [
    {
     "data": {
      "application/vnd.jupyter.widget-view+json": {
       "model_id": "dc4a7cc40df545859e9d376ea0464391",
       "version_major": 2,
       "version_minor": 0
      },
      "text/plain": [
       "interactive(children=(FloatSlider(value=30.0, description='Latitude', max=34.0, min=26.0, step=0.001), FloatSl…"
      ]
     },
     "metadata": {},
     "output_type": "display_data"
    }
   ],
   "source": [
    "hide_me\n",
    "\n",
    "def map(Latitude ,Longitude):\n",
    "    m = folium.Map(width=600, height=500, location=[Latitude, Longitude])\n",
    "    \n",
    "    for i in np.arange(len(TX_data) - 1):\n",
    "        folium.Marker(\n",
    "            location=[TX_data.iloc[i]['lat'], TX_data.iloc[i]['lon']],\n",
    "            popup=TX_data.iloc[i]['name'],\n",
    "            icon=folium.Icon(color=TX_data.iloc[i]['code']),\n",
    "        ).add_to(m)\n",
    "    display(m)\n",
    "    \n",
    "interact(map, Latitude = (26, 34, 0.001) , Longitude = (-103, -93, 0.001));\n",
    "## Houston, TX - Lat: 29.7604 / Lon: -95.3698"
   ]
  },
  {
   "cell_type": "markdown",
   "metadata": {
    "deepnote_cell_type": "markdown",
    "tags": []
   },
   "source": [
    "Now that we have created a map we can easily see what the AQI index is across the city! "
   ]
  },
  {
   "cell_type": "markdown",
   "metadata": {
    "deepnote_cell_type": "markdown",
    "tags": []
   },
   "source": [
    "<br>\n",
    "\n",
    "**QUESTION: What do you notice about the map?**"
   ]
  },
  {
   "cell_type": "markdown",
   "metadata": {
    "deepnote_cell_type": "markdown",
    "tags": []
   },
   "source": [
    "*Your answer here*"
   ]
  },
  {
   "cell_type": "markdown",
   "metadata": {
    "deepnote_cell_type": "markdown",
    "tags": []
   },
   "source": [
    "<br>\n",
    "\n",
    "Developed By: Ziyue Li, Melisa Esqueda, Maham Bawaney & Karalyn Chong"
   ]
  }
 ],
 "metadata": {
  "deepnote": {
   "is_reactive": false
  },
  "deepnote_execution_queue": [],
  "deepnote_notebook_id": "253c2fb3-ad22-45a1-8e9a-1a7c1233100b",
  "kernelspec": {
   "display_name": "Python 3",
   "language": "python",
   "name": "python3"
  },
  "language_info": {
   "codemirror_mode": {
    "name": "ipython",
    "version": 3
   },
   "file_extension": ".py",
   "mimetype": "text/x-python",
   "name": "python",
   "nbconvert_exporter": "python",
   "pygments_lexer": "ipython3",
   "version": "3.7.4"
  }
 },
 "nbformat": 4,
 "nbformat_minor": 2
}

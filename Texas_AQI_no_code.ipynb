{
 "cells": [
  {
   "cell_type": "markdown",
   "metadata": {
    "deepnote_cell_type": "markdown",
    "tags": []
   },
   "source": [
    "\n",
    "# Texas Air Quality Notebook"
   ]
  },
  {
   "cell_type": "markdown",
   "metadata": {
    "deepnote_cell_type": "markdown",
    "tags": []
   },
   "source": [
    "**Welcome to our notebook on Texas Air Quality!** \n",
    "\n",
    "In this notebook we will be looking at Air Quality Index (AQI) scores in the surrounding Texas area. With so many pollutants in the air, especially as we head into the annual fire season, AQI becomes something we check on the daily. For many of us, this AQI map is all too familiar. Throughout this module we will discuss how data can be used to visualize and uncover underlying trends in the world.\n",
    "\n",
    "**Let's get started!**"
   ]
  },
  {
   "cell_type": "markdown",
   "metadata": {
    "deepnote_cell_type": "markdown",
    "tags": []
   },
   "source": [
    "<p align=\"center\">\n",
    "  <img src=\"images/Texas_AQI\" width=\"\" height=\"\" align=\"center\">\n",
    "</p>"
   ]
  },
  {
   "cell_type": "markdown",
   "metadata": {
    "deepnote_cell_type": "markdown",
    "tags": []
   },
   "source": [
    "<br>\n",
    "\n",
    "## Introduction to Jupyter Notebook"
   ]
  },
  {
   "cell_type": "markdown",
   "metadata": {
    "deepnote_cell_type": "markdown",
    "tags": []
   },
   "source": [
    "Before we get started with the data, let's talk about what Jupyter Notebook is. This lab is set up in a Jupyter Notebook. Notebooks can contain anything from live code, to written text, equations or visualizations. The content of notebooks are written into rectangular sections called **cells**. "
   ]
  },
  {
   "cell_type": "markdown",
   "metadata": {
    "deepnote_cell_type": "markdown",
    "tags": []
   },
   "source": [
    "#### Types of Cells\n",
    "There are two types of cells in Jupyter, **code** cells and **markdown** cells. **Code cells**, as you can imagine, contain code in Python, the programming language that we will be using throughout this notebook.  **Markdown cells**, such as this one, contain written text. You can select any cell by clicking on it one. "
   ]
  },
  {
   "cell_type": "markdown",
   "metadata": {
    "deepnote_cell_type": "markdown",
    "tags": []
   },
   "source": [
    "#### Running Cells\n",
    "'Running' a cell is similar to pressing 'Enter' on a calculator once you've typed in an expression; it computes all of the expressions contained within the cell.\n",
    "\n",
    "To run a cell, you can do one of the following:\n",
    "\n",
    "- press **Shift + Enter**\n",
    "- click the **Run** button on the top tool bar\n",
    "\n",
    "Running a markdown cell will embed the text into the notebook and running a code cell will evaluate the code and display its output under the cell. \n",
    "\n",
    "Let's try it! **Run the code cell below.**"
   ]
  },
  {
   "cell_type": "code",
   "execution_count": 167,
   "metadata": {
    "deepnote_cell_type": "code",
    "deepnote_to_be_reexecuted": false,
    "execution_millis": 20,
    "execution_start": 1633062945031,
    "source_hash": "fc071345",
    "tags": []
   },
   "outputs": [
    {
     "name": "stdout",
     "output_type": "stream",
     "text": [
      "Hello World!\n"
     ]
    }
   ],
   "source": [
    "print(\"Hello World!\")"
   ]
  },
  {
   "cell_type": "markdown",
   "metadata": {
    "deepnote_cell_type": "markdown",
    "tags": []
   },
   "source": [
    "#### Editing and Saving\n",
    "\n",
    "- To **edit** a cell, simply double click on the desired cell and begin typing. The cell that you are currently working in will be highlighted by a green box.\n",
    "- To **save** the notebook, either click *Ctl + S* or navigate to the \"File\" dropdown and select \"Save and Checkpoint\""
   ]
  },
  {
   "cell_type": "markdown",
   "metadata": {
    "deepnote_cell_type": "markdown",
    "tags": []
   },
   "source": [
    "#### Adding Cells\n",
    "You can add a cell by clicking <b><code>Insert > Insert Cell Below</code></b> and choose the cell type in the drop down menu. Try adding a cell below to type in your name!\n"
   ]
  },
  {
   "cell_type": "markdown",
   "metadata": {
    "deepnote_cell_type": "markdown",
    "tags": []
   },
   "source": [
    "#### Deleting Cells \n",
    "To delete a cell, click on the <b><code>scissors</code></b> at the top or <b><code>Edit > Cut Cells</code></b>. Delete the cell below."
   ]
  },
  {
   "cell_type": "code",
   "execution_count": 168,
   "metadata": {
    "deepnote_cell_type": "code",
    "deepnote_to_be_reexecuted": false,
    "execution_millis": 15,
    "execution_start": 1633063139383,
    "scrolled": true,
    "source_hash": "53b00907",
    "tags": []
   },
   "outputs": [
    {
     "name": "stdout",
     "output_type": "stream",
     "text": [
      "Delete this cell!\n"
     ]
    }
   ],
   "source": [
    "print(\"Delete this cell!\")"
   ]
  },
  {
   "cell_type": "markdown",
   "metadata": {
    "deepnote_cell_type": "markdown",
    "tags": []
   },
   "source": [
    "**Important Tip**: Everytime you open a Jupyter notebook, it is extremely important to run all the cells from the beginning in order for the notebook to work. "
   ]
  },
  {
   "cell_type": "markdown",
   "metadata": {
    "deepnote_cell_type": "markdown",
    "tags": []
   },
   "source": [
    "Now that we have had a brief crash course on Jupyter Notebooks, let's dive into Texas AQI!"
   ]
  },
  {
   "cell_type": "markdown",
   "metadata": {
    "deepnote_cell_type": "markdown",
    "tags": []
   },
   "source": [
    "<br>\n",
    "\n",
    "## Introduction to the Data <a class=\"anchor\" id=\"2\"></a>"
   ]
  },
  {
   "cell_type": "markdown",
   "metadata": {
    "deepnote_cell_type": "markdown",
    "tags": []
   },
   "source": [
    "In this notebook we will look at data collected from PrupleAir, a company that manages a network of air quality sensors. The data from these sensors are then collected to create maps like the one displayed above that depicts an intuitive visualization of the air quality in a specific region. In the dataframe below, you will find several metrics that help us do this.\n",
    "\n",
    "**Run the cell below to import all the dependencies needed for this notebook!**"
   ]
  },
  {
   "cell_type": "code",
   "execution_count": 169,
   "metadata": {
    "deepnote_cell_type": "code",
    "deepnote_to_be_reexecuted": false,
    "execution_millis": 1803,
    "execution_start": 1633062971393,
    "source_hash": "990f3fb4",
    "tags": []
   },
   "outputs": [],
   "source": [
    "import matplotlib.pyplot as plt\n",
    "import numpy as np\n",
    "import purpleair\n",
    "import folium\n",
    "import ipywidgets as widgets\n",
    "from ipywidgets import interact, interactive, fixed, interact_manual\n",
    "from datetime import datetime\n",
    "from IPython.display import clear_output\n",
    "\n",
    "import widget1"
   ]
  },
  {
   "cell_type": "markdown",
   "metadata": {
    "deepnote_cell_type": "markdown",
    "tags": []
   },
   "source": [
    "<br>\n",
    "\n",
    "# PurpleAir Data"
   ]
  },
  {
   "cell_type": "markdown",
   "metadata": {
    "deepnote_cell_type": "markdown",
    "tags": []
   },
   "source": [
    "Before we begin looking at data collected from PurpleAir sensors, lets first take a look at what a sensor is, and what it measures. \n",
    "\n",
    "\n",
    "> Below is a picture of a real PurpleAir Air Quality Sensor. These sensor can be mounted both indoors or outdoors, and it tracks airborne particulate matter(PM) in real time using PMSX003 laser counters. Particulate matter can include things like dust, smoke, dirt and any other organic or inorganic particles in the air. With multiple sensors mounted in a region, PurpleAir can create a relatively accurate measure of AQI throughout the day as the air quality changes. \n",
    "\n",
    "For more information on how sensors work, take a look at the official PurpleAir website [here](https://www2.purpleair.com/community/faq#hc-what-do-the-numbers-on-the-purpleair-map-mean-1)!"
   ]
  },
  {
   "cell_type": "markdown",
   "metadata": {
    "deepnote_cell_type": "markdown",
    "tags": []
   },
   "source": [
    "<p align=\"center\">\n",
    "  <img src=\"images/purpleair-sensor-pm2.5.webp\" width=\"\" height=\"\" align=\"center\">\n",
    "</p>"
   ]
  },
  {
   "cell_type": "markdown",
   "metadata": {
    "deepnote_cell_type": "markdown",
    "tags": []
   },
   "source": [
    "In order to work with the data, we need to pull it into our workspace. Fortunately, PurpleAir has created an API that allows users to pull in and work with their AQI data. In the code cell below we will import the prupleair API and use it to create a dataframe of data from all 18,858 PurpleAir sensors!\n",
    "\n",
    "**Run the code cell below!**"
   ]
  },
  {
   "cell_type": "code",
   "execution_count": 170,
   "metadata": {
    "deepnote_cell_type": "code",
    "deepnote_to_be_reexecuted": false,
    "execution_millis": 15854,
    "execution_start": 1633062973205,
    "source_hash": "5c996320",
    "tags": []
   },
   "outputs": [
    {
     "name": "stdout",
     "output_type": "stream",
     "text": [
      "Initialized 23,164 sensors!\n"
     ]
    }
   ],
   "source": [
    "from purpleair.network import SensorList\n",
    "p = SensorList()\n",
    "df = p.to_dataframe(sensor_filter='all',\n",
    "                    channel='parent')"
   ]
  },
  {
   "cell_type": "markdown",
   "metadata": {
    "deepnote_cell_type": "markdown",
    "tags": []
   },
   "source": [
    "**Run the cell below to display the sensor dataframe!**\n",
    "\n",
    "The dataframe below contains all the sensor data as of the latest update. It contains data on everything from the geograohical latitude and longitude of the sensor to data on the last time that sensor measured airborne PM."
   ]
  },
  {
   "cell_type": "code",
   "execution_count": 171,
   "metadata": {
    "deepnote_cell_type": "code",
    "deepnote_to_be_reexecuted": false,
    "execution_millis": 294,
    "execution_start": 1633062989059,
    "source_hash": "f804c160",
    "tags": []
   },
   "outputs": [
    {
     "data": {
      "text/html": [
       "<div>\n",
       "<style scoped>\n",
       "    .dataframe tbody tr th:only-of-type {\n",
       "        vertical-align: middle;\n",
       "    }\n",
       "\n",
       "    .dataframe tbody tr th {\n",
       "        vertical-align: top;\n",
       "    }\n",
       "\n",
       "    .dataframe thead th {\n",
       "        text-align: right;\n",
       "    }\n",
       "</style>\n",
       "<table border=\"1\" class=\"dataframe\">\n",
       "  <thead>\n",
       "    <tr style=\"text-align: right;\">\n",
       "      <th></th>\n",
       "      <th>parent</th>\n",
       "      <th>lat</th>\n",
       "      <th>lon</th>\n",
       "      <th>name</th>\n",
       "      <th>location_type</th>\n",
       "      <th>pm_2.5</th>\n",
       "      <th>temp_f</th>\n",
       "      <th>temp_c</th>\n",
       "      <th>humidity</th>\n",
       "      <th>pressure</th>\n",
       "      <th>...</th>\n",
       "      <th>last_update_check</th>\n",
       "      <th>created</th>\n",
       "      <th>uptime</th>\n",
       "      <th>is_owner</th>\n",
       "      <th>10min_avg</th>\n",
       "      <th>30min_avg</th>\n",
       "      <th>1hour_avg</th>\n",
       "      <th>6hour_avg</th>\n",
       "      <th>1day_avg</th>\n",
       "      <th>1week_avg</th>\n",
       "    </tr>\n",
       "    <tr>\n",
       "      <th>id</th>\n",
       "      <th></th>\n",
       "      <th></th>\n",
       "      <th></th>\n",
       "      <th></th>\n",
       "      <th></th>\n",
       "      <th></th>\n",
       "      <th></th>\n",
       "      <th></th>\n",
       "      <th></th>\n",
       "      <th></th>\n",
       "      <th></th>\n",
       "      <th></th>\n",
       "      <th></th>\n",
       "      <th></th>\n",
       "      <th></th>\n",
       "      <th></th>\n",
       "      <th></th>\n",
       "      <th></th>\n",
       "      <th></th>\n",
       "      <th></th>\n",
       "      <th></th>\n",
       "    </tr>\n",
       "  </thead>\n",
       "  <tbody>\n",
       "    <tr>\n",
       "      <td>14633</td>\n",
       "      <td>None</td>\n",
       "      <td>37.275561</td>\n",
       "      <td>-121.964134</td>\n",
       "      <td>Hazelwood canary</td>\n",
       "      <td>outside</td>\n",
       "      <td>7.52</td>\n",
       "      <td>69.0</td>\n",
       "      <td>20.555556</td>\n",
       "      <td>33.0</td>\n",
       "      <td>1012.16</td>\n",
       "      <td>...</td>\n",
       "      <td>None</td>\n",
       "      <td>None</td>\n",
       "      <td>None</td>\n",
       "      <td>False</td>\n",
       "      <td>4.71</td>\n",
       "      <td>3.89</td>\n",
       "      <td>3.00</td>\n",
       "      <td>1.40</td>\n",
       "      <td>1.34</td>\n",
       "      <td>5.04</td>\n",
       "    </tr>\n",
       "    <tr>\n",
       "      <td>25999</td>\n",
       "      <td>None</td>\n",
       "      <td>30.053808</td>\n",
       "      <td>-95.494643</td>\n",
       "      <td>Villages of Bridgestone AQI</td>\n",
       "      <td>outside</td>\n",
       "      <td>11.25</td>\n",
       "      <td>84.0</td>\n",
       "      <td>28.888889</td>\n",
       "      <td>74.0</td>\n",
       "      <td>1007.73</td>\n",
       "      <td>...</td>\n",
       "      <td>None</td>\n",
       "      <td>None</td>\n",
       "      <td>None</td>\n",
       "      <td>False</td>\n",
       "      <td>11.67</td>\n",
       "      <td>10.87</td>\n",
       "      <td>9.90</td>\n",
       "      <td>7.63</td>\n",
       "      <td>8.16</td>\n",
       "      <td>13.65</td>\n",
       "    </tr>\n",
       "    <tr>\n",
       "      <td>14091</td>\n",
       "      <td>None</td>\n",
       "      <td>37.883620</td>\n",
       "      <td>-122.070087</td>\n",
       "      <td>WC Hillside</td>\n",
       "      <td>outside</td>\n",
       "      <td>0.75</td>\n",
       "      <td>68.0</td>\n",
       "      <td>20.000000</td>\n",
       "      <td>27.0</td>\n",
       "      <td>1006.78</td>\n",
       "      <td>...</td>\n",
       "      <td>None</td>\n",
       "      <td>None</td>\n",
       "      <td>None</td>\n",
       "      <td>False</td>\n",
       "      <td>1.15</td>\n",
       "      <td>1.10</td>\n",
       "      <td>0.87</td>\n",
       "      <td>2.57</td>\n",
       "      <td>5.08</td>\n",
       "      <td>6.48</td>\n",
       "    </tr>\n",
       "    <tr>\n",
       "      <td>108226</td>\n",
       "      <td>None</td>\n",
       "      <td>38.573703</td>\n",
       "      <td>-121.439113</td>\n",
       "      <td>\"C\" Street Air Shelter</td>\n",
       "      <td>inside</td>\n",
       "      <td>2.29</td>\n",
       "      <td>80.0</td>\n",
       "      <td>26.666667</td>\n",
       "      <td>23.0</td>\n",
       "      <td>1018.48</td>\n",
       "      <td>...</td>\n",
       "      <td>None</td>\n",
       "      <td>None</td>\n",
       "      <td>None</td>\n",
       "      <td>False</td>\n",
       "      <td>1.10</td>\n",
       "      <td>0.88</td>\n",
       "      <td>0.78</td>\n",
       "      <td>1.39</td>\n",
       "      <td>2.14</td>\n",
       "      <td>3.80</td>\n",
       "    </tr>\n",
       "    <tr>\n",
       "      <td>42073</td>\n",
       "      <td>None</td>\n",
       "      <td>47.185173</td>\n",
       "      <td>-122.176855</td>\n",
       "      <td>#1</td>\n",
       "      <td>outside</td>\n",
       "      <td>4.23</td>\n",
       "      <td>57.0</td>\n",
       "      <td>13.888889</td>\n",
       "      <td>69.0</td>\n",
       "      <td>1002.01</td>\n",
       "      <td>...</td>\n",
       "      <td>None</td>\n",
       "      <td>None</td>\n",
       "      <td>None</td>\n",
       "      <td>False</td>\n",
       "      <td>5.03</td>\n",
       "      <td>5.39</td>\n",
       "      <td>5.20</td>\n",
       "      <td>3.62</td>\n",
       "      <td>4.39</td>\n",
       "      <td>5.67</td>\n",
       "    </tr>\n",
       "    <tr>\n",
       "      <td>...</td>\n",
       "      <td>...</td>\n",
       "      <td>...</td>\n",
       "      <td>...</td>\n",
       "      <td>...</td>\n",
       "      <td>...</td>\n",
       "      <td>...</td>\n",
       "      <td>...</td>\n",
       "      <td>...</td>\n",
       "      <td>...</td>\n",
       "      <td>...</td>\n",
       "      <td>...</td>\n",
       "      <td>...</td>\n",
       "      <td>...</td>\n",
       "      <td>...</td>\n",
       "      <td>...</td>\n",
       "      <td>...</td>\n",
       "      <td>...</td>\n",
       "      <td>...</td>\n",
       "      <td>...</td>\n",
       "      <td>...</td>\n",
       "      <td>...</td>\n",
       "    </tr>\n",
       "    <tr>\n",
       "      <td>64995</td>\n",
       "      <td>None</td>\n",
       "      <td>36.691324</td>\n",
       "      <td>126.585255</td>\n",
       "      <td>한서대학교</td>\n",
       "      <td>outside</td>\n",
       "      <td>29.04</td>\n",
       "      <td>81.0</td>\n",
       "      <td>27.222222</td>\n",
       "      <td>41.0</td>\n",
       "      <td>1004.43</td>\n",
       "      <td>...</td>\n",
       "      <td>None</td>\n",
       "      <td>None</td>\n",
       "      <td>None</td>\n",
       "      <td>False</td>\n",
       "      <td>30.40</td>\n",
       "      <td>27.11</td>\n",
       "      <td>23.98</td>\n",
       "      <td>15.53</td>\n",
       "      <td>10.69</td>\n",
       "      <td>14.08</td>\n",
       "    </tr>\n",
       "    <tr>\n",
       "      <td>64093</td>\n",
       "      <td>None</td>\n",
       "      <td>36.710720</td>\n",
       "      <td>126.548390</td>\n",
       "      <td>해미읍성</td>\n",
       "      <td>outside</td>\n",
       "      <td>37.18</td>\n",
       "      <td>81.0</td>\n",
       "      <td>27.222222</td>\n",
       "      <td>42.0</td>\n",
       "      <td>1014.64</td>\n",
       "      <td>...</td>\n",
       "      <td>None</td>\n",
       "      <td>None</td>\n",
       "      <td>None</td>\n",
       "      <td>False</td>\n",
       "      <td>35.11</td>\n",
       "      <td>32.19</td>\n",
       "      <td>30.19</td>\n",
       "      <td>20.68</td>\n",
       "      <td>12.90</td>\n",
       "      <td>14.51</td>\n",
       "    </tr>\n",
       "    <tr>\n",
       "      <td>29747</td>\n",
       "      <td>None</td>\n",
       "      <td>36.761236</td>\n",
       "      <td>127.395300</td>\n",
       "      <td>화덕보건진료소</td>\n",
       "      <td>outside</td>\n",
       "      <td>46.08</td>\n",
       "      <td>83.0</td>\n",
       "      <td>28.333333</td>\n",
       "      <td>43.0</td>\n",
       "      <td>1004.70</td>\n",
       "      <td>...</td>\n",
       "      <td>None</td>\n",
       "      <td>None</td>\n",
       "      <td>None</td>\n",
       "      <td>False</td>\n",
       "      <td>46.00</td>\n",
       "      <td>44.13</td>\n",
       "      <td>42.29</td>\n",
       "      <td>29.37</td>\n",
       "      <td>18.57</td>\n",
       "      <td>18.59</td>\n",
       "    </tr>\n",
       "    <tr>\n",
       "      <td>98309</td>\n",
       "      <td>None</td>\n",
       "      <td>36.718003</td>\n",
       "      <td>126.926841</td>\n",
       "      <td>화천1리마을회관</td>\n",
       "      <td>outside</td>\n",
       "      <td>40.91</td>\n",
       "      <td>87.0</td>\n",
       "      <td>30.555556</td>\n",
       "      <td>38.0</td>\n",
       "      <td>1009.79</td>\n",
       "      <td>...</td>\n",
       "      <td>None</td>\n",
       "      <td>None</td>\n",
       "      <td>None</td>\n",
       "      <td>False</td>\n",
       "      <td>41.10</td>\n",
       "      <td>42.30</td>\n",
       "      <td>41.23</td>\n",
       "      <td>27.15</td>\n",
       "      <td>15.72</td>\n",
       "      <td>15.81</td>\n",
       "    </tr>\n",
       "    <tr>\n",
       "      <td>20</td>\n",
       "      <td>None</td>\n",
       "      <td>40.603078</td>\n",
       "      <td>-111.836119</td>\n",
       "      <td>Oakdale</td>\n",
       "      <td>None</td>\n",
       "      <td>0.00</td>\n",
       "      <td>NaN</td>\n",
       "      <td>NaN</td>\n",
       "      <td>NaN</td>\n",
       "      <td>NaN</td>\n",
       "      <td>...</td>\n",
       "      <td>None</td>\n",
       "      <td>None</td>\n",
       "      <td>None</td>\n",
       "      <td>False</td>\n",
       "      <td>0.00</td>\n",
       "      <td>0.00</td>\n",
       "      <td>0.00</td>\n",
       "      <td>0.00</td>\n",
       "      <td>0.00</td>\n",
       "      <td>0.00</td>\n",
       "    </tr>\n",
       "  </tbody>\n",
       "</table>\n",
       "<p>23164 rows × 43 columns</p>\n",
       "</div>"
      ],
      "text/plain": [
       "       parent        lat         lon                          name  \\\n",
       "id                                                                   \n",
       "14633    None  37.275561 -121.964134             Hazelwood canary    \n",
       "25999    None  30.053808  -95.494643   Villages of Bridgestone AQI   \n",
       "14091    None  37.883620 -122.070087                   WC Hillside   \n",
       "108226   None  38.573703 -121.439113        \"C\" Street Air Shelter   \n",
       "42073    None  47.185173 -122.176855                            #1   \n",
       "...       ...        ...         ...                           ...   \n",
       "64995    None  36.691324  126.585255                         한서대학교   \n",
       "64093    None  36.710720  126.548390                          해미읍성   \n",
       "29747    None  36.761236  127.395300                       화덕보건진료소   \n",
       "98309    None  36.718003  126.926841                      화천1리마을회관   \n",
       "20       None  40.603078 -111.836119                       Oakdale   \n",
       "\n",
       "       location_type  pm_2.5  temp_f     temp_c  humidity  pressure  ...  \\\n",
       "id                                                                   ...   \n",
       "14633        outside    7.52    69.0  20.555556      33.0   1012.16  ...   \n",
       "25999        outside   11.25    84.0  28.888889      74.0   1007.73  ...   \n",
       "14091        outside    0.75    68.0  20.000000      27.0   1006.78  ...   \n",
       "108226        inside    2.29    80.0  26.666667      23.0   1018.48  ...   \n",
       "42073        outside    4.23    57.0  13.888889      69.0   1002.01  ...   \n",
       "...              ...     ...     ...        ...       ...       ...  ...   \n",
       "64995        outside   29.04    81.0  27.222222      41.0   1004.43  ...   \n",
       "64093        outside   37.18    81.0  27.222222      42.0   1014.64  ...   \n",
       "29747        outside   46.08    83.0  28.333333      43.0   1004.70  ...   \n",
       "98309        outside   40.91    87.0  30.555556      38.0   1009.79  ...   \n",
       "20              None    0.00     NaN        NaN       NaN       NaN  ...   \n",
       "\n",
       "       last_update_check created uptime is_owner 10min_avg 30min_avg  \\\n",
       "id                                                                     \n",
       "14633               None    None   None    False      4.71      3.89   \n",
       "25999               None    None   None    False     11.67     10.87   \n",
       "14091               None    None   None    False      1.15      1.10   \n",
       "108226              None    None   None    False      1.10      0.88   \n",
       "42073               None    None   None    False      5.03      5.39   \n",
       "...                  ...     ...    ...      ...       ...       ...   \n",
       "64995               None    None   None    False     30.40     27.11   \n",
       "64093               None    None   None    False     35.11     32.19   \n",
       "29747               None    None   None    False     46.00     44.13   \n",
       "98309               None    None   None    False     41.10     42.30   \n",
       "20                  None    None   None    False      0.00      0.00   \n",
       "\n",
       "       1hour_avg 6hour_avg 1day_avg 1week_avg  \n",
       "id                                             \n",
       "14633       3.00      1.40     1.34      5.04  \n",
       "25999       9.90      7.63     8.16     13.65  \n",
       "14091       0.87      2.57     5.08      6.48  \n",
       "108226      0.78      1.39     2.14      3.80  \n",
       "42073       5.20      3.62     4.39      5.67  \n",
       "...          ...       ...      ...       ...  \n",
       "64995      23.98     15.53    10.69     14.08  \n",
       "64093      30.19     20.68    12.90     14.51  \n",
       "29747      42.29     29.37    18.57     18.59  \n",
       "98309      41.23     27.15    15.72     15.81  \n",
       "20          0.00      0.00     0.00      0.00  \n",
       "\n",
       "[23164 rows x 43 columns]"
      ]
     },
     "execution_count": 171,
     "metadata": {},
     "output_type": "execute_result"
    }
   ],
   "source": [
    "df"
   ]
  },
  {
   "cell_type": "markdown",
   "metadata": {
    "deepnote_cell_type": "markdown",
    "tags": []
   },
   "source": [
    "Here is a breakdown of the dataframe above and what each column represents. \n",
    "\n",
    "`lat`: The latitude coordinate of the location\n",
    "\n",
    "`lon`: The longitude coordinate of the location\n",
    "\n",
    "`name`: The name of the location\n",
    "\n",
    "`location_type`: The nature of the location (ie. inside or outside)\n",
    "\n",
    "`pm_2.5`: The level of fine particulate matter in the air of that location\n",
    "\n",
    "`temp_f`: The temperature of the location in degrees Farenheit \n",
    "\n",
    "`temp_c`: The temperature of the location in degrees Celsius \n",
    "\n",
    "`humidity`: The humidity percentage of the location\n",
    "\n",
    "`pressure`: The pressure index of the location (in millibars)\n",
    "\n",
    "`last_seen`: The last seen date and timestamp in UTC\n",
    "\n",
    "`model`: Model of the specific sensor\n",
    "\n",
    "`flagged`: Whether or not the channel was marked as flagged (usually based on a fault)\n",
    "\n",
    "`age`: Sensor data age (when data was last received)\n",
    "\n",
    "`10min_avg`: Average PM 2.5 AQI over the last 10 minutes \n",
    "\n",
    "`30min_avg`: Average PM 2.5 AQI over the last 30 minutes\n",
    "\n",
    "`1hour_avg`: Average PM 2.5 AQI over the last hour\n",
    "\n",
    "`6hour_avg`: Average PM 2.5 AQI over the last 6 hours\n",
    "\n",
    "`1day_avg`: Average PM 2.5 AQI over the last day \n",
    "\n",
    "`1week_avg`: Average PM 2.5 AQI over the last week\n"
   ]
  },
  {
   "cell_type": "markdown",
   "metadata": {
    "deepnote_cell_type": "markdown",
    "tags": []
   },
   "source": [
    "<br>\n",
    "\n",
    "### Airborne Particulate Matter (PM) 2.5 \n",
    "While many of the column names are relatively straightforward, such as the \"name\" column (which displays the set name of the particular sensor), the \"location_type\" column (which indicates where it is an indoor or outdoor sensor), etc., we would like to draw your attention to the \"pm_2.5\" column. \n",
    "\n",
    ">The \"pm_2.5\" column represents the count of airborne pm that is larger than 2.5um/dl, in otherwords, airborne particles that have a diameter of 2.5 micrometers or less. In high levels, PM 2.5 particles can reduce visibility and cause the air to appear hazy. Tracking PM 2.5 is important because prolonged exposure to high levels of PM 2.5 particles can cause adverse US Environmental Protection Agency (EPA) use to calculate the local Air Quality Index (AQI)."
   ]
  },
  {
   "cell_type": "markdown",
   "metadata": {
    "deepnote_cell_type": "markdown",
    "tags": []
   },
   "source": [
    "**Run the cells below to take a look at PM 2.5 levels of a specific sensor over time!**"
   ]
  },
  {
   "cell_type": "markdown",
   "metadata": {
    "deepnote_cell_type": "markdown",
    "tags": []
   },
   "source": [
    "If you go to the PurpleAir website [here](https://map.purpleair.com/1/mAQI/a10/p604800/cC0#14.52/30.28196/-97.73198), it should navigate you to a map of the surrounding University of Texas area. If you click on the sensor currently located in the DKR Texas Memorial Stadium, you'll find that the name of that particular sensor is \"PA_II_D8B6\". \n",
    "\n",
    "Let's take a closer look at the UT Stadium Sensor! In the code cell below we will filter the dataframe by the sensor name (\"PA_II_D8B6\") to pick out the row that corresponds to the specific sensor we are looking for. \n",
    "\n",
    "**Run the cell below!**"
   ]
  },
  {
   "cell_type": "code",
   "execution_count": 172,
   "metadata": {
    "deepnote_cell_type": "code",
    "deepnote_to_be_reexecuted": false,
    "execution_millis": 200,
    "execution_start": 1633062989370,
    "source_hash": "18fdfec8",
    "tags": []
   },
   "outputs": [
    {
     "data": {
      "text/html": [
       "<div>\n",
       "<style scoped>\n",
       "    .dataframe tbody tr th:only-of-type {\n",
       "        vertical-align: middle;\n",
       "    }\n",
       "\n",
       "    .dataframe tbody tr th {\n",
       "        vertical-align: top;\n",
       "    }\n",
       "\n",
       "    .dataframe thead th {\n",
       "        text-align: right;\n",
       "    }\n",
       "</style>\n",
       "<table border=\"1\" class=\"dataframe\">\n",
       "  <thead>\n",
       "    <tr style=\"text-align: right;\">\n",
       "      <th></th>\n",
       "      <th>parent</th>\n",
       "      <th>lat</th>\n",
       "      <th>lon</th>\n",
       "      <th>name</th>\n",
       "      <th>location_type</th>\n",
       "      <th>pm_2.5</th>\n",
       "      <th>temp_f</th>\n",
       "      <th>temp_c</th>\n",
       "      <th>humidity</th>\n",
       "      <th>pressure</th>\n",
       "      <th>...</th>\n",
       "      <th>last_update_check</th>\n",
       "      <th>created</th>\n",
       "      <th>uptime</th>\n",
       "      <th>is_owner</th>\n",
       "      <th>10min_avg</th>\n",
       "      <th>30min_avg</th>\n",
       "      <th>1hour_avg</th>\n",
       "      <th>6hour_avg</th>\n",
       "      <th>1day_avg</th>\n",
       "      <th>1week_avg</th>\n",
       "    </tr>\n",
       "    <tr>\n",
       "      <th>id</th>\n",
       "      <th></th>\n",
       "      <th></th>\n",
       "      <th></th>\n",
       "      <th></th>\n",
       "      <th></th>\n",
       "      <th></th>\n",
       "      <th></th>\n",
       "      <th></th>\n",
       "      <th></th>\n",
       "      <th></th>\n",
       "      <th></th>\n",
       "      <th></th>\n",
       "      <th></th>\n",
       "      <th></th>\n",
       "      <th></th>\n",
       "      <th></th>\n",
       "      <th></th>\n",
       "      <th></th>\n",
       "      <th></th>\n",
       "      <th></th>\n",
       "      <th></th>\n",
       "    </tr>\n",
       "  </thead>\n",
       "  <tbody>\n",
       "    <tr>\n",
       "      <td>27395</td>\n",
       "      <td>None</td>\n",
       "      <td>30.285069</td>\n",
       "      <td>-97.732877</td>\n",
       "      <td>PA_II_D8B6</td>\n",
       "      <td>outside</td>\n",
       "      <td>13.04</td>\n",
       "      <td>79.0</td>\n",
       "      <td>26.111111</td>\n",
       "      <td>77.0</td>\n",
       "      <td>992.27</td>\n",
       "      <td>...</td>\n",
       "      <td>None</td>\n",
       "      <td>None</td>\n",
       "      <td>None</td>\n",
       "      <td>False</td>\n",
       "      <td>12.95</td>\n",
       "      <td>11.6</td>\n",
       "      <td>11.25</td>\n",
       "      <td>8.62</td>\n",
       "      <td>9.73</td>\n",
       "      <td>10.17</td>\n",
       "    </tr>\n",
       "  </tbody>\n",
       "</table>\n",
       "<p>1 rows × 43 columns</p>\n",
       "</div>"
      ],
      "text/plain": [
       "      parent        lat        lon        name location_type  pm_2.5  temp_f  \\\n",
       "id                                                                             \n",
       "27395   None  30.285069 -97.732877  PA_II_D8B6       outside   13.04    79.0   \n",
       "\n",
       "          temp_c  humidity  pressure  ... last_update_check created uptime  \\\n",
       "id                                    ...                                    \n",
       "27395  26.111111      77.0    992.27  ...              None    None   None   \n",
       "\n",
       "      is_owner 10min_avg 30min_avg 1hour_avg 6hour_avg 1day_avg 1week_avg  \n",
       "id                                                                         \n",
       "27395    False     12.95      11.6     11.25      8.62     9.73     10.17  \n",
       "\n",
       "[1 rows x 43 columns]"
      ]
     },
     "execution_count": 172,
     "metadata": {},
     "output_type": "execute_result"
    }
   ],
   "source": [
    "df[df['name'] == \"PA_II_D8B6\"]"
   ]
  },
  {
   "cell_type": "markdown",
   "metadata": {
    "deepnote_cell_type": "markdown",
    "tags": []
   },
   "source": [
    "<br>\n",
    "\n",
    "The row above gives us loads of information on the state of the AQI in the UT Stadium at the present moment, but it would be nice to see the AQI information over time. In the cell below, we create a dataframe that contains information about the UT Stadium sensor roughly over the last 7 days. \n",
    "\n",
    "**Run the cell below to output the dataframe!**"
   ]
  },
  {
   "cell_type": "code",
   "execution_count": 173,
   "metadata": {
    "deepnote_cell_type": "code",
    "deepnote_to_be_reexecuted": false,
    "execution_millis": 2171,
    "execution_start": 1633062989568,
    "source_hash": "4537611e",
    "tags": []
   },
   "outputs": [
    {
     "data": {
      "text/html": [
       "<div>\n",
       "<style scoped>\n",
       "    .dataframe tbody tr th:only-of-type {\n",
       "        vertical-align: middle;\n",
       "    }\n",
       "\n",
       "    .dataframe tbody tr th {\n",
       "        vertical-align: top;\n",
       "    }\n",
       "\n",
       "    .dataframe thead th {\n",
       "        text-align: right;\n",
       "    }\n",
       "</style>\n",
       "<table border=\"1\" class=\"dataframe\">\n",
       "  <thead>\n",
       "    <tr style=\"text-align: right;\">\n",
       "      <th></th>\n",
       "      <th>created_at</th>\n",
       "      <th>0.3um/dl</th>\n",
       "      <th>0.5um/dl</th>\n",
       "      <th>1.0um/dl</th>\n",
       "      <th>2.5um/dl</th>\n",
       "      <th>5.0um/dl</th>\n",
       "      <th>10.0um/dl</th>\n",
       "      <th>PM1.0 (CF=ATM) ug/m3</th>\n",
       "      <th>PM10 (CF=ATM) ug/m3</th>\n",
       "      <th>Date</th>\n",
       "    </tr>\n",
       "    <tr>\n",
       "      <th>entry_id</th>\n",
       "      <th></th>\n",
       "      <th></th>\n",
       "      <th></th>\n",
       "      <th></th>\n",
       "      <th></th>\n",
       "      <th></th>\n",
       "      <th></th>\n",
       "      <th></th>\n",
       "      <th></th>\n",
       "      <th></th>\n",
       "    </tr>\n",
       "  </thead>\n",
       "  <tbody>\n",
       "    <tr>\n",
       "      <td>521919</td>\n",
       "      <td>2021-10-07 00:01:48+00:00</td>\n",
       "      <td>1774.91</td>\n",
       "      <td>490.60</td>\n",
       "      <td>60.25</td>\n",
       "      <td>2.95</td>\n",
       "      <td>0.00</td>\n",
       "      <td>0.00</td>\n",
       "      <td>9.05</td>\n",
       "      <td>12.27</td>\n",
       "      <td>07-Oct-2021</td>\n",
       "    </tr>\n",
       "    <tr>\n",
       "      <td>521920</td>\n",
       "      <td>2021-10-07 00:03:30+00:00</td>\n",
       "      <td>1859.14</td>\n",
       "      <td>516.03</td>\n",
       "      <td>79.39</td>\n",
       "      <td>5.86</td>\n",
       "      <td>1.36</td>\n",
       "      <td>0.00</td>\n",
       "      <td>9.36</td>\n",
       "      <td>14.66</td>\n",
       "      <td>07-Oct-2021</td>\n",
       "    </tr>\n",
       "    <tr>\n",
       "      <td>521921</td>\n",
       "      <td>2021-10-07 00:05:29+00:00</td>\n",
       "      <td>1865.60</td>\n",
       "      <td>516.08</td>\n",
       "      <td>68.40</td>\n",
       "      <td>4.80</td>\n",
       "      <td>0.70</td>\n",
       "      <td>0.70</td>\n",
       "      <td>9.22</td>\n",
       "      <td>14.42</td>\n",
       "      <td>07-Oct-2021</td>\n",
       "    </tr>\n",
       "    <tr>\n",
       "      <td>521922</td>\n",
       "      <td>2021-10-07 00:09:30+00:00</td>\n",
       "      <td>1705.64</td>\n",
       "      <td>482.73</td>\n",
       "      <td>62.18</td>\n",
       "      <td>2.73</td>\n",
       "      <td>1.56</td>\n",
       "      <td>0.76</td>\n",
       "      <td>8.80</td>\n",
       "      <td>12.93</td>\n",
       "      <td>07-Oct-2021</td>\n",
       "    </tr>\n",
       "    <tr>\n",
       "      <td>521923</td>\n",
       "      <td>2021-10-07 00:11:25+00:00</td>\n",
       "      <td>1698.47</td>\n",
       "      <td>477.30</td>\n",
       "      <td>65.44</td>\n",
       "      <td>3.44</td>\n",
       "      <td>0.53</td>\n",
       "      <td>0.11</td>\n",
       "      <td>8.61</td>\n",
       "      <td>12.42</td>\n",
       "      <td>07-Oct-2021</td>\n",
       "    </tr>\n",
       "    <tr>\n",
       "      <td>...</td>\n",
       "      <td>...</td>\n",
       "      <td>...</td>\n",
       "      <td>...</td>\n",
       "      <td>...</td>\n",
       "      <td>...</td>\n",
       "      <td>...</td>\n",
       "      <td>...</td>\n",
       "      <td>...</td>\n",
       "      <td>...</td>\n",
       "      <td>...</td>\n",
       "    </tr>\n",
       "    <tr>\n",
       "      <td>526200</td>\n",
       "      <td>2021-10-13 23:51:59+00:00</td>\n",
       "      <td>1495.66</td>\n",
       "      <td>432.41</td>\n",
       "      <td>80.55</td>\n",
       "      <td>5.71</td>\n",
       "      <td>0.86</td>\n",
       "      <td>0.64</td>\n",
       "      <td>7.32</td>\n",
       "      <td>13.05</td>\n",
       "      <td>13-Oct-2021</td>\n",
       "    </tr>\n",
       "    <tr>\n",
       "      <td>526201</td>\n",
       "      <td>2021-10-13 23:53:56+00:00</td>\n",
       "      <td>1545.51</td>\n",
       "      <td>448.20</td>\n",
       "      <td>90.63</td>\n",
       "      <td>9.49</td>\n",
       "      <td>2.37</td>\n",
       "      <td>0.37</td>\n",
       "      <td>7.53</td>\n",
       "      <td>14.32</td>\n",
       "      <td>13-Oct-2021</td>\n",
       "    </tr>\n",
       "    <tr>\n",
       "      <td>526202</td>\n",
       "      <td>2021-10-13 23:55:57+00:00</td>\n",
       "      <td>1485.98</td>\n",
       "      <td>418.81</td>\n",
       "      <td>73.17</td>\n",
       "      <td>8.66</td>\n",
       "      <td>0.69</td>\n",
       "      <td>0.28</td>\n",
       "      <td>7.07</td>\n",
       "      <td>12.95</td>\n",
       "      <td>13-Oct-2021</td>\n",
       "    </tr>\n",
       "    <tr>\n",
       "      <td>526203</td>\n",
       "      <td>2021-10-13 23:57:59+00:00</td>\n",
       "      <td>1537.31</td>\n",
       "      <td>428.65</td>\n",
       "      <td>73.13</td>\n",
       "      <td>6.98</td>\n",
       "      <td>0.73</td>\n",
       "      <td>0.18</td>\n",
       "      <td>7.07</td>\n",
       "      <td>12.24</td>\n",
       "      <td>13-Oct-2021</td>\n",
       "    </tr>\n",
       "    <tr>\n",
       "      <td>526204</td>\n",
       "      <td>2021-10-14 00:00:00+00:00</td>\n",
       "      <td>1396.26</td>\n",
       "      <td>398.65</td>\n",
       "      <td>71.79</td>\n",
       "      <td>6.84</td>\n",
       "      <td>0.81</td>\n",
       "      <td>0.00</td>\n",
       "      <td>6.65</td>\n",
       "      <td>11.61</td>\n",
       "      <td>14-Oct-2021</td>\n",
       "    </tr>\n",
       "  </tbody>\n",
       "</table>\n",
       "<p>4286 rows × 10 columns</p>\n",
       "</div>"
      ],
      "text/plain": [
       "                        created_at  0.3um/dl  0.5um/dl  1.0um/dl  2.5um/dl  \\\n",
       "entry_id                                                                     \n",
       "521919   2021-10-07 00:01:48+00:00   1774.91    490.60     60.25      2.95   \n",
       "521920   2021-10-07 00:03:30+00:00   1859.14    516.03     79.39      5.86   \n",
       "521921   2021-10-07 00:05:29+00:00   1865.60    516.08     68.40      4.80   \n",
       "521922   2021-10-07 00:09:30+00:00   1705.64    482.73     62.18      2.73   \n",
       "521923   2021-10-07 00:11:25+00:00   1698.47    477.30     65.44      3.44   \n",
       "...                            ...       ...       ...       ...       ...   \n",
       "526200   2021-10-13 23:51:59+00:00   1495.66    432.41     80.55      5.71   \n",
       "526201   2021-10-13 23:53:56+00:00   1545.51    448.20     90.63      9.49   \n",
       "526202   2021-10-13 23:55:57+00:00   1485.98    418.81     73.17      8.66   \n",
       "526203   2021-10-13 23:57:59+00:00   1537.31    428.65     73.13      6.98   \n",
       "526204   2021-10-14 00:00:00+00:00   1396.26    398.65     71.79      6.84   \n",
       "\n",
       "          5.0um/dl  10.0um/dl  PM1.0 (CF=ATM) ug/m3  PM10 (CF=ATM) ug/m3  \\\n",
       "entry_id                                                                   \n",
       "521919        0.00       0.00                  9.05                12.27   \n",
       "521920        1.36       0.00                  9.36                14.66   \n",
       "521921        0.70       0.70                  9.22                14.42   \n",
       "521922        1.56       0.76                  8.80                12.93   \n",
       "521923        0.53       0.11                  8.61                12.42   \n",
       "...            ...        ...                   ...                  ...   \n",
       "526200        0.86       0.64                  7.32                13.05   \n",
       "526201        2.37       0.37                  7.53                14.32   \n",
       "526202        0.69       0.28                  7.07                12.95   \n",
       "526203        0.73       0.18                  7.07                12.24   \n",
       "526204        0.81       0.00                  6.65                11.61   \n",
       "\n",
       "                 Date  \n",
       "entry_id               \n",
       "521919    07-Oct-2021  \n",
       "521920    07-Oct-2021  \n",
       "521921    07-Oct-2021  \n",
       "521922    07-Oct-2021  \n",
       "521923    07-Oct-2021  \n",
       "...               ...  \n",
       "526200    13-Oct-2021  \n",
       "526201    13-Oct-2021  \n",
       "526202    13-Oct-2021  \n",
       "526203    13-Oct-2021  \n",
       "526204    14-Oct-2021  \n",
       "\n",
       "[4286 rows x 10 columns]"
      ]
     },
     "execution_count": 173,
     "metadata": {},
     "output_type": "execute_result"
    }
   ],
   "source": [
    "## data from PA_II_D8B6 (UT Stadium Sensor) sensor from the past week\n",
    "from purpleair.sensor import Sensor\n",
    "se = Sensor(27395)\n",
    "UT_stadium = se.parent.get_historical(weeks_to_get=1,thingspeak_field='secondary')\n",
    "UT_stadium['Date'] = [i.date().strftime(\"%d-%b-%Y\") for i in UT_stadium['created_at']]\n",
    "UT_stadium"
   ]
  },
  {
   "cell_type": "markdown",
   "metadata": {
    "deepnote_cell_type": "markdown",
    "tags": []
   },
   "source": [
    "As you can see from the \"created_at\" column, the AQI was taken every two minutes over the past 7 days. The data frame also contains information on PM paticules of different diameters such as 0.3, 0.5, 1.0, 2.5, 5.0 and 10.0.\n",
    "\n",
    "<br>\n",
    "\n",
    "While this dataframe is useful, there are too many rows of data (~5000) to look at! Let's create a visualization of the PM 2.5 measure to get a better idea of how the AQI changed over time.\n",
    "\n",
    "\n",
    "**Run the cell below to create the line plot.**"
   ]
  },
  {
   "cell_type": "code",
   "execution_count": 174,
   "metadata": {},
   "outputs": [
    {
     "data": {
      "application/vnd.jupyter.widget-view+json": {
       "model_id": "d4e082b926fb46b1a3df0fdc74046b30",
       "version_major": 2,
       "version_minor": 0
      },
      "text/plain": [
       "interactive(children=(Dropdown(description='date', options=('07-Oct-2021', '08-Oct-2021', '09-Oct-2021', '10-O…"
      ]
     },
     "metadata": {},
     "output_type": "display_data"
    }
   ],
   "source": [
    "def f(date):\n",
    "    fig = plt.figure(figsize=(20,3))\n",
    "    plt.plot(UT_stadium['created_at'].loc[UT_stadium['Date'] == date], UT_stadium[\"2.5um/dl\"].loc[UT_stadium['Date'] == date])\n",
    "    plt.xlabel('Time')\n",
    "    plt.ylabel('PM 2.5 Particle Count')\n",
    "    plt.title('UT Stadium Sensor PM 2.5')\n",
    "    plt.rcParams[\"figure.figsize\"] = (20,3)\n",
    "    \n",
    "interact(f, date = list(UT_stadium['Date'].unique()));"
   ]
  },
  {
   "cell_type": "markdown",
   "metadata": {
    "deepnote_cell_type": "markdown",
    "tags": []
   },
   "source": [
    "The line plot above displays the date along the x-axis and the PM 2.5 Particle count along the y-axis.\n",
    "\n",
    "<br>\n",
    "\n",
    "**QUESTION: What trends do you notice about the line plot?**\n",
    "\n"
   ]
  },
  {
   "cell_type": "markdown",
   "metadata": {
    "deepnote_cell_type": "markdown",
    "tags": []
   },
   "source": [
    "*Your answer here*"
   ]
  },
  {
   "cell_type": "markdown",
   "metadata": {
    "deepnote_cell_type": "markdown",
    "tags": []
   },
   "source": [
    "<br>\n",
    "\n",
    "While the line plot does show us a trend in the PM2.5 count over time, we still have not clue how that translates to the API Index. The next section will discuss what AQI is and how it is calculated."
   ]
  },
  {
   "cell_type": "markdown",
   "metadata": {
    "deepnote_cell_type": "markdown",
    "tags": []
   },
   "source": [
    "### AQI Index\n",
    "The AQI Index contains 6 categories that air quality can fall into. Each category contains a range of index values from 0 - 500 that is calculated from the regions PM 2.5 measure. The chart below is provided by the US Environmental Protection Agency (EPA) and shows the official AQI Index (these breakpoints were revised in 2012). \n",
    "\n",
    "For more information on how AQI Index is calculated, take a look at the AQI Index Factsheet provided by the EPA [here](https://www.epa.gov/sites/default/files/2016-04/documents/2012_aqi_factsheet.pdf)!"
   ]
  },
  {
   "cell_type": "markdown",
   "metadata": {
    "deepnote_cell_type": "markdown",
    "tags": []
   },
   "source": [
    "<p align=\"center\">\n",
    "  <img src=\"images/AQI-category.png\" width=\"\" height=\"\" align=\"center\">\n",
    "</p>"
   ]
  },
  {
   "cell_type": "markdown",
   "metadata": {
    "deepnote_cell_type": "markdown",
    "tags": []
   },
   "source": [
    "Now that we know how sesors work, what they measure and how AQI Indexes are calculated, let's see if we can create a visualization of AQI Indexes that are a little closer to home!\n",
    "\n",
    "First, let's find a group of sensors that are near Houston, Texas. The code cell below does just that. We use a range of longitude and latitude coordinates to decide whether to include or exclude a sensor. \n",
    "\n",
    "**Run the cell below to display a dataset of about 40 sensors in and surrounding Houston!**"
   ]
  },
  {
   "cell_type": "code",
   "execution_count": 175,
   "metadata": {
    "deepnote_cell_type": "code",
    "deepnote_to_be_reexecuted": false,
    "execution_millis": 122,
    "execution_start": 1633062992781,
    "source_hash": "bde860ae",
    "tags": []
   },
   "outputs": [
    {
     "data": {
      "text/html": [
       "<div>\n",
       "<style scoped>\n",
       "    .dataframe tbody tr th:only-of-type {\n",
       "        vertical-align: middle;\n",
       "    }\n",
       "\n",
       "    .dataframe tbody tr th {\n",
       "        vertical-align: top;\n",
       "    }\n",
       "\n",
       "    .dataframe thead th {\n",
       "        text-align: right;\n",
       "    }\n",
       "</style>\n",
       "<table border=\"1\" class=\"dataframe\">\n",
       "  <thead>\n",
       "    <tr style=\"text-align: right;\">\n",
       "      <th></th>\n",
       "      <th>lat</th>\n",
       "      <th>lon</th>\n",
       "      <th>name</th>\n",
       "      <th>location_type</th>\n",
       "      <th>pm_2.5</th>\n",
       "      <th>temp_f</th>\n",
       "      <th>humidity</th>\n",
       "      <th>pressure</th>\n",
       "    </tr>\n",
       "    <tr>\n",
       "      <th>id</th>\n",
       "      <th></th>\n",
       "      <th></th>\n",
       "      <th></th>\n",
       "      <th></th>\n",
       "      <th></th>\n",
       "      <th></th>\n",
       "      <th></th>\n",
       "      <th></th>\n",
       "    </tr>\n",
       "  </thead>\n",
       "  <tbody>\n",
       "    <tr>\n",
       "      <td>25999</td>\n",
       "      <td>30.053808</td>\n",
       "      <td>-95.494643</td>\n",
       "      <td>Villages of Bridgestone AQI</td>\n",
       "      <td>outside</td>\n",
       "      <td>11.25</td>\n",
       "      <td>84.0</td>\n",
       "      <td>74.0</td>\n",
       "      <td>1007.73</td>\n",
       "    </tr>\n",
       "    <tr>\n",
       "      <td>74265</td>\n",
       "      <td>29.939444</td>\n",
       "      <td>-95.671354</td>\n",
       "      <td>16815 Flower Mist Lane</td>\n",
       "      <td>inside</td>\n",
       "      <td>0.79</td>\n",
       "      <td>80.0</td>\n",
       "      <td>35.0</td>\n",
       "      <td>1008.20</td>\n",
       "    </tr>\n",
       "    <tr>\n",
       "      <td>30327</td>\n",
       "      <td>33.346098</td>\n",
       "      <td>-96.355190</td>\n",
       "      <td>236 County Road 5020, Blue Ridge, Texas 75424-...</td>\n",
       "      <td>outside</td>\n",
       "      <td>11.84</td>\n",
       "      <td>NaN</td>\n",
       "      <td>NaN</td>\n",
       "      <td>NaN</td>\n",
       "    </tr>\n",
       "    <tr>\n",
       "      <td>83065</td>\n",
       "      <td>30.246557</td>\n",
       "      <td>-98.065587</td>\n",
       "      <td>301 Barton Creek Dr</td>\n",
       "      <td>outside</td>\n",
       "      <td>10.39</td>\n",
       "      <td>76.0</td>\n",
       "      <td>62.0</td>\n",
       "      <td>973.95</td>\n",
       "    </tr>\n",
       "    <tr>\n",
       "      <td>98139</td>\n",
       "      <td>29.818880</td>\n",
       "      <td>-95.695667</td>\n",
       "      <td>3623 Shadow Trail, Houston, Texas 77084</td>\n",
       "      <td>outside</td>\n",
       "      <td>7.03</td>\n",
       "      <td>84.0</td>\n",
       "      <td>68.0</td>\n",
       "      <td>1008.27</td>\n",
       "    </tr>\n",
       "    <tr>\n",
       "      <td>...</td>\n",
       "      <td>...</td>\n",
       "      <td>...</td>\n",
       "      <td>...</td>\n",
       "      <td>...</td>\n",
       "      <td>...</td>\n",
       "      <td>...</td>\n",
       "      <td>...</td>\n",
       "      <td>...</td>\n",
       "    </tr>\n",
       "    <tr>\n",
       "      <td>34431</td>\n",
       "      <td>29.762515</td>\n",
       "      <td>-95.465982</td>\n",
       "      <td>WPI-2</td>\n",
       "      <td>inside</td>\n",
       "      <td>0.37</td>\n",
       "      <td>81.0</td>\n",
       "      <td>49.0</td>\n",
       "      <td>1007.15</td>\n",
       "    </tr>\n",
       "    <tr>\n",
       "      <td>27629</td>\n",
       "      <td>33.538329</td>\n",
       "      <td>-101.781656</td>\n",
       "      <td>Yellow House Canyon</td>\n",
       "      <td>outside</td>\n",
       "      <td>7.91</td>\n",
       "      <td>66.0</td>\n",
       "      <td>25.0</td>\n",
       "      <td>904.14</td>\n",
       "    </tr>\n",
       "    <tr>\n",
       "      <td>65197</td>\n",
       "      <td>30.261005</td>\n",
       "      <td>-97.770814</td>\n",
       "      <td>Zilker #1</td>\n",
       "      <td>outside</td>\n",
       "      <td>18.41</td>\n",
       "      <td>77.0</td>\n",
       "      <td>69.0</td>\n",
       "      <td>994.71</td>\n",
       "    </tr>\n",
       "    <tr>\n",
       "      <td>52617</td>\n",
       "      <td>30.258937</td>\n",
       "      <td>-97.764749</td>\n",
       "      <td>Zilker neighborhood</td>\n",
       "      <td>outside</td>\n",
       "      <td>18.47</td>\n",
       "      <td>77.0</td>\n",
       "      <td>76.0</td>\n",
       "      <td>993.51</td>\n",
       "    </tr>\n",
       "    <tr>\n",
       "      <td>116693</td>\n",
       "      <td>29.548098</td>\n",
       "      <td>-98.535522</td>\n",
       "      <td>Zurich</td>\n",
       "      <td>inside</td>\n",
       "      <td>1.67</td>\n",
       "      <td>81.0</td>\n",
       "      <td>34.0</td>\n",
       "      <td>980.19</td>\n",
       "    </tr>\n",
       "  </tbody>\n",
       "</table>\n",
       "<p>300 rows × 8 columns</p>\n",
       "</div>"
      ],
      "text/plain": [
       "              lat         lon  \\\n",
       "id                              \n",
       "25999   30.053808  -95.494643   \n",
       "74265   29.939444  -95.671354   \n",
       "30327   33.346098  -96.355190   \n",
       "83065   30.246557  -98.065587   \n",
       "98139   29.818880  -95.695667   \n",
       "...           ...         ...   \n",
       "34431   29.762515  -95.465982   \n",
       "27629   33.538329 -101.781656   \n",
       "65197   30.261005  -97.770814   \n",
       "52617   30.258937  -97.764749   \n",
       "116693  29.548098  -98.535522   \n",
       "\n",
       "                                                     name location_type  \\\n",
       "id                                                                        \n",
       "25999                         Villages of Bridgestone AQI       outside   \n",
       "74265                              16815 Flower Mist Lane        inside   \n",
       "30327   236 County Road 5020, Blue Ridge, Texas 75424-...       outside   \n",
       "83065                                 301 Barton Creek Dr       outside   \n",
       "98139             3623 Shadow Trail, Houston, Texas 77084       outside   \n",
       "...                                                   ...           ...   \n",
       "34431                                               WPI-2        inside   \n",
       "27629                                 Yellow House Canyon       outside   \n",
       "65197                                           Zilker #1       outside   \n",
       "52617                                 Zilker neighborhood       outside   \n",
       "116693                                             Zurich        inside   \n",
       "\n",
       "        pm_2.5  temp_f  humidity  pressure  \n",
       "id                                          \n",
       "25999    11.25    84.0      74.0   1007.73  \n",
       "74265     0.79    80.0      35.0   1008.20  \n",
       "30327    11.84     NaN       NaN       NaN  \n",
       "83065    10.39    76.0      62.0    973.95  \n",
       "98139     7.03    84.0      68.0   1008.27  \n",
       "...        ...     ...       ...       ...  \n",
       "34431     0.37    81.0      49.0   1007.15  \n",
       "27629     7.91    66.0      25.0    904.14  \n",
       "65197    18.41    77.0      69.0    994.71  \n",
       "52617    18.47    77.0      76.0    993.51  \n",
       "116693    1.67    81.0      34.0    980.19  \n",
       "\n",
       "[300 rows x 8 columns]"
      ]
     },
     "execution_count": 175,
     "metadata": {},
     "output_type": "execute_result"
    }
   ],
   "source": [
    "TX_data = df.loc[(df[\"lat\"] >= 25.9) & (df[\"lat\"] <= 34.1) & (df[\"lon\"] >= -104.9) & (df[\"lon\"] <= -93.1)]\n",
    "TX_data = TX_data[[\"lat\", \"lon\", \"name\", \"location_type\", \"pm_2.5\", \"temp_f\", \"humidity\", \"pressure\"]]\n",
    "TX_data"
   ]
  },
  {
   "cell_type": "markdown",
   "metadata": {
    "deepnote_cell_type": "markdown",
    "tags": []
   },
   "source": [
    "<br>\n",
    "\n",
    "Now that we have a smaller subset of data to work with, the next step is to use the PM 2.5 measures to assign each sensor to an AQI Index Category and corresponding color. \n",
    "\n",
    "**Run the cell below to create a new column in the dataframe that indicates the sensors AQI Index color code.**"
   ]
  },
  {
   "cell_type": "code",
   "execution_count": 176,
   "metadata": {
    "deepnote_cell_type": "code",
    "deepnote_to_be_reexecuted": false,
    "execution_millis": 102,
    "execution_start": 1633062992949,
    "scrolled": true,
    "source_hash": "a4f75cc5",
    "tags": []
   },
   "outputs": [],
   "source": [
    "#creating a column that indicates the AQI code name\n",
    "color_code = []\n",
    "for i in TX_data[\"pm_2.5\"].to_list():\n",
    "    if i <= 12.0:\n",
    "        color_code.append('green')\n",
    "    elif (i < 12) & (i <=35.4):\n",
    "        color_code.append('yellow')\n",
    "    elif (i < 35.5) & (i <=55.4):\n",
    "        color_code.append('orange')   \n",
    "    elif (i < 55.5) & (i <=150.4):\n",
    "        color_code.append('red')\n",
    "    elif (i < 150.5) & (i <=250.4):\n",
    "        color_code.append('purple')\n",
    "    else:\n",
    "        color_code.append('darkpurple')\n",
    "\n",
    "TX_data['code'] = color_code"
   ]
  },
  {
   "cell_type": "markdown",
   "metadata": {
    "deepnote_cell_type": "markdown",
    "tags": []
   },
   "source": [
    "<br>\n",
    "\n",
    "Our last step is to use the longitude and latitude coordinates to map the relative location of the sensor with is corresponding AQI Index color!"
   ]
  },
  {
   "cell_type": "code",
   "execution_count": 177,
   "metadata": {
    "scrolled": true
   },
   "outputs": [
    {
     "data": {
      "application/vnd.jupyter.widget-view+json": {
       "model_id": "97751c9109b540cbb749bd561d313306",
       "version_major": 2,
       "version_minor": 0
      },
      "text/plain": [
       "interactive(children=(FloatSlider(value=30.0, description='Latitude', max=34.0, min=26.0, step=0.001), FloatSl…"
      ]
     },
     "metadata": {},
     "output_type": "display_data"
    }
   ],
   "source": [
    "def map(Latitude ,Longitude):\n",
    "    m = folium.Map(width=600, height=500, location=[Latitude, Longitude])\n",
    "    \n",
    "    for i in np.arange(len(TX_data) - 1):\n",
    "        folium.Marker(\n",
    "            location=[TX_data.iloc[i]['lat'], TX_data.iloc[i]['lon']],\n",
    "            popup=TX_data.iloc[i]['name'],\n",
    "            icon=folium.Icon(color=TX_data.iloc[i]['code']),\n",
    "        ).add_to(m)\n",
    "    display(m)\n",
    "    \n",
    "interact(map, Latitude = (26, 34, 0.001) , Longitude = (-103, -93, 0.001));\n",
    "## Houston, TX - Lat: 29.7604 / Lon: -95.3698"
   ]
  },
  {
   "cell_type": "markdown",
   "metadata": {
    "deepnote_cell_type": "markdown",
    "tags": []
   },
   "source": [
    "Now that we have created a map we can easily see what the AQI index is across the city! "
   ]
  },
  {
   "cell_type": "markdown",
   "metadata": {
    "deepnote_cell_type": "markdown",
    "tags": []
   },
   "source": [
    "<br>\n",
    "\n",
    "**QUESTION: What do you notice about the map?**"
   ]
  },
  {
   "cell_type": "markdown",
   "metadata": {
    "deepnote_cell_type": "markdown",
    "tags": []
   },
   "source": [
    "*Your answer here*"
   ]
  },
  {
   "cell_type": "markdown",
   "metadata": {
    "deepnote_cell_type": "markdown",
    "tags": []
   },
   "source": [
    "<br>\n",
    "\n",
    "Developed By: Ziyue Li, Melisa Esqueda, Maham Bawaney & Karalyn Chong"
   ]
  }
 ],
 "metadata": {
  "deepnote": {
   "is_reactive": false
  },
  "deepnote_execution_queue": [],
  "deepnote_notebook_id": "253c2fb3-ad22-45a1-8e9a-1a7c1233100b",
  "kernelspec": {
   "display_name": "Python 3",
   "language": "python",
   "name": "python3"
  },
  "language_info": {
   "codemirror_mode": {
    "name": "ipython",
    "version": 3
   },
   "file_extension": ".py",
   "mimetype": "text/x-python",
   "name": "python",
   "nbconvert_exporter": "python",
   "pygments_lexer": "ipython3",
   "version": "3.7.4"
  }
 },
 "nbformat": 4,
 "nbformat_minor": 2
}

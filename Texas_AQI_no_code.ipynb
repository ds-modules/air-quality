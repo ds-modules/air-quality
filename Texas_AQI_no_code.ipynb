{
 "cells": [
  {
   "cell_type": "markdown",
   "metadata": {
    "deepnote_cell_type": "markdown",
    "tags": []
   },
   "source": [
    "\n",
    "# Texas Air Quality Notebook"
   ]
  },
  {
   "cell_type": "markdown",
   "metadata": {
    "deepnote_cell_type": "markdown",
    "tags": []
   },
   "source": [
    "**Welcome to our notebook on Texas Air Quality!** \n",
    "\n",
    "In this notebook we will be looking at Air Quality Index (AQI) scores in the surrounding Texas area. With so many pollutants in the air, especially as we head into the annual fire season, AQI becomes something we check on the daily. For many of us, this AQI map is all too familiar. Throughout this module we will discuss how data can be used to visualize and uncover underlying trends in the world.\n",
    "\n",
    "**Let's get started!**"
   ]
  },
  {
   "cell_type": "markdown",
   "metadata": {
    "deepnote_cell_type": "markdown",
    "tags": []
   },
   "source": [
    "<p align=\"center\">\n",
    "  <img src=\"images/Texas_AQI.png\" width=\"600\" height=\"600\" align=\"center\">\n",
    "</p>"
   ]
  },
  {
   "cell_type": "markdown",
   "metadata": {
    "deepnote_cell_type": "markdown",
    "tags": []
   },
   "source": [
    "<br>\n",
    "\n",
    "## Introduction to Jupyter Notebook"
   ]
  },
  {
   "cell_type": "markdown",
   "metadata": {
    "deepnote_cell_type": "markdown",
    "tags": []
   },
   "source": [
    "Before we get started with the data, let's talk about what Jupyter Notebook is. This lab is set up in a Jupyter Notebook. Notebooks can contain anything from live code, to written text, equations or visualizations. The content of notebooks are written into rectangular sections called **cells**. "
   ]
  },
  {
   "cell_type": "markdown",
   "metadata": {
    "deepnote_cell_type": "markdown",
    "tags": []
   },
   "source": [
    "#### Types of Cells\n",
    "There are two types of cells in Jupyter, **code** cells and **markdown** cells. **Code cells**, as you can imagine, contain code in Python, the programming language that we will be using throughout this notebook.  **Markdown cells**, such as this one, contain written text. You can select any cell by clicking on it one. "
   ]
  },
  {
   "cell_type": "markdown",
   "metadata": {
    "deepnote_cell_type": "markdown",
    "tags": []
   },
   "source": [
    "#### Running Cells\n",
    "'Running' a cell is similar to pressing 'Enter' on a calculator once you've typed in an expression; it computes all of the expressions contained within the cell.\n",
    "\n",
    "To run a cell, you can do one of the following:\n",
    "\n",
    "- press **Shift + Enter**\n",
    "- click the **Run** button on the top tool bar\n",
    "\n",
    "Running a markdown cell will embed the text into the notebook and running a code cell will evaluate the code and display its output under the cell. \n",
    "\n",
    "Let's try it! **Run the code cell below.**"
   ]
  },
  {
   "cell_type": "code",
   "execution_count": 1,
   "metadata": {
    "deepnote_cell_type": "code",
    "deepnote_to_be_reexecuted": false,
    "execution_millis": 20,
    "execution_start": 1633062945031,
    "source_hash": "fc071345",
    "tags": []
   },
   "outputs": [
    {
     "name": "stdout",
     "output_type": "stream",
     "text": [
      "Hello World!\n"
     ]
    }
   ],
   "source": [
    "print(\"Hello World!\")"
   ]
  },
  {
   "cell_type": "markdown",
   "metadata": {
    "deepnote_cell_type": "markdown",
    "tags": []
   },
   "source": [
    "#### Editing and Saving\n",
    "\n",
    "- To **edit** a cell, simply double click on the desired cell and begin typing. The cell that you are currently working in will be highlighted by a green box.\n",
    "- To **save** the notebook, either click *Ctl + S* or navigate to the \"File\" dropdown and select \"Save and Checkpoint\""
   ]
  },
  {
   "cell_type": "markdown",
   "metadata": {
    "deepnote_cell_type": "markdown",
    "tags": []
   },
   "source": [
    "#### Adding Cells\n",
    "You can add a cell by clicking <b><code>Insert > Insert Cell Below</code></b> and choose the cell type in the drop down menu. Try adding a cell below to type in your name!\n"
   ]
  },
  {
   "cell_type": "markdown",
   "metadata": {
    "deepnote_cell_type": "markdown",
    "tags": []
   },
   "source": [
    "#### Deleting Cells \n",
    "To delete a cell, click on the <b><code>scissors</code></b> at the top or <b><code>Edit > Cut Cells</code></b>. Delete the cell below."
   ]
  },
  {
   "cell_type": "code",
   "execution_count": 2,
   "metadata": {
    "deepnote_cell_type": "code",
    "deepnote_to_be_reexecuted": false,
    "execution_millis": 15,
    "execution_start": 1633063139383,
    "scrolled": true,
    "source_hash": "53b00907",
    "tags": []
   },
   "outputs": [
    {
     "name": "stdout",
     "output_type": "stream",
     "text": [
      "Delete this!\n"
     ]
    }
   ],
   "source": [
    "print(\"Delete this!\")"
   ]
  },
  {
   "cell_type": "markdown",
   "metadata": {
    "deepnote_cell_type": "markdown",
    "tags": []
   },
   "source": [
    "**Important Tip**: Everytime you open a Jupyter notebook, it is extremely important to run all the cells from the beginning in order for the notebook to work. "
   ]
  },
  {
   "cell_type": "markdown",
   "metadata": {
    "deepnote_cell_type": "markdown",
    "tags": []
   },
   "source": [
    "Now that we have had a brief crash course on Jupyter Notebooks, let's dive into Texas AQI!"
   ]
  },
  {
   "cell_type": "markdown",
   "metadata": {
    "deepnote_cell_type": "markdown",
    "tags": []
   },
   "source": [
    "<br>\n",
    "\n",
    "## Introduction to the Data <a class=\"anchor\" id=\"2\"></a>"
   ]
  },
  {
   "cell_type": "markdown",
   "metadata": {
    "deepnote_cell_type": "markdown",
    "tags": []
   },
   "source": [
    "In this notebook we will look at data collected from PrupleAir, a company that manages a network of air quality sensors. The data from these sensors are then collected to create maps like the one displayed above that depicts an intuitive visualization of the air quality in a specific region. In the dataframe below, you will find several metrics that help us do this.\n",
    "\n",
    "**Before we begin:**\n",
    "\n",
    "- Click on <b><code>Cell</code></b> in the top toolbar  \n",
    "- Click on <b><code>Run All</code></b> in the drop down\n",
    "- Scroll back up to begin going through the notebook!"
   ]
  },
  {
   "cell_type": "code",
   "execution_count": 3,
   "metadata": {},
   "outputs": [
    {
     "data": {
      "text/html": [
       "<script>\n",
       "code_show=true; \n",
       "function code_toggle() {\n",
       "  if (code_show) {\n",
       "    $('div.input').each(function(id) {\n",
       "      el = $(this).find('.cm-variable:first');\n",
       "      if (id == 0 || el.text() == 'hide_me') {\n",
       "        $(this).hide();\n",
       "      }\n",
       "    });\n",
       "    $('div.output_prompt').css('opacity', 0);\n",
       "  } else {\n",
       "    $('div.input').each(function(id) {\n",
       "      $(this).show();\n",
       "    });\n",
       "    $('div.output_prompt').css('opacity', 1);\n",
       "  }\n",
       "  code_show = !code_show\n",
       "} \n",
       "$( document ).ready(code_toggle);\n",
       "</script>\n",
       "<form action=\"javascript:code_toggle()\"><input style=\"opacity:1\" type=\"submit\" value=\"Click here to reveal the raw code.\"></form>"
      ],
      "text/plain": [
       "<IPython.core.display.HTML object>"
      ]
     },
     "execution_count": 3,
     "metadata": {},
     "output_type": "execute_result"
    }
   ],
   "source": [
    "from IPython.display import HTML\n",
    "hide_me = ''\n",
    "HTML('''<script>\n",
    "code_show=true; \n",
    "function code_toggle() {\n",
    "  if (code_show) {\n",
    "    $('div.input').each(function(id) {\n",
    "      el = $(this).find('.cm-variable:first');\n",
    "      if (id == 0 || el.text() == 'hide_me') {\n",
    "        $(this).hide();\n",
    "      }\n",
    "    });\n",
    "    $('div.output_prompt').css('opacity', 0);\n",
    "  } else {\n",
    "    $('div.input').each(function(id) {\n",
    "      $(this).show();\n",
    "    });\n",
    "    $('div.output_prompt').css('opacity', 1);\n",
    "  }\n",
    "  code_show = !code_show\n",
    "} \n",
    "$( document ).ready(code_toggle);\n",
    "</script>\n",
    "<form action=\"javascript:code_toggle()\"><input style=\"opacity:1\" type=\"submit\" value=\"Click here to reveal the raw code.\"></form>''')"
   ]
  },
  {
   "cell_type": "code",
   "execution_count": 7,
   "metadata": {
    "deepnote_cell_type": "code",
    "deepnote_to_be_reexecuted": false,
    "execution_millis": 1803,
    "execution_start": 1633062971393,
    "source_hash": "990f3fb4",
    "tags": [
     "hide-input"
    ]
   },
   "outputs": [],
   "source": [
    "hide_me\n",
    "import matplotlib.pyplot as plt\n",
    "import numpy as np\n",
    "import purpleair\n",
    "import folium\n",
    "import ipywidgets as widgets\n",
    "from ipywidgets import interact, interactive, fixed, interact_manual\n",
    "from datetime import datetime\n",
    "from IPython.display import clear_output\n"
   ]
  },
  {
   "cell_type": "markdown",
   "metadata": {
    "deepnote_cell_type": "markdown",
    "tags": []
   },
   "source": [
    "<br>\n",
    "\n",
    "# PurpleAir Data"
   ]
  },
  {
   "cell_type": "markdown",
   "metadata": {
    "deepnote_cell_type": "markdown",
    "tags": []
   },
   "source": [
    "Before we begin looking at data collected from PurpleAir sensors, lets first take a look at what a sensor is, and what it measures. \n",
    "\n",
    "\n",
    "> Below is a picture of a real PurpleAir Air Quality Sensor. These sensor can be mounted both indoors or outdoors, and it tracks airborne particulate matter(PM) in real time using PMSX003 laser counters. Particulate matter can include things like dust, smoke, dirt and any other organic or inorganic particles in the air. With multiple sensors mounted in a region, PurpleAir can create a relatively accurate measure of AQI throughout the day as the air quality changes. \n",
    "\n",
    "For more information on how sensors work, take a look at the official PurpleAir website [here](https://www2.purpleair.com/community/faq#hc-what-do-the-numbers-on-the-purpleair-map-mean-1)!"
   ]
  },
  {
   "cell_type": "markdown",
   "metadata": {
    "deepnote_cell_type": "markdown",
    "tags": []
   },
   "source": [
    "<p align=\"center\">\n",
    "  <img src=\"images/purpleair-sensor-pm2.5.webp\" width=\"\" height=\"\" align=\"center\">\n",
    "</p>"
   ]
  },
  {
   "cell_type": "markdown",
   "metadata": {
    "deepnote_cell_type": "markdown",
    "tags": []
   },
   "source": [
    "In order to work with the data, we need to pull it into our workspace. Fortunately, PurpleAir has created an API that allows users to pull in and work with their AQI data. In the code cell below we will import the prupleair API and use it to create a dataframe of data from all the PurpleAir sensors!"
   ]
  },
  {
   "cell_type": "code",
   "execution_count": 8,
   "metadata": {
    "deepnote_cell_type": "code",
    "deepnote_to_be_reexecuted": false,
    "execution_millis": 15854,
    "execution_start": 1633062973205,
    "source_hash": "5c996320",
    "tags": [
     "hide-input"
    ]
   },
   "outputs": [
    {
     "name": "stdout",
     "output_type": "stream",
     "text": [
      "Initialized 22,512 sensors!\n"
     ]
    }
   ],
   "source": [
    "hide_me\n",
    "\n",
    "from purpleair.network import SensorList\n",
    "p = SensorList()\n",
    "df = p.to_dataframe(sensor_filter='all',\n",
    "                    channel='parent')"
   ]
  },
  {
   "cell_type": "markdown",
   "metadata": {
    "deepnote_cell_type": "markdown",
    "tags": []
   },
   "source": [
    "The dataframe below contains all the sensor data as of the latest update. It contains data on everything from the geograohical latitude and longitude of the sensor to data on the last time that sensor measured airborne PM."
   ]
  },
  {
   "cell_type": "code",
   "execution_count": 9,
   "metadata": {
    "deepnote_cell_type": "code",
    "deepnote_to_be_reexecuted": false,
    "execution_millis": 294,
    "execution_start": 1633062989059,
    "source_hash": "f804c160",
    "tags": []
   },
   "outputs": [
    {
     "data": {
      "text/html": [
       "<div>\n",
       "<style scoped>\n",
       "    .dataframe tbody tr th:only-of-type {\n",
       "        vertical-align: middle;\n",
       "    }\n",
       "\n",
       "    .dataframe tbody tr th {\n",
       "        vertical-align: top;\n",
       "    }\n",
       "\n",
       "    .dataframe thead th {\n",
       "        text-align: right;\n",
       "    }\n",
       "</style>\n",
       "<table border=\"1\" class=\"dataframe\">\n",
       "  <thead>\n",
       "    <tr style=\"text-align: right;\">\n",
       "      <th></th>\n",
       "      <th>parent</th>\n",
       "      <th>lat</th>\n",
       "      <th>lon</th>\n",
       "      <th>name</th>\n",
       "      <th>location_type</th>\n",
       "      <th>pm_2.5</th>\n",
       "      <th>temp_f</th>\n",
       "      <th>temp_c</th>\n",
       "      <th>humidity</th>\n",
       "      <th>pressure</th>\n",
       "      <th>...</th>\n",
       "      <th>last_update_check</th>\n",
       "      <th>created</th>\n",
       "      <th>uptime</th>\n",
       "      <th>is_owner</th>\n",
       "      <th>10min_avg</th>\n",
       "      <th>30min_avg</th>\n",
       "      <th>1hour_avg</th>\n",
       "      <th>6hour_avg</th>\n",
       "      <th>1day_avg</th>\n",
       "      <th>1week_avg</th>\n",
       "    </tr>\n",
       "    <tr>\n",
       "      <th>id</th>\n",
       "      <th></th>\n",
       "      <th></th>\n",
       "      <th></th>\n",
       "      <th></th>\n",
       "      <th></th>\n",
       "      <th></th>\n",
       "      <th></th>\n",
       "      <th></th>\n",
       "      <th></th>\n",
       "      <th></th>\n",
       "      <th></th>\n",
       "      <th></th>\n",
       "      <th></th>\n",
       "      <th></th>\n",
       "      <th></th>\n",
       "      <th></th>\n",
       "      <th></th>\n",
       "      <th></th>\n",
       "      <th></th>\n",
       "      <th></th>\n",
       "      <th></th>\n",
       "    </tr>\n",
       "  </thead>\n",
       "  <tbody>\n",
       "    <tr>\n",
       "      <th>14633</th>\n",
       "      <td>None</td>\n",
       "      <td>37.275561</td>\n",
       "      <td>-121.964134</td>\n",
       "      <td>Hazelwood canary</td>\n",
       "      <td>outside</td>\n",
       "      <td>18.33</td>\n",
       "      <td>67.0</td>\n",
       "      <td>19.444444</td>\n",
       "      <td>54.0</td>\n",
       "      <td>1008.75</td>\n",
       "      <td>...</td>\n",
       "      <td>None</td>\n",
       "      <td>None</td>\n",
       "      <td>None</td>\n",
       "      <td>False</td>\n",
       "      <td>18.00</td>\n",
       "      <td>18.97</td>\n",
       "      <td>18.76</td>\n",
       "      <td>22.44</td>\n",
       "      <td>23.86</td>\n",
       "      <td>14.94</td>\n",
       "    </tr>\n",
       "    <tr>\n",
       "      <th>25999</th>\n",
       "      <td>None</td>\n",
       "      <td>30.053808</td>\n",
       "      <td>-95.494643</td>\n",
       "      <td>Villages of Bridgestone AQI</td>\n",
       "      <td>outside</td>\n",
       "      <td>12.16</td>\n",
       "      <td>71.0</td>\n",
       "      <td>21.666667</td>\n",
       "      <td>50.0</td>\n",
       "      <td>1011.79</td>\n",
       "      <td>...</td>\n",
       "      <td>None</td>\n",
       "      <td>None</td>\n",
       "      <td>None</td>\n",
       "      <td>False</td>\n",
       "      <td>11.81</td>\n",
       "      <td>11.30</td>\n",
       "      <td>10.51</td>\n",
       "      <td>7.83</td>\n",
       "      <td>9.04</td>\n",
       "      <td>14.07</td>\n",
       "    </tr>\n",
       "    <tr>\n",
       "      <th>14091</th>\n",
       "      <td>None</td>\n",
       "      <td>37.883620</td>\n",
       "      <td>-122.070087</td>\n",
       "      <td>WC Hillside</td>\n",
       "      <td>outside</td>\n",
       "      <td>22.04</td>\n",
       "      <td>61.0</td>\n",
       "      <td>16.111111</td>\n",
       "      <td>54.0</td>\n",
       "      <td>1004.13</td>\n",
       "      <td>...</td>\n",
       "      <td>None</td>\n",
       "      <td>None</td>\n",
       "      <td>None</td>\n",
       "      <td>False</td>\n",
       "      <td>20.07</td>\n",
       "      <td>21.23</td>\n",
       "      <td>24.99</td>\n",
       "      <td>35.81</td>\n",
       "      <td>33.92</td>\n",
       "      <td>23.45</td>\n",
       "    </tr>\n",
       "    <tr>\n",
       "      <th>108226</th>\n",
       "      <td>None</td>\n",
       "      <td>38.573703</td>\n",
       "      <td>-121.439113</td>\n",
       "      <td>\"C\" Street Air Shelter</td>\n",
       "      <td>inside</td>\n",
       "      <td>3.60</td>\n",
       "      <td>72.0</td>\n",
       "      <td>22.222222</td>\n",
       "      <td>46.0</td>\n",
       "      <td>1016.95</td>\n",
       "      <td>...</td>\n",
       "      <td>None</td>\n",
       "      <td>None</td>\n",
       "      <td>None</td>\n",
       "      <td>False</td>\n",
       "      <td>3.59</td>\n",
       "      <td>3.67</td>\n",
       "      <td>3.86</td>\n",
       "      <td>5.13</td>\n",
       "      <td>5.44</td>\n",
       "      <td>5.59</td>\n",
       "    </tr>\n",
       "    <tr>\n",
       "      <th>49409</th>\n",
       "      <td>None</td>\n",
       "      <td>18.759182</td>\n",
       "      <td>99.017172</td>\n",
       "      <td>\"First's Place\"</td>\n",
       "      <td>outside</td>\n",
       "      <td>50.74</td>\n",
       "      <td>74.0</td>\n",
       "      <td>23.333333</td>\n",
       "      <td>54.0</td>\n",
       "      <td>982.25</td>\n",
       "      <td>...</td>\n",
       "      <td>None</td>\n",
       "      <td>None</td>\n",
       "      <td>None</td>\n",
       "      <td>False</td>\n",
       "      <td>50.49</td>\n",
       "      <td>52.47</td>\n",
       "      <td>54.26</td>\n",
       "      <td>49.31</td>\n",
       "      <td>41.22</td>\n",
       "      <td>30.58</td>\n",
       "    </tr>\n",
       "    <tr>\n",
       "      <th>...</th>\n",
       "      <td>...</td>\n",
       "      <td>...</td>\n",
       "      <td>...</td>\n",
       "      <td>...</td>\n",
       "      <td>...</td>\n",
       "      <td>...</td>\n",
       "      <td>...</td>\n",
       "      <td>...</td>\n",
       "      <td>...</td>\n",
       "      <td>...</td>\n",
       "      <td>...</td>\n",
       "      <td>...</td>\n",
       "      <td>...</td>\n",
       "      <td>...</td>\n",
       "      <td>...</td>\n",
       "      <td>...</td>\n",
       "      <td>...</td>\n",
       "      <td>...</td>\n",
       "      <td>...</td>\n",
       "      <td>...</td>\n",
       "      <td>...</td>\n",
       "    </tr>\n",
       "    <tr>\n",
       "      <th>64085</th>\n",
       "      <td>None</td>\n",
       "      <td>36.785883</td>\n",
       "      <td>127.157040</td>\n",
       "      <td>청룡동행정복지센터</td>\n",
       "      <td>outside</td>\n",
       "      <td>109.28</td>\n",
       "      <td>42.0</td>\n",
       "      <td>5.555556</td>\n",
       "      <td>62.0</td>\n",
       "      <td>1027.68</td>\n",
       "      <td>...</td>\n",
       "      <td>None</td>\n",
       "      <td>None</td>\n",
       "      <td>None</td>\n",
       "      <td>False</td>\n",
       "      <td>111.56</td>\n",
       "      <td>113.34</td>\n",
       "      <td>114.58</td>\n",
       "      <td>99.29</td>\n",
       "      <td>66.50</td>\n",
       "      <td>43.52</td>\n",
       "    </tr>\n",
       "    <tr>\n",
       "      <th>64995</th>\n",
       "      <td>None</td>\n",
       "      <td>36.691324</td>\n",
       "      <td>126.585255</td>\n",
       "      <td>한서대학교</td>\n",
       "      <td>outside</td>\n",
       "      <td>28.77</td>\n",
       "      <td>48.0</td>\n",
       "      <td>8.888889</td>\n",
       "      <td>53.0</td>\n",
       "      <td>1017.90</td>\n",
       "      <td>...</td>\n",
       "      <td>None</td>\n",
       "      <td>None</td>\n",
       "      <td>None</td>\n",
       "      <td>False</td>\n",
       "      <td>29.08</td>\n",
       "      <td>30.25</td>\n",
       "      <td>34.41</td>\n",
       "      <td>49.16</td>\n",
       "      <td>37.99</td>\n",
       "      <td>27.68</td>\n",
       "    </tr>\n",
       "    <tr>\n",
       "      <th>64093</th>\n",
       "      <td>None</td>\n",
       "      <td>36.710720</td>\n",
       "      <td>126.548390</td>\n",
       "      <td>해미읍성</td>\n",
       "      <td>outside</td>\n",
       "      <td>23.72</td>\n",
       "      <td>44.0</td>\n",
       "      <td>6.666667</td>\n",
       "      <td>56.0</td>\n",
       "      <td>1028.71</td>\n",
       "      <td>...</td>\n",
       "      <td>None</td>\n",
       "      <td>None</td>\n",
       "      <td>None</td>\n",
       "      <td>False</td>\n",
       "      <td>24.30</td>\n",
       "      <td>29.34</td>\n",
       "      <td>35.18</td>\n",
       "      <td>50.33</td>\n",
       "      <td>41.37</td>\n",
       "      <td>31.02</td>\n",
       "    </tr>\n",
       "    <tr>\n",
       "      <th>29747</th>\n",
       "      <td>None</td>\n",
       "      <td>36.761236</td>\n",
       "      <td>127.395300</td>\n",
       "      <td>화덕보건진료소</td>\n",
       "      <td>outside</td>\n",
       "      <td>39.03</td>\n",
       "      <td>43.0</td>\n",
       "      <td>6.111111</td>\n",
       "      <td>52.0</td>\n",
       "      <td>1018.01</td>\n",
       "      <td>...</td>\n",
       "      <td>None</td>\n",
       "      <td>None</td>\n",
       "      <td>None</td>\n",
       "      <td>False</td>\n",
       "      <td>42.74</td>\n",
       "      <td>46.62</td>\n",
       "      <td>50.92</td>\n",
       "      <td>54.97</td>\n",
       "      <td>46.23</td>\n",
       "      <td>37.97</td>\n",
       "    </tr>\n",
       "    <tr>\n",
       "      <th>98309</th>\n",
       "      <td>None</td>\n",
       "      <td>36.718003</td>\n",
       "      <td>126.926841</td>\n",
       "      <td>화천1리마을회관</td>\n",
       "      <td>outside</td>\n",
       "      <td>42.29</td>\n",
       "      <td>45.0</td>\n",
       "      <td>7.222222</td>\n",
       "      <td>51.0</td>\n",
       "      <td>1023.94</td>\n",
       "      <td>...</td>\n",
       "      <td>None</td>\n",
       "      <td>None</td>\n",
       "      <td>None</td>\n",
       "      <td>False</td>\n",
       "      <td>45.71</td>\n",
       "      <td>51.03</td>\n",
       "      <td>55.01</td>\n",
       "      <td>60.58</td>\n",
       "      <td>48.04</td>\n",
       "      <td>33.82</td>\n",
       "    </tr>\n",
       "  </tbody>\n",
       "</table>\n",
       "<p>22512 rows × 43 columns</p>\n",
       "</div>"
      ],
      "text/plain": [
       "       parent        lat         lon                          name  \\\n",
       "id                                                                   \n",
       "14633    None  37.275561 -121.964134             Hazelwood canary    \n",
       "25999    None  30.053808  -95.494643   Villages of Bridgestone AQI   \n",
       "14091    None  37.883620 -122.070087                   WC Hillside   \n",
       "108226   None  38.573703 -121.439113        \"C\" Street Air Shelter   \n",
       "49409    None  18.759182   99.017172               \"First's Place\"   \n",
       "...       ...        ...         ...                           ...   \n",
       "64085    None  36.785883  127.157040                     청룡동행정복지센터   \n",
       "64995    None  36.691324  126.585255                         한서대학교   \n",
       "64093    None  36.710720  126.548390                          해미읍성   \n",
       "29747    None  36.761236  127.395300                       화덕보건진료소   \n",
       "98309    None  36.718003  126.926841                      화천1리마을회관   \n",
       "\n",
       "       location_type  pm_2.5  temp_f     temp_c  humidity  pressure  ...  \\\n",
       "id                                                                   ...   \n",
       "14633        outside   18.33    67.0  19.444444      54.0   1008.75  ...   \n",
       "25999        outside   12.16    71.0  21.666667      50.0   1011.79  ...   \n",
       "14091        outside   22.04    61.0  16.111111      54.0   1004.13  ...   \n",
       "108226        inside    3.60    72.0  22.222222      46.0   1016.95  ...   \n",
       "49409        outside   50.74    74.0  23.333333      54.0    982.25  ...   \n",
       "...              ...     ...     ...        ...       ...       ...  ...   \n",
       "64085        outside  109.28    42.0   5.555556      62.0   1027.68  ...   \n",
       "64995        outside   28.77    48.0   8.888889      53.0   1017.90  ...   \n",
       "64093        outside   23.72    44.0   6.666667      56.0   1028.71  ...   \n",
       "29747        outside   39.03    43.0   6.111111      52.0   1018.01  ...   \n",
       "98309        outside   42.29    45.0   7.222222      51.0   1023.94  ...   \n",
       "\n",
       "       last_update_check created uptime is_owner 10min_avg 30min_avg  \\\n",
       "id                                                                     \n",
       "14633               None    None   None    False     18.00     18.97   \n",
       "25999               None    None   None    False     11.81     11.30   \n",
       "14091               None    None   None    False     20.07     21.23   \n",
       "108226              None    None   None    False      3.59      3.67   \n",
       "49409               None    None   None    False     50.49     52.47   \n",
       "...                  ...     ...    ...      ...       ...       ...   \n",
       "64085               None    None   None    False    111.56    113.34   \n",
       "64995               None    None   None    False     29.08     30.25   \n",
       "64093               None    None   None    False     24.30     29.34   \n",
       "29747               None    None   None    False     42.74     46.62   \n",
       "98309               None    None   None    False     45.71     51.03   \n",
       "\n",
       "       1hour_avg 6hour_avg 1day_avg 1week_avg  \n",
       "id                                             \n",
       "14633      18.76     22.44    23.86     14.94  \n",
       "25999      10.51      7.83     9.04     14.07  \n",
       "14091      24.99     35.81    33.92     23.45  \n",
       "108226      3.86      5.13     5.44      5.59  \n",
       "49409      54.26     49.31    41.22     30.58  \n",
       "...          ...       ...      ...       ...  \n",
       "64085     114.58     99.29    66.50     43.52  \n",
       "64995      34.41     49.16    37.99     27.68  \n",
       "64093      35.18     50.33    41.37     31.02  \n",
       "29747      50.92     54.97    46.23     37.97  \n",
       "98309      55.01     60.58    48.04     33.82  \n",
       "\n",
       "[22512 rows x 43 columns]"
      ]
     },
     "execution_count": 9,
     "metadata": {},
     "output_type": "execute_result"
    }
   ],
   "source": [
    "hide_me\n",
    "\n",
    "df"
   ]
  },
  {
   "cell_type": "markdown",
   "metadata": {
    "deepnote_cell_type": "markdown",
    "tags": []
   },
   "source": [
    "Here is a breakdown of the dataframe above and what each column represents. \n",
    "\n",
    "`lat`: The latitude coordinate of the location\n",
    "\n",
    "`lon`: The longitude coordinate of the location\n",
    "\n",
    "`name`: The name of the location\n",
    "\n",
    "`location_type`: The nature of the location (ie. inside or outside)\n",
    "\n",
    "`pm_2.5`: The level of fine particulate matter in the air of that location\n",
    "\n",
    "`temp_f`: The temperature of the location in degrees Farenheit \n",
    "\n",
    "`temp_c`: The temperature of the location in degrees Celsius \n",
    "\n",
    "`humidity`: The humidity percentage of the location\n",
    "\n",
    "`pressure`: The pressure index of the location (in millibars)\n",
    "\n",
    "`last_seen`: The last seen date and timestamp in UTC\n",
    "\n",
    "`model`: Model of the specific sensor\n",
    "\n",
    "`flagged`: Whether or not the channel was marked as flagged (usually based on a fault)\n",
    "\n",
    "`age`: Sensor data age (when data was last received)\n",
    "\n",
    "`10min_avg`: Average PM 2.5 AQI over the last 10 minutes \n",
    "\n",
    "`30min_avg`: Average PM 2.5 AQI over the last 30 minutes\n",
    "\n",
    "`1hour_avg`: Average PM 2.5 AQI over the last hour\n",
    "\n",
    "`6hour_avg`: Average PM 2.5 AQI over the last 6 hours\n",
    "\n",
    "`1day_avg`: Average PM 2.5 AQI over the last day \n",
    "\n",
    "`1week_avg`: Average PM 2.5 AQI over the last week\n"
   ]
  },
  {
   "cell_type": "markdown",
   "metadata": {
    "deepnote_cell_type": "markdown",
    "tags": []
   },
   "source": [
    "<br>\n",
    "\n",
    "### Airborne Particulate Matter (PM) 2.5 \n",
    "While many of the column names are relatively straightforward, such as the \"name\" column (which displays the set name of the particular sensor), the \"location_type\" column (which indicates where it is an indoor or outdoor sensor), etc., we would like to draw your attention to the \"pm_2.5\" column. \n",
    "\n",
    ">The \"pm_2.5\" column represents the count of airborne pm that is larger than 2.5um/dl, in otherwords, airborne particles that have a diameter of 2.5 micrometers or less. In high levels, PM 2.5 particles can reduce visibility and cause the air to appear hazy. Tracking PM 2.5 is important because prolonged exposure to high levels of PM 2.5 particles can cause adverse US Environmental Protection Agency (EPA) use to calculate the local Air Quality Index (AQI)."
   ]
  },
  {
   "cell_type": "markdown",
   "metadata": {
    "deepnote_cell_type": "markdown",
    "tags": []
   },
   "source": [
    "If you go to the PurpleAir website [here](https://map.purpleair.com/1/mAQI/a10/p604800/cC0#14.52/30.28196/-97.73198), it should navigate you to a map of the surrounding University of Texas area. If you click on the sensor currently located in the DKR Texas Memorial Stadium, you'll find that the name of that particular sensor is \"PA_II_D8B6\". \n",
    "\n",
    "Let's take a closer look at the UT Stadium Sensor! In the dataframe below we filter the dataframe by the sensor name (\"PA_II_D8B6\") to pick out the row that corresponds to the specific sensor we are looking for. \n"
   ]
  },
  {
   "cell_type": "code",
   "execution_count": 10,
   "metadata": {
    "deepnote_cell_type": "code",
    "deepnote_to_be_reexecuted": false,
    "execution_millis": 200,
    "execution_start": 1633062989370,
    "source_hash": "18fdfec8",
    "tags": [
     "hide-input"
    ]
   },
   "outputs": [
    {
     "data": {
      "text/html": [
       "<div>\n",
       "<style scoped>\n",
       "    .dataframe tbody tr th:only-of-type {\n",
       "        vertical-align: middle;\n",
       "    }\n",
       "\n",
       "    .dataframe tbody tr th {\n",
       "        vertical-align: top;\n",
       "    }\n",
       "\n",
       "    .dataframe thead th {\n",
       "        text-align: right;\n",
       "    }\n",
       "</style>\n",
       "<table border=\"1\" class=\"dataframe\">\n",
       "  <thead>\n",
       "    <tr style=\"text-align: right;\">\n",
       "      <th></th>\n",
       "      <th>parent</th>\n",
       "      <th>lat</th>\n",
       "      <th>lon</th>\n",
       "      <th>name</th>\n",
       "      <th>location_type</th>\n",
       "      <th>pm_2.5</th>\n",
       "      <th>temp_f</th>\n",
       "      <th>temp_c</th>\n",
       "      <th>humidity</th>\n",
       "      <th>pressure</th>\n",
       "      <th>...</th>\n",
       "      <th>last_update_check</th>\n",
       "      <th>created</th>\n",
       "      <th>uptime</th>\n",
       "      <th>is_owner</th>\n",
       "      <th>10min_avg</th>\n",
       "      <th>30min_avg</th>\n",
       "      <th>1hour_avg</th>\n",
       "      <th>6hour_avg</th>\n",
       "      <th>1day_avg</th>\n",
       "      <th>1week_avg</th>\n",
       "    </tr>\n",
       "    <tr>\n",
       "      <th>id</th>\n",
       "      <th></th>\n",
       "      <th></th>\n",
       "      <th></th>\n",
       "      <th></th>\n",
       "      <th></th>\n",
       "      <th></th>\n",
       "      <th></th>\n",
       "      <th></th>\n",
       "      <th></th>\n",
       "      <th></th>\n",
       "      <th></th>\n",
       "      <th></th>\n",
       "      <th></th>\n",
       "      <th></th>\n",
       "      <th></th>\n",
       "      <th></th>\n",
       "      <th></th>\n",
       "      <th></th>\n",
       "      <th></th>\n",
       "      <th></th>\n",
       "      <th></th>\n",
       "    </tr>\n",
       "  </thead>\n",
       "  <tbody>\n",
       "    <tr>\n",
       "      <th>27395</th>\n",
       "      <td>None</td>\n",
       "      <td>30.285069</td>\n",
       "      <td>-97.732877</td>\n",
       "      <td>PA_II_D8B6</td>\n",
       "      <td>outside</td>\n",
       "      <td>5.71</td>\n",
       "      <td>64.0</td>\n",
       "      <td>17.777778</td>\n",
       "      <td>35.0</td>\n",
       "      <td>995.66</td>\n",
       "      <td>...</td>\n",
       "      <td>None</td>\n",
       "      <td>None</td>\n",
       "      <td>None</td>\n",
       "      <td>False</td>\n",
       "      <td>5.48</td>\n",
       "      <td>6.1</td>\n",
       "      <td>5.96</td>\n",
       "      <td>4.83</td>\n",
       "      <td>9.07</td>\n",
       "      <td>10.06</td>\n",
       "    </tr>\n",
       "  </tbody>\n",
       "</table>\n",
       "<p>1 rows × 43 columns</p>\n",
       "</div>"
      ],
      "text/plain": [
       "      parent        lat        lon        name location_type  pm_2.5  temp_f  \\\n",
       "id                                                                             \n",
       "27395   None  30.285069 -97.732877  PA_II_D8B6       outside    5.71    64.0   \n",
       "\n",
       "          temp_c  humidity  pressure  ... last_update_check created uptime  \\\n",
       "id                                    ...                                    \n",
       "27395  17.777778      35.0    995.66  ...              None    None   None   \n",
       "\n",
       "      is_owner 10min_avg 30min_avg 1hour_avg 6hour_avg 1day_avg 1week_avg  \n",
       "id                                                                         \n",
       "27395    False      5.48       6.1      5.96      4.83     9.07     10.06  \n",
       "\n",
       "[1 rows x 43 columns]"
      ]
     },
     "execution_count": 10,
     "metadata": {},
     "output_type": "execute_result"
    }
   ],
   "source": [
    "hide_me\n",
    "df[df['name'] == \"PA_II_D8B6\"]"
   ]
  },
  {
   "cell_type": "markdown",
   "metadata": {
    "deepnote_cell_type": "markdown",
    "tags": []
   },
   "source": [
    "<br>\n",
    "\n",
    "The row above gives us loads of information on the state of the AQI in the UT Stadium at the present moment, but it would be nice to see the AQI information over time. Below is a dataframe that contains information about the UT Stadium sensor roughly over the last 7 days. We can do this by filtering the times each entry was created at."
   ]
  },
  {
   "cell_type": "code",
   "execution_count": 11,
   "metadata": {
    "deepnote_cell_type": "code",
    "deepnote_to_be_reexecuted": false,
    "execution_millis": 2171,
    "execution_start": 1633062989568,
    "source_hash": "4537611e",
    "tags": [
     "hide-input"
    ]
   },
   "outputs": [
    {
     "data": {
      "text/html": [
       "<div>\n",
       "<style scoped>\n",
       "    .dataframe tbody tr th:only-of-type {\n",
       "        vertical-align: middle;\n",
       "    }\n",
       "\n",
       "    .dataframe tbody tr th {\n",
       "        vertical-align: top;\n",
       "    }\n",
       "\n",
       "    .dataframe thead th {\n",
       "        text-align: right;\n",
       "    }\n",
       "</style>\n",
       "<table border=\"1\" class=\"dataframe\">\n",
       "  <thead>\n",
       "    <tr style=\"text-align: right;\">\n",
       "      <th></th>\n",
       "      <th>created_at</th>\n",
       "      <th>0.3um/dl</th>\n",
       "      <th>0.5um/dl</th>\n",
       "      <th>1.0um/dl</th>\n",
       "      <th>2.5um/dl</th>\n",
       "      <th>5.0um/dl</th>\n",
       "      <th>10.0um/dl</th>\n",
       "      <th>PM1.0 (CF=ATM) ug/m3</th>\n",
       "      <th>PM10 (CF=ATM) ug/m3</th>\n",
       "      <th>Date</th>\n",
       "    </tr>\n",
       "    <tr>\n",
       "      <th>entry_id</th>\n",
       "      <th></th>\n",
       "      <th></th>\n",
       "      <th></th>\n",
       "      <th></th>\n",
       "      <th></th>\n",
       "      <th></th>\n",
       "      <th></th>\n",
       "      <th></th>\n",
       "      <th></th>\n",
       "      <th></th>\n",
       "    </tr>\n",
       "  </thead>\n",
       "  <tbody>\n",
       "    <tr>\n",
       "      <th>558924</th>\n",
       "      <td>2021-11-30 00:03:06+00:00</td>\n",
       "      <td>501.63</td>\n",
       "      <td>145.04</td>\n",
       "      <td>18.42</td>\n",
       "      <td>1.68</td>\n",
       "      <td>0.00</td>\n",
       "      <td>0.00</td>\n",
       "      <td>1.89</td>\n",
       "      <td>2.88</td>\n",
       "      <td>30-Nov-2021</td>\n",
       "    </tr>\n",
       "    <tr>\n",
       "      <th>558925</th>\n",
       "      <td>2021-11-30 00:05:08+00:00</td>\n",
       "      <td>596.52</td>\n",
       "      <td>158.91</td>\n",
       "      <td>17.93</td>\n",
       "      <td>2.68</td>\n",
       "      <td>0.71</td>\n",
       "      <td>0.46</td>\n",
       "      <td>2.18</td>\n",
       "      <td>3.95</td>\n",
       "      <td>30-Nov-2021</td>\n",
       "    </tr>\n",
       "    <tr>\n",
       "      <th>558926</th>\n",
       "      <td>2021-11-30 00:07:14+00:00</td>\n",
       "      <td>689.04</td>\n",
       "      <td>190.02</td>\n",
       "      <td>24.50</td>\n",
       "      <td>1.46</td>\n",
       "      <td>0.75</td>\n",
       "      <td>0.00</td>\n",
       "      <td>2.80</td>\n",
       "      <td>4.79</td>\n",
       "      <td>30-Nov-2021</td>\n",
       "    </tr>\n",
       "    <tr>\n",
       "      <th>558927</th>\n",
       "      <td>2021-11-30 00:09:09+00:00</td>\n",
       "      <td>577.45</td>\n",
       "      <td>160.88</td>\n",
       "      <td>19.90</td>\n",
       "      <td>0.97</td>\n",
       "      <td>0.00</td>\n",
       "      <td>0.00</td>\n",
       "      <td>2.09</td>\n",
       "      <td>3.14</td>\n",
       "      <td>30-Nov-2021</td>\n",
       "    </tr>\n",
       "    <tr>\n",
       "      <th>558928</th>\n",
       "      <td>2021-11-30 00:11:09+00:00</td>\n",
       "      <td>527.00</td>\n",
       "      <td>147.93</td>\n",
       "      <td>18.98</td>\n",
       "      <td>1.72</td>\n",
       "      <td>0.95</td>\n",
       "      <td>0.00</td>\n",
       "      <td>2.04</td>\n",
       "      <td>3.47</td>\n",
       "      <td>30-Nov-2021</td>\n",
       "    </tr>\n",
       "    <tr>\n",
       "      <th>...</th>\n",
       "      <td>...</td>\n",
       "      <td>...</td>\n",
       "      <td>...</td>\n",
       "      <td>...</td>\n",
       "      <td>...</td>\n",
       "      <td>...</td>\n",
       "      <td>...</td>\n",
       "      <td>...</td>\n",
       "      <td>...</td>\n",
       "      <td>...</td>\n",
       "    </tr>\n",
       "    <tr>\n",
       "      <th>562417</th>\n",
       "      <td>2021-12-06 23:48:26+00:00</td>\n",
       "      <td>240.21</td>\n",
       "      <td>71.17</td>\n",
       "      <td>12.10</td>\n",
       "      <td>1.52</td>\n",
       "      <td>0.00</td>\n",
       "      <td>0.00</td>\n",
       "      <td>0.59</td>\n",
       "      <td>1.38</td>\n",
       "      <td>06-Dec-2021</td>\n",
       "    </tr>\n",
       "    <tr>\n",
       "      <th>562418</th>\n",
       "      <td>2021-12-06 23:50:23+00:00</td>\n",
       "      <td>246.98</td>\n",
       "      <td>66.59</td>\n",
       "      <td>11.55</td>\n",
       "      <td>0.93</td>\n",
       "      <td>0.93</td>\n",
       "      <td>0.48</td>\n",
       "      <td>0.55</td>\n",
       "      <td>1.79</td>\n",
       "      <td>06-Dec-2021</td>\n",
       "    </tr>\n",
       "    <tr>\n",
       "      <th>562419</th>\n",
       "      <td>2021-12-06 23:52:21+00:00</td>\n",
       "      <td>298.55</td>\n",
       "      <td>86.48</td>\n",
       "      <td>10.75</td>\n",
       "      <td>1.39</td>\n",
       "      <td>0.21</td>\n",
       "      <td>0.21</td>\n",
       "      <td>0.70</td>\n",
       "      <td>1.73</td>\n",
       "      <td>06-Dec-2021</td>\n",
       "    </tr>\n",
       "    <tr>\n",
       "      <th>562420</th>\n",
       "      <td>2021-12-06 23:54:27+00:00</td>\n",
       "      <td>258.11</td>\n",
       "      <td>71.71</td>\n",
       "      <td>14.25</td>\n",
       "      <td>1.93</td>\n",
       "      <td>0.00</td>\n",
       "      <td>0.00</td>\n",
       "      <td>0.42</td>\n",
       "      <td>1.55</td>\n",
       "      <td>06-Dec-2021</td>\n",
       "    </tr>\n",
       "    <tr>\n",
       "      <th>562421</th>\n",
       "      <td>2021-12-06 23:58:27+00:00</td>\n",
       "      <td>307.95</td>\n",
       "      <td>84.46</td>\n",
       "      <td>12.88</td>\n",
       "      <td>1.40</td>\n",
       "      <td>0.21</td>\n",
       "      <td>0.04</td>\n",
       "      <td>0.82</td>\n",
       "      <td>1.93</td>\n",
       "      <td>06-Dec-2021</td>\n",
       "    </tr>\n",
       "  </tbody>\n",
       "</table>\n",
       "<p>3498 rows × 10 columns</p>\n",
       "</div>"
      ],
      "text/plain": [
       "                        created_at  0.3um/dl  0.5um/dl  1.0um/dl  2.5um/dl  \\\n",
       "entry_id                                                                     \n",
       "558924   2021-11-30 00:03:06+00:00    501.63    145.04     18.42      1.68   \n",
       "558925   2021-11-30 00:05:08+00:00    596.52    158.91     17.93      2.68   \n",
       "558926   2021-11-30 00:07:14+00:00    689.04    190.02     24.50      1.46   \n",
       "558927   2021-11-30 00:09:09+00:00    577.45    160.88     19.90      0.97   \n",
       "558928   2021-11-30 00:11:09+00:00    527.00    147.93     18.98      1.72   \n",
       "...                            ...       ...       ...       ...       ...   \n",
       "562417   2021-12-06 23:48:26+00:00    240.21     71.17     12.10      1.52   \n",
       "562418   2021-12-06 23:50:23+00:00    246.98     66.59     11.55      0.93   \n",
       "562419   2021-12-06 23:52:21+00:00    298.55     86.48     10.75      1.39   \n",
       "562420   2021-12-06 23:54:27+00:00    258.11     71.71     14.25      1.93   \n",
       "562421   2021-12-06 23:58:27+00:00    307.95     84.46     12.88      1.40   \n",
       "\n",
       "          5.0um/dl  10.0um/dl  PM1.0 (CF=ATM) ug/m3  PM10 (CF=ATM) ug/m3  \\\n",
       "entry_id                                                                   \n",
       "558924        0.00       0.00                  1.89                 2.88   \n",
       "558925        0.71       0.46                  2.18                 3.95   \n",
       "558926        0.75       0.00                  2.80                 4.79   \n",
       "558927        0.00       0.00                  2.09                 3.14   \n",
       "558928        0.95       0.00                  2.04                 3.47   \n",
       "...            ...        ...                   ...                  ...   \n",
       "562417        0.00       0.00                  0.59                 1.38   \n",
       "562418        0.93       0.48                  0.55                 1.79   \n",
       "562419        0.21       0.21                  0.70                 1.73   \n",
       "562420        0.00       0.00                  0.42                 1.55   \n",
       "562421        0.21       0.04                  0.82                 1.93   \n",
       "\n",
       "                 Date  \n",
       "entry_id               \n",
       "558924    30-Nov-2021  \n",
       "558925    30-Nov-2021  \n",
       "558926    30-Nov-2021  \n",
       "558927    30-Nov-2021  \n",
       "558928    30-Nov-2021  \n",
       "...               ...  \n",
       "562417    06-Dec-2021  \n",
       "562418    06-Dec-2021  \n",
       "562419    06-Dec-2021  \n",
       "562420    06-Dec-2021  \n",
       "562421    06-Dec-2021  \n",
       "\n",
       "[3498 rows x 10 columns]"
      ]
     },
     "execution_count": 11,
     "metadata": {},
     "output_type": "execute_result"
    }
   ],
   "source": [
    "hide_me\n",
    "\n",
    "## data from PA_II_D8B6 (UT Stadium Sensor) sensor from the past week\n",
    "from purpleair.sensor import Sensor\n",
    "se = Sensor(27395)\n",
    "UT_stadium = se.parent.get_historical(weeks_to_get=1,thingspeak_field='secondary')\n",
    "UT_stadium['Date'] = [i.date().strftime(\"%d-%b-%Y\") for i in UT_stadium['created_at']]\n",
    "UT_stadium"
   ]
  },
  {
   "cell_type": "markdown",
   "metadata": {
    "deepnote_cell_type": "markdown",
    "tags": []
   },
   "source": [
    "As you can see from the \"created_at\" column, the AQI was taken every two minutes over the past 7 days. The data frame also contains information on PM paticules of different diameters such as 0.3, 0.5, 1.0, 2.5, 5.0 and 10.0.\n",
    "\n",
    "<br>\n",
    "\n",
    "While this dataframe is useful, there are too many rows of data (~4000) to look at! Below is a widget that plots a line graph of the PM 2.5 measure over a specific day. \n",
    "\n",
    "**The drop down bar allows you to pick which day you would like graphed, so go ahead and pick a day!**"
   ]
  },
  {
   "cell_type": "code",
   "execution_count": 12,
   "metadata": {
    "scrolled": true,
    "tags": [
     "hide-input"
    ]
   },
   "outputs": [
    {
     "data": {
      "application/vnd.jupyter.widget-view+json": {
       "model_id": "7012fc1e1cae458baccbd422d54a8a94",
       "version_major": 2,
       "version_minor": 0
      },
      "text/plain": [
       "interactive(children=(Dropdown(description='date', options=('30-Nov-2021', '01-Dec-2021', '02-Dec-2021', '03-D…"
      ]
     },
     "metadata": {},
     "output_type": "display_data"
    }
   ],
   "source": [
    "hide_me\n",
    "\n",
    "def f(date):\n",
    "    fig = plt.figure(figsize=(20,3))\n",
    "    plt.plot(UT_stadium['created_at'].loc[UT_stadium['Date'] == date], UT_stadium[\"2.5um/dl\"].loc[UT_stadium['Date'] == date])\n",
    "    plt.xlabel('Time')\n",
    "    plt.ylabel('PM 2.5 Particle Count')\n",
    "    plt.title('UT Stadium Sensor PM 2.5')\n",
    "    plt.rcParams[\"figure.figsize\"] = (20,3)\n",
    "    \n",
    "interact(f, date = list(UT_stadium['Date'].unique()));"
   ]
  },
  {
   "cell_type": "markdown",
   "metadata": {
    "deepnote_cell_type": "markdown",
    "tags": []
   },
   "source": [
    "The line plots above displays the date and hour along the x-axis and the PM 2.5 Particle count along the y-axis.\n",
    "\n",
    "<br>\n",
    "\n",
    "**QUESTION: What trends do you notice about the line plot?**\n",
    "\n"
   ]
  },
  {
   "cell_type": "markdown",
   "metadata": {
    "deepnote_cell_type": "markdown",
    "tags": []
   },
   "source": [
    "*Your answer here*"
   ]
  },
  {
   "cell_type": "markdown",
   "metadata": {
    "deepnote_cell_type": "markdown",
    "tags": []
   },
   "source": [
    "<br>\n",
    "\n",
    "While the line plots do show us a trend in the PM2.5 count over time, we still have not clue how that translates to the API Index. The next section will discuss what AQI is and how it is calculated."
   ]
  },
  {
   "cell_type": "markdown",
   "metadata": {
    "deepnote_cell_type": "markdown",
    "tags": []
   },
   "source": [
    "### AQI Index\n",
    "The AQI Index contains 6 categories that air quality can fall into. Each category contains a range of index values from 0 - 500 that is calculated from the regions PM 2.5 measure. The chart below is provided by the US Environmental Protection Agency (EPA) and shows the official AQI Index (these breakpoints were revised in 2012). \n",
    "\n",
    "For more information on how AQI Index is calculated, take a look at the AQI Index Factsheet provided by the EPA [here](https://www.epa.gov/sites/default/files/2016-04/documents/2012_aqi_factsheet.pdf)!"
   ]
  },
  {
   "cell_type": "markdown",
   "metadata": {
    "deepnote_cell_type": "markdown",
    "tags": []
   },
   "source": [
    "<p align=\"center\">\n",
    "  <img src=\"images/AQI-category.png\" width=\"\" height=\"\" align=\"center\">\n",
    "</p>"
   ]
  },
  {
   "cell_type": "markdown",
   "metadata": {
    "deepnote_cell_type": "markdown",
    "tags": []
   },
   "source": [
    "Now that we know how sesors work, what they measure and how AQI Indexes are calculated, let's see if we can create a visualization of AQI Indexes that are a little closer to home!\n",
    "\n",
    "First, let's find a group of sensors that are in Texas. We use a range of longitude and latitude coordinates to decide whether to include or exclude a sensor. Below is a dataframe of sensors in Texas.\n"
   ]
  },
  {
   "cell_type": "code",
   "execution_count": 14,
   "metadata": {
    "deepnote_cell_type": "code",
    "deepnote_to_be_reexecuted": false,
    "execution_millis": 122,
    "execution_start": 1633062992781,
    "scrolled": true,
    "source_hash": "bde860ae",
    "tags": [
     "hide-input"
    ]
   },
   "outputs": [
    {
     "data": {
      "text/html": [
       "<div>\n",
       "<style scoped>\n",
       "    .dataframe tbody tr th:only-of-type {\n",
       "        vertical-align: middle;\n",
       "    }\n",
       "\n",
       "    .dataframe tbody tr th {\n",
       "        vertical-align: top;\n",
       "    }\n",
       "\n",
       "    .dataframe thead th {\n",
       "        text-align: right;\n",
       "    }\n",
       "</style>\n",
       "<table border=\"1\" class=\"dataframe\">\n",
       "  <thead>\n",
       "    <tr style=\"text-align: right;\">\n",
       "      <th></th>\n",
       "      <th>lat</th>\n",
       "      <th>lon</th>\n",
       "      <th>name</th>\n",
       "      <th>location_type</th>\n",
       "      <th>pm_2.5</th>\n",
       "      <th>temp_f</th>\n",
       "      <th>humidity</th>\n",
       "      <th>pressure</th>\n",
       "    </tr>\n",
       "    <tr>\n",
       "      <th>id</th>\n",
       "      <th></th>\n",
       "      <th></th>\n",
       "      <th></th>\n",
       "      <th></th>\n",
       "      <th></th>\n",
       "      <th></th>\n",
       "      <th></th>\n",
       "      <th></th>\n",
       "    </tr>\n",
       "  </thead>\n",
       "  <tbody>\n",
       "    <tr>\n",
       "      <th>25999</th>\n",
       "      <td>30.053808</td>\n",
       "      <td>-95.494643</td>\n",
       "      <td>Villages of Bridgestone AQI</td>\n",
       "      <td>outside</td>\n",
       "      <td>12.16</td>\n",
       "      <td>71.0</td>\n",
       "      <td>50.0</td>\n",
       "      <td>1011.79</td>\n",
       "    </tr>\n",
       "    <tr>\n",
       "      <th>74265</th>\n",
       "      <td>29.939444</td>\n",
       "      <td>-95.671354</td>\n",
       "      <td>16815 Flower Mist Lane</td>\n",
       "      <td>inside</td>\n",
       "      <td>24.07</td>\n",
       "      <td>81.0</td>\n",
       "      <td>33.0</td>\n",
       "      <td>1012.47</td>\n",
       "    </tr>\n",
       "    <tr>\n",
       "      <th>30327</th>\n",
       "      <td>33.346098</td>\n",
       "      <td>-96.355190</td>\n",
       "      <td>236 County Road 5020, Blue Ridge, Texas 75424-...</td>\n",
       "      <td>outside</td>\n",
       "      <td>2.24</td>\n",
       "      <td>NaN</td>\n",
       "      <td>NaN</td>\n",
       "      <td>NaN</td>\n",
       "    </tr>\n",
       "    <tr>\n",
       "      <th>83065</th>\n",
       "      <td>30.246557</td>\n",
       "      <td>-98.065587</td>\n",
       "      <td>301 Barton Creek Dr</td>\n",
       "      <td>outside</td>\n",
       "      <td>4.32</td>\n",
       "      <td>71.0</td>\n",
       "      <td>27.0</td>\n",
       "      <td>976.60</td>\n",
       "    </tr>\n",
       "    <tr>\n",
       "      <th>98139</th>\n",
       "      <td>29.818880</td>\n",
       "      <td>-95.695667</td>\n",
       "      <td>3623 Shadow Trail, Houston, Texas 77084</td>\n",
       "      <td>outside</td>\n",
       "      <td>12.36</td>\n",
       "      <td>70.0</td>\n",
       "      <td>48.0</td>\n",
       "      <td>1012.45</td>\n",
       "    </tr>\n",
       "    <tr>\n",
       "      <th>...</th>\n",
       "      <td>...</td>\n",
       "      <td>...</td>\n",
       "      <td>...</td>\n",
       "      <td>...</td>\n",
       "      <td>...</td>\n",
       "      <td>...</td>\n",
       "      <td>...</td>\n",
       "      <td>...</td>\n",
       "    </tr>\n",
       "    <tr>\n",
       "      <th>34431</th>\n",
       "      <td>29.762515</td>\n",
       "      <td>-95.465982</td>\n",
       "      <td>WPI-2</td>\n",
       "      <td>inside</td>\n",
       "      <td>0.00</td>\n",
       "      <td>81.0</td>\n",
       "      <td>40.0</td>\n",
       "      <td>1011.56</td>\n",
       "    </tr>\n",
       "    <tr>\n",
       "      <th>27629</th>\n",
       "      <td>33.538329</td>\n",
       "      <td>-101.781656</td>\n",
       "      <td>Yellow House Canyon</td>\n",
       "      <td>outside</td>\n",
       "      <td>1.13</td>\n",
       "      <td>65.0</td>\n",
       "      <td>20.0</td>\n",
       "      <td>902.02</td>\n",
       "    </tr>\n",
       "    <tr>\n",
       "      <th>65197</th>\n",
       "      <td>30.261005</td>\n",
       "      <td>-97.770814</td>\n",
       "      <td>Zilker #1</td>\n",
       "      <td>outside</td>\n",
       "      <td>5.07</td>\n",
       "      <td>69.0</td>\n",
       "      <td>30.0</td>\n",
       "      <td>998.06</td>\n",
       "    </tr>\n",
       "    <tr>\n",
       "      <th>52617</th>\n",
       "      <td>30.258937</td>\n",
       "      <td>-97.764749</td>\n",
       "      <td>Zilker neighborhood</td>\n",
       "      <td>outside</td>\n",
       "      <td>4.22</td>\n",
       "      <td>69.0</td>\n",
       "      <td>31.0</td>\n",
       "      <td>996.96</td>\n",
       "    </tr>\n",
       "    <tr>\n",
       "      <th>116693</th>\n",
       "      <td>29.548098</td>\n",
       "      <td>-98.535522</td>\n",
       "      <td>Zurich</td>\n",
       "      <td>inside</td>\n",
       "      <td>2.98</td>\n",
       "      <td>82.0</td>\n",
       "      <td>33.0</td>\n",
       "      <td>983.84</td>\n",
       "    </tr>\n",
       "  </tbody>\n",
       "</table>\n",
       "<p>343 rows × 8 columns</p>\n",
       "</div>"
      ],
      "text/plain": [
       "              lat         lon  \\\n",
       "id                              \n",
       "25999   30.053808  -95.494643   \n",
       "74265   29.939444  -95.671354   \n",
       "30327   33.346098  -96.355190   \n",
       "83065   30.246557  -98.065587   \n",
       "98139   29.818880  -95.695667   \n",
       "...           ...         ...   \n",
       "34431   29.762515  -95.465982   \n",
       "27629   33.538329 -101.781656   \n",
       "65197   30.261005  -97.770814   \n",
       "52617   30.258937  -97.764749   \n",
       "116693  29.548098  -98.535522   \n",
       "\n",
       "                                                     name location_type  \\\n",
       "id                                                                        \n",
       "25999                         Villages of Bridgestone AQI       outside   \n",
       "74265                              16815 Flower Mist Lane        inside   \n",
       "30327   236 County Road 5020, Blue Ridge, Texas 75424-...       outside   \n",
       "83065                                 301 Barton Creek Dr       outside   \n",
       "98139             3623 Shadow Trail, Houston, Texas 77084       outside   \n",
       "...                                                   ...           ...   \n",
       "34431                                               WPI-2        inside   \n",
       "27629                                 Yellow House Canyon       outside   \n",
       "65197                                           Zilker #1       outside   \n",
       "52617                                 Zilker neighborhood       outside   \n",
       "116693                                             Zurich        inside   \n",
       "\n",
       "        pm_2.5  temp_f  humidity  pressure  \n",
       "id                                          \n",
       "25999    12.16    71.0      50.0   1011.79  \n",
       "74265    24.07    81.0      33.0   1012.47  \n",
       "30327     2.24     NaN       NaN       NaN  \n",
       "83065     4.32    71.0      27.0    976.60  \n",
       "98139    12.36    70.0      48.0   1012.45  \n",
       "...        ...     ...       ...       ...  \n",
       "34431     0.00    81.0      40.0   1011.56  \n",
       "27629     1.13    65.0      20.0    902.02  \n",
       "65197     5.07    69.0      30.0    998.06  \n",
       "52617     4.22    69.0      31.0    996.96  \n",
       "116693    2.98    82.0      33.0    983.84  \n",
       "\n",
       "[343 rows x 8 columns]"
      ]
     },
     "execution_count": 14,
     "metadata": {},
     "output_type": "execute_result"
    }
   ],
   "source": [
    "hide_me\n",
    "\n",
    "TX_data = df.loc[(df[\"lat\"] >= 25.9) & (df[\"lat\"] <= 34.1) & (df[\"lon\"] >= -104.9) & (df[\"lon\"] <= -93.1)]\n",
    "TX_data = TX_data[[\"lat\", \"lon\", \"name\", \"location_type\", \"pm_2.5\", \"temp_f\", \"humidity\", \"pressure\"]]\n",
    "TX_data"
   ]
  },
  {
   "cell_type": "markdown",
   "metadata": {
    "deepnote_cell_type": "markdown",
    "tags": []
   },
   "source": [
    "<br>\n",
    "\n",
    "Now that we have a smaller subset of data to work with, the next step is to use the PM 2.5 measures to assign each sensor to an AQI Index Category and corresponding color. We can do this by making a list of color codes and assigning a column in our data frame to that list."
   ]
  },
  {
   "cell_type": "code",
   "execution_count": 15,
   "metadata": {
    "deepnote_cell_type": "code",
    "deepnote_to_be_reexecuted": false,
    "execution_millis": 102,
    "execution_start": 1633062992949,
    "scrolled": true,
    "source_hash": "a4f75cc5",
    "tags": [
     "hide-input"
    ]
   },
   "outputs": [],
   "source": [
    "hide_me\n",
    "\n",
    "#creating a column that indicates the AQI code name\n",
    "color_code = []\n",
    "for i in TX_data[\"pm_2.5\"].to_list():\n",
    "    if i <= 12.0:\n",
    "        color_code.append('green')\n",
    "    elif (i < 12) & (i <=35.4):\n",
    "        color_code.append('yellow')\n",
    "    elif (i < 35.5) & (i <=55.4):\n",
    "        color_code.append('orange')   \n",
    "    elif (i < 55.5) & (i <=150.4):\n",
    "        color_code.append('red')\n",
    "    elif (i < 150.5) & (i <=250.4):\n",
    "        color_code.append('purple')\n",
    "    else:\n",
    "        color_code.append('darkpurple')\n",
    "\n",
    "TX_data['code'] = color_code"
   ]
  },
  {
   "cell_type": "markdown",
   "metadata": {
    "deepnote_cell_type": "markdown",
    "tags": []
   },
   "source": [
    "<br>\n",
    "\n",
    "Our last step is to use the longitude and latitude coordinates to map the relative location of the sensor with is corresponding AQI Index color! The widget below contains two sliders. One represents the Latitude value and the other is the Longitude value. \n",
    "\n",
    "**Slide the sliders left and right to display a mapping of the sensors in that latitude and longitude region.**\n",
    "\n",
    "**Hint: Houston, TX - Lat: 29.7604 / Lon: -95.3698** "
   ]
  },
  {
   "cell_type": "code",
   "execution_count": 16,
   "metadata": {
    "scrolled": true,
    "tags": [
     "hide-input"
    ]
   },
   "outputs": [
    {
     "data": {
      "application/vnd.jupyter.widget-view+json": {
       "model_id": "871b75934cf440f782b9048804619cf8",
       "version_major": 2,
       "version_minor": 0
      },
      "text/plain": [
       "interactive(children=(FloatSlider(value=30.0, description='Latitude', max=34.0, min=26.0, step=0.001), FloatSl…"
      ]
     },
     "metadata": {},
     "output_type": "display_data"
    }
   ],
   "source": [
    "hide_me\n",
    "\n",
    "def map(Latitude ,Longitude):\n",
    "    m = folium.Map(width=600, height=500, location=[Latitude, Longitude])\n",
    "    \n",
    "    for i in np.arange(len(TX_data) - 1):\n",
    "        folium.Marker(\n",
    "            location=[TX_data.iloc[i]['lat'], TX_data.iloc[i]['lon']],\n",
    "            popup=TX_data.iloc[i]['name'],\n",
    "            icon=folium.Icon(color=TX_data.iloc[i]['code']),\n",
    "        ).add_to(m)\n",
    "    display(m)\n",
    "    \n",
    "interact(map, Latitude = (26, 34, 0.001) , Longitude = (-103, -93, 0.001));\n",
    "## Houston, TX - Lat: 29.7604 / Lon: -95.3698"
   ]
  },
  {
   "cell_type": "markdown",
   "metadata": {
    "deepnote_cell_type": "markdown",
    "tags": []
   },
   "source": [
    "Now that we have created a map we can easily see what the AQI index is across the city! "
   ]
  },
  {
   "cell_type": "markdown",
   "metadata": {
    "deepnote_cell_type": "markdown",
    "tags": []
   },
   "source": [
    "<br>\n",
    "\n",
    "**QUESTION: What do you notice about the map?**"
   ]
  },
  {
   "cell_type": "markdown",
   "metadata": {
    "deepnote_cell_type": "markdown",
    "tags": []
   },
   "source": [
    "*Your answer here*"
   ]
  },
  {
   "cell_type": "markdown",
   "metadata": {
    "deepnote_cell_type": "markdown",
    "tags": []
   },
   "source": [
    "<br>\n",
    "\n",
    "Developed By: Ziyue Li, Melisa Esqueda, Maham Bawaney & Karalyn Chong"
   ]
  }
 ],
 "metadata": {
  "deepnote": {
   "is_reactive": false
  },
  "deepnote_execution_queue": [],
  "deepnote_notebook_id": "253c2fb3-ad22-45a1-8e9a-1a7c1233100b",
  "kernelspec": {
   "display_name": "Python 3",
   "language": "python",
   "name": "python3"
  },
  "language_info": {
   "codemirror_mode": {
    "name": "ipython",
    "version": 3
   },
   "file_extension": ".py",
   "mimetype": "text/x-python",
   "name": "python",
   "nbconvert_exporter": "python",
   "pygments_lexer": "ipython3",
   "version": "3.8.8"
  }
 },
 "nbformat": 4,
 "nbformat_minor": 2
}

{
 "cells": [
  {
   "cell_type": "markdown",
   "source": "\n# Air Quality Notebook",
   "metadata": {
    "tags": [],
    "cell_id": "00000-cd1cd682-a752-4f3e-bffa-7bcff78dd3f3",
    "deepnote_cell_type": "markdown"
   }
  },
  {
   "cell_type": "markdown",
   "source": "With so many pollutants in the air, especially as we head into the annual fire season, the Air Quality Index (AQI) becomes something we check on daily. For many of us, this AQI map is all too familiar. ",
   "metadata": {
    "tags": [],
    "cell_id": "00001-eea90949-a595-4c05-9627-1be57f450aa2",
    "deepnote_cell_type": "markdown"
   }
  },
  {
   "cell_type": "markdown",
   "source": "<p align=\"center\">\n  <img src=\"images/AQImap.webp\" width=\"\" height=\"\" align=\"center\">\n</p>",
   "metadata": {
    "tags": [],
    "cell_id": "00002-489baeae-20ba-44bf-bac5-3e7931d8c9b5",
    "deepnote_cell_type": "markdown"
   }
  },
  {
   "cell_type": "markdown",
   "source": "In this notebook we will look at data collected from PrupleAir, a company that manages a network of air quality sensors. The data from these sensors are then collected to create maps like the one displayed above that depicts an intuitive visualization of the air quality in a specific region. \n\n**Run the cell below to import all the dependencies needed for this notebook!**",
   "metadata": {
    "tags": [],
    "cell_id": "00003-4163bbe5-f3a8-4a9f-8ca4-f7a5839f1332",
    "deepnote_cell_type": "markdown"
   }
  },
  {
   "cell_type": "code",
   "metadata": {
    "tags": [],
    "cell_id": "00004-59a7e54e-5914-41c5-86e9-66061047d46a",
    "deepnote_to_be_reexecuted": false,
    "source_hash": "f24e233e",
    "execution_start": 1639017300451,
    "execution_millis": 1342,
    "deepnote_cell_type": "code"
   },
   "source": "import matplotlib.pyplot as plt\nimport numpy as np\nimport purpleair\nimport geopandas",
   "execution_count": 1,
   "outputs": []
  },
  {
   "cell_type": "markdown",
   "source": "<br>\n\n# PurpleAir Data",
   "metadata": {
    "tags": [],
    "cell_id": "00001-72481491-c164-40df-858a-6759fca18e03",
    "deepnote_cell_type": "markdown"
   }
  },
  {
   "cell_type": "markdown",
   "source": "Before we begin looking at data collected from PurpleAir sensors, lets first take a look at what a sensor is, and what it measures. \n\n\n> Below is a picture of a real PurpleAir Air Quality Sensor. These sensor can be mounted both indoors or outdoors, and it tracks airborne particulate matter(PM) in real time using PMSX003 laser counters. Particulate matter can include things like dust, smoke, dirt and any other organic or inorganic particles in the air. With multiple sensors mounted in a region, PurpleAir can create a relatively accurate measure of AQI throughout the day as the air quality changes. \n\nFor more information on how sensors work, take a look at the official PurpleAir website [here](https://www2.purpleair.com/community/faq#hc-what-do-the-numbers-on-the-purpleair-map-mean-1)!",
   "metadata": {
    "tags": [],
    "cell_id": "00003-aac88ff5-4bf9-442e-90fc-78b5b0e31a8f",
    "deepnote_cell_type": "markdown"
   }
  },
  {
   "cell_type": "markdown",
   "source": "<p align=\"center\">\n  <img src=\"images/purpleair-sensor-pm2.5.webp\" width=\"\" height=\"\" align=\"center\">\n</p>",
   "metadata": {
    "tags": [],
    "cell_id": "00005-3bf891ed-400f-4d50-bcc9-2c60b10d2130",
    "deepnote_cell_type": "markdown"
   }
  },
  {
   "cell_type": "markdown",
   "source": "In order to work with the data, we need to pull it into our workspace. Fortunately, PurpleAir has created an API that allows users to pull in and work with their AQI data. In the code cell below we will import the purpleair API and use it to create a dataframe of data from all 18,858 PurpleAir sensors!\n\n**Run the code cell below!**",
   "metadata": {
    "tags": [],
    "cell_id": "00007-e6e85ff5-acd5-4266-ba7c-be37a447c88d",
    "deepnote_cell_type": "markdown"
   }
  },
  {
   "cell_type": "code",
   "metadata": {
    "tags": [],
    "cell_id": "00002-01085d88-3421-49bd-b74e-05511d2afc01",
    "deepnote_to_be_reexecuted": false,
    "source_hash": "5c996320",
    "execution_start": 1639017393509,
    "execution_millis": 8000,
    "deepnote_cell_type": "code"
   },
   "source": "from purpleair.network import SensorList\np = SensorList()\ndf = p.to_dataframe(sensor_filter='all',\n                    channel='parent')",
   "execution_count": 4,
   "outputs": [
    {
     "name": "stdout",
     "text": "Initialized 22,478 sensors!\n",
     "output_type": "stream"
    }
   ]
  },
  {
   "cell_type": "markdown",
   "source": "**Run the cell below to display the sensor dataframe!**\n\nThe dataframe below contains all the sensor data as of the latest update. It contains data on everything from the geograohical latitude and longitude of the sensor to data on the last time that sensor measured airborne PM.",
   "metadata": {
    "tags": [],
    "cell_id": "00009-648d6ac3-7625-4663-bbe3-458b23ef4493",
    "deepnote_cell_type": "markdown"
   }
  },
  {
   "cell_type": "code",
   "metadata": {
    "tags": [],
    "cell_id": "00003-4a5c5d0c-9e21-4990-8509-faddb3670857",
    "deepnote_to_be_reexecuted": false,
    "source_hash": "f804c160",
    "execution_start": 1639017401517,
    "execution_millis": 257,
    "deepnote_cell_type": "code"
   },
   "source": "df",
   "execution_count": 5,
   "outputs": [
    {
     "output_type": "execute_result",
     "execution_count": 5,
     "data": {
      "application/vnd.deepnote.dataframe.v2+json": {
       "row_count": 22478,
       "column_count": 43,
       "columns": [
        {
         "name": "parent",
         "dtype": "object",
         "stats": {
          "unique_count": 0,
          "nan_count": 22478,
          "categories": [
           {
            "name": "Missing",
            "count": 22478
           }
          ]
         }
        },
        {
         "name": "lat",
         "dtype": "float64",
         "stats": {
          "unique_count": 22144,
          "nan_count": 89,
          "min": "-45.037846",
          "max": "79.99028",
          "histogram": [
           {
            "bin_start": -45.037846,
            "bin_end": -32.5350334,
            "count": 228
           },
           {
            "bin_start": -32.5350334,
            "bin_end": -20.0322208,
            "count": 74
           },
           {
            "bin_start": -20.0322208,
            "bin_end": -7.529408199999999,
            "count": 64
           },
           {
            "bin_start": -7.529408199999999,
            "bin_end": 4.9734044,
            "count": 87
           },
           {
            "bin_start": 4.9734044,
            "bin_end": 17.476217,
            "count": 282
           },
           {
            "bin_start": 17.476217,
            "bin_end": 29.979029600000004,
            "count": 673
           },
           {
            "bin_start": 29.979029600000004,
            "bin_end": 42.4818422,
            "count": 17151
           },
           {
            "bin_start": 42.4818422,
            "bin_end": 54.9846548,
            "count": 3617
           },
           {
            "bin_start": 54.9846548,
            "bin_end": 67.4874674,
            "count": 210
           },
           {
            "bin_start": 67.4874674,
            "bin_end": 79.99028,
            "count": 3
           }
          ]
         }
        },
        {
         "name": "lon",
         "dtype": "float64",
         "stats": {
          "unique_count": 22146,
          "nan_count": 89,
          "min": "-176.5285",
          "max": "178.32672",
          "histogram": [
           {
            "bin_start": -176.5285,
            "bin_end": -141.042978,
            "count": 183
           },
           {
            "bin_start": -141.042978,
            "bin_end": -105.557456,
            "count": 16890
           },
           {
            "bin_start": -105.557456,
            "bin_end": -70.071934,
            "count": 3447
           },
           {
            "bin_start": -70.071934,
            "bin_end": -34.586411999999996,
            "count": 153
           },
           {
            "bin_start": -34.586411999999996,
            "bin_end": 0.8991100000000074,
            "count": 194
           },
           {
            "bin_start": 0.8991100000000074,
            "bin_end": 36.38463200000001,
            "count": 604
           },
           {
            "bin_start": 36.38463200000001,
            "bin_end": 71.87015400000001,
            "count": 61
           },
           {
            "bin_start": 71.87015400000001,
            "bin_end": 107.35567600000002,
            "count": 462
           },
           {
            "bin_start": 107.35567600000002,
            "bin_end": 142.84119800000002,
            "count": 170
           },
           {
            "bin_start": 142.84119800000002,
            "bin_end": 178.32672,
            "count": 225
           }
          ]
         }
        },
        {
         "name": "name",
         "dtype": "object",
         "stats": {
          "unique_count": 21201,
          "nan_count": 0,
          "categories": [
           {
            "name": "Home",
            "count": 123
           },
           {
            "name": "Outside",
            "count": 28
           },
           {
            "name": "21199 others",
            "count": 22327
           }
          ]
         }
        },
        {
         "name": "location_type",
         "dtype": "object"
        },
        {
         "name": "pm_2.5",
         "dtype": "float64"
        },
        {
         "name": "temp_f",
         "dtype": "float64"
        },
        {
         "name": "temp_c",
         "dtype": "float64"
        },
        {
         "name": "humidity",
         "dtype": "float64"
        },
        {
         "name": "pressure",
         "dtype": "float64"
        },
        {
         "name": "p_0_3_um",
         "dtype": "object"
        },
        {
         "name": "p_0_5_um",
         "dtype": "object"
        },
        {
         "name": "p_1_0_um",
         "dtype": "object"
        },
        {
         "name": "p_2_5_um",
         "dtype": "object"
        },
        {
         "name": "p_5_0_um",
         "dtype": "object"
        },
        {
         "name": "p_10_0_um",
         "dtype": "object"
        },
        {
         "name": "pm1_0_cf_1",
         "dtype": "object"
        },
        {
         "name": "pm2_5_cf_1",
         "dtype": "object"
        },
        {
         "name": "pm10_0_cf_1",
         "dtype": "object"
        },
        {
         "name": "pm1_0_atm",
         "dtype": "object"
        },
        {
         "name": "pm2_5_atm",
         "dtype": "object"
        },
        {
         "name": "pm10_0_atm",
         "dtype": "object"
        },
        {
         "name": "last_seen",
         "dtype": "datetime64[ns]"
        },
        {
         "name": "model",
         "dtype": "object"
        },
        {
         "name": "adc",
         "dtype": "object"
        },
        {
         "name": "rssi",
         "dtype": "object"
        },
        {
         "name": "hidden",
         "dtype": "bool"
        },
        {
         "name": "flagged",
         "dtype": "bool"
        },
        {
         "name": "downgraded",
         "dtype": "bool"
        },
        {
         "name": "age",
         "dtype": "int64"
        },
        {
         "name": "brightness",
         "dtype": "object"
        },
        {
         "name": "hardware",
         "dtype": "object"
        },
        {
         "name": "version",
         "dtype": "object"
        },
        {
         "name": "last_update_check",
         "dtype": "object"
        },
        {
         "name": "created",
         "dtype": "object"
        },
        {
         "name": "uptime",
         "dtype": "object"
        },
        {
         "name": "is_owner",
         "dtype": "bool"
        },
        {
         "name": "10min_avg",
         "dtype": "float64"
        },
        {
         "name": "30min_avg",
         "dtype": "float64"
        },
        {
         "name": "1hour_avg",
         "dtype": "float64"
        },
        {
         "name": "6hour_avg",
         "dtype": "float64"
        },
        {
         "name": "1day_avg",
         "dtype": "float64"
        },
        {
         "name": "1week_avg",
         "dtype": "float64"
        },
        {
         "name": "_deepnote_index_column",
         "dtype": "int64"
        }
       ],
       "rows_top": [
        {
         "parent": "None",
         "lat": 37.275561,
         "lon": -121.964134,
         "name": " Hazelwood canary ",
         "location_type": "outside",
         "pm_2.5": 0.33,
         "temp_f": 65,
         "temp_c": 18.333333333333336,
         "humidity": 54,
         "pressure": 1008.59,
         "p_0_3_um": "None",
         "p_0_5_um": "None",
         "p_1_0_um": "None",
         "p_2_5_um": "None",
         "p_5_0_um": "None",
         "p_10_0_um": "None",
         "pm1_0_cf_1": "None",
         "pm2_5_cf_1": "None",
         "pm10_0_cf_1": "None",
         "pm1_0_atm": "None",
         "pm2_5_atm": "None",
         "pm10_0_atm": "None",
         "last_seen": "2021-12-09T02:34:40.000000",
         "model": "PMS5003+PMS5003+BME280",
         "adc": "None",
         "rssi": "None",
         "hidden": false,
         "flagged": true,
         "downgraded": false,
         "age": 0,
         "brightness": "None",
         "hardware": "None",
         "version": "None",
         "last_update_check": "None",
         "created": "None",
         "uptime": "None",
         "is_owner": false,
         "10min_avg": 1.15,
         "30min_avg": 4.89,
         "1hour_avg": 9.08,
         "6hour_avg": 18.01,
         "1day_avg": 21.89,
         "1week_avg": 15.43,
         "_deepnote_index_column": 14633
        },
        {
         "parent": "None",
         "lat": 30.053808,
         "lon": -95.494643,
         "name": " Villages of Bridgestone AQI",
         "location_type": "outside",
         "pm_2.5": 36.02,
         "temp_f": 70,
         "temp_c": 21.11111111111111,
         "humidity": 70,
         "pressure": 1011.84,
         "p_0_3_um": "None",
         "p_0_5_um": "None",
         "p_1_0_um": "None",
         "p_2_5_um": "None",
         "p_5_0_um": "None",
         "p_10_0_um": "None",
         "pm1_0_cf_1": "None",
         "pm2_5_cf_1": "None",
         "pm10_0_cf_1": "None",
         "pm1_0_atm": "None",
         "pm2_5_atm": "None",
         "pm10_0_atm": "None",
         "last_seen": "2021-12-09T02:35:31.000000",
         "model": "PMS5003+PMS5003+BME280",
         "adc": "None",
         "rssi": "None",
         "hidden": false,
         "flagged": false,
         "downgraded": false,
         "age": 0,
         "brightness": "None",
         "hardware": "None",
         "version": "None",
         "last_update_check": "None",
         "created": "None",
         "uptime": "None",
         "is_owner": false,
         "10min_avg": 34.57,
         "30min_avg": 33.35,
         "1hour_avg": 32.59,
         "6hour_avg": 25.9,
         "1day_avg": 16.24,
         "1week_avg": 14.87,
         "_deepnote_index_column": 25999
        },
        {
         "parent": "None",
         "lat": 37.88362,
         "lon": -122.070087,
         "name": " WC Hillside",
         "location_type": "outside",
         "pm_2.5": 2.18,
         "temp_f": 62,
         "temp_c": 16.666666666666668,
         "humidity": 58,
         "pressure": 1003.3,
         "p_0_3_um": "None",
         "p_0_5_um": "None",
         "p_1_0_um": "None",
         "p_2_5_um": "None",
         "p_5_0_um": "None",
         "p_10_0_um": "None",
         "pm1_0_cf_1": "None",
         "pm2_5_cf_1": "None",
         "pm10_0_cf_1": "None",
         "pm1_0_atm": "None",
         "pm2_5_atm": "None",
         "pm10_0_atm": "None",
         "last_seen": "2021-12-09T02:35:20.000000",
         "model": "PMS5003+PMS5003+BME280",
         "adc": "None",
         "rssi": "None",
         "hidden": false,
         "flagged": true,
         "downgraded": false,
         "age": 0,
         "brightness": "None",
         "hardware": "None",
         "version": "None",
         "last_update_check": "None",
         "created": "None",
         "uptime": "None",
         "is_owner": false,
         "10min_avg": 3.2,
         "30min_avg": 3.05,
         "1hour_avg": 3.35,
         "6hour_avg": 16.46,
         "1day_avg": 25.88,
         "1week_avg": 22.92,
         "_deepnote_index_column": 14091
        },
        {
         "parent": "None",
         "lat": 38.573703,
         "lon": -121.439113,
         "name": "\"C\" Street Air Shelter",
         "location_type": "inside",
         "pm_2.5": 4.68,
         "temp_f": 78,
         "temp_c": 25.555555555555557,
         "humidity": 45,
         "pressure": 1015.84,
         "p_0_3_um": "None",
         "p_0_5_um": "None",
         "p_1_0_um": "None",
         "p_2_5_um": "None",
         "p_5_0_um": "None",
         "p_10_0_um": "None",
         "pm1_0_cf_1": "None",
         "pm2_5_cf_1": "None",
         "pm10_0_cf_1": "None",
         "pm1_0_atm": "None",
         "pm2_5_atm": "None",
         "pm10_0_atm": "None",
         "last_seen": "2021-12-09T02:34:10.000000",
         "model": "PMS5003+PMS5003+BME280",
         "adc": "None",
         "rssi": "None",
         "hidden": false,
         "flagged": false,
         "downgraded": false,
         "age": 1,
         "brightness": "None",
         "hardware": "None",
         "version": "None",
         "last_update_check": "None",
         "created": "None",
         "uptime": "None",
         "is_owner": false,
         "10min_avg": 4.56,
         "30min_avg": 4.36,
         "1hour_avg": 4.06,
         "6hour_avg": 3.95,
         "1day_avg": 4.75,
         "1week_avg": 5.46,
         "_deepnote_index_column": 108226
        },
        {
         "parent": "None",
         "lat": 18.759182,
         "lon": 99.017172,
         "name": "\"First's Place\"",
         "location_type": "outside",
         "pm_2.5": 39.93,
         "temp_f": 85,
         "temp_c": 29.444444444444446,
         "humidity": 40,
         "pressure": 986.67,
         "p_0_3_um": "None",
         "p_0_5_um": "None",
         "p_1_0_um": "None",
         "p_2_5_um": "None",
         "p_5_0_um": "None",
         "p_10_0_um": "None",
         "pm1_0_cf_1": "None",
         "pm2_5_cf_1": "None",
         "pm10_0_cf_1": "None",
         "pm1_0_atm": "None",
         "pm2_5_atm": "None",
         "pm10_0_atm": "None",
         "last_seen": "2021-12-09T02:35:21.000000",
         "model": "PMS5003+PMS5003+BME280",
         "adc": "None",
         "rssi": "None",
         "hidden": false,
         "flagged": false,
         "downgraded": false,
         "age": 0,
         "brightness": "None",
         "hardware": "None",
         "version": "None",
         "last_update_check": "None",
         "created": "None",
         "uptime": "None",
         "is_owner": false,
         "10min_avg": 49.37,
         "30min_avg": 51.75,
         "1hour_avg": 50.93,
         "6hour_avg": 50.75,
         "1day_avg": 46.34,
         "1week_avg": 32.52,
         "_deepnote_index_column": 49409
        },
        {
         "parent": "None",
         "lat": 47.185173,
         "lon": -122.176855,
         "name": "#1",
         "location_type": "outside",
         "pm_2.5": 1.03,
         "temp_f": 45,
         "temp_c": 7.222222222222222,
         "humidity": 60,
         "pressure": 994.43,
         "p_0_3_um": "None",
         "p_0_5_um": "None",
         "p_1_0_um": "None",
         "p_2_5_um": "None",
         "p_5_0_um": "None",
         "p_10_0_um": "None",
         "pm1_0_cf_1": "None",
         "pm2_5_cf_1": "None",
         "pm10_0_cf_1": "None",
         "pm1_0_atm": "None",
         "pm2_5_atm": "None",
         "pm10_0_atm": "None",
         "last_seen": "2021-12-09T02:34:22.000000",
         "model": "PMS5003+PMS5003+BME280",
         "adc": "None",
         "rssi": "None",
         "hidden": false,
         "flagged": false,
         "downgraded": false,
         "age": 1,
         "brightness": "None",
         "hardware": "None",
         "version": "None",
         "last_update_check": "None",
         "created": "None",
         "uptime": "None",
         "is_owner": false,
         "10min_avg": 1.52,
         "30min_avg": 1.82,
         "1hour_avg": 1.89,
         "6hour_avg": 3.07,
         "1day_avg": 6.97,
         "1week_avg": 8.45,
         "_deepnote_index_column": 42073
        },
        {
         "parent": "None",
         "lat": 47.190197,
         "lon": -122.177992,
         "name": "#2",
         "location_type": "outside",
         "pm_2.5": 2.23,
         "temp_f": 43,
         "temp_c": 6.111111111111112,
         "humidity": 68,
         "pressure": 994.57,
         "p_0_3_um": "None",
         "p_0_5_um": "None",
         "p_1_0_um": "None",
         "p_2_5_um": "None",
         "p_5_0_um": "None",
         "p_10_0_um": "None",
         "pm1_0_cf_1": "None",
         "pm2_5_cf_1": "None",
         "pm10_0_cf_1": "None",
         "pm1_0_atm": "None",
         "pm2_5_atm": "None",
         "pm10_0_atm": "None",
         "last_seen": "2021-12-09T02:35:17.000000",
         "model": "PMS5003+PMS5003+BME280",
         "adc": "None",
         "rssi": "None",
         "hidden": false,
         "flagged": false,
         "downgraded": false,
         "age": 0,
         "brightness": "None",
         "hardware": "None",
         "version": "None",
         "last_update_check": "None",
         "created": "None",
         "uptime": "None",
         "is_owner": false,
         "10min_avg": 1.98,
         "30min_avg": 2.33,
         "1hour_avg": 2.47,
         "6hour_avg": 3.71,
         "1day_avg": 7.92,
         "1week_avg": 9.23,
         "_deepnote_index_column": 53069
        },
        {
         "parent": "None",
         "lat": 40.098715,
         "lon": -105.166649,
         "name": "#254",
         "location_type": "inside",
         "pm_2.5": 1.73,
         "temp_f": 74,
         "temp_c": 23.333333333333336,
         "humidity": 20,
         "pressure": 850.68,
         "p_0_3_um": "None",
         "p_0_5_um": "None",
         "p_1_0_um": "None",
         "p_2_5_um": "None",
         "p_5_0_um": "None",
         "p_10_0_um": "None",
         "pm1_0_cf_1": "None",
         "pm2_5_cf_1": "None",
         "pm10_0_cf_1": "None",
         "pm1_0_atm": "None",
         "pm2_5_atm": "None",
         "pm10_0_atm": "None",
         "last_seen": "2021-11-25T19:18:03.000000",
         "model": "PMS5003+PMS5003+BME280",
         "adc": "None",
         "rssi": "None",
         "hidden": false,
         "flagged": true,
         "downgraded": false,
         "age": 19157,
         "brightness": "None",
         "hardware": "None",
         "version": "None",
         "last_update_check": "None",
         "created": "None",
         "uptime": "None",
         "is_owner": false,
         "10min_avg": 1.69,
         "30min_avg": 1.97,
         "1hour_avg": 2.29,
         "6hour_avg": 2.24,
         "1day_avg": 1.55,
         "1week_avg": 1.37,
         "_deepnote_index_column": 108558
        },
        {
         "parent": "None",
         "lat": 40.160043,
         "lon": -79.272304,
         "name": "#9",
         "location_type": "outside",
         "pm_2.5": 7.37,
         "temp_f": 38,
         "temp_c": 3.3333333333333335,
         "humidity": 55,
         "pressure": 967.49,
         "p_0_3_um": "None",
         "p_0_5_um": "None",
         "p_1_0_um": "None",
         "p_2_5_um": "None",
         "p_5_0_um": "None",
         "p_10_0_um": "None",
         "pm1_0_cf_1": "None",
         "pm2_5_cf_1": "None",
         "pm10_0_cf_1": "None",
         "pm1_0_atm": "None",
         "pm2_5_atm": "None",
         "pm10_0_atm": "None",
         "last_seen": "2021-12-08T23:42:07.000000",
         "model": "PMS5003+PMS5003+BME280",
         "adc": "None",
         "rssi": "None",
         "hidden": false,
         "flagged": false,
         "downgraded": false,
         "age": 173,
         "brightness": "None",
         "hardware": "None",
         "version": "None",
         "last_update_check": "None",
         "created": "None",
         "uptime": "None",
         "is_owner": false,
         "10min_avg": 7.56,
         "30min_avg": 7.78,
         "1hour_avg": 7.95,
         "6hour_avg": 7.78,
         "1day_avg": 7.5,
         "1week_avg": 8.55,
         "_deepnote_index_column": 94891
        },
        {
         "parent": "None",
         "lat": 36.807322,
         "lon": -119.796034,
         "name": "#ValleyClimate 2",
         "location_type": "inside",
         "pm_2.5": 18.91,
         "temp_f": 78,
         "temp_c": 25.555555555555557,
         "humidity": 37,
         "pressure": 1005.04,
         "p_0_3_um": "None",
         "p_0_5_um": "None",
         "p_1_0_um": "None",
         "p_2_5_um": "None",
         "p_5_0_um": "None",
         "p_10_0_um": "None",
         "pm1_0_cf_1": "None",
         "pm2_5_cf_1": "None",
         "pm10_0_cf_1": "None",
         "pm1_0_atm": "None",
         "pm2_5_atm": "None",
         "pm10_0_atm": "None",
         "last_seen": "2021-12-09T02:33:57.000000",
         "model": "PMS5003+PMS5003+BME280",
         "adc": "None",
         "rssi": "None",
         "hidden": false,
         "flagged": true,
         "downgraded": false,
         "age": 1,
         "brightness": "None",
         "hardware": "None",
         "version": "None",
         "last_update_check": "None",
         "created": "None",
         "uptime": "None",
         "is_owner": false,
         "10min_avg": 26.81,
         "30min_avg": 25.84,
         "1hour_avg": 24.22,
         "6hour_avg": 22.73,
         "1day_avg": 20.55,
         "1week_avg": 21.79,
         "_deepnote_index_column": 125651
        },
        {
         "parent": "None",
         "lat": 36.807377,
         "lon": -119.796109,
         "name": "#ValleyClimate",
         "location_type": "outside",
         "pm_2.5": 49.15,
         "temp_f": 60,
         "temp_c": 15.555555555555557,
         "humidity": 62,
         "pressure": 1004.95,
         "p_0_3_um": "None",
         "p_0_5_um": "None",
         "p_1_0_um": "None",
         "p_2_5_um": "None",
         "p_5_0_um": "None",
         "p_10_0_um": "None",
         "pm1_0_cf_1": "None",
         "pm2_5_cf_1": "None",
         "pm10_0_cf_1": "None",
         "pm1_0_atm": "None",
         "pm2_5_atm": "None",
         "pm10_0_atm": "None",
         "last_seen": "2021-12-09T02:34:42.000000",
         "model": "PMS5003+PMS5003+BME280",
         "adc": "None",
         "rssi": "None",
         "hidden": false,
         "flagged": false,
         "downgraded": false,
         "age": 0,
         "brightness": "None",
         "hardware": "None",
         "version": "None",
         "last_update_check": "None",
         "created": "None",
         "uptime": "None",
         "is_owner": false,
         "10min_avg": 49.36,
         "30min_avg": 49.33,
         "1hour_avg": 48.81,
         "6hour_avg": 47.78,
         "1day_avg": 48.69,
         "1week_avg": 48.08,
         "_deepnote_index_column": 22751
        }
       ],
       "rows_bottom": [
        {
         "parent": "None",
         "lat": 36.772892,
         "lon": 127.021792,
         "name": "이순신종합운동장",
         "location_type": "outside",
         "pm_2.5": 47.31,
         "temp_f": 62,
         "temp_c": 16.666666666666668,
         "humidity": 35,
         "pressure": 1027.41,
         "p_0_3_um": "None",
         "p_0_5_um": "None",
         "p_1_0_um": "None",
         "p_2_5_um": "None",
         "p_5_0_um": "None",
         "p_10_0_um": "None",
         "pm1_0_cf_1": "None",
         "pm2_5_cf_1": "None",
         "pm10_0_cf_1": "None",
         "pm1_0_atm": "None",
         "pm2_5_atm": "None",
         "pm10_0_atm": "None",
         "last_seen": "2021-12-09T02:34:32.000000",
         "model": "PMS5003+PMS5003+BME280",
         "adc": "None",
         "rssi": "None",
         "hidden": false,
         "flagged": false,
         "downgraded": false,
         "age": 1,
         "brightness": "None",
         "hardware": "None",
         "version": "None",
         "last_update_check": "None",
         "created": "None",
         "uptime": "None",
         "is_owner": false,
         "10min_avg": 47.74,
         "30min_avg": 49.65,
         "1hour_avg": 51.87,
         "6hour_avg": 59.72,
         "1day_avg": 60.95,
         "1week_avg": 45.42,
         "_deepnote_index_column": 64969
        },
        {
         "parent": "None",
         "lat": 36.869269,
         "lon": 126.885076,
         "name": "인주면사무소",
         "location_type": "outside",
         "pm_2.5": 62.39,
         "temp_f": 58,
         "temp_c": 14.444444444444445,
         "humidity": 44,
         "pressure": 1031.44,
         "p_0_3_um": "None",
         "p_0_5_um": "None",
         "p_1_0_um": "None",
         "p_2_5_um": "None",
         "p_5_0_um": "None",
         "p_10_0_um": "None",
         "pm1_0_cf_1": "None",
         "pm2_5_cf_1": "None",
         "pm10_0_cf_1": "None",
         "pm1_0_atm": "None",
         "pm2_5_atm": "None",
         "pm10_0_atm": "None",
         "last_seen": "2021-12-09T02:33:38.000000",
         "model": "PMS5003+PMS5003+BME280",
         "adc": "None",
         "rssi": "None",
         "hidden": false,
         "flagged": true,
         "downgraded": false,
         "age": 1,
         "brightness": "None",
         "hardware": "None",
         "version": "None",
         "last_update_check": "None",
         "created": "None",
         "uptime": "None",
         "is_owner": false,
         "10min_avg": 65.32,
         "30min_avg": 67.01,
         "1hour_avg": 67.69,
         "6hour_avg": 65.64,
         "1day_avg": 63.45,
         "1week_avg": 46.03,
         "_deepnote_index_column": 65011
        },
        {
         "parent": "None",
         "lat": 36.801094,
         "lon": 127.142108,
         "name": "일봉동행정복지센터",
         "location_type": "outside",
         "pm_2.5": 33.51,
         "temp_f": 57,
         "temp_c": 13.88888888888889,
         "humidity": 38,
         "pressure": 1028.77,
         "p_0_3_um": "None",
         "p_0_5_um": "None",
         "p_1_0_um": "None",
         "p_2_5_um": "None",
         "p_5_0_um": "None",
         "p_10_0_um": "None",
         "pm1_0_cf_1": "None",
         "pm2_5_cf_1": "None",
         "pm10_0_cf_1": "None",
         "pm1_0_atm": "None",
         "pm2_5_atm": "None",
         "pm10_0_atm": "None",
         "last_seen": "2021-12-09T02:34:15.000000",
         "model": "PMS5003+PMS5003+BME280",
         "adc": "None",
         "rssi": "None",
         "hidden": false,
         "flagged": false,
         "downgraded": false,
         "age": 1,
         "brightness": "None",
         "hardware": "None",
         "version": "None",
         "last_update_check": "None",
         "created": "None",
         "uptime": "None",
         "is_owner": false,
         "10min_avg": 34.76,
         "30min_avg": 37.75,
         "1hour_avg": 40.51,
         "6hour_avg": 52.77,
         "1day_avg": 57.11,
         "1week_avg": 43.81,
         "_deepnote_index_column": 64927
        },
        {
         "parent": "None",
         "lat": 36.912386,
         "lon": 127.221351,
         "name": "입장면행정복지센터",
         "location_type": "outside",
         "pm_2.5": 40.55,
         "temp_f": 73,
         "temp_c": 22.77777777777778,
         "humidity": 25,
         "pressure": 1026.71,
         "p_0_3_um": "None",
         "p_0_5_um": "None",
         "p_1_0_um": "None",
         "p_2_5_um": "None",
         "p_5_0_um": "None",
         "p_10_0_um": "None",
         "pm1_0_cf_1": "None",
         "pm2_5_cf_1": "None",
         "pm10_0_cf_1": "None",
         "pm1_0_atm": "None",
         "pm2_5_atm": "None",
         "pm10_0_atm": "None",
         "last_seen": "2021-12-09T02:34:08.000000",
         "model": "PMS5003+PMS5003+BME280",
         "adc": "None",
         "rssi": "None",
         "hidden": false,
         "flagged": false,
         "downgraded": false,
         "age": 1,
         "brightness": "None",
         "hardware": "None",
         "version": "None",
         "last_update_check": "None",
         "created": "None",
         "uptime": "None",
         "is_owner": false,
         "10min_avg": 45.33,
         "30min_avg": 52.34,
         "1hour_avg": 54.04,
         "6hour_avg": 58.27,
         "1day_avg": 57.62,
         "1week_avg": 45.44,
         "_deepnote_index_column": 47689
        },
        {
         "parent": "None",
         "lat": 36.79885,
         "lon": 127.151822,
         "name": "중앙동행정복지센터",
         "location_type": "outside",
         "pm_2.5": 28.65,
         "temp_f": 64,
         "temp_c": 17.77777777777778,
         "humidity": 32,
         "pressure": 1029.33,
         "p_0_3_um": "None",
         "p_0_5_um": "None",
         "p_1_0_um": "None",
         "p_2_5_um": "None",
         "p_5_0_um": "None",
         "p_10_0_um": "None",
         "pm1_0_cf_1": "None",
         "pm2_5_cf_1": "None",
         "pm10_0_cf_1": "None",
         "pm1_0_atm": "None",
         "pm2_5_atm": "None",
         "pm10_0_atm": "None",
         "last_seen": "2021-12-09T02:35:12.000000",
         "model": "PMS5003+PMS5003+BME280",
         "adc": "None",
         "rssi": "None",
         "hidden": false,
         "flagged": false,
         "downgraded": false,
         "age": 0,
         "brightness": "None",
         "hardware": "None",
         "version": "None",
         "last_update_check": "None",
         "created": "None",
         "uptime": "None",
         "is_owner": false,
         "10min_avg": 31.51,
         "30min_avg": 36.41,
         "1hour_avg": 40.81,
         "6hour_avg": 53.42,
         "1day_avg": 57.64,
         "1week_avg": 44.21,
         "_deepnote_index_column": 64933
        },
        {
         "parent": "None",
         "lat": 36.787617,
         "lon": 127.092178,
         "name": "지산공원",
         "location_type": "outside",
         "pm_2.5": 41.81,
         "temp_f": 60,
         "temp_c": 15.555555555555557,
         "humidity": 39,
         "pressure": 1030.09,
         "p_0_3_um": "None",
         "p_0_5_um": "None",
         "p_1_0_um": "None",
         "p_2_5_um": "None",
         "p_5_0_um": "None",
         "p_10_0_um": "None",
         "pm1_0_cf_1": "None",
         "pm2_5_cf_1": "None",
         "pm10_0_cf_1": "None",
         "pm1_0_atm": "None",
         "pm2_5_atm": "None",
         "pm10_0_atm": "None",
         "last_seen": "2021-12-09T02:34:18.000000",
         "model": "PMS5003+PMS5003+BME280",
         "adc": "None",
         "rssi": "None",
         "hidden": false,
         "flagged": false,
         "downgraded": false,
         "age": 1,
         "brightness": "None",
         "hardware": "None",
         "version": "None",
         "last_update_check": "None",
         "created": "None",
         "uptime": "None",
         "is_owner": false,
         "10min_avg": 41,
         "30min_avg": 42.34,
         "1hour_avg": 45.24,
         "6hour_avg": 55.92,
         "1day_avg": 58.28,
         "1week_avg": 44.73,
         "_deepnote_index_column": 64097
        },
        {
         "parent": "None",
         "lat": 36.783216,
         "lon": 127.165218,
         "name": "차량등록사업소",
         "location_type": "outside",
         "pm_2.5": 33.72,
         "temp_f": 59,
         "temp_c": 15,
         "humidity": 39,
         "pressure": 1027.5,
         "p_0_3_um": "None",
         "p_0_5_um": "None",
         "p_1_0_um": "None",
         "p_2_5_um": "None",
         "p_5_0_um": "None",
         "p_10_0_um": "None",
         "pm1_0_cf_1": "None",
         "pm2_5_cf_1": "None",
         "pm10_0_cf_1": "None",
         "pm1_0_atm": "None",
         "pm2_5_atm": "None",
         "pm10_0_atm": "None",
         "last_seen": "2021-12-09T02:34:28.000000",
         "model": "PMS5003+PMS5003+BME280",
         "adc": "None",
         "rssi": "None",
         "hidden": false,
         "flagged": false,
         "downgraded": false,
         "age": 1,
         "brightness": "None",
         "hardware": "None",
         "version": "None",
         "last_update_check": "None",
         "created": "None",
         "uptime": "None",
         "is_owner": false,
         "10min_avg": 34.02,
         "30min_avg": 36.4,
         "1hour_avg": 39.58,
         "6hour_avg": 50.8,
         "1day_avg": 54.85,
         "1week_avg": 42.57,
         "_deepnote_index_column": 65005
        },
        {
         "parent": "None",
         "lat": 36.785883,
         "lon": 127.15704,
         "name": "청룡동행정복지센터",
         "location_type": "outside",
         "pm_2.5": 36.33,
         "temp_f": 53,
         "temp_c": 11.666666666666668,
         "humidity": 46,
         "pressure": 1027.29,
         "p_0_3_um": "None",
         "p_0_5_um": "None",
         "p_1_0_um": "None",
         "p_2_5_um": "None",
         "p_5_0_um": "None",
         "p_10_0_um": "None",
         "pm1_0_cf_1": "None",
         "pm2_5_cf_1": "None",
         "pm10_0_cf_1": "None",
         "pm1_0_atm": "None",
         "pm2_5_atm": "None",
         "pm10_0_atm": "None",
         "last_seen": "2021-12-09T02:34:03.000000",
         "model": "PMS5003+PMS5003+BME280",
         "adc": "None",
         "rssi": "None",
         "hidden": false,
         "flagged": true,
         "downgraded": false,
         "age": 1,
         "brightness": "None",
         "hardware": "None",
         "version": "None",
         "last_update_check": "None",
         "created": "None",
         "uptime": "None",
         "is_owner": false,
         "10min_avg": 37.01,
         "30min_avg": 39.1,
         "1hour_avg": 42.13,
         "6hour_avg": 57.93,
         "1day_avg": 63.51,
         "1week_avg": 45.2,
         "_deepnote_index_column": 64085
        },
        {
         "parent": "None",
         "lat": 36.691324,
         "lon": 126.585255,
         "name": "한서대학교",
         "location_type": "outside",
         "pm_2.5": 46.13,
         "temp_f": 62,
         "temp_c": 16.666666666666668,
         "humidity": 34,
         "pressure": 1017.34,
         "p_0_3_um": "None",
         "p_0_5_um": "None",
         "p_1_0_um": "None",
         "p_2_5_um": "None",
         "p_5_0_um": "None",
         "p_10_0_um": "None",
         "pm1_0_cf_1": "None",
         "pm2_5_cf_1": "None",
         "pm10_0_cf_1": "None",
         "pm1_0_atm": "None",
         "pm2_5_atm": "None",
         "pm10_0_atm": "None",
         "last_seen": "2021-12-09T02:34:05.000000",
         "model": "PMS5003+PMS5003+BME280",
         "adc": "None",
         "rssi": "None",
         "hidden": false,
         "flagged": false,
         "downgraded": false,
         "age": 1,
         "brightness": "None",
         "hardware": "None",
         "version": "None",
         "last_update_check": "None",
         "created": "None",
         "uptime": "None",
         "is_owner": false,
         "10min_avg": 47.56,
         "30min_avg": 46.79,
         "1hour_avg": 44.13,
         "6hour_avg": 39.64,
         "1day_avg": 37.2,
         "1week_avg": 28.37,
         "_deepnote_index_column": 64995
        },
        {
         "parent": "None",
         "lat": 36.71072,
         "lon": 126.54839,
         "name": "해미읍성",
         "location_type": "outside",
         "pm_2.5": 54.66,
         "temp_f": 59,
         "temp_c": 15,
         "humidity": 44,
         "pressure": 1028.08,
         "p_0_3_um": "None",
         "p_0_5_um": "None",
         "p_1_0_um": "None",
         "p_2_5_um": "None",
         "p_5_0_um": "None",
         "p_10_0_um": "None",
         "pm1_0_cf_1": "None",
         "pm2_5_cf_1": "None",
         "pm10_0_cf_1": "None",
         "pm1_0_atm": "None",
         "pm2_5_atm": "None",
         "pm10_0_atm": "None",
         "last_seen": "2021-12-09T02:34:46.000000",
         "model": "PMS5003+PMS5003+BME280",
         "adc": "None",
         "rssi": "None",
         "hidden": false,
         "flagged": false,
         "downgraded": false,
         "age": 0,
         "brightness": "None",
         "hardware": "None",
         "version": "None",
         "last_update_check": "None",
         "created": "None",
         "uptime": "None",
         "is_owner": false,
         "10min_avg": 57.54,
         "30min_avg": 55.6,
         "1hour_avg": 51.92,
         "6hour_avg": 42.95,
         "1day_avg": 40.91,
         "1week_avg": 31.81,
         "_deepnote_index_column": 64093
        },
        {
         "parent": "None",
         "lat": 36.761236,
         "lon": 127.3953,
         "name": "화덕보건진료소",
         "location_type": "outside",
         "pm_2.5": 35,
         "temp_f": 62,
         "temp_c": 16.666666666666668,
         "humidity": 36,
         "pressure": 1018.17,
         "p_0_3_um": "None",
         "p_0_5_um": "None",
         "p_1_0_um": "None",
         "p_2_5_um": "None",
         "p_5_0_um": "None",
         "p_10_0_um": "None",
         "pm1_0_cf_1": "None",
         "pm2_5_cf_1": "None",
         "pm10_0_cf_1": "None",
         "pm1_0_atm": "None",
         "pm2_5_atm": "None",
         "pm10_0_atm": "None",
         "last_seen": "2021-12-09T02:34:13.000000",
         "model": "PMS5003+PMS5003+BME280",
         "adc": "None",
         "rssi": "None",
         "hidden": false,
         "flagged": true,
         "downgraded": false,
         "age": 1,
         "brightness": "None",
         "hardware": "None",
         "version": "None",
         "last_update_check": "None",
         "created": "None",
         "uptime": "None",
         "is_owner": false,
         "10min_avg": 44.47,
         "30min_avg": 52.31,
         "1hour_avg": 53.99,
         "6hour_avg": 49.24,
         "1day_avg": 46.35,
         "1week_avg": 38.67,
         "_deepnote_index_column": 29747
        },
        {
         "parent": "None",
         "lat": 36.718003,
         "lon": 126.926841,
         "name": "화천1리마을회관",
         "location_type": "outside",
         "pm_2.5": 44.86,
         "temp_f": 60,
         "temp_c": 15.555555555555557,
         "humidity": 42,
         "pressure": 1023.62,
         "p_0_3_um": "None",
         "p_0_5_um": "None",
         "p_1_0_um": "None",
         "p_2_5_um": "None",
         "p_5_0_um": "None",
         "p_10_0_um": "None",
         "pm1_0_cf_1": "None",
         "pm2_5_cf_1": "None",
         "pm10_0_cf_1": "None",
         "pm1_0_atm": "None",
         "pm2_5_atm": "None",
         "pm10_0_atm": "None",
         "last_seen": "2021-12-09T02:35:36.000000",
         "model": "PMS5003+PMS5003+BME280",
         "adc": "None",
         "rssi": "None",
         "hidden": false,
         "flagged": false,
         "downgraded": false,
         "age": 0,
         "brightness": "None",
         "hardware": "None",
         "version": "None",
         "last_update_check": "None",
         "created": "None",
         "uptime": "None",
         "is_owner": false,
         "10min_avg": 46.95,
         "30min_avg": 48.4,
         "1hour_avg": 47.91,
         "6hour_avg": 48.15,
         "1day_avg": 47.8,
         "1week_avg": 35.07,
         "_deepnote_index_column": 98309
        }
       ]
      },
      "text/plain": "       parent        lat         lon                          name  \\\nid                                                                   \n14633    None  37.275561 -121.964134             Hazelwood canary    \n25999    None  30.053808  -95.494643   Villages of Bridgestone AQI   \n14091    None  37.883620 -122.070087                   WC Hillside   \n108226   None  38.573703 -121.439113        \"C\" Street Air Shelter   \n49409    None  18.759182   99.017172               \"First's Place\"   \n...       ...        ...         ...                           ...   \n64085    None  36.785883  127.157040                     청룡동행정복지센터   \n64995    None  36.691324  126.585255                         한서대학교   \n64093    None  36.710720  126.548390                          해미읍성   \n29747    None  36.761236  127.395300                       화덕보건진료소   \n98309    None  36.718003  126.926841                      화천1리마을회관   \n\n       location_type  pm_2.5  temp_f     temp_c  humidity  pressure  ...  \\\nid                                                                   ...   \n14633        outside    0.33    65.0  18.333333      54.0   1008.59  ...   \n25999        outside   36.02    70.0  21.111111      70.0   1011.84  ...   \n14091        outside    2.18    62.0  16.666667      58.0   1003.30  ...   \n108226        inside    4.68    78.0  25.555556      45.0   1015.84  ...   \n49409        outside   39.93    85.0  29.444444      40.0    986.67  ...   \n...              ...     ...     ...        ...       ...       ...  ...   \n64085        outside   36.33    53.0  11.666667      46.0   1027.29  ...   \n64995        outside   46.13    62.0  16.666667      34.0   1017.34  ...   \n64093        outside   54.66    59.0  15.000000      44.0   1028.08  ...   \n29747        outside   35.00    62.0  16.666667      36.0   1018.17  ...   \n98309        outside   44.86    60.0  15.555556      42.0   1023.62  ...   \n\n       last_update_check created uptime is_owner 10min_avg 30min_avg  \\\nid                                                                     \n14633               None    None   None    False      1.15      4.89   \n25999               None    None   None    False     34.57     33.35   \n14091               None    None   None    False      3.20      3.05   \n108226              None    None   None    False      4.56      4.36   \n49409               None    None   None    False     49.37     51.75   \n...                  ...     ...    ...      ...       ...       ...   \n64085               None    None   None    False     37.01     39.10   \n64995               None    None   None    False     47.56     46.79   \n64093               None    None   None    False     57.54     55.60   \n29747               None    None   None    False     44.47     52.31   \n98309               None    None   None    False     46.95     48.40   \n\n       1hour_avg 6hour_avg 1day_avg 1week_avg  \nid                                             \n14633       9.08     18.01    21.89     15.43  \n25999      32.59     25.90    16.24     14.87  \n14091       3.35     16.46    25.88     22.92  \n108226      4.06      3.95     4.75      5.46  \n49409      50.93     50.75    46.34     32.52  \n...          ...       ...      ...       ...  \n64085      42.13     57.93    63.51     45.20  \n64995      44.13     39.64    37.20     28.37  \n64093      51.92     42.95    40.91     31.81  \n29747      53.99     49.24    46.35     38.67  \n98309      47.91     48.15    47.80     35.07  \n\n[22478 rows x 43 columns]",
      "text/html": "<div>\n<style scoped>\n    .dataframe tbody tr th:only-of-type {\n        vertical-align: middle;\n    }\n\n    .dataframe tbody tr th {\n        vertical-align: top;\n    }\n\n    .dataframe thead th {\n        text-align: right;\n    }\n</style>\n<table border=\"1\" class=\"dataframe\">\n  <thead>\n    <tr style=\"text-align: right;\">\n      <th></th>\n      <th>parent</th>\n      <th>lat</th>\n      <th>lon</th>\n      <th>name</th>\n      <th>location_type</th>\n      <th>pm_2.5</th>\n      <th>temp_f</th>\n      <th>temp_c</th>\n      <th>humidity</th>\n      <th>pressure</th>\n      <th>...</th>\n      <th>last_update_check</th>\n      <th>created</th>\n      <th>uptime</th>\n      <th>is_owner</th>\n      <th>10min_avg</th>\n      <th>30min_avg</th>\n      <th>1hour_avg</th>\n      <th>6hour_avg</th>\n      <th>1day_avg</th>\n      <th>1week_avg</th>\n    </tr>\n    <tr>\n      <th>id</th>\n      <th></th>\n      <th></th>\n      <th></th>\n      <th></th>\n      <th></th>\n      <th></th>\n      <th></th>\n      <th></th>\n      <th></th>\n      <th></th>\n      <th></th>\n      <th></th>\n      <th></th>\n      <th></th>\n      <th></th>\n      <th></th>\n      <th></th>\n      <th></th>\n      <th></th>\n      <th></th>\n      <th></th>\n    </tr>\n  </thead>\n  <tbody>\n    <tr>\n      <th>14633</th>\n      <td>None</td>\n      <td>37.275561</td>\n      <td>-121.964134</td>\n      <td>Hazelwood canary</td>\n      <td>outside</td>\n      <td>0.33</td>\n      <td>65.0</td>\n      <td>18.333333</td>\n      <td>54.0</td>\n      <td>1008.59</td>\n      <td>...</td>\n      <td>None</td>\n      <td>None</td>\n      <td>None</td>\n      <td>False</td>\n      <td>1.15</td>\n      <td>4.89</td>\n      <td>9.08</td>\n      <td>18.01</td>\n      <td>21.89</td>\n      <td>15.43</td>\n    </tr>\n    <tr>\n      <th>25999</th>\n      <td>None</td>\n      <td>30.053808</td>\n      <td>-95.494643</td>\n      <td>Villages of Bridgestone AQI</td>\n      <td>outside</td>\n      <td>36.02</td>\n      <td>70.0</td>\n      <td>21.111111</td>\n      <td>70.0</td>\n      <td>1011.84</td>\n      <td>...</td>\n      <td>None</td>\n      <td>None</td>\n      <td>None</td>\n      <td>False</td>\n      <td>34.57</td>\n      <td>33.35</td>\n      <td>32.59</td>\n      <td>25.90</td>\n      <td>16.24</td>\n      <td>14.87</td>\n    </tr>\n    <tr>\n      <th>14091</th>\n      <td>None</td>\n      <td>37.883620</td>\n      <td>-122.070087</td>\n      <td>WC Hillside</td>\n      <td>outside</td>\n      <td>2.18</td>\n      <td>62.0</td>\n      <td>16.666667</td>\n      <td>58.0</td>\n      <td>1003.30</td>\n      <td>...</td>\n      <td>None</td>\n      <td>None</td>\n      <td>None</td>\n      <td>False</td>\n      <td>3.20</td>\n      <td>3.05</td>\n      <td>3.35</td>\n      <td>16.46</td>\n      <td>25.88</td>\n      <td>22.92</td>\n    </tr>\n    <tr>\n      <th>108226</th>\n      <td>None</td>\n      <td>38.573703</td>\n      <td>-121.439113</td>\n      <td>\"C\" Street Air Shelter</td>\n      <td>inside</td>\n      <td>4.68</td>\n      <td>78.0</td>\n      <td>25.555556</td>\n      <td>45.0</td>\n      <td>1015.84</td>\n      <td>...</td>\n      <td>None</td>\n      <td>None</td>\n      <td>None</td>\n      <td>False</td>\n      <td>4.56</td>\n      <td>4.36</td>\n      <td>4.06</td>\n      <td>3.95</td>\n      <td>4.75</td>\n      <td>5.46</td>\n    </tr>\n    <tr>\n      <th>49409</th>\n      <td>None</td>\n      <td>18.759182</td>\n      <td>99.017172</td>\n      <td>\"First's Place\"</td>\n      <td>outside</td>\n      <td>39.93</td>\n      <td>85.0</td>\n      <td>29.444444</td>\n      <td>40.0</td>\n      <td>986.67</td>\n      <td>...</td>\n      <td>None</td>\n      <td>None</td>\n      <td>None</td>\n      <td>False</td>\n      <td>49.37</td>\n      <td>51.75</td>\n      <td>50.93</td>\n      <td>50.75</td>\n      <td>46.34</td>\n      <td>32.52</td>\n    </tr>\n    <tr>\n      <th>...</th>\n      <td>...</td>\n      <td>...</td>\n      <td>...</td>\n      <td>...</td>\n      <td>...</td>\n      <td>...</td>\n      <td>...</td>\n      <td>...</td>\n      <td>...</td>\n      <td>...</td>\n      <td>...</td>\n      <td>...</td>\n      <td>...</td>\n      <td>...</td>\n      <td>...</td>\n      <td>...</td>\n      <td>...</td>\n      <td>...</td>\n      <td>...</td>\n      <td>...</td>\n      <td>...</td>\n    </tr>\n    <tr>\n      <th>64085</th>\n      <td>None</td>\n      <td>36.785883</td>\n      <td>127.157040</td>\n      <td>청룡동행정복지센터</td>\n      <td>outside</td>\n      <td>36.33</td>\n      <td>53.0</td>\n      <td>11.666667</td>\n      <td>46.0</td>\n      <td>1027.29</td>\n      <td>...</td>\n      <td>None</td>\n      <td>None</td>\n      <td>None</td>\n      <td>False</td>\n      <td>37.01</td>\n      <td>39.10</td>\n      <td>42.13</td>\n      <td>57.93</td>\n      <td>63.51</td>\n      <td>45.20</td>\n    </tr>\n    <tr>\n      <th>64995</th>\n      <td>None</td>\n      <td>36.691324</td>\n      <td>126.585255</td>\n      <td>한서대학교</td>\n      <td>outside</td>\n      <td>46.13</td>\n      <td>62.0</td>\n      <td>16.666667</td>\n      <td>34.0</td>\n      <td>1017.34</td>\n      <td>...</td>\n      <td>None</td>\n      <td>None</td>\n      <td>None</td>\n      <td>False</td>\n      <td>47.56</td>\n      <td>46.79</td>\n      <td>44.13</td>\n      <td>39.64</td>\n      <td>37.20</td>\n      <td>28.37</td>\n    </tr>\n    <tr>\n      <th>64093</th>\n      <td>None</td>\n      <td>36.710720</td>\n      <td>126.548390</td>\n      <td>해미읍성</td>\n      <td>outside</td>\n      <td>54.66</td>\n      <td>59.0</td>\n      <td>15.000000</td>\n      <td>44.0</td>\n      <td>1028.08</td>\n      <td>...</td>\n      <td>None</td>\n      <td>None</td>\n      <td>None</td>\n      <td>False</td>\n      <td>57.54</td>\n      <td>55.60</td>\n      <td>51.92</td>\n      <td>42.95</td>\n      <td>40.91</td>\n      <td>31.81</td>\n    </tr>\n    <tr>\n      <th>29747</th>\n      <td>None</td>\n      <td>36.761236</td>\n      <td>127.395300</td>\n      <td>화덕보건진료소</td>\n      <td>outside</td>\n      <td>35.00</td>\n      <td>62.0</td>\n      <td>16.666667</td>\n      <td>36.0</td>\n      <td>1018.17</td>\n      <td>...</td>\n      <td>None</td>\n      <td>None</td>\n      <td>None</td>\n      <td>False</td>\n      <td>44.47</td>\n      <td>52.31</td>\n      <td>53.99</td>\n      <td>49.24</td>\n      <td>46.35</td>\n      <td>38.67</td>\n    </tr>\n    <tr>\n      <th>98309</th>\n      <td>None</td>\n      <td>36.718003</td>\n      <td>126.926841</td>\n      <td>화천1리마을회관</td>\n      <td>outside</td>\n      <td>44.86</td>\n      <td>60.0</td>\n      <td>15.555556</td>\n      <td>42.0</td>\n      <td>1023.62</td>\n      <td>...</td>\n      <td>None</td>\n      <td>None</td>\n      <td>None</td>\n      <td>False</td>\n      <td>46.95</td>\n      <td>48.40</td>\n      <td>47.91</td>\n      <td>48.15</td>\n      <td>47.80</td>\n      <td>35.07</td>\n    </tr>\n  </tbody>\n</table>\n<p>22478 rows × 43 columns</p>\n</div>"
     },
     "metadata": {}
    }
   ]
  },
  {
   "cell_type": "markdown",
   "source": "Looking at the dataframe above, we can check out the distribution of values for each column. For example, take a look at the locations that are in the list of the top ten highest temperatures. ",
   "metadata": {
    "tags": [],
    "cell_id": "00016-a88eb57d-9a45-42fe-af98-4d533d1693b8",
    "deepnote_cell_type": "markdown"
   }
  },
  {
   "cell_type": "code",
   "metadata": {
    "tags": [],
    "cell_id": "00016-69808df5-ebf2-42f7-967a-550366d8787f",
    "deepnote_to_be_reexecuted": false,
    "source_hash": "fc3a669a",
    "execution_start": 1639017415356,
    "execution_millis": 38,
    "deepnote_cell_type": "code"
   },
   "source": "top_10_temps = df.sort_values(\"temp_f\", ascending = False).head(10)",
   "execution_count": 6,
   "outputs": []
  },
  {
   "cell_type": "code",
   "source": "_deepnote_run_altair(top_10_temps, \"\"\"{\"$schema\":\"https://vega.github.io/schema/vega-lite/v4.json\",\"mark\":{\"type\":\"line\",\"tooltip\":{\"content\":\"data\"}},\"height\":220,\"autosize\":{\"type\":\"fit\"},\"data\":{\"name\":\"placeholder\"},\"encoding\":{\"x\":{\"field\":\"\",\"type\":\"nominal\",\"sort\":null,\"scale\":{\"type\":\"linear\",\"zero\":false}},\"y\":{\"field\":\"temp_f\",\"type\":\"quantitative\",\"sort\":null,\"scale\":{\"type\":\"linear\",\"zero\":false}},\"color\":{\"field\":\"\",\"type\":\"nominal\",\"sort\":null,\"scale\":{\"type\":\"linear\",\"zero\":false}}}}\"\"\")",
   "metadata": {
    "cell_id": "00018-0da7c378-3a64-423c-8849-9852f9038616",
    "deepnote_variable_name": "top_10_temps",
    "deepnote_visualization_spec": {
     "$schema": "https://vega.github.io/schema/vega-lite/v4.json",
     "mark": {
      "type": "line",
      "tooltip": {
       "content": "data"
      }
     },
     "height": 220,
     "autosize": {
      "type": "fit"
     },
     "data": {
      "name": "placeholder"
     },
     "encoding": {
      "x": {
       "field": "",
       "type": "nominal",
       "sort": null,
       "scale": {
        "type": "linear",
        "zero": false
       }
      },
      "y": {
       "field": "temp_f",
       "type": "quantitative",
       "sort": null,
       "scale": {
        "type": "linear",
        "zero": false
       }
      },
      "color": {
       "field": "",
       "type": "nominal",
       "sort": null,
       "scale": {
        "type": "linear",
        "zero": false
       }
      }
     }
    },
    "deepnote_to_be_reexecuted": false,
    "source_hash": "c076b46f",
    "execution_start": 1639017417290,
    "execution_millis": 655,
    "deepnote_output_heights": [
     59.5625
    ],
    "deepnote_cell_type": "visualization"
   },
   "execution_count": 7,
   "outputs": [
    {
     "output_type": "execute_result",
     "execution_count": 7,
     "data": {
      "text/html": "\n<div id=\"altair-viz-93aa7d8340d148488ad90d3d70e9d3aa\"></div>\n<script type=\"text/javascript\">\n  (function(spec, embedOpt){\n    let outputDiv = document.currentScript.previousElementSibling;\n    if (outputDiv.id !== \"altair-viz-93aa7d8340d148488ad90d3d70e9d3aa\") {\n      outputDiv = document.getElementById(\"altair-viz-93aa7d8340d148488ad90d3d70e9d3aa\");\n    }\n    const paths = {\n      \"vega\": \"https://cdn.jsdelivr.net/npm//vega@5?noext\",\n      \"vega-lib\": \"https://cdn.jsdelivr.net/npm//vega-lib?noext\",\n      \"vega-lite\": \"https://cdn.jsdelivr.net/npm//vega-lite@4.8.1?noext\",\n      \"vega-embed\": \"https://cdn.jsdelivr.net/npm//vega-embed@6?noext\",\n    };\n\n    function loadScript(lib) {\n      return new Promise(function(resolve, reject) {\n        var s = document.createElement('script');\n        s.src = paths[lib];\n        s.async = true;\n        s.onload = () => resolve(paths[lib]);\n        s.onerror = () => reject(`Error loading script: ${paths[lib]}`);\n        document.getElementsByTagName(\"head\")[0].appendChild(s);\n      });\n    }\n\n    function showError(err) {\n      outputDiv.innerHTML = `<div class=\"error\" style=\"color:red;\">${err}</div>`;\n      throw err;\n    }\n\n    function displayChart(vegaEmbed) {\n      vegaEmbed(outputDiv, spec, embedOpt)\n        .catch(err => showError(`Javascript Error: ${err.message}<br>This usually means there's a typo in your chart specification. See the javascript console for the full traceback.`));\n    }\n\n    if(typeof define === \"function\" && define.amd) {\n      requirejs.config({paths});\n      require([\"vega-embed\"], displayChart, err => showError(`Error loading script: ${err.message}`));\n    } else if (typeof vegaEmbed === \"function\") {\n      displayChart(vegaEmbed);\n    } else {\n      loadScript(\"vega\")\n        .then(() => loadScript(\"vega-lite\"))\n        .then(() => loadScript(\"vega-embed\"))\n        .catch(showError)\n        .then(() => displayChart(vegaEmbed));\n    }\n  })({\"config\": {\"view\": {\"continuousWidth\": 400, \"continuousHeight\": 300}, \"area\": {\"fill\": \"#51C0E9\"}, \"axis\": {\"labelFont\": \"Inter, sans-serif\", \"labelFontSize\": 12, \"labelFontWeight\": \"normal\", \"labelLimit\": 60, \"labelOverlap\": \"greedy\", \"titleFont\": \"Inter, sans-serif\", \"titleFontSize\": 12, \"titleFontWeight\": \"bold\"}, \"background\": \"#ffffff\", \"legend\": {\"labelFont\": \"Inter, sans-serif\", \"labelFontSize\": 12, \"titleFont\": \"Inter, sans-serif\", \"titleFontSize\": 12, \"titleFontWeight\": \"bold\"}, \"line\": {\"stroke\": \"#51C0E9\", \"strokeWidth\": 2}, \"rect\": {\"fill\": \"#51C0E9\"}, \"title\": {\"anchor\": \"start\", \"color\": \"#000000\", \"font\": \"Inter, sans-serif\", \"fontSize\": 22, \"fontWeight\": \"normal\"}}, \"data\": {\"name\": \"data-57307408d5f1e809999026e0645e9bc9\"}, \"mark\": {\"type\": \"line\", \"tooltip\": {\"content\": \"data\"}}, \"autosize\": {\"type\": \"fit\"}, \"encoding\": {\"color\": {\"type\": \"nominal\", \"field\": \"\", \"scale\": {\"type\": \"linear\", \"zero\": false}, \"sort\": null}, \"x\": {\"type\": \"nominal\", \"field\": \"\", \"scale\": {\"type\": \"linear\", \"zero\": false}, \"sort\": null}, \"y\": {\"type\": \"quantitative\", \"field\": \"temp_f\", \"scale\": {\"type\": \"linear\", \"zero\": false}, \"sort\": null}}, \"height\": 300, \"width\": \"container\", \"$schema\": \"https://vega.github.io/schema/vega-lite/v4.json\", \"datasets\": {\"data-57307408d5f1e809999026e0645e9bc9\": [{\"parent\": \"\", \"lat\": 46.20026, \"lon\": -123.377722, \"name\": \"Cathlamet\", \"location_type\": \"outside\", \"pm_2.5\": 0.34, \"temp_f\": 373.0, \"temp_c\": 189.44444444444446, \"humidity\": 100.0, \"pressure\": null, \"p_0_3_um\": \"\", \"p_0_5_um\": \"\", \"p_1_0_um\": \"\", \"p_2_5_um\": \"\", \"p_5_0_um\": \"\", \"p_10_0_um\": \"\", \"pm1_0_cf_1\": \"\", \"pm2_5_cf_1\": \"\", \"pm10_0_cf_1\": \"\", \"pm1_0_atm\": \"\", \"pm2_5_atm\": \"\", \"pm10_0_atm\": \"\", \"last_seen\": \"2021-11-12T19:59:54\", \"model\": \"PMS5003+PMS5003+BME280\", \"adc\": \"\", \"rssi\": \"\", \"hidden\": false, \"flagged\": true, \"downgraded\": false, \"age\": 37835, \"brightness\": \"\", \"hardware\": \"\", \"version\": \"\", \"last_update_check\": \"\", \"created\": \"\", \"uptime\": \"\", \"is_owner\": false, \"10min_avg\": 0.44, \"30min_avg\": 0.46, \"1hour_avg\": 0.45, \"6hour_avg\": 2.24, \"1day_avg\": 2.8, \"1week_avg\": 4.48}, {\"parent\": \"\", \"lat\": 37.4861, \"lon\": -122.287654, \"name\": \"Nickolai\", \"location_type\": \"outside\", \"pm_2.5\": 0.05, \"temp_f\": 373.0, \"temp_c\": 189.44444444444446, \"humidity\": 100.0, \"pressure\": null, \"p_0_3_um\": \"\", \"p_0_5_um\": \"\", \"p_1_0_um\": \"\", \"p_2_5_um\": \"\", \"p_5_0_um\": \"\", \"p_10_0_um\": \"\", \"pm1_0_cf_1\": \"\", \"pm2_5_cf_1\": \"\", \"pm10_0_cf_1\": \"\", \"pm1_0_atm\": \"\", \"pm2_5_atm\": \"\", \"pm10_0_atm\": \"\", \"last_seen\": \"2021-12-09T02:33:52\", \"model\": \"PMS5003+PMS5003+BME280\", \"adc\": \"\", \"rssi\": \"\", \"hidden\": false, \"flagged\": false, \"downgraded\": false, \"age\": 1, \"brightness\": \"\", \"hardware\": \"\", \"version\": \"\", \"last_update_check\": \"\", \"created\": \"\", \"uptime\": \"\", \"is_owner\": false, \"10min_avg\": 0.26, \"30min_avg\": 0.17, \"1hour_avg\": 0.99, \"6hour_avg\": 16.58, \"1day_avg\": 26.41, \"1week_avg\": 18.96}, {\"parent\": \"\", \"lat\": 49.261955, \"lon\": -123.096866, \"name\": \"Lanefab\", \"location_type\": \"inside\", \"pm_2.5\": 0.12, \"temp_f\": 370.0, \"temp_c\": 187.7777777777778, \"humidity\": 0.0, \"pressure\": null, \"p_0_3_um\": \"\", \"p_0_5_um\": \"\", \"p_1_0_um\": \"\", \"p_2_5_um\": \"\", \"p_5_0_um\": \"\", \"p_10_0_um\": \"\", \"pm1_0_cf_1\": \"\", \"pm2_5_cf_1\": \"\", \"pm10_0_cf_1\": \"\", \"pm1_0_atm\": \"\", \"pm2_5_atm\": \"\", \"pm10_0_atm\": \"\", \"last_seen\": \"2021-12-09T02:34:48\", \"model\": \"PMS5003+PMS5003+BME280\", \"adc\": \"\", \"rssi\": \"\", \"hidden\": false, \"flagged\": false, \"downgraded\": false, \"age\": 0, \"brightness\": \"\", \"hardware\": \"\", \"version\": \"\", \"last_update_check\": \"\", \"created\": \"\", \"uptime\": \"\", \"is_owner\": false, \"10min_avg\": 0.32, \"30min_avg\": 0.22, \"1hour_avg\": 0.16, \"6hour_avg\": 0.24, \"1day_avg\": 0.8, \"1week_avg\": 1.56}, {\"parent\": \"\", \"lat\": 39.102551, \"lon\": -121.33423, \"name\": \"Lone Tree School\", \"location_type\": \"outside\", \"pm_2.5\": 36.02, \"temp_f\": 369.0, \"temp_c\": 187.22222222222223, \"humidity\": 100.0, \"pressure\": null, \"p_0_3_um\": \"\", \"p_0_5_um\": \"\", \"p_1_0_um\": \"\", \"p_2_5_um\": \"\", \"p_5_0_um\": \"\", \"p_10_0_um\": \"\", \"pm1_0_cf_1\": \"\", \"pm2_5_cf_1\": \"\", \"pm10_0_cf_1\": \"\", \"pm1_0_atm\": \"\", \"pm2_5_atm\": \"\", \"pm10_0_atm\": \"\", \"last_seen\": \"2021-12-07T11:18:55\", \"model\": \"PMS5003+PMS5003+BME280\", \"adc\": \"\", \"rssi\": \"\", \"hidden\": false, \"flagged\": false, \"downgraded\": false, \"age\": 2356, \"brightness\": \"\", \"hardware\": \"\", \"version\": \"\", \"last_update_check\": \"\", \"created\": \"\", \"uptime\": \"\", \"is_owner\": false, \"10min_avg\": 40.78, \"30min_avg\": 41.01, \"1hour_avg\": 39.89, \"6hour_avg\": 32.62, \"1day_avg\": 26.35, \"1week_avg\": 14.24}, {\"parent\": \"\", \"lat\": 37.336058, \"lon\": -122.08454, \"name\": \"Ridge Top\", \"location_type\": \"outside\", \"pm_2.5\": 0.0, \"temp_f\": 136.0, \"temp_c\": 57.77777777777778, \"humidity\": 4.0, \"pressure\": 691.55, \"p_0_3_um\": \"\", \"p_0_5_um\": \"\", \"p_1_0_um\": \"\", \"p_2_5_um\": \"\", \"p_5_0_um\": \"\", \"p_10_0_um\": \"\", \"pm1_0_cf_1\": \"\", \"pm2_5_cf_1\": \"\", \"pm10_0_cf_1\": \"\", \"pm1_0_atm\": \"\", \"pm2_5_atm\": \"\", \"pm10_0_atm\": \"\", \"last_seen\": \"2021-11-20T19:39:21\", \"model\": \"PMS5003+PMS5003+BME280\", \"adc\": \"\", \"rssi\": \"\", \"hidden\": false, \"flagged\": false, \"downgraded\": false, \"age\": 26336, \"brightness\": \"\", \"hardware\": \"\", \"version\": \"\", \"last_update_check\": \"\", \"created\": \"\", \"uptime\": \"\", \"is_owner\": false, \"10min_avg\": 0.03, \"30min_avg\": 0.02, \"1hour_avg\": 0.03, \"6hour_avg\": 0.17, \"1day_avg\": 0.21, \"1week_avg\": 0.63}, {\"parent\": \"\", \"lat\": 37.937572, \"lon\": -122.524919, \"name\": \"Redwood High School\", \"location_type\": \"outside\", \"pm_2.5\": 0.0, \"temp_f\": 124.0, \"temp_c\": 51.111111111111114, \"humidity\": 5.0, \"pressure\": 1015.99, \"p_0_3_um\": \"\", \"p_0_5_um\": \"\", \"p_1_0_um\": \"\", \"p_2_5_um\": \"\", \"p_5_0_um\": \"\", \"p_10_0_um\": \"\", \"pm1_0_cf_1\": \"\", \"pm2_5_cf_1\": \"\", \"pm10_0_cf_1\": \"\", \"pm1_0_atm\": \"\", \"pm2_5_atm\": \"\", \"pm10_0_atm\": \"\", \"last_seen\": \"2021-12-09T02:33:38\", \"model\": \"PMS5003+PMS5003+BME280\", \"adc\": \"\", \"rssi\": \"\", \"hidden\": false, \"flagged\": false, \"downgraded\": false, \"age\": 1, \"brightness\": \"\", \"hardware\": \"\", \"version\": \"\", \"last_update_check\": \"\", \"created\": \"\", \"uptime\": \"\", \"is_owner\": false, \"10min_avg\": 0.0, \"30min_avg\": 0.02, \"1hour_avg\": 0.35, \"6hour_avg\": 4.97, \"1day_avg\": 16.92, \"1week_avg\": 15.24}, {\"parent\": \"\", \"lat\": -9.972758, \"lon\": -67.80798, \"name\": \"MPAC\", \"location_type\": \"outside\", \"pm_2.5\": 19.0, \"temp_f\": 115.0, \"temp_c\": 46.111111111111114, \"humidity\": 31.0, \"pressure\": 991.78, \"p_0_3_um\": \"\", \"p_0_5_um\": \"\", \"p_1_0_um\": \"\", \"p_2_5_um\": \"\", \"p_5_0_um\": \"\", \"p_10_0_um\": \"\", \"pm1_0_cf_1\": \"\", \"pm2_5_cf_1\": \"\", \"pm10_0_cf_1\": \"\", \"pm1_0_atm\": \"\", \"pm2_5_atm\": \"\", \"pm10_0_atm\": \"\", \"last_seen\": \"2021-12-09T02:33:37\", \"model\": \"PMS5003+PMS5003+BME280\", \"adc\": \"\", \"rssi\": \"\", \"hidden\": false, \"flagged\": false, \"downgraded\": false, \"age\": 2, \"brightness\": \"\", \"hardware\": \"\", \"version\": \"\", \"last_update_check\": \"\", \"created\": \"\", \"uptime\": \"\", \"is_owner\": false, \"10min_avg\": 17.92, \"30min_avg\": 16.57, \"1hour_avg\": 14.92, \"6hour_avg\": 8.92, \"1day_avg\": 6.67, \"1week_avg\": 7.21}, {\"parent\": \"\", \"lat\": -31.755797, \"lon\": 115.992144, \"name\": \"The Vines, Perth\", \"location_type\": \"outside\", \"pm_2.5\": 0.0, \"temp_f\": 115.0, \"temp_c\": 46.111111111111114, \"humidity\": 15.0, \"pressure\": 1006.35, \"p_0_3_um\": \"\", \"p_0_5_um\": \"\", \"p_1_0_um\": \"\", \"p_2_5_um\": \"\", \"p_5_0_um\": \"\", \"p_10_0_um\": \"\", \"pm1_0_cf_1\": \"\", \"pm2_5_cf_1\": \"\", \"pm10_0_cf_1\": \"\", \"pm1_0_atm\": \"\", \"pm2_5_atm\": \"\", \"pm10_0_atm\": \"\", \"last_seen\": \"2021-12-09T02:34:10\", \"model\": \"PMS5003+PMS5003+BME280\", \"adc\": \"\", \"rssi\": \"\", \"hidden\": false, \"flagged\": true, \"downgraded\": false, \"age\": 1, \"brightness\": \"\", \"hardware\": \"\", \"version\": \"\", \"last_update_check\": \"\", \"created\": \"\", \"uptime\": \"\", \"is_owner\": false, \"10min_avg\": 0.0, \"30min_avg\": 0.0, \"1hour_avg\": 0.0, \"6hour_avg\": 0.0, \"1day_avg\": 0.01, \"1week_avg\": 0.18}, {\"parent\": \"\", \"lat\": 2.976649, \"lon\": 101.718474, \"name\": \"UPM FPSK\", \"location_type\": \"outside\", \"pm_2.5\": 15.63, \"temp_f\": 114.0, \"temp_c\": 45.55555555555556, \"humidity\": 24.0, \"pressure\": 1004.52, \"p_0_3_um\": \"\", \"p_0_5_um\": \"\", \"p_1_0_um\": \"\", \"p_2_5_um\": \"\", \"p_5_0_um\": \"\", \"p_10_0_um\": \"\", \"pm1_0_cf_1\": \"\", \"pm2_5_cf_1\": \"\", \"pm10_0_cf_1\": \"\", \"pm1_0_atm\": \"\", \"pm2_5_atm\": \"\", \"pm10_0_atm\": \"\", \"last_seen\": \"2021-12-09T02:34:36\", \"model\": \"PMS5003+PMS5003+BME280\", \"adc\": \"\", \"rssi\": \"\", \"hidden\": false, \"flagged\": false, \"downgraded\": false, \"age\": 1, \"brightness\": \"\", \"hardware\": \"\", \"version\": \"\", \"last_update_check\": \"\", \"created\": \"\", \"uptime\": \"\", \"is_owner\": false, \"10min_avg\": 16.72, \"30min_avg\": 22.17, \"1hour_avg\": 24.41, \"6hour_avg\": 20.77, \"1day_avg\": 19.84, \"1week_avg\": 15.04}, {\"parent\": \"\", \"lat\": 33.063587, \"lon\": -112.015792, \"name\": \"Province - Maricopa, AZ\", \"location_type\": \"outside\", \"pm_2.5\": 5.03, \"temp_f\": 112.0, \"temp_c\": 44.44444444444444, \"humidity\": 4.0, \"pressure\": 972.95, \"p_0_3_um\": \"\", \"p_0_5_um\": \"\", \"p_1_0_um\": \"\", \"p_2_5_um\": \"\", \"p_5_0_um\": \"\", \"p_10_0_um\": \"\", \"pm1_0_cf_1\": \"\", \"pm2_5_cf_1\": \"\", \"pm10_0_cf_1\": \"\", \"pm1_0_atm\": \"\", \"pm2_5_atm\": \"\", \"pm10_0_atm\": \"\", \"last_seen\": \"2021-12-09T02:33:37\", \"model\": \"PMS5003+PMS5003+BME280\", \"adc\": \"\", \"rssi\": \"\", \"hidden\": false, \"flagged\": false, \"downgraded\": false, \"age\": 2, \"brightness\": \"\", \"hardware\": \"\", \"version\": \"\", \"last_update_check\": \"\", \"created\": \"\", \"uptime\": \"\", \"is_owner\": false, \"10min_avg\": 5.82, \"30min_avg\": 4.77, \"1hour_avg\": 3.79, \"6hour_avg\": 4.71, \"1day_avg\": 8.03, \"1week_avg\": 7.55}]}}, {\"actions\": false, \"mode\": \"vega-lite\"});\n</script>",
      "text/plain": "alt.Chart(...)"
     },
     "metadata": {}
    }
   ]
  },
  {
   "cell_type": "markdown",
   "source": "<br>\n\n### Airborne Particulate Matter (PM) 2.5 \nWhile many of the column names are relatively straightforward, the \"name\" column (which displays the set name of the particular sensor), the \"location_type\" column (which indicates where it is an indoor or outdoor sensor), etc., we would like to draw your attention to the \"pm_2.5\" column. \n\n>The \"pm_2.5\" column represents the count of airborne pm that is larger than 2.5um/dl, in otherwords, airborne particles that have a diameter of 2.5 micrometers or less. In high levels, PM 2.5 particles can reduce visibility and cause the air to appear hazy. Tracking PM 2.5 is important because prolonged exposure to high levels of PM 2.5 particles can cause adverse US Environmental Protection Agency (EPA) use to calculate the local Air Quality Index (AQI).",
   "metadata": {
    "tags": [],
    "cell_id": "00011-c8766e48-014a-44d5-8139-e880413d49f9",
    "deepnote_cell_type": "markdown"
   }
  },
  {
   "cell_type": "markdown",
   "source": "**Run the cell below to take a look at PM 2.5 levels of a specific sensor over time!**",
   "metadata": {
    "tags": [],
    "cell_id": "00012-6b10d01e-ae77-420f-8bc1-86d49d79f6e5",
    "deepnote_cell_type": "markdown"
   }
  },
  {
   "cell_type": "code",
   "metadata": {
    "tags": [],
    "cell_id": "00013-e04fde67-4b71-4037-940a-16dd277b8d64",
    "deepnote_to_be_reexecuted": false,
    "source_hash": "5af27a5d",
    "execution_start": 1639017431123,
    "execution_millis": 1835,
    "deepnote_cell_type": "code"
   },
   "source": "## pull specific sensor data from a specific date / range of dates - Potentially have students look at AQI of a specific \n## area over a few weeks \n\n## data from 1000ft Montclair sensor from 7/12 - 7/18 (week of data)\nfrom purpleair.sensor import Sensor\nse = Sensor(20747)\nMontclairSensor = se.parent.get_historical(weeks_to_get=1,\n                              thingspeak_field='secondary')\n\nMontclairSensor",
   "execution_count": 8,
   "outputs": [
    {
     "output_type": "execute_result",
     "execution_count": 8,
     "data": {
      "application/vnd.deepnote.dataframe.v2+json": {
       "row_count": 5022,
       "column_count": 9,
       "columns": [
        {
         "name": "created_at",
         "dtype": "datetime64[ns, UTC]",
         "stats": {
          "unique_count": 5022,
          "nan_count": 0,
          "min": "2021-12-02 00:01:51+00:00",
          "max": "2021-12-08 23:59:27+00:00",
          "histogram": [
           {
            "bin_start": 1638403311000000000,
            "bin_end": 1638463776600000000,
            "count": 504
           },
           {
            "bin_start": 1638463776600000000,
            "bin_end": 1638524242200000000,
            "count": 503
           },
           {
            "bin_start": 1638524242200000000,
            "bin_end": 1638584707800000000,
            "count": 493
           },
           {
            "bin_start": 1638584707800000000,
            "bin_end": 1638645173400000000,
            "count": 503
           },
           {
            "bin_start": 1638645173400000000,
            "bin_end": 1638705639000000000,
            "count": 503
           },
           {
            "bin_start": 1638705639000000000,
            "bin_end": 1638766104600000000,
            "count": 502
           },
           {
            "bin_start": 1638766104600000000,
            "bin_end": 1638826570200000000,
            "count": 504
           },
           {
            "bin_start": 1638826570200000000,
            "bin_end": 1638887035800000000,
            "count": 503
           },
           {
            "bin_start": 1638887035800000000,
            "bin_end": 1638947501400000000,
            "count": 503
           },
           {
            "bin_start": 1638947501400000000,
            "bin_end": 1639007967000000000,
            "count": 504
           }
          ]
         }
        },
        {
         "name": "0.3um/dl",
         "dtype": "float64",
         "stats": {
          "unique_count": 4983,
          "nan_count": 0,
          "min": "135.16",
          "max": "22667.11",
          "histogram": [
           {
            "bin_start": 135.16,
            "bin_end": 2388.355,
            "count": 1229
           },
           {
            "bin_start": 2388.355,
            "bin_end": 4641.55,
            "count": 2316
           },
           {
            "bin_start": 4641.55,
            "bin_end": 6894.745000000001,
            "count": 1187
           },
           {
            "bin_start": 6894.745000000001,
            "bin_end": 9147.94,
            "count": 236
           },
           {
            "bin_start": 9147.94,
            "bin_end": 11401.135,
            "count": 45
           },
           {
            "bin_start": 11401.135,
            "bin_end": 13654.330000000002,
            "count": 5
           },
           {
            "bin_start": 13654.330000000002,
            "bin_end": 15907.525000000001,
            "count": 3
           },
           {
            "bin_start": 15907.525000000001,
            "bin_end": 18160.72,
            "count": 0
           },
           {
            "bin_start": 18160.72,
            "bin_end": 20413.915,
            "count": 0
           },
           {
            "bin_start": 20413.915,
            "bin_end": 22667.11,
            "count": 1
           }
          ]
         }
        },
        {
         "name": "0.5um/dl",
         "dtype": "float64",
         "stats": {
          "unique_count": 4940,
          "nan_count": 0,
          "min": "20.54",
          "max": "6662.37",
          "histogram": [
           {
            "bin_start": 20.54,
            "bin_end": 684.723,
            "count": 1275
           },
           {
            "bin_start": 684.723,
            "bin_end": 1348.906,
            "count": 2358
           },
           {
            "bin_start": 1348.906,
            "bin_end": 2013.089,
            "count": 1134
           },
           {
            "bin_start": 2013.089,
            "bin_end": 2677.272,
            "count": 217
           },
           {
            "bin_start": 2677.272,
            "bin_end": 3341.455,
            "count": 31
           },
           {
            "bin_start": 3341.455,
            "bin_end": 4005.638,
            "count": 4
           },
           {
            "bin_start": 4005.638,
            "bin_end": 4669.821,
            "count": 2
           },
           {
            "bin_start": 4669.821,
            "bin_end": 5334.004,
            "count": 0
           },
           {
            "bin_start": 5334.004,
            "bin_end": 5998.187,
            "count": 0
           },
           {
            "bin_start": 5998.187,
            "bin_end": 6662.37,
            "count": 1
           }
          ]
         }
        },
        {
         "name": "1.0um/dl",
         "dtype": "float64",
         "stats": {
          "unique_count": 4693,
          "nan_count": 0,
          "min": "1.02",
          "max": "1661.59",
          "histogram": [
           {
            "bin_start": 1.02,
            "bin_end": 167.077,
            "count": 2030
           },
           {
            "bin_start": 167.077,
            "bin_end": 333.13399999999996,
            "count": 2129
           },
           {
            "bin_start": 333.13399999999996,
            "bin_end": 499.1909999999999,
            "count": 781
           },
           {
            "bin_start": 499.1909999999999,
            "bin_end": 665.2479999999999,
            "count": 63
           },
           {
            "bin_start": 665.2479999999999,
            "bin_end": 831.305,
            "count": 15
           },
           {
            "bin_start": 831.305,
            "bin_end": 997.3619999999999,
            "count": 3
           },
           {
            "bin_start": 997.3619999999999,
            "bin_end": 1163.4189999999999,
            "count": 0
           },
           {
            "bin_start": 1163.4189999999999,
            "bin_end": 1329.4759999999999,
            "count": 0
           },
           {
            "bin_start": 1329.4759999999999,
            "bin_end": 1495.533,
            "count": 0
           },
           {
            "bin_start": 1495.533,
            "bin_end": 1661.59,
            "count": 1
           }
          ]
         }
        },
        {
         "name": "2.5um/dl",
         "dtype": "float64",
         "stats": {
          "unique_count": 3125,
          "nan_count": 0,
          "min": "0.0",
          "max": "240.19",
          "histogram": [
           {
            "bin_start": 0,
            "bin_end": 24.019,
            "count": 3036
           },
           {
            "bin_start": 24.019,
            "bin_end": 48.038,
            "count": 1390
           },
           {
            "bin_start": 48.038,
            "bin_end": 72.05699999999999,
            "count": 547
           },
           {
            "bin_start": 72.05699999999999,
            "bin_end": 96.076,
            "count": 44
           },
           {
            "bin_start": 96.076,
            "bin_end": 120.095,
            "count": 3
           },
           {
            "bin_start": 120.095,
            "bin_end": 144.11399999999998,
            "count": 1
           },
           {
            "bin_start": 144.11399999999998,
            "bin_end": 168.13299999999998,
            "count": 0
           },
           {
            "bin_start": 168.13299999999998,
            "bin_end": 192.152,
            "count": 0
           },
           {
            "bin_start": 192.152,
            "bin_end": 216.171,
            "count": 0
           },
           {
            "bin_start": 216.171,
            "bin_end": 240.19,
            "count": 1
           }
          ]
         }
        },
        {
         "name": "5.0um/dl",
         "dtype": "float64",
         "stats": {
          "unique_count": 1354,
          "nan_count": 0,
          "min": "0.0",
          "max": "63.17",
          "histogram": [
           {
            "bin_start": 0,
            "bin_end": 6.317,
            "count": 3574
           },
           {
            "bin_start": 6.317,
            "bin_end": 12.634,
            "count": 1074
           },
           {
            "bin_start": 12.634,
            "bin_end": 18.951,
            "count": 346
           },
           {
            "bin_start": 18.951,
            "bin_end": 25.268,
            "count": 25
           },
           {
            "bin_start": 25.268,
            "bin_end": 31.585,
            "count": 1
           },
           {
            "bin_start": 31.585,
            "bin_end": 37.902,
            "count": 1
           },
           {
            "bin_start": 37.902,
            "bin_end": 44.219,
            "count": 0
           },
           {
            "bin_start": 44.219,
            "bin_end": 50.536,
            "count": 0
           },
           {
            "bin_start": 50.536,
            "bin_end": 56.853,
            "count": 0
           },
           {
            "bin_start": 56.853,
            "bin_end": 63.17,
            "count": 1
           }
          ]
         }
        },
        {
         "name": "10.0um/dl",
         "dtype": "float64",
         "stats": {
          "unique_count": 463,
          "nan_count": 0,
          "min": "0.0",
          "max": "14.41",
          "histogram": [
           {
            "bin_start": 0,
            "bin_end": 1.441,
            "count": 3574
           },
           {
            "bin_start": 1.441,
            "bin_end": 2.882,
            "count": 1040
           },
           {
            "bin_start": 2.882,
            "bin_end": 4.323,
            "count": 340
           },
           {
            "bin_start": 4.323,
            "bin_end": 5.764,
            "count": 58
           },
           {
            "bin_start": 5.764,
            "bin_end": 7.205,
            "count": 8
           },
           {
            "bin_start": 7.205,
            "bin_end": 8.646,
            "count": 1
           },
           {
            "bin_start": 8.646,
            "bin_end": 10.087,
            "count": 0
           },
           {
            "bin_start": 10.087,
            "bin_end": 11.528,
            "count": 0
           },
           {
            "bin_start": 11.528,
            "bin_end": 12.969000000000001,
            "count": 0
           },
           {
            "bin_start": 12.969000000000001,
            "bin_end": 14.41,
            "count": 1
           }
          ]
         }
        },
        {
         "name": "PM1.0 (CF=ATM) ug/m3",
         "dtype": "float64",
         "stats": {
          "unique_count": 2379,
          "nan_count": 0,
          "min": "0.0",
          "max": "96.69",
          "histogram": [
           {
            "bin_start": 0,
            "bin_end": 9.669,
            "count": 765
           },
           {
            "bin_start": 9.669,
            "bin_end": 19.338,
            "count": 1371
           },
           {
            "bin_start": 19.338,
            "bin_end": 29.007,
            "count": 2284
           },
           {
            "bin_start": 29.007,
            "bin_end": 38.676,
            "count": 567
           },
           {
            "bin_start": 38.676,
            "bin_end": 48.345,
            "count": 27
           },
           {
            "bin_start": 48.345,
            "bin_end": 58.014,
            "count": 5
           },
           {
            "bin_start": 58.014,
            "bin_end": 67.683,
            "count": 2
           },
           {
            "bin_start": 67.683,
            "bin_end": 77.352,
            "count": 0
           },
           {
            "bin_start": 77.352,
            "bin_end": 87.021,
            "count": 0
           },
           {
            "bin_start": 87.021,
            "bin_end": 96.69,
            "count": 1
           }
          ]
         }
        },
        {
         "name": "PM10 (CF=ATM) ug/m3",
         "dtype": "float64",
         "stats": {
          "unique_count": 3451,
          "nan_count": 0,
          "min": "0.0",
          "max": "213.83",
          "histogram": [
           {
            "bin_start": 0,
            "bin_end": 21.383000000000003,
            "count": 1135
           },
           {
            "bin_start": 21.383000000000003,
            "bin_end": 42.766000000000005,
            "count": 1714
           },
           {
            "bin_start": 42.766000000000005,
            "bin_end": 64.149,
            "count": 1745
           },
           {
            "bin_start": 64.149,
            "bin_end": 85.53200000000001,
            "count": 406
           },
           {
            "bin_start": 85.53200000000001,
            "bin_end": 106.91500000000002,
            "count": 18
           },
           {
            "bin_start": 106.91500000000002,
            "bin_end": 128.298,
            "count": 3
           },
           {
            "bin_start": 128.298,
            "bin_end": 149.681,
            "count": 0
           },
           {
            "bin_start": 149.681,
            "bin_end": 171.06400000000002,
            "count": 0
           },
           {
            "bin_start": 171.06400000000002,
            "bin_end": 192.44700000000003,
            "count": 0
           },
           {
            "bin_start": 192.44700000000003,
            "bin_end": 213.83,
            "count": 1
           }
          ]
         }
        },
        {
         "name": "_deepnote_index_column",
         "dtype": "int64"
        }
       ],
       "rows_top": [
        {
         "created_at": "2021-12-02T00:01:51.000000",
         "0.3um/dl": 1569.1,
         "0.5um/dl": 435.24,
         "1.0um/dl": 56.34,
         "2.5um/dl": 2.76,
         "5.0um/dl": 0.46,
         "10.0um/dl": 0.42,
         "PM1.0 (CF=ATM) ug/m3": 7.59,
         "PM10 (CF=ATM) ug/m3": 10.97,
         "_deepnote_index_column": 820554
        },
        {
         "created_at": "2021-12-02T00:03:51.000000",
         "0.3um/dl": 1578.2,
         "0.5um/dl": 442.22,
         "1.0um/dl": 56.05,
         "2.5um/dl": 3.46,
         "5.0um/dl": 0.78,
         "10.0um/dl": 0,
         "PM1.0 (CF=ATM) ug/m3": 8.02,
         "PM10 (CF=ATM) ug/m3": 11.47,
         "_deepnote_index_column": 820555
        },
        {
         "created_at": "2021-12-02T00:05:51.000000",
         "0.3um/dl": 1563.21,
         "0.5um/dl": 433.67,
         "1.0um/dl": 55.23,
         "2.5um/dl": 3.44,
         "5.0um/dl": 0.91,
         "10.0um/dl": 0.56,
         "PM1.0 (CF=ATM) ug/m3": 7.16,
         "PM10 (CF=ATM) ug/m3": 10.79,
         "_deepnote_index_column": 820556
        },
        {
         "created_at": "2021-12-02T00:07:51.000000",
         "0.3um/dl": 1495.05,
         "0.5um/dl": 417.47,
         "1.0um/dl": 54.84,
         "2.5um/dl": 2.7,
         "5.0um/dl": 0.6,
         "10.0um/dl": 0.21,
         "PM1.0 (CF=ATM) ug/m3": 7.25,
         "PM10 (CF=ATM) ug/m3": 10,
         "_deepnote_index_column": 820557
        },
        {
         "created_at": "2021-12-02T00:09:51.000000",
         "0.3um/dl": 1488.9,
         "0.5um/dl": 405.18,
         "1.0um/dl": 51.58,
         "2.5um/dl": 5.3,
         "5.0um/dl": 1.5,
         "10.0um/dl": 0.43,
         "PM1.0 (CF=ATM) ug/m3": 7.28,
         "PM10 (CF=ATM) ug/m3": 11.17,
         "_deepnote_index_column": 820558
        },
        {
         "created_at": "2021-12-02T00:11:51.000000",
         "0.3um/dl": 1521.75,
         "0.5um/dl": 422.5,
         "1.0um/dl": 46.79,
         "2.5um/dl": 3.02,
         "5.0um/dl": 0.77,
         "10.0um/dl": 0.48,
         "PM1.0 (CF=ATM) ug/m3": 7.8,
         "PM10 (CF=ATM) ug/m3": 10.43,
         "_deepnote_index_column": 820559
        },
        {
         "created_at": "2021-12-02T00:13:51.000000",
         "0.3um/dl": 1460.37,
         "0.5um/dl": 408.12,
         "1.0um/dl": 52.7,
         "2.5um/dl": 4.16,
         "5.0um/dl": 0.32,
         "10.0um/dl": 0.19,
         "PM1.0 (CF=ATM) ug/m3": 7.32,
         "PM10 (CF=ATM) ug/m3": 10.07,
         "_deepnote_index_column": 820560
        },
        {
         "created_at": "2021-12-02T00:15:51.000000",
         "0.3um/dl": 1420.42,
         "0.5um/dl": 401.85,
         "1.0um/dl": 54.25,
         "2.5um/dl": 3.66,
         "5.0um/dl": 0.63,
         "10.0um/dl": 0.2,
         "PM1.0 (CF=ATM) ug/m3": 7.32,
         "PM10 (CF=ATM) ug/m3": 10.44,
         "_deepnote_index_column": 820561
        },
        {
         "created_at": "2021-12-02T00:17:51.000000",
         "0.3um/dl": 1344.47,
         "0.5um/dl": 367.93,
         "1.0um/dl": 45.14,
         "2.5um/dl": 3.07,
         "5.0um/dl": 0.55,
         "10.0um/dl": 0,
         "PM1.0 (CF=ATM) ug/m3": 6.47,
         "PM10 (CF=ATM) ug/m3": 9.22,
         "_deepnote_index_column": 820562
        },
        {
         "created_at": "2021-12-02T00:19:51.000000",
         "0.3um/dl": 1308.1,
         "0.5um/dl": 367.36,
         "1.0um/dl": 42.83,
         "2.5um/dl": 4.49,
         "5.0um/dl": 1.05,
         "10.0um/dl": 0.39,
         "PM1.0 (CF=ATM) ug/m3": 6.22,
         "PM10 (CF=ATM) ug/m3": 9.34,
         "_deepnote_index_column": 820563
        },
        {
         "created_at": "2021-12-02T00:21:51.000000",
         "0.3um/dl": 1369.29,
         "0.5um/dl": 384.7,
         "1.0um/dl": 52.86,
         "2.5um/dl": 3.62,
         "5.0um/dl": 0.91,
         "10.0um/dl": 0.18,
         "PM1.0 (CF=ATM) ug/m3": 6.84,
         "PM10 (CF=ATM) ug/m3": 9.95,
         "_deepnote_index_column": 820564
        },
        {
         "created_at": "2021-12-02T00:23:51.000000",
         "0.3um/dl": 1416.05,
         "0.5um/dl": 392.88,
         "1.0um/dl": 54.24,
         "2.5um/dl": 1.78,
         "5.0um/dl": 0.43,
         "10.0um/dl": 0.24,
         "PM1.0 (CF=ATM) ug/m3": 7.07,
         "PM10 (CF=ATM) ug/m3": 9.74,
         "_deepnote_index_column": 820565
        },
        {
         "created_at": "2021-12-02T00:25:51.000000",
         "0.3um/dl": 1368.2,
         "0.5um/dl": 387.27,
         "1.0um/dl": 40,
         "2.5um/dl": 2.86,
         "5.0um/dl": 0.25,
         "10.0um/dl": 0,
         "PM1.0 (CF=ATM) ug/m3": 6.71,
         "PM10 (CF=ATM) ug/m3": 9.44,
         "_deepnote_index_column": 820566
        },
        {
         "created_at": "2021-12-02T00:27:51.000000",
         "0.3um/dl": 1354.02,
         "0.5um/dl": 377.39,
         "1.0um/dl": 45.53,
         "2.5um/dl": 5.58,
         "5.0um/dl": 1.64,
         "10.0um/dl": 0.44,
         "PM1.0 (CF=ATM) ug/m3": 6.42,
         "PM10 (CF=ATM) ug/m3": 10.24,
         "_deepnote_index_column": 820567
        },
        {
         "created_at": "2021-12-02T00:29:51.000000",
         "0.3um/dl": 1405.09,
         "0.5um/dl": 391.53,
         "1.0um/dl": 50.85,
         "2.5um/dl": 2.24,
         "5.0um/dl": 0.85,
         "10.0um/dl": 0.18,
         "PM1.0 (CF=ATM) ug/m3": 7.05,
         "PM10 (CF=ATM) ug/m3": 9.95,
         "_deepnote_index_column": 820568
        },
        {
         "created_at": "2021-12-02T00:31:51.000000",
         "0.3um/dl": 1352.38,
         "0.5um/dl": 375.03,
         "1.0um/dl": 39.74,
         "2.5um/dl": 3.97,
         "5.0um/dl": 0.98,
         "10.0um/dl": 0,
         "PM1.0 (CF=ATM) ug/m3": 6.6,
         "PM10 (CF=ATM) ug/m3": 9.21,
         "_deepnote_index_column": 820569
        },
        {
         "created_at": "2021-12-02T00:33:51.000000",
         "0.3um/dl": 1331.85,
         "0.5um/dl": 363.38,
         "1.0um/dl": 45.45,
         "2.5um/dl": 2.13,
         "5.0um/dl": 0.4,
         "10.0um/dl": 0.23,
         "PM1.0 (CF=ATM) ug/m3": 6.15,
         "PM10 (CF=ATM) ug/m3": 8.58,
         "_deepnote_index_column": 820570
        },
        {
         "created_at": "2021-12-02T00:35:51.000000",
         "0.3um/dl": 1374.41,
         "0.5um/dl": 385.79,
         "1.0um/dl": 40.93,
         "2.5um/dl": 1.66,
         "5.0um/dl": 0.41,
         "10.0um/dl": 0.24,
         "PM1.0 (CF=ATM) ug/m3": 6.93,
         "PM10 (CF=ATM) ug/m3": 8.97,
         "_deepnote_index_column": 820571
        },
        {
         "created_at": "2021-12-02T00:37:51.000000",
         "0.3um/dl": 1340.2,
         "0.5um/dl": 381.05,
         "1.0um/dl": 42.71,
         "2.5um/dl": 4.3,
         "5.0um/dl": 1.41,
         "10.0um/dl": 0.23,
         "PM1.0 (CF=ATM) ug/m3": 6.73,
         "PM10 (CF=ATM) ug/m3": 9.82,
         "_deepnote_index_column": 820572
        },
        {
         "created_at": "2021-12-02T00:39:51.000000",
         "0.3um/dl": 1424.58,
         "0.5um/dl": 404.68,
         "1.0um/dl": 52.33,
         "2.5um/dl": 3.04,
         "5.0um/dl": 0.51,
         "10.0um/dl": 0.26,
         "PM1.0 (CF=ATM) ug/m3": 7.37,
         "PM10 (CF=ATM) ug/m3": 10.21,
         "_deepnote_index_column": 820573
        },
        {
         "created_at": "2021-12-02T00:41:51.000000",
         "0.3um/dl": 1530.31,
         "0.5um/dl": 423.53,
         "1.0um/dl": 47.46,
         "2.5um/dl": 2.31,
         "5.0um/dl": 0.71,
         "10.0um/dl": 0.25,
         "PM1.0 (CF=ATM) ug/m3": 7.39,
         "PM10 (CF=ATM) ug/m3": 10.39,
         "_deepnote_index_column": 820574
        },
        {
         "created_at": "2021-12-02T00:43:51.000000",
         "0.3um/dl": 1450.53,
         "0.5um/dl": 411.36,
         "1.0um/dl": 52.46,
         "2.5um/dl": 4.59,
         "5.0um/dl": 0.95,
         "10.0um/dl": 0.36,
         "PM1.0 (CF=ATM) ug/m3": 6.98,
         "PM10 (CF=ATM) ug/m3": 10.59,
         "_deepnote_index_column": 820575
        },
        {
         "created_at": "2021-12-02T00:45:51.000000",
         "0.3um/dl": 1472.79,
         "0.5um/dl": 407.45,
         "1.0um/dl": 52.57,
         "2.5um/dl": 3.11,
         "5.0um/dl": 0,
         "10.0um/dl": 0,
         "PM1.0 (CF=ATM) ug/m3": 7.16,
         "PM10 (CF=ATM) ug/m3": 10.38,
         "_deepnote_index_column": 820576
        },
        {
         "created_at": "2021-12-02T00:47:51.000000",
         "0.3um/dl": 1486.02,
         "0.5um/dl": 411.04,
         "1.0um/dl": 52.11,
         "2.5um/dl": 3.61,
         "5.0um/dl": 0.21,
         "10.0um/dl": 0,
         "PM1.0 (CF=ATM) ug/m3": 7.25,
         "PM10 (CF=ATM) ug/m3": 10.27,
         "_deepnote_index_column": 820577
        },
        {
         "created_at": "2021-12-02T00:49:51.000000",
         "0.3um/dl": 1537.12,
         "0.5um/dl": 423.37,
         "1.0um/dl": 53.54,
         "2.5um/dl": 5.24,
         "5.0um/dl": 1.36,
         "10.0um/dl": 0,
         "PM1.0 (CF=ATM) ug/m3": 7.41,
         "PM10 (CF=ATM) ug/m3": 11.44,
         "_deepnote_index_column": 820578
        },
        {
         "created_at": "2021-12-02T00:51:51.000000",
         "0.3um/dl": 1649.9,
         "0.5um/dl": 468.66,
         "1.0um/dl": 56.9,
         "2.5um/dl": 2.95,
         "5.0um/dl": 0.4,
         "10.0um/dl": 0.24,
         "PM1.0 (CF=ATM) ug/m3": 8.88,
         "PM10 (CF=ATM) ug/m3": 12.07,
         "_deepnote_index_column": 820579
        },
        {
         "created_at": "2021-12-02T00:53:51.000000",
         "0.3um/dl": 1520.89,
         "0.5um/dl": 425.5,
         "1.0um/dl": 55.09,
         "2.5um/dl": 3.46,
         "5.0um/dl": 1.07,
         "10.0um/dl": 0.21,
         "PM1.0 (CF=ATM) ug/m3": 7.55,
         "PM10 (CF=ATM) ug/m3": 10.8,
         "_deepnote_index_column": 820580
        },
        {
         "created_at": "2021-12-02T00:55:51.000000",
         "0.3um/dl": 1631.13,
         "0.5um/dl": 454.85,
         "1.0um/dl": 61,
         "2.5um/dl": 4.4,
         "5.0um/dl": 0.78,
         "10.0um/dl": 0,
         "PM1.0 (CF=ATM) ug/m3": 8.22,
         "PM10 (CF=ATM) ug/m3": 12.04,
         "_deepnote_index_column": 820581
        },
        {
         "created_at": "2021-12-02T00:57:51.000000",
         "0.3um/dl": 1546.5,
         "0.5um/dl": 429.1,
         "1.0um/dl": 53.58,
         "2.5um/dl": 4.62,
         "5.0um/dl": 0.88,
         "10.0um/dl": 0.1,
         "PM1.0 (CF=ATM) ug/m3": 7.58,
         "PM10 (CF=ATM) ug/m3": 11.1,
         "_deepnote_index_column": 820582
        },
        {
         "created_at": "2021-12-02T00:59:51.000000",
         "0.3um/dl": 1474.27,
         "0.5um/dl": 418.07,
         "1.0um/dl": 54,
         "2.5um/dl": 3.66,
         "5.0um/dl": 0.53,
         "10.0um/dl": 0.08,
         "PM1.0 (CF=ATM) ug/m3": 7.49,
         "PM10 (CF=ATM) ug/m3": 10.47,
         "_deepnote_index_column": 820583
        },
        {
         "created_at": "2021-12-02T01:01:51.000000",
         "0.3um/dl": 1581.31,
         "0.5um/dl": 442.48,
         "1.0um/dl": 57.24,
         "2.5um/dl": 4.33,
         "5.0um/dl": 0.6,
         "10.0um/dl": 0,
         "PM1.0 (CF=ATM) ug/m3": 8,
         "PM10 (CF=ATM) ug/m3": 11.6,
         "_deepnote_index_column": 820584
        },
        {
         "created_at": "2021-12-02T01:03:51.000000",
         "0.3um/dl": 1616.73,
         "0.5um/dl": 450.69,
         "1.0um/dl": 57.25,
         "2.5um/dl": 5.31,
         "5.0um/dl": 1.47,
         "10.0um/dl": 0.67,
         "PM1.0 (CF=ATM) ug/m3": 8.38,
         "PM10 (CF=ATM) ug/m3": 12.22,
         "_deepnote_index_column": 820585
        },
        {
         "created_at": "2021-12-02T01:05:51.000000",
         "0.3um/dl": 1603.26,
         "0.5um/dl": 443.74,
         "1.0um/dl": 53.25,
         "2.5um/dl": 4.89,
         "5.0um/dl": 1.23,
         "10.0um/dl": 0.23,
         "PM1.0 (CF=ATM) ug/m3": 7.96,
         "PM10 (CF=ATM) ug/m3": 11.89,
         "_deepnote_index_column": 820586
        },
        {
         "created_at": "2021-12-02T01:07:52.000000",
         "0.3um/dl": 1690.81,
         "0.5um/dl": 475.26,
         "1.0um/dl": 60.64,
         "2.5um/dl": 5.76,
         "5.0um/dl": 0.84,
         "10.0um/dl": 0.22,
         "PM1.0 (CF=ATM) ug/m3": 8.53,
         "PM10 (CF=ATM) ug/m3": 12.53,
         "_deepnote_index_column": 820587
        },
        {
         "created_at": "2021-12-02T01:09:52.000000",
         "0.3um/dl": 1621.04,
         "0.5um/dl": 456.6,
         "1.0um/dl": 62.25,
         "2.5um/dl": 4.75,
         "5.0um/dl": 0.82,
         "10.0um/dl": 0.49,
         "PM1.0 (CF=ATM) ug/m3": 8.35,
         "PM10 (CF=ATM) ug/m3": 12.31,
         "_deepnote_index_column": 820588
        },
        {
         "created_at": "2021-12-02T01:11:52.000000",
         "0.3um/dl": 1576.78,
         "0.5um/dl": 434.86,
         "1.0um/dl": 57.07,
         "2.5um/dl": 4.44,
         "5.0um/dl": 0.58,
         "10.0um/dl": 0,
         "PM1.0 (CF=ATM) ug/m3": 7.8,
         "PM10 (CF=ATM) ug/m3": 11.17,
         "_deepnote_index_column": 820589
        },
        {
         "created_at": "2021-12-02T01:13:52.000000",
         "0.3um/dl": 1455.56,
         "0.5um/dl": 412.56,
         "1.0um/dl": 55.32,
         "2.5um/dl": 3.98,
         "5.0um/dl": 1.61,
         "10.0um/dl": 0.22,
         "PM1.0 (CF=ATM) ug/m3": 7.61,
         "PM10 (CF=ATM) ug/m3": 10.97,
         "_deepnote_index_column": 820590
        },
        {
         "created_at": "2021-12-02T01:15:52.000000",
         "0.3um/dl": 1515.27,
         "0.5um/dl": 416.82,
         "1.0um/dl": 61,
         "2.5um/dl": 3.91,
         "5.0um/dl": 0.46,
         "10.0um/dl": 0.12,
         "PM1.0 (CF=ATM) ug/m3": 7.52,
         "PM10 (CF=ATM) ug/m3": 10.96,
         "_deepnote_index_column": 820591
        },
        {
         "created_at": "2021-12-02T01:17:52.000000",
         "0.3um/dl": 1489.68,
         "0.5um/dl": 415.75,
         "1.0um/dl": 52.74,
         "2.5um/dl": 2.82,
         "5.0um/dl": 0.23,
         "10.0um/dl": 0.05,
         "PM1.0 (CF=ATM) ug/m3": 7.46,
         "PM10 (CF=ATM) ug/m3": 10.11,
         "_deepnote_index_column": 820592
        },
        {
         "created_at": "2021-12-02T01:19:52.000000",
         "0.3um/dl": 1623.52,
         "0.5um/dl": 442.05,
         "1.0um/dl": 54.12,
         "2.5um/dl": 2.41,
         "5.0um/dl": 0.17,
         "10.0um/dl": 0,
         "PM1.0 (CF=ATM) ug/m3": 8.12,
         "PM10 (CF=ATM) ug/m3": 10.66,
         "_deepnote_index_column": 820593
        },
        {
         "created_at": "2021-12-02T01:21:52.000000",
         "0.3um/dl": 1432.68,
         "0.5um/dl": 396.51,
         "1.0um/dl": 46.17,
         "2.5um/dl": 1.76,
         "5.0um/dl": 0.66,
         "10.0um/dl": 0,
         "PM1.0 (CF=ATM) ug/m3": 7,
         "PM10 (CF=ATM) ug/m3": 9.61,
         "_deepnote_index_column": 820594
        },
        {
         "created_at": "2021-12-02T01:23:52.000000",
         "0.3um/dl": 1458.58,
         "0.5um/dl": 413.72,
         "1.0um/dl": 65.04,
         "2.5um/dl": 3.93,
         "5.0um/dl": 1.02,
         "10.0um/dl": 0,
         "PM1.0 (CF=ATM) ug/m3": 7.3,
         "PM10 (CF=ATM) ug/m3": 11.32,
         "_deepnote_index_column": 820595
        },
        {
         "created_at": "2021-12-02T01:25:52.000000",
         "0.3um/dl": 1529.2,
         "0.5um/dl": 424.82,
         "1.0um/dl": 61.55,
         "2.5um/dl": 2.93,
         "5.0um/dl": 0.98,
         "10.0um/dl": 0.48,
         "PM1.0 (CF=ATM) ug/m3": 7.57,
         "PM10 (CF=ATM) ug/m3": 11.27,
         "_deepnote_index_column": 820596
        },
        {
         "created_at": "2021-12-02T01:27:52.000000",
         "0.3um/dl": 1381.84,
         "0.5um/dl": 380.74,
         "1.0um/dl": 47.26,
         "2.5um/dl": 2.84,
         "5.0um/dl": 0.63,
         "10.0um/dl": 0.16,
         "PM1.0 (CF=ATM) ug/m3": 6.6,
         "PM10 (CF=ATM) ug/m3": 9.6,
         "_deepnote_index_column": 820597
        },
        {
         "created_at": "2021-12-02T01:29:52.000000",
         "0.3um/dl": 1425.88,
         "0.5um/dl": 395.52,
         "1.0um/dl": 55.33,
         "2.5um/dl": 2.03,
         "5.0um/dl": 0.24,
         "10.0um/dl": 0,
         "PM1.0 (CF=ATM) ug/m3": 7.53,
         "PM10 (CF=ATM) ug/m3": 9.91,
         "_deepnote_index_column": 820598
        },
        {
         "created_at": "2021-12-02T01:31:52.000000",
         "0.3um/dl": 1570.09,
         "0.5um/dl": 439.91,
         "1.0um/dl": 69.22,
         "2.5um/dl": 4.43,
         "5.0um/dl": 0.67,
         "10.0um/dl": 0.17,
         "PM1.0 (CF=ATM) ug/m3": 7.81,
         "PM10 (CF=ATM) ug/m3": 12.19,
         "_deepnote_index_column": 820599
        },
        {
         "created_at": "2021-12-02T01:33:52.000000",
         "0.3um/dl": 1507.42,
         "0.5um/dl": 429.54,
         "1.0um/dl": 58.68,
         "2.5um/dl": 3.75,
         "5.0um/dl": 0.44,
         "10.0um/dl": 0,
         "PM1.0 (CF=ATM) ug/m3": 7.7,
         "PM10 (CF=ATM) ug/m3": 11.26,
         "_deepnote_index_column": 820600
        },
        {
         "created_at": "2021-12-02T01:35:52.000000",
         "0.3um/dl": 1549.76,
         "0.5um/dl": 424.26,
         "1.0um/dl": 50.41,
         "2.5um/dl": 1.95,
         "5.0um/dl": 0.29,
         "10.0um/dl": 0,
         "PM1.0 (CF=ATM) ug/m3": 7.81,
         "PM10 (CF=ATM) ug/m3": 10.14,
         "_deepnote_index_column": 820601
        },
        {
         "created_at": "2021-12-02T01:37:52.000000",
         "0.3um/dl": 1612.68,
         "0.5um/dl": 452.32,
         "1.0um/dl": 55.97,
         "2.5um/dl": 5.63,
         "5.0um/dl": 0.93,
         "10.0um/dl": 0.15,
         "PM1.0 (CF=ATM) ug/m3": 7.97,
         "PM10 (CF=ATM) ug/m3": 11.88,
         "_deepnote_index_column": 820602
        },
        {
         "created_at": "2021-12-02T01:39:52.000000",
         "0.3um/dl": 1445.75,
         "0.5um/dl": 402.32,
         "1.0um/dl": 50.51,
         "2.5um/dl": 2.95,
         "5.0um/dl": 0.08,
         "10.0um/dl": 0.08,
         "PM1.0 (CF=ATM) ug/m3": 7.25,
         "PM10 (CF=ATM) ug/m3": 9.73,
         "_deepnote_index_column": 820603
        },
        {
         "created_at": "2021-12-02T01:41:52.000000",
         "0.3um/dl": 1441.8,
         "0.5um/dl": 398.29,
         "1.0um/dl": 49.56,
         "2.5um/dl": 2.85,
         "5.0um/dl": 0.89,
         "10.0um/dl": 0,
         "PM1.0 (CF=ATM) ug/m3": 6.98,
         "PM10 (CF=ATM) ug/m3": 10.13,
         "_deepnote_index_column": 820604
        },
        {
         "created_at": "2021-12-02T01:43:52.000000",
         "0.3um/dl": 1398.75,
         "0.5um/dl": 394.54,
         "1.0um/dl": 52.57,
         "2.5um/dl": 3.77,
         "5.0um/dl": 1.02,
         "10.0um/dl": 0.39,
         "PM1.0 (CF=ATM) ug/m3": 6.86,
         "PM10 (CF=ATM) ug/m3": 10.57,
         "_deepnote_index_column": 820605
        },
        {
         "created_at": "2021-12-02T01:45:52.000000",
         "0.3um/dl": 1370.53,
         "0.5um/dl": 385.1,
         "1.0um/dl": 52.45,
         "2.5um/dl": 4.12,
         "5.0um/dl": 0.38,
         "10.0um/dl": 0.21,
         "PM1.0 (CF=ATM) ug/m3": 6.86,
         "PM10 (CF=ATM) ug/m3": 9.97,
         "_deepnote_index_column": 820606
        },
        {
         "created_at": "2021-12-02T01:47:52.000000",
         "0.3um/dl": 1498.91,
         "0.5um/dl": 413.29,
         "1.0um/dl": 55.93,
         "2.5um/dl": 4.4,
         "5.0um/dl": 1.59,
         "10.0um/dl": 0.07,
         "PM1.0 (CF=ATM) ug/m3": 7.55,
         "PM10 (CF=ATM) ug/m3": 11.28,
         "_deepnote_index_column": 820607
        },
        {
         "created_at": "2021-12-02T01:49:52.000000",
         "0.3um/dl": 1459.74,
         "0.5um/dl": 407.18,
         "1.0um/dl": 46.75,
         "2.5um/dl": 2.79,
         "5.0um/dl": 1.18,
         "10.0um/dl": 0.3,
         "PM1.0 (CF=ATM) ug/m3": 7.3,
         "PM10 (CF=ATM) ug/m3": 10.14,
         "_deepnote_index_column": 820608
        }
       ],
       "rows_bottom": [
        {
         "created_at": "2021-12-08T22:09:27.000000",
         "0.3um/dl": 2463,
         "0.5um/dl": 651.32,
         "1.0um/dl": 93.07,
         "2.5um/dl": 22.2,
         "5.0um/dl": 8.07,
         "10.0um/dl": 2.71,
         "PM1.0 (CF=ATM) ug/m3": 11.73,
         "PM10 (CF=ATM) ug/m3": 26.62,
         "_deepnote_index_column": 825520
        },
        {
         "created_at": "2021-12-08T22:11:27.000000",
         "0.3um/dl": 2404.63,
         "0.5um/dl": 658.61,
         "1.0um/dl": 83.14,
         "2.5um/dl": 12.42,
         "5.0um/dl": 6.12,
         "10.0um/dl": 2.28,
         "PM1.0 (CF=ATM) ug/m3": 12.86,
         "PM10 (CF=ATM) ug/m3": 23.11,
         "_deepnote_index_column": 825521
        },
        {
         "created_at": "2021-12-08T22:13:26.000000",
         "0.3um/dl": 2381.64,
         "0.5um/dl": 622.46,
         "1.0um/dl": 65.61,
         "2.5um/dl": 14.71,
         "5.0um/dl": 5.81,
         "10.0um/dl": 1.08,
         "PM1.0 (CF=ATM) ug/m3": 11.29,
         "PM10 (CF=ATM) ug/m3": 21.1,
         "_deepnote_index_column": 825522
        },
        {
         "created_at": "2021-12-08T22:15:27.000000",
         "0.3um/dl": 890.85,
         "0.5um/dl": 238.68,
         "1.0um/dl": 38.83,
         "2.5um/dl": 8.25,
         "5.0um/dl": 3.68,
         "10.0um/dl": 1.1,
         "PM1.0 (CF=ATM) ug/m3": 3.37,
         "PM10 (CF=ATM) ug/m3": 8.97,
         "_deepnote_index_column": 825523
        },
        {
         "created_at": "2021-12-08T22:17:27.000000",
         "0.3um/dl": 554.43,
         "0.5um/dl": 158.21,
         "1.0um/dl": 28.31,
         "2.5um/dl": 4.72,
         "5.0um/dl": 1.53,
         "10.0um/dl": 0.93,
         "PM1.0 (CF=ATM) ug/m3": 2.26,
         "PM10 (CF=ATM) ug/m3": 5.45,
         "_deepnote_index_column": 825524
        },
        {
         "created_at": "2021-12-08T22:19:27.000000",
         "0.3um/dl": 792.16,
         "0.5um/dl": 224.38,
         "1.0um/dl": 39.71,
         "2.5um/dl": 6.21,
         "5.0um/dl": 1.21,
         "10.0um/dl": 1.02,
         "PM1.0 (CF=ATM) ug/m3": 3.64,
         "PM10 (CF=ATM) ug/m3": 8.07,
         "_deepnote_index_column": 825525
        },
        {
         "created_at": "2021-12-08T22:21:27.000000",
         "0.3um/dl": 1503.05,
         "0.5um/dl": 405.97,
         "1.0um/dl": 48.22,
         "2.5um/dl": 5.55,
         "5.0um/dl": 1.84,
         "10.0um/dl": 0.55,
         "PM1.0 (CF=ATM) ug/m3": 7.59,
         "PM10 (CF=ATM) ug/m3": 12.45,
         "_deepnote_index_column": 825526
        },
        {
         "created_at": "2021-12-08T22:23:27.000000",
         "0.3um/dl": 1105.7,
         "0.5um/dl": 307.6,
         "1.0um/dl": 32.92,
         "2.5um/dl": 1.87,
         "5.0um/dl": 0.82,
         "10.0um/dl": 0.18,
         "PM1.0 (CF=ATM) ug/m3": 5.1,
         "PM10 (CF=ATM) ug/m3": 7.67,
         "_deepnote_index_column": 825527
        },
        {
         "created_at": "2021-12-08T22:25:27.000000",
         "0.3um/dl": 745.19,
         "0.5um/dl": 208.93,
         "1.0um/dl": 25.88,
         "2.5um/dl": 1.03,
         "5.0um/dl": 0.43,
         "10.0um/dl": 0.17,
         "PM1.0 (CF=ATM) ug/m3": 3.19,
         "PM10 (CF=ATM) ug/m3": 4.95,
         "_deepnote_index_column": 825528
        },
        {
         "created_at": "2021-12-08T22:27:27.000000",
         "0.3um/dl": 778.82,
         "0.5um/dl": 214.41,
         "1.0um/dl": 34.77,
         "2.5um/dl": 3.55,
         "5.0um/dl": 1.14,
         "10.0um/dl": 0.23,
         "PM1.0 (CF=ATM) ug/m3": 3.34,
         "PM10 (CF=ATM) ug/m3": 6.21,
         "_deepnote_index_column": 825529
        },
        {
         "created_at": "2021-12-08T22:29:27.000000",
         "0.3um/dl": 1669.4,
         "0.5um/dl": 454.07,
         "1.0um/dl": 60.12,
         "2.5um/dl": 6.6,
         "5.0um/dl": 2.6,
         "10.0um/dl": 1.02,
         "PM1.0 (CF=ATM) ug/m3": 9.03,
         "PM10 (CF=ATM) ug/m3": 14.28,
         "_deepnote_index_column": 825530
        },
        {
         "created_at": "2021-12-08T22:31:27.000000",
         "0.3um/dl": 1384.47,
         "0.5um/dl": 378.32,
         "1.0um/dl": 52.51,
         "2.5um/dl": 4.1,
         "5.0um/dl": 1.19,
         "10.0um/dl": 0.64,
         "PM1.0 (CF=ATM) ug/m3": 6.92,
         "PM10 (CF=ATM) ug/m3": 11.32,
         "_deepnote_index_column": 825531
        },
        {
         "created_at": "2021-12-08T22:33:27.000000",
         "0.3um/dl": 2988.72,
         "0.5um/dl": 780.62,
         "1.0um/dl": 59.78,
         "2.5um/dl": 8.22,
         "5.0um/dl": 2.53,
         "10.0um/dl": 1.17,
         "PM1.0 (CF=ATM) ug/m3": 14.1,
         "PM10 (CF=ATM) ug/m3": 20.48,
         "_deepnote_index_column": 825532
        },
        {
         "created_at": "2021-12-08T22:35:27.000000",
         "0.3um/dl": 1645.07,
         "0.5um/dl": 460.66,
         "1.0um/dl": 63.04,
         "2.5um/dl": 7.8,
         "5.0um/dl": 2.96,
         "10.0um/dl": 1.3,
         "PM1.0 (CF=ATM) ug/m3": 9.18,
         "PM10 (CF=ATM) ug/m3": 15.95,
         "_deepnote_index_column": 825533
        },
        {
         "created_at": "2021-12-08T22:37:27.000000",
         "0.3um/dl": 1083,
         "0.5um/dl": 304.46,
         "1.0um/dl": 53.89,
         "2.5um/dl": 11.54,
         "5.0um/dl": 3.14,
         "10.0um/dl": 1.36,
         "PM1.0 (CF=ATM) ug/m3": 5,
         "PM10 (CF=ATM) ug/m3": 12.16,
         "_deepnote_index_column": 825534
        },
        {
         "created_at": "2021-12-08T22:39:27.000000",
         "0.3um/dl": 1819.88,
         "0.5um/dl": 494.93,
         "1.0um/dl": 55.71,
         "2.5um/dl": 11.25,
         "5.0um/dl": 4.14,
         "10.0um/dl": 0.93,
         "PM1.0 (CF=ATM) ug/m3": 8.42,
         "PM10 (CF=ATM) ug/m3": 16.1,
         "_deepnote_index_column": 825535
        },
        {
         "created_at": "2021-12-08T22:41:27.000000",
         "0.3um/dl": 1903.6,
         "0.5um/dl": 522,
         "1.0um/dl": 58.12,
         "2.5um/dl": 11.12,
         "5.0um/dl": 4.33,
         "10.0um/dl": 0.97,
         "PM1.0 (CF=ATM) ug/m3": 8.88,
         "PM10 (CF=ATM) ug/m3": 17.16,
         "_deepnote_index_column": 825536
        },
        {
         "created_at": "2021-12-08T22:43:27.000000",
         "0.3um/dl": 3625.47,
         "0.5um/dl": 865.78,
         "1.0um/dl": 89.02,
         "2.5um/dl": 16.2,
         "5.0um/dl": 5.31,
         "10.0um/dl": 1.45,
         "PM1.0 (CF=ATM) ug/m3": 14.95,
         "PM10 (CF=ATM) ug/m3": 27.25,
         "_deepnote_index_column": 825537
        },
        {
         "created_at": "2021-12-08T22:45:27.000000",
         "0.3um/dl": 5160.93,
         "0.5um/dl": 1256.95,
         "1.0um/dl": 74.2,
         "2.5um/dl": 11.87,
         "5.0um/dl": 3.78,
         "10.0um/dl": 0.73,
         "PM1.0 (CF=ATM) ug/m3": 21.25,
         "PM10 (CF=ATM) ug/m3": 31.93,
         "_deepnote_index_column": 825538
        },
        {
         "created_at": "2021-12-08T22:47:27.000000",
         "0.3um/dl": 3783.95,
         "0.5um/dl": 938.72,
         "1.0um/dl": 119.07,
         "2.5um/dl": 24.67,
         "5.0um/dl": 9.02,
         "10.0um/dl": 3.28,
         "PM1.0 (CF=ATM) ug/m3": 16.89,
         "PM10 (CF=ATM) ug/m3": 34.25,
         "_deepnote_index_column": 825539
        },
        {
         "created_at": "2021-12-08T22:49:27.000000",
         "0.3um/dl": 5207.35,
         "0.5um/dl": 1372.42,
         "1.0um/dl": 226.51,
         "2.5um/dl": 30.44,
         "5.0um/dl": 8.78,
         "10.0um/dl": 2.45,
         "PM1.0 (CF=ATM) ug/m3": 25.22,
         "PM10 (CF=ATM) ug/m3": 49.31,
         "_deepnote_index_column": 825540
        },
        {
         "created_at": "2021-12-08T22:51:27.000000",
         "0.3um/dl": 4156.84,
         "0.5um/dl": 931.47,
         "1.0um/dl": 38.44,
         "2.5um/dl": 2.84,
         "5.0um/dl": 0.68,
         "10.0um/dl": 0.51,
         "PM1.0 (CF=ATM) ug/m3": 17.11,
         "PM10 (CF=ATM) ug/m3": 20.05,
         "_deepnote_index_column": 825541
        },
        {
         "created_at": "2021-12-08T22:53:27.000000",
         "0.3um/dl": 3745.95,
         "0.5um/dl": 954.07,
         "1.0um/dl": 21.25,
         "2.5um/dl": 0.63,
         "5.0um/dl": 0.37,
         "10.0um/dl": 0.37,
         "PM1.0 (CF=ATM) ug/m3": 16.39,
         "PM10 (CF=ATM) ug/m3": 18.07,
         "_deepnote_index_column": 825542
        },
        {
         "created_at": "2021-12-08T22:55:26.000000",
         "0.3um/dl": 1067.95,
         "0.5um/dl": 287.02,
         "1.0um/dl": 31.33,
         "2.5um/dl": 1.93,
         "5.0um/dl": 0.25,
         "10.0um/dl": 0.05,
         "PM1.0 (CF=ATM) ug/m3": 4.86,
         "PM10 (CF=ATM) ug/m3": 7.09,
         "_deepnote_index_column": 825543
        },
        {
         "created_at": "2021-12-08T22:57:27.000000",
         "0.3um/dl": 976.12,
         "0.5um/dl": 269.27,
         "1.0um/dl": 25.8,
         "2.5um/dl": 0.24,
         "5.0um/dl": 0.24,
         "10.0um/dl": 0,
         "PM1.0 (CF=ATM) ug/m3": 4.54,
         "PM10 (CF=ATM) ug/m3": 6.14,
         "_deepnote_index_column": 825544
        },
        {
         "created_at": "2021-12-08T22:59:27.000000",
         "0.3um/dl": 915.05,
         "0.5um/dl": 247.19,
         "1.0um/dl": 25.95,
         "2.5um/dl": 1.49,
         "5.0um/dl": 0,
         "10.0um/dl": 0,
         "PM1.0 (CF=ATM) ug/m3": 4.39,
         "PM10 (CF=ATM) ug/m3": 5.79,
         "_deepnote_index_column": 825545
        },
        {
         "created_at": "2021-12-08T23:01:27.000000",
         "0.3um/dl": 1111.16,
         "0.5um/dl": 305.84,
         "1.0um/dl": 31.28,
         "2.5um/dl": 2.49,
         "5.0um/dl": 0.39,
         "10.0um/dl": 0,
         "PM1.0 (CF=ATM) ug/m3": 5.79,
         "PM10 (CF=ATM) ug/m3": 7.7,
         "_deepnote_index_column": 825546
        },
        {
         "created_at": "2021-12-08T23:03:27.000000",
         "0.3um/dl": 1338.93,
         "0.5um/dl": 366.26,
         "1.0um/dl": 40.22,
         "2.5um/dl": 2.17,
         "5.0um/dl": 0.81,
         "10.0um/dl": 0,
         "PM1.0 (CF=ATM) ug/m3": 6.78,
         "PM10 (CF=ATM) ug/m3": 9.76,
         "_deepnote_index_column": 825547
        },
        {
         "created_at": "2021-12-08T23:05:27.000000",
         "0.3um/dl": 1385.85,
         "0.5um/dl": 379.07,
         "1.0um/dl": 37.68,
         "2.5um/dl": 3.27,
         "5.0um/dl": 1.15,
         "10.0um/dl": 0.17,
         "PM1.0 (CF=ATM) ug/m3": 7.32,
         "PM10 (CF=ATM) ug/m3": 10.58,
         "_deepnote_index_column": 825548
        },
        {
         "created_at": "2021-12-08T23:07:27.000000",
         "0.3um/dl": 1095.8,
         "0.5um/dl": 296.47,
         "1.0um/dl": 36.73,
         "2.5um/dl": 4.08,
         "5.0um/dl": 1.85,
         "10.0um/dl": 1.27,
         "PM1.0 (CF=ATM) ug/m3": 5.42,
         "PM10 (CF=ATM) ug/m3": 9.23,
         "_deepnote_index_column": 825549
        },
        {
         "created_at": "2021-12-08T23:09:27.000000",
         "0.3um/dl": 974.39,
         "0.5um/dl": 269.41,
         "1.0um/dl": 31.17,
         "2.5um/dl": 2.85,
         "5.0um/dl": 0.44,
         "10.0um/dl": 0,
         "PM1.0 (CF=ATM) ug/m3": 4.39,
         "PM10 (CF=ATM) ug/m3": 7.03,
         "_deepnote_index_column": 825550
        },
        {
         "created_at": "2021-12-08T23:11:27.000000",
         "0.3um/dl": 805.22,
         "0.5um/dl": 223.83,
         "1.0um/dl": 32.27,
         "2.5um/dl": 4.88,
         "5.0um/dl": 1.02,
         "10.0um/dl": 0.17,
         "PM1.0 (CF=ATM) ug/m3": 3.54,
         "PM10 (CF=ATM) ug/m3": 6.76,
         "_deepnote_index_column": 825551
        },
        {
         "created_at": "2021-12-08T23:13:27.000000",
         "0.3um/dl": 853.4,
         "0.5um/dl": 243.03,
         "1.0um/dl": 52.76,
         "2.5um/dl": 8.09,
         "5.0um/dl": 2.59,
         "10.0um/dl": 0.71,
         "PM1.0 (CF=ATM) ug/m3": 3.95,
         "PM10 (CF=ATM) ug/m3": 9.79,
         "_deepnote_index_column": 825552
        },
        {
         "created_at": "2021-12-08T23:15:27.000000",
         "0.3um/dl": 1552.69,
         "0.5um/dl": 435.65,
         "1.0um/dl": 61.8,
         "2.5um/dl": 4.71,
         "5.0um/dl": 1.11,
         "10.0um/dl": 0.18,
         "PM1.0 (CF=ATM) ug/m3": 8.11,
         "PM10 (CF=ATM) ug/m3": 13.15,
         "_deepnote_index_column": 825553
        },
        {
         "created_at": "2021-12-08T23:17:27.000000",
         "0.3um/dl": 1141.27,
         "0.5um/dl": 320.78,
         "1.0um/dl": 33.34,
         "2.5um/dl": 3.53,
         "5.0um/dl": 0.69,
         "10.0um/dl": 0.27,
         "PM1.0 (CF=ATM) ug/m3": 5.63,
         "PM10 (CF=ATM) ug/m3": 8.71,
         "_deepnote_index_column": 825554
        },
        {
         "created_at": "2021-12-08T23:19:27.000000",
         "0.3um/dl": 1024.86,
         "0.5um/dl": 293.38,
         "1.0um/dl": 60.71,
         "2.5um/dl": 13.93,
         "5.0um/dl": 4.98,
         "10.0um/dl": 2.72,
         "PM1.0 (CF=ATM) ug/m3": 4.83,
         "PM10 (CF=ATM) ug/m3": 14.26,
         "_deepnote_index_column": 825555
        },
        {
         "created_at": "2021-12-08T23:21:27.000000",
         "0.3um/dl": 1187.63,
         "0.5um/dl": 333.7,
         "1.0um/dl": 51.88,
         "2.5um/dl": 7.79,
         "5.0um/dl": 2.96,
         "10.0um/dl": 0.74,
         "PM1.0 (CF=ATM) ug/m3": 5.96,
         "PM10 (CF=ATM) ug/m3": 11.63,
         "_deepnote_index_column": 825556
        },
        {
         "created_at": "2021-12-08T23:23:27.000000",
         "0.3um/dl": 1415.58,
         "0.5um/dl": 402.61,
         "1.0um/dl": 76.86,
         "2.5um/dl": 15.6,
         "5.0um/dl": 6.44,
         "10.0um/dl": 1.49,
         "PM1.0 (CF=ATM) ug/m3": 6.53,
         "PM10 (CF=ATM) ug/m3": 17.79,
         "_deepnote_index_column": 825557
        },
        {
         "created_at": "2021-12-08T23:25:27.000000",
         "0.3um/dl": 2071.47,
         "0.5um/dl": 581.98,
         "1.0um/dl": 95.98,
         "2.5um/dl": 26.32,
         "5.0um/dl": 9.61,
         "10.0um/dl": 2.88,
         "PM1.0 (CF=ATM) ug/m3": 9.47,
         "PM10 (CF=ATM) ug/m3": 26.33,
         "_deepnote_index_column": 825558
        },
        {
         "created_at": "2021-12-08T23:27:27.000000",
         "0.3um/dl": 1712.02,
         "0.5um/dl": 488.52,
         "1.0um/dl": 90.47,
         "2.5um/dl": 23.12,
         "5.0um/dl": 9.09,
         "10.0um/dl": 2.88,
         "PM1.0 (CF=ATM) ug/m3": 7.88,
         "PM10 (CF=ATM) ug/m3": 23.47,
         "_deepnote_index_column": 825559
        },
        {
         "created_at": "2021-12-08T23:29:27.000000",
         "0.3um/dl": 940.76,
         "0.5um/dl": 270.9,
         "1.0um/dl": 59.38,
         "2.5um/dl": 11.02,
         "5.0um/dl": 4.83,
         "10.0um/dl": 1.16,
         "PM1.0 (CF=ATM) ug/m3": 4.36,
         "PM10 (CF=ATM) ug/m3": 12.26,
         "_deepnote_index_column": 825560
        },
        {
         "created_at": "2021-12-08T23:31:27.000000",
         "0.3um/dl": 1001.41,
         "0.5um/dl": 291.11,
         "1.0um/dl": 65.23,
         "2.5um/dl": 14.11,
         "5.0um/dl": 3.32,
         "10.0um/dl": 0.96,
         "PM1.0 (CF=ATM) ug/m3": 4.54,
         "PM10 (CF=ATM) ug/m3": 13.14,
         "_deepnote_index_column": 825561
        },
        {
         "created_at": "2021-12-08T23:33:27.000000",
         "0.3um/dl": 855.62,
         "0.5um/dl": 235.12,
         "1.0um/dl": 39.84,
         "2.5um/dl": 6.38,
         "5.0um/dl": 1.97,
         "10.0um/dl": 0.59,
         "PM1.0 (CF=ATM) ug/m3": 3.66,
         "PM10 (CF=ATM) ug/m3": 8.29,
         "_deepnote_index_column": 825562
        },
        {
         "created_at": "2021-12-08T23:35:27.000000",
         "0.3um/dl": 883.37,
         "0.5um/dl": 249.97,
         "1.0um/dl": 55.9,
         "2.5um/dl": 10.47,
         "5.0um/dl": 3.08,
         "10.0um/dl": 0.73,
         "PM1.0 (CF=ATM) ug/m3": 3.59,
         "PM10 (CF=ATM) ug/m3": 10.46,
         "_deepnote_index_column": 825563
        },
        {
         "created_at": "2021-12-08T23:37:27.000000",
         "0.3um/dl": 758.75,
         "0.5um/dl": 212.64,
         "1.0um/dl": 37.2,
         "2.5um/dl": 7.98,
         "5.0um/dl": 4.36,
         "10.0um/dl": 1.42,
         "PM1.0 (CF=ATM) ug/m3": 3.17,
         "PM10 (CF=ATM) ug/m3": 9,
         "_deepnote_index_column": 825564
        },
        {
         "created_at": "2021-12-08T23:39:27.000000",
         "0.3um/dl": 472.34,
         "0.5um/dl": 127.98,
         "1.0um/dl": 15.68,
         "2.5um/dl": 1.14,
         "5.0um/dl": 0.46,
         "10.0um/dl": 0.25,
         "PM1.0 (CF=ATM) ug/m3": 1.45,
         "PM10 (CF=ATM) ug/m3": 2.46,
         "_deepnote_index_column": 825565
        },
        {
         "created_at": "2021-12-08T23:41:27.000000",
         "0.3um/dl": 548.74,
         "0.5um/dl": 150.68,
         "1.0um/dl": 19.98,
         "2.5um/dl": 0.93,
         "5.0um/dl": 0.23,
         "10.0um/dl": 0.23,
         "PM1.0 (CF=ATM) ug/m3": 1.82,
         "PM10 (CF=ATM) ug/m3": 3.32,
         "_deepnote_index_column": 825566
        },
        {
         "created_at": "2021-12-08T23:43:27.000000",
         "0.3um/dl": 641.85,
         "0.5um/dl": 175.71,
         "1.0um/dl": 19.24,
         "2.5um/dl": 0.81,
         "5.0um/dl": 0.29,
         "10.0um/dl": 0,
         "PM1.0 (CF=ATM) ug/m3": 2.56,
         "PM10 (CF=ATM) ug/m3": 3.63,
         "_deepnote_index_column": 825567
        },
        {
         "created_at": "2021-12-08T23:45:27.000000",
         "0.3um/dl": 810.41,
         "0.5um/dl": 225.62,
         "1.0um/dl": 29.29,
         "2.5um/dl": 3.86,
         "5.0um/dl": 1.41,
         "10.0um/dl": 0.21,
         "PM1.0 (CF=ATM) ug/m3": 3.53,
         "PM10 (CF=ATM) ug/m3": 6.79,
         "_deepnote_index_column": 825568
        },
        {
         "created_at": "2021-12-08T23:47:27.000000",
         "0.3um/dl": 554.2,
         "0.5um/dl": 155.82,
         "1.0um/dl": 18.14,
         "2.5um/dl": 1.8,
         "5.0um/dl": 0.18,
         "10.0um/dl": 0,
         "PM1.0 (CF=ATM) ug/m3": 2.25,
         "PM10 (CF=ATM) ug/m3": 3.36,
         "_deepnote_index_column": 825569
        },
        {
         "created_at": "2021-12-08T23:49:27.000000",
         "0.3um/dl": 473.57,
         "0.5um/dl": 130.55,
         "1.0um/dl": 16.39,
         "2.5um/dl": 1.34,
         "5.0um/dl": 0,
         "10.0um/dl": 0,
         "PM1.0 (CF=ATM) ug/m3": 1.59,
         "PM10 (CF=ATM) ug/m3": 2.52,
         "_deepnote_index_column": 825570
        },
        {
         "created_at": "2021-12-08T23:51:27.000000",
         "0.3um/dl": 316.58,
         "0.5um/dl": 84.83,
         "1.0um/dl": 12.47,
         "2.5um/dl": 0.73,
         "5.0um/dl": 0,
         "10.0um/dl": 0,
         "PM1.0 (CF=ATM) ug/m3": 0.8,
         "PM10 (CF=ATM) ug/m3": 1.25,
         "_deepnote_index_column": 825571
        },
        {
         "created_at": "2021-12-08T23:53:27.000000",
         "0.3um/dl": 345.88,
         "0.5um/dl": 94.16,
         "1.0um/dl": 10.86,
         "2.5um/dl": 1.28,
         "5.0um/dl": 0.24,
         "10.0um/dl": 0,
         "PM1.0 (CF=ATM) ug/m3": 0.81,
         "PM10 (CF=ATM) ug/m3": 1.72,
         "_deepnote_index_column": 825572
        },
        {
         "created_at": "2021-12-08T23:55:27.000000",
         "0.3um/dl": 795.16,
         "0.5um/dl": 217.69,
         "1.0um/dl": 24.45,
         "2.5um/dl": 1.36,
         "5.0um/dl": 0.43,
         "10.0um/dl": 0.43,
         "PM1.0 (CF=ATM) ug/m3": 3.43,
         "PM10 (CF=ATM) ug/m3": 5.4,
         "_deepnote_index_column": 825573
        },
        {
         "created_at": "2021-12-08T23:57:27.000000",
         "0.3um/dl": 264.91,
         "0.5um/dl": 70.96,
         "1.0um/dl": 8.12,
         "2.5um/dl": 0,
         "5.0um/dl": 0,
         "10.0um/dl": 0,
         "PM1.0 (CF=ATM) ug/m3": 0.62,
         "PM10 (CF=ATM) ug/m3": 0.8,
         "_deepnote_index_column": 825574
        },
        {
         "created_at": "2021-12-08T23:59:27.000000",
         "0.3um/dl": 257.95,
         "0.5um/dl": 71.39,
         "1.0um/dl": 6.95,
         "2.5um/dl": 0.25,
         "5.0um/dl": 0.25,
         "10.0um/dl": 0,
         "PM1.0 (CF=ATM) ug/m3": 0.37,
         "PM10 (CF=ATM) ug/m3": 0.88,
         "_deepnote_index_column": 825575
        }
       ]
      },
      "text/plain": "                        created_at  0.3um/dl  0.5um/dl  1.0um/dl  2.5um/dl  \\\nentry_id                                                                     \n820554   2021-12-02 00:01:51+00:00   1569.10    435.24     56.34      2.76   \n820555   2021-12-02 00:03:51+00:00   1578.20    442.22     56.05      3.46   \n820556   2021-12-02 00:05:51+00:00   1563.21    433.67     55.23      3.44   \n820557   2021-12-02 00:07:51+00:00   1495.05    417.47     54.84      2.70   \n820558   2021-12-02 00:09:51+00:00   1488.90    405.18     51.58      5.30   \n...                            ...       ...       ...       ...       ...   \n825571   2021-12-08 23:51:27+00:00    316.58     84.83     12.47      0.73   \n825572   2021-12-08 23:53:27+00:00    345.88     94.16     10.86      1.28   \n825573   2021-12-08 23:55:27+00:00    795.16    217.69     24.45      1.36   \n825574   2021-12-08 23:57:27+00:00    264.91     70.96      8.12      0.00   \n825575   2021-12-08 23:59:27+00:00    257.95     71.39      6.95      0.25   \n\n          5.0um/dl  10.0um/dl  PM1.0 (CF=ATM) ug/m3  PM10 (CF=ATM) ug/m3  \nentry_id                                                                  \n820554        0.46       0.42                  7.59                10.97  \n820555        0.78       0.00                  8.02                11.47  \n820556        0.91       0.56                  7.16                10.79  \n820557        0.60       0.21                  7.25                10.00  \n820558        1.50       0.43                  7.28                11.17  \n...            ...        ...                   ...                  ...  \n825571        0.00       0.00                  0.80                 1.25  \n825572        0.24       0.00                  0.81                 1.72  \n825573        0.43       0.43                  3.43                 5.40  \n825574        0.00       0.00                  0.62                 0.80  \n825575        0.25       0.00                  0.37                 0.88  \n\n[5022 rows x 9 columns]",
      "text/html": "<div>\n<style scoped>\n    .dataframe tbody tr th:only-of-type {\n        vertical-align: middle;\n    }\n\n    .dataframe tbody tr th {\n        vertical-align: top;\n    }\n\n    .dataframe thead th {\n        text-align: right;\n    }\n</style>\n<table border=\"1\" class=\"dataframe\">\n  <thead>\n    <tr style=\"text-align: right;\">\n      <th></th>\n      <th>created_at</th>\n      <th>0.3um/dl</th>\n      <th>0.5um/dl</th>\n      <th>1.0um/dl</th>\n      <th>2.5um/dl</th>\n      <th>5.0um/dl</th>\n      <th>10.0um/dl</th>\n      <th>PM1.0 (CF=ATM) ug/m3</th>\n      <th>PM10 (CF=ATM) ug/m3</th>\n    </tr>\n    <tr>\n      <th>entry_id</th>\n      <th></th>\n      <th></th>\n      <th></th>\n      <th></th>\n      <th></th>\n      <th></th>\n      <th></th>\n      <th></th>\n      <th></th>\n    </tr>\n  </thead>\n  <tbody>\n    <tr>\n      <th>820554</th>\n      <td>2021-12-02 00:01:51+00:00</td>\n      <td>1569.10</td>\n      <td>435.24</td>\n      <td>56.34</td>\n      <td>2.76</td>\n      <td>0.46</td>\n      <td>0.42</td>\n      <td>7.59</td>\n      <td>10.97</td>\n    </tr>\n    <tr>\n      <th>820555</th>\n      <td>2021-12-02 00:03:51+00:00</td>\n      <td>1578.20</td>\n      <td>442.22</td>\n      <td>56.05</td>\n      <td>3.46</td>\n      <td>0.78</td>\n      <td>0.00</td>\n      <td>8.02</td>\n      <td>11.47</td>\n    </tr>\n    <tr>\n      <th>820556</th>\n      <td>2021-12-02 00:05:51+00:00</td>\n      <td>1563.21</td>\n      <td>433.67</td>\n      <td>55.23</td>\n      <td>3.44</td>\n      <td>0.91</td>\n      <td>0.56</td>\n      <td>7.16</td>\n      <td>10.79</td>\n    </tr>\n    <tr>\n      <th>820557</th>\n      <td>2021-12-02 00:07:51+00:00</td>\n      <td>1495.05</td>\n      <td>417.47</td>\n      <td>54.84</td>\n      <td>2.70</td>\n      <td>0.60</td>\n      <td>0.21</td>\n      <td>7.25</td>\n      <td>10.00</td>\n    </tr>\n    <tr>\n      <th>820558</th>\n      <td>2021-12-02 00:09:51+00:00</td>\n      <td>1488.90</td>\n      <td>405.18</td>\n      <td>51.58</td>\n      <td>5.30</td>\n      <td>1.50</td>\n      <td>0.43</td>\n      <td>7.28</td>\n      <td>11.17</td>\n    </tr>\n    <tr>\n      <th>...</th>\n      <td>...</td>\n      <td>...</td>\n      <td>...</td>\n      <td>...</td>\n      <td>...</td>\n      <td>...</td>\n      <td>...</td>\n      <td>...</td>\n      <td>...</td>\n    </tr>\n    <tr>\n      <th>825571</th>\n      <td>2021-12-08 23:51:27+00:00</td>\n      <td>316.58</td>\n      <td>84.83</td>\n      <td>12.47</td>\n      <td>0.73</td>\n      <td>0.00</td>\n      <td>0.00</td>\n      <td>0.80</td>\n      <td>1.25</td>\n    </tr>\n    <tr>\n      <th>825572</th>\n      <td>2021-12-08 23:53:27+00:00</td>\n      <td>345.88</td>\n      <td>94.16</td>\n      <td>10.86</td>\n      <td>1.28</td>\n      <td>0.24</td>\n      <td>0.00</td>\n      <td>0.81</td>\n      <td>1.72</td>\n    </tr>\n    <tr>\n      <th>825573</th>\n      <td>2021-12-08 23:55:27+00:00</td>\n      <td>795.16</td>\n      <td>217.69</td>\n      <td>24.45</td>\n      <td>1.36</td>\n      <td>0.43</td>\n      <td>0.43</td>\n      <td>3.43</td>\n      <td>5.40</td>\n    </tr>\n    <tr>\n      <th>825574</th>\n      <td>2021-12-08 23:57:27+00:00</td>\n      <td>264.91</td>\n      <td>70.96</td>\n      <td>8.12</td>\n      <td>0.00</td>\n      <td>0.00</td>\n      <td>0.00</td>\n      <td>0.62</td>\n      <td>0.80</td>\n    </tr>\n    <tr>\n      <th>825575</th>\n      <td>2021-12-08 23:59:27+00:00</td>\n      <td>257.95</td>\n      <td>71.39</td>\n      <td>6.95</td>\n      <td>0.25</td>\n      <td>0.25</td>\n      <td>0.00</td>\n      <td>0.37</td>\n      <td>0.88</td>\n    </tr>\n  </tbody>\n</table>\n<p>5022 rows × 9 columns</p>\n</div>"
     },
     "metadata": {}
    }
   ]
  },
  {
   "cell_type": "markdown",
   "source": "The code cell above uses the purpleair API to pull a range of sensor data from a single sensor. In this case, we picked sensor named \"1000ft Montclair\". The \"created_at\" column contains information on the date and time the PM measures were taken. The timestamps show that the data was taken from the past week. Additionally, there is also data on PM paticules of different diameters such as 0.3, 0.5, 1.0, 2.5, 5.0 and 10.0.\n\n<br>\n\nLet's create a histogram of the PM 2.5 measure to see their distribution!\n\n**Run the cell below to create the histogram.**",
   "metadata": {
    "tags": [],
    "cell_id": "00014-dc60430b-97eb-475e-ab2d-63429edf63ad",
    "deepnote_cell_type": "markdown"
   }
  },
  {
   "cell_type": "code",
   "metadata": {
    "tags": [],
    "cell_id": "00015-0aa6606f-7b1b-4700-8d91-3186f9775c8f",
    "deepnote_to_be_reexecuted": false,
    "source_hash": "750865c6",
    "execution_start": 1639017438261,
    "execution_millis": 529,
    "deepnote_output_heights": [
     21.1875,
     280
    ],
    "deepnote_cell_type": "code"
   },
   "source": "n, bins, patches = plt.hist(x=MontclairSensor[\"2.5um/dl\"], bins='auto', color='#0504aa',\n                            alpha=0.7, rwidth=0.85)\nplt.grid(axis='y', alpha=0.75)\nplt.xlabel('PM 2.5 Particle Count')\nplt.ylabel('Frequency')\nplt.title('Montclair Sensor PM 2.5')\n",
   "execution_count": 9,
   "outputs": [
    {
     "output_type": "execute_result",
     "execution_count": 9,
     "data": {
      "text/plain": "Text(0.5, 1.0, 'Montclair Sensor PM 2.5')"
     },
     "metadata": {}
    },
    {
     "data": {
      "text/plain": "<Figure size 432x288 with 1 Axes>",
      "image/png": "[encoded data removed]"
     },
     "metadata": {
      "needs_background": "light",
      "image/png": {
       "width": 396,
       "height": 278
      }
     },
     "output_type": "display_data"
    }
   ]
  },
  {
   "cell_type": "markdown",
   "source": "The histogram above shows that many of PM 2.5 measures were most frequently somewhere around 10 particles, with very few occurances above 30 particles. While the histogram does show us a trend in the frequency of measures, we still have not clue how that translates to the API Index. ",
   "metadata": {
    "tags": [],
    "cell_id": "00017-7b247c46-bf71-4c0b-8f0d-5cbec0bf7d6c",
    "deepnote_cell_type": "markdown"
   }
  },
  {
   "cell_type": "markdown",
   "source": "### API Index\nThe API Index contains 6 categories that air quality can fall into. Each category contains a range of index values from 0 - 500 that is calculated from the regions PM 2.5 measure. The chart below is provided by the US Environmental Protection Agency (EPA) and shows the official AQI Index (these breakpoints were revised in 2012). \n\nFor more information on how AQI Index is calculated, take a look at the AQI Index Factsheet provided by the EPA [here](https://www.epa.gov/sites/default/files/2016-04/documents/2012_aqi_factsheet.pdf)!",
   "metadata": {
    "tags": [],
    "cell_id": "00005-53b10aac-3e5e-4217-bcb3-6690c972591c",
    "deepnote_cell_type": "markdown"
   }
  },
  {
   "cell_type": "markdown",
   "source": "<p align=\"center\">\n  <img src=\"images/AQI-category.png\" width=\"\" height=\"\" align=\"center\">\n</p>",
   "metadata": {
    "tags": [],
    "cell_id": "00014-fee8340f-6600-4ded-ad5b-e4a94875ab2b",
    "deepnote_cell_type": "markdown"
   }
  },
  {
   "cell_type": "markdown",
   "source": "Now that we know how sesors work, what they measure and how AQI Indexes are calculated, let's see if we can create a visualization of AQI Indexes that are a little closer to home!\n\nFirst, let's find a group of sensors that are near UC Berkeley. The code cell below does just that. We use a range of longitude and latitude coordinates to decide whether to include or exclude a sensor. \n\n**Run the cell below to display a dataset of about 600 sensors in and surrounding UC Berkeley!**",
   "metadata": {
    "tags": [],
    "cell_id": "00021-ef970a60-ed6d-47ac-a766-91488428efe1",
    "deepnote_cell_type": "markdown"
   }
  },
  {
   "cell_type": "code",
   "metadata": {
    "tags": [],
    "cell_id": "00007-d6fc7d9e-a424-41a8-970c-0cefe2e863e8",
    "deepnote_to_be_reexecuted": false,
    "source_hash": "b079f629",
    "execution_start": 1639017445924,
    "execution_millis": 80,
    "deepnote_cell_type": "code"
   },
   "source": "## UC Berkeley,CA - Lat: 37.871666 / Lon: -122.272781\n\nberkeleyData = df.loc[(df[\"lat\"] >= 37.8) & (df[\"lat\"] <= 37.9) & (df[\"lon\"] >= -122.3) & (df[\"lon\"] <= -122.2)]\nberkeleyData = berkeleyData[[\"lat\", \"lon\", \"name\", \"location_type\", \"pm_2.5\", \"temp_f\", \"humidity\", \"pressure\"]]\nberkeleyData",
   "execution_count": 10,
   "outputs": [
    {
     "output_type": "execute_result",
     "execution_count": 10,
     "data": {
      "application/vnd.deepnote.dataframe.v2+json": {
       "row_count": 817,
       "column_count": 8,
       "columns": [
        {
         "name": "lat",
         "dtype": "float64",
         "stats": {
          "unique_count": 810,
          "nan_count": 0,
          "min": "37.800146",
          "max": "37.899984",
          "histogram": [
           {
            "bin_start": 37.800146,
            "bin_end": 37.8101298,
            "count": 52
           },
           {
            "bin_start": 37.8101298,
            "bin_end": 37.8201136,
            "count": 65
           },
           {
            "bin_start": 37.8201136,
            "bin_end": 37.8300974,
            "count": 68
           },
           {
            "bin_start": 37.8300974,
            "bin_end": 37.8400812,
            "count": 54
           },
           {
            "bin_start": 37.8400812,
            "bin_end": 37.850065,
            "count": 98
           },
           {
            "bin_start": 37.850065,
            "bin_end": 37.8600488,
            "count": 108
           },
           {
            "bin_start": 37.8600488,
            "bin_end": 37.8700326,
            "count": 76
           },
           {
            "bin_start": 37.8700326,
            "bin_end": 37.8800164,
            "count": 121
           },
           {
            "bin_start": 37.8800164,
            "bin_end": 37.8900002,
            "count": 93
           },
           {
            "bin_start": 37.8900002,
            "bin_end": 37.899984,
            "count": 82
           }
          ]
         }
        },
        {
         "name": "lon",
         "dtype": "float64",
         "stats": {
          "unique_count": 812,
          "nan_count": 0,
          "min": "-122.299589",
          "max": "-122.200042",
          "histogram": [
           {
            "bin_start": -122.299589,
            "bin_end": -122.2896343,
            "count": 69
           },
           {
            "bin_start": -122.2896343,
            "bin_end": -122.2796796,
            "count": 91
           },
           {
            "bin_start": -122.2796796,
            "bin_end": -122.2697249,
            "count": 113
           },
           {
            "bin_start": -122.2697249,
            "bin_end": -122.25977019999999,
            "count": 98
           },
           {
            "bin_start": -122.25977019999999,
            "bin_end": -122.2498155,
            "count": 121
           },
           {
            "bin_start": -122.2498155,
            "bin_end": -122.2398608,
            "count": 112
           },
           {
            "bin_start": -122.2398608,
            "bin_end": -122.2299061,
            "count": 67
           },
           {
            "bin_start": -122.2299061,
            "bin_end": -122.2199514,
            "count": 53
           },
           {
            "bin_start": -122.2199514,
            "bin_end": -122.20999669999999,
            "count": 52
           },
           {
            "bin_start": -122.20999669999999,
            "bin_end": -122.200042,
            "count": 41
           }
          ]
         }
        },
        {
         "name": "name",
         "dtype": "object",
         "stats": {
          "unique_count": 777,
          "nan_count": 0,
          "categories": [
           {
            "name": "Home",
            "count": 8
           },
           {
            "name": "Outside",
            "count": 4
           },
           {
            "name": "775 others",
            "count": 805
           }
          ]
         }
        },
        {
         "name": "location_type",
         "dtype": "object",
         "stats": {
          "unique_count": 2,
          "nan_count": 0,
          "categories": [
           {
            "name": "inside",
            "count": 484
           },
           {
            "name": "outside",
            "count": 333
           }
          ]
         }
        },
        {
         "name": "pm_2.5",
         "dtype": "float64",
         "stats": {
          "unique_count": 392,
          "nan_count": 0,
          "min": "0.0",
          "max": "3335.29",
          "histogram": [
           {
            "bin_start": 0,
            "bin_end": 333.529,
            "count": 808
           },
           {
            "bin_start": 333.529,
            "bin_end": 667.058,
            "count": 2
           },
           {
            "bin_start": 667.058,
            "bin_end": 1000.587,
            "count": 0
           },
           {
            "bin_start": 1000.587,
            "bin_end": 1334.116,
            "count": 0
           },
           {
            "bin_start": 1334.116,
            "bin_end": 1667.645,
            "count": 0
           },
           {
            "bin_start": 1667.645,
            "bin_end": 2001.174,
            "count": 0
           },
           {
            "bin_start": 2001.174,
            "bin_end": 2334.703,
            "count": 0
           },
           {
            "bin_start": 2334.703,
            "bin_end": 2668.232,
            "count": 0
           },
           {
            "bin_start": 2668.232,
            "bin_end": 3001.761,
            "count": 0
           },
           {
            "bin_start": 3001.761,
            "bin_end": 3335.29,
            "count": 7
           }
          ]
         }
        },
        {
         "name": "temp_f",
         "dtype": "float64",
         "stats": {
          "unique_count": 43,
          "nan_count": 7,
          "min": "48.0",
          "max": "99.0",
          "histogram": [
           {
            "bin_start": 48,
            "bin_end": 53.1,
            "count": 10
           },
           {
            "bin_start": 53.1,
            "bin_end": 58.2,
            "count": 98
           },
           {
            "bin_start": 58.2,
            "bin_end": 63.3,
            "count": 194
           },
           {
            "bin_start": 63.3,
            "bin_end": 68.4,
            "count": 23
           },
           {
            "bin_start": 68.4,
            "bin_end": 73.5,
            "count": 53
           },
           {
            "bin_start": 73.5,
            "bin_end": 78.6,
            "count": 207
           },
           {
            "bin_start": 78.6,
            "bin_end": 83.69999999999999,
            "count": 176
           },
           {
            "bin_start": 83.69999999999999,
            "bin_end": 88.8,
            "count": 40
           },
           {
            "bin_start": 88.8,
            "bin_end": 93.9,
            "count": 7
           },
           {
            "bin_start": 93.9,
            "bin_end": 99,
            "count": 2
           }
          ]
         }
        },
        {
         "name": "humidity",
         "dtype": "float64",
         "stats": {
          "unique_count": 65,
          "nan_count": 7,
          "min": "12.0",
          "max": "100.0",
          "histogram": [
           {
            "bin_start": 12,
            "bin_end": 20.8,
            "count": 4
           },
           {
            "bin_start": 20.8,
            "bin_end": 29.6,
            "count": 47
           },
           {
            "bin_start": 29.6,
            "bin_end": 38.400000000000006,
            "count": 291
           },
           {
            "bin_start": 38.400000000000006,
            "bin_end": 47.2,
            "count": 138
           },
           {
            "bin_start": 47.2,
            "bin_end": 56,
            "count": 29
           },
           {
            "bin_start": 56,
            "bin_end": 64.80000000000001,
            "count": 153
           },
           {
            "bin_start": 64.80000000000001,
            "bin_end": 73.60000000000001,
            "count": 128
           },
           {
            "bin_start": 73.60000000000001,
            "bin_end": 82.4,
            "count": 19
           },
           {
            "bin_start": 82.4,
            "bin_end": 91.2,
            "count": 0
           },
           {
            "bin_start": 91.2,
            "bin_end": 100,
            "count": 1
           }
          ]
         }
        },
        {
         "name": "pressure",
         "dtype": "float64",
         "stats": {
          "unique_count": 706,
          "nan_count": 8,
          "min": "588.0",
          "max": "1154.74",
          "histogram": [
           {
            "bin_start": 588,
            "bin_end": 644.674,
            "count": 2
           },
           {
            "bin_start": 644.674,
            "bin_end": 701.348,
            "count": 1
           },
           {
            "bin_start": 701.348,
            "bin_end": 758.0219999999999,
            "count": 0
           },
           {
            "bin_start": 758.0219999999999,
            "bin_end": 814.696,
            "count": 0
           },
           {
            "bin_start": 814.696,
            "bin_end": 871.37,
            "count": 2
           },
           {
            "bin_start": 871.37,
            "bin_end": 928.044,
            "count": 0
           },
           {
            "bin_start": 928.044,
            "bin_end": 984.7180000000001,
            "count": 79
           },
           {
            "bin_start": 984.7180000000001,
            "bin_end": 1041.392,
            "count": 724
           },
           {
            "bin_start": 1041.392,
            "bin_end": 1098.066,
            "count": 0
           },
           {
            "bin_start": 1098.066,
            "bin_end": 1154.74,
            "count": 1
           }
          ]
         }
        },
        {
         "name": "_deepnote_index_column",
         "dtype": "int64"
        }
       ],
       "rows_top": [
        {
         "lat": 37.838977,
         "lon": -122.205489,
         "name": "1000ft Montclair",
         "location_type": "outside",
         "pm_2.5": 1.69,
         "temp_f": 56,
         "humidity": 79,
         "pressure": 980.12,
         "_deepnote_index_column": 20747
        },
        {
         "lat": 37.889085,
         "lon": -122.264327,
         "name": "1044 Keith Ave, Berkeley",
         "location_type": "outside",
         "pm_2.5": 1.71,
         "temp_f": 59,
         "humidity": 65,
         "pressure": 996.06,
         "_deepnote_index_column": 81677
        },
        {
         "lat": 37.882941,
         "lon": -122.288017,
         "name": "1094 Tevlin St",
         "location_type": "inside",
         "pm_2.5": 0.5,
         "temp_f": 75,
         "humidity": 40,
         "pressure": 1014.05,
         "_deepnote_index_column": 79125
        },
        {
         "lat": 37.801872,
         "lon": -122.274582,
         "name": "10th and Washington",
         "location_type": "inside",
         "pm_2.5": 0.8,
         "temp_f": 77,
         "humidity": 37,
         "pressure": 1015.25,
         "_deepnote_index_column": 77685
        },
        {
         "lat": 37.883729,
         "lon": -122.290362,
         "name": "1128 Key Route Blvd, Albany CA",
         "location_type": "outside",
         "pm_2.5": 5.31,
         "temp_f": 60,
         "humidity": 61,
         "pressure": 1014.56,
         "_deepnote_index_column": 37971
        },
        {
         "lat": 37.868483,
         "lon": -122.290137,
         "name": "1139-1",
         "location_type": "inside",
         "pm_2.5": 2.62,
         "temp_f": 76,
         "humidity": 39,
         "pressure": 1015.17,
         "_deepnote_index_column": 80253
        },
        {
         "lat": 37.818903,
         "lon": -122.244183,
         "name": "12 Wildwood",
         "location_type": "inside",
         "pm_2.5": 0,
         "temp_f": 81,
         "humidity": 41,
         "pressure": 1016.07,
         "_deepnote_index_column": 120103
        },
        {
         "lat": 37.881638,
         "lon": -122.291868,
         "name": "1242 Evelyn Ave",
         "location_type": "inside",
         "pm_2.5": 2.54,
         "temp_f": 82,
         "humidity": 42,
         "pressure": 1013.96,
         "_deepnote_index_column": 62649
        },
        {
         "lat": 37.853609,
         "lon": -122.242132,
         "name": "136",
         "location_type": "inside",
         "pm_2.5": 2.37,
         "temp_f": 88,
         "humidity": 28,
         "pressure": 1004.81,
         "_deepnote_index_column": 71065
        },
        {
         "lat": 37.877023,
         "lon": -122.27449,
         "name": "1621 Josephine",
         "location_type": "inside",
         "pm_2.5": 0.22,
         "temp_f": 78,
         "humidity": 38,
         "pressure": 1009.86,
         "_deepnote_index_column": 108064
        },
        {
         "lat": 37.889235,
         "lon": -122.275907,
         "name": "1907 Marin Ave",
         "location_type": "inside",
         "pm_2.5": 0,
         "temp_f": 79,
         "humidity": 32,
         "pressure": 1007.38,
         "_deepnote_index_column": 39861
        },
        {
         "lat": 37.889218,
         "lon": -122.27591,
         "name": "1907 Marin Ave Outside",
         "location_type": "outside",
         "pm_2.5": 26.68,
         "temp_f": 58,
         "humidity": 62,
         "pressure": 1016.53,
         "_deepnote_index_column": 58659
        },
        {
         "lat": 37.810271,
         "lon": -122.274648,
         "name": "1912 Upstairs",
         "location_type": "inside",
         "pm_2.5": 1.29,
         "temp_f": 74,
         "humidity": 41,
         "pressure": 1015.79,
         "_deepnote_index_column": 117103
        },
        {
         "lat": 37.883126,
         "lon": -122.200651,
         "name": "197 EL TOYONAL",
         "location_type": "outside",
         "pm_2.5": 7.14,
         "temp_f": 54,
         "humidity": 61,
         "pressure": 994.12,
         "_deepnote_index_column": 71621
        },
        {
         "lat": 37.813609,
         "lon": -122.285786,
         "name": "19th",
         "location_type": "outside",
         "pm_2.5": 30.07,
         "temp_f": 72,
         "humidity": 49,
         "pressure": 1020.63,
         "_deepnote_index_column": 22489
        },
        {
         "lat": 37.82404,
         "lon": -122.242692,
         "name": "201 Greenbank (Indoors)",
         "location_type": "inside",
         "pm_2.5": 8.19,
         "temp_f": 84,
         "humidity": 34,
         "pressure": 1013.99,
         "_deepnote_index_column": 122549
        },
        {
         "lat": 37.866847,
         "lon": -122.299544,
         "name": "2010 EA",
         "location_type": "inside",
         "pm_2.5": 2.61,
         "temp_f": 78,
         "humidity": 34,
         "pressure": 1020.62,
         "_deepnote_index_column": 63555
        },
        {
         "lat": 37.868835,
         "lon": -122.278363,
         "name": "2162 Jefferson",
         "location_type": "inside",
         "pm_2.5": 0.02,
         "temp_f": 74,
         "humidity": 34,
         "pressure": 1012.28,
         "_deepnote_index_column": 63691
        },
        {
         "lat": 37.854828,
         "lon": -122.261244,
         "name": "2320",
         "location_type": "inside",
         "pm_2.5": 0.04,
         "temp_f": 84,
         "humidity": 34,
         "pressure": 1009.01,
         "_deepnote_index_column": 18419
        },
        {
         "lat": 37.863606,
         "lon": -122.2619,
         "name": "2320 Blake Street",
         "location_type": "outside",
         "pm_2.5": 0.73,
         "temp_f": 60,
         "humidity": 60,
         "pressure": 1009.97,
         "_deepnote_index_column": 74095
        },
        {
         "lat": 37.840584,
         "lon": -122.229508,
         "name": "236 Florence",
         "location_type": "inside",
         "pm_2.5": 4.57,
         "temp_f": 82,
         "humidity": 36,
         "pressure": 997.94,
         "_deepnote_index_column": 72877
        },
        {
         "lat": 37.858569,
         "lon": -122.257479,
         "name": "2436 home",
         "location_type": "inside",
         "pm_2.5": 0.09,
         "temp_f": 78,
         "humidity": 37,
         "pressure": 1009.29,
         "_deepnote_index_column": 73287
        },
        {
         "lat": 37.857835,
         "lon": -122.257291,
         "name": "2442 russell Street 94705",
         "location_type": "inside",
         "pm_2.5": 3.13,
         "temp_f": 87,
         "humidity": 13,
         "pressure": 840.7,
         "_deepnote_index_column": 11592
        },
        {
         "lat": 37.85431,
         "lon": -122.256007,
         "name": "2509 Prince St ",
         "location_type": "outside",
         "pm_2.5": 1.93,
         "temp_f": 61,
         "humidity": 62,
         "pressure": 1010.4,
         "_deepnote_index_column": 23965
        },
        {
         "lat": 37.85582,
         "lon": -122.254933,
         "name": "2607 Webster Street",
         "location_type": "outside",
         "pm_2.5": 0.62,
         "temp_f": 57,
         "humidity": 68,
         "pressure": 1008.77,
         "_deepnote_index_column": 83525
        },
        {
         "lat": 37.81584,
         "lon": -122.26871,
         "name": "2633 Telegraph Ave, #305, Oakland CA 94612",
         "location_type": "inside",
         "pm_2.5": 11.62,
         "temp_f": 82,
         "humidity": 32,
         "pressure": 1015.09,
         "_deepnote_index_column": 62561
        },
        {
         "lat": 37.811929,
         "lon": -122.25761,
         "name": "286 Lenox Ave.",
         "location_type": "inside",
         "pm_2.5": 1.09,
         "temp_f": 86,
         "humidity": 30,
         "pressure": 1012.47,
         "_deepnote_index_column": 63811
        },
        {
         "lat": 37.801552,
         "lon": -122.214332,
         "name": "2921",
         "location_type": "inside",
         "pm_2.5": 3.99,
         "temp_f": 76,
         "humidity": 30,
         "pressure": 1009.42,
         "_deepnote_index_column": 121787
        },
        {
         "lat": 37.813643,
         "lon": -122.222662,
         "name": "2nd floor",
         "location_type": "inside",
         "pm_2.5": 0.92,
         "temp_f": 80,
         "humidity": 34,
         "pressure": 1005.35,
         "_deepnote_index_column": 122741
        },
        {
         "lat": 37.876356,
         "lon": -122.246983,
         "name": "30-2(TV)",
         "location_type": "inside",
         "pm_2.5": 0,
         "temp_f": 84,
         "humidity": 29,
         "pressure": 981.74,
         "_deepnote_index_column": 24141
        },
        {
         "lat": 37.876586,
         "lon": -122.246977,
         "name": "30-Third Floor",
         "location_type": "inside",
         "pm_2.5": 0,
         "temp_f": 77,
         "humidity": 35,
         "pressure": 981.8,
         "_deepnote_index_column": 24029
        },
        {
         "lat": 37.855664,
         "lon": -122.255214,
         "name": "3000 Hillegass Avenue, Berkeley, CA 94705",
         "location_type": "inside",
         "pm_2.5": 0.68,
         "temp_f": 68,
         "humidity": 45,
         "pressure": 1009.38,
         "_deepnote_index_column": 114987
        },
        {
         "lat": 37.876125,
         "lon": -122.249406,
         "name": "307A, Building 2, LBNL",
         "location_type": "inside",
         "pm_2.5": 0,
         "temp_f": 76,
         "humidity": 34,
         "pressure": 986.12,
         "_deepnote_index_column": 84559
        },
        {
         "lat": 37.825919,
         "lon": -122.279953,
         "name": "34th and Adeline",
         "location_type": "outside",
         "pm_2.5": 2.03,
         "temp_f": 61,
         "humidity": 63,
         "pressure": 1016.45,
         "_deepnote_index_column": 69121
        },
        {
         "lat": 37.867107,
         "lon": -122.243389,
         "name": "3514 Dwight way, Berkeley, CA",
         "location_type": "inside",
         "pm_2.5": 39.14,
         "temp_f": 80,
         "humidity": 34,
         "pressure": 987.04,
         "_deepnote_index_column": 63657
        },
        {
         "lat": 37.874464,
         "lon": -122.288575,
         "name": "37.87446358692099",
         "location_type": "inside",
         "pm_2.5": 10.33,
         "temp_f": 84,
         "humidity": 32,
         "pressure": 1014.73,
         "_deepnote_index_column": 123339
        },
        {
         "lat": 37.808788,
         "lon": -122.212537,
         "name": "4036 Waterhouse Road",
         "location_type": "inside",
         "pm_2.5": 0.3,
         "temp_f": 97,
         "humidity": 19,
         "pressure": 1004.51,
         "_deepnote_index_column": 74647
        },
        {
         "lat": 37.83277,
         "lon": -122.275017,
         "name": "42nd B/N Market & Adelaide",
         "location_type": "inside",
         "pm_2.5": 0.19,
         "temp_f": 81,
         "humidity": 30,
         "pressure": 1014.81,
         "_deepnote_index_column": 71233
        },
        {
         "lat": 37.832342,
         "lon": -122.273493,
         "name": "42nd st",
         "location_type": "inside",
         "pm_2.5": 0,
         "temp_f": 74,
         "humidity": 38,
         "pressure": 1013.5,
         "_deepnote_index_column": 63385
        },
        {
         "lat": 37.812342,
         "lon": -122.211993,
         "name": "4350 Arden Pl",
         "location_type": "inside",
         "pm_2.5": 4.29,
         "temp_f": 76,
         "humidity": 43,
         "pressure": 1003.64,
         "_deepnote_index_column": 108686
        },
        {
         "lat": 37.832629,
         "lon": -122.270611,
         "name": "43rd and West",
         "location_type": "inside",
         "pm_2.5": 0.22,
         "temp_f": 76,
         "humidity": 39,
         "pressure": 1013.29,
         "_deepnote_index_column": 130663
        },
        {
         "lat": 37.832604,
         "lon": -122.270397,
         "name": "43rd and West",
         "location_type": "outside",
         "pm_2.5": 1.04,
         "temp_f": 60,
         "humidity": 62,
         "pressure": 1013.85,
         "_deepnote_index_column": 50377
        },
        {
         "lat": 37.813421,
         "lon": -122.212195,
         "name": "4420 Bridgeview Dr",
         "location_type": "outside",
         "pm_2.5": 34.04,
         "temp_f": 58,
         "humidity": 67,
         "pressure": 1002.13,
         "_deepnote_index_column": 116557
        },
        {
         "lat": 37.878129,
         "lon": -122.24972,
         "name": "46-Indoors",
         "location_type": "inside",
         "pm_2.5": 0.07,
         "temp_f": 77,
         "humidity": 31,
         "pressure": 987.33,
         "_deepnote_index_column": 90519
        },
        {
         "lat": 37.87812,
         "lon": -122.249861,
         "name": "46-Outdoor",
         "location_type": "outside",
         "pm_2.5": 0,
         "temp_f": 77,
         "humidity": 32,
         "pressure": 986.79,
         "_deepnote_index_column": 83739
        },
        {
         "lat": 37.8359,
         "lon": -122.25958,
         "name": "4918 Webster",
         "location_type": "outside",
         "pm_2.5": 0,
         "temp_f": 60,
         "humidity": 62,
         "pressure": 1013,
         "_deepnote_index_column": 112764
        },
        {
         "lat": 37.803679,
         "lon": -122.272906,
         "name": "500 12th Street",
         "location_type": "inside",
         "pm_2.5": 0,
         "temp_f": 77,
         "humidity": 35,
         "pressure": 1014.01,
         "_deepnote_index_column": 37363
        },
        {
         "lat": 37.85576,
         "lon": -122.24339,
         "name": "53 Domingo",
         "location_type": "inside",
         "pm_2.5": 0.31,
         "temp_f": 83,
         "humidity": 32,
         "pressure": 1003.87,
         "_deepnote_index_column": 72967
        },
        {
         "lat": 37.840133,
         "lon": -122.256798,
         "name": "5300 Locksley",
         "location_type": "inside",
         "pm_2.5": 1.65,
         "temp_f": 81,
         "humidity": 33,
         "pressure": 1020.27,
         "_deepnote_index_column": 118439
        },
        {
         "lat": 37.849074,
         "lon": -122.262953,
         "name": "544 63rd St",
         "location_type": "outside",
         "pm_2.5": 2.02,
         "temp_f": 58,
         "humidity": 65,
         "pressure": 1012.34,
         "_deepnote_index_column": 65763
        },
        {
         "lat": 37.84786,
         "lon": -122.26362,
         "name": "567 62nd St",
         "location_type": "outside",
         "pm_2.5": 0.52,
         "temp_f": 61,
         "humidity": 60,
         "pressure": 1012.18,
         "_deepnote_index_column": 59711
        },
        {
         "lat": 37.840536,
         "lon": -122.271065,
         "name": "56th st inside",
         "location_type": "inside",
         "pm_2.5": 0,
         "temp_f": 83,
         "humidity": 39,
         "pressure": 1013.38,
         "_deepnote_index_column": 22833
        },
        {
         "lat": 37.840561,
         "lon": -122.270969,
         "name": "56th/MLK Outside",
         "location_type": "outside",
         "pm_2.5": 0,
         "temp_f": 61,
         "humidity": 62,
         "pressure": 1013.7,
         "_deepnote_index_column": 22879
        },
        {
         "lat": 37.843122,
         "lon": -122.262854,
         "name": "57th St.",
         "location_type": "inside",
         "pm_2.5": 14.21,
         "temp_f": 79,
         "humidity": 37,
         "pressure": 1012.34,
         "_deepnote_index_column": 123407
        },
        {
         "lat": 37.801665,
         "lon": -122.277063,
         "name": "585 9th st",
         "location_type": "inside",
         "pm_2.5": 5.35,
         "temp_f": 82,
         "humidity": 31,
         "pressure": 1013.69,
         "_deepnote_index_column": 75745
        },
        {
         "lat": 37.869305,
         "lon": -122.248083,
         "name": "59 Arden",
         "location_type": "outside",
         "pm_2.5": 1.17,
         "temp_f": 60,
         "humidity": 69,
         "pressure": 993.41,
         "_deepnote_index_column": 19693
        },
        {
         "lat": 37.844354,
         "lon": -122.234846,
         "name": "6028 Romany road",
         "location_type": "outside",
         "pm_2.5": 0,
         "temp_f": 61,
         "humidity": 60,
         "pressure": 1003.57,
         "_deepnote_index_column": 118849
        },
        {
         "lat": 37.855251,
         "lon": -122.296468,
         "name": "614 BANCROFT",
         "location_type": "inside",
         "pm_2.5": 0,
         "temp_f": 71,
         "humidity": 39,
         "pressure": 1016.63,
         "_deepnote_index_column": 62543
        },
        {
         "lat": 37.895779,
         "lon": -122.287001,
         "name": "617 Curtis, Albany, CA 94706",
         "location_type": "inside",
         "pm_2.5": 14.96,
         "temp_f": 75,
         "humidity": 43,
         "pressure": 1012.75,
         "_deepnote_index_column": 89293
        },
        {
         "lat": 37.847775,
         "lon": -122.255941,
         "name": "61st St. Oakland, 300 block @ Colby",
         "location_type": "outside",
         "pm_2.5": 2.39,
         "temp_f": 61,
         "humidity": 60,
         "pressure": 1010.53,
         "_deepnote_index_column": 53463
        },
        {
         "lat": 37.847699,
         "lon": -122.255646,
         "name": "61st St. Oakland, 300 block @ mid-block",
         "location_type": "outside",
         "pm_2.5": 3.02,
         "temp_f": 61,
         "humidity": 58,
         "pressure": 1010.14,
         "_deepnote_index_column": 53515
        },
        {
         "lat": 37.842117,
         "lon": -122.295621,
         "name": "6363 Christie Ave 26th floor balcony Emeryville CA",
         "location_type": "outside",
         "pm_2.5": 0.73,
         "temp_f": 61,
         "humidity": 60,
         "pressure": 1008.5,
         "_deepnote_index_column": 82971
        }
       ],
       "rows_bottom": [
        {
         "lat": 37.839263,
         "lon": -122.249618,
         "name": "The ridge",
         "location_type": "inside",
         "pm_2.5": 0.09,
         "temp_f": 76,
         "humidity": 38,
         "pressure": 1010.12,
         "_deepnote_index_column": 41189
        },
        {
         "lat": 37.897401,
         "lon": -122.257363,
         "name": "The Spiral",
         "location_type": "outside",
         "pm_2.5": 0,
         "temp_f": 58,
         "humidity": 67,
         "pressure": 982.31,
         "_deepnote_index_column": 114559
        },
        {
         "lat": 37.83106,
         "lon": -122.259071,
         "name": "The Yard",
         "location_type": "inside",
         "pm_2.5": 17.51,
         "temp_f": 64,
         "humidity": 52,
         "pressure": 1020.13,
         "_deepnote_index_column": 90551
        },
        {
         "lat": 37.891722,
         "lon": -122.283616,
         "name": "Thousand Oaks",
         "location_type": "outside",
         "pm_2.5": 2.66,
         "temp_f": 62,
         "humidity": 61,
         "pressure": 1011.71,
         "_deepnote_index_column": 18735
        },
        {
         "lat": 37.894967,
         "lon": -122.286537,
         "name": "Thousand Oaks",
         "location_type": "inside",
         "pm_2.5": 0.49,
         "temp_f": 80,
         "humidity": 38,
         "pressure": 1014.95,
         "_deepnote_index_column": 106808
        },
        {
         "lat": 37.888025,
         "lon": -122.267943,
         "name": "Tim+Nomi",
         "location_type": "inside",
         "pm_2.5": 8.67,
         "temp_f": 85,
         "humidity": 29,
         "pressure": 1001.48,
         "_deepnote_index_column": 82203
        },
        {
         "lat": 37.887913,
         "lon": -122.268074,
         "name": "Tim+Nomi",
         "location_type": "outside",
         "pm_2.5": 0.55,
         "temp_f": 57,
         "humidity": 68,
         "pressure": 1003.22,
         "_deepnote_index_column": 67749
        },
        {
         "lat": 37.887447,
         "lon": -122.270441,
         "name": "Top terrace",
         "location_type": "outside",
         "pm_2.5": 1.4,
         "temp_f": 57,
         "humidity": 71,
         "pressure": 1003.89,
         "_deepnote_index_column": 70413
        },
        {
         "lat": 37.831862,
         "lon": -122.214035,
         "name": "Trapi Lalit",
         "location_type": "outside",
         "pm_2.5": 2.02,
         "temp_f": 57,
         "humidity": 68,
         "pressure": 996.17,
         "_deepnote_index_column": 68063
        },
        {
         "lat": 37.862332,
         "lon": -122.285376,
         "name": "Treble's House",
         "location_type": "inside",
         "pm_2.5": 0.24,
         "temp_f": 76,
         "humidity": 43,
         "pressure": 1013.8,
         "_deepnote_index_column": 81633
        },
        {
         "lat": 37.882869,
         "lon": -122.256126,
         "name": "Tree House",
         "location_type": "inside",
         "pm_2.5": 0.24,
         "temp_f": 80,
         "humidity": 29,
         "pressure": 986.99,
         "_deepnote_index_column": 99749
        },
        {
         "lat": 37.846373,
         "lon": -122.24199,
         "name": "Treehouse - Outside",
         "location_type": "outside",
         "pm_2.5": 89.34,
         "temp_f": 56,
         "humidity": 68,
         "pressure": 1004.77,
         "_deepnote_index_column": 62227
        },
        {
         "lat": 37.838142,
         "lon": -122.230668,
         "name": "Treehouse",
         "location_type": "inside",
         "pm_2.5": 0.13,
         "temp_f": 76,
         "humidity": 37,
         "pressure": 999.41,
         "_deepnote_index_column": 122543
        },
        {
         "lat": 37.806872,
         "lon": -122.230876,
         "name": "Trestle Glen",
         "location_type": "outside",
         "pm_2.5": 2.58,
         "temp_f": 61,
         "humidity": 61,
         "pressure": 1014.03,
         "_deepnote_index_column": 69323
        },
        {
         "lat": 37.80341,
         "lon": -122.215951,
         "name": "TRIS Oakland Campus",
         "location_type": "outside",
         "pm_2.5": 0.87,
         "temp_f": 60,
         "humidity": 65,
         "pressure": 1010.49,
         "_deepnote_index_column": 76125
        },
        {
         "lat": 37.81857,
         "lon": -122.210942,
         "name": "TRIS Piedmont Campus",
         "location_type": "outside",
         "pm_2.5": 3.37,
         "temp_f": 60,
         "humidity": 65,
         "pressure": 998.62,
         "_deepnote_index_column": 76143
        },
        {
         "lat": 37.843314,
         "lon": -122.247859,
         "name": "TROPIC THUNDER (inside)",
         "location_type": "inside",
         "pm_2.5": 0.43,
         "temp_f": 80,
         "humidity": 30,
         "pressure": 1010.41,
         "_deepnote_index_column": 73033
        },
        {
         "lat": 37.857289,
         "lon": -122.242478,
         "name": "Tunnel Road Near Claremont Hotel",
         "location_type": "outside",
         "pm_2.5": 2.91,
         "temp_f": 59,
         "humidity": 64,
         "pressure": 1002.92,
         "_deepnote_index_column": 111796
        },
        {
         "lat": 37.874054,
         "lon": -122.256081,
         "name": "UC Berkeley Stanley Hall Indoor Air",
         "location_type": "inside",
         "pm_2.5": 0,
         "temp_f": 82,
         "humidity": 27,
         "pressure": 1004.91,
         "_deepnote_index_column": 22315
        },
        {
         "lat": 37.875225,
         "lon": -122.238665,
         "name": "UC Botanical Garden",
         "location_type": "outside",
         "pm_2.5": 1.66,
         "temp_f": 48,
         "humidity": 67,
         "pressure": 981.94,
         "_deepnote_index_column": 83893
        },
        {
         "lat": 37.871388,
         "lon": -122.26536,
         "name": "UC East",
         "location_type": "inside",
         "pm_2.5": 1.22,
         "temp_f": "nan",
         "humidity": "nan",
         "pressure": "nan",
         "_deepnote_index_column": 16785
        },
        {
         "lat": 37.872113,
         "lon": -122.266303,
         "name": "University Hall",
         "location_type": "inside",
         "pm_2.5": 0.03,
         "temp_f": 73,
         "humidity": 37,
         "pressure": 1008.97,
         "_deepnote_index_column": 55627
        },
        {
         "lat": 37.840942,
         "lon": -122.233464,
         "name": "Up",
         "location_type": "inside",
         "pm_2.5": 1.04,
         "temp_f": 82,
         "humidity": 32,
         "pressure": 1000.76,
         "_deepnote_index_column": 105710
        },
        {
         "lat": 37.853491,
         "lon": -122.240492,
         "name": "Uplands and ECR (Inside)",
         "location_type": "inside",
         "pm_2.5": 0,
         "temp_f": 76,
         "humidity": 36,
         "pressure": 1002.77,
         "_deepnote_index_column": 118133
        },
        {
         "lat": 37.853695,
         "lon": -122.239169,
         "name": "Uplands",
         "location_type": "outside",
         "pm_2.5": 1.31,
         "temp_f": 58,
         "humidity": 65,
         "pressure": 1002.61,
         "_deepnote_index_column": 39663
        },
        {
         "lat": 37.854416,
         "lon": -122.247999,
         "name": "uplands inside",
         "location_type": "inside",
         "pm_2.5": 0.62,
         "temp_f": 82,
         "humidity": 35,
         "pressure": 1005.5,
         "_deepnote_index_column": 14781
        },
        {
         "lat": 37.854392,
         "lon": -122.247577,
         "name": "uplands outside",
         "location_type": "outside",
         "pm_2.5": 1.44,
         "temp_f": 62,
         "humidity": 62,
         "pressure": 1005.5,
         "_deepnote_index_column": 18281
        },
        {
         "lat": 37.805414,
         "lon": -122.212763,
         "name": "Upper Dimond",
         "location_type": "outside",
         "pm_2.5": 0.35,
         "temp_f": 62,
         "humidity": 64,
         "pressure": 1008.24,
         "_deepnote_index_column": 112008
        },
        {
         "lat": 37.813937,
         "lon": -122.202402,
         "name": "Upper Oakmore",
         "location_type": "outside",
         "pm_2.5": 0.47,
         "temp_f": 59,
         "humidity": 67,
         "pressure": 991.11,
         "_deepnote_index_column": 116229
        },
        {
         "lat": 37.84623,
         "lon": -122.234413,
         "name": "Upper Rockridge",
         "location_type": "outside",
         "pm_2.5": 5.86,
         "temp_f": 72,
         "humidity": 31,
         "pressure": 1004.99,
         "_deepnote_index_column": 121973
        },
        {
         "lat": 37.802247,
         "lon": -122.211498,
         "name": "Urban Oasis",
         "location_type": "inside",
         "pm_2.5": 117.8,
         "temp_f": 80,
         "humidity": 36,
         "pressure": 1006.03,
         "_deepnote_index_column": 81025
        },
        {
         "lat": 37.86927,
         "lon": -122.279123,
         "name": "UT",
         "location_type": "outside",
         "pm_2.5": 1.07,
         "temp_f": 60,
         "humidity": 62,
         "pressure": 1013.48,
         "_deepnote_index_column": 63937
        },
        {
         "lat": 37.864078,
         "lon": -122.284264,
         "name": "Valley Street",
         "location_type": "outside",
         "pm_2.5": 1.42,
         "temp_f": 61,
         "humidity": 59,
         "pressure": 1013.83,
         "_deepnote_index_column": 71845
        },
        {
         "lat": 37.879188,
         "lon": -122.267176,
         "name": "Vector",
         "location_type": "inside",
         "pm_2.5": 1.81,
         "temp_f": 78,
         "humidity": 38,
         "pressure": 1007.92,
         "_deepnote_index_column": 122441
        },
        {
         "lat": 37.854514,
         "lon": -122.235459,
         "name": "Vicente Rd, Outside",
         "location_type": "outside",
         "pm_2.5": 0,
         "temp_f": 61,
         "humidity": 63,
         "pressure": 997.56,
         "_deepnote_index_column": 111057
        },
        {
         "lat": 37.899795,
         "lon": -122.281948,
         "name": "Vince",
         "location_type": "inside",
         "pm_2.5": 2,
         "temp_f": 81,
         "humidity": 24,
         "pressure": 1008.42,
         "_deepnote_index_column": 122969
        },
        {
         "lat": 37.879348,
         "lon": -122.277665,
         "name": "Vine & Edith",
         "location_type": "outside",
         "pm_2.5": 0,
         "temp_f": 60,
         "humidity": 62,
         "pressure": 1010.94,
         "_deepnote_index_column": 115705
        },
        {
         "lat": 37.824012,
         "lon": -122.22363,
         "name": "Viper Room",
         "location_type": "inside",
         "pm_2.5": 1.11,
         "temp_f": 78,
         "humidity": 41,
         "pressure": 997.49,
         "_deepnote_index_column": 73025
        },
        {
         "lat": 37.873297,
         "lon": -122.291986,
         "name": "Virginia Ave",
         "location_type": "outside",
         "pm_2.5": 1.02,
         "temp_f": 61,
         "humidity": 61,
         "pressure": 1016.57,
         "_deepnote_index_column": 66367
        },
        {
         "lat": 37.876809,
         "lon": -122.267396,
         "name": "Virginia",
         "location_type": "inside",
         "pm_2.5": 7.74,
         "temp_f": 79,
         "humidity": 41,
         "pressure": 1007.48,
         "_deepnote_index_column": 119363
        },
        {
         "lat": 37.874941,
         "lon": -122.280454,
         "name": "Virginia-California",
         "location_type": "inside",
         "pm_2.5": 0,
         "temp_f": 81,
         "humidity": 31,
         "pressure": 1012.13,
         "_deepnote_index_column": 68751
        },
        {
         "lat": 37.898284,
         "lon": -122.286617,
         "name": "Visalia",
         "location_type": "outside",
         "pm_2.5": 0.47,
         "temp_f": 61,
         "humidity": 61,
         "pressure": 1013.51,
         "_deepnote_index_column": 55871
        },
        {
         "lat": 37.814548,
         "lon": -122.232977,
         "name": "Walavista",
         "location_type": "outside",
         "pm_2.5": 2.05,
         "temp_f": 60,
         "humidity": 65,
         "pressure": 1011.45,
         "_deepnote_index_column": 37133
        },
        {
         "lat": 37.863629,
         "lon": -122.273394,
         "name": "Walden Center & School",
         "location_type": "outside",
         "pm_2.5": 0,
         "temp_f": 62,
         "humidity": 60,
         "pressure": 1011.83,
         "_deepnote_index_column": 121213
        },
        {
         "lat": 37.877151,
         "lon": -122.268078,
         "name": "Walnut",
         "location_type": "inside",
         "pm_2.5": 0,
         "temp_f": 73,
         "humidity": 47,
         "pressure": 1007.52,
         "_deepnote_index_column": 106274
        },
        {
         "lat": 37.858586,
         "lon": -122.278654,
         "name": "Warburton's Room",
         "location_type": "inside",
         "pm_2.5": 0,
         "temp_f": 78,
         "humidity": 39,
         "pressure": 1013.39,
         "_deepnote_index_column": 137708
        },
        {
         "lat": 37.858808,
         "lon": -122.272173,
         "name": "Ward Inside",
         "location_type": "inside",
         "pm_2.5": 0.17,
         "temp_f": 84,
         "humidity": 26,
         "pressure": 1012.44,
         "_deepnote_index_column": 98151
        },
        {
         "lat": 37.81614,
         "lon": -122.241526,
         "name": "Warfield",
         "location_type": "inside",
         "pm_2.5": 14.81,
         "temp_f": 76,
         "humidity": 41,
         "pressure": 1009.85,
         "_deepnote_index_column": 41183
        },
        {
         "lat": 37.876976,
         "lon": -122.248542,
         "name": "Weather Tower",
         "location_type": "outside",
         "pm_2.5": 0.78,
         "temp_f": 57,
         "humidity": 69,
         "pressure": 983.8,
         "_deepnote_index_column": 15769
        },
        {
         "lat": 37.854745,
         "lon": -122.261059,
         "name": "Webster Cottage",
         "location_type": "inside",
         "pm_2.5": 0.78,
         "temp_f": 79,
         "humidity": 37,
         "pressure": 1010.32,
         "_deepnote_index_column": 119421
        },
        {
         "lat": 37.866689,
         "lon": -122.24236,
         "name": "Weezy",
         "location_type": "inside",
         "pm_2.5": 110.68,
         "temp_f": 74,
         "humidity": 36,
         "pressure": 983.78,
         "_deepnote_index_column": 74917
        },
        {
         "lat": 37.817638,
         "lon": -122.272461,
         "name": "West Oakland",
         "location_type": "outside",
         "pm_2.5": 40.53,
         "temp_f": "nan",
         "humidity": "nan",
         "pressure": "nan",
         "_deepnote_index_column": 17927
        },
        {
         "lat": 37.87735,
         "lon": -122.285261,
         "name": "Who farted?",
         "location_type": "inside",
         "pm_2.5": 0.09,
         "temp_f": 87,
         "humidity": 34,
         "pressure": 1014.18,
         "_deepnote_index_column": 20293
        },
        {
         "lat": 37.85318,
         "lon": -122.26349,
         "name": "Whosabird",
         "location_type": "outside",
         "pm_2.5": 7.61,
         "temp_f": 64,
         "humidity": 74,
         "pressure": 1010.55,
         "_deepnote_index_column": 40695
        },
        {
         "lat": 37.89585,
         "lon": -122.256168,
         "name": "Wildcat and Central Park Drive",
         "location_type": "outside",
         "pm_2.5": 3328.27,
         "temp_f": 59,
         "humidity": 66,
         "pressure": 982.56,
         "_deepnote_index_column": 86019
        },
        {
         "lat": 37.895833,
         "lon": -122.256143,
         "name": "Wildcat and Central Park Drive",
         "location_type": "inside",
         "pm_2.5": 12.66,
         "temp_f": 77,
         "humidity": 31,
         "pressure": 987.66,
         "_deepnote_index_column": 122787
        },
        {
         "lat": 37.861257,
         "lon": -122.25562,
         "name": "Willard Park",
         "location_type": "outside",
         "pm_2.5": 1.04,
         "temp_f": 60,
         "humidity": 62,
         "pressure": 1008.94,
         "_deepnote_index_column": 110502
        },
        {
         "lat": 37.813316,
         "lon": -122.297614,
         "name": "Wood St",
         "location_type": "outside",
         "pm_2.5": 1.46,
         "temp_f": 60,
         "humidity": 61,
         "pressure": 1016.83,
         "_deepnote_index_column": 70227
        },
        {
         "lat": 37.813427,
         "lon": -122.282483,
         "name": "Xanadu",
         "location_type": "inside",
         "pm_2.5": 0.22,
         "temp_f": 84,
         "humidity": 32,
         "pressure": 1015.7,
         "_deepnote_index_column": 26977
        },
        {
         "lat": 37.8135,
         "lon": -122.282971,
         "name": "Xanadu",
         "location_type": "outside",
         "pm_2.5": 1.1,
         "temp_f": 58,
         "humidity": 66,
         "pressure": 1016.17,
         "_deepnote_index_column": 56281
        },
        {
         "lat": 37.886177,
         "lon": -122.272443,
         "name": "Yolo",
         "location_type": "inside",
         "pm_2.5": 0.06,
         "temp_f": 90,
         "humidity": 22,
         "pressure": 1006.64,
         "_deepnote_index_column": 62619
        },
        {
         "lat": 37.82756,
         "lon": -122.205627,
         "name": "Zinn Drive",
         "location_type": "outside",
         "pm_2.5": 2.23,
         "temp_f": 56,
         "humidity": 68,
         "pressure": 986.26,
         "_deepnote_index_column": 75223
        },
        {
         "lat": 37.86939,
         "lon": -122.245792,
         "name": "zz",
         "location_type": "inside",
         "pm_2.5": 0.17,
         "temp_f": 76,
         "humidity": 33,
         "pressure": 988.48,
         "_deepnote_index_column": 123201
        }
       ]
      },
      "text/plain": "              lat         lon                            name location_type  \\\nid                                                                            \n20747   37.838977 -122.205489                1000ft Montclair       outside   \n81677   37.889085 -122.264327        1044 Keith Ave, Berkeley       outside   \n79125   37.882941 -122.288017                  1094 Tevlin St        inside   \n77685   37.801872 -122.274582             10th and Washington        inside   \n37971   37.883729 -122.290362  1128 Key Route Blvd, Albany CA       outside   \n...           ...         ...                             ...           ...   \n26977   37.813427 -122.282483                          Xanadu        inside   \n56281   37.813500 -122.282971                          Xanadu       outside   \n62619   37.886177 -122.272443                            Yolo        inside   \n75223   37.827560 -122.205627                      Zinn Drive       outside   \n123201  37.869390 -122.245792                              zz        inside   \n\n        pm_2.5  temp_f  humidity  pressure  \nid                                          \n20747     1.69    56.0      79.0    980.12  \n81677     1.71    59.0      65.0    996.06  \n79125     0.50    75.0      40.0   1014.05  \n77685     0.80    77.0      37.0   1015.25  \n37971     5.31    60.0      61.0   1014.56  \n...        ...     ...       ...       ...  \n26977     0.22    84.0      32.0   1015.70  \n56281     1.10    58.0      66.0   1016.17  \n62619     0.06    90.0      22.0   1006.64  \n75223     2.23    56.0      68.0    986.26  \n123201    0.17    76.0      33.0    988.48  \n\n[817 rows x 8 columns]",
      "text/html": "<div>\n<style scoped>\n    .dataframe tbody tr th:only-of-type {\n        vertical-align: middle;\n    }\n\n    .dataframe tbody tr th {\n        vertical-align: top;\n    }\n\n    .dataframe thead th {\n        text-align: right;\n    }\n</style>\n<table border=\"1\" class=\"dataframe\">\n  <thead>\n    <tr style=\"text-align: right;\">\n      <th></th>\n      <th>lat</th>\n      <th>lon</th>\n      <th>name</th>\n      <th>location_type</th>\n      <th>pm_2.5</th>\n      <th>temp_f</th>\n      <th>humidity</th>\n      <th>pressure</th>\n    </tr>\n    <tr>\n      <th>id</th>\n      <th></th>\n      <th></th>\n      <th></th>\n      <th></th>\n      <th></th>\n      <th></th>\n      <th></th>\n      <th></th>\n    </tr>\n  </thead>\n  <tbody>\n    <tr>\n      <th>20747</th>\n      <td>37.838977</td>\n      <td>-122.205489</td>\n      <td>1000ft Montclair</td>\n      <td>outside</td>\n      <td>1.69</td>\n      <td>56.0</td>\n      <td>79.0</td>\n      <td>980.12</td>\n    </tr>\n    <tr>\n      <th>81677</th>\n      <td>37.889085</td>\n      <td>-122.264327</td>\n      <td>1044 Keith Ave, Berkeley</td>\n      <td>outside</td>\n      <td>1.71</td>\n      <td>59.0</td>\n      <td>65.0</td>\n      <td>996.06</td>\n    </tr>\n    <tr>\n      <th>79125</th>\n      <td>37.882941</td>\n      <td>-122.288017</td>\n      <td>1094 Tevlin St</td>\n      <td>inside</td>\n      <td>0.50</td>\n      <td>75.0</td>\n      <td>40.0</td>\n      <td>1014.05</td>\n    </tr>\n    <tr>\n      <th>77685</th>\n      <td>37.801872</td>\n      <td>-122.274582</td>\n      <td>10th and Washington</td>\n      <td>inside</td>\n      <td>0.80</td>\n      <td>77.0</td>\n      <td>37.0</td>\n      <td>1015.25</td>\n    </tr>\n    <tr>\n      <th>37971</th>\n      <td>37.883729</td>\n      <td>-122.290362</td>\n      <td>1128 Key Route Blvd, Albany CA</td>\n      <td>outside</td>\n      <td>5.31</td>\n      <td>60.0</td>\n      <td>61.0</td>\n      <td>1014.56</td>\n    </tr>\n    <tr>\n      <th>...</th>\n      <td>...</td>\n      <td>...</td>\n      <td>...</td>\n      <td>...</td>\n      <td>...</td>\n      <td>...</td>\n      <td>...</td>\n      <td>...</td>\n    </tr>\n    <tr>\n      <th>26977</th>\n      <td>37.813427</td>\n      <td>-122.282483</td>\n      <td>Xanadu</td>\n      <td>inside</td>\n      <td>0.22</td>\n      <td>84.0</td>\n      <td>32.0</td>\n      <td>1015.70</td>\n    </tr>\n    <tr>\n      <th>56281</th>\n      <td>37.813500</td>\n      <td>-122.282971</td>\n      <td>Xanadu</td>\n      <td>outside</td>\n      <td>1.10</td>\n      <td>58.0</td>\n      <td>66.0</td>\n      <td>1016.17</td>\n    </tr>\n    <tr>\n      <th>62619</th>\n      <td>37.886177</td>\n      <td>-122.272443</td>\n      <td>Yolo</td>\n      <td>inside</td>\n      <td>0.06</td>\n      <td>90.0</td>\n      <td>22.0</td>\n      <td>1006.64</td>\n    </tr>\n    <tr>\n      <th>75223</th>\n      <td>37.827560</td>\n      <td>-122.205627</td>\n      <td>Zinn Drive</td>\n      <td>outside</td>\n      <td>2.23</td>\n      <td>56.0</td>\n      <td>68.0</td>\n      <td>986.26</td>\n    </tr>\n    <tr>\n      <th>123201</th>\n      <td>37.869390</td>\n      <td>-122.245792</td>\n      <td>zz</td>\n      <td>inside</td>\n      <td>0.17</td>\n      <td>76.0</td>\n      <td>33.0</td>\n      <td>988.48</td>\n    </tr>\n  </tbody>\n</table>\n<p>817 rows × 8 columns</p>\n</div>"
     },
     "metadata": {}
    }
   ]
  },
  {
   "cell_type": "markdown",
   "source": "Now that we have a smaller subset of data to work with, the next step is to use the PM 2.5 measures to assign each sensor to an AQI Index Category and corresponding color. \n\n**Run the cell below to create a new column in the dataframe that indicates the sensors AQI Index.**",
   "metadata": {
    "tags": [],
    "cell_id": "00022-1b077f57-02a3-4169-8666-8efb05b6494f",
    "deepnote_cell_type": "markdown"
   }
  },
  {
   "cell_type": "code",
   "metadata": {
    "tags": [],
    "cell_id": "00023-9e7df17a-8886-4a93-a868-1958b7034700",
    "deepnote_to_be_reexecuted": false,
    "source_hash": "44ccc048",
    "execution_start": 1639017449838,
    "execution_millis": 4,
    "deepnote_cell_type": "code"
   },
   "source": "#creating a column that indicates the AQI code name\ncolorCode = []\nfor i in berkeleyData[\"pm_2.5\"].to_list():\n    if i <= 12.0:\n        colorCode.append('good')\n    elif (i < 12) & (i <=35.4):\n        colorCode.append('moderate')\n    elif (i < 35.5) & (i <=55.4):\n        colorCode.append('unhealthy for sensitive groups')   \n    elif (i < 55.5) & (i <=150.4):\n        colorCode.append('unhealthy')\n    elif (i < 150.5) & (i <=250.4):\n        colorCode.append('very unhealthy')\n    else:\n        colorCode.append('hazardous')\n\nberkeleyData['code'] = colorCode",
   "execution_count": 11,
   "outputs": []
  },
  {
   "cell_type": "markdown",
   "source": "Our last step is to use the longitude and latitude coordinates to map the relative location of the sensor with is corresponding AQI Index color!",
   "metadata": {
    "tags": [],
    "cell_id": "00024-f6a8c9ff-3808-4bc8-bea0-e6bd7bac0551",
    "deepnote_cell_type": "markdown"
   }
  },
  {
   "cell_type": "code",
   "metadata": {
    "tags": [],
    "cell_id": "00007-881b9fa0-5a2d-4db9-bab9-0425aa2abcd1",
    "deepnote_to_be_reexecuted": false,
    "source_hash": "723c9c1e",
    "execution_start": 1639017450813,
    "execution_millis": 599,
    "deepnote_cell_type": "code"
   },
   "source": "#### **NOTE: Working on overlaying a map of the area over scatter plot below and adding legend** \n\n#dictionary for AQI code and corresponding color\ncolors = {'good':'green', 'moderate':'yellow', 'unhealthy for sensitive groups':'orange', 'unhealthy':'red', 'very unhealthy':'purple', 'hazardous':'maroon'}\n\n#pull in shapefile of California Counties and covert to a coordinate reference system(crs)\ncali = gpd.read_file('CA_Counties')\ncali_convert = cali.to_crs(epsg=3857)\n\n\n#plot converted data map \nax = cali_convert.plot(figsize=(10, 10), alpha=0.5, edgecolor='k')\n\n\n#Scatter plot for pm_2.5 value of each sensor in the area\nx, y = berkeleyData['lon'].values, berkeleyData['lat'].values\nscatter = ax.scatter(x, y, marker='o', c=berkeleyData['code'].map(colors), cmap='plasma', s=70)\n#ax.legend()\n\nax.set_ylim([37.8, 37.9])\nax.set_xlim([-122.3, -122.2])\nax.set_title('Berkeley AQI Index Category')\nax.set_ylabel(\"Latitude\")\nax.set_xlabel(\"Longitude\")\nplt.show()",
   "execution_count": 12,
   "outputs": [
    {
     "output_type": "error",
     "ename": "NameError",
     "evalue": "name 'gpd' is not defined",
     "traceback": [
      "\u001b[0;31m---------------------------------------------------------------------------\u001b[0m",
      "\u001b[0;31mNameError\u001b[0m                                 Traceback (most recent call last)",
      "\u001b[0;32m<ipython-input-12-f30808389854>\u001b[0m in \u001b[0;36m<module>\u001b[0;34m\u001b[0m\n\u001b[1;32m      5\u001b[0m \u001b[0;34m\u001b[0m\u001b[0m\n\u001b[1;32m      6\u001b[0m \u001b[0;31m#pull in shapefile of California Counties and covert to a coordinate reference system(crs)\u001b[0m\u001b[0;34m\u001b[0m\u001b[0;34m\u001b[0m\u001b[0;34m\u001b[0m\u001b[0m\n\u001b[0;32m----> 7\u001b[0;31m \u001b[0mcali\u001b[0m \u001b[0;34m=\u001b[0m \u001b[0mgpd\u001b[0m\u001b[0;34m.\u001b[0m\u001b[0mread_file\u001b[0m\u001b[0;34m(\u001b[0m\u001b[0;34m'CA_Counties'\u001b[0m\u001b[0;34m)\u001b[0m\u001b[0;34m\u001b[0m\u001b[0;34m\u001b[0m\u001b[0m\n\u001b[0m\u001b[1;32m      8\u001b[0m \u001b[0mcali_convert\u001b[0m \u001b[0;34m=\u001b[0m \u001b[0mcali\u001b[0m\u001b[0;34m.\u001b[0m\u001b[0mto_crs\u001b[0m\u001b[0;34m(\u001b[0m\u001b[0mepsg\u001b[0m\u001b[0;34m=\u001b[0m\u001b[0;36m3857\u001b[0m\u001b[0;34m)\u001b[0m\u001b[0;34m\u001b[0m\u001b[0;34m\u001b[0m\u001b[0m\n\u001b[1;32m      9\u001b[0m \u001b[0;34m\u001b[0m\u001b[0m\n",
      "\u001b[0;31mNameError\u001b[0m: name 'gpd' is not defined"
     ]
    }
   ]
  },
  {
   "cell_type": "markdown",
   "source": "<a style='text-decoration:none;line-height:16px;display:flex;color:#5B5B62;padding:10px;justify-content:end;' href='https://deepnote.com?utm_source=created-in-deepnote-cell&projectId=f19ace53-ffd9-4b3c-a807-6437cb6cda39' target=\"_blank\">\n<img alt='Created in deepnote.com' style='display:inline;max-height:16px;margin:0px;margin-right:7.5px;' src='data:image/svg+xml;base64,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' > </img>\nCreated in <span style='font-weight:600;margin-left:4px;'>Deepnote</span></a>",
   "metadata": {
    "tags": [],
    "created_in_deepnote_cell": true,
    "deepnote_cell_type": "markdown"
   }
  }
 ],
 "nbformat": 4,
 "nbformat_minor": 2,
 "metadata": {
  "orig_nbformat": 2,
  "deepnote": {
   "is_reactive": false
  },
  "deepnote_notebook_id": "d9e66c1e-6ca7-430c-be17-2f7b5174ecd9",
  "deepnote_execution_queue": []
 }
}
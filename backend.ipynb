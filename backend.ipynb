{
 "cells": [
  {
   "cell_type": "markdown",
   "source": "Import all the dependencies",
   "metadata": {
    "tags": [],
    "cell_id": "00000-a91bd8d4-5772-49a3-ac28-d1fe13cf9740",
    "deepnote_cell_type": "markdown"
   }
  },
  {
   "cell_type": "code",
   "metadata": {
    "tags": [],
    "cell_id": "00000-60d2a3e0-0ba4-499d-85af-365f7105c320",
    "deepnote_to_be_reexecuted": false,
    "source_hash": "c2a06991",
    "execution_start": 1638334641721,
    "execution_millis": 2166,
    "deepnote_cell_type": "code"
   },
   "source": "import matplotlib.pyplot as plt\nimport numpy as np\nimport purpleair\nimport pandas as pd\nfrom purpleair.network import SensorList\nfrom purpleair.sensor import Sensor",
   "execution_count": 1,
   "outputs": []
  },
  {
   "cell_type": "markdown",
   "source": "Pull all the current data into a data frame",
   "metadata": {
    "tags": [],
    "cell_id": "00002-0f6b1e38-cfac-4e53-840a-ed894d69c2aa",
    "deepnote_cell_type": "markdown"
   }
  },
  {
   "cell_type": "code",
   "metadata": {
    "tags": [],
    "cell_id": "00001-f11597c6-7122-4259-a8f4-fdc3ac6b9a5d",
    "deepnote_to_be_reexecuted": false,
    "source_hash": "56e4498e",
    "execution_start": 1638334643905,
    "execution_millis": 10268,
    "deepnote_cell_type": "code"
   },
   "source": "from purpleair.network import SensorList\np = SensorList()\ndf = p.to_dataframe(sensor_filter='all',\n                    channel='parent')\ndf",
   "execution_count": 2,
   "outputs": [
    {
     "name": "stdout",
     "text": "Initialized 22,532 sensors!\n",
     "output_type": "stream"
    },
    {
     "output_type": "execute_result",
     "execution_count": 2,
     "data": {
      "application/vnd.deepnote.dataframe.v2+json": {
       "row_count": 22532,
       "column_count": 43,
       "columns": [
        {
         "name": "parent",
         "dtype": "object",
         "stats": {
          "unique_count": 0,
          "nan_count": 22532,
          "categories": [
           {
            "name": "Missing",
            "count": 22532
           }
          ]
         }
        },
        {
         "name": "lat",
         "dtype": "float64",
         "stats": {
          "unique_count": 22194,
          "nan_count": 93,
          "min": "-45.037846",
          "max": "79.99028",
          "histogram": [
           {
            "bin_start": -45.037846,
            "bin_end": -32.5350334,
            "count": 235
           },
           {
            "bin_start": -32.5350334,
            "bin_end": -20.0322208,
            "count": 77
           },
           {
            "bin_start": -20.0322208,
            "bin_end": -7.529408199999999,
            "count": 63
           },
           {
            "bin_start": -7.529408199999999,
            "bin_end": 4.9734044,
            "count": 86
           },
           {
            "bin_start": 4.9734044,
            "bin_end": 17.476217,
            "count": 298
           },
           {
            "bin_start": 17.476217,
            "bin_end": 29.979029600000004,
            "count": 685
           },
           {
            "bin_start": 29.979029600000004,
            "bin_end": 42.4818422,
            "count": 17157
           },
           {
            "bin_start": 42.4818422,
            "bin_end": 54.9846548,
            "count": 3621
           },
           {
            "bin_start": 54.9846548,
            "bin_end": 67.4874674,
            "count": 213
           },
           {
            "bin_start": 67.4874674,
            "bin_end": 79.99028,
            "count": 4
           }
          ]
         }
        },
        {
         "name": "lon",
         "dtype": "float64",
         "stats": {
          "unique_count": 22200,
          "nan_count": 93,
          "min": "-176.5285",
          "max": "178.32672",
          "histogram": [
           {
            "bin_start": -176.5285,
            "bin_end": -141.042978,
            "count": 185
           },
           {
            "bin_start": -141.042978,
            "bin_end": -105.557456,
            "count": 16903
           },
           {
            "bin_start": -105.557456,
            "bin_end": -70.071934,
            "count": 3441
           },
           {
            "bin_start": -70.071934,
            "bin_end": -34.586411999999996,
            "count": 156
           },
           {
            "bin_start": -34.586411999999996,
            "bin_end": 0.8991100000000074,
            "count": 197
           },
           {
            "bin_start": 0.8991100000000074,
            "bin_end": 36.38463200000001,
            "count": 601
           },
           {
            "bin_start": 36.38463200000001,
            "bin_end": 71.87015400000001,
            "count": 71
           },
           {
            "bin_start": 71.87015400000001,
            "bin_end": 107.35567600000002,
            "count": 485
           },
           {
            "bin_start": 107.35567600000002,
            "bin_end": 142.84119800000002,
            "count": 170
           },
           {
            "bin_start": 142.84119800000002,
            "bin_end": 178.32672,
            "count": 230
           }
          ]
         }
        },
        {
         "name": "name",
         "dtype": "object",
         "stats": {
          "unique_count": 21241,
          "nan_count": 0,
          "categories": [
           {
            "name": "Home",
            "count": 125
           },
           {
            "name": "Outside",
            "count": 28
           },
           {
            "name": "21239 others",
            "count": 22379
           }
          ]
         }
        },
        {
         "name": "location_type",
         "dtype": "object"
        },
        {
         "name": "pm_2.5",
         "dtype": "float64"
        },
        {
         "name": "temp_f",
         "dtype": "float64"
        },
        {
         "name": "temp_c",
         "dtype": "float64"
        },
        {
         "name": "humidity",
         "dtype": "float64"
        },
        {
         "name": "pressure",
         "dtype": "float64"
        },
        {
         "name": "p_0_3_um",
         "dtype": "object"
        },
        {
         "name": "p_0_5_um",
         "dtype": "object"
        },
        {
         "name": "p_1_0_um",
         "dtype": "object"
        },
        {
         "name": "p_2_5_um",
         "dtype": "object"
        },
        {
         "name": "p_5_0_um",
         "dtype": "object"
        },
        {
         "name": "p_10_0_um",
         "dtype": "object"
        },
        {
         "name": "pm1_0_cf_1",
         "dtype": "object"
        },
        {
         "name": "pm2_5_cf_1",
         "dtype": "object"
        },
        {
         "name": "pm10_0_cf_1",
         "dtype": "object"
        },
        {
         "name": "pm1_0_atm",
         "dtype": "object"
        },
        {
         "name": "pm2_5_atm",
         "dtype": "object"
        },
        {
         "name": "pm10_0_atm",
         "dtype": "object"
        },
        {
         "name": "last_seen",
         "dtype": "datetime64[ns]"
        },
        {
         "name": "model",
         "dtype": "object"
        },
        {
         "name": "adc",
         "dtype": "object"
        },
        {
         "name": "rssi",
         "dtype": "object"
        },
        {
         "name": "hidden",
         "dtype": "bool"
        },
        {
         "name": "flagged",
         "dtype": "bool"
        },
        {
         "name": "downgraded",
         "dtype": "bool"
        },
        {
         "name": "age",
         "dtype": "int64"
        },
        {
         "name": "brightness",
         "dtype": "object"
        },
        {
         "name": "hardware",
         "dtype": "object"
        },
        {
         "name": "version",
         "dtype": "object"
        },
        {
         "name": "last_update_check",
         "dtype": "object"
        },
        {
         "name": "created",
         "dtype": "object"
        },
        {
         "name": "uptime",
         "dtype": "object"
        },
        {
         "name": "is_owner",
         "dtype": "bool"
        },
        {
         "name": "10min_avg",
         "dtype": "float64"
        },
        {
         "name": "30min_avg",
         "dtype": "float64"
        },
        {
         "name": "1hour_avg",
         "dtype": "float64"
        },
        {
         "name": "6hour_avg",
         "dtype": "float64"
        },
        {
         "name": "1day_avg",
         "dtype": "float64"
        },
        {
         "name": "1week_avg",
         "dtype": "float64"
        },
        {
         "name": "_deepnote_index_column",
         "dtype": "int64"
        }
       ],
       "rows_top": [
        {
         "parent": "None",
         "lat": 37.275561,
         "lon": -121.964134,
         "name": " Hazelwood canary ",
         "location_type": "outside",
         "pm_2.5": 15.35,
         "temp_f": 63,
         "temp_c": 17.22222222222222,
         "humidity": 44,
         "pressure": 1012.16,
         "p_0_3_um": "None",
         "p_0_5_um": "None",
         "p_1_0_um": "None",
         "p_2_5_um": "None",
         "p_5_0_um": "None",
         "p_10_0_um": "None",
         "pm1_0_cf_1": "None",
         "pm2_5_cf_1": "None",
         "pm10_0_cf_1": "None",
         "pm1_0_atm": "None",
         "pm2_5_atm": "None",
         "pm10_0_atm": "None",
         "last_seen": "2021-12-01T04:55:38.000000",
         "model": "PMS5003+PMS5003+BME280",
         "adc": "None",
         "rssi": "None",
         "hidden": false,
         "flagged": true,
         "downgraded": false,
         "age": 1,
         "brightness": "None",
         "hardware": "None",
         "version": "None",
         "last_update_check": "None",
         "created": "None",
         "uptime": "None",
         "is_owner": false,
         "10min_avg": 26.86,
         "30min_avg": 20.18,
         "1hour_avg": 15.3,
         "6hour_avg": 14.27,
         "1day_avg": 15.32,
         "1week_avg": 9.8,
         "_deepnote_index_column": 14633
        },
        {
         "parent": "None",
         "lat": 30.053808,
         "lon": -95.494643,
         "name": " Villages of Bridgestone AQI",
         "location_type": "outside",
         "pm_2.5": 28.83,
         "temp_f": 66,
         "temp_c": 18.88888888888889,
         "humidity": 66,
         "pressure": 1016.76,
         "p_0_3_um": "None",
         "p_0_5_um": "None",
         "p_1_0_um": "None",
         "p_2_5_um": "None",
         "p_5_0_um": "None",
         "p_10_0_um": "None",
         "pm1_0_cf_1": "None",
         "pm2_5_cf_1": "None",
         "pm10_0_cf_1": "None",
         "pm1_0_atm": "None",
         "pm2_5_atm": "None",
         "pm10_0_atm": "None",
         "last_seen": "2021-12-01T04:56:35.000000",
         "model": "PMS5003+PMS5003+BME280",
         "adc": "None",
         "rssi": "None",
         "hidden": false,
         "flagged": false,
         "downgraded": false,
         "age": 0,
         "brightness": "None",
         "hardware": "None",
         "version": "None",
         "last_update_check": "None",
         "created": "None",
         "uptime": "None",
         "is_owner": false,
         "10min_avg": 28.59,
         "30min_avg": 24.91,
         "1hour_avg": 21.38,
         "6hour_avg": 19.03,
         "1day_avg": 19.33,
         "1week_avg": 15.75,
         "_deepnote_index_column": 25999
        },
        {
         "parent": "None",
         "lat": 37.88362,
         "lon": -122.070087,
         "name": " WC Hillside",
         "location_type": "outside",
         "pm_2.5": 14.74,
         "temp_f": 62,
         "temp_c": 16.666666666666668,
         "humidity": 51,
         "pressure": 1007.3,
         "p_0_3_um": "None",
         "p_0_5_um": "None",
         "p_1_0_um": "None",
         "p_2_5_um": "None",
         "p_5_0_um": "None",
         "p_10_0_um": "None",
         "pm1_0_cf_1": "None",
         "pm2_5_cf_1": "None",
         "pm10_0_cf_1": "None",
         "pm1_0_atm": "None",
         "pm2_5_atm": "None",
         "pm10_0_atm": "None",
         "last_seen": "2021-12-01T04:55:49.000000",
         "model": "PMS5003+PMS5003+BME280",
         "adc": "None",
         "rssi": "None",
         "hidden": false,
         "flagged": true,
         "downgraded": false,
         "age": 1,
         "brightness": "None",
         "hardware": "None",
         "version": "None",
         "last_update_check": "None",
         "created": "None",
         "uptime": "None",
         "is_owner": false,
         "10min_avg": 12.91,
         "30min_avg": 11.76,
         "1hour_avg": 11.25,
         "6hour_avg": 16.9,
         "1day_avg": 23.13,
         "1week_avg": 16.84,
         "_deepnote_index_column": 14091
        },
        {
         "parent": "None",
         "lat": 38.573703,
         "lon": -121.439113,
         "name": "\"C\" Street Air Shelter",
         "location_type": "inside",
         "pm_2.5": 8.67,
         "temp_f": 78,
         "temp_c": 25.555555555555557,
         "humidity": 45,
         "pressure": 1020.21,
         "p_0_3_um": "None",
         "p_0_5_um": "None",
         "p_1_0_um": "None",
         "p_2_5_um": "None",
         "p_5_0_um": "None",
         "p_10_0_um": "None",
         "pm1_0_cf_1": "None",
         "pm2_5_cf_1": "None",
         "pm10_0_cf_1": "None",
         "pm1_0_atm": "None",
         "pm2_5_atm": "None",
         "pm10_0_atm": "None",
         "last_seen": "2021-12-01T04:56:24.000000",
         "model": "PMS5003+PMS5003+BME280",
         "adc": "None",
         "rssi": "None",
         "hidden": false,
         "flagged": false,
         "downgraded": false,
         "age": 0,
         "brightness": "None",
         "hardware": "None",
         "version": "None",
         "last_update_check": "None",
         "created": "None",
         "uptime": "None",
         "is_owner": false,
         "10min_avg": 8.66,
         "30min_avg": 8.05,
         "1hour_avg": 7.5,
         "6hour_avg": 6.67,
         "1day_avg": 7.15,
         "1week_avg": 5.32,
         "_deepnote_index_column": 108226
        },
        {
         "parent": "None",
         "lat": 18.759182,
         "lon": 99.017172,
         "name": "\"First's Place\"",
         "location_type": "outside",
         "pm_2.5": 23.74,
         "temp_f": 98,
         "temp_c": 36.66666666666667,
         "humidity": 27,
         "pressure": 982.58,
         "p_0_3_um": "None",
         "p_0_5_um": "None",
         "p_1_0_um": "None",
         "p_2_5_um": "None",
         "p_5_0_um": "None",
         "p_10_0_um": "None",
         "pm1_0_cf_1": "None",
         "pm2_5_cf_1": "None",
         "pm10_0_cf_1": "None",
         "pm1_0_atm": "None",
         "pm2_5_atm": "None",
         "pm10_0_atm": "None",
         "last_seen": "2021-12-01T04:55:18.000000",
         "model": "PMS5003+PMS5003+BME280",
         "adc": "None",
         "rssi": "None",
         "hidden": false,
         "flagged": false,
         "downgraded": false,
         "age": 1,
         "brightness": "None",
         "hardware": "None",
         "version": "None",
         "last_update_check": "None",
         "created": "None",
         "uptime": "None",
         "is_owner": false,
         "10min_avg": 23.21,
         "30min_avg": 22.44,
         "1hour_avg": 22.37,
         "6hour_avg": 22.62,
         "1day_avg": 23.29,
         "1week_avg": 26.29,
         "_deepnote_index_column": 49409
        },
        {
         "parent": "None",
         "lat": 47.185173,
         "lon": -122.176855,
         "name": "#1",
         "location_type": "outside",
         "pm_2.5": 2.16,
         "temp_f": 59,
         "temp_c": 15,
         "humidity": 66,
         "pressure": 1003.83,
         "p_0_3_um": "None",
         "p_0_5_um": "None",
         "p_1_0_um": "None",
         "p_2_5_um": "None",
         "p_5_0_um": "None",
         "p_10_0_um": "None",
         "pm1_0_cf_1": "None",
         "pm2_5_cf_1": "None",
         "pm10_0_cf_1": "None",
         "pm1_0_atm": "None",
         "pm2_5_atm": "None",
         "pm10_0_atm": "None",
         "last_seen": "2021-12-01T04:56:16.000000",
         "model": "PMS5003+PMS5003+BME280",
         "adc": "None",
         "rssi": "None",
         "hidden": false,
         "flagged": false,
         "downgraded": false,
         "age": 0,
         "brightness": "None",
         "hardware": "None",
         "version": "None",
         "last_update_check": "None",
         "created": "None",
         "uptime": "None",
         "is_owner": false,
         "10min_avg": 2.12,
         "30min_avg": 1.82,
         "1hour_avg": 1.44,
         "6hour_avg": 2.24,
         "1day_avg": 4.77,
         "1week_avg": 8.94,
         "_deepnote_index_column": 42073
        },
        {
         "parent": "None",
         "lat": 47.190197,
         "lon": -122.177992,
         "name": "#2",
         "location_type": "outside",
         "pm_2.5": 1.95,
         "temp_f": 60,
         "temp_c": 15.555555555555557,
         "humidity": 70,
         "pressure": 1003.83,
         "p_0_3_um": "None",
         "p_0_5_um": "None",
         "p_1_0_um": "None",
         "p_2_5_um": "None",
         "p_5_0_um": "None",
         "p_10_0_um": "None",
         "pm1_0_cf_1": "None",
         "pm2_5_cf_1": "None",
         "pm10_0_cf_1": "None",
         "pm1_0_atm": "None",
         "pm2_5_atm": "None",
         "pm10_0_atm": "None",
         "last_seen": "2021-12-01T04:56:46.000000",
         "model": "PMS5003+PMS5003+BME280",
         "adc": "None",
         "rssi": "None",
         "hidden": false,
         "flagged": false,
         "downgraded": false,
         "age": 0,
         "brightness": "None",
         "hardware": "None",
         "version": "None",
         "last_update_check": "None",
         "created": "None",
         "uptime": "None",
         "is_owner": false,
         "10min_avg": 1.99,
         "30min_avg": 1.71,
         "1hour_avg": 1.37,
         "6hour_avg": 2.32,
         "1day_avg": 5.09,
         "1week_avg": 9.59,
         "_deepnote_index_column": 53069
        },
        {
         "parent": "None",
         "lat": 40.098715,
         "lon": -105.166649,
         "name": "#254",
         "location_type": "inside",
         "pm_2.5": 1.73,
         "temp_f": 74,
         "temp_c": 23.333333333333336,
         "humidity": 20,
         "pressure": 850.68,
         "p_0_3_um": "None",
         "p_0_5_um": "None",
         "p_1_0_um": "None",
         "p_2_5_um": "None",
         "p_5_0_um": "None",
         "p_10_0_um": "None",
         "pm1_0_cf_1": "None",
         "pm2_5_cf_1": "None",
         "pm10_0_cf_1": "None",
         "pm1_0_atm": "None",
         "pm2_5_atm": "None",
         "pm10_0_atm": "None",
         "last_seen": "2021-11-25T19:18:03.000000",
         "model": "PMS5003+PMS5003+BME280",
         "adc": "None",
         "rssi": "None",
         "hidden": false,
         "flagged": true,
         "downgraded": false,
         "age": 7779,
         "brightness": "None",
         "hardware": "None",
         "version": "None",
         "last_update_check": "None",
         "created": "None",
         "uptime": "None",
         "is_owner": false,
         "10min_avg": 1.69,
         "30min_avg": 1.97,
         "1hour_avg": 2.29,
         "6hour_avg": 2.24,
         "1day_avg": 1.55,
         "1week_avg": 1.37,
         "_deepnote_index_column": 108558
        },
        {
         "parent": "None",
         "lat": 40.160043,
         "lon": -79.272304,
         "name": "#9",
         "location_type": "outside",
         "pm_2.5": 13.51,
         "temp_f": 48,
         "temp_c": 8.88888888888889,
         "humidity": 53,
         "pressure": 969.52,
         "p_0_3_um": "None",
         "p_0_5_um": "None",
         "p_1_0_um": "None",
         "p_2_5_um": "None",
         "p_5_0_um": "None",
         "p_10_0_um": "None",
         "pm1_0_cf_1": "None",
         "pm2_5_cf_1": "None",
         "pm10_0_cf_1": "None",
         "pm1_0_atm": "None",
         "pm2_5_atm": "None",
         "pm10_0_atm": "None",
         "last_seen": "2021-12-01T04:56:46.000000",
         "model": "PMS5003+PMS5003+BME280",
         "adc": "None",
         "rssi": "None",
         "hidden": false,
         "flagged": false,
         "downgraded": false,
         "age": 0,
         "brightness": "None",
         "hardware": "None",
         "version": "None",
         "last_update_check": "None",
         "created": "None",
         "uptime": "None",
         "is_owner": false,
         "10min_avg": 13.27,
         "30min_avg": 11.63,
         "1hour_avg": 10.51,
         "6hour_avg": 7.71,
         "1day_avg": 7.94,
         "1week_avg": 8.52,
         "_deepnote_index_column": 94891
        },
        {
         "parent": "None",
         "lat": 36.807322,
         "lon": -119.796034,
         "name": "#ValleyClimate 2",
         "location_type": "inside",
         "pm_2.5": 40.53,
         "temp_f": 76,
         "temp_c": 24.444444444444446,
         "humidity": 41,
         "pressure": 1010.47,
         "p_0_3_um": "None",
         "p_0_5_um": "None",
         "p_1_0_um": "None",
         "p_2_5_um": "None",
         "p_5_0_um": "None",
         "p_10_0_um": "None",
         "pm1_0_cf_1": "None",
         "pm2_5_cf_1": "None",
         "pm10_0_cf_1": "None",
         "pm1_0_atm": "None",
         "pm2_5_atm": "None",
         "pm10_0_atm": "None",
         "last_seen": "2021-12-01T04:55:48.000000",
         "model": "PMS5003+PMS5003+BME280",
         "adc": "None",
         "rssi": "None",
         "hidden": false,
         "flagged": true,
         "downgraded": false,
         "age": 1,
         "brightness": "None",
         "hardware": "None",
         "version": "None",
         "last_update_check": "None",
         "created": "None",
         "uptime": "None",
         "is_owner": false,
         "10min_avg": 33.71,
         "30min_avg": 20.83,
         "1hour_avg": 16.72,
         "6hour_avg": 22.16,
         "1day_avg": 23.46,
         "1week_avg": 22.82,
         "_deepnote_index_column": 125651
        },
        {
         "parent": "None",
         "lat": 36.807377,
         "lon": -119.796109,
         "name": "#ValleyClimate",
         "location_type": "outside",
         "pm_2.5": 69.15,
         "temp_f": 60,
         "temp_c": 15.555555555555557,
         "humidity": 61,
         "pressure": 1010.82,
         "p_0_3_um": "None",
         "p_0_5_um": "None",
         "p_1_0_um": "None",
         "p_2_5_um": "None",
         "p_5_0_um": "None",
         "p_10_0_um": "None",
         "pm1_0_cf_1": "None",
         "pm2_5_cf_1": "None",
         "pm10_0_cf_1": "None",
         "pm1_0_atm": "None",
         "pm2_5_atm": "None",
         "pm10_0_atm": "None",
         "last_seen": "2021-12-01T04:55:46.000000",
         "model": "PMS5003+PMS5003+BME280",
         "adc": "None",
         "rssi": "None",
         "hidden": false,
         "flagged": false,
         "downgraded": false,
         "age": 1,
         "brightness": "None",
         "hardware": "None",
         "version": "None",
         "last_update_check": "None",
         "created": "None",
         "uptime": "None",
         "is_owner": false,
         "10min_avg": 67.94,
         "30min_avg": 64.17,
         "1hour_avg": 60.01,
         "6hour_avg": 53.58,
         "1day_avg": 53.62,
         "1week_avg": 44.09,
         "_deepnote_index_column": 22751
        }
       ],
       "rows_bottom": [
        {
         "parent": "None",
         "lat": 36.772892,
         "lon": 127.021792,
         "name": "이순신종합운동장",
         "location_type": "outside",
         "pm_2.5": 14.09,
         "temp_f": 43,
         "temp_c": 6.111111111111112,
         "humidity": 30,
         "pressure": 1018.8,
         "p_0_3_um": "None",
         "p_0_5_um": "None",
         "p_1_0_um": "None",
         "p_2_5_um": "None",
         "p_5_0_um": "None",
         "p_10_0_um": "None",
         "pm1_0_cf_1": "None",
         "pm2_5_cf_1": "None",
         "pm10_0_cf_1": "None",
         "pm1_0_atm": "None",
         "pm2_5_atm": "None",
         "pm10_0_atm": "None",
         "last_seen": "2021-12-01T04:55:12.000000",
         "model": "PMS5003+PMS5003+BME280",
         "adc": "None",
         "rssi": "None",
         "hidden": false,
         "flagged": false,
         "downgraded": false,
         "age": 1,
         "brightness": "None",
         "hardware": "None",
         "version": "None",
         "last_update_check": "None",
         "created": "None",
         "uptime": "None",
         "is_owner": false,
         "10min_avg": 11.65,
         "30min_avg": 10.73,
         "1hour_avg": 10.2,
         "6hour_avg": 17.22,
         "1day_avg": 34.16,
         "1week_avg": 41.99,
         "_deepnote_index_column": 64969
        },
        {
         "parent": "None",
         "lat": 36.869269,
         "lon": 126.885076,
         "name": "인주면사무소",
         "location_type": "outside",
         "pm_2.5": 14.14,
         "temp_f": 47,
         "temp_c": 8.333333333333334,
         "humidity": 31,
         "pressure": 1022.96,
         "p_0_3_um": "None",
         "p_0_5_um": "None",
         "p_1_0_um": "None",
         "p_2_5_um": "None",
         "p_5_0_um": "None",
         "p_10_0_um": "None",
         "pm1_0_cf_1": "None",
         "pm2_5_cf_1": "None",
         "pm10_0_cf_1": "None",
         "pm1_0_atm": "None",
         "pm2_5_atm": "None",
         "pm10_0_atm": "None",
         "last_seen": "2021-12-01T04:56:47.000000",
         "model": "PMS5003+PMS5003+BME280",
         "adc": "None",
         "rssi": "None",
         "hidden": false,
         "flagged": true,
         "downgraded": false,
         "age": 0,
         "brightness": "None",
         "hardware": "None",
         "version": "None",
         "last_update_check": "None",
         "created": "None",
         "uptime": "None",
         "is_owner": false,
         "10min_avg": 13.44,
         "30min_avg": 12.84,
         "1hour_avg": 12.33,
         "6hour_avg": 18.23,
         "1day_avg": 36.01,
         "1week_avg": 42.29,
         "_deepnote_index_column": 65011
        },
        {
         "parent": "None",
         "lat": 36.801094,
         "lon": 127.142108,
         "name": "일봉동행정복지센터",
         "location_type": "outside",
         "pm_2.5": 13.95,
         "temp_f": 42,
         "temp_c": 5.555555555555555,
         "humidity": 26,
         "pressure": 1019.79,
         "p_0_3_um": "None",
         "p_0_5_um": "None",
         "p_1_0_um": "None",
         "p_2_5_um": "None",
         "p_5_0_um": "None",
         "p_10_0_um": "None",
         "pm1_0_cf_1": "None",
         "pm2_5_cf_1": "None",
         "pm10_0_cf_1": "None",
         "pm1_0_atm": "None",
         "pm2_5_atm": "None",
         "pm10_0_atm": "None",
         "last_seen": "2021-12-01T04:55:37.000000",
         "model": "PMS5003+PMS5003+BME280",
         "adc": "None",
         "rssi": "None",
         "hidden": false,
         "flagged": false,
         "downgraded": false,
         "age": 1,
         "brightness": "None",
         "hardware": "None",
         "version": "None",
         "last_update_check": "None",
         "created": "None",
         "uptime": "None",
         "is_owner": false,
         "10min_avg": 12.64,
         "30min_avg": 12.02,
         "1hour_avg": 11.65,
         "6hour_avg": 18.94,
         "1day_avg": 35.22,
         "1week_avg": 42.02,
         "_deepnote_index_column": 64927
        },
        {
         "parent": "None",
         "lat": 36.912386,
         "lon": 127.221351,
         "name": "입장면행정복지센터",
         "location_type": "outside",
         "pm_2.5": 17.42,
         "temp_f": 51,
         "temp_c": 10.555555555555555,
         "humidity": 21,
         "pressure": 1017.87,
         "p_0_3_um": "None",
         "p_0_5_um": "None",
         "p_1_0_um": "None",
         "p_2_5_um": "None",
         "p_5_0_um": "None",
         "p_10_0_um": "None",
         "pm1_0_cf_1": "None",
         "pm2_5_cf_1": "None",
         "pm10_0_cf_1": "None",
         "pm1_0_atm": "None",
         "pm2_5_atm": "None",
         "pm10_0_atm": "None",
         "last_seen": "2021-12-01T04:55:23.000000",
         "model": "PMS5003+PMS5003+BME280",
         "adc": "None",
         "rssi": "None",
         "hidden": false,
         "flagged": false,
         "downgraded": false,
         "age": 1,
         "brightness": "None",
         "hardware": "None",
         "version": "None",
         "last_update_check": "None",
         "created": "None",
         "uptime": "None",
         "is_owner": false,
         "10min_avg": 13.27,
         "30min_avg": 13.59,
         "1hour_avg": 13.98,
         "6hour_avg": 21.92,
         "1day_avg": 37.95,
         "1week_avg": 43.96,
         "_deepnote_index_column": 47689
        },
        {
         "parent": "None",
         "lat": 36.79885,
         "lon": 127.151822,
         "name": "중앙동행정복지센터",
         "location_type": "outside",
         "pm_2.5": 13.38,
         "temp_f": 45,
         "temp_c": 7.222222222222222,
         "humidity": 25,
         "pressure": 1020.21,
         "p_0_3_um": "None",
         "p_0_5_um": "None",
         "p_1_0_um": "None",
         "p_2_5_um": "None",
         "p_5_0_um": "None",
         "p_10_0_um": "None",
         "pm1_0_cf_1": "None",
         "pm2_5_cf_1": "None",
         "pm10_0_cf_1": "None",
         "pm1_0_atm": "None",
         "pm2_5_atm": "None",
         "pm10_0_atm": "None",
         "last_seen": "2021-12-01T04:56:18.000000",
         "model": "PMS5003+PMS5003+BME280",
         "adc": "None",
         "rssi": "None",
         "hidden": false,
         "flagged": false,
         "downgraded": false,
         "age": 0,
         "brightness": "None",
         "hardware": "None",
         "version": "None",
         "last_update_check": "None",
         "created": "None",
         "uptime": "None",
         "is_owner": false,
         "10min_avg": 13.57,
         "30min_avg": 13.08,
         "1hour_avg": 12.84,
         "6hour_avg": 20.13,
         "1day_avg": 35.84,
         "1week_avg": 42.24,
         "_deepnote_index_column": 64933
        },
        {
         "parent": "None",
         "lat": 36.787617,
         "lon": 127.092178,
         "name": "지산공원",
         "location_type": "outside",
         "pm_2.5": 12.39,
         "temp_f": 43,
         "temp_c": 6.111111111111112,
         "humidity": 30,
         "pressure": 1021.32,
         "p_0_3_um": "None",
         "p_0_5_um": "None",
         "p_1_0_um": "None",
         "p_2_5_um": "None",
         "p_5_0_um": "None",
         "p_10_0_um": "None",
         "pm1_0_cf_1": "None",
         "pm2_5_cf_1": "None",
         "pm10_0_cf_1": "None",
         "pm1_0_atm": "None",
         "pm2_5_atm": "None",
         "pm10_0_atm": "None",
         "last_seen": "2021-12-01T04:55:23.000000",
         "model": "PMS5003+PMS5003+BME280",
         "adc": "None",
         "rssi": "None",
         "hidden": false,
         "flagged": false,
         "downgraded": false,
         "age": 1,
         "brightness": "None",
         "hardware": "None",
         "version": "None",
         "last_update_check": "None",
         "created": "None",
         "uptime": "None",
         "is_owner": false,
         "10min_avg": 13.38,
         "30min_avg": 12.31,
         "1hour_avg": 11.87,
         "6hour_avg": 19.27,
         "1day_avg": 36.59,
         "1week_avg": 42.53,
         "_deepnote_index_column": 64097
        },
        {
         "parent": "None",
         "lat": 36.783216,
         "lon": 127.165218,
         "name": "차량등록사업소",
         "location_type": "outside",
         "pm_2.5": 11.49,
         "temp_f": 44,
         "temp_c": 6.666666666666667,
         "humidity": 26,
         "pressure": 1018.49,
         "p_0_3_um": "None",
         "p_0_5_um": "None",
         "p_1_0_um": "None",
         "p_2_5_um": "None",
         "p_5_0_um": "None",
         "p_10_0_um": "None",
         "pm1_0_cf_1": "None",
         "pm2_5_cf_1": "None",
         "pm10_0_cf_1": "None",
         "pm1_0_atm": "None",
         "pm2_5_atm": "None",
         "pm10_0_atm": "None",
         "last_seen": "2021-12-01T04:55:36.000000",
         "model": "PMS5003+PMS5003+BME280",
         "adc": "None",
         "rssi": "None",
         "hidden": false,
         "flagged": false,
         "downgraded": false,
         "age": 1,
         "brightness": "None",
         "hardware": "None",
         "version": "None",
         "last_update_check": "None",
         "created": "None",
         "uptime": "None",
         "is_owner": false,
         "10min_avg": 11.26,
         "30min_avg": 10.71,
         "1hour_avg": 10.48,
         "6hour_avg": 18.31,
         "1day_avg": 34.26,
         "1week_avg": 40.68,
         "_deepnote_index_column": 65005
        },
        {
         "parent": "None",
         "lat": 36.785883,
         "lon": 127.15704,
         "name": "청룡동행정복지센터",
         "location_type": "outside",
         "pm_2.5": 11.74,
         "temp_f": 38,
         "temp_c": 3.3333333333333335,
         "humidity": 31,
         "pressure": 1018.53,
         "p_0_3_um": "None",
         "p_0_5_um": "None",
         "p_1_0_um": "None",
         "p_2_5_um": "None",
         "p_5_0_um": "None",
         "p_10_0_um": "None",
         "pm1_0_cf_1": "None",
         "pm2_5_cf_1": "None",
         "pm10_0_cf_1": "None",
         "pm1_0_atm": "None",
         "pm2_5_atm": "None",
         "pm10_0_atm": "None",
         "last_seen": "2021-12-01T04:56:41.000000",
         "model": "PMS5003+PMS5003+BME280",
         "adc": "None",
         "rssi": "None",
         "hidden": false,
         "flagged": true,
         "downgraded": false,
         "age": 0,
         "brightness": "None",
         "hardware": "None",
         "version": "None",
         "last_update_check": "None",
         "created": "None",
         "uptime": "None",
         "is_owner": false,
         "10min_avg": 11.37,
         "30min_avg": 10.69,
         "1hour_avg": 10.44,
         "6hour_avg": 18.15,
         "1day_avg": 34.14,
         "1week_avg": 41.38,
         "_deepnote_index_column": 64085
        },
        {
         "parent": "None",
         "lat": 36.691324,
         "lon": 126.585255,
         "name": "한서대학교",
         "location_type": "outside",
         "pm_2.5": 12.57,
         "temp_f": 43,
         "temp_c": 6.111111111111112,
         "humidity": 36,
         "pressure": 1009.76,
         "p_0_3_um": "None",
         "p_0_5_um": "None",
         "p_1_0_um": "None",
         "p_2_5_um": "None",
         "p_5_0_um": "None",
         "p_10_0_um": "None",
         "pm1_0_cf_1": "None",
         "pm2_5_cf_1": "None",
         "pm10_0_cf_1": "None",
         "pm1_0_atm": "None",
         "pm2_5_atm": "None",
         "pm10_0_atm": "None",
         "last_seen": "2021-12-01T04:55:25.000000",
         "model": "PMS5003+PMS5003+BME280",
         "adc": "None",
         "rssi": "None",
         "hidden": false,
         "flagged": false,
         "downgraded": false,
         "age": 1,
         "brightness": "None",
         "hardware": "None",
         "version": "None",
         "last_update_check": "None",
         "created": "None",
         "uptime": "None",
         "is_owner": false,
         "10min_avg": 11.17,
         "30min_avg": 11.31,
         "1hour_avg": 11.21,
         "6hour_avg": 14.74,
         "1day_avg": 21.31,
         "1week_avg": 26.66,
         "_deepnote_index_column": 64995
        },
        {
         "parent": "None",
         "lat": 36.71072,
         "lon": 126.54839,
         "name": "해미읍성",
         "location_type": "outside",
         "pm_2.5": 11.39,
         "temp_f": 41,
         "temp_c": 5,
         "humidity": 39,
         "pressure": 1020.61,
         "p_0_3_um": "None",
         "p_0_5_um": "None",
         "p_1_0_um": "None",
         "p_2_5_um": "None",
         "p_5_0_um": "None",
         "p_10_0_um": "None",
         "pm1_0_cf_1": "None",
         "pm2_5_cf_1": "None",
         "pm10_0_cf_1": "None",
         "pm1_0_atm": "None",
         "pm2_5_atm": "None",
         "pm10_0_atm": "None",
         "last_seen": "2021-12-01T04:56:02.000000",
         "model": "PMS5003+PMS5003+BME280",
         "adc": "None",
         "rssi": "None",
         "hidden": false,
         "flagged": false,
         "downgraded": false,
         "age": 1,
         "brightness": "None",
         "hardware": "None",
         "version": "None",
         "last_update_check": "None",
         "created": "None",
         "uptime": "None",
         "is_owner": false,
         "10min_avg": 11.01,
         "30min_avg": 11.05,
         "1hour_avg": 10.97,
         "6hour_avg": 14.91,
         "1day_avg": 24.71,
         "1week_avg": 29.71,
         "_deepnote_index_column": 64093
        },
        {
         "parent": "None",
         "lat": 36.761236,
         "lon": 127.3953,
         "name": "화덕보건진료소",
         "location_type": "outside",
         "pm_2.5": 10.39,
         "temp_f": 46,
         "temp_c": 7.777777777777779,
         "humidity": 27,
         "pressure": 1008.41,
         "p_0_3_um": "None",
         "p_0_5_um": "None",
         "p_1_0_um": "None",
         "p_2_5_um": "None",
         "p_5_0_um": "None",
         "p_10_0_um": "None",
         "pm1_0_cf_1": "None",
         "pm2_5_cf_1": "None",
         "pm10_0_cf_1": "None",
         "pm1_0_atm": "None",
         "pm2_5_atm": "None",
         "pm10_0_atm": "None",
         "last_seen": "2021-12-01T04:55:23.000000",
         "model": "PMS5003+PMS5003+BME280",
         "adc": "None",
         "rssi": "None",
         "hidden": false,
         "flagged": true,
         "downgraded": false,
         "age": 1,
         "brightness": "None",
         "hardware": "None",
         "version": "None",
         "last_update_check": "None",
         "created": "None",
         "uptime": "None",
         "is_owner": false,
         "10min_avg": 10.17,
         "30min_avg": 9.38,
         "1hour_avg": 9.07,
         "6hour_avg": 16.77,
         "1day_avg": 33.61,
         "1week_avg": 38.64,
         "_deepnote_index_column": 29747
        },
        {
         "parent": "None",
         "lat": 36.718003,
         "lon": 126.926841,
         "name": "화천1리마을회관",
         "location_type": "outside",
         "pm_2.5": 10.05,
         "temp_f": 48,
         "temp_c": 8.88888888888889,
         "humidity": 30,
         "pressure": 1015.15,
         "p_0_3_um": "None",
         "p_0_5_um": "None",
         "p_1_0_um": "None",
         "p_2_5_um": "None",
         "p_5_0_um": "None",
         "p_10_0_um": "None",
         "pm1_0_cf_1": "None",
         "pm2_5_cf_1": "None",
         "pm10_0_cf_1": "None",
         "pm1_0_atm": "None",
         "pm2_5_atm": "None",
         "pm10_0_atm": "None",
         "last_seen": "2021-12-01T04:56:52.000000",
         "model": "PMS5003+PMS5003+BME280",
         "adc": "None",
         "rssi": "None",
         "hidden": false,
         "flagged": false,
         "downgraded": false,
         "age": 0,
         "brightness": "None",
         "hardware": "None",
         "version": "None",
         "last_update_check": "None",
         "created": "None",
         "uptime": "None",
         "is_owner": false,
         "10min_avg": 11.64,
         "30min_avg": 11.5,
         "1hour_avg": 11.21,
         "6hour_avg": 15.35,
         "1day_avg": 25.7,
         "1week_avg": 31.81,
         "_deepnote_index_column": 98309
        }
       ]
      },
      "text/plain": "       parent        lat         lon                          name  \\\nid                                                                   \n14633    None  37.275561 -121.964134             Hazelwood canary    \n25999    None  30.053808  -95.494643   Villages of Bridgestone AQI   \n14091    None  37.883620 -122.070087                   WC Hillside   \n108226   None  38.573703 -121.439113        \"C\" Street Air Shelter   \n49409    None  18.759182   99.017172               \"First's Place\"   \n...       ...        ...         ...                           ...   \n64085    None  36.785883  127.157040                     청룡동행정복지센터   \n64995    None  36.691324  126.585255                         한서대학교   \n64093    None  36.710720  126.548390                          해미읍성   \n29747    None  36.761236  127.395300                       화덕보건진료소   \n98309    None  36.718003  126.926841                      화천1리마을회관   \n\n       location_type  pm_2.5  temp_f     temp_c  humidity  pressure  ...  \\\nid                                                                   ...   \n14633        outside   15.35    63.0  17.222222      44.0   1012.16  ...   \n25999        outside   28.83    66.0  18.888889      66.0   1016.76  ...   \n14091        outside   14.74    62.0  16.666667      51.0   1007.30  ...   \n108226        inside    8.67    78.0  25.555556      45.0   1020.21  ...   \n49409        outside   23.74    98.0  36.666667      27.0    982.58  ...   \n...              ...     ...     ...        ...       ...       ...  ...   \n64085        outside   11.74    38.0   3.333333      31.0   1018.53  ...   \n64995        outside   12.57    43.0   6.111111      36.0   1009.76  ...   \n64093        outside   11.39    41.0   5.000000      39.0   1020.61  ...   \n29747        outside   10.39    46.0   7.777778      27.0   1008.41  ...   \n98309        outside   10.05    48.0   8.888889      30.0   1015.15  ...   \n\n       last_update_check created uptime is_owner 10min_avg 30min_avg  \\\nid                                                                     \n14633               None    None   None    False     26.86     20.18   \n25999               None    None   None    False     28.59     24.91   \n14091               None    None   None    False     12.91     11.76   \n108226              None    None   None    False      8.66      8.05   \n49409               None    None   None    False     23.21     22.44   \n...                  ...     ...    ...      ...       ...       ...   \n64085               None    None   None    False     11.37     10.69   \n64995               None    None   None    False     11.17     11.31   \n64093               None    None   None    False     11.01     11.05   \n29747               None    None   None    False     10.17      9.38   \n98309               None    None   None    False     11.64     11.50   \n\n       1hour_avg 6hour_avg 1day_avg 1week_avg  \nid                                             \n14633      15.30     14.27    15.32      9.80  \n25999      21.38     19.03    19.33     15.75  \n14091      11.25     16.90    23.13     16.84  \n108226      7.50      6.67     7.15      5.32  \n49409      22.37     22.62    23.29     26.29  \n...          ...       ...      ...       ...  \n64085      10.44     18.15    34.14     41.38  \n64995      11.21     14.74    21.31     26.66  \n64093      10.97     14.91    24.71     29.71  \n29747       9.07     16.77    33.61     38.64  \n98309      11.21     15.35    25.70     31.81  \n\n[22532 rows x 43 columns]",
      "text/html": "<div>\n<style scoped>\n    .dataframe tbody tr th:only-of-type {\n        vertical-align: middle;\n    }\n\n    .dataframe tbody tr th {\n        vertical-align: top;\n    }\n\n    .dataframe thead th {\n        text-align: right;\n    }\n</style>\n<table border=\"1\" class=\"dataframe\">\n  <thead>\n    <tr style=\"text-align: right;\">\n      <th></th>\n      <th>parent</th>\n      <th>lat</th>\n      <th>lon</th>\n      <th>name</th>\n      <th>location_type</th>\n      <th>pm_2.5</th>\n      <th>temp_f</th>\n      <th>temp_c</th>\n      <th>humidity</th>\n      <th>pressure</th>\n      <th>...</th>\n      <th>last_update_check</th>\n      <th>created</th>\n      <th>uptime</th>\n      <th>is_owner</th>\n      <th>10min_avg</th>\n      <th>30min_avg</th>\n      <th>1hour_avg</th>\n      <th>6hour_avg</th>\n      <th>1day_avg</th>\n      <th>1week_avg</th>\n    </tr>\n    <tr>\n      <th>id</th>\n      <th></th>\n      <th></th>\n      <th></th>\n      <th></th>\n      <th></th>\n      <th></th>\n      <th></th>\n      <th></th>\n      <th></th>\n      <th></th>\n      <th></th>\n      <th></th>\n      <th></th>\n      <th></th>\n      <th></th>\n      <th></th>\n      <th></th>\n      <th></th>\n      <th></th>\n      <th></th>\n      <th></th>\n    </tr>\n  </thead>\n  <tbody>\n    <tr>\n      <th>14633</th>\n      <td>None</td>\n      <td>37.275561</td>\n      <td>-121.964134</td>\n      <td>Hazelwood canary</td>\n      <td>outside</td>\n      <td>15.35</td>\n      <td>63.0</td>\n      <td>17.222222</td>\n      <td>44.0</td>\n      <td>1012.16</td>\n      <td>...</td>\n      <td>None</td>\n      <td>None</td>\n      <td>None</td>\n      <td>False</td>\n      <td>26.86</td>\n      <td>20.18</td>\n      <td>15.30</td>\n      <td>14.27</td>\n      <td>15.32</td>\n      <td>9.80</td>\n    </tr>\n    <tr>\n      <th>25999</th>\n      <td>None</td>\n      <td>30.053808</td>\n      <td>-95.494643</td>\n      <td>Villages of Bridgestone AQI</td>\n      <td>outside</td>\n      <td>28.83</td>\n      <td>66.0</td>\n      <td>18.888889</td>\n      <td>66.0</td>\n      <td>1016.76</td>\n      <td>...</td>\n      <td>None</td>\n      <td>None</td>\n      <td>None</td>\n      <td>False</td>\n      <td>28.59</td>\n      <td>24.91</td>\n      <td>21.38</td>\n      <td>19.03</td>\n      <td>19.33</td>\n      <td>15.75</td>\n    </tr>\n    <tr>\n      <th>14091</th>\n      <td>None</td>\n      <td>37.883620</td>\n      <td>-122.070087</td>\n      <td>WC Hillside</td>\n      <td>outside</td>\n      <td>14.74</td>\n      <td>62.0</td>\n      <td>16.666667</td>\n      <td>51.0</td>\n      <td>1007.30</td>\n      <td>...</td>\n      <td>None</td>\n      <td>None</td>\n      <td>None</td>\n      <td>False</td>\n      <td>12.91</td>\n      <td>11.76</td>\n      <td>11.25</td>\n      <td>16.90</td>\n      <td>23.13</td>\n      <td>16.84</td>\n    </tr>\n    <tr>\n      <th>108226</th>\n      <td>None</td>\n      <td>38.573703</td>\n      <td>-121.439113</td>\n      <td>\"C\" Street Air Shelter</td>\n      <td>inside</td>\n      <td>8.67</td>\n      <td>78.0</td>\n      <td>25.555556</td>\n      <td>45.0</td>\n      <td>1020.21</td>\n      <td>...</td>\n      <td>None</td>\n      <td>None</td>\n      <td>None</td>\n      <td>False</td>\n      <td>8.66</td>\n      <td>8.05</td>\n      <td>7.50</td>\n      <td>6.67</td>\n      <td>7.15</td>\n      <td>5.32</td>\n    </tr>\n    <tr>\n      <th>49409</th>\n      <td>None</td>\n      <td>18.759182</td>\n      <td>99.017172</td>\n      <td>\"First's Place\"</td>\n      <td>outside</td>\n      <td>23.74</td>\n      <td>98.0</td>\n      <td>36.666667</td>\n      <td>27.0</td>\n      <td>982.58</td>\n      <td>...</td>\n      <td>None</td>\n      <td>None</td>\n      <td>None</td>\n      <td>False</td>\n      <td>23.21</td>\n      <td>22.44</td>\n      <td>22.37</td>\n      <td>22.62</td>\n      <td>23.29</td>\n      <td>26.29</td>\n    </tr>\n    <tr>\n      <th>...</th>\n      <td>...</td>\n      <td>...</td>\n      <td>...</td>\n      <td>...</td>\n      <td>...</td>\n      <td>...</td>\n      <td>...</td>\n      <td>...</td>\n      <td>...</td>\n      <td>...</td>\n      <td>...</td>\n      <td>...</td>\n      <td>...</td>\n      <td>...</td>\n      <td>...</td>\n      <td>...</td>\n      <td>...</td>\n      <td>...</td>\n      <td>...</td>\n      <td>...</td>\n      <td>...</td>\n    </tr>\n    <tr>\n      <th>64085</th>\n      <td>None</td>\n      <td>36.785883</td>\n      <td>127.157040</td>\n      <td>청룡동행정복지센터</td>\n      <td>outside</td>\n      <td>11.74</td>\n      <td>38.0</td>\n      <td>3.333333</td>\n      <td>31.0</td>\n      <td>1018.53</td>\n      <td>...</td>\n      <td>None</td>\n      <td>None</td>\n      <td>None</td>\n      <td>False</td>\n      <td>11.37</td>\n      <td>10.69</td>\n      <td>10.44</td>\n      <td>18.15</td>\n      <td>34.14</td>\n      <td>41.38</td>\n    </tr>\n    <tr>\n      <th>64995</th>\n      <td>None</td>\n      <td>36.691324</td>\n      <td>126.585255</td>\n      <td>한서대학교</td>\n      <td>outside</td>\n      <td>12.57</td>\n      <td>43.0</td>\n      <td>6.111111</td>\n      <td>36.0</td>\n      <td>1009.76</td>\n      <td>...</td>\n      <td>None</td>\n      <td>None</td>\n      <td>None</td>\n      <td>False</td>\n      <td>11.17</td>\n      <td>11.31</td>\n      <td>11.21</td>\n      <td>14.74</td>\n      <td>21.31</td>\n      <td>26.66</td>\n    </tr>\n    <tr>\n      <th>64093</th>\n      <td>None</td>\n      <td>36.710720</td>\n      <td>126.548390</td>\n      <td>해미읍성</td>\n      <td>outside</td>\n      <td>11.39</td>\n      <td>41.0</td>\n      <td>5.000000</td>\n      <td>39.0</td>\n      <td>1020.61</td>\n      <td>...</td>\n      <td>None</td>\n      <td>None</td>\n      <td>None</td>\n      <td>False</td>\n      <td>11.01</td>\n      <td>11.05</td>\n      <td>10.97</td>\n      <td>14.91</td>\n      <td>24.71</td>\n      <td>29.71</td>\n    </tr>\n    <tr>\n      <th>29747</th>\n      <td>None</td>\n      <td>36.761236</td>\n      <td>127.395300</td>\n      <td>화덕보건진료소</td>\n      <td>outside</td>\n      <td>10.39</td>\n      <td>46.0</td>\n      <td>7.777778</td>\n      <td>27.0</td>\n      <td>1008.41</td>\n      <td>...</td>\n      <td>None</td>\n      <td>None</td>\n      <td>None</td>\n      <td>False</td>\n      <td>10.17</td>\n      <td>9.38</td>\n      <td>9.07</td>\n      <td>16.77</td>\n      <td>33.61</td>\n      <td>38.64</td>\n    </tr>\n    <tr>\n      <th>98309</th>\n      <td>None</td>\n      <td>36.718003</td>\n      <td>126.926841</td>\n      <td>화천1리마을회관</td>\n      <td>outside</td>\n      <td>10.05</td>\n      <td>48.0</td>\n      <td>8.888889</td>\n      <td>30.0</td>\n      <td>1015.15</td>\n      <td>...</td>\n      <td>None</td>\n      <td>None</td>\n      <td>None</td>\n      <td>False</td>\n      <td>11.64</td>\n      <td>11.50</td>\n      <td>11.21</td>\n      <td>15.35</td>\n      <td>25.70</td>\n      <td>31.81</td>\n    </tr>\n  </tbody>\n</table>\n<p>22532 rows × 43 columns</p>\n</div>"
     },
     "metadata": {}
    }
   ]
  },
  {
   "cell_type": "code",
   "source": "se = Sensor(27395)\nsensor_data = se.parent.get_historical(weeks_to_get=1,\n                              thingspeak_field='secondary')[['created_at', '2.5um/dl']]\nsensor_data['created_at'] = sensor_data['created_at'].dt.floor('T')\nsensor_data.iloc[0]['created_at'].minute / 2",
   "metadata": {
    "tags": [],
    "cell_id": "00004-6b599e4a-6935-4aa7-a75c-1c0658d336a3",
    "deepnote_to_be_reexecuted": false,
    "source_hash": "b0c9414c",
    "execution_start": 1638335423069,
    "execution_millis": 1078,
    "deepnote_output_heights": [
     21.1875
    ],
    "deepnote_cell_type": "code"
   },
   "outputs": [
    {
     "output_type": "execute_result",
     "execution_count": 27,
     "data": {
      "text/plain": "0.5"
     },
     "metadata": {}
    }
   ],
   "execution_count": 27
  },
  {
   "cell_type": "code",
   "source": "# This is a function that takes in a list of sensor name strings and returns a data frame with data \n# from the past week for each sensor\n\nfrom datetime import datetime\nfrom datetime import timedelta\n\ndef time_series_name(sensor_list):\n    data = pd.DataFrame(columns=['created_at'])\n    for sensor in sensor_list:\n        sensor_index = df.index[df['name'] == sensor].to_list()[0]\n        se = Sensor(sensor_index)\n        sensor_data = se.parent.get_historical(weeks_to_get=1,\n                              thingspeak_field='secondary')[['created_at', '2.5um/dl']]\n        sensor_data['created_at'] = sensor_data['created_at'].dt.floor('T')\n        # for cases where there is no data \n        if len(sensor_data) < 5000:\n            continue \n        # for cases that begin at an even time \n        if (sensor_data.iloc[0]['created_at'].minute / 2) == 0:\n            new_time = []\n            for i in sensor_data['created_at']:\n                new_time.append(i + timedelta(minutes=1))\n            sensor_data['created_at'] = new_time\n        data = pd.merge(data,sensor_data,how='outer',on='created_at')\n    return data[~data.isnull().any(axis=1)]\n\n\n\n# This function is the same as the one above, but takes in a list of sensor index number rather than name strings\n# This version was made because the name strings can be a little finicky about spaces and such.\n\ndef time_series_index(sensor_index_list):\n    data = pd.DataFrame(columns=['created_at'])\n    for sensor in sensor_index_list:\n        se = Sensor(sensor)\n        sensor_data = se.parent.get_historical(weeks_to_get=1,\n                              thingspeak_field='secondary')[['created_at', '2.5um/dl']]\n        sensor_data['created_at'] = sensor_data['created_at'].dt.floor('T')\n        # for cases where there is no data \n        if len(sensor_data) < 5000:\n            continue \n        # for cases that begin at an even time \n        if (sensor_data.iloc[0]['created_at'].minute / 2) == 0:\n            new_time = []\n            for i in sensor_data['created_at']:\n                new_time.append(i + timedelta(minutes=1))\n            sensor_data['created_at'] = new_time\n        data = pd.merge(data,sensor_data,how='outer',on='created_at')\n    return data[~data.isnull().any(axis=1)]",
   "metadata": {
    "tags": [],
    "cell_id": "00004-d2957a97-344e-4310-8fa8-115e5b3b5802",
    "deepnote_to_be_reexecuted": false,
    "source_hash": "d659c85",
    "execution_start": 1638336841517,
    "execution_millis": 1,
    "deepnote_cell_type": "code"
   },
   "outputs": [],
   "execution_count": 61
  },
  {
   "cell_type": "code",
   "source": "test = time_series_name([\"PA_II_D8B6\", ' Hazelwood canary ', ' WC Hillside',])\ntest",
   "metadata": {
    "tags": [],
    "cell_id": "00010-48ed295e-134e-400c-8f8d-1bcc5a4fb082",
    "deepnote_to_be_reexecuted": false,
    "source_hash": "c0b9f6f",
    "execution_start": 1638335787178,
    "execution_millis": 2915,
    "deepnote_cell_type": "code"
   },
   "outputs": [
    {
     "output_type": "execute_result",
     "execution_count": 33,
     "data": {
      "application/vnd.deepnote.dataframe.v2+json": {
       "row_count": 1049,
       "column_count": 4,
       "columns": [
        {
         "name": "created_at",
         "dtype": "datetime64[ns, UTC]",
         "stats": {
          "unique_count": 1049,
          "nan_count": 0,
          "min": "2021-11-24 00:01:00+00:00",
          "max": "2021-11-30 23:59:00+00:00",
          "histogram": [
           {
            "bin_start": 1637712060000000000,
            "bin_end": 1637772528000000000,
            "count": 324
           },
           {
            "bin_start": 1637772528000000000,
            "bin_end": 1637832996000000000,
            "count": 0
           },
           {
            "bin_start": 1637832996000000000,
            "bin_end": 1637893464000000000,
            "count": 0
           },
           {
            "bin_start": 1637893464000000000,
            "bin_end": 1637953932000000000,
            "count": 0
           },
           {
            "bin_start": 1637953932000000000,
            "bin_end": 1638014400000000000,
            "count": 0
           },
           {
            "bin_start": 1638014400000000000,
            "bin_end": 1638074868000000000,
            "count": 0
           },
           {
            "bin_start": 1638074868000000000,
            "bin_end": 1638135336000000000,
            "count": 0
           },
           {
            "bin_start": 1638135336000000000,
            "bin_end": 1638195804000000000,
            "count": 4
           },
           {
            "bin_start": 1638195804000000000,
            "bin_end": 1638256272000000000,
            "count": 361
           },
           {
            "bin_start": 1638256272000000000,
            "bin_end": 1638316740000000000,
            "count": 360
           }
          ]
         }
        },
        {
         "name": "2.5um/dl_x",
         "dtype": "float64",
         "stats": {
          "unique_count": 481,
          "nan_count": 0,
          "min": "0.0",
          "max": "12.0",
          "histogram": [
           {
            "bin_start": 0,
            "bin_end": 1.2,
            "count": 99
           },
           {
            "bin_start": 1.2,
            "bin_end": 2.4,
            "count": 278
           },
           {
            "bin_start": 2.4,
            "bin_end": 3.5999999999999996,
            "count": 277
           },
           {
            "bin_start": 3.5999999999999996,
            "bin_end": 4.8,
            "count": 167
           },
           {
            "bin_start": 4.8,
            "bin_end": 6,
            "count": 109
           },
           {
            "bin_start": 6,
            "bin_end": 7.199999999999999,
            "count": 54
           },
           {
            "bin_start": 7.199999999999999,
            "bin_end": 8.4,
            "count": 37
           },
           {
            "bin_start": 8.4,
            "bin_end": 9.6,
            "count": 17
           },
           {
            "bin_start": 9.6,
            "bin_end": 10.799999999999999,
            "count": 9
           },
           {
            "bin_start": 10.799999999999999,
            "bin_end": 12,
            "count": 2
           }
          ]
         }
        },
        {
         "name": "2.5um/dl_y",
         "dtype": "float64",
         "stats": {
          "unique_count": 594,
          "nan_count": 0,
          "min": "0.0",
          "max": "21.77",
          "histogram": [
           {
            "bin_start": 0,
            "bin_end": 2.177,
            "count": 301
           },
           {
            "bin_start": 2.177,
            "bin_end": 4.354,
            "count": 395
           },
           {
            "bin_start": 4.354,
            "bin_end": 6.531000000000001,
            "count": 165
           },
           {
            "bin_start": 6.531000000000001,
            "bin_end": 8.708,
            "count": 64
           },
           {
            "bin_start": 8.708,
            "bin_end": 10.885,
            "count": 36
           },
           {
            "bin_start": 10.885,
            "bin_end": 13.062000000000001,
            "count": 26
           },
           {
            "bin_start": 13.062000000000001,
            "bin_end": 15.239,
            "count": 19
           },
           {
            "bin_start": 15.239,
            "bin_end": 17.416,
            "count": 20
           },
           {
            "bin_start": 17.416,
            "bin_end": 19.593,
            "count": 16
           },
           {
            "bin_start": 19.593,
            "bin_end": 21.77,
            "count": 7
           }
          ]
         }
        },
        {
         "name": "2.5um/dl",
         "dtype": "float64",
         "stats": {
          "unique_count": 705,
          "nan_count": 0,
          "min": "0.22",
          "max": "37.48",
          "histogram": [
           {
            "bin_start": 0.22,
            "bin_end": 3.946,
            "count": 357
           },
           {
            "bin_start": 3.946,
            "bin_end": 7.672,
            "count": 388
           },
           {
            "bin_start": 7.672,
            "bin_end": 11.398000000000001,
            "count": 159
           },
           {
            "bin_start": 11.398000000000001,
            "bin_end": 15.124,
            "count": 42
           },
           {
            "bin_start": 15.124,
            "bin_end": 18.849999999999998,
            "count": 21
           },
           {
            "bin_start": 18.849999999999998,
            "bin_end": 22.576,
            "count": 13
           },
           {
            "bin_start": 22.576,
            "bin_end": 26.302,
            "count": 20
           },
           {
            "bin_start": 26.302,
            "bin_end": 30.028,
            "count": 20
           },
           {
            "bin_start": 30.028,
            "bin_end": 33.754,
            "count": 19
           },
           {
            "bin_start": 33.754,
            "bin_end": 37.48,
            "count": 10
           }
          ]
         }
        },
        {
         "name": "_deepnote_index_column",
         "dtype": "int64"
        }
       ],
       "rows_top": [
        {
         "created_at": "2021-11-24T00:01:00.000000",
         "2.5um/dl_x": 2.55,
         "2.5um/dl_y": 1.6,
         "2.5um/dl": 6.74,
         "_deepnote_index_column": 0
        },
        {
         "created_at": "2021-11-24T00:03:00.000000",
         "2.5um/dl_x": 5.47,
         "2.5um/dl_y": 1,
         "2.5um/dl": 11.1,
         "_deepnote_index_column": 1
        },
        {
         "created_at": "2021-11-24T00:05:00.000000",
         "2.5um/dl_x": 5.16,
         "2.5um/dl_y": 1.34,
         "2.5um/dl": 8.18,
         "_deepnote_index_column": 2
        },
        {
         "created_at": "2021-11-24T00:07:00.000000",
         "2.5um/dl_x": 4.07,
         "2.5um/dl_y": 0.46,
         "2.5um/dl": 6.28,
         "_deepnote_index_column": 3
        },
        {
         "created_at": "2021-11-24T00:09:00.000000",
         "2.5um/dl_x": 4.03,
         "2.5um/dl_y": 1.66,
         "2.5um/dl": 4.68,
         "_deepnote_index_column": 4
        },
        {
         "created_at": "2021-11-24T00:11:00.000000",
         "2.5um/dl_x": 5.37,
         "2.5um/dl_y": 1.24,
         "2.5um/dl": 6.75,
         "_deepnote_index_column": 5
        },
        {
         "created_at": "2021-11-24T00:13:00.000000",
         "2.5um/dl_x": 4.36,
         "2.5um/dl_y": 1.07,
         "2.5um/dl": 8.67,
         "_deepnote_index_column": 6
        },
        {
         "created_at": "2021-11-24T00:15:00.000000",
         "2.5um/dl_x": 3.86,
         "2.5um/dl_y": 2.05,
         "2.5um/dl": 8.53,
         "_deepnote_index_column": 7
        },
        {
         "created_at": "2021-11-24T00:17:00.000000",
         "2.5um/dl_x": 3.12,
         "2.5um/dl_y": 2.26,
         "2.5um/dl": 6.31,
         "_deepnote_index_column": 8
        },
        {
         "created_at": "2021-11-24T00:19:00.000000",
         "2.5um/dl_x": 2.8,
         "2.5um/dl_y": 1.15,
         "2.5um/dl": 9.45,
         "_deepnote_index_column": 9
        },
        {
         "created_at": "2021-11-24T00:21:00.000000",
         "2.5um/dl_x": 5.86,
         "2.5um/dl_y": 1.3,
         "2.5um/dl": 7.09,
         "_deepnote_index_column": 10
        },
        {
         "created_at": "2021-11-24T00:23:00.000000",
         "2.5um/dl_x": 3.39,
         "2.5um/dl_y": 1.25,
         "2.5um/dl": 5.31,
         "_deepnote_index_column": 11
        },
        {
         "created_at": "2021-11-24T00:25:00.000000",
         "2.5um/dl_x": 2.18,
         "2.5um/dl_y": 0.84,
         "2.5um/dl": 4.47,
         "_deepnote_index_column": 12
        },
        {
         "created_at": "2021-11-24T00:27:00.000000",
         "2.5um/dl_x": 4.21,
         "2.5um/dl_y": 2.33,
         "2.5um/dl": 5.97,
         "_deepnote_index_column": 13
        },
        {
         "created_at": "2021-11-24T00:29:00.000000",
         "2.5um/dl_x": 3.66,
         "2.5um/dl_y": 1.19,
         "2.5um/dl": 4.33,
         "_deepnote_index_column": 14
        },
        {
         "created_at": "2021-11-24T00:31:00.000000",
         "2.5um/dl_x": 4.07,
         "2.5um/dl_y": 0.95,
         "2.5um/dl": 4.38,
         "_deepnote_index_column": 15
        },
        {
         "created_at": "2021-11-24T00:33:00.000000",
         "2.5um/dl_x": 3.19,
         "2.5um/dl_y": 1.11,
         "2.5um/dl": 4.61,
         "_deepnote_index_column": 16
        },
        {
         "created_at": "2021-11-24T00:35:00.000000",
         "2.5um/dl_x": 3.19,
         "2.5um/dl_y": 0.69,
         "2.5um/dl": 7.15,
         "_deepnote_index_column": 17
        },
        {
         "created_at": "2021-11-24T00:37:00.000000",
         "2.5um/dl_x": 6.32,
         "2.5um/dl_y": 1.22,
         "2.5um/dl": 6.16,
         "_deepnote_index_column": 18
        },
        {
         "created_at": "2021-11-24T00:39:00.000000",
         "2.5um/dl_x": 4.86,
         "2.5um/dl_y": 0.25,
         "2.5um/dl": 3.59,
         "_deepnote_index_column": 19
        },
        {
         "created_at": "2021-11-24T00:41:00.000000",
         "2.5um/dl_x": 4.77,
         "2.5um/dl_y": 1.2,
         "2.5um/dl": 3.29,
         "_deepnote_index_column": 20
        },
        {
         "created_at": "2021-11-24T00:43:00.000000",
         "2.5um/dl_x": 3.29,
         "2.5um/dl_y": 2.58,
         "2.5um/dl": 3.45,
         "_deepnote_index_column": 21
        },
        {
         "created_at": "2021-11-24T00:45:00.000000",
         "2.5um/dl_x": 4.93,
         "2.5um/dl_y": 1.31,
         "2.5um/dl": 2.96,
         "_deepnote_index_column": 22
        },
        {
         "created_at": "2021-11-24T00:47:00.000000",
         "2.5um/dl_x": 2.34,
         "2.5um/dl_y": 0.18,
         "2.5um/dl": 5.3,
         "_deepnote_index_column": 23
        },
        {
         "created_at": "2021-11-24T00:49:00.000000",
         "2.5um/dl_x": 3.5,
         "2.5um/dl_y": 1.75,
         "2.5um/dl": 4.02,
         "_deepnote_index_column": 24
        },
        {
         "created_at": "2021-11-24T00:51:00.000000",
         "2.5um/dl_x": 3.16,
         "2.5um/dl_y": 0.63,
         "2.5um/dl": 2.07,
         "_deepnote_index_column": 25
        },
        {
         "created_at": "2021-11-24T00:53:00.000000",
         "2.5um/dl_x": 4.07,
         "2.5um/dl_y": 1.36,
         "2.5um/dl": 5.21,
         "_deepnote_index_column": 26
        },
        {
         "created_at": "2021-11-24T00:55:00.000000",
         "2.5um/dl_x": 2.24,
         "2.5um/dl_y": 1.6,
         "2.5um/dl": 5.7,
         "_deepnote_index_column": 27
        },
        {
         "created_at": "2021-11-24T00:57:00.000000",
         "2.5um/dl_x": 4.71,
         "2.5um/dl_y": 0.85,
         "2.5um/dl": 4.67,
         "_deepnote_index_column": 28
        },
        {
         "created_at": "2021-11-24T00:59:00.000000",
         "2.5um/dl_x": 5.36,
         "2.5um/dl_y": 0.84,
         "2.5um/dl": 4.5,
         "_deepnote_index_column": 29
        },
        {
         "created_at": "2021-11-24T01:01:00.000000",
         "2.5um/dl_x": 6.14,
         "2.5um/dl_y": 1.72,
         "2.5um/dl": 2.76,
         "_deepnote_index_column": 30
        },
        {
         "created_at": "2021-11-24T01:03:00.000000",
         "2.5um/dl_x": 5.41,
         "2.5um/dl_y": 0.95,
         "2.5um/dl": 3.26,
         "_deepnote_index_column": 31
        },
        {
         "created_at": "2021-11-24T01:05:00.000000",
         "2.5um/dl_x": 3.79,
         "2.5um/dl_y": 1,
         "2.5um/dl": 2.5,
         "_deepnote_index_column": 32
        },
        {
         "created_at": "2021-11-24T01:07:00.000000",
         "2.5um/dl_x": 5.4,
         "2.5um/dl_y": 1.13,
         "2.5um/dl": 3.65,
         "_deepnote_index_column": 33
        },
        {
         "created_at": "2021-11-24T01:09:00.000000",
         "2.5um/dl_x": 5.93,
         "2.5um/dl_y": 0.67,
         "2.5um/dl": 4.67,
         "_deepnote_index_column": 34
        },
        {
         "created_at": "2021-11-24T01:11:00.000000",
         "2.5um/dl_x": 6.38,
         "2.5um/dl_y": 0.66,
         "2.5um/dl": 3.34,
         "_deepnote_index_column": 35
        },
        {
         "created_at": "2021-11-24T01:13:00.000000",
         "2.5um/dl_x": 8.38,
         "2.5um/dl_y": 1.77,
         "2.5um/dl": 4.55,
         "_deepnote_index_column": 36
        },
        {
         "created_at": "2021-11-24T01:15:00.000000",
         "2.5um/dl_x": 6.2,
         "2.5um/dl_y": 1.47,
         "2.5um/dl": 4.38,
         "_deepnote_index_column": 37
        },
        {
         "created_at": "2021-11-24T01:17:00.000000",
         "2.5um/dl_x": 4.82,
         "2.5um/dl_y": 1.36,
         "2.5um/dl": 3.15,
         "_deepnote_index_column": 38
        },
        {
         "created_at": "2021-11-24T01:19:00.000000",
         "2.5um/dl_x": 2.62,
         "2.5um/dl_y": 1.61,
         "2.5um/dl": 3.19,
         "_deepnote_index_column": 39
        },
        {
         "created_at": "2021-11-24T01:21:00.000000",
         "2.5um/dl_x": 2.68,
         "2.5um/dl_y": 0.29,
         "2.5um/dl": 3.47,
         "_deepnote_index_column": 40
        },
        {
         "created_at": "2021-11-24T01:23:00.000000",
         "2.5um/dl_x": 6.7,
         "2.5um/dl_y": 1.28,
         "2.5um/dl": 6.29,
         "_deepnote_index_column": 41
        },
        {
         "created_at": "2021-11-24T01:25:00.000000",
         "2.5um/dl_x": 3.73,
         "2.5um/dl_y": 1.18,
         "2.5um/dl": 3.93,
         "_deepnote_index_column": 42
        },
        {
         "created_at": "2021-11-24T01:27:00.000000",
         "2.5um/dl_x": 5.31,
         "2.5um/dl_y": 1.56,
         "2.5um/dl": 3.33,
         "_deepnote_index_column": 43
        },
        {
         "created_at": "2021-11-24T01:29:00.000000",
         "2.5um/dl_x": 7.75,
         "2.5um/dl_y": 0.48,
         "2.5um/dl": 2.78,
         "_deepnote_index_column": 44
        },
        {
         "created_at": "2021-11-24T01:31:00.000000",
         "2.5um/dl_x": 8.46,
         "2.5um/dl_y": 0.98,
         "2.5um/dl": 4,
         "_deepnote_index_column": 45
        },
        {
         "created_at": "2021-11-24T01:33:00.000000",
         "2.5um/dl_x": 5.8,
         "2.5um/dl_y": 1.5,
         "2.5um/dl": 2.78,
         "_deepnote_index_column": 46
        },
        {
         "created_at": "2021-11-24T01:35:00.000000",
         "2.5um/dl_x": 6.14,
         "2.5um/dl_y": 0.65,
         "2.5um/dl": 3.67,
         "_deepnote_index_column": 47
        },
        {
         "created_at": "2021-11-24T01:37:00.000000",
         "2.5um/dl_x": 5.26,
         "2.5um/dl_y": 1.31,
         "2.5um/dl": 4.2,
         "_deepnote_index_column": 48
        },
        {
         "created_at": "2021-11-24T01:39:00.000000",
         "2.5um/dl_x": 6.68,
         "2.5um/dl_y": 2.42,
         "2.5um/dl": 4.69,
         "_deepnote_index_column": 49
        },
        {
         "created_at": "2021-11-24T01:41:00.000000",
         "2.5um/dl_x": 8.38,
         "2.5um/dl_y": 0.75,
         "2.5um/dl": 4.93,
         "_deepnote_index_column": 50
        },
        {
         "created_at": "2021-11-24T01:43:00.000000",
         "2.5um/dl_x": 6.83,
         "2.5um/dl_y": 1.45,
         "2.5um/dl": 5.86,
         "_deepnote_index_column": 51
        },
        {
         "created_at": "2021-11-24T01:45:00.000000",
         "2.5um/dl_x": 4.17,
         "2.5um/dl_y": 1.54,
         "2.5um/dl": 3.45,
         "_deepnote_index_column": 52
        },
        {
         "created_at": "2021-11-24T01:47:00.000000",
         "2.5um/dl_x": 7.89,
         "2.5um/dl_y": 2.26,
         "2.5um/dl": 5.98,
         "_deepnote_index_column": 53
        },
        {
         "created_at": "2021-11-24T01:49:00.000000",
         "2.5um/dl_x": 6.21,
         "2.5um/dl_y": 2.2,
         "2.5um/dl": 3.89,
         "_deepnote_index_column": 54
        },
        {
         "created_at": "2021-11-24T01:51:00.000000",
         "2.5um/dl_x": 6.1,
         "2.5um/dl_y": 1.63,
         "2.5um/dl": 5.37,
         "_deepnote_index_column": 55
        },
        {
         "created_at": "2021-11-24T01:53:00.000000",
         "2.5um/dl_x": 4.03,
         "2.5um/dl_y": 1.63,
         "2.5um/dl": 10.97,
         "_deepnote_index_column": 56
        },
        {
         "created_at": "2021-11-24T01:55:00.000000",
         "2.5um/dl_x": 9.11,
         "2.5um/dl_y": 1.34,
         "2.5um/dl": 5.59,
         "_deepnote_index_column": 57
        },
        {
         "created_at": "2021-11-24T01:57:00.000000",
         "2.5um/dl_x": 7.61,
         "2.5um/dl_y": 0.21,
         "2.5um/dl": 6.71,
         "_deepnote_index_column": 58
        },
        {
         "created_at": "2021-11-24T01:59:00.000000",
         "2.5um/dl_x": 5.57,
         "2.5um/dl_y": 1.17,
         "2.5um/dl": 6.5,
         "_deepnote_index_column": 59
        },
        {
         "created_at": "2021-11-24T02:01:00.000000",
         "2.5um/dl_x": 2.79,
         "2.5um/dl_y": 0.51,
         "2.5um/dl": 5.71,
         "_deepnote_index_column": 60
        },
        {
         "created_at": "2021-11-24T02:03:00.000000",
         "2.5um/dl_x": 4.46,
         "2.5um/dl_y": 1.32,
         "2.5um/dl": 5.32,
         "_deepnote_index_column": 61
        },
        {
         "created_at": "2021-11-24T02:05:00.000000",
         "2.5um/dl_x": 9.14,
         "2.5um/dl_y": 1.83,
         "2.5um/dl": 3.35,
         "_deepnote_index_column": 62
        },
        {
         "created_at": "2021-11-24T02:07:00.000000",
         "2.5um/dl_x": 7.53,
         "2.5um/dl_y": 1.93,
         "2.5um/dl": 8.6,
         "_deepnote_index_column": 63
        },
        {
         "created_at": "2021-11-24T02:09:00.000000",
         "2.5um/dl_x": 2.41,
         "2.5um/dl_y": 1.57,
         "2.5um/dl": 5.63,
         "_deepnote_index_column": 64
        },
        {
         "created_at": "2021-11-24T02:11:00.000000",
         "2.5um/dl_x": 6.49,
         "2.5um/dl_y": 1.98,
         "2.5um/dl": 6.84,
         "_deepnote_index_column": 65
        },
        {
         "created_at": "2021-11-24T02:13:00.000000",
         "2.5um/dl_x": 6.96,
         "2.5um/dl_y": 2.73,
         "2.5um/dl": 8.45,
         "_deepnote_index_column": 66
        },
        {
         "created_at": "2021-11-24T02:15:00.000000",
         "2.5um/dl_x": 4.31,
         "2.5um/dl_y": 2.96,
         "2.5um/dl": 6.31,
         "_deepnote_index_column": 67
        },
        {
         "created_at": "2021-11-24T02:17:00.000000",
         "2.5um/dl_x": 7.19,
         "2.5um/dl_y": 1.33,
         "2.5um/dl": 4.86,
         "_deepnote_index_column": 68
        },
        {
         "created_at": "2021-11-24T02:19:00.000000",
         "2.5um/dl_x": 7.3,
         "2.5um/dl_y": 1.36,
         "2.5um/dl": 3.32,
         "_deepnote_index_column": 69
        },
        {
         "created_at": "2021-11-24T02:21:00.000000",
         "2.5um/dl_x": 4.35,
         "2.5um/dl_y": 2.89,
         "2.5um/dl": 5.77,
         "_deepnote_index_column": 70
        },
        {
         "created_at": "2021-11-24T02:23:00.000000",
         "2.5um/dl_x": 5.59,
         "2.5um/dl_y": 1.51,
         "2.5um/dl": 7.98,
         "_deepnote_index_column": 71
        },
        {
         "created_at": "2021-11-24T02:25:00.000000",
         "2.5um/dl_x": 5.16,
         "2.5um/dl_y": 2.62,
         "2.5um/dl": 8.66,
         "_deepnote_index_column": 72
        },
        {
         "created_at": "2021-11-24T02:27:00.000000",
         "2.5um/dl_x": 5,
         "2.5um/dl_y": 1.77,
         "2.5um/dl": 5.86,
         "_deepnote_index_column": 73
        },
        {
         "created_at": "2021-11-24T02:29:00.000000",
         "2.5um/dl_x": 5.56,
         "2.5um/dl_y": 2.33,
         "2.5um/dl": 5.3,
         "_deepnote_index_column": 74
        },
        {
         "created_at": "2021-11-24T02:31:00.000000",
         "2.5um/dl_x": 7.83,
         "2.5um/dl_y": 0.59,
         "2.5um/dl": 5.88,
         "_deepnote_index_column": 75
        },
        {
         "created_at": "2021-11-24T02:33:00.000000",
         "2.5um/dl_x": 6.57,
         "2.5um/dl_y": 1.83,
         "2.5um/dl": 5.52,
         "_deepnote_index_column": 76
        },
        {
         "created_at": "2021-11-24T02:35:00.000000",
         "2.5um/dl_x": 4.39,
         "2.5um/dl_y": 3.61,
         "2.5um/dl": 6.83,
         "_deepnote_index_column": 77
        },
        {
         "created_at": "2021-11-24T02:37:00.000000",
         "2.5um/dl_x": 5.3,
         "2.5um/dl_y": 3.24,
         "2.5um/dl": 6.78,
         "_deepnote_index_column": 78
        },
        {
         "created_at": "2021-11-24T02:39:00.000000",
         "2.5um/dl_x": 3.77,
         "2.5um/dl_y": 1.66,
         "2.5um/dl": 7.66,
         "_deepnote_index_column": 79
        },
        {
         "created_at": "2021-11-24T02:41:00.000000",
         "2.5um/dl_x": 4.58,
         "2.5um/dl_y": 2.66,
         "2.5um/dl": 5.5,
         "_deepnote_index_column": 80
        },
        {
         "created_at": "2021-11-24T02:43:00.000000",
         "2.5um/dl_x": 9.07,
         "2.5um/dl_y": 1.82,
         "2.5um/dl": 3,
         "_deepnote_index_column": 81
        },
        {
         "created_at": "2021-11-24T02:45:00.000000",
         "2.5um/dl_x": 7.38,
         "2.5um/dl_y": 4.75,
         "2.5um/dl": 4.18,
         "_deepnote_index_column": 82
        },
        {
         "created_at": "2021-11-24T02:47:00.000000",
         "2.5um/dl_x": 6,
         "2.5um/dl_y": 3.12,
         "2.5um/dl": 3.87,
         "_deepnote_index_column": 83
        },
        {
         "created_at": "2021-11-24T02:49:00.000000",
         "2.5um/dl_x": 6.11,
         "2.5um/dl_y": 4.24,
         "2.5um/dl": 5,
         "_deepnote_index_column": 84
        },
        {
         "created_at": "2021-11-24T02:51:00.000000",
         "2.5um/dl_x": 7.04,
         "2.5um/dl_y": 3.93,
         "2.5um/dl": 3.03,
         "_deepnote_index_column": 85
        },
        {
         "created_at": "2021-11-24T02:53:00.000000",
         "2.5um/dl_x": 5.36,
         "2.5um/dl_y": 3.62,
         "2.5um/dl": 5.91,
         "_deepnote_index_column": 86
        },
        {
         "created_at": "2021-11-24T02:55:00.000000",
         "2.5um/dl_x": 5.24,
         "2.5um/dl_y": 3.55,
         "2.5um/dl": 4.77,
         "_deepnote_index_column": 87
        },
        {
         "created_at": "2021-11-24T02:57:00.000000",
         "2.5um/dl_x": 4.83,
         "2.5um/dl_y": 3.45,
         "2.5um/dl": 5.26,
         "_deepnote_index_column": 88
        },
        {
         "created_at": "2021-11-24T02:59:00.000000",
         "2.5um/dl_x": 5.79,
         "2.5um/dl_y": 2.52,
         "2.5um/dl": 9,
         "_deepnote_index_column": 89
        },
        {
         "created_at": "2021-11-24T03:01:00.000000",
         "2.5um/dl_x": 7.02,
         "2.5um/dl_y": 4.67,
         "2.5um/dl": 8.73,
         "_deepnote_index_column": 90
        },
        {
         "created_at": "2021-11-24T03:03:00.000000",
         "2.5um/dl_x": 5.86,
         "2.5um/dl_y": 3.05,
         "2.5um/dl": 4.87,
         "_deepnote_index_column": 91
        },
        {
         "created_at": "2021-11-24T03:05:00.000000",
         "2.5um/dl_x": 5.02,
         "2.5um/dl_y": 3.89,
         "2.5um/dl": 4.48,
         "_deepnote_index_column": 92
        },
        {
         "created_at": "2021-11-24T03:07:00.000000",
         "2.5um/dl_x": 5.75,
         "2.5um/dl_y": 3.69,
         "2.5um/dl": 3.93,
         "_deepnote_index_column": 93
        },
        {
         "created_at": "2021-11-24T03:09:00.000000",
         "2.5um/dl_x": 4.82,
         "2.5um/dl_y": 3.85,
         "2.5um/dl": 8.05,
         "_deepnote_index_column": 94
        },
        {
         "created_at": "2021-11-24T03:11:00.000000",
         "2.5um/dl_x": 5.59,
         "2.5um/dl_y": 4.16,
         "2.5um/dl": 4.12,
         "_deepnote_index_column": 95
        },
        {
         "created_at": "2021-11-24T03:13:00.000000",
         "2.5um/dl_x": 5.25,
         "2.5um/dl_y": 3.84,
         "2.5um/dl": 6.98,
         "_deepnote_index_column": 96
        },
        {
         "created_at": "2021-11-24T03:15:00.000000",
         "2.5um/dl_x": 2.32,
         "2.5um/dl_y": 5,
         "2.5um/dl": 6.2,
         "_deepnote_index_column": 97
        },
        {
         "created_at": "2021-11-24T03:17:00.000000",
         "2.5um/dl_x": 4.07,
         "2.5um/dl_y": 3.96,
         "2.5um/dl": 4.58,
         "_deepnote_index_column": 98
        },
        {
         "created_at": "2021-11-24T03:19:00.000000",
         "2.5um/dl_x": 2,
         "2.5um/dl_y": 5.9,
         "2.5um/dl": 4.72,
         "_deepnote_index_column": 99
        },
        {
         "created_at": "2021-11-24T03:21:00.000000",
         "2.5um/dl_x": 5.75,
         "2.5um/dl_y": 6.89,
         "2.5um/dl": 4.78,
         "_deepnote_index_column": 100
        },
        {
         "created_at": "2021-11-24T03:23:00.000000",
         "2.5um/dl_x": 8.25,
         "2.5um/dl_y": 4.18,
         "2.5um/dl": 7.76,
         "_deepnote_index_column": 101
        },
        {
         "created_at": "2021-11-24T03:25:00.000000",
         "2.5um/dl_x": 6.14,
         "2.5um/dl_y": 3.16,
         "2.5um/dl": 3.55,
         "_deepnote_index_column": 102
        },
        {
         "created_at": "2021-11-24T03:27:00.000000",
         "2.5um/dl_x": 1.79,
         "2.5um/dl_y": 3.84,
         "2.5um/dl": 2.19,
         "_deepnote_index_column": 103
        },
        {
         "created_at": "2021-11-24T03:29:00.000000",
         "2.5um/dl_x": 8.78,
         "2.5um/dl_y": 4.98,
         "2.5um/dl": 4.45,
         "_deepnote_index_column": 104
        },
        {
         "created_at": "2021-11-24T03:31:00.000000",
         "2.5um/dl_x": 5.14,
         "2.5um/dl_y": 5.07,
         "2.5um/dl": 1.95,
         "_deepnote_index_column": 105
        },
        {
         "created_at": "2021-11-24T03:33:00.000000",
         "2.5um/dl_x": 4,
         "2.5um/dl_y": 5.54,
         "2.5um/dl": 1.84,
         "_deepnote_index_column": 106
        },
        {
         "created_at": "2021-11-24T03:35:00.000000",
         "2.5um/dl_x": 4.28,
         "2.5um/dl_y": 4.8,
         "2.5um/dl": 1.5,
         "_deepnote_index_column": 107
        },
        {
         "created_at": "2021-11-24T03:37:00.000000",
         "2.5um/dl_x": 3.04,
         "2.5um/dl_y": 2.92,
         "2.5um/dl": 2.73,
         "_deepnote_index_column": 108
        },
        {
         "created_at": "2021-11-24T03:39:00.000000",
         "2.5um/dl_x": 3.96,
         "2.5um/dl_y": 4.95,
         "2.5um/dl": 2.97,
         "_deepnote_index_column": 109
        },
        {
         "created_at": "2021-11-24T03:41:00.000000",
         "2.5um/dl_x": 3.45,
         "2.5um/dl_y": 4.88,
         "2.5um/dl": 2.81,
         "_deepnote_index_column": 110
        },
        {
         "created_at": "2021-11-24T03:43:00.000000",
         "2.5um/dl_x": 7.22,
         "2.5um/dl_y": 3.68,
         "2.5um/dl": 1.32,
         "_deepnote_index_column": 111
        },
        {
         "created_at": "2021-11-24T03:45:00.000000",
         "2.5um/dl_x": 6,
         "2.5um/dl_y": 4.03,
         "2.5um/dl": 2.84,
         "_deepnote_index_column": 112
        },
        {
         "created_at": "2021-11-24T03:47:00.000000",
         "2.5um/dl_x": 6.18,
         "2.5um/dl_y": 4.11,
         "2.5um/dl": 1.88,
         "_deepnote_index_column": 113
        },
        {
         "created_at": "2021-11-24T03:49:00.000000",
         "2.5um/dl_x": 4.45,
         "2.5um/dl_y": 4.34,
         "2.5um/dl": 2.79,
         "_deepnote_index_column": 114
        },
        {
         "created_at": "2021-11-24T03:51:00.000000",
         "2.5um/dl_x": 4.97,
         "2.5um/dl_y": 3.86,
         "2.5um/dl": 2.35,
         "_deepnote_index_column": 115
        },
        {
         "created_at": "2021-11-24T03:53:00.000000",
         "2.5um/dl_x": 5.93,
         "2.5um/dl_y": 4.02,
         "2.5um/dl": 1.69,
         "_deepnote_index_column": 116
        },
        {
         "created_at": "2021-11-24T03:55:00.000000",
         "2.5um/dl_x": 4.07,
         "2.5um/dl_y": 2.48,
         "2.5um/dl": 1.47,
         "_deepnote_index_column": 117
        },
        {
         "created_at": "2021-11-24T03:57:00.000000",
         "2.5um/dl_x": 4.93,
         "2.5um/dl_y": 3.38,
         "2.5um/dl": 2.67,
         "_deepnote_index_column": 118
        },
        {
         "created_at": "2021-11-24T03:59:00.000000",
         "2.5um/dl_x": 5.55,
         "2.5um/dl_y": 2.24,
         "2.5um/dl": 3.19,
         "_deepnote_index_column": 119
        },
        {
         "created_at": "2021-11-24T04:01:00.000000",
         "2.5um/dl_x": 4.83,
         "2.5um/dl_y": 4.92,
         "2.5um/dl": 2.69,
         "_deepnote_index_column": 120
        },
        {
         "created_at": "2021-11-24T04:03:00.000000",
         "2.5um/dl_x": 6.22,
         "2.5um/dl_y": 1.96,
         "2.5um/dl": 1.41,
         "_deepnote_index_column": 121
        },
        {
         "created_at": "2021-11-24T04:05:00.000000",
         "2.5um/dl_x": 2.84,
         "2.5um/dl_y": 4.93,
         "2.5um/dl": 2.02,
         "_deepnote_index_column": 122
        },
        {
         "created_at": "2021-11-24T04:07:00.000000",
         "2.5um/dl_x": 9.32,
         "2.5um/dl_y": 3.66,
         "2.5um/dl": 2.66,
         "_deepnote_index_column": 123
        },
        {
         "created_at": "2021-11-24T04:09:00.000000",
         "2.5um/dl_x": 5.34,
         "2.5um/dl_y": 3.39,
         "2.5um/dl": 2.69,
         "_deepnote_index_column": 124
        }
       ],
       "rows_bottom": [
        {
         "created_at": "2021-11-30T18:23:00.000000",
         "2.5um/dl_x": 2.93,
         "2.5um/dl_y": 11.49,
         "2.5um/dl": 9.21,
         "_deepnote_index_column": 4496
        },
        {
         "created_at": "2021-11-30T18:27:00.000000",
         "2.5um/dl_x": 2.77,
         "2.5um/dl_y": 8.88,
         "2.5um/dl": 7.78,
         "_deepnote_index_column": 4497
        },
        {
         "created_at": "2021-11-30T18:29:00.000000",
         "2.5um/dl_x": 4,
         "2.5um/dl_y": 11.65,
         "2.5um/dl": 9.8,
         "_deepnote_index_column": 4498
        },
        {
         "created_at": "2021-11-30T18:33:00.000000",
         "2.5um/dl_x": 2.98,
         "2.5um/dl_y": 12.63,
         "2.5um/dl": 11.29,
         "_deepnote_index_column": 4499
        },
        {
         "created_at": "2021-11-30T18:35:00.000000",
         "2.5um/dl_x": 4.45,
         "2.5um/dl_y": 10.81,
         "2.5um/dl": 10,
         "_deepnote_index_column": 4500
        },
        {
         "created_at": "2021-11-30T18:37:00.000000",
         "2.5um/dl_x": 2.5,
         "2.5um/dl_y": 10.62,
         "2.5um/dl": 8.46,
         "_deepnote_index_column": 4501
        },
        {
         "created_at": "2021-11-30T18:39:00.000000",
         "2.5um/dl_x": 2.96,
         "2.5um/dl_y": 10.51,
         "2.5um/dl": 9.67,
         "_deepnote_index_column": 4502
        },
        {
         "created_at": "2021-11-30T18:41:00.000000",
         "2.5um/dl_x": 4,
         "2.5um/dl_y": 9.21,
         "2.5um/dl": 10.57,
         "_deepnote_index_column": 4503
        },
        {
         "created_at": "2021-11-30T18:47:00.000000",
         "2.5um/dl_x": 4.32,
         "2.5um/dl_y": 8.04,
         "2.5um/dl": 9,
         "_deepnote_index_column": 4504
        },
        {
         "created_at": "2021-11-30T18:49:00.000000",
         "2.5um/dl_x": 2.31,
         "2.5um/dl_y": 6.67,
         "2.5um/dl": 9.61,
         "_deepnote_index_column": 4505
        },
        {
         "created_at": "2021-11-30T18:55:00.000000",
         "2.5um/dl_x": 5.26,
         "2.5um/dl_y": 6.33,
         "2.5um/dl": 11.8,
         "_deepnote_index_column": 4506
        },
        {
         "created_at": "2021-11-30T18:57:00.000000",
         "2.5um/dl_x": 3.32,
         "2.5um/dl_y": 4.32,
         "2.5um/dl": 7.83,
         "_deepnote_index_column": 4507
        },
        {
         "created_at": "2021-11-30T18:59:00.000000",
         "2.5um/dl_x": 5.14,
         "2.5um/dl_y": 7.25,
         "2.5um/dl": 5.58,
         "_deepnote_index_column": 4508
        },
        {
         "created_at": "2021-11-30T19:01:00.000000",
         "2.5um/dl_x": 2.84,
         "2.5um/dl_y": 8.34,
         "2.5um/dl": 8.15,
         "_deepnote_index_column": 4509
        },
        {
         "created_at": "2021-11-30T19:09:00.000000",
         "2.5um/dl_x": 3.62,
         "2.5um/dl_y": 5.3,
         "2.5um/dl": 7.97,
         "_deepnote_index_column": 4510
        },
        {
         "created_at": "2021-11-30T19:11:00.000000",
         "2.5um/dl_x": 2.56,
         "2.5um/dl_y": 4.55,
         "2.5um/dl": 7.02,
         "_deepnote_index_column": 4511
        },
        {
         "created_at": "2021-11-30T19:15:00.000000",
         "2.5um/dl_x": 2.6,
         "2.5um/dl_y": 5.82,
         "2.5um/dl": 7.25,
         "_deepnote_index_column": 4512
        },
        {
         "created_at": "2021-11-30T19:17:00.000000",
         "2.5um/dl_x": 2.07,
         "2.5um/dl_y": 5.22,
         "2.5um/dl": 8.65,
         "_deepnote_index_column": 4513
        },
        {
         "created_at": "2021-11-30T19:19:00.000000",
         "2.5um/dl_x": 1.93,
         "2.5um/dl_y": 8.43,
         "2.5um/dl": 5.15,
         "_deepnote_index_column": 4514
        },
        {
         "created_at": "2021-11-30T19:21:00.000000",
         "2.5um/dl_x": 3.49,
         "2.5um/dl_y": 6.26,
         "2.5um/dl": 6.53,
         "_deepnote_index_column": 4515
        },
        {
         "created_at": "2021-11-30T19:23:00.000000",
         "2.5um/dl_x": 2.75,
         "2.5um/dl_y": 5.71,
         "2.5um/dl": 9,
         "_deepnote_index_column": 4516
        },
        {
         "created_at": "2021-11-30T19:25:00.000000",
         "2.5um/dl_x": 3.27,
         "2.5um/dl_y": 8.27,
         "2.5um/dl": 7.83,
         "_deepnote_index_column": 4517
        },
        {
         "created_at": "2021-11-30T19:27:00.000000",
         "2.5um/dl_x": 2.75,
         "2.5um/dl_y": 10.38,
         "2.5um/dl": 5.29,
         "_deepnote_index_column": 4518
        },
        {
         "created_at": "2021-11-30T19:33:00.000000",
         "2.5um/dl_x": 3.72,
         "2.5um/dl_y": 5.31,
         "2.5um/dl": 3.6,
         "_deepnote_index_column": 4519
        },
        {
         "created_at": "2021-11-30T19:37:00.000000",
         "2.5um/dl_x": 6.17,
         "2.5um/dl_y": 6.47,
         "2.5um/dl": 7.91,
         "_deepnote_index_column": 4520
        },
        {
         "created_at": "2021-11-30T19:39:00.000000",
         "2.5um/dl_x": 7.23,
         "2.5um/dl_y": 6.2,
         "2.5um/dl": 5.36,
         "_deepnote_index_column": 4521
        },
        {
         "created_at": "2021-11-30T19:41:00.000000",
         "2.5um/dl_x": 4.96,
         "2.5um/dl_y": 5.81,
         "2.5um/dl": 4.85,
         "_deepnote_index_column": 4522
        },
        {
         "created_at": "2021-11-30T19:43:00.000000",
         "2.5um/dl_x": 2.79,
         "2.5um/dl_y": 5.3,
         "2.5um/dl": 5.31,
         "_deepnote_index_column": 4523
        },
        {
         "created_at": "2021-11-30T19:45:00.000000",
         "2.5um/dl_x": 4.17,
         "2.5um/dl_y": 3.59,
         "2.5um/dl": 7.12,
         "_deepnote_index_column": 4524
        },
        {
         "created_at": "2021-11-30T19:47:00.000000",
         "2.5um/dl_x": 2.27,
         "2.5um/dl_y": 6.68,
         "2.5um/dl": 2.72,
         "_deepnote_index_column": 4525
        },
        {
         "created_at": "2021-11-30T19:51:00.000000",
         "2.5um/dl_x": 2.6,
         "2.5um/dl_y": 4.27,
         "2.5um/dl": 2.6,
         "_deepnote_index_column": 4526
        },
        {
         "created_at": "2021-11-30T19:55:00.000000",
         "2.5um/dl_x": 3.42,
         "2.5um/dl_y": 4.57,
         "2.5um/dl": 3.84,
         "_deepnote_index_column": 4527
        },
        {
         "created_at": "2021-11-30T19:57:00.000000",
         "2.5um/dl_x": 3.11,
         "2.5um/dl_y": 5.3,
         "2.5um/dl": 2.04,
         "_deepnote_index_column": 4528
        },
        {
         "created_at": "2021-11-30T19:59:00.000000",
         "2.5um/dl_x": 1.36,
         "2.5um/dl_y": 7.72,
         "2.5um/dl": 2.48,
         "_deepnote_index_column": 4529
        },
        {
         "created_at": "2021-11-30T20:03:00.000000",
         "2.5um/dl_x": 1.32,
         "2.5um/dl_y": 5.6,
         "2.5um/dl": 2.24,
         "_deepnote_index_column": 4530
        },
        {
         "created_at": "2021-11-30T20:05:00.000000",
         "2.5um/dl_x": 1.86,
         "2.5um/dl_y": 6.72,
         "2.5um/dl": 2.14,
         "_deepnote_index_column": 4531
        },
        {
         "created_at": "2021-11-30T20:07:00.000000",
         "2.5um/dl_x": 2.24,
         "2.5um/dl_y": 4.72,
         "2.5um/dl": 2.78,
         "_deepnote_index_column": 4532
        },
        {
         "created_at": "2021-11-30T20:13:00.000000",
         "2.5um/dl_x": 4.14,
         "2.5um/dl_y": 2.07,
         "2.5um/dl": 1.28,
         "_deepnote_index_column": 4533
        },
        {
         "created_at": "2021-11-30T20:15:00.000000",
         "2.5um/dl_x": 3.22,
         "2.5um/dl_y": 2.81,
         "2.5um/dl": 1.22,
         "_deepnote_index_column": 4534
        },
        {
         "created_at": "2021-11-30T20:17:00.000000",
         "2.5um/dl_x": 2.38,
         "2.5um/dl_y": 3.04,
         "2.5um/dl": 1.21,
         "_deepnote_index_column": 4535
        },
        {
         "created_at": "2021-11-30T20:19:00.000000",
         "2.5um/dl_x": 2.93,
         "2.5um/dl_y": 4.49,
         "2.5um/dl": 0.89,
         "_deepnote_index_column": 4536
        },
        {
         "created_at": "2021-11-30T20:21:00.000000",
         "2.5um/dl_x": 2.18,
         "2.5um/dl_y": 3.3,
         "2.5um/dl": 1.26,
         "_deepnote_index_column": 4537
        },
        {
         "created_at": "2021-11-30T20:23:00.000000",
         "2.5um/dl_x": 2.75,
         "2.5um/dl_y": 3,
         "2.5um/dl": 1.9,
         "_deepnote_index_column": 4538
        },
        {
         "created_at": "2021-11-30T20:25:00.000000",
         "2.5um/dl_x": 2.55,
         "2.5um/dl_y": 3.31,
         "2.5um/dl": 2.34,
         "_deepnote_index_column": 4539
        },
        {
         "created_at": "2021-11-30T20:27:00.000000",
         "2.5um/dl_x": 1.49,
         "2.5um/dl_y": 1.3,
         "2.5um/dl": 0.86,
         "_deepnote_index_column": 4540
        },
        {
         "created_at": "2021-11-30T20:29:00.000000",
         "2.5um/dl_x": 3.11,
         "2.5um/dl_y": 2.73,
         "2.5um/dl": 0.85,
         "_deepnote_index_column": 4541
        },
        {
         "created_at": "2021-11-30T20:37:00.000000",
         "2.5um/dl_x": 3.43,
         "2.5um/dl_y": 1.29,
         "2.5um/dl": 0.81,
         "_deepnote_index_column": 4542
        },
        {
         "created_at": "2021-11-30T20:39:00.000000",
         "2.5um/dl_x": 2.52,
         "2.5um/dl_y": 1.57,
         "2.5um/dl": 2.12,
         "_deepnote_index_column": 4543
        },
        {
         "created_at": "2021-11-30T20:41:00.000000",
         "2.5um/dl_x": 1.9,
         "2.5um/dl_y": 2.24,
         "2.5um/dl": 1.02,
         "_deepnote_index_column": 4544
        },
        {
         "created_at": "2021-11-30T20:43:00.000000",
         "2.5um/dl_x": 2.24,
         "2.5um/dl_y": 1.92,
         "2.5um/dl": 0.97,
         "_deepnote_index_column": 4545
        },
        {
         "created_at": "2021-11-30T20:45:00.000000",
         "2.5um/dl_x": 3.39,
         "2.5um/dl_y": 2.21,
         "2.5um/dl": 1.95,
         "_deepnote_index_column": 4546
        },
        {
         "created_at": "2021-11-30T20:47:00.000000",
         "2.5um/dl_x": 1.89,
         "2.5um/dl_y": 3.56,
         "2.5um/dl": 0.86,
         "_deepnote_index_column": 4547
        },
        {
         "created_at": "2021-11-30T20:49:00.000000",
         "2.5um/dl_x": 2.07,
         "2.5um/dl_y": 2.72,
         "2.5um/dl": 3.02,
         "_deepnote_index_column": 4548
        },
        {
         "created_at": "2021-11-30T20:53:00.000000",
         "2.5um/dl_x": 2.07,
         "2.5um/dl_y": 2.25,
         "2.5um/dl": 1.04,
         "_deepnote_index_column": 4549
        },
        {
         "created_at": "2021-11-30T20:55:00.000000",
         "2.5um/dl_x": 1.71,
         "2.5um/dl_y": 1.14,
         "2.5um/dl": 1.53,
         "_deepnote_index_column": 4550
        },
        {
         "created_at": "2021-11-30T20:57:00.000000",
         "2.5um/dl_x": 3.22,
         "2.5um/dl_y": 1.53,
         "2.5um/dl": 1.54,
         "_deepnote_index_column": 4551
        },
        {
         "created_at": "2021-11-30T20:59:00.000000",
         "2.5um/dl_x": 1.49,
         "2.5um/dl_y": 1.71,
         "2.5um/dl": 0.78,
         "_deepnote_index_column": 4552
        },
        {
         "created_at": "2021-11-30T21:01:00.000000",
         "2.5um/dl_x": 2.38,
         "2.5um/dl_y": 1.67,
         "2.5um/dl": 0.58,
         "_deepnote_index_column": 4553
        },
        {
         "created_at": "2021-11-30T21:03:00.000000",
         "2.5um/dl_x": 0.88,
         "2.5um/dl_y": 1.16,
         "2.5um/dl": 1.33,
         "_deepnote_index_column": 4554
        },
        {
         "created_at": "2021-11-30T21:05:00.000000",
         "2.5um/dl_x": 2.52,
         "2.5um/dl_y": 1.61,
         "2.5um/dl": 1.14,
         "_deepnote_index_column": 4555
        },
        {
         "created_at": "2021-11-30T21:07:00.000000",
         "2.5um/dl_x": 1.35,
         "2.5um/dl_y": 1.63,
         "2.5um/dl": 1.04,
         "_deepnote_index_column": 4556
        },
        {
         "created_at": "2021-11-30T21:09:00.000000",
         "2.5um/dl_x": 2.98,
         "2.5um/dl_y": 2.47,
         "2.5um/dl": 2.26,
         "_deepnote_index_column": 4557
        },
        {
         "created_at": "2021-11-30T21:11:00.000000",
         "2.5um/dl_x": 3.49,
         "2.5um/dl_y": 2.72,
         "2.5um/dl": 0.85,
         "_deepnote_index_column": 4558
        },
        {
         "created_at": "2021-11-30T21:13:00.000000",
         "2.5um/dl_x": 4.1,
         "2.5um/dl_y": 3.72,
         "2.5um/dl": 2.17,
         "_deepnote_index_column": 4559
        },
        {
         "created_at": "2021-11-30T21:15:00.000000",
         "2.5um/dl_x": 5.61,
         "2.5um/dl_y": 1.91,
         "2.5um/dl": 0.66,
         "_deepnote_index_column": 4560
        },
        {
         "created_at": "2021-11-30T21:17:00.000000",
         "2.5um/dl_x": 4.95,
         "2.5um/dl_y": 1.97,
         "2.5um/dl": 1.16,
         "_deepnote_index_column": 4561
        },
        {
         "created_at": "2021-11-30T21:19:00.000000",
         "2.5um/dl_x": 1.4,
         "2.5um/dl_y": 1.93,
         "2.5um/dl": 1.49,
         "_deepnote_index_column": 4562
        },
        {
         "created_at": "2021-11-30T21:21:00.000000",
         "2.5um/dl_x": 1.97,
         "2.5um/dl_y": 4.02,
         "2.5um/dl": 1.87,
         "_deepnote_index_column": 4563
        },
        {
         "created_at": "2021-11-30T21:25:00.000000",
         "2.5um/dl_x": 4.51,
         "2.5um/dl_y": 2.93,
         "2.5um/dl": 1.73,
         "_deepnote_index_column": 4564
        },
        {
         "created_at": "2021-11-30T21:29:00.000000",
         "2.5um/dl_x": 2.1,
         "2.5um/dl_y": 2.24,
         "2.5um/dl": 1.81,
         "_deepnote_index_column": 4565
        },
        {
         "created_at": "2021-11-30T21:37:00.000000",
         "2.5um/dl_x": 3.08,
         "2.5um/dl_y": 1.95,
         "2.5um/dl": 0.98,
         "_deepnote_index_column": 4566
        },
        {
         "created_at": "2021-11-30T21:39:00.000000",
         "2.5um/dl_x": 2.17,
         "2.5um/dl_y": 1.47,
         "2.5um/dl": 1.05,
         "_deepnote_index_column": 4567
        },
        {
         "created_at": "2021-11-30T21:41:00.000000",
         "2.5um/dl_x": 1.93,
         "2.5um/dl_y": 2.2,
         "2.5um/dl": 1.57,
         "_deepnote_index_column": 4568
        },
        {
         "created_at": "2021-11-30T21:43:00.000000",
         "2.5um/dl_x": 4.53,
         "2.5um/dl_y": 3.23,
         "2.5um/dl": 0.4,
         "_deepnote_index_column": 4569
        },
        {
         "created_at": "2021-11-30T21:45:00.000000",
         "2.5um/dl_x": 2.1,
         "2.5um/dl_y": 1.22,
         "2.5um/dl": 3.03,
         "_deepnote_index_column": 4570
        },
        {
         "created_at": "2021-11-30T21:47:00.000000",
         "2.5um/dl_x": 1.24,
         "2.5um/dl_y": 2.48,
         "2.5um/dl": 1,
         "_deepnote_index_column": 4571
        },
        {
         "created_at": "2021-11-30T21:49:00.000000",
         "2.5um/dl_x": 2.76,
         "2.5um/dl_y": 0.95,
         "2.5um/dl": 2.5,
         "_deepnote_index_column": 4572
        },
        {
         "created_at": "2021-11-30T21:51:00.000000",
         "2.5um/dl_x": 2.11,
         "2.5um/dl_y": 0.8,
         "2.5um/dl": 1.04,
         "_deepnote_index_column": 4573
        },
        {
         "created_at": "2021-11-30T21:57:00.000000",
         "2.5um/dl_x": 5.05,
         "2.5um/dl_y": 1.03,
         "2.5um/dl": 1.62,
         "_deepnote_index_column": 4574
        },
        {
         "created_at": "2021-11-30T21:59:00.000000",
         "2.5um/dl_x": 2.98,
         "2.5um/dl_y": 0.96,
         "2.5um/dl": 1.22,
         "_deepnote_index_column": 4575
        },
        {
         "created_at": "2021-11-30T22:01:00.000000",
         "2.5um/dl_x": 4.44,
         "2.5um/dl_y": 1.6,
         "2.5um/dl": 1.73,
         "_deepnote_index_column": 4576
        },
        {
         "created_at": "2021-11-30T22:03:00.000000",
         "2.5um/dl_x": 1.96,
         "2.5um/dl_y": 1.98,
         "2.5um/dl": 1.92,
         "_deepnote_index_column": 4577
        },
        {
         "created_at": "2021-11-30T22:05:00.000000",
         "2.5um/dl_x": 3.68,
         "2.5um/dl_y": 1.59,
         "2.5um/dl": 2.02,
         "_deepnote_index_column": 4578
        },
        {
         "created_at": "2021-11-30T22:07:00.000000",
         "2.5um/dl_x": 3.1,
         "2.5um/dl_y": 1.44,
         "2.5um/dl": 2.47,
         "_deepnote_index_column": 4579
        },
        {
         "created_at": "2021-11-30T22:09:00.000000",
         "2.5um/dl_x": 3.69,
         "2.5um/dl_y": 3.31,
         "2.5um/dl": 1.26,
         "_deepnote_index_column": 4580
        },
        {
         "created_at": "2021-11-30T22:11:00.000000",
         "2.5um/dl_x": 3.02,
         "2.5um/dl_y": 0.61,
         "2.5um/dl": 2.29,
         "_deepnote_index_column": 4581
        },
        {
         "created_at": "2021-11-30T22:15:00.000000",
         "2.5um/dl_x": 2.2,
         "2.5um/dl_y": 0.7,
         "2.5um/dl": 1.2,
         "_deepnote_index_column": 4582
        },
        {
         "created_at": "2021-11-30T22:17:00.000000",
         "2.5um/dl_x": 2.27,
         "2.5um/dl_y": 1.05,
         "2.5um/dl": 2.58,
         "_deepnote_index_column": 4583
        },
        {
         "created_at": "2021-11-30T22:19:00.000000",
         "2.5um/dl_x": 1.32,
         "2.5um/dl_y": 1.67,
         "2.5um/dl": 2.02,
         "_deepnote_index_column": 4584
        },
        {
         "created_at": "2021-11-30T22:21:00.000000",
         "2.5um/dl_x": 3.65,
         "2.5um/dl_y": 0.54,
         "2.5um/dl": 3.21,
         "_deepnote_index_column": 4585
        },
        {
         "created_at": "2021-11-30T22:27:00.000000",
         "2.5um/dl_x": 0.98,
         "2.5um/dl_y": 0.75,
         "2.5um/dl": 2.63,
         "_deepnote_index_column": 4586
        },
        {
         "created_at": "2021-11-30T22:29:00.000000",
         "2.5um/dl_x": 1.75,
         "2.5um/dl_y": 0.89,
         "2.5um/dl": 1.96,
         "_deepnote_index_column": 4587
        },
        {
         "created_at": "2021-11-30T22:31:00.000000",
         "2.5um/dl_x": 2.75,
         "2.5um/dl_y": 1.02,
         "2.5um/dl": 2.59,
         "_deepnote_index_column": 4588
        },
        {
         "created_at": "2021-11-30T22:33:00.000000",
         "2.5um/dl_x": 2.47,
         "2.5um/dl_y": 2.14,
         "2.5um/dl": 2.74,
         "_deepnote_index_column": 4589
        },
        {
         "created_at": "2021-11-30T22:37:00.000000",
         "2.5um/dl_x": 1.82,
         "2.5um/dl_y": 1.91,
         "2.5um/dl": 0.95,
         "_deepnote_index_column": 4590
        },
        {
         "created_at": "2021-11-30T22:39:00.000000",
         "2.5um/dl_x": 3.52,
         "2.5um/dl_y": 0.81,
         "2.5um/dl": 2.67,
         "_deepnote_index_column": 4591
        },
        {
         "created_at": "2021-11-30T22:41:00.000000",
         "2.5um/dl_x": 3.87,
         "2.5um/dl_y": 1.1,
         "2.5um/dl": 1.46,
         "_deepnote_index_column": 4592
        },
        {
         "created_at": "2021-11-30T22:47:00.000000",
         "2.5um/dl_x": 2.04,
         "2.5um/dl_y": 0.96,
         "2.5um/dl": 0.8,
         "_deepnote_index_column": 4593
        },
        {
         "created_at": "2021-11-30T22:53:00.000000",
         "2.5um/dl_x": 4.42,
         "2.5um/dl_y": 1.07,
         "2.5um/dl": 1.54,
         "_deepnote_index_column": 4594
        },
        {
         "created_at": "2021-11-30T22:55:00.000000",
         "2.5um/dl_x": 1.57,
         "2.5um/dl_y": 0.72,
         "2.5um/dl": 2.16,
         "_deepnote_index_column": 4595
        },
        {
         "created_at": "2021-11-30T22:57:00.000000",
         "2.5um/dl_x": 2.83,
         "2.5um/dl_y": 2.09,
         "2.5um/dl": 2.19,
         "_deepnote_index_column": 4596
        },
        {
         "created_at": "2021-11-30T22:59:00.000000",
         "2.5um/dl_x": 2.78,
         "2.5um/dl_y": 0.69,
         "2.5um/dl": 1.76,
         "_deepnote_index_column": 4597
        },
        {
         "created_at": "2021-11-30T23:03:00.000000",
         "2.5um/dl_x": 1.83,
         "2.5um/dl_y": 0.82,
         "2.5um/dl": 2.39,
         "_deepnote_index_column": 4598
        },
        {
         "created_at": "2021-11-30T23:05:00.000000",
         "2.5um/dl_x": 5.14,
         "2.5um/dl_y": 0.22,
         "2.5um/dl": 2.29,
         "_deepnote_index_column": 4599
        },
        {
         "created_at": "2021-11-30T23:11:00.000000",
         "2.5um/dl_x": 3.56,
         "2.5um/dl_y": 0.82,
         "2.5um/dl": 1.25,
         "_deepnote_index_column": 4600
        },
        {
         "created_at": "2021-11-30T23:13:00.000000",
         "2.5um/dl_x": 2.79,
         "2.5um/dl_y": 0.73,
         "2.5um/dl": 1.16,
         "_deepnote_index_column": 4601
        },
        {
         "created_at": "2021-11-30T23:15:00.000000",
         "2.5um/dl_x": 5.16,
         "2.5um/dl_y": 1.02,
         "2.5um/dl": 1.52,
         "_deepnote_index_column": 4602
        },
        {
         "created_at": "2021-11-30T23:17:00.000000",
         "2.5um/dl_x": 3.61,
         "2.5um/dl_y": 0.88,
         "2.5um/dl": 2.46,
         "_deepnote_index_column": 4603
        },
        {
         "created_at": "2021-11-30T23:19:00.000000",
         "2.5um/dl_x": 5.28,
         "2.5um/dl_y": 2.15,
         "2.5um/dl": 2.44,
         "_deepnote_index_column": 4604
        },
        {
         "created_at": "2021-11-30T23:23:00.000000",
         "2.5um/dl_x": 3.31,
         "2.5um/dl_y": 0.72,
         "2.5um/dl": 2.49,
         "_deepnote_index_column": 4605
        },
        {
         "created_at": "2021-11-30T23:25:00.000000",
         "2.5um/dl_x": 4.21,
         "2.5um/dl_y": 1.46,
         "2.5um/dl": 1.55,
         "_deepnote_index_column": 4606
        },
        {
         "created_at": "2021-11-30T23:27:00.000000",
         "2.5um/dl_x": 2.07,
         "2.5um/dl_y": 0.6,
         "2.5um/dl": 2.32,
         "_deepnote_index_column": 4607
        },
        {
         "created_at": "2021-11-30T23:29:00.000000",
         "2.5um/dl_x": 5.62,
         "2.5um/dl_y": 0.49,
         "2.5um/dl": 1.66,
         "_deepnote_index_column": 4608
        },
        {
         "created_at": "2021-11-30T23:31:00.000000",
         "2.5um/dl_x": 4.32,
         "2.5um/dl_y": 0.84,
         "2.5um/dl": 1.71,
         "_deepnote_index_column": 4609
        },
        {
         "created_at": "2021-11-30T23:33:00.000000",
         "2.5um/dl_x": 2.57,
         "2.5um/dl_y": 0.63,
         "2.5um/dl": 2.4,
         "_deepnote_index_column": 4610
        },
        {
         "created_at": "2021-11-30T23:35:00.000000",
         "2.5um/dl_x": 4.21,
         "2.5um/dl_y": 0.26,
         "2.5um/dl": 1.24,
         "_deepnote_index_column": 4611
        },
        {
         "created_at": "2021-11-30T23:39:00.000000",
         "2.5um/dl_x": 2.86,
         "2.5um/dl_y": 1.27,
         "2.5um/dl": 2.43,
         "_deepnote_index_column": 4612
        },
        {
         "created_at": "2021-11-30T23:41:00.000000",
         "2.5um/dl_x": 5.64,
         "2.5um/dl_y": 0.7,
         "2.5um/dl": 2.38,
         "_deepnote_index_column": 4613
        },
        {
         "created_at": "2021-11-30T23:43:00.000000",
         "2.5um/dl_x": 6.11,
         "2.5um/dl_y": 0.52,
         "2.5um/dl": 1.83,
         "_deepnote_index_column": 4614
        },
        {
         "created_at": "2021-11-30T23:45:00.000000",
         "2.5um/dl_x": 2.83,
         "2.5um/dl_y": 0.98,
         "2.5um/dl": 2.31,
         "_deepnote_index_column": 4615
        },
        {
         "created_at": "2021-11-30T23:47:00.000000",
         "2.5um/dl_x": 3.93,
         "2.5um/dl_y": 0.53,
         "2.5um/dl": 1.92,
         "_deepnote_index_column": 4616
        },
        {
         "created_at": "2021-11-30T23:49:00.000000",
         "2.5um/dl_x": 2.62,
         "2.5um/dl_y": 1.6,
         "2.5um/dl": 1.86,
         "_deepnote_index_column": 4617
        },
        {
         "created_at": "2021-11-30T23:51:00.000000",
         "2.5um/dl_x": 3.4,
         "2.5um/dl_y": 0.24,
         "2.5um/dl": 2.05,
         "_deepnote_index_column": 4618
        },
        {
         "created_at": "2021-11-30T23:57:00.000000",
         "2.5um/dl_x": 2.35,
         "2.5um/dl_y": 0.09,
         "2.5um/dl": 3.18,
         "_deepnote_index_column": 4619
        },
        {
         "created_at": "2021-11-30T23:59:00.000000",
         "2.5um/dl_x": 4.13,
         "2.5um/dl_y": 0.87,
         "2.5um/dl": 2.27,
         "_deepnote_index_column": 4620
        }
       ]
      },
      "text/plain": "                    created_at  2.5um/dl_x  2.5um/dl_y  2.5um/dl\n0    2021-11-24 00:01:00+00:00        2.55        1.60      6.74\n1    2021-11-24 00:03:00+00:00        5.47        1.00     11.10\n2    2021-11-24 00:05:00+00:00        5.16        1.34      8.18\n3    2021-11-24 00:07:00+00:00        4.07        0.46      6.28\n4    2021-11-24 00:09:00+00:00        4.03        1.66      4.68\n...                        ...         ...         ...       ...\n4616 2021-11-30 23:47:00+00:00        3.93        0.53      1.92\n4617 2021-11-30 23:49:00+00:00        2.62        1.60      1.86\n4618 2021-11-30 23:51:00+00:00        3.40        0.24      2.05\n4619 2021-11-30 23:57:00+00:00        2.35        0.09      3.18\n4620 2021-11-30 23:59:00+00:00        4.13        0.87      2.27\n\n[1049 rows x 4 columns]",
      "text/html": "<div>\n<style scoped>\n    .dataframe tbody tr th:only-of-type {\n        vertical-align: middle;\n    }\n\n    .dataframe tbody tr th {\n        vertical-align: top;\n    }\n\n    .dataframe thead th {\n        text-align: right;\n    }\n</style>\n<table border=\"1\" class=\"dataframe\">\n  <thead>\n    <tr style=\"text-align: right;\">\n      <th></th>\n      <th>created_at</th>\n      <th>2.5um/dl_x</th>\n      <th>2.5um/dl_y</th>\n      <th>2.5um/dl</th>\n    </tr>\n  </thead>\n  <tbody>\n    <tr>\n      <th>0</th>\n      <td>2021-11-24 00:01:00+00:00</td>\n      <td>2.55</td>\n      <td>1.60</td>\n      <td>6.74</td>\n    </tr>\n    <tr>\n      <th>1</th>\n      <td>2021-11-24 00:03:00+00:00</td>\n      <td>5.47</td>\n      <td>1.00</td>\n      <td>11.10</td>\n    </tr>\n    <tr>\n      <th>2</th>\n      <td>2021-11-24 00:05:00+00:00</td>\n      <td>5.16</td>\n      <td>1.34</td>\n      <td>8.18</td>\n    </tr>\n    <tr>\n      <th>3</th>\n      <td>2021-11-24 00:07:00+00:00</td>\n      <td>4.07</td>\n      <td>0.46</td>\n      <td>6.28</td>\n    </tr>\n    <tr>\n      <th>4</th>\n      <td>2021-11-24 00:09:00+00:00</td>\n      <td>4.03</td>\n      <td>1.66</td>\n      <td>4.68</td>\n    </tr>\n    <tr>\n      <th>...</th>\n      <td>...</td>\n      <td>...</td>\n      <td>...</td>\n      <td>...</td>\n    </tr>\n    <tr>\n      <th>4616</th>\n      <td>2021-11-30 23:47:00+00:00</td>\n      <td>3.93</td>\n      <td>0.53</td>\n      <td>1.92</td>\n    </tr>\n    <tr>\n      <th>4617</th>\n      <td>2021-11-30 23:49:00+00:00</td>\n      <td>2.62</td>\n      <td>1.60</td>\n      <td>1.86</td>\n    </tr>\n    <tr>\n      <th>4618</th>\n      <td>2021-11-30 23:51:00+00:00</td>\n      <td>3.40</td>\n      <td>0.24</td>\n      <td>2.05</td>\n    </tr>\n    <tr>\n      <th>4619</th>\n      <td>2021-11-30 23:57:00+00:00</td>\n      <td>2.35</td>\n      <td>0.09</td>\n      <td>3.18</td>\n    </tr>\n    <tr>\n      <th>4620</th>\n      <td>2021-11-30 23:59:00+00:00</td>\n      <td>4.13</td>\n      <td>0.87</td>\n      <td>2.27</td>\n    </tr>\n  </tbody>\n</table>\n<p>1049 rows × 4 columns</p>\n</div>"
     },
     "metadata": {}
    }
   ],
   "execution_count": 33
  },
  {
   "cell_type": "code",
   "source": "test2 = time_series_index([27395, 14633, 14091, 25999])\ntest2",
   "metadata": {
    "tags": [],
    "cell_id": "00006-9c22e003-ca72-4f51-842e-990a3de356dc",
    "deepnote_to_be_reexecuted": false,
    "source_hash": "3c35a42f",
    "execution_start": 1638335790103,
    "execution_millis": 3706,
    "deepnote_cell_type": "code"
   },
   "outputs": [
    {
     "output_type": "execute_result",
     "execution_count": 34,
     "data": {
      "application/vnd.deepnote.dataframe.v2+json": {
       "row_count": 1048,
       "column_count": 5,
       "columns": [
        {
         "name": "created_at",
         "dtype": "datetime64[ns, UTC]",
         "stats": {
          "unique_count": 1048,
          "nan_count": 0,
          "min": "2021-11-24 00:01:00+00:00",
          "max": "2021-11-30 23:59:00+00:00",
          "histogram": [
           {
            "bin_start": 1637712060000000000,
            "bin_end": 1637772528000000000,
            "count": 323
           },
           {
            "bin_start": 1637772528000000000,
            "bin_end": 1637832996000000000,
            "count": 0
           },
           {
            "bin_start": 1637832996000000000,
            "bin_end": 1637893464000000000,
            "count": 0
           },
           {
            "bin_start": 1637893464000000000,
            "bin_end": 1637953932000000000,
            "count": 0
           },
           {
            "bin_start": 1637953932000000000,
            "bin_end": 1638014400000000000,
            "count": 0
           },
           {
            "bin_start": 1638014400000000000,
            "bin_end": 1638074868000000000,
            "count": 0
           },
           {
            "bin_start": 1638074868000000000,
            "bin_end": 1638135336000000000,
            "count": 0
           },
           {
            "bin_start": 1638135336000000000,
            "bin_end": 1638195804000000000,
            "count": 4
           },
           {
            "bin_start": 1638195804000000000,
            "bin_end": 1638256272000000000,
            "count": 361
           },
           {
            "bin_start": 1638256272000000000,
            "bin_end": 1638316740000000000,
            "count": 360
           }
          ]
         }
        },
        {
         "name": "2.5um/dl_x",
         "dtype": "float64",
         "stats": {
          "unique_count": 481,
          "nan_count": 0,
          "min": "0.0",
          "max": "12.0",
          "histogram": [
           {
            "bin_start": 0,
            "bin_end": 1.2,
            "count": 99
           },
           {
            "bin_start": 1.2,
            "bin_end": 2.4,
            "count": 278
           },
           {
            "bin_start": 2.4,
            "bin_end": 3.5999999999999996,
            "count": 276
           },
           {
            "bin_start": 3.5999999999999996,
            "bin_end": 4.8,
            "count": 167
           },
           {
            "bin_start": 4.8,
            "bin_end": 6,
            "count": 109
           },
           {
            "bin_start": 6,
            "bin_end": 7.199999999999999,
            "count": 54
           },
           {
            "bin_start": 7.199999999999999,
            "bin_end": 8.4,
            "count": 37
           },
           {
            "bin_start": 8.4,
            "bin_end": 9.6,
            "count": 17
           },
           {
            "bin_start": 9.6,
            "bin_end": 10.799999999999999,
            "count": 9
           },
           {
            "bin_start": 10.799999999999999,
            "bin_end": 12,
            "count": 2
           }
          ]
         }
        },
        {
         "name": "2.5um/dl_y",
         "dtype": "float64",
         "stats": {
          "unique_count": 594,
          "nan_count": 0,
          "min": "0.0",
          "max": "21.77",
          "histogram": [
           {
            "bin_start": 0,
            "bin_end": 2.177,
            "count": 300
           },
           {
            "bin_start": 2.177,
            "bin_end": 4.354,
            "count": 395
           },
           {
            "bin_start": 4.354,
            "bin_end": 6.531000000000001,
            "count": 165
           },
           {
            "bin_start": 6.531000000000001,
            "bin_end": 8.708,
            "count": 64
           },
           {
            "bin_start": 8.708,
            "bin_end": 10.885,
            "count": 36
           },
           {
            "bin_start": 10.885,
            "bin_end": 13.062000000000001,
            "count": 26
           },
           {
            "bin_start": 13.062000000000001,
            "bin_end": 15.239,
            "count": 19
           },
           {
            "bin_start": 15.239,
            "bin_end": 17.416,
            "count": 20
           },
           {
            "bin_start": 17.416,
            "bin_end": 19.593,
            "count": 16
           },
           {
            "bin_start": 19.593,
            "bin_end": 21.77,
            "count": 7
           }
          ]
         }
        },
        {
         "name": "2.5um/dl_x.1",
         "dtype": "float64",
         "stats": {
          "unique_count": 705,
          "nan_count": 0,
          "min": "0.22",
          "max": "37.48",
          "histogram": [
           {
            "bin_start": 0.22,
            "bin_end": 3.946,
            "count": 356
           },
           {
            "bin_start": 3.946,
            "bin_end": 7.672,
            "count": 388
           },
           {
            "bin_start": 7.672,
            "bin_end": 11.398000000000001,
            "count": 159
           },
           {
            "bin_start": 11.398000000000001,
            "bin_end": 15.124,
            "count": 42
           },
           {
            "bin_start": 15.124,
            "bin_end": 18.849999999999998,
            "count": 21
           },
           {
            "bin_start": 18.849999999999998,
            "bin_end": 22.576,
            "count": 13
           },
           {
            "bin_start": 22.576,
            "bin_end": 26.302,
            "count": 20
           },
           {
            "bin_start": 26.302,
            "bin_end": 30.028,
            "count": 20
           },
           {
            "bin_start": 30.028,
            "bin_end": 33.754,
            "count": 19
           },
           {
            "bin_start": 33.754,
            "bin_end": 37.48,
            "count": 10
           }
          ]
         }
        },
        {
         "name": "2.5um/dl_y.1",
         "dtype": "float64",
         "stats": {
          "unique_count": 672,
          "nan_count": 0,
          "min": "0.34",
          "max": "37.16",
          "histogram": [
           {
            "bin_start": 0.34,
            "bin_end": 4.021999999999999,
            "count": 537
           },
           {
            "bin_start": 4.021999999999999,
            "bin_end": 7.703999999999999,
            "count": 185
           },
           {
            "bin_start": 7.703999999999999,
            "bin_end": 11.386,
            "count": 84
           },
           {
            "bin_start": 11.386,
            "bin_end": 15.067999999999998,
            "count": 139
           },
           {
            "bin_start": 15.067999999999998,
            "bin_end": 18.749999999999996,
            "count": 76
           },
           {
            "bin_start": 18.749999999999996,
            "bin_end": 22.432,
            "count": 19
           },
           {
            "bin_start": 22.432,
            "bin_end": 26.113999999999997,
            "count": 5
           },
           {
            "bin_start": 26.113999999999997,
            "bin_end": 29.795999999999996,
            "count": 2
           },
           {
            "bin_start": 29.795999999999996,
            "bin_end": 33.478,
            "count": 0
           },
           {
            "bin_start": 33.478,
            "bin_end": 37.16,
            "count": 1
           }
          ]
         }
        },
        {
         "name": "_deepnote_index_column",
         "dtype": "int64"
        }
       ],
       "rows_top": [
        {
         "created_at": "2021-11-24T00:01:00.000000",
         "2.5um/dl_x": 2.55,
         "2.5um/dl_y": 1.6,
         "2.5um/dl_x.1": 6.74,
         "2.5um/dl_y.1": 3.21,
         "_deepnote_index_column": 0
        },
        {
         "created_at": "2021-11-24T00:03:00.000000",
         "2.5um/dl_x": 5.47,
         "2.5um/dl_y": 1,
         "2.5um/dl_x.1": 11.1,
         "2.5um/dl_y.1": 1.58,
         "_deepnote_index_column": 1
        },
        {
         "created_at": "2021-11-24T00:05:00.000000",
         "2.5um/dl_x": 5.16,
         "2.5um/dl_y": 1.34,
         "2.5um/dl_x.1": 8.18,
         "2.5um/dl_y.1": 2.2,
         "_deepnote_index_column": 2
        },
        {
         "created_at": "2021-11-24T00:07:00.000000",
         "2.5um/dl_x": 4.07,
         "2.5um/dl_y": 0.46,
         "2.5um/dl_x.1": 6.28,
         "2.5um/dl_y.1": 3.14,
         "_deepnote_index_column": 3
        },
        {
         "created_at": "2021-11-24T00:09:00.000000",
         "2.5um/dl_x": 4.03,
         "2.5um/dl_y": 1.66,
         "2.5um/dl_x.1": 4.68,
         "2.5um/dl_y.1": 1.93,
         "_deepnote_index_column": 4
        },
        {
         "created_at": "2021-11-24T00:11:00.000000",
         "2.5um/dl_x": 5.37,
         "2.5um/dl_y": 1.24,
         "2.5um/dl_x.1": 6.75,
         "2.5um/dl_y.1": 3.6,
         "_deepnote_index_column": 5
        },
        {
         "created_at": "2021-11-24T00:13:00.000000",
         "2.5um/dl_x": 4.36,
         "2.5um/dl_y": 1.07,
         "2.5um/dl_x.1": 8.67,
         "2.5um/dl_y.1": 1.98,
         "_deepnote_index_column": 6
        },
        {
         "created_at": "2021-11-24T00:15:00.000000",
         "2.5um/dl_x": 3.86,
         "2.5um/dl_y": 2.05,
         "2.5um/dl_x.1": 8.53,
         "2.5um/dl_y.1": 5.02,
         "_deepnote_index_column": 7
        },
        {
         "created_at": "2021-11-24T00:17:00.000000",
         "2.5um/dl_x": 3.12,
         "2.5um/dl_y": 2.26,
         "2.5um/dl_x.1": 6.31,
         "2.5um/dl_y.1": 2.96,
         "_deepnote_index_column": 8
        },
        {
         "created_at": "2021-11-24T00:19:00.000000",
         "2.5um/dl_x": 2.8,
         "2.5um/dl_y": 1.15,
         "2.5um/dl_x.1": 9.45,
         "2.5um/dl_y.1": 2.2,
         "_deepnote_index_column": 9
        },
        {
         "created_at": "2021-11-24T00:21:00.000000",
         "2.5um/dl_x": 5.86,
         "2.5um/dl_y": 1.3,
         "2.5um/dl_x.1": 7.09,
         "2.5um/dl_y.1": 0.83,
         "_deepnote_index_column": 10
        },
        {
         "created_at": "2021-11-24T00:23:00.000000",
         "2.5um/dl_x": 3.39,
         "2.5um/dl_y": 1.25,
         "2.5um/dl_x.1": 5.31,
         "2.5um/dl_y.1": 3.39,
         "_deepnote_index_column": 11
        },
        {
         "created_at": "2021-11-24T00:25:00.000000",
         "2.5um/dl_x": 2.18,
         "2.5um/dl_y": 0.84,
         "2.5um/dl_x.1": 4.47,
         "2.5um/dl_y.1": 2.03,
         "_deepnote_index_column": 12
        },
        {
         "created_at": "2021-11-24T00:27:00.000000",
         "2.5um/dl_x": 4.21,
         "2.5um/dl_y": 2.33,
         "2.5um/dl_x.1": 5.97,
         "2.5um/dl_y.1": 0.78,
         "_deepnote_index_column": 13
        },
        {
         "created_at": "2021-11-24T00:29:00.000000",
         "2.5um/dl_x": 3.66,
         "2.5um/dl_y": 1.19,
         "2.5um/dl_x.1": 4.33,
         "2.5um/dl_y.1": 1.41,
         "_deepnote_index_column": 14
        },
        {
         "created_at": "2021-11-24T00:31:00.000000",
         "2.5um/dl_x": 4.07,
         "2.5um/dl_y": 0.95,
         "2.5um/dl_x.1": 4.38,
         "2.5um/dl_y.1": 3.12,
         "_deepnote_index_column": 15
        },
        {
         "created_at": "2021-11-24T00:33:00.000000",
         "2.5um/dl_x": 3.19,
         "2.5um/dl_y": 1.11,
         "2.5um/dl_x.1": 4.61,
         "2.5um/dl_y.1": 1.78,
         "_deepnote_index_column": 16
        },
        {
         "created_at": "2021-11-24T00:35:00.000000",
         "2.5um/dl_x": 3.19,
         "2.5um/dl_y": 0.69,
         "2.5um/dl_x.1": 7.15,
         "2.5um/dl_y.1": 2.95,
         "_deepnote_index_column": 17
        },
        {
         "created_at": "2021-11-24T00:37:00.000000",
         "2.5um/dl_x": 6.32,
         "2.5um/dl_y": 1.22,
         "2.5um/dl_x.1": 6.16,
         "2.5um/dl_y.1": 1.64,
         "_deepnote_index_column": 18
        },
        {
         "created_at": "2021-11-24T00:39:00.000000",
         "2.5um/dl_x": 4.86,
         "2.5um/dl_y": 0.25,
         "2.5um/dl_x.1": 3.59,
         "2.5um/dl_y.1": 2.53,
         "_deepnote_index_column": 19
        },
        {
         "created_at": "2021-11-24T00:41:00.000000",
         "2.5um/dl_x": 4.77,
         "2.5um/dl_y": 1.2,
         "2.5um/dl_x.1": 3.29,
         "2.5um/dl_y.1": 1.88,
         "_deepnote_index_column": 20
        },
        {
         "created_at": "2021-11-24T00:43:00.000000",
         "2.5um/dl_x": 3.29,
         "2.5um/dl_y": 2.58,
         "2.5um/dl_x.1": 3.45,
         "2.5um/dl_y.1": 2.52,
         "_deepnote_index_column": 21
        },
        {
         "created_at": "2021-11-24T00:45:00.000000",
         "2.5um/dl_x": 4.93,
         "2.5um/dl_y": 1.31,
         "2.5um/dl_x.1": 2.96,
         "2.5um/dl_y.1": 1.68,
         "_deepnote_index_column": 22
        },
        {
         "created_at": "2021-11-24T00:47:00.000000",
         "2.5um/dl_x": 2.34,
         "2.5um/dl_y": 0.18,
         "2.5um/dl_x.1": 5.3,
         "2.5um/dl_y.1": 3.22,
         "_deepnote_index_column": 23
        },
        {
         "created_at": "2021-11-24T00:49:00.000000",
         "2.5um/dl_x": 3.5,
         "2.5um/dl_y": 1.75,
         "2.5um/dl_x.1": 4.02,
         "2.5um/dl_y.1": 3.97,
         "_deepnote_index_column": 24
        },
        {
         "created_at": "2021-11-24T00:51:00.000000",
         "2.5um/dl_x": 3.16,
         "2.5um/dl_y": 0.63,
         "2.5um/dl_x.1": 2.07,
         "2.5um/dl_y.1": 1.84,
         "_deepnote_index_column": 25
        },
        {
         "created_at": "2021-11-24T00:53:00.000000",
         "2.5um/dl_x": 4.07,
         "2.5um/dl_y": 1.36,
         "2.5um/dl_x.1": 5.21,
         "2.5um/dl_y.1": 2.1,
         "_deepnote_index_column": 26
        },
        {
         "created_at": "2021-11-24T00:55:00.000000",
         "2.5um/dl_x": 2.24,
         "2.5um/dl_y": 1.6,
         "2.5um/dl_x.1": 5.7,
         "2.5um/dl_y.1": 2.11,
         "_deepnote_index_column": 27
        },
        {
         "created_at": "2021-11-24T00:57:00.000000",
         "2.5um/dl_x": 4.71,
         "2.5um/dl_y": 0.85,
         "2.5um/dl_x.1": 4.67,
         "2.5um/dl_y.1": 2.69,
         "_deepnote_index_column": 28
        },
        {
         "created_at": "2021-11-24T00:59:00.000000",
         "2.5um/dl_x": 5.36,
         "2.5um/dl_y": 0.84,
         "2.5um/dl_x.1": 4.5,
         "2.5um/dl_y.1": 3.62,
         "_deepnote_index_column": 29
        },
        {
         "created_at": "2021-11-24T01:01:00.000000",
         "2.5um/dl_x": 6.14,
         "2.5um/dl_y": 1.72,
         "2.5um/dl_x.1": 2.76,
         "2.5um/dl_y.1": 1.31,
         "_deepnote_index_column": 30
        },
        {
         "created_at": "2021-11-24T01:03:00.000000",
         "2.5um/dl_x": 5.41,
         "2.5um/dl_y": 0.95,
         "2.5um/dl_x.1": 3.26,
         "2.5um/dl_y.1": 2.32,
         "_deepnote_index_column": 31
        },
        {
         "created_at": "2021-11-24T01:05:00.000000",
         "2.5um/dl_x": 3.79,
         "2.5um/dl_y": 1,
         "2.5um/dl_x.1": 2.5,
         "2.5um/dl_y.1": 1.6,
         "_deepnote_index_column": 32
        },
        {
         "created_at": "2021-11-24T01:07:00.000000",
         "2.5um/dl_x": 5.4,
         "2.5um/dl_y": 1.13,
         "2.5um/dl_x.1": 3.65,
         "2.5um/dl_y.1": 2.75,
         "_deepnote_index_column": 33
        },
        {
         "created_at": "2021-11-24T01:09:00.000000",
         "2.5um/dl_x": 5.93,
         "2.5um/dl_y": 0.67,
         "2.5um/dl_x.1": 4.67,
         "2.5um/dl_y.1": 2.07,
         "_deepnote_index_column": 34
        },
        {
         "created_at": "2021-11-24T01:11:00.000000",
         "2.5um/dl_x": 6.38,
         "2.5um/dl_y": 0.66,
         "2.5um/dl_x.1": 3.34,
         "2.5um/dl_y.1": 2.67,
         "_deepnote_index_column": 35
        },
        {
         "created_at": "2021-11-24T01:13:00.000000",
         "2.5um/dl_x": 8.38,
         "2.5um/dl_y": 1.77,
         "2.5um/dl_x.1": 4.55,
         "2.5um/dl_y.1": 4.34,
         "_deepnote_index_column": 36
        },
        {
         "created_at": "2021-11-24T01:15:00.000000",
         "2.5um/dl_x": 6.2,
         "2.5um/dl_y": 1.47,
         "2.5um/dl_x.1": 4.38,
         "2.5um/dl_y.1": 4.54,
         "_deepnote_index_column": 37
        },
        {
         "created_at": "2021-11-24T01:17:00.000000",
         "2.5um/dl_x": 4.82,
         "2.5um/dl_y": 1.36,
         "2.5um/dl_x.1": 3.15,
         "2.5um/dl_y.1": 2.42,
         "_deepnote_index_column": 38
        },
        {
         "created_at": "2021-11-24T01:19:00.000000",
         "2.5um/dl_x": 2.62,
         "2.5um/dl_y": 1.61,
         "2.5um/dl_x.1": 3.19,
         "2.5um/dl_y.1": 2.93,
         "_deepnote_index_column": 39
        },
        {
         "created_at": "2021-11-24T01:21:00.000000",
         "2.5um/dl_x": 2.68,
         "2.5um/dl_y": 0.29,
         "2.5um/dl_x.1": 3.47,
         "2.5um/dl_y.1": 3.74,
         "_deepnote_index_column": 40
        },
        {
         "created_at": "2021-11-24T01:23:00.000000",
         "2.5um/dl_x": 6.7,
         "2.5um/dl_y": 1.28,
         "2.5um/dl_x.1": 6.29,
         "2.5um/dl_y.1": 3.45,
         "_deepnote_index_column": 41
        },
        {
         "created_at": "2021-11-24T01:25:00.000000",
         "2.5um/dl_x": 3.73,
         "2.5um/dl_y": 1.18,
         "2.5um/dl_x.1": 3.93,
         "2.5um/dl_y.1": 1.67,
         "_deepnote_index_column": 42
        },
        {
         "created_at": "2021-11-24T01:27:00.000000",
         "2.5um/dl_x": 5.31,
         "2.5um/dl_y": 1.56,
         "2.5um/dl_x.1": 3.33,
         "2.5um/dl_y.1": 3.52,
         "_deepnote_index_column": 43
        },
        {
         "created_at": "2021-11-24T01:29:00.000000",
         "2.5um/dl_x": 7.75,
         "2.5um/dl_y": 0.48,
         "2.5um/dl_x.1": 2.78,
         "2.5um/dl_y.1": 2.93,
         "_deepnote_index_column": 44
        },
        {
         "created_at": "2021-11-24T01:31:00.000000",
         "2.5um/dl_x": 8.46,
         "2.5um/dl_y": 0.98,
         "2.5um/dl_x.1": 4,
         "2.5um/dl_y.1": 3.55,
         "_deepnote_index_column": 45
        },
        {
         "created_at": "2021-11-24T01:33:00.000000",
         "2.5um/dl_x": 5.8,
         "2.5um/dl_y": 1.5,
         "2.5um/dl_x.1": 2.78,
         "2.5um/dl_y.1": 2.11,
         "_deepnote_index_column": 46
        },
        {
         "created_at": "2021-11-24T01:35:00.000000",
         "2.5um/dl_x": 6.14,
         "2.5um/dl_y": 0.65,
         "2.5um/dl_x.1": 3.67,
         "2.5um/dl_y.1": 4.37,
         "_deepnote_index_column": 47
        },
        {
         "created_at": "2021-11-24T01:37:00.000000",
         "2.5um/dl_x": 5.26,
         "2.5um/dl_y": 1.31,
         "2.5um/dl_x.1": 4.2,
         "2.5um/dl_y.1": 5.23,
         "_deepnote_index_column": 48
        },
        {
         "created_at": "2021-11-24T01:39:00.000000",
         "2.5um/dl_x": 6.68,
         "2.5um/dl_y": 2.42,
         "2.5um/dl_x.1": 4.69,
         "2.5um/dl_y.1": 3.47,
         "_deepnote_index_column": 49
        },
        {
         "created_at": "2021-11-24T01:41:00.000000",
         "2.5um/dl_x": 8.38,
         "2.5um/dl_y": 0.75,
         "2.5um/dl_x.1": 4.93,
         "2.5um/dl_y.1": 4.84,
         "_deepnote_index_column": 50
        },
        {
         "created_at": "2021-11-24T01:43:00.000000",
         "2.5um/dl_x": 6.83,
         "2.5um/dl_y": 1.45,
         "2.5um/dl_x.1": 5.86,
         "2.5um/dl_y.1": 3.97,
         "_deepnote_index_column": 51
        },
        {
         "created_at": "2021-11-24T01:45:00.000000",
         "2.5um/dl_x": 4.17,
         "2.5um/dl_y": 1.54,
         "2.5um/dl_x.1": 3.45,
         "2.5um/dl_y.1": 1.61,
         "_deepnote_index_column": 52
        },
        {
         "created_at": "2021-11-24T01:47:00.000000",
         "2.5um/dl_x": 7.89,
         "2.5um/dl_y": 2.26,
         "2.5um/dl_x.1": 5.98,
         "2.5um/dl_y.1": 3.12,
         "_deepnote_index_column": 53
        },
        {
         "created_at": "2021-11-24T01:49:00.000000",
         "2.5um/dl_x": 6.21,
         "2.5um/dl_y": 2.2,
         "2.5um/dl_x.1": 3.89,
         "2.5um/dl_y.1": 3.1,
         "_deepnote_index_column": 54
        },
        {
         "created_at": "2021-11-24T01:51:00.000000",
         "2.5um/dl_x": 6.1,
         "2.5um/dl_y": 1.63,
         "2.5um/dl_x.1": 5.37,
         "2.5um/dl_y.1": 2.83,
         "_deepnote_index_column": 55
        },
        {
         "created_at": "2021-11-24T01:53:00.000000",
         "2.5um/dl_x": 4.03,
         "2.5um/dl_y": 1.63,
         "2.5um/dl_x.1": 10.97,
         "2.5um/dl_y.1": 4.62,
         "_deepnote_index_column": 56
        },
        {
         "created_at": "2021-11-24T01:55:00.000000",
         "2.5um/dl_x": 9.11,
         "2.5um/dl_y": 1.34,
         "2.5um/dl_x.1": 5.59,
         "2.5um/dl_y.1": 5.98,
         "_deepnote_index_column": 57
        },
        {
         "created_at": "2021-11-24T01:57:00.000000",
         "2.5um/dl_x": 7.61,
         "2.5um/dl_y": 0.21,
         "2.5um/dl_x.1": 6.71,
         "2.5um/dl_y.1": 3.66,
         "_deepnote_index_column": 58
        },
        {
         "created_at": "2021-11-24T01:59:00.000000",
         "2.5um/dl_x": 5.57,
         "2.5um/dl_y": 1.17,
         "2.5um/dl_x.1": 6.5,
         "2.5um/dl_y.1": 3.88,
         "_deepnote_index_column": 59
        },
        {
         "created_at": "2021-11-24T02:01:00.000000",
         "2.5um/dl_x": 2.79,
         "2.5um/dl_y": 0.51,
         "2.5um/dl_x.1": 5.71,
         "2.5um/dl_y.1": 4.46,
         "_deepnote_index_column": 60
        },
        {
         "created_at": "2021-11-24T02:03:00.000000",
         "2.5um/dl_x": 4.46,
         "2.5um/dl_y": 1.32,
         "2.5um/dl_x.1": 5.32,
         "2.5um/dl_y.1": 4.5,
         "_deepnote_index_column": 61
        },
        {
         "created_at": "2021-11-24T02:05:00.000000",
         "2.5um/dl_x": 9.14,
         "2.5um/dl_y": 1.83,
         "2.5um/dl_x.1": 3.35,
         "2.5um/dl_y.1": 4.04,
         "_deepnote_index_column": 62
        },
        {
         "created_at": "2021-11-24T02:07:00.000000",
         "2.5um/dl_x": 7.53,
         "2.5um/dl_y": 1.93,
         "2.5um/dl_x.1": 8.6,
         "2.5um/dl_y.1": 4.75,
         "_deepnote_index_column": 63
        },
        {
         "created_at": "2021-11-24T02:09:00.000000",
         "2.5um/dl_x": 2.41,
         "2.5um/dl_y": 1.57,
         "2.5um/dl_x.1": 5.63,
         "2.5um/dl_y.1": 5.21,
         "_deepnote_index_column": 64
        },
        {
         "created_at": "2021-11-24T02:11:00.000000",
         "2.5um/dl_x": 6.49,
         "2.5um/dl_y": 1.98,
         "2.5um/dl_x.1": 6.84,
         "2.5um/dl_y.1": 4.7,
         "_deepnote_index_column": 65
        },
        {
         "created_at": "2021-11-24T02:13:00.000000",
         "2.5um/dl_x": 6.96,
         "2.5um/dl_y": 2.73,
         "2.5um/dl_x.1": 8.45,
         "2.5um/dl_y.1": 2.83,
         "_deepnote_index_column": 66
        },
        {
         "created_at": "2021-11-24T02:15:00.000000",
         "2.5um/dl_x": 4.31,
         "2.5um/dl_y": 2.96,
         "2.5um/dl_x.1": 6.31,
         "2.5um/dl_y.1": 4.36,
         "_deepnote_index_column": 67
        },
        {
         "created_at": "2021-11-24T02:17:00.000000",
         "2.5um/dl_x": 7.19,
         "2.5um/dl_y": 1.33,
         "2.5um/dl_x.1": 4.86,
         "2.5um/dl_y.1": 5.34,
         "_deepnote_index_column": 68
        },
        {
         "created_at": "2021-11-24T02:19:00.000000",
         "2.5um/dl_x": 7.3,
         "2.5um/dl_y": 1.36,
         "2.5um/dl_x.1": 3.32,
         "2.5um/dl_y.1": 3.5,
         "_deepnote_index_column": 69
        },
        {
         "created_at": "2021-11-24T02:21:00.000000",
         "2.5um/dl_x": 4.35,
         "2.5um/dl_y": 2.89,
         "2.5um/dl_x.1": 5.77,
         "2.5um/dl_y.1": 5.79,
         "_deepnote_index_column": 70
        },
        {
         "created_at": "2021-11-24T02:23:00.000000",
         "2.5um/dl_x": 5.59,
         "2.5um/dl_y": 1.51,
         "2.5um/dl_x.1": 7.98,
         "2.5um/dl_y.1": 3.76,
         "_deepnote_index_column": 71
        },
        {
         "created_at": "2021-11-24T02:25:00.000000",
         "2.5um/dl_x": 5.16,
         "2.5um/dl_y": 2.62,
         "2.5um/dl_x.1": 8.66,
         "2.5um/dl_y.1": 7,
         "_deepnote_index_column": 72
        },
        {
         "created_at": "2021-11-24T02:27:00.000000",
         "2.5um/dl_x": 5,
         "2.5um/dl_y": 1.77,
         "2.5um/dl_x.1": 5.86,
         "2.5um/dl_y.1": 5.59,
         "_deepnote_index_column": 73
        },
        {
         "created_at": "2021-11-24T02:29:00.000000",
         "2.5um/dl_x": 5.56,
         "2.5um/dl_y": 2.33,
         "2.5um/dl_x.1": 5.3,
         "2.5um/dl_y.1": 3.79,
         "_deepnote_index_column": 74
        },
        {
         "created_at": "2021-11-24T02:31:00.000000",
         "2.5um/dl_x": 7.83,
         "2.5um/dl_y": 0.59,
         "2.5um/dl_x.1": 5.88,
         "2.5um/dl_y.1": 3.9,
         "_deepnote_index_column": 75
        },
        {
         "created_at": "2021-11-24T02:33:00.000000",
         "2.5um/dl_x": 6.57,
         "2.5um/dl_y": 1.83,
         "2.5um/dl_x.1": 5.52,
         "2.5um/dl_y.1": 5.53,
         "_deepnote_index_column": 76
        },
        {
         "created_at": "2021-11-24T02:35:00.000000",
         "2.5um/dl_x": 4.39,
         "2.5um/dl_y": 3.61,
         "2.5um/dl_x.1": 6.83,
         "2.5um/dl_y.1": 3.95,
         "_deepnote_index_column": 77
        },
        {
         "created_at": "2021-11-24T02:37:00.000000",
         "2.5um/dl_x": 5.3,
         "2.5um/dl_y": 3.24,
         "2.5um/dl_x.1": 6.78,
         "2.5um/dl_y.1": 4.5,
         "_deepnote_index_column": 78
        },
        {
         "created_at": "2021-11-24T02:39:00.000000",
         "2.5um/dl_x": 3.77,
         "2.5um/dl_y": 1.66,
         "2.5um/dl_x.1": 7.66,
         "2.5um/dl_y.1": 2.49,
         "_deepnote_index_column": 79
        },
        {
         "created_at": "2021-11-24T02:41:00.000000",
         "2.5um/dl_x": 4.58,
         "2.5um/dl_y": 2.66,
         "2.5um/dl_x.1": 5.5,
         "2.5um/dl_y.1": 3.73,
         "_deepnote_index_column": 80
        },
        {
         "created_at": "2021-11-24T02:43:00.000000",
         "2.5um/dl_x": 9.07,
         "2.5um/dl_y": 1.82,
         "2.5um/dl_x.1": 3,
         "2.5um/dl_y.1": 5.59,
         "_deepnote_index_column": 81
        },
        {
         "created_at": "2021-11-24T02:45:00.000000",
         "2.5um/dl_x": 7.38,
         "2.5um/dl_y": 4.75,
         "2.5um/dl_x.1": 4.18,
         "2.5um/dl_y.1": 3.44,
         "_deepnote_index_column": 82
        },
        {
         "created_at": "2021-11-24T02:47:00.000000",
         "2.5um/dl_x": 6,
         "2.5um/dl_y": 3.12,
         "2.5um/dl_x.1": 3.87,
         "2.5um/dl_y.1": 2.68,
         "_deepnote_index_column": 83
        },
        {
         "created_at": "2021-11-24T02:49:00.000000",
         "2.5um/dl_x": 6.11,
         "2.5um/dl_y": 4.24,
         "2.5um/dl_x.1": 5,
         "2.5um/dl_y.1": 3.54,
         "_deepnote_index_column": 84
        },
        {
         "created_at": "2021-11-24T02:51:00.000000",
         "2.5um/dl_x": 7.04,
         "2.5um/dl_y": 3.93,
         "2.5um/dl_x.1": 3.03,
         "2.5um/dl_y.1": 6.75,
         "_deepnote_index_column": 85
        },
        {
         "created_at": "2021-11-24T02:53:00.000000",
         "2.5um/dl_x": 5.36,
         "2.5um/dl_y": 3.62,
         "2.5um/dl_x.1": 5.91,
         "2.5um/dl_y.1": 5.61,
         "_deepnote_index_column": 86
        },
        {
         "created_at": "2021-11-24T02:55:00.000000",
         "2.5um/dl_x": 5.24,
         "2.5um/dl_y": 3.55,
         "2.5um/dl_x.1": 4.77,
         "2.5um/dl_y.1": 3.13,
         "_deepnote_index_column": 87
        },
        {
         "created_at": "2021-11-24T02:57:00.000000",
         "2.5um/dl_x": 4.83,
         "2.5um/dl_y": 3.45,
         "2.5um/dl_x.1": 5.26,
         "2.5um/dl_y.1": 2.89,
         "_deepnote_index_column": 88
        },
        {
         "created_at": "2021-11-24T02:59:00.000000",
         "2.5um/dl_x": 5.79,
         "2.5um/dl_y": 2.52,
         "2.5um/dl_x.1": 9,
         "2.5um/dl_y.1": 3.13,
         "_deepnote_index_column": 89
        },
        {
         "created_at": "2021-11-24T03:01:00.000000",
         "2.5um/dl_x": 7.02,
         "2.5um/dl_y": 4.67,
         "2.5um/dl_x.1": 8.73,
         "2.5um/dl_y.1": 2.25,
         "_deepnote_index_column": 90
        },
        {
         "created_at": "2021-11-24T03:03:00.000000",
         "2.5um/dl_x": 5.86,
         "2.5um/dl_y": 3.05,
         "2.5um/dl_x.1": 4.87,
         "2.5um/dl_y.1": 3.44,
         "_deepnote_index_column": 91
        },
        {
         "created_at": "2021-11-24T03:05:00.000000",
         "2.5um/dl_x": 5.02,
         "2.5um/dl_y": 3.89,
         "2.5um/dl_x.1": 4.48,
         "2.5um/dl_y.1": 3.39,
         "_deepnote_index_column": 92
        },
        {
         "created_at": "2021-11-24T03:07:00.000000",
         "2.5um/dl_x": 5.75,
         "2.5um/dl_y": 3.69,
         "2.5um/dl_x.1": 3.93,
         "2.5um/dl_y.1": 3.25,
         "_deepnote_index_column": 93
        },
        {
         "created_at": "2021-11-24T03:09:00.000000",
         "2.5um/dl_x": 4.82,
         "2.5um/dl_y": 3.85,
         "2.5um/dl_x.1": 8.05,
         "2.5um/dl_y.1": 2.59,
         "_deepnote_index_column": 94
        },
        {
         "created_at": "2021-11-24T03:11:00.000000",
         "2.5um/dl_x": 5.59,
         "2.5um/dl_y": 4.16,
         "2.5um/dl_x.1": 4.12,
         "2.5um/dl_y.1": 2.97,
         "_deepnote_index_column": 95
        },
        {
         "created_at": "2021-11-24T03:13:00.000000",
         "2.5um/dl_x": 5.25,
         "2.5um/dl_y": 3.84,
         "2.5um/dl_x.1": 6.98,
         "2.5um/dl_y.1": 3.79,
         "_deepnote_index_column": 96
        },
        {
         "created_at": "2021-11-24T03:15:00.000000",
         "2.5um/dl_x": 2.32,
         "2.5um/dl_y": 5,
         "2.5um/dl_x.1": 6.2,
         "2.5um/dl_y.1": 2.39,
         "_deepnote_index_column": 97
        },
        {
         "created_at": "2021-11-24T03:17:00.000000",
         "2.5um/dl_x": 4.07,
         "2.5um/dl_y": 3.96,
         "2.5um/dl_x.1": 4.58,
         "2.5um/dl_y.1": 1.81,
         "_deepnote_index_column": 98
        },
        {
         "created_at": "2021-11-24T03:19:00.000000",
         "2.5um/dl_x": 2,
         "2.5um/dl_y": 5.9,
         "2.5um/dl_x.1": 4.72,
         "2.5um/dl_y.1": 4.95,
         "_deepnote_index_column": 99
        }
       ],
       "rows_bottom": [
        {
         "created_at": "2021-11-30T19:39:00.000000",
         "2.5um/dl_x": 7.23,
         "2.5um/dl_y": 6.2,
         "2.5um/dl_x.1": 5.36,
         "2.5um/dl_y.1": 2.95,
         "_deepnote_index_column": 4521
        },
        {
         "created_at": "2021-11-30T19:41:00.000000",
         "2.5um/dl_x": 4.96,
         "2.5um/dl_y": 5.81,
         "2.5um/dl_x.1": 4.85,
         "2.5um/dl_y.1": 2.19,
         "_deepnote_index_column": 4522
        },
        {
         "created_at": "2021-11-30T19:43:00.000000",
         "2.5um/dl_x": 2.79,
         "2.5um/dl_y": 5.3,
         "2.5um/dl_x.1": 5.31,
         "2.5um/dl_y.1": 2.22,
         "_deepnote_index_column": 4523
        },
        {
         "created_at": "2021-11-30T19:45:00.000000",
         "2.5um/dl_x": 4.17,
         "2.5um/dl_y": 3.59,
         "2.5um/dl_x.1": 7.12,
         "2.5um/dl_y.1": 2.5,
         "_deepnote_index_column": 4524
        },
        {
         "created_at": "2021-11-30T19:47:00.000000",
         "2.5um/dl_x": 2.27,
         "2.5um/dl_y": 6.68,
         "2.5um/dl_x.1": 2.72,
         "2.5um/dl_y.1": 2.95,
         "_deepnote_index_column": 4525
        },
        {
         "created_at": "2021-11-30T19:51:00.000000",
         "2.5um/dl_x": 2.6,
         "2.5um/dl_y": 4.27,
         "2.5um/dl_x.1": 2.6,
         "2.5um/dl_y.1": 3.59,
         "_deepnote_index_column": 4526
        },
        {
         "created_at": "2021-11-30T19:55:00.000000",
         "2.5um/dl_x": 3.42,
         "2.5um/dl_y": 4.57,
         "2.5um/dl_x.1": 3.84,
         "2.5um/dl_y.1": 2.68,
         "_deepnote_index_column": 4527
        },
        {
         "created_at": "2021-11-30T19:57:00.000000",
         "2.5um/dl_x": 3.11,
         "2.5um/dl_y": 5.3,
         "2.5um/dl_x.1": 2.04,
         "2.5um/dl_y.1": 1.75,
         "_deepnote_index_column": 4528
        },
        {
         "created_at": "2021-11-30T19:59:00.000000",
         "2.5um/dl_x": 1.36,
         "2.5um/dl_y": 7.72,
         "2.5um/dl_x.1": 2.48,
         "2.5um/dl_y.1": 2.96,
         "_deepnote_index_column": 4529
        },
        {
         "created_at": "2021-11-30T20:03:00.000000",
         "2.5um/dl_x": 1.32,
         "2.5um/dl_y": 5.6,
         "2.5um/dl_x.1": 2.24,
         "2.5um/dl_y.1": 3.05,
         "_deepnote_index_column": 4530
        },
        {
         "created_at": "2021-11-30T20:05:00.000000",
         "2.5um/dl_x": 1.86,
         "2.5um/dl_y": 6.72,
         "2.5um/dl_x.1": 2.14,
         "2.5um/dl_y.1": 2.51,
         "_deepnote_index_column": 4531
        },
        {
         "created_at": "2021-11-30T20:07:00.000000",
         "2.5um/dl_x": 2.24,
         "2.5um/dl_y": 4.72,
         "2.5um/dl_x.1": 2.78,
         "2.5um/dl_y.1": 1.43,
         "_deepnote_index_column": 4532
        },
        {
         "created_at": "2021-11-30T20:13:00.000000",
         "2.5um/dl_x": 4.14,
         "2.5um/dl_y": 2.07,
         "2.5um/dl_x.1": 1.28,
         "2.5um/dl_y.1": 2.93,
         "_deepnote_index_column": 4533
        },
        {
         "created_at": "2021-11-30T20:15:00.000000",
         "2.5um/dl_x": 3.22,
         "2.5um/dl_y": 2.81,
         "2.5um/dl_x.1": 1.22,
         "2.5um/dl_y.1": 2.64,
         "_deepnote_index_column": 4534
        },
        {
         "created_at": "2021-11-30T20:17:00.000000",
         "2.5um/dl_x": 2.38,
         "2.5um/dl_y": 3.04,
         "2.5um/dl_x.1": 1.21,
         "2.5um/dl_y.1": 1.38,
         "_deepnote_index_column": 4535
        },
        {
         "created_at": "2021-11-30T20:19:00.000000",
         "2.5um/dl_x": 2.93,
         "2.5um/dl_y": 4.49,
         "2.5um/dl_x.1": 0.89,
         "2.5um/dl_y.1": 1.26,
         "_deepnote_index_column": 4536
        },
        {
         "created_at": "2021-11-30T20:21:00.000000",
         "2.5um/dl_x": 2.18,
         "2.5um/dl_y": 3.3,
         "2.5um/dl_x.1": 1.26,
         "2.5um/dl_y.1": 2.59,
         "_deepnote_index_column": 4537
        },
        {
         "created_at": "2021-11-30T20:23:00.000000",
         "2.5um/dl_x": 2.75,
         "2.5um/dl_y": 3,
         "2.5um/dl_x.1": 1.9,
         "2.5um/dl_y.1": 2.72,
         "_deepnote_index_column": 4538
        },
        {
         "created_at": "2021-11-30T20:25:00.000000",
         "2.5um/dl_x": 2.55,
         "2.5um/dl_y": 3.31,
         "2.5um/dl_x.1": 2.34,
         "2.5um/dl_y.1": 1.26,
         "_deepnote_index_column": 4539
        },
        {
         "created_at": "2021-11-30T20:27:00.000000",
         "2.5um/dl_x": 1.49,
         "2.5um/dl_y": 1.3,
         "2.5um/dl_x.1": 0.86,
         "2.5um/dl_y.1": 2.32,
         "_deepnote_index_column": 4540
        },
        {
         "created_at": "2021-11-30T20:29:00.000000",
         "2.5um/dl_x": 3.11,
         "2.5um/dl_y": 2.73,
         "2.5um/dl_x.1": 0.85,
         "2.5um/dl_y.1": 3.02,
         "_deepnote_index_column": 4541
        },
        {
         "created_at": "2021-11-30T20:37:00.000000",
         "2.5um/dl_x": 3.43,
         "2.5um/dl_y": 1.29,
         "2.5um/dl_x.1": 0.81,
         "2.5um/dl_y.1": 2.68,
         "_deepnote_index_column": 4542
        },
        {
         "created_at": "2021-11-30T20:39:00.000000",
         "2.5um/dl_x": 2.52,
         "2.5um/dl_y": 1.57,
         "2.5um/dl_x.1": 2.12,
         "2.5um/dl_y.1": 3.69,
         "_deepnote_index_column": 4543
        },
        {
         "created_at": "2021-11-30T20:41:00.000000",
         "2.5um/dl_x": 1.9,
         "2.5um/dl_y": 2.24,
         "2.5um/dl_x.1": 1.02,
         "2.5um/dl_y.1": 1.6,
         "_deepnote_index_column": 4544
        },
        {
         "created_at": "2021-11-30T20:43:00.000000",
         "2.5um/dl_x": 2.24,
         "2.5um/dl_y": 1.92,
         "2.5um/dl_x.1": 0.97,
         "2.5um/dl_y.1": 1.03,
         "_deepnote_index_column": 4545
        },
        {
         "created_at": "2021-11-30T20:45:00.000000",
         "2.5um/dl_x": 3.39,
         "2.5um/dl_y": 2.21,
         "2.5um/dl_x.1": 1.95,
         "2.5um/dl_y.1": 3,
         "_deepnote_index_column": 4546
        },
        {
         "created_at": "2021-11-30T20:47:00.000000",
         "2.5um/dl_x": 1.89,
         "2.5um/dl_y": 3.56,
         "2.5um/dl_x.1": 0.86,
         "2.5um/dl_y.1": 2.14,
         "_deepnote_index_column": 4547
        },
        {
         "created_at": "2021-11-30T20:49:00.000000",
         "2.5um/dl_x": 2.07,
         "2.5um/dl_y": 2.72,
         "2.5um/dl_x.1": 3.02,
         "2.5um/dl_y.1": 1.82,
         "_deepnote_index_column": 4548
        },
        {
         "created_at": "2021-11-30T20:53:00.000000",
         "2.5um/dl_x": 2.07,
         "2.5um/dl_y": 2.25,
         "2.5um/dl_x.1": 1.04,
         "2.5um/dl_y.1": 2.31,
         "_deepnote_index_column": 4549
        },
        {
         "created_at": "2021-11-30T20:55:00.000000",
         "2.5um/dl_x": 1.71,
         "2.5um/dl_y": 1.14,
         "2.5um/dl_x.1": 1.53,
         "2.5um/dl_y.1": 0.73,
         "_deepnote_index_column": 4550
        },
        {
         "created_at": "2021-11-30T20:57:00.000000",
         "2.5um/dl_x": 3.22,
         "2.5um/dl_y": 1.53,
         "2.5um/dl_x.1": 1.54,
         "2.5um/dl_y.1": 2.93,
         "_deepnote_index_column": 4551
        },
        {
         "created_at": "2021-11-30T20:59:00.000000",
         "2.5um/dl_x": 1.49,
         "2.5um/dl_y": 1.71,
         "2.5um/dl_x.1": 0.78,
         "2.5um/dl_y.1": 2.88,
         "_deepnote_index_column": 4552
        },
        {
         "created_at": "2021-11-30T21:01:00.000000",
         "2.5um/dl_x": 2.38,
         "2.5um/dl_y": 1.67,
         "2.5um/dl_x.1": 0.58,
         "2.5um/dl_y.1": 2.36,
         "_deepnote_index_column": 4553
        },
        {
         "created_at": "2021-11-30T21:03:00.000000",
         "2.5um/dl_x": 0.88,
         "2.5um/dl_y": 1.16,
         "2.5um/dl_x.1": 1.33,
         "2.5um/dl_y.1": 1.77,
         "_deepnote_index_column": 4554
        },
        {
         "created_at": "2021-11-30T21:05:00.000000",
         "2.5um/dl_x": 2.52,
         "2.5um/dl_y": 1.61,
         "2.5um/dl_x.1": 1.14,
         "2.5um/dl_y.1": 2.59,
         "_deepnote_index_column": 4555
        },
        {
         "created_at": "2021-11-30T21:07:00.000000",
         "2.5um/dl_x": 1.35,
         "2.5um/dl_y": 1.63,
         "2.5um/dl_x.1": 1.04,
         "2.5um/dl_y.1": 2.33,
         "_deepnote_index_column": 4556
        },
        {
         "created_at": "2021-11-30T21:09:00.000000",
         "2.5um/dl_x": 2.98,
         "2.5um/dl_y": 2.47,
         "2.5um/dl_x.1": 2.26,
         "2.5um/dl_y.1": 1.58,
         "_deepnote_index_column": 4557
        },
        {
         "created_at": "2021-11-30T21:11:00.000000",
         "2.5um/dl_x": 3.49,
         "2.5um/dl_y": 2.72,
         "2.5um/dl_x.1": 0.85,
         "2.5um/dl_y.1": 3.11,
         "_deepnote_index_column": 4558
        },
        {
         "created_at": "2021-11-30T21:13:00.000000",
         "2.5um/dl_x": 4.1,
         "2.5um/dl_y": 3.72,
         "2.5um/dl_x.1": 2.17,
         "2.5um/dl_y.1": 1.95,
         "_deepnote_index_column": 4559
        },
        {
         "created_at": "2021-11-30T21:15:00.000000",
         "2.5um/dl_x": 5.61,
         "2.5um/dl_y": 1.91,
         "2.5um/dl_x.1": 0.66,
         "2.5um/dl_y.1": 2.05,
         "_deepnote_index_column": 4560
        },
        {
         "created_at": "2021-11-30T21:17:00.000000",
         "2.5um/dl_x": 4.95,
         "2.5um/dl_y": 1.97,
         "2.5um/dl_x.1": 1.16,
         "2.5um/dl_y.1": 1.11,
         "_deepnote_index_column": 4561
        },
        {
         "created_at": "2021-11-30T21:19:00.000000",
         "2.5um/dl_x": 1.4,
         "2.5um/dl_y": 1.93,
         "2.5um/dl_x.1": 1.49,
         "2.5um/dl_y.1": 1.72,
         "_deepnote_index_column": 4562
        },
        {
         "created_at": "2021-11-30T21:21:00.000000",
         "2.5um/dl_x": 1.97,
         "2.5um/dl_y": 4.02,
         "2.5um/dl_x.1": 1.87,
         "2.5um/dl_y.1": 2.52,
         "_deepnote_index_column": 4563
        },
        {
         "created_at": "2021-11-30T21:25:00.000000",
         "2.5um/dl_x": 4.51,
         "2.5um/dl_y": 2.93,
         "2.5um/dl_x.1": 1.73,
         "2.5um/dl_y.1": 1.74,
         "_deepnote_index_column": 4564
        },
        {
         "created_at": "2021-11-30T21:29:00.000000",
         "2.5um/dl_x": 2.1,
         "2.5um/dl_y": 2.24,
         "2.5um/dl_x.1": 1.81,
         "2.5um/dl_y.1": 2.05,
         "_deepnote_index_column": 4565
        },
        {
         "created_at": "2021-11-30T21:37:00.000000",
         "2.5um/dl_x": 3.08,
         "2.5um/dl_y": 1.95,
         "2.5um/dl_x.1": 0.98,
         "2.5um/dl_y.1": 1.44,
         "_deepnote_index_column": 4566
        },
        {
         "created_at": "2021-11-30T21:39:00.000000",
         "2.5um/dl_x": 2.17,
         "2.5um/dl_y": 1.47,
         "2.5um/dl_x.1": 1.05,
         "2.5um/dl_y.1": 3.05,
         "_deepnote_index_column": 4567
        },
        {
         "created_at": "2021-11-30T21:41:00.000000",
         "2.5um/dl_x": 1.93,
         "2.5um/dl_y": 2.2,
         "2.5um/dl_x.1": 1.57,
         "2.5um/dl_y.1": 1.55,
         "_deepnote_index_column": 4568
        },
        {
         "created_at": "2021-11-30T21:43:00.000000",
         "2.5um/dl_x": 4.53,
         "2.5um/dl_y": 3.23,
         "2.5um/dl_x.1": 0.4,
         "2.5um/dl_y.1": 2.27,
         "_deepnote_index_column": 4569
        },
        {
         "created_at": "2021-11-30T21:45:00.000000",
         "2.5um/dl_x": 2.1,
         "2.5um/dl_y": 1.22,
         "2.5um/dl_x.1": 3.03,
         "2.5um/dl_y.1": 1.91,
         "_deepnote_index_column": 4570
        },
        {
         "created_at": "2021-11-30T21:47:00.000000",
         "2.5um/dl_x": 1.24,
         "2.5um/dl_y": 2.48,
         "2.5um/dl_x.1": 1,
         "2.5um/dl_y.1": 1.27,
         "_deepnote_index_column": 4571
        },
        {
         "created_at": "2021-11-30T21:49:00.000000",
         "2.5um/dl_x": 2.76,
         "2.5um/dl_y": 0.95,
         "2.5um/dl_x.1": 2.5,
         "2.5um/dl_y.1": 1.98,
         "_deepnote_index_column": 4572
        },
        {
         "created_at": "2021-11-30T21:51:00.000000",
         "2.5um/dl_x": 2.11,
         "2.5um/dl_y": 0.8,
         "2.5um/dl_x.1": 1.04,
         "2.5um/dl_y.1": 2.09,
         "_deepnote_index_column": 4573
        },
        {
         "created_at": "2021-11-30T21:57:00.000000",
         "2.5um/dl_x": 5.05,
         "2.5um/dl_y": 1.03,
         "2.5um/dl_x.1": 1.62,
         "2.5um/dl_y.1": 1.54,
         "_deepnote_index_column": 4574
        },
        {
         "created_at": "2021-11-30T21:59:00.000000",
         "2.5um/dl_x": 2.98,
         "2.5um/dl_y": 0.96,
         "2.5um/dl_x.1": 1.22,
         "2.5um/dl_y.1": 2.52,
         "_deepnote_index_column": 4575
        },
        {
         "created_at": "2021-11-30T22:01:00.000000",
         "2.5um/dl_x": 4.44,
         "2.5um/dl_y": 1.6,
         "2.5um/dl_x.1": 1.73,
         "2.5um/dl_y.1": 3.19,
         "_deepnote_index_column": 4576
        },
        {
         "created_at": "2021-11-30T22:03:00.000000",
         "2.5um/dl_x": 1.96,
         "2.5um/dl_y": 1.98,
         "2.5um/dl_x.1": 1.92,
         "2.5um/dl_y.1": 2.09,
         "_deepnote_index_column": 4577
        },
        {
         "created_at": "2021-11-30T22:05:00.000000",
         "2.5um/dl_x": 3.68,
         "2.5um/dl_y": 1.59,
         "2.5um/dl_x.1": 2.02,
         "2.5um/dl_y.1": 2.18,
         "_deepnote_index_column": 4578
        },
        {
         "created_at": "2021-11-30T22:07:00.000000",
         "2.5um/dl_x": 3.1,
         "2.5um/dl_y": 1.44,
         "2.5um/dl_x.1": 2.47,
         "2.5um/dl_y.1": 2.79,
         "_deepnote_index_column": 4579
        },
        {
         "created_at": "2021-11-30T22:09:00.000000",
         "2.5um/dl_x": 3.69,
         "2.5um/dl_y": 3.31,
         "2.5um/dl_x.1": 1.26,
         "2.5um/dl_y.1": 2.91,
         "_deepnote_index_column": 4580
        },
        {
         "created_at": "2021-11-30T22:11:00.000000",
         "2.5um/dl_x": 3.02,
         "2.5um/dl_y": 0.61,
         "2.5um/dl_x.1": 2.29,
         "2.5um/dl_y.1": 1.53,
         "_deepnote_index_column": 4581
        },
        {
         "created_at": "2021-11-30T22:15:00.000000",
         "2.5um/dl_x": 2.2,
         "2.5um/dl_y": 0.7,
         "2.5um/dl_x.1": 1.2,
         "2.5um/dl_y.1": 2.14,
         "_deepnote_index_column": 4582
        },
        {
         "created_at": "2021-11-30T22:17:00.000000",
         "2.5um/dl_x": 2.27,
         "2.5um/dl_y": 1.05,
         "2.5um/dl_x.1": 2.58,
         "2.5um/dl_y.1": 2.81,
         "_deepnote_index_column": 4583
        },
        {
         "created_at": "2021-11-30T22:19:00.000000",
         "2.5um/dl_x": 1.32,
         "2.5um/dl_y": 1.67,
         "2.5um/dl_x.1": 2.02,
         "2.5um/dl_y.1": 1.44,
         "_deepnote_index_column": 4584
        },
        {
         "created_at": "2021-11-30T22:21:00.000000",
         "2.5um/dl_x": 3.65,
         "2.5um/dl_y": 0.54,
         "2.5um/dl_x.1": 3.21,
         "2.5um/dl_y.1": 1.9,
         "_deepnote_index_column": 4585
        },
        {
         "created_at": "2021-11-30T22:27:00.000000",
         "2.5um/dl_x": 0.98,
         "2.5um/dl_y": 0.75,
         "2.5um/dl_x.1": 2.63,
         "2.5um/dl_y.1": 1.55,
         "_deepnote_index_column": 4586
        },
        {
         "created_at": "2021-11-30T22:29:00.000000",
         "2.5um/dl_x": 1.75,
         "2.5um/dl_y": 0.89,
         "2.5um/dl_x.1": 1.96,
         "2.5um/dl_y.1": 2.52,
         "_deepnote_index_column": 4587
        },
        {
         "created_at": "2021-11-30T22:31:00.000000",
         "2.5um/dl_x": 2.75,
         "2.5um/dl_y": 1.02,
         "2.5um/dl_x.1": 2.59,
         "2.5um/dl_y.1": 3.25,
         "_deepnote_index_column": 4588
        },
        {
         "created_at": "2021-11-30T22:33:00.000000",
         "2.5um/dl_x": 2.47,
         "2.5um/dl_y": 2.14,
         "2.5um/dl_x.1": 2.74,
         "2.5um/dl_y.1": 2.62,
         "_deepnote_index_column": 4589
        },
        {
         "created_at": "2021-11-30T22:37:00.000000",
         "2.5um/dl_x": 1.82,
         "2.5um/dl_y": 1.91,
         "2.5um/dl_x.1": 0.95,
         "2.5um/dl_y.1": 2.14,
         "_deepnote_index_column": 4590
        },
        {
         "created_at": "2021-11-30T22:39:00.000000",
         "2.5um/dl_x": 3.52,
         "2.5um/dl_y": 0.81,
         "2.5um/dl_x.1": 2.67,
         "2.5um/dl_y.1": 1.73,
         "_deepnote_index_column": 4591
        },
        {
         "created_at": "2021-11-30T22:41:00.000000",
         "2.5um/dl_x": 3.87,
         "2.5um/dl_y": 1.1,
         "2.5um/dl_x.1": 1.46,
         "2.5um/dl_y.1": 5.19,
         "_deepnote_index_column": 4592
        },
        {
         "created_at": "2021-11-30T22:47:00.000000",
         "2.5um/dl_x": 2.04,
         "2.5um/dl_y": 0.96,
         "2.5um/dl_x.1": 0.8,
         "2.5um/dl_y.1": 2.39,
         "_deepnote_index_column": 4593
        },
        {
         "created_at": "2021-11-30T22:53:00.000000",
         "2.5um/dl_x": 4.42,
         "2.5um/dl_y": 1.07,
         "2.5um/dl_x.1": 1.54,
         "2.5um/dl_y.1": 3.18,
         "_deepnote_index_column": 4594
        },
        {
         "created_at": "2021-11-30T22:55:00.000000",
         "2.5um/dl_x": 1.57,
         "2.5um/dl_y": 0.72,
         "2.5um/dl_x.1": 2.16,
         "2.5um/dl_y.1": 4.56,
         "_deepnote_index_column": 4595
        },
        {
         "created_at": "2021-11-30T22:57:00.000000",
         "2.5um/dl_x": 2.83,
         "2.5um/dl_y": 2.09,
         "2.5um/dl_x.1": 2.19,
         "2.5um/dl_y.1": 3.08,
         "_deepnote_index_column": 4596
        },
        {
         "created_at": "2021-11-30T22:59:00.000000",
         "2.5um/dl_x": 2.78,
         "2.5um/dl_y": 0.69,
         "2.5um/dl_x.1": 1.76,
         "2.5um/dl_y.1": 3.25,
         "_deepnote_index_column": 4597
        },
        {
         "created_at": "2021-11-30T23:03:00.000000",
         "2.5um/dl_x": 1.83,
         "2.5um/dl_y": 0.82,
         "2.5um/dl_x.1": 2.39,
         "2.5um/dl_y.1": 4.18,
         "_deepnote_index_column": 4598
        },
        {
         "created_at": "2021-11-30T23:05:00.000000",
         "2.5um/dl_x": 5.14,
         "2.5um/dl_y": 0.22,
         "2.5um/dl_x.1": 2.29,
         "2.5um/dl_y.1": 3.12,
         "_deepnote_index_column": 4599
        },
        {
         "created_at": "2021-11-30T23:11:00.000000",
         "2.5um/dl_x": 3.56,
         "2.5um/dl_y": 0.82,
         "2.5um/dl_x.1": 1.25,
         "2.5um/dl_y.1": 2.71,
         "_deepnote_index_column": 4600
        },
        {
         "created_at": "2021-11-30T23:13:00.000000",
         "2.5um/dl_x": 2.79,
         "2.5um/dl_y": 0.73,
         "2.5um/dl_x.1": 1.16,
         "2.5um/dl_y.1": 3.03,
         "_deepnote_index_column": 4601
        },
        {
         "created_at": "2021-11-30T23:15:00.000000",
         "2.5um/dl_x": 5.16,
         "2.5um/dl_y": 1.02,
         "2.5um/dl_x.1": 1.52,
         "2.5um/dl_y.1": 1.81,
         "_deepnote_index_column": 4602
        },
        {
         "created_at": "2021-11-30T23:17:00.000000",
         "2.5um/dl_x": 3.61,
         "2.5um/dl_y": 0.88,
         "2.5um/dl_x.1": 2.46,
         "2.5um/dl_y.1": 2.53,
         "_deepnote_index_column": 4603
        },
        {
         "created_at": "2021-11-30T23:19:00.000000",
         "2.5um/dl_x": 5.28,
         "2.5um/dl_y": 2.15,
         "2.5um/dl_x.1": 2.44,
         "2.5um/dl_y.1": 1.52,
         "_deepnote_index_column": 4604
        },
        {
         "created_at": "2021-11-30T23:23:00.000000",
         "2.5um/dl_x": 3.31,
         "2.5um/dl_y": 0.72,
         "2.5um/dl_x.1": 2.49,
         "2.5um/dl_y.1": 2.78,
         "_deepnote_index_column": 4605
        },
        {
         "created_at": "2021-11-30T23:25:00.000000",
         "2.5um/dl_x": 4.21,
         "2.5um/dl_y": 1.46,
         "2.5um/dl_x.1": 1.55,
         "2.5um/dl_y.1": 2.76,
         "_deepnote_index_column": 4606
        },
        {
         "created_at": "2021-11-30T23:27:00.000000",
         "2.5um/dl_x": 2.07,
         "2.5um/dl_y": 0.6,
         "2.5um/dl_x.1": 2.32,
         "2.5um/dl_y.1": 3.87,
         "_deepnote_index_column": 4607
        },
        {
         "created_at": "2021-11-30T23:29:00.000000",
         "2.5um/dl_x": 5.62,
         "2.5um/dl_y": 0.49,
         "2.5um/dl_x.1": 1.66,
         "2.5um/dl_y.1": 3.42,
         "_deepnote_index_column": 4608
        },
        {
         "created_at": "2021-11-30T23:31:00.000000",
         "2.5um/dl_x": 4.32,
         "2.5um/dl_y": 0.84,
         "2.5um/dl_x.1": 1.71,
         "2.5um/dl_y.1": 1.67,
         "_deepnote_index_column": 4609
        },
        {
         "created_at": "2021-11-30T23:33:00.000000",
         "2.5um/dl_x": 2.57,
         "2.5um/dl_y": 0.63,
         "2.5um/dl_x.1": 2.4,
         "2.5um/dl_y.1": 2.14,
         "_deepnote_index_column": 4610
        },
        {
         "created_at": "2021-11-30T23:35:00.000000",
         "2.5um/dl_x": 4.21,
         "2.5um/dl_y": 0.26,
         "2.5um/dl_x.1": 1.24,
         "2.5um/dl_y.1": 2.88,
         "_deepnote_index_column": 4611
        },
        {
         "created_at": "2021-11-30T23:39:00.000000",
         "2.5um/dl_x": 2.86,
         "2.5um/dl_y": 1.27,
         "2.5um/dl_x.1": 2.43,
         "2.5um/dl_y.1": 4.38,
         "_deepnote_index_column": 4612
        },
        {
         "created_at": "2021-11-30T23:41:00.000000",
         "2.5um/dl_x": 5.64,
         "2.5um/dl_y": 0.7,
         "2.5um/dl_x.1": 2.38,
         "2.5um/dl_y.1": 2.76,
         "_deepnote_index_column": 4613
        },
        {
         "created_at": "2021-11-30T23:43:00.000000",
         "2.5um/dl_x": 6.11,
         "2.5um/dl_y": 0.52,
         "2.5um/dl_x.1": 1.83,
         "2.5um/dl_y.1": 2.36,
         "_deepnote_index_column": 4614
        },
        {
         "created_at": "2021-11-30T23:45:00.000000",
         "2.5um/dl_x": 2.83,
         "2.5um/dl_y": 0.98,
         "2.5um/dl_x.1": 2.31,
         "2.5um/dl_y.1": 2.07,
         "_deepnote_index_column": 4615
        },
        {
         "created_at": "2021-11-30T23:47:00.000000",
         "2.5um/dl_x": 3.93,
         "2.5um/dl_y": 0.53,
         "2.5um/dl_x.1": 1.92,
         "2.5um/dl_y.1": 3.39,
         "_deepnote_index_column": 4616
        },
        {
         "created_at": "2021-11-30T23:49:00.000000",
         "2.5um/dl_x": 2.62,
         "2.5um/dl_y": 1.6,
         "2.5um/dl_x.1": 1.86,
         "2.5um/dl_y.1": 2.93,
         "_deepnote_index_column": 4617
        },
        {
         "created_at": "2021-11-30T23:51:00.000000",
         "2.5um/dl_x": 3.4,
         "2.5um/dl_y": 0.24,
         "2.5um/dl_x.1": 2.05,
         "2.5um/dl_y.1": 1.33,
         "_deepnote_index_column": 4618
        },
        {
         "created_at": "2021-11-30T23:57:00.000000",
         "2.5um/dl_x": 2.35,
         "2.5um/dl_y": 0.09,
         "2.5um/dl_x.1": 3.18,
         "2.5um/dl_y.1": 4.14,
         "_deepnote_index_column": 4619
        },
        {
         "created_at": "2021-11-30T23:59:00.000000",
         "2.5um/dl_x": 4.13,
         "2.5um/dl_y": 0.87,
         "2.5um/dl_x.1": 2.27,
         "2.5um/dl_y.1": 2.66,
         "_deepnote_index_column": 4620
        }
       ]
      },
      "text/plain": "                    created_at  2.5um/dl_x  2.5um/dl_y  2.5um/dl_x  2.5um/dl_y\n0    2021-11-24 00:01:00+00:00        2.55        1.60        6.74        3.21\n1    2021-11-24 00:03:00+00:00        5.47        1.00       11.10        1.58\n2    2021-11-24 00:05:00+00:00        5.16        1.34        8.18        2.20\n3    2021-11-24 00:07:00+00:00        4.07        0.46        6.28        3.14\n4    2021-11-24 00:09:00+00:00        4.03        1.66        4.68        1.93\n...                        ...         ...         ...         ...         ...\n4616 2021-11-30 23:47:00+00:00        3.93        0.53        1.92        3.39\n4617 2021-11-30 23:49:00+00:00        2.62        1.60        1.86        2.93\n4618 2021-11-30 23:51:00+00:00        3.40        0.24        2.05        1.33\n4619 2021-11-30 23:57:00+00:00        2.35        0.09        3.18        4.14\n4620 2021-11-30 23:59:00+00:00        4.13        0.87        2.27        2.66\n\n[1048 rows x 5 columns]",
      "text/html": "<div>\n<style scoped>\n    .dataframe tbody tr th:only-of-type {\n        vertical-align: middle;\n    }\n\n    .dataframe tbody tr th {\n        vertical-align: top;\n    }\n\n    .dataframe thead th {\n        text-align: right;\n    }\n</style>\n<table border=\"1\" class=\"dataframe\">\n  <thead>\n    <tr style=\"text-align: right;\">\n      <th></th>\n      <th>created_at</th>\n      <th>2.5um/dl_x</th>\n      <th>2.5um/dl_y</th>\n      <th>2.5um/dl_x</th>\n      <th>2.5um/dl_y</th>\n    </tr>\n  </thead>\n  <tbody>\n    <tr>\n      <th>0</th>\n      <td>2021-11-24 00:01:00+00:00</td>\n      <td>2.55</td>\n      <td>1.60</td>\n      <td>6.74</td>\n      <td>3.21</td>\n    </tr>\n    <tr>\n      <th>1</th>\n      <td>2021-11-24 00:03:00+00:00</td>\n      <td>5.47</td>\n      <td>1.00</td>\n      <td>11.10</td>\n      <td>1.58</td>\n    </tr>\n    <tr>\n      <th>2</th>\n      <td>2021-11-24 00:05:00+00:00</td>\n      <td>5.16</td>\n      <td>1.34</td>\n      <td>8.18</td>\n      <td>2.20</td>\n    </tr>\n    <tr>\n      <th>3</th>\n      <td>2021-11-24 00:07:00+00:00</td>\n      <td>4.07</td>\n      <td>0.46</td>\n      <td>6.28</td>\n      <td>3.14</td>\n    </tr>\n    <tr>\n      <th>4</th>\n      <td>2021-11-24 00:09:00+00:00</td>\n      <td>4.03</td>\n      <td>1.66</td>\n      <td>4.68</td>\n      <td>1.93</td>\n    </tr>\n    <tr>\n      <th>...</th>\n      <td>...</td>\n      <td>...</td>\n      <td>...</td>\n      <td>...</td>\n      <td>...</td>\n    </tr>\n    <tr>\n      <th>4616</th>\n      <td>2021-11-30 23:47:00+00:00</td>\n      <td>3.93</td>\n      <td>0.53</td>\n      <td>1.92</td>\n      <td>3.39</td>\n    </tr>\n    <tr>\n      <th>4617</th>\n      <td>2021-11-30 23:49:00+00:00</td>\n      <td>2.62</td>\n      <td>1.60</td>\n      <td>1.86</td>\n      <td>2.93</td>\n    </tr>\n    <tr>\n      <th>4618</th>\n      <td>2021-11-30 23:51:00+00:00</td>\n      <td>3.40</td>\n      <td>0.24</td>\n      <td>2.05</td>\n      <td>1.33</td>\n    </tr>\n    <tr>\n      <th>4619</th>\n      <td>2021-11-30 23:57:00+00:00</td>\n      <td>2.35</td>\n      <td>0.09</td>\n      <td>3.18</td>\n      <td>4.14</td>\n    </tr>\n    <tr>\n      <th>4620</th>\n      <td>2021-11-30 23:59:00+00:00</td>\n      <td>4.13</td>\n      <td>0.87</td>\n      <td>2.27</td>\n      <td>2.66</td>\n    </tr>\n  </tbody>\n</table>\n<p>1048 rows × 5 columns</p>\n</div>"
     },
     "metadata": {}
    }
   ],
   "execution_count": 34
  },
  {
   "cell_type": "markdown",
   "source": "Testing with larger sensor list",
   "metadata": {
    "tags": [],
    "cell_id": "00008-a5355e03-ad1a-4cd4-9c33-53adced2aec8",
    "deepnote_cell_type": "markdown"
   }
  },
  {
   "cell_type": "code",
   "source": "sensors",
   "metadata": {
    "tags": [],
    "cell_id": "00008-292793ac-3a33-4a93-8e17-ffe4a7b7e593",
    "deepnote_to_be_reexecuted": false,
    "source_hash": "542e1856",
    "execution_start": 1638336283502,
    "execution_millis": 4,
    "deepnote_output_heights": [
     611
    ],
    "deepnote_cell_type": "code"
   },
   "outputs": [
    {
     "output_type": "execute_result",
     "execution_count": 46,
     "data": {
      "text/plain": "[98139,\n 97279,\n 27823,\n 99769,\n 99797,\n 98633,\n 51697,\n 3298,\n 3033,\n 50567,\n 27905,\n 116073,\n 86003,\n 31025,\n 31035,\n 30911,\n 6752,\n 56377,\n 85127,\n 51959,\n 48545,\n 56059,\n 30593,\n 26659,\n 28851,\n 33033,\n 28679,\n 28823,\n 27821,\n 2386,\n 3777,\n 31163]"
     },
     "metadata": {}
    }
   ],
   "execution_count": 46
  },
  {
   "cell_type": "code",
   "source": "time_series_index([98139, 97279, 27823, 99769, 99797, 98633, 51697, 3298, 3033, 50567, 27905, 116073, 86003, 31035])",
   "metadata": {
    "tags": [],
    "cell_id": "00009-f9981028-0dd9-4322-8f4d-e2d8346b00ac",
    "deepnote_to_be_reexecuted": false,
    "source_hash": "63ddbf6b",
    "execution_start": 1638336752069,
    "execution_millis": 14063,
    "deepnote_cell_type": "code"
   },
   "outputs": [
    {
     "output_type": "execute_result",
     "execution_count": 58,
     "data": {
      "application/vnd.deepnote.dataframe.v2+json": {
       "row_count": 0,
       "column_count": 15,
       "columns": [
        {
         "name": "created_at",
         "dtype": "object",
         "stats": {
          "unique_count": 0,
          "nan_count": 0,
          "categories": []
         }
        },
        {
         "name": "2.5um/dl_x",
         "dtype": "float64",
         "stats": {
          "unique_count": 0,
          "nan_count": 0,
          "min": null,
          "max": null,
          "histogram": [
           {
            "bin_start": 0,
            "bin_end": 0.1,
            "count": 0
           },
           {
            "bin_start": 0.1,
            "bin_end": 0.2,
            "count": 0
           },
           {
            "bin_start": 0.2,
            "bin_end": 0.30000000000000004,
            "count": 0
           },
           {
            "bin_start": 0.30000000000000004,
            "bin_end": 0.4,
            "count": 0
           },
           {
            "bin_start": 0.4,
            "bin_end": 0.5,
            "count": 0
           },
           {
            "bin_start": 0.5,
            "bin_end": 0.6000000000000001,
            "count": 0
           },
           {
            "bin_start": 0.6000000000000001,
            "bin_end": 0.7000000000000001,
            "count": 0
           },
           {
            "bin_start": 0.7000000000000001,
            "bin_end": 0.8,
            "count": 0
           },
           {
            "bin_start": 0.8,
            "bin_end": 0.9,
            "count": 0
           },
           {
            "bin_start": 0.9,
            "bin_end": 1,
            "count": 0
           }
          ]
         }
        },
        {
         "name": "2.5um/dl_y",
         "dtype": "float64",
         "stats": {
          "unique_count": 0,
          "nan_count": 0,
          "min": null,
          "max": null,
          "histogram": [
           {
            "bin_start": 0,
            "bin_end": 0.1,
            "count": 0
           },
           {
            "bin_start": 0.1,
            "bin_end": 0.2,
            "count": 0
           },
           {
            "bin_start": 0.2,
            "bin_end": 0.30000000000000004,
            "count": 0
           },
           {
            "bin_start": 0.30000000000000004,
            "bin_end": 0.4,
            "count": 0
           },
           {
            "bin_start": 0.4,
            "bin_end": 0.5,
            "count": 0
           },
           {
            "bin_start": 0.5,
            "bin_end": 0.6000000000000001,
            "count": 0
           },
           {
            "bin_start": 0.6000000000000001,
            "bin_end": 0.7000000000000001,
            "count": 0
           },
           {
            "bin_start": 0.7000000000000001,
            "bin_end": 0.8,
            "count": 0
           },
           {
            "bin_start": 0.8,
            "bin_end": 0.9,
            "count": 0
           },
           {
            "bin_start": 0.9,
            "bin_end": 1,
            "count": 0
           }
          ]
         }
        },
        {
         "name": "2.5um/dl_x.1",
         "dtype": "float64",
         "stats": {
          "unique_count": 0,
          "nan_count": 0,
          "min": null,
          "max": null,
          "histogram": [
           {
            "bin_start": 0,
            "bin_end": 0.1,
            "count": 0
           },
           {
            "bin_start": 0.1,
            "bin_end": 0.2,
            "count": 0
           },
           {
            "bin_start": 0.2,
            "bin_end": 0.30000000000000004,
            "count": 0
           },
           {
            "bin_start": 0.30000000000000004,
            "bin_end": 0.4,
            "count": 0
           },
           {
            "bin_start": 0.4,
            "bin_end": 0.5,
            "count": 0
           },
           {
            "bin_start": 0.5,
            "bin_end": 0.6000000000000001,
            "count": 0
           },
           {
            "bin_start": 0.6000000000000001,
            "bin_end": 0.7000000000000001,
            "count": 0
           },
           {
            "bin_start": 0.7000000000000001,
            "bin_end": 0.8,
            "count": 0
           },
           {
            "bin_start": 0.8,
            "bin_end": 0.9,
            "count": 0
           },
           {
            "bin_start": 0.9,
            "bin_end": 1,
            "count": 0
           }
          ]
         }
        },
        {
         "name": "2.5um/dl_y.1",
         "dtype": "float64",
         "stats": {
          "unique_count": 0,
          "nan_count": 0,
          "min": null,
          "max": null,
          "histogram": [
           {
            "bin_start": 0,
            "bin_end": 0.1,
            "count": 0
           },
           {
            "bin_start": 0.1,
            "bin_end": 0.2,
            "count": 0
           },
           {
            "bin_start": 0.2,
            "bin_end": 0.30000000000000004,
            "count": 0
           },
           {
            "bin_start": 0.30000000000000004,
            "bin_end": 0.4,
            "count": 0
           },
           {
            "bin_start": 0.4,
            "bin_end": 0.5,
            "count": 0
           },
           {
            "bin_start": 0.5,
            "bin_end": 0.6000000000000001,
            "count": 0
           },
           {
            "bin_start": 0.6000000000000001,
            "bin_end": 0.7000000000000001,
            "count": 0
           },
           {
            "bin_start": 0.7000000000000001,
            "bin_end": 0.8,
            "count": 0
           },
           {
            "bin_start": 0.8,
            "bin_end": 0.9,
            "count": 0
           },
           {
            "bin_start": 0.9,
            "bin_end": 1,
            "count": 0
           }
          ]
         }
        },
        {
         "name": "2.5um/dl_x.2",
         "dtype": "float64",
         "stats": {
          "unique_count": 0,
          "nan_count": 0,
          "min": null,
          "max": null,
          "histogram": [
           {
            "bin_start": 0,
            "bin_end": 0.1,
            "count": 0
           },
           {
            "bin_start": 0.1,
            "bin_end": 0.2,
            "count": 0
           },
           {
            "bin_start": 0.2,
            "bin_end": 0.30000000000000004,
            "count": 0
           },
           {
            "bin_start": 0.30000000000000004,
            "bin_end": 0.4,
            "count": 0
           },
           {
            "bin_start": 0.4,
            "bin_end": 0.5,
            "count": 0
           },
           {
            "bin_start": 0.5,
            "bin_end": 0.6000000000000001,
            "count": 0
           },
           {
            "bin_start": 0.6000000000000001,
            "bin_end": 0.7000000000000001,
            "count": 0
           },
           {
            "bin_start": 0.7000000000000001,
            "bin_end": 0.8,
            "count": 0
           },
           {
            "bin_start": 0.8,
            "bin_end": 0.9,
            "count": 0
           },
           {
            "bin_start": 0.9,
            "bin_end": 1,
            "count": 0
           }
          ]
         }
        },
        {
         "name": "2.5um/dl_y.2",
         "dtype": "float64",
         "stats": {
          "unique_count": 0,
          "nan_count": 0,
          "min": null,
          "max": null,
          "histogram": [
           {
            "bin_start": 0,
            "bin_end": 0.1,
            "count": 0
           },
           {
            "bin_start": 0.1,
            "bin_end": 0.2,
            "count": 0
           },
           {
            "bin_start": 0.2,
            "bin_end": 0.30000000000000004,
            "count": 0
           },
           {
            "bin_start": 0.30000000000000004,
            "bin_end": 0.4,
            "count": 0
           },
           {
            "bin_start": 0.4,
            "bin_end": 0.5,
            "count": 0
           },
           {
            "bin_start": 0.5,
            "bin_end": 0.6000000000000001,
            "count": 0
           },
           {
            "bin_start": 0.6000000000000001,
            "bin_end": 0.7000000000000001,
            "count": 0
           },
           {
            "bin_start": 0.7000000000000001,
            "bin_end": 0.8,
            "count": 0
           },
           {
            "bin_start": 0.8,
            "bin_end": 0.9,
            "count": 0
           },
           {
            "bin_start": 0.9,
            "bin_end": 1,
            "count": 0
           }
          ]
         }
        },
        {
         "name": "2.5um/dl_x.3",
         "dtype": "float64",
         "stats": {
          "unique_count": 0,
          "nan_count": 0,
          "min": null,
          "max": null,
          "histogram": [
           {
            "bin_start": 0,
            "bin_end": 0.1,
            "count": 0
           },
           {
            "bin_start": 0.1,
            "bin_end": 0.2,
            "count": 0
           },
           {
            "bin_start": 0.2,
            "bin_end": 0.30000000000000004,
            "count": 0
           },
           {
            "bin_start": 0.30000000000000004,
            "bin_end": 0.4,
            "count": 0
           },
           {
            "bin_start": 0.4,
            "bin_end": 0.5,
            "count": 0
           },
           {
            "bin_start": 0.5,
            "bin_end": 0.6000000000000001,
            "count": 0
           },
           {
            "bin_start": 0.6000000000000001,
            "bin_end": 0.7000000000000001,
            "count": 0
           },
           {
            "bin_start": 0.7000000000000001,
            "bin_end": 0.8,
            "count": 0
           },
           {
            "bin_start": 0.8,
            "bin_end": 0.9,
            "count": 0
           },
           {
            "bin_start": 0.9,
            "bin_end": 1,
            "count": 0
           }
          ]
         }
        },
        {
         "name": "2.5um/dl_y.3",
         "dtype": "float64",
         "stats": {
          "unique_count": 0,
          "nan_count": 0,
          "min": null,
          "max": null,
          "histogram": [
           {
            "bin_start": 0,
            "bin_end": 0.1,
            "count": 0
           },
           {
            "bin_start": 0.1,
            "bin_end": 0.2,
            "count": 0
           },
           {
            "bin_start": 0.2,
            "bin_end": 0.30000000000000004,
            "count": 0
           },
           {
            "bin_start": 0.30000000000000004,
            "bin_end": 0.4,
            "count": 0
           },
           {
            "bin_start": 0.4,
            "bin_end": 0.5,
            "count": 0
           },
           {
            "bin_start": 0.5,
            "bin_end": 0.6000000000000001,
            "count": 0
           },
           {
            "bin_start": 0.6000000000000001,
            "bin_end": 0.7000000000000001,
            "count": 0
           },
           {
            "bin_start": 0.7000000000000001,
            "bin_end": 0.8,
            "count": 0
           },
           {
            "bin_start": 0.8,
            "bin_end": 0.9,
            "count": 0
           },
           {
            "bin_start": 0.9,
            "bin_end": 1,
            "count": 0
           }
          ]
         }
        },
        {
         "name": "2.5um/dl_x.4",
         "dtype": "float64",
         "stats": {
          "unique_count": 0,
          "nan_count": 0,
          "min": null,
          "max": null,
          "histogram": [
           {
            "bin_start": 0,
            "bin_end": 0.1,
            "count": 0
           },
           {
            "bin_start": 0.1,
            "bin_end": 0.2,
            "count": 0
           },
           {
            "bin_start": 0.2,
            "bin_end": 0.30000000000000004,
            "count": 0
           },
           {
            "bin_start": 0.30000000000000004,
            "bin_end": 0.4,
            "count": 0
           },
           {
            "bin_start": 0.4,
            "bin_end": 0.5,
            "count": 0
           },
           {
            "bin_start": 0.5,
            "bin_end": 0.6000000000000001,
            "count": 0
           },
           {
            "bin_start": 0.6000000000000001,
            "bin_end": 0.7000000000000001,
            "count": 0
           },
           {
            "bin_start": 0.7000000000000001,
            "bin_end": 0.8,
            "count": 0
           },
           {
            "bin_start": 0.8,
            "bin_end": 0.9,
            "count": 0
           },
           {
            "bin_start": 0.9,
            "bin_end": 1,
            "count": 0
           }
          ]
         }
        },
        {
         "name": "2.5um/dl_y.4",
         "dtype": "float64",
         "stats": {
          "unique_count": 0,
          "nan_count": 0,
          "min": null,
          "max": null,
          "histogram": [
           {
            "bin_start": 0,
            "bin_end": 0.1,
            "count": 0
           },
           {
            "bin_start": 0.1,
            "bin_end": 0.2,
            "count": 0
           },
           {
            "bin_start": 0.2,
            "bin_end": 0.30000000000000004,
            "count": 0
           },
           {
            "bin_start": 0.30000000000000004,
            "bin_end": 0.4,
            "count": 0
           },
           {
            "bin_start": 0.4,
            "bin_end": 0.5,
            "count": 0
           },
           {
            "bin_start": 0.5,
            "bin_end": 0.6000000000000001,
            "count": 0
           },
           {
            "bin_start": 0.6000000000000001,
            "bin_end": 0.7000000000000001,
            "count": 0
           },
           {
            "bin_start": 0.7000000000000001,
            "bin_end": 0.8,
            "count": 0
           },
           {
            "bin_start": 0.8,
            "bin_end": 0.9,
            "count": 0
           },
           {
            "bin_start": 0.9,
            "bin_end": 1,
            "count": 0
           }
          ]
         }
        },
        {
         "name": "2.5um/dl_x.5",
         "dtype": "float64",
         "stats": {
          "unique_count": 0,
          "nan_count": 0,
          "min": null,
          "max": null,
          "histogram": [
           {
            "bin_start": 0,
            "bin_end": 0.1,
            "count": 0
           },
           {
            "bin_start": 0.1,
            "bin_end": 0.2,
            "count": 0
           },
           {
            "bin_start": 0.2,
            "bin_end": 0.30000000000000004,
            "count": 0
           },
           {
            "bin_start": 0.30000000000000004,
            "bin_end": 0.4,
            "count": 0
           },
           {
            "bin_start": 0.4,
            "bin_end": 0.5,
            "count": 0
           },
           {
            "bin_start": 0.5,
            "bin_end": 0.6000000000000001,
            "count": 0
           },
           {
            "bin_start": 0.6000000000000001,
            "bin_end": 0.7000000000000001,
            "count": 0
           },
           {
            "bin_start": 0.7000000000000001,
            "bin_end": 0.8,
            "count": 0
           },
           {
            "bin_start": 0.8,
            "bin_end": 0.9,
            "count": 0
           },
           {
            "bin_start": 0.9,
            "bin_end": 1,
            "count": 0
           }
          ]
         }
        },
        {
         "name": "2.5um/dl_y.5",
         "dtype": "float64",
         "stats": {
          "unique_count": 0,
          "nan_count": 0,
          "min": null,
          "max": null,
          "histogram": [
           {
            "bin_start": 0,
            "bin_end": 0.1,
            "count": 0
           },
           {
            "bin_start": 0.1,
            "bin_end": 0.2,
            "count": 0
           },
           {
            "bin_start": 0.2,
            "bin_end": 0.30000000000000004,
            "count": 0
           },
           {
            "bin_start": 0.30000000000000004,
            "bin_end": 0.4,
            "count": 0
           },
           {
            "bin_start": 0.4,
            "bin_end": 0.5,
            "count": 0
           },
           {
            "bin_start": 0.5,
            "bin_end": 0.6000000000000001,
            "count": 0
           },
           {
            "bin_start": 0.6000000000000001,
            "bin_end": 0.7000000000000001,
            "count": 0
           },
           {
            "bin_start": 0.7000000000000001,
            "bin_end": 0.8,
            "count": 0
           },
           {
            "bin_start": 0.8,
            "bin_end": 0.9,
            "count": 0
           },
           {
            "bin_start": 0.9,
            "bin_end": 1,
            "count": 0
           }
          ]
         }
        },
        {
         "name": "2.5um/dl_x.6",
         "dtype": "float64",
         "stats": {
          "unique_count": 0,
          "nan_count": 0,
          "min": null,
          "max": null,
          "histogram": [
           {
            "bin_start": 0,
            "bin_end": 0.1,
            "count": 0
           },
           {
            "bin_start": 0.1,
            "bin_end": 0.2,
            "count": 0
           },
           {
            "bin_start": 0.2,
            "bin_end": 0.30000000000000004,
            "count": 0
           },
           {
            "bin_start": 0.30000000000000004,
            "bin_end": 0.4,
            "count": 0
           },
           {
            "bin_start": 0.4,
            "bin_end": 0.5,
            "count": 0
           },
           {
            "bin_start": 0.5,
            "bin_end": 0.6000000000000001,
            "count": 0
           },
           {
            "bin_start": 0.6000000000000001,
            "bin_end": 0.7000000000000001,
            "count": 0
           },
           {
            "bin_start": 0.7000000000000001,
            "bin_end": 0.8,
            "count": 0
           },
           {
            "bin_start": 0.8,
            "bin_end": 0.9,
            "count": 0
           },
           {
            "bin_start": 0.9,
            "bin_end": 1,
            "count": 0
           }
          ]
         }
        },
        {
         "name": "2.5um/dl_y.6",
         "dtype": "float64",
         "stats": {
          "unique_count": 0,
          "nan_count": 0,
          "min": null,
          "max": null,
          "histogram": [
           {
            "bin_start": 0,
            "bin_end": 0.1,
            "count": 0
           },
           {
            "bin_start": 0.1,
            "bin_end": 0.2,
            "count": 0
           },
           {
            "bin_start": 0.2,
            "bin_end": 0.30000000000000004,
            "count": 0
           },
           {
            "bin_start": 0.30000000000000004,
            "bin_end": 0.4,
            "count": 0
           },
           {
            "bin_start": 0.4,
            "bin_end": 0.5,
            "count": 0
           },
           {
            "bin_start": 0.5,
            "bin_end": 0.6000000000000001,
            "count": 0
           },
           {
            "bin_start": 0.6000000000000001,
            "bin_end": 0.7000000000000001,
            "count": 0
           },
           {
            "bin_start": 0.7000000000000001,
            "bin_end": 0.8,
            "count": 0
           },
           {
            "bin_start": 0.8,
            "bin_end": 0.9,
            "count": 0
           },
           {
            "bin_start": 0.9,
            "bin_end": 1,
            "count": 0
           }
          ]
         }
        },
        {
         "name": "_deepnote_index_column",
         "dtype": "int64"
        }
       ],
       "rows_top": [],
       "rows_bottom": null
      },
      "text/plain": "Empty DataFrame\nColumns: [created_at, 2.5um/dl_x, 2.5um/dl_y, 2.5um/dl_x, 2.5um/dl_y, 2.5um/dl_x, 2.5um/dl_y, 2.5um/dl_x, 2.5um/dl_y, 2.5um/dl_x, 2.5um/dl_y, 2.5um/dl_x, 2.5um/dl_y, 2.5um/dl_x, 2.5um/dl_y]\nIndex: []",
      "text/html": "<div>\n<style scoped>\n    .dataframe tbody tr th:only-of-type {\n        vertical-align: middle;\n    }\n\n    .dataframe tbody tr th {\n        vertical-align: top;\n    }\n\n    .dataframe thead th {\n        text-align: right;\n    }\n</style>\n<table border=\"1\" class=\"dataframe\">\n  <thead>\n    <tr style=\"text-align: right;\">\n      <th></th>\n      <th>created_at</th>\n      <th>2.5um/dl_x</th>\n      <th>2.5um/dl_y</th>\n      <th>2.5um/dl_x</th>\n      <th>2.5um/dl_y</th>\n      <th>2.5um/dl_x</th>\n      <th>2.5um/dl_y</th>\n      <th>2.5um/dl_x</th>\n      <th>2.5um/dl_y</th>\n      <th>2.5um/dl_x</th>\n      <th>2.5um/dl_y</th>\n      <th>2.5um/dl_x</th>\n      <th>2.5um/dl_y</th>\n      <th>2.5um/dl_x</th>\n      <th>2.5um/dl_y</th>\n    </tr>\n  </thead>\n  <tbody>\n  </tbody>\n</table>\n</div>"
     },
     "metadata": {}
    }
   ],
   "execution_count": 58
  },
  {
   "cell_type": "code",
   "source": "se = Sensor(31035)\nsensor_data = se.parent.get_historical(weeks_to_get=1,\n                              thingspeak_field='secondary')[['created_at', '2.5um/dl']]\nsensor_data['created_at'] = sensor_data['created_at'].dt.floor('T')\nsensor_data",
   "metadata": {
    "tags": [],
    "cell_id": "00009-377e7cf5-b660-4cfb-894a-864bba908bd5",
    "deepnote_to_be_reexecuted": false,
    "source_hash": "a75dc8dc",
    "execution_start": 1638336774380,
    "execution_millis": 876,
    "deepnote_cell_type": "code"
   },
   "outputs": [
    {
     "output_type": "execute_result",
     "execution_count": 59,
     "data": {
      "application/vnd.deepnote.dataframe.v2+json": {
       "row_count": 4355,
       "column_count": 2,
       "columns": [
        {
         "name": "created_at",
         "dtype": "datetime64[ns, UTC]",
         "stats": {
          "unique_count": 4355,
          "nan_count": 0,
          "min": "2021-11-24 22:41:00+00:00",
          "max": "2021-11-30 23:58:00+00:00",
          "histogram": [
           {
            "bin_start": 1637793660000000000,
            "bin_end": 1637845962000000000,
            "count": 435
           },
           {
            "bin_start": 1637845962000000000,
            "bin_end": 1637898264000000000,
            "count": 436
           },
           {
            "bin_start": 1637898264000000000,
            "bin_end": 1637950566000000000,
            "count": 436
           },
           {
            "bin_start": 1637950566000000000,
            "bin_end": 1638002868000000000,
            "count": 436
           },
           {
            "bin_start": 1638002868000000000,
            "bin_end": 1638055170000000000,
            "count": 435
           },
           {
            "bin_start": 1638055170000000000,
            "bin_end": 1638107472000000000,
            "count": 435
           },
           {
            "bin_start": 1638107472000000000,
            "bin_end": 1638159774000000000,
            "count": 436
           },
           {
            "bin_start": 1638159774000000000,
            "bin_end": 1638212076000000000,
            "count": 435
           },
           {
            "bin_start": 1638212076000000000,
            "bin_end": 1638264378000000000,
            "count": 435
           },
           {
            "bin_start": 1638264378000000000,
            "bin_end": 1638316680000000000,
            "count": 436
           }
          ]
         }
        },
        {
         "name": "2.5um/dl",
         "dtype": "float64",
         "stats": {
          "unique_count": 2200,
          "nan_count": 0,
          "min": "0.33",
          "max": "232.24",
          "histogram": [
           {
            "bin_start": 0.33,
            "bin_end": 23.520999999999997,
            "count": 3573
           },
           {
            "bin_start": 23.520999999999997,
            "bin_end": 46.711999999999996,
            "count": 578
           },
           {
            "bin_start": 46.711999999999996,
            "bin_end": 69.90299999999999,
            "count": 187
           },
           {
            "bin_start": 69.90299999999999,
            "bin_end": 93.094,
            "count": 9
           },
           {
            "bin_start": 93.094,
            "bin_end": 116.285,
            "count": 1
           },
           {
            "bin_start": 116.285,
            "bin_end": 139.476,
            "count": 0
           },
           {
            "bin_start": 139.476,
            "bin_end": 162.667,
            "count": 2
           },
           {
            "bin_start": 162.667,
            "bin_end": 185.858,
            "count": 2
           },
           {
            "bin_start": 185.858,
            "bin_end": 209.049,
            "count": 2
           },
           {
            "bin_start": 209.049,
            "bin_end": 232.24,
            "count": 1
           }
          ]
         }
        },
        {
         "name": "_deepnote_index_column",
         "dtype": "int64"
        }
       ],
       "rows_top": [
        {
         "created_at": "2021-11-24T22:41:00.000000",
         "2.5um/dl": 5.27,
         "_deepnote_index_column": 362673
        },
        {
         "created_at": "2021-11-24T22:43:00.000000",
         "2.5um/dl": 2.31,
         "_deepnote_index_column": 362674
        },
        {
         "created_at": "2021-11-24T22:45:00.000000",
         "2.5um/dl": 6.05,
         "_deepnote_index_column": 362675
        },
        {
         "created_at": "2021-11-24T22:47:00.000000",
         "2.5um/dl": 3.78,
         "_deepnote_index_column": 362676
        },
        {
         "created_at": "2021-11-24T22:49:00.000000",
         "2.5um/dl": 3.69,
         "_deepnote_index_column": 362677
        },
        {
         "created_at": "2021-11-24T22:51:00.000000",
         "2.5um/dl": 2.08,
         "_deepnote_index_column": 362678
        },
        {
         "created_at": "2021-11-24T22:53:00.000000",
         "2.5um/dl": 2.33,
         "_deepnote_index_column": 362679
        },
        {
         "created_at": "2021-11-24T22:55:00.000000",
         "2.5um/dl": 1.56,
         "_deepnote_index_column": 362680
        },
        {
         "created_at": "2021-11-24T22:57:00.000000",
         "2.5um/dl": 2.53,
         "_deepnote_index_column": 362681
        },
        {
         "created_at": "2021-11-24T22:59:00.000000",
         "2.5um/dl": 1.43,
         "_deepnote_index_column": 362682
        },
        {
         "created_at": "2021-11-24T23:01:00.000000",
         "2.5um/dl": 1.41,
         "_deepnote_index_column": 362683
        },
        {
         "created_at": "2021-11-24T23:03:00.000000",
         "2.5um/dl": 2.48,
         "_deepnote_index_column": 362684
        },
        {
         "created_at": "2021-11-24T23:05:00.000000",
         "2.5um/dl": 1.63,
         "_deepnote_index_column": 362685
        },
        {
         "created_at": "2021-11-24T23:07:00.000000",
         "2.5um/dl": 2.03,
         "_deepnote_index_column": 362686
        },
        {
         "created_at": "2021-11-24T23:09:00.000000",
         "2.5um/dl": 2.68,
         "_deepnote_index_column": 362687
        },
        {
         "created_at": "2021-11-24T23:11:00.000000",
         "2.5um/dl": 1.77,
         "_deepnote_index_column": 362688
        },
        {
         "created_at": "2021-11-24T23:13:00.000000",
         "2.5um/dl": 3,
         "_deepnote_index_column": 362689
        },
        {
         "created_at": "2021-11-24T23:15:00.000000",
         "2.5um/dl": 1.9,
         "_deepnote_index_column": 362690
        },
        {
         "created_at": "2021-11-24T23:17:00.000000",
         "2.5um/dl": 1.93,
         "_deepnote_index_column": 362691
        },
        {
         "created_at": "2021-11-24T23:19:00.000000",
         "2.5um/dl": 1.88,
         "_deepnote_index_column": 362692
        },
        {
         "created_at": "2021-11-24T23:21:00.000000",
         "2.5um/dl": 1.67,
         "_deepnote_index_column": 362693
        },
        {
         "created_at": "2021-11-24T23:23:00.000000",
         "2.5um/dl": 2.81,
         "_deepnote_index_column": 362694
        },
        {
         "created_at": "2021-11-24T23:25:00.000000",
         "2.5um/dl": 5.15,
         "_deepnote_index_column": 362695
        },
        {
         "created_at": "2021-11-24T23:27:00.000000",
         "2.5um/dl": 1.81,
         "_deepnote_index_column": 362696
        },
        {
         "created_at": "2021-11-24T23:29:00.000000",
         "2.5um/dl": 2.21,
         "_deepnote_index_column": 362697
        },
        {
         "created_at": "2021-11-24T23:31:00.000000",
         "2.5um/dl": 2.07,
         "_deepnote_index_column": 362698
        },
        {
         "created_at": "2021-11-24T23:33:00.000000",
         "2.5um/dl": 3.32,
         "_deepnote_index_column": 362699
        },
        {
         "created_at": "2021-11-24T23:35:00.000000",
         "2.5um/dl": 2.91,
         "_deepnote_index_column": 362700
        },
        {
         "created_at": "2021-11-24T23:37:00.000000",
         "2.5um/dl": 2.79,
         "_deepnote_index_column": 362701
        },
        {
         "created_at": "2021-11-24T23:39:00.000000",
         "2.5um/dl": 2.54,
         "_deepnote_index_column": 362702
        },
        {
         "created_at": "2021-11-24T23:41:00.000000",
         "2.5um/dl": 1.59,
         "_deepnote_index_column": 362703
        },
        {
         "created_at": "2021-11-24T23:43:00.000000",
         "2.5um/dl": 1,
         "_deepnote_index_column": 362704
        },
        {
         "created_at": "2021-11-24T23:45:00.000000",
         "2.5um/dl": 1.34,
         "_deepnote_index_column": 362705
        },
        {
         "created_at": "2021-11-24T23:47:00.000000",
         "2.5um/dl": 2.52,
         "_deepnote_index_column": 362706
        },
        {
         "created_at": "2021-11-24T23:49:00.000000",
         "2.5um/dl": 2.16,
         "_deepnote_index_column": 362707
        },
        {
         "created_at": "2021-11-24T23:51:00.000000",
         "2.5um/dl": 1.3,
         "_deepnote_index_column": 362708
        },
        {
         "created_at": "2021-11-24T23:53:00.000000",
         "2.5um/dl": 2.16,
         "_deepnote_index_column": 362709
        },
        {
         "created_at": "2021-11-24T23:55:00.000000",
         "2.5um/dl": 1.31,
         "_deepnote_index_column": 362710
        },
        {
         "created_at": "2021-11-24T23:57:00.000000",
         "2.5um/dl": 2.81,
         "_deepnote_index_column": 362711
        },
        {
         "created_at": "2021-11-24T23:59:00.000000",
         "2.5um/dl": 2.55,
         "_deepnote_index_column": 362712
        },
        {
         "created_at": "2021-11-25T00:01:00.000000",
         "2.5um/dl": 1.18,
         "_deepnote_index_column": 362713
        },
        {
         "created_at": "2021-11-25T00:03:00.000000",
         "2.5um/dl": 3.69,
         "_deepnote_index_column": 362714
        },
        {
         "created_at": "2021-11-25T00:05:00.000000",
         "2.5um/dl": 1.52,
         "_deepnote_index_column": 362715
        },
        {
         "created_at": "2021-11-25T00:07:00.000000",
         "2.5um/dl": 1.69,
         "_deepnote_index_column": 362716
        },
        {
         "created_at": "2021-11-25T00:09:00.000000",
         "2.5um/dl": 2.47,
         "_deepnote_index_column": 362717
        },
        {
         "created_at": "2021-11-25T00:11:00.000000",
         "2.5um/dl": 1.69,
         "_deepnote_index_column": 362718
        },
        {
         "created_at": "2021-11-25T00:13:00.000000",
         "2.5um/dl": 3.02,
         "_deepnote_index_column": 362719
        },
        {
         "created_at": "2021-11-25T00:15:00.000000",
         "2.5um/dl": 1.58,
         "_deepnote_index_column": 362720
        },
        {
         "created_at": "2021-11-25T00:17:00.000000",
         "2.5um/dl": 1.79,
         "_deepnote_index_column": 362721
        },
        {
         "created_at": "2021-11-25T00:19:00.000000",
         "2.5um/dl": 2.39,
         "_deepnote_index_column": 362722
        },
        {
         "created_at": "2021-11-25T00:21:00.000000",
         "2.5um/dl": 2.86,
         "_deepnote_index_column": 362723
        },
        {
         "created_at": "2021-11-25T00:23:00.000000",
         "2.5um/dl": 4.05,
         "_deepnote_index_column": 362724
        },
        {
         "created_at": "2021-11-25T00:25:00.000000",
         "2.5um/dl": 1.42,
         "_deepnote_index_column": 362725
        },
        {
         "created_at": "2021-11-25T00:27:00.000000",
         "2.5um/dl": 2.19,
         "_deepnote_index_column": 362726
        },
        {
         "created_at": "2021-11-25T00:29:00.000000",
         "2.5um/dl": 2.75,
         "_deepnote_index_column": 362727
        },
        {
         "created_at": "2021-11-25T00:31:00.000000",
         "2.5um/dl": 1.52,
         "_deepnote_index_column": 362728
        },
        {
         "created_at": "2021-11-25T00:33:00.000000",
         "2.5um/dl": 2.07,
         "_deepnote_index_column": 362729
        },
        {
         "created_at": "2021-11-25T00:35:00.000000",
         "2.5um/dl": 2.66,
         "_deepnote_index_column": 362730
        },
        {
         "created_at": "2021-11-25T00:37:00.000000",
         "2.5um/dl": 1.95,
         "_deepnote_index_column": 362731
        },
        {
         "created_at": "2021-11-25T00:39:00.000000",
         "2.5um/dl": 1.76,
         "_deepnote_index_column": 362732
        },
        {
         "created_at": "2021-11-25T00:41:00.000000",
         "2.5um/dl": 2.14,
         "_deepnote_index_column": 362733
        },
        {
         "created_at": "2021-11-25T00:43:00.000000",
         "2.5um/dl": 1.87,
         "_deepnote_index_column": 362734
        },
        {
         "created_at": "2021-11-25T00:45:00.000000",
         "2.5um/dl": 1.04,
         "_deepnote_index_column": 362735
        },
        {
         "created_at": "2021-11-25T00:47:00.000000",
         "2.5um/dl": 4.09,
         "_deepnote_index_column": 362736
        },
        {
         "created_at": "2021-11-25T00:49:00.000000",
         "2.5um/dl": 2.15,
         "_deepnote_index_column": 362737
        },
        {
         "created_at": "2021-11-25T00:51:00.000000",
         "2.5um/dl": 1.75,
         "_deepnote_index_column": 362738
        },
        {
         "created_at": "2021-11-25T00:53:00.000000",
         "2.5um/dl": 1.5,
         "_deepnote_index_column": 362739
        },
        {
         "created_at": "2021-11-25T00:55:00.000000",
         "2.5um/dl": 2.89,
         "_deepnote_index_column": 362740
        },
        {
         "created_at": "2021-11-25T00:57:00.000000",
         "2.5um/dl": 2.64,
         "_deepnote_index_column": 362741
        },
        {
         "created_at": "2021-11-25T00:59:00.000000",
         "2.5um/dl": 2.78,
         "_deepnote_index_column": 362742
        },
        {
         "created_at": "2021-11-25T01:01:00.000000",
         "2.5um/dl": 2.37,
         "_deepnote_index_column": 362743
        },
        {
         "created_at": "2021-11-25T01:03:00.000000",
         "2.5um/dl": 2.89,
         "_deepnote_index_column": 362744
        },
        {
         "created_at": "2021-11-25T01:05:00.000000",
         "2.5um/dl": 1.67,
         "_deepnote_index_column": 362745
        },
        {
         "created_at": "2021-11-25T01:07:00.000000",
         "2.5um/dl": 2.05,
         "_deepnote_index_column": 362746
        },
        {
         "created_at": "2021-11-25T01:09:00.000000",
         "2.5um/dl": 3.19,
         "_deepnote_index_column": 362747
        },
        {
         "created_at": "2021-11-25T01:11:00.000000",
         "2.5um/dl": 3.02,
         "_deepnote_index_column": 362748
        },
        {
         "created_at": "2021-11-25T01:13:00.000000",
         "2.5um/dl": 2.59,
         "_deepnote_index_column": 362749
        },
        {
         "created_at": "2021-11-25T01:15:00.000000",
         "2.5um/dl": 3.12,
         "_deepnote_index_column": 362750
        },
        {
         "created_at": "2021-11-25T01:17:00.000000",
         "2.5um/dl": 2.69,
         "_deepnote_index_column": 362751
        },
        {
         "created_at": "2021-11-25T01:19:00.000000",
         "2.5um/dl": 2.43,
         "_deepnote_index_column": 362752
        },
        {
         "created_at": "2021-11-25T01:21:00.000000",
         "2.5um/dl": 3.47,
         "_deepnote_index_column": 362753
        },
        {
         "created_at": "2021-11-25T01:23:00.000000",
         "2.5um/dl": 1.32,
         "_deepnote_index_column": 362754
        },
        {
         "created_at": "2021-11-25T01:25:00.000000",
         "2.5um/dl": 2.65,
         "_deepnote_index_column": 362755
        },
        {
         "created_at": "2021-11-25T01:27:00.000000",
         "2.5um/dl": 3,
         "_deepnote_index_column": 362756
        },
        {
         "created_at": "2021-11-25T01:29:00.000000",
         "2.5um/dl": 3.93,
         "_deepnote_index_column": 362757
        },
        {
         "created_at": "2021-11-25T01:31:00.000000",
         "2.5um/dl": 1.47,
         "_deepnote_index_column": 362758
        },
        {
         "created_at": "2021-11-25T01:33:00.000000",
         "2.5um/dl": 1.97,
         "_deepnote_index_column": 362759
        },
        {
         "created_at": "2021-11-25T01:35:00.000000",
         "2.5um/dl": 1.81,
         "_deepnote_index_column": 362760
        },
        {
         "created_at": "2021-11-25T01:37:00.000000",
         "2.5um/dl": 2.11,
         "_deepnote_index_column": 362761
        },
        {
         "created_at": "2021-11-25T01:39:00.000000",
         "2.5um/dl": 5.38,
         "_deepnote_index_column": 362762
        },
        {
         "created_at": "2021-11-25T01:41:00.000000",
         "2.5um/dl": 2.05,
         "_deepnote_index_column": 362763
        },
        {
         "created_at": "2021-11-25T01:43:00.000000",
         "2.5um/dl": 1.65,
         "_deepnote_index_column": 362764
        },
        {
         "created_at": "2021-11-25T01:45:00.000000",
         "2.5um/dl": 2.02,
         "_deepnote_index_column": 362765
        },
        {
         "created_at": "2021-11-25T01:47:00.000000",
         "2.5um/dl": 1.7,
         "_deepnote_index_column": 362766
        },
        {
         "created_at": "2021-11-25T01:49:00.000000",
         "2.5um/dl": 1.12,
         "_deepnote_index_column": 362767
        },
        {
         "created_at": "2021-11-25T01:51:00.000000",
         "2.5um/dl": 2.14,
         "_deepnote_index_column": 362768
        },
        {
         "created_at": "2021-11-25T01:53:00.000000",
         "2.5um/dl": 3.13,
         "_deepnote_index_column": 362769
        },
        {
         "created_at": "2021-11-25T01:55:00.000000",
         "2.5um/dl": 3.05,
         "_deepnote_index_column": 362770
        },
        {
         "created_at": "2021-11-25T01:57:00.000000",
         "2.5um/dl": 4.02,
         "_deepnote_index_column": 362771
        },
        {
         "created_at": "2021-11-25T01:59:00.000000",
         "2.5um/dl": 2.96,
         "_deepnote_index_column": 362772
        },
        {
         "created_at": "2021-11-25T02:01:00.000000",
         "2.5um/dl": 5.84,
         "_deepnote_index_column": 362773
        },
        {
         "created_at": "2021-11-25T02:03:00.000000",
         "2.5um/dl": 2.49,
         "_deepnote_index_column": 362774
        },
        {
         "created_at": "2021-11-25T02:05:00.000000",
         "2.5um/dl": 2.81,
         "_deepnote_index_column": 362775
        },
        {
         "created_at": "2021-11-25T02:07:00.000000",
         "2.5um/dl": 1.29,
         "_deepnote_index_column": 362776
        },
        {
         "created_at": "2021-11-25T02:09:00.000000",
         "2.5um/dl": 2.46,
         "_deepnote_index_column": 362777
        },
        {
         "created_at": "2021-11-25T02:11:00.000000",
         "2.5um/dl": 1.76,
         "_deepnote_index_column": 362778
        },
        {
         "created_at": "2021-11-25T02:13:00.000000",
         "2.5um/dl": 5.66,
         "_deepnote_index_column": 362779
        },
        {
         "created_at": "2021-11-25T02:15:00.000000",
         "2.5um/dl": 2.82,
         "_deepnote_index_column": 362780
        },
        {
         "created_at": "2021-11-25T02:17:00.000000",
         "2.5um/dl": 4.95,
         "_deepnote_index_column": 362781
        },
        {
         "created_at": "2021-11-25T02:19:00.000000",
         "2.5um/dl": 4.03,
         "_deepnote_index_column": 362782
        },
        {
         "created_at": "2021-11-25T02:21:00.000000",
         "2.5um/dl": 2.44,
         "_deepnote_index_column": 362783
        },
        {
         "created_at": "2021-11-25T02:23:00.000000",
         "2.5um/dl": 2.45,
         "_deepnote_index_column": 362784
        },
        {
         "created_at": "2021-11-25T02:25:00.000000",
         "2.5um/dl": 3.11,
         "_deepnote_index_column": 362785
        },
        {
         "created_at": "2021-11-25T02:27:00.000000",
         "2.5um/dl": 3.02,
         "_deepnote_index_column": 362786
        },
        {
         "created_at": "2021-11-25T02:29:00.000000",
         "2.5um/dl": 3.05,
         "_deepnote_index_column": 362787
        },
        {
         "created_at": "2021-11-25T02:31:00.000000",
         "2.5um/dl": 2.18,
         "_deepnote_index_column": 362788
        },
        {
         "created_at": "2021-11-25T02:33:00.000000",
         "2.5um/dl": 1.53,
         "_deepnote_index_column": 362789
        },
        {
         "created_at": "2021-11-25T02:35:00.000000",
         "2.5um/dl": 2.89,
         "_deepnote_index_column": 362790
        },
        {
         "created_at": "2021-11-25T02:37:00.000000",
         "2.5um/dl": 3.72,
         "_deepnote_index_column": 362791
        },
        {
         "created_at": "2021-11-25T02:39:00.000000",
         "2.5um/dl": 3.03,
         "_deepnote_index_column": 362792
        },
        {
         "created_at": "2021-11-25T02:41:00.000000",
         "2.5um/dl": 1.73,
         "_deepnote_index_column": 362793
        },
        {
         "created_at": "2021-11-25T02:43:00.000000",
         "2.5um/dl": 1.97,
         "_deepnote_index_column": 362794
        },
        {
         "created_at": "2021-11-25T02:45:00.000000",
         "2.5um/dl": 1.68,
         "_deepnote_index_column": 362795
        },
        {
         "created_at": "2021-11-25T02:47:00.000000",
         "2.5um/dl": 2.69,
         "_deepnote_index_column": 362796
        },
        {
         "created_at": "2021-11-25T02:49:00.000000",
         "2.5um/dl": 3.03,
         "_deepnote_index_column": 362797
        },
        {
         "created_at": "2021-11-25T02:51:00.000000",
         "2.5um/dl": 2.03,
         "_deepnote_index_column": 362798
        },
        {
         "created_at": "2021-11-25T02:53:00.000000",
         "2.5um/dl": 2.36,
         "_deepnote_index_column": 362799
        },
        {
         "created_at": "2021-11-25T02:55:00.000000",
         "2.5um/dl": 2.2,
         "_deepnote_index_column": 362800
        },
        {
         "created_at": "2021-11-25T02:57:00.000000",
         "2.5um/dl": 4.12,
         "_deepnote_index_column": 362801
        },
        {
         "created_at": "2021-11-25T02:59:00.000000",
         "2.5um/dl": 3.27,
         "_deepnote_index_column": 362802
        },
        {
         "created_at": "2021-11-25T03:01:00.000000",
         "2.5um/dl": 2.17,
         "_deepnote_index_column": 362803
        },
        {
         "created_at": "2021-11-25T03:03:00.000000",
         "2.5um/dl": 3.93,
         "_deepnote_index_column": 362804
        },
        {
         "created_at": "2021-11-25T03:05:00.000000",
         "2.5um/dl": 2.25,
         "_deepnote_index_column": 362805
        },
        {
         "created_at": "2021-11-25T03:07:00.000000",
         "2.5um/dl": 2.4,
         "_deepnote_index_column": 362806
        },
        {
         "created_at": "2021-11-25T03:09:00.000000",
         "2.5um/dl": 1.26,
         "_deepnote_index_column": 362807
        },
        {
         "created_at": "2021-11-25T03:11:00.000000",
         "2.5um/dl": 1.76,
         "_deepnote_index_column": 362808
        },
        {
         "created_at": "2021-11-25T03:13:00.000000",
         "2.5um/dl": 2.23,
         "_deepnote_index_column": 362809
        },
        {
         "created_at": "2021-11-25T03:15:00.000000",
         "2.5um/dl": 3.36,
         "_deepnote_index_column": 362810
        },
        {
         "created_at": "2021-11-25T03:17:00.000000",
         "2.5um/dl": 1.57,
         "_deepnote_index_column": 362811
        },
        {
         "created_at": "2021-11-25T03:19:00.000000",
         "2.5um/dl": 2.66,
         "_deepnote_index_column": 362812
        },
        {
         "created_at": "2021-11-25T03:21:00.000000",
         "2.5um/dl": 3.56,
         "_deepnote_index_column": 362813
        },
        {
         "created_at": "2021-11-25T03:23:00.000000",
         "2.5um/dl": 1.95,
         "_deepnote_index_column": 362814
        },
        {
         "created_at": "2021-11-25T03:25:00.000000",
         "2.5um/dl": 2,
         "_deepnote_index_column": 362815
        },
        {
         "created_at": "2021-11-25T03:27:00.000000",
         "2.5um/dl": 3,
         "_deepnote_index_column": 362816
        },
        {
         "created_at": "2021-11-25T03:29:00.000000",
         "2.5um/dl": 4.82,
         "_deepnote_index_column": 362817
        },
        {
         "created_at": "2021-11-25T03:31:00.000000",
         "2.5um/dl": 2.32,
         "_deepnote_index_column": 362818
        },
        {
         "created_at": "2021-11-25T03:33:00.000000",
         "2.5um/dl": 1.44,
         "_deepnote_index_column": 362819
        },
        {
         "created_at": "2021-11-25T03:35:00.000000",
         "2.5um/dl": 3.68,
         "_deepnote_index_column": 362820
        },
        {
         "created_at": "2021-11-25T03:37:00.000000",
         "2.5um/dl": 3,
         "_deepnote_index_column": 362821
        },
        {
         "created_at": "2021-11-25T03:39:00.000000",
         "2.5um/dl": 2.68,
         "_deepnote_index_column": 362822
        },
        {
         "created_at": "2021-11-25T03:41:00.000000",
         "2.5um/dl": 4.63,
         "_deepnote_index_column": 362823
        },
        {
         "created_at": "2021-11-25T03:43:00.000000",
         "2.5um/dl": 3.44,
         "_deepnote_index_column": 362824
        },
        {
         "created_at": "2021-11-25T03:45:00.000000",
         "2.5um/dl": 3.09,
         "_deepnote_index_column": 362825
        },
        {
         "created_at": "2021-11-25T03:47:00.000000",
         "2.5um/dl": 2.45,
         "_deepnote_index_column": 362826
        },
        {
         "created_at": "2021-11-25T03:49:00.000000",
         "2.5um/dl": 4.45,
         "_deepnote_index_column": 362827
        },
        {
         "created_at": "2021-11-25T03:51:00.000000",
         "2.5um/dl": 1.89,
         "_deepnote_index_column": 362828
        },
        {
         "created_at": "2021-11-25T03:53:00.000000",
         "2.5um/dl": 2.88,
         "_deepnote_index_column": 362829
        },
        {
         "created_at": "2021-11-25T03:55:00.000000",
         "2.5um/dl": 3.19,
         "_deepnote_index_column": 362830
        },
        {
         "created_at": "2021-11-25T03:57:00.000000",
         "2.5um/dl": 3.56,
         "_deepnote_index_column": 362831
        },
        {
         "created_at": "2021-11-25T03:59:00.000000",
         "2.5um/dl": 2.04,
         "_deepnote_index_column": 362832
        },
        {
         "created_at": "2021-11-25T04:01:00.000000",
         "2.5um/dl": 4.29,
         "_deepnote_index_column": 362833
        },
        {
         "created_at": "2021-11-25T04:03:00.000000",
         "2.5um/dl": 4.48,
         "_deepnote_index_column": 362834
        },
        {
         "created_at": "2021-11-25T04:05:00.000000",
         "2.5um/dl": 3.68,
         "_deepnote_index_column": 362835
        },
        {
         "created_at": "2021-11-25T04:07:00.000000",
         "2.5um/dl": 3.09,
         "_deepnote_index_column": 362836
        },
        {
         "created_at": "2021-11-25T04:09:00.000000",
         "2.5um/dl": 5.68,
         "_deepnote_index_column": 362837
        },
        {
         "created_at": "2021-11-25T04:11:00.000000",
         "2.5um/dl": 2.51,
         "_deepnote_index_column": 362838
        },
        {
         "created_at": "2021-11-25T04:13:00.000000",
         "2.5um/dl": 3.61,
         "_deepnote_index_column": 362839
        },
        {
         "created_at": "2021-11-25T04:15:00.000000",
         "2.5um/dl": 3.09,
         "_deepnote_index_column": 362840
        },
        {
         "created_at": "2021-11-25T04:17:00.000000",
         "2.5um/dl": 3.29,
         "_deepnote_index_column": 362841
        },
        {
         "created_at": "2021-11-25T04:19:00.000000",
         "2.5um/dl": 0.95,
         "_deepnote_index_column": 362842
        },
        {
         "created_at": "2021-11-25T04:21:00.000000",
         "2.5um/dl": 2.25,
         "_deepnote_index_column": 362843
        },
        {
         "created_at": "2021-11-25T04:23:00.000000",
         "2.5um/dl": 1.4,
         "_deepnote_index_column": 362844
        },
        {
         "created_at": "2021-11-25T04:25:00.000000",
         "2.5um/dl": 2.57,
         "_deepnote_index_column": 362845
        },
        {
         "created_at": "2021-11-25T04:27:00.000000",
         "2.5um/dl": 3.12,
         "_deepnote_index_column": 362846
        },
        {
         "created_at": "2021-11-25T04:29:00.000000",
         "2.5um/dl": 2.73,
         "_deepnote_index_column": 362847
        },
        {
         "created_at": "2021-11-25T04:31:00.000000",
         "2.5um/dl": 3.12,
         "_deepnote_index_column": 362848
        },
        {
         "created_at": "2021-11-25T04:33:00.000000",
         "2.5um/dl": 4.46,
         "_deepnote_index_column": 362849
        },
        {
         "created_at": "2021-11-25T04:35:00.000000",
         "2.5um/dl": 3.91,
         "_deepnote_index_column": 362850
        },
        {
         "created_at": "2021-11-25T04:37:00.000000",
         "2.5um/dl": 3.45,
         "_deepnote_index_column": 362851
        },
        {
         "created_at": "2021-11-25T04:39:00.000000",
         "2.5um/dl": 2.46,
         "_deepnote_index_column": 362852
        },
        {
         "created_at": "2021-11-25T04:41:00.000000",
         "2.5um/dl": 2.53,
         "_deepnote_index_column": 362853
        },
        {
         "created_at": "2021-11-25T04:43:00.000000",
         "2.5um/dl": 3.29,
         "_deepnote_index_column": 362854
        },
        {
         "created_at": "2021-11-25T04:45:00.000000",
         "2.5um/dl": 4.35,
         "_deepnote_index_column": 362855
        },
        {
         "created_at": "2021-11-25T04:47:00.000000",
         "2.5um/dl": 2.14,
         "_deepnote_index_column": 362856
        },
        {
         "created_at": "2021-11-25T04:49:00.000000",
         "2.5um/dl": 3.74,
         "_deepnote_index_column": 362857
        },
        {
         "created_at": "2021-11-25T04:51:00.000000",
         "2.5um/dl": 2.69,
         "_deepnote_index_column": 362858
        },
        {
         "created_at": "2021-11-25T04:53:00.000000",
         "2.5um/dl": 2.54,
         "_deepnote_index_column": 362859
        },
        {
         "created_at": "2021-11-25T04:55:00.000000",
         "2.5um/dl": 2.38,
         "_deepnote_index_column": 362860
        },
        {
         "created_at": "2021-11-25T04:57:00.000000",
         "2.5um/dl": 2.12,
         "_deepnote_index_column": 362861
        },
        {
         "created_at": "2021-11-25T04:59:00.000000",
         "2.5um/dl": 1.86,
         "_deepnote_index_column": 362862
        },
        {
         "created_at": "2021-11-25T05:01:00.000000",
         "2.5um/dl": 3.07,
         "_deepnote_index_column": 362863
        },
        {
         "created_at": "2021-11-25T05:03:00.000000",
         "2.5um/dl": 1.91,
         "_deepnote_index_column": 362864
        },
        {
         "created_at": "2021-11-25T05:05:00.000000",
         "2.5um/dl": 3.2,
         "_deepnote_index_column": 362865
        },
        {
         "created_at": "2021-11-25T05:07:00.000000",
         "2.5um/dl": 2.62,
         "_deepnote_index_column": 362866
        },
        {
         "created_at": "2021-11-25T05:09:00.000000",
         "2.5um/dl": 3.1,
         "_deepnote_index_column": 362867
        },
        {
         "created_at": "2021-11-25T05:11:00.000000",
         "2.5um/dl": 2.73,
         "_deepnote_index_column": 362868
        },
        {
         "created_at": "2021-11-25T05:13:00.000000",
         "2.5um/dl": 1.59,
         "_deepnote_index_column": 362869
        },
        {
         "created_at": "2021-11-25T05:15:00.000000",
         "2.5um/dl": 2.47,
         "_deepnote_index_column": 362870
        },
        {
         "created_at": "2021-11-25T05:17:00.000000",
         "2.5um/dl": 3.86,
         "_deepnote_index_column": 362871
        },
        {
         "created_at": "2021-11-25T05:19:00.000000",
         "2.5um/dl": 3.67,
         "_deepnote_index_column": 362872
        },
        {
         "created_at": "2021-11-25T05:21:00.000000",
         "2.5um/dl": 2.68,
         "_deepnote_index_column": 362873
        },
        {
         "created_at": "2021-11-25T05:23:00.000000",
         "2.5um/dl": 2.81,
         "_deepnote_index_column": 362874
        },
        {
         "created_at": "2021-11-25T05:25:00.000000",
         "2.5um/dl": 1.59,
         "_deepnote_index_column": 362875
        },
        {
         "created_at": "2021-11-25T05:27:00.000000",
         "2.5um/dl": 3.87,
         "_deepnote_index_column": 362876
        },
        {
         "created_at": "2021-11-25T05:29:00.000000",
         "2.5um/dl": 5.75,
         "_deepnote_index_column": 362877
        },
        {
         "created_at": "2021-11-25T05:31:00.000000",
         "2.5um/dl": 3.02,
         "_deepnote_index_column": 362878
        },
        {
         "created_at": "2021-11-25T05:33:00.000000",
         "2.5um/dl": 6.92,
         "_deepnote_index_column": 362879
        },
        {
         "created_at": "2021-11-25T05:35:00.000000",
         "2.5um/dl": 3.62,
         "_deepnote_index_column": 362880
        },
        {
         "created_at": "2021-11-25T05:37:00.000000",
         "2.5um/dl": 3.6,
         "_deepnote_index_column": 362881
        },
        {
         "created_at": "2021-11-25T05:39:00.000000",
         "2.5um/dl": 6.22,
         "_deepnote_index_column": 362882
        },
        {
         "created_at": "2021-11-25T05:41:00.000000",
         "2.5um/dl": 3.95,
         "_deepnote_index_column": 362883
        },
        {
         "created_at": "2021-11-25T05:43:00.000000",
         "2.5um/dl": 2.54,
         "_deepnote_index_column": 362884
        },
        {
         "created_at": "2021-11-25T05:45:00.000000",
         "2.5um/dl": 4.72,
         "_deepnote_index_column": 362885
        },
        {
         "created_at": "2021-11-25T05:47:00.000000",
         "2.5um/dl": 3.1,
         "_deepnote_index_column": 362886
        },
        {
         "created_at": "2021-11-25T05:49:00.000000",
         "2.5um/dl": 1.93,
         "_deepnote_index_column": 362887
        },
        {
         "created_at": "2021-11-25T05:51:00.000000",
         "2.5um/dl": 2.96,
         "_deepnote_index_column": 362888
        },
        {
         "created_at": "2021-11-25T05:53:00.000000",
         "2.5um/dl": 4.31,
         "_deepnote_index_column": 362889
        },
        {
         "created_at": "2021-11-25T05:55:00.000000",
         "2.5um/dl": 3.07,
         "_deepnote_index_column": 362890
        },
        {
         "created_at": "2021-11-25T05:57:00.000000",
         "2.5um/dl": 6.21,
         "_deepnote_index_column": 362891
        },
        {
         "created_at": "2021-11-25T05:59:00.000000",
         "2.5um/dl": 3.04,
         "_deepnote_index_column": 362892
        },
        {
         "created_at": "2021-11-25T06:01:00.000000",
         "2.5um/dl": 3.42,
         "_deepnote_index_column": 362893
        },
        {
         "created_at": "2021-11-25T06:03:00.000000",
         "2.5um/dl": 3.52,
         "_deepnote_index_column": 362894
        },
        {
         "created_at": "2021-11-25T06:05:00.000000",
         "2.5um/dl": 3.93,
         "_deepnote_index_column": 362895
        },
        {
         "created_at": "2021-11-25T06:07:00.000000",
         "2.5um/dl": 4.57,
         "_deepnote_index_column": 362896
        },
        {
         "created_at": "2021-11-25T06:09:00.000000",
         "2.5um/dl": 1.86,
         "_deepnote_index_column": 362897
        },
        {
         "created_at": "2021-11-25T06:11:00.000000",
         "2.5um/dl": 2.73,
         "_deepnote_index_column": 362898
        },
        {
         "created_at": "2021-11-25T06:13:00.000000",
         "2.5um/dl": 4.26,
         "_deepnote_index_column": 362899
        },
        {
         "created_at": "2021-11-25T06:15:00.000000",
         "2.5um/dl": 6.14,
         "_deepnote_index_column": 362900
        },
        {
         "created_at": "2021-11-25T06:17:00.000000",
         "2.5um/dl": 4.05,
         "_deepnote_index_column": 362901
        },
        {
         "created_at": "2021-11-25T06:19:00.000000",
         "2.5um/dl": 3.83,
         "_deepnote_index_column": 362902
        },
        {
         "created_at": "2021-11-25T06:21:00.000000",
         "2.5um/dl": 6.1,
         "_deepnote_index_column": 362903
        },
        {
         "created_at": "2021-11-25T06:23:00.000000",
         "2.5um/dl": 3.84,
         "_deepnote_index_column": 362904
        },
        {
         "created_at": "2021-11-25T06:25:00.000000",
         "2.5um/dl": 4.79,
         "_deepnote_index_column": 362905
        },
        {
         "created_at": "2021-11-25T06:27:00.000000",
         "2.5um/dl": 4.17,
         "_deepnote_index_column": 362906
        },
        {
         "created_at": "2021-11-25T06:29:00.000000",
         "2.5um/dl": 4.69,
         "_deepnote_index_column": 362907
        },
        {
         "created_at": "2021-11-25T06:31:00.000000",
         "2.5um/dl": 3.6,
         "_deepnote_index_column": 362908
        },
        {
         "created_at": "2021-11-25T06:33:00.000000",
         "2.5um/dl": 4.38,
         "_deepnote_index_column": 362909
        },
        {
         "created_at": "2021-11-25T06:35:00.000000",
         "2.5um/dl": 5.47,
         "_deepnote_index_column": 362910
        },
        {
         "created_at": "2021-11-25T06:37:00.000000",
         "2.5um/dl": 2.83,
         "_deepnote_index_column": 362911
        },
        {
         "created_at": "2021-11-25T06:39:00.000000",
         "2.5um/dl": 6.34,
         "_deepnote_index_column": 362912
        },
        {
         "created_at": "2021-11-25T06:41:00.000000",
         "2.5um/dl": 4.25,
         "_deepnote_index_column": 362913
        },
        {
         "created_at": "2021-11-25T06:43:00.000000",
         "2.5um/dl": 3.87,
         "_deepnote_index_column": 362914
        },
        {
         "created_at": "2021-11-25T06:45:00.000000",
         "2.5um/dl": 5.95,
         "_deepnote_index_column": 362915
        },
        {
         "created_at": "2021-11-25T06:47:00.000000",
         "2.5um/dl": 4.21,
         "_deepnote_index_column": 362916
        },
        {
         "created_at": "2021-11-25T06:49:00.000000",
         "2.5um/dl": 7.05,
         "_deepnote_index_column": 362917
        },
        {
         "created_at": "2021-11-25T06:51:00.000000",
         "2.5um/dl": 2.48,
         "_deepnote_index_column": 362918
        },
        {
         "created_at": "2021-11-25T06:53:00.000000",
         "2.5um/dl": 2.45,
         "_deepnote_index_column": 362919
        },
        {
         "created_at": "2021-11-25T06:55:00.000000",
         "2.5um/dl": 4.46,
         "_deepnote_index_column": 362920
        },
        {
         "created_at": "2021-11-25T06:57:00.000000",
         "2.5um/dl": 5.19,
         "_deepnote_index_column": 362921
        },
        {
         "created_at": "2021-11-25T06:59:00.000000",
         "2.5um/dl": 2.08,
         "_deepnote_index_column": 362922
        }
       ],
       "rows_bottom": [
        {
         "created_at": "2021-11-30T15:40:00.000000",
         "2.5um/dl": 14.53,
         "_deepnote_index_column": 366778
        },
        {
         "created_at": "2021-11-30T15:42:00.000000",
         "2.5um/dl": 9.83,
         "_deepnote_index_column": 366779
        },
        {
         "created_at": "2021-11-30T15:44:00.000000",
         "2.5um/dl": 12.98,
         "_deepnote_index_column": 366780
        },
        {
         "created_at": "2021-11-30T15:46:00.000000",
         "2.5um/dl": 16.26,
         "_deepnote_index_column": 366781
        },
        {
         "created_at": "2021-11-30T15:48:00.000000",
         "2.5um/dl": 11.53,
         "_deepnote_index_column": 366782
        },
        {
         "created_at": "2021-11-30T15:50:00.000000",
         "2.5um/dl": 10.95,
         "_deepnote_index_column": 366783
        },
        {
         "created_at": "2021-11-30T15:52:00.000000",
         "2.5um/dl": 3.93,
         "_deepnote_index_column": 366784
        },
        {
         "created_at": "2021-11-30T15:54:00.000000",
         "2.5um/dl": 3.47,
         "_deepnote_index_column": 366785
        },
        {
         "created_at": "2021-11-30T15:56:00.000000",
         "2.5um/dl": 4.8,
         "_deepnote_index_column": 366786
        },
        {
         "created_at": "2021-11-30T15:58:00.000000",
         "2.5um/dl": 3.09,
         "_deepnote_index_column": 366787
        },
        {
         "created_at": "2021-11-30T16:00:00.000000",
         "2.5um/dl": 8.02,
         "_deepnote_index_column": 366788
        },
        {
         "created_at": "2021-11-30T16:02:00.000000",
         "2.5um/dl": 5.93,
         "_deepnote_index_column": 366789
        },
        {
         "created_at": "2021-11-30T16:04:00.000000",
         "2.5um/dl": 5.03,
         "_deepnote_index_column": 366790
        },
        {
         "created_at": "2021-11-30T16:06:00.000000",
         "2.5um/dl": 6.74,
         "_deepnote_index_column": 366791
        },
        {
         "created_at": "2021-11-30T16:08:00.000000",
         "2.5um/dl": 5.21,
         "_deepnote_index_column": 366792
        },
        {
         "created_at": "2021-11-30T16:10:00.000000",
         "2.5um/dl": 5.75,
         "_deepnote_index_column": 366793
        },
        {
         "created_at": "2021-11-30T16:12:00.000000",
         "2.5um/dl": 4.45,
         "_deepnote_index_column": 366794
        },
        {
         "created_at": "2021-11-30T16:14:00.000000",
         "2.5um/dl": 8.05,
         "_deepnote_index_column": 366795
        },
        {
         "created_at": "2021-11-30T16:16:00.000000",
         "2.5um/dl": 4.22,
         "_deepnote_index_column": 366796
        },
        {
         "created_at": "2021-11-30T16:18:00.000000",
         "2.5um/dl": 6.8,
         "_deepnote_index_column": 366797
        },
        {
         "created_at": "2021-11-30T16:20:00.000000",
         "2.5um/dl": 3.86,
         "_deepnote_index_column": 366798
        },
        {
         "created_at": "2021-11-30T16:22:00.000000",
         "2.5um/dl": 6.4,
         "_deepnote_index_column": 366799
        },
        {
         "created_at": "2021-11-30T16:24:00.000000",
         "2.5um/dl": 2.59,
         "_deepnote_index_column": 366800
        },
        {
         "created_at": "2021-11-30T16:26:00.000000",
         "2.5um/dl": 5.81,
         "_deepnote_index_column": 366801
        },
        {
         "created_at": "2021-11-30T16:28:00.000000",
         "2.5um/dl": 1.98,
         "_deepnote_index_column": 366802
        },
        {
         "created_at": "2021-11-30T16:30:00.000000",
         "2.5um/dl": 1.67,
         "_deepnote_index_column": 366803
        },
        {
         "created_at": "2021-11-30T16:32:00.000000",
         "2.5um/dl": 6.91,
         "_deepnote_index_column": 366804
        },
        {
         "created_at": "2021-11-30T16:34:00.000000",
         "2.5um/dl": 0.82,
         "_deepnote_index_column": 366805
        },
        {
         "created_at": "2021-11-30T16:36:00.000000",
         "2.5um/dl": 3.55,
         "_deepnote_index_column": 366806
        },
        {
         "created_at": "2021-11-30T16:38:00.000000",
         "2.5um/dl": 2.62,
         "_deepnote_index_column": 366807
        },
        {
         "created_at": "2021-11-30T16:40:00.000000",
         "2.5um/dl": 4.91,
         "_deepnote_index_column": 366808
        },
        {
         "created_at": "2021-11-30T16:42:00.000000",
         "2.5um/dl": 2.86,
         "_deepnote_index_column": 366809
        },
        {
         "created_at": "2021-11-30T16:44:00.000000",
         "2.5um/dl": 7.91,
         "_deepnote_index_column": 366810
        },
        {
         "created_at": "2021-11-30T16:46:00.000000",
         "2.5um/dl": 6.73,
         "_deepnote_index_column": 366811
        },
        {
         "created_at": "2021-11-30T16:48:00.000000",
         "2.5um/dl": 3.16,
         "_deepnote_index_column": 366812
        },
        {
         "created_at": "2021-11-30T16:50:00.000000",
         "2.5um/dl": 2.14,
         "_deepnote_index_column": 366813
        },
        {
         "created_at": "2021-11-30T16:52:00.000000",
         "2.5um/dl": 3.55,
         "_deepnote_index_column": 366814
        },
        {
         "created_at": "2021-11-30T16:54:00.000000",
         "2.5um/dl": 2.58,
         "_deepnote_index_column": 366815
        },
        {
         "created_at": "2021-11-30T16:56:00.000000",
         "2.5um/dl": 2.88,
         "_deepnote_index_column": 366816
        },
        {
         "created_at": "2021-11-30T16:58:00.000000",
         "2.5um/dl": 2.52,
         "_deepnote_index_column": 366817
        },
        {
         "created_at": "2021-11-30T17:00:00.000000",
         "2.5um/dl": 2.98,
         "_deepnote_index_column": 366818
        },
        {
         "created_at": "2021-11-30T17:02:00.000000",
         "2.5um/dl": 3.32,
         "_deepnote_index_column": 366819
        },
        {
         "created_at": "2021-11-30T17:04:00.000000",
         "2.5um/dl": 1.6,
         "_deepnote_index_column": 366820
        },
        {
         "created_at": "2021-11-30T17:06:00.000000",
         "2.5um/dl": 2.07,
         "_deepnote_index_column": 366821
        },
        {
         "created_at": "2021-11-30T17:08:00.000000",
         "2.5um/dl": 2.86,
         "_deepnote_index_column": 366822
        },
        {
         "created_at": "2021-11-30T17:10:00.000000",
         "2.5um/dl": 2.93,
         "_deepnote_index_column": 366823
        },
        {
         "created_at": "2021-11-30T17:12:00.000000",
         "2.5um/dl": 2.07,
         "_deepnote_index_column": 366824
        },
        {
         "created_at": "2021-11-30T17:14:00.000000",
         "2.5um/dl": 2.95,
         "_deepnote_index_column": 366825
        },
        {
         "created_at": "2021-11-30T17:16:00.000000",
         "2.5um/dl": 1.95,
         "_deepnote_index_column": 366826
        },
        {
         "created_at": "2021-11-30T17:18:00.000000",
         "2.5um/dl": 1.95,
         "_deepnote_index_column": 366827
        },
        {
         "created_at": "2021-11-30T17:20:00.000000",
         "2.5um/dl": 1.25,
         "_deepnote_index_column": 366828
        },
        {
         "created_at": "2021-11-30T17:22:00.000000",
         "2.5um/dl": 2.14,
         "_deepnote_index_column": 366829
        },
        {
         "created_at": "2021-11-30T17:24:00.000000",
         "2.5um/dl": 1.75,
         "_deepnote_index_column": 366830
        },
        {
         "created_at": "2021-11-30T17:26:00.000000",
         "2.5um/dl": 2.58,
         "_deepnote_index_column": 366831
        },
        {
         "created_at": "2021-11-30T17:28:00.000000",
         "2.5um/dl": 3.62,
         "_deepnote_index_column": 366832
        },
        {
         "created_at": "2021-11-30T17:30:00.000000",
         "2.5um/dl": 1.02,
         "_deepnote_index_column": 366833
        },
        {
         "created_at": "2021-11-30T17:32:00.000000",
         "2.5um/dl": 1.59,
         "_deepnote_index_column": 366834
        },
        {
         "created_at": "2021-11-30T17:34:00.000000",
         "2.5um/dl": 1.97,
         "_deepnote_index_column": 366835
        },
        {
         "created_at": "2021-11-30T17:36:00.000000",
         "2.5um/dl": 1.48,
         "_deepnote_index_column": 366836
        },
        {
         "created_at": "2021-11-30T17:38:00.000000",
         "2.5um/dl": 1.55,
         "_deepnote_index_column": 366837
        },
        {
         "created_at": "2021-11-30T17:40:00.000000",
         "2.5um/dl": 3.67,
         "_deepnote_index_column": 366838
        },
        {
         "created_at": "2021-11-30T17:42:00.000000",
         "2.5um/dl": 2.52,
         "_deepnote_index_column": 366839
        },
        {
         "created_at": "2021-11-30T17:44:00.000000",
         "2.5um/dl": 1.05,
         "_deepnote_index_column": 366840
        },
        {
         "created_at": "2021-11-30T17:46:00.000000",
         "2.5um/dl": 2.27,
         "_deepnote_index_column": 366841
        },
        {
         "created_at": "2021-11-30T17:48:00.000000",
         "2.5um/dl": 1.53,
         "_deepnote_index_column": 366842
        },
        {
         "created_at": "2021-11-30T17:50:00.000000",
         "2.5um/dl": 2.6,
         "_deepnote_index_column": 366843
        },
        {
         "created_at": "2021-11-30T17:52:00.000000",
         "2.5um/dl": 3.28,
         "_deepnote_index_column": 366844
        },
        {
         "created_at": "2021-11-30T17:54:00.000000",
         "2.5um/dl": 2.02,
         "_deepnote_index_column": 366845
        },
        {
         "created_at": "2021-11-30T17:56:00.000000",
         "2.5um/dl": 1.41,
         "_deepnote_index_column": 366846
        },
        {
         "created_at": "2021-11-30T17:58:00.000000",
         "2.5um/dl": 3.2,
         "_deepnote_index_column": 366847
        },
        {
         "created_at": "2021-11-30T18:00:00.000000",
         "2.5um/dl": 1.75,
         "_deepnote_index_column": 366848
        },
        {
         "created_at": "2021-11-30T18:02:00.000000",
         "2.5um/dl": 2.59,
         "_deepnote_index_column": 366849
        },
        {
         "created_at": "2021-11-30T18:04:00.000000",
         "2.5um/dl": 3.16,
         "_deepnote_index_column": 366850
        },
        {
         "created_at": "2021-11-30T18:06:00.000000",
         "2.5um/dl": 2.04,
         "_deepnote_index_column": 366851
        },
        {
         "created_at": "2021-11-30T18:08:00.000000",
         "2.5um/dl": 2,
         "_deepnote_index_column": 366852
        },
        {
         "created_at": "2021-11-30T18:10:00.000000",
         "2.5um/dl": 3.17,
         "_deepnote_index_column": 366853
        },
        {
         "created_at": "2021-11-30T18:12:00.000000",
         "2.5um/dl": 3.29,
         "_deepnote_index_column": 366854
        },
        {
         "created_at": "2021-11-30T18:14:00.000000",
         "2.5um/dl": 3.05,
         "_deepnote_index_column": 366855
        },
        {
         "created_at": "2021-11-30T18:16:00.000000",
         "2.5um/dl": 3,
         "_deepnote_index_column": 366856
        },
        {
         "created_at": "2021-11-30T18:18:00.000000",
         "2.5um/dl": 1.77,
         "_deepnote_index_column": 366857
        },
        {
         "created_at": "2021-11-30T18:20:00.000000",
         "2.5um/dl": 1.97,
         "_deepnote_index_column": 366858
        },
        {
         "created_at": "2021-11-30T18:22:00.000000",
         "2.5um/dl": 2.09,
         "_deepnote_index_column": 366859
        },
        {
         "created_at": "2021-11-30T18:24:00.000000",
         "2.5um/dl": 2.16,
         "_deepnote_index_column": 366860
        },
        {
         "created_at": "2021-11-30T18:26:00.000000",
         "2.5um/dl": 2.83,
         "_deepnote_index_column": 366861
        },
        {
         "created_at": "2021-11-30T18:28:00.000000",
         "2.5um/dl": 4.22,
         "_deepnote_index_column": 366862
        },
        {
         "created_at": "2021-11-30T18:30:00.000000",
         "2.5um/dl": 3.85,
         "_deepnote_index_column": 366863
        },
        {
         "created_at": "2021-11-30T18:32:00.000000",
         "2.5um/dl": 3.65,
         "_deepnote_index_column": 366864
        },
        {
         "created_at": "2021-11-30T18:34:00.000000",
         "2.5um/dl": 4.45,
         "_deepnote_index_column": 366865
        },
        {
         "created_at": "2021-11-30T18:36:00.000000",
         "2.5um/dl": 1.95,
         "_deepnote_index_column": 366866
        },
        {
         "created_at": "2021-11-30T18:38:00.000000",
         "2.5um/dl": 2.83,
         "_deepnote_index_column": 366867
        },
        {
         "created_at": "2021-11-30T18:40:00.000000",
         "2.5um/dl": 2.18,
         "_deepnote_index_column": 366868
        },
        {
         "created_at": "2021-11-30T18:42:00.000000",
         "2.5um/dl": 2.49,
         "_deepnote_index_column": 366869
        },
        {
         "created_at": "2021-11-30T18:44:00.000000",
         "2.5um/dl": 1.42,
         "_deepnote_index_column": 366870
        },
        {
         "created_at": "2021-11-30T18:46:00.000000",
         "2.5um/dl": 2.93,
         "_deepnote_index_column": 366871
        },
        {
         "created_at": "2021-11-30T18:48:00.000000",
         "2.5um/dl": 1.14,
         "_deepnote_index_column": 366872
        },
        {
         "created_at": "2021-11-30T18:50:00.000000",
         "2.5um/dl": 3.5,
         "_deepnote_index_column": 366873
        },
        {
         "created_at": "2021-11-30T18:52:00.000000",
         "2.5um/dl": 3.69,
         "_deepnote_index_column": 366874
        },
        {
         "created_at": "2021-11-30T18:54:00.000000",
         "2.5um/dl": 1.61,
         "_deepnote_index_column": 366875
        },
        {
         "created_at": "2021-11-30T18:56:00.000000",
         "2.5um/dl": 2.68,
         "_deepnote_index_column": 366876
        },
        {
         "created_at": "2021-11-30T18:58:00.000000",
         "2.5um/dl": 1.95,
         "_deepnote_index_column": 366877
        },
        {
         "created_at": "2021-11-30T19:00:00.000000",
         "2.5um/dl": 2.92,
         "_deepnote_index_column": 366878
        },
        {
         "created_at": "2021-11-30T19:02:00.000000",
         "2.5um/dl": 3.41,
         "_deepnote_index_column": 366879
        },
        {
         "created_at": "2021-11-30T19:04:00.000000",
         "2.5um/dl": 1.59,
         "_deepnote_index_column": 366880
        },
        {
         "created_at": "2021-11-30T19:06:00.000000",
         "2.5um/dl": 2.05,
         "_deepnote_index_column": 366881
        },
        {
         "created_at": "2021-11-30T19:08:00.000000",
         "2.5um/dl": 1.5,
         "_deepnote_index_column": 366882
        },
        {
         "created_at": "2021-11-30T19:10:00.000000",
         "2.5um/dl": 1.26,
         "_deepnote_index_column": 366883
        },
        {
         "created_at": "2021-11-30T19:12:00.000000",
         "2.5um/dl": 2.62,
         "_deepnote_index_column": 366884
        },
        {
         "created_at": "2021-11-30T19:14:00.000000",
         "2.5um/dl": 2.41,
         "_deepnote_index_column": 366885
        },
        {
         "created_at": "2021-11-30T19:16:00.000000",
         "2.5um/dl": 2.18,
         "_deepnote_index_column": 366886
        },
        {
         "created_at": "2021-11-30T19:18:00.000000",
         "2.5um/dl": 1.61,
         "_deepnote_index_column": 366887
        },
        {
         "created_at": "2021-11-30T19:20:00.000000",
         "2.5um/dl": 2.18,
         "_deepnote_index_column": 366888
        },
        {
         "created_at": "2021-11-30T19:22:00.000000",
         "2.5um/dl": 1.63,
         "_deepnote_index_column": 366889
        },
        {
         "created_at": "2021-11-30T19:24:00.000000",
         "2.5um/dl": 2.53,
         "_deepnote_index_column": 366890
        },
        {
         "created_at": "2021-11-30T19:26:00.000000",
         "2.5um/dl": 2.77,
         "_deepnote_index_column": 366891
        },
        {
         "created_at": "2021-11-30T19:28:00.000000",
         "2.5um/dl": 4.81,
         "_deepnote_index_column": 366892
        },
        {
         "created_at": "2021-11-30T19:30:00.000000",
         "2.5um/dl": 3.79,
         "_deepnote_index_column": 366893
        },
        {
         "created_at": "2021-11-30T19:32:00.000000",
         "2.5um/dl": 1.95,
         "_deepnote_index_column": 366894
        },
        {
         "created_at": "2021-11-30T19:34:00.000000",
         "2.5um/dl": 2.71,
         "_deepnote_index_column": 366895
        },
        {
         "created_at": "2021-11-30T19:36:00.000000",
         "2.5um/dl": 6,
         "_deepnote_index_column": 366896
        },
        {
         "created_at": "2021-11-30T19:38:00.000000",
         "2.5um/dl": 3.16,
         "_deepnote_index_column": 366897
        },
        {
         "created_at": "2021-11-30T19:40:00.000000",
         "2.5um/dl": 1.03,
         "_deepnote_index_column": 366898
        },
        {
         "created_at": "2021-11-30T19:42:00.000000",
         "2.5um/dl": 2.66,
         "_deepnote_index_column": 366899
        },
        {
         "created_at": "2021-11-30T19:44:00.000000",
         "2.5um/dl": 1.79,
         "_deepnote_index_column": 366900
        },
        {
         "created_at": "2021-11-30T19:46:00.000000",
         "2.5um/dl": 2.84,
         "_deepnote_index_column": 366901
        },
        {
         "created_at": "2021-11-30T19:48:00.000000",
         "2.5um/dl": 3.07,
         "_deepnote_index_column": 366902
        },
        {
         "created_at": "2021-11-30T19:50:00.000000",
         "2.5um/dl": 3.16,
         "_deepnote_index_column": 366903
        },
        {
         "created_at": "2021-11-30T19:52:00.000000",
         "2.5um/dl": 3.26,
         "_deepnote_index_column": 366904
        },
        {
         "created_at": "2021-11-30T19:54:00.000000",
         "2.5um/dl": 6.39,
         "_deepnote_index_column": 366905
        },
        {
         "created_at": "2021-11-30T19:56:00.000000",
         "2.5um/dl": 2.22,
         "_deepnote_index_column": 366906
        },
        {
         "created_at": "2021-11-30T19:58:00.000000",
         "2.5um/dl": 1.95,
         "_deepnote_index_column": 366907
        },
        {
         "created_at": "2021-11-30T20:00:00.000000",
         "2.5um/dl": 2.39,
         "_deepnote_index_column": 366908
        },
        {
         "created_at": "2021-11-30T20:02:00.000000",
         "2.5um/dl": 2.19,
         "_deepnote_index_column": 366909
        },
        {
         "created_at": "2021-11-30T20:04:00.000000",
         "2.5um/dl": 1.35,
         "_deepnote_index_column": 366910
        },
        {
         "created_at": "2021-11-30T20:06:00.000000",
         "2.5um/dl": 2.66,
         "_deepnote_index_column": 366911
        },
        {
         "created_at": "2021-11-30T20:08:00.000000",
         "2.5um/dl": 2.8,
         "_deepnote_index_column": 366912
        },
        {
         "created_at": "2021-11-30T20:10:00.000000",
         "2.5um/dl": 0.84,
         "_deepnote_index_column": 366913
        },
        {
         "created_at": "2021-11-30T20:12:00.000000",
         "2.5um/dl": 2.03,
         "_deepnote_index_column": 366914
        },
        {
         "created_at": "2021-11-30T20:14:00.000000",
         "2.5um/dl": 1.53,
         "_deepnote_index_column": 366915
        },
        {
         "created_at": "2021-11-30T20:16:00.000000",
         "2.5um/dl": 3.46,
         "_deepnote_index_column": 366916
        },
        {
         "created_at": "2021-11-30T20:18:00.000000",
         "2.5um/dl": 1.83,
         "_deepnote_index_column": 366917
        },
        {
         "created_at": "2021-11-30T20:20:00.000000",
         "2.5um/dl": 3.81,
         "_deepnote_index_column": 366918
        },
        {
         "created_at": "2021-11-30T20:22:00.000000",
         "2.5um/dl": 1.66,
         "_deepnote_index_column": 366919
        },
        {
         "created_at": "2021-11-30T20:24:00.000000",
         "2.5um/dl": 1.82,
         "_deepnote_index_column": 366920
        },
        {
         "created_at": "2021-11-30T20:26:00.000000",
         "2.5um/dl": 4.77,
         "_deepnote_index_column": 366921
        },
        {
         "created_at": "2021-11-30T20:28:00.000000",
         "2.5um/dl": 2.45,
         "_deepnote_index_column": 366922
        },
        {
         "created_at": "2021-11-30T20:30:00.000000",
         "2.5um/dl": 2.03,
         "_deepnote_index_column": 366923
        },
        {
         "created_at": "2021-11-30T20:32:00.000000",
         "2.5um/dl": 1.5,
         "_deepnote_index_column": 366924
        },
        {
         "created_at": "2021-11-30T20:34:00.000000",
         "2.5um/dl": 3.68,
         "_deepnote_index_column": 366925
        },
        {
         "created_at": "2021-11-30T20:36:00.000000",
         "2.5um/dl": 2.31,
         "_deepnote_index_column": 366926
        },
        {
         "created_at": "2021-11-30T20:38:00.000000",
         "2.5um/dl": 2.57,
         "_deepnote_index_column": 366927
        },
        {
         "created_at": "2021-11-30T20:40:00.000000",
         "2.5um/dl": 3.6,
         "_deepnote_index_column": 366928
        },
        {
         "created_at": "2021-11-30T20:42:00.000000",
         "2.5um/dl": 5.38,
         "_deepnote_index_column": 366929
        },
        {
         "created_at": "2021-11-30T20:44:00.000000",
         "2.5um/dl": 2.48,
         "_deepnote_index_column": 366930
        },
        {
         "created_at": "2021-11-30T20:46:00.000000",
         "2.5um/dl": 6.13,
         "_deepnote_index_column": 366931
        },
        {
         "created_at": "2021-11-30T20:48:00.000000",
         "2.5um/dl": 8.89,
         "_deepnote_index_column": 366932
        },
        {
         "created_at": "2021-11-30T20:50:00.000000",
         "2.5um/dl": 12.02,
         "_deepnote_index_column": 366933
        },
        {
         "created_at": "2021-11-30T20:52:00.000000",
         "2.5um/dl": 10.18,
         "_deepnote_index_column": 366934
        },
        {
         "created_at": "2021-11-30T20:54:00.000000",
         "2.5um/dl": 13.83,
         "_deepnote_index_column": 366935
        },
        {
         "created_at": "2021-11-30T20:56:00.000000",
         "2.5um/dl": 12.78,
         "_deepnote_index_column": 366936
        },
        {
         "created_at": "2021-11-30T20:58:00.000000",
         "2.5um/dl": 9.51,
         "_deepnote_index_column": 366937
        },
        {
         "created_at": "2021-11-30T21:00:00.000000",
         "2.5um/dl": 12.63,
         "_deepnote_index_column": 366938
        },
        {
         "created_at": "2021-11-30T21:02:00.000000",
         "2.5um/dl": 8.2,
         "_deepnote_index_column": 366939
        },
        {
         "created_at": "2021-11-30T21:04:00.000000",
         "2.5um/dl": 10.24,
         "_deepnote_index_column": 366940
        },
        {
         "created_at": "2021-11-30T21:06:00.000000",
         "2.5um/dl": 10.63,
         "_deepnote_index_column": 366941
        },
        {
         "created_at": "2021-11-30T21:08:00.000000",
         "2.5um/dl": 9.32,
         "_deepnote_index_column": 366942
        },
        {
         "created_at": "2021-11-30T21:10:00.000000",
         "2.5um/dl": 10.98,
         "_deepnote_index_column": 366943
        },
        {
         "created_at": "2021-11-30T21:12:00.000000",
         "2.5um/dl": 10.13,
         "_deepnote_index_column": 366944
        },
        {
         "created_at": "2021-11-30T21:14:00.000000",
         "2.5um/dl": 10.63,
         "_deepnote_index_column": 366945
        },
        {
         "created_at": "2021-11-30T21:16:00.000000",
         "2.5um/dl": 11.94,
         "_deepnote_index_column": 366946
        },
        {
         "created_at": "2021-11-30T21:18:00.000000",
         "2.5um/dl": 10.56,
         "_deepnote_index_column": 366947
        },
        {
         "created_at": "2021-11-30T21:20:00.000000",
         "2.5um/dl": 11.3,
         "_deepnote_index_column": 366948
        },
        {
         "created_at": "2021-11-30T21:22:00.000000",
         "2.5um/dl": 11.25,
         "_deepnote_index_column": 366949
        },
        {
         "created_at": "2021-11-30T21:24:00.000000",
         "2.5um/dl": 12.24,
         "_deepnote_index_column": 366950
        },
        {
         "created_at": "2021-11-30T21:26:00.000000",
         "2.5um/dl": 11.38,
         "_deepnote_index_column": 366951
        },
        {
         "created_at": "2021-11-30T21:28:00.000000",
         "2.5um/dl": 12.54,
         "_deepnote_index_column": 366952
        },
        {
         "created_at": "2021-11-30T21:30:00.000000",
         "2.5um/dl": 12.71,
         "_deepnote_index_column": 366953
        },
        {
         "created_at": "2021-11-30T21:32:00.000000",
         "2.5um/dl": 12.52,
         "_deepnote_index_column": 366954
        },
        {
         "created_at": "2021-11-30T21:34:00.000000",
         "2.5um/dl": 11.05,
         "_deepnote_index_column": 366955
        },
        {
         "created_at": "2021-11-30T21:36:00.000000",
         "2.5um/dl": 4.31,
         "_deepnote_index_column": 366956
        },
        {
         "created_at": "2021-11-30T21:38:00.000000",
         "2.5um/dl": 1.91,
         "_deepnote_index_column": 366957
        },
        {
         "created_at": "2021-11-30T21:40:00.000000",
         "2.5um/dl": 3.05,
         "_deepnote_index_column": 366958
        },
        {
         "created_at": "2021-11-30T21:42:00.000000",
         "2.5um/dl": 1.12,
         "_deepnote_index_column": 366959
        },
        {
         "created_at": "2021-11-30T21:44:00.000000",
         "2.5um/dl": 2.81,
         "_deepnote_index_column": 366960
        },
        {
         "created_at": "2021-11-30T21:46:00.000000",
         "2.5um/dl": 1.57,
         "_deepnote_index_column": 366961
        },
        {
         "created_at": "2021-11-30T21:48:00.000000",
         "2.5um/dl": 1.88,
         "_deepnote_index_column": 366962
        },
        {
         "created_at": "2021-11-30T21:50:00.000000",
         "2.5um/dl": 2.8,
         "_deepnote_index_column": 366963
        },
        {
         "created_at": "2021-11-30T21:52:00.000000",
         "2.5um/dl": 6.21,
         "_deepnote_index_column": 366964
        },
        {
         "created_at": "2021-11-30T21:54:00.000000",
         "2.5um/dl": 2.38,
         "_deepnote_index_column": 366965
        },
        {
         "created_at": "2021-11-30T21:56:00.000000",
         "2.5um/dl": 5.48,
         "_deepnote_index_column": 366966
        },
        {
         "created_at": "2021-11-30T21:58:00.000000",
         "2.5um/dl": 11.93,
         "_deepnote_index_column": 366967
        },
        {
         "created_at": "2021-11-30T22:00:00.000000",
         "2.5um/dl": 11.21,
         "_deepnote_index_column": 366968
        },
        {
         "created_at": "2021-11-30T22:02:00.000000",
         "2.5um/dl": 2.9,
         "_deepnote_index_column": 366969
        },
        {
         "created_at": "2021-11-30T22:04:00.000000",
         "2.5um/dl": 3.35,
         "_deepnote_index_column": 366970
        },
        {
         "created_at": "2021-11-30T22:06:00.000000",
         "2.5um/dl": 0.79,
         "_deepnote_index_column": 366971
        },
        {
         "created_at": "2021-11-30T22:08:00.000000",
         "2.5um/dl": 1.12,
         "_deepnote_index_column": 366972
        },
        {
         "created_at": "2021-11-30T22:10:00.000000",
         "2.5um/dl": 1.61,
         "_deepnote_index_column": 366973
        },
        {
         "created_at": "2021-11-30T22:12:00.000000",
         "2.5um/dl": 1.9,
         "_deepnote_index_column": 366974
        },
        {
         "created_at": "2021-11-30T22:14:00.000000",
         "2.5um/dl": 1.26,
         "_deepnote_index_column": 366975
        },
        {
         "created_at": "2021-11-30T22:16:00.000000",
         "2.5um/dl": 5.47,
         "_deepnote_index_column": 366976
        },
        {
         "created_at": "2021-11-30T22:18:00.000000",
         "2.5um/dl": 1.97,
         "_deepnote_index_column": 366977
        },
        {
         "created_at": "2021-11-30T22:20:00.000000",
         "2.5um/dl": 1.02,
         "_deepnote_index_column": 366978
        },
        {
         "created_at": "2021-11-30T22:22:00.000000",
         "2.5um/dl": 0.93,
         "_deepnote_index_column": 366979
        },
        {
         "created_at": "2021-11-30T22:24:00.000000",
         "2.5um/dl": 1.38,
         "_deepnote_index_column": 366980
        },
        {
         "created_at": "2021-11-30T22:26:00.000000",
         "2.5um/dl": 2.07,
         "_deepnote_index_column": 366981
        },
        {
         "created_at": "2021-11-30T22:28:00.000000",
         "2.5um/dl": 2.02,
         "_deepnote_index_column": 366982
        },
        {
         "created_at": "2021-11-30T22:30:00.000000",
         "2.5um/dl": 1.91,
         "_deepnote_index_column": 366983
        },
        {
         "created_at": "2021-11-30T22:32:00.000000",
         "2.5um/dl": 1.07,
         "_deepnote_index_column": 366984
        },
        {
         "created_at": "2021-11-30T22:34:00.000000",
         "2.5um/dl": 2.14,
         "_deepnote_index_column": 366985
        },
        {
         "created_at": "2021-11-30T22:36:00.000000",
         "2.5um/dl": 2.36,
         "_deepnote_index_column": 366986
        },
        {
         "created_at": "2021-11-30T22:38:00.000000",
         "2.5um/dl": 1.68,
         "_deepnote_index_column": 366987
        },
        {
         "created_at": "2021-11-30T22:40:00.000000",
         "2.5um/dl": 1.49,
         "_deepnote_index_column": 366988
        },
        {
         "created_at": "2021-11-30T22:42:00.000000",
         "2.5um/dl": 0.66,
         "_deepnote_index_column": 366989
        },
        {
         "created_at": "2021-11-30T22:44:00.000000",
         "2.5um/dl": 0.91,
         "_deepnote_index_column": 366990
        },
        {
         "created_at": "2021-11-30T22:46:00.000000",
         "2.5um/dl": 1.48,
         "_deepnote_index_column": 366991
        },
        {
         "created_at": "2021-11-30T22:48:00.000000",
         "2.5um/dl": 0.45,
         "_deepnote_index_column": 366992
        },
        {
         "created_at": "2021-11-30T22:50:00.000000",
         "2.5um/dl": 1.57,
         "_deepnote_index_column": 366993
        },
        {
         "created_at": "2021-11-30T22:52:00.000000",
         "2.5um/dl": 1.66,
         "_deepnote_index_column": 366994
        },
        {
         "created_at": "2021-11-30T22:54:00.000000",
         "2.5um/dl": 0.91,
         "_deepnote_index_column": 366995
        },
        {
         "created_at": "2021-11-30T22:56:00.000000",
         "2.5um/dl": 1.72,
         "_deepnote_index_column": 366996
        },
        {
         "created_at": "2021-11-30T22:58:00.000000",
         "2.5um/dl": 1,
         "_deepnote_index_column": 366997
        },
        {
         "created_at": "2021-11-30T23:00:00.000000",
         "2.5um/dl": 1.16,
         "_deepnote_index_column": 366998
        },
        {
         "created_at": "2021-11-30T23:02:00.000000",
         "2.5um/dl": 1.79,
         "_deepnote_index_column": 366999
        },
        {
         "created_at": "2021-11-30T23:04:00.000000",
         "2.5um/dl": 1.57,
         "_deepnote_index_column": 367000
        },
        {
         "created_at": "2021-11-30T23:06:00.000000",
         "2.5um/dl": 1.2,
         "_deepnote_index_column": 367001
        },
        {
         "created_at": "2021-11-30T23:08:00.000000",
         "2.5um/dl": 0.88,
         "_deepnote_index_column": 367002
        },
        {
         "created_at": "2021-11-30T23:10:00.000000",
         "2.5um/dl": 1.69,
         "_deepnote_index_column": 367003
        },
        {
         "created_at": "2021-11-30T23:12:00.000000",
         "2.5um/dl": 2.05,
         "_deepnote_index_column": 367004
        },
        {
         "created_at": "2021-11-30T23:14:00.000000",
         "2.5um/dl": 1.53,
         "_deepnote_index_column": 367005
        },
        {
         "created_at": "2021-11-30T23:16:00.000000",
         "2.5um/dl": 3.05,
         "_deepnote_index_column": 367006
        },
        {
         "created_at": "2021-11-30T23:18:00.000000",
         "2.5um/dl": 1.72,
         "_deepnote_index_column": 367007
        },
        {
         "created_at": "2021-11-30T23:20:00.000000",
         "2.5um/dl": 2.19,
         "_deepnote_index_column": 367008
        },
        {
         "created_at": "2021-11-30T23:22:00.000000",
         "2.5um/dl": 2.25,
         "_deepnote_index_column": 367009
        },
        {
         "created_at": "2021-11-30T23:24:00.000000",
         "2.5um/dl": 2.59,
         "_deepnote_index_column": 367010
        },
        {
         "created_at": "2021-11-30T23:26:00.000000",
         "2.5um/dl": 2.09,
         "_deepnote_index_column": 367011
        },
        {
         "created_at": "2021-11-30T23:28:00.000000",
         "2.5um/dl": 1.02,
         "_deepnote_index_column": 367012
        },
        {
         "created_at": "2021-11-30T23:30:00.000000",
         "2.5um/dl": 2.34,
         "_deepnote_index_column": 367013
        },
        {
         "created_at": "2021-11-30T23:32:00.000000",
         "2.5um/dl": 1.83,
         "_deepnote_index_column": 367014
        },
        {
         "created_at": "2021-11-30T23:34:00.000000",
         "2.5um/dl": 1.78,
         "_deepnote_index_column": 367015
        },
        {
         "created_at": "2021-11-30T23:36:00.000000",
         "2.5um/dl": 0.88,
         "_deepnote_index_column": 367016
        },
        {
         "created_at": "2021-11-30T23:38:00.000000",
         "2.5um/dl": 1.52,
         "_deepnote_index_column": 367017
        },
        {
         "created_at": "2021-11-30T23:40:00.000000",
         "2.5um/dl": 1.76,
         "_deepnote_index_column": 367018
        },
        {
         "created_at": "2021-11-30T23:42:00.000000",
         "2.5um/dl": 2.16,
         "_deepnote_index_column": 367019
        },
        {
         "created_at": "2021-11-30T23:44:00.000000",
         "2.5um/dl": 1.23,
         "_deepnote_index_column": 367020
        },
        {
         "created_at": "2021-11-30T23:46:00.000000",
         "2.5um/dl": 1.41,
         "_deepnote_index_column": 367021
        },
        {
         "created_at": "2021-11-30T23:48:00.000000",
         "2.5um/dl": 3.16,
         "_deepnote_index_column": 367022
        },
        {
         "created_at": "2021-11-30T23:50:00.000000",
         "2.5um/dl": 2.45,
         "_deepnote_index_column": 367023
        },
        {
         "created_at": "2021-11-30T23:52:00.000000",
         "2.5um/dl": 1.52,
         "_deepnote_index_column": 367024
        },
        {
         "created_at": "2021-11-30T23:54:00.000000",
         "2.5um/dl": 1.14,
         "_deepnote_index_column": 367025
        },
        {
         "created_at": "2021-11-30T23:56:00.000000",
         "2.5um/dl": 2.68,
         "_deepnote_index_column": 367026
        },
        {
         "created_at": "2021-11-30T23:58:00.000000",
         "2.5um/dl": 1.71,
         "_deepnote_index_column": 367027
        }
       ]
      },
      "text/plain": "                        created_at  2.5um/dl\nentry_id                                    \n362673   2021-11-24 22:41:00+00:00      5.27\n362674   2021-11-24 22:43:00+00:00      2.31\n362675   2021-11-24 22:45:00+00:00      6.05\n362676   2021-11-24 22:47:00+00:00      3.78\n362677   2021-11-24 22:49:00+00:00      3.69\n...                            ...       ...\n367023   2021-11-30 23:50:00+00:00      2.45\n367024   2021-11-30 23:52:00+00:00      1.52\n367025   2021-11-30 23:54:00+00:00      1.14\n367026   2021-11-30 23:56:00+00:00      2.68\n367027   2021-11-30 23:58:00+00:00      1.71\n\n[4355 rows x 2 columns]",
      "text/html": "<div>\n<style scoped>\n    .dataframe tbody tr th:only-of-type {\n        vertical-align: middle;\n    }\n\n    .dataframe tbody tr th {\n        vertical-align: top;\n    }\n\n    .dataframe thead th {\n        text-align: right;\n    }\n</style>\n<table border=\"1\" class=\"dataframe\">\n  <thead>\n    <tr style=\"text-align: right;\">\n      <th></th>\n      <th>created_at</th>\n      <th>2.5um/dl</th>\n    </tr>\n    <tr>\n      <th>entry_id</th>\n      <th></th>\n      <th></th>\n    </tr>\n  </thead>\n  <tbody>\n    <tr>\n      <th>362673</th>\n      <td>2021-11-24 22:41:00+00:00</td>\n      <td>5.27</td>\n    </tr>\n    <tr>\n      <th>362674</th>\n      <td>2021-11-24 22:43:00+00:00</td>\n      <td>2.31</td>\n    </tr>\n    <tr>\n      <th>362675</th>\n      <td>2021-11-24 22:45:00+00:00</td>\n      <td>6.05</td>\n    </tr>\n    <tr>\n      <th>362676</th>\n      <td>2021-11-24 22:47:00+00:00</td>\n      <td>3.78</td>\n    </tr>\n    <tr>\n      <th>362677</th>\n      <td>2021-11-24 22:49:00+00:00</td>\n      <td>3.69</td>\n    </tr>\n    <tr>\n      <th>...</th>\n      <td>...</td>\n      <td>...</td>\n    </tr>\n    <tr>\n      <th>367023</th>\n      <td>2021-11-30 23:50:00+00:00</td>\n      <td>2.45</td>\n    </tr>\n    <tr>\n      <th>367024</th>\n      <td>2021-11-30 23:52:00+00:00</td>\n      <td>1.52</td>\n    </tr>\n    <tr>\n      <th>367025</th>\n      <td>2021-11-30 23:54:00+00:00</td>\n      <td>1.14</td>\n    </tr>\n    <tr>\n      <th>367026</th>\n      <td>2021-11-30 23:56:00+00:00</td>\n      <td>2.68</td>\n    </tr>\n    <tr>\n      <th>367027</th>\n      <td>2021-11-30 23:58:00+00:00</td>\n      <td>1.71</td>\n    </tr>\n  </tbody>\n</table>\n<p>4355 rows × 2 columns</p>\n</div>"
     },
     "metadata": {}
    }
   ],
   "execution_count": 59
  },
  {
   "cell_type": "code",
   "source": "se = Sensor(99769)\nsensor_data = se.parent.get_historical(weeks_to_get=1,\n                              thingspeak_field='secondary')[['created_at', '2.5um/dl']]\nsensor_data['created_at'] = sensor_data['created_at'].dt.floor('T')\nsensor_data",
   "metadata": {
    "tags": [],
    "cell_id": "00010-2f36c4c9-6d7b-4ae0-b489-1d1407de196a",
    "deepnote_to_be_reexecuted": false,
    "source_hash": "7f62d669",
    "execution_start": 1638336811974,
    "execution_millis": 1218,
    "deepnote_cell_type": "code"
   },
   "outputs": [
    {
     "output_type": "execute_result",
     "execution_count": 60,
     "data": {
      "application/vnd.deepnote.dataframe.v2+json": {
       "row_count": 5023,
       "column_count": 2,
       "columns": [
        {
         "name": "created_at",
         "dtype": "datetime64[ns, UTC]",
         "stats": {
          "unique_count": 5023,
          "nan_count": 0,
          "min": "2021-11-24 00:01:00+00:00",
          "max": "2021-11-30 23:58:00+00:00",
          "histogram": [
           {
            "bin_start": 1637712060000000000,
            "bin_end": 1637772522000000000,
            "count": 499
           },
           {
            "bin_start": 1637772522000000000,
            "bin_end": 1637832984000000000,
            "count": 500
           },
           {
            "bin_start": 1637832984000000000,
            "bin_end": 1637893446000000000,
            "count": 502
           },
           {
            "bin_start": 1637893446000000000,
            "bin_end": 1637953908000000000,
            "count": 503
           },
           {
            "bin_start": 1637953908000000000,
            "bin_end": 1638014370000000000,
            "count": 503
           },
           {
            "bin_start": 1638014370000000000,
            "bin_end": 1638074832000000000,
            "count": 503
           },
           {
            "bin_start": 1638074832000000000,
            "bin_end": 1638135294000000000,
            "count": 504
           },
           {
            "bin_start": 1638135294000000000,
            "bin_end": 1638195756000000000,
            "count": 504
           },
           {
            "bin_start": 1638195756000000000,
            "bin_end": 1638256218000000000,
            "count": 501
           },
           {
            "bin_start": 1638256218000000000,
            "bin_end": 1638316680000000000,
            "count": 504
           }
          ]
         }
        },
        {
         "name": "2.5um/dl",
         "dtype": "float64",
         "stats": {
          "unique_count": 2258,
          "nan_count": 0,
          "min": "0.0",
          "max": "67.51",
          "histogram": [
           {
            "bin_start": 0,
            "bin_end": 6.751,
            "count": 2126
           },
           {
            "bin_start": 6.751,
            "bin_end": 13.502,
            "count": 1129
           },
           {
            "bin_start": 13.502,
            "bin_end": 20.253,
            "count": 592
           },
           {
            "bin_start": 20.253,
            "bin_end": 27.004,
            "count": 484
           },
           {
            "bin_start": 27.004,
            "bin_end": 33.755,
            "count": 384
           },
           {
            "bin_start": 33.755,
            "bin_end": 40.506,
            "count": 188
           },
           {
            "bin_start": 40.506,
            "bin_end": 47.257000000000005,
            "count": 82
           },
           {
            "bin_start": 47.257000000000005,
            "bin_end": 54.008,
            "count": 27
           },
           {
            "bin_start": 54.008,
            "bin_end": 60.759,
            "count": 9
           },
           {
            "bin_start": 60.759,
            "bin_end": 67.51,
            "count": 2
           }
          ]
         }
        },
        {
         "name": "_deepnote_index_column",
         "dtype": "int64"
        }
       ],
       "rows_top": [
        {
         "created_at": "2021-11-24T00:01:00.000000",
         "2.5um/dl": 9.32,
         "_deepnote_index_column": 53230
        },
        {
         "created_at": "2021-11-24T00:03:00.000000",
         "2.5um/dl": 6.5,
         "_deepnote_index_column": 53231
        },
        {
         "created_at": "2021-11-24T00:05:00.000000",
         "2.5um/dl": 9.53,
         "_deepnote_index_column": 53232
        },
        {
         "created_at": "2021-11-24T00:07:00.000000",
         "2.5um/dl": 4.11,
         "_deepnote_index_column": 53233
        },
        {
         "created_at": "2021-11-24T00:09:00.000000",
         "2.5um/dl": 5.68,
         "_deepnote_index_column": 53234
        },
        {
         "created_at": "2021-11-24T00:11:00.000000",
         "2.5um/dl": 9.68,
         "_deepnote_index_column": 53235
        },
        {
         "created_at": "2021-11-24T00:13:00.000000",
         "2.5um/dl": 4.95,
         "_deepnote_index_column": 53236
        },
        {
         "created_at": "2021-11-24T00:15:00.000000",
         "2.5um/dl": 6.1,
         "_deepnote_index_column": 53237
        },
        {
         "created_at": "2021-11-24T00:17:00.000000",
         "2.5um/dl": 8.74,
         "_deepnote_index_column": 53238
        },
        {
         "created_at": "2021-11-24T00:19:00.000000",
         "2.5um/dl": 5.09,
         "_deepnote_index_column": 53239
        },
        {
         "created_at": "2021-11-24T00:21:00.000000",
         "2.5um/dl": 6.69,
         "_deepnote_index_column": 53240
        },
        {
         "created_at": "2021-11-24T00:23:00.000000",
         "2.5um/dl": 3.97,
         "_deepnote_index_column": 53241
        },
        {
         "created_at": "2021-11-24T00:25:00.000000",
         "2.5um/dl": 7.38,
         "_deepnote_index_column": 53242
        },
        {
         "created_at": "2021-11-24T00:27:00.000000",
         "2.5um/dl": 6.43,
         "_deepnote_index_column": 53243
        },
        {
         "created_at": "2021-11-24T00:29:00.000000",
         "2.5um/dl": 7.24,
         "_deepnote_index_column": 53244
        },
        {
         "created_at": "2021-11-24T00:31:00.000000",
         "2.5um/dl": 4.72,
         "_deepnote_index_column": 53245
        },
        {
         "created_at": "2021-11-24T00:33:00.000000",
         "2.5um/dl": 4.03,
         "_deepnote_index_column": 53246
        },
        {
         "created_at": "2021-11-24T00:35:00.000000",
         "2.5um/dl": 4.89,
         "_deepnote_index_column": 53247
        },
        {
         "created_at": "2021-11-24T00:37:00.000000",
         "2.5um/dl": 4.66,
         "_deepnote_index_column": 53248
        },
        {
         "created_at": "2021-11-24T00:39:00.000000",
         "2.5um/dl": 4.14,
         "_deepnote_index_column": 53249
        },
        {
         "created_at": "2021-11-24T00:41:00.000000",
         "2.5um/dl": 7.38,
         "_deepnote_index_column": 53250
        },
        {
         "created_at": "2021-11-24T00:43:00.000000",
         "2.5um/dl": 3.82,
         "_deepnote_index_column": 53251
        },
        {
         "created_at": "2021-11-24T00:45:00.000000",
         "2.5um/dl": 6.04,
         "_deepnote_index_column": 53252
        },
        {
         "created_at": "2021-11-24T00:47:00.000000",
         "2.5um/dl": 5.9,
         "_deepnote_index_column": 53253
        },
        {
         "created_at": "2021-11-24T00:49:00.000000",
         "2.5um/dl": 10.17,
         "_deepnote_index_column": 53254
        },
        {
         "created_at": "2021-11-24T00:51:00.000000",
         "2.5um/dl": 4.48,
         "_deepnote_index_column": 53255
        },
        {
         "created_at": "2021-11-24T00:53:00.000000",
         "2.5um/dl": 7.78,
         "_deepnote_index_column": 53256
        },
        {
         "created_at": "2021-11-24T00:55:00.000000",
         "2.5um/dl": 4.83,
         "_deepnote_index_column": 53257
        },
        {
         "created_at": "2021-11-24T00:57:00.000000",
         "2.5um/dl": 5.93,
         "_deepnote_index_column": 53258
        },
        {
         "created_at": "2021-11-24T00:59:00.000000",
         "2.5um/dl": 7.93,
         "_deepnote_index_column": 53259
        },
        {
         "created_at": "2021-11-24T01:01:00.000000",
         "2.5um/dl": 7.27,
         "_deepnote_index_column": 53260
        },
        {
         "created_at": "2021-11-24T01:03:00.000000",
         "2.5um/dl": 7.97,
         "_deepnote_index_column": 53261
        },
        {
         "created_at": "2021-11-24T01:05:00.000000",
         "2.5um/dl": 8.55,
         "_deepnote_index_column": 53262
        },
        {
         "created_at": "2021-11-24T01:07:00.000000",
         "2.5um/dl": 8.64,
         "_deepnote_index_column": 53263
        },
        {
         "created_at": "2021-11-24T01:09:00.000000",
         "2.5um/dl": 6.2,
         "_deepnote_index_column": 53264
        },
        {
         "created_at": "2021-11-24T01:11:00.000000",
         "2.5um/dl": 7.9,
         "_deepnote_index_column": 53265
        },
        {
         "created_at": "2021-11-24T01:13:00.000000",
         "2.5um/dl": 9.61,
         "_deepnote_index_column": 53266
        },
        {
         "created_at": "2021-11-24T01:15:00.000000",
         "2.5um/dl": 6.8,
         "_deepnote_index_column": 53267
        },
        {
         "created_at": "2021-11-24T01:17:00.000000",
         "2.5um/dl": 13.72,
         "_deepnote_index_column": 53268
        },
        {
         "created_at": "2021-11-24T01:19:00.000000",
         "2.5um/dl": 8.73,
         "_deepnote_index_column": 53269
        },
        {
         "created_at": "2021-11-24T01:21:00.000000",
         "2.5um/dl": 8.66,
         "_deepnote_index_column": 53270
        },
        {
         "created_at": "2021-11-24T01:23:00.000000",
         "2.5um/dl": 10.22,
         "_deepnote_index_column": 53271
        },
        {
         "created_at": "2021-11-24T01:25:00.000000",
         "2.5um/dl": 8.78,
         "_deepnote_index_column": 53272
        },
        {
         "created_at": "2021-11-24T01:27:00.000000",
         "2.5um/dl": 21.14,
         "_deepnote_index_column": 53273
        },
        {
         "created_at": "2021-11-24T01:29:00.000000",
         "2.5um/dl": 10.24,
         "_deepnote_index_column": 53274
        },
        {
         "created_at": "2021-11-24T01:31:00.000000",
         "2.5um/dl": 7.71,
         "_deepnote_index_column": 53275
        },
        {
         "created_at": "2021-11-24T01:33:00.000000",
         "2.5um/dl": 6.82,
         "_deepnote_index_column": 53276
        },
        {
         "created_at": "2021-11-24T01:35:00.000000",
         "2.5um/dl": 8.6,
         "_deepnote_index_column": 53277
        },
        {
         "created_at": "2021-11-24T01:37:00.000000",
         "2.5um/dl": 6.55,
         "_deepnote_index_column": 53278
        },
        {
         "created_at": "2021-11-24T01:39:00.000000",
         "2.5um/dl": 6.28,
         "_deepnote_index_column": 53279
        },
        {
         "created_at": "2021-11-24T01:41:00.000000",
         "2.5um/dl": 6.61,
         "_deepnote_index_column": 53280
        },
        {
         "created_at": "2021-11-24T01:43:00.000000",
         "2.5um/dl": 14.38,
         "_deepnote_index_column": 53281
        },
        {
         "created_at": "2021-11-24T01:45:00.000000",
         "2.5um/dl": 5.83,
         "_deepnote_index_column": 53282
        },
        {
         "created_at": "2021-11-24T01:47:00.000000",
         "2.5um/dl": 12.61,
         "_deepnote_index_column": 53283
        },
        {
         "created_at": "2021-11-24T01:49:00.000000",
         "2.5um/dl": 6.86,
         "_deepnote_index_column": 53284
        },
        {
         "created_at": "2021-11-24T01:51:00.000000",
         "2.5um/dl": 11.48,
         "_deepnote_index_column": 53285
        },
        {
         "created_at": "2021-11-24T01:53:00.000000",
         "2.5um/dl": 12.54,
         "_deepnote_index_column": 53286
        },
        {
         "created_at": "2021-11-24T01:55:00.000000",
         "2.5um/dl": 17.93,
         "_deepnote_index_column": 53287
        },
        {
         "created_at": "2021-11-24T01:57:00.000000",
         "2.5um/dl": 17.7,
         "_deepnote_index_column": 53288
        },
        {
         "created_at": "2021-11-24T01:59:00.000000",
         "2.5um/dl": 9.9,
         "_deepnote_index_column": 53289
        },
        {
         "created_at": "2021-11-24T02:01:00.000000",
         "2.5um/dl": 12.96,
         "_deepnote_index_column": 53290
        },
        {
         "created_at": "2021-11-24T02:03:00.000000",
         "2.5um/dl": 8.79,
         "_deepnote_index_column": 53291
        },
        {
         "created_at": "2021-11-24T02:05:00.000000",
         "2.5um/dl": 15.83,
         "_deepnote_index_column": 53292
        },
        {
         "created_at": "2021-11-24T02:07:00.000000",
         "2.5um/dl": 16.74,
         "_deepnote_index_column": 53293
        },
        {
         "created_at": "2021-11-24T02:09:00.000000",
         "2.5um/dl": 15.09,
         "_deepnote_index_column": 53294
        },
        {
         "created_at": "2021-11-24T02:11:00.000000",
         "2.5um/dl": 13.71,
         "_deepnote_index_column": 53295
        },
        {
         "created_at": "2021-11-24T02:13:00.000000",
         "2.5um/dl": 5.45,
         "_deepnote_index_column": 53296
        },
        {
         "created_at": "2021-11-24T02:15:00.000000",
         "2.5um/dl": 11.59,
         "_deepnote_index_column": 53297
        },
        {
         "created_at": "2021-11-24T02:17:00.000000",
         "2.5um/dl": 9.62,
         "_deepnote_index_column": 53298
        },
        {
         "created_at": "2021-11-24T02:19:00.000000",
         "2.5um/dl": 7.5,
         "_deepnote_index_column": 53299
        },
        {
         "created_at": "2021-11-24T02:21:00.000000",
         "2.5um/dl": 6.92,
         "_deepnote_index_column": 53300
        },
        {
         "created_at": "2021-11-24T02:23:00.000000",
         "2.5um/dl": 7.02,
         "_deepnote_index_column": 53301
        },
        {
         "created_at": "2021-11-24T02:25:00.000000",
         "2.5um/dl": 9.29,
         "_deepnote_index_column": 53302
        },
        {
         "created_at": "2021-11-24T02:27:00.000000",
         "2.5um/dl": 5.39,
         "_deepnote_index_column": 53303
        },
        {
         "created_at": "2021-11-24T02:29:00.000000",
         "2.5um/dl": 5.66,
         "_deepnote_index_column": 53304
        },
        {
         "created_at": "2021-11-24T02:31:00.000000",
         "2.5um/dl": 6.49,
         "_deepnote_index_column": 53305
        },
        {
         "created_at": "2021-11-24T02:33:00.000000",
         "2.5um/dl": 6.03,
         "_deepnote_index_column": 53306
        },
        {
         "created_at": "2021-11-24T02:35:00.000000",
         "2.5um/dl": 9.71,
         "_deepnote_index_column": 53307
        },
        {
         "created_at": "2021-11-24T02:37:00.000000",
         "2.5um/dl": 9.38,
         "_deepnote_index_column": 53308
        },
        {
         "created_at": "2021-11-24T02:39:00.000000",
         "2.5um/dl": 7.86,
         "_deepnote_index_column": 53309
        },
        {
         "created_at": "2021-11-24T02:41:00.000000",
         "2.5um/dl": 12.78,
         "_deepnote_index_column": 53310
        },
        {
         "created_at": "2021-11-24T02:43:00.000000",
         "2.5um/dl": 4.86,
         "_deepnote_index_column": 53311
        },
        {
         "created_at": "2021-11-24T02:45:00.000000",
         "2.5um/dl": 12.36,
         "_deepnote_index_column": 53312
        },
        {
         "created_at": "2021-11-24T02:47:00.000000",
         "2.5um/dl": 11.67,
         "_deepnote_index_column": 53313
        },
        {
         "created_at": "2021-11-24T02:49:00.000000",
         "2.5um/dl": 13.58,
         "_deepnote_index_column": 53314
        },
        {
         "created_at": "2021-11-24T02:51:00.000000",
         "2.5um/dl": 11.21,
         "_deepnote_index_column": 53315
        },
        {
         "created_at": "2021-11-24T02:53:00.000000",
         "2.5um/dl": 12.8,
         "_deepnote_index_column": 53316
        },
        {
         "created_at": "2021-11-24T02:57:00.000000",
         "2.5um/dl": 15.48,
         "_deepnote_index_column": 53317
        },
        {
         "created_at": "2021-11-24T02:59:00.000000",
         "2.5um/dl": 9.5,
         "_deepnote_index_column": 53318
        },
        {
         "created_at": "2021-11-24T03:01:00.000000",
         "2.5um/dl": 5.53,
         "_deepnote_index_column": 53319
        },
        {
         "created_at": "2021-11-24T03:03:00.000000",
         "2.5um/dl": 9.9,
         "_deepnote_index_column": 53320
        },
        {
         "created_at": "2021-11-24T03:05:00.000000",
         "2.5um/dl": 7.93,
         "_deepnote_index_column": 53321
        },
        {
         "created_at": "2021-11-24T03:07:00.000000",
         "2.5um/dl": 13.16,
         "_deepnote_index_column": 53322
        },
        {
         "created_at": "2021-11-24T03:09:00.000000",
         "2.5um/dl": 13.45,
         "_deepnote_index_column": 53323
        },
        {
         "created_at": "2021-11-24T03:11:00.000000",
         "2.5um/dl": 5.12,
         "_deepnote_index_column": 53324
        },
        {
         "created_at": "2021-11-24T03:13:00.000000",
         "2.5um/dl": 5.29,
         "_deepnote_index_column": 53325
        },
        {
         "created_at": "2021-11-24T03:15:00.000000",
         "2.5um/dl": 4.61,
         "_deepnote_index_column": 53326
        },
        {
         "created_at": "2021-11-24T03:17:00.000000",
         "2.5um/dl": 8.78,
         "_deepnote_index_column": 53327
        },
        {
         "created_at": "2021-11-24T03:19:00.000000",
         "2.5um/dl": 5.83,
         "_deepnote_index_column": 53328
        },
        {
         "created_at": "2021-11-24T03:21:00.000000",
         "2.5um/dl": 11.29,
         "_deepnote_index_column": 53329
        },
        {
         "created_at": "2021-11-24T03:23:00.000000",
         "2.5um/dl": 7.75,
         "_deepnote_index_column": 53330
        },
        {
         "created_at": "2021-11-24T03:25:00.000000",
         "2.5um/dl": 5.76,
         "_deepnote_index_column": 53331
        },
        {
         "created_at": "2021-11-24T03:27:00.000000",
         "2.5um/dl": 4.14,
         "_deepnote_index_column": 53332
        },
        {
         "created_at": "2021-11-24T03:29:00.000000",
         "2.5um/dl": 9.03,
         "_deepnote_index_column": 53333
        },
        {
         "created_at": "2021-11-24T03:31:00.000000",
         "2.5um/dl": 4.35,
         "_deepnote_index_column": 53334
        },
        {
         "created_at": "2021-11-24T03:33:00.000000",
         "2.5um/dl": 5.58,
         "_deepnote_index_column": 53335
        },
        {
         "created_at": "2021-11-24T03:35:00.000000",
         "2.5um/dl": 7.21,
         "_deepnote_index_column": 53336
        },
        {
         "created_at": "2021-11-24T03:37:00.000000",
         "2.5um/dl": 4.07,
         "_deepnote_index_column": 53337
        },
        {
         "created_at": "2021-11-24T03:39:00.000000",
         "2.5um/dl": 3.29,
         "_deepnote_index_column": 53338
        },
        {
         "created_at": "2021-11-24T03:41:00.000000",
         "2.5um/dl": 0.86,
         "_deepnote_index_column": 53339
        },
        {
         "created_at": "2021-11-24T03:43:00.000000",
         "2.5um/dl": 4.52,
         "_deepnote_index_column": 53340
        },
        {
         "created_at": "2021-11-24T03:45:00.000000",
         "2.5um/dl": 2.37,
         "_deepnote_index_column": 53341
        },
        {
         "created_at": "2021-11-24T03:47:00.000000",
         "2.5um/dl": 3.04,
         "_deepnote_index_column": 53342
        },
        {
         "created_at": "2021-11-24T03:49:00.000000",
         "2.5um/dl": 6.86,
         "_deepnote_index_column": 53343
        },
        {
         "created_at": "2021-11-24T03:51:00.000000",
         "2.5um/dl": 10.86,
         "_deepnote_index_column": 53344
        },
        {
         "created_at": "2021-11-24T03:53:00.000000",
         "2.5um/dl": 2.92,
         "_deepnote_index_column": 53345
        },
        {
         "created_at": "2021-11-24T03:55:00.000000",
         "2.5um/dl": 4.87,
         "_deepnote_index_column": 53346
        },
        {
         "created_at": "2021-11-24T03:57:00.000000",
         "2.5um/dl": 2.14,
         "_deepnote_index_column": 53347
        },
        {
         "created_at": "2021-11-24T03:59:00.000000",
         "2.5um/dl": 3.66,
         "_deepnote_index_column": 53348
        },
        {
         "created_at": "2021-11-24T04:01:00.000000",
         "2.5um/dl": 2.45,
         "_deepnote_index_column": 53349
        },
        {
         "created_at": "2021-11-24T04:03:00.000000",
         "2.5um/dl": 2.14,
         "_deepnote_index_column": 53350
        },
        {
         "created_at": "2021-11-24T04:05:00.000000",
         "2.5um/dl": 3.08,
         "_deepnote_index_column": 53351
        },
        {
         "created_at": "2021-11-24T04:07:00.000000",
         "2.5um/dl": 4.45,
         "_deepnote_index_column": 53352
        },
        {
         "created_at": "2021-11-24T04:09:00.000000",
         "2.5um/dl": 3.3,
         "_deepnote_index_column": 53353
        },
        {
         "created_at": "2021-11-24T04:11:00.000000",
         "2.5um/dl": 4.14,
         "_deepnote_index_column": 53354
        },
        {
         "created_at": "2021-11-24T04:13:00.000000",
         "2.5um/dl": 3.05,
         "_deepnote_index_column": 53355
        },
        {
         "created_at": "2021-11-24T04:15:00.000000",
         "2.5um/dl": 8,
         "_deepnote_index_column": 53356
        },
        {
         "created_at": "2021-11-24T04:17:00.000000",
         "2.5um/dl": 3.53,
         "_deepnote_index_column": 53357
        },
        {
         "created_at": "2021-11-24T04:19:00.000000",
         "2.5um/dl": 7.14,
         "_deepnote_index_column": 53358
        },
        {
         "created_at": "2021-11-24T04:23:00.000000",
         "2.5um/dl": 3.47,
         "_deepnote_index_column": 53359
        },
        {
         "created_at": "2021-11-24T04:25:00.000000",
         "2.5um/dl": 5.64,
         "_deepnote_index_column": 53360
        },
        {
         "created_at": "2021-11-24T04:27:00.000000",
         "2.5um/dl": 4.43,
         "_deepnote_index_column": 53361
        },
        {
         "created_at": "2021-11-24T04:31:00.000000",
         "2.5um/dl": 7.53,
         "_deepnote_index_column": 53362
        },
        {
         "created_at": "2021-11-24T04:33:00.000000",
         "2.5um/dl": 8.14,
         "_deepnote_index_column": 53363
        },
        {
         "created_at": "2021-11-24T04:35:00.000000",
         "2.5um/dl": 6.32,
         "_deepnote_index_column": 53364
        },
        {
         "created_at": "2021-11-24T04:37:00.000000",
         "2.5um/dl": 5.59,
         "_deepnote_index_column": 53365
        },
        {
         "created_at": "2021-11-24T04:39:00.000000",
         "2.5um/dl": 6.1,
         "_deepnote_index_column": 53366
        },
        {
         "created_at": "2021-11-24T04:43:00.000000",
         "2.5um/dl": 2.84,
         "_deepnote_index_column": 53367
        },
        {
         "created_at": "2021-11-24T04:45:00.000000",
         "2.5um/dl": 4.38,
         "_deepnote_index_column": 53368
        },
        {
         "created_at": "2021-11-24T04:47:00.000000",
         "2.5um/dl": 4.86,
         "_deepnote_index_column": 53369
        },
        {
         "created_at": "2021-11-24T04:49:00.000000",
         "2.5um/dl": 4.51,
         "_deepnote_index_column": 53370
        },
        {
         "created_at": "2021-11-24T04:51:00.000000",
         "2.5um/dl": 0.77,
         "_deepnote_index_column": 53371
        },
        {
         "created_at": "2021-11-24T04:53:00.000000",
         "2.5um/dl": 5.02,
         "_deepnote_index_column": 53372
        },
        {
         "created_at": "2021-11-24T04:55:00.000000",
         "2.5um/dl": 5.59,
         "_deepnote_index_column": 53373
        },
        {
         "created_at": "2021-11-24T04:57:00.000000",
         "2.5um/dl": 3.07,
         "_deepnote_index_column": 53374
        },
        {
         "created_at": "2021-11-24T04:59:00.000000",
         "2.5um/dl": 1.57,
         "_deepnote_index_column": 53375
        },
        {
         "created_at": "2021-11-24T05:01:00.000000",
         "2.5um/dl": 6.32,
         "_deepnote_index_column": 53376
        },
        {
         "created_at": "2021-11-24T05:03:00.000000",
         "2.5um/dl": 3.21,
         "_deepnote_index_column": 53377
        },
        {
         "created_at": "2021-11-24T05:05:00.000000",
         "2.5um/dl": 6.11,
         "_deepnote_index_column": 53378
        },
        {
         "created_at": "2021-11-24T05:07:00.000000",
         "2.5um/dl": 3.75,
         "_deepnote_index_column": 53379
        },
        {
         "created_at": "2021-11-24T05:09:00.000000",
         "2.5um/dl": 4.14,
         "_deepnote_index_column": 53380
        },
        {
         "created_at": "2021-11-24T05:11:00.000000",
         "2.5um/dl": 3.4,
         "_deepnote_index_column": 53381
        },
        {
         "created_at": "2021-11-24T05:13:00.000000",
         "2.5um/dl": 4.35,
         "_deepnote_index_column": 53382
        },
        {
         "created_at": "2021-11-24T05:16:00.000000",
         "2.5um/dl": 4.03,
         "_deepnote_index_column": 53383
        },
        {
         "created_at": "2021-11-24T05:17:00.000000",
         "2.5um/dl": 2.92,
         "_deepnote_index_column": 53384
        },
        {
         "created_at": "2021-11-24T05:19:00.000000",
         "2.5um/dl": 4.41,
         "_deepnote_index_column": 53385
        },
        {
         "created_at": "2021-11-24T05:21:00.000000",
         "2.5um/dl": 3.38,
         "_deepnote_index_column": 53386
        },
        {
         "created_at": "2021-11-24T05:23:00.000000",
         "2.5um/dl": 7.72,
         "_deepnote_index_column": 53387
        },
        {
         "created_at": "2021-11-24T05:27:00.000000",
         "2.5um/dl": 8.85,
         "_deepnote_index_column": 53388
        },
        {
         "created_at": "2021-11-24T05:29:00.000000",
         "2.5um/dl": 5.61,
         "_deepnote_index_column": 53389
        },
        {
         "created_at": "2021-11-24T05:31:00.000000",
         "2.5um/dl": 7.38,
         "_deepnote_index_column": 53390
        },
        {
         "created_at": "2021-11-24T05:33:00.000000",
         "2.5um/dl": 5.19,
         "_deepnote_index_column": 53391
        },
        {
         "created_at": "2021-11-24T05:35:00.000000",
         "2.5um/dl": 5.07,
         "_deepnote_index_column": 53392
        },
        {
         "created_at": "2021-11-24T05:37:00.000000",
         "2.5um/dl": 3.02,
         "_deepnote_index_column": 53393
        },
        {
         "created_at": "2021-11-24T05:39:00.000000",
         "2.5um/dl": 3.54,
         "_deepnote_index_column": 53394
        },
        {
         "created_at": "2021-11-24T05:41:00.000000",
         "2.5um/dl": 4.88,
         "_deepnote_index_column": 53395
        },
        {
         "created_at": "2021-11-24T05:43:00.000000",
         "2.5um/dl": 2.37,
         "_deepnote_index_column": 53396
        },
        {
         "created_at": "2021-11-24T05:45:00.000000",
         "2.5um/dl": 6.55,
         "_deepnote_index_column": 53397
        },
        {
         "created_at": "2021-11-24T05:47:00.000000",
         "2.5um/dl": 4.11,
         "_deepnote_index_column": 53398
        },
        {
         "created_at": "2021-11-24T05:49:00.000000",
         "2.5um/dl": 3.28,
         "_deepnote_index_column": 53399
        },
        {
         "created_at": "2021-11-24T05:51:00.000000",
         "2.5um/dl": 2.85,
         "_deepnote_index_column": 53400
        },
        {
         "created_at": "2021-11-24T05:53:00.000000",
         "2.5um/dl": 3.19,
         "_deepnote_index_column": 53401
        },
        {
         "created_at": "2021-11-24T05:55:00.000000",
         "2.5um/dl": 5.71,
         "_deepnote_index_column": 53402
        },
        {
         "created_at": "2021-11-24T05:58:00.000000",
         "2.5um/dl": 2.69,
         "_deepnote_index_column": 53403
        },
        {
         "created_at": "2021-11-24T05:59:00.000000",
         "2.5um/dl": 3.25,
         "_deepnote_index_column": 53404
        },
        {
         "created_at": "2021-11-24T06:01:00.000000",
         "2.5um/dl": 3.48,
         "_deepnote_index_column": 53405
        },
        {
         "created_at": "2021-11-24T06:03:00.000000",
         "2.5um/dl": 3.45,
         "_deepnote_index_column": 53406
        },
        {
         "created_at": "2021-11-24T06:05:00.000000",
         "2.5um/dl": 5.38,
         "_deepnote_index_column": 53407
        },
        {
         "created_at": "2021-11-24T06:07:00.000000",
         "2.5um/dl": 2.79,
         "_deepnote_index_column": 53408
        },
        {
         "created_at": "2021-11-24T06:09:00.000000",
         "2.5um/dl": 2.14,
         "_deepnote_index_column": 53409
        },
        {
         "created_at": "2021-11-24T06:11:00.000000",
         "2.5um/dl": 1.76,
         "_deepnote_index_column": 53410
        },
        {
         "created_at": "2021-11-24T06:13:00.000000",
         "2.5um/dl": 2.9,
         "_deepnote_index_column": 53411
        },
        {
         "created_at": "2021-11-24T06:15:00.000000",
         "2.5um/dl": 4,
         "_deepnote_index_column": 53412
        },
        {
         "created_at": "2021-11-24T06:17:00.000000",
         "2.5um/dl": 3.07,
         "_deepnote_index_column": 53413
        },
        {
         "created_at": "2021-11-24T06:19:00.000000",
         "2.5um/dl": 2.88,
         "_deepnote_index_column": 53414
        },
        {
         "created_at": "2021-11-24T06:21:00.000000",
         "2.5um/dl": 8.33,
         "_deepnote_index_column": 53415
        },
        {
         "created_at": "2021-11-24T06:23:00.000000",
         "2.5um/dl": 6.24,
         "_deepnote_index_column": 53416
        },
        {
         "created_at": "2021-11-24T06:25:00.000000",
         "2.5um/dl": 2.75,
         "_deepnote_index_column": 53417
        },
        {
         "created_at": "2021-11-24T06:27:00.000000",
         "2.5um/dl": 2.22,
         "_deepnote_index_column": 53418
        },
        {
         "created_at": "2021-11-24T06:29:00.000000",
         "2.5um/dl": 5.86,
         "_deepnote_index_column": 53419
        },
        {
         "created_at": "2021-11-24T06:31:00.000000",
         "2.5um/dl": 4.14,
         "_deepnote_index_column": 53420
        },
        {
         "created_at": "2021-11-24T06:33:00.000000",
         "2.5um/dl": 1.39,
         "_deepnote_index_column": 53421
        },
        {
         "created_at": "2021-11-24T06:35:00.000000",
         "2.5um/dl": 3.04,
         "_deepnote_index_column": 53422
        },
        {
         "created_at": "2021-11-24T06:37:00.000000",
         "2.5um/dl": 2.45,
         "_deepnote_index_column": 53423
        },
        {
         "created_at": "2021-11-24T06:39:00.000000",
         "2.5um/dl": 3.27,
         "_deepnote_index_column": 53424
        },
        {
         "created_at": "2021-11-24T06:41:00.000000",
         "2.5um/dl": 3.83,
         "_deepnote_index_column": 53425
        },
        {
         "created_at": "2021-11-24T06:43:00.000000",
         "2.5um/dl": 2.4,
         "_deepnote_index_column": 53426
        },
        {
         "created_at": "2021-11-24T06:45:00.000000",
         "2.5um/dl": 2.63,
         "_deepnote_index_column": 53427
        },
        {
         "created_at": "2021-11-24T06:47:00.000000",
         "2.5um/dl": 5.45,
         "_deepnote_index_column": 53428
        },
        {
         "created_at": "2021-11-24T06:49:00.000000",
         "2.5um/dl": 5.07,
         "_deepnote_index_column": 53429
        },
        {
         "created_at": "2021-11-24T06:51:00.000000",
         "2.5um/dl": 5.64,
         "_deepnote_index_column": 53430
        },
        {
         "created_at": "2021-11-24T06:53:00.000000",
         "2.5um/dl": 3.17,
         "_deepnote_index_column": 53431
        },
        {
         "created_at": "2021-11-24T06:55:00.000000",
         "2.5um/dl": 3.46,
         "_deepnote_index_column": 53432
        },
        {
         "created_at": "2021-11-24T06:57:00.000000",
         "2.5um/dl": 7.97,
         "_deepnote_index_column": 53433
        },
        {
         "created_at": "2021-11-24T06:59:00.000000",
         "2.5um/dl": 7.79,
         "_deepnote_index_column": 53434
        },
        {
         "created_at": "2021-11-24T07:01:00.000000",
         "2.5um/dl": 3.51,
         "_deepnote_index_column": 53435
        },
        {
         "created_at": "2021-11-24T07:03:00.000000",
         "2.5um/dl": 5.93,
         "_deepnote_index_column": 53436
        },
        {
         "created_at": "2021-11-24T07:05:00.000000",
         "2.5um/dl": 7.04,
         "_deepnote_index_column": 53437
        },
        {
         "created_at": "2021-11-24T07:07:00.000000",
         "2.5um/dl": 3.03,
         "_deepnote_index_column": 53438
        },
        {
         "created_at": "2021-11-24T07:09:00.000000",
         "2.5um/dl": 3.28,
         "_deepnote_index_column": 53439
        },
        {
         "created_at": "2021-11-24T07:11:00.000000",
         "2.5um/dl": 6,
         "_deepnote_index_column": 53440
        },
        {
         "created_at": "2021-11-24T07:13:00.000000",
         "2.5um/dl": 4.07,
         "_deepnote_index_column": 53441
        },
        {
         "created_at": "2021-11-24T07:15:00.000000",
         "2.5um/dl": 5.79,
         "_deepnote_index_column": 53442
        },
        {
         "created_at": "2021-11-24T07:17:00.000000",
         "2.5um/dl": 7.12,
         "_deepnote_index_column": 53443
        },
        {
         "created_at": "2021-11-24T07:19:00.000000",
         "2.5um/dl": 2.17,
         "_deepnote_index_column": 53444
        },
        {
         "created_at": "2021-11-24T07:21:00.000000",
         "2.5um/dl": 4.62,
         "_deepnote_index_column": 53445
        },
        {
         "created_at": "2021-11-24T07:23:00.000000",
         "2.5um/dl": 4.21,
         "_deepnote_index_column": 53446
        },
        {
         "created_at": "2021-11-24T07:25:00.000000",
         "2.5um/dl": 4.75,
         "_deepnote_index_column": 53447
        },
        {
         "created_at": "2021-11-24T07:27:00.000000",
         "2.5um/dl": 2.3,
         "_deepnote_index_column": 53448
        },
        {
         "created_at": "2021-11-24T07:29:00.000000",
         "2.5um/dl": 0.7,
         "_deepnote_index_column": 53449
        },
        {
         "created_at": "2021-11-24T07:31:00.000000",
         "2.5um/dl": 2.53,
         "_deepnote_index_column": 53450
        },
        {
         "created_at": "2021-11-24T07:33:00.000000",
         "2.5um/dl": 4.1,
         "_deepnote_index_column": 53451
        },
        {
         "created_at": "2021-11-24T07:35:00.000000",
         "2.5um/dl": 4.07,
         "_deepnote_index_column": 53452
        },
        {
         "created_at": "2021-11-24T07:37:00.000000",
         "2.5um/dl": 1.44,
         "_deepnote_index_column": 53453
        },
        {
         "created_at": "2021-11-24T07:39:00.000000",
         "2.5um/dl": 3.57,
         "_deepnote_index_column": 53454
        },
        {
         "created_at": "2021-11-24T07:41:00.000000",
         "2.5um/dl": 2.97,
         "_deepnote_index_column": 53455
        },
        {
         "created_at": "2021-11-24T07:43:00.000000",
         "2.5um/dl": 4.17,
         "_deepnote_index_column": 53456
        },
        {
         "created_at": "2021-11-24T07:45:00.000000",
         "2.5um/dl": 3.24,
         "_deepnote_index_column": 53457
        },
        {
         "created_at": "2021-11-24T07:47:00.000000",
         "2.5um/dl": 6.25,
         "_deepnote_index_column": 53458
        },
        {
         "created_at": "2021-11-24T07:49:00.000000",
         "2.5um/dl": 5.23,
         "_deepnote_index_column": 53459
        },
        {
         "created_at": "2021-11-24T07:51:00.000000",
         "2.5um/dl": 3.14,
         "_deepnote_index_column": 53460
        },
        {
         "created_at": "2021-11-24T07:53:00.000000",
         "2.5um/dl": 3.69,
         "_deepnote_index_column": 53461
        },
        {
         "created_at": "2021-11-24T07:55:00.000000",
         "2.5um/dl": 3.54,
         "_deepnote_index_column": 53462
        },
        {
         "created_at": "2021-11-24T07:57:00.000000",
         "2.5um/dl": 3.47,
         "_deepnote_index_column": 53463
        },
        {
         "created_at": "2021-11-24T07:59:00.000000",
         "2.5um/dl": 7.1,
         "_deepnote_index_column": 53464
        },
        {
         "created_at": "2021-11-24T08:01:00.000000",
         "2.5um/dl": 3.79,
         "_deepnote_index_column": 53465
        },
        {
         "created_at": "2021-11-24T08:03:00.000000",
         "2.5um/dl": 7.1,
         "_deepnote_index_column": 53466
        },
        {
         "created_at": "2021-11-24T08:05:00.000000",
         "2.5um/dl": 4.6,
         "_deepnote_index_column": 53467
        },
        {
         "created_at": "2021-11-24T08:07:00.000000",
         "2.5um/dl": 3.68,
         "_deepnote_index_column": 53468
        },
        {
         "created_at": "2021-11-24T08:09:00.000000",
         "2.5um/dl": 3.25,
         "_deepnote_index_column": 53469
        },
        {
         "created_at": "2021-11-24T08:11:00.000000",
         "2.5um/dl": 2.21,
         "_deepnote_index_column": 53470
        },
        {
         "created_at": "2021-11-24T08:13:00.000000",
         "2.5um/dl": 3.27,
         "_deepnote_index_column": 53471
        },
        {
         "created_at": "2021-11-24T08:15:00.000000",
         "2.5um/dl": 2.91,
         "_deepnote_index_column": 53472
        },
        {
         "created_at": "2021-11-24T08:17:00.000000",
         "2.5um/dl": 3.72,
         "_deepnote_index_column": 53473
        },
        {
         "created_at": "2021-11-24T08:19:00.000000",
         "2.5um/dl": 3.55,
         "_deepnote_index_column": 53474
        },
        {
         "created_at": "2021-11-24T08:21:00.000000",
         "2.5um/dl": 5.75,
         "_deepnote_index_column": 53475
        },
        {
         "created_at": "2021-11-24T08:23:00.000000",
         "2.5um/dl": 3.37,
         "_deepnote_index_column": 53476
        },
        {
         "created_at": "2021-11-24T08:25:00.000000",
         "2.5um/dl": 2.54,
         "_deepnote_index_column": 53477
        },
        {
         "created_at": "2021-11-24T08:27:00.000000",
         "2.5um/dl": 2.17,
         "_deepnote_index_column": 53478
        },
        {
         "created_at": "2021-11-24T08:29:00.000000",
         "2.5um/dl": 4.92,
         "_deepnote_index_column": 53479
        }
       ],
       "rows_bottom": [
        {
         "created_at": "2021-11-30T15:40:00.000000",
         "2.5um/dl": 19.52,
         "_deepnote_index_column": 58003
        },
        {
         "created_at": "2021-11-30T15:42:00.000000",
         "2.5um/dl": 20.18,
         "_deepnote_index_column": 58004
        },
        {
         "created_at": "2021-11-30T15:44:00.000000",
         "2.5um/dl": 12.8,
         "_deepnote_index_column": 58005
        },
        {
         "created_at": "2021-11-30T15:46:00.000000",
         "2.5um/dl": 14.07,
         "_deepnote_index_column": 58006
        },
        {
         "created_at": "2021-11-30T15:48:00.000000",
         "2.5um/dl": 7.79,
         "_deepnote_index_column": 58007
        },
        {
         "created_at": "2021-11-30T15:50:00.000000",
         "2.5um/dl": 10.14,
         "_deepnote_index_column": 58008
        },
        {
         "created_at": "2021-11-30T15:52:00.000000",
         "2.5um/dl": 10.35,
         "_deepnote_index_column": 58009
        },
        {
         "created_at": "2021-11-30T15:54:00.000000",
         "2.5um/dl": 6.91,
         "_deepnote_index_column": 58010
        },
        {
         "created_at": "2021-11-30T15:56:00.000000",
         "2.5um/dl": 16.93,
         "_deepnote_index_column": 58011
        },
        {
         "created_at": "2021-11-30T15:58:00.000000",
         "2.5um/dl": 10.45,
         "_deepnote_index_column": 58012
        },
        {
         "created_at": "2021-11-30T16:00:00.000000",
         "2.5um/dl": 10.04,
         "_deepnote_index_column": 58013
        },
        {
         "created_at": "2021-11-30T16:02:00.000000",
         "2.5um/dl": 7.32,
         "_deepnote_index_column": 58014
        },
        {
         "created_at": "2021-11-30T16:04:00.000000",
         "2.5um/dl": 17.07,
         "_deepnote_index_column": 58015
        },
        {
         "created_at": "2021-11-30T16:06:00.000000",
         "2.5um/dl": 15.86,
         "_deepnote_index_column": 58016
        },
        {
         "created_at": "2021-11-30T16:08:00.000000",
         "2.5um/dl": 10.1,
         "_deepnote_index_column": 58017
        },
        {
         "created_at": "2021-11-30T16:10:00.000000",
         "2.5um/dl": 4.93,
         "_deepnote_index_column": 58018
        },
        {
         "created_at": "2021-11-30T16:12:00.000000",
         "2.5um/dl": 5.23,
         "_deepnote_index_column": 58019
        },
        {
         "created_at": "2021-11-30T16:14:00.000000",
         "2.5um/dl": 8.25,
         "_deepnote_index_column": 58020
        },
        {
         "created_at": "2021-11-30T16:16:00.000000",
         "2.5um/dl": 3.38,
         "_deepnote_index_column": 58021
        },
        {
         "created_at": "2021-11-30T16:18:00.000000",
         "2.5um/dl": 3.87,
         "_deepnote_index_column": 58022
        },
        {
         "created_at": "2021-11-30T16:20:00.000000",
         "2.5um/dl": 5.05,
         "_deepnote_index_column": 58023
        },
        {
         "created_at": "2021-11-30T16:22:00.000000",
         "2.5um/dl": 8.51,
         "_deepnote_index_column": 58024
        },
        {
         "created_at": "2021-11-30T16:24:00.000000",
         "2.5um/dl": 4.35,
         "_deepnote_index_column": 58025
        },
        {
         "created_at": "2021-11-30T16:26:00.000000",
         "2.5um/dl": 3.1,
         "_deepnote_index_column": 58026
        },
        {
         "created_at": "2021-11-30T16:28:00.000000",
         "2.5um/dl": 3.67,
         "_deepnote_index_column": 58027
        },
        {
         "created_at": "2021-11-30T16:30:00.000000",
         "2.5um/dl": 6.33,
         "_deepnote_index_column": 58028
        },
        {
         "created_at": "2021-11-30T16:32:00.000000",
         "2.5um/dl": 3.41,
         "_deepnote_index_column": 58029
        },
        {
         "created_at": "2021-11-30T16:34:00.000000",
         "2.5um/dl": 4.04,
         "_deepnote_index_column": 58030
        },
        {
         "created_at": "2021-11-30T16:36:00.000000",
         "2.5um/dl": 7.47,
         "_deepnote_index_column": 58031
        },
        {
         "created_at": "2021-11-30T16:38:00.000000",
         "2.5um/dl": 9.93,
         "_deepnote_index_column": 58032
        },
        {
         "created_at": "2021-11-30T16:40:00.000000",
         "2.5um/dl": 5.25,
         "_deepnote_index_column": 58033
        },
        {
         "created_at": "2021-11-30T16:42:00.000000",
         "2.5um/dl": 5.32,
         "_deepnote_index_column": 58034
        },
        {
         "created_at": "2021-11-30T16:44:00.000000",
         "2.5um/dl": 5.12,
         "_deepnote_index_column": 58035
        },
        {
         "created_at": "2021-11-30T16:46:00.000000",
         "2.5um/dl": 8.11,
         "_deepnote_index_column": 58036
        },
        {
         "created_at": "2021-11-30T16:48:00.000000",
         "2.5um/dl": 6.89,
         "_deepnote_index_column": 58037
        },
        {
         "created_at": "2021-11-30T16:50:00.000000",
         "2.5um/dl": 6.03,
         "_deepnote_index_column": 58038
        },
        {
         "created_at": "2021-11-30T16:52:00.000000",
         "2.5um/dl": 6.38,
         "_deepnote_index_column": 58039
        },
        {
         "created_at": "2021-11-30T16:54:00.000000",
         "2.5um/dl": 4.24,
         "_deepnote_index_column": 58040
        },
        {
         "created_at": "2021-11-30T16:56:00.000000",
         "2.5um/dl": 5.79,
         "_deepnote_index_column": 58041
        },
        {
         "created_at": "2021-11-30T16:58:00.000000",
         "2.5um/dl": 9.44,
         "_deepnote_index_column": 58042
        },
        {
         "created_at": "2021-11-30T17:00:00.000000",
         "2.5um/dl": 9.05,
         "_deepnote_index_column": 58043
        },
        {
         "created_at": "2021-11-30T17:02:00.000000",
         "2.5um/dl": 10,
         "_deepnote_index_column": 58044
        },
        {
         "created_at": "2021-11-30T17:04:00.000000",
         "2.5um/dl": 13.8,
         "_deepnote_index_column": 58045
        },
        {
         "created_at": "2021-11-30T17:06:00.000000",
         "2.5um/dl": 3.17,
         "_deepnote_index_column": 58046
        },
        {
         "created_at": "2021-11-30T17:08:00.000000",
         "2.5um/dl": 5.37,
         "_deepnote_index_column": 58047
        },
        {
         "created_at": "2021-11-30T17:10:00.000000",
         "2.5um/dl": 2.74,
         "_deepnote_index_column": 58048
        },
        {
         "created_at": "2021-11-30T17:12:00.000000",
         "2.5um/dl": 3.63,
         "_deepnote_index_column": 58049
        },
        {
         "created_at": "2021-11-30T17:14:00.000000",
         "2.5um/dl": 4,
         "_deepnote_index_column": 58050
        },
        {
         "created_at": "2021-11-30T17:16:00.000000",
         "2.5um/dl": 4.55,
         "_deepnote_index_column": 58051
        },
        {
         "created_at": "2021-11-30T17:18:00.000000",
         "2.5um/dl": 5.31,
         "_deepnote_index_column": 58052
        },
        {
         "created_at": "2021-11-30T17:20:00.000000",
         "2.5um/dl": 8.11,
         "_deepnote_index_column": 58053
        },
        {
         "created_at": "2021-11-30T17:22:00.000000",
         "2.5um/dl": 15.59,
         "_deepnote_index_column": 58054
        },
        {
         "created_at": "2021-11-30T17:24:00.000000",
         "2.5um/dl": 8.59,
         "_deepnote_index_column": 58055
        },
        {
         "created_at": "2021-11-30T17:26:00.000000",
         "2.5um/dl": 5.96,
         "_deepnote_index_column": 58056
        },
        {
         "created_at": "2021-11-30T17:28:00.000000",
         "2.5um/dl": 2.18,
         "_deepnote_index_column": 58057
        },
        {
         "created_at": "2021-11-30T17:30:00.000000",
         "2.5um/dl": 6.21,
         "_deepnote_index_column": 58058
        },
        {
         "created_at": "2021-11-30T17:32:00.000000",
         "2.5um/dl": 4.28,
         "_deepnote_index_column": 58059
        },
        {
         "created_at": "2021-11-30T17:34:00.000000",
         "2.5um/dl": 9.79,
         "_deepnote_index_column": 58060
        },
        {
         "created_at": "2021-11-30T17:36:00.000000",
         "2.5um/dl": 7.32,
         "_deepnote_index_column": 58061
        },
        {
         "created_at": "2021-11-30T17:38:00.000000",
         "2.5um/dl": 4.51,
         "_deepnote_index_column": 58062
        },
        {
         "created_at": "2021-11-30T17:40:00.000000",
         "2.5um/dl": 8.8,
         "_deepnote_index_column": 58063
        },
        {
         "created_at": "2021-11-30T17:42:00.000000",
         "2.5um/dl": 7.44,
         "_deepnote_index_column": 58064
        },
        {
         "created_at": "2021-11-30T17:44:00.000000",
         "2.5um/dl": 6.43,
         "_deepnote_index_column": 58065
        },
        {
         "created_at": "2021-11-30T17:46:00.000000",
         "2.5um/dl": 10.17,
         "_deepnote_index_column": 58066
        },
        {
         "created_at": "2021-11-30T17:48:00.000000",
         "2.5um/dl": 8.58,
         "_deepnote_index_column": 58067
        },
        {
         "created_at": "2021-11-30T17:50:00.000000",
         "2.5um/dl": 4.52,
         "_deepnote_index_column": 58068
        },
        {
         "created_at": "2021-11-30T17:52:00.000000",
         "2.5um/dl": 11.93,
         "_deepnote_index_column": 58069
        },
        {
         "created_at": "2021-11-30T17:54:00.000000",
         "2.5um/dl": 9.44,
         "_deepnote_index_column": 58070
        },
        {
         "created_at": "2021-11-30T17:56:00.000000",
         "2.5um/dl": 3.53,
         "_deepnote_index_column": 58071
        },
        {
         "created_at": "2021-11-30T17:58:00.000000",
         "2.5um/dl": 1.76,
         "_deepnote_index_column": 58072
        },
        {
         "created_at": "2021-11-30T18:00:00.000000",
         "2.5um/dl": 2.54,
         "_deepnote_index_column": 58073
        },
        {
         "created_at": "2021-11-30T18:02:00.000000",
         "2.5um/dl": 5.17,
         "_deepnote_index_column": 58074
        },
        {
         "created_at": "2021-11-30T18:04:00.000000",
         "2.5um/dl": 3.11,
         "_deepnote_index_column": 58075
        },
        {
         "created_at": "2021-11-30T18:06:00.000000",
         "2.5um/dl": 3.64,
         "_deepnote_index_column": 58076
        },
        {
         "created_at": "2021-11-30T18:08:00.000000",
         "2.5um/dl": 2.56,
         "_deepnote_index_column": 58077
        },
        {
         "created_at": "2021-11-30T18:10:00.000000",
         "2.5um/dl": 7.05,
         "_deepnote_index_column": 58078
        },
        {
         "created_at": "2021-11-30T18:12:00.000000",
         "2.5um/dl": 3.42,
         "_deepnote_index_column": 58079
        },
        {
         "created_at": "2021-11-30T18:14:00.000000",
         "2.5um/dl": 3.85,
         "_deepnote_index_column": 58080
        },
        {
         "created_at": "2021-11-30T18:16:00.000000",
         "2.5um/dl": 3.28,
         "_deepnote_index_column": 58081
        },
        {
         "created_at": "2021-11-30T18:18:00.000000",
         "2.5um/dl": 1.29,
         "_deepnote_index_column": 58082
        },
        {
         "created_at": "2021-11-30T18:20:00.000000",
         "2.5um/dl": 1.97,
         "_deepnote_index_column": 58083
        },
        {
         "created_at": "2021-11-30T18:22:00.000000",
         "2.5um/dl": 3.81,
         "_deepnote_index_column": 58084
        },
        {
         "created_at": "2021-11-30T18:24:00.000000",
         "2.5um/dl": 2.11,
         "_deepnote_index_column": 58085
        },
        {
         "created_at": "2021-11-30T18:26:00.000000",
         "2.5um/dl": 4.64,
         "_deepnote_index_column": 58086
        },
        {
         "created_at": "2021-11-30T18:28:00.000000",
         "2.5um/dl": 4.7,
         "_deepnote_index_column": 58087
        },
        {
         "created_at": "2021-11-30T18:30:00.000000",
         "2.5um/dl": 2.25,
         "_deepnote_index_column": 58088
        },
        {
         "created_at": "2021-11-30T18:32:00.000000",
         "2.5um/dl": 6.18,
         "_deepnote_index_column": 58089
        },
        {
         "created_at": "2021-11-30T18:34:00.000000",
         "2.5um/dl": 6.38,
         "_deepnote_index_column": 58090
        },
        {
         "created_at": "2021-11-30T18:36:00.000000",
         "2.5um/dl": 5.31,
         "_deepnote_index_column": 58091
        },
        {
         "created_at": "2021-11-30T18:38:00.000000",
         "2.5um/dl": 2.55,
         "_deepnote_index_column": 58092
        },
        {
         "created_at": "2021-11-30T18:40:00.000000",
         "2.5um/dl": 3.36,
         "_deepnote_index_column": 58093
        },
        {
         "created_at": "2021-11-30T18:42:00.000000",
         "2.5um/dl": 4.1,
         "_deepnote_index_column": 58094
        },
        {
         "created_at": "2021-11-30T18:44:00.000000",
         "2.5um/dl": 9.33,
         "_deepnote_index_column": 58095
        },
        {
         "created_at": "2021-11-30T18:46:00.000000",
         "2.5um/dl": 2.91,
         "_deepnote_index_column": 58096
        },
        {
         "created_at": "2021-11-30T18:48:00.000000",
         "2.5um/dl": 5.27,
         "_deepnote_index_column": 58097
        },
        {
         "created_at": "2021-11-30T18:50:00.000000",
         "2.5um/dl": 2.81,
         "_deepnote_index_column": 58098
        },
        {
         "created_at": "2021-11-30T18:52:00.000000",
         "2.5um/dl": 1.79,
         "_deepnote_index_column": 58099
        },
        {
         "created_at": "2021-11-30T18:54:00.000000",
         "2.5um/dl": 4.46,
         "_deepnote_index_column": 58100
        },
        {
         "created_at": "2021-11-30T18:56:00.000000",
         "2.5um/dl": 2,
         "_deepnote_index_column": 58101
        },
        {
         "created_at": "2021-11-30T18:58:00.000000",
         "2.5um/dl": 3.09,
         "_deepnote_index_column": 58102
        },
        {
         "created_at": "2021-11-30T19:00:00.000000",
         "2.5um/dl": 3.47,
         "_deepnote_index_column": 58103
        },
        {
         "created_at": "2021-11-30T19:02:00.000000",
         "2.5um/dl": 2.45,
         "_deepnote_index_column": 58104
        },
        {
         "created_at": "2021-11-30T19:04:00.000000",
         "2.5um/dl": 2.11,
         "_deepnote_index_column": 58105
        },
        {
         "created_at": "2021-11-30T19:06:00.000000",
         "2.5um/dl": 3.55,
         "_deepnote_index_column": 58106
        },
        {
         "created_at": "2021-11-30T19:08:00.000000",
         "2.5um/dl": 10.53,
         "_deepnote_index_column": 58107
        },
        {
         "created_at": "2021-11-30T19:10:00.000000",
         "2.5um/dl": 3.54,
         "_deepnote_index_column": 58108
        },
        {
         "created_at": "2021-11-30T19:12:00.000000",
         "2.5um/dl": 3.46,
         "_deepnote_index_column": 58109
        },
        {
         "created_at": "2021-11-30T19:14:00.000000",
         "2.5um/dl": 2.98,
         "_deepnote_index_column": 58110
        },
        {
         "created_at": "2021-11-30T19:16:00.000000",
         "2.5um/dl": 1.69,
         "_deepnote_index_column": 58111
        },
        {
         "created_at": "2021-11-30T19:18:00.000000",
         "2.5um/dl": 2.29,
         "_deepnote_index_column": 58112
        },
        {
         "created_at": "2021-11-30T19:20:00.000000",
         "2.5um/dl": 2.76,
         "_deepnote_index_column": 58113
        },
        {
         "created_at": "2021-11-30T19:22:00.000000",
         "2.5um/dl": 4.17,
         "_deepnote_index_column": 58114
        },
        {
         "created_at": "2021-11-30T19:24:00.000000",
         "2.5um/dl": 1.36,
         "_deepnote_index_column": 58115
        },
        {
         "created_at": "2021-11-30T19:26:00.000000",
         "2.5um/dl": 3.35,
         "_deepnote_index_column": 58116
        },
        {
         "created_at": "2021-11-30T19:28:00.000000",
         "2.5um/dl": 2.81,
         "_deepnote_index_column": 58117
        },
        {
         "created_at": "2021-11-30T19:30:00.000000",
         "2.5um/dl": 2.17,
         "_deepnote_index_column": 58118
        },
        {
         "created_at": "2021-11-30T19:32:00.000000",
         "2.5um/dl": 3.72,
         "_deepnote_index_column": 58119
        },
        {
         "created_at": "2021-11-30T19:34:00.000000",
         "2.5um/dl": 4.18,
         "_deepnote_index_column": 58120
        },
        {
         "created_at": "2021-11-30T19:36:00.000000",
         "2.5um/dl": 4.75,
         "_deepnote_index_column": 58121
        },
        {
         "created_at": "2021-11-30T19:38:00.000000",
         "2.5um/dl": 4.83,
         "_deepnote_index_column": 58122
        },
        {
         "created_at": "2021-11-30T19:40:00.000000",
         "2.5um/dl": 4.53,
         "_deepnote_index_column": 58123
        },
        {
         "created_at": "2021-11-30T19:42:00.000000",
         "2.5um/dl": 3.66,
         "_deepnote_index_column": 58124
        },
        {
         "created_at": "2021-11-30T19:44:00.000000",
         "2.5um/dl": 2.89,
         "_deepnote_index_column": 58125
        },
        {
         "created_at": "2021-11-30T19:46:00.000000",
         "2.5um/dl": 3.53,
         "_deepnote_index_column": 58126
        },
        {
         "created_at": "2021-11-30T19:48:00.000000",
         "2.5um/dl": 5.7,
         "_deepnote_index_column": 58127
        },
        {
         "created_at": "2021-11-30T19:50:00.000000",
         "2.5um/dl": 3.72,
         "_deepnote_index_column": 58128
        },
        {
         "created_at": "2021-11-30T19:52:00.000000",
         "2.5um/dl": 4.04,
         "_deepnote_index_column": 58129
        },
        {
         "created_at": "2021-11-30T19:54:00.000000",
         "2.5um/dl": 3.38,
         "_deepnote_index_column": 58130
        },
        {
         "created_at": "2021-11-30T19:56:00.000000",
         "2.5um/dl": 1.69,
         "_deepnote_index_column": 58131
        },
        {
         "created_at": "2021-11-30T19:58:00.000000",
         "2.5um/dl": 1.89,
         "_deepnote_index_column": 58132
        },
        {
         "created_at": "2021-11-30T20:00:00.000000",
         "2.5um/dl": 1.75,
         "_deepnote_index_column": 58133
        },
        {
         "created_at": "2021-11-30T20:02:00.000000",
         "2.5um/dl": 2.45,
         "_deepnote_index_column": 58134
        },
        {
         "created_at": "2021-11-30T20:04:00.000000",
         "2.5um/dl": 5.35,
         "_deepnote_index_column": 58135
        },
        {
         "created_at": "2021-11-30T20:06:00.000000",
         "2.5um/dl": 3.13,
         "_deepnote_index_column": 58136
        },
        {
         "created_at": "2021-11-30T20:08:00.000000",
         "2.5um/dl": 3.86,
         "_deepnote_index_column": 58137
        },
        {
         "created_at": "2021-11-30T20:10:00.000000",
         "2.5um/dl": 4.86,
         "_deepnote_index_column": 58138
        },
        {
         "created_at": "2021-11-30T20:12:00.000000",
         "2.5um/dl": 3.82,
         "_deepnote_index_column": 58139
        },
        {
         "created_at": "2021-11-30T20:14:00.000000",
         "2.5um/dl": 3.64,
         "_deepnote_index_column": 58140
        },
        {
         "created_at": "2021-11-30T20:16:00.000000",
         "2.5um/dl": 4.14,
         "_deepnote_index_column": 58141
        },
        {
         "created_at": "2021-11-30T20:18:00.000000",
         "2.5um/dl": 4.79,
         "_deepnote_index_column": 58142
        },
        {
         "created_at": "2021-11-30T20:20:00.000000",
         "2.5um/dl": 4.68,
         "_deepnote_index_column": 58143
        },
        {
         "created_at": "2021-11-30T20:22:00.000000",
         "2.5um/dl": 2.18,
         "_deepnote_index_column": 58144
        },
        {
         "created_at": "2021-11-30T20:24:00.000000",
         "2.5um/dl": 2.9,
         "_deepnote_index_column": 58145
        },
        {
         "created_at": "2021-11-30T20:26:00.000000",
         "2.5um/dl": 3.34,
         "_deepnote_index_column": 58146
        },
        {
         "created_at": "2021-11-30T20:28:00.000000",
         "2.5um/dl": 8.71,
         "_deepnote_index_column": 58147
        },
        {
         "created_at": "2021-11-30T20:30:00.000000",
         "2.5um/dl": 2.68,
         "_deepnote_index_column": 58148
        },
        {
         "created_at": "2021-11-30T20:32:00.000000",
         "2.5um/dl": 3.96,
         "_deepnote_index_column": 58149
        },
        {
         "created_at": "2021-11-30T20:34:00.000000",
         "2.5um/dl": 2.76,
         "_deepnote_index_column": 58150
        },
        {
         "created_at": "2021-11-30T20:36:00.000000",
         "2.5um/dl": 5.56,
         "_deepnote_index_column": 58151
        },
        {
         "created_at": "2021-11-30T20:38:00.000000",
         "2.5um/dl": 3.93,
         "_deepnote_index_column": 58152
        },
        {
         "created_at": "2021-11-30T20:40:00.000000",
         "2.5um/dl": 6.25,
         "_deepnote_index_column": 58153
        },
        {
         "created_at": "2021-11-30T20:42:00.000000",
         "2.5um/dl": 4.45,
         "_deepnote_index_column": 58154
        },
        {
         "created_at": "2021-11-30T20:44:00.000000",
         "2.5um/dl": 2.97,
         "_deepnote_index_column": 58155
        },
        {
         "created_at": "2021-11-30T20:46:00.000000",
         "2.5um/dl": 5.31,
         "_deepnote_index_column": 58156
        },
        {
         "created_at": "2021-11-30T20:48:00.000000",
         "2.5um/dl": 3.38,
         "_deepnote_index_column": 58157
        },
        {
         "created_at": "2021-11-30T20:50:00.000000",
         "2.5um/dl": 1.62,
         "_deepnote_index_column": 58158
        },
        {
         "created_at": "2021-11-30T20:52:00.000000",
         "2.5um/dl": 3.93,
         "_deepnote_index_column": 58159
        },
        {
         "created_at": "2021-11-30T20:54:00.000000",
         "2.5um/dl": 5,
         "_deepnote_index_column": 58160
        },
        {
         "created_at": "2021-11-30T20:56:00.000000",
         "2.5um/dl": 2.15,
         "_deepnote_index_column": 58161
        },
        {
         "created_at": "2021-11-30T20:58:00.000000",
         "2.5um/dl": 3.89,
         "_deepnote_index_column": 58162
        },
        {
         "created_at": "2021-11-30T21:00:00.000000",
         "2.5um/dl": 3.76,
         "_deepnote_index_column": 58163
        },
        {
         "created_at": "2021-11-30T21:02:00.000000",
         "2.5um/dl": 1.1,
         "_deepnote_index_column": 58164
        },
        {
         "created_at": "2021-11-30T21:04:00.000000",
         "2.5um/dl": 2.1,
         "_deepnote_index_column": 58165
        },
        {
         "created_at": "2021-11-30T21:06:00.000000",
         "2.5um/dl": 3.68,
         "_deepnote_index_column": 58166
        },
        {
         "created_at": "2021-11-30T21:08:00.000000",
         "2.5um/dl": 6.71,
         "_deepnote_index_column": 58167
        },
        {
         "created_at": "2021-11-30T21:10:00.000000",
         "2.5um/dl": 2.25,
         "_deepnote_index_column": 58168
        },
        {
         "created_at": "2021-11-30T21:12:00.000000",
         "2.5um/dl": 3.49,
         "_deepnote_index_column": 58169
        },
        {
         "created_at": "2021-11-30T21:14:00.000000",
         "2.5um/dl": 9.44,
         "_deepnote_index_column": 58170
        },
        {
         "created_at": "2021-11-30T21:16:00.000000",
         "2.5um/dl": 2.32,
         "_deepnote_index_column": 58171
        },
        {
         "created_at": "2021-11-30T21:18:00.000000",
         "2.5um/dl": 2.95,
         "_deepnote_index_column": 58172
        },
        {
         "created_at": "2021-11-30T21:20:00.000000",
         "2.5um/dl": 4.07,
         "_deepnote_index_column": 58173
        },
        {
         "created_at": "2021-11-30T21:22:00.000000",
         "2.5um/dl": 5.9,
         "_deepnote_index_column": 58174
        },
        {
         "created_at": "2021-11-30T21:24:00.000000",
         "2.5um/dl": 3.21,
         "_deepnote_index_column": 58175
        },
        {
         "created_at": "2021-11-30T21:26:00.000000",
         "2.5um/dl": 6.68,
         "_deepnote_index_column": 58176
        },
        {
         "created_at": "2021-11-30T21:28:00.000000",
         "2.5um/dl": 4.63,
         "_deepnote_index_column": 58177
        },
        {
         "created_at": "2021-11-30T21:30:00.000000",
         "2.5um/dl": 7.07,
         "_deepnote_index_column": 58178
        },
        {
         "created_at": "2021-11-30T21:32:00.000000",
         "2.5um/dl": 4.45,
         "_deepnote_index_column": 58179
        },
        {
         "created_at": "2021-11-30T21:34:00.000000",
         "2.5um/dl": 4.36,
         "_deepnote_index_column": 58180
        },
        {
         "created_at": "2021-11-30T21:36:00.000000",
         "2.5um/dl": 4.31,
         "_deepnote_index_column": 58181
        },
        {
         "created_at": "2021-11-30T21:38:00.000000",
         "2.5um/dl": 2.92,
         "_deepnote_index_column": 58182
        },
        {
         "created_at": "2021-11-30T21:40:00.000000",
         "2.5um/dl": 1.86,
         "_deepnote_index_column": 58183
        },
        {
         "created_at": "2021-11-30T21:42:00.000000",
         "2.5um/dl": 2.71,
         "_deepnote_index_column": 58184
        },
        {
         "created_at": "2021-11-30T21:44:00.000000",
         "2.5um/dl": 2.74,
         "_deepnote_index_column": 58185
        },
        {
         "created_at": "2021-11-30T21:46:00.000000",
         "2.5um/dl": 5.28,
         "_deepnote_index_column": 58186
        },
        {
         "created_at": "2021-11-30T21:48:00.000000",
         "2.5um/dl": 3.55,
         "_deepnote_index_column": 58187
        },
        {
         "created_at": "2021-11-30T21:50:00.000000",
         "2.5um/dl": 5.02,
         "_deepnote_index_column": 58188
        },
        {
         "created_at": "2021-11-30T21:52:00.000000",
         "2.5um/dl": 4.21,
         "_deepnote_index_column": 58189
        },
        {
         "created_at": "2021-11-30T21:54:00.000000",
         "2.5um/dl": 2.34,
         "_deepnote_index_column": 58190
        },
        {
         "created_at": "2021-11-30T21:56:00.000000",
         "2.5um/dl": 4.95,
         "_deepnote_index_column": 58191
        },
        {
         "created_at": "2021-11-30T21:58:00.000000",
         "2.5um/dl": 2.56,
         "_deepnote_index_column": 58192
        },
        {
         "created_at": "2021-11-30T22:00:00.000000",
         "2.5um/dl": 3.43,
         "_deepnote_index_column": 58193
        },
        {
         "created_at": "2021-11-30T22:02:00.000000",
         "2.5um/dl": 1.52,
         "_deepnote_index_column": 58194
        },
        {
         "created_at": "2021-11-30T22:04:00.000000",
         "2.5um/dl": 3.31,
         "_deepnote_index_column": 58195
        },
        {
         "created_at": "2021-11-30T22:06:00.000000",
         "2.5um/dl": 3.36,
         "_deepnote_index_column": 58196
        },
        {
         "created_at": "2021-11-30T22:08:00.000000",
         "2.5um/dl": 3.08,
         "_deepnote_index_column": 58197
        },
        {
         "created_at": "2021-11-30T22:10:00.000000",
         "2.5um/dl": 3.59,
         "_deepnote_index_column": 58198
        },
        {
         "created_at": "2021-11-30T22:12:00.000000",
         "2.5um/dl": 1.89,
         "_deepnote_index_column": 58199
        },
        {
         "created_at": "2021-11-30T22:14:00.000000",
         "2.5um/dl": 1.16,
         "_deepnote_index_column": 58200
        },
        {
         "created_at": "2021-11-30T22:16:00.000000",
         "2.5um/dl": 3.83,
         "_deepnote_index_column": 58201
        },
        {
         "created_at": "2021-11-30T22:18:00.000000",
         "2.5um/dl": 2.37,
         "_deepnote_index_column": 58202
        },
        {
         "created_at": "2021-11-30T22:20:00.000000",
         "2.5um/dl": 2.04,
         "_deepnote_index_column": 58203
        },
        {
         "created_at": "2021-11-30T22:22:00.000000",
         "2.5um/dl": 1.57,
         "_deepnote_index_column": 58204
        },
        {
         "created_at": "2021-11-30T22:24:00.000000",
         "2.5um/dl": 4.34,
         "_deepnote_index_column": 58205
        },
        {
         "created_at": "2021-11-30T22:26:00.000000",
         "2.5um/dl": 4.31,
         "_deepnote_index_column": 58206
        },
        {
         "created_at": "2021-11-30T22:28:00.000000",
         "2.5um/dl": 4.11,
         "_deepnote_index_column": 58207
        },
        {
         "created_at": "2021-11-30T22:30:00.000000",
         "2.5um/dl": 3.14,
         "_deepnote_index_column": 58208
        },
        {
         "created_at": "2021-11-30T22:32:00.000000",
         "2.5um/dl": 3.72,
         "_deepnote_index_column": 58209
        },
        {
         "created_at": "2021-11-30T22:34:00.000000",
         "2.5um/dl": 2.1,
         "_deepnote_index_column": 58210
        },
        {
         "created_at": "2021-11-30T22:36:00.000000",
         "2.5um/dl": 5,
         "_deepnote_index_column": 58211
        },
        {
         "created_at": "2021-11-30T22:38:00.000000",
         "2.5um/dl": 3.39,
         "_deepnote_index_column": 58212
        },
        {
         "created_at": "2021-11-30T22:40:00.000000",
         "2.5um/dl": 1.86,
         "_deepnote_index_column": 58213
        },
        {
         "created_at": "2021-11-30T22:42:00.000000",
         "2.5um/dl": 2.68,
         "_deepnote_index_column": 58214
        },
        {
         "created_at": "2021-11-30T22:44:00.000000",
         "2.5um/dl": 1.66,
         "_deepnote_index_column": 58215
        },
        {
         "created_at": "2021-11-30T22:46:00.000000",
         "2.5um/dl": 1.07,
         "_deepnote_index_column": 58216
        },
        {
         "created_at": "2021-11-30T22:48:00.000000",
         "2.5um/dl": 1.67,
         "_deepnote_index_column": 58217
        },
        {
         "created_at": "2021-11-30T22:50:00.000000",
         "2.5um/dl": 2.07,
         "_deepnote_index_column": 58218
        },
        {
         "created_at": "2021-11-30T22:52:00.000000",
         "2.5um/dl": 2.21,
         "_deepnote_index_column": 58219
        },
        {
         "created_at": "2021-11-30T22:54:00.000000",
         "2.5um/dl": 3.64,
         "_deepnote_index_column": 58220
        },
        {
         "created_at": "2021-11-30T22:56:00.000000",
         "2.5um/dl": 3.31,
         "_deepnote_index_column": 58221
        },
        {
         "created_at": "2021-11-30T22:58:00.000000",
         "2.5um/dl": 2.6,
         "_deepnote_index_column": 58222
        },
        {
         "created_at": "2021-11-30T23:00:00.000000",
         "2.5um/dl": 1.8,
         "_deepnote_index_column": 58223
        },
        {
         "created_at": "2021-11-30T23:02:00.000000",
         "2.5um/dl": 2.75,
         "_deepnote_index_column": 58224
        },
        {
         "created_at": "2021-11-30T23:04:00.000000",
         "2.5um/dl": 1.9,
         "_deepnote_index_column": 58225
        },
        {
         "created_at": "2021-11-30T23:06:00.000000",
         "2.5um/dl": 0.9,
         "_deepnote_index_column": 58226
        },
        {
         "created_at": "2021-11-30T23:08:00.000000",
         "2.5um/dl": 1.36,
         "_deepnote_index_column": 58227
        },
        {
         "created_at": "2021-11-30T23:10:00.000000",
         "2.5um/dl": 0.88,
         "_deepnote_index_column": 58228
        },
        {
         "created_at": "2021-11-30T23:12:00.000000",
         "2.5um/dl": 3.48,
         "_deepnote_index_column": 58229
        },
        {
         "created_at": "2021-11-30T23:14:00.000000",
         "2.5um/dl": 2.21,
         "_deepnote_index_column": 58230
        },
        {
         "created_at": "2021-11-30T23:16:00.000000",
         "2.5um/dl": 5.85,
         "_deepnote_index_column": 58231
        },
        {
         "created_at": "2021-11-30T23:18:00.000000",
         "2.5um/dl": 3.45,
         "_deepnote_index_column": 58232
        },
        {
         "created_at": "2021-11-30T23:20:00.000000",
         "2.5um/dl": 4.37,
         "_deepnote_index_column": 58233
        },
        {
         "created_at": "2021-11-30T23:22:00.000000",
         "2.5um/dl": 3.59,
         "_deepnote_index_column": 58234
        },
        {
         "created_at": "2021-11-30T23:24:00.000000",
         "2.5um/dl": 2.25,
         "_deepnote_index_column": 58235
        },
        {
         "created_at": "2021-11-30T23:26:00.000000",
         "2.5um/dl": 5.51,
         "_deepnote_index_column": 58236
        },
        {
         "created_at": "2021-11-30T23:28:00.000000",
         "2.5um/dl": 3.31,
         "_deepnote_index_column": 58237
        },
        {
         "created_at": "2021-11-30T23:30:00.000000",
         "2.5um/dl": 3.6,
         "_deepnote_index_column": 58238
        },
        {
         "created_at": "2021-11-30T23:32:00.000000",
         "2.5um/dl": 3.55,
         "_deepnote_index_column": 58239
        },
        {
         "created_at": "2021-11-30T23:34:00.000000",
         "2.5um/dl": 2.18,
         "_deepnote_index_column": 58240
        },
        {
         "created_at": "2021-11-30T23:36:00.000000",
         "2.5um/dl": 2.18,
         "_deepnote_index_column": 58241
        },
        {
         "created_at": "2021-11-30T23:38:00.000000",
         "2.5um/dl": 0.48,
         "_deepnote_index_column": 58242
        },
        {
         "created_at": "2021-11-30T23:40:00.000000",
         "2.5um/dl": 3.1,
         "_deepnote_index_column": 58243
        },
        {
         "created_at": "2021-11-30T23:42:00.000000",
         "2.5um/dl": 2.95,
         "_deepnote_index_column": 58244
        },
        {
         "created_at": "2021-11-30T23:44:00.000000",
         "2.5um/dl": 2.41,
         "_deepnote_index_column": 58245
        },
        {
         "created_at": "2021-11-30T23:46:00.000000",
         "2.5um/dl": 3.73,
         "_deepnote_index_column": 58246
        },
        {
         "created_at": "2021-11-30T23:48:00.000000",
         "2.5um/dl": 2.95,
         "_deepnote_index_column": 58247
        },
        {
         "created_at": "2021-11-30T23:50:00.000000",
         "2.5um/dl": 7.42,
         "_deepnote_index_column": 58248
        },
        {
         "created_at": "2021-11-30T23:52:00.000000",
         "2.5um/dl": 4.07,
         "_deepnote_index_column": 58249
        },
        {
         "created_at": "2021-11-30T23:54:00.000000",
         "2.5um/dl": 2.54,
         "_deepnote_index_column": 58250
        },
        {
         "created_at": "2021-11-30T23:56:00.000000",
         "2.5um/dl": 5.48,
         "_deepnote_index_column": 58251
        },
        {
         "created_at": "2021-11-30T23:58:00.000000",
         "2.5um/dl": 2.67,
         "_deepnote_index_column": 58252
        }
       ]
      },
      "text/plain": "                        created_at  2.5um/dl\nentry_id                                    \n53230    2021-11-24 00:01:00+00:00      9.32\n53231    2021-11-24 00:03:00+00:00      6.50\n53232    2021-11-24 00:05:00+00:00      9.53\n53233    2021-11-24 00:07:00+00:00      4.11\n53234    2021-11-24 00:09:00+00:00      5.68\n...                            ...       ...\n58248    2021-11-30 23:50:00+00:00      7.42\n58249    2021-11-30 23:52:00+00:00      4.07\n58250    2021-11-30 23:54:00+00:00      2.54\n58251    2021-11-30 23:56:00+00:00      5.48\n58252    2021-11-30 23:58:00+00:00      2.67\n\n[5023 rows x 2 columns]",
      "text/html": "<div>\n<style scoped>\n    .dataframe tbody tr th:only-of-type {\n        vertical-align: middle;\n    }\n\n    .dataframe tbody tr th {\n        vertical-align: top;\n    }\n\n    .dataframe thead th {\n        text-align: right;\n    }\n</style>\n<table border=\"1\" class=\"dataframe\">\n  <thead>\n    <tr style=\"text-align: right;\">\n      <th></th>\n      <th>created_at</th>\n      <th>2.5um/dl</th>\n    </tr>\n    <tr>\n      <th>entry_id</th>\n      <th></th>\n      <th></th>\n    </tr>\n  </thead>\n  <tbody>\n    <tr>\n      <th>53230</th>\n      <td>2021-11-24 00:01:00+00:00</td>\n      <td>9.32</td>\n    </tr>\n    <tr>\n      <th>53231</th>\n      <td>2021-11-24 00:03:00+00:00</td>\n      <td>6.50</td>\n    </tr>\n    <tr>\n      <th>53232</th>\n      <td>2021-11-24 00:05:00+00:00</td>\n      <td>9.53</td>\n    </tr>\n    <tr>\n      <th>53233</th>\n      <td>2021-11-24 00:07:00+00:00</td>\n      <td>4.11</td>\n    </tr>\n    <tr>\n      <th>53234</th>\n      <td>2021-11-24 00:09:00+00:00</td>\n      <td>5.68</td>\n    </tr>\n    <tr>\n      <th>...</th>\n      <td>...</td>\n      <td>...</td>\n    </tr>\n    <tr>\n      <th>58248</th>\n      <td>2021-11-30 23:50:00+00:00</td>\n      <td>7.42</td>\n    </tr>\n    <tr>\n      <th>58249</th>\n      <td>2021-11-30 23:52:00+00:00</td>\n      <td>4.07</td>\n    </tr>\n    <tr>\n      <th>58250</th>\n      <td>2021-11-30 23:54:00+00:00</td>\n      <td>2.54</td>\n    </tr>\n    <tr>\n      <th>58251</th>\n      <td>2021-11-30 23:56:00+00:00</td>\n      <td>5.48</td>\n    </tr>\n    <tr>\n      <th>58252</th>\n      <td>2021-11-30 23:58:00+00:00</td>\n      <td>2.67</td>\n    </tr>\n  </tbody>\n</table>\n<p>5023 rows × 2 columns</p>\n</div>"
     },
     "metadata": {}
    }
   ],
   "execution_count": 60
  },
  {
   "cell_type": "code",
   "source": "houston_data = df.loc[(df[\"lat\"] >= 29) & (df[\"lat\"] <= 30) & (df[\"lon\"] >= -96) & (df[\"lon\"] <= -94)]\noutside = houston_data[houston_data['location_type'] == 'outside']\nsensors = outside.index.to_list()\ntime_series_index(sensors)",
   "metadata": {
    "tags": [],
    "cell_id": "00006-cf49b382-cfbd-4385-9b0f-bb2993c36381",
    "deepnote_to_be_reexecuted": false,
    "source_hash": "ad45f08b",
    "execution_start": 1638336846761,
    "execution_millis": 30191,
    "deepnote_output_heights": [
     611
    ],
    "deepnote_cell_type": "code"
   },
   "outputs": [
    {
     "output_type": "execute_result",
     "execution_count": 62,
     "data": {
      "application/vnd.deepnote.dataframe.v2+json": {
       "row_count": 58,
       "column_count": 25,
       "columns": [
        {
         "name": "created_at",
         "dtype": "datetime64[ns, UTC]",
         "stats": {
          "unique_count": 58,
          "nan_count": 0,
          "min": "2021-11-24 00:01:00+00:00",
          "max": "2021-11-24 02:31:00+00:00",
          "histogram": [
           {
            "bin_start": 1637712060000000000,
            "bin_end": 1637712960000000000,
            "count": 8
           },
           {
            "bin_start": 1637712960000000000,
            "bin_end": 1637713860000000000,
            "count": 2
           },
           {
            "bin_start": 1637713860000000000,
            "bin_end": 1637714760000000000,
            "count": 7
           },
           {
            "bin_start": 1637714760000000000,
            "bin_end": 1637715660000000000,
            "count": 7
           },
           {
            "bin_start": 1637715660000000000,
            "bin_end": 1637716560000000000,
            "count": 5
           },
           {
            "bin_start": 1637716560000000000,
            "bin_end": 1637717460000000000,
            "count": 4
           },
           {
            "bin_start": 1637717460000000000,
            "bin_end": 1637718360000000000,
            "count": 6
           },
           {
            "bin_start": 1637718360000000000,
            "bin_end": 1637719260000000000,
            "count": 7
           },
           {
            "bin_start": 1637719260000000000,
            "bin_end": 1637720160000000000,
            "count": 7
           },
           {
            "bin_start": 1637720160000000000,
            "bin_end": 1637721060000000000,
            "count": 5
           }
          ]
         }
        },
        {
         "name": "2.5um/dl_x",
         "dtype": "float64",
         "stats": {
          "unique_count": 53,
          "nan_count": 0,
          "min": "0.22",
          "max": "3.84",
          "histogram": [
           {
            "bin_start": 0.22,
            "bin_end": 0.582,
            "count": 4
           },
           {
            "bin_start": 0.582,
            "bin_end": 0.944,
            "count": 8
           },
           {
            "bin_start": 0.944,
            "bin_end": 1.3059999999999998,
            "count": 13
           },
           {
            "bin_start": 1.3059999999999998,
            "bin_end": 1.668,
            "count": 11
           },
           {
            "bin_start": 1.668,
            "bin_end": 2.0300000000000002,
            "count": 6
           },
           {
            "bin_start": 2.0300000000000002,
            "bin_end": 2.392,
            "count": 7
           },
           {
            "bin_start": 2.392,
            "bin_end": 2.754,
            "count": 6
           },
           {
            "bin_start": 2.754,
            "bin_end": 3.116,
            "count": 1
           },
           {
            "bin_start": 3.116,
            "bin_end": 3.478,
            "count": 1
           },
           {
            "bin_start": 3.478,
            "bin_end": 3.84,
            "count": 1
           }
          ]
         }
        },
        {
         "name": "2.5um/dl_y",
         "dtype": "float64",
         "stats": {
          "unique_count": 53,
          "nan_count": 0,
          "min": "0.54",
          "max": "5.12",
          "histogram": [
           {
            "bin_start": 0.54,
            "bin_end": 0.998,
            "count": 1
           },
           {
            "bin_start": 0.998,
            "bin_end": 1.456,
            "count": 7
           },
           {
            "bin_start": 1.456,
            "bin_end": 1.9140000000000001,
            "count": 13
           },
           {
            "bin_start": 1.9140000000000001,
            "bin_end": 2.372,
            "count": 10
           },
           {
            "bin_start": 2.372,
            "bin_end": 2.83,
            "count": 14
           },
           {
            "bin_start": 2.83,
            "bin_end": 3.2880000000000003,
            "count": 7
           },
           {
            "bin_start": 3.2880000000000003,
            "bin_end": 3.746,
            "count": 5
           },
           {
            "bin_start": 3.746,
            "bin_end": 4.204000000000001,
            "count": 0
           },
           {
            "bin_start": 4.204000000000001,
            "bin_end": 4.662,
            "count": 0
           },
           {
            "bin_start": 4.662,
            "bin_end": 5.12,
            "count": 1
           }
          ]
         }
        },
        {
         "name": "2.5um/dl_x.1",
         "dtype": "float64",
         "stats": {
          "unique_count": 19,
          "nan_count": 0,
          "min": "0.0",
          "max": "0.89",
          "histogram": [
           {
            "bin_start": 0,
            "bin_end": 0.089,
            "count": 33
           },
           {
            "bin_start": 0.089,
            "bin_end": 0.178,
            "count": 4
           },
           {
            "bin_start": 0.178,
            "bin_end": 0.267,
            "count": 14
           },
           {
            "bin_start": 0.267,
            "bin_end": 0.356,
            "count": 2
           },
           {
            "bin_start": 0.356,
            "bin_end": 0.44499999999999995,
            "count": 2
           },
           {
            "bin_start": 0.44499999999999995,
            "bin_end": 0.534,
            "count": 1
           },
           {
            "bin_start": 0.534,
            "bin_end": 0.623,
            "count": 0
           },
           {
            "bin_start": 0.623,
            "bin_end": 0.712,
            "count": 1
           },
           {
            "bin_start": 0.712,
            "bin_end": 0.8009999999999999,
            "count": 0
           },
           {
            "bin_start": 0.8009999999999999,
            "bin_end": 0.89,
            "count": 1
           }
          ]
         }
        },
        {
         "name": "2.5um/dl_y.1",
         "dtype": "float64",
         "stats": {
          "unique_count": 58,
          "nan_count": 0,
          "min": "3.82",
          "max": "17.93",
          "histogram": [
           {
            "bin_start": 3.82,
            "bin_end": 5.231,
            "count": 10
           },
           {
            "bin_start": 5.231,
            "bin_end": 6.6419999999999995,
            "count": 14
           },
           {
            "bin_start": 6.6419999999999995,
            "bin_end": 8.053,
            "count": 10
           },
           {
            "bin_start": 8.053,
            "bin_end": 9.464,
            "count": 6
           },
           {
            "bin_start": 9.464,
            "bin_end": 10.875,
            "count": 5
           },
           {
            "bin_start": 10.875,
            "bin_end": 12.286000000000001,
            "count": 2
           },
           {
            "bin_start": 12.286000000000001,
            "bin_end": 13.697000000000001,
            "count": 3
           },
           {
            "bin_start": 13.697000000000001,
            "bin_end": 15.108,
            "count": 4
           },
           {
            "bin_start": 15.108,
            "bin_end": 16.519,
            "count": 1
           },
           {
            "bin_start": 16.519,
            "bin_end": 17.93,
            "count": 3
           }
          ]
         }
        },
        {
         "name": "2.5um/dl_x.2",
         "dtype": "float64",
         "stats": {
          "unique_count": 55,
          "nan_count": 0,
          "min": "1.96",
          "max": "14.25",
          "histogram": [
           {
            "bin_start": 1.96,
            "bin_end": 3.189,
            "count": 7
           },
           {
            "bin_start": 3.189,
            "bin_end": 4.417999999999999,
            "count": 16
           },
           {
            "bin_start": 4.417999999999999,
            "bin_end": 5.646999999999999,
            "count": 9
           },
           {
            "bin_start": 5.646999999999999,
            "bin_end": 6.8759999999999994,
            "count": 9
           },
           {
            "bin_start": 6.8759999999999994,
            "bin_end": 8.105,
            "count": 4
           },
           {
            "bin_start": 8.105,
            "bin_end": 9.334,
            "count": 4
           },
           {
            "bin_start": 9.334,
            "bin_end": 10.562999999999999,
            "count": 6
           },
           {
            "bin_start": 10.562999999999999,
            "bin_end": 11.791999999999998,
            "count": 1
           },
           {
            "bin_start": 11.791999999999998,
            "bin_end": 13.020999999999997,
            "count": 1
           },
           {
            "bin_start": 13.020999999999997,
            "bin_end": 14.25,
            "count": 1
           }
          ]
         }
        },
        {
         "name": "2.5um/dl_y.2",
         "dtype": "float64",
         "stats": {
          "unique_count": 51,
          "nan_count": 0,
          "min": "0.38",
          "max": "7.12",
          "histogram": [
           {
            "bin_start": 0.38,
            "bin_end": 1.054,
            "count": 4
           },
           {
            "bin_start": 1.054,
            "bin_end": 1.7280000000000002,
            "count": 8
           },
           {
            "bin_start": 1.7280000000000002,
            "bin_end": 2.402,
            "count": 17
           },
           {
            "bin_start": 2.402,
            "bin_end": 3.076,
            "count": 11
           },
           {
            "bin_start": 3.076,
            "bin_end": 3.75,
            "count": 6
           },
           {
            "bin_start": 3.75,
            "bin_end": 4.424,
            "count": 6
           },
           {
            "bin_start": 4.424,
            "bin_end": 5.098,
            "count": 3
           },
           {
            "bin_start": 5.098,
            "bin_end": 5.772,
            "count": 2
           },
           {
            "bin_start": 5.772,
            "bin_end": 6.446000000000001,
            "count": 0
           },
           {
            "bin_start": 6.446000000000001,
            "bin_end": 7.12,
            "count": 1
           }
          ]
         }
        },
        {
         "name": "2.5um/dl_x.3",
         "dtype": "float64",
         "stats": {
          "unique_count": 48,
          "nan_count": 0,
          "min": "0.85",
          "max": "5.22",
          "histogram": [
           {
            "bin_start": 0.85,
            "bin_end": 1.287,
            "count": 4
           },
           {
            "bin_start": 1.287,
            "bin_end": 1.724,
            "count": 4
           },
           {
            "bin_start": 1.724,
            "bin_end": 2.161,
            "count": 12
           },
           {
            "bin_start": 2.161,
            "bin_end": 2.598,
            "count": 7
           },
           {
            "bin_start": 2.598,
            "bin_end": 3.035,
            "count": 4
           },
           {
            "bin_start": 3.035,
            "bin_end": 3.472,
            "count": 8
           },
           {
            "bin_start": 3.472,
            "bin_end": 3.9090000000000003,
            "count": 7
           },
           {
            "bin_start": 3.9090000000000003,
            "bin_end": 4.346,
            "count": 4
           },
           {
            "bin_start": 4.346,
            "bin_end": 4.7829999999999995,
            "count": 5
           },
           {
            "bin_start": 4.7829999999999995,
            "bin_end": 5.22,
            "count": 3
           }
          ]
         }
        },
        {
         "name": "2.5um/dl_y.3",
         "dtype": "float64",
         "stats": {
          "unique_count": 53,
          "nan_count": 0,
          "min": "0.49",
          "max": "4.0",
          "histogram": [
           {
            "bin_start": 0.49,
            "bin_end": 0.841,
            "count": 8
           },
           {
            "bin_start": 0.841,
            "bin_end": 1.192,
            "count": 11
           },
           {
            "bin_start": 1.192,
            "bin_end": 1.543,
            "count": 7
           },
           {
            "bin_start": 1.543,
            "bin_end": 1.894,
            "count": 12
           },
           {
            "bin_start": 1.894,
            "bin_end": 2.245,
            "count": 7
           },
           {
            "bin_start": 2.245,
            "bin_end": 2.596,
            "count": 5
           },
           {
            "bin_start": 2.596,
            "bin_end": 2.947,
            "count": 4
           },
           {
            "bin_start": 2.947,
            "bin_end": 3.298,
            "count": 1
           },
           {
            "bin_start": 3.298,
            "bin_end": 3.649,
            "count": 1
           },
           {
            "bin_start": 3.649,
            "bin_end": 4,
            "count": 2
           }
          ]
         }
        },
        {
         "name": "2.5um/dl_x.4",
         "dtype": "float64",
         "stats": {
          "unique_count": 58,
          "nan_count": 0,
          "min": "0.97",
          "max": "9.41",
          "histogram": [
           {
            "bin_start": 0.97,
            "bin_end": 1.814,
            "count": 4
           },
           {
            "bin_start": 1.814,
            "bin_end": 2.658,
            "count": 6
           },
           {
            "bin_start": 2.658,
            "bin_end": 3.502,
            "count": 11
           },
           {
            "bin_start": 3.502,
            "bin_end": 4.346,
            "count": 16
           },
           {
            "bin_start": 4.346,
            "bin_end": 5.1899999999999995,
            "count": 13
           },
           {
            "bin_start": 5.1899999999999995,
            "bin_end": 6.034,
            "count": 5
           },
           {
            "bin_start": 6.034,
            "bin_end": 6.877999999999999,
            "count": 1
           },
           {
            "bin_start": 6.877999999999999,
            "bin_end": 7.7219999999999995,
            "count": 1
           },
           {
            "bin_start": 7.7219999999999995,
            "bin_end": 8.566,
            "count": 0
           },
           {
            "bin_start": 8.566,
            "bin_end": 9.41,
            "count": 1
           }
          ]
         }
        },
        {
         "name": "2.5um/dl_y.4",
         "dtype": "float64",
         "stats": {
          "unique_count": 57,
          "nan_count": 0,
          "min": "1.25",
          "max": "15.14",
          "histogram": [
           {
            "bin_start": 1.25,
            "bin_end": 2.6390000000000002,
            "count": 4
           },
           {
            "bin_start": 2.6390000000000002,
            "bin_end": 4.0280000000000005,
            "count": 10
           },
           {
            "bin_start": 4.0280000000000005,
            "bin_end": 5.417,
            "count": 3
           },
           {
            "bin_start": 5.417,
            "bin_end": 6.806,
            "count": 11
           },
           {
            "bin_start": 6.806,
            "bin_end": 8.195,
            "count": 5
           },
           {
            "bin_start": 8.195,
            "bin_end": 9.584,
            "count": 7
           },
           {
            "bin_start": 9.584,
            "bin_end": 10.973,
            "count": 7
           },
           {
            "bin_start": 10.973,
            "bin_end": 12.362,
            "count": 6
           },
           {
            "bin_start": 12.362,
            "bin_end": 13.751,
            "count": 1
           },
           {
            "bin_start": 13.751,
            "bin_end": 15.14,
            "count": 4
           }
          ]
         }
        },
        {
         "name": "2.5um/dl_x.5",
         "dtype": "float64",
         "stats": {
          "unique_count": 1,
          "nan_count": 0,
          "min": "0.0",
          "max": "0.0",
          "histogram": [
           {
            "bin_start": -0.5,
            "bin_end": -0.4,
            "count": 0
           },
           {
            "bin_start": -0.4,
            "bin_end": -0.3,
            "count": 0
           },
           {
            "bin_start": -0.3,
            "bin_end": -0.19999999999999996,
            "count": 0
           },
           {
            "bin_start": -0.19999999999999996,
            "bin_end": -0.09999999999999998,
            "count": 0
           },
           {
            "bin_start": -0.09999999999999998,
            "bin_end": 0,
            "count": 0
           },
           {
            "bin_start": 0,
            "bin_end": 0.10000000000000009,
            "count": 58
           },
           {
            "bin_start": 0.10000000000000009,
            "bin_end": 0.20000000000000007,
            "count": 0
           },
           {
            "bin_start": 0.20000000000000007,
            "bin_end": 0.30000000000000004,
            "count": 0
           },
           {
            "bin_start": 0.30000000000000004,
            "bin_end": 0.4,
            "count": 0
           },
           {
            "bin_start": 0.4,
            "bin_end": 0.5,
            "count": 0
           }
          ]
         }
        },
        {
         "name": "2.5um/dl_y.5",
         "dtype": "float64",
         "stats": {
          "unique_count": 55,
          "nan_count": 0,
          "min": "1.24",
          "max": "14.63",
          "histogram": [
           {
            "bin_start": 1.24,
            "bin_end": 2.5789999999999997,
            "count": 13
           },
           {
            "bin_start": 2.5789999999999997,
            "bin_end": 3.918,
            "count": 15
           },
           {
            "bin_start": 3.918,
            "bin_end": 5.257,
            "count": 5
           },
           {
            "bin_start": 5.257,
            "bin_end": 6.596,
            "count": 5
           },
           {
            "bin_start": 6.596,
            "bin_end": 7.9350000000000005,
            "count": 9
           },
           {
            "bin_start": 7.9350000000000005,
            "bin_end": 9.274,
            "count": 6
           },
           {
            "bin_start": 9.274,
            "bin_end": 10.613,
            "count": 1
           },
           {
            "bin_start": 10.613,
            "bin_end": 11.952,
            "count": 1
           },
           {
            "bin_start": 11.952,
            "bin_end": 13.291,
            "count": 1
           },
           {
            "bin_start": 13.291,
            "bin_end": 14.63,
            "count": 2
           }
          ]
         }
        },
        {
         "name": "2.5um/dl_x.6",
         "dtype": "float64",
         "stats": {
          "unique_count": 55,
          "nan_count": 0,
          "min": "0.97",
          "max": "10.11",
          "histogram": [
           {
            "bin_start": 0.97,
            "bin_end": 1.884,
            "count": 9
           },
           {
            "bin_start": 1.884,
            "bin_end": 2.798,
            "count": 14
           },
           {
            "bin_start": 2.798,
            "bin_end": 3.7119999999999997,
            "count": 11
           },
           {
            "bin_start": 3.7119999999999997,
            "bin_end": 4.6259999999999994,
            "count": 17
           },
           {
            "bin_start": 4.6259999999999994,
            "bin_end": 5.539999999999999,
            "count": 2
           },
           {
            "bin_start": 5.539999999999999,
            "bin_end": 6.454,
            "count": 1
           },
           {
            "bin_start": 6.454,
            "bin_end": 7.367999999999999,
            "count": 2
           },
           {
            "bin_start": 7.367999999999999,
            "bin_end": 8.282,
            "count": 0
           },
           {
            "bin_start": 8.282,
            "bin_end": 9.196,
            "count": 0
           },
           {
            "bin_start": 9.196,
            "bin_end": 10.11,
            "count": 2
           }
          ]
         }
        },
        {
         "name": "2.5um/dl_y.6",
         "dtype": "float64",
         "stats": {
          "unique_count": 53,
          "nan_count": 0,
          "min": "0.88",
          "max": "8.07",
          "histogram": [
           {
            "bin_start": 0.88,
            "bin_end": 1.5990000000000002,
            "count": 10
           },
           {
            "bin_start": 1.5990000000000002,
            "bin_end": 2.318,
            "count": 9
           },
           {
            "bin_start": 2.318,
            "bin_end": 3.037,
            "count": 10
           },
           {
            "bin_start": 3.037,
            "bin_end": 3.7560000000000002,
            "count": 7
           },
           {
            "bin_start": 3.7560000000000002,
            "bin_end": 4.4750000000000005,
            "count": 3
           },
           {
            "bin_start": 4.4750000000000005,
            "bin_end": 5.194,
            "count": 1
           },
           {
            "bin_start": 5.194,
            "bin_end": 5.913,
            "count": 3
           },
           {
            "bin_start": 5.913,
            "bin_end": 6.632000000000001,
            "count": 6
           },
           {
            "bin_start": 6.632000000000001,
            "bin_end": 7.351000000000001,
            "count": 5
           },
           {
            "bin_start": 7.351000000000001,
            "bin_end": 8.07,
            "count": 4
           }
          ]
         }
        },
        {
         "name": "2.5um/dl_x.7",
         "dtype": "float64",
         "stats": {
          "unique_count": 53,
          "nan_count": 0,
          "min": "0.84",
          "max": "5.54",
          "histogram": [
           {
            "bin_start": 0.84,
            "bin_end": 1.31,
            "count": 7
           },
           {
            "bin_start": 1.31,
            "bin_end": 1.78,
            "count": 7
           },
           {
            "bin_start": 1.78,
            "bin_end": 2.25,
            "count": 13
           },
           {
            "bin_start": 2.25,
            "bin_end": 2.72,
            "count": 4
           },
           {
            "bin_start": 2.72,
            "bin_end": 3.19,
            "count": 11
           },
           {
            "bin_start": 3.19,
            "bin_end": 3.66,
            "count": 7
           },
           {
            "bin_start": 3.66,
            "bin_end": 4.13,
            "count": 4
           },
           {
            "bin_start": 4.13,
            "bin_end": 4.6000000000000005,
            "count": 1
           },
           {
            "bin_start": 4.6000000000000005,
            "bin_end": 5.07,
            "count": 1
           },
           {
            "bin_start": 5.07,
            "bin_end": 5.54,
            "count": 3
           }
          ]
         }
        },
        {
         "name": "2.5um/dl_y.7",
         "dtype": "float64",
         "stats": {
          "unique_count": 51,
          "nan_count": 0,
          "min": "1.31",
          "max": "8.67",
          "histogram": [
           {
            "bin_start": 1.31,
            "bin_end": 2.0460000000000003,
            "count": 3
           },
           {
            "bin_start": 2.0460000000000003,
            "bin_end": 2.782,
            "count": 4
           },
           {
            "bin_start": 2.782,
            "bin_end": 3.5180000000000002,
            "count": 14
           },
           {
            "bin_start": 3.5180000000000002,
            "bin_end": 4.254,
            "count": 12
           },
           {
            "bin_start": 4.254,
            "bin_end": 4.99,
            "count": 8
           },
           {
            "bin_start": 4.99,
            "bin_end": 5.726000000000001,
            "count": 9
           },
           {
            "bin_start": 5.726000000000001,
            "bin_end": 6.462,
            "count": 4
           },
           {
            "bin_start": 6.462,
            "bin_end": 7.198,
            "count": 2
           },
           {
            "bin_start": 7.198,
            "bin_end": 7.933999999999999,
            "count": 1
           },
           {
            "bin_start": 7.933999999999999,
            "bin_end": 8.67,
            "count": 1
           }
          ]
         }
        },
        {
         "name": "2.5um/dl_x.8",
         "dtype": "float64",
         "stats": {
          "unique_count": 49,
          "nan_count": 0,
          "min": "0.31",
          "max": "4.79",
          "histogram": [
           {
            "bin_start": 0.31,
            "bin_end": 0.758,
            "count": 4
           },
           {
            "bin_start": 0.758,
            "bin_end": 1.2060000000000002,
            "count": 8
           },
           {
            "bin_start": 1.2060000000000002,
            "bin_end": 1.6540000000000004,
            "count": 10
           },
           {
            "bin_start": 1.6540000000000004,
            "bin_end": 2.1020000000000003,
            "count": 11
           },
           {
            "bin_start": 2.1020000000000003,
            "bin_end": 2.5500000000000003,
            "count": 8
           },
           {
            "bin_start": 2.5500000000000003,
            "bin_end": 2.9980000000000007,
            "count": 4
           },
           {
            "bin_start": 2.9980000000000007,
            "bin_end": 3.4460000000000006,
            "count": 9
           },
           {
            "bin_start": 3.4460000000000006,
            "bin_end": 3.8940000000000006,
            "count": 2
           },
           {
            "bin_start": 3.8940000000000006,
            "bin_end": 4.3420000000000005,
            "count": 0
           },
           {
            "bin_start": 4.3420000000000005,
            "bin_end": 4.79,
            "count": 2
           }
          ]
         }
        },
        {
         "name": "2.5um/dl_y.8",
         "dtype": "float64",
         "stats": {
          "unique_count": 54,
          "nan_count": 0,
          "min": "0.55",
          "max": "4.98",
          "histogram": [
           {
            "bin_start": 0.55,
            "bin_end": 0.9930000000000001,
            "count": 4
           },
           {
            "bin_start": 0.9930000000000001,
            "bin_end": 1.4360000000000002,
            "count": 7
           },
           {
            "bin_start": 1.4360000000000002,
            "bin_end": 1.8790000000000002,
            "count": 9
           },
           {
            "bin_start": 1.8790000000000002,
            "bin_end": 2.322,
            "count": 8
           },
           {
            "bin_start": 2.322,
            "bin_end": 2.7650000000000006,
            "count": 7
           },
           {
            "bin_start": 2.7650000000000006,
            "bin_end": 3.208,
            "count": 9
           },
           {
            "bin_start": 3.208,
            "bin_end": 3.6510000000000007,
            "count": 4
           },
           {
            "bin_start": 3.6510000000000007,
            "bin_end": 4.094,
            "count": 5
           },
           {
            "bin_start": 4.094,
            "bin_end": 4.537000000000001,
            "count": 2
           },
           {
            "bin_start": 4.537000000000001,
            "bin_end": 4.98,
            "count": 3
           }
          ]
         }
        },
        {
         "name": "2.5um/dl_x.9",
         "dtype": "float64",
         "stats": {
          "unique_count": 51,
          "nan_count": 0,
          "min": "0.12",
          "max": "2.8",
          "histogram": [
           {
            "bin_start": 0.12,
            "bin_end": 0.38799999999999996,
            "count": 2
           },
           {
            "bin_start": 0.38799999999999996,
            "bin_end": 0.6559999999999999,
            "count": 5
           },
           {
            "bin_start": 0.6559999999999999,
            "bin_end": 0.9239999999999998,
            "count": 9
           },
           {
            "bin_start": 0.9239999999999998,
            "bin_end": 1.1919999999999997,
            "count": 5
           },
           {
            "bin_start": 1.1919999999999997,
            "bin_end": 1.46,
            "count": 8
           },
           {
            "bin_start": 1.46,
            "bin_end": 1.7279999999999998,
            "count": 5
           },
           {
            "bin_start": 1.7279999999999998,
            "bin_end": 1.9959999999999996,
            "count": 7
           },
           {
            "bin_start": 1.9959999999999996,
            "bin_end": 2.264,
            "count": 8
           },
           {
            "bin_start": 2.264,
            "bin_end": 2.5319999999999996,
            "count": 7
           },
           {
            "bin_start": 2.5319999999999996,
            "bin_end": 2.8,
            "count": 2
           }
          ]
         }
        },
        {
         "name": "2.5um/dl_y.9",
         "dtype": "float64",
         "stats": {
          "unique_count": 54,
          "nan_count": 0,
          "min": "1.04",
          "max": "7.53",
          "histogram": [
           {
            "bin_start": 1.04,
            "bin_end": 1.689,
            "count": 3
           },
           {
            "bin_start": 1.689,
            "bin_end": 2.338,
            "count": 3
           },
           {
            "bin_start": 2.338,
            "bin_end": 2.987,
            "count": 10
           },
           {
            "bin_start": 2.987,
            "bin_end": 3.636,
            "count": 11
           },
           {
            "bin_start": 3.636,
            "bin_end": 4.285,
            "count": 11
           },
           {
            "bin_start": 4.285,
            "bin_end": 4.934,
            "count": 9
           },
           {
            "bin_start": 4.934,
            "bin_end": 5.583,
            "count": 5
           },
           {
            "bin_start": 5.583,
            "bin_end": 6.232,
            "count": 4
           },
           {
            "bin_start": 6.232,
            "bin_end": 6.881,
            "count": 1
           },
           {
            "bin_start": 6.881,
            "bin_end": 7.53,
            "count": 1
           }
          ]
         }
        },
        {
         "name": "2.5um/dl_x.10",
         "dtype": "float64",
         "stats": {
          "unique_count": 21,
          "nan_count": 0,
          "min": "0.0",
          "max": "2.32",
          "histogram": [
           {
            "bin_start": 0,
            "bin_end": 0.23199999999999998,
            "count": 42
           },
           {
            "bin_start": 0.23199999999999998,
            "bin_end": 0.46399999999999997,
            "count": 5
           },
           {
            "bin_start": 0.46399999999999997,
            "bin_end": 0.696,
            "count": 2
           },
           {
            "bin_start": 0.696,
            "bin_end": 0.9279999999999999,
            "count": 1
           },
           {
            "bin_start": 0.9279999999999999,
            "bin_end": 1.16,
            "count": 3
           },
           {
            "bin_start": 1.16,
            "bin_end": 1.392,
            "count": 0
           },
           {
            "bin_start": 1.392,
            "bin_end": 1.6239999999999999,
            "count": 2
           },
           {
            "bin_start": 1.6239999999999999,
            "bin_end": 1.8559999999999999,
            "count": 1
           },
           {
            "bin_start": 1.8559999999999999,
            "bin_end": 2.088,
            "count": 0
           },
           {
            "bin_start": 2.088,
            "bin_end": 2.32,
            "count": 2
           }
          ]
         }
        },
        {
         "name": "2.5um/dl_y.10",
         "dtype": "float64",
         "stats": {
          "unique_count": 54,
          "nan_count": 0,
          "min": "0.1",
          "max": "3.96",
          "histogram": [
           {
            "bin_start": 0.1,
            "bin_end": 0.486,
            "count": 6
           },
           {
            "bin_start": 0.486,
            "bin_end": 0.872,
            "count": 2
           },
           {
            "bin_start": 0.872,
            "bin_end": 1.258,
            "count": 13
           },
           {
            "bin_start": 1.258,
            "bin_end": 1.6440000000000001,
            "count": 9
           },
           {
            "bin_start": 1.6440000000000001,
            "bin_end": 2.0300000000000002,
            "count": 8
           },
           {
            "bin_start": 2.0300000000000002,
            "bin_end": 2.416,
            "count": 8
           },
           {
            "bin_start": 2.416,
            "bin_end": 2.802,
            "count": 4
           },
           {
            "bin_start": 2.802,
            "bin_end": 3.188,
            "count": 3
           },
           {
            "bin_start": 3.188,
            "bin_end": 3.5740000000000003,
            "count": 3
           },
           {
            "bin_start": 3.5740000000000003,
            "bin_end": 3.96,
            "count": 2
           }
          ]
         }
        },
        {
         "name": "2.5um/dl_x.11",
         "dtype": "float64",
         "stats": {
          "unique_count": 51,
          "nan_count": 0,
          "min": "0.0",
          "max": "3.85",
          "histogram": [
           {
            "bin_start": 0,
            "bin_end": 0.385,
            "count": 2
           },
           {
            "bin_start": 0.385,
            "bin_end": 0.77,
            "count": 4
           },
           {
            "bin_start": 0.77,
            "bin_end": 1.155,
            "count": 11
           },
           {
            "bin_start": 1.155,
            "bin_end": 1.54,
            "count": 17
           },
           {
            "bin_start": 1.54,
            "bin_end": 1.925,
            "count": 9
           },
           {
            "bin_start": 1.925,
            "bin_end": 2.31,
            "count": 8
           },
           {
            "bin_start": 2.31,
            "bin_end": 2.6950000000000003,
            "count": 2
           },
           {
            "bin_start": 2.6950000000000003,
            "bin_end": 3.08,
            "count": 3
           },
           {
            "bin_start": 3.08,
            "bin_end": 3.465,
            "count": 1
           },
           {
            "bin_start": 3.465,
            "bin_end": 3.85,
            "count": 1
           }
          ]
         }
        },
        {
         "name": "2.5um/dl_y.11",
         "dtype": "float64",
         "stats": {
          "unique_count": 55,
          "nan_count": 0,
          "min": "1.0",
          "max": "6.8",
          "histogram": [
           {
            "bin_start": 1,
            "bin_end": 1.58,
            "count": 3
           },
           {
            "bin_start": 1.58,
            "bin_end": 2.16,
            "count": 7
           },
           {
            "bin_start": 2.16,
            "bin_end": 2.7399999999999998,
            "count": 14
           },
           {
            "bin_start": 2.7399999999999998,
            "bin_end": 3.32,
            "count": 8
           },
           {
            "bin_start": 3.32,
            "bin_end": 3.9,
            "count": 12
           },
           {
            "bin_start": 3.9,
            "bin_end": 4.4799999999999995,
            "count": 7
           },
           {
            "bin_start": 4.4799999999999995,
            "bin_end": 5.06,
            "count": 3
           },
           {
            "bin_start": 5.06,
            "bin_end": 5.64,
            "count": 2
           },
           {
            "bin_start": 5.64,
            "bin_end": 6.22,
            "count": 0
           },
           {
            "bin_start": 6.22,
            "bin_end": 6.8,
            "count": 2
           }
          ]
         }
        },
        {
         "name": "_deepnote_index_column",
         "dtype": "int64"
        }
       ],
       "rows_top": [
        {
         "created_at": "2021-11-24T00:01:00.000000",
         "2.5um/dl_x": 1.33,
         "2.5um/dl_y": 1.6,
         "2.5um/dl_x.1": 0,
         "2.5um/dl_y.1": 9.32,
         "2.5um/dl_x.2": 2.48,
         "2.5um/dl_y.2": 2.04,
         "2.5um/dl_x.3": 1.96,
         "2.5um/dl_y.3": 1.36,
         "2.5um/dl_x.4": 1.93,
         "2.5um/dl_y.4": 1.28,
         "2.5um/dl_x.5": 0,
         "2.5um/dl_y.5": 2.21,
         "2.5um/dl_x.6": 2.65,
         "2.5um/dl_y.6": 3.53,
         "2.5um/dl_x.7": 1.43,
         "2.5um/dl_y.7": 4.56,
         "2.5um/dl_x.8": 3.19,
         "2.5um/dl_y.8": 2.76,
         "2.5um/dl_x.9": 1.26,
         "2.5um/dl_y.9": 2.05,
         "2.5um/dl_x.10": 0,
         "2.5um/dl_y.10": 0.65,
         "2.5um/dl_x.11": 0.25,
         "2.5um/dl_y.11": 3.8,
         "_deepnote_index_column": 0
        },
        {
         "created_at": "2021-11-24T00:03:00.000000",
         "2.5um/dl_x": 0.72,
         "2.5um/dl_y": 2.81,
         "2.5um/dl_x.1": 0,
         "2.5um/dl_y.1": 6.5,
         "2.5um/dl_x.2": 3.7,
         "2.5um/dl_y.2": 0.38,
         "2.5um/dl_x.3": 2.5,
         "2.5um/dl_y.3": 1.16,
         "2.5um/dl_x.4": 1.64,
         "2.5um/dl_y.4": 5.72,
         "2.5um/dl_x.5": 0,
         "2.5um/dl_y.5": 2.93,
         "2.5um/dl_x.6": 2.14,
         "2.5um/dl_y.6": 2.29,
         "2.5um/dl_x.7": 2.28,
         "2.5um/dl_y.7": 3.2,
         "2.5um/dl_x.8": 1.79,
         "2.5um/dl_y.8": 1.03,
         "2.5um/dl_x.9": 0.84,
         "2.5um/dl_y.9": 1.04,
         "2.5um/dl_x.10": 0.02,
         "2.5um/dl_y.10": 0.89,
         "2.5um/dl_x.11": 1.18,
         "2.5um/dl_y.11": 1.79,
         "_deepnote_index_column": 1
        },
        {
         "created_at": "2021-11-24T00:05:00.000000",
         "2.5um/dl_x": 1.76,
         "2.5um/dl_y": 3.4,
         "2.5um/dl_x.1": 0.49,
         "2.5um/dl_y.1": 9.53,
         "2.5um/dl_x.2": 6.74,
         "2.5um/dl_y.2": 2.21,
         "2.5um/dl_x.3": 1.72,
         "2.5um/dl_y.3": 3.02,
         "2.5um/dl_x.4": 5.03,
         "2.5um/dl_y.4": 2.32,
         "2.5um/dl_x.5": 0,
         "2.5um/dl_y.5": 1.6,
         "2.5um/dl_x.6": 2.44,
         "2.5um/dl_y.6": 3.02,
         "2.5um/dl_x.7": 2.14,
         "2.5um/dl_y.7": 3.86,
         "2.5um/dl_x.8": 2.96,
         "2.5um/dl_y.8": 1.52,
         "2.5um/dl_x.9": 0.83,
         "2.5um/dl_y.9": 2.49,
         "2.5um/dl_x.10": 0.39,
         "2.5um/dl_y.10": 1.3,
         "2.5um/dl_x.11": 1.12,
         "2.5um/dl_y.11": 3.4,
         "_deepnote_index_column": 2
        },
        {
         "created_at": "2021-11-24T00:07:00.000000",
         "2.5um/dl_x": 0.67,
         "2.5um/dl_y": 2.56,
         "2.5um/dl_x.1": 0.25,
         "2.5um/dl_y.1": 4.11,
         "2.5um/dl_x.2": 4.17,
         "2.5um/dl_y.2": 1.86,
         "2.5um/dl_x.3": 1.9,
         "2.5um/dl_y.3": 0.93,
         "2.5um/dl_x.4": 3.78,
         "2.5um/dl_y.4": 3.57,
         "2.5um/dl_x.5": 0,
         "2.5um/dl_y.5": 3.32,
         "2.5um/dl_x.6": 2,
         "2.5um/dl_y.6": 4.23,
         "2.5um/dl_x.7": 4.04,
         "2.5um/dl_y.7": 3.17,
         "2.5um/dl_x.8": 2,
         "2.5um/dl_y.8": 2.1,
         "2.5um/dl_x.9": 1.43,
         "2.5um/dl_y.9": 2.54,
         "2.5um/dl_x.10": 0.02,
         "2.5um/dl_y.10": 1.36,
         "2.5um/dl_x.11": 0.72,
         "2.5um/dl_y.11": 5.13,
         "_deepnote_index_column": 3
        },
        {
         "created_at": "2021-11-24T00:09:00.000000",
         "2.5um/dl_x": 0.98,
         "2.5um/dl_y": 2.64,
         "2.5um/dl_x.1": 0.4,
         "2.5um/dl_y.1": 5.68,
         "2.5um/dl_x.2": 3.62,
         "2.5um/dl_y.2": 2.04,
         "2.5um/dl_x.3": 1.03,
         "2.5um/dl_y.3": 1.67,
         "2.5um/dl_x.4": 3.1,
         "2.5um/dl_y.4": 3.4,
         "2.5um/dl_x.5": 0,
         "2.5um/dl_y.5": 1.52,
         "2.5um/dl_x.6": 1.24,
         "2.5um/dl_y.6": 3.61,
         "2.5um/dl_x.7": 1.2,
         "2.5um/dl_y.7": 4.21,
         "2.5um/dl_x.8": 0.9,
         "2.5um/dl_y.8": 2.97,
         "2.5um/dl_x.9": 2.33,
         "2.5um/dl_y.9": 1.41,
         "2.5um/dl_x.10": 0,
         "2.5um/dl_y.10": 0.29,
         "2.5um/dl_x.11": 1.33,
         "2.5um/dl_y.11": 1.05,
         "_deepnote_index_column": 4
        },
        {
         "created_at": "2021-11-24T00:11:00.000000",
         "2.5um/dl_x": 1.03,
         "2.5um/dl_y": 2.29,
         "2.5um/dl_x.1": 0.1,
         "2.5um/dl_y.1": 9.68,
         "2.5um/dl_x.2": 6.18,
         "2.5um/dl_y.2": 4.9,
         "2.5um/dl_x.3": 2.44,
         "2.5um/dl_y.3": 0.78,
         "2.5um/dl_x.4": 4,
         "2.5um/dl_y.4": 1.25,
         "2.5um/dl_x.5": 0,
         "2.5um/dl_y.5": 4.38,
         "2.5um/dl_x.6": 2.54,
         "2.5um/dl_y.6": 1.54,
         "2.5um/dl_x.7": 1.44,
         "2.5um/dl_y.7": 1.31,
         "2.5um/dl_x.8": 1.79,
         "2.5um/dl_y.8": 2.56,
         "2.5um/dl_x.9": 0.83,
         "2.5um/dl_y.9": 2.05,
         "2.5um/dl_x.10": 0,
         "2.5um/dl_y.10": 0.47,
         "2.5um/dl_x.11": 0.52,
         "2.5um/dl_y.11": 2.17,
         "_deepnote_index_column": 5
        },
        {
         "created_at": "2021-11-24T00:13:00.000000",
         "2.5um/dl_x": 1.36,
         "2.5um/dl_y": 2.53,
         "2.5um/dl_x.1": 0.24,
         "2.5um/dl_y.1": 4.95,
         "2.5um/dl_x.2": 5.7,
         "2.5um/dl_y.2": 2.42,
         "2.5um/dl_x.3": 2.56,
         "2.5um/dl_y.3": 2.72,
         "2.5um/dl_x.4": 2.88,
         "2.5um/dl_y.4": 3.34,
         "2.5um/dl_x.5": 0,
         "2.5um/dl_y.5": 1.43,
         "2.5um/dl_x.6": 3.32,
         "2.5um/dl_y.6": 4.14,
         "2.5um/dl_x.7": 1.28,
         "2.5um/dl_y.7": 3.96,
         "2.5um/dl_x.8": 1.05,
         "2.5um/dl_y.8": 1.75,
         "2.5um/dl_x.9": 1.2,
         "2.5um/dl_y.9": 3.02,
         "2.5um/dl_x.10": 0,
         "2.5um/dl_y.10": 1.04,
         "2.5um/dl_x.11": 1.11,
         "2.5um/dl_y.11": 2.65,
         "_deepnote_index_column": 6
        },
        {
         "created_at": "2021-11-24T00:15:00.000000",
         "2.5um/dl_x": 1.47,
         "2.5um/dl_y": 2.74,
         "2.5um/dl_x.1": 0,
         "2.5um/dl_y.1": 6.1,
         "2.5um/dl_x.2": 3.86,
         "2.5um/dl_y.2": 2.32,
         "2.5um/dl_x.3": 0.85,
         "2.5um/dl_y.3": 1.89,
         "2.5um/dl_x.4": 3.5,
         "2.5um/dl_y.4": 6.04,
         "2.5um/dl_x.5": 0,
         "2.5um/dl_y.5": 1.57,
         "2.5um/dl_x.6": 1.11,
         "2.5um/dl_y.6": 1.67,
         "2.5um/dl_x.7": 1.44,
         "2.5um/dl_y.7": 3.76,
         "2.5um/dl_x.8": 1.72,
         "2.5um/dl_y.8": 0.62,
         "2.5um/dl_x.9": 1.79,
         "2.5um/dl_y.9": 2.83,
         "2.5um/dl_x.10": 0,
         "2.5um/dl_y.10": 2.35,
         "2.5um/dl_x.11": 1.51,
         "2.5um/dl_y.11": 2.21,
         "_deepnote_index_column": 7
        },
        {
         "created_at": "2021-11-24T00:21:00.000000",
         "2.5um/dl_x": 1.21,
         "2.5um/dl_y": 1.54,
         "2.5um/dl_x.1": 0.14,
         "2.5um/dl_y.1": 6.69,
         "2.5um/dl_x.2": 3.57,
         "2.5um/dl_y.2": 2,
         "2.5um/dl_x.3": 2.07,
         "2.5um/dl_y.3": 3.63,
         "2.5um/dl_x.4": 4.14,
         "2.5um/dl_y.4": 3.29,
         "2.5um/dl_x.5": 0,
         "2.5um/dl_y.5": 2.07,
         "2.5um/dl_x.6": 1.29,
         "2.5um/dl_y.6": 2.07,
         "2.5um/dl_x.7": 0.84,
         "2.5um/dl_y.7": 4.64,
         "2.5um/dl_x.8": 0.95,
         "2.5um/dl_y.8": 1.05,
         "2.5um/dl_x.9": 0.49,
         "2.5um/dl_y.9": 3.98,
         "2.5um/dl_x.10": 0.23,
         "2.5um/dl_y.10": 0.78,
         "2.5um/dl_x.11": 1.69,
         "2.5um/dl_y.11": 3.55,
         "_deepnote_index_column": 10
        },
        {
         "created_at": "2021-11-24T00:23:00.000000",
         "2.5um/dl_x": 1.49,
         "2.5um/dl_y": 2.26,
         "2.5um/dl_x.1": 0.27,
         "2.5um/dl_y.1": 3.97,
         "2.5um/dl_x.2": 4.53,
         "2.5um/dl_y.2": 1.47,
         "2.5um/dl_x.3": 3.24,
         "2.5um/dl_y.3": 2.27,
         "2.5um/dl_x.4": 4.88,
         "2.5um/dl_y.4": 3.96,
         "2.5um/dl_x.5": 0,
         "2.5um/dl_y.5": 1.89,
         "2.5um/dl_x.6": 3.75,
         "2.5um/dl_y.6": 1.19,
         "2.5um/dl_x.7": 2.28,
         "2.5um/dl_y.7": 1.7,
         "2.5um/dl_x.8": 0.31,
         "2.5um/dl_y.8": 1.71,
         "2.5um/dl_x.9": 1.6,
         "2.5um/dl_y.9": 3.41,
         "2.5um/dl_x.10": 0,
         "2.5um/dl_y.10": 0.46,
         "2.5um/dl_x.11": 0.76,
         "2.5um/dl_y.11": 2.85,
         "_deepnote_index_column": 11
        },
        {
         "created_at": "2021-11-24T00:33:00.000000",
         "2.5um/dl_x": 1.77,
         "2.5um/dl_y": 1.79,
         "2.5um/dl_x.1": 0.25,
         "2.5um/dl_y.1": 4.03,
         "2.5um/dl_x.2": 4.59,
         "2.5um/dl_y.2": 2.95,
         "2.5um/dl_x.3": 1.93,
         "2.5um/dl_y.3": 1.2,
         "2.5um/dl_x.4": 3.45,
         "2.5um/dl_y.4": 3.95,
         "2.5um/dl_x.5": 0,
         "2.5um/dl_y.5": 2.35,
         "2.5um/dl_x.6": 3.18,
         "2.5um/dl_y.6": 1.47,
         "2.5um/dl_x.7": 2.64,
         "2.5um/dl_y.7": 3.21,
         "2.5um/dl_x.8": 3,
         "2.5um/dl_y.8": 1.31,
         "2.5um/dl_x.9": 0.72,
         "2.5um/dl_y.9": 3.67,
         "2.5um/dl_x.10": 0,
         "2.5um/dl_y.10": 2.19,
         "2.5um/dl_x.11": 1.2,
         "2.5um/dl_y.11": 2.77,
         "_deepnote_index_column": 16
        },
        {
         "created_at": "2021-11-24T00:35:00.000000",
         "2.5um/dl_x": 0.95,
         "2.5um/dl_y": 0.54,
         "2.5um/dl_x.1": 0.21,
         "2.5um/dl_y.1": 4.89,
         "2.5um/dl_x.2": 5.69,
         "2.5um/dl_y.2": 2.4,
         "2.5um/dl_x.3": 1.75,
         "2.5um/dl_y.3": 1.68,
         "2.5um/dl_x.4": 3.68,
         "2.5um/dl_y.4": 6.71,
         "2.5um/dl_x.5": 0,
         "2.5um/dl_y.5": 3.12,
         "2.5um/dl_x.6": 2.97,
         "2.5um/dl_y.6": 2.6,
         "2.5um/dl_x.7": 1.97,
         "2.5um/dl_y.7": 2.64,
         "2.5um/dl_x.8": 3.79,
         "2.5um/dl_y.8": 0.7,
         "2.5um/dl_x.9": 2.6,
         "2.5um/dl_y.9": 4.84,
         "2.5um/dl_x.10": 0,
         "2.5um/dl_y.10": 1.17,
         "2.5um/dl_x.11": 2.31,
         "2.5um/dl_y.11": 2.38,
         "_deepnote_index_column": 17
        },
        {
         "created_at": "2021-11-24T00:37:00.000000",
         "2.5um/dl_x": 0.95,
         "2.5um/dl_y": 3.72,
         "2.5um/dl_x.1": 0,
         "2.5um/dl_y.1": 4.66,
         "2.5um/dl_x.2": 3.65,
         "2.5um/dl_y.2": 2.88,
         "2.5um/dl_x.3": 4.78,
         "2.5um/dl_y.3": 1.64,
         "2.5um/dl_x.4": 3.63,
         "2.5um/dl_y.4": 6.62,
         "2.5um/dl_x.5": 0,
         "2.5um/dl_y.5": 3.72,
         "2.5um/dl_x.6": 3.05,
         "2.5um/dl_y.6": 1.32,
         "2.5um/dl_x.7": 1.69,
         "2.5um/dl_y.7": 3.2,
         "2.5um/dl_x.8": 3.07,
         "2.5um/dl_y.8": 1.1,
         "2.5um/dl_x.9": 2.19,
         "2.5um/dl_y.9": 2.63,
         "2.5um/dl_x.10": 0,
         "2.5um/dl_y.10": 1.23,
         "2.5um/dl_x.11": 1.02,
         "2.5um/dl_y.11": 6.8,
         "_deepnote_index_column": 18
        },
        {
         "created_at": "2021-11-24T00:39:00.000000",
         "2.5um/dl_x": 2.11,
         "2.5um/dl_y": 3.07,
         "2.5um/dl_x.1": 0.23,
         "2.5um/dl_y.1": 4.14,
         "2.5um/dl_x.2": 3.68,
         "2.5um/dl_y.2": 3.46,
         "2.5um/dl_x.3": 1.9,
         "2.5um/dl_y.3": 2.17,
         "2.5um/dl_x.4": 4.11,
         "2.5um/dl_y.4": 12.35,
         "2.5um/dl_x.5": 0,
         "2.5um/dl_y.5": 3.29,
         "2.5um/dl_x.6": 3.82,
         "2.5um/dl_y.6": 2.32,
         "2.5um/dl_x.7": 2.15,
         "2.5um/dl_y.7": 3.11,
         "2.5um/dl_x.8": 1.33,
         "2.5um/dl_y.8": 2.14,
         "2.5um/dl_x.9": 1.07,
         "2.5um/dl_y.9": 3.73,
         "2.5um/dl_x.10": 1.12,
         "2.5um/dl_y.10": 1.8,
         "2.5um/dl_x.11": 0.97,
         "2.5um/dl_y.11": 4.12,
         "_deepnote_index_column": 19
        },
        {
         "created_at": "2021-11-24T00:41:00.000000",
         "2.5um/dl_x": 2.3,
         "2.5um/dl_y": 3.38,
         "2.5um/dl_x.1": 0.23,
         "2.5um/dl_y.1": 7.38,
         "2.5um/dl_x.2": 3.33,
         "2.5um/dl_y.2": 4.73,
         "2.5um/dl_x.3": 3.07,
         "2.5um/dl_y.3": 0.68,
         "2.5um/dl_x.4": 2.65,
         "2.5um/dl_y.4": 11.9,
         "2.5um/dl_x.5": 0,
         "2.5um/dl_y.5": 2.31,
         "2.5um/dl_x.6": 2.98,
         "2.5um/dl_y.6": 1.47,
         "2.5um/dl_x.7": 1.33,
         "2.5um/dl_y.7": 1.76,
         "2.5um/dl_x.8": 1.59,
         "2.5um/dl_y.8": 2.14,
         "2.5um/dl_x.9": 2.46,
         "2.5um/dl_y.9": 2.93,
         "2.5um/dl_x.10": 0.89,
         "2.5um/dl_y.10": 1.69,
         "2.5um/dl_x.11": 0.83,
         "2.5um/dl_y.11": 2.35,
         "_deepnote_index_column": 20
        },
        {
         "created_at": "2021-11-24T00:43:00.000000",
         "2.5um/dl_x": 0.38,
         "2.5um/dl_y": 2.04,
         "2.5um/dl_x.1": 0,
         "2.5um/dl_y.1": 3.82,
         "2.5um/dl_x.2": 2.74,
         "2.5um/dl_y.2": 3.55,
         "2.5um/dl_x.3": 2.11,
         "2.5um/dl_y.3": 0.74,
         "2.5um/dl_x.4": 1.66,
         "2.5um/dl_y.4": 2.27,
         "2.5um/dl_x.5": 0,
         "2.5um/dl_y.5": 2.68,
         "2.5um/dl_x.6": 0.97,
         "2.5um/dl_y.6": 1.49,
         "2.5um/dl_x.7": 2.17,
         "2.5um/dl_y.7": 5,
         "2.5um/dl_x.8": 0.41,
         "2.5um/dl_y.8": 1.58,
         "2.5um/dl_x.9": 1.19,
         "2.5um/dl_y.9": 3.67,
         "2.5um/dl_x.10": 1.1,
         "2.5um/dl_y.10": 1.59,
         "2.5um/dl_x.11": 2.29,
         "2.5um/dl_y.11": 2.41,
         "_deepnote_index_column": 21
        },
        {
         "created_at": "2021-11-24T00:45:00.000000",
         "2.5um/dl_x": 1.33,
         "2.5um/dl_y": 1.05,
         "2.5um/dl_x.1": 0,
         "2.5um/dl_y.1": 6.04,
         "2.5um/dl_x.2": 4.61,
         "2.5um/dl_y.2": 2.53,
         "2.5um/dl_x.3": 4.17,
         "2.5um/dl_y.3": 1.09,
         "2.5um/dl_x.4": 4.62,
         "2.5um/dl_y.4": 7.25,
         "2.5um/dl_x.5": 0,
         "2.5um/dl_y.5": 3.68,
         "2.5um/dl_x.6": 1.79,
         "2.5um/dl_y.6": 2.74,
         "2.5um/dl_x.7": 1.1,
         "2.5um/dl_y.7": 2.64,
         "2.5um/dl_x.8": 2.32,
         "2.5um/dl_y.8": 1.43,
         "2.5um/dl_x.9": 0.91,
         "2.5um/dl_y.9": 6.21,
         "2.5um/dl_x.10": 1.48,
         "2.5um/dl_y.10": 2.2,
         "2.5um/dl_x.11": 1.58,
         "2.5um/dl_y.11": 4.67,
         "_deepnote_index_column": 22
        },
        {
         "created_at": "2021-11-24T00:47:00.000000",
         "2.5um/dl_x": 0.98,
         "2.5um/dl_y": 3.33,
         "2.5um/dl_x.1": 0,
         "2.5um/dl_y.1": 5.9,
         "2.5um/dl_x.2": 5.25,
         "2.5um/dl_y.2": 2.21,
         "2.5um/dl_x.3": 3.03,
         "2.5um/dl_y.3": 1.19,
         "2.5um/dl_x.4": 2.55,
         "2.5um/dl_y.4": 5.68,
         "2.5um/dl_x.5": 0,
         "2.5um/dl_y.5": 6.86,
         "2.5um/dl_x.6": 4,
         "2.5um/dl_y.6": 1.75,
         "2.5um/dl_x.7": 3.32,
         "2.5um/dl_y.7": 3.44,
         "2.5um/dl_x.8": 2.04,
         "2.5um/dl_y.8": 1.82,
         "2.5um/dl_x.9": 2.08,
         "2.5um/dl_y.9": 5.38,
         "2.5um/dl_x.10": 0,
         "2.5um/dl_y.10": 1.1,
         "2.5um/dl_x.11": 1.28,
         "2.5um/dl_y.11": 2.17,
         "_deepnote_index_column": 23
        },
        {
         "created_at": "2021-11-24T00:49:00.000000",
         "2.5um/dl_x": 0.62,
         "2.5um/dl_y": 1.18,
         "2.5um/dl_x.1": 0.25,
         "2.5um/dl_y.1": 10.17,
         "2.5um/dl_x.2": 2.52,
         "2.5um/dl_y.2": 4.1,
         "2.5um/dl_x.3": 1.82,
         "2.5um/dl_y.3": 1.3,
         "2.5um/dl_x.4": 3.61,
         "2.5um/dl_y.4": 6.51,
         "2.5um/dl_x.5": 0,
         "2.5um/dl_y.5": 4.14,
         "2.5um/dl_x.6": 1,
         "2.5um/dl_y.6": 1.08,
         "2.5um/dl_x.7": 1.12,
         "2.5um/dl_y.7": 3,
         "2.5um/dl_x.8": 1.03,
         "2.5um/dl_y.8": 1.96,
         "2.5um/dl_x.9": 0.12,
         "2.5um/dl_y.9": 2.21,
         "2.5um/dl_x.10": 0,
         "2.5um/dl_y.10": 1.51,
         "2.5um/dl_x.11": 2.18,
         "2.5um/dl_y.11": 1.81,
         "_deepnote_index_column": 24
        },
        {
         "created_at": "2021-11-24T00:51:00.000000",
         "2.5um/dl_x": 1.1,
         "2.5um/dl_y": 5.12,
         "2.5um/dl_x.1": 0.89,
         "2.5um/dl_y.1": 4.48,
         "2.5um/dl_x.2": 3.59,
         "2.5um/dl_y.2": 1.44,
         "2.5um/dl_x.3": 2.36,
         "2.5um/dl_y.3": 0.91,
         "2.5um/dl_x.4": 3.72,
         "2.5um/dl_y.4": 8.59,
         "2.5um/dl_x.5": 0,
         "2.5um/dl_y.5": 4.1,
         "2.5um/dl_x.6": 1.05,
         "2.5um/dl_y.6": 2.17,
         "2.5um/dl_x.7": 1.97,
         "2.5um/dl_y.7": 2.73,
         "2.5um/dl_x.8": 1.08,
         "2.5um/dl_y.8": 3,
         "2.5um/dl_x.9": 1.45,
         "2.5um/dl_y.9": 3.33,
         "2.5um/dl_x.10": 0,
         "2.5um/dl_y.10": 2.36,
         "2.5um/dl_x.11": 1.17,
         "2.5um/dl_y.11": 1.64,
         "_deepnote_index_column": 25
        }
       ],
       "rows_bottom": [
        {
         "created_at": "2021-11-24T01:45:00.000000",
         "2.5um/dl_x": 1.98,
         "2.5um/dl_y": 1.48,
         "2.5um/dl_x.1": 0,
         "2.5um/dl_y.1": 5.83,
         "2.5um/dl_x.2": 7.79,
         "2.5um/dl_y.2": 1.17,
         "2.5um/dl_x.3": 4.91,
         "2.5um/dl_y.3": 1.07,
         "2.5um/dl_x.4": 4.82,
         "2.5um/dl_y.4": 9.64,
         "2.5um/dl_x.5": 0,
         "2.5um/dl_y.5": 7.8,
         "2.5um/dl_x.6": 3.89,
         "2.5um/dl_y.6": 6.66,
         "2.5um/dl_x.7": 5.4,
         "2.5um/dl_y.7": 4.34,
         "2.5um/dl_x.8": 2.27,
         "2.5um/dl_y.8": 3.81,
         "2.5um/dl_x.9": 0.82,
         "2.5um/dl_y.9": 3.93,
         "2.5um/dl_x.10": 0,
         "2.5um/dl_y.10": 1.88,
         "2.5um/dl_x.11": 2.48,
         "2.5um/dl_y.11": 4.1,
         "_deepnote_index_column": 52
        },
        {
         "created_at": "2021-11-24T01:47:00.000000",
         "2.5um/dl_x": 2.57,
         "2.5um/dl_y": 1.66,
         "2.5um/dl_x.1": 0.23,
         "2.5um/dl_y.1": 12.61,
         "2.5um/dl_x.2": 9.55,
         "2.5um/dl_y.2": 0.92,
         "2.5um/dl_x.3": 3.86,
         "2.5um/dl_y.3": 0.97,
         "2.5um/dl_x.4": 4.21,
         "2.5um/dl_y.4": 10.08,
         "2.5um/dl_x.5": 0,
         "2.5um/dl_y.5": 6.9,
         "2.5um/dl_x.6": 3.97,
         "2.5um/dl_y.6": 3.5,
         "2.5um/dl_x.7": 1.42,
         "2.5um/dl_y.7": 6.21,
         "2.5um/dl_x.8": 1.59,
         "2.5um/dl_y.8": 4.18,
         "2.5um/dl_x.9": 1.4,
         "2.5um/dl_y.9": 4.23,
         "2.5um/dl_x.10": 0.25,
         "2.5um/dl_y.10": 2.99,
         "2.5um/dl_x.11": 1.2,
         "2.5um/dl_y.11": 3.67,
         "_deepnote_index_column": 53
        },
        {
         "created_at": "2021-11-24T01:49:00.000000",
         "2.5um/dl_x": 0.88,
         "2.5um/dl_y": 2.52,
         "2.5um/dl_x.1": 0.28,
         "2.5um/dl_y.1": 6.86,
         "2.5um/dl_x.2": 14.25,
         "2.5um/dl_y.2": 2.14,
         "2.5um/dl_x.3": 3.69,
         "2.5um/dl_y.3": 0.89,
         "2.5um/dl_x.4": 6,
         "2.5um/dl_y.4": 5.81,
         "2.5um/dl_x.5": 0,
         "2.5um/dl_y.5": 4.28,
         "2.5um/dl_x.6": 2.45,
         "2.5um/dl_y.6": 6.68,
         "2.5um/dl_x.7": 4.46,
         "2.5um/dl_y.7": 7.33,
         "2.5um/dl_x.8": 3.02,
         "2.5um/dl_y.8": 2.4,
         "2.5um/dl_x.9": 1.7,
         "2.5um/dl_y.9": 2.61,
         "2.5um/dl_x.10": 0.23,
         "2.5um/dl_y.10": 2.99,
         "2.5um/dl_x.11": 0.73,
         "2.5um/dl_y.11": 3.69,
         "_deepnote_index_column": 54
        },
        {
         "created_at": "2021-11-24T01:51:00.000000",
         "2.5um/dl_x": 2.18,
         "2.5um/dl_y": 3.02,
         "2.5um/dl_x.1": 0,
         "2.5um/dl_y.1": 11.48,
         "2.5um/dl_x.2": 4.33,
         "2.5um/dl_y.2": 3.79,
         "2.5um/dl_x.3": 3.38,
         "2.5um/dl_y.3": 2.36,
         "2.5um/dl_x.4": 4.03,
         "2.5um/dl_y.4": 10.64,
         "2.5um/dl_x.5": 0,
         "2.5um/dl_y.5": 7.41,
         "2.5um/dl_x.6": 3.55,
         "2.5um/dl_y.6": 7.31,
         "2.5um/dl_x.7": 3.39,
         "2.5um/dl_y.7": 4.91,
         "2.5um/dl_x.8": 2.36,
         "2.5um/dl_y.8": 4.74,
         "2.5um/dl_x.9": 1.49,
         "2.5um/dl_y.9": 3.59,
         "2.5um/dl_x.10": 0,
         "2.5um/dl_y.10": 1.53,
         "2.5um/dl_x.11": 1.46,
         "2.5um/dl_y.11": 2.63,
         "_deepnote_index_column": 55
        },
        {
         "created_at": "2021-11-24T01:53:00.000000",
         "2.5um/dl_x": 2.12,
         "2.5um/dl_y": 1.81,
         "2.5um/dl_x.1": 0,
         "2.5um/dl_y.1": 12.54,
         "2.5um/dl_x.2": 8.56,
         "2.5um/dl_y.2": 2.81,
         "2.5um/dl_x.3": 2.42,
         "2.5um/dl_y.3": 0.79,
         "2.5um/dl_x.4": 4.98,
         "2.5um/dl_y.4": 12.16,
         "2.5um/dl_x.5": 0,
         "2.5um/dl_y.5": 6.63,
         "2.5um/dl_x.6": 5.05,
         "2.5um/dl_y.6": 3.75,
         "2.5um/dl_x.7": 3.3,
         "2.5um/dl_y.7": 4.21,
         "2.5um/dl_x.8": 1.6,
         "2.5um/dl_y.8": 3.81,
         "2.5um/dl_x.9": 2.14,
         "2.5um/dl_y.9": 4.5,
         "2.5um/dl_x.10": 2.27,
         "2.5um/dl_y.10": 1.33,
         "2.5um/dl_x.11": 1.18,
         "2.5um/dl_y.11": 4.38,
         "_deepnote_index_column": 56
        },
        {
         "created_at": "2021-11-24T01:55:00.000000",
         "2.5um/dl_x": 1.86,
         "2.5um/dl_y": 3.2,
         "2.5um/dl_x.1": 0,
         "2.5um/dl_y.1": 17.93,
         "2.5um/dl_x.2": 6.55,
         "2.5um/dl_y.2": 2.97,
         "2.5um/dl_x.3": 4.91,
         "2.5um/dl_y.3": 1.17,
         "2.5um/dl_x.4": 7.25,
         "2.5um/dl_y.4": 11.61,
         "2.5um/dl_x.5": 0,
         "2.5um/dl_y.5": 6.93,
         "2.5um/dl_x.6": 4.72,
         "2.5um/dl_y.6": 7.44,
         "2.5um/dl_x.7": 3.05,
         "2.5um/dl_y.7": 3.83,
         "2.5um/dl_x.8": 1.82,
         "2.5um/dl_y.8": 2.2,
         "2.5um/dl_x.9": 2.25,
         "2.5um/dl_y.9": 6.04,
         "2.5um/dl_x.10": 0,
         "2.5um/dl_y.10": 0.24,
         "2.5um/dl_x.11": 0.95,
         "2.5um/dl_y.11": 3.29,
         "_deepnote_index_column": 57
        },
        {
         "created_at": "2021-11-24T01:57:00.000000",
         "2.5um/dl_x": 1.73,
         "2.5um/dl_y": 3.34,
         "2.5um/dl_x.1": 0,
         "2.5um/dl_y.1": 17.7,
         "2.5um/dl_x.2": 9.89,
         "2.5um/dl_y.2": 2.63,
         "2.5um/dl_x.3": 1.67,
         "2.5um/dl_y.3": 1.75,
         "2.5um/dl_x.4": 5.55,
         "2.5um/dl_y.4": 15.02,
         "2.5um/dl_x.5": 0,
         "2.5um/dl_y.5": 9.61,
         "2.5um/dl_x.6": 4.28,
         "2.5um/dl_y.6": 6.95,
         "2.5um/dl_x.7": 2.9,
         "2.5um/dl_y.7": 5.49,
         "2.5um/dl_x.8": 2.67,
         "2.5um/dl_y.8": 3.7,
         "2.5um/dl_x.9": 2.47,
         "2.5um/dl_y.9": 5.28,
         "2.5um/dl_x.10": 0,
         "2.5um/dl_y.10": 1.09,
         "2.5um/dl_x.11": 2.04,
         "2.5um/dl_y.11": 2.75,
         "_deepnote_index_column": 58
        },
        {
         "created_at": "2021-11-24T01:59:00.000000",
         "2.5um/dl_x": 1.34,
         "2.5um/dl_y": 1.58,
         "2.5um/dl_x.1": 0.19,
         "2.5um/dl_y.1": 9.9,
         "2.5um/dl_x.2": 9.71,
         "2.5um/dl_y.2": 7.12,
         "2.5um/dl_x.3": 3.12,
         "2.5um/dl_y.3": 0.84,
         "2.5um/dl_x.4": 4.24,
         "2.5um/dl_y.4": 11.78,
         "2.5um/dl_x.5": 0,
         "2.5um/dl_y.5": 6.24,
         "2.5um/dl_x.6": 4.45,
         "2.5um/dl_y.6": 5.97,
         "2.5um/dl_x.7": 3.61,
         "2.5um/dl_y.7": 4,
         "2.5um/dl_x.8": 3.42,
         "2.5um/dl_y.8": 2.53,
         "2.5um/dl_x.9": 2.45,
         "2.5um/dl_y.9": 3.76,
         "2.5um/dl_x.10": 0.6,
         "2.5um/dl_y.10": 1.04,
         "2.5um/dl_x.11": 3.85,
         "2.5um/dl_y.11": 3.52,
         "_deepnote_index_column": 59
        },
        {
         "created_at": "2021-11-24T02:01:00.000000",
         "2.5um/dl_x": 1.44,
         "2.5um/dl_y": 2.75,
         "2.5um/dl_x.1": 0.11,
         "2.5um/dl_y.1": 12.96,
         "2.5um/dl_x.2": 7.05,
         "2.5um/dl_y.2": 3.82,
         "2.5um/dl_x.3": 2.07,
         "2.5um/dl_y.3": 1.78,
         "2.5um/dl_x.4": 2.75,
         "2.5um/dl_y.4": 13.66,
         "2.5um/dl_x.5": 0,
         "2.5um/dl_y.5": 8.23,
         "2.5um/dl_x.6": 10.11,
         "2.5um/dl_y.6": 6.2,
         "2.5um/dl_x.7": 5.54,
         "2.5um/dl_y.7": 5.12,
         "2.5um/dl_x.8": 4.52,
         "2.5um/dl_y.8": 0.95,
         "2.5um/dl_x.9": 0.46,
         "2.5um/dl_y.9": 3.34,
         "2.5um/dl_x.10": 0,
         "2.5um/dl_y.10": 2.25,
         "2.5um/dl_x.11": 0.97,
         "2.5um/dl_y.11": 2.67,
         "_deepnote_index_column": 60
        },
        {
         "created_at": "2021-11-24T02:05:00.000000",
         "2.5um/dl_x": 2.59,
         "2.5um/dl_y": 2.78,
         "2.5um/dl_x.1": 0,
         "2.5um/dl_y.1": 15.83,
         "2.5um/dl_x.2": 8.39,
         "2.5um/dl_y.2": 2.42,
         "2.5um/dl_x.3": 4.56,
         "2.5um/dl_y.3": 1.36,
         "2.5um/dl_x.4": 3.52,
         "2.5um/dl_y.4": 7.76,
         "2.5um/dl_x.5": 0,
         "2.5um/dl_y.5": 12.91,
         "2.5um/dl_x.6": 4.41,
         "2.5um/dl_y.6": 6.76,
         "2.5um/dl_x.7": 3.41,
         "2.5um/dl_y.7": 4.48,
         "2.5um/dl_x.8": 2.14,
         "2.5um/dl_y.8": 2.51,
         "2.5um/dl_x.9": 2.33,
         "2.5um/dl_y.9": 4.39,
         "2.5um/dl_x.10": 0,
         "2.5um/dl_y.10": 1.12,
         "2.5um/dl_x.11": 1.4,
         "2.5um/dl_y.11": 6.32,
         "_deepnote_index_column": 62
        },
        {
         "created_at": "2021-11-24T02:07:00.000000",
         "2.5um/dl_x": 2.2,
         "2.5um/dl_y": 2.16,
         "2.5um/dl_x.1": 0,
         "2.5um/dl_y.1": 16.74,
         "2.5um/dl_x.2": 8.71,
         "2.5um/dl_y.2": 3.25,
         "2.5um/dl_x.3": 5.22,
         "2.5um/dl_y.3": 1.57,
         "2.5um/dl_x.4": 3.11,
         "2.5um/dl_y.4": 6.7,
         "2.5um/dl_x.5": 0,
         "2.5um/dl_y.5": 14.63,
         "2.5um/dl_x.6": 3.3,
         "2.5um/dl_y.6": 8.07,
         "2.5um/dl_x.7": 2.07,
         "2.5um/dl_y.7": 5.03,
         "2.5um/dl_x.8": 1.72,
         "2.5um/dl_y.8": 3.55,
         "2.5um/dl_x.9": 2.09,
         "2.5um/dl_y.9": 5.12,
         "2.5um/dl_x.10": 0,
         "2.5um/dl_y.10": 1.35,
         "2.5um/dl_x.11": 3.33,
         "2.5um/dl_y.11": 2.95,
         "_deepnote_index_column": 63
        },
        {
         "created_at": "2021-11-24T02:09:00.000000",
         "2.5um/dl_x": 2.55,
         "2.5um/dl_y": 2.95,
         "2.5um/dl_x.1": 0.22,
         "2.5um/dl_y.1": 15.09,
         "2.5um/dl_x.2": 9.79,
         "2.5um/dl_y.2": 4.61,
         "2.5um/dl_x.3": 3.86,
         "2.5um/dl_y.3": 2.82,
         "2.5um/dl_x.4": 1.31,
         "2.5um/dl_y.4": 3.55,
         "2.5um/dl_x.5": 0,
         "2.5um/dl_y.5": 14.54,
         "2.5um/dl_x.6": 1.97,
         "2.5um/dl_y.6": 6.38,
         "2.5um/dl_x.7": 3.14,
         "2.5um/dl_y.7": 8.67,
         "2.5um/dl_x.8": 3.36,
         "2.5um/dl_y.8": 3.33,
         "2.5um/dl_x.9": 1.18,
         "2.5um/dl_y.9": 4.84,
         "2.5um/dl_x.10": 1.12,
         "2.5um/dl_y.10": 1.13,
         "2.5um/dl_x.11": 2.74,
         "2.5um/dl_y.11": 2.14,
         "_deepnote_index_column": 64
        },
        {
         "created_at": "2021-11-24T02:11:00.000000",
         "2.5um/dl_x": 2.78,
         "2.5um/dl_y": 2.07,
         "2.5um/dl_x.1": 0,
         "2.5um/dl_y.1": 13.71,
         "2.5um/dl_x.2": 9.49,
         "2.5um/dl_y.2": 3.63,
         "2.5um/dl_x.3": 1.09,
         "2.5um/dl_y.3": 1.02,
         "2.5um/dl_x.4": 5.12,
         "2.5um/dl_y.4": 7.12,
         "2.5um/dl_x.5": 0,
         "2.5um/dl_y.5": 8.24,
         "2.5um/dl_x.6": 1.79,
         "2.5um/dl_y.6": 7.48,
         "2.5um/dl_x.7": 3.21,
         "2.5um/dl_y.7": 5.16,
         "2.5um/dl_x.8": 1.93,
         "2.5um/dl_y.8": 4.66,
         "2.5um/dl_x.9": 1.81,
         "2.5um/dl_y.9": 4.56,
         "2.5um/dl_x.10": 0,
         "2.5um/dl_y.10": 2.57,
         "2.5um/dl_x.11": 2.22,
         "2.5um/dl_y.11": 2.72,
         "_deepnote_index_column": 65
        },
        {
         "created_at": "2021-11-24T02:13:00.000000",
         "2.5um/dl_x": 2.07,
         "2.5um/dl_y": 1.35,
         "2.5um/dl_x.1": 0,
         "2.5um/dl_y.1": 5.45,
         "2.5um/dl_x.2": 7.05,
         "2.5um/dl_y.2": 3.48,
         "2.5um/dl_x.3": 4.28,
         "2.5um/dl_y.3": 0.7,
         "2.5um/dl_x.4": 3.83,
         "2.5um/dl_y.4": 5.91,
         "2.5um/dl_x.5": 0,
         "2.5um/dl_y.5": 7.75,
         "2.5um/dl_x.6": 4.39,
         "2.5um/dl_y.6": 5.2,
         "2.5um/dl_x.7": 3.02,
         "2.5um/dl_y.7": 5.33,
         "2.5um/dl_x.8": 1.89,
         "2.5um/dl_y.8": 3.22,
         "2.5um/dl_x.9": 0.2,
         "2.5um/dl_y.9": 3.71,
         "2.5um/dl_x.10": 0,
         "2.5um/dl_y.10": 3.53,
         "2.5um/dl_x.11": 2.78,
         "2.5um/dl_y.11": 4.26,
         "_deepnote_index_column": 66
        },
        {
         "created_at": "2021-11-24T02:15:00.000000",
         "2.5um/dl_x": 3.84,
         "2.5um/dl_y": 3.05,
         "2.5um/dl_x.1": 0,
         "2.5um/dl_y.1": 11.59,
         "2.5um/dl_x.2": 11.96,
         "2.5um/dl_y.2": 2.35,
         "2.5um/dl_x.3": 3.05,
         "2.5um/dl_y.3": 3.8,
         "2.5um/dl_x.4": 2.93,
         "2.5um/dl_y.4": 4.23,
         "2.5um/dl_x.5": 0,
         "2.5um/dl_y.5": 5.96,
         "2.5um/dl_x.6": 2.95,
         "2.5um/dl_y.6": 6.31,
         "2.5um/dl_x.7": 1.96,
         "2.5um/dl_y.7": 5.63,
         "2.5um/dl_x.8": 2.92,
         "2.5um/dl_y.8": 1.81,
         "2.5um/dl_x.9": 2.04,
         "2.5um/dl_y.9": 3.47,
         "2.5um/dl_x.10": 0,
         "2.5um/dl_y.10": 1.74,
         "2.5um/dl_x.11": 1.89,
         "2.5um/dl_y.11": 2.55,
         "_deepnote_index_column": 67
        },
        {
         "created_at": "2021-11-24T02:21:00.000000",
         "2.5um/dl_x": 1.66,
         "2.5um/dl_y": 2.09,
         "2.5um/dl_x.1": 0,
         "2.5um/dl_y.1": 6.92,
         "2.5um/dl_x.2": 11.38,
         "2.5um/dl_y.2": 2.17,
         "2.5um/dl_x.3": 1.93,
         "2.5um/dl_y.3": 1.85,
         "2.5um/dl_x.4": 4.55,
         "2.5um/dl_y.4": 4.28,
         "2.5um/dl_x.5": 0,
         "2.5um/dl_y.5": 8.77,
         "2.5um/dl_x.6": 4.21,
         "2.5um/dl_y.6": 5.24,
         "2.5um/dl_x.7": 2.86,
         "2.5um/dl_y.7": 7.16,
         "2.5um/dl_x.8": 1.33,
         "2.5um/dl_y.8": 1,
         "2.5um/dl_x.9": 1.76,
         "2.5um/dl_y.9": 3.8,
         "2.5um/dl_x.10": 0,
         "2.5um/dl_y.10": 1.93,
         "2.5um/dl_x.11": 1.21,
         "2.5um/dl_y.11": 3.59,
         "_deepnote_index_column": 70
        },
        {
         "created_at": "2021-11-24T02:25:00.000000",
         "2.5um/dl_x": 3.27,
         "2.5um/dl_y": 2.77,
         "2.5um/dl_x.1": 0,
         "2.5um/dl_y.1": 9.29,
         "2.5um/dl_x.2": 3.76,
         "2.5um/dl_y.2": 5.42,
         "2.5um/dl_x.3": 4.53,
         "2.5um/dl_y.3": 1.34,
         "2.5um/dl_x.4": 3.24,
         "2.5um/dl_y.4": 4.42,
         "2.5um/dl_x.5": 0,
         "2.5um/dl_y.5": 7.48,
         "2.5um/dl_x.6": 2.7,
         "2.5um/dl_y.6": 5.97,
         "2.5um/dl_x.7": 2.9,
         "2.5um/dl_y.7": 4.03,
         "2.5um/dl_x.8": 3.28,
         "2.5um/dl_y.8": 2.88,
         "2.5um/dl_x.9": 1.8,
         "2.5um/dl_y.9": 2.56,
         "2.5um/dl_x.10": 0,
         "2.5um/dl_y.10": 1.7,
         "2.5um/dl_x.11": 1.43,
         "2.5um/dl_y.11": 2.1,
         "_deepnote_index_column": 72
        },
        {
         "created_at": "2021-11-24T02:27:00.000000",
         "2.5um/dl_x": 2.5,
         "2.5um/dl_y": 1.6,
         "2.5um/dl_x.1": 0.37,
         "2.5um/dl_y.1": 5.39,
         "2.5um/dl_x.2": 6.54,
         "2.5um/dl_y.2": 5.48,
         "2.5um/dl_x.3": 3.58,
         "2.5um/dl_y.3": 1.31,
         "2.5um/dl_x.4": 3.82,
         "2.5um/dl_y.4": 3.61,
         "2.5um/dl_x.5": 0,
         "2.5um/dl_y.5": 7.97,
         "2.5um/dl_x.6": 4.1,
         "2.5um/dl_y.6": 5.9,
         "2.5um/dl_x.7": 4.86,
         "2.5um/dl_y.7": 3.19,
         "2.5um/dl_x.8": 4.79,
         "2.5um/dl_y.8": 3.07,
         "2.5um/dl_x.9": 2.19,
         "2.5um/dl_y.9": 4.54,
         "2.5um/dl_x.10": 0,
         "2.5um/dl_y.10": 1.4,
         "2.5um/dl_x.11": 2.94,
         "2.5um/dl_y.11": 3.49,
         "_deepnote_index_column": 73
        },
        {
         "created_at": "2021-11-24T02:29:00.000000",
         "2.5um/dl_x": 2.67,
         "2.5um/dl_y": 1.42,
         "2.5um/dl_x.1": 0,
         "2.5um/dl_y.1": 5.66,
         "2.5um/dl_x.2": 5.25,
         "2.5um/dl_y.2": 2.88,
         "2.5um/dl_x.3": 3.79,
         "2.5um/dl_y.3": 4,
         "2.5um/dl_x.4": 4.17,
         "2.5um/dl_y.4": 3.42,
         "2.5um/dl_x.5": 0,
         "2.5um/dl_y.5": 8.11,
         "2.5um/dl_x.6": 1.43,
         "2.5um/dl_y.6": 2.43,
         "2.5um/dl_x.7": 2.21,
         "2.5um/dl_y.7": 6.26,
         "2.5um/dl_x.8": 3.16,
         "2.5um/dl_y.8": 2.65,
         "2.5um/dl_x.9": 0.54,
         "2.5um/dl_y.9": 4.89,
         "2.5um/dl_x.10": 0,
         "2.5um/dl_y.10": 0.44,
         "2.5um/dl_x.11": 1.66,
         "2.5um/dl_y.11": 2.64,
         "_deepnote_index_column": 74
        },
        {
         "created_at": "2021-11-24T02:31:00.000000",
         "2.5um/dl_x": 2.22,
         "2.5um/dl_y": 2.47,
         "2.5um/dl_x.1": 0,
         "2.5um/dl_y.1": 6.49,
         "2.5um/dl_x.2": 4.28,
         "2.5um/dl_y.2": 1.67,
         "2.5um/dl_x.3": 3.46,
         "2.5um/dl_y.3": 2.35,
         "2.5um/dl_x.4": 2.28,
         "2.5um/dl_y.4": 3.38,
         "2.5um/dl_x.5": 0,
         "2.5um/dl_y.5": 10.85,
         "2.5um/dl_x.6": 1.93,
         "2.5um/dl_y.6": 4.04,
         "2.5um/dl_x.7": 2.25,
         "2.5um/dl_y.7": 6.91,
         "2.5um/dl_x.8": 2.14,
         "2.5um/dl_y.8": 3.12,
         "2.5um/dl_x.9": 2.53,
         "2.5um/dl_y.9": 2.78,
         "2.5um/dl_x.10": 1.69,
         "2.5um/dl_y.10": 3.21,
         "2.5um/dl_x.11": 1.59,
         "2.5um/dl_y.11": 5.33,
         "_deepnote_index_column": 75
        }
       ]
      },
      "text/plain": "                  created_at  2.5um/dl_x  2.5um/dl_y  2.5um/dl_x  2.5um/dl_y  \\\n0  2021-11-24 00:01:00+00:00        1.33        1.60        0.00        9.32   \n1  2021-11-24 00:03:00+00:00        0.72        2.81        0.00        6.50   \n2  2021-11-24 00:05:00+00:00        1.76        3.40        0.49        9.53   \n3  2021-11-24 00:07:00+00:00        0.67        2.56        0.25        4.11   \n4  2021-11-24 00:09:00+00:00        0.98        2.64        0.40        5.68   \n5  2021-11-24 00:11:00+00:00        1.03        2.29        0.10        9.68   \n6  2021-11-24 00:13:00+00:00        1.36        2.53        0.24        4.95   \n7  2021-11-24 00:15:00+00:00        1.47        2.74        0.00        6.10   \n10 2021-11-24 00:21:00+00:00        1.21        1.54        0.14        6.69   \n11 2021-11-24 00:23:00+00:00        1.49        2.26        0.27        3.97   \n16 2021-11-24 00:33:00+00:00        1.77        1.79        0.25        4.03   \n17 2021-11-24 00:35:00+00:00        0.95        0.54        0.21        4.89   \n18 2021-11-24 00:37:00+00:00        0.95        3.72        0.00        4.66   \n19 2021-11-24 00:39:00+00:00        2.11        3.07        0.23        4.14   \n20 2021-11-24 00:41:00+00:00        2.30        3.38        0.23        7.38   \n21 2021-11-24 00:43:00+00:00        0.38        2.04        0.00        3.82   \n22 2021-11-24 00:45:00+00:00        1.33        1.05        0.00        6.04   \n23 2021-11-24 00:47:00+00:00        0.98        3.33        0.00        5.90   \n24 2021-11-24 00:49:00+00:00        0.62        1.18        0.25       10.17   \n25 2021-11-24 00:51:00+00:00        1.10        5.12        0.89        4.48   \n26 2021-11-24 00:53:00+00:00        0.86        2.03        0.00        7.78   \n27 2021-11-24 00:55:00+00:00        1.09        2.29        0.23        4.83   \n28 2021-11-24 00:57:00+00:00        0.73        1.52        0.69        5.93   \n29 2021-11-24 00:59:00+00:00        0.89        2.88        0.00        7.93   \n30 2021-11-24 01:01:00+00:00        0.40        2.50        0.00        7.27   \n31 2021-11-24 01:03:00+00:00        0.82        1.20        0.26        7.97   \n34 2021-11-24 01:09:00+00:00        1.33        2.66        0.25        6.20   \n35 2021-11-24 01:11:00+00:00        1.68        1.39        0.00        7.90   \n36 2021-11-24 01:13:00+00:00        1.29        1.56        0.13        9.61   \n38 2021-11-24 01:17:00+00:00        1.61        1.69        0.00       13.72   \n39 2021-11-24 01:19:00+00:00        0.22        2.95        0.00        8.73   \n40 2021-11-24 01:21:00+00:00        0.57        2.35        0.00        8.66   \n42 2021-11-24 01:25:00+00:00        1.50        1.81        0.00        8.78   \n45 2021-11-24 01:31:00+00:00        1.20        2.51        0.22        7.71   \n47 2021-11-24 01:35:00+00:00        1.24        2.71        0.00        8.60   \n48 2021-11-24 01:37:00+00:00        2.42        2.09        0.00        6.55   \n50 2021-11-24 01:41:00+00:00        1.19        1.78        0.00        6.61   \n51 2021-11-24 01:43:00+00:00        1.20        1.22        0.00       14.38   \n52 2021-11-24 01:45:00+00:00        1.98        1.48        0.00        5.83   \n53 2021-11-24 01:47:00+00:00        2.57        1.66        0.23       12.61   \n54 2021-11-24 01:49:00+00:00        0.88        2.52        0.28        6.86   \n55 2021-11-24 01:51:00+00:00        2.18        3.02        0.00       11.48   \n56 2021-11-24 01:53:00+00:00        2.12        1.81        0.00       12.54   \n57 2021-11-24 01:55:00+00:00        1.86        3.20        0.00       17.93   \n58 2021-11-24 01:57:00+00:00        1.73        3.34        0.00       17.70   \n59 2021-11-24 01:59:00+00:00        1.34        1.58        0.19        9.90   \n60 2021-11-24 02:01:00+00:00        1.44        2.75        0.11       12.96   \n62 2021-11-24 02:05:00+00:00        2.59        2.78        0.00       15.83   \n63 2021-11-24 02:07:00+00:00        2.20        2.16        0.00       16.74   \n64 2021-11-24 02:09:00+00:00        2.55        2.95        0.22       15.09   \n65 2021-11-24 02:11:00+00:00        2.78        2.07        0.00       13.71   \n66 2021-11-24 02:13:00+00:00        2.07        1.35        0.00        5.45   \n67 2021-11-24 02:15:00+00:00        3.84        3.05        0.00       11.59   \n70 2021-11-24 02:21:00+00:00        1.66        2.09        0.00        6.92   \n72 2021-11-24 02:25:00+00:00        3.27        2.77        0.00        9.29   \n73 2021-11-24 02:27:00+00:00        2.50        1.60        0.37        5.39   \n74 2021-11-24 02:29:00+00:00        2.67        1.42        0.00        5.66   \n75 2021-11-24 02:31:00+00:00        2.22        2.47        0.00        6.49   \n\n    2.5um/dl_x  2.5um/dl_y  2.5um/dl_x  2.5um/dl_y  2.5um/dl_x  ...  \\\n0         2.48        2.04        1.96        1.36        1.93  ...   \n1         3.70        0.38        2.50        1.16        1.64  ...   \n2         6.74        2.21        1.72        3.02        5.03  ...   \n3         4.17        1.86        1.90        0.93        3.78  ...   \n4         3.62        2.04        1.03        1.67        3.10  ...   \n5         6.18        4.90        2.44        0.78        4.00  ...   \n6         5.70        2.42        2.56        2.72        2.88  ...   \n7         3.86        2.32        0.85        1.89        3.50  ...   \n10        3.57        2.00        2.07        3.63        4.14  ...   \n11        4.53        1.47        3.24        2.27        4.88  ...   \n16        4.59        2.95        1.93        1.20        3.45  ...   \n17        5.69        2.40        1.75        1.68        3.68  ...   \n18        3.65        2.88        4.78        1.64        3.63  ...   \n19        3.68        3.46        1.90        2.17        4.11  ...   \n20        3.33        4.73        3.07        0.68        2.65  ...   \n21        2.74        3.55        2.11        0.74        1.66  ...   \n22        4.61        2.53        4.17        1.09        4.62  ...   \n23        5.25        2.21        3.03        1.19        2.55  ...   \n24        2.52        4.10        1.82        1.30        3.61  ...   \n25        3.59        1.44        2.36        0.91        3.72  ...   \n26        4.85        1.79        1.54        1.98        0.97  ...   \n27        3.53        2.68        1.29        0.49        3.03  ...   \n28        5.72        0.75        2.83        1.73        4.56  ...   \n29        3.83        2.37        3.78        2.12        4.75  ...   \n30        1.96        2.21        2.28        1.68        4.51  ...   \n31        2.22        1.67        3.46        2.37        2.37  ...   \n34        8.00        3.97        3.41        2.16        3.12  ...   \n35        3.69        1.09        3.93        2.24        5.82  ...   \n36        6.47        0.71        1.93        1.68        2.11  ...   \n38        4.84        2.05        2.71        2.76        5.80  ...   \n39        3.59        3.74        2.83        1.43        5.00  ...   \n40        5.07        4.09        3.66        1.93        4.04  ...   \n42        2.54        1.69        0.86        2.81        4.81  ...   \n45        2.81        2.04        2.36        2.16        9.41  ...   \n47        4.46        3.88        4.64        1.86        6.14  ...   \n48       10.47        1.46        1.89        2.56        5.89  ...   \n50        8.55        2.61        4.78        1.07        3.25  ...   \n51        5.67        1.96        4.24        0.71        4.59  ...   \n52        7.79        1.17        4.91        1.07        4.82  ...   \n53        9.55        0.92        3.86        0.97        4.21  ...   \n54       14.25        2.14        3.69        0.89        6.00  ...   \n55        4.33        3.79        3.38        2.36        4.03  ...   \n56        8.56        2.81        2.42        0.79        4.98  ...   \n57        6.55        2.97        4.91        1.17        7.25  ...   \n58        9.89        2.63        1.67        1.75        5.55  ...   \n59        9.71        7.12        3.12        0.84        4.24  ...   \n60        7.05        3.82        2.07        1.78        2.75  ...   \n62        8.39        2.42        4.56        1.36        3.52  ...   \n63        8.71        3.25        5.22        1.57        3.11  ...   \n64        9.79        4.61        3.86        2.82        1.31  ...   \n65        9.49        3.63        1.09        1.02        5.12  ...   \n66        7.05        3.48        4.28        0.70        3.83  ...   \n67       11.96        2.35        3.05        3.80        2.93  ...   \n70       11.38        2.17        1.93        1.85        4.55  ...   \n72        3.76        5.42        4.53        1.34        3.24  ...   \n73        6.54        5.48        3.58        1.31        3.82  ...   \n74        5.25        2.88        3.79        4.00        4.17  ...   \n75        4.28        1.67        3.46        2.35        2.28  ...   \n\n    2.5um/dl_x  2.5um/dl_y  2.5um/dl_x  2.5um/dl_y  2.5um/dl_x  2.5um/dl_y  \\\n0         1.43        4.56        3.19        2.76        1.26        2.05   \n1         2.28        3.20        1.79        1.03        0.84        1.04   \n2         2.14        3.86        2.96        1.52        0.83        2.49   \n3         4.04        3.17        2.00        2.10        1.43        2.54   \n4         1.20        4.21        0.90        2.97        2.33        1.41   \n5         1.44        1.31        1.79        2.56        0.83        2.05   \n6         1.28        3.96        1.05        1.75        1.20        3.02   \n7         1.44        3.76        1.72        0.62        1.79        2.83   \n10        0.84        4.64        0.95        1.05        0.49        3.98   \n11        2.28        1.70        0.31        1.71        1.60        3.41   \n16        2.64        3.21        3.00        1.31        0.72        3.67   \n17        1.97        2.64        3.79        0.70        2.60        4.84   \n18        1.69        3.20        3.07        1.10        2.19        2.63   \n19        2.15        3.11        1.33        2.14        1.07        3.73   \n20        1.33        1.76        1.59        2.14        2.46        2.93   \n21        2.17        5.00        0.41        1.58        1.19        3.67   \n22        1.10        2.64        2.32        1.43        0.91        6.21   \n23        3.32        3.44        2.04        1.82        2.08        5.38   \n24        1.12        3.00        1.03        1.96        0.12        2.21   \n25        1.97        2.73        1.08        3.00        1.45        3.33   \n26        3.79        2.86        2.21        2.93        2.29        2.98   \n27        2.73        3.68        2.34        2.96        1.71        3.85   \n28        1.79        3.54        2.21        1.24        0.86        1.68   \n29        1.93        3.75        2.67        1.88        0.57        2.88   \n30        2.17        6.28        1.82        0.55        1.83        3.38   \n31        2.04        4.31        1.42        2.02        0.45        3.34   \n34        2.75        3.24        1.04        2.93        1.17        4.26   \n35        3.93        2.34        1.02        1.45        1.79        7.53   \n36        1.75        3.19        3.59        3.04        1.22        3.24   \n38        2.72        2.97        0.65        1.57        1.20        4.52   \n39        4.03        5.30        1.42        2.02        1.45        3.00   \n40        5.12        4.66        1.41        2.47        2.80        6.05   \n42        1.04        5.30        0.46        1.74        1.14        6.66   \n45        1.07        3.73        1.16        3.71        1.81        6.22   \n47        2.98        4.48        1.21        3.66        1.66        5.21   \n48        2.97        5.86        1.53        4.98        0.80        5.25   \n50        2.18        3.51        3.18        4.10        0.92        3.56   \n51        3.25        2.86        1.86        3.44        2.10        4.58   \n52        5.40        4.34        2.27        3.81        0.82        3.93   \n53        1.42        6.21        1.59        4.18        1.40        4.23   \n54        4.46        7.33        3.02        2.40        1.70        2.61   \n55        3.39        4.91        2.36        4.74        1.49        3.59   \n56        3.30        4.21        1.60        3.81        2.14        4.50   \n57        3.05        3.83        1.82        2.20        2.25        6.04   \n58        2.90        5.49        2.67        3.70        2.47        5.28   \n59        3.61        4.00        3.42        2.53        2.45        3.76   \n60        5.54        5.12        4.52        0.95        0.46        3.34   \n62        3.41        4.48        2.14        2.51        2.33        4.39   \n63        2.07        5.03        1.72        3.55        2.09        5.12   \n64        3.14        8.67        3.36        3.33        1.18        4.84   \n65        3.21        5.16        1.93        4.66        1.81        4.56   \n66        3.02        5.33        1.89        3.22        0.20        3.71   \n67        1.96        5.63        2.92        1.81        2.04        3.47   \n70        2.86        7.16        1.33        1.00        1.76        3.80   \n72        2.90        4.03        3.28        2.88        1.80        2.56   \n73        4.86        3.19        4.79        3.07        2.19        4.54   \n74        2.21        6.26        3.16        2.65        0.54        4.89   \n75        2.25        6.91        2.14        3.12        2.53        2.78   \n\n    2.5um/dl_x  2.5um/dl_y  2.5um/dl_x  2.5um/dl_y  \n0         0.00        0.65        0.25        3.80  \n1         0.02        0.89        1.18        1.79  \n2         0.39        1.30        1.12        3.40  \n3         0.02        1.36        0.72        5.13  \n4         0.00        0.29        1.33        1.05  \n5         0.00        0.47        0.52        2.17  \n6         0.00        1.04        1.11        2.65  \n7         0.00        2.35        1.51        2.21  \n10        0.23        0.78        1.69        3.55  \n11        0.00        0.46        0.76        2.85  \n16        0.00        2.19        1.20        2.77  \n17        0.00        1.17        2.31        2.38  \n18        0.00        1.23        1.02        6.80  \n19        1.12        1.80        0.97        4.12  \n20        0.89        1.69        0.83        2.35  \n21        1.10        1.59        2.29        2.41  \n22        1.48        2.20        1.58        4.67  \n23        0.00        1.10        1.28        2.17  \n24        0.00        1.51        2.18        1.81  \n25        0.00        2.36        1.17        1.64  \n26        0.14        0.10        2.16        4.20  \n27        2.32        0.94        1.08        2.68  \n28        0.19        1.82        1.47        2.67  \n29        0.00        2.11        1.19        1.62  \n30        0.24        2.49        1.54        3.62  \n31        0.27        2.18        2.26        3.38  \n34        0.00        3.04        1.52        3.23  \n35        0.00        3.45        0.86        4.95  \n36        0.00        3.96        1.02        3.45  \n38        0.10        2.60        2.07        2.93  \n39        1.44        2.76        2.18        4.32  \n40        0.00        3.68        1.71        3.96  \n42        0.63        0.94        1.46        1.79  \n45        0.13        2.17        0.00        3.76  \n47        0.00        1.84        1.89        4.60  \n48        0.27        1.09        1.45        1.50  \n50        0.00        1.32        1.90        3.00  \n51        0.00        1.06        0.93        1.00  \n52        0.00        1.88        2.48        4.10  \n53        0.25        2.99        1.20        3.67  \n54        0.23        2.99        0.73        3.69  \n55        0.00        1.53        1.46        2.63  \n56        2.27        1.33        1.18        4.38  \n57        0.00        0.24        0.95        3.29  \n58        0.00        1.09        2.04        2.75  \n59        0.60        1.04        3.85        3.52  \n60        0.00        2.25        0.97        2.67  \n62        0.00        1.12        1.40        6.32  \n63        0.00        1.35        3.33        2.95  \n64        1.12        1.13        2.74        2.14  \n65        0.00        2.57        2.22        2.72  \n66        0.00        3.53        2.78        4.26  \n67        0.00        1.74        1.89        2.55  \n70        0.00        1.93        1.21        3.59  \n72        0.00        1.70        1.43        2.10  \n73        0.00        1.40        2.94        3.49  \n74        0.00        0.44        1.66        2.64  \n75        1.69        3.21        1.59        5.33  \n\n[58 rows x 25 columns]",
      "text/html": "<div>\n<style scoped>\n    .dataframe tbody tr th:only-of-type {\n        vertical-align: middle;\n    }\n\n    .dataframe tbody tr th {\n        vertical-align: top;\n    }\n\n    .dataframe thead th {\n        text-align: right;\n    }\n</style>\n<table border=\"1\" class=\"dataframe\">\n  <thead>\n    <tr style=\"text-align: right;\">\n      <th></th>\n      <th>created_at</th>\n      <th>2.5um/dl_x</th>\n      <th>2.5um/dl_y</th>\n      <th>2.5um/dl_x</th>\n      <th>2.5um/dl_y</th>\n      <th>2.5um/dl_x</th>\n      <th>2.5um/dl_y</th>\n      <th>2.5um/dl_x</th>\n      <th>2.5um/dl_y</th>\n      <th>2.5um/dl_x</th>\n      <th>...</th>\n      <th>2.5um/dl_x</th>\n      <th>2.5um/dl_y</th>\n      <th>2.5um/dl_x</th>\n      <th>2.5um/dl_y</th>\n      <th>2.5um/dl_x</th>\n      <th>2.5um/dl_y</th>\n      <th>2.5um/dl_x</th>\n      <th>2.5um/dl_y</th>\n      <th>2.5um/dl_x</th>\n      <th>2.5um/dl_y</th>\n    </tr>\n  </thead>\n  <tbody>\n    <tr>\n      <th>0</th>\n      <td>2021-11-24 00:01:00+00:00</td>\n      <td>1.33</td>\n      <td>1.60</td>\n      <td>0.00</td>\n      <td>9.32</td>\n      <td>2.48</td>\n      <td>2.04</td>\n      <td>1.96</td>\n      <td>1.36</td>\n      <td>1.93</td>\n      <td>...</td>\n      <td>1.43</td>\n      <td>4.56</td>\n      <td>3.19</td>\n      <td>2.76</td>\n      <td>1.26</td>\n      <td>2.05</td>\n      <td>0.00</td>\n      <td>0.65</td>\n      <td>0.25</td>\n      <td>3.80</td>\n    </tr>\n    <tr>\n      <th>1</th>\n      <td>2021-11-24 00:03:00+00:00</td>\n      <td>0.72</td>\n      <td>2.81</td>\n      <td>0.00</td>\n      <td>6.50</td>\n      <td>3.70</td>\n      <td>0.38</td>\n      <td>2.50</td>\n      <td>1.16</td>\n      <td>1.64</td>\n      <td>...</td>\n      <td>2.28</td>\n      <td>3.20</td>\n      <td>1.79</td>\n      <td>1.03</td>\n      <td>0.84</td>\n      <td>1.04</td>\n      <td>0.02</td>\n      <td>0.89</td>\n      <td>1.18</td>\n      <td>1.79</td>\n    </tr>\n    <tr>\n      <th>2</th>\n      <td>2021-11-24 00:05:00+00:00</td>\n      <td>1.76</td>\n      <td>3.40</td>\n      <td>0.49</td>\n      <td>9.53</td>\n      <td>6.74</td>\n      <td>2.21</td>\n      <td>1.72</td>\n      <td>3.02</td>\n      <td>5.03</td>\n      <td>...</td>\n      <td>2.14</td>\n      <td>3.86</td>\n      <td>2.96</td>\n      <td>1.52</td>\n      <td>0.83</td>\n      <td>2.49</td>\n      <td>0.39</td>\n      <td>1.30</td>\n      <td>1.12</td>\n      <td>3.40</td>\n    </tr>\n    <tr>\n      <th>3</th>\n      <td>2021-11-24 00:07:00+00:00</td>\n      <td>0.67</td>\n      <td>2.56</td>\n      <td>0.25</td>\n      <td>4.11</td>\n      <td>4.17</td>\n      <td>1.86</td>\n      <td>1.90</td>\n      <td>0.93</td>\n      <td>3.78</td>\n      <td>...</td>\n      <td>4.04</td>\n      <td>3.17</td>\n      <td>2.00</td>\n      <td>2.10</td>\n      <td>1.43</td>\n      <td>2.54</td>\n      <td>0.02</td>\n      <td>1.36</td>\n      <td>0.72</td>\n      <td>5.13</td>\n    </tr>\n    <tr>\n      <th>4</th>\n      <td>2021-11-24 00:09:00+00:00</td>\n      <td>0.98</td>\n      <td>2.64</td>\n      <td>0.40</td>\n      <td>5.68</td>\n      <td>3.62</td>\n      <td>2.04</td>\n      <td>1.03</td>\n      <td>1.67</td>\n      <td>3.10</td>\n      <td>...</td>\n      <td>1.20</td>\n      <td>4.21</td>\n      <td>0.90</td>\n      <td>2.97</td>\n      <td>2.33</td>\n      <td>1.41</td>\n      <td>0.00</td>\n      <td>0.29</td>\n      <td>1.33</td>\n      <td>1.05</td>\n    </tr>\n    <tr>\n      <th>5</th>\n      <td>2021-11-24 00:11:00+00:00</td>\n      <td>1.03</td>\n      <td>2.29</td>\n      <td>0.10</td>\n      <td>9.68</td>\n      <td>6.18</td>\n      <td>4.90</td>\n      <td>2.44</td>\n      <td>0.78</td>\n      <td>4.00</td>\n      <td>...</td>\n      <td>1.44</td>\n      <td>1.31</td>\n      <td>1.79</td>\n      <td>2.56</td>\n      <td>0.83</td>\n      <td>2.05</td>\n      <td>0.00</td>\n      <td>0.47</td>\n      <td>0.52</td>\n      <td>2.17</td>\n    </tr>\n    <tr>\n      <th>6</th>\n      <td>2021-11-24 00:13:00+00:00</td>\n      <td>1.36</td>\n      <td>2.53</td>\n      <td>0.24</td>\n      <td>4.95</td>\n      <td>5.70</td>\n      <td>2.42</td>\n      <td>2.56</td>\n      <td>2.72</td>\n      <td>2.88</td>\n      <td>...</td>\n      <td>1.28</td>\n      <td>3.96</td>\n      <td>1.05</td>\n      <td>1.75</td>\n      <td>1.20</td>\n      <td>3.02</td>\n      <td>0.00</td>\n      <td>1.04</td>\n      <td>1.11</td>\n      <td>2.65</td>\n    </tr>\n    <tr>\n      <th>7</th>\n      <td>2021-11-24 00:15:00+00:00</td>\n      <td>1.47</td>\n      <td>2.74</td>\n      <td>0.00</td>\n      <td>6.10</td>\n      <td>3.86</td>\n      <td>2.32</td>\n      <td>0.85</td>\n      <td>1.89</td>\n      <td>3.50</td>\n      <td>...</td>\n      <td>1.44</td>\n      <td>3.76</td>\n      <td>1.72</td>\n      <td>0.62</td>\n      <td>1.79</td>\n      <td>2.83</td>\n      <td>0.00</td>\n      <td>2.35</td>\n      <td>1.51</td>\n      <td>2.21</td>\n    </tr>\n    <tr>\n      <th>10</th>\n      <td>2021-11-24 00:21:00+00:00</td>\n      <td>1.21</td>\n      <td>1.54</td>\n      <td>0.14</td>\n      <td>6.69</td>\n      <td>3.57</td>\n      <td>2.00</td>\n      <td>2.07</td>\n      <td>3.63</td>\n      <td>4.14</td>\n      <td>...</td>\n      <td>0.84</td>\n      <td>4.64</td>\n      <td>0.95</td>\n      <td>1.05</td>\n      <td>0.49</td>\n      <td>3.98</td>\n      <td>0.23</td>\n      <td>0.78</td>\n      <td>1.69</td>\n      <td>3.55</td>\n    </tr>\n    <tr>\n      <th>11</th>\n      <td>2021-11-24 00:23:00+00:00</td>\n      <td>1.49</td>\n      <td>2.26</td>\n      <td>0.27</td>\n      <td>3.97</td>\n      <td>4.53</td>\n      <td>1.47</td>\n      <td>3.24</td>\n      <td>2.27</td>\n      <td>4.88</td>\n      <td>...</td>\n      <td>2.28</td>\n      <td>1.70</td>\n      <td>0.31</td>\n      <td>1.71</td>\n      <td>1.60</td>\n      <td>3.41</td>\n      <td>0.00</td>\n      <td>0.46</td>\n      <td>0.76</td>\n      <td>2.85</td>\n    </tr>\n    <tr>\n      <th>16</th>\n      <td>2021-11-24 00:33:00+00:00</td>\n      <td>1.77</td>\n      <td>1.79</td>\n      <td>0.25</td>\n      <td>4.03</td>\n      <td>4.59</td>\n      <td>2.95</td>\n      <td>1.93</td>\n      <td>1.20</td>\n      <td>3.45</td>\n      <td>...</td>\n      <td>2.64</td>\n      <td>3.21</td>\n      <td>3.00</td>\n      <td>1.31</td>\n      <td>0.72</td>\n      <td>3.67</td>\n      <td>0.00</td>\n      <td>2.19</td>\n      <td>1.20</td>\n      <td>2.77</td>\n    </tr>\n    <tr>\n      <th>17</th>\n      <td>2021-11-24 00:35:00+00:00</td>\n      <td>0.95</td>\n      <td>0.54</td>\n      <td>0.21</td>\n      <td>4.89</td>\n      <td>5.69</td>\n      <td>2.40</td>\n      <td>1.75</td>\n      <td>1.68</td>\n      <td>3.68</td>\n      <td>...</td>\n      <td>1.97</td>\n      <td>2.64</td>\n      <td>3.79</td>\n      <td>0.70</td>\n      <td>2.60</td>\n      <td>4.84</td>\n      <td>0.00</td>\n      <td>1.17</td>\n      <td>2.31</td>\n      <td>2.38</td>\n    </tr>\n    <tr>\n      <th>18</th>\n      <td>2021-11-24 00:37:00+00:00</td>\n      <td>0.95</td>\n      <td>3.72</td>\n      <td>0.00</td>\n      <td>4.66</td>\n      <td>3.65</td>\n      <td>2.88</td>\n      <td>4.78</td>\n      <td>1.64</td>\n      <td>3.63</td>\n      <td>...</td>\n      <td>1.69</td>\n      <td>3.20</td>\n      <td>3.07</td>\n      <td>1.10</td>\n      <td>2.19</td>\n      <td>2.63</td>\n      <td>0.00</td>\n      <td>1.23</td>\n      <td>1.02</td>\n      <td>6.80</td>\n    </tr>\n    <tr>\n      <th>19</th>\n      <td>2021-11-24 00:39:00+00:00</td>\n      <td>2.11</td>\n      <td>3.07</td>\n      <td>0.23</td>\n      <td>4.14</td>\n      <td>3.68</td>\n      <td>3.46</td>\n      <td>1.90</td>\n      <td>2.17</td>\n      <td>4.11</td>\n      <td>...</td>\n      <td>2.15</td>\n      <td>3.11</td>\n      <td>1.33</td>\n      <td>2.14</td>\n      <td>1.07</td>\n      <td>3.73</td>\n      <td>1.12</td>\n      <td>1.80</td>\n      <td>0.97</td>\n      <td>4.12</td>\n    </tr>\n    <tr>\n      <th>20</th>\n      <td>2021-11-24 00:41:00+00:00</td>\n      <td>2.30</td>\n      <td>3.38</td>\n      <td>0.23</td>\n      <td>7.38</td>\n      <td>3.33</td>\n      <td>4.73</td>\n      <td>3.07</td>\n      <td>0.68</td>\n      <td>2.65</td>\n      <td>...</td>\n      <td>1.33</td>\n      <td>1.76</td>\n      <td>1.59</td>\n      <td>2.14</td>\n      <td>2.46</td>\n      <td>2.93</td>\n      <td>0.89</td>\n      <td>1.69</td>\n      <td>0.83</td>\n      <td>2.35</td>\n    </tr>\n    <tr>\n      <th>21</th>\n      <td>2021-11-24 00:43:00+00:00</td>\n      <td>0.38</td>\n      <td>2.04</td>\n      <td>0.00</td>\n      <td>3.82</td>\n      <td>2.74</td>\n      <td>3.55</td>\n      <td>2.11</td>\n      <td>0.74</td>\n      <td>1.66</td>\n      <td>...</td>\n      <td>2.17</td>\n      <td>5.00</td>\n      <td>0.41</td>\n      <td>1.58</td>\n      <td>1.19</td>\n      <td>3.67</td>\n      <td>1.10</td>\n      <td>1.59</td>\n      <td>2.29</td>\n      <td>2.41</td>\n    </tr>\n    <tr>\n      <th>22</th>\n      <td>2021-11-24 00:45:00+00:00</td>\n      <td>1.33</td>\n      <td>1.05</td>\n      <td>0.00</td>\n      <td>6.04</td>\n      <td>4.61</td>\n      <td>2.53</td>\n      <td>4.17</td>\n      <td>1.09</td>\n      <td>4.62</td>\n      <td>...</td>\n      <td>1.10</td>\n      <td>2.64</td>\n      <td>2.32</td>\n      <td>1.43</td>\n      <td>0.91</td>\n      <td>6.21</td>\n      <td>1.48</td>\n      <td>2.20</td>\n      <td>1.58</td>\n      <td>4.67</td>\n    </tr>\n    <tr>\n      <th>23</th>\n      <td>2021-11-24 00:47:00+00:00</td>\n      <td>0.98</td>\n      <td>3.33</td>\n      <td>0.00</td>\n      <td>5.90</td>\n      <td>5.25</td>\n      <td>2.21</td>\n      <td>3.03</td>\n      <td>1.19</td>\n      <td>2.55</td>\n      <td>...</td>\n      <td>3.32</td>\n      <td>3.44</td>\n      <td>2.04</td>\n      <td>1.82</td>\n      <td>2.08</td>\n      <td>5.38</td>\n      <td>0.00</td>\n      <td>1.10</td>\n      <td>1.28</td>\n      <td>2.17</td>\n    </tr>\n    <tr>\n      <th>24</th>\n      <td>2021-11-24 00:49:00+00:00</td>\n      <td>0.62</td>\n      <td>1.18</td>\n      <td>0.25</td>\n      <td>10.17</td>\n      <td>2.52</td>\n      <td>4.10</td>\n      <td>1.82</td>\n      <td>1.30</td>\n      <td>3.61</td>\n      <td>...</td>\n      <td>1.12</td>\n      <td>3.00</td>\n      <td>1.03</td>\n      <td>1.96</td>\n      <td>0.12</td>\n      <td>2.21</td>\n      <td>0.00</td>\n      <td>1.51</td>\n      <td>2.18</td>\n      <td>1.81</td>\n    </tr>\n    <tr>\n      <th>25</th>\n      <td>2021-11-24 00:51:00+00:00</td>\n      <td>1.10</td>\n      <td>5.12</td>\n      <td>0.89</td>\n      <td>4.48</td>\n      <td>3.59</td>\n      <td>1.44</td>\n      <td>2.36</td>\n      <td>0.91</td>\n      <td>3.72</td>\n      <td>...</td>\n      <td>1.97</td>\n      <td>2.73</td>\n      <td>1.08</td>\n      <td>3.00</td>\n      <td>1.45</td>\n      <td>3.33</td>\n      <td>0.00</td>\n      <td>2.36</td>\n      <td>1.17</td>\n      <td>1.64</td>\n    </tr>\n    <tr>\n      <th>26</th>\n      <td>2021-11-24 00:53:00+00:00</td>\n      <td>0.86</td>\n      <td>2.03</td>\n      <td>0.00</td>\n      <td>7.78</td>\n      <td>4.85</td>\n      <td>1.79</td>\n      <td>1.54</td>\n      <td>1.98</td>\n      <td>0.97</td>\n      <td>...</td>\n      <td>3.79</td>\n      <td>2.86</td>\n      <td>2.21</td>\n      <td>2.93</td>\n      <td>2.29</td>\n      <td>2.98</td>\n      <td>0.14</td>\n      <td>0.10</td>\n      <td>2.16</td>\n      <td>4.20</td>\n    </tr>\n    <tr>\n      <th>27</th>\n      <td>2021-11-24 00:55:00+00:00</td>\n      <td>1.09</td>\n      <td>2.29</td>\n      <td>0.23</td>\n      <td>4.83</td>\n      <td>3.53</td>\n      <td>2.68</td>\n      <td>1.29</td>\n      <td>0.49</td>\n      <td>3.03</td>\n      <td>...</td>\n      <td>2.73</td>\n      <td>3.68</td>\n      <td>2.34</td>\n      <td>2.96</td>\n      <td>1.71</td>\n      <td>3.85</td>\n      <td>2.32</td>\n      <td>0.94</td>\n      <td>1.08</td>\n      <td>2.68</td>\n    </tr>\n    <tr>\n      <th>28</th>\n      <td>2021-11-24 00:57:00+00:00</td>\n      <td>0.73</td>\n      <td>1.52</td>\n      <td>0.69</td>\n      <td>5.93</td>\n      <td>5.72</td>\n      <td>0.75</td>\n      <td>2.83</td>\n      <td>1.73</td>\n      <td>4.56</td>\n      <td>...</td>\n      <td>1.79</td>\n      <td>3.54</td>\n      <td>2.21</td>\n      <td>1.24</td>\n      <td>0.86</td>\n      <td>1.68</td>\n      <td>0.19</td>\n      <td>1.82</td>\n      <td>1.47</td>\n      <td>2.67</td>\n    </tr>\n    <tr>\n      <th>29</th>\n      <td>2021-11-24 00:59:00+00:00</td>\n      <td>0.89</td>\n      <td>2.88</td>\n      <td>0.00</td>\n      <td>7.93</td>\n      <td>3.83</td>\n      <td>2.37</td>\n      <td>3.78</td>\n      <td>2.12</td>\n      <td>4.75</td>\n      <td>...</td>\n      <td>1.93</td>\n      <td>3.75</td>\n      <td>2.67</td>\n      <td>1.88</td>\n      <td>0.57</td>\n      <td>2.88</td>\n      <td>0.00</td>\n      <td>2.11</td>\n      <td>1.19</td>\n      <td>1.62</td>\n    </tr>\n    <tr>\n      <th>30</th>\n      <td>2021-11-24 01:01:00+00:00</td>\n      <td>0.40</td>\n      <td>2.50</td>\n      <td>0.00</td>\n      <td>7.27</td>\n      <td>1.96</td>\n      <td>2.21</td>\n      <td>2.28</td>\n      <td>1.68</td>\n      <td>4.51</td>\n      <td>...</td>\n      <td>2.17</td>\n      <td>6.28</td>\n      <td>1.82</td>\n      <td>0.55</td>\n      <td>1.83</td>\n      <td>3.38</td>\n      <td>0.24</td>\n      <td>2.49</td>\n      <td>1.54</td>\n      <td>3.62</td>\n    </tr>\n    <tr>\n      <th>31</th>\n      <td>2021-11-24 01:03:00+00:00</td>\n      <td>0.82</td>\n      <td>1.20</td>\n      <td>0.26</td>\n      <td>7.97</td>\n      <td>2.22</td>\n      <td>1.67</td>\n      <td>3.46</td>\n      <td>2.37</td>\n      <td>2.37</td>\n      <td>...</td>\n      <td>2.04</td>\n      <td>4.31</td>\n      <td>1.42</td>\n      <td>2.02</td>\n      <td>0.45</td>\n      <td>3.34</td>\n      <td>0.27</td>\n      <td>2.18</td>\n      <td>2.26</td>\n      <td>3.38</td>\n    </tr>\n    <tr>\n      <th>34</th>\n      <td>2021-11-24 01:09:00+00:00</td>\n      <td>1.33</td>\n      <td>2.66</td>\n      <td>0.25</td>\n      <td>6.20</td>\n      <td>8.00</td>\n      <td>3.97</td>\n      <td>3.41</td>\n      <td>2.16</td>\n      <td>3.12</td>\n      <td>...</td>\n      <td>2.75</td>\n      <td>3.24</td>\n      <td>1.04</td>\n      <td>2.93</td>\n      <td>1.17</td>\n      <td>4.26</td>\n      <td>0.00</td>\n      <td>3.04</td>\n      <td>1.52</td>\n      <td>3.23</td>\n    </tr>\n    <tr>\n      <th>35</th>\n      <td>2021-11-24 01:11:00+00:00</td>\n      <td>1.68</td>\n      <td>1.39</td>\n      <td>0.00</td>\n      <td>7.90</td>\n      <td>3.69</td>\n      <td>1.09</td>\n      <td>3.93</td>\n      <td>2.24</td>\n      <td>5.82</td>\n      <td>...</td>\n      <td>3.93</td>\n      <td>2.34</td>\n      <td>1.02</td>\n      <td>1.45</td>\n      <td>1.79</td>\n      <td>7.53</td>\n      <td>0.00</td>\n      <td>3.45</td>\n      <td>0.86</td>\n      <td>4.95</td>\n    </tr>\n    <tr>\n      <th>36</th>\n      <td>2021-11-24 01:13:00+00:00</td>\n      <td>1.29</td>\n      <td>1.56</td>\n      <td>0.13</td>\n      <td>9.61</td>\n      <td>6.47</td>\n      <td>0.71</td>\n      <td>1.93</td>\n      <td>1.68</td>\n      <td>2.11</td>\n      <td>...</td>\n      <td>1.75</td>\n      <td>3.19</td>\n      <td>3.59</td>\n      <td>3.04</td>\n      <td>1.22</td>\n      <td>3.24</td>\n      <td>0.00</td>\n      <td>3.96</td>\n      <td>1.02</td>\n      <td>3.45</td>\n    </tr>\n    <tr>\n      <th>38</th>\n      <td>2021-11-24 01:17:00+00:00</td>\n      <td>1.61</td>\n      <td>1.69</td>\n      <td>0.00</td>\n      <td>13.72</td>\n      <td>4.84</td>\n      <td>2.05</td>\n      <td>2.71</td>\n      <td>2.76</td>\n      <td>5.80</td>\n      <td>...</td>\n      <td>2.72</td>\n      <td>2.97</td>\n      <td>0.65</td>\n      <td>1.57</td>\n      <td>1.20</td>\n      <td>4.52</td>\n      <td>0.10</td>\n      <td>2.60</td>\n      <td>2.07</td>\n      <td>2.93</td>\n    </tr>\n    <tr>\n      <th>39</th>\n      <td>2021-11-24 01:19:00+00:00</td>\n      <td>0.22</td>\n      <td>2.95</td>\n      <td>0.00</td>\n      <td>8.73</td>\n      <td>3.59</td>\n      <td>3.74</td>\n      <td>2.83</td>\n      <td>1.43</td>\n      <td>5.00</td>\n      <td>...</td>\n      <td>4.03</td>\n      <td>5.30</td>\n      <td>1.42</td>\n      <td>2.02</td>\n      <td>1.45</td>\n      <td>3.00</td>\n      <td>1.44</td>\n      <td>2.76</td>\n      <td>2.18</td>\n      <td>4.32</td>\n    </tr>\n    <tr>\n      <th>40</th>\n      <td>2021-11-24 01:21:00+00:00</td>\n      <td>0.57</td>\n      <td>2.35</td>\n      <td>0.00</td>\n      <td>8.66</td>\n      <td>5.07</td>\n      <td>4.09</td>\n      <td>3.66</td>\n      <td>1.93</td>\n      <td>4.04</td>\n      <td>...</td>\n      <td>5.12</td>\n      <td>4.66</td>\n      <td>1.41</td>\n      <td>2.47</td>\n      <td>2.80</td>\n      <td>6.05</td>\n      <td>0.00</td>\n      <td>3.68</td>\n      <td>1.71</td>\n      <td>3.96</td>\n    </tr>\n    <tr>\n      <th>42</th>\n      <td>2021-11-24 01:25:00+00:00</td>\n      <td>1.50</td>\n      <td>1.81</td>\n      <td>0.00</td>\n      <td>8.78</td>\n      <td>2.54</td>\n      <td>1.69</td>\n      <td>0.86</td>\n      <td>2.81</td>\n      <td>4.81</td>\n      <td>...</td>\n      <td>1.04</td>\n      <td>5.30</td>\n      <td>0.46</td>\n      <td>1.74</td>\n      <td>1.14</td>\n      <td>6.66</td>\n      <td>0.63</td>\n      <td>0.94</td>\n      <td>1.46</td>\n      <td>1.79</td>\n    </tr>\n    <tr>\n      <th>45</th>\n      <td>2021-11-24 01:31:00+00:00</td>\n      <td>1.20</td>\n      <td>2.51</td>\n      <td>0.22</td>\n      <td>7.71</td>\n      <td>2.81</td>\n      <td>2.04</td>\n      <td>2.36</td>\n      <td>2.16</td>\n      <td>9.41</td>\n      <td>...</td>\n      <td>1.07</td>\n      <td>3.73</td>\n      <td>1.16</td>\n      <td>3.71</td>\n      <td>1.81</td>\n      <td>6.22</td>\n      <td>0.13</td>\n      <td>2.17</td>\n      <td>0.00</td>\n      <td>3.76</td>\n    </tr>\n    <tr>\n      <th>47</th>\n      <td>2021-11-24 01:35:00+00:00</td>\n      <td>1.24</td>\n      <td>2.71</td>\n      <td>0.00</td>\n      <td>8.60</td>\n      <td>4.46</td>\n      <td>3.88</td>\n      <td>4.64</td>\n      <td>1.86</td>\n      <td>6.14</td>\n      <td>...</td>\n      <td>2.98</td>\n      <td>4.48</td>\n      <td>1.21</td>\n      <td>3.66</td>\n      <td>1.66</td>\n      <td>5.21</td>\n      <td>0.00</td>\n      <td>1.84</td>\n      <td>1.89</td>\n      <td>4.60</td>\n    </tr>\n    <tr>\n      <th>48</th>\n      <td>2021-11-24 01:37:00+00:00</td>\n      <td>2.42</td>\n      <td>2.09</td>\n      <td>0.00</td>\n      <td>6.55</td>\n      <td>10.47</td>\n      <td>1.46</td>\n      <td>1.89</td>\n      <td>2.56</td>\n      <td>5.89</td>\n      <td>...</td>\n      <td>2.97</td>\n      <td>5.86</td>\n      <td>1.53</td>\n      <td>4.98</td>\n      <td>0.80</td>\n      <td>5.25</td>\n      <td>0.27</td>\n      <td>1.09</td>\n      <td>1.45</td>\n      <td>1.50</td>\n    </tr>\n    <tr>\n      <th>50</th>\n      <td>2021-11-24 01:41:00+00:00</td>\n      <td>1.19</td>\n      <td>1.78</td>\n      <td>0.00</td>\n      <td>6.61</td>\n      <td>8.55</td>\n      <td>2.61</td>\n      <td>4.78</td>\n      <td>1.07</td>\n      <td>3.25</td>\n      <td>...</td>\n      <td>2.18</td>\n      <td>3.51</td>\n      <td>3.18</td>\n      <td>4.10</td>\n      <td>0.92</td>\n      <td>3.56</td>\n      <td>0.00</td>\n      <td>1.32</td>\n      <td>1.90</td>\n      <td>3.00</td>\n    </tr>\n    <tr>\n      <th>51</th>\n      <td>2021-11-24 01:43:00+00:00</td>\n      <td>1.20</td>\n      <td>1.22</td>\n      <td>0.00</td>\n      <td>14.38</td>\n      <td>5.67</td>\n      <td>1.96</td>\n      <td>4.24</td>\n      <td>0.71</td>\n      <td>4.59</td>\n      <td>...</td>\n      <td>3.25</td>\n      <td>2.86</td>\n      <td>1.86</td>\n      <td>3.44</td>\n      <td>2.10</td>\n      <td>4.58</td>\n      <td>0.00</td>\n      <td>1.06</td>\n      <td>0.93</td>\n      <td>1.00</td>\n    </tr>\n    <tr>\n      <th>52</th>\n      <td>2021-11-24 01:45:00+00:00</td>\n      <td>1.98</td>\n      <td>1.48</td>\n      <td>0.00</td>\n      <td>5.83</td>\n      <td>7.79</td>\n      <td>1.17</td>\n      <td>4.91</td>\n      <td>1.07</td>\n      <td>4.82</td>\n      <td>...</td>\n      <td>5.40</td>\n      <td>4.34</td>\n      <td>2.27</td>\n      <td>3.81</td>\n      <td>0.82</td>\n      <td>3.93</td>\n      <td>0.00</td>\n      <td>1.88</td>\n      <td>2.48</td>\n      <td>4.10</td>\n    </tr>\n    <tr>\n      <th>53</th>\n      <td>2021-11-24 01:47:00+00:00</td>\n      <td>2.57</td>\n      <td>1.66</td>\n      <td>0.23</td>\n      <td>12.61</td>\n      <td>9.55</td>\n      <td>0.92</td>\n      <td>3.86</td>\n      <td>0.97</td>\n      <td>4.21</td>\n      <td>...</td>\n      <td>1.42</td>\n      <td>6.21</td>\n      <td>1.59</td>\n      <td>4.18</td>\n      <td>1.40</td>\n      <td>4.23</td>\n      <td>0.25</td>\n      <td>2.99</td>\n      <td>1.20</td>\n      <td>3.67</td>\n    </tr>\n    <tr>\n      <th>54</th>\n      <td>2021-11-24 01:49:00+00:00</td>\n      <td>0.88</td>\n      <td>2.52</td>\n      <td>0.28</td>\n      <td>6.86</td>\n      <td>14.25</td>\n      <td>2.14</td>\n      <td>3.69</td>\n      <td>0.89</td>\n      <td>6.00</td>\n      <td>...</td>\n      <td>4.46</td>\n      <td>7.33</td>\n      <td>3.02</td>\n      <td>2.40</td>\n      <td>1.70</td>\n      <td>2.61</td>\n      <td>0.23</td>\n      <td>2.99</td>\n      <td>0.73</td>\n      <td>3.69</td>\n    </tr>\n    <tr>\n      <th>55</th>\n      <td>2021-11-24 01:51:00+00:00</td>\n      <td>2.18</td>\n      <td>3.02</td>\n      <td>0.00</td>\n      <td>11.48</td>\n      <td>4.33</td>\n      <td>3.79</td>\n      <td>3.38</td>\n      <td>2.36</td>\n      <td>4.03</td>\n      <td>...</td>\n      <td>3.39</td>\n      <td>4.91</td>\n      <td>2.36</td>\n      <td>4.74</td>\n      <td>1.49</td>\n      <td>3.59</td>\n      <td>0.00</td>\n      <td>1.53</td>\n      <td>1.46</td>\n      <td>2.63</td>\n    </tr>\n    <tr>\n      <th>56</th>\n      <td>2021-11-24 01:53:00+00:00</td>\n      <td>2.12</td>\n      <td>1.81</td>\n      <td>0.00</td>\n      <td>12.54</td>\n      <td>8.56</td>\n      <td>2.81</td>\n      <td>2.42</td>\n      <td>0.79</td>\n      <td>4.98</td>\n      <td>...</td>\n      <td>3.30</td>\n      <td>4.21</td>\n      <td>1.60</td>\n      <td>3.81</td>\n      <td>2.14</td>\n      <td>4.50</td>\n      <td>2.27</td>\n      <td>1.33</td>\n      <td>1.18</td>\n      <td>4.38</td>\n    </tr>\n    <tr>\n      <th>57</th>\n      <td>2021-11-24 01:55:00+00:00</td>\n      <td>1.86</td>\n      <td>3.20</td>\n      <td>0.00</td>\n      <td>17.93</td>\n      <td>6.55</td>\n      <td>2.97</td>\n      <td>4.91</td>\n      <td>1.17</td>\n      <td>7.25</td>\n      <td>...</td>\n      <td>3.05</td>\n      <td>3.83</td>\n      <td>1.82</td>\n      <td>2.20</td>\n      <td>2.25</td>\n      <td>6.04</td>\n      <td>0.00</td>\n      <td>0.24</td>\n      <td>0.95</td>\n      <td>3.29</td>\n    </tr>\n    <tr>\n      <th>58</th>\n      <td>2021-11-24 01:57:00+00:00</td>\n      <td>1.73</td>\n      <td>3.34</td>\n      <td>0.00</td>\n      <td>17.70</td>\n      <td>9.89</td>\n      <td>2.63</td>\n      <td>1.67</td>\n      <td>1.75</td>\n      <td>5.55</td>\n      <td>...</td>\n      <td>2.90</td>\n      <td>5.49</td>\n      <td>2.67</td>\n      <td>3.70</td>\n      <td>2.47</td>\n      <td>5.28</td>\n      <td>0.00</td>\n      <td>1.09</td>\n      <td>2.04</td>\n      <td>2.75</td>\n    </tr>\n    <tr>\n      <th>59</th>\n      <td>2021-11-24 01:59:00+00:00</td>\n      <td>1.34</td>\n      <td>1.58</td>\n      <td>0.19</td>\n      <td>9.90</td>\n      <td>9.71</td>\n      <td>7.12</td>\n      <td>3.12</td>\n      <td>0.84</td>\n      <td>4.24</td>\n      <td>...</td>\n      <td>3.61</td>\n      <td>4.00</td>\n      <td>3.42</td>\n      <td>2.53</td>\n      <td>2.45</td>\n      <td>3.76</td>\n      <td>0.60</td>\n      <td>1.04</td>\n      <td>3.85</td>\n      <td>3.52</td>\n    </tr>\n    <tr>\n      <th>60</th>\n      <td>2021-11-24 02:01:00+00:00</td>\n      <td>1.44</td>\n      <td>2.75</td>\n      <td>0.11</td>\n      <td>12.96</td>\n      <td>7.05</td>\n      <td>3.82</td>\n      <td>2.07</td>\n      <td>1.78</td>\n      <td>2.75</td>\n      <td>...</td>\n      <td>5.54</td>\n      <td>5.12</td>\n      <td>4.52</td>\n      <td>0.95</td>\n      <td>0.46</td>\n      <td>3.34</td>\n      <td>0.00</td>\n      <td>2.25</td>\n      <td>0.97</td>\n      <td>2.67</td>\n    </tr>\n    <tr>\n      <th>62</th>\n      <td>2021-11-24 02:05:00+00:00</td>\n      <td>2.59</td>\n      <td>2.78</td>\n      <td>0.00</td>\n      <td>15.83</td>\n      <td>8.39</td>\n      <td>2.42</td>\n      <td>4.56</td>\n      <td>1.36</td>\n      <td>3.52</td>\n      <td>...</td>\n      <td>3.41</td>\n      <td>4.48</td>\n      <td>2.14</td>\n      <td>2.51</td>\n      <td>2.33</td>\n      <td>4.39</td>\n      <td>0.00</td>\n      <td>1.12</td>\n      <td>1.40</td>\n      <td>6.32</td>\n    </tr>\n    <tr>\n      <th>63</th>\n      <td>2021-11-24 02:07:00+00:00</td>\n      <td>2.20</td>\n      <td>2.16</td>\n      <td>0.00</td>\n      <td>16.74</td>\n      <td>8.71</td>\n      <td>3.25</td>\n      <td>5.22</td>\n      <td>1.57</td>\n      <td>3.11</td>\n      <td>...</td>\n      <td>2.07</td>\n      <td>5.03</td>\n      <td>1.72</td>\n      <td>3.55</td>\n      <td>2.09</td>\n      <td>5.12</td>\n      <td>0.00</td>\n      <td>1.35</td>\n      <td>3.33</td>\n      <td>2.95</td>\n    </tr>\n    <tr>\n      <th>64</th>\n      <td>2021-11-24 02:09:00+00:00</td>\n      <td>2.55</td>\n      <td>2.95</td>\n      <td>0.22</td>\n      <td>15.09</td>\n      <td>9.79</td>\n      <td>4.61</td>\n      <td>3.86</td>\n      <td>2.82</td>\n      <td>1.31</td>\n      <td>...</td>\n      <td>3.14</td>\n      <td>8.67</td>\n      <td>3.36</td>\n      <td>3.33</td>\n      <td>1.18</td>\n      <td>4.84</td>\n      <td>1.12</td>\n      <td>1.13</td>\n      <td>2.74</td>\n      <td>2.14</td>\n    </tr>\n    <tr>\n      <th>65</th>\n      <td>2021-11-24 02:11:00+00:00</td>\n      <td>2.78</td>\n      <td>2.07</td>\n      <td>0.00</td>\n      <td>13.71</td>\n      <td>9.49</td>\n      <td>3.63</td>\n      <td>1.09</td>\n      <td>1.02</td>\n      <td>5.12</td>\n      <td>...</td>\n      <td>3.21</td>\n      <td>5.16</td>\n      <td>1.93</td>\n      <td>4.66</td>\n      <td>1.81</td>\n      <td>4.56</td>\n      <td>0.00</td>\n      <td>2.57</td>\n      <td>2.22</td>\n      <td>2.72</td>\n    </tr>\n    <tr>\n      <th>66</th>\n      <td>2021-11-24 02:13:00+00:00</td>\n      <td>2.07</td>\n      <td>1.35</td>\n      <td>0.00</td>\n      <td>5.45</td>\n      <td>7.05</td>\n      <td>3.48</td>\n      <td>4.28</td>\n      <td>0.70</td>\n      <td>3.83</td>\n      <td>...</td>\n      <td>3.02</td>\n      <td>5.33</td>\n      <td>1.89</td>\n      <td>3.22</td>\n      <td>0.20</td>\n      <td>3.71</td>\n      <td>0.00</td>\n      <td>3.53</td>\n      <td>2.78</td>\n      <td>4.26</td>\n    </tr>\n    <tr>\n      <th>67</th>\n      <td>2021-11-24 02:15:00+00:00</td>\n      <td>3.84</td>\n      <td>3.05</td>\n      <td>0.00</td>\n      <td>11.59</td>\n      <td>11.96</td>\n      <td>2.35</td>\n      <td>3.05</td>\n      <td>3.80</td>\n      <td>2.93</td>\n      <td>...</td>\n      <td>1.96</td>\n      <td>5.63</td>\n      <td>2.92</td>\n      <td>1.81</td>\n      <td>2.04</td>\n      <td>3.47</td>\n      <td>0.00</td>\n      <td>1.74</td>\n      <td>1.89</td>\n      <td>2.55</td>\n    </tr>\n    <tr>\n      <th>70</th>\n      <td>2021-11-24 02:21:00+00:00</td>\n      <td>1.66</td>\n      <td>2.09</td>\n      <td>0.00</td>\n      <td>6.92</td>\n      <td>11.38</td>\n      <td>2.17</td>\n      <td>1.93</td>\n      <td>1.85</td>\n      <td>4.55</td>\n      <td>...</td>\n      <td>2.86</td>\n      <td>7.16</td>\n      <td>1.33</td>\n      <td>1.00</td>\n      <td>1.76</td>\n      <td>3.80</td>\n      <td>0.00</td>\n      <td>1.93</td>\n      <td>1.21</td>\n      <td>3.59</td>\n    </tr>\n    <tr>\n      <th>72</th>\n      <td>2021-11-24 02:25:00+00:00</td>\n      <td>3.27</td>\n      <td>2.77</td>\n      <td>0.00</td>\n      <td>9.29</td>\n      <td>3.76</td>\n      <td>5.42</td>\n      <td>4.53</td>\n      <td>1.34</td>\n      <td>3.24</td>\n      <td>...</td>\n      <td>2.90</td>\n      <td>4.03</td>\n      <td>3.28</td>\n      <td>2.88</td>\n      <td>1.80</td>\n      <td>2.56</td>\n      <td>0.00</td>\n      <td>1.70</td>\n      <td>1.43</td>\n      <td>2.10</td>\n    </tr>\n    <tr>\n      <th>73</th>\n      <td>2021-11-24 02:27:00+00:00</td>\n      <td>2.50</td>\n      <td>1.60</td>\n      <td>0.37</td>\n      <td>5.39</td>\n      <td>6.54</td>\n      <td>5.48</td>\n      <td>3.58</td>\n      <td>1.31</td>\n      <td>3.82</td>\n      <td>...</td>\n      <td>4.86</td>\n      <td>3.19</td>\n      <td>4.79</td>\n      <td>3.07</td>\n      <td>2.19</td>\n      <td>4.54</td>\n      <td>0.00</td>\n      <td>1.40</td>\n      <td>2.94</td>\n      <td>3.49</td>\n    </tr>\n    <tr>\n      <th>74</th>\n      <td>2021-11-24 02:29:00+00:00</td>\n      <td>2.67</td>\n      <td>1.42</td>\n      <td>0.00</td>\n      <td>5.66</td>\n      <td>5.25</td>\n      <td>2.88</td>\n      <td>3.79</td>\n      <td>4.00</td>\n      <td>4.17</td>\n      <td>...</td>\n      <td>2.21</td>\n      <td>6.26</td>\n      <td>3.16</td>\n      <td>2.65</td>\n      <td>0.54</td>\n      <td>4.89</td>\n      <td>0.00</td>\n      <td>0.44</td>\n      <td>1.66</td>\n      <td>2.64</td>\n    </tr>\n    <tr>\n      <th>75</th>\n      <td>2021-11-24 02:31:00+00:00</td>\n      <td>2.22</td>\n      <td>2.47</td>\n      <td>0.00</td>\n      <td>6.49</td>\n      <td>4.28</td>\n      <td>1.67</td>\n      <td>3.46</td>\n      <td>2.35</td>\n      <td>2.28</td>\n      <td>...</td>\n      <td>2.25</td>\n      <td>6.91</td>\n      <td>2.14</td>\n      <td>3.12</td>\n      <td>2.53</td>\n      <td>2.78</td>\n      <td>1.69</td>\n      <td>3.21</td>\n      <td>1.59</td>\n      <td>5.33</td>\n    </tr>\n  </tbody>\n</table>\n<p>58 rows × 25 columns</p>\n</div>"
     },
     "metadata": {}
    }
   ],
   "execution_count": 62
  },
  {
   "cell_type": "markdown",
   "source": "<a style='text-decoration:none;line-height:16px;display:flex;color:#5B5B62;padding:10px;justify-content:end;' href='https://deepnote.com?utm_source=created-in-deepnote-cell&projectId=f19ace53-ffd9-4b3c-a807-6437cb6cda39' target=\"_blank\">\n<img alt='Created in deepnote.com' style='display:inline;max-height:16px;margin:0px;margin-right:7.5px;' src='data:image/svg+xml;base64,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' > </img>\nCreated in <span style='font-weight:600;margin-left:4px;'>Deepnote</span></a>",
   "metadata": {
    "tags": [],
    "created_in_deepnote_cell": true,
    "deepnote_cell_type": "markdown"
   }
  }
 ],
 "nbformat": 4,
 "nbformat_minor": 2,
 "metadata": {
  "orig_nbformat": 2,
  "deepnote": {
   "is_reactive": false
  },
  "deepnote_notebook_id": "576bab79-6871-419f-a367-a2cb7b0ba647",
  "deepnote_execution_queue": []
 }
}